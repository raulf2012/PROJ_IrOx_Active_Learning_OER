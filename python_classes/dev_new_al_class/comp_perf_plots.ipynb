{
 "cells": [
  {
   "cell_type": "code",
   "execution_count": null,
   "metadata": {
    "jupyter": {}
   },
   "outputs": [],
   "source": [
    "import os\n",
    "import sys\n",
    "\n",
    "import pickle\n",
    "\n",
    "import chart_studio.plotly as py\n",
    "import plotly.graph_objs as go\n",
    "\n",
    "# #############################################################################\n",
    "sys.path.insert(0, os.path.join(\n",
    "    os.environ[\"PROJ_irox\"],\n",
    "    \"python_classes/active_learning\"))\n",
    "from active_learning import (\n",
    "    ALBulkOpt,\n",
    "    # ALGeneration,\n",
    "    RegressionModel,\n",
    "    FingerPrints,\n",
    "    CandidateSpace,\n",
    "    )\n",
    "\n",
    "sys.path.insert(0, os.path.join(\n",
    "    os.environ[\"PROJ_irox\"],\n",
    "    \"python_classes\"))\n",
    "from ccf_similarity.ccf import CCF"
   ]
  },
  {
   "cell_type": "markdown",
   "metadata": {},
   "source": [
    "# Script Inputs"
   ],
   "execution_count": null,
   "outputs": []
  },
  {
   "cell_type": "code",
   "execution_count": null,
   "metadata": {},
   "outputs": [],
   "source": [
    "perc_of_structs = 50\n",
    "\n",
    "shared_scatter_props = dict(\n",
    "    mode=\"markers+lines\",\n",
    "    marker=dict(\n",
    "        symbol=\"circle\",\n",
    "        size=8,\n",
    "        line=dict(\n",
    "            color='black',\n",
    "            width=2\n",
    "            )\n",
    "        ),\n",
    "\n",
    "    )\n",
    "\n",
    "\n",
    "data_path_root = os.path.join(\n",
    "    os.environ[\"PROJ_irox\"],\n",
    "    \"workflow/ml_modelling/00_ml_workflow\",\n",
    "    \"dev_new_al_class/out_data\")"
   ]
  },
  {
   "cell_type": "code",
   "execution_count": null,
   "metadata": {},
   "outputs": [],
   "source": [
    "from al_analysis import ALPerformance\n",
    "\n",
    "data = []"
   ]
  },
  {
   "cell_type": "code",
   "execution_count": null,
   "metadata": {},
   "outputs": [],
   "source": [
    "path_i = os.path.join(data_path_root, \"ub-ucb_acq__bin_5.pickle\")\n",
    "with open(path_i, \"rb\") as fle:\n",
    "    AL = pickle.load(fle)\n",
    "\n",
    "# #############################################################################\n",
    "ALPerf = ALPerformance(\n",
    "    ALBulkOpt=AL,\n",
    "    verbose=False)\n",
    "ALPerf.num_sys_discovered(\n",
    "    perc_of_structs=perc_of_structs,\n",
    "    account_duplicates=True)\n",
    "\n",
    "# #############################################################################\n",
    "df = ALPerf.num_sys_discovered_df\n",
    "trace = go.Scatter(\n",
    "    x=df[\"num_dft\"],\n",
    "    y=df[\"num_ids_discovered\"],\n",
    "    marker=dict(color=\"pink\"),\n",
    "    )\n",
    "trace.update(**shared_scatter_props)\n",
    "data.append(trace)"
   ]
  },
  {
   "cell_type": "code",
   "execution_count": null,
   "metadata": {},
   "outputs": [],
   "source": [
    "path_i = os.path.join(data_path_root, \"random_acq__bin_5.pickle\")\n",
    "with open(path_i, \"rb\") as fle:\n",
    "    AL = pickle.load(fle)\n",
    "\n",
    "# #############################################################################\n",
    "ALPerf = ALPerformance(\n",
    "    ALBulkOpt=AL,\n",
    "    verbose=False)\n",
    "ALPerf.num_sys_discovered(\n",
    "    perc_of_structs=perc_of_structs,\n",
    "    account_duplicates=True)\n",
    "\n",
    "# #############################################################################\n",
    "df = ALPerf.num_sys_discovered_df\n",
    "trace = go.Scatter(\n",
    "    x=df[\"num_dft\"],\n",
    "    y=df[\"num_ids_discovered\"],\n",
    "    name=\"random w/ duplicates\",\n",
    "    marker=dict(color=\"black\"),\n",
    "    )\n",
    "trace.update(**shared_scatter_props)\n",
    "data.append(trace)"
   ]
  },
  {
   "cell_type": "code",
   "execution_count": null,
   "metadata": {},
   "outputs": [],
   "source": [
    "path_i = os.path.join(data_path_root, \"random_acq__bin_5.pickle\")\n",
    "with open(path_i, \"rb\") as fle:\n",
    "    AL = pickle.load(fle)\n",
    "\n",
    "# #############################################################################\n",
    "ALPerf = ALPerformance(\n",
    "    ALBulkOpt=AL,\n",
    "    verbose=False)\n",
    "ALPerf.num_sys_discovered(\n",
    "    perc_of_structs=perc_of_structs,\n",
    "    account_duplicates=False)\n",
    "\n",
    "# #############################################################################\n",
    "df = ALPerf.num_sys_discovered_df\n",
    "trace = go.Scatter(\n",
    "    x=df[\"num_dft\"],\n",
    "    y=df[\"num_ids_discovered\"],\n",
    "    name=\"random w/o duplicates\",\n",
    "    marker=dict(color=\"grey\"),\n",
    "    )\n",
    "trace.update(**shared_scatter_props)\n",
    "data.append(trace)"
   ]
  },
  {
   "cell_type": "markdown",
   "metadata": {},
   "source": [
    "# Create figure"
   ],
   "execution_count": null,
   "outputs": []
  },
  {
   "cell_type": "code",
   "execution_count": null,
   "metadata": {},
   "outputs": [],
   "source": [
    "fig = go.Figure(data=data)\n",
    "fig.show()"
   ]
  }
 ],
 "metadata": {
  "kernelspec": {
   "display_name": "Python [conda env:research-new]",
   "language": "python",
   "name": "conda-env-research-new-py"
  },
  "language_info": {
   "codemirror_mode": {
    "name": "ipython",
    "version": 3
   },
   "file_extension": ".py",
   "mimetype": "text/x-python",
   "name": "python",
   "nbconvert_exporter": "python",
   "pygments_lexer": "ipython3",
   "version": "3.6.8"
  }
 },
 "nbformat": 4,
 "nbformat_minor": 4
}
