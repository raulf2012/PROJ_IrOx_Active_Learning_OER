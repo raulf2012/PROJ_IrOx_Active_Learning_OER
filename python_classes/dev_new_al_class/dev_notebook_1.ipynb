{
 "cells": [
  {
   "cell_type": "markdown",
   "execution_count": null,
   "metadata": {},
   "outputs": [],
   "source": [
    "# Import Modules"
   ]
  },
  {
   "cell_type": "code",
   "execution_count": null,
   "metadata": {
    "jupyter": {}
   },
   "outputs": [],
   "source": [
    "%%capture\n",
    "\n",
    "import os\n",
    "import sys\n",
    "\n",
    "import copy\n",
    "\n",
    "import time\n",
    "import pickle\n",
    "\n",
    "import numpy as np\n",
    "import pandas as pd\n",
    "\n",
    "import gpflow\n",
    "\n",
    "from sklearn.decomposition import PCA\n",
    "\n",
    "# #############################################################################\n",
    "from catlearn.regression.gaussian_process import GaussianProcess\n",
    "from catlearn.preprocess.clean_data import (\n",
    "    clean_infinite,\n",
    "    clean_variance,\n",
    "    clean_skewness)\n",
    "from catlearn.preprocess.scaling import standardize\n",
    "\n",
    "# #############################################################################\n",
    "sys.path.insert(0, os.path.join(\n",
    "    os.environ[\"PROJ_irox\"],\n",
    "    \"python_classes/active_learning\"))\n",
    "from active_learning import (\n",
    "    ALBulkOpt,\n",
    "    # ALGeneration,\n",
    "    RegressionModel,\n",
    "    FingerPrints,\n",
    "    CandidateSpace,\n",
    "    )\n",
    "\n",
    "from al_analysis import ALAnalysis, ALAnimation\n",
    "\n",
    "# #############################################################################\n",
    "from IPython.display import display"
   ]
  },
  {
   "cell_type": "markdown",
   "execution_count": null,
   "metadata": {},
   "outputs": [],
   "source": [
    "# Script Inputs"
   ]
  },
  {
   "cell_type": "code",
   "execution_count": null,
   "metadata": {},
   "outputs": [],
   "source": [
    "# stoich_i = \"AB2\"\n",
    "# verbose = False\n",
    "# num_gen_stop = 5\n",
    "# # num_gen_stop = 10\n",
    "\n",
    "# gp_settings = {\n",
    "#     \"noise\": 0.02542,\n",
    "#     \"sigma_l\": 1.0049,\n",
    "#     \"sigma_f\": 5.19,\n",
    "#     \"alpha\": 0.018,\n",
    "#     }\n",
    "\n",
    "\n",
    "# # #############################################################################\n",
    "# color_list = [\n",
    "#     \"rgb(202,88,66)\",\n",
    "#     \"rgb(71,189,198)\",\n",
    "#     \"rgb(210,70,147)\",\n",
    "#     \"rgb(120,181,66)\",\n",
    "#     \"rgb(157,99,201)\",\n",
    "#     \"rgb(81,163,108)\",\n",
    "#     \"rgb(189,104,138)\",\n",
    "#     \"rgb(131,128,57)\",\n",
    "#     \"rgb(101,130,203)\",\n",
    "#     \"rgb(209,154,68)\",\n",
    "#     ]\n",
    "\n",
    "# ids_top_ten = [\n",
    "#     '64cg6j9any',\n",
    "#     'n36axdbw65',\n",
    "#     'clc2b1mavs',\n",
    "#     'ck638t75z3',\n",
    "#     'mkbj6e6e9p',\n",
    "#     'b49kx4c19q',\n",
    "#     '85z4msnl6o',\n",
    "#     'bpc2nk6qz1',\n",
    "#     '926dnunrxf',\n",
    "#     'mwmg9p7s6o',\n",
    "#     ]\n",
    "\n",
    "# id_color_dict = dict(zip(\n",
    "#     ids_top_ten,\n",
    "#     color_list,\n",
    "#     ))"
   ]
  },
  {
   "cell_type": "markdown",
   "execution_count": null,
   "metadata": {},
   "outputs": [],
   "source": [
    "# Read Data"
   ]
  },
  {
   "cell_type": "code",
   "execution_count": null,
   "metadata": {},
   "outputs": [],
   "source": [
    "sys.path.insert(0, os.path.join(\n",
    "    os.environ[\"PROJ_irox\"],\n",
    "    \"workflow/ml_modelling\"))\n",
    "from ml_methods import get_data_for_al\n",
    "\n",
    "out_dict = get_data_for_al(\n",
    "    stoich=stoich_i, verbose=False,\n",
    "    drop_too_many_atoms=True,\n",
    "#     drop_too_many_atoms=False,\n",
    "    )\n",
    "\n",
    "df_bulk_dft = out_dict[\"df_bulk_dft\"]\n",
    "df_bulk_dft = df_bulk_dft[df_bulk_dft[\"source\"] == \"raul\"]\n",
    "\n",
    "# df_bulk_dft = df_bulk_dft[[\"atoms\", \"energy_pa\"]]\n",
    "df_bulk_dft = df_bulk_dft[[\"atoms\", \"dH\"]]\n",
    "df_bulk_dft.columns.values[1] = \"y_real\"\n",
    "\n",
    "df_features_pre = out_dict[\"df_features_pre\"]\n",
    "df_features_post = out_dict[\"df_features_post\"]\n",
    "\n",
    "df_ids = out_dict[\"df_ids\"]\n",
    "\n",
    "\n",
    "df_static_irox = out_dict[\"df_static_irox\"]\n",
    "df_dij = out_dict[\"df_dij\"]"
   ]
  },
  {
   "cell_type": "markdown",
   "execution_count": null,
   "metadata": {},
   "outputs": [],
   "source": [
    "# Filter to candidates w/ DFT energy"
   ]
  },
  {
   "cell_type": "code",
   "execution_count": null,
   "metadata": {},
   "outputs": [],
   "source": [
    "ids_w_dft = df_bulk_dft.index\n",
    "\n",
    "# TEMP | Reduce size of candidate space\n",
    "# np.random.seed(8)\n",
    "# ids_w_dft = np.sort(np.random.choice(np.sort(ids_w_dft), size=200))\n",
    "ids_w_dft = list(set(ids_w_dft))\n",
    "\n",
    "df_bulk_dft = df_bulk_dft.loc[ids_w_dft]\n",
    "\n",
    "df_features_pre = df_features_pre.loc[ids_w_dft]\n",
    "df_features_post = df_features_post.loc[ids_w_dft]"
   ]
  },
  {
   "cell_type": "raw",
   "execution_count": null,
   "metadata": {},
   "outputs": [],
   "source": [
    "\n",
    "\n",
    "\n"
   ]
  },
  {
   "cell_type": "markdown",
   "execution_count": null,
   "metadata": {},
   "outputs": [],
   "source": [
    "# CCF Class"
   ]
  },
  {
   "cell_type": "code",
   "execution_count": null,
   "metadata": {},
   "outputs": [],
   "source": [
    "sys.path.insert(0, os.path.join(\n",
    "    os.environ[\"PROJ_irox\"],\n",
    "    \"python_classes\"))\n",
    "from ccf_similarity.ccf import CCF\n",
    "\n",
    "d_thresh = 0.02\n",
    "CCF = CCF(\n",
    "    df_dij=df_dij,\n",
    "    d_thresh=d_thresh)"
   ]
  },
  {
   "cell_type": "code",
   "execution_count": null,
   "metadata": {},
   "outputs": [],
   "source": [
    "RM = RegressionModel(\n",
    "    opt_hyperparameters=True,\n",
    "    gp_settings_dict=gp_settings,\n",
    "    verbose=verbose,\n",
    "    )\n",
    "\n",
    "FP = FingerPrints(\n",
    "    df_features_pre,\n",
    "    df_features_post=df_features_post,\n",
    "    pca_mode=\"num_comp\",  # 'num_comp' or 'perc'\n",
    "    pca_comp=10,\n",
    "    pca_perc=None,\n",
    "    verbose=verbose,\n",
    "    )\n",
    "\n",
    "CS = CandidateSpace(\n",
    "    Y_data=df_bulk_dft,\n",
    "    Y_key=\"y_real\",\n",
    "    FingerPrints=FP,\n",
    "    )"
   ]
  },
  {
   "cell_type": "code",
   "execution_count": null,
   "metadata": {},
   "outputs": [],
   "source": [
    "name_i = \"AL_\" + stoich_i + \"_\" + str(num_gen_stop).zfill(2)\n",
    "print(\"name:\", name_i, \"\\n\")\n",
    "AL = ALBulkOpt(\n",
    "    CandidateSpace=CS,\n",
    "    RegressionModel=RM,\n",
    "    DuplicateFinder=CCF,  # Optional\n",
    "    # num_seed_calcs=11,\n",
    "    num_seed_calcs=5,\n",
    "    acquisition_bin=10,\n",
    "#     stop_mode=\"num_generations\",\n",
    "    stop_mode=None,\n",
    "    stop_num_generations=num_gen_stop,\n",
    "    name=\"TEST__0\",\n",
    "    verbose=verbose,\n",
    "    acquisition_method=\"gp_ucb\",\n",
    "    )\n",
    "\n",
    "run_al = True\n",
    "if run_al:\n",
    "    AL.run_AL()\n",
    "    AL.duplicate_system_history_analysis()\n",
    "    AL.__save_state__()"
   ]
  },
  {
   "cell_type": "code",
   "execution_count": null,
   "metadata": {},
   "outputs": [],
   "source": [
    "# df = AL.CandidateSpace.FingerPrints.df_train\n",
    "# num_data_points = df.shape[0]\n",
    "# if num_data_points < pca_comp:\n",
    "#     pca_comp = num_data_points + 1"
   ]
  },
  {
   "cell_type": "code",
   "execution_count": null,
   "metadata": {},
   "outputs": [],
   "source": [
    "assert False"
   ]
  },
  {
   "cell_type": "raw",
   "execution_count": null,
   "metadata": {},
   "outputs": [],
   "source": [
    "\n",
    "\n"
   ]
  },
  {
   "cell_type": "code",
   "execution_count": null,
   "metadata": {},
   "outputs": [],
   "source": [
    "path_i = os.path.join(\n",
    "    os.environ[\"PROJ_irox\"],\n",
    "    \"workflow/ml_modelling/00_ml_workflow\",\n",
    "    \"dev_new_al_class/out_data\",\n",
    "\n",
    "    \"TEST__acq_5_all.pickle\"\n",
    "    # \"TEST__acq_10.pickle\"\n",
    "    )\n",
    "\n",
    "with open(path_i, \"rb\") as fle:\n",
    "    AL = pickle.load(fle)\n",
    "\n",
    "ALAnim = ALAnimation(\n",
    "    ALBulkOpt=AL,\n",
    "    marker_color_dict=id_color_dict,\n",
    "    verbose=True)\n",
    "\n",
    "if False:\n",
    "    ALAnim.create_animation(\n",
    "        # duration_long=1000 * 0.5,\n",
    "        # duration_short=800 * 0.5,\n",
    "        duration_long=1000 * 4,\n",
    "        duration_short=800 * 4,\n",
    "        serial_parallel=\"parallel\",  # 'serial' or 'parallel'\n",
    "        # marker_color_dict=id_color_dict,\n",
    "        )"
   ]
  },
  {
   "cell_type": "code",
   "execution_count": null,
   "metadata": {},
   "outputs": [],
   "source": [
    "from al_analysis import ALPerformance\n",
    "\n",
    "ALPerf = ALPerformance(\n",
    "    ALBulkOpt=AL,\n",
    "    verbose=False,\n",
    "    )\n",
    "ALPerf.num_sys_discovered()\n",
    "\n",
    "df = ALPerf.num_sys_discovered_df\n",
    "\n",
    "# df"
   ]
  },
  {
   "cell_type": "code",
   "execution_count": null,
   "metadata": {},
   "outputs": [],
   "source": [
    "import chart_studio.plotly as py\n",
    "import plotly.graph_objs as go\n",
    "import os\n",
    "\n",
    "\n",
    "trace = go.Scatter(\n",
    "    x=df[\"num_dft\"],\n",
    "    y=df[\"num_ids_discovered\"],\n",
    "    mode=\"markers\",\n",
    "    marker=dict(\n",
    "        symbol=\"circle\",\n",
    "        color=\"grey\",\n",
    "        size=14,\n",
    "        line=dict(\n",
    "            color='black',\n",
    "            width=2\n",
    "            )\n",
    "        ),\n",
    "    )\n",
    "\n",
    "data = [trace]\n",
    "\n",
    "fig = go.Figure(data=data)\n",
    "fig.show()"
   ]
  },
  {
   "cell_type": "raw",
   "execution_count": null,
   "metadata": {},
   "outputs": [],
   "source": [
    "\n",
    "\n"
   ]
  },
  {
   "cell_type": "markdown",
   "execution_count": null,
   "metadata": {},
   "outputs": [],
   "source": [
    "# SANDBOX"
   ]
  },
  {
   "cell_type": "code",
   "execution_count": null,
   "metadata": {},
   "outputs": [],
   "source": [
    "# #############################################################################\n",
    "self = AL\n",
    "\n",
    "al_gen_dict = AL.al_gen_dict\n",
    "duplicate_ids = AL.duplicate_ids\n",
    "\n",
    "duplicate_swap_dict = AL.duplicate_swap_dict\n",
    "# #############################################################################"
   ]
  },
  {
   "cell_type": "code",
   "execution_count": null,
   "metadata": {},
   "outputs": [],
   "source": [
    "CandidateSpace = AL.CandidateSpace\n",
    "FingerPrints = CandidateSpace.FingerPrints\n",
    "df_pre = FingerPrints.df_pre\n",
    "all_indices = df_pre.index.tolist()"
   ]
  },
  {
   "cell_type": "code",
   "execution_count": null,
   "metadata": {},
   "outputs": [],
   "source": [
    "# #############################################################################\n",
    "gen_i = 0\n",
    "\n",
    "AL_i = al_gen_dict[gen_i]\n",
    "self = AL_i\n",
    "\n",
    "model = self.model\n",
    "prev_duplicate_ids = self.prev_duplicate_ids\n",
    "indices_that_are_duplicates = self.indices_that_are_duplicates\n",
    "# #############################################################################"
   ]
  },
  {
   "cell_type": "code",
   "execution_count": null,
   "metadata": {},
   "outputs": [],
   "source": [
    "assert False"
   ]
  },
  {
   "cell_type": "markdown",
   "execution_count": null,
   "metadata": {},
   "outputs": [],
   "source": [
    "# Performance # of structures vs DFT calcs"
   ]
  },
  {
   "cell_type": "raw",
   "execution_count": null,
   "metadata": {},
   "outputs": [],
   "source": [
    "\n",
    "\n"
   ]
  },
  {
   "cell_type": "code",
   "execution_count": null,
   "metadata": {},
   "outputs": [],
   "source": [
    "# # Percent of total number of structures to track\n",
    "# perc_of_structs = 10\n",
    "\n",
    "# top_idslast_gen = list(al_gen_dict.keys())[-1]\n",
    "\n",
    "\n",
    "# AL_last = al_gen_dict[last_gen]\n",
    "# model = AL_last.model\n",
    "\n",
    "\n",
    "# # #############################################################################\n",
    "# num_candidates_init = model.shape[0]\n",
    "# num_track_structs = round(num_candidates_init * (perc_of_structs * 0.01))\n",
    "\n",
    "\n",
    "\n",
    "# model_tmp = model[model[\"duplicate\"] == False]\n",
    "# model_tmp = model_tmp.sort_values(\"y_real\")\n",
    "# model_tmp = model_tmp.iloc[0:num_track_structs]\n",
    "\n",
    "# top_ids = model_tmp.index.tolist()\n",
    "\n",
    "# top_ids_static = copy.deepcopy(top_ids)\n",
    "\n",
    "# swap_histories = ALAnim.swap_histories\n",
    "\n",
    "# duplicates_of_top_ids = []\n",
    "# for id_i in top_ids:\n",
    "#     if id_i in swap_histories.keys():\n",
    "#         swap_lists = swap_histories.get(id_i, \"TEMP\")\n",
    "\n",
    "#         swap_ids_i = []\n",
    "#         for gen_j, swap_list_j in swap_lists.items():\n",
    "#             swap_ids_i.extend(swap_list_j)\n",
    "\n",
    "#         duplicates_of_top_ids.extend(swap_ids_i)\n",
    "\n",
    "# duplicates_of_top_ids = list(set(duplicates_of_top_ids))\n",
    "\n",
    "# print(len(duplicates_of_top_ids + top_ids))\n",
    "\n",
    "# print(len(set(duplicates_of_top_ids + top_ids)))\n",
    "\n",
    "# top_ids_w_dupl = list(set(duplicates_of_top_ids + top_ids))\n",
    "\n",
    "# new_swap_dict = dict()\n",
    "# for id_i, swap_history_i in swap_histories.items():\n",
    "#     for gen_j, swap_list_j in swap_history_i.items():\n",
    "#         for swap_id in swap_list_j:\n",
    "#             # #################################################################\n",
    "#             if swap_id in new_swap_dict.keys():\n",
    "#                 if new_swap_dict[swap_id] != id_i:\n",
    "#                     print(\"This id corresponds to more than 1 final id\")\n",
    "\n",
    "#             new_swap_dict[swap_id] = id_i\n",
    "#             # #################################################################\n",
    "\n",
    "# data_list_master = []\n",
    "# for gen_i, AL_i in al_gen_dict.items():\n",
    "#     data_dict_i = dict()\n",
    "\n",
    "#     model_i = AL_i.model\n",
    "#     model_tmp = model_i[\n",
    "#         (model_i[\"acquired\"] == True) & \\\n",
    "#         (model_i[\"duplicate\"] == False)\n",
    "#         ]\n",
    "\n",
    "#     # Number of DFT experiments\n",
    "#     num_dft_calcs = model_i[model_i[\"acquired\"] == True].shape[0]\n",
    "#     data_dict_i[\"num_dft\"] = num_dft_calcs\n",
    "\n",
    "#     for id_i in model_tmp.index:\n",
    "#         if id_i in top_ids:\n",
    "#             # print(\"id_i directly in top ids\")\n",
    "#             top_ids.remove(id_i)\n",
    "\n",
    "#         final_swap_id = new_swap_dict.get(id_i, None)\n",
    "#         if final_swap_id is not None and final_swap_id in top_ids:\n",
    "#             # print(\"DIFJIDS\")\n",
    "\n",
    "#             top_ids.remove(final_swap_id)\n",
    "\n",
    "#     num_ids_disc = len(top_ids_static) - len(top_ids)\n",
    "#     data_dict_i[\"num_ids_discovered\"] = num_ids_disc\n",
    "\n",
    "#     # print(num_ids_disc)\n",
    "\n",
    "#     data_list_master.append(data_dict_i)\n",
    "\n",
    "# df = pd.DataFrame(data_list_master)\n",
    "\n",
    "# df"
   ]
  },
  {
   "cell_type": "code",
   "execution_count": null,
   "metadata": {},
   "outputs": [],
   "source": [
    "# ALAnim.swap_histories\n",
    "\n",
    "\n",
    "# ALAnim.__get_color_dict__(gen_i=0)\n",
    "\n",
    "# al_gen_dict\n",
    "\n",
    "# ALAnim.swap_histories"
   ]
  }
 ],
 "metadata": {
  "jupytext": {
   "formats": "ipynb,py:light"
  },
  "kernelspec": {
   "display_name": "Python [conda env:research-new]",
   "language": "python",
   "name": "conda-env-research-new-py"
  },
  "language_info": {
   "codemirror_mode": {
    "name": "ipython",
    "version": 3
   },
   "file_extension": ".py",
   "mimetype": "text/x-python",
   "name": "python",
   "nbconvert_exporter": "python",
   "pygments_lexer": "ipython3",
   "version": "3.6.8"
  },
  "toc-autonumbering": true
 },
 "nbformat": 4,
 "nbformat_minor": 4
}
