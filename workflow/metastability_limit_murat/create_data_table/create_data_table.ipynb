{
 "cells": [
  {
   "cell_type": "code",
   "execution_count": null,
   "metadata": {},
   "outputs": [],
   "source": [
    "import os\n",
    "print(os.getcwd())\n",
    "import sys\n",
    "\n",
    "import pandas as pd\n",
    "\n",
    "sys.path.insert(0, os.path.join(os.environ[\"PROJ_irox\"], \"data\"))\n",
    "from proj_data_irox import calc_dH"
   ]
  },
  {
   "cell_type": "code",
   "execution_count": null,
   "metadata": {},
   "outputs": [],
   "source": [
    "iro2_dft_energies = [\n",
    "    -662.273,\n",
    "    -665.361,\n",
    "    -659.370,\n",
    "    -663.256,\n",
    "    -665.901,\n",
    "    -667.284,\n",
    "    ]\n",
    "\n",
    "\n",
    "iro3_dft_energies = [\n",
    "    -612.420,\n",
    "    -611.473,\n",
    "    -615.891,\n",
    "    -609.275,\n",
    "    -608.229,\n",
    "    -616.290,\n",
    "    ]"
   ]
  },
  {
   "cell_type": "code",
   "execution_count": null,
   "metadata": {},
   "outputs": [],
   "source": [
    "# stoich_i = \"AB2\"\n",
    "\n",
    "# if stoich_i == \"AB2\":\n",
    "#     raw_energies = iro2_dft_energies\n",
    "# elif stoich_i == \"AB3\":\n",
    "#     raw_energies = iro3_dft_energies"
   ]
  },
  {
   "cell_type": "code",
   "execution_count": null,
   "metadata": {},
   "outputs": [],
   "source": [
    "def process_df(raw_energies, stoich_i=None):\n",
    "\n",
    "    stoich_conv_dict = {\n",
    "        \"AB2\": \"$IrO_{2}$\",\n",
    "        \"AB3\": \"$IrO_{3}$\",\n",
    "        }\n",
    "    \n",
    "    col_conv_dict = {\n",
    "        \"raw_dft\": \"$E_{DFT}$\",\n",
    "        \"ev_atom\": \"$E_{DFT}$\",\n",
    "        \"dH_atom\": \"$\\Delta H_{f}$\",\n",
    "        \"e_above_hull\": \"$\\Delta E_{hull}$\",\n",
    "        }\n",
    "    unit_conv_dict = {\n",
    "        \"raw_dft\": \"(eV)\",\n",
    "        \"ev_atom\": \"(eV/atom)\",\n",
    "        \"dH_atom\": \"(eV/atom)\",\n",
    "        \"e_above_hull\": \"(eV/atom)\",\n",
    "        }\n",
    "\n",
    "    num_atoms_dict = {\n",
    "        \"AB2\": 102,\n",
    "        \"AB3\": 100,\n",
    "        }\n",
    "\n",
    "    df = pd.DataFrame()\n",
    "\n",
    "    df[\"raw_dft\"] = raw_energies\n",
    "    df[\"ev_atom\"] = df.raw_dft / num_atoms_dict[stoich_i]\n",
    "    df[\"dH_atom\"] = [calc_dH(i, stoich=stoich_i) for i in df.ev_atom.tolist()]\n",
    "\n",
    "\n",
    "    hull_e_per_atom_dict = {\n",
    "        \"AB2\": -7.04751560624999,\n",
    "        \"AB3\": -6.46984746,\n",
    "        }\n",
    "\n",
    "    df[\"e_above_hull\"] = df.ev_atom - hull_e_per_atom_dict[stoich_i]\n",
    "\n",
    "    # Sorting by energy\n",
    "    df = df.sort_values(\"raw_dft\")\n",
    "\n",
    "    # Dropping raw DFT column\n",
    "    # df = df.drop(columns=[df.columns[0]])\n",
    "    df = df.drop(columns=[\"raw_dft\"])\n",
    "\n",
    "    [stoich_conv_dict.get(stoich_i, \"TEMP\") for i in df.columns.values],\n",
    "    \n",
    "    stoich_col_list = []\n",
    "    for i_cnt, col_i in enumerate(df.columns.values):\n",
    "        if i_cnt == 0:\n",
    "            stoich_col_list.append(\n",
    "                stoich_conv_dict.get(stoich_i, \"TEMP\")\n",
    "                )\n",
    "        else:\n",
    "\n",
    "            import random\n",
    "            import numpy as np\n",
    "\n",
    "            rand_float = np.round(random.random(), decimals=3)\n",
    "\n",
    "            stoich_col_list.append(\n",
    "                \"\\phantom{\" + str(i_cnt) + str(rand_float) + \"}\"\n",
    "                )\n",
    "\n",
    "    # print(\"stoich_col_list:\", stoich_col_list)\n",
    "        \n",
    "\n",
    "    tuples = list(zip(*[\n",
    "        stoich_col_list,\n",
    "        [col_conv_dict.get(i, \"TEMP\") for i in df.columns.values],\n",
    "        [unit_conv_dict.get(i, \"TEMP\") for i in df.columns.values],\n",
    "        # [\"a\", \"b\", \"c\", ],\n",
    "        ]))\n",
    "\n",
    "\n",
    "    index = pd.MultiIndex.from_tuples(tuples, names=[\"Stoich.\", \"\", \"Units\"])\n",
    "    df.columns = index\n",
    "\n",
    "    return(df)"
   ]
  },
  {
   "cell_type": "code",
   "execution_count": null,
   "metadata": {},
   "outputs": [],
   "source": [
    "df_ab2 = process_df(iro2_dft_energies, stoich_i=\"AB2\")\n",
    "df_ab3 = process_df(iro3_dft_energies, stoich_i=\"AB3\")\n",
    "\n",
    "\n",
    "df = pd.concat([df_ab2, df_ab3], axis=1)"
   ]
  },
  {
   "cell_type": "markdown",
   "metadata": {},
   "source": [
    "# Round values"
   ],
   "execution_count": null,
   "outputs": []
  },
  {
   "cell_type": "code",
   "execution_count": null,
   "metadata": {},
   "outputs": [],
   "source": [
    "df = df.round(decimals=3)\n",
    "\n"
   ]
  },
  {
   "cell_type": "code",
   "execution_count": null,
   "metadata": {},
   "outputs": [],
   "source": [
    "last_row_data = []\n",
    "for i in df.iloc[-1].values:\n",
    "    i = \"\\textbf{\" + str(i) + \"}\"\n",
    "    last_row_data.append(i)\n",
    "    \n",
    "\n",
    "# df.iloc[-1].values = last_row_data\n",
    "# df.loc[5] = last_row_data\n",
    "df.loc[5] = tuple(last_row_data)\n",
    "\n",
    "# tmp = df.columns.values[0]\n",
    "# df.loc[5][tmp] = \"TEMP\"\n",
    "\n",
    "df"
   ]
  },
  {
   "cell_type": "raw",
   "metadata": {},
   "source": [
    "\n",
    "\n",
    "\n",
    "\n"
   ],
   "execution_count": null,
   "outputs": []
  },
  {
   "cell_type": "markdown",
   "metadata": {},
   "source": [
    "# Write Latex Table to File"
   ],
   "execution_count": null,
   "outputs": []
  },
  {
   "cell_type": "code",
   "execution_count": null,
   "metadata": {
    "jupyter": {}
   },
   "outputs": [],
   "source": [
    "alignment_list = [\"c\" for i in range(len(df.columns))]\n",
    "\n",
    "alignment_str = \"\"\n",
    "for i in alignment_list:\n",
    "    alignment_str += i\n",
    "\n",
    "# #########################################################\n",
    "shared_props = dict(\n",
    "    # buf=\"oer_table.tex\",\n",
    "    columns=None,\n",
    "    col_space=None,\n",
    "\n",
    "    # #####################################################\n",
    "    header=True,\n",
    "    # #####################################################\n",
    "    index=False,\n",
    "\n",
    "    # #####################################################\n",
    "    na_rep='-',\n",
    "    formatters=None,\n",
    "\n",
    "    # #####################################################\n",
    "    # float_format=\"{:0.2f}\",\n",
    "    # float_format=[\"c\" for i in range(len(df.columns))],\n",
    "    # float_format=alignment_str,\n",
    "    # float_format=\"%%.2f\",\n",
    "\n",
    "    sparsify=None,\n",
    "    index_names=True,\n",
    "    bold_rows=False,\n",
    "    \n",
    "    # #####################################################\n",
    "    column_format=alignment_str,\n",
    "    \n",
    "    longtable=None,\n",
    "    \n",
    "    # #####################################################\n",
    "    escape=False,\n",
    "    encoding=None,\n",
    "    decimal='.',\n",
    "    multicolumn=None,\n",
    "    multicolumn_format=None,\n",
    "    multirow=None,\n",
    "    )"
   ]
  },
  {
   "cell_type": "code",
   "execution_count": null,
   "metadata": {
    "jupyter": {}
   },
   "outputs": [],
   "source": [
    "df.to_latex(\n",
    "    buf=\"TEMP.tex\",\n",
    "    **shared_props)\n",
    "\n",
    "path_i = os.path.join(\n",
    "    os.environ[\"PROJ_irox_paper\"],\n",
    "    \"04_data_tables/amorphous_limit_data\",\n",
    "    \"amorphous_lim_table.tex\")\n",
    "df.to_latex(\n",
    "    buf=path_i,\n",
    "    **shared_props)"
   ]
  },
  {
   "cell_type": "code",
   "execution_count": null,
   "metadata": {},
   "outputs": [],
   "source": [
    "# df.to_latex?"
   ]
  },
  {
   "cell_type": "code",
   "execution_count": null,
   "metadata": {},
   "outputs": [],
   "source": [
    "df.columns\n",
    "# \n",
    "df.columns.value_counts()"
   ]
  },
  {
   "cell_type": "code",
   "execution_count": null,
   "metadata": {},
   "outputs": [],
   "source": []
  },
  {
   "cell_type": "raw",
   "metadata": {},
   "source": [
    "\n",
    "\n",
    "\n"
   ],
   "execution_count": null,
   "outputs": []
  },
  {
   "cell_type": "code",
   "execution_count": null,
   "metadata": {
    "jupyter": {}
   },
   "outputs": [],
   "source": [
    "\n",
    "# # ab2_meta_lim = \n",
    "# calc_dH(i, stoich=\"AB2\")"
   ]
  },
  {
   "cell_type": "code",
   "execution_count": null,
   "metadata": {
    "jupyter": {}
   },
   "outputs": [],
   "source": [
    "# ab2_meta_lim = calc_dH(\n",
    "#     raw_dft_most_stable_amorph[\"AB2\"],\n",
    "#     stoich=\"AB2\")\n",
    "\n",
    "# ab3_meta_lim = calc_dH(\n",
    "#     raw_dft_most_stable_amorph[\"AB3\"],\n",
    "#     stoich=\"AB3\")\n",
    "\n",
    "# # calc_dH(stoich=\"AB2\")"
   ]
  },
  {
   "cell_type": "code",
   "execution_count": null,
   "metadata": {
    "jupyter": {}
   },
   "outputs": [],
   "source": [
    "# print(\"AB2:\", ab2_meta_lim)\n",
    "# print(\"AB3:\", ab3_meta_lim)"
   ]
  },
  {
   "cell_type": "code",
   "execution_count": null,
   "metadata": {
    "jupyter": {}
   },
   "outputs": [],
   "source": [
    "# raw_dft_most_stable_amorph = dict(\n",
    "#     AB2=-6.542,\n",
    "#     AB3=-6.163,\n",
    "#     )"
   ]
  }
 ],
 "metadata": {
  "kernelspec": {
   "display_name": "Python [conda env:PROJ_IrOx_Active_Learning_OER]",
   "language": "python",
   "name": "conda-env-PROJ_IrOx_Active_Learning_OER-py"
  },
  "language_info": {
   "codemirror_mode": {
    "name": "ipython",
    "version": 3
   },
   "file_extension": ".py",
   "mimetype": "text/x-python",
   "name": "python",
   "nbconvert_exporter": "python",
   "pygments_lexer": "ipython3",
   "version": "3.6.9"
  }
 },
 "nbformat": 4,
 "nbformat_minor": 4
}
