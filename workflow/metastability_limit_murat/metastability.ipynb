{
 "cells": [
  {
   "cell_type": "code",
   "execution_count": 14,
   "metadata": {},
   "outputs": [
    {
     "name": "stdout",
     "output_type": "stream",
     "text": [
      "/home/raulf2012/Dropbox/01_norskov/00_git_repos/PROJ_IrOx_Active_Learning_OER/workflow/metastability_limit_murat\n"
     ]
    }
   ],
   "source": [
    "import os\n",
    "print(os.getcwd())\n",
    "import sys\n",
    "\n",
    "sys.path.insert(0, os.path.join(os.environ[\"PROJ_irox\"], \"data\"))\n",
    "from proj_data_irox import calc_dH"
   ]
  },
  {
   "cell_type": "code",
   "execution_count": 4,
   "metadata": {},
   "outputs": [],
   "source": [
    "raw_dft_most_stable_amorph = dict(\n",
    "    AB2=-6.542,\n",
    "    AB3=-6.163,\n",
    "    )"
   ]
  },
  {
   "cell_type": "code",
   "execution_count": 8,
   "metadata": {},
   "outputs": [],
   "source": [
    "ab2_meta_lim = calc_dH(\n",
    "    raw_dft_most_stable_amorph[\"AB2\"],\n",
    "    stoich=\"AB2\")\n",
    "\n",
    "ab3_meta_lim = calc_dH(\n",
    "    raw_dft_most_stable_amorph[\"AB3\"],\n",
    "    stoich=\"AB3\")\n",
    "\n",
    "# calc_dH(stoich=\"AB2\")"
   ]
  },
  {
   "cell_type": "code",
   "execution_count": 13,
   "metadata": {},
   "outputs": [
    {
     "name": "stdout",
     "output_type": "stream",
     "text": [
      "AB2: -0.33285956787756277\n",
      "AB3: -0.3438547784081729\n"
     ]
    }
   ],
   "source": [
    "print(\"AB2:\", ab2_meta_lim)\n",
    "print(\"AB3:\", ab3_meta_lim)"
   ]
  }
 ],
 "metadata": {
  "kernelspec": {
   "display_name": "Python [conda env:PROJ_IrOx_Active_Learning_OER]",
   "language": "python",
   "name": "conda-env-PROJ_IrOx_Active_Learning_OER-py"
  },
  "language_info": {
   "codemirror_mode": {
    "name": "ipython",
    "version": 3
   },
   "file_extension": ".py",
   "mimetype": "text/x-python",
   "name": "python",
   "nbconvert_exporter": "python",
   "pygments_lexer": "ipython3",
   "version": "3.6.7"
  }
 },
 "nbformat": 4,
 "nbformat_minor": 4
}
