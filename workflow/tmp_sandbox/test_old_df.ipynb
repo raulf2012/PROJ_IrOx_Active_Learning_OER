{
 "cells": [
  {
   "cell_type": "markdown",
   "metadata": {},
   "source": [
    "# Parsing OLD DataFrame for Errors\n",
    "The new dataframe that recently parsed (181226) is much smaller than\n",
    "the previous one (in terms of storage memory)\n",
    "\n",
    "Hopefully none of the old data was purged on NERSC!!!!"
   ],
   "execution_count": null,
   "outputs": []
  },
  {
   "cell_type": "code",
   "execution_count": null,
   "metadata": {},
   "outputs": [],
   "source": [
    "import sys\n",
    "import os\n",
    "\n",
    "import pickle\n",
    "\n",
    "import pandas as pd\n",
    "pd.set_option(\"display.max_columns\", None)\n",
    "pd.set_option('display.max_rows', None)"
   ]
  },
  {
   "cell_type": "code",
   "execution_count": null,
   "metadata": {},
   "outputs": [],
   "source": [
    "df = pickle.load(\n",
    "    open(\n",
    "    os.path.join(\n",
    "        os.environ[\"PROJ_DATA\"],\n",
    "        \"04_IrOx_surfaces_OER\",\n",
    "#         'job_dataframe_181225_with_battery.pickle',\n",
    "        \"job_dataframe.pickle\",\n",
    "        ),\n",
    "        \"rb\"\n",
    "        ),\n",
    "    encoding=\"latin1\",\n",
    "    )"
   ]
  },
  {
   "cell_type": "code",
   "execution_count": null,
   "metadata": {},
   "outputs": [],
   "source": [
    "print(\"Length of DataFrame:\", len(df))\n",
    "print(\"Column Names:\", \"\\n\", list(df))\n",
    "\n",
    "print(\"\")\n",
    "print(df.info(memory_usage=\"deep\"))"
   ]
  },
  {
   "cell_type": "code",
   "execution_count": null,
   "metadata": {},
   "outputs": [],
   "source": [
    "list(set(df[\"bulk_system\"].tolist()))"
   ]
  },
  {
   "cell_type": "code",
   "execution_count": null,
   "metadata": {},
   "outputs": [],
   "source": [
    "df"
   ]
  },
  {
   "cell_type": "raw",
   "metadata": {},
   "source": [
    "\n",
    "\n",
    "\n",
    "\n",
    "\n"
   ],
   "execution_count": null,
   "outputs": []
  },
  {
   "cell_type": "code",
   "execution_count": null,
   "metadata": {},
   "outputs": [],
   "source": [
    "# os.listdir(\n",
    "#     os.path.join(\n",
    "#         os.environ[\"PROJ_DATA\"],\n",
    "#         \"04_IrOx_surfaces_OER\",\n",
    "#         )\n",
    "#     )"
   ]
  }
 ],
 "metadata": {
  "kernelspec": {
   "display_name": "Python 3",
   "language": "python",
   "name": "python3"
  },
  "language_info": {
   "codemirror_mode": {
    "name": "ipython",
    "version": 3
   },
   "file_extension": ".py",
   "mimetype": "text/x-python",
   "name": "python",
   "nbconvert_exporter": "python",
   "pygments_lexer": "ipython3",
   "version": "3.6.7"
  }
 },
 "nbformat": 4,
 "nbformat_minor": 2
}
