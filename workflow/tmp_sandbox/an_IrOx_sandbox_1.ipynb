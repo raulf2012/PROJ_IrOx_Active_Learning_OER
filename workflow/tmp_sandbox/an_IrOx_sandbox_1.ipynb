{
 "cells": [
  {
   "cell_type": "markdown",
   "metadata": {},
   "source": [
    "# Import Modules"
   ],
   "execution_count": null,
   "outputs": []
  },
  {
   "cell_type": "code",
   "execution_count": null,
   "metadata": {},
   "outputs": [],
   "source": [
    "%%capture\n",
    "%load_ext autoreload\n",
    "%autoreload 2"
   ]
  },
  {
   "cell_type": "code",
   "execution_count": null,
   "metadata": {},
   "outputs": [],
   "source": [
    "import sys\n",
    "import os\n",
    "\n",
    "sys.path.insert(\n",
    "    0,\n",
    "    os.path.join(\n",
    "        os.environ[\"PROJ_irox\"],\n",
    "        \"scripts\",\n",
    "        ),\n",
    "    )\n",
    "\n",
    "sys.path.insert(\n",
    "    0,\n",
    "    os.path.join(\n",
    "        os.environ[\"PROJ_irox\"],\n",
    "        \"workflow/an_analysis_dir\",\n",
    "        ),\n",
    "    )\n",
    "\n",
    "sys.path.insert(\n",
    "    0,\n",
    "    os.path.join(\n",
    "        os.environ[\"PROJ_irox\"],\n",
    "        \"workflow/data\",\n",
    "        ),\n",
    "    )\n",
    "\n",
    "from Pourbaix_simple_generic import plot_Pourbaix\n",
    "from an_data_processing import load_df\n",
    "\n",
    "from ase import io\n",
    "from ase.visualize import view\n",
    "\n",
    "from ase_modules.ase_methods import create_species_element_dict"
   ]
  },
  {
   "cell_type": "code",
   "execution_count": null,
   "metadata": {},
   "outputs": [],
   "source": [
    "from data import h2_ref as h2\n",
    "from data import h2o_ref as h2o\n",
    "\n",
    "from data import zpe_h2o\n",
    "from data import cv_h2o\n",
    "from data import ts_h2o\n",
    "\n",
    "from data import zpe_h2\n",
    "from data import cv_h2\n",
    "from data import ts_h2\n",
    "\n",
    "from data import zpe_ooh\n",
    "from data import cv_ooh\n",
    "from data import ts_ooh\n",
    "\n",
    "from data import zpe_o\n",
    "from data import cv_o\n",
    "from data import ts_o\n",
    "\n",
    "from data import zpe_oh\n",
    "from data import cv_oh\n",
    "from data import ts_oh"
   ]
  },
  {
   "cell_type": "markdown",
   "metadata": {},
   "source": [
    "# Script Inputs"
   ],
   "execution_count": null,
   "outputs": []
  },
  {
   "cell_type": "code",
   "execution_count": null,
   "metadata": {},
   "outputs": [],
   "source": [
    "close_plt = False\n",
    "\n",
    "save_dir = os.path.join(\n",
    "    os.environ[\"PROJ_irox\"],\n",
    "    \"workflow/pl_master_plots/pl_pourbaix\"\n",
    "    )\n",
    "\n",
    "Umin=0.0\n",
    "Umax=2.2"
   ]
  },
  {
   "cell_type": "code",
   "execution_count": null,
   "metadata": {},
   "outputs": [],
   "source": [
    "Pourbaix_arg_dict = {\n",
    "#     \"surfs\": surfs,\n",
    "    \"h2\": h2,\n",
    "    \"zpe_h2\": zpe_h2,\n",
    "    \"ts_h2\": ts_h2,\n",
    "    \"cv_h2\": cv_h2,\n",
    "    \"h2o\": h2o,\n",
    "    \"zpe_h2o\": zpe_h2o,\n",
    "    \"ts_h2o\": ts_h2o,\n",
    "    \"cv_h2o\": cv_h2o,\n",
    "    \"zpe_o\": zpe_o,\n",
    "    \"ts_o\": ts_o,\n",
    "    \"cv_o\": cv_o,\n",
    "    \"zpe_oh\": zpe_oh,\n",
    "    \"ts_oh\": ts_oh,\n",
    "    \"cv_oh\": cv_oh,\n",
    "    \"zpe_ooh\": zpe_ooh,\n",
    "    \"ts_ooh\": ts_ooh,\n",
    "    \"cv_ooh\": cv_ooh,\n",
    "    \"Umin\": Umin,\n",
    "    \"Umax\": Umax,\n",
    "    \"print_out\": False,\n",
    "    \"save_dir\": save_dir,\n",
    "#     \"file_name\": \"_\".join(list(key_i)) + \".pdf\",\n",
    "    \"close_plt\": close_plt,\n",
    "    }"
   ]
  },
  {
   "cell_type": "markdown",
   "metadata": {},
   "source": [
    "# Read/Process DataFrame"
   ],
   "execution_count": null,
   "outputs": []
  },
  {
   "cell_type": "code",
   "execution_count": null,
   "metadata": {},
   "outputs": [],
   "source": [
    "df_pourbaix, df_ads, df_surf = load_df(\n",
    "    from_file=False,\n",
    "    root_dir=\"../data\",\n",
    "    data_dir=\"../data\",\n",
    "    file_name=\"df_master.pickle\",\n",
    "    process_df=True,\n",
    "    )\n",
    "\n",
    "# df_m = df_pourbaix\n",
    "\n",
    "# # Elimate structures that aren't converged w.r.t. forces\n",
    "# df_m = df_m[df_m[\"max_force\"] < 0.05]\n",
    "\n",
    "# df_m[\"name_i\"] = df_m[\"name_i\"].str.replace(\"_\", \" \")\n",
    "# df_m[\"name_i\"] = df_m[\"name_i\"].str.replace(\"|\", \",\")\n",
    "\n",
    "# grouped = df_m.groupby([\"facet\", \"bulk_system\"])\n",
    "# group_dict = {}\n",
    "# for i_ind, (name, group) in enumerate(grouped):\n",
    "#     df_i = group\n",
    "#     group_dict[name] = group"
   ]
  },
  {
   "cell_type": "code",
   "execution_count": null,
   "metadata": {},
   "outputs": [],
   "source": [
    "atoms_i = df_ads[\n",
    "    (df_ads[\"coverage_type\"] == \"o_covered\") & \\\n",
    "    (df_ads[\"adsorbate\"] == \"ooh\") & \\\n",
    "    (df_ads[\"bulk_system\"] == \"IrO2\") & \\\n",
    "    (df_ads[\"facet\"] == \"110\")\n",
    "#     (df_ads[\"\"] == ) & \\\n",
    "    ].iloc[0].atoms_object[-1]\n",
    "\n",
    "io.write(\"iro2_110.traj\", atoms_i)\n",
    "\n",
    "\n",
    "atoms_i = df_ads[\n",
    "    (df_ads[\"coverage_type\"] == \"o_covered\") & \\\n",
    "    (df_ads[\"adsorbate\"] == \"ooh\") & \\\n",
    "    (df_ads[\"bulk_system\"] == \"IrO2\") & \\\n",
    "    (df_ads[\"facet\"] == \"100\")\n",
    "#     (df_ads[\"\"] == ) & \\\n",
    "    ].iloc[0].atoms_object[-1]\n",
    "\n",
    "io.write(\"iro2_110.traj\", atoms_i)\n",
    "\n",
    "\n",
    "# view(atoms_i)"
   ]
  },
  {
   "cell_type": "code",
   "execution_count": null,
   "metadata": {},
   "outputs": [],
   "source": [
    "import pandas as pd\n",
    "\n",
    "\n",
    "frames = [df_ads, df_surf]\n",
    "result = pd.concat(frames, sort=False)\n",
    "\n",
    "result"
   ]
  },
  {
   "cell_type": "code",
   "execution_count": null,
   "metadata": {},
   "outputs": [],
   "source": [
    "df_surf[df_surf[\"max_force\"] > 0.02].path.tolist()\n"
   ]
  },
  {
   "cell_type": "code",
   "execution_count": null,
   "metadata": {},
   "outputs": [],
   "source": [
    "df_pourbaix[df_pourbaix[\"max_force\"] > 0.02].path.tolist()"
   ]
  },
  {
   "cell_type": "code",
   "execution_count": null,
   "metadata": {},
   "outputs": [],
   "source": [
    "df_ads[df_ads[\"max_force\"] > 0.02]"
   ]
  },
  {
   "cell_type": "markdown",
   "metadata": {},
   "source": [
    "# Import Modules"
   ],
   "execution_count": null,
   "outputs": []
  },
  {
   "cell_type": "code",
   "execution_count": null,
   "metadata": {},
   "outputs": [],
   "source": [
    "%%capture\n",
    "%load_ext autoreload\n",
    "%autoreload 2"
   ]
  },
  {
   "cell_type": "code",
   "execution_count": null,
   "metadata": {},
   "outputs": [],
   "source": [
    "import sys\n",
    "import os\n",
    "\n",
    "sys.path.insert(\n",
    "    0,\n",
    "    os.path.join(\n",
    "        os.environ[\"PROJ_irox\"],\n",
    "#         \"scripts/01_Michal_OER_Plot_Script\",\n",
    "        \"scripts\",\n",
    "        ),\n",
    "    )\n",
    "\n",
    "sys.path.insert(\n",
    "    0,\n",
    "    os.path.join(\n",
    "        os.environ[\"PROJ_irox\"],\n",
    "        \"workflow/an_analysis_dir\",\n",
    "        ),\n",
    "    )\n",
    "\n",
    "sys.path.insert(\n",
    "    0,\n",
    "    os.path.join(\n",
    "        os.environ[\"PROJ_irox\"],\n",
    "        \"workflow/data\",\n",
    "        ),\n",
    "    )\n",
    "\n",
    "from Pourbaix_simple_generic import plot_Pourbaix\n",
    "from an_data_processing import load_df\n",
    "\n",
    "from ase_modules.ase_methods import create_species_element_dict"
   ]
  },
  {
   "cell_type": "code",
   "execution_count": null,
   "metadata": {},
   "outputs": [],
   "source": [
    "import pickle\n",
    "\n",
    "from ase.visualize import view\n",
    "from ase import io\n",
    "\n",
    "import plotly as py"
   ]
  },
  {
   "cell_type": "code",
   "execution_count": null,
   "metadata": {},
   "outputs": [],
   "source": [
    "process_df = True\n",
    "\n",
    "\n",
    "\n",
    "\n",
    "df_pourbaix, df_ads, df_surf = load_df(\n",
    "    from_file=False,\n",
    "    root_dir=\"../data\",\n",
    "    data_dir=\"../data\",\n",
    "    file_name=\"df_master.pickle\",\n",
    "    process_df=True,\n",
    "    )\n",
    "df_m = df_pourbaix\n",
    "\n",
    "\n",
    "# # df_pourbaix, df_ads = load_df(\n",
    "# df_m = load_df(\n",
    "#     from_file=False,\n",
    "#     root_dir=\".\",\n",
    "#     data_dir=\".\",\n",
    "#     file_name=\"df_master.pickle\",\n",
    "#     process_df=process_df,\n",
    "#     )\n",
    "\n",
    "# if process_df:\n",
    "#     df_pourbaix, df_ads = df_m\n",
    "\n",
    "# df_m = df_ads\n",
    "\n",
    "# df_m = df_m[[\n",
    "#     \"adsorbate\",\n",
    "#     \"bulk_system\",\n",
    "#     \"coverage\",\n",
    "#     \"coverage_type\",\n",
    "#     \"facet\",\n",
    "#     \"job_type\",\n",
    "#     \"path_short\",\n",
    "#     \"elec_energy\",\n",
    "#     \"name_i\",\n",
    "#     \"ads_e\",\n",
    "#     \"max_force\",\n",
    "#     \"sum_force\",\n",
    "#     ]]"
   ]
  },
  {
   "cell_type": "code",
   "execution_count": null,
   "metadata": {},
   "outputs": [],
   "source": [
    "df_m = df_pourbaix\n",
    "\n",
    "\n",
    "df_i = df_m[\n",
    "    df_m[\"bulk_system\"] == \"IrO3_rutile-like\"\n",
    "    ]\n",
    "\n",
    "df_i[\"path_short\"].tolist()"
   ]
  },
  {
   "cell_type": "code",
   "execution_count": null,
   "metadata": {},
   "outputs": [],
   "source": [
    "df_m[\n",
    "    (df_m[\"bulk_system\"] == \"IrO3\") & \\\n",
    "#     (df_m[\"bulk_system\"] == \"IrO3\")\n",
    "    (df_m[\"facet\"] == \"111\")\n",
    "    \n",
    "    ]"
   ]
  },
  {
   "cell_type": "code",
   "execution_count": null,
   "metadata": {},
   "outputs": [],
   "source": [
    "# grouped = df_m.groupby([\"facet\", \"coverage_type\", \"bulk_system\"])\n",
    "# group_df_list = []\n",
    "# for i_ind, (name, group) in enumerate(grouped):\n",
    "#     df_i = group\n",
    "# #     print(df_i)\n",
    "#     print(len(df_i))\n",
    "#     print(20 * \"*\")"
   ]
  },
  {
   "cell_type": "markdown",
   "metadata": {},
   "source": [
    "**********\n",
    "**********\n",
    "**********\n",
    "**********"
   ],
   "execution_count": null,
   "outputs": []
  },
  {
   "cell_type": "markdown",
   "metadata": {},
   "source": [
    "# Figuring out the discrepancy between Michals IrO2 110 and mine"
   ],
   "execution_count": null,
   "outputs": []
  },
  {
   "cell_type": "code",
   "execution_count": null,
   "metadata": {},
   "outputs": [],
   "source": [
    "df_tmp = df_m[\n",
    "    (df_m[\"facet\"] == \"100\") & \\\n",
    "    (df_m[\"bulk_system\"] == \"IrO2\") & \\\n",
    "    (df_m[\"coverage_type\"] == \"h_covered\")\n",
    "    ]\n",
    "\n",
    "df_tmp"
   ]
  },
  {
   "cell_type": "markdown",
   "metadata": {},
   "source": [
    "# Reference State Energetics"
   ],
   "execution_count": null,
   "outputs": []
  },
  {
   "cell_type": "code",
   "execution_count": null,
   "metadata": {},
   "outputs": [],
   "source": [
    "from energetics.dft_energy import Element_Refs\n",
    "\n",
    "# VASP Gas-phase References\n",
    "h2_ref = -6.77014123\n",
    "h2o_ref = -14.21744725\n",
    "\n",
    "# h2_ref =  -6.759300\n",
    "# h2o_ref = -14.019771\n",
    "\n",
    "# Free Energy Corrections\n",
    "corrections_dict = {\n",
    "    \"ooh\": 0.34475,\n",
    "    \"o\": -0.0145,\n",
    "    \"oh\": 0.30225,\n",
    "    \"bare\": 0.,\n",
    "    }\n",
    "\n",
    "Elem_Refs = Element_Refs(\n",
    "    H2O_dict={\n",
    "        \"gibbs_e\": h2o_ref,\n",
    "        \"electronic_e\": h2o_ref,\n",
    "        },\n",
    "\n",
    "    H2_dict={\n",
    "        \"gibbs_e\": h2_ref,\n",
    "        \"electronic_e\": h2_ref,\n",
    "        },\n",
    "    )\n",
    "\n",
    "oxy_ref, hyd_ref = Elem_Refs.calc_ref_energies()\n",
    "\n",
    "oxy_ref = oxy_ref.gibbs_e\n",
    "hyd_ref = hyd_ref.gibbs_e"
   ]
  },
  {
   "cell_type": "markdown",
   "metadata": {},
   "source": [
    "# My Calculations"
   ],
   "execution_count": null,
   "outputs": []
  },
  {
   "cell_type": "code",
   "execution_count": null,
   "metadata": {},
   "outputs": [],
   "source": [
    "# atoms_OH = df_tmp.loc[25][\"atoms_object\"][-1]\n",
    "# atoms_O = df_tmp.loc[23][\"atoms_object\"][-1]\n",
    "# atoms_bare = df_tmp.loc[19][\"atoms_object\"][-1]\n",
    "\n",
    "# E_O_mine = atoms_O.get_potential_energy()\n",
    "# E_OH_mine = atoms_OH.get_potential_energy()\n",
    "# E_bare_mine = atoms_bare.get_potential_energy()\n",
    "\n",
    "# # E_ads_OH_mine = E_OH_mine - E_bare_mine - oxy_ref - hyd_ref # + corrections_dict[\"oh\"]\n",
    "# E_ads_OH_mine = -346.7727701 - E_bare_mine - oxy_ref - hyd_ref #+ corrections_dict[\"oh\"]\n",
    "# E_ads_O_mine = E_O_mine - E_bare_mine - oxy_ref #+ corrections_dict[\"o\"]\n",
    "\n",
    "# print(\"E_ads_OH: \")\n",
    "# print(E_ads_OH_mine)\n",
    "\n",
    "# print(\" \")\n",
    "# print(\"E_ads_O: \")\n",
    "# print(E_ads_O_mine)\n",
    "\n",
    "# print(\" \")\n",
    "# print(\"E_O - E_OH: \")\n",
    "# E_ads_O_mine - E_ads_OH_mine"
   ]
  },
  {
   "cell_type": "markdown",
   "metadata": {},
   "source": [
    "# Michal's IrO2 (110) Calculation"
   ],
   "execution_count": null,
   "outputs": []
  },
  {
   "cell_type": "code",
   "execution_count": null,
   "metadata": {},
   "outputs": [],
   "source": [
    "# proj_root = os.environ[\"PROJ_irox\"]\n",
    "# Mich_dir = os.path.join(proj_root, \"workflow/Michal_IrO2_110_calc\")\n",
    "\n",
    "# atoms_O_Mich = io.read(os.path.join(Mich_dir, \"03_o/IrO2_PBE_opt_Oads_OUTCAR\"))\n",
    "# atoms_OH_Mich = io.read(os.path.join(Mich_dir, \"04_oh/IrO2_PBE_opt_OHads_OUTCAR\"))\n",
    "# atoms_bare_Mich = io.read(os.path.join(Mich_dir, \"01_bare/IrO2_PBE_opt_clean_OUTCAR\"))\n",
    "\n",
    "# E_O_Mich = atoms_O_Mich.get_potential_energy()\n",
    "# E_OH_Mich = atoms_OH_Mich.get_potential_energy()\n",
    "# E_bare_Mich = atoms_bare_Mich.get_potential_energy()\n",
    "\n",
    "# E_ads_OH_Mich = E_OH_Mich - E_bare_Mich - oxy_ref - hyd_ref #+ corrections_dict[\"oh\"]\n",
    "# E_ads_O_Mich = E_O_Mich - E_bare_Mich - oxy_ref #+ corrections_dict[\"o\"]\n",
    "\n",
    "# print(\"E_ads_OH: \")\n",
    "# print(E_ads_OH_Mich)\n",
    "\n",
    "# print(\" \")\n",
    "# print(\"E_ads_O: \")\n",
    "# print(E_ads_O_Mich)\n",
    "\n",
    "# print(\" \")\n",
    "# print(\"E_O - E_OH: \")\n",
    "# E_ads_O_Mich - E_ads_OH_Mich"
   ]
  },
  {
   "cell_type": "code",
   "execution_count": null,
   "metadata": {},
   "outputs": [],
   "source": [
    "# for i_ind, row_i in df_m.iterrows():\n",
    "\n",
    "#     atoms_i = row_i.atoms_object[-1]\n",
    "#     name_i = row_i.name_i_2\n",
    "    \n",
    "#     atoms_i.write(\"atoms_objects_ads/\" + name_i + \".cif\")"
   ]
  },
  {
   "cell_type": "code",
   "execution_count": null,
   "metadata": {},
   "outputs": [],
   "source": [
    "name_i = row_i.name_i_2\n"
   ]
  }
 ],
 "metadata": {
  "kernel_info": {
   "name": "python3"
  },
  "kernelspec": {
   "display_name": "Python 3",
   "language": "python",
   "name": "python3"
  },
  "language_info": {
   "codemirror_mode": {
    "name": "ipython",
    "version": 3
   },
   "file_extension": ".py",
   "mimetype": "text/x-python",
   "name": "python",
   "nbconvert_exporter": "python",
   "pygments_lexer": "ipython3",
   "version": "3.6.6"
  },
  "nteract": {
   "version": "0.9.1"
  }
 },
 "nbformat": 4,
 "nbformat_minor": 2
}
