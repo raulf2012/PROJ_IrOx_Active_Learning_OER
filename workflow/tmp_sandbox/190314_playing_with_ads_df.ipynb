{
 "cells": [
  {
   "cell_type": "code",
   "execution_count": null,
   "metadata": {},
   "outputs": [],
   "source": [
    "%%capture\n",
    "%load_ext autoreload\n",
    "%autoreload 2\n",
    "\n",
    "import sys\n",
    "import os\n",
    "\n",
    "sys.path.insert(\n",
    "    0,\n",
    "    os.path.join(\n",
    "        os.environ[\"PROJ_irox\"],\n",
    "        \"workflow\"))\n",
    "\n",
    "sys.path.insert(\n",
    "    0,\n",
    "    os.path.join(\n",
    "        os.environ[\"PROJ_irox\"],\n",
    "        \"data\"))\n",
    "\n",
    "from an_data_processing import load_df\n",
    "\n",
    "###########################################################\n",
    "\n",
    "# Python Modules\n",
    "import numpy as np\n",
    "import pandas as pd\n",
    "\n",
    "import plotly.plotly as py\n",
    "import plotly.graph_objs as go\n",
    "\n",
    "# import colorlover as cl\n",
    "from IPython.display import HTML\n",
    "from IPython.display import display\n",
    "\n",
    "# My Modules\n",
    "from orr_reaction.orr_fed_plot import ORR_Free_E_Plot\n",
    "from orr_reaction.orr_fed_plot import Scaling_Relations_Plot\n",
    "\n",
    "# Project Data\n",
    "from proj_data_irox import (\n",
    "    surface_energies,\n",
    "    smart_format_dict_volcano,\n",
    "\n",
    "#     color_palettes,\n",
    "    system_color_map,\n",
    "\n",
    "    max_surf_e,\n",
    "    min_surf_e,\n",
    "    proj_dir_name,\n",
    "    smart_format_dict,\n",
    "    data_dir,\n",
    "    )"
   ]
  },
  {
   "cell_type": "code",
   "execution_count": null,
   "metadata": {},
   "outputs": [],
   "source": [
    "# pd.set_option(\"display.max_columns\", None)\n",
    "# pd.set_option('display.max_rows', None)"
   ]
  },
  {
   "cell_type": "code",
   "execution_count": null,
   "metadata": {},
   "outputs": [],
   "source": [
    "save_plot = False\n",
    "\n",
    "prop_name_list = [\n",
    "    'bulk_system',\n",
    "#     'coverage',\n",
    "    'coverage_type',\n",
    "    'facet',\n",
    "    ]\n",
    "\n",
    "groupby_props = [\n",
    "    \"bulk_system\",\n",
    "    \"facet\",\n",
    "    \"coverage_type\",\n",
    "    \"surface_type\",\n",
    "    ]\n",
    "\n",
    "data_dir = \"/mnt/c/Users/raul_desktop/Dropbox/01_norskov/04_comp_clusters/02_DATA/04_IrOx_surfaces_OER/190313_new_job_df\""
   ]
  },
  {
   "cell_type": "markdown",
   "metadata": {},
   "source": [
    "# Read and Process Data Frame"
   ],
   "execution_count": null,
   "outputs": []
  },
  {
   "cell_type": "code",
   "execution_count": null,
   "metadata": {},
   "outputs": [],
   "source": [
    "df_pourbaix, df_ads, df_surf = load_df(\n",
    "    from_file=False,\n",
    "    root_dir=data_dir,\n",
    "    data_dir=data_dir,\n",
    "    file_name=\"df_master.pickle\",\n",
    "    process_df=True,\n",
    "    )\n",
    "\n",
    "df_m = df_ads\n",
    "\n",
    "df_m.loc[df_m[\"coverage_type\"] == \"O-4_OH-0\", \"coverage_type\"] = \"o_covered\"\n",
    "df_m.loc[df_m[\"coverage_type\"] == \"O-2_OH-0\", \"coverage_type\"] = \"o_covered_2\"\n",
    "df_m.loc[df_m[\"coverage_type\"] == \"O-2_OH-2\", \"coverage_type\"] = \"h_covered\""
   ]
  },
  {
   "cell_type": "code",
   "execution_count": null,
   "metadata": {},
   "outputs": [],
   "source": [
    "groupby_props.append(\"adsorbate\")\n",
    "grouped = df_m.groupby(groupby_props)\n",
    "\n",
    "ignore_indices = np.array([])\n",
    "for i_ind, (name, group) in enumerate(grouped):\n",
    "    props_i = dict(zip(groupby_props, list(name)))\n",
    "    df_i = group\n",
    "    \n",
    "    if len(df_i) > 1:\n",
    "        print(\"\"); print(\"_____\")\n",
    "        print(\"more than 1 structure here\")\n",
    "        if props_i[\"adsorbate\"] == \"ooh\":\n",
    "            if \"up\" in df_i[\"ooh_direction\"].tolist():\n",
    "                ignore_indices_i = list(df_i[df_i[\"ooh_direction\"] != \"up\"].index.values)\n",
    "                ignore_indices = np.append(ignore_indices, ignore_indices_i)\n",
    "\n",
    "            elif \"sideways\" in df_i[\"ooh_direction\"].tolist():\n",
    "                ignore_indices_i = list(df_i[df_i[\"ooh_direction\"] != \"sideways\"].index.values)\n",
    "                ignore_indices = np.append(ignore_indices, ignore_indices_i)\n",
    "            else:\n",
    "                tmp = 42\n",
    "\n",
    "        elif props_i[\"adsorbate\"] == \"bare\":\n",
    "            df_copy_i = df_i.copy(deep=True)\n",
    "            min_e_ind = df_copy_i[\"elec_energy\"].idxmin()\n",
    "\n",
    "            ignore_indices_i = df_copy_i.drop(min_e_ind).index.values\n",
    "            ignore_indices = np.append(ignore_indices, ignore_indices_i)\n",
    "\n",
    "        elif props_i[\"adsorbate\"] == \"o\":\n",
    "            df_copy_i = df_i.copy(deep=True)\n",
    "            min_e_ind = df_copy_i[\"elec_energy\"].idxmin()\n",
    "\n",
    "            ignore_indices_i = df_copy_i.drop(min_e_ind).index.values\n",
    "            ignore_indices = np.append(ignore_indices, ignore_indices_i)\n",
    "\n",
    "        elif props_i[\"adsorbate\"] == \"oh\":\n",
    "            df_copy_i = df_i.copy(deep=True)\n",
    "            min_e_ind = df_copy_i[\"elec_energy\"].idxmin()\n",
    "\n",
    "            ignore_indices_i = df_copy_i.drop(min_e_ind).index.values\n",
    "            ignore_indices = np.append(ignore_indices, ignore_indices_i)\n",
    "            \n",
    "        else:\n",
    "            tmp = 42"
   ]
  },
  {
   "cell_type": "code",
   "execution_count": null,
   "metadata": {},
   "outputs": [],
   "source": [
    "df_tmp = df_m.drop(labels=ignore_indices)"
   ]
  },
  {
   "cell_type": "code",
   "execution_count": null,
   "metadata": {},
   "outputs": [],
   "source": [
    "# groupby_props.append(\"adsorbate\")\n",
    "grouped = df_tmp.groupby(groupby_props)\n",
    "\n",
    "# ignore_indices = np.array([])\n",
    "for i_ind, (name, group) in enumerate(grouped):\n",
    "    props_i = dict(zip(groupby_props, list(name)))\n",
    "    df_i = group\n",
    "    print(len(df_i))\n",
    "\n",
    "    if len(df_i) > 1:\n",
    "        display(df_i)\n",
    "#     display(df_i)\n",
    "#     print(\"\")"
   ]
  },
  {
   "cell_type": "raw",
   "metadata": {},
   "source": [
    "\n",
    "\n",
    "\n",
    "\n",
    "\n",
    "\n",
    "\n"
   ],
   "execution_count": null,
   "outputs": []
  },
  {
   "cell_type": "code",
   "execution_count": null,
   "metadata": {},
   "outputs": [],
   "source": [
    "# df_m"
   ]
  },
  {
   "cell_type": "code",
   "execution_count": null,
   "metadata": {},
   "outputs": [],
   "source": [
    "# df_copy_i = df_tmp.copy(deep=True)\n",
    "\n",
    "# min_e_ind = df_copy_i[\"elec_energy\"].idxmin()\n",
    "\n",
    "# ignore_indices_i = df_copy_i.drop(min_e_ind).index.values\n",
    "\n",
    "# # ignore_indices_i = list(df_i[df_i[\"ooh_direction\"] != \"up\"].index.values)\n",
    "# ignore_indices += ignore_indices_i"
   ]
  },
  {
   "cell_type": "code",
   "execution_count": null,
   "metadata": {},
   "outputs": [],
   "source": [
    "#     df_ooh_i = df_i[df_i[\"adsorbate\"] == \"ooh\"]\n",
    "    \n",
    "#     if len(df_ooh_i) > 1:\n",
    "#         if \"up\" in df_ooh_i[\"ooh_direction\"].tolist():\n",
    "#             ignore_indices_i = list(df_ooh_i[df_ooh_i[\"ooh_direction\"] != \"up\"].index.values)\n",
    "#             ignore_indices += ignore_indices_i\n",
    "#         elif \"sideways\" in df_ooh_i[\"ooh_direction\"].tolist():\n",
    "#             ignore_indices_i = list(df_ooh_i[df_ooh_i[\"ooh_direction\"] != \"sideways\"].index.values)\n",
    "#             ignore_indices += ignore_indices_i\n",
    "#         else:\n",
    "#             tmp = 42"
   ]
  }
 ],
 "metadata": {
  "kernelspec": {
   "display_name": "Python 3",
   "language": "python",
   "name": "python3"
  },
  "language_info": {
   "codemirror_mode": {
    "name": "ipython",
    "version": 3
   },
   "file_extension": ".py",
   "mimetype": "text/x-python",
   "name": "python",
   "nbconvert_exporter": "python",
   "pygments_lexer": "ipython3",
   "version": "3.6.7"
  }
 },
 "nbformat": 4,
 "nbformat_minor": 2
}
