{
 "cells": [
  {
   "cell_type": "markdown",
   "metadata": {},
   "source": [
    "# Investigating OOH structures and scaling"
   ]
  },
  {
   "cell_type": "code",
   "execution_count": 1,
   "metadata": {},
   "outputs": [],
   "source": [
    "%%capture\n",
    "%load_ext autoreload\n",
    "%autoreload 2\n",
    "\n",
    "# from IPython.display import display\n",
    "\n",
    "import sys\n",
    "import os\n",
    "\n",
    "an_dir = os.path.join(\n",
    "    os.environ[\"PROJ_irox\"],\n",
    "    \"workflow\")\n",
    "sys.path.insert(0, an_dir)"
   ]
  },
  {
   "cell_type": "code",
   "execution_count": 2,
   "metadata": {},
   "outputs": [],
   "source": [
    "import sys\n",
    "import os\n",
    "\n",
    "an_dir = os.path.join(\n",
    "    os.environ[\"PROJ_irox\"],\n",
    "    \"data\")\n",
    "sys.path.insert(0, an_dir)\n"
   ]
  },
  {
   "cell_type": "code",
   "execution_count": 3,
   "metadata": {},
   "outputs": [
    {
     "name": "stdout",
     "output_type": "stream",
     "text": [
      "KLSJDF\n"
     ]
    }
   ],
   "source": [
    "from proj_data_irox import (\n",
    "    corrections_dict_tmp,\n",
    "    corrections_dict,\n",
    "    )"
   ]
  },
  {
   "cell_type": "code",
   "execution_count": 4,
   "metadata": {},
   "outputs": [
    {
     "data": {
      "text/plain": [
       "{'ooh': 0.36450000000000005,\n",
       " 'o': 0.04400000000000001,\n",
       " 'oh': 0.2945,\n",
       " 'bare': 0.0}"
      ]
     },
     "execution_count": 4,
     "metadata": {},
     "output_type": "execute_result"
    }
   ],
   "source": [
    "corrections_dict_tmp"
   ]
  },
  {
   "cell_type": "code",
   "execution_count": 5,
   "metadata": {},
   "outputs": [
    {
     "data": {
      "text/plain": [
       "{'ooh': 0.3645, 'o': 0.044, 'oh': 0.2945, 'bare': 0.0}"
      ]
     },
     "execution_count": 5,
     "metadata": {},
     "output_type": "execute_result"
    }
   ],
   "source": [
    "corrections_dict"
   ]
  },
  {
   "cell_type": "raw",
   "metadata": {},
   "source": [
    "\n",
    "\n",
    "\n",
    "\n",
    "\n",
    "\n",
    "\n",
    "\n",
    "\n",
    "\n"
   ]
  },
  {
   "cell_type": "code",
   "execution_count": 6,
   "metadata": {},
   "outputs": [],
   "source": [
    "# ads_spec = \"oh\"\n",
    "\n",
    "# corr_i = (0. + \\\n",
    "\n",
    "#     + ( 0. + \\\n",
    "#         + tmp_dict[ads_spec][\"zpe\"] +  \\\n",
    "#         + tmp_dict[ads_spec][\"cv\"] + \\\n",
    "#         - tmp_dict[ads_spec][\"ts\"]  \n",
    "#         ) + \\\n",
    "\n",
    "#     - (0. + \\\n",
    "#         + h2o_corr + \\\n",
    "#         + ((1. - 1. * 2.) / 2.) * h2_corr\n",
    "#         )\n",
    "#     )\n",
    "\n",
    "\n",
    "# print(tmp)"
   ]
  },
  {
   "cell_type": "code",
   "execution_count": 7,
   "metadata": {},
   "outputs": [],
   "source": [
    "# dataframe_dir = os.path.join(\n",
    "#     os.environ[\"PROJ_irox\"],\n",
    "#     \"data\",\n",
    "#     )\n",
    "\n",
    "# from an_data_processing import load_df\n",
    "# df_pourbaix, df_ads, df_surf = load_df(\n",
    "#     from_file=False,\n",
    "#     root_dir=dataframe_dir,\n",
    "#     data_dir=dataframe_dir,  \n",
    "#     file_name=\"df_master.pickle\",\n",
    "#     process_df=True,\n",
    "#     )\n",
    "# df_m = df_ads"
   ]
  },
  {
   "cell_type": "code",
   "execution_count": 8,
   "metadata": {},
   "outputs": [],
   "source": [
    "# import pandas as pd\n",
    "# pd.set_option(\"display.max_columns\", None)\n",
    "# pd.set_option('display.max_rows', None)\n",
    "# from ase import io\n",
    "# from orr_reaction.orr_fed_plot import ORR_Free_E_Plot\n",
    "# from orr_reaction.orr_fed_plot import Scaling_Relations_Plot\n",
    "# import plotly.plotly as py\n",
    "# import copy"
   ]
  }
 ],
 "metadata": {
  "kernel_info": {
   "name": "python3"
  },
  "kernelspec": {
   "display_name": "Python 3",
   "language": "python",
   "name": "python3"
  },
  "language_info": {
   "codemirror_mode": {
    "name": "ipython",
    "version": 3
   },
   "file_extension": ".py",
   "mimetype": "text/x-python",
   "name": "python",
   "nbconvert_exporter": "python",
   "pygments_lexer": "ipython3",
   "version": "3.6.6"
  },
  "nteract": {
   "version": "0.9.1"
  }
 },
 "nbformat": 4,
 "nbformat_minor": 2
}
