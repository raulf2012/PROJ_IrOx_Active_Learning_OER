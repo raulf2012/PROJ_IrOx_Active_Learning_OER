{
 "cells": [
  {
   "cell_type": "markdown",
   "metadata": {},
   "source": [
    "# Checking OER Adsorbate Structures\n",
    "___"
   ]
  },
  {
   "cell_type": "markdown",
   "metadata": {},
   "source": [
    "# Import Modules"
   ]
  },
  {
   "cell_type": "code",
   "execution_count": 1,
   "metadata": {},
   "outputs": [],
   "source": [
    "%%capture\n",
    "%load_ext autoreload\n",
    "%autoreload 2"
   ]
  },
  {
   "cell_type": "code",
   "execution_count": 2,
   "metadata": {},
   "outputs": [
    {
     "name": "stdout",
     "output_type": "stream",
     "text": [
      "Divisor is Energy class instance!!!\n",
      "Divisor is Energy class instance!!!\n",
      "TEMP TEMP TEMPTEMP TEMP TEMPTEMP TEMP TEMPTEMP TEMP TEMPTEMP TEMP TEMPTEMP TEMP TEMPTEMP TEMP TEMPTEMP TEMP TEMPTEMP TEMP TEMPTEMP TEMP TEMPTEMP TEMP TEMPTEMP TEMP TEMPTEMP TEMP TEMPTEMP TEMP TEMPTEMP TEMP TEMPTEMP TEMP TEMPTEMP TEMP TEMPTEMP TEMP TEMPTEMP TEMP TEMPTEMP TEMP TEMP\n",
      "-7.45942759\n",
      "-3.38574595\n"
     ]
    }
   ],
   "source": [
    "# Setting Custom Paths ********************************************************\n",
    "# *****************************************************************************\n",
    "import os\n",
    "import sys\n",
    "\n",
    "sys.path.insert(0, os.path.join(\n",
    "        os.environ[\"PROJ_irox\"],\n",
    "        \"data\"))\n",
    "\n",
    "sys.path.insert(0, os.path.join(\n",
    "        os.environ[\"PROJ_irox\"],\n",
    "        \"workflow\"))\n",
    "\n",
    "# Python Modules **************************************************************\n",
    "# *****************************************************************************\n",
    "from ase.visualize import view\n",
    "\n",
    "# My Modules ******************************************************************\n",
    "# *****************************************************************************\n",
    "\n",
    "# Local Imports ***************************************************************\n",
    "# *****************************************************************************\n",
    "from an_data_processing import load_df\n",
    "\n",
    "# Project Data\n",
    "from proj_data_irox import (\n",
    "    data_dir,\n",
    "    )"
   ]
  },
  {
   "cell_type": "code",
   "execution_count": 3,
   "metadata": {},
   "outputs": [],
   "source": [
    "df_pourbaix, df_ads, df_surf = load_df(\n",
    "    from_file=False,\n",
    "    root_dir=data_dir,\n",
    "    data_dir=data_dir + \"/190103_new_job_df\",\n",
    "    file_name=\"df_master.pickle\",\n",
    "    process_df=True,\n",
    "    )"
   ]
  },
  {
   "cell_type": "code",
   "execution_count": 4,
   "metadata": {},
   "outputs": [],
   "source": [
    "df_oh = df_ads[df_ads[\"adsorbate\"] == \"oh\"]\n",
    "\n",
    "\n",
    "atoms_list = []\n",
    "for traj_i in df_oh[\"atoms_object\"].tolist():\n",
    "    atoms_list.append(traj_i[-1])"
   ]
  },
  {
   "cell_type": "code",
   "execution_count": 5,
   "metadata": {},
   "outputs": [],
   "source": [
    "view(atoms_list)"
   ]
  }
 ],
 "metadata": {
  "kernelspec": {
   "display_name": "Python 3",
   "language": "python",
   "name": "python3"
  },
  "language_info": {
   "codemirror_mode": {
    "name": "ipython",
    "version": 3
   },
   "file_extension": ".py",
   "mimetype": "text/x-python",
   "name": "python",
   "nbconvert_exporter": "python",
   "pygments_lexer": "ipython3",
   "version": "3.6.7"
  }
 },
 "nbformat": 4,
 "nbformat_minor": 2
}
