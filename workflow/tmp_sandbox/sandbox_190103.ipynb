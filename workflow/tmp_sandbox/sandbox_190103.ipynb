{
 "cells": [
  {
   "cell_type": "code",
   "execution_count": 1,
   "metadata": {},
   "outputs": [],
   "source": [
    "import plotly.plotly as py\n",
    "import plotly.graph_objs as go\n"
   ]
  },
  {
   "cell_type": "code",
   "execution_count": 5,
   "metadata": {},
   "outputs": [
    {
     "data": {
      "text/plain": [
       "\u001b[0;31mType:\u001b[0m        property\n",
       "\u001b[0;31mString form:\u001b[0m <property object at 0x7fe88a926d68>\n",
       "\u001b[0;31mDocstring:\u001b[0m  \n",
       "Sets the text font.\n",
       "\n",
       "The 'textfont' property is an instance of Textfont\n",
       "that may be specified as:\n",
       "  - An instance of plotly.graph_objs.scatter.Textfont\n",
       "  - A dict of string/value properties that will be passed\n",
       "    to the Textfont constructor\n",
       "\n",
       "    Supported dict properties:\n",
       "        \n",
       "        color\n",
       "\n",
       "        colorsrc\n",
       "            Sets the source reference on plot.ly for  color\n",
       "            .\n",
       "        family\n",
       "            HTML font family - the typeface that will be\n",
       "            applied by the web browser. The web browser\n",
       "            will only be able to apply a font if it is\n",
       "            available on the system which it operates.\n",
       "            Provide multiple font families, separated by\n",
       "            commas, to indicate the preference in which to\n",
       "            apply fonts if they aren't available on the\n",
       "            system. The plotly service (at https://plot.ly\n",
       "            or on-premise) generates images on a server,\n",
       "            where only a select number of fonts are\n",
       "            installed and supported. These include \"Arial\",\n",
       "            \"Balto\", \"Courier New\", \"Droid Sans\",, \"Droid\n",
       "            Serif\", \"Droid Sans Mono\", \"Gravitas One\", \"Old\n",
       "            Standard TT\", \"Open Sans\", \"Overpass\", \"PT Sans\n",
       "            Narrow\", \"Raleway\", \"Times New Roman\".\n",
       "        familysrc\n",
       "            Sets the source reference on plot.ly for\n",
       "            family .\n",
       "        size\n",
       "\n",
       "        sizesrc\n",
       "            Sets the source reference on plot.ly for  size\n",
       "            .\n",
       "\n",
       "Returns\n",
       "-------\n",
       "plotly.graph_objs.scatter.Textfont\n"
      ]
     },
     "metadata": {},
     "output_type": "display_data"
    }
   ],
   "source": [
    "go.Scatter.textfont?"
   ]
  }
 ],
 "metadata": {
  "kernelspec": {
   "display_name": "Python 3",
   "language": "python",
   "name": "python3"
  },
  "language_info": {
   "codemirror_mode": {
    "name": "ipython",
    "version": 3
   },
   "file_extension": ".py",
   "mimetype": "text/x-python",
   "name": "python",
   "nbconvert_exporter": "python",
   "pygments_lexer": "ipython3",
   "version": "3.6.7"
  }
 },
 "nbformat": 4,
 "nbformat_minor": 2
}
