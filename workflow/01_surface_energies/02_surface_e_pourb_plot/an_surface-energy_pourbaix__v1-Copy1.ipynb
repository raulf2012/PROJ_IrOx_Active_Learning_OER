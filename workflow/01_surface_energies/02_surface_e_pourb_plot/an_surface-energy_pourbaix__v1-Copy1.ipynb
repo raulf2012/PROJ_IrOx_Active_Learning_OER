{
 "cells": [
  {
   "cell_type": "markdown",
   "metadata": {},
   "source": [
    "# Surface Energy Pourbaix Analysis\n",
    "\n",
    "***\n",
    "\n",
    "Remember to remove TEMP | Artifically add IrO3_battery row"
   ]
  },
  {
   "cell_type": "markdown",
   "metadata": {
    "toc-hr-collapsed": true
   },
   "source": [
    "# Notebook Setup"
   ]
  },
  {
   "cell_type": "markdown",
   "metadata": {},
   "source": [
    "## Import Modules"
   ]
  },
  {
   "cell_type": "code",
   "execution_count": 1,
   "metadata": {},
   "outputs": [],
   "source": [
    "%%capture\n",
    "%load_ext autoreload\n",
    "%autoreload 2"
   ]
  },
  {
   "cell_type": "code",
   "execution_count": 2,
   "metadata": {},
   "outputs": [
    {
     "name": "stdout",
     "output_type": "stream",
     "text": [
      "Divisor is Energy class instance!!!\n",
      "Divisor is Energy class instance!!!\n",
      "TEMP TEMP TEMPTEMP TEMP TEMPTEMP TEMP TEMPTEMP TEMP TEMPTEMP TEMP TEMPTEMP TEMP TEMPTEMP TEMP TEMPTEMP TEMP TEMPTEMP TEMP TEMPTEMP TEMP TEMPTEMP TEMP TEMPTEMP TEMP TEMPTEMP TEMP TEMPTEMP TEMP TEMPTEMP TEMP TEMPTEMP TEMP TEMPTEMP TEMP TEMPTEMP TEMP TEMPTEMP TEMP TEMPTEMP TEMP TEMP\n",
      "-7.45942759\n",
      "-3.38574595\n"
     ]
    }
   ],
   "source": [
    "import sys\n",
    "import os\n",
    "\n",
    "sys.path.insert(\n",
    "    0,\n",
    "    os.path.join(\n",
    "        os.environ[\"PROJ_irox\"],\n",
    "        \"workflow\"))\n",
    "\n",
    "sys.path.insert(\n",
    "    0,\n",
    "    os.path.join(\n",
    "        os.environ[\"PROJ_irox\"],\n",
    "        \"data\"))\n",
    "\n",
    "from an_data_processing import load_df\n",
    "\n",
    "###########################################################\n",
    "###########################################################\n",
    "import pandas as pd\n",
    "\n",
    "import plotly as py\n",
    "import chart_studio.plotly as py\n",
    "\n",
    "import plotly.offline as py_off\n",
    "import plotly.graph_objs as go\n",
    "from plotly import tools\n",
    "\n",
    "\n",
    "# My Modules\n",
    "\n",
    "###########################################################\n",
    "###########################################################\n",
    "\n",
    "# Data Script Variable Import\n",
    "from proj_data_irox import (\n",
    "    bulk_e_per_atom_dict,\n",
    "    )\n",
    "\n",
    "from proj_data_irox import (\n",
    "    h2_ref,\n",
    "    h2o_ref,\n",
    "    proj_dir_name,\n",
    "    system_names_dict,\n",
    "    data_dir,\n",
    "    irox_bulk_color_map,\n",
    "    irox_surface_e_color_map,\n",
    "    bulk_pourb_trans_dict,\n",
    "    )\n",
    "\n",
    "from methods_surf_e import (\n",
    "#     surf_e_4,\n",
    "    make_color_subplot_list,\n",
    "    process_row,\n",
    "    add_convex_hull,\n",
    "    )"
   ]
  },
  {
   "cell_type": "code",
   "execution_count": 26,
   "metadata": {},
   "outputs": [
    {
     "data": {
      "text/plain": [
       "-14.23091949"
      ]
     },
     "execution_count": 26,
     "metadata": {},
     "output_type": "execute_result"
    }
   ],
   "source": [
    "h2_ref\n",
    "\n",
    "h2o_ref"
   ]
  },
  {
   "cell_type": "code",
   "execution_count": 3,
   "metadata": {},
   "outputs": [],
   "source": [
    "from surface_energy.surface_energy import surf_e_4"
   ]
  },
  {
   "cell_type": "markdown",
   "metadata": {},
   "source": [
    "## Script Inputs"
   ]
  },
  {
   "cell_type": "code",
   "execution_count": 4,
   "metadata": {},
   "outputs": [],
   "source": [
    "O_mu_range = [-0., 2.4]\n",
    "surf_e_range = [-0.1, 0.3]\n",
    "\n",
    "opacity_rect = 0.3\n",
    "\n",
    "save_plot = False\n",
    "\n",
    "['001', '010', '100', '110', '111', '211']\n",
    "\n",
    "smart_format_dict = [\n",
    "    [{\"facet\": \"001\"}, {\"dash\": \"solid\"}],\n",
    "    [{\"facet\": \"010\"}, {\"dash\": \"32px,2px,32px,2px\"}],\n",
    "    [{\"facet\": \"100\"}, {\"dash\": \"16px,2px,16px,2px\"}],\n",
    "    [{\"facet\": \"110\"}, {\"dash\": \"8px,2px,8px,2px\"}],\n",
    "    [{\"facet\": \"111\"}, {\"dash\": \"4px,2px,4px,2px\"}],\n",
    "    [{\"facet\": \"211\"}, {\"dash\": \"2px,2px,2px,2px\"}],\n",
    "    ]\n",
    "\n",
    "smart_format_dict = [\n",
    "    [{\"facet\": \"001\"}, {\"dash\": \"solid\"}],\n",
    "    [{\"facet\": \"010\"}, {\"dash\": \"solid\"}],\n",
    "    [{\"facet\": \"100\"}, {\"dash\": \"solid\"}],\n",
    "    [{\"facet\": \"110\"}, {\"dash\": \"solid\"}],\n",
    "    [{\"facet\": \"111\"}, {\"dash\": \"solid\"}],\n",
    "    [{\"facet\": \"211\"}, {\"dash\": \"solid\"}],\n",
    "    ]"
   ]
  },
  {
   "cell_type": "markdown",
   "metadata": {
    "toc-hr-collapsed": true
   },
   "source": [
    "# Load and Process Data"
   ]
  },
  {
   "cell_type": "markdown",
   "metadata": {},
   "source": [
    "## Load Data"
   ]
  },
  {
   "cell_type": "code",
   "execution_count": 5,
   "metadata": {},
   "outputs": [],
   "source": [
    "%%capture\n",
    "\n",
    "df_pourbaix, df_ads, df_surf = load_df(\n",
    "    from_file=False, root_dir=data_dir,\n",
    "    data_dir=data_dir, file_name=\"df_master.pickle\",\n",
    "    process_df=True)\n",
    "\n",
    "df_m = df_surf"
   ]
  },
  {
   "cell_type": "markdown",
   "metadata": {},
   "source": [
    "## Process Data"
   ]
  },
  {
   "cell_type": "code",
   "execution_count": 6,
   "metadata": {},
   "outputs": [],
   "source": [
    "# Filter the jobs that were unsuccessful\n",
    "df_m = df_m[[not i for i in pd.isna(df_m[\"elec_energy\"].tolist())]]\n",
    "df_m[\"name_i_3\"] = df_m[\"name_i_2\"] + \"_\" + df_m[\"layers\"].apply(str)\n",
    "df_m[\"surf_e_0\"] = df_m.apply(\n",
    "    surf_e_4,\n",
    "    G_H2=h2_ref,\n",
    "    G_H2O=h2o_ref,\n",
    "    axis=1,\n",
    "    )\n",
    "\n",
    "df_m = df_m[df_m[\"job_type\"] == \"surface_coverage_energy\"]"
   ]
  },
  {
   "cell_type": "markdown",
   "metadata": {},
   "source": [
    "## Removing Some Data to Simplify Plot"
   ]
  },
  {
   "cell_type": "code",
   "execution_count": 7,
   "metadata": {},
   "outputs": [],
   "source": [
    "rows_to_drop_indices = []\n",
    "\n",
    "# indices_i = df_m[\n",
    "#     (df_m[\"bulk_system\"] == \"IrO3\") &\n",
    "#     (df_m[\"coverage_type\"] == \"o_covered\") &\n",
    "#     (df_m[\"facet\"] == \"100\") &\n",
    "#     [True for i in range(len(df_m))]\n",
    "#     ].index.tolist()\n",
    "# assert len(indices_i) == 1, \"More than 1 structure with these props\"\n",
    "# rows_to_drop_indices.append(indices_i[0])\n",
    "\n",
    "# indices_i = df_m[\n",
    "#     (df_m[\"bulk_system\"] == \"IrO3\") &\n",
    "#     (df_m[\"coverage_type\"] == \"o_covered\") &\n",
    "#     (df_m[\"facet\"] == \"211\") &\n",
    "#     [True for i in range(len(df_m))]\n",
    "#     ].index.tolist()\n",
    "# assert len(indices_i) == 1, \"More than 1 structure with these props\"\n",
    "# rows_to_drop_indices.append(indices_i[0])\n",
    "\n",
    "# #############################################################################\n",
    "# #############################################################################\n",
    "\n",
    "indices_i = df_m[\n",
    "    (df_m[\"bulk_system\"] == \"IrO3\") &\n",
    "    (df_m[\"coverage_type\"] == \"bare\") &\n",
    "    (df_m[\"facet\"] == \"211\") &\n",
    "    [True for i in range(len(df_m))]\n",
    "#     ]\n",
    "    ].index.tolist()\n",
    "assert len(indices_i) == 1, \"More than 1 structure with these props\"\n",
    "rows_to_drop_indices.append(indices_i[0])\n",
    "\n",
    "indices_i = df_m[\n",
    "    (df_m[\"bulk_system\"] == \"IrO3\") &\n",
    "    (df_m[\"coverage_type\"] == \"bare\") &\n",
    "    (df_m[\"facet\"] == \"100\") &\n",
    "    [True for i in range(len(df_m))]\n",
    "#     ]\n",
    "    ].index.tolist()\n",
    "assert len(indices_i) == 1, \"More than 1 structure with these props\"\n",
    "rows_to_drop_indices.append(indices_i[0])\n",
    "\n",
    "\n",
    "# #############################################################################\n",
    "# #############################################################################\n",
    "\n",
    "indices_i = df_m[\n",
    "    (df_m[\"bulk_system\"] == \"IrO3_rutile-like\") &\n",
    "    (df_m[\"coverage_type\"] == \"bare\") &\n",
    "    (df_m[\"facet\"] == \"001\") &\n",
    "    [True for i in range(len(df_m))]\n",
    "#     ]\n",
    "    ].index.tolist()\n",
    "assert len(indices_i) == 1, \"More than 1 structure with these props\"\n",
    "rows_to_drop_indices.append(indices_i[0])\n",
    "\n",
    "indices_i = df_m[\n",
    "    (df_m[\"bulk_system\"] == \"IrO3_rutile-like\") &\n",
    "    (df_m[\"coverage_type\"] == \"o_covered\") &\n",
    "    (df_m[\"facet\"] == \"001\") &\n",
    "    [True for i in range(len(df_m))]\n",
    "    ].index.tolist()\n",
    "assert len(indices_i) == 1, \"More than 1 structure with these props\"\n",
    "rows_to_drop_indices.append(indices_i[0])\n",
    "\n",
    "indices_i = df_m[\n",
    "    (df_m[\"bulk_system\"] == \"IrO3_rutile-like\") &\n",
    "    (df_m[\"coverage_type\"] == \"h_covered\") &\n",
    "    (df_m[\"facet\"] == \"001\") &\n",
    "    [True for i in range(len(df_m))]\n",
    "    ].index.tolist()\n",
    "assert len(indices_i) == 1, \"More than 1 structure with these props\"\n",
    "rows_to_drop_indices.append(indices_i[0])\n",
    "\n",
    "# #############################################################################\n",
    "# #############################################################################\n",
    "\n",
    "\n",
    "df_m = df_m.drop(labels=rows_to_drop_indices)"
   ]
  },
  {
   "cell_type": "markdown",
   "metadata": {},
   "source": [
    "# Surface vs Oxygen Chemical Potential Plots"
   ]
  },
  {
   "cell_type": "code",
   "execution_count": 8,
   "metadata": {},
   "outputs": [],
   "source": [
    "traces_IrO2 = []\n",
    "traces_IrO3 = []\n",
    "traces_IrO3_rutile_like = []\n",
    "traces_IrO3_battery = []\n",
    "\n",
    "for i_cnt, row_i in df_m.iterrows():   \n",
    "    trace = process_row(\n",
    "        row_i,\n",
    "        mesh_eval=False,\n",
    "        xy_axis=(\"x\", \"y\"),\n",
    "        O_mu_range=O_mu_range,\n",
    "        bulk_e_per_atom_dict=bulk_e_per_atom_dict,\n",
    "        h2_ref=h2_ref,\n",
    "        h2o_ref=h2o_ref,\n",
    "        smart_format_dict=smart_format_dict,\n",
    "        irox_surface_e_color_map=irox_surface_e_color_map,\n",
    "        )\n",
    "\n",
    "    if row_i[\"bulk_system\"] == \"IrO2\":\n",
    "        traces_IrO2.append(trace)\n",
    "    elif row_i[\"bulk_system\"] == \"IrO3\":\n",
    "        traces_IrO3.append(trace)\n",
    "    elif row_i[\"bulk_system\"] == \"IrO3_rutile-like\":\n",
    "        traces_IrO3_rutile_like.append(trace)\n",
    "    elif row_i[\"bulk_system\"] == \"IrO3_battery\":\n",
    "        traces_IrO3_battery.append(trace)"
   ]
  },
  {
   "cell_type": "markdown",
   "metadata": {},
   "source": [
    "# IrO2 Surface Energies vs V_RHE"
   ]
  },
  {
   "cell_type": "markdown",
   "metadata": {},
   "source": [
    "# Adding OER Equilibrium Line (1.23)"
   ]
  },
  {
   "cell_type": "code",
   "execution_count": 9,
   "metadata": {},
   "outputs": [],
   "source": [
    "trace_1_23 = go.Scatter(\n",
    "    x= 2 * [1.23],\n",
    "    y=surf_e_range,\n",
    "    mode='lines',\n",
    "    name=\"1.23\",\n",
    "    line = dict(\n",
    "        color=\"black\",\n",
    "        width=1,\n",
    "        dash=\"dot\",\n",
    "        ))\n",
    "\n",
    "traces_IrO2.append(trace_1_23)\n",
    "traces_IrO3.append(trace_1_23)\n",
    "traces_IrO3_rutile_like.append(trace_1_23)\n",
    "traces_IrO3_battery.append(trace_1_23)"
   ]
  },
  {
   "cell_type": "markdown",
   "metadata": {},
   "source": [
    "# Adding Convex Hull"
   ]
  },
  {
   "cell_type": "code",
   "execution_count": 10,
   "metadata": {},
   "outputs": [],
   "source": [
    "num_mesh_points = 250\n",
    "\n",
    "conv_hull_i = add_convex_hull(\n",
    "    df_m[(df_m[\"bulk_system\"] == \"IrO2\")],\n",
    "    O_mu_range=O_mu_range,\n",
    "    bulk_e_per_atom_dict=bulk_e_per_atom_dict,\n",
    "    h2_ref=h2_ref,\n",
    "    h2o_ref=h2o_ref,\n",
    "    smart_format_dict=smart_format_dict,\n",
    "    irox_surface_e_color_map=irox_surface_e_color_map,\n",
    "    num_mesh_points=num_mesh_points,\n",
    "    )\n",
    "traces_IrO2.append(conv_hull_i)\n",
    "\n",
    "\n",
    "conv_hull_i = add_convex_hull(df_m[\n",
    "    (df_m[\"bulk_system\"] == \"IrO3\")],\n",
    "    O_mu_range=O_mu_range,\n",
    "    bulk_e_per_atom_dict=bulk_e_per_atom_dict,\n",
    "    h2_ref=h2_ref,\n",
    "    h2o_ref=h2o_ref,\n",
    "    smart_format_dict=smart_format_dict,\n",
    "    irox_surface_e_color_map=irox_surface_e_color_map,\n",
    "    num_mesh_points=num_mesh_points,\n",
    "    )\n",
    "traces_IrO3.append(conv_hull_i)\n",
    "\n",
    "\n",
    "conv_hull_i = add_convex_hull(\n",
    "    df_m[(df_m[\"bulk_system\"] == \"IrO3_rutile-like\")],\n",
    "    O_mu_range=O_mu_range,\n",
    "    bulk_e_per_atom_dict=bulk_e_per_atom_dict,\n",
    "    h2_ref=h2_ref,\n",
    "    h2o_ref=h2o_ref,\n",
    "    smart_format_dict=smart_format_dict,\n",
    "    irox_surface_e_color_map=irox_surface_e_color_map,\n",
    "    num_mesh_points=num_mesh_points,\n",
    "    )\n",
    "traces_IrO3_rutile_like.append(conv_hull_i)\n",
    "\n",
    "\n",
    "conv_hull_i = add_convex_hull(\n",
    "    df_m[(df_m[\"bulk_system\"] == \"IrO3_battery\")],\n",
    "    O_mu_range=O_mu_range,\n",
    "    bulk_e_per_atom_dict=bulk_e_per_atom_dict,\n",
    "    h2_ref=h2_ref,\n",
    "    h2o_ref=h2o_ref,\n",
    "    smart_format_dict=smart_format_dict,\n",
    "    irox_surface_e_color_map=irox_surface_e_color_map,\n",
    "    num_mesh_points=num_mesh_points,\n",
    "    )\n",
    "traces_IrO3_battery.append(conv_hull_i)"
   ]
  },
  {
   "cell_type": "markdown",
   "metadata": {
    "toc-hr-collapsed": true
   },
   "source": [
    "# Plotting"
   ]
  },
  {
   "cell_type": "markdown",
   "metadata": {},
   "source": [
    "## Instantiate subplots"
   ]
  },
  {
   "cell_type": "code",
   "execution_count": 11,
   "metadata": {},
   "outputs": [
    {
     "name": "stderr",
     "output_type": "stream",
     "text": [
      "/home/raul_desktop/anaconda2/envs/research-new/lib/python3.6/site-packages/plotly/tools.py:465: DeprecationWarning:\n",
      "\n",
      "plotly.tools.make_subplots is deprecated, please use plotly.subplots.make_subplots instead\n",
      "\n"
     ]
    }
   ],
   "source": [
    "fig = tools.make_subplots(\n",
    "    rows=2,\n",
    "    cols=2,\n",
    "    vertical_spacing=0.1,\n",
    "    subplot_titles=(\n",
    "        system_names_dict[\"IrO2\"],\n",
    "        system_names_dict[\"IrO3\"],\n",
    "        system_names_dict[\"IrO3_rutile-like\"],\n",
    "        system_names_dict[\"IrO3_battery\"],\n",
    "        ),\n",
    "    )\n",
    "\n",
    "for trace_i in traces_IrO2:\n",
    "    fig.append_trace(trace_i, 1, 1)    \n",
    "for trace_i in traces_IrO3:\n",
    "    fig.append_trace(trace_i, 1, 2)\n",
    "for trace_i in traces_IrO3_rutile_like:\n",
    "    fig.append_trace(trace_i, 2, 1)\n",
    "for trace_i in traces_IrO3_battery:\n",
    "    fig.append_trace(trace_i, 2, 2)\n",
    "\n",
    "# fig = go.Figure(data=data, layout=layout)"
   ]
  },
  {
   "cell_type": "markdown",
   "metadata": {
    "toc-hr-collapsed": false
   },
   "source": [
    "## Plot Layout Settings"
   ]
  },
  {
   "cell_type": "markdown",
   "metadata": {},
   "source": [
    "### Common axis settings"
   ]
  },
  {
   "cell_type": "code",
   "execution_count": 12,
   "metadata": {},
   "outputs": [],
   "source": [
    "common_axis_dict = {\n",
    "    \"mirror\": 'ticks',\n",
    "    \"zeroline\": True,\n",
    "    \"showline\": True,\n",
    "    \"linecolor\": \"black\",\n",
    "    \"showgrid\": False,\n",
    "    \n",
    "#     \"autotick\": False,\n",
    "    \"ticks\": 'inside',\n",
    "    \"tick0\": 0,\n",
    "    \"dtick\": 0.5,\n",
    "    \"ticklen\": 2,\n",
    "    \"tickwidth\": 1,\n",
    "    \"tickcolor\": 'black',\n",
    "    \n",
    "    \"zerolinecolor\": 'black',\n",
    "    \"zerolinewidth\": 0.4,\n",
    "    \"linecolor\": 'black',\n",
    "    \"linewidth\": 1,\n",
    "    }\n",
    "        \n",
    "common_xaxis_dict = {\n",
    "    }\n",
    "\n",
    "common_yaxis_dict = {\n",
    "    \"range\": surf_e_range,\n",
    "    }\n",
    "\n",
    "# layout[\"title\"] = \"Surface Pourbaix Plots\"\n",
    "# layout[\"font\"] = {\"family\": \"Arial\", \"color\": \"black\"}"
   ]
  },
  {
   "cell_type": "markdown",
   "metadata": {},
   "source": [
    "### Additional layout settings"
   ]
  },
  {
   "cell_type": "code",
   "execution_count": 13,
   "metadata": {},
   "outputs": [],
   "source": [
    "font_size_axis_title = 16 * (4/3)\n",
    "font_size_subplot_title = 12. * (4/3)\n",
    "\n",
    "# Changing the subplot title font size\n",
    "for i in fig[\"layout\"][\"annotations\"]:\n",
    "    i[\"font\"][\"size\"] = font_size_subplot_title \n",
    "\n",
    "fig[\"layout\"].update({\n",
    "\n",
    "    \"font\":dict(\n",
    "        family='Arial',\n",
    "#         size=18,\n",
    "        color='black',\n",
    "        ),\n",
    "    \n",
    "    \"xaxis\": common_axis_dict,\n",
    "    \"xaxis1\": common_axis_dict,\n",
    "    \"xaxis2\": common_axis_dict,\n",
    "    \"xaxis3\": common_axis_dict,\n",
    "    \"xaxis4\": common_axis_dict,\n",
    "    \n",
    "    \"yaxis\": dict(common_axis_dict, **common_yaxis_dict),\n",
    "    \"yaxis1\": dict(common_axis_dict, **common_yaxis_dict),\n",
    "    \"yaxis2\": dict(common_axis_dict, **common_yaxis_dict),\n",
    "    \"yaxis3\": dict(common_axis_dict, **common_yaxis_dict),\n",
    "    \"yaxis4\": dict(common_axis_dict, **common_yaxis_dict),\n",
    "\n",
    "    \n",
    "    \"width\": 18.7 * 37.795275591,\n",
    "    \"height\": 18.7 * 37.795275591,\n",
    "\n",
    "#     \"width\": 12.7 * 37.795275591,\n",
    "#     \"height\": 12.7 * 37.795275591,\n",
    "\n",
    "    \"showlegend\": False,\n",
    "    })\n",
    "\n",
    "fig[\"layout\"][\"annotations\"] = fig[\"layout\"][\"annotations\"] + \\\n",
    "    (\n",
    "        dict(\n",
    "            x=0.5,\n",
    "            y=-0.11,\n",
    "            showarrow=False,\n",
    "            text='Voltage (V)',\n",
    "            xref='paper',\n",
    "            yref='paper',\n",
    "            font=dict(\n",
    "                color=\"black\",\n",
    "                size=font_size_axis_title,\n",
    "                ),\n",
    "            ),\n",
    "        dict(\n",
    "            x=-0.12,\n",
    "            y=0.27,\n",
    "            showarrow=False,\n",
    "            text='Surface Free Energy (eV / A<sup>2</sup>)',\n",
    "            textangle=-90,\n",
    "            xref='paper',\n",
    "            yref='paper',\n",
    "            font=dict(\n",
    "                color=\"black\",\n",
    "                size=font_size_axis_title,\n",
    "                ),\n",
    "            ),\n",
    "        )"
   ]
  },
  {
   "cell_type": "markdown",
   "metadata": {},
   "source": [
    "### Adding in shade rectangle"
   ]
  },
  {
   "cell_type": "code",
   "execution_count": 14,
   "metadata": {},
   "outputs": [],
   "source": [
    "bulk_stability_shading = [] + \\\n",
    "    make_color_subplot_list(\n",
    "        subplot_num=1,\n",
    "        plot_range=O_mu_range,\n",
    "        bulk_pourb_trans_dict=bulk_pourb_trans_dict,\n",
    "        irox_bulk_color_map=irox_bulk_color_map, opacity=opacity_rect) + \\\n",
    "    make_color_subplot_list(\n",
    "        subplot_num=2,\n",
    "        plot_range=O_mu_range,\n",
    "        bulk_pourb_trans_dict=bulk_pourb_trans_dict,\n",
    "        irox_bulk_color_map=irox_bulk_color_map, opacity=opacity_rect) + \\\n",
    "    make_color_subplot_list(\n",
    "        subplot_num=3,\n",
    "        plot_range=O_mu_range,\n",
    "        bulk_pourb_trans_dict=bulk_pourb_trans_dict,\n",
    "        irox_bulk_color_map=irox_bulk_color_map, opacity=opacity_rect) + \\\n",
    "    make_color_subplot_list(\n",
    "        subplot_num=4,\n",
    "        plot_range=O_mu_range,\n",
    "        bulk_pourb_trans_dict=bulk_pourb_trans_dict,\n",
    "        irox_bulk_color_map=irox_bulk_color_map, opacity=opacity_rect)\n",
    "\n",
    "fig[\"layout\"][\"shapes\"] = bulk_stability_shading"
   ]
  },
  {
   "cell_type": "markdown",
   "metadata": {},
   "source": [
    "## Plot Out"
   ]
  },
  {
   "cell_type": "code",
   "execution_count": 15,
   "metadata": {},
   "outputs": [
    {
     "data": {
      "text/html": [
       "\n",
       "        <iframe\n",
       "            width=\"706.7716535517px\"\n",
       "            height=\"706.7716535517px\"\n",
       "            src=\"https://plot.ly/~flores12/612.embed\"\n",
       "            frameborder=\"0\"\n",
       "            allowfullscreen\n",
       "        ></iframe>\n",
       "        "
      ],
      "text/plain": [
       "<IPython.lib.display.IFrame at 0x7f3f2eca1ef0>"
      ]
     },
     "execution_count": 15,
     "metadata": {},
     "output_type": "execute_result"
    }
   ],
   "source": [
    "import datetime\n",
    "now = datetime.datetime.now()\n",
    "date_i = now.strftime(\"%Y-%m-%d\")\n",
    "\n",
    "if save_plot:\n",
    "    save_dir = proj_dir_name\n",
    "else:\n",
    "    save_dir = \"__temp__\"\n",
    "\n",
    "py_off.plot(\n",
    "    fig,\n",
    "    filename=os.path.join(\"local_plots\", \"out_plot_00_\" + date_i + \".html\"))\n",
    "\n",
    "py.plotly.iplot(\n",
    "    fig,\n",
    "    filename=os.path.join(save_dir, \"surface_pourbaix\", \"pl_surface_pourbaix_subplots\"),\n",
    "    )"
   ]
  },
  {
   "cell_type": "code",
   "execution_count": 16,
   "metadata": {},
   "outputs": [
    {
     "data": {
      "text/html": [
       "\n",
       "        <iframe\n",
       "            width=\"1060.1574803275498px\"\n",
       "            height=\"1060.1574803275498px\"\n",
       "            src=\"https://plot.ly/~flores12/2947.embed\"\n",
       "            frameborder=\"0\"\n",
       "            allowfullscreen\n",
       "        ></iframe>\n",
       "        "
      ],
      "text/plain": [
       "<IPython.lib.display.IFrame at 0x7f3f2ac099b0>"
      ]
     },
     "execution_count": 16,
     "metadata": {},
     "output_type": "execute_result"
    }
   ],
   "source": [
    "fig[\"layout\"][\"width\"] = 1.5 * 18.7 * 37.795275591\n",
    "fig[\"layout\"][\"height\"] = 1.5 * 18.7 * 37.795275591\n",
    "\n",
    "py.plotly.iplot(\n",
    "    fig,\n",
    "    filename=os.path.join(save_dir, \"surface_pourbaix\", \"pl_surface_pourbaix_subplots__large\"),\n",
    "    )"
   ]
  },
  {
   "cell_type": "markdown",
   "metadata": {},
   "source": [
    "# Plotting Plots Separately"
   ]
  },
  {
   "cell_type": "code",
   "execution_count": 17,
   "metadata": {},
   "outputs": [],
   "source": [
    "common_yaxis_dict = {\n",
    "    **common_yaxis_dict,\n",
    "    **{\n",
    "        \"zeroline\": False,\n",
    "        \"dtick\": 0.1,\n",
    "        }\n",
    "    }\n",
    "\n",
    "common_xaxis_dict = {\n",
    "    **common_xaxis_dict,\n",
    "    **{\n",
    "        \"zeroline\": False,\n",
    "        \"showticklabels\": False,\n",
    "        }\n",
    "    }\n",
    "\n",
    "def plot_surf_pourb_indiv(traces_list, name=\"190320_TEMP\"):\n",
    "    data_m = traces_list\n",
    "\n",
    "    for i in data_m:\n",
    "        if \"xaxis\" in i.to_plotly_json().keys():\n",
    "            i[\"xaxis\"] = \"x\"\n",
    "        if \"yaxis\" in i.to_plotly_json().keys():\n",
    "            i[\"yaxis\"] = \"y\"\n",
    "\n",
    "            \n",
    "    shapes_i = make_color_subplot_list(\n",
    "        subplot_num=1,\n",
    "        plot_range=O_mu_range,\n",
    "        bulk_pourb_trans_dict=bulk_pourb_trans_dict,\n",
    "        irox_bulk_color_map=irox_bulk_color_map, opacity=0.5)\n",
    "\n",
    "    fig1 = dict(\n",
    "        data=data_m,\n",
    "        layout={\n",
    "            \"font\":dict(\n",
    "                family='Arial',\n",
    "        #         size=18,\n",
    "                color='black',\n",
    "                ),\n",
    "            \"xaxis\": dict(common_axis_dict, **common_xaxis_dict),\n",
    "            \"yaxis\": dict(common_axis_dict, **common_yaxis_dict),\n",
    "\n",
    "            \"width\": 7.5 * 37.795275591,\n",
    "            \"height\": 5.6225 * 37.795275591,\n",
    "\n",
    "            \"margin\": go.layout.Margin(\n",
    "                l=30.0,\n",
    "                r=10.0,\n",
    "                b=50.0,\n",
    "                t=50.0,\n",
    "    #             pad=150.,\n",
    "                ),\n",
    "            \"showlegend\": False,\n",
    "\n",
    "            \n",
    "            \"shapes\": shapes_i,\n",
    "            },\n",
    "        )\n",
    "\n",
    "    return((\n",
    "        fig1,\n",
    "        os.path.join(\n",
    "            save_dir,\n",
    "#             \"__temp__\",\n",
    "            \"surface_pourbaix\", name)\n",
    "        ))"
   ]
  },
  {
   "cell_type": "code",
   "execution_count": 18,
   "metadata": {},
   "outputs": [
    {
     "data": {
      "text/html": [
       "\n",
       "        <iframe\n",
       "            width=\"283.4645669325px\"\n",
       "            height=\"212.5039370103975px\"\n",
       "            src=\"https://plot.ly/~flores12/729.embed\"\n",
       "            frameborder=\"0\"\n",
       "            allowfullscreen\n",
       "        ></iframe>\n",
       "        "
      ],
      "text/plain": [
       "<IPython.lib.display.IFrame at 0x7f3f2eca14a8>"
      ]
     },
     "execution_count": 18,
     "metadata": {},
     "output_type": "execute_result"
    }
   ],
   "source": [
    "fig, filename = plot_surf_pourb_indiv(\n",
    "    traces_IrO2,\n",
    "    name=\"traces_IrO2\")\n",
    "py.plotly.iplot(fig, filename=filename)"
   ]
  },
  {
   "cell_type": "code",
   "execution_count": 19,
   "metadata": {},
   "outputs": [
    {
     "data": {
      "text/html": [
       "\n",
       "        <iframe\n",
       "            width=\"283.4645669325px\"\n",
       "            height=\"212.5039370103975px\"\n",
       "            src=\"https://plot.ly/~flores12/731.embed\"\n",
       "            frameborder=\"0\"\n",
       "            allowfullscreen\n",
       "        ></iframe>\n",
       "        "
      ],
      "text/plain": [
       "<IPython.lib.display.IFrame at 0x7f3f28f8ed68>"
      ]
     },
     "execution_count": 19,
     "metadata": {},
     "output_type": "execute_result"
    }
   ],
   "source": [
    "fig, filename = plot_surf_pourb_indiv(\n",
    "    traces_IrO3,\n",
    "    name=\"traces_IrO3\")\n",
    "py.plotly.iplot(fig, filename=filename)"
   ]
  },
  {
   "cell_type": "code",
   "execution_count": 20,
   "metadata": {},
   "outputs": [
    {
     "data": {
      "text/html": [
       "\n",
       "        <iframe\n",
       "            width=\"283.4645669325px\"\n",
       "            height=\"212.5039370103975px\"\n",
       "            src=\"https://plot.ly/~flores12/733.embed\"\n",
       "            frameborder=\"0\"\n",
       "            allowfullscreen\n",
       "        ></iframe>\n",
       "        "
      ],
      "text/plain": [
       "<IPython.lib.display.IFrame at 0x7f3f2c31b400>"
      ]
     },
     "execution_count": 20,
     "metadata": {},
     "output_type": "execute_result"
    }
   ],
   "source": [
    "fig, filename = plot_surf_pourb_indiv(\n",
    "    traces_IrO3_rutile_like,\n",
    "    name=\"traces_IrO3_rutile_like\")\n",
    "py.plotly.iplot(fig, filename=filename)"
   ]
  },
  {
   "cell_type": "code",
   "execution_count": 21,
   "metadata": {},
   "outputs": [
    {
     "data": {
      "text/html": [
       "\n",
       "        <iframe\n",
       "            width=\"283.4645669325px\"\n",
       "            height=\"212.5039370103975px\"\n",
       "            src=\"https://plot.ly/~flores12/735.embed\"\n",
       "            frameborder=\"0\"\n",
       "            allowfullscreen\n",
       "        ></iframe>\n",
       "        "
      ],
      "text/plain": [
       "<IPython.lib.display.IFrame at 0x7f3f28fb5358>"
      ]
     },
     "execution_count": 21,
     "metadata": {},
     "output_type": "execute_result"
    }
   ],
   "source": [
    "fig, filename = plot_surf_pourb_indiv(\n",
    "    traces_IrO3_battery,\n",
    "    name=\"traces_IrO3_battery\")\n",
    "py.plotly.iplot(fig, filename=filename)"
   ]
  },
  {
   "cell_type": "raw",
   "metadata": {},
   "source": [
    "\n",
    "\n",
    "\n",
    "\n",
    "\n",
    "\n",
    "\n"
   ]
  },
  {
   "cell_type": "code",
   "execution_count": 22,
   "metadata": {},
   "outputs": [
    {
     "data": {
      "text/plain": [
       "Job                       <dft_job_automat.job_setup.Job object at 0x7f3...\n",
       "adsorbate                                                               NaN\n",
       "bulk_system                                                            IrO2\n",
       "coverage                                                                1.0\n",
       "coverage_type                                                     o_covered\n",
       "facet                                                                   110\n",
       "job_type                                            surface_coverage_energy\n",
       "layers                                                                   11\n",
       "max_revision                                                              3\n",
       "ooh_direction                                                           NaN\n",
       "path                      /global/cscratch1/sd/flores12/IrOx_Project/07_...\n",
       "priority                                                                NaN\n",
       "revision_number                                                           3\n",
       "success                                                                 NaN\n",
       "surface_type                                                            NaN\n",
       "elec_energy                                                        -473.152\n",
       "init_atoms                (Atom('O', [-0.0, 3.21027, 7.54357], index=0),...\n",
       "atoms_object              [(Atom('O', [0.0, 3.21027, 7.54357], index=0),...\n",
       "incar                     [INCAR created by Atomic Simulation Environmen...\n",
       "path_short                     07_diff_coverages_term/IrO2/110/O_covered/_3\n",
       "name_i                                               110 | o_covered | IrO2\n",
       "name_i_2                                                 110_o_covered_IrO2\n",
       "name_i_3                                            110_o_covered_IrO2_11.0\n",
       "max_force                                                          0.019319\n",
       "sum_force                                                          0.331294\n",
       "N_atoms                                                                  68\n",
       "elem_num_dict                                           {'O': 46, 'Ir': 22}\n",
       "incar_parsed              {'ENCUT': 500.0, 'AMIX_MAG': 0.05, 'BMIX_MAG':...\n",
       "dipole_correction                                                     False\n",
       "u_correction                                                          False\n",
       "magmoms                   [-0.702, -0.134, 0.009, 0.009, 0.0, 0.009, -0....\n",
       "total_magmom                                                         -2.045\n",
       "abs_magmom                                                            3.673\n",
       "slab_area                                                           20.4776\n",
       "bulk_e_per_atom_DFT                                                -7.04416\n",
       "surface_e_ave_bulk_ref                                             0.285725\n",
       "nonstoich_Os                                                              2\n",
       "surf_e_0                                                           0.163141\n",
       "Name: 57, dtype: object"
      ]
     },
     "execution_count": 22,
     "metadata": {},
     "output_type": "execute_result"
    }
   ],
   "source": [
    "# list(df_m)\n",
    "# df_m[\"surf_e_0\"]\n",
    "# 100 rutile\n",
    "\n",
    "\n",
    "# df_m[\n",
    "#     (df_m[\"bulk_system\"] == \"IrO2\") &\n",
    "#     (df_m[\"facet\"] == \"100\") &\n",
    "# #     (df_m[\"\"] == \"\") &\n",
    "#     [True for i in range(len(df_m))]\n",
    "#     ]\n",
    "\n",
    "df_m.loc[57]"
   ]
  },
  {
   "cell_type": "code",
   "execution_count": 23,
   "metadata": {},
   "outputs": [],
   "source": [
    "# shapes_i = make_color_subplot_list(\n",
    "#     subplot_num=1,\n",
    "#     plot_range=O_mu_range,\n",
    "#     bulk_pourb_trans_dict=bulk_pourb_trans_dict,\n",
    "#     irox_bulk_color_map=irox_bulk_color_map, opacity=0.8)\n",
    "\n",
    "\n",
    "# fig[\"layout\"][\"shapes\"] = bulk_stability_shading\n",
    "\n",
    "# make_color_subplot_list(\n",
    "#     subplot_num=1,\n",
    "#     plot_range=O_mu_range,\n",
    "#     bulk_pourb_trans_dict=bulk_pourb_trans_dict,\n",
    "#     irox_bulk_color_map=irox_bulk_color_map, opacity=opacity_rect)"
   ]
  },
  {
   "cell_type": "code",
   "execution_count": 24,
   "metadata": {},
   "outputs": [
    {
     "data": {
      "text/plain": [
       "<function surface_energy.surface_energy.surf_e_4(row_i, G_H2=0.0, G_H2O=0.0, bias=0.0, pH=0.0, bulk_e_per_atom=None, get_e0_from_row=False, norm_mode='area', num_atoms=None)>"
      ]
     },
     "execution_count": 24,
     "metadata": {},
     "output_type": "execute_result"
    }
   ],
   "source": [
    "surf_e_4"
   ]
  }
 ],
 "metadata": {
  "kernelspec": {
   "display_name": "Python [conda env:research-new]",
   "language": "python",
   "name": "conda-env-research-new-py"
  },
  "language_info": {
   "codemirror_mode": {
    "name": "ipython",
    "version": 3
   },
   "file_extension": ".py",
   "mimetype": "text/x-python",
   "name": "python",
   "nbconvert_exporter": "python",
   "pygments_lexer": "ipython3",
   "version": "3.6.8"
  },
  "toc-autonumbering": true,
  "toc-showcode": false,
  "toc-showmarkdowntxt": false,
  "toc-showtags": true
 },
 "nbformat": 4,
 "nbformat_minor": 4
}
