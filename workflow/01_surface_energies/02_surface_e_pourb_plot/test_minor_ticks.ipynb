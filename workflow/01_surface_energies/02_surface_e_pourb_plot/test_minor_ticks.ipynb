{
 "cells": [
  {
   "cell_type": "markdown",
   "metadata": {},
   "source": [
    "# Notebook setup\n",
    "---"
   ]
  },
  {
   "cell_type": "markdown",
   "metadata": {},
   "source": [
    "## Import Modules"
   ]
  },
  {
   "cell_type": "code",
   "execution_count": 1,
   "metadata": {},
   "outputs": [],
   "source": [
    "import plotly.graph_objects as go\n",
    "\n",
    "from plotly.subplots import make_subplots\n",
    "import plotly.graph_objects as go"
   ]
  },
  {
   "cell_type": "markdown",
   "metadata": {},
   "source": [
    "# Master and axis layouts"
   ]
  },
  {
   "cell_type": "code",
   "execution_count": 2,
   "metadata": {},
   "outputs": [],
   "source": [
    "master_layout = go.Layout(\n",
    "    paper_bgcolor=\"white\",\n",
    "    plot_bgcolor=\"rgba(255,255,255,0.)\",\n",
    "\n",
    "    # height=500,\n",
    "    height=800,\n",
    "    )\n",
    "\n",
    "\n",
    "master_axis = dict(\n",
    "    showticklabels=False,\n",
    "    ticks=\"outside\",\n",
    "    tickwidth=4.,\n",
    "    ticklen=8.,\n",
    "\n",
    "    showline=True,\n",
    "    mirror=\"all\",\n",
    "    linewidth=2,\n",
    "    linecolor='black',\n",
    "\n",
    "    showgrid=False,\n",
    "    range=[-1, 1],\n",
    "    \n",
    "    zeroline=False,\n",
    "    )"
   ]
  },
  {
   "cell_type": "markdown",
   "metadata": {},
   "source": [
    "# make_subplots"
   ]
  },
  {
   "cell_type": "code",
   "execution_count": 3,
   "metadata": {},
   "outputs": [],
   "source": [
    "%%capture\n",
    "\n",
    "fig = make_subplots(\n",
    "    rows=3,\n",
    "    cols=1,\n",
    "    shared_xaxes=False,\n",
    "    shared_yaxes=False,\n",
    "    start_cell='top-left',\n",
    "    print_grid=False,\n",
    "    horizontal_spacing=None,\n",
    "    vertical_spacing=None,\n",
    "    subplot_titles=None,\n",
    "    column_widths=None,\n",
    "    row_heights=None,\n",
    "    specs=None,\n",
    "    insets=None,\n",
    "    column_titles=None,\n",
    "    row_titles=None,\n",
    "    x_title=None,\n",
    "    y_title=None,\n",
    "    )\n",
    "fig.update_layout(master_layout)"
   ]
  },
  {
   "cell_type": "code",
   "execution_count": 4,
   "metadata": {},
   "outputs": [],
   "source": [
    "%%capture\n",
    "\n",
    "trace_i = go.Scatter(x=[0.], y=[0.], mode=\"markers\", marker=dict(size=20))\n",
    "\n",
    "\n",
    "fig.add_trace(trace_i.update(name=\"00\", marker_color=\"red\"), row=1, col=1)\n",
    "fig.add_trace(trace_i.update(name=\"01\", marker_color=\"green\"), row=2, col=1)\n",
    "fig.add_trace(trace_i.update(name=\"02\", marker_color=\"blue\"), row=3, col=1)"
   ]
  },
  {
   "cell_type": "markdown",
   "metadata": {},
   "source": [
    "# Adding new X-axis"
   ]
  },
  {
   "cell_type": "code",
   "execution_count": 5,
   "metadata": {},
   "outputs": [],
   "source": [
    "%%capture\n",
    "\n",
    "axis_dict_0 = dict(dtick=0.5, **master_axis)\n",
    "\n",
    "fig.layout.xaxis.update(axis_dict_0)\n",
    "fig.layout.xaxis2.update(axis_dict_0)\n",
    "fig.layout.xaxis3.update(axis_dict_0)"
   ]
  },
  {
   "cell_type": "markdown",
   "metadata": {},
   "source": [
    "# Adding new Y-axis"
   ]
  },
  {
   "cell_type": "code",
   "execution_count": 6,
   "metadata": {},
   "outputs": [],
   "source": [
    "%%capture\n",
    "\n",
    "axis_dict_0 = dict(dtick=0.5, **master_axis)\n",
    "\n",
    "fig.layout.yaxis.update(axis_dict_0)\n",
    "fig.layout.yaxis2.update(axis_dict_0)\n",
    "fig.layout.yaxis3.update(axis_dict_0)"
   ]
  },
  {
   "cell_type": "code",
   "execution_count": 7,
   "metadata": {},
   "outputs": [],
   "source": [
    "%%capture\n",
    "\n",
    "fig.layout.yaxis4 = dict(dtick=0.3,\n",
    "    domain=[0.7333333333333333, 1.0],\n",
    "    tickcolor=\"red\",\n",
    "    anchor=\"x\",\n",
    "    **master_axis)\n",
    "fig.add_scatter(**go.Scatter(yaxis=\"y4\").to_plotly_json())\n",
    "\n",
    "fig.layout.yaxis5 = dict(dtick=0.3,\n",
    "    domain=[0.36666666666666664, 0.6333333333333333],\n",
    "    tickcolor=\"red\",\n",
    "    anchor=\"x\",\n",
    "    **master_axis)\n",
    "fig.add_scatter(**go.Scatter(yaxis=\"y5\").to_plotly_json())\n",
    "\n",
    "fig.layout.yaxis6 = dict(dtick=0.3,\n",
    "    domain=[0.0, 0.26666666666666666],\n",
    "    tickcolor=\"red\",\n",
    "    anchor=\"x\",\n",
    "    **master_axis)\n",
    "fig.add_scatter(**go.Scatter(yaxis=\"y6\").to_plotly_json())"
   ]
  },
  {
   "cell_type": "code",
   "execution_count": 8,
   "metadata": {},
   "outputs": [],
   "source": [
    "%%capture\n",
    "\n",
    "fig.layout.xaxis4 = dict(dtick=0.3,\n",
    "    tickcolor=\"red\",\n",
    "    # anchor=\"y\",\n",
    "    anchor=\"y1\",\n",
    "    **master_axis)\n",
    "fig.add_scatter(**go.Scatter(xaxis=\"x4\").to_plotly_json())\n",
    "\n",
    "fig.layout.xaxis5 = dict(dtick=0.3,\n",
    "    tickcolor=\"red\",\n",
    "    anchor=\"y2\",\n",
    "    **master_axis)\n",
    "fig.add_scatter(**go.Scatter(xaxis=\"x5\").to_plotly_json())\n",
    "\n",
    "fig.layout.xaxis6 = dict(dtick=0.3,\n",
    "    tickcolor=\"red\",\n",
    "    anchor=\"y3\",\n",
    "    **master_axis)\n",
    "fig.add_scatter(**go.Scatter(xaxis=\"x6\").to_plotly_json())"
   ]
  },
  {
   "cell_type": "code",
   "execution_count": 9,
   "metadata": {},
   "outputs": [
    {
     "data": {
      "application/vnd.plotly.v1+json": {
       "config": {
        "plotlyServerURL": "https://plot.ly"
       },
       "data": [
        {
         "marker": {
          "color": "red",
          "size": 20
         },
         "mode": "markers",
         "name": "00",
         "type": "scatter",
         "x": [
          0
         ],
         "xaxis": "x",
         "y": [
          0
         ],
         "yaxis": "y"
        },
        {
         "marker": {
          "color": "green",
          "size": 20
         },
         "mode": "markers",
         "name": "01",
         "type": "scatter",
         "x": [
          0
         ],
         "xaxis": "x2",
         "y": [
          0
         ],
         "yaxis": "y2"
        },
        {
         "marker": {
          "color": "blue",
          "size": 20
         },
         "mode": "markers",
         "name": "02",
         "type": "scatter",
         "x": [
          0
         ],
         "xaxis": "x3",
         "y": [
          0
         ],
         "yaxis": "y3"
        },
        {
         "type": "scatter",
         "yaxis": "y4"
        },
        {
         "type": "scatter",
         "yaxis": "y5"
        },
        {
         "type": "scatter",
         "yaxis": "y6"
        },
        {
         "type": "scatter",
         "xaxis": "x4"
        },
        {
         "type": "scatter",
         "xaxis": "x5"
        },
        {
         "type": "scatter",
         "xaxis": "x6"
        }
       ],
       "layout": {
        "autosize": true,
        "paper_bgcolor": "white",
        "plot_bgcolor": "rgba(255,255,255,0.)",
        "template": {
         "data": {
          "bar": [
           {
            "error_x": {
             "color": "#2a3f5f"
            },
            "error_y": {
             "color": "#2a3f5f"
            },
            "marker": {
             "line": {
              "color": "#E5ECF6",
              "width": 0.5
             }
            },
            "type": "bar"
           }
          ],
          "barpolar": [
           {
            "marker": {
             "line": {
              "color": "#E5ECF6",
              "width": 0.5
             }
            },
            "type": "barpolar"
           }
          ],
          "carpet": [
           {
            "aaxis": {
             "endlinecolor": "#2a3f5f",
             "gridcolor": "white",
             "linecolor": "white",
             "minorgridcolor": "white",
             "startlinecolor": "#2a3f5f"
            },
            "baxis": {
             "endlinecolor": "#2a3f5f",
             "gridcolor": "white",
             "linecolor": "white",
             "minorgridcolor": "white",
             "startlinecolor": "#2a3f5f"
            },
            "type": "carpet"
           }
          ],
          "choropleth": [
           {
            "colorbar": {
             "outlinewidth": 0,
             "ticks": ""
            },
            "type": "choropleth"
           }
          ],
          "contour": [
           {
            "colorbar": {
             "outlinewidth": 0,
             "ticks": ""
            },
            "colorscale": [
             [
              0,
              "#0d0887"
             ],
             [
              0.1111111111111111,
              "#46039f"
             ],
             [
              0.2222222222222222,
              "#7201a8"
             ],
             [
              0.3333333333333333,
              "#9c179e"
             ],
             [
              0.4444444444444444,
              "#bd3786"
             ],
             [
              0.5555555555555556,
              "#d8576b"
             ],
             [
              0.6666666666666666,
              "#ed7953"
             ],
             [
              0.7777777777777778,
              "#fb9f3a"
             ],
             [
              0.8888888888888888,
              "#fdca26"
             ],
             [
              1,
              "#f0f921"
             ]
            ],
            "type": "contour"
           }
          ],
          "contourcarpet": [
           {
            "colorbar": {
             "outlinewidth": 0,
             "ticks": ""
            },
            "type": "contourcarpet"
           }
          ],
          "heatmap": [
           {
            "colorbar": {
             "outlinewidth": 0,
             "ticks": ""
            },
            "colorscale": [
             [
              0,
              "#0d0887"
             ],
             [
              0.1111111111111111,
              "#46039f"
             ],
             [
              0.2222222222222222,
              "#7201a8"
             ],
             [
              0.3333333333333333,
              "#9c179e"
             ],
             [
              0.4444444444444444,
              "#bd3786"
             ],
             [
              0.5555555555555556,
              "#d8576b"
             ],
             [
              0.6666666666666666,
              "#ed7953"
             ],
             [
              0.7777777777777778,
              "#fb9f3a"
             ],
             [
              0.8888888888888888,
              "#fdca26"
             ],
             [
              1,
              "#f0f921"
             ]
            ],
            "type": "heatmap"
           }
          ],
          "heatmapgl": [
           {
            "colorbar": {
             "outlinewidth": 0,
             "ticks": ""
            },
            "colorscale": [
             [
              0,
              "#0d0887"
             ],
             [
              0.1111111111111111,
              "#46039f"
             ],
             [
              0.2222222222222222,
              "#7201a8"
             ],
             [
              0.3333333333333333,
              "#9c179e"
             ],
             [
              0.4444444444444444,
              "#bd3786"
             ],
             [
              0.5555555555555556,
              "#d8576b"
             ],
             [
              0.6666666666666666,
              "#ed7953"
             ],
             [
              0.7777777777777778,
              "#fb9f3a"
             ],
             [
              0.8888888888888888,
              "#fdca26"
             ],
             [
              1,
              "#f0f921"
             ]
            ],
            "type": "heatmapgl"
           }
          ],
          "histogram": [
           {
            "marker": {
             "colorbar": {
              "outlinewidth": 0,
              "ticks": ""
             }
            },
            "type": "histogram"
           }
          ],
          "histogram2d": [
           {
            "colorbar": {
             "outlinewidth": 0,
             "ticks": ""
            },
            "colorscale": [
             [
              0,
              "#0d0887"
             ],
             [
              0.1111111111111111,
              "#46039f"
             ],
             [
              0.2222222222222222,
              "#7201a8"
             ],
             [
              0.3333333333333333,
              "#9c179e"
             ],
             [
              0.4444444444444444,
              "#bd3786"
             ],
             [
              0.5555555555555556,
              "#d8576b"
             ],
             [
              0.6666666666666666,
              "#ed7953"
             ],
             [
              0.7777777777777778,
              "#fb9f3a"
             ],
             [
              0.8888888888888888,
              "#fdca26"
             ],
             [
              1,
              "#f0f921"
             ]
            ],
            "type": "histogram2d"
           }
          ],
          "histogram2dcontour": [
           {
            "colorbar": {
             "outlinewidth": 0,
             "ticks": ""
            },
            "colorscale": [
             [
              0,
              "#0d0887"
             ],
             [
              0.1111111111111111,
              "#46039f"
             ],
             [
              0.2222222222222222,
              "#7201a8"
             ],
             [
              0.3333333333333333,
              "#9c179e"
             ],
             [
              0.4444444444444444,
              "#bd3786"
             ],
             [
              0.5555555555555556,
              "#d8576b"
             ],
             [
              0.6666666666666666,
              "#ed7953"
             ],
             [
              0.7777777777777778,
              "#fb9f3a"
             ],
             [
              0.8888888888888888,
              "#fdca26"
             ],
             [
              1,
              "#f0f921"
             ]
            ],
            "type": "histogram2dcontour"
           }
          ],
          "mesh3d": [
           {
            "colorbar": {
             "outlinewidth": 0,
             "ticks": ""
            },
            "type": "mesh3d"
           }
          ],
          "parcoords": [
           {
            "line": {
             "colorbar": {
              "outlinewidth": 0,
              "ticks": ""
             }
            },
            "type": "parcoords"
           }
          ],
          "pie": [
           {
            "automargin": true,
            "type": "pie"
           }
          ],
          "scatter": [
           {
            "marker": {
             "colorbar": {
              "outlinewidth": 0,
              "ticks": ""
             }
            },
            "type": "scatter"
           }
          ],
          "scatter3d": [
           {
            "line": {
             "colorbar": {
              "outlinewidth": 0,
              "ticks": ""
             }
            },
            "marker": {
             "colorbar": {
              "outlinewidth": 0,
              "ticks": ""
             }
            },
            "type": "scatter3d"
           }
          ],
          "scattercarpet": [
           {
            "marker": {
             "colorbar": {
              "outlinewidth": 0,
              "ticks": ""
             }
            },
            "type": "scattercarpet"
           }
          ],
          "scattergeo": [
           {
            "marker": {
             "colorbar": {
              "outlinewidth": 0,
              "ticks": ""
             }
            },
            "type": "scattergeo"
           }
          ],
          "scattergl": [
           {
            "marker": {
             "colorbar": {
              "outlinewidth": 0,
              "ticks": ""
             }
            },
            "type": "scattergl"
           }
          ],
          "scattermapbox": [
           {
            "marker": {
             "colorbar": {
              "outlinewidth": 0,
              "ticks": ""
             }
            },
            "type": "scattermapbox"
           }
          ],
          "scatterpolar": [
           {
            "marker": {
             "colorbar": {
              "outlinewidth": 0,
              "ticks": ""
             }
            },
            "type": "scatterpolar"
           }
          ],
          "scatterpolargl": [
           {
            "marker": {
             "colorbar": {
              "outlinewidth": 0,
              "ticks": ""
             }
            },
            "type": "scatterpolargl"
           }
          ],
          "scatterternary": [
           {
            "marker": {
             "colorbar": {
              "outlinewidth": 0,
              "ticks": ""
             }
            },
            "type": "scatterternary"
           }
          ],
          "surface": [
           {
            "colorbar": {
             "outlinewidth": 0,
             "ticks": ""
            },
            "colorscale": [
             [
              0,
              "#0d0887"
             ],
             [
              0.1111111111111111,
              "#46039f"
             ],
             [
              0.2222222222222222,
              "#7201a8"
             ],
             [
              0.3333333333333333,
              "#9c179e"
             ],
             [
              0.4444444444444444,
              "#bd3786"
             ],
             [
              0.5555555555555556,
              "#d8576b"
             ],
             [
              0.6666666666666666,
              "#ed7953"
             ],
             [
              0.7777777777777778,
              "#fb9f3a"
             ],
             [
              0.8888888888888888,
              "#fdca26"
             ],
             [
              1,
              "#f0f921"
             ]
            ],
            "type": "surface"
           }
          ],
          "table": [
           {
            "cells": {
             "fill": {
              "color": "#EBF0F8"
             },
             "line": {
              "color": "white"
             }
            },
            "header": {
             "fill": {
              "color": "#C8D4E3"
             },
             "line": {
              "color": "white"
             }
            },
            "type": "table"
           }
          ]
         },
         "layout": {
          "annotationdefaults": {
           "arrowcolor": "#2a3f5f",
           "arrowhead": 0,
           "arrowwidth": 1
          },
          "coloraxis": {
           "colorbar": {
            "outlinewidth": 0,
            "ticks": ""
           }
          },
          "colorscale": {
           "diverging": [
            [
             0,
             "#8e0152"
            ],
            [
             0.1,
             "#c51b7d"
            ],
            [
             0.2,
             "#de77ae"
            ],
            [
             0.3,
             "#f1b6da"
            ],
            [
             0.4,
             "#fde0ef"
            ],
            [
             0.5,
             "#f7f7f7"
            ],
            [
             0.6,
             "#e6f5d0"
            ],
            [
             0.7,
             "#b8e186"
            ],
            [
             0.8,
             "#7fbc41"
            ],
            [
             0.9,
             "#4d9221"
            ],
            [
             1,
             "#276419"
            ]
           ],
           "sequential": [
            [
             0,
             "#0d0887"
            ],
            [
             0.1111111111111111,
             "#46039f"
            ],
            [
             0.2222222222222222,
             "#7201a8"
            ],
            [
             0.3333333333333333,
             "#9c179e"
            ],
            [
             0.4444444444444444,
             "#bd3786"
            ],
            [
             0.5555555555555556,
             "#d8576b"
            ],
            [
             0.6666666666666666,
             "#ed7953"
            ],
            [
             0.7777777777777778,
             "#fb9f3a"
            ],
            [
             0.8888888888888888,
             "#fdca26"
            ],
            [
             1,
             "#f0f921"
            ]
           ],
           "sequentialminus": [
            [
             0,
             "#0d0887"
            ],
            [
             0.1111111111111111,
             "#46039f"
            ],
            [
             0.2222222222222222,
             "#7201a8"
            ],
            [
             0.3333333333333333,
             "#9c179e"
            ],
            [
             0.4444444444444444,
             "#bd3786"
            ],
            [
             0.5555555555555556,
             "#d8576b"
            ],
            [
             0.6666666666666666,
             "#ed7953"
            ],
            [
             0.7777777777777778,
             "#fb9f3a"
            ],
            [
             0.8888888888888888,
             "#fdca26"
            ],
            [
             1,
             "#f0f921"
            ]
           ]
          },
          "colorway": [
           "#636efa",
           "#EF553B",
           "#00cc96",
           "#ab63fa",
           "#FFA15A",
           "#19d3f3",
           "#FF6692",
           "#B6E880",
           "#FF97FF",
           "#FECB52"
          ],
          "font": {
           "color": "#2a3f5f"
          },
          "geo": {
           "bgcolor": "white",
           "lakecolor": "white",
           "landcolor": "#E5ECF6",
           "showlakes": true,
           "showland": true,
           "subunitcolor": "white"
          },
          "hoverlabel": {
           "align": "left"
          },
          "hovermode": "closest",
          "mapbox": {
           "style": "light"
          },
          "paper_bgcolor": "white",
          "plot_bgcolor": "#E5ECF6",
          "polar": {
           "angularaxis": {
            "gridcolor": "white",
            "linecolor": "white",
            "ticks": ""
           },
           "bgcolor": "#E5ECF6",
           "radialaxis": {
            "gridcolor": "white",
            "linecolor": "white",
            "ticks": ""
           }
          },
          "scene": {
           "xaxis": {
            "backgroundcolor": "#E5ECF6",
            "gridcolor": "white",
            "gridwidth": 2,
            "linecolor": "white",
            "showbackground": true,
            "ticks": "",
            "zerolinecolor": "white"
           },
           "yaxis": {
            "backgroundcolor": "#E5ECF6",
            "gridcolor": "white",
            "gridwidth": 2,
            "linecolor": "white",
            "showbackground": true,
            "ticks": "",
            "zerolinecolor": "white"
           },
           "zaxis": {
            "backgroundcolor": "#E5ECF6",
            "gridcolor": "white",
            "gridwidth": 2,
            "linecolor": "white",
            "showbackground": true,
            "ticks": "",
            "zerolinecolor": "white"
           }
          },
          "shapedefaults": {
           "line": {
            "color": "#2a3f5f"
           }
          },
          "ternary": {
           "aaxis": {
            "gridcolor": "white",
            "linecolor": "white",
            "ticks": ""
           },
           "baxis": {
            "gridcolor": "white",
            "linecolor": "white",
            "ticks": ""
           },
           "bgcolor": "#E5ECF6",
           "caxis": {
            "gridcolor": "white",
            "linecolor": "white",
            "ticks": ""
           }
          },
          "title": {
           "x": 0.05
          },
          "xaxis": {
           "automargin": true,
           "gridcolor": "white",
           "linecolor": "white",
           "ticks": "",
           "title": {
            "standoff": 15
           },
           "zerolinecolor": "white",
           "zerolinewidth": 2
          },
          "yaxis": {
           "automargin": true,
           "gridcolor": "white",
           "linecolor": "white",
           "ticks": "",
           "title": {
            "standoff": 15
           },
           "zerolinecolor": "white",
           "zerolinewidth": 2
          }
         }
        },
        "xaxis": {
         "anchor": "y",
         "domain": [
          0,
          1
         ],
         "dtick": 0.5,
         "linecolor": "black",
         "linewidth": 2,
         "mirror": "all",
         "range": [
          -1,
          1
         ],
         "showgrid": false,
         "showline": true,
         "showticklabels": false,
         "ticklen": 8,
         "ticks": "outside",
         "tickwidth": 4,
         "type": "linear",
         "zeroline": false
        },
        "xaxis2": {
         "anchor": "y2",
         "domain": [
          0,
          1
         ],
         "dtick": 0.5,
         "linecolor": "black",
         "linewidth": 2,
         "mirror": "all",
         "range": [
          -1,
          1
         ],
         "showgrid": false,
         "showline": true,
         "showticklabels": false,
         "ticklen": 8,
         "ticks": "outside",
         "tickwidth": 4,
         "type": "linear",
         "zeroline": false
        },
        "xaxis3": {
         "anchor": "y3",
         "domain": [
          0,
          1
         ],
         "dtick": 0.5,
         "linecolor": "black",
         "linewidth": 2,
         "mirror": "all",
         "range": [
          -1,
          1
         ],
         "showgrid": false,
         "showline": true,
         "showticklabels": false,
         "ticklen": 8,
         "ticks": "outside",
         "tickwidth": 4,
         "type": "linear",
         "zeroline": false
        },
        "xaxis4": {
         "anchor": "y",
         "dtick": 0.3,
         "linecolor": "black",
         "linewidth": 2,
         "mirror": "all",
         "range": [
          -1,
          1
         ],
         "showgrid": false,
         "showline": true,
         "showticklabels": false,
         "tickcolor": "red",
         "ticklen": 8,
         "ticks": "outside",
         "tickwidth": 4,
         "zeroline": false
        },
        "xaxis5": {
         "anchor": "y2",
         "dtick": 0.3,
         "linecolor": "black",
         "linewidth": 2,
         "mirror": "all",
         "range": [
          -1,
          1
         ],
         "showgrid": false,
         "showline": true,
         "showticklabels": false,
         "tickcolor": "red",
         "ticklen": 8,
         "ticks": "outside",
         "tickwidth": 4,
         "zeroline": false
        },
        "xaxis6": {
         "anchor": "y3",
         "dtick": 0.3,
         "linecolor": "black",
         "linewidth": 2,
         "mirror": "all",
         "range": [
          -1,
          1
         ],
         "showgrid": false,
         "showline": true,
         "showticklabels": false,
         "tickcolor": "red",
         "ticklen": 8,
         "ticks": "outside",
         "tickwidth": 4,
         "zeroline": false
        },
        "yaxis": {
         "anchor": "x",
         "domain": [
          0.7333333333333333,
          1
         ],
         "dtick": 0.5,
         "linecolor": "black",
         "linewidth": 2,
         "mirror": "all",
         "range": [
          -1,
          1
         ],
         "showgrid": false,
         "showline": true,
         "showticklabels": false,
         "ticklen": 8,
         "ticks": "outside",
         "tickwidth": 4,
         "type": "linear",
         "zeroline": false
        },
        "yaxis2": {
         "anchor": "x2",
         "domain": [
          0.36666666666666664,
          0.6333333333333333
         ],
         "dtick": 0.5,
         "linecolor": "black",
         "linewidth": 2,
         "mirror": "all",
         "range": [
          -1,
          1
         ],
         "showgrid": false,
         "showline": true,
         "showticklabels": false,
         "ticklen": 8,
         "ticks": "outside",
         "tickwidth": 4,
         "type": "linear",
         "zeroline": false
        },
        "yaxis3": {
         "anchor": "x3",
         "domain": [
          0,
          0.26666666666666666
         ],
         "dtick": 0.5,
         "linecolor": "black",
         "linewidth": 2,
         "mirror": "all",
         "range": [
          -1,
          1
         ],
         "showgrid": false,
         "showline": true,
         "showticklabels": false,
         "ticklen": 8,
         "ticks": "outside",
         "tickwidth": 4,
         "type": "linear",
         "zeroline": false
        },
        "yaxis4": {
         "anchor": "x",
         "domain": [
          0.7333333333333333,
          1
         ],
         "dtick": 0.3,
         "linecolor": "black",
         "linewidth": 2,
         "mirror": "all",
         "range": [
          -1,
          1
         ],
         "showgrid": false,
         "showline": true,
         "showticklabels": false,
         "tickcolor": "red",
         "ticklen": 8,
         "ticks": "outside",
         "tickwidth": 4,
         "zeroline": false
        },
        "yaxis5": {
         "anchor": "x",
         "domain": [
          0.36666666666666664,
          0.6333333333333333
         ],
         "dtick": 0.3,
         "linecolor": "black",
         "linewidth": 2,
         "mirror": "all",
         "range": [
          -1,
          1
         ],
         "showgrid": false,
         "showline": true,
         "showticklabels": false,
         "tickcolor": "red",
         "ticklen": 8,
         "ticks": "outside",
         "tickwidth": 4,
         "zeroline": false
        },
        "yaxis6": {
         "anchor": "x",
         "domain": [
          0,
          0.26666666666666666
         ],
         "dtick": 0.3,
         "linecolor": "black",
         "linewidth": 2,
         "mirror": "all",
         "range": [
          -1,
          1
         ],
         "showgrid": false,
         "showline": true,
         "showticklabels": false,
         "tickcolor": "red",
         "ticklen": 8,
         "ticks": "outside",
         "tickwidth": 4,
         "zeroline": false
        }
       }
      },
      "image/png": "[encoded data removed]",
      "text/html": [
       "<div>\n",
       "        \n",
       "        \n",
       "            <div id=\"103eed88-4399-4766-841d-93724be9da08\" class=\"plotly-graph-div\" style=\"height:800px; width:100%;\"></div>\n",
       "            <script type=\"text/javascript\">\n",
       "                require([\"plotly\"], function(Plotly) {\n",
       "                    window.PLOTLYENV=window.PLOTLYENV || {};\n",
       "                    \n",
       "                if (document.getElementById(\"103eed88-4399-4766-841d-93724be9da08\")) {\n",
       "                    Plotly.newPlot(\n",
       "                        '103eed88-4399-4766-841d-93724be9da08',\n",
       "                        [{\"marker\": {\"color\": \"red\", \"size\": 20}, \"mode\": \"markers\", \"name\": \"00\", \"type\": \"scatter\", \"x\": [0.0], \"xaxis\": \"x\", \"y\": [0.0], \"yaxis\": \"y\"}, {\"marker\": {\"color\": \"green\", \"size\": 20}, \"mode\": \"markers\", \"name\": \"01\", \"type\": \"scatter\", \"x\": [0.0], \"xaxis\": \"x2\", \"y\": [0.0], \"yaxis\": \"y2\"}, {\"marker\": {\"color\": \"blue\", \"size\": 20}, \"mode\": \"markers\", \"name\": \"02\", \"type\": \"scatter\", \"x\": [0.0], \"xaxis\": \"x3\", \"y\": [0.0], \"yaxis\": \"y3\"}, {\"type\": \"scatter\", \"yaxis\": \"y4\"}, {\"type\": \"scatter\", \"yaxis\": \"y5\"}, {\"type\": \"scatter\", \"yaxis\": \"y6\"}, {\"type\": \"scatter\", \"xaxis\": \"x4\"}, {\"type\": \"scatter\", \"xaxis\": \"x5\"}, {\"type\": \"scatter\", \"xaxis\": \"x6\"}],\n",
       "                        {\"height\": 800, \"paper_bgcolor\": \"white\", \"plot_bgcolor\": \"rgba(255,255,255,0.)\", \"template\": {\"data\": {\"bar\": [{\"error_x\": {\"color\": \"#2a3f5f\"}, \"error_y\": {\"color\": \"#2a3f5f\"}, \"marker\": {\"line\": {\"color\": \"#E5ECF6\", \"width\": 0.5}}, \"type\": \"bar\"}], \"barpolar\": [{\"marker\": {\"line\": {\"color\": \"#E5ECF6\", \"width\": 0.5}}, \"type\": \"barpolar\"}], \"carpet\": [{\"aaxis\": {\"endlinecolor\": \"#2a3f5f\", \"gridcolor\": \"white\", \"linecolor\": \"white\", \"minorgridcolor\": \"white\", \"startlinecolor\": \"#2a3f5f\"}, \"baxis\": {\"endlinecolor\": \"#2a3f5f\", \"gridcolor\": \"white\", \"linecolor\": \"white\", \"minorgridcolor\": \"white\", \"startlinecolor\": \"#2a3f5f\"}, \"type\": \"carpet\"}], \"choropleth\": [{\"colorbar\": {\"outlinewidth\": 0, \"ticks\": \"\"}, \"type\": \"choropleth\"}], \"contour\": [{\"colorbar\": {\"outlinewidth\": 0, \"ticks\": \"\"}, \"colorscale\": [[0.0, \"#0d0887\"], [0.1111111111111111, \"#46039f\"], [0.2222222222222222, \"#7201a8\"], [0.3333333333333333, \"#9c179e\"], [0.4444444444444444, \"#bd3786\"], [0.5555555555555556, \"#d8576b\"], [0.6666666666666666, \"#ed7953\"], [0.7777777777777778, \"#fb9f3a\"], [0.8888888888888888, \"#fdca26\"], [1.0, \"#f0f921\"]], \"type\": \"contour\"}], \"contourcarpet\": [{\"colorbar\": {\"outlinewidth\": 0, \"ticks\": \"\"}, \"type\": \"contourcarpet\"}], \"heatmap\": [{\"colorbar\": {\"outlinewidth\": 0, \"ticks\": \"\"}, \"colorscale\": [[0.0, \"#0d0887\"], [0.1111111111111111, \"#46039f\"], [0.2222222222222222, \"#7201a8\"], [0.3333333333333333, \"#9c179e\"], [0.4444444444444444, \"#bd3786\"], [0.5555555555555556, \"#d8576b\"], [0.6666666666666666, \"#ed7953\"], [0.7777777777777778, \"#fb9f3a\"], [0.8888888888888888, \"#fdca26\"], [1.0, \"#f0f921\"]], \"type\": \"heatmap\"}], \"heatmapgl\": [{\"colorbar\": {\"outlinewidth\": 0, \"ticks\": \"\"}, \"colorscale\": [[0.0, \"#0d0887\"], [0.1111111111111111, \"#46039f\"], [0.2222222222222222, \"#7201a8\"], [0.3333333333333333, \"#9c179e\"], [0.4444444444444444, \"#bd3786\"], [0.5555555555555556, \"#d8576b\"], [0.6666666666666666, \"#ed7953\"], [0.7777777777777778, \"#fb9f3a\"], [0.8888888888888888, \"#fdca26\"], [1.0, \"#f0f921\"]], \"type\": \"heatmapgl\"}], \"histogram\": [{\"marker\": {\"colorbar\": {\"outlinewidth\": 0, \"ticks\": \"\"}}, \"type\": \"histogram\"}], \"histogram2d\": [{\"colorbar\": {\"outlinewidth\": 0, \"ticks\": \"\"}, \"colorscale\": [[0.0, \"#0d0887\"], [0.1111111111111111, \"#46039f\"], [0.2222222222222222, \"#7201a8\"], [0.3333333333333333, \"#9c179e\"], [0.4444444444444444, \"#bd3786\"], [0.5555555555555556, \"#d8576b\"], [0.6666666666666666, \"#ed7953\"], [0.7777777777777778, \"#fb9f3a\"], [0.8888888888888888, \"#fdca26\"], [1.0, \"#f0f921\"]], \"type\": \"histogram2d\"}], \"histogram2dcontour\": [{\"colorbar\": {\"outlinewidth\": 0, \"ticks\": \"\"}, \"colorscale\": [[0.0, \"#0d0887\"], [0.1111111111111111, \"#46039f\"], [0.2222222222222222, \"#7201a8\"], [0.3333333333333333, \"#9c179e\"], [0.4444444444444444, \"#bd3786\"], [0.5555555555555556, \"#d8576b\"], [0.6666666666666666, \"#ed7953\"], [0.7777777777777778, \"#fb9f3a\"], [0.8888888888888888, \"#fdca26\"], [1.0, \"#f0f921\"]], \"type\": \"histogram2dcontour\"}], \"mesh3d\": [{\"colorbar\": {\"outlinewidth\": 0, \"ticks\": \"\"}, \"type\": \"mesh3d\"}], \"parcoords\": [{\"line\": {\"colorbar\": {\"outlinewidth\": 0, \"ticks\": \"\"}}, \"type\": \"parcoords\"}], \"pie\": [{\"automargin\": true, \"type\": \"pie\"}], \"scatter\": [{\"marker\": {\"colorbar\": {\"outlinewidth\": 0, \"ticks\": \"\"}}, \"type\": \"scatter\"}], \"scatter3d\": [{\"line\": {\"colorbar\": {\"outlinewidth\": 0, \"ticks\": \"\"}}, \"marker\": {\"colorbar\": {\"outlinewidth\": 0, \"ticks\": \"\"}}, \"type\": \"scatter3d\"}], \"scattercarpet\": [{\"marker\": {\"colorbar\": {\"outlinewidth\": 0, \"ticks\": \"\"}}, \"type\": \"scattercarpet\"}], \"scattergeo\": [{\"marker\": {\"colorbar\": {\"outlinewidth\": 0, \"ticks\": \"\"}}, \"type\": \"scattergeo\"}], \"scattergl\": [{\"marker\": {\"colorbar\": {\"outlinewidth\": 0, \"ticks\": \"\"}}, \"type\": \"scattergl\"}], \"scattermapbox\": [{\"marker\": {\"colorbar\": {\"outlinewidth\": 0, \"ticks\": \"\"}}, \"type\": \"scattermapbox\"}], \"scatterpolar\": [{\"marker\": {\"colorbar\": {\"outlinewidth\": 0, \"ticks\": \"\"}}, \"type\": \"scatterpolar\"}], \"scatterpolargl\": [{\"marker\": {\"colorbar\": {\"outlinewidth\": 0, \"ticks\": \"\"}}, \"type\": \"scatterpolargl\"}], \"scatterternary\": [{\"marker\": {\"colorbar\": {\"outlinewidth\": 0, \"ticks\": \"\"}}, \"type\": \"scatterternary\"}], \"surface\": [{\"colorbar\": {\"outlinewidth\": 0, \"ticks\": \"\"}, \"colorscale\": [[0.0, \"#0d0887\"], [0.1111111111111111, \"#46039f\"], [0.2222222222222222, \"#7201a8\"], [0.3333333333333333, \"#9c179e\"], [0.4444444444444444, \"#bd3786\"], [0.5555555555555556, \"#d8576b\"], [0.6666666666666666, \"#ed7953\"], [0.7777777777777778, \"#fb9f3a\"], [0.8888888888888888, \"#fdca26\"], [1.0, \"#f0f921\"]], \"type\": \"surface\"}], \"table\": [{\"cells\": {\"fill\": {\"color\": \"#EBF0F8\"}, \"line\": {\"color\": \"white\"}}, \"header\": {\"fill\": {\"color\": \"#C8D4E3\"}, \"line\": {\"color\": \"white\"}}, \"type\": \"table\"}]}, \"layout\": {\"annotationdefaults\": {\"arrowcolor\": \"#2a3f5f\", \"arrowhead\": 0, \"arrowwidth\": 1}, \"coloraxis\": {\"colorbar\": {\"outlinewidth\": 0, \"ticks\": \"\"}}, \"colorscale\": {\"diverging\": [[0, \"#8e0152\"], [0.1, \"#c51b7d\"], [0.2, \"#de77ae\"], [0.3, \"#f1b6da\"], [0.4, \"#fde0ef\"], [0.5, \"#f7f7f7\"], [0.6, \"#e6f5d0\"], [0.7, \"#b8e186\"], [0.8, \"#7fbc41\"], [0.9, \"#4d9221\"], [1, \"#276419\"]], \"sequential\": [[0.0, \"#0d0887\"], [0.1111111111111111, \"#46039f\"], [0.2222222222222222, \"#7201a8\"], [0.3333333333333333, \"#9c179e\"], [0.4444444444444444, \"#bd3786\"], [0.5555555555555556, \"#d8576b\"], [0.6666666666666666, \"#ed7953\"], [0.7777777777777778, \"#fb9f3a\"], [0.8888888888888888, \"#fdca26\"], [1.0, \"#f0f921\"]], \"sequentialminus\": [[0.0, \"#0d0887\"], [0.1111111111111111, \"#46039f\"], [0.2222222222222222, \"#7201a8\"], [0.3333333333333333, \"#9c179e\"], [0.4444444444444444, \"#bd3786\"], [0.5555555555555556, \"#d8576b\"], [0.6666666666666666, \"#ed7953\"], [0.7777777777777778, \"#fb9f3a\"], [0.8888888888888888, \"#fdca26\"], [1.0, \"#f0f921\"]]}, \"colorway\": [\"#636efa\", \"#EF553B\", \"#00cc96\", \"#ab63fa\", \"#FFA15A\", \"#19d3f3\", \"#FF6692\", \"#B6E880\", \"#FF97FF\", \"#FECB52\"], \"font\": {\"color\": \"#2a3f5f\"}, \"geo\": {\"bgcolor\": \"white\", \"lakecolor\": \"white\", \"landcolor\": \"#E5ECF6\", \"showlakes\": true, \"showland\": true, \"subunitcolor\": \"white\"}, \"hoverlabel\": {\"align\": \"left\"}, \"hovermode\": \"closest\", \"mapbox\": {\"style\": \"light\"}, \"paper_bgcolor\": \"white\", \"plot_bgcolor\": \"#E5ECF6\", \"polar\": {\"angularaxis\": {\"gridcolor\": \"white\", \"linecolor\": \"white\", \"ticks\": \"\"}, \"bgcolor\": \"#E5ECF6\", \"radialaxis\": {\"gridcolor\": \"white\", \"linecolor\": \"white\", \"ticks\": \"\"}}, \"scene\": {\"xaxis\": {\"backgroundcolor\": \"#E5ECF6\", \"gridcolor\": \"white\", \"gridwidth\": 2, \"linecolor\": \"white\", \"showbackground\": true, \"ticks\": \"\", \"zerolinecolor\": \"white\"}, \"yaxis\": {\"backgroundcolor\": \"#E5ECF6\", \"gridcolor\": \"white\", \"gridwidth\": 2, \"linecolor\": \"white\", \"showbackground\": true, \"ticks\": \"\", \"zerolinecolor\": \"white\"}, \"zaxis\": {\"backgroundcolor\": \"#E5ECF6\", \"gridcolor\": \"white\", \"gridwidth\": 2, \"linecolor\": \"white\", \"showbackground\": true, \"ticks\": \"\", \"zerolinecolor\": \"white\"}}, \"shapedefaults\": {\"line\": {\"color\": \"#2a3f5f\"}}, \"ternary\": {\"aaxis\": {\"gridcolor\": \"white\", \"linecolor\": \"white\", \"ticks\": \"\"}, \"baxis\": {\"gridcolor\": \"white\", \"linecolor\": \"white\", \"ticks\": \"\"}, \"bgcolor\": \"#E5ECF6\", \"caxis\": {\"gridcolor\": \"white\", \"linecolor\": \"white\", \"ticks\": \"\"}}, \"title\": {\"x\": 0.05}, \"xaxis\": {\"automargin\": true, \"gridcolor\": \"white\", \"linecolor\": \"white\", \"ticks\": \"\", \"title\": {\"standoff\": 15}, \"zerolinecolor\": \"white\", \"zerolinewidth\": 2}, \"yaxis\": {\"automargin\": true, \"gridcolor\": \"white\", \"linecolor\": \"white\", \"ticks\": \"\", \"title\": {\"standoff\": 15}, \"zerolinecolor\": \"white\", \"zerolinewidth\": 2}}}, \"xaxis\": {\"anchor\": \"y\", \"domain\": [0.0, 1.0], \"dtick\": 0.5, \"linecolor\": \"black\", \"linewidth\": 2, \"mirror\": \"all\", \"range\": [-1, 1], \"showgrid\": false, \"showline\": true, \"showticklabels\": false, \"ticklen\": 8.0, \"ticks\": \"outside\", \"tickwidth\": 4.0, \"zeroline\": false}, \"xaxis2\": {\"anchor\": \"y2\", \"domain\": [0.0, 1.0], \"dtick\": 0.5, \"linecolor\": \"black\", \"linewidth\": 2, \"mirror\": \"all\", \"range\": [-1, 1], \"showgrid\": false, \"showline\": true, \"showticklabels\": false, \"ticklen\": 8.0, \"ticks\": \"outside\", \"tickwidth\": 4.0, \"zeroline\": false}, \"xaxis3\": {\"anchor\": \"y3\", \"domain\": [0.0, 1.0], \"dtick\": 0.5, \"linecolor\": \"black\", \"linewidth\": 2, \"mirror\": \"all\", \"range\": [-1, 1], \"showgrid\": false, \"showline\": true, \"showticklabels\": false, \"ticklen\": 8.0, \"ticks\": \"outside\", \"tickwidth\": 4.0, \"zeroline\": false}, \"xaxis4\": {\"anchor\": \"y\", \"dtick\": 0.3, \"linecolor\": \"black\", \"linewidth\": 2, \"mirror\": \"all\", \"range\": [-1, 1], \"showgrid\": false, \"showline\": true, \"showticklabels\": false, \"tickcolor\": \"red\", \"ticklen\": 8.0, \"ticks\": \"outside\", \"tickwidth\": 4.0, \"zeroline\": false}, \"xaxis5\": {\"anchor\": \"y2\", \"dtick\": 0.3, \"linecolor\": \"black\", \"linewidth\": 2, \"mirror\": \"all\", \"range\": [-1, 1], \"showgrid\": false, \"showline\": true, \"showticklabels\": false, \"tickcolor\": \"red\", \"ticklen\": 8.0, \"ticks\": \"outside\", \"tickwidth\": 4.0, \"zeroline\": false}, \"xaxis6\": {\"anchor\": \"y3\", \"dtick\": 0.3, \"linecolor\": \"black\", \"linewidth\": 2, \"mirror\": \"all\", \"range\": [-1, 1], \"showgrid\": false, \"showline\": true, \"showticklabels\": false, \"tickcolor\": \"red\", \"ticklen\": 8.0, \"ticks\": \"outside\", \"tickwidth\": 4.0, \"zeroline\": false}, \"yaxis\": {\"anchor\": \"x\", \"domain\": [0.7333333333333333, 1.0], \"dtick\": 0.5, \"linecolor\": \"black\", \"linewidth\": 2, \"mirror\": \"all\", \"range\": [-1, 1], \"showgrid\": false, \"showline\": true, \"showticklabels\": false, \"ticklen\": 8.0, \"ticks\": \"outside\", \"tickwidth\": 4.0, \"zeroline\": false}, \"yaxis2\": {\"anchor\": \"x2\", \"domain\": [0.36666666666666664, 0.6333333333333333], \"dtick\": 0.5, \"linecolor\": \"black\", \"linewidth\": 2, \"mirror\": \"all\", \"range\": [-1, 1], \"showgrid\": false, \"showline\": true, \"showticklabels\": false, \"ticklen\": 8.0, \"ticks\": \"outside\", \"tickwidth\": 4.0, \"zeroline\": false}, \"yaxis3\": {\"anchor\": \"x3\", \"domain\": [0.0, 0.26666666666666666], \"dtick\": 0.5, \"linecolor\": \"black\", \"linewidth\": 2, \"mirror\": \"all\", \"range\": [-1, 1], \"showgrid\": false, \"showline\": true, \"showticklabels\": false, \"ticklen\": 8.0, \"ticks\": \"outside\", \"tickwidth\": 4.0, \"zeroline\": false}, \"yaxis4\": {\"anchor\": \"x\", \"domain\": [0.7333333333333333, 1.0], \"dtick\": 0.3, \"linecolor\": \"black\", \"linewidth\": 2, \"mirror\": \"all\", \"range\": [-1, 1], \"showgrid\": false, \"showline\": true, \"showticklabels\": false, \"tickcolor\": \"red\", \"ticklen\": 8.0, \"ticks\": \"outside\", \"tickwidth\": 4.0, \"zeroline\": false}, \"yaxis5\": {\"anchor\": \"x\", \"domain\": [0.36666666666666664, 0.6333333333333333], \"dtick\": 0.3, \"linecolor\": \"black\", \"linewidth\": 2, \"mirror\": \"all\", \"range\": [-1, 1], \"showgrid\": false, \"showline\": true, \"showticklabels\": false, \"tickcolor\": \"red\", \"ticklen\": 8.0, \"ticks\": \"outside\", \"tickwidth\": 4.0, \"zeroline\": false}, \"yaxis6\": {\"anchor\": \"x\", \"domain\": [0.0, 0.26666666666666666], \"dtick\": 0.3, \"linecolor\": \"black\", \"linewidth\": 2, \"mirror\": \"all\", \"range\": [-1, 1], \"showgrid\": false, \"showline\": true, \"showticklabels\": false, \"tickcolor\": \"red\", \"ticklen\": 8.0, \"ticks\": \"outside\", \"tickwidth\": 4.0, \"zeroline\": false}},\n",
       "                        {\"responsive\": true}\n",
       "                    ).then(function(){\n",
       "                            \n",
       "var gd = document.getElementById('103eed88-4399-4766-841d-93724be9da08');\n",
       "var x = new MutationObserver(function (mutations, observer) {{\n",
       "        var display = window.getComputedStyle(gd).display;\n",
       "        if (!display || display === 'none') {{\n",
       "            console.log([gd, 'removed!']);\n",
       "            Plotly.purge(gd);\n",
       "            observer.disconnect();\n",
       "        }}\n",
       "}});\n",
       "\n",
       "// Listen for the removal of the full notebook cells\n",
       "var notebookContainer = gd.closest('#notebook-container');\n",
       "if (notebookContainer) {{\n",
       "    x.observe(notebookContainer, {childList: true});\n",
       "}}\n",
       "\n",
       "// Listen for the clearing of the current output cell\n",
       "var outputEl = gd.closest('.output');\n",
       "if (outputEl) {{\n",
       "    x.observe(outputEl, {childList: true});\n",
       "}}\n",
       "\n",
       "                        })\n",
       "                };\n",
       "                });\n",
       "            </script>\n",
       "        </div>"
      ]
     },
     "metadata": {},
     "output_type": "display_data"
    }
   ],
   "source": [
    "fig.show()"
   ]
  },
  {
   "cell_type": "raw",
   "metadata": {},
   "source": [
    "\n",
    "\n"
   ]
  },
  {
   "cell_type": "code",
   "execution_count": 12,
   "metadata": {
    "jupyter": {
     "source_hidden": true
    }
   },
   "outputs": [],
   "source": [
    "# ##  X-axis | subplot_01\n",
    "\n",
    "# %%capture\n",
    "\n",
    "# #  # ############################################################################\n",
    "# # fig.layout.xaxis4 = dict(dtick=0.2, anchor=\"y\", tickcolor=\"red\", **master_axis)\n",
    "\n",
    "# # fig.add_scatter(\n",
    "# #     **go.Scatter(x=[0.2], y=[4], mode=\"markers\",\n",
    "# #         xaxis=\"x4\",\n",
    "# #         # yaxis=\"y2\",\n",
    "# #         name=\"NEW00\",\n",
    "# #         marker=go.scatter.Marker(\n",
    "# #             color=\"red\",\n",
    "# #             size=12),\n",
    "# #         ).to_plotly_json()\n",
    "# #     )\n",
    "\n",
    "# # fig.show()\n",
    "\n",
    "# ## X-axis | subplot_02\n",
    "\n",
    "# %%capture\n",
    "\n",
    "# #  # ############################################################################\n",
    "# # fig.layout.xaxis5 = dict(dtick=0.15, anchor=\"y2\", tickcolor=\"green\", **master_axis)\n",
    "\n",
    "# # fig.add_scatter(\n",
    "# #     **go.Scatter(x=[0.0], y=[4], mode=\"markers\",\n",
    "# #         xaxis=\"x5\",\n",
    "# #         yaxis=\"y2\",\n",
    "# #         name=\"NEW01\",\n",
    "# #         marker=go.scatter.Marker(\n",
    "# #             color=\"green\",\n",
    "# #             size=12),\n",
    "# #         ).to_plotly_json()\n",
    "# #     )\n",
    "\n",
    "# # fig.show()\n",
    "\n",
    "# ## X-axis | subplot_03\n",
    "\n",
    "# %%capture\n",
    "\n",
    "# #  # ############################################################################\n",
    "# # fig.layout.xaxis6 = dict(dtick=0.15, anchor=\"y3\", tickcolor=\"orange\", **master_axis)\n",
    "\n",
    "# # fig.add_scatter(\n",
    "# #     **go.Scatter(x=[0.0], y=[4], mode=\"markers\",\n",
    "# #         xaxis=\"x6\",\n",
    "# #         yaxis=\"y3\",\n",
    "# #         name=\"NEW02\",\n",
    "# #         marker=go.scatter.Marker(\n",
    "# #             color=\"orange\",\n",
    "# #             size=12),\n",
    "# #         ).to_plotly_json()\n",
    "# #     )\n",
    "\n",
    "# # fig.show()"
   ]
  },
  {
   "cell_type": "code",
   "execution_count": 13,
   "metadata": {
    "jupyter": {
     "source_hidden": true
    }
   },
   "outputs": [],
   "source": [
    "# %%capture\n",
    "\n",
    "#  # ############################################################################\n",
    "# fig.layout.xaxis5 = dict(dtick=0.3,\n",
    "#     tickcolor=\"green\",\n",
    "#     anchor=\"y2\",\n",
    "#     **master_axis,\n",
    "#     )\n",
    "\n",
    "\n",
    "# fig.add_scatter(\n",
    "#     **go.Scatter(x=[], y=[], mode=\"markers\",\n",
    "#         # yaxis=\"y4\",\n",
    "#         xaxis=\"x5\",\n",
    "#         yaxis=\"y2\",\n",
    "\n",
    "#         name=\"NEW_X_01\",\n",
    "#         marker=go.scatter.Marker(\n",
    "#             color=\"red\",\n",
    "#             size=22),\n",
    "#         ).to_plotly_json()\n",
    "#     )"
   ]
  },
  {
   "cell_type": "code",
   "execution_count": 14,
   "metadata": {
    "jupyter": {
     "source_hidden": true
    }
   },
   "outputs": [],
   "source": [
    "# %%capture\n",
    "\n",
    "#  # ############################################################################\n",
    "# fig.layout.xaxis4 = dict(dtick=0.3,\n",
    "#     tickcolor=\"red\",\n",
    "#     anchor=\"y\",\n",
    "#     **master_axis,\n",
    "#     )\n",
    "\n",
    "\n",
    "# fig.add_scatter(\n",
    "#     **go.Scatter(x=[], y=[], mode=\"markers\",\n",
    "#         # yaxis=\"y4\",\n",
    "#         xaxis=\"x4\",\n",
    "\n",
    "#         name=\"NEW_X_00\",\n",
    "#         marker=go.scatter.Marker(\n",
    "#             color=\"red\",\n",
    "#             size=22),\n",
    "#         ).to_plotly_json()\n",
    "#     )"
   ]
  },
  {
   "cell_type": "code",
   "execution_count": 15,
   "metadata": {
    "jupyter": {
     "source_hidden": true
    }
   },
   "outputs": [],
   "source": [
    "## Y-axis | subplot_01\n",
    "\n",
    "# %%capture\n",
    "\n",
    "#  # ############################################################################\n",
    "# fig.layout.yaxis4 = dict(dtick=0.3,\n",
    "#     domain=[0.7333333333333333, 1.0],\n",
    "#     tickcolor=\"red\", **master_axis)\n",
    "\n",
    "\n",
    "# fig.add_scatter(\n",
    "#     **go.Scatter(x=[], y=[], mode=\"markers\",\n",
    "#         yaxis=\"y4\",\n",
    "\n",
    "#         name=\"NEW_Y_00\",\n",
    "#         marker=go.scatter.Marker(\n",
    "#             color=\"red\",\n",
    "#             size=22),\n",
    "#         ).to_plotly_json()\n",
    "#     )\n",
    "\n",
    "## Y-axis | subplot_02\n",
    "\n",
    "# %%capture\n",
    "\n",
    "#  # ############################################################################\n",
    "# fig.layout.yaxis5 = dict(dtick=0.3,\n",
    "#     domain=[0.36666666666666664, 0.6333333333333333],\n",
    "#     # domain=[0.7333333333333333, 1.0],\n",
    "#     tickcolor=\"green\",\n",
    "#     **master_axis)\n",
    "\n",
    "\n",
    "# fig.add_scatter(\n",
    "#     **go.Scatter(x=[], y=[], mode=\"markers\",\n",
    "#         yaxis=\"y5\",\n",
    "\n",
    "#         name=\"NEW_Y_01\",\n",
    "#         marker=go.scatter.Marker(\n",
    "#             color=\"black\",\n",
    "#             size=22),\n",
    "#         ).to_plotly_json()\n",
    "#     )\n",
    "\n",
    "## Y-axis | subplot_03\n",
    "\n",
    "# %%capture\n",
    "\n",
    "#  # ############################################################################\n",
    "# fig.layout.yaxis6 = dict(dtick=0.3,\n",
    "#     domain=[0.0, 0.26666666666666666],\n",
    "#     # domain=[0.7333333333333333, 1.0],\n",
    "#     tickcolor=\"blue\",\n",
    "#     **master_axis)\n",
    "\n",
    "\n",
    "# fig.add_scatter(\n",
    "#     **go.Scatter(x=[], y=[], mode=\"markers\",\n",
    "#         yaxis=\"y6\",\n",
    "\n",
    "#         name=\"NEW_Y_01\",\n",
    "#         marker=go.scatter.Marker(\n",
    "#             color=\"black\",\n",
    "#             size=22),\n",
    "#         ).to_plotly_json()\n",
    "#     )"
   ]
  }
 ],
 "metadata": {
  "kernelspec": {
   "display_name": "Python [conda env:PROJ_IrOx_Active_Learning_OER]",
   "language": "python",
   "name": "conda-env-PROJ_IrOx_Active_Learning_OER-py"
  },
  "language_info": {
   "codemirror_mode": {
    "name": "ipython",
    "version": 3
   },
   "file_extension": ".py",
   "mimetype": "text/x-python",
   "name": "python",
   "nbconvert_exporter": "python",
   "pygments_lexer": "ipython3",
   "version": "3.6.9"
  },
  "toc-autonumbering": true
 },
 "nbformat": 4,
 "nbformat_minor": 4
}
