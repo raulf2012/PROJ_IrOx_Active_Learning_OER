{
 "cells": [
  {
   "cell_type": "markdown",
   "metadata": {},
   "source": [
    "# Title HERE\n",
    "---\n",
    "* TEMP\n",
    "* TEMP"
   ],
   "execution_count": null,
   "outputs": []
  },
  {
   "cell_type": "markdown",
   "metadata": {
    "toc-hr-collapsed": false
   },
   "source": [
    "# Notebook Setup\n",
    "  * Import modules\n",
    "  * Import data\n",
    "  * Proprocessing"
   ],
   "execution_count": null,
   "outputs": []
  },
  {
   "cell_type": "markdown",
   "metadata": {},
   "source": [
    "## Script Inputs"
   ],
   "execution_count": null,
   "outputs": []
  },
  {
   "cell_type": "code",
   "execution_count": null,
   "metadata": {},
   "outputs": [],
   "source": [
    "verbose = False\n",
    "\n",
    "pH = 0\n",
    "\n",
    "bias_range = [-3, 3]"
   ]
  },
  {
   "cell_type": "markdown",
   "metadata": {},
   "source": [
    "## Import Modules"
   ],
   "execution_count": null,
   "outputs": []
  },
  {
   "cell_type": "code",
   "execution_count": null,
   "metadata": {},
   "outputs": [],
   "source": [
    "%%capture\n",
    "import os\n",
    "import sys\n",
    "\n",
    "# #############################################################################\n",
    "sys.path.insert(0,\n",
    "    os.path.join(\n",
    "        os.environ[\"PROJ_irox\"],\n",
    "        \"workflow\"))\n",
    "from an_data_processing import load_df\n",
    "# from an_data_processing import oxy_ref, hyd_ref\n",
    "\n",
    "# # #############################################################################\n",
    "import pickle\n",
    "import pandas as pd\n",
    "\n",
    "# # #############################################################################\n",
    "from misc_modules.pandas_methods import drop_columns\n",
    "from surface_energy.surface_energy import SurfaceEnergy"
   ]
  },
  {
   "cell_type": "code",
   "execution_count": null,
   "metadata": {},
   "outputs": [],
   "source": [
    "from proj_data_irox import irox_surface_e_color_map\n",
    "\n",
    "import plotly.graph_objects as go\n",
    "\n",
    "from plotting.my_plotly import my_plotly_plot\n",
    "\n",
    "from plotly.subplots import make_subplots\n",
    "import plotly.graph_objects as go\n",
    "\n",
    "from layout__v0 import layout"
   ]
  },
  {
   "cell_type": "code",
   "execution_count": null,
   "metadata": {},
   "outputs": [],
   "source": [
    "from proj_data_irox import bulk_e_per_atom_dict"
   ]
  },
  {
   "cell_type": "markdown",
   "metadata": {},
   "source": [
    "## Read data"
   ],
   "execution_count": null,
   "outputs": []
  },
  {
   "cell_type": "code",
   "execution_count": null,
   "metadata": {},
   "outputs": [],
   "source": [
    "dataframe_dir = os.path.join(\n",
    "    os.environ[\"PROJ_DATA\"],\n",
    "    \"04_IrOx_surfaces_OER/190321_new_job_df\")\n",
    "\n",
    "df_pourbaix, df_ads, df_surf = load_df(\n",
    "    from_file=True,\n",
    "    root_dir=dataframe_dir,\n",
    "    data_dir=dataframe_dir,\n",
    "    file_name=\"df_master.pickle\",\n",
    "    process_df=True)\n",
    "df_m = df_surf\n",
    "\n",
    "\n",
    "# Filter the jobs that were unsuccessful\n",
    "df_m = df_m[[not i for i in pd.isna(df_m[\"elec_energy\"].tolist())]]\n",
    "df_m = df_m[df_m[\"job_type\"] == \"surface_coverage_energy\"]\n",
    "\n",
    "\n",
    "cols_to_keep = [\n",
    "    'facet',\n",
    "    'job_type',\n",
    "    'layers',\n",
    "    'surface_type',\n",
    "    'elec_energy',\n",
    "    'atoms_object',\n",
    "    'bulk_system',\n",
    "    'coverage_type',\n",
    "    ]\n",
    "\n",
    "df_m = drop_columns(df=df_m, columns=cols_to_keep, keep_or_drop=\"keep\")"
   ]
  },
  {
   "cell_type": "markdown",
   "metadata": {},
   "source": [
    "## Read bulk data"
   ],
   "execution_count": null,
   "outputs": []
  },
  {
   "cell_type": "code",
   "execution_count": null,
   "metadata": {},
   "outputs": [],
   "source": [
    "bulk_data_path = os.path.join(\n",
    "    os.environ[\"PROJ_irox\"],\n",
    "    \"workflow/an_bulk_systems\",\n",
    "    \"bulk_systems.pickle\")\n",
    "with open(bulk_data_path, \"rb\") as fle:\n",
    "    bulk_data = pickle.load(fle)"
   ]
  },
  {
   "cell_type": "markdown",
   "metadata": {},
   "source": [
    "# Read Adsorbate and Gas Reference Data"
   ],
   "execution_count": null,
   "outputs": []
  },
  {
   "cell_type": "code",
   "execution_count": null,
   "metadata": {},
   "outputs": [],
   "source": [
    "# surf_spec_corr_dict = {\"*OH\": 0.2945, \"*O\": 0.044, \"*OOH\": 0.3765}\n",
    "\n",
    "import pickle\n",
    "path_i = os.path.join(\n",
    "    os.environ[\"PROJ_irox\"],\n",
    "    \"workflow/energy_treatment_deriv/out_data\",\n",
    "    \"data.pickle\")\n",
    "with open(path_i, \"rb\") as fle:\n",
    "    data = pickle.load(fle)\n",
    "\n",
    "\n",
    "surf_spec_corr_dict = {\n",
    "    \"*OH\": data[\"D_phi_oh_ads\"],\n",
    "    \"*O\": data[\"D_phi_o_ads\"],\n",
    "    \"*OOH\": data[\"D_phi_ooh_ads\"],\n",
    "    }\n",
    "\n",
    "hyd_ref = data[\"E_H_ref\"]\n",
    "oxy_ref = data[\"E_O_ref\"]"
   ]
  },
  {
   "cell_type": "markdown",
   "metadata": {},
   "source": [
    "## Instantiate SurfaceEnergy objects"
   ],
   "execution_count": null,
   "outputs": []
  },
  {
   "cell_type": "code",
   "execution_count": null,
   "metadata": {},
   "outputs": [],
   "source": [
    "%%capture\n",
    "\n",
    "def method(row_i):\n",
    "    \"\"\"\n",
    "    \"\"\"\n",
    "    print(row_i[\"bulk_system\"] + \"_\" + row_i[\"facet\"] + \"_\" + row_i[\"coverage_type\"])\n",
    "\n",
    "    bulk_e_per_atom = bulk_e_per_atom_dict[row_i[\"bulk_system\"]]\n",
    "\n",
    "    SE = SurfaceEnergy(\n",
    "        atoms=row_i[\"atoms_object\"][-1],\n",
    "        bulk_atoms=bulk_data[row_i[\"bulk_system\"]],\n",
    "        bulk_electronic_energy_per_atom=bulk_e_per_atom,\n",
    "        H_ref_electronic_energy=hyd_ref,\n",
    "        O_ref_electronic_energy=oxy_ref,\n",
    "        special_surface_species_corrections=surf_spec_corr_dict,\n",
    "        verbose=verbose,\n",
    "        )\n",
    "\n",
    "    print(\"index: \", row_i.name)\n",
    "    print(\"\")\n",
    "\n",
    "    return(SE)\n",
    "\n",
    "df_m[\"SurfaceEnergy\"] = df_m.apply(\n",
    "    method,\n",
    "    axis=1,\n",
    "    )"
   ]
  },
  {
   "cell_type": "code",
   "execution_count": null,
   "metadata": {},
   "outputs": [],
   "source": [
    "row_i = df_m.iloc[0]\n",
    "\n",
    "\n",
    "SE_i = row_i[\"SurfaceEnergy\"]\n",
    "\n",
    "norm_type = \"area\"  # 'area', 'surface_atom'\n",
    "# #############################################################################\n",
    "\n",
    "surf_e_left = SE_i.calc_surface_energy(bias_range[0], pH, norm_type=\"area\")\n",
    "surf_e_right = SE_i.calc_surface_energy(bias_range[1], pH, norm_type=\"area\")\n"
   ]
  },
  {
   "cell_type": "code",
   "execution_count": null,
   "metadata": {},
   "outputs": [],
   "source": [
    "# TEMP\n",
    "\n",
    "# import numpy as np\n",
    "# bias_list = np.arange(bias_range[0], bias_range[1], 0.1)\n",
    "\n",
    "# surf_e_list = []\n",
    "# for bias_i in bias_list:\n",
    "#     surf_e_i = SE_i.calc_surface_energy(bias_i, pH, norm_type=\"area\")\n",
    "#     surf_e_list.append(surf_e_i)"
   ]
  },
  {
   "cell_type": "code",
   "execution_count": null,
   "metadata": {},
   "outputs": [],
   "source": [
    "def method(row_i):\n",
    "    \"\"\"\n",
    "    \"\"\"\n",
    "    SE_i = row_i[\"SurfaceEnergy\"]\n",
    "\n",
    "    norm_type = \"area\"  # 'area', 'surface_atom'\n",
    "\n",
    "    # #############################################################################\n",
    "    # #############################################################################\n",
    "    import numpy as np\n",
    "    bias_list = np.arange(bias_range[0], bias_range[1], 0.1)\n",
    "\n",
    "    surf_e_list = []\n",
    "    for bias_i in bias_list:\n",
    "        surf_e_i = SE_i.calc_surface_energy(bias_i, pH, norm_type=\"area\")\n",
    "        surf_e_list.append(surf_e_i)\n",
    "    # #############################################################################\n",
    "    # #############################################################################\n",
    "\n",
    "    surf_e_left = SE_i.calc_surface_energy(bias_range[0], pH, norm_type=\"area\")\n",
    "    surf_e_right = SE_i.calc_surface_energy(bias_range[1], pH, norm_type=\"area\")\n",
    "\n",
    "\n",
    "    color_i = irox_surface_e_color_map.get(\n",
    "        row_i[\"bulk_system\"] + \"_\" + row_i[\"coverage_type\"]\n",
    "        )\n",
    "    name_i = row_i[\"coverage_type\"] + \" \" + row_i[\"facet\"] \n",
    "\n",
    "    trace_i = go.Scatter(\n",
    "        x=bias_list,\n",
    "        y=surf_e_list,\n",
    "#         x=bias_range,\n",
    "#         y=[surf_e_left, surf_e_right],\n",
    "\n",
    "#         mode='markers+lines',\n",
    "        mode='lines',\n",
    "        name=name_i,\n",
    "        hoverinfo=\"name\",\n",
    "        marker=dict(\n",
    "            symbol=\"square\",\n",
    "            size=10,\n",
    "            color=color_i,\n",
    "            line=dict(\n",
    "                width=1,\n",
    "                color='rgb(0, 0, 0)',\n",
    "                ),\n",
    "            ),\n",
    "        )\n",
    "    return(trace_i)\n",
    "\n",
    "\n",
    "df_m[\"plotly_trace\"] = df_m.apply(\n",
    "    method,\n",
    "    axis=1,\n",
    "    )"
   ]
  },
  {
   "cell_type": "raw",
   "metadata": {},
   "source": [
    "\n",
    "\n",
    "\n",
    "\n"
   ],
   "execution_count": null,
   "outputs": []
  },
  {
   "cell_type": "code",
   "execution_count": null,
   "metadata": {},
   "outputs": [],
   "source": [
    "def make_surf_e_pourb_plot(\n",
    "    df_m=None,\n",
    "    num_cols=2,\n",
    "    layout=None,\n",
    "    ):\n",
    "    \"\"\"\n",
    "    \"\"\"\n",
    "    num_plots = len(df_m[\"bulk_system\"].unique())\n",
    "\n",
    "    fig = make_subplots(\n",
    "        rows=int(num_plots / num_cols),\n",
    "        cols=num_cols,\n",
    "        shared_xaxes=True,\n",
    "        vertical_spacing=0.05,\n",
    "        x_title=\"TEMP TEMP TEMP\",\n",
    "        )\n",
    "\n",
    "    grouped = df_m.groupby([\"bulk_system\"])\n",
    "\n",
    "    row_cnt = 1\n",
    "    col_cnt = 1\n",
    "    for i_cnt, (name, group) in enumerate(grouped):\n",
    "\n",
    "        trace_1_23 = go.Scatter(\n",
    "            x=2 * [1.23],\n",
    "            y=[-5, 5],\n",
    "            mode='lines',\n",
    "            name=\"1.23\",\n",
    "            line=dict(\n",
    "                color=\"black\",\n",
    "                width=1,\n",
    "                dash=\"dot\",\n",
    "                ))\n",
    "\n",
    "        fig.add_trace(trace_1_23, row=row_cnt, col=col_cnt)\n",
    "\n",
    "        for j_cnt, row_j in group.iterrows():\n",
    "            fig.add_trace(\n",
    "                row_j[\"plotly_trace\"],\n",
    "                row=row_cnt,\n",
    "                col=col_cnt,\n",
    "                )\n",
    "\n",
    "        # Advance row and column index\n",
    "        col_cnt += 1\n",
    "        if col_cnt > num_cols:\n",
    "            col_cnt = 1\n",
    "            row_cnt += 1\n",
    "\n",
    "\n",
    "    tmp = fig.update_layout(layout)\n",
    "\n",
    "    return(fig)"
   ]
  },
  {
   "cell_type": "code",
   "execution_count": null,
   "metadata": {},
   "outputs": [],
   "source": [
    "fig = make_surf_e_pourb_plot(df_m=df_m, num_cols=2, layout=layout)"
   ]
  },
  {
   "cell_type": "code",
   "execution_count": null,
   "metadata": {},
   "outputs": [],
   "source": [
    "from IPython.display import Image"
   ]
  },
  {
   "cell_type": "code",
   "execution_count": null,
   "metadata": {},
   "outputs": [],
   "source": [
    "plot_name_i = \"surf_e_pourbaix_irox__large\"\n",
    "fig = my_plotly_plot(\n",
    "    figure=fig,\n",
    "    layout=None,\n",
    "    layout_override=None,\n",
    "    plot_name=plot_name_i,\n",
    "    save_dir=None,\n",
    "    data=None,\n",
    "    upload_plot=False,\n",
    "    write_pdf_svg=True,\n",
    "    )\n",
    "\n",
    "# fig.show()\n",
    "\n",
    "Image(\"out_plot/\" + plot_name_i + \".png\")"
   ]
  },
  {
   "cell_type": "code",
   "execution_count": null,
   "metadata": {},
   "outputs": [],
   "source": [
    "%%capture\n",
    "\n",
    "fig = make_surf_e_pourb_plot(df_m=df_m, num_cols=1, layout=layout)\n",
    "\n",
    "fig.layout.update(dict(\n",
    "    showlegend=False,\n",
    "    width=8.0 * 37.795275591,\n",
    "    height=15.0 * 37.795275591,\n",
    "    ))"
   ]
  },
  {
   "cell_type": "code",
   "execution_count": null,
   "metadata": {},
   "outputs": [],
   "source": [
    "plot_name_i = \"surf_e_pourbaix_irox__regular\"\n",
    "fig = my_plotly_plot(\n",
    "    figure=fig,\n",
    "    layout=None,\n",
    "    layout_override=None,\n",
    "    plot_name=plot_name_i,\n",
    "    save_dir=None,\n",
    "    data=None,\n",
    "    upload_plot=False,\n",
    "    write_pdf_svg=True,\n",
    "    )\n",
    "\n",
    "# fig.show()\n",
    "\n",
    "Image(\"out_plot/\" + plot_name_i + \".png\")"
   ]
  },
  {
   "cell_type": "markdown",
   "metadata": {},
   "source": [
    "# Standard Surface Energy Bar Chart"
   ],
   "execution_count": null,
   "outputs": []
  },
  {
   "cell_type": "code",
   "execution_count": null,
   "metadata": {},
   "outputs": [],
   "source": [
    "name_list = []\n",
    "surf_e_list = []\n",
    "color_list = []\n",
    "label_list = []\n",
    "for i_cnt, row_i in df_m.iterrows():\n",
    "    \n",
    "    # #########################################################################\n",
    "    if row_i[\"coverage_type\"] == \"h_covered\":\n",
    "        label_i = \"*OH\"\n",
    "    elif row_i[\"coverage_type\"] == \"o_covered\":\n",
    "        label_i = \"*O\"\n",
    "    elif row_i[\"coverage_type\"] == \"bare\":\n",
    "        label_i = \"*\"\n",
    "    elif row_i[\"coverage_type\"] == \"half_o_covered\":\n",
    "        label_i = \"*O\"\n",
    "    else:\n",
    "        print(row_i[\"coverage_type\"])\n",
    "        label_i = \"TEMP\"\n",
    "\n",
    "    label_list.append(label_i)\n",
    "\n",
    "    # #########################################################################\n",
    "    surf_e_i = row_i[\"SurfaceEnergy\"].std_surface_e_per_area\n",
    "    surf_e_list.append(surf_e_i)\n",
    "\n",
    "    # #########################################################################\n",
    "#     name_i = row_i[\"bulk_system\"] + \" \" + row_i[\"coverage_type\"] + \" \" + row_i[\"facet\"]\n",
    "    name_i = row_i[\"bulk_system\"] + \" |\" + label_i + \"| \" + row_i[\"facet\"]\n",
    "\n",
    "    name_list.append(name_i)\n",
    "\n",
    "    # #########################################################################\n",
    "    color_i = irox_surface_e_color_map.get(\n",
    "        row_i[\"bulk_system\"] + \"_\" + row_i[\"coverage_type\"])\n",
    "    color_list.append(color_i)\n",
    "\n",
    "\n",
    "fig = go.Figure(\n",
    "    data=[\n",
    "        go.Bar(\n",
    "            name='SF Zoo',\n",
    "            x=name_list,\n",
    "            y=surf_e_list,\n",
    "            marker_color=color_list,\n",
    "            text=label_list,\n",
    "            textposition='auto',\n",
    "            ),\n",
    "        ],\n",
    "    layout=go.Layout(\n",
    "        height=600,\n",
    "#         width=,\n",
    "        )\n",
    "    )\n",
    "\n",
    "# Change the bar mode\n",
    "fig.update_layout(barmode='group')\n",
    "\n",
    "plot_name_i = \"std_surf_e_bar_plot\"\n",
    "fig = my_plotly_plot(\n",
    "    figure=fig,\n",
    "    plot_name=plot_name_i,\n",
    "    save_dir=None,\n",
    "    upload_plot=False,\n",
    "    )\n",
    "\n",
    "\n",
    "# fig.show()\n",
    "\n",
    "Image(\"out_plot/\" + plot_name_i + \".png\")"
   ]
  },
  {
   "cell_type": "raw",
   "metadata": {},
   "source": [
    "\n",
    "\n",
    "\n",
    "\n",
    "\n",
    "\n",
    "\n"
   ],
   "execution_count": null,
   "outputs": []
  }
 ],
 "metadata": {
  "kernelspec": {
   "display_name": "Python 3",
   "language": "python",
   "name": "python3"
  },
  "language_info": {
   "codemirror_mode": {
    "name": "ipython",
    "version": 3
   },
   "file_extension": ".py",
   "mimetype": "text/x-python",
   "name": "python",
   "nbconvert_exporter": "python",
   "pygments_lexer": "ipython3",
   "version": "3.7.3"
  }
 },
 "nbformat": 4,
 "nbformat_minor": 4
}
