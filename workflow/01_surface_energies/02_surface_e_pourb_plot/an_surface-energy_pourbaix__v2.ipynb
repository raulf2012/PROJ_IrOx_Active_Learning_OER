{
 "cells": [
  {
   "cell_type": "markdown",
   "metadata": {},
   "source": [
    "# Title HERE\n",
    "---\n",
    "* TEMP\n",
    "* TEMP"
   ]
  },
  {
   "cell_type": "markdown",
   "metadata": {
    "toc-hr-collapsed": false
   },
   "source": [
    "# Notebook Setup\n",
    "  * Import modules\n",
    "  * Import data\n",
    "  * Proprocessing"
   ]
  },
  {
   "cell_type": "markdown",
   "metadata": {},
   "source": [
    "## Script Inputs"
   ]
  },
  {
   "cell_type": "code",
   "execution_count": 1,
   "metadata": {},
   "outputs": [],
   "source": [
    "verbose = True\n",
    "\n",
    "pH = 0\n",
    "\n",
    "bias_range = [-3, 3]"
   ]
  },
  {
   "cell_type": "markdown",
   "metadata": {},
   "source": [
    "## Import Modules"
   ]
  },
  {
   "cell_type": "code",
   "execution_count": 2,
   "metadata": {
    "jupyter": {
     "source_hidden": true
    }
   },
   "outputs": [],
   "source": [
    "%%capture\n",
    "# TEMP\n",
    "import os\n",
    "import sys\n",
    "\n",
    "# # #############################################################################\n",
    "# sys.path.insert(0,\n",
    "#     os.path.join(\n",
    "#         os.environ[\"PROJ_irox\"],\n",
    "#         \"data\"))\n",
    "# from proj_data_irox import irox_bulk_color_map\n",
    "\n",
    "# #############################################################################\n",
    "sys.path.insert(0,\n",
    "    os.path.join(\n",
    "        os.environ[\"PROJ_irox\"],\n",
    "        \"workflow\"))\n",
    "from an_data_processing import load_df\n",
    "from an_data_processing import oxy_ref, hyd_ref\n",
    "\n",
    "# # #############################################################################\n",
    "import pickle\n",
    "import pandas as pd\n",
    "# import numpy as np\n",
    "# import plotly.graph_objs as go\n",
    "# import plotly.express as px\n",
    "\n",
    "# # #############################################################################\n",
    "from misc_modules.pandas_methods import drop_columns\n",
    "from surface_energy.surface_energy import SurfaceEnergy\n",
    "\n",
    "# from plotting.my_plotly import my_plotly_plot\n",
    "# from surface_energy.surface_energy import SurfaceEnergyConvergence as SE_Conv\n",
    "\n",
    "# # #############################################################################\n",
    "# pd.set_option(\"display.max_columns\", None)\n",
    "\n",
    "# # #############################################################################\n",
    "# from IPython.display import display"
   ]
  },
  {
   "cell_type": "code",
   "execution_count": 3,
   "metadata": {},
   "outputs": [],
   "source": [
    "from proj_data_irox import irox_surface_e_color_map\n",
    "\n",
    "import plotly.graph_objects as go\n",
    "\n",
    "from plotting.my_plotly import my_plotly_plot\n",
    "\n",
    "from plotly.subplots import make_subplots\n",
    "import plotly.graph_objects as go\n",
    "\n",
    "from layout__v0 import layout"
   ]
  },
  {
   "cell_type": "code",
   "execution_count": 4,
   "metadata": {
    "jupyter": {
     "source_hidden": true
    }
   },
   "outputs": [],
   "source": [
    "from proj_data_irox import bulk_e_per_atom_dict"
   ]
  },
  {
   "cell_type": "markdown",
   "metadata": {},
   "source": [
    "## Read data"
   ]
  },
  {
   "cell_type": "code",
   "execution_count": 5,
   "metadata": {
    "jupyter": {
     "source_hidden": true
    }
   },
   "outputs": [
    {
     "name": "stdout",
     "output_type": "stream",
     "text": [
      "Attempting to load df from pickle\n"
     ]
    }
   ],
   "source": [
    "dataframe_dir = os.path.join(\n",
    "    os.environ[\"PROJ_DATA\"],\n",
    "    \"04_IrOx_surfaces_OER/190321_new_job_df\")\n",
    "\n",
    "df_pourbaix, df_ads, df_surf = load_df(\n",
    "    from_file=True,\n",
    "    root_dir=dataframe_dir,\n",
    "    data_dir=dataframe_dir,\n",
    "    file_name=\"df_master.pickle\",\n",
    "    process_df=True)\n",
    "df_m = df_surf\n",
    "\n",
    "\n",
    "# Filter the jobs that were unsuccessful\n",
    "df_m = df_m[[not i for i in pd.isna(df_m[\"elec_energy\"].tolist())]]\n",
    "df_m = df_m[df_m[\"job_type\"] == \"surface_coverage_energy\"]\n",
    "\n",
    "\n",
    "cols_to_keep = [\n",
    "    'facet',\n",
    "    'job_type',\n",
    "    'layers',\n",
    "    'surface_type',\n",
    "    'elec_energy',\n",
    "    'atoms_object',\n",
    "    'bulk_system',\n",
    "    'coverage_type',\n",
    "    ]\n",
    "\n",
    "df_m = drop_columns(df=df_m, columns=cols_to_keep, keep_or_drop=\"keep\")"
   ]
  },
  {
   "cell_type": "markdown",
   "metadata": {},
   "source": [
    "## Read bulk data"
   ]
  },
  {
   "cell_type": "code",
   "execution_count": 6,
   "metadata": {
    "jupyter": {
     "source_hidden": true
    }
   },
   "outputs": [],
   "source": [
    "bulk_data_path = os.path.join(\n",
    "    os.environ[\"PROJ_irox\"],\n",
    "    \"workflow/an_bulk_systems\",\n",
    "    \"bulk_systems.pickle\")\n",
    "with open(bulk_data_path, \"rb\") as fle:\n",
    "    bulk_data = pickle.load(fle)"
   ]
  },
  {
   "cell_type": "markdown",
   "metadata": {},
   "source": [
    "## Instantiate SurfaceEnergy objects"
   ]
  },
  {
   "cell_type": "code",
   "execution_count": 7,
   "metadata": {
    "jupyter": {
     "source_hidden": true
    }
   },
   "outputs": [],
   "source": [
    "%%capture\n",
    "\n",
    "def method(row_i):\n",
    "    \"\"\"\n",
    "    \"\"\"\n",
    "    bulk_e_per_atom = bulk_e_per_atom_dict[row_i[\"bulk_system\"]]\n",
    "\n",
    "    SE = SurfaceEnergy(\n",
    "        atoms=row_i[\"atoms_object\"][-1],\n",
    "        bulk_atoms=bulk_data[row_i[\"bulk_system\"]],\n",
    "        bulk_electronic_energy_per_atom=bulk_e_per_atom,\n",
    "        H_ref_electronic_energy=hyd_ref,\n",
    "        O_ref_electronic_energy=oxy_ref,\n",
    "        verbose=verbose,\n",
    "        )\n",
    "\n",
    "    return(SE)\n",
    "\n",
    "df_m[\"SurfaceEnergy\"] = df_m.apply(\n",
    "    method,\n",
    "    axis=1,\n",
    "    )"
   ]
  },
  {
   "cell_type": "code",
   "execution_count": 8,
   "metadata": {
    "jupyter": {
     "source_hidden": true
    }
   },
   "outputs": [],
   "source": [
    "def method(row_i):\n",
    "    \"\"\"\n",
    "    \"\"\"\n",
    "    SE_i = row_i[\"SurfaceEnergy\"]\n",
    "\n",
    "    norm_type = \"area\"  # 'area', 'surface_atom'\n",
    "    # #############################################################################\n",
    "\n",
    "    surf_e_left = SE_i.calc_surface_energy(bias_range[0], pH, norm_type=\"area\")\n",
    "    surf_e_right = SE_i.calc_surface_energy(bias_range[1], pH, norm_type=\"area\")\n",
    "\n",
    "    \n",
    "    color_i = irox_surface_e_color_map.get(\n",
    "        row_i[\"bulk_system\"] + \"_\" + row_i[\"coverage_type\"]\n",
    "        )\n",
    "    name_i = row_i[\"coverage_type\"] + \" \" + row_i[\"facet\"] \n",
    "\n",
    "    trace_i = go.Scatter(\n",
    "        x=bias_range,\n",
    "        y=[surf_e_left, surf_e_right],\n",
    "\n",
    "        mode='markers+lines',\n",
    "        name=name_i,\n",
    "        marker=dict(\n",
    "            symbol=\"square\",\n",
    "            size=10,\n",
    "            color=color_i,\n",
    "            line=dict(\n",
    "                width=1,\n",
    "                color='rgb(0, 0, 0)',\n",
    "                ),\n",
    "            ),\n",
    "        )\n",
    "    return(trace_i)\n",
    "\n",
    "\n",
    "df_m[\"plotly_trace\"] = df_m.apply(\n",
    "    method,\n",
    "    axis=1,\n",
    "    )"
   ]
  },
  {
   "cell_type": "code",
   "execution_count": 9,
   "metadata": {},
   "outputs": [],
   "source": [
    "\n",
    "# layout"
   ]
  },
  {
   "cell_type": "code",
   "execution_count": null,
   "metadata": {},
   "outputs": [],
   "source": []
  },
  {
   "cell_type": "raw",
   "metadata": {},
   "source": [
    "\n",
    "\n",
    "\n",
    "\n"
   ]
  },
  {
   "cell_type": "code",
   "execution_count": 10,
   "metadata": {},
   "outputs": [],
   "source": [
    "data = df_m[\"plotly_trace\"].tolist()\n",
    "\n",
    "\n",
    "num_plots = len(df_m[\"bulk_system\"].unique())\n",
    "\n",
    "fig = make_subplots(\n",
    "    rows=num_plots,\n",
    "    cols=1,\n",
    "    shared_xaxes=True,\n",
    "    vertical_spacing=0.05,\n",
    "    )"
   ]
  },
  {
   "cell_type": "code",
   "execution_count": 11,
   "metadata": {},
   "outputs": [],
   "source": [
    "%%capture\n",
    "grouped = df_m.groupby([\"bulk_system\"])\n",
    "for i_cnt, (name, group) in enumerate(grouped):\n",
    "\n",
    "    trace_1_23 = go.Scatter(\n",
    "        x= 2 * [1.23],\n",
    "        y=[-5, 5],\n",
    "        mode='lines',\n",
    "        name=\"1.23\",\n",
    "        line = dict(\n",
    "            color=\"black\",\n",
    "            width=1,\n",
    "            dash=\"dot\",\n",
    "            ))\n",
    "    fig.add_trace(trace_1_23, row=i_cnt + 1, col=1)\n",
    "\n",
    "    for j_cnt, row_j in group.iterrows():\n",
    "        fig.add_trace(\n",
    "            row_j[\"plotly_trace\"],\n",
    "            row=i_cnt + 1,\n",
    "            col=1,\n",
    "            )    \n",
    "\n",
    "fig.update_layout(layout)"
   ]
  },
  {
   "cell_type": "code",
   "execution_count": 12,
   "metadata": {},
   "outputs": [
    {
     "data": {
      "application/vnd.plotly.v1+json": {
       "config": {
        "plotlyServerURL": "https://plot.ly"
       },
       "data": [
        {
         "line": {
          "color": "black",
          "dash": "dot",
          "width": 1
         },
         "mode": "lines",
         "name": "1.23",
         "type": "scatter",
         "x": [
          1.23,
          1.23
         ],
         "xaxis": "x",
         "y": [
          -5,
          5
         ],
         "yaxis": "y"
        },
        {
         "marker": {
          "color": "#57b557",
          "line": {
           "color": "rgb(0, 0, 0)",
           "width": 1
          },
          "size": 10,
          "symbol": "square"
         },
         "mode": "markers+lines",
         "name": "h_covered 100",
         "type": "scatter",
         "x": [
          -3,
          3
         ],
         "xaxis": "x",
         "y": [
          0.5435305149280971,
          -0.2852058637535987
         ],
         "yaxis": "y"
        },
        {
         "marker": {
          "color": "#3d933d",
          "line": {
           "color": "rgb(0, 0, 0)",
           "width": 1
          },
          "size": 10,
          "symbol": "square"
         },
         "mode": "markers+lines",
         "name": "o_covered 100",
         "type": "scatter",
         "x": [
          -3,
          3
         ],
         "xaxis": "x",
         "y": [
          1.0528518347377422,
          -0.6046209226256496
         ],
         "yaxis": "y"
        },
        {
         "marker": {
          "color": "#7fc97f",
          "line": {
           "color": "rgb(0, 0, 0)",
           "width": 1
          },
          "size": 10,
          "symbol": "square"
         },
         "mode": "markers+lines",
         "name": "bare 100",
         "type": "scatter",
         "x": [
          -3,
          3
         ],
         "xaxis": "x",
         "y": [
          0.1177071964134908,
          0.1177071964134908
         ],
         "yaxis": "y"
        },
        {
         "marker": {
          "color": "#57b557",
          "line": {
           "color": "rgb(0, 0, 0)",
           "width": 1
          },
          "size": 10,
          "symbol": "square"
         },
         "mode": "markers+lines",
         "name": "h_covered 110",
         "type": "scatter",
         "x": [
          -3,
          3
         ],
         "xaxis": "x",
         "y": [
          0.36658093607847037,
          -0.21942413814669467
         ],
         "yaxis": "y"
        },
        {
         "marker": {
          "color": "#3d933d",
          "line": {
           "color": "rgb(0, 0, 0)",
           "width": 1
          },
          "size": 10,
          "symbol": "square"
         },
         "mode": "markers+lines",
         "name": "o_covered 110",
         "type": "scatter",
         "x": [
          -3,
          3
         ],
         "xaxis": "x",
         "y": [
          0.7491045288324786,
          -0.4229056196178515
         ],
         "yaxis": "y"
        },
        {
         "marker": {
          "color": "#7fc97f",
          "line": {
           "color": "rgb(0, 0, 0)",
           "width": 1
          },
          "size": 10,
          "symbol": "square"
         },
         "mode": "markers+lines",
         "name": "bare 110",
         "type": "scatter",
         "x": [
          -3,
          3
         ],
         "xaxis": "x",
         "y": [
          0.08947919982611975,
          0.08947919982611975
         ],
         "yaxis": "y"
        },
        {
         "line": {
          "color": "black",
          "dash": "dot",
          "width": 1
         },
         "mode": "lines",
         "name": "1.23",
         "type": "scatter",
         "x": [
          1.23,
          1.23
         ],
         "xaxis": "x2",
         "y": [
          -5,
          5
         ],
         "yaxis": "y2"
        },
        {
         "marker": {
          "color": "#9f87bf",
          "line": {
           "color": "rgb(0, 0, 0)",
           "width": 1
          },
          "size": 10,
          "symbol": "square"
         },
         "mode": "markers+lines",
         "name": "h_covered 100",
         "type": "scatter",
         "x": [
          -3,
          3
         ],
         "xaxis": "x2",
         "y": [
          0.7225856509910457,
          -0.3625200123427886
         ],
         "yaxis": "y2"
        },
        {
         "marker": {
          "color": "#7f5fab",
          "line": {
           "color": "rgb(0, 0, 0)",
           "width": 1
          },
          "size": 10,
          "symbol": "square"
         },
         "mode": "markers+lines",
         "name": "o_covered 100",
         "type": "scatter",
         "x": [
          -3,
          3
         ],
         "xaxis": "x2",
         "y": [
          1.0703976217973097,
          -0.5572608732034418
         ],
         "yaxis": "y2"
        },
        {
         "marker": {
          "color": "#beaed4",
          "line": {
           "color": "rgb(0, 0, 0)",
           "width": 1
          },
          "size": 10,
          "symbol": "square"
         },
         "mode": "markers+lines",
         "name": "bare 100",
         "type": "scatter",
         "x": [
          -3,
          3
         ],
         "xaxis": "x2",
         "y": [
          0.3947291018040197,
          -0.1478237298628974
         ],
         "yaxis": "y2"
        },
        {
         "marker": {
          "color": "#9f87bf",
          "line": {
           "color": "rgb(0, 0, 0)",
           "width": 1
          },
          "size": 10,
          "symbol": "square"
         },
         "mode": "markers+lines",
         "name": "h_covered 110",
         "type": "scatter",
         "x": [
          -3,
          3
         ],
         "xaxis": "x2",
         "y": [
          0.002764667128502151,
          0.002764667128502151
         ],
         "yaxis": "y2"
        },
        {
         "marker": {
          "color": "#7f5fab",
          "line": {
           "color": "rgb(0, 0, 0)",
           "width": 1
          },
          "size": 10,
          "symbol": "square"
         },
         "mode": "markers+lines",
         "name": "o_covered 110",
         "type": "scatter",
         "x": [
          -3,
          3
         ],
         "xaxis": "x2",
         "y": [
          0.6304280860375181,
          -0.32474933472975076
         ],
         "yaxis": "y2"
        },
        {
         "marker": {
          "color": "#beaed4",
          "line": {
           "color": "rgb(0, 0, 0)",
           "width": 1
          },
          "size": 10,
          "symbol": "square"
         },
         "mode": "markers+lines",
         "name": "bare 110",
         "type": "scatter",
         "x": [
          -3,
          3
         ],
         "xaxis": "x2",
         "y": [
          0.1313763897351878,
          -0.3462123206484466
         ],
         "yaxis": "y2"
        },
        {
         "marker": {
          "color": "#9f87bf",
          "line": {
           "color": "rgb(0, 0, 0)",
           "width": 1
          },
          "size": 10,
          "symbol": "square"
         },
         "mode": "markers+lines",
         "name": "h_covered 111",
         "type": "scatter",
         "x": [
          -3,
          3
         ],
         "xaxis": "x2",
         "y": [
          0.0029108596987274045,
          0.0029108596987274045
         ],
         "yaxis": "y2"
        },
        {
         "marker": {
          "color": "#7f5fab",
          "line": {
           "color": "rgb(0, 0, 0)",
           "width": 1
          },
          "size": 10,
          "symbol": "square"
         },
         "mode": "markers+lines",
         "name": "o_covered 111",
         "type": "scatter",
         "x": [
          -3,
          3
         ],
         "xaxis": "x2",
         "y": [
          1.145332053887796,
          -0.5980377782430544
         ],
         "yaxis": "y2"
        },
        {
         "marker": {
          "color": "#beaed4",
          "line": {
           "color": "rgb(0, 0, 0)",
           "width": 1
          },
          "size": 10,
          "symbol": "square"
         },
         "mode": "markers+lines",
         "name": "bare 111",
         "type": "scatter",
         "x": [
          -3,
          3
         ],
         "xaxis": "x2",
         "y": [
          -0.13725708236063983,
          -0.13725708236063983
         ],
         "yaxis": "y2"
        },
        {
         "marker": {
          "color": "#9f87bf",
          "line": {
           "color": "rgb(0, 0, 0)",
           "width": 1
          },
          "size": 10,
          "symbol": "square"
         },
         "mode": "markers+lines",
         "name": "h_covered 211",
         "type": "scatter",
         "x": [
          -3,
          3
         ],
         "xaxis": "x2",
         "y": [
          0.4599687396647546,
          -0.23288918968150915
         ],
         "yaxis": "y2"
        },
        {
         "marker": {
          "color": "#7f5fab",
          "line": {
           "color": "rgb(0, 0, 0)",
           "width": 1
          },
          "size": 10,
          "symbol": "square"
         },
         "mode": "markers+lines",
         "name": "o_covered 211",
         "type": "scatter",
         "x": [
          -3,
          3
         ],
         "xaxis": "x2",
         "y": [
          0.911365896718912,
          -0.47434996197361545
         ],
         "yaxis": "y2"
        },
        {
         "marker": {
          "color": "#beaed4",
          "line": {
           "color": "rgb(0, 0, 0)",
           "width": 1
          },
          "size": 10,
          "symbol": "square"
         },
         "mode": "markers+lines",
         "name": "bare 211",
         "type": "scatter",
         "x": [
          -3,
          3
         ],
         "xaxis": "x2",
         "y": [
          0.05099308477079446,
          0.05099308477079446
         ],
         "yaxis": "y2"
        },
        {
         "line": {
          "color": "black",
          "dash": "dot",
          "width": 1
         },
         "mode": "lines",
         "name": "1.23",
         "type": "scatter",
         "x": [
          1.23,
          1.23
         ],
         "xaxis": "x3",
         "y": [
          -5,
          5
         ],
         "yaxis": "y3"
        },
        {
         "marker": {
          "color": "#ff1b8c",
          "line": {
           "color": "rgb(0, 0, 0)",
           "width": 1
          },
          "size": 10,
          "symbol": "square"
         },
         "mode": "markers+lines",
         "name": "o_covered 010",
         "type": "scatter",
         "x": [
          -3,
          3
         ],
         "xaxis": "x3",
         "y": [
          0.5692470945851252,
          -0.3411831781379427
         ],
         "yaxis": "y3"
        },
        {
         "marker": {
          "color": "#ff1b8c",
          "line": {
           "color": "rgb(0, 0, 0)",
           "width": 1
          },
          "size": 10,
          "symbol": "square"
         },
         "mode": "markers+lines",
         "name": "half_o_covered 010",
         "type": "scatter",
         "x": [
          -3,
          3
         ],
         "xaxis": "x3",
         "y": [
          0.28818695806140143,
          -0.1670281783001325
         ],
         "yaxis": "y3"
        },
        {
         "marker": {
          "color": "#ff61ae",
          "line": {
           "color": "rgb(0, 0, 0)",
           "width": 1
          },
          "size": 10,
          "symbol": "square"
         },
         "mode": "markers+lines",
         "name": "h_covered 010",
         "type": "scatter",
         "x": [
          -3,
          3
         ],
         "xaxis": "x3",
         "y": [
          0.27823257909644683,
          -0.17698255726508716
         ],
         "yaxis": "y3"
        },
        {
         "marker": {
          "color": "#ff9dcd",
          "line": {
           "color": "rgb(0, 0, 0)",
           "width": 1
          },
          "size": 10,
          "symbol": "square"
         },
         "mode": "markers+lines",
         "name": "bare 010",
         "type": "scatter",
         "x": [
          -3,
          3
         ],
         "xaxis": "x3",
         "y": [
          0.008790721438358235,
          0.008790721438358235
         ],
         "yaxis": "y3"
        },
        {
         "line": {
          "color": "black",
          "dash": "dot",
          "width": 1
         },
         "mode": "lines",
         "name": "1.23",
         "type": "scatter",
         "x": [
          1.23,
          1.23
         ],
         "xaxis": "x4",
         "y": [
          -5,
          5
         ],
         "yaxis": "y4"
        },
        {
         "marker": {
          "color": "#fca24c",
          "line": {
           "color": "rgb(0, 0, 0)",
           "width": 1
          },
          "size": 10,
          "symbol": "square"
         },
         "mode": "markers+lines",
         "name": "h_covered 001",
         "type": "scatter",
         "x": [
          -3,
          3
         ],
         "xaxis": "x4",
         "y": [
          -0.024027917010787905,
          -0.024027917010787905
         ],
         "yaxis": "y4"
        },
        {
         "marker": {
          "color": "#fa7d06",
          "line": {
           "color": "rgb(0, 0, 0)",
           "width": 1
          },
          "size": 10,
          "symbol": "square"
         },
         "mode": "markers+lines",
         "name": "o_covered 001",
         "type": "scatter",
         "x": [
          -3,
          3
         ],
         "xaxis": "x4",
         "y": [
          0.7053108642009569,
          -0.3828430544961875
         ],
         "yaxis": "y4"
        },
        {
         "marker": {
          "color": "#fdc187",
          "line": {
           "color": "rgb(0, 0, 0)",
           "width": 1
          },
          "size": 10,
          "symbol": "square"
         },
         "mode": "markers+lines",
         "name": "bare 001",
         "type": "scatter",
         "x": [
          -3,
          3
         ],
         "xaxis": "x4",
         "y": [
          0.15115460162887648,
          -0.3929223577196957
         ],
         "yaxis": "y4"
        },
        {
         "marker": {
          "color": "#fca24c",
          "line": {
           "color": "rgb(0, 0, 0)",
           "width": 1
          },
          "size": 10,
          "symbol": "square"
         },
         "mode": "markers+lines",
         "name": "h_covered 100",
         "type": "scatter",
         "x": [
          -3,
          3
         ],
         "xaxis": "x4",
         "y": [
          0.35663609125802265,
          -0.22918835188289613
         ],
         "yaxis": "y4"
        },
        {
         "marker": {
          "color": "#fa7d06",
          "line": {
           "color": "rgb(0, 0, 0)",
           "width": 1
          },
          "size": 10,
          "symbol": "square"
         },
         "mode": "markers+lines",
         "name": "o_covered 100",
         "type": "scatter",
         "x": [
          -3,
          3
         ],
         "xaxis": "x4",
         "y": [
          0.7446127137693436,
          -0.427036172512494
         ],
         "yaxis": "y4"
        },
        {
         "marker": {
          "color": "#fdc187",
          "line": {
           "color": "rgb(0, 0, 0)",
           "width": 1
          },
          "size": 10,
          "symbol": "square"
         },
         "mode": "markers+lines",
         "name": "bare 100",
         "type": "scatter",
         "x": [
          -3,
          3
         ],
         "xaxis": "x4",
         "y": [
          0.01456230403795859,
          0.01456230403795859
         ],
         "yaxis": "y4"
        },
        {
         "marker": {
          "color": "#fca24c",
          "line": {
           "color": "rgb(0, 0, 0)",
           "width": 1
          },
          "size": 10,
          "symbol": "square"
         },
         "mode": "markers+lines",
         "name": "h_covered 110",
         "type": "scatter",
         "x": [
          -3,
          3
         ],
         "xaxis": "x4",
         "y": [
          0.24831317192903454,
          -0.16592738063702653
         ],
         "yaxis": "y4"
        },
        {
         "marker": {
          "color": "#fa7d06",
          "line": {
           "color": "rgb(0, 0, 0)",
           "width": 1
          },
          "size": 10,
          "symbol": "square"
         },
         "mode": "markers+lines",
         "name": "o_covered 110",
         "type": "scatter",
         "x": [
          -3,
          3
         ],
         "xaxis": "x4",
         "y": [
          0.5217181233915875,
          -0.3067629817405347
         ],
         "yaxis": "y4"
        },
        {
         "marker": {
          "color": "#fdc187",
          "line": {
           "color": "rgb(0, 0, 0)",
           "width": 1
          },
          "size": 10,
          "symbol": "square"
         },
         "mode": "markers+lines",
         "name": "bare 110",
         "type": "scatter",
         "x": [
          -3,
          3
         ],
         "xaxis": "x4",
         "y": [
          0.020689205039307726,
          0.020689205039307726
         ],
         "yaxis": "y4"
        }
       ],
       "layout": {
        "annotations": [
         {
          "font": {
           "size": 13.333333333333332
          },
          "showarrow": false,
          "text": "Voltage (V vs RHE)",
          "x": 0.5,
          "xanchor": "center",
          "xref": "paper",
          "y": 0,
          "yanchor": "top",
          "yref": "paper",
          "yshift": -30
         },
         {
          "font": {
           "size": 13.333333333333332
          },
          "showarrow": false,
          "text": "Surface Free Energy (eV / A<sup>2</sup>)",
          "textangle": -90,
          "x": 0,
          "xanchor": "right",
          "xref": "paper",
          "xshift": -40,
          "y": 0.5,
          "yanchor": "middle",
          "yref": "paper"
         },
         {
          "bgcolor": "#7FC97F",
          "font": {
           "color": "black",
           "family": "Arial",
           "size": 12
          },
          "opacity": 1,
          "showarrow": false,
          "text": "IrO<sub>2</sub> (rutile)",
          "x": 2.4,
          "xanchor": "right",
          "xref": "x",
          "xshift": 0.4,
          "y": 0.3,
          "yanchor": "top",
          "yref": "y",
          "yshift": 0.5
         },
         {
          "bgcolor": "#BEAED4",
          "font": {
           "color": "black",
           "family": "Arial",
           "size": 12
          },
          "opacity": 1,
          "showarrow": false,
          "text": "IrO<sub>3</sub> (a-AlF<sub>3</sub>)",
          "x": 2.4,
          "xanchor": "right",
          "xref": "x2",
          "xshift": 0.4,
          "y": 0.3,
          "yanchor": "top",
          "yref": "y2",
          "yshift": 0.5
         },
         {
          "bgcolor": "#ff9dcd",
          "font": {
           "color": "black",
           "family": "Arial",
           "size": 12
          },
          "opacity": 1,
          "showarrow": false,
          "text": "IrO<sub>3</sub> (battery)",
          "x": 2.4,
          "xanchor": "right",
          "xref": "x3",
          "xshift": 0.4,
          "y": 0.3,
          "yanchor": "top",
          "yref": "y3",
          "yshift": 0.5
         },
         {
          "bgcolor": "#FDC086",
          "font": {
           "color": "black",
           "family": "Arial",
           "size": 12
          },
          "opacity": 1,
          "showarrow": false,
          "text": "IrO<sub>3</sub> (rutile)",
          "x": 2.4,
          "xanchor": "right",
          "xref": "x4",
          "xshift": 0.4,
          "y": 0.3,
          "yanchor": "top",
          "yref": "y4",
          "yshift": 0.5
         }
        ],
        "autosize": true,
        "font": {
         "color": "black",
         "family": "Arial"
        },
        "margin": {
         "b": 50,
         "l": 60,
         "r": 5,
         "t": 10
        },
        "paper_bgcolor": "rgba(240,240,240,0.95)",
        "plot_bgcolor": "rgba(250,250,250,0.98)",
        "template": {
         "data": {
          "bar": [
           {
            "error_x": {
             "color": "#2a3f5f"
            },
            "error_y": {
             "color": "#2a3f5f"
            },
            "marker": {
             "line": {
              "color": "#E5ECF6",
              "width": 0.5
             }
            },
            "type": "bar"
           }
          ],
          "barpolar": [
           {
            "marker": {
             "line": {
              "color": "#E5ECF6",
              "width": 0.5
             }
            },
            "type": "barpolar"
           }
          ],
          "carpet": [
           {
            "aaxis": {
             "endlinecolor": "#2a3f5f",
             "gridcolor": "white",
             "linecolor": "white",
             "minorgridcolor": "white",
             "startlinecolor": "#2a3f5f"
            },
            "baxis": {
             "endlinecolor": "#2a3f5f",
             "gridcolor": "white",
             "linecolor": "white",
             "minorgridcolor": "white",
             "startlinecolor": "#2a3f5f"
            },
            "type": "carpet"
           }
          ],
          "choropleth": [
           {
            "colorbar": {
             "outlinewidth": 0,
             "ticks": ""
            },
            "type": "choropleth"
           }
          ],
          "contour": [
           {
            "colorbar": {
             "outlinewidth": 0,
             "ticks": ""
            },
            "colorscale": [
             [
              0,
              "#0d0887"
             ],
             [
              0.1111111111111111,
              "#46039f"
             ],
             [
              0.2222222222222222,
              "#7201a8"
             ],
             [
              0.3333333333333333,
              "#9c179e"
             ],
             [
              0.4444444444444444,
              "#bd3786"
             ],
             [
              0.5555555555555556,
              "#d8576b"
             ],
             [
              0.6666666666666666,
              "#ed7953"
             ],
             [
              0.7777777777777778,
              "#fb9f3a"
             ],
             [
              0.8888888888888888,
              "#fdca26"
             ],
             [
              1,
              "#f0f921"
             ]
            ],
            "type": "contour"
           }
          ],
          "contourcarpet": [
           {
            "colorbar": {
             "outlinewidth": 0,
             "ticks": ""
            },
            "type": "contourcarpet"
           }
          ],
          "heatmap": [
           {
            "colorbar": {
             "outlinewidth": 0,
             "ticks": ""
            },
            "colorscale": [
             [
              0,
              "#0d0887"
             ],
             [
              0.1111111111111111,
              "#46039f"
             ],
             [
              0.2222222222222222,
              "#7201a8"
             ],
             [
              0.3333333333333333,
              "#9c179e"
             ],
             [
              0.4444444444444444,
              "#bd3786"
             ],
             [
              0.5555555555555556,
              "#d8576b"
             ],
             [
              0.6666666666666666,
              "#ed7953"
             ],
             [
              0.7777777777777778,
              "#fb9f3a"
             ],
             [
              0.8888888888888888,
              "#fdca26"
             ],
             [
              1,
              "#f0f921"
             ]
            ],
            "type": "heatmap"
           }
          ],
          "heatmapgl": [
           {
            "colorbar": {
             "outlinewidth": 0,
             "ticks": ""
            },
            "colorscale": [
             [
              0,
              "#0d0887"
             ],
             [
              0.1111111111111111,
              "#46039f"
             ],
             [
              0.2222222222222222,
              "#7201a8"
             ],
             [
              0.3333333333333333,
              "#9c179e"
             ],
             [
              0.4444444444444444,
              "#bd3786"
             ],
             [
              0.5555555555555556,
              "#d8576b"
             ],
             [
              0.6666666666666666,
              "#ed7953"
             ],
             [
              0.7777777777777778,
              "#fb9f3a"
             ],
             [
              0.8888888888888888,
              "#fdca26"
             ],
             [
              1,
              "#f0f921"
             ]
            ],
            "type": "heatmapgl"
           }
          ],
          "histogram": [
           {
            "marker": {
             "colorbar": {
              "outlinewidth": 0,
              "ticks": ""
             }
            },
            "type": "histogram"
           }
          ],
          "histogram2d": [
           {
            "colorbar": {
             "outlinewidth": 0,
             "ticks": ""
            },
            "colorscale": [
             [
              0,
              "#0d0887"
             ],
             [
              0.1111111111111111,
              "#46039f"
             ],
             [
              0.2222222222222222,
              "#7201a8"
             ],
             [
              0.3333333333333333,
              "#9c179e"
             ],
             [
              0.4444444444444444,
              "#bd3786"
             ],
             [
              0.5555555555555556,
              "#d8576b"
             ],
             [
              0.6666666666666666,
              "#ed7953"
             ],
             [
              0.7777777777777778,
              "#fb9f3a"
             ],
             [
              0.8888888888888888,
              "#fdca26"
             ],
             [
              1,
              "#f0f921"
             ]
            ],
            "type": "histogram2d"
           }
          ],
          "histogram2dcontour": [
           {
            "colorbar": {
             "outlinewidth": 0,
             "ticks": ""
            },
            "colorscale": [
             [
              0,
              "#0d0887"
             ],
             [
              0.1111111111111111,
              "#46039f"
             ],
             [
              0.2222222222222222,
              "#7201a8"
             ],
             [
              0.3333333333333333,
              "#9c179e"
             ],
             [
              0.4444444444444444,
              "#bd3786"
             ],
             [
              0.5555555555555556,
              "#d8576b"
             ],
             [
              0.6666666666666666,
              "#ed7953"
             ],
             [
              0.7777777777777778,
              "#fb9f3a"
             ],
             [
              0.8888888888888888,
              "#fdca26"
             ],
             [
              1,
              "#f0f921"
             ]
            ],
            "type": "histogram2dcontour"
           }
          ],
          "mesh3d": [
           {
            "colorbar": {
             "outlinewidth": 0,
             "ticks": ""
            },
            "type": "mesh3d"
           }
          ],
          "parcoords": [
           {
            "line": {
             "colorbar": {
              "outlinewidth": 0,
              "ticks": ""
             }
            },
            "type": "parcoords"
           }
          ],
          "scatter": [
           {
            "marker": {
             "colorbar": {
              "outlinewidth": 0,
              "ticks": ""
             }
            },
            "type": "scatter"
           }
          ],
          "scatter3d": [
           {
            "line": {
             "colorbar": {
              "outlinewidth": 0,
              "ticks": ""
             }
            },
            "marker": {
             "colorbar": {
              "outlinewidth": 0,
              "ticks": ""
             }
            },
            "type": "scatter3d"
           }
          ],
          "scattercarpet": [
           {
            "marker": {
             "colorbar": {
              "outlinewidth": 0,
              "ticks": ""
             }
            },
            "type": "scattercarpet"
           }
          ],
          "scattergeo": [
           {
            "marker": {
             "colorbar": {
              "outlinewidth": 0,
              "ticks": ""
             }
            },
            "type": "scattergeo"
           }
          ],
          "scattergl": [
           {
            "marker": {
             "colorbar": {
              "outlinewidth": 0,
              "ticks": ""
             }
            },
            "type": "scattergl"
           }
          ],
          "scattermapbox": [
           {
            "marker": {
             "colorbar": {
              "outlinewidth": 0,
              "ticks": ""
             }
            },
            "type": "scattermapbox"
           }
          ],
          "scatterpolar": [
           {
            "marker": {
             "colorbar": {
              "outlinewidth": 0,
              "ticks": ""
             }
            },
            "type": "scatterpolar"
           }
          ],
          "scatterpolargl": [
           {
            "marker": {
             "colorbar": {
              "outlinewidth": 0,
              "ticks": ""
             }
            },
            "type": "scatterpolargl"
           }
          ],
          "scatterternary": [
           {
            "marker": {
             "colorbar": {
              "outlinewidth": 0,
              "ticks": ""
             }
            },
            "type": "scatterternary"
           }
          ],
          "surface": [
           {
            "colorbar": {
             "outlinewidth": 0,
             "ticks": ""
            },
            "colorscale": [
             [
              0,
              "#0d0887"
             ],
             [
              0.1111111111111111,
              "#46039f"
             ],
             [
              0.2222222222222222,
              "#7201a8"
             ],
             [
              0.3333333333333333,
              "#9c179e"
             ],
             [
              0.4444444444444444,
              "#bd3786"
             ],
             [
              0.5555555555555556,
              "#d8576b"
             ],
             [
              0.6666666666666666,
              "#ed7953"
             ],
             [
              0.7777777777777778,
              "#fb9f3a"
             ],
             [
              0.8888888888888888,
              "#fdca26"
             ],
             [
              1,
              "#f0f921"
             ]
            ],
            "type": "surface"
           }
          ],
          "table": [
           {
            "cells": {
             "fill": {
              "color": "#EBF0F8"
             },
             "line": {
              "color": "white"
             }
            },
            "header": {
             "fill": {
              "color": "#C8D4E3"
             },
             "line": {
              "color": "white"
             }
            },
            "type": "table"
           }
          ]
         },
         "layout": {
          "annotationdefaults": {
           "arrowcolor": "#2a3f5f",
           "arrowhead": 0,
           "arrowwidth": 1
          },
          "colorscale": {
           "diverging": [
            [
             0,
             "#8e0152"
            ],
            [
             0.1,
             "#c51b7d"
            ],
            [
             0.2,
             "#de77ae"
            ],
            [
             0.3,
             "#f1b6da"
            ],
            [
             0.4,
             "#fde0ef"
            ],
            [
             0.5,
             "#f7f7f7"
            ],
            [
             0.6,
             "#e6f5d0"
            ],
            [
             0.7,
             "#b8e186"
            ],
            [
             0.8,
             "#7fbc41"
            ],
            [
             0.9,
             "#4d9221"
            ],
            [
             1,
             "#276419"
            ]
           ],
           "sequential": [
            [
             0,
             "#0d0887"
            ],
            [
             0.1111111111111111,
             "#46039f"
            ],
            [
             0.2222222222222222,
             "#7201a8"
            ],
            [
             0.3333333333333333,
             "#9c179e"
            ],
            [
             0.4444444444444444,
             "#bd3786"
            ],
            [
             0.5555555555555556,
             "#d8576b"
            ],
            [
             0.6666666666666666,
             "#ed7953"
            ],
            [
             0.7777777777777778,
             "#fb9f3a"
            ],
            [
             0.8888888888888888,
             "#fdca26"
            ],
            [
             1,
             "#f0f921"
            ]
           ],
           "sequentialminus": [
            [
             0,
             "#0d0887"
            ],
            [
             0.1111111111111111,
             "#46039f"
            ],
            [
             0.2222222222222222,
             "#7201a8"
            ],
            [
             0.3333333333333333,
             "#9c179e"
            ],
            [
             0.4444444444444444,
             "#bd3786"
            ],
            [
             0.5555555555555556,
             "#d8576b"
            ],
            [
             0.6666666666666666,
             "#ed7953"
            ],
            [
             0.7777777777777778,
             "#fb9f3a"
            ],
            [
             0.8888888888888888,
             "#fdca26"
            ],
            [
             1,
             "#f0f921"
            ]
           ]
          },
          "colorway": [
           "#636efa",
           "#EF553B",
           "#00cc96",
           "#ab63fa",
           "#FFA15A",
           "#19d3f3",
           "#FF6692",
           "#B6E880",
           "#FF97FF",
           "#FECB52"
          ],
          "font": {
           "color": "#2a3f5f"
          },
          "geo": {
           "bgcolor": "white",
           "lakecolor": "white",
           "landcolor": "#E5ECF6",
           "showlakes": true,
           "showland": true,
           "subunitcolor": "white"
          },
          "hoverlabel": {
           "align": "left"
          },
          "hovermode": "closest",
          "mapbox": {
           "style": "light"
          },
          "paper_bgcolor": "white",
          "plot_bgcolor": "#E5ECF6",
          "polar": {
           "angularaxis": {
            "gridcolor": "white",
            "linecolor": "white",
            "ticks": ""
           },
           "bgcolor": "#E5ECF6",
           "radialaxis": {
            "gridcolor": "white",
            "linecolor": "white",
            "ticks": ""
           }
          },
          "scene": {
           "xaxis": {
            "backgroundcolor": "#E5ECF6",
            "gridcolor": "white",
            "gridwidth": 2,
            "linecolor": "white",
            "showbackground": true,
            "ticks": "",
            "zerolinecolor": "white"
           },
           "yaxis": {
            "backgroundcolor": "#E5ECF6",
            "gridcolor": "white",
            "gridwidth": 2,
            "linecolor": "white",
            "showbackground": true,
            "ticks": "",
            "zerolinecolor": "white"
           },
           "zaxis": {
            "backgroundcolor": "#E5ECF6",
            "gridcolor": "white",
            "gridwidth": 2,
            "linecolor": "white",
            "showbackground": true,
            "ticks": "",
            "zerolinecolor": "white"
           }
          },
          "shapedefaults": {
           "line": {
            "color": "#2a3f5f"
           }
          },
          "ternary": {
           "aaxis": {
            "gridcolor": "white",
            "linecolor": "white",
            "ticks": ""
           },
           "baxis": {
            "gridcolor": "white",
            "linecolor": "white",
            "ticks": ""
           },
           "bgcolor": "#E5ECF6",
           "caxis": {
            "gridcolor": "white",
            "linecolor": "white",
            "ticks": ""
           }
          },
          "title": {
           "x": 0.05
          },
          "xaxis": {
           "automargin": true,
           "gridcolor": "white",
           "linecolor": "white",
           "ticks": "",
           "zerolinecolor": "white",
           "zerolinewidth": 2
          },
          "yaxis": {
           "automargin": true,
           "gridcolor": "white",
           "linecolor": "white",
           "ticks": "",
           "zerolinecolor": "white",
           "zerolinewidth": 2
          }
         }
        },
        "xaxis": {
         "anchor": "y",
         "domain": [
          0,
          1
         ],
         "linecolor": "black",
         "matches": "x4",
         "mirror": true,
         "range": [
          0,
          2.4
         ],
         "showgrid": false,
         "showline": true,
         "showticklabels": false,
         "tickfont": {
          "size": 12
         },
         "type": "linear",
         "zeroline": true,
         "zerolinecolor": "black",
         "zerolinewidth": 1
        },
        "xaxis2": {
         "anchor": "y2",
         "domain": [
          0,
          1
         ],
         "linecolor": "black",
         "matches": "x4",
         "mirror": true,
         "range": [
          0,
          2.4
         ],
         "showgrid": false,
         "showline": true,
         "showticklabels": false,
         "tickfont": {
          "size": 12
         },
         "type": "linear",
         "zeroline": true,
         "zerolinecolor": "black",
         "zerolinewidth": 1
        },
        "xaxis3": {
         "anchor": "y3",
         "domain": [
          0,
          1
         ],
         "linecolor": "black",
         "matches": "x4",
         "mirror": true,
         "range": [
          0,
          2.4
         ],
         "showgrid": false,
         "showline": true,
         "showticklabels": false,
         "tickfont": {
          "size": 12
         },
         "type": "linear",
         "zeroline": true,
         "zerolinecolor": "black",
         "zerolinewidth": 1
        },
        "xaxis4": {
         "anchor": "y4",
         "domain": [
          0,
          1
         ],
         "linecolor": "black",
         "mirror": true,
         "range": [
          0,
          2.4
         ],
         "showgrid": false,
         "showline": true,
         "tickfont": {
          "size": 12
         },
         "type": "linear",
         "zeroline": true,
         "zerolinecolor": "black",
         "zerolinewidth": 1
        },
        "yaxis": {
         "anchor": "x",
         "domain": [
          0.7875,
          1
         ],
         "linecolor": "black",
         "mirror": true,
         "range": [
          -0.35,
          0.3
         ],
         "showgrid": false,
         "showline": true,
         "tickfont": {
          "size": 12
         },
         "type": "linear",
         "zeroline": true,
         "zerolinecolor": "black",
         "zerolinewidth": 1
        },
        "yaxis2": {
         "anchor": "x2",
         "domain": [
          0.525,
          0.7375
         ],
         "linecolor": "black",
         "mirror": true,
         "range": [
          -0.35,
          0.3
         ],
         "showgrid": false,
         "showline": true,
         "tickfont": {
          "size": 12
         },
         "type": "linear",
         "zeroline": true,
         "zerolinecolor": "black",
         "zerolinewidth": 1
        },
        "yaxis3": {
         "anchor": "x3",
         "domain": [
          0.2625,
          0.475
         ],
         "linecolor": "black",
         "mirror": true,
         "range": [
          -0.35,
          0.3
         ],
         "showgrid": false,
         "showline": true,
         "tickfont": {
          "size": 12
         },
         "type": "linear",
         "zeroline": true,
         "zerolinecolor": "black",
         "zerolinewidth": 1
        },
        "yaxis4": {
         "anchor": "x4",
         "domain": [
          0,
          0.2125
         ],
         "linecolor": "black",
         "mirror": true,
         "range": [
          -0.35,
          0.3
         ],
         "showgrid": false,
         "showline": true,
         "tickfont": {
          "size": 12
         },
         "type": "linear",
         "zeroline": true,
         "zerolinecolor": "black",
         "zerolinewidth": 1
        }
       }
      },
      "image/png": "[encoded data removed]",
      "text/html": [
       "<div>\n",
       "        \n",
       "        \n",
       "            <div id=\"dec8650f-ef0c-4a72-a4e8-16747e0ab118\" class=\"plotly-graph-div\" style=\"height:525px; width:100%;\"></div>\n",
       "            <script type=\"text/javascript\">\n",
       "                require([\"plotly\"], function(Plotly) {\n",
       "                    window.PLOTLYENV=window.PLOTLYENV || {};\n",
       "                    \n",
       "                if (document.getElementById(\"dec8650f-ef0c-4a72-a4e8-16747e0ab118\")) {\n",
       "                    Plotly.newPlot(\n",
       "                        'dec8650f-ef0c-4a72-a4e8-16747e0ab118',\n",
       "                        [{\"line\": {\"color\": \"black\", \"dash\": \"dot\", \"width\": 1}, \"mode\": \"lines\", \"name\": \"1.23\", \"type\": \"scatter\", \"x\": [1.23, 1.23], \"xaxis\": \"x\", \"y\": [-5, 5], \"yaxis\": \"y\"}, {\"marker\": {\"color\": \"#57b557\", \"line\": {\"color\": \"rgb(0, 0, 0)\", \"width\": 1}, \"size\": 10, \"symbol\": \"square\"}, \"mode\": \"markers+lines\", \"name\": \"h_covered 100\", \"type\": \"scatter\", \"x\": [-3, 3], \"xaxis\": \"x\", \"y\": [0.5435305149280971, -0.2852058637535987], \"yaxis\": \"y\"}, {\"marker\": {\"color\": \"#3d933d\", \"line\": {\"color\": \"rgb(0, 0, 0)\", \"width\": 1}, \"size\": 10, \"symbol\": \"square\"}, \"mode\": \"markers+lines\", \"name\": \"o_covered 100\", \"type\": \"scatter\", \"x\": [-3, 3], \"xaxis\": \"x\", \"y\": [1.0528518347377422, -0.6046209226256496], \"yaxis\": \"y\"}, {\"marker\": {\"color\": \"#7fc97f\", \"line\": {\"color\": \"rgb(0, 0, 0)\", \"width\": 1}, \"size\": 10, \"symbol\": \"square\"}, \"mode\": \"markers+lines\", \"name\": \"bare 100\", \"type\": \"scatter\", \"x\": [-3, 3], \"xaxis\": \"x\", \"y\": [0.1177071964134908, 0.1177071964134908], \"yaxis\": \"y\"}, {\"marker\": {\"color\": \"#57b557\", \"line\": {\"color\": \"rgb(0, 0, 0)\", \"width\": 1}, \"size\": 10, \"symbol\": \"square\"}, \"mode\": \"markers+lines\", \"name\": \"h_covered 110\", \"type\": \"scatter\", \"x\": [-3, 3], \"xaxis\": \"x\", \"y\": [0.36658093607847037, -0.21942413814669467], \"yaxis\": \"y\"}, {\"marker\": {\"color\": \"#3d933d\", \"line\": {\"color\": \"rgb(0, 0, 0)\", \"width\": 1}, \"size\": 10, \"symbol\": \"square\"}, \"mode\": \"markers+lines\", \"name\": \"o_covered 110\", \"type\": \"scatter\", \"x\": [-3, 3], \"xaxis\": \"x\", \"y\": [0.7491045288324786, -0.4229056196178515], \"yaxis\": \"y\"}, {\"marker\": {\"color\": \"#7fc97f\", \"line\": {\"color\": \"rgb(0, 0, 0)\", \"width\": 1}, \"size\": 10, \"symbol\": \"square\"}, \"mode\": \"markers+lines\", \"name\": \"bare 110\", \"type\": \"scatter\", \"x\": [-3, 3], \"xaxis\": \"x\", \"y\": [0.08947919982611975, 0.08947919982611975], \"yaxis\": \"y\"}, {\"line\": {\"color\": \"black\", \"dash\": \"dot\", \"width\": 1}, \"mode\": \"lines\", \"name\": \"1.23\", \"type\": \"scatter\", \"x\": [1.23, 1.23], \"xaxis\": \"x2\", \"y\": [-5, 5], \"yaxis\": \"y2\"}, {\"marker\": {\"color\": \"#9f87bf\", \"line\": {\"color\": \"rgb(0, 0, 0)\", \"width\": 1}, \"size\": 10, \"symbol\": \"square\"}, \"mode\": \"markers+lines\", \"name\": \"h_covered 100\", \"type\": \"scatter\", \"x\": [-3, 3], \"xaxis\": \"x2\", \"y\": [0.7225856509910457, -0.3625200123427886], \"yaxis\": \"y2\"}, {\"marker\": {\"color\": \"#7f5fab\", \"line\": {\"color\": \"rgb(0, 0, 0)\", \"width\": 1}, \"size\": 10, \"symbol\": \"square\"}, \"mode\": \"markers+lines\", \"name\": \"o_covered 100\", \"type\": \"scatter\", \"x\": [-3, 3], \"xaxis\": \"x2\", \"y\": [1.0703976217973097, -0.5572608732034418], \"yaxis\": \"y2\"}, {\"marker\": {\"color\": \"#beaed4\", \"line\": {\"color\": \"rgb(0, 0, 0)\", \"width\": 1}, \"size\": 10, \"symbol\": \"square\"}, \"mode\": \"markers+lines\", \"name\": \"bare 100\", \"type\": \"scatter\", \"x\": [-3, 3], \"xaxis\": \"x2\", \"y\": [0.3947291018040197, -0.1478237298628974], \"yaxis\": \"y2\"}, {\"marker\": {\"color\": \"#9f87bf\", \"line\": {\"color\": \"rgb(0, 0, 0)\", \"width\": 1}, \"size\": 10, \"symbol\": \"square\"}, \"mode\": \"markers+lines\", \"name\": \"h_covered 110\", \"type\": \"scatter\", \"x\": [-3, 3], \"xaxis\": \"x2\", \"y\": [0.002764667128502151, 0.002764667128502151], \"yaxis\": \"y2\"}, {\"marker\": {\"color\": \"#7f5fab\", \"line\": {\"color\": \"rgb(0, 0, 0)\", \"width\": 1}, \"size\": 10, \"symbol\": \"square\"}, \"mode\": \"markers+lines\", \"name\": \"o_covered 110\", \"type\": \"scatter\", \"x\": [-3, 3], \"xaxis\": \"x2\", \"y\": [0.6304280860375181, -0.32474933472975076], \"yaxis\": \"y2\"}, {\"marker\": {\"color\": \"#beaed4\", \"line\": {\"color\": \"rgb(0, 0, 0)\", \"width\": 1}, \"size\": 10, \"symbol\": \"square\"}, \"mode\": \"markers+lines\", \"name\": \"bare 110\", \"type\": \"scatter\", \"x\": [-3, 3], \"xaxis\": \"x2\", \"y\": [0.1313763897351878, -0.3462123206484466], \"yaxis\": \"y2\"}, {\"marker\": {\"color\": \"#9f87bf\", \"line\": {\"color\": \"rgb(0, 0, 0)\", \"width\": 1}, \"size\": 10, \"symbol\": \"square\"}, \"mode\": \"markers+lines\", \"name\": \"h_covered 111\", \"type\": \"scatter\", \"x\": [-3, 3], \"xaxis\": \"x2\", \"y\": [0.0029108596987274045, 0.0029108596987274045], \"yaxis\": \"y2\"}, {\"marker\": {\"color\": \"#7f5fab\", \"line\": {\"color\": \"rgb(0, 0, 0)\", \"width\": 1}, \"size\": 10, \"symbol\": \"square\"}, \"mode\": \"markers+lines\", \"name\": \"o_covered 111\", \"type\": \"scatter\", \"x\": [-3, 3], \"xaxis\": \"x2\", \"y\": [1.145332053887796, -0.5980377782430544], \"yaxis\": \"y2\"}, {\"marker\": {\"color\": \"#beaed4\", \"line\": {\"color\": \"rgb(0, 0, 0)\", \"width\": 1}, \"size\": 10, \"symbol\": \"square\"}, \"mode\": \"markers+lines\", \"name\": \"bare 111\", \"type\": \"scatter\", \"x\": [-3, 3], \"xaxis\": \"x2\", \"y\": [-0.13725708236063983, -0.13725708236063983], \"yaxis\": \"y2\"}, {\"marker\": {\"color\": \"#9f87bf\", \"line\": {\"color\": \"rgb(0, 0, 0)\", \"width\": 1}, \"size\": 10, \"symbol\": \"square\"}, \"mode\": \"markers+lines\", \"name\": \"h_covered 211\", \"type\": \"scatter\", \"x\": [-3, 3], \"xaxis\": \"x2\", \"y\": [0.4599687396647546, -0.23288918968150915], \"yaxis\": \"y2\"}, {\"marker\": {\"color\": \"#7f5fab\", \"line\": {\"color\": \"rgb(0, 0, 0)\", \"width\": 1}, \"size\": 10, \"symbol\": \"square\"}, \"mode\": \"markers+lines\", \"name\": \"o_covered 211\", \"type\": \"scatter\", \"x\": [-3, 3], \"xaxis\": \"x2\", \"y\": [0.911365896718912, -0.47434996197361545], \"yaxis\": \"y2\"}, {\"marker\": {\"color\": \"#beaed4\", \"line\": {\"color\": \"rgb(0, 0, 0)\", \"width\": 1}, \"size\": 10, \"symbol\": \"square\"}, \"mode\": \"markers+lines\", \"name\": \"bare 211\", \"type\": \"scatter\", \"x\": [-3, 3], \"xaxis\": \"x2\", \"y\": [0.05099308477079446, 0.05099308477079446], \"yaxis\": \"y2\"}, {\"line\": {\"color\": \"black\", \"dash\": \"dot\", \"width\": 1}, \"mode\": \"lines\", \"name\": \"1.23\", \"type\": \"scatter\", \"x\": [1.23, 1.23], \"xaxis\": \"x3\", \"y\": [-5, 5], \"yaxis\": \"y3\"}, {\"marker\": {\"color\": \"#ff1b8c\", \"line\": {\"color\": \"rgb(0, 0, 0)\", \"width\": 1}, \"size\": 10, \"symbol\": \"square\"}, \"mode\": \"markers+lines\", \"name\": \"o_covered 010\", \"type\": \"scatter\", \"x\": [-3, 3], \"xaxis\": \"x3\", \"y\": [0.5692470945851252, -0.3411831781379427], \"yaxis\": \"y3\"}, {\"marker\": {\"color\": \"#ff1b8c\", \"line\": {\"color\": \"rgb(0, 0, 0)\", \"width\": 1}, \"size\": 10, \"symbol\": \"square\"}, \"mode\": \"markers+lines\", \"name\": \"half_o_covered 010\", \"type\": \"scatter\", \"x\": [-3, 3], \"xaxis\": \"x3\", \"y\": [0.28818695806140143, -0.1670281783001325], \"yaxis\": \"y3\"}, {\"marker\": {\"color\": \"#ff61ae\", \"line\": {\"color\": \"rgb(0, 0, 0)\", \"width\": 1}, \"size\": 10, \"symbol\": \"square\"}, \"mode\": \"markers+lines\", \"name\": \"h_covered 010\", \"type\": \"scatter\", \"x\": [-3, 3], \"xaxis\": \"x3\", \"y\": [0.27823257909644683, -0.17698255726508716], \"yaxis\": \"y3\"}, {\"marker\": {\"color\": \"#ff9dcd\", \"line\": {\"color\": \"rgb(0, 0, 0)\", \"width\": 1}, \"size\": 10, \"symbol\": \"square\"}, \"mode\": \"markers+lines\", \"name\": \"bare 010\", \"type\": \"scatter\", \"x\": [-3, 3], \"xaxis\": \"x3\", \"y\": [0.008790721438358235, 0.008790721438358235], \"yaxis\": \"y3\"}, {\"line\": {\"color\": \"black\", \"dash\": \"dot\", \"width\": 1}, \"mode\": \"lines\", \"name\": \"1.23\", \"type\": \"scatter\", \"x\": [1.23, 1.23], \"xaxis\": \"x4\", \"y\": [-5, 5], \"yaxis\": \"y4\"}, {\"marker\": {\"color\": \"#fca24c\", \"line\": {\"color\": \"rgb(0, 0, 0)\", \"width\": 1}, \"size\": 10, \"symbol\": \"square\"}, \"mode\": \"markers+lines\", \"name\": \"h_covered 001\", \"type\": \"scatter\", \"x\": [-3, 3], \"xaxis\": \"x4\", \"y\": [-0.024027917010787905, -0.024027917010787905], \"yaxis\": \"y4\"}, {\"marker\": {\"color\": \"#fa7d06\", \"line\": {\"color\": \"rgb(0, 0, 0)\", \"width\": 1}, \"size\": 10, \"symbol\": \"square\"}, \"mode\": \"markers+lines\", \"name\": \"o_covered 001\", \"type\": \"scatter\", \"x\": [-3, 3], \"xaxis\": \"x4\", \"y\": [0.7053108642009569, -0.3828430544961875], \"yaxis\": \"y4\"}, {\"marker\": {\"color\": \"#fdc187\", \"line\": {\"color\": \"rgb(0, 0, 0)\", \"width\": 1}, \"size\": 10, \"symbol\": \"square\"}, \"mode\": \"markers+lines\", \"name\": \"bare 001\", \"type\": \"scatter\", \"x\": [-3, 3], \"xaxis\": \"x4\", \"y\": [0.15115460162887648, -0.3929223577196957], \"yaxis\": \"y4\"}, {\"marker\": {\"color\": \"#fca24c\", \"line\": {\"color\": \"rgb(0, 0, 0)\", \"width\": 1}, \"size\": 10, \"symbol\": \"square\"}, \"mode\": \"markers+lines\", \"name\": \"h_covered 100\", \"type\": \"scatter\", \"x\": [-3, 3], \"xaxis\": \"x4\", \"y\": [0.35663609125802265, -0.22918835188289613], \"yaxis\": \"y4\"}, {\"marker\": {\"color\": \"#fa7d06\", \"line\": {\"color\": \"rgb(0, 0, 0)\", \"width\": 1}, \"size\": 10, \"symbol\": \"square\"}, \"mode\": \"markers+lines\", \"name\": \"o_covered 100\", \"type\": \"scatter\", \"x\": [-3, 3], \"xaxis\": \"x4\", \"y\": [0.7446127137693436, -0.427036172512494], \"yaxis\": \"y4\"}, {\"marker\": {\"color\": \"#fdc187\", \"line\": {\"color\": \"rgb(0, 0, 0)\", \"width\": 1}, \"size\": 10, \"symbol\": \"square\"}, \"mode\": \"markers+lines\", \"name\": \"bare 100\", \"type\": \"scatter\", \"x\": [-3, 3], \"xaxis\": \"x4\", \"y\": [0.01456230403795859, 0.01456230403795859], \"yaxis\": \"y4\"}, {\"marker\": {\"color\": \"#fca24c\", \"line\": {\"color\": \"rgb(0, 0, 0)\", \"width\": 1}, \"size\": 10, \"symbol\": \"square\"}, \"mode\": \"markers+lines\", \"name\": \"h_covered 110\", \"type\": \"scatter\", \"x\": [-3, 3], \"xaxis\": \"x4\", \"y\": [0.24831317192903454, -0.16592738063702653], \"yaxis\": \"y4\"}, {\"marker\": {\"color\": \"#fa7d06\", \"line\": {\"color\": \"rgb(0, 0, 0)\", \"width\": 1}, \"size\": 10, \"symbol\": \"square\"}, \"mode\": \"markers+lines\", \"name\": \"o_covered 110\", \"type\": \"scatter\", \"x\": [-3, 3], \"xaxis\": \"x4\", \"y\": [0.5217181233915875, -0.3067629817405347], \"yaxis\": \"y4\"}, {\"marker\": {\"color\": \"#fdc187\", \"line\": {\"color\": \"rgb(0, 0, 0)\", \"width\": 1}, \"size\": 10, \"symbol\": \"square\"}, \"mode\": \"markers+lines\", \"name\": \"bare 110\", \"type\": \"scatter\", \"x\": [-3, 3], \"xaxis\": \"x4\", \"y\": [0.020689205039307726, 0.020689205039307726], \"yaxis\": \"y4\"}],\n",
       "                        {\"annotations\": [{\"font\": {\"size\": 13.333333333333332}, \"showarrow\": false, \"text\": \"Voltage (V vs RHE)\", \"x\": 0.5, \"xanchor\": \"center\", \"xref\": \"paper\", \"y\": 0, \"yanchor\": \"top\", \"yref\": \"paper\", \"yshift\": -30}, {\"font\": {\"size\": 13.333333333333332}, \"showarrow\": false, \"text\": \"Surface Free Energy (eV / A<sup>2</sup>)\", \"textangle\": -90, \"x\": 0, \"xanchor\": \"right\", \"xref\": \"paper\", \"xshift\": -40, \"y\": 0.5, \"yanchor\": \"middle\", \"yref\": \"paper\"}, {\"bgcolor\": \"#7FC97F\", \"font\": {\"color\": \"black\", \"family\": \"Arial\", \"size\": 12.0}, \"opacity\": 1.0, \"showarrow\": false, \"text\": \"IrO<sub>2</sub> (rutile)\", \"x\": 2.4, \"xanchor\": \"right\", \"xref\": \"x\", \"xshift\": 0.4, \"y\": 0.3, \"yanchor\": \"top\", \"yref\": \"y\", \"yshift\": 0.5}, {\"bgcolor\": \"#BEAED4\", \"font\": {\"color\": \"black\", \"family\": \"Arial\", \"size\": 12.0}, \"opacity\": 1.0, \"showarrow\": false, \"text\": \"IrO<sub>3</sub> (a-AlF<sub>3</sub>)\", \"x\": 2.4, \"xanchor\": \"right\", \"xref\": \"x2\", \"xshift\": 0.4, \"y\": 0.3, \"yanchor\": \"top\", \"yref\": \"y2\", \"yshift\": 0.5}, {\"bgcolor\": \"#ff9dcd\", \"font\": {\"color\": \"black\", \"family\": \"Arial\", \"size\": 12.0}, \"opacity\": 1.0, \"showarrow\": false, \"text\": \"IrO<sub>3</sub> (battery)\", \"x\": 2.4, \"xanchor\": \"right\", \"xref\": \"x3\", \"xshift\": 0.4, \"y\": 0.3, \"yanchor\": \"top\", \"yref\": \"y3\", \"yshift\": 0.5}, {\"bgcolor\": \"#FDC086\", \"font\": {\"color\": \"black\", \"family\": \"Arial\", \"size\": 12.0}, \"opacity\": 1.0, \"showarrow\": false, \"text\": \"IrO<sub>3</sub> (rutile)\", \"x\": 2.4, \"xanchor\": \"right\", \"xref\": \"x4\", \"xshift\": 0.4, \"y\": 0.3, \"yanchor\": \"top\", \"yref\": \"y4\", \"yshift\": 0.5}], \"font\": {\"color\": \"black\", \"family\": \"Arial\"}, \"margin\": {\"b\": 50, \"l\": 60, \"r\": 5, \"t\": 10}, \"paper_bgcolor\": \"rgba(240,240,240,0.95)\", \"plot_bgcolor\": \"rgba(250,250,250,0.98)\", \"template\": {\"data\": {\"bar\": [{\"error_x\": {\"color\": \"#2a3f5f\"}, \"error_y\": {\"color\": \"#2a3f5f\"}, \"marker\": {\"line\": {\"color\": \"#E5ECF6\", \"width\": 0.5}}, \"type\": \"bar\"}], \"barpolar\": [{\"marker\": {\"line\": {\"color\": \"#E5ECF6\", \"width\": 0.5}}, \"type\": \"barpolar\"}], \"carpet\": [{\"aaxis\": {\"endlinecolor\": \"#2a3f5f\", \"gridcolor\": \"white\", \"linecolor\": \"white\", \"minorgridcolor\": \"white\", \"startlinecolor\": \"#2a3f5f\"}, \"baxis\": {\"endlinecolor\": \"#2a3f5f\", \"gridcolor\": \"white\", \"linecolor\": \"white\", \"minorgridcolor\": \"white\", \"startlinecolor\": \"#2a3f5f\"}, \"type\": \"carpet\"}], \"choropleth\": [{\"colorbar\": {\"outlinewidth\": 0, \"ticks\": \"\"}, \"type\": \"choropleth\"}], \"contour\": [{\"colorbar\": {\"outlinewidth\": 0, \"ticks\": \"\"}, \"colorscale\": [[0.0, \"#0d0887\"], [0.1111111111111111, \"#46039f\"], [0.2222222222222222, \"#7201a8\"], [0.3333333333333333, \"#9c179e\"], [0.4444444444444444, \"#bd3786\"], [0.5555555555555556, \"#d8576b\"], [0.6666666666666666, \"#ed7953\"], [0.7777777777777778, \"#fb9f3a\"], [0.8888888888888888, \"#fdca26\"], [1.0, \"#f0f921\"]], \"type\": \"contour\"}], \"contourcarpet\": [{\"colorbar\": {\"outlinewidth\": 0, \"ticks\": \"\"}, \"type\": \"contourcarpet\"}], \"heatmap\": [{\"colorbar\": {\"outlinewidth\": 0, \"ticks\": \"\"}, \"colorscale\": [[0.0, \"#0d0887\"], [0.1111111111111111, \"#46039f\"], [0.2222222222222222, \"#7201a8\"], [0.3333333333333333, \"#9c179e\"], [0.4444444444444444, \"#bd3786\"], [0.5555555555555556, \"#d8576b\"], [0.6666666666666666, \"#ed7953\"], [0.7777777777777778, \"#fb9f3a\"], [0.8888888888888888, \"#fdca26\"], [1.0, \"#f0f921\"]], \"type\": \"heatmap\"}], \"heatmapgl\": [{\"colorbar\": {\"outlinewidth\": 0, \"ticks\": \"\"}, \"colorscale\": [[0.0, \"#0d0887\"], [0.1111111111111111, \"#46039f\"], [0.2222222222222222, \"#7201a8\"], [0.3333333333333333, \"#9c179e\"], [0.4444444444444444, \"#bd3786\"], [0.5555555555555556, \"#d8576b\"], [0.6666666666666666, \"#ed7953\"], [0.7777777777777778, \"#fb9f3a\"], [0.8888888888888888, \"#fdca26\"], [1.0, \"#f0f921\"]], \"type\": \"heatmapgl\"}], \"histogram\": [{\"marker\": {\"colorbar\": {\"outlinewidth\": 0, \"ticks\": \"\"}}, \"type\": \"histogram\"}], \"histogram2d\": [{\"colorbar\": {\"outlinewidth\": 0, \"ticks\": \"\"}, \"colorscale\": [[0.0, \"#0d0887\"], [0.1111111111111111, \"#46039f\"], [0.2222222222222222, \"#7201a8\"], [0.3333333333333333, \"#9c179e\"], [0.4444444444444444, \"#bd3786\"], [0.5555555555555556, \"#d8576b\"], [0.6666666666666666, \"#ed7953\"], [0.7777777777777778, \"#fb9f3a\"], [0.8888888888888888, \"#fdca26\"], [1.0, \"#f0f921\"]], \"type\": \"histogram2d\"}], \"histogram2dcontour\": [{\"colorbar\": {\"outlinewidth\": 0, \"ticks\": \"\"}, \"colorscale\": [[0.0, \"#0d0887\"], [0.1111111111111111, \"#46039f\"], [0.2222222222222222, \"#7201a8\"], [0.3333333333333333, \"#9c179e\"], [0.4444444444444444, \"#bd3786\"], [0.5555555555555556, \"#d8576b\"], [0.6666666666666666, \"#ed7953\"], [0.7777777777777778, \"#fb9f3a\"], [0.8888888888888888, \"#fdca26\"], [1.0, \"#f0f921\"]], \"type\": \"histogram2dcontour\"}], \"mesh3d\": [{\"colorbar\": {\"outlinewidth\": 0, \"ticks\": \"\"}, \"type\": \"mesh3d\"}], \"parcoords\": [{\"line\": {\"colorbar\": {\"outlinewidth\": 0, \"ticks\": \"\"}}, \"type\": \"parcoords\"}], \"scatter\": [{\"marker\": {\"colorbar\": {\"outlinewidth\": 0, \"ticks\": \"\"}}, \"type\": \"scatter\"}], \"scatter3d\": [{\"line\": {\"colorbar\": {\"outlinewidth\": 0, \"ticks\": \"\"}}, \"marker\": {\"colorbar\": {\"outlinewidth\": 0, \"ticks\": \"\"}}, \"type\": \"scatter3d\"}], \"scattercarpet\": [{\"marker\": {\"colorbar\": {\"outlinewidth\": 0, \"ticks\": \"\"}}, \"type\": \"scattercarpet\"}], \"scattergeo\": [{\"marker\": {\"colorbar\": {\"outlinewidth\": 0, \"ticks\": \"\"}}, \"type\": \"scattergeo\"}], \"scattergl\": [{\"marker\": {\"colorbar\": {\"outlinewidth\": 0, \"ticks\": \"\"}}, \"type\": \"scattergl\"}], \"scattermapbox\": [{\"marker\": {\"colorbar\": {\"outlinewidth\": 0, \"ticks\": \"\"}}, \"type\": \"scattermapbox\"}], \"scatterpolar\": [{\"marker\": {\"colorbar\": {\"outlinewidth\": 0, \"ticks\": \"\"}}, \"type\": \"scatterpolar\"}], \"scatterpolargl\": [{\"marker\": {\"colorbar\": {\"outlinewidth\": 0, \"ticks\": \"\"}}, \"type\": \"scatterpolargl\"}], \"scatterternary\": [{\"marker\": {\"colorbar\": {\"outlinewidth\": 0, \"ticks\": \"\"}}, \"type\": \"scatterternary\"}], \"surface\": [{\"colorbar\": {\"outlinewidth\": 0, \"ticks\": \"\"}, \"colorscale\": [[0.0, \"#0d0887\"], [0.1111111111111111, \"#46039f\"], [0.2222222222222222, \"#7201a8\"], [0.3333333333333333, \"#9c179e\"], [0.4444444444444444, \"#bd3786\"], [0.5555555555555556, \"#d8576b\"], [0.6666666666666666, \"#ed7953\"], [0.7777777777777778, \"#fb9f3a\"], [0.8888888888888888, \"#fdca26\"], [1.0, \"#f0f921\"]], \"type\": \"surface\"}], \"table\": [{\"cells\": {\"fill\": {\"color\": \"#EBF0F8\"}, \"line\": {\"color\": \"white\"}}, \"header\": {\"fill\": {\"color\": \"#C8D4E3\"}, \"line\": {\"color\": \"white\"}}, \"type\": \"table\"}]}, \"layout\": {\"annotationdefaults\": {\"arrowcolor\": \"#2a3f5f\", \"arrowhead\": 0, \"arrowwidth\": 1}, \"colorscale\": {\"diverging\": [[0, \"#8e0152\"], [0.1, \"#c51b7d\"], [0.2, \"#de77ae\"], [0.3, \"#f1b6da\"], [0.4, \"#fde0ef\"], [0.5, \"#f7f7f7\"], [0.6, \"#e6f5d0\"], [0.7, \"#b8e186\"], [0.8, \"#7fbc41\"], [0.9, \"#4d9221\"], [1, \"#276419\"]], \"sequential\": [[0.0, \"#0d0887\"], [0.1111111111111111, \"#46039f\"], [0.2222222222222222, \"#7201a8\"], [0.3333333333333333, \"#9c179e\"], [0.4444444444444444, \"#bd3786\"], [0.5555555555555556, \"#d8576b\"], [0.6666666666666666, \"#ed7953\"], [0.7777777777777778, \"#fb9f3a\"], [0.8888888888888888, \"#fdca26\"], [1.0, \"#f0f921\"]], \"sequentialminus\": [[0.0, \"#0d0887\"], [0.1111111111111111, \"#46039f\"], [0.2222222222222222, \"#7201a8\"], [0.3333333333333333, \"#9c179e\"], [0.4444444444444444, \"#bd3786\"], [0.5555555555555556, \"#d8576b\"], [0.6666666666666666, \"#ed7953\"], [0.7777777777777778, \"#fb9f3a\"], [0.8888888888888888, \"#fdca26\"], [1.0, \"#f0f921\"]]}, \"colorway\": [\"#636efa\", \"#EF553B\", \"#00cc96\", \"#ab63fa\", \"#FFA15A\", \"#19d3f3\", \"#FF6692\", \"#B6E880\", \"#FF97FF\", \"#FECB52\"], \"font\": {\"color\": \"#2a3f5f\"}, \"geo\": {\"bgcolor\": \"white\", \"lakecolor\": \"white\", \"landcolor\": \"#E5ECF6\", \"showlakes\": true, \"showland\": true, \"subunitcolor\": \"white\"}, \"hoverlabel\": {\"align\": \"left\"}, \"hovermode\": \"closest\", \"mapbox\": {\"style\": \"light\"}, \"paper_bgcolor\": \"white\", \"plot_bgcolor\": \"#E5ECF6\", \"polar\": {\"angularaxis\": {\"gridcolor\": \"white\", \"linecolor\": \"white\", \"ticks\": \"\"}, \"bgcolor\": \"#E5ECF6\", \"radialaxis\": {\"gridcolor\": \"white\", \"linecolor\": \"white\", \"ticks\": \"\"}}, \"scene\": {\"xaxis\": {\"backgroundcolor\": \"#E5ECF6\", \"gridcolor\": \"white\", \"gridwidth\": 2, \"linecolor\": \"white\", \"showbackground\": true, \"ticks\": \"\", \"zerolinecolor\": \"white\"}, \"yaxis\": {\"backgroundcolor\": \"#E5ECF6\", \"gridcolor\": \"white\", \"gridwidth\": 2, \"linecolor\": \"white\", \"showbackground\": true, \"ticks\": \"\", \"zerolinecolor\": \"white\"}, \"zaxis\": {\"backgroundcolor\": \"#E5ECF6\", \"gridcolor\": \"white\", \"gridwidth\": 2, \"linecolor\": \"white\", \"showbackground\": true, \"ticks\": \"\", \"zerolinecolor\": \"white\"}}, \"shapedefaults\": {\"line\": {\"color\": \"#2a3f5f\"}}, \"ternary\": {\"aaxis\": {\"gridcolor\": \"white\", \"linecolor\": \"white\", \"ticks\": \"\"}, \"baxis\": {\"gridcolor\": \"white\", \"linecolor\": \"white\", \"ticks\": \"\"}, \"bgcolor\": \"#E5ECF6\", \"caxis\": {\"gridcolor\": \"white\", \"linecolor\": \"white\", \"ticks\": \"\"}}, \"title\": {\"x\": 0.05}, \"xaxis\": {\"automargin\": true, \"gridcolor\": \"white\", \"linecolor\": \"white\", \"ticks\": \"\", \"zerolinecolor\": \"white\", \"zerolinewidth\": 2}, \"yaxis\": {\"automargin\": true, \"gridcolor\": \"white\", \"linecolor\": \"white\", \"ticks\": \"\", \"zerolinecolor\": \"white\", \"zerolinewidth\": 2}}}, \"xaxis\": {\"anchor\": \"y\", \"domain\": [0.0, 1.0], \"linecolor\": \"black\", \"matches\": \"x4\", \"mirror\": true, \"range\": [0, 2.4], \"showgrid\": false, \"showline\": true, \"showticklabels\": false, \"tickfont\": {\"size\": 12.0}, \"zeroline\": true, \"zerolinecolor\": \"black\", \"zerolinewidth\": 1.0}, \"xaxis2\": {\"anchor\": \"y2\", \"domain\": [0.0, 1.0], \"linecolor\": \"black\", \"matches\": \"x4\", \"mirror\": true, \"range\": [0, 2.4], \"showgrid\": false, \"showline\": true, \"showticklabels\": false, \"tickfont\": {\"size\": 12.0}, \"zeroline\": true, \"zerolinecolor\": \"black\", \"zerolinewidth\": 1.0}, \"xaxis3\": {\"anchor\": \"y3\", \"domain\": [0.0, 1.0], \"linecolor\": \"black\", \"matches\": \"x4\", \"mirror\": true, \"range\": [0, 2.4], \"showgrid\": false, \"showline\": true, \"showticklabels\": false, \"tickfont\": {\"size\": 12.0}, \"zeroline\": true, \"zerolinecolor\": \"black\", \"zerolinewidth\": 1.0}, \"xaxis4\": {\"anchor\": \"y4\", \"domain\": [0.0, 1.0], \"linecolor\": \"black\", \"mirror\": true, \"range\": [0, 2.4], \"showgrid\": false, \"showline\": true, \"tickfont\": {\"size\": 12.0}, \"zeroline\": true, \"zerolinecolor\": \"black\", \"zerolinewidth\": 1.0}, \"yaxis\": {\"anchor\": \"x\", \"domain\": [0.7875, 1.0], \"linecolor\": \"black\", \"mirror\": true, \"range\": [-0.35, 0.3], \"showgrid\": false, \"showline\": true, \"tickfont\": {\"size\": 12.0}, \"zeroline\": true, \"zerolinecolor\": \"black\", \"zerolinewidth\": 1.0}, \"yaxis2\": {\"anchor\": \"x2\", \"domain\": [0.525, 0.7375], \"linecolor\": \"black\", \"mirror\": true, \"range\": [-0.35, 0.3], \"showgrid\": false, \"showline\": true, \"tickfont\": {\"size\": 12.0}, \"zeroline\": true, \"zerolinecolor\": \"black\", \"zerolinewidth\": 1.0}, \"yaxis3\": {\"anchor\": \"x3\", \"domain\": [0.2625, 0.475], \"linecolor\": \"black\", \"mirror\": true, \"range\": [-0.35, 0.3], \"showgrid\": false, \"showline\": true, \"tickfont\": {\"size\": 12.0}, \"zeroline\": true, \"zerolinecolor\": \"black\", \"zerolinewidth\": 1.0}, \"yaxis4\": {\"anchor\": \"x4\", \"domain\": [0.0, 0.2125], \"linecolor\": \"black\", \"mirror\": true, \"range\": [-0.35, 0.3], \"showgrid\": false, \"showline\": true, \"tickfont\": {\"size\": 12.0}, \"zeroline\": true, \"zerolinecolor\": \"black\", \"zerolinewidth\": 1.0}},\n",
       "                        {\"responsive\": true}\n",
       "                    ).then(function(){\n",
       "                            \n",
       "var gd = document.getElementById('dec8650f-ef0c-4a72-a4e8-16747e0ab118');\n",
       "var x = new MutationObserver(function (mutations, observer) {{\n",
       "        var display = window.getComputedStyle(gd).display;\n",
       "        if (!display || display === 'none') {{\n",
       "            console.log([gd, 'removed!']);\n",
       "            Plotly.purge(gd);\n",
       "            observer.disconnect();\n",
       "        }}\n",
       "}});\n",
       "\n",
       "// Listen for the removal of the full notebook cells\n",
       "var notebookContainer = gd.closest('#notebook-container');\n",
       "if (notebookContainer) {{\n",
       "    x.observe(notebookContainer, {childList: true});\n",
       "}}\n",
       "\n",
       "// Listen for the clearing of the current output cell\n",
       "var outputEl = gd.closest('.output');\n",
       "if (outputEl) {{\n",
       "    x.observe(outputEl, {childList: true});\n",
       "}}\n",
       "\n",
       "                        })\n",
       "                };\n",
       "                });\n",
       "            </script>\n",
       "        </div>"
      ]
     },
     "metadata": {},
     "output_type": "display_data"
    }
   ],
   "source": [
    "fig = my_plotly_plot(\n",
    "    figure=fig,\n",
    "    layout=None,\n",
    "    layout_override=None,\n",
    "    plot_name=\"TEMP\",\n",
    "    save_dir=None,\n",
    "    data=None,\n",
    "    upload_plot=False,\n",
    "    )\n",
    "\n",
    "fig.show()"
   ]
  },
  {
   "cell_type": "code",
   "execution_count": 13,
   "metadata": {},
   "outputs": [],
   "source": [
    "%%capture\n",
    "\n",
    "fig.layout.update(dict(\n",
    "    showlegend=False,\n",
    "    width=8.0 * 37.795275591,\n",
    "    height=15.0 * 37.795275591,\n",
    "    ))"
   ]
  },
  {
   "cell_type": "code",
   "execution_count": 14,
   "metadata": {},
   "outputs": [
    {
     "data": {
      "application/vnd.plotly.v1+json": {
       "config": {
        "plotlyServerURL": "https://plot.ly"
       },
       "data": [
        {
         "line": {
          "color": "black",
          "dash": "dot",
          "width": 1
         },
         "mode": "lines",
         "name": "1.23",
         "type": "scatter",
         "x": [
          1.23,
          1.23
         ],
         "xaxis": "x",
         "y": [
          -5,
          5
         ],
         "yaxis": "y"
        },
        {
         "marker": {
          "color": "#57b557",
          "line": {
           "color": "rgb(0, 0, 0)",
           "width": 1
          },
          "size": 10,
          "symbol": "square"
         },
         "mode": "markers+lines",
         "name": "h_covered 100",
         "type": "scatter",
         "x": [
          -3,
          3
         ],
         "xaxis": "x",
         "y": [
          0.5435305149280971,
          -0.2852058637535987
         ],
         "yaxis": "y"
        },
        {
         "marker": {
          "color": "#3d933d",
          "line": {
           "color": "rgb(0, 0, 0)",
           "width": 1
          },
          "size": 10,
          "symbol": "square"
         },
         "mode": "markers+lines",
         "name": "o_covered 100",
         "type": "scatter",
         "x": [
          -3,
          3
         ],
         "xaxis": "x",
         "y": [
          1.0528518347377422,
          -0.6046209226256496
         ],
         "yaxis": "y"
        },
        {
         "marker": {
          "color": "#7fc97f",
          "line": {
           "color": "rgb(0, 0, 0)",
           "width": 1
          },
          "size": 10,
          "symbol": "square"
         },
         "mode": "markers+lines",
         "name": "bare 100",
         "type": "scatter",
         "x": [
          -3,
          3
         ],
         "xaxis": "x",
         "y": [
          0.1177071964134908,
          0.1177071964134908
         ],
         "yaxis": "y"
        },
        {
         "marker": {
          "color": "#57b557",
          "line": {
           "color": "rgb(0, 0, 0)",
           "width": 1
          },
          "size": 10,
          "symbol": "square"
         },
         "mode": "markers+lines",
         "name": "h_covered 110",
         "type": "scatter",
         "x": [
          -3,
          3
         ],
         "xaxis": "x",
         "y": [
          0.36658093607847037,
          -0.21942413814669467
         ],
         "yaxis": "y"
        },
        {
         "marker": {
          "color": "#3d933d",
          "line": {
           "color": "rgb(0, 0, 0)",
           "width": 1
          },
          "size": 10,
          "symbol": "square"
         },
         "mode": "markers+lines",
         "name": "o_covered 110",
         "type": "scatter",
         "x": [
          -3,
          3
         ],
         "xaxis": "x",
         "y": [
          0.7491045288324786,
          -0.4229056196178515
         ],
         "yaxis": "y"
        },
        {
         "marker": {
          "color": "#7fc97f",
          "line": {
           "color": "rgb(0, 0, 0)",
           "width": 1
          },
          "size": 10,
          "symbol": "square"
         },
         "mode": "markers+lines",
         "name": "bare 110",
         "type": "scatter",
         "x": [
          -3,
          3
         ],
         "xaxis": "x",
         "y": [
          0.08947919982611975,
          0.08947919982611975
         ],
         "yaxis": "y"
        },
        {
         "line": {
          "color": "black",
          "dash": "dot",
          "width": 1
         },
         "mode": "lines",
         "name": "1.23",
         "type": "scatter",
         "x": [
          1.23,
          1.23
         ],
         "xaxis": "x2",
         "y": [
          -5,
          5
         ],
         "yaxis": "y2"
        },
        {
         "marker": {
          "color": "#9f87bf",
          "line": {
           "color": "rgb(0, 0, 0)",
           "width": 1
          },
          "size": 10,
          "symbol": "square"
         },
         "mode": "markers+lines",
         "name": "h_covered 100",
         "type": "scatter",
         "x": [
          -3,
          3
         ],
         "xaxis": "x2",
         "y": [
          0.7225856509910457,
          -0.3625200123427886
         ],
         "yaxis": "y2"
        },
        {
         "marker": {
          "color": "#7f5fab",
          "line": {
           "color": "rgb(0, 0, 0)",
           "width": 1
          },
          "size": 10,
          "symbol": "square"
         },
         "mode": "markers+lines",
         "name": "o_covered 100",
         "type": "scatter",
         "x": [
          -3,
          3
         ],
         "xaxis": "x2",
         "y": [
          1.0703976217973097,
          -0.5572608732034418
         ],
         "yaxis": "y2"
        },
        {
         "marker": {
          "color": "#beaed4",
          "line": {
           "color": "rgb(0, 0, 0)",
           "width": 1
          },
          "size": 10,
          "symbol": "square"
         },
         "mode": "markers+lines",
         "name": "bare 100",
         "type": "scatter",
         "x": [
          -3,
          3
         ],
         "xaxis": "x2",
         "y": [
          0.3947291018040197,
          -0.1478237298628974
         ],
         "yaxis": "y2"
        },
        {
         "marker": {
          "color": "#9f87bf",
          "line": {
           "color": "rgb(0, 0, 0)",
           "width": 1
          },
          "size": 10,
          "symbol": "square"
         },
         "mode": "markers+lines",
         "name": "h_covered 110",
         "type": "scatter",
         "x": [
          -3,
          3
         ],
         "xaxis": "x2",
         "y": [
          0.002764667128502151,
          0.002764667128502151
         ],
         "yaxis": "y2"
        },
        {
         "marker": {
          "color": "#7f5fab",
          "line": {
           "color": "rgb(0, 0, 0)",
           "width": 1
          },
          "size": 10,
          "symbol": "square"
         },
         "mode": "markers+lines",
         "name": "o_covered 110",
         "type": "scatter",
         "x": [
          -3,
          3
         ],
         "xaxis": "x2",
         "y": [
          0.6304280860375181,
          -0.32474933472975076
         ],
         "yaxis": "y2"
        },
        {
         "marker": {
          "color": "#beaed4",
          "line": {
           "color": "rgb(0, 0, 0)",
           "width": 1
          },
          "size": 10,
          "symbol": "square"
         },
         "mode": "markers+lines",
         "name": "bare 110",
         "type": "scatter",
         "x": [
          -3,
          3
         ],
         "xaxis": "x2",
         "y": [
          0.1313763897351878,
          -0.3462123206484466
         ],
         "yaxis": "y2"
        },
        {
         "marker": {
          "color": "#9f87bf",
          "line": {
           "color": "rgb(0, 0, 0)",
           "width": 1
          },
          "size": 10,
          "symbol": "square"
         },
         "mode": "markers+lines",
         "name": "h_covered 111",
         "type": "scatter",
         "x": [
          -3,
          3
         ],
         "xaxis": "x2",
         "y": [
          0.0029108596987274045,
          0.0029108596987274045
         ],
         "yaxis": "y2"
        },
        {
         "marker": {
          "color": "#7f5fab",
          "line": {
           "color": "rgb(0, 0, 0)",
           "width": 1
          },
          "size": 10,
          "symbol": "square"
         },
         "mode": "markers+lines",
         "name": "o_covered 111",
         "type": "scatter",
         "x": [
          -3,
          3
         ],
         "xaxis": "x2",
         "y": [
          1.145332053887796,
          -0.5980377782430544
         ],
         "yaxis": "y2"
        },
        {
         "marker": {
          "color": "#beaed4",
          "line": {
           "color": "rgb(0, 0, 0)",
           "width": 1
          },
          "size": 10,
          "symbol": "square"
         },
         "mode": "markers+lines",
         "name": "bare 111",
         "type": "scatter",
         "x": [
          -3,
          3
         ],
         "xaxis": "x2",
         "y": [
          -0.13725708236063983,
          -0.13725708236063983
         ],
         "yaxis": "y2"
        },
        {
         "marker": {
          "color": "#9f87bf",
          "line": {
           "color": "rgb(0, 0, 0)",
           "width": 1
          },
          "size": 10,
          "symbol": "square"
         },
         "mode": "markers+lines",
         "name": "h_covered 211",
         "type": "scatter",
         "x": [
          -3,
          3
         ],
         "xaxis": "x2",
         "y": [
          0.4599687396647546,
          -0.23288918968150915
         ],
         "yaxis": "y2"
        },
        {
         "marker": {
          "color": "#7f5fab",
          "line": {
           "color": "rgb(0, 0, 0)",
           "width": 1
          },
          "size": 10,
          "symbol": "square"
         },
         "mode": "markers+lines",
         "name": "o_covered 211",
         "type": "scatter",
         "x": [
          -3,
          3
         ],
         "xaxis": "x2",
         "y": [
          0.911365896718912,
          -0.47434996197361545
         ],
         "yaxis": "y2"
        },
        {
         "marker": {
          "color": "#beaed4",
          "line": {
           "color": "rgb(0, 0, 0)",
           "width": 1
          },
          "size": 10,
          "symbol": "square"
         },
         "mode": "markers+lines",
         "name": "bare 211",
         "type": "scatter",
         "x": [
          -3,
          3
         ],
         "xaxis": "x2",
         "y": [
          0.05099308477079446,
          0.05099308477079446
         ],
         "yaxis": "y2"
        },
        {
         "line": {
          "color": "black",
          "dash": "dot",
          "width": 1
         },
         "mode": "lines",
         "name": "1.23",
         "type": "scatter",
         "x": [
          1.23,
          1.23
         ],
         "xaxis": "x3",
         "y": [
          -5,
          5
         ],
         "yaxis": "y3"
        },
        {
         "marker": {
          "color": "#ff1b8c",
          "line": {
           "color": "rgb(0, 0, 0)",
           "width": 1
          },
          "size": 10,
          "symbol": "square"
         },
         "mode": "markers+lines",
         "name": "o_covered 010",
         "type": "scatter",
         "x": [
          -3,
          3
         ],
         "xaxis": "x3",
         "y": [
          0.5692470945851252,
          -0.3411831781379427
         ],
         "yaxis": "y3"
        },
        {
         "marker": {
          "color": "#ff1b8c",
          "line": {
           "color": "rgb(0, 0, 0)",
           "width": 1
          },
          "size": 10,
          "symbol": "square"
         },
         "mode": "markers+lines",
         "name": "half_o_covered 010",
         "type": "scatter",
         "x": [
          -3,
          3
         ],
         "xaxis": "x3",
         "y": [
          0.28818695806140143,
          -0.1670281783001325
         ],
         "yaxis": "y3"
        },
        {
         "marker": {
          "color": "#ff61ae",
          "line": {
           "color": "rgb(0, 0, 0)",
           "width": 1
          },
          "size": 10,
          "symbol": "square"
         },
         "mode": "markers+lines",
         "name": "h_covered 010",
         "type": "scatter",
         "x": [
          -3,
          3
         ],
         "xaxis": "x3",
         "y": [
          0.27823257909644683,
          -0.17698255726508716
         ],
         "yaxis": "y3"
        },
        {
         "marker": {
          "color": "#ff9dcd",
          "line": {
           "color": "rgb(0, 0, 0)",
           "width": 1
          },
          "size": 10,
          "symbol": "square"
         },
         "mode": "markers+lines",
         "name": "bare 010",
         "type": "scatter",
         "x": [
          -3,
          3
         ],
         "xaxis": "x3",
         "y": [
          0.008790721438358235,
          0.008790721438358235
         ],
         "yaxis": "y3"
        },
        {
         "line": {
          "color": "black",
          "dash": "dot",
          "width": 1
         },
         "mode": "lines",
         "name": "1.23",
         "type": "scatter",
         "x": [
          1.23,
          1.23
         ],
         "xaxis": "x4",
         "y": [
          -5,
          5
         ],
         "yaxis": "y4"
        },
        {
         "marker": {
          "color": "#fca24c",
          "line": {
           "color": "rgb(0, 0, 0)",
           "width": 1
          },
          "size": 10,
          "symbol": "square"
         },
         "mode": "markers+lines",
         "name": "h_covered 001",
         "type": "scatter",
         "x": [
          -3,
          3
         ],
         "xaxis": "x4",
         "y": [
          -0.024027917010787905,
          -0.024027917010787905
         ],
         "yaxis": "y4"
        },
        {
         "marker": {
          "color": "#fa7d06",
          "line": {
           "color": "rgb(0, 0, 0)",
           "width": 1
          },
          "size": 10,
          "symbol": "square"
         },
         "mode": "markers+lines",
         "name": "o_covered 001",
         "type": "scatter",
         "x": [
          -3,
          3
         ],
         "xaxis": "x4",
         "y": [
          0.7053108642009569,
          -0.3828430544961875
         ],
         "yaxis": "y4"
        },
        {
         "marker": {
          "color": "#fdc187",
          "line": {
           "color": "rgb(0, 0, 0)",
           "width": 1
          },
          "size": 10,
          "symbol": "square"
         },
         "mode": "markers+lines",
         "name": "bare 001",
         "type": "scatter",
         "x": [
          -3,
          3
         ],
         "xaxis": "x4",
         "y": [
          0.15115460162887648,
          -0.3929223577196957
         ],
         "yaxis": "y4"
        },
        {
         "marker": {
          "color": "#fca24c",
          "line": {
           "color": "rgb(0, 0, 0)",
           "width": 1
          },
          "size": 10,
          "symbol": "square"
         },
         "mode": "markers+lines",
         "name": "h_covered 100",
         "type": "scatter",
         "x": [
          -3,
          3
         ],
         "xaxis": "x4",
         "y": [
          0.35663609125802265,
          -0.22918835188289613
         ],
         "yaxis": "y4"
        },
        {
         "marker": {
          "color": "#fa7d06",
          "line": {
           "color": "rgb(0, 0, 0)",
           "width": 1
          },
          "size": 10,
          "symbol": "square"
         },
         "mode": "markers+lines",
         "name": "o_covered 100",
         "type": "scatter",
         "x": [
          -3,
          3
         ],
         "xaxis": "x4",
         "y": [
          0.7446127137693436,
          -0.427036172512494
         ],
         "yaxis": "y4"
        },
        {
         "marker": {
          "color": "#fdc187",
          "line": {
           "color": "rgb(0, 0, 0)",
           "width": 1
          },
          "size": 10,
          "symbol": "square"
         },
         "mode": "markers+lines",
         "name": "bare 100",
         "type": "scatter",
         "x": [
          -3,
          3
         ],
         "xaxis": "x4",
         "y": [
          0.01456230403795859,
          0.01456230403795859
         ],
         "yaxis": "y4"
        },
        {
         "marker": {
          "color": "#fca24c",
          "line": {
           "color": "rgb(0, 0, 0)",
           "width": 1
          },
          "size": 10,
          "symbol": "square"
         },
         "mode": "markers+lines",
         "name": "h_covered 110",
         "type": "scatter",
         "x": [
          -3,
          3
         ],
         "xaxis": "x4",
         "y": [
          0.24831317192903454,
          -0.16592738063702653
         ],
         "yaxis": "y4"
        },
        {
         "marker": {
          "color": "#fa7d06",
          "line": {
           "color": "rgb(0, 0, 0)",
           "width": 1
          },
          "size": 10,
          "symbol": "square"
         },
         "mode": "markers+lines",
         "name": "o_covered 110",
         "type": "scatter",
         "x": [
          -3,
          3
         ],
         "xaxis": "x4",
         "y": [
          0.5217181233915875,
          -0.3067629817405347
         ],
         "yaxis": "y4"
        },
        {
         "marker": {
          "color": "#fdc187",
          "line": {
           "color": "rgb(0, 0, 0)",
           "width": 1
          },
          "size": 10,
          "symbol": "square"
         },
         "mode": "markers+lines",
         "name": "bare 110",
         "type": "scatter",
         "x": [
          -3,
          3
         ],
         "xaxis": "x4",
         "y": [
          0.020689205039307726,
          0.020689205039307726
         ],
         "yaxis": "y4"
        }
       ],
       "layout": {
        "annotations": [
         {
          "font": {
           "size": 13.333333333333332
          },
          "showarrow": false,
          "text": "Voltage (V vs RHE)",
          "x": 0.5,
          "xanchor": "center",
          "xref": "paper",
          "y": 0,
          "yanchor": "top",
          "yref": "paper",
          "yshift": -30
         },
         {
          "font": {
           "size": 13.333333333333332
          },
          "showarrow": false,
          "text": "Surface Free Energy (eV / A<sup>2</sup>)",
          "textangle": -90,
          "x": 0,
          "xanchor": "right",
          "xref": "paper",
          "xshift": -40,
          "y": 0.5,
          "yanchor": "middle",
          "yref": "paper"
         },
         {
          "bgcolor": "#7FC97F",
          "font": {
           "color": "black",
           "family": "Arial",
           "size": 12
          },
          "opacity": 1,
          "showarrow": false,
          "text": "IrO<sub>2</sub> (rutile)",
          "x": 2.4,
          "xanchor": "right",
          "xref": "x",
          "xshift": 0.4,
          "y": 0.3,
          "yanchor": "top",
          "yref": "y",
          "yshift": 0.5
         },
         {
          "bgcolor": "#BEAED4",
          "font": {
           "color": "black",
           "family": "Arial",
           "size": 12
          },
          "opacity": 1,
          "showarrow": false,
          "text": "IrO<sub>3</sub> (a-AlF<sub>3</sub>)",
          "x": 2.4,
          "xanchor": "right",
          "xref": "x2",
          "xshift": 0.4,
          "y": 0.3,
          "yanchor": "top",
          "yref": "y2",
          "yshift": 0.5
         },
         {
          "bgcolor": "#ff9dcd",
          "font": {
           "color": "black",
           "family": "Arial",
           "size": 12
          },
          "opacity": 1,
          "showarrow": false,
          "text": "IrO<sub>3</sub> (battery)",
          "x": 2.4,
          "xanchor": "right",
          "xref": "x3",
          "xshift": 0.4,
          "y": 0.3,
          "yanchor": "top",
          "yref": "y3",
          "yshift": 0.5
         },
         {
          "bgcolor": "#FDC086",
          "font": {
           "color": "black",
           "family": "Arial",
           "size": 12
          },
          "opacity": 1,
          "showarrow": false,
          "text": "IrO<sub>3</sub> (rutile)",
          "x": 2.4,
          "xanchor": "right",
          "xref": "x4",
          "xshift": 0.4,
          "y": 0.3,
          "yanchor": "top",
          "yref": "y4",
          "yshift": 0.5
         }
        ],
        "font": {
         "color": "black",
         "family": "Arial"
        },
        "height": 566.929133865,
        "margin": {
         "b": 50,
         "l": 60,
         "r": 5,
         "t": 10
        },
        "paper_bgcolor": "rgba(240,240,240,0.95)",
        "plot_bgcolor": "rgba(250,250,250,0.98)",
        "showlegend": false,
        "template": {
         "data": {
          "bar": [
           {
            "error_x": {
             "color": "#2a3f5f"
            },
            "error_y": {
             "color": "#2a3f5f"
            },
            "marker": {
             "line": {
              "color": "#E5ECF6",
              "width": 0.5
             }
            },
            "type": "bar"
           }
          ],
          "barpolar": [
           {
            "marker": {
             "line": {
              "color": "#E5ECF6",
              "width": 0.5
             }
            },
            "type": "barpolar"
           }
          ],
          "carpet": [
           {
            "aaxis": {
             "endlinecolor": "#2a3f5f",
             "gridcolor": "white",
             "linecolor": "white",
             "minorgridcolor": "white",
             "startlinecolor": "#2a3f5f"
            },
            "baxis": {
             "endlinecolor": "#2a3f5f",
             "gridcolor": "white",
             "linecolor": "white",
             "minorgridcolor": "white",
             "startlinecolor": "#2a3f5f"
            },
            "type": "carpet"
           }
          ],
          "choropleth": [
           {
            "colorbar": {
             "outlinewidth": 0,
             "ticks": ""
            },
            "type": "choropleth"
           }
          ],
          "contour": [
           {
            "colorbar": {
             "outlinewidth": 0,
             "ticks": ""
            },
            "colorscale": [
             [
              0,
              "#0d0887"
             ],
             [
              0.1111111111111111,
              "#46039f"
             ],
             [
              0.2222222222222222,
              "#7201a8"
             ],
             [
              0.3333333333333333,
              "#9c179e"
             ],
             [
              0.4444444444444444,
              "#bd3786"
             ],
             [
              0.5555555555555556,
              "#d8576b"
             ],
             [
              0.6666666666666666,
              "#ed7953"
             ],
             [
              0.7777777777777778,
              "#fb9f3a"
             ],
             [
              0.8888888888888888,
              "#fdca26"
             ],
             [
              1,
              "#f0f921"
             ]
            ],
            "type": "contour"
           }
          ],
          "contourcarpet": [
           {
            "colorbar": {
             "outlinewidth": 0,
             "ticks": ""
            },
            "type": "contourcarpet"
           }
          ],
          "heatmap": [
           {
            "colorbar": {
             "outlinewidth": 0,
             "ticks": ""
            },
            "colorscale": [
             [
              0,
              "#0d0887"
             ],
             [
              0.1111111111111111,
              "#46039f"
             ],
             [
              0.2222222222222222,
              "#7201a8"
             ],
             [
              0.3333333333333333,
              "#9c179e"
             ],
             [
              0.4444444444444444,
              "#bd3786"
             ],
             [
              0.5555555555555556,
              "#d8576b"
             ],
             [
              0.6666666666666666,
              "#ed7953"
             ],
             [
              0.7777777777777778,
              "#fb9f3a"
             ],
             [
              0.8888888888888888,
              "#fdca26"
             ],
             [
              1,
              "#f0f921"
             ]
            ],
            "type": "heatmap"
           }
          ],
          "heatmapgl": [
           {
            "colorbar": {
             "outlinewidth": 0,
             "ticks": ""
            },
            "colorscale": [
             [
              0,
              "#0d0887"
             ],
             [
              0.1111111111111111,
              "#46039f"
             ],
             [
              0.2222222222222222,
              "#7201a8"
             ],
             [
              0.3333333333333333,
              "#9c179e"
             ],
             [
              0.4444444444444444,
              "#bd3786"
             ],
             [
              0.5555555555555556,
              "#d8576b"
             ],
             [
              0.6666666666666666,
              "#ed7953"
             ],
             [
              0.7777777777777778,
              "#fb9f3a"
             ],
             [
              0.8888888888888888,
              "#fdca26"
             ],
             [
              1,
              "#f0f921"
             ]
            ],
            "type": "heatmapgl"
           }
          ],
          "histogram": [
           {
            "marker": {
             "colorbar": {
              "outlinewidth": 0,
              "ticks": ""
             }
            },
            "type": "histogram"
           }
          ],
          "histogram2d": [
           {
            "colorbar": {
             "outlinewidth": 0,
             "ticks": ""
            },
            "colorscale": [
             [
              0,
              "#0d0887"
             ],
             [
              0.1111111111111111,
              "#46039f"
             ],
             [
              0.2222222222222222,
              "#7201a8"
             ],
             [
              0.3333333333333333,
              "#9c179e"
             ],
             [
              0.4444444444444444,
              "#bd3786"
             ],
             [
              0.5555555555555556,
              "#d8576b"
             ],
             [
              0.6666666666666666,
              "#ed7953"
             ],
             [
              0.7777777777777778,
              "#fb9f3a"
             ],
             [
              0.8888888888888888,
              "#fdca26"
             ],
             [
              1,
              "#f0f921"
             ]
            ],
            "type": "histogram2d"
           }
          ],
          "histogram2dcontour": [
           {
            "colorbar": {
             "outlinewidth": 0,
             "ticks": ""
            },
            "colorscale": [
             [
              0,
              "#0d0887"
             ],
             [
              0.1111111111111111,
              "#46039f"
             ],
             [
              0.2222222222222222,
              "#7201a8"
             ],
             [
              0.3333333333333333,
              "#9c179e"
             ],
             [
              0.4444444444444444,
              "#bd3786"
             ],
             [
              0.5555555555555556,
              "#d8576b"
             ],
             [
              0.6666666666666666,
              "#ed7953"
             ],
             [
              0.7777777777777778,
              "#fb9f3a"
             ],
             [
              0.8888888888888888,
              "#fdca26"
             ],
             [
              1,
              "#f0f921"
             ]
            ],
            "type": "histogram2dcontour"
           }
          ],
          "mesh3d": [
           {
            "colorbar": {
             "outlinewidth": 0,
             "ticks": ""
            },
            "type": "mesh3d"
           }
          ],
          "parcoords": [
           {
            "line": {
             "colorbar": {
              "outlinewidth": 0,
              "ticks": ""
             }
            },
            "type": "parcoords"
           }
          ],
          "scatter": [
           {
            "marker": {
             "colorbar": {
              "outlinewidth": 0,
              "ticks": ""
             }
            },
            "type": "scatter"
           }
          ],
          "scatter3d": [
           {
            "line": {
             "colorbar": {
              "outlinewidth": 0,
              "ticks": ""
             }
            },
            "marker": {
             "colorbar": {
              "outlinewidth": 0,
              "ticks": ""
             }
            },
            "type": "scatter3d"
           }
          ],
          "scattercarpet": [
           {
            "marker": {
             "colorbar": {
              "outlinewidth": 0,
              "ticks": ""
             }
            },
            "type": "scattercarpet"
           }
          ],
          "scattergeo": [
           {
            "marker": {
             "colorbar": {
              "outlinewidth": 0,
              "ticks": ""
             }
            },
            "type": "scattergeo"
           }
          ],
          "scattergl": [
           {
            "marker": {
             "colorbar": {
              "outlinewidth": 0,
              "ticks": ""
             }
            },
            "type": "scattergl"
           }
          ],
          "scattermapbox": [
           {
            "marker": {
             "colorbar": {
              "outlinewidth": 0,
              "ticks": ""
             }
            },
            "type": "scattermapbox"
           }
          ],
          "scatterpolar": [
           {
            "marker": {
             "colorbar": {
              "outlinewidth": 0,
              "ticks": ""
             }
            },
            "type": "scatterpolar"
           }
          ],
          "scatterpolargl": [
           {
            "marker": {
             "colorbar": {
              "outlinewidth": 0,
              "ticks": ""
             }
            },
            "type": "scatterpolargl"
           }
          ],
          "scatterternary": [
           {
            "marker": {
             "colorbar": {
              "outlinewidth": 0,
              "ticks": ""
             }
            },
            "type": "scatterternary"
           }
          ],
          "surface": [
           {
            "colorbar": {
             "outlinewidth": 0,
             "ticks": ""
            },
            "colorscale": [
             [
              0,
              "#0d0887"
             ],
             [
              0.1111111111111111,
              "#46039f"
             ],
             [
              0.2222222222222222,
              "#7201a8"
             ],
             [
              0.3333333333333333,
              "#9c179e"
             ],
             [
              0.4444444444444444,
              "#bd3786"
             ],
             [
              0.5555555555555556,
              "#d8576b"
             ],
             [
              0.6666666666666666,
              "#ed7953"
             ],
             [
              0.7777777777777778,
              "#fb9f3a"
             ],
             [
              0.8888888888888888,
              "#fdca26"
             ],
             [
              1,
              "#f0f921"
             ]
            ],
            "type": "surface"
           }
          ],
          "table": [
           {
            "cells": {
             "fill": {
              "color": "#EBF0F8"
             },
             "line": {
              "color": "white"
             }
            },
            "header": {
             "fill": {
              "color": "#C8D4E3"
             },
             "line": {
              "color": "white"
             }
            },
            "type": "table"
           }
          ]
         },
         "layout": {
          "annotationdefaults": {
           "arrowcolor": "#2a3f5f",
           "arrowhead": 0,
           "arrowwidth": 1
          },
          "colorscale": {
           "diverging": [
            [
             0,
             "#8e0152"
            ],
            [
             0.1,
             "#c51b7d"
            ],
            [
             0.2,
             "#de77ae"
            ],
            [
             0.3,
             "#f1b6da"
            ],
            [
             0.4,
             "#fde0ef"
            ],
            [
             0.5,
             "#f7f7f7"
            ],
            [
             0.6,
             "#e6f5d0"
            ],
            [
             0.7,
             "#b8e186"
            ],
            [
             0.8,
             "#7fbc41"
            ],
            [
             0.9,
             "#4d9221"
            ],
            [
             1,
             "#276419"
            ]
           ],
           "sequential": [
            [
             0,
             "#0d0887"
            ],
            [
             0.1111111111111111,
             "#46039f"
            ],
            [
             0.2222222222222222,
             "#7201a8"
            ],
            [
             0.3333333333333333,
             "#9c179e"
            ],
            [
             0.4444444444444444,
             "#bd3786"
            ],
            [
             0.5555555555555556,
             "#d8576b"
            ],
            [
             0.6666666666666666,
             "#ed7953"
            ],
            [
             0.7777777777777778,
             "#fb9f3a"
            ],
            [
             0.8888888888888888,
             "#fdca26"
            ],
            [
             1,
             "#f0f921"
            ]
           ],
           "sequentialminus": [
            [
             0,
             "#0d0887"
            ],
            [
             0.1111111111111111,
             "#46039f"
            ],
            [
             0.2222222222222222,
             "#7201a8"
            ],
            [
             0.3333333333333333,
             "#9c179e"
            ],
            [
             0.4444444444444444,
             "#bd3786"
            ],
            [
             0.5555555555555556,
             "#d8576b"
            ],
            [
             0.6666666666666666,
             "#ed7953"
            ],
            [
             0.7777777777777778,
             "#fb9f3a"
            ],
            [
             0.8888888888888888,
             "#fdca26"
            ],
            [
             1,
             "#f0f921"
            ]
           ]
          },
          "colorway": [
           "#636efa",
           "#EF553B",
           "#00cc96",
           "#ab63fa",
           "#FFA15A",
           "#19d3f3",
           "#FF6692",
           "#B6E880",
           "#FF97FF",
           "#FECB52"
          ],
          "font": {
           "color": "#2a3f5f"
          },
          "geo": {
           "bgcolor": "white",
           "lakecolor": "white",
           "landcolor": "#E5ECF6",
           "showlakes": true,
           "showland": true,
           "subunitcolor": "white"
          },
          "hoverlabel": {
           "align": "left"
          },
          "hovermode": "closest",
          "mapbox": {
           "style": "light"
          },
          "paper_bgcolor": "white",
          "plot_bgcolor": "#E5ECF6",
          "polar": {
           "angularaxis": {
            "gridcolor": "white",
            "linecolor": "white",
            "ticks": ""
           },
           "bgcolor": "#E5ECF6",
           "radialaxis": {
            "gridcolor": "white",
            "linecolor": "white",
            "ticks": ""
           }
          },
          "scene": {
           "xaxis": {
            "backgroundcolor": "#E5ECF6",
            "gridcolor": "white",
            "gridwidth": 2,
            "linecolor": "white",
            "showbackground": true,
            "ticks": "",
            "zerolinecolor": "white"
           },
           "yaxis": {
            "backgroundcolor": "#E5ECF6",
            "gridcolor": "white",
            "gridwidth": 2,
            "linecolor": "white",
            "showbackground": true,
            "ticks": "",
            "zerolinecolor": "white"
           },
           "zaxis": {
            "backgroundcolor": "#E5ECF6",
            "gridcolor": "white",
            "gridwidth": 2,
            "linecolor": "white",
            "showbackground": true,
            "ticks": "",
            "zerolinecolor": "white"
           }
          },
          "shapedefaults": {
           "line": {
            "color": "#2a3f5f"
           }
          },
          "ternary": {
           "aaxis": {
            "gridcolor": "white",
            "linecolor": "white",
            "ticks": ""
           },
           "baxis": {
            "gridcolor": "white",
            "linecolor": "white",
            "ticks": ""
           },
           "bgcolor": "#E5ECF6",
           "caxis": {
            "gridcolor": "white",
            "linecolor": "white",
            "ticks": ""
           }
          },
          "title": {
           "x": 0.05
          },
          "xaxis": {
           "automargin": true,
           "gridcolor": "white",
           "linecolor": "white",
           "ticks": "",
           "zerolinecolor": "white",
           "zerolinewidth": 2
          },
          "yaxis": {
           "automargin": true,
           "gridcolor": "white",
           "linecolor": "white",
           "ticks": "",
           "zerolinecolor": "white",
           "zerolinewidth": 2
          }
         }
        },
        "width": 302.362204728,
        "xaxis": {
         "anchor": "y",
         "domain": [
          0,
          1
         ],
         "linecolor": "black",
         "matches": "x4",
         "mirror": true,
         "range": [
          0,
          2.4
         ],
         "showgrid": false,
         "showline": true,
         "showticklabels": false,
         "tickfont": {
          "size": 12
         },
         "type": "linear",
         "zeroline": true,
         "zerolinecolor": "black",
         "zerolinewidth": 1
        },
        "xaxis2": {
         "anchor": "y2",
         "domain": [
          0,
          1
         ],
         "linecolor": "black",
         "matches": "x4",
         "mirror": true,
         "range": [
          0,
          2.4
         ],
         "showgrid": false,
         "showline": true,
         "showticklabels": false,
         "tickfont": {
          "size": 12
         },
         "type": "linear",
         "zeroline": true,
         "zerolinecolor": "black",
         "zerolinewidth": 1
        },
        "xaxis3": {
         "anchor": "y3",
         "domain": [
          0,
          1
         ],
         "linecolor": "black",
         "matches": "x4",
         "mirror": true,
         "range": [
          0,
          2.4
         ],
         "showgrid": false,
         "showline": true,
         "showticklabels": false,
         "tickfont": {
          "size": 12
         },
         "type": "linear",
         "zeroline": true,
         "zerolinecolor": "black",
         "zerolinewidth": 1
        },
        "xaxis4": {
         "anchor": "y4",
         "domain": [
          0,
          1
         ],
         "linecolor": "black",
         "mirror": true,
         "range": [
          0,
          2.4
         ],
         "showgrid": false,
         "showline": true,
         "tickfont": {
          "size": 12
         },
         "type": "linear",
         "zeroline": true,
         "zerolinecolor": "black",
         "zerolinewidth": 1
        },
        "yaxis": {
         "anchor": "x",
         "domain": [
          0.7875,
          1
         ],
         "linecolor": "black",
         "mirror": true,
         "range": [
          -0.35,
          0.3
         ],
         "showgrid": false,
         "showline": true,
         "tickfont": {
          "size": 12
         },
         "type": "linear",
         "zeroline": true,
         "zerolinecolor": "black",
         "zerolinewidth": 1
        },
        "yaxis2": {
         "anchor": "x2",
         "domain": [
          0.525,
          0.7375
         ],
         "linecolor": "black",
         "mirror": true,
         "range": [
          -0.35,
          0.3
         ],
         "showgrid": false,
         "showline": true,
         "tickfont": {
          "size": 12
         },
         "type": "linear",
         "zeroline": true,
         "zerolinecolor": "black",
         "zerolinewidth": 1
        },
        "yaxis3": {
         "anchor": "x3",
         "domain": [
          0.2625,
          0.475
         ],
         "linecolor": "black",
         "mirror": true,
         "range": [
          -0.35,
          0.3
         ],
         "showgrid": false,
         "showline": true,
         "tickfont": {
          "size": 12
         },
         "type": "linear",
         "zeroline": true,
         "zerolinecolor": "black",
         "zerolinewidth": 1
        },
        "yaxis4": {
         "anchor": "x4",
         "domain": [
          0,
          0.2125
         ],
         "linecolor": "black",
         "mirror": true,
         "range": [
          -0.35,
          0.3
         ],
         "showgrid": false,
         "showline": true,
         "tickfont": {
          "size": 12
         },
         "type": "linear",
         "zeroline": true,
         "zerolinecolor": "black",
         "zerolinewidth": 1
        }
       }
      },
      "image/png": "[encoded data removed]",
      "text/html": [
       "<div>\n",
       "        \n",
       "        \n",
       "            <div id=\"cd29a3de-7cd8-4ece-bf10-64bca366e0cc\" class=\"plotly-graph-div\" style=\"height:566.929133865px; width:302.362204728px;\"></div>\n",
       "            <script type=\"text/javascript\">\n",
       "                require([\"plotly\"], function(Plotly) {\n",
       "                    window.PLOTLYENV=window.PLOTLYENV || {};\n",
       "                    \n",
       "                if (document.getElementById(\"cd29a3de-7cd8-4ece-bf10-64bca366e0cc\")) {\n",
       "                    Plotly.newPlot(\n",
       "                        'cd29a3de-7cd8-4ece-bf10-64bca366e0cc',\n",
       "                        [{\"line\": {\"color\": \"black\", \"dash\": \"dot\", \"width\": 1}, \"mode\": \"lines\", \"name\": \"1.23\", \"type\": \"scatter\", \"x\": [1.23, 1.23], \"xaxis\": \"x\", \"y\": [-5, 5], \"yaxis\": \"y\"}, {\"marker\": {\"color\": \"#57b557\", \"line\": {\"color\": \"rgb(0, 0, 0)\", \"width\": 1}, \"size\": 10, \"symbol\": \"square\"}, \"mode\": \"markers+lines\", \"name\": \"h_covered 100\", \"type\": \"scatter\", \"x\": [-3, 3], \"xaxis\": \"x\", \"y\": [0.5435305149280971, -0.2852058637535987], \"yaxis\": \"y\"}, {\"marker\": {\"color\": \"#3d933d\", \"line\": {\"color\": \"rgb(0, 0, 0)\", \"width\": 1}, \"size\": 10, \"symbol\": \"square\"}, \"mode\": \"markers+lines\", \"name\": \"o_covered 100\", \"type\": \"scatter\", \"x\": [-3, 3], \"xaxis\": \"x\", \"y\": [1.0528518347377422, -0.6046209226256496], \"yaxis\": \"y\"}, {\"marker\": {\"color\": \"#7fc97f\", \"line\": {\"color\": \"rgb(0, 0, 0)\", \"width\": 1}, \"size\": 10, \"symbol\": \"square\"}, \"mode\": \"markers+lines\", \"name\": \"bare 100\", \"type\": \"scatter\", \"x\": [-3, 3], \"xaxis\": \"x\", \"y\": [0.1177071964134908, 0.1177071964134908], \"yaxis\": \"y\"}, {\"marker\": {\"color\": \"#57b557\", \"line\": {\"color\": \"rgb(0, 0, 0)\", \"width\": 1}, \"size\": 10, \"symbol\": \"square\"}, \"mode\": \"markers+lines\", \"name\": \"h_covered 110\", \"type\": \"scatter\", \"x\": [-3, 3], \"xaxis\": \"x\", \"y\": [0.36658093607847037, -0.21942413814669467], \"yaxis\": \"y\"}, {\"marker\": {\"color\": \"#3d933d\", \"line\": {\"color\": \"rgb(0, 0, 0)\", \"width\": 1}, \"size\": 10, \"symbol\": \"square\"}, \"mode\": \"markers+lines\", \"name\": \"o_covered 110\", \"type\": \"scatter\", \"x\": [-3, 3], \"xaxis\": \"x\", \"y\": [0.7491045288324786, -0.4229056196178515], \"yaxis\": \"y\"}, {\"marker\": {\"color\": \"#7fc97f\", \"line\": {\"color\": \"rgb(0, 0, 0)\", \"width\": 1}, \"size\": 10, \"symbol\": \"square\"}, \"mode\": \"markers+lines\", \"name\": \"bare 110\", \"type\": \"scatter\", \"x\": [-3, 3], \"xaxis\": \"x\", \"y\": [0.08947919982611975, 0.08947919982611975], \"yaxis\": \"y\"}, {\"line\": {\"color\": \"black\", \"dash\": \"dot\", \"width\": 1}, \"mode\": \"lines\", \"name\": \"1.23\", \"type\": \"scatter\", \"x\": [1.23, 1.23], \"xaxis\": \"x2\", \"y\": [-5, 5], \"yaxis\": \"y2\"}, {\"marker\": {\"color\": \"#9f87bf\", \"line\": {\"color\": \"rgb(0, 0, 0)\", \"width\": 1}, \"size\": 10, \"symbol\": \"square\"}, \"mode\": \"markers+lines\", \"name\": \"h_covered 100\", \"type\": \"scatter\", \"x\": [-3, 3], \"xaxis\": \"x2\", \"y\": [0.7225856509910457, -0.3625200123427886], \"yaxis\": \"y2\"}, {\"marker\": {\"color\": \"#7f5fab\", \"line\": {\"color\": \"rgb(0, 0, 0)\", \"width\": 1}, \"size\": 10, \"symbol\": \"square\"}, \"mode\": \"markers+lines\", \"name\": \"o_covered 100\", \"type\": \"scatter\", \"x\": [-3, 3], \"xaxis\": \"x2\", \"y\": [1.0703976217973097, -0.5572608732034418], \"yaxis\": \"y2\"}, {\"marker\": {\"color\": \"#beaed4\", \"line\": {\"color\": \"rgb(0, 0, 0)\", \"width\": 1}, \"size\": 10, \"symbol\": \"square\"}, \"mode\": \"markers+lines\", \"name\": \"bare 100\", \"type\": \"scatter\", \"x\": [-3, 3], \"xaxis\": \"x2\", \"y\": [0.3947291018040197, -0.1478237298628974], \"yaxis\": \"y2\"}, {\"marker\": {\"color\": \"#9f87bf\", \"line\": {\"color\": \"rgb(0, 0, 0)\", \"width\": 1}, \"size\": 10, \"symbol\": \"square\"}, \"mode\": \"markers+lines\", \"name\": \"h_covered 110\", \"type\": \"scatter\", \"x\": [-3, 3], \"xaxis\": \"x2\", \"y\": [0.002764667128502151, 0.002764667128502151], \"yaxis\": \"y2\"}, {\"marker\": {\"color\": \"#7f5fab\", \"line\": {\"color\": \"rgb(0, 0, 0)\", \"width\": 1}, \"size\": 10, \"symbol\": \"square\"}, \"mode\": \"markers+lines\", \"name\": \"o_covered 110\", \"type\": \"scatter\", \"x\": [-3, 3], \"xaxis\": \"x2\", \"y\": [0.6304280860375181, -0.32474933472975076], \"yaxis\": \"y2\"}, {\"marker\": {\"color\": \"#beaed4\", \"line\": {\"color\": \"rgb(0, 0, 0)\", \"width\": 1}, \"size\": 10, \"symbol\": \"square\"}, \"mode\": \"markers+lines\", \"name\": \"bare 110\", \"type\": \"scatter\", \"x\": [-3, 3], \"xaxis\": \"x2\", \"y\": [0.1313763897351878, -0.3462123206484466], \"yaxis\": \"y2\"}, {\"marker\": {\"color\": \"#9f87bf\", \"line\": {\"color\": \"rgb(0, 0, 0)\", \"width\": 1}, \"size\": 10, \"symbol\": \"square\"}, \"mode\": \"markers+lines\", \"name\": \"h_covered 111\", \"type\": \"scatter\", \"x\": [-3, 3], \"xaxis\": \"x2\", \"y\": [0.0029108596987274045, 0.0029108596987274045], \"yaxis\": \"y2\"}, {\"marker\": {\"color\": \"#7f5fab\", \"line\": {\"color\": \"rgb(0, 0, 0)\", \"width\": 1}, \"size\": 10, \"symbol\": \"square\"}, \"mode\": \"markers+lines\", \"name\": \"o_covered 111\", \"type\": \"scatter\", \"x\": [-3, 3], \"xaxis\": \"x2\", \"y\": [1.145332053887796, -0.5980377782430544], \"yaxis\": \"y2\"}, {\"marker\": {\"color\": \"#beaed4\", \"line\": {\"color\": \"rgb(0, 0, 0)\", \"width\": 1}, \"size\": 10, \"symbol\": \"square\"}, \"mode\": \"markers+lines\", \"name\": \"bare 111\", \"type\": \"scatter\", \"x\": [-3, 3], \"xaxis\": \"x2\", \"y\": [-0.13725708236063983, -0.13725708236063983], \"yaxis\": \"y2\"}, {\"marker\": {\"color\": \"#9f87bf\", \"line\": {\"color\": \"rgb(0, 0, 0)\", \"width\": 1}, \"size\": 10, \"symbol\": \"square\"}, \"mode\": \"markers+lines\", \"name\": \"h_covered 211\", \"type\": \"scatter\", \"x\": [-3, 3], \"xaxis\": \"x2\", \"y\": [0.4599687396647546, -0.23288918968150915], \"yaxis\": \"y2\"}, {\"marker\": {\"color\": \"#7f5fab\", \"line\": {\"color\": \"rgb(0, 0, 0)\", \"width\": 1}, \"size\": 10, \"symbol\": \"square\"}, \"mode\": \"markers+lines\", \"name\": \"o_covered 211\", \"type\": \"scatter\", \"x\": [-3, 3], \"xaxis\": \"x2\", \"y\": [0.911365896718912, -0.47434996197361545], \"yaxis\": \"y2\"}, {\"marker\": {\"color\": \"#beaed4\", \"line\": {\"color\": \"rgb(0, 0, 0)\", \"width\": 1}, \"size\": 10, \"symbol\": \"square\"}, \"mode\": \"markers+lines\", \"name\": \"bare 211\", \"type\": \"scatter\", \"x\": [-3, 3], \"xaxis\": \"x2\", \"y\": [0.05099308477079446, 0.05099308477079446], \"yaxis\": \"y2\"}, {\"line\": {\"color\": \"black\", \"dash\": \"dot\", \"width\": 1}, \"mode\": \"lines\", \"name\": \"1.23\", \"type\": \"scatter\", \"x\": [1.23, 1.23], \"xaxis\": \"x3\", \"y\": [-5, 5], \"yaxis\": \"y3\"}, {\"marker\": {\"color\": \"#ff1b8c\", \"line\": {\"color\": \"rgb(0, 0, 0)\", \"width\": 1}, \"size\": 10, \"symbol\": \"square\"}, \"mode\": \"markers+lines\", \"name\": \"o_covered 010\", \"type\": \"scatter\", \"x\": [-3, 3], \"xaxis\": \"x3\", \"y\": [0.5692470945851252, -0.3411831781379427], \"yaxis\": \"y3\"}, {\"marker\": {\"color\": \"#ff1b8c\", \"line\": {\"color\": \"rgb(0, 0, 0)\", \"width\": 1}, \"size\": 10, \"symbol\": \"square\"}, \"mode\": \"markers+lines\", \"name\": \"half_o_covered 010\", \"type\": \"scatter\", \"x\": [-3, 3], \"xaxis\": \"x3\", \"y\": [0.28818695806140143, -0.1670281783001325], \"yaxis\": \"y3\"}, {\"marker\": {\"color\": \"#ff61ae\", \"line\": {\"color\": \"rgb(0, 0, 0)\", \"width\": 1}, \"size\": 10, \"symbol\": \"square\"}, \"mode\": \"markers+lines\", \"name\": \"h_covered 010\", \"type\": \"scatter\", \"x\": [-3, 3], \"xaxis\": \"x3\", \"y\": [0.27823257909644683, -0.17698255726508716], \"yaxis\": \"y3\"}, {\"marker\": {\"color\": \"#ff9dcd\", \"line\": {\"color\": \"rgb(0, 0, 0)\", \"width\": 1}, \"size\": 10, \"symbol\": \"square\"}, \"mode\": \"markers+lines\", \"name\": \"bare 010\", \"type\": \"scatter\", \"x\": [-3, 3], \"xaxis\": \"x3\", \"y\": [0.008790721438358235, 0.008790721438358235], \"yaxis\": \"y3\"}, {\"line\": {\"color\": \"black\", \"dash\": \"dot\", \"width\": 1}, \"mode\": \"lines\", \"name\": \"1.23\", \"type\": \"scatter\", \"x\": [1.23, 1.23], \"xaxis\": \"x4\", \"y\": [-5, 5], \"yaxis\": \"y4\"}, {\"marker\": {\"color\": \"#fca24c\", \"line\": {\"color\": \"rgb(0, 0, 0)\", \"width\": 1}, \"size\": 10, \"symbol\": \"square\"}, \"mode\": \"markers+lines\", \"name\": \"h_covered 001\", \"type\": \"scatter\", \"x\": [-3, 3], \"xaxis\": \"x4\", \"y\": [-0.024027917010787905, -0.024027917010787905], \"yaxis\": \"y4\"}, {\"marker\": {\"color\": \"#fa7d06\", \"line\": {\"color\": \"rgb(0, 0, 0)\", \"width\": 1}, \"size\": 10, \"symbol\": \"square\"}, \"mode\": \"markers+lines\", \"name\": \"o_covered 001\", \"type\": \"scatter\", \"x\": [-3, 3], \"xaxis\": \"x4\", \"y\": [0.7053108642009569, -0.3828430544961875], \"yaxis\": \"y4\"}, {\"marker\": {\"color\": \"#fdc187\", \"line\": {\"color\": \"rgb(0, 0, 0)\", \"width\": 1}, \"size\": 10, \"symbol\": \"square\"}, \"mode\": \"markers+lines\", \"name\": \"bare 001\", \"type\": \"scatter\", \"x\": [-3, 3], \"xaxis\": \"x4\", \"y\": [0.15115460162887648, -0.3929223577196957], \"yaxis\": \"y4\"}, {\"marker\": {\"color\": \"#fca24c\", \"line\": {\"color\": \"rgb(0, 0, 0)\", \"width\": 1}, \"size\": 10, \"symbol\": \"square\"}, \"mode\": \"markers+lines\", \"name\": \"h_covered 100\", \"type\": \"scatter\", \"x\": [-3, 3], \"xaxis\": \"x4\", \"y\": [0.35663609125802265, -0.22918835188289613], \"yaxis\": \"y4\"}, {\"marker\": {\"color\": \"#fa7d06\", \"line\": {\"color\": \"rgb(0, 0, 0)\", \"width\": 1}, \"size\": 10, \"symbol\": \"square\"}, \"mode\": \"markers+lines\", \"name\": \"o_covered 100\", \"type\": \"scatter\", \"x\": [-3, 3], \"xaxis\": \"x4\", \"y\": [0.7446127137693436, -0.427036172512494], \"yaxis\": \"y4\"}, {\"marker\": {\"color\": \"#fdc187\", \"line\": {\"color\": \"rgb(0, 0, 0)\", \"width\": 1}, \"size\": 10, \"symbol\": \"square\"}, \"mode\": \"markers+lines\", \"name\": \"bare 100\", \"type\": \"scatter\", \"x\": [-3, 3], \"xaxis\": \"x4\", \"y\": [0.01456230403795859, 0.01456230403795859], \"yaxis\": \"y4\"}, {\"marker\": {\"color\": \"#fca24c\", \"line\": {\"color\": \"rgb(0, 0, 0)\", \"width\": 1}, \"size\": 10, \"symbol\": \"square\"}, \"mode\": \"markers+lines\", \"name\": \"h_covered 110\", \"type\": \"scatter\", \"x\": [-3, 3], \"xaxis\": \"x4\", \"y\": [0.24831317192903454, -0.16592738063702653], \"yaxis\": \"y4\"}, {\"marker\": {\"color\": \"#fa7d06\", \"line\": {\"color\": \"rgb(0, 0, 0)\", \"width\": 1}, \"size\": 10, \"symbol\": \"square\"}, \"mode\": \"markers+lines\", \"name\": \"o_covered 110\", \"type\": \"scatter\", \"x\": [-3, 3], \"xaxis\": \"x4\", \"y\": [0.5217181233915875, -0.3067629817405347], \"yaxis\": \"y4\"}, {\"marker\": {\"color\": \"#fdc187\", \"line\": {\"color\": \"rgb(0, 0, 0)\", \"width\": 1}, \"size\": 10, \"symbol\": \"square\"}, \"mode\": \"markers+lines\", \"name\": \"bare 110\", \"type\": \"scatter\", \"x\": [-3, 3], \"xaxis\": \"x4\", \"y\": [0.020689205039307726, 0.020689205039307726], \"yaxis\": \"y4\"}],\n",
       "                        {\"annotations\": [{\"font\": {\"size\": 13.333333333333332}, \"showarrow\": false, \"text\": \"Voltage (V vs RHE)\", \"x\": 0.5, \"xanchor\": \"center\", \"xref\": \"paper\", \"y\": 0, \"yanchor\": \"top\", \"yref\": \"paper\", \"yshift\": -30}, {\"font\": {\"size\": 13.333333333333332}, \"showarrow\": false, \"text\": \"Surface Free Energy (eV / A<sup>2</sup>)\", \"textangle\": -90, \"x\": 0, \"xanchor\": \"right\", \"xref\": \"paper\", \"xshift\": -40, \"y\": 0.5, \"yanchor\": \"middle\", \"yref\": \"paper\"}, {\"bgcolor\": \"#7FC97F\", \"font\": {\"color\": \"black\", \"family\": \"Arial\", \"size\": 12.0}, \"opacity\": 1.0, \"showarrow\": false, \"text\": \"IrO<sub>2</sub> (rutile)\", \"x\": 2.4, \"xanchor\": \"right\", \"xref\": \"x\", \"xshift\": 0.4, \"y\": 0.3, \"yanchor\": \"top\", \"yref\": \"y\", \"yshift\": 0.5}, {\"bgcolor\": \"#BEAED4\", \"font\": {\"color\": \"black\", \"family\": \"Arial\", \"size\": 12.0}, \"opacity\": 1.0, \"showarrow\": false, \"text\": \"IrO<sub>3</sub> (a-AlF<sub>3</sub>)\", \"x\": 2.4, \"xanchor\": \"right\", \"xref\": \"x2\", \"xshift\": 0.4, \"y\": 0.3, \"yanchor\": \"top\", \"yref\": \"y2\", \"yshift\": 0.5}, {\"bgcolor\": \"#ff9dcd\", \"font\": {\"color\": \"black\", \"family\": \"Arial\", \"size\": 12.0}, \"opacity\": 1.0, \"showarrow\": false, \"text\": \"IrO<sub>3</sub> (battery)\", \"x\": 2.4, \"xanchor\": \"right\", \"xref\": \"x3\", \"xshift\": 0.4, \"y\": 0.3, \"yanchor\": \"top\", \"yref\": \"y3\", \"yshift\": 0.5}, {\"bgcolor\": \"#FDC086\", \"font\": {\"color\": \"black\", \"family\": \"Arial\", \"size\": 12.0}, \"opacity\": 1.0, \"showarrow\": false, \"text\": \"IrO<sub>3</sub> (rutile)\", \"x\": 2.4, \"xanchor\": \"right\", \"xref\": \"x4\", \"xshift\": 0.4, \"y\": 0.3, \"yanchor\": \"top\", \"yref\": \"y4\", \"yshift\": 0.5}], \"font\": {\"color\": \"black\", \"family\": \"Arial\"}, \"height\": 566.929133865, \"margin\": {\"b\": 50, \"l\": 60, \"r\": 5, \"t\": 10}, \"paper_bgcolor\": \"rgba(240,240,240,0.95)\", \"plot_bgcolor\": \"rgba(250,250,250,0.98)\", \"showlegend\": false, \"template\": {\"data\": {\"bar\": [{\"error_x\": {\"color\": \"#2a3f5f\"}, \"error_y\": {\"color\": \"#2a3f5f\"}, \"marker\": {\"line\": {\"color\": \"#E5ECF6\", \"width\": 0.5}}, \"type\": \"bar\"}], \"barpolar\": [{\"marker\": {\"line\": {\"color\": \"#E5ECF6\", \"width\": 0.5}}, \"type\": \"barpolar\"}], \"carpet\": [{\"aaxis\": {\"endlinecolor\": \"#2a3f5f\", \"gridcolor\": \"white\", \"linecolor\": \"white\", \"minorgridcolor\": \"white\", \"startlinecolor\": \"#2a3f5f\"}, \"baxis\": {\"endlinecolor\": \"#2a3f5f\", \"gridcolor\": \"white\", \"linecolor\": \"white\", \"minorgridcolor\": \"white\", \"startlinecolor\": \"#2a3f5f\"}, \"type\": \"carpet\"}], \"choropleth\": [{\"colorbar\": {\"outlinewidth\": 0, \"ticks\": \"\"}, \"type\": \"choropleth\"}], \"contour\": [{\"colorbar\": {\"outlinewidth\": 0, \"ticks\": \"\"}, \"colorscale\": [[0.0, \"#0d0887\"], [0.1111111111111111, \"#46039f\"], [0.2222222222222222, \"#7201a8\"], [0.3333333333333333, \"#9c179e\"], [0.4444444444444444, \"#bd3786\"], [0.5555555555555556, \"#d8576b\"], [0.6666666666666666, \"#ed7953\"], [0.7777777777777778, \"#fb9f3a\"], [0.8888888888888888, \"#fdca26\"], [1.0, \"#f0f921\"]], \"type\": \"contour\"}], \"contourcarpet\": [{\"colorbar\": {\"outlinewidth\": 0, \"ticks\": \"\"}, \"type\": \"contourcarpet\"}], \"heatmap\": [{\"colorbar\": {\"outlinewidth\": 0, \"ticks\": \"\"}, \"colorscale\": [[0.0, \"#0d0887\"], [0.1111111111111111, \"#46039f\"], [0.2222222222222222, \"#7201a8\"], [0.3333333333333333, \"#9c179e\"], [0.4444444444444444, \"#bd3786\"], [0.5555555555555556, \"#d8576b\"], [0.6666666666666666, \"#ed7953\"], [0.7777777777777778, \"#fb9f3a\"], [0.8888888888888888, \"#fdca26\"], [1.0, \"#f0f921\"]], \"type\": \"heatmap\"}], \"heatmapgl\": [{\"colorbar\": {\"outlinewidth\": 0, \"ticks\": \"\"}, \"colorscale\": [[0.0, \"#0d0887\"], [0.1111111111111111, \"#46039f\"], [0.2222222222222222, \"#7201a8\"], [0.3333333333333333, \"#9c179e\"], [0.4444444444444444, \"#bd3786\"], [0.5555555555555556, \"#d8576b\"], [0.6666666666666666, \"#ed7953\"], [0.7777777777777778, \"#fb9f3a\"], [0.8888888888888888, \"#fdca26\"], [1.0, \"#f0f921\"]], \"type\": \"heatmapgl\"}], \"histogram\": [{\"marker\": {\"colorbar\": {\"outlinewidth\": 0, \"ticks\": \"\"}}, \"type\": \"histogram\"}], \"histogram2d\": [{\"colorbar\": {\"outlinewidth\": 0, \"ticks\": \"\"}, \"colorscale\": [[0.0, \"#0d0887\"], [0.1111111111111111, \"#46039f\"], [0.2222222222222222, \"#7201a8\"], [0.3333333333333333, \"#9c179e\"], [0.4444444444444444, \"#bd3786\"], [0.5555555555555556, \"#d8576b\"], [0.6666666666666666, \"#ed7953\"], [0.7777777777777778, \"#fb9f3a\"], [0.8888888888888888, \"#fdca26\"], [1.0, \"#f0f921\"]], \"type\": \"histogram2d\"}], \"histogram2dcontour\": [{\"colorbar\": {\"outlinewidth\": 0, \"ticks\": \"\"}, \"colorscale\": [[0.0, \"#0d0887\"], [0.1111111111111111, \"#46039f\"], [0.2222222222222222, \"#7201a8\"], [0.3333333333333333, \"#9c179e\"], [0.4444444444444444, \"#bd3786\"], [0.5555555555555556, \"#d8576b\"], [0.6666666666666666, \"#ed7953\"], [0.7777777777777778, \"#fb9f3a\"], [0.8888888888888888, \"#fdca26\"], [1.0, \"#f0f921\"]], \"type\": \"histogram2dcontour\"}], \"mesh3d\": [{\"colorbar\": {\"outlinewidth\": 0, \"ticks\": \"\"}, \"type\": \"mesh3d\"}], \"parcoords\": [{\"line\": {\"colorbar\": {\"outlinewidth\": 0, \"ticks\": \"\"}}, \"type\": \"parcoords\"}], \"scatter\": [{\"marker\": {\"colorbar\": {\"outlinewidth\": 0, \"ticks\": \"\"}}, \"type\": \"scatter\"}], \"scatter3d\": [{\"line\": {\"colorbar\": {\"outlinewidth\": 0, \"ticks\": \"\"}}, \"marker\": {\"colorbar\": {\"outlinewidth\": 0, \"ticks\": \"\"}}, \"type\": \"scatter3d\"}], \"scattercarpet\": [{\"marker\": {\"colorbar\": {\"outlinewidth\": 0, \"ticks\": \"\"}}, \"type\": \"scattercarpet\"}], \"scattergeo\": [{\"marker\": {\"colorbar\": {\"outlinewidth\": 0, \"ticks\": \"\"}}, \"type\": \"scattergeo\"}], \"scattergl\": [{\"marker\": {\"colorbar\": {\"outlinewidth\": 0, \"ticks\": \"\"}}, \"type\": \"scattergl\"}], \"scattermapbox\": [{\"marker\": {\"colorbar\": {\"outlinewidth\": 0, \"ticks\": \"\"}}, \"type\": \"scattermapbox\"}], \"scatterpolar\": [{\"marker\": {\"colorbar\": {\"outlinewidth\": 0, \"ticks\": \"\"}}, \"type\": \"scatterpolar\"}], \"scatterpolargl\": [{\"marker\": {\"colorbar\": {\"outlinewidth\": 0, \"ticks\": \"\"}}, \"type\": \"scatterpolargl\"}], \"scatterternary\": [{\"marker\": {\"colorbar\": {\"outlinewidth\": 0, \"ticks\": \"\"}}, \"type\": \"scatterternary\"}], \"surface\": [{\"colorbar\": {\"outlinewidth\": 0, \"ticks\": \"\"}, \"colorscale\": [[0.0, \"#0d0887\"], [0.1111111111111111, \"#46039f\"], [0.2222222222222222, \"#7201a8\"], [0.3333333333333333, \"#9c179e\"], [0.4444444444444444, \"#bd3786\"], [0.5555555555555556, \"#d8576b\"], [0.6666666666666666, \"#ed7953\"], [0.7777777777777778, \"#fb9f3a\"], [0.8888888888888888, \"#fdca26\"], [1.0, \"#f0f921\"]], \"type\": \"surface\"}], \"table\": [{\"cells\": {\"fill\": {\"color\": \"#EBF0F8\"}, \"line\": {\"color\": \"white\"}}, \"header\": {\"fill\": {\"color\": \"#C8D4E3\"}, \"line\": {\"color\": \"white\"}}, \"type\": \"table\"}]}, \"layout\": {\"annotationdefaults\": {\"arrowcolor\": \"#2a3f5f\", \"arrowhead\": 0, \"arrowwidth\": 1}, \"colorscale\": {\"diverging\": [[0, \"#8e0152\"], [0.1, \"#c51b7d\"], [0.2, \"#de77ae\"], [0.3, \"#f1b6da\"], [0.4, \"#fde0ef\"], [0.5, \"#f7f7f7\"], [0.6, \"#e6f5d0\"], [0.7, \"#b8e186\"], [0.8, \"#7fbc41\"], [0.9, \"#4d9221\"], [1, \"#276419\"]], \"sequential\": [[0.0, \"#0d0887\"], [0.1111111111111111, \"#46039f\"], [0.2222222222222222, \"#7201a8\"], [0.3333333333333333, \"#9c179e\"], [0.4444444444444444, \"#bd3786\"], [0.5555555555555556, \"#d8576b\"], [0.6666666666666666, \"#ed7953\"], [0.7777777777777778, \"#fb9f3a\"], [0.8888888888888888, \"#fdca26\"], [1.0, \"#f0f921\"]], \"sequentialminus\": [[0.0, \"#0d0887\"], [0.1111111111111111, \"#46039f\"], [0.2222222222222222, \"#7201a8\"], [0.3333333333333333, \"#9c179e\"], [0.4444444444444444, \"#bd3786\"], [0.5555555555555556, \"#d8576b\"], [0.6666666666666666, \"#ed7953\"], [0.7777777777777778, \"#fb9f3a\"], [0.8888888888888888, \"#fdca26\"], [1.0, \"#f0f921\"]]}, \"colorway\": [\"#636efa\", \"#EF553B\", \"#00cc96\", \"#ab63fa\", \"#FFA15A\", \"#19d3f3\", \"#FF6692\", \"#B6E880\", \"#FF97FF\", \"#FECB52\"], \"font\": {\"color\": \"#2a3f5f\"}, \"geo\": {\"bgcolor\": \"white\", \"lakecolor\": \"white\", \"landcolor\": \"#E5ECF6\", \"showlakes\": true, \"showland\": true, \"subunitcolor\": \"white\"}, \"hoverlabel\": {\"align\": \"left\"}, \"hovermode\": \"closest\", \"mapbox\": {\"style\": \"light\"}, \"paper_bgcolor\": \"white\", \"plot_bgcolor\": \"#E5ECF6\", \"polar\": {\"angularaxis\": {\"gridcolor\": \"white\", \"linecolor\": \"white\", \"ticks\": \"\"}, \"bgcolor\": \"#E5ECF6\", \"radialaxis\": {\"gridcolor\": \"white\", \"linecolor\": \"white\", \"ticks\": \"\"}}, \"scene\": {\"xaxis\": {\"backgroundcolor\": \"#E5ECF6\", \"gridcolor\": \"white\", \"gridwidth\": 2, \"linecolor\": \"white\", \"showbackground\": true, \"ticks\": \"\", \"zerolinecolor\": \"white\"}, \"yaxis\": {\"backgroundcolor\": \"#E5ECF6\", \"gridcolor\": \"white\", \"gridwidth\": 2, \"linecolor\": \"white\", \"showbackground\": true, \"ticks\": \"\", \"zerolinecolor\": \"white\"}, \"zaxis\": {\"backgroundcolor\": \"#E5ECF6\", \"gridcolor\": \"white\", \"gridwidth\": 2, \"linecolor\": \"white\", \"showbackground\": true, \"ticks\": \"\", \"zerolinecolor\": \"white\"}}, \"shapedefaults\": {\"line\": {\"color\": \"#2a3f5f\"}}, \"ternary\": {\"aaxis\": {\"gridcolor\": \"white\", \"linecolor\": \"white\", \"ticks\": \"\"}, \"baxis\": {\"gridcolor\": \"white\", \"linecolor\": \"white\", \"ticks\": \"\"}, \"bgcolor\": \"#E5ECF6\", \"caxis\": {\"gridcolor\": \"white\", \"linecolor\": \"white\", \"ticks\": \"\"}}, \"title\": {\"x\": 0.05}, \"xaxis\": {\"automargin\": true, \"gridcolor\": \"white\", \"linecolor\": \"white\", \"ticks\": \"\", \"zerolinecolor\": \"white\", \"zerolinewidth\": 2}, \"yaxis\": {\"automargin\": true, \"gridcolor\": \"white\", \"linecolor\": \"white\", \"ticks\": \"\", \"zerolinecolor\": \"white\", \"zerolinewidth\": 2}}}, \"width\": 302.362204728, \"xaxis\": {\"anchor\": \"y\", \"domain\": [0.0, 1.0], \"linecolor\": \"black\", \"matches\": \"x4\", \"mirror\": true, \"range\": [0, 2.4], \"showgrid\": false, \"showline\": true, \"showticklabels\": false, \"tickfont\": {\"size\": 12.0}, \"zeroline\": true, \"zerolinecolor\": \"black\", \"zerolinewidth\": 1.0}, \"xaxis2\": {\"anchor\": \"y2\", \"domain\": [0.0, 1.0], \"linecolor\": \"black\", \"matches\": \"x4\", \"mirror\": true, \"range\": [0, 2.4], \"showgrid\": false, \"showline\": true, \"showticklabels\": false, \"tickfont\": {\"size\": 12.0}, \"zeroline\": true, \"zerolinecolor\": \"black\", \"zerolinewidth\": 1.0}, \"xaxis3\": {\"anchor\": \"y3\", \"domain\": [0.0, 1.0], \"linecolor\": \"black\", \"matches\": \"x4\", \"mirror\": true, \"range\": [0, 2.4], \"showgrid\": false, \"showline\": true, \"showticklabels\": false, \"tickfont\": {\"size\": 12.0}, \"zeroline\": true, \"zerolinecolor\": \"black\", \"zerolinewidth\": 1.0}, \"xaxis4\": {\"anchor\": \"y4\", \"domain\": [0.0, 1.0], \"linecolor\": \"black\", \"mirror\": true, \"range\": [0, 2.4], \"showgrid\": false, \"showline\": true, \"tickfont\": {\"size\": 12.0}, \"zeroline\": true, \"zerolinecolor\": \"black\", \"zerolinewidth\": 1.0}, \"yaxis\": {\"anchor\": \"x\", \"domain\": [0.7875, 1.0], \"linecolor\": \"black\", \"mirror\": true, \"range\": [-0.35, 0.3], \"showgrid\": false, \"showline\": true, \"tickfont\": {\"size\": 12.0}, \"zeroline\": true, \"zerolinecolor\": \"black\", \"zerolinewidth\": 1.0}, \"yaxis2\": {\"anchor\": \"x2\", \"domain\": [0.525, 0.7375], \"linecolor\": \"black\", \"mirror\": true, \"range\": [-0.35, 0.3], \"showgrid\": false, \"showline\": true, \"tickfont\": {\"size\": 12.0}, \"zeroline\": true, \"zerolinecolor\": \"black\", \"zerolinewidth\": 1.0}, \"yaxis3\": {\"anchor\": \"x3\", \"domain\": [0.2625, 0.475], \"linecolor\": \"black\", \"mirror\": true, \"range\": [-0.35, 0.3], \"showgrid\": false, \"showline\": true, \"tickfont\": {\"size\": 12.0}, \"zeroline\": true, \"zerolinecolor\": \"black\", \"zerolinewidth\": 1.0}, \"yaxis4\": {\"anchor\": \"x4\", \"domain\": [0.0, 0.2125], \"linecolor\": \"black\", \"mirror\": true, \"range\": [-0.35, 0.3], \"showgrid\": false, \"showline\": true, \"tickfont\": {\"size\": 12.0}, \"zeroline\": true, \"zerolinecolor\": \"black\", \"zerolinewidth\": 1.0}},\n",
       "                        {\"responsive\": true}\n",
       "                    ).then(function(){\n",
       "                            \n",
       "var gd = document.getElementById('cd29a3de-7cd8-4ece-bf10-64bca366e0cc');\n",
       "var x = new MutationObserver(function (mutations, observer) {{\n",
       "        var display = window.getComputedStyle(gd).display;\n",
       "        if (!display || display === 'none') {{\n",
       "            console.log([gd, 'removed!']);\n",
       "            Plotly.purge(gd);\n",
       "            observer.disconnect();\n",
       "        }}\n",
       "}});\n",
       "\n",
       "// Listen for the removal of the full notebook cells\n",
       "var notebookContainer = gd.closest('#notebook-container');\n",
       "if (notebookContainer) {{\n",
       "    x.observe(notebookContainer, {childList: true});\n",
       "}}\n",
       "\n",
       "// Listen for the clearing of the current output cell\n",
       "var outputEl = gd.closest('.output');\n",
       "if (outputEl) {{\n",
       "    x.observe(outputEl, {childList: true});\n",
       "}}\n",
       "\n",
       "                        })\n",
       "                };\n",
       "                });\n",
       "            </script>\n",
       "        </div>"
      ]
     },
     "metadata": {},
     "output_type": "display_data"
    }
   ],
   "source": [
    "fig = my_plotly_plot(\n",
    "    figure=fig,\n",
    "    layout=None,\n",
    "    layout_override=None,\n",
    "    plot_name=\"TEMP\",\n",
    "    save_dir=None,\n",
    "    data=None,\n",
    "    upload_plot=False,\n",
    "    )\n",
    "\n",
    "fig.show()"
   ]
  },
  {
   "cell_type": "raw",
   "metadata": {},
   "source": [
    "\n",
    "\n",
    "\n"
   ]
  },
  {
   "cell_type": "code",
   "execution_count": 15,
   "metadata": {
    "jupyter": {
     "source_hidden": true
    }
   },
   "outputs": [],
   "source": [
    "# layout = go.Layout(\n",
    "#     height=600,\n",
    "#     width=800,\n",
    "#     title_text=\"TEMP\",\n",
    "#     )\n",
    "\n",
    "# # from proj_data_irox import irox_surface_e_color_map\n",
    "\n",
    "# # irox_surface_e_color_map\n",
    "\n",
    "# df_m\n",
    "# row_i = df_m.iloc[0]\n",
    "\n",
    "# name_i = row_i[\"coverage_type\"] + row_i[\"facet\"]\n",
    "\n",
    "# # # row_i[\"bulk_system\"] + \"_\" + row_i[\"coverage_type\"]\n",
    "# # irox_surface_e_color_map.get(row_i[\"bulk_system\"] + \"_\" + row_i[\"coverage_type\"])\n",
    "\n",
    "# # fig.layout\n",
    "\n",
    "# # font=dict(family='Courier New, monospace', size=18, color='#7f7f7f')\n",
    "\n",
    "# go.Layout.font?\n",
    "\n",
    "# go.layout.Font(\n",
    "#     color=\"black\",\n",
    "# #     family,\n",
    "# #     size,\n",
    "#     )"
   ]
  },
  {
   "cell_type": "code",
   "execution_count": 16,
   "metadata": {
    "jupyter": {
     "source_hidden": true
    }
   },
   "outputs": [],
   "source": [
    "# layout.shapes\n",
    "\n",
    "# go.layout.Annotation?"
   ]
  },
  {
   "cell_type": "code",
   "execution_count": 17,
   "metadata": {
    "jupyter": {
     "source_hidden": true
    }
   },
   "outputs": [],
   "source": [
    "# from proj_data_irox import irox_bulk_color_map\n",
    "\n",
    "# irox_bulk_color_map\n",
    "\n",
    "# subplot_label_rect_dict = dict(\n",
    "#     type=\"rect\",\n",
    "#     # x0=1.5,\n",
    "#     # y0=0.2,\n",
    "#     x0=2,\n",
    "#     y0=0.2,\n",
    "#     # x1=2,\n",
    "#     # y1=0.1,\n",
    "#     x1=layout.xaxis.range[1],\n",
    "#     y1=layout.yaxis.range[1],\n",
    "#     xref=\"x2\",\n",
    "#     yref=\"y2\",\n",
    "#     line=dict(\n",
    "#         color=\"black\",\n",
    "#         width=1,\n",
    "#         ),\n",
    "#     fillcolor=\"pink\",\n",
    "#     )\n",
    "\n",
    "# shapes=[\n",
    "\n",
    "#     go.layout.Shape(\n",
    "#         **subplot_label_rect_dict,\n",
    "#         ).update(\n",
    "#             xref=\"x2\",\n",
    "#             yref=\"y2\",\n",
    "#             fillcolor=irox_bulk_color_map[\"IrO3\"],\n",
    "#             ),\n",
    "\n",
    "#     go.layout.Shape(\n",
    "#         **subplot_label_rect_dict,\n",
    "#         ).update(\n",
    "#             xref=\"x3\",\n",
    "#             yref=\"y3\",\n",
    "#             fillcolor=irox_bulk_color_map[\"IrO3_battery\"],\n",
    "#             ),\n",
    "#     ]"
   ]
  },
  {
   "cell_type": "code",
   "execution_count": 18,
   "metadata": {},
   "outputs": [
    {
     "data": {
      "text/plain": [
       "{'Ir': '#6799A3',\n",
       " 'IrO2': '#7FC97F',\n",
       " 'IrO3': '#BEAED4',\n",
       " 'IrO3_a-AlF3': '#BEAED4',\n",
       " 'IrO3_rutile-like': '#FDC086',\n",
       " 'IrO3_battery': '#ff9dcd',\n",
       " 'IrO4-': '#7c7c7c'}"
      ]
     },
     "execution_count": 18,
     "metadata": {},
     "output_type": "execute_result"
    }
   ],
   "source": [
    "from proj_data_irox import irox_bulk_color_map\n",
    "\n",
    "\n",
    "irox_bulk_color_map"
   ]
  }
 ],
 "metadata": {
  "kernelspec": {
   "display_name": "Python [conda env:research-new]",
   "language": "python",
   "name": "conda-env-research-new-py"
  },
  "language_info": {
   "codemirror_mode": {
    "name": "ipython",
    "version": 3
   },
   "file_extension": ".py",
   "mimetype": "text/x-python",
   "name": "python",
   "nbconvert_exporter": "python",
   "pygments_lexer": "ipython3",
   "version": "3.6.8"
  }
 },
 "nbformat": 4,
 "nbformat_minor": 4
}
