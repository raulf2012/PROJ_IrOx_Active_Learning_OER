{
 "cells": [
  {
   "cell_type": "code",
   "execution_count": null,
   "metadata": {},
   "outputs": [],
   "source": [
    "ids = [\n",
    "  194,\n",
    "  196,\n",
    "  197,\n",
    "  200,\n",
    "  202,\n",
    "  294,\n",
    "  ]"
   ]
  },
  {
   "cell_type": "code",
   "execution_count": 2,
   "metadata": {},
   "outputs": [],
   "source": [
    "%%capture\n",
    "import os\n",
    "import sys\n",
    "\n",
    "# #############################################################################\n",
    "sys.path.insert(0,\n",
    "    os.path.join(\n",
    "        os.environ[\"PROJ_irox\"],\n",
    "        \"workflow\"))\n",
    "from an_data_processing import load_df\n",
    "from an_data_processing import oxy_ref, hyd_ref\n",
    "\n",
    "# # #############################################################################\n",
    "import pickle\n",
    "import pandas as pd\n",
    "\n",
    "# # #############################################################################\n",
    "from misc_modules.pandas_methods import drop_columns\n",
    "from surface_energy.surface_energy import SurfaceEnergy\n",
    "\n",
    "from proj_data_irox import bulk_e_per_atom_dict"
   ]
  },
  {
   "cell_type": "code",
   "execution_count": 3,
   "metadata": {},
   "outputs": [],
   "source": [
    "from ase.visualize import view"
   ]
  },
  {
   "cell_type": "code",
   "execution_count": 4,
   "metadata": {},
   "outputs": [
    {
     "name": "stdout",
     "output_type": "stream",
     "text": [
      "Attempting to load df from pickle\n"
     ]
    }
   ],
   "source": [
    "dataframe_dir = os.path.join(\n",
    "    os.environ[\"PROJ_DATA\"],\n",
    "    \"04_IrOx_surfaces_OER/190321_new_job_df\")\n",
    "df_pourbaix, df_ads, df_surf = load_df(\n",
    "    from_file=True,\n",
    "    root_dir=dataframe_dir,\n",
    "    data_dir=dataframe_dir,\n",
    "    file_name=\"df_master.pickle\",\n",
    "    process_df=True)\n",
    "df_m = df_surf\n",
    "\n",
    "\n",
    "# Filter the jobs that were unsuccessful\n",
    "df_m = df_m[[not i for i in pd.isna(df_m[\"elec_energy\"].tolist())]]\n",
    "df_m = df_m[df_m[\"job_type\"] == \"surface_coverage_energy\"]\n",
    "\n",
    "cols_to_keep = [\n",
    "    'facet',\n",
    "    'job_type',\n",
    "    'layers',\n",
    "    'surface_type',\n",
    "    'elec_energy',\n",
    "    'atoms_object',\n",
    "    'bulk_system',\n",
    "    'coverage_type',\n",
    "    'nonstoich_Os',\n",
    "    ]\n",
    "\n",
    "df_m = drop_columns(df=df_m, columns=cols_to_keep, keep_or_drop=\"keep\")\n",
    "\n",
    "# #############################################################################\n",
    "\n",
    "bulk_data_path = os.path.join(\n",
    "    os.environ[\"PROJ_irox\"],\n",
    "    \"workflow/an_bulk_systems\",\n",
    "    \"bulk_systems.pickle\")\n",
    "with open(bulk_data_path, \"rb\") as fle:\n",
    "    bulk_data = pickle.load(fle)"
   ]
  },
  {
   "cell_type": "code",
   "execution_count": 5,
   "metadata": {},
   "outputs": [],
   "source": [
    "# df_m = df_m[\n",
    "#     (df_m[\"bulk_system\"] == \"IrO3\") &\n",
    "#     (df_m[\"facet\"] == \"111\") &\n",
    "# #     (df_m[\"\"] == \"\") &\n",
    "#     [True for i in range(len(df_m))]\n",
    "#     ]"
   ]
  },
  {
   "cell_type": "code",
   "execution_count": 6,
   "metadata": {},
   "outputs": [
    {
     "name": "stdout",
     "output_type": "stream",
     "text": [
      "IrO2_100_h_covered\n",
      "Using energy provided instead of energy attached to atoms\n",
      "{'O': 2.0, 'H': 2.0, 'Ir': 0.0}\n",
      "-3.38574595\n",
      "index:  53\n",
      "\n",
      "IrO2_100_o_covered\n",
      "Using energy provided instead of energy attached to atoms\n",
      "{'O': 2.0, 'Ir': 0.0}\n",
      "-3.38574595\n",
      "index:  54\n",
      "\n",
      "IrO2_100_bare\n",
      "Using energy provided instead of energy attached to atoms\n",
      "{'O': 0.0, 'Ir': 0.0}\n",
      "-3.38574595\n",
      "index:  55\n",
      "\n",
      "IrO2_110_h_covered\n",
      "Using energy provided instead of energy attached to atoms\n",
      "{'O': 2.0, 'H': 2.0, 'Ir': 0.0}\n",
      "-3.38574595\n",
      "index:  56\n",
      "\n",
      "IrO2_110_o_covered\n",
      "Using energy provided instead of energy attached to atoms\n",
      "{'O': 2.0, 'Ir': 0.0}\n",
      "-3.38574595\n",
      "index:  57\n",
      "\n",
      "IrO2_110_bare\n",
      "Using energy provided instead of energy attached to atoms\n",
      "{'O': 0.0, 'Ir': 0.0}\n",
      "-3.38574595\n",
      "index:  58\n",
      "\n",
      "IrO3_100_h_covered\n",
      "Using energy provided instead of energy attached to atoms\n",
      "{'O': 3.0, 'H': 2.0, 'Ir': 0.0}\n",
      "-3.38574595\n",
      "index:  194\n",
      "\n",
      "IrO3_100_o_covered\n",
      "Using energy provided instead of energy attached to atoms\n",
      "{'O': 3.0, 'Ir': 0.0}\n",
      "-3.38574595\n",
      "index:  195\n",
      "\n",
      "IrO3_100_bare\n",
      "Using energy provided instead of energy attached to atoms\n",
      "{'O': 1.0, 'Ir': 0.0}\n",
      "-3.38574595\n",
      "index:  196\n",
      "\n",
      "IrO3_110_h_covered\n",
      "Using energy provided instead of energy attached to atoms\n",
      "{'O': 2.0, 'H': 4.0, 'Ir': 0.0}\n",
      "-3.38574595\n",
      "index:  197\n",
      "\n",
      "IrO3_110_o_covered\n",
      "Using energy provided instead of energy attached to atoms\n",
      "{'O': 2.0, 'Ir': 0.0}\n",
      "-3.38574595\n",
      "index:  198\n",
      "\n",
      "IrO3_110_bare\n",
      "Using energy provided instead of energy attached to atoms\n",
      "{'O': -2.0, 'Ir': 0.0}\n",
      "-3.38574595\n",
      "index:  199\n",
      "\n",
      "IrO3_111_h_covered\n",
      "Using energy provided instead of energy attached to atoms\n",
      "{'O': 3.0, 'H': 6.0, 'Ir': 0.0}\n",
      "-3.38574595\n",
      "index:  200\n",
      "\n",
      "IrO3_111_o_covered\n",
      "Using energy provided instead of energy attached to atoms\n",
      "{'O': 3.0, 'Ir': 0.0}\n",
      "-3.38574595\n",
      "index:  201\n",
      "\n",
      "IrO3_111_bare\n",
      "Using energy provided instead of energy attached to atoms\n",
      "{'O': -3.0, 'Ir': 0.0}\n",
      "-3.38574595\n",
      "index:  202\n",
      "\n",
      "IrO3_211_h_covered\n",
      "Using energy provided instead of energy attached to atoms\n",
      "{'O': 4.0, 'H': 4.0, 'Ir': 0.0}\n",
      "-3.38574595\n",
      "index:  203\n",
      "\n",
      "IrO3_211_o_covered\n",
      "Using energy provided instead of energy attached to atoms\n",
      "{'O': 4.0, 'Ir': 0.0}\n",
      "-3.38574595\n",
      "index:  204\n",
      "\n",
      "IrO3_211_bare\n",
      "Using energy provided instead of energy attached to atoms\n",
      "{'O': 0.0, 'Ir': 0.0}\n",
      "-3.38574595\n",
      "index:  205\n",
      "\n",
      "IrO3_rutile-like_001_h_covered\n",
      "Using energy provided instead of energy attached to atoms\n",
      "{'O': 2.0, 'H': 4.0, 'Ir': 0.0}\n",
      "-3.38574595\n",
      "index:  294\n",
      "\n",
      "IrO3_rutile-like_001_o_covered\n",
      "Using energy provided instead of energy attached to atoms\n",
      "{'O': 2.0, 'Ir': 0.0}\n",
      "-3.38574595\n",
      "index:  295\n",
      "\n",
      "IrO3_rutile-like_001_bare\n",
      "Using energy provided instead of energy attached to atoms\n",
      "{'O': -2.0, 'Ir': 0.0}\n",
      "-3.38574595\n",
      "index:  296\n",
      "\n",
      "IrO3_rutile-like_100_h_covered\n",
      "Using energy provided instead of energy attached to atoms\n",
      "{'O': 4.0, 'H': 4.0, 'Ir': 0.0}\n",
      "-3.38574595\n",
      "index:  297\n",
      "\n",
      "IrO3_rutile-like_100_o_covered\n",
      "Using energy provided instead of energy attached to atoms\n",
      "{'O': 4.0, 'Ir': 0.0}\n",
      "-3.38574595\n",
      "index:  298\n",
      "\n",
      "IrO3_rutile-like_100_bare\n",
      "Using energy provided instead of energy attached to atoms\n",
      "{'O': 0.0, 'Ir': 0.0}\n",
      "-3.38574595\n",
      "index:  299\n",
      "\n",
      "IrO3_rutile-like_110_h_covered\n",
      "Using energy provided instead of energy attached to atoms\n",
      "{'O': 4.0, 'H': 4.0, 'Ir': 0.0}\n",
      "-3.38574595\n",
      "index:  300\n",
      "\n",
      "IrO3_rutile-like_110_o_covered\n",
      "Using energy provided instead of energy attached to atoms\n",
      "{'O': 4.0, 'Ir': 0.0}\n",
      "-3.38574595\n",
      "index:  301\n",
      "\n",
      "IrO3_rutile-like_110_bare\n",
      "Using energy provided instead of energy attached to atoms\n",
      "{'O': 0.0, 'Ir': 0.0}\n",
      "-3.38574595\n",
      "index:  302\n",
      "\n",
      "IrO3_battery_010_o_covered\n",
      "Using energy provided instead of energy attached to atoms\n",
      "{'O': 8.0, 'Ir': 0.0}\n",
      "-3.38574595\n",
      "index:  322\n",
      "\n",
      "IrO3_battery_010_half_o_covered\n",
      "Using energy provided instead of energy attached to atoms\n",
      "{'O': 4.0, 'Ir': 0.0}\n",
      "-3.38574595\n",
      "index:  323\n",
      "\n",
      "IrO3_battery_010_h_covered\n",
      "Using energy provided instead of energy attached to atoms\n",
      "{'O': 8.0, 'H': 8.0, 'Ir': 0.0}\n",
      "-3.38574595\n",
      "index:  324\n",
      "\n",
      "IrO3_battery_010_bare\n",
      "Using energy provided instead of energy attached to atoms\n",
      "{'O': 0.0, 'Ir': 0.0}\n",
      "-3.38574595\n",
      "index:  325\n",
      "\n"
     ]
    }
   ],
   "source": [
    "# %%capture\n",
    "\n",
    "def method(row_i):\n",
    "    \"\"\"\n",
    "    \"\"\"\n",
    "    print(row_i[\"bulk_system\"] + \"_\" + row_i[\"facet\"] + \"_\" + row_i[\"coverage_type\"])\n",
    "\n",
    "\n",
    "    bulk_e_per_atom = bulk_e_per_atom_dict[row_i[\"bulk_system\"]]\n",
    "\n",
    "    SE = SurfaceEnergy(\n",
    "        atoms=row_i[\"atoms_object\"][-1],\n",
    "        bulk_atoms=bulk_data[row_i[\"bulk_system\"]],\n",
    "        bulk_electronic_energy_per_atom=bulk_e_per_atom,\n",
    "        H_ref_electronic_energy=hyd_ref,\n",
    "        O_ref_electronic_energy=oxy_ref,\n",
    "        verbose=True,\n",
    "        )\n",
    "\n",
    "    print(\"index: \", row_i.name)\n",
    "    print(\"\")\n",
    "\n",
    "    return(SE)\n",
    "\n",
    "df_m[\"SurfaceEnergy\"] = df_m.apply(\n",
    "    method,\n",
    "    axis=1,\n",
    "    )"
   ]
  },
  {
   "cell_type": "code",
   "execution_count": 44,
   "metadata": {},
   "outputs": [
    {
     "name": "stdout",
     "output_type": "stream",
     "text": [
      "{'O': 2.0, 'Ir': 0.0}\n",
      "----\n",
      "{'O': 0, 'Ir': 0.0, 'H': 0}\n",
      "{'*OH': 0, '*O': 2.0}\n"
     ]
    }
   ],
   "source": [
    "import copy\n",
    "\n",
    "non_stoich_comp = df_m.iloc[1][\"SurfaceEnergy\"].non_stoich_comp\n",
    "\n",
    "non_stoich_comp_new = copy.copy(non_stoich_comp)\n",
    "\n",
    "print(non_stoich_comp)\n",
    "\n",
    "special_species_dict = dict()\n",
    "if \"O\" in non_stoich_comp.keys():\n",
    "\n",
    "    num_Os = non_stoich_comp.get(\"O\")\n",
    "    \n",
    "    if \"H\" in non_stoich_comp.keys():\n",
    "        num_Hs = non_stoich_comp.get(\"H\")\n",
    "        \n",
    "        min_num = min([num_Os, num_Hs])\n",
    "        \n",
    "        num_OHs = min_num\n",
    "\n",
    "        left_over_Hs = num_Hs - min_num\n",
    "        left_over_Os = num_Os - min_num\n",
    "\n",
    "        special_species_dict[\"*OH\"] = num_OHs\n",
    "        special_species_dict[\"*O\"] = left_over_Os\n",
    "\n",
    "        non_stoich_comp_new[\"O\"] = 0  # All nonstoich Os will be *O species\n",
    "        non_stoich_comp_new[\"H\"] = left_over_Hs\n",
    "    else:\n",
    "        num_OHs = 0\n",
    "        special_species_dict[\"*OH\"] = num_OHs\n",
    "\n",
    "        left_over_Hs = 0\n",
    "        left_over_Os = num_Os\n",
    "\n",
    "        special_species_dict[\"*O\"] = left_over_Os\n",
    "        special_species_dict[\"*OH\"] = 0\n",
    "\n",
    "        non_stoich_comp_new[\"O\"] = 0  # All nonstoich Os will be *O species\n",
    "        non_stoich_comp_new[\"H\"] = left_over_Hs\n",
    "        \n",
    "else:\n",
    "    num_OHs = 0\n",
    "    left_over_Os = num_Os\n",
    "    left_over_Hs = 0\n",
    "\n",
    "    if \"H\" in non_stoich_comp.keys():    \n",
    "        if non_stoich_comp.get(\"H\") > 0:\n",
    "            raise ValueError(\"NOT GOOD HERE, THERE IS AN *H WITHOUT and *OH\")\n",
    "            \n",
    "print(\"----\")\n",
    "print(non_stoich_comp_new)\n",
    "print(special_species_dict)"
   ]
  },
  {
   "cell_type": "code",
   "execution_count": 33,
   "metadata": {},
   "outputs": [
    {
     "data": {
      "text/html": [
       "<div>\n",
       "<style scoped>\n",
       "    .dataframe tbody tr th:only-of-type {\n",
       "        vertical-align: middle;\n",
       "    }\n",
       "\n",
       "    .dataframe tbody tr th {\n",
       "        vertical-align: top;\n",
       "    }\n",
       "\n",
       "    .dataframe thead th {\n",
       "        text-align: right;\n",
       "    }\n",
       "</style>\n",
       "<table border=\"1\" class=\"dataframe\">\n",
       "  <thead>\n",
       "    <tr style=\"text-align: right;\">\n",
       "      <th></th>\n",
       "      <th>index</th>\n",
       "      <th>O</th>\n",
       "      <th>H</th>\n",
       "    </tr>\n",
       "  </thead>\n",
       "  <tbody>\n",
       "    <tr>\n",
       "      <th>0</th>\n",
       "      <td>orig</td>\n",
       "      <td>2.0</td>\n",
       "      <td>2.0</td>\n",
       "    </tr>\n",
       "  </tbody>\n",
       "</table>\n",
       "</div>"
      ],
      "text/plain": [
       "  index    O    H\n",
       "0  orig  2.0  2.0"
      ]
     },
     "execution_count": 33,
     "metadata": {},
     "output_type": "execute_result"
    }
   ],
   "source": [
    "list0 = [\n",
    "{\n",
    "    \"index\": \"orig\",\n",
    "    \"O\": non_stoich_comp.get(\"O\", 0),\n",
    "    \"H\": non_stoich_comp.get(\"H\", 0),\n",
    "    },\n",
    "    ]\n",
    "\n",
    "df = pd.DataFrame(list0)\n",
    "\n",
    "# df[\"H_O\"] = \n",
    "\n",
    "df"
   ]
  },
  {
   "cell_type": "code",
   "execution_count": 26,
   "metadata": {},
   "outputs": [
    {
     "data": {
      "text/plain": [
       "3"
      ]
     },
     "execution_count": 26,
     "metadata": {},
     "output_type": "execute_result"
    }
   ],
   "source": [
    "min([3, 4])"
   ]
  },
  {
   "cell_type": "raw",
   "metadata": {},
   "source": [
    "O3 H4\n",
    "\n",
    "O5 H4"
   ]
  },
  {
   "cell_type": "code",
   "execution_count": 7,
   "metadata": {},
   "outputs": [],
   "source": [
    "# df_i = df_m.loc[ids]\n",
    "\n",
    "# atoms_list = [i[-1] for i in df_i[\"atoms_object\"].tolist()]\n",
    "# df_i[\"atoms\"] = atoms_list"
   ]
  },
  {
   "cell_type": "code",
   "execution_count": 8,
   "metadata": {
    "jupyter": {
     "source_hidden": true
    }
   },
   "outputs": [],
   "source": [
    "# import tempfile\n",
    "# import shutil\n",
    "\n",
    "# dirpath = tempfile.mkdtemp(\n",
    "#     suffix=None,\n",
    "#     prefix=\"RAUL_TEMP_DIR_\",\n",
    "#     )\n",
    "\n",
    "# # dirpath = \"/tmp/RAUL_TEMP_DIR_i6m7jdtp\"\n",
    "# # print(dirpath)\n",
    "\n",
    "\n",
    "# def method(row_i):\n",
    "#     row_i[\"atoms\"].write(\n",
    "#         dirpath + \"/\" + str(row_i.name).zfill(4) + \".cif\")\n",
    "\n",
    "# df_i.apply(\n",
    "#     method,\n",
    "#     axis=1)\n",
    "\n",
    "\n",
    "\n",
    "# # shutil.rmtree(dirpath)"
   ]
  },
  {
   "cell_type": "raw",
   "metadata": {},
   "source": [
    "\n",
    "\n",
    "\n",
    "\n"
   ]
  },
  {
   "cell_type": "code",
   "execution_count": 9,
   "metadata": {},
   "outputs": [
    {
     "name": "stdout",
     "output_type": "stream",
     "text": [
      "Atoms(symbols='O36Ir11H6', pbc=True, cell=[[4.88305, 0.0, 0.0], [2.441525, 4.228845348, 0.0], [0.0, 0.0, 38.6747]], calculator=SinglePointCalculator(...))\n",
      "Atoms(symbols='O36Ir11', pbc=True, cell=[[4.88305, 0.0, 0.0], [2.441525, 4.228845348, 0.0], [0.0, 0.0, 38.6747]], calculator=SinglePointCalculator(...))\n",
      "Atoms(symbols='Ir11O30', pbc=True, cell=[[4.88305, 0.0, 0.0], [2.441525, 4.228845348, 0.0], [0.0, 0.0, 38.6747]], calculator=SinglePointCalculator(...))\n"
     ]
    },
    {
     "data": {
      "text/html": [
       "<div>\n",
       "<style scoped>\n",
       "    .dataframe tbody tr th:only-of-type {\n",
       "        vertical-align: middle;\n",
       "    }\n",
       "\n",
       "    .dataframe tbody tr th {\n",
       "        vertical-align: top;\n",
       "    }\n",
       "\n",
       "    .dataframe thead th {\n",
       "        text-align: right;\n",
       "    }\n",
       "</style>\n",
       "<table border=\"1\" class=\"dataframe\">\n",
       "  <thead>\n",
       "    <tr style=\"text-align: right;\">\n",
       "      <th></th>\n",
       "      <th>bulk_system</th>\n",
       "      <th>coverage_type</th>\n",
       "      <th>facet</th>\n",
       "      <th>job_type</th>\n",
       "      <th>layers</th>\n",
       "      <th>surface_type</th>\n",
       "      <th>elec_energy</th>\n",
       "      <th>atoms_object</th>\n",
       "      <th>nonstoich_Os</th>\n",
       "      <th>SurfaceEnergy</th>\n",
       "    </tr>\n",
       "  </thead>\n",
       "  <tbody>\n",
       "    <tr>\n",
       "      <th>200</th>\n",
       "      <td>IrO3</td>\n",
       "      <td>h_covered</td>\n",
       "      <td>111</td>\n",
       "      <td>surface_coverage_energy</td>\n",
       "      <td>11.0</td>\n",
       "      <td>NaN</td>\n",
       "      <td>-326.983150</td>\n",
       "      <td>[(Atom('O', [3.37614, 0.0, 7.50018], index=0),...</td>\n",
       "      <td>3</td>\n",
       "      <td>&lt;surface_energy.surface_energy.SurfaceEnergy o...</td>\n",
       "    </tr>\n",
       "    <tr>\n",
       "      <th>201</th>\n",
       "      <td>IrO3</td>\n",
       "      <td>o_covered</td>\n",
       "      <td>111</td>\n",
       "      <td>surface_coverage_energy</td>\n",
       "      <td>11.0</td>\n",
       "      <td>NaN</td>\n",
       "      <td>-295.487448</td>\n",
       "      <td>[(Atom('O', [5.81818, 4.22872, 7.50096], index...</td>\n",
       "      <td>3</td>\n",
       "      <td>&lt;surface_energy.surface_energy.SurfaceEnergy o...</td>\n",
       "    </tr>\n",
       "    <tr>\n",
       "      <th>202</th>\n",
       "      <td>IrO3</td>\n",
       "      <td>bare</td>\n",
       "      <td>111</td>\n",
       "      <td>surface_coverage_energy</td>\n",
       "      <td>11.0</td>\n",
       "      <td>NaN</td>\n",
       "      <td>-264.223723</td>\n",
       "      <td>[(Atom('Ir', [1.68805, 2.81924, 8.57611], inde...</td>\n",
       "      <td>-3</td>\n",
       "      <td>&lt;surface_energy.surface_energy.SurfaceEnergy o...</td>\n",
       "    </tr>\n",
       "  </tbody>\n",
       "</table>\n",
       "</div>"
      ],
      "text/plain": [
       "    bulk_system coverage_type facet                 job_type  layers  \\\n",
       "200        IrO3     h_covered   111  surface_coverage_energy    11.0   \n",
       "201        IrO3     o_covered   111  surface_coverage_energy    11.0   \n",
       "202        IrO3          bare   111  surface_coverage_energy    11.0   \n",
       "\n",
       "    surface_type  elec_energy  \\\n",
       "200          NaN  -326.983150   \n",
       "201          NaN  -295.487448   \n",
       "202          NaN  -264.223723   \n",
       "\n",
       "                                          atoms_object  nonstoich_Os  \\\n",
       "200  [(Atom('O', [3.37614, 0.0, 7.50018], index=0),...             3   \n",
       "201  [(Atom('O', [5.81818, 4.22872, 7.50096], index...             3   \n",
       "202  [(Atom('Ir', [1.68805, 2.81924, 8.57611], inde...            -3   \n",
       "\n",
       "                                         SurfaceEnergy  \n",
       "200  <surface_energy.surface_energy.SurfaceEnergy o...  \n",
       "201  <surface_energy.surface_energy.SurfaceEnergy o...  \n",
       "202  <surface_energy.surface_energy.SurfaceEnergy o...  "
      ]
     },
     "execution_count": 9,
     "metadata": {},
     "output_type": "execute_result"
    }
   ],
   "source": [
    "\"IrO3_100_h_covered\"\n",
    "\n",
    "df_tmp = df_m[\n",
    "    (df_m[\"bulk_system\"] == \"IrO3\") &\n",
    "    (df_m[\"facet\"] == \"111\") &\n",
    "#     (df_m[\"\"] == \"\") &\n",
    "    [True for i in range(len(df_m))]\n",
    "    ]\n",
    "\n",
    "df_tmp.loc[202][\"SurfaceEnergy\"].non_stoich_comp\n",
    "\n",
    "print(df_tmp[\"atoms_object\"].loc[200][-1])\n",
    "print(df_tmp[\"atoms_object\"].loc[201][-1])\n",
    "print(df_tmp[\"atoms_object\"].loc[202][-1])\n",
    "\n",
    "df_tmp"
   ]
  },
  {
   "cell_type": "code",
   "execution_count": 10,
   "metadata": {},
   "outputs": [
    {
     "name": "stdout",
     "output_type": "stream",
     "text": [
      "{'O': 3.0, 'H': 6.0, 'Ir': 0.0}\n",
      "{'O': 3.0, 'Ir': 0.0}\n",
      "{'O': -3.0, 'Ir': 0.0}\n"
     ]
    }
   ],
   "source": [
    "for i_cnt, row_i in df_tmp.iterrows():\n",
    "    row_i[\"SurfaceEnergy\"]\n",
    "#     df_tmp[\"SurfaceEnergy\"]\n",
    "\n",
    "    non_stoich_comp = row_i[\"SurfaceEnergy\"].non_stoich_comp\n",
    "    print(non_stoich_comp)"
   ]
  },
  {
   "cell_type": "code",
   "execution_count": 11,
   "metadata": {},
   "outputs": [],
   "source": [
    "from ase_modules.ase_methods import view_in_vesta"
   ]
  },
  {
   "cell_type": "code",
   "execution_count": 12,
   "metadata": {},
   "outputs": [],
   "source": [
    "# atoms_0 = df_tmp[\"atoms_object\"].loc[200][-1]\n",
    "# atoms_1 = df_tmp[\"atoms_object\"].loc[201][-1]\n",
    "\n",
    "# atoms_list = [\n",
    "#     df_tmp[\"atoms_object\"].loc[200][-1],\n",
    "#     df_tmp[\"atoms_object\"].loc[201][-1],\n",
    "#     df_tmp[\"atoms_object\"].loc[202][-1],\n",
    "#     ]\n",
    "\n",
    "\n",
    "# view_in_vesta(\n",
    "#     atoms_list,\n",
    "#     ase_gui=True,\n",
    "#     )"
   ]
  },
  {
   "cell_type": "code",
   "execution_count": 13,
   "metadata": {},
   "outputs": [
    {
     "name": "stdout",
     "output_type": "stream",
     "text": [
      "194\n",
      "{'O': 3.0, 'H': 2.0, 'Ir': 0.0}\n",
      "195\n",
      "{'O': 3.0, 'Ir': 0.0}\n",
      "196\n",
      "{'O': 1.0, 'Ir': 0.0}\n"
     ]
    }
   ],
   "source": [
    "df_tmp = df_m[\n",
    "    (df_m[\"bulk_system\"] == \"IrO3\") &\n",
    "    (df_m[\"facet\"] == \"100\") &\n",
    "#     (df_m[\"\"] == \"\") &\n",
    "    [True for i in range(len(df_m))]\n",
    "    ]; df_tmp\n",
    "\n",
    "atoms_list = []\n",
    "for i_cnt, row_i in df_tmp.iterrows():\n",
    "    print(i_cnt)\n",
    "    print(row_i[\"SurfaceEnergy\"].non_stoich_comp)\n",
    "    \n",
    "    atoms_i = row_i[\"atoms_object\"][-1]\n",
    "    \n",
    "    atoms_list.append(atoms_i)\n",
    "    \n",
    "    \n",
    "# view_in_vesta(atoms_list, ase_gui=True)"
   ]
  },
  {
   "cell_type": "code",
   "execution_count": 14,
   "metadata": {},
   "outputs": [],
   "source": [
    "# atoms_i.write(\"iro3_100_o_covered.cif\")"
   ]
  },
  {
   "cell_type": "code",
   "execution_count": 15,
   "metadata": {},
   "outputs": [
    {
     "data": {
      "text/plain": [
       "<function ase_modules.ase_methods.view_in_vesta(atoms, ase_gui=False)>"
      ]
     },
     "execution_count": 15,
     "metadata": {},
     "output_type": "execute_result"
    }
   ],
   "source": [
    "view_in_vesta"
   ]
  },
  {
   "cell_type": "code",
   "execution_count": null,
   "metadata": {},
   "outputs": [],
   "source": []
  },
  {
   "cell_type": "code",
   "execution_count": 16,
   "metadata": {},
   "outputs": [
    {
     "ename": "AttributeError",
     "evalue": "'SurfaceEnergy' object has no attribute 'non_stoich'",
     "output_type": "error",
     "traceback": [
      "\u001b[0;31m---------------------------------------------------------------------------\u001b[0m",
      "\u001b[0;31mAttributeError\u001b[0m                            Traceback (most recent call last)",
      "\u001b[0;32m<ipython-input-16-14fd5873a586>\u001b[0m in \u001b[0;36m<module>\u001b[0;34m\u001b[0m\n\u001b[1;32m      2\u001b[0m \u001b[0;34m\u001b[0m\u001b[0m\n\u001b[1;32m      3\u001b[0m \u001b[0mself\u001b[0m \u001b[0;34m=\u001b[0m \u001b[0mrow_i\u001b[0m\u001b[0;34m[\u001b[0m\u001b[0;34m\"SurfaceEnergy\"\u001b[0m\u001b[0;34m]\u001b[0m\u001b[0;34m\u001b[0m\u001b[0;34m\u001b[0m\u001b[0m\n\u001b[0;32m----> 4\u001b[0;31m \u001b[0mself\u001b[0m\u001b[0;34m.\u001b[0m\u001b[0mnon_stoich\u001b[0m\u001b[0;34m\u001b[0m\u001b[0;34m\u001b[0m\u001b[0m\n\u001b[0m",
      "\u001b[0;31mAttributeError\u001b[0m: 'SurfaceEnergy' object has no attribute 'non_stoich'"
     ]
    }
   ],
   "source": [
    "row_i = df_m.loc[194]\n",
    "\n",
    "self = row_i[\"SurfaceEnergy\"]\n",
    "self.non_stoich"
   ]
  },
  {
   "cell_type": "code",
   "execution_count": null,
   "metadata": {},
   "outputs": [],
   "source": [
    "view_in_vesta(row_i[\"atoms_object\"][-1])"
   ]
  },
  {
   "cell_type": "raw",
   "metadata": {},
   "source": [
    "\n",
    "\n",
    "\n",
    "\n",
    "\n",
    "\n"
   ]
  },
  {
   "cell_type": "code",
   "execution_count": null,
   "metadata": {},
   "outputs": [],
   "source": [
    "assert False"
   ]
  },
  {
   "cell_type": "code",
   "execution_count": null,
   "metadata": {
    "jupyter": {
     "source_hidden": true
    }
   },
   "outputs": [],
   "source": [
    "\n",
    "#| - IMPORT MODULES\n",
    "import numpy as np\n",
    "import pandas as pd\n",
    "\n",
    "import plotly.graph_objs as go\n",
    "\n",
    "from ase_modules.ase_methods import create_species_element_dict\n",
    "\n",
    "from pymatgen.core.composition import Composition\n",
    "#__|\n"
   ]
  },
  {
   "cell_type": "code",
   "execution_count": null,
   "metadata": {
    "jupyter": {
     "source_hidden": true
    }
   },
   "outputs": [],
   "source": [
    "main_atom = \"Ir\"  # Make this a class attribute\n",
    "find_bulk_form_units_method = \"main_atom\"  # 'gcm' (greatest common multiple)\n",
    "\n",
    "bulk_atoms = self.bulk_atoms\n",
    "atoms = self.atoms\n",
    "\n",
    "\n",
    "comp0 = Composition(bulk_atoms.get_chemical_formula())\n",
    "\n",
    "df = pd.DataFrame([\n",
    "    create_species_element_dict(atoms,\n",
    "        elems_to_always_include=[\"O\", \"H\"]),\n",
    "    dict(comp0.to_data_dict[\"reduced_cell_composition\"])],\n",
    "    index=[\"slab\", \"bulk\"])\n",
    "\n",
    "# Replace NaNs with 0.\n",
    "df = df.replace(np.nan, 0.0, regex=True)\n",
    "\n",
    "# Removingg columns with 0\n",
    "df = df.loc[:, (df != 0).any(axis=0)]\n",
    "\n",
    "# slab_comp_array = np.array(list(df.loc[\"slab\"]))\n",
    "# bulk_comp_array = np.array(list(df.loc[\"bulk\"]))\n",
    "# df.loc[\"slab\"].to_numpy()\n",
    "# df.loc[\"bulk\"].to_numpy()\n",
    "\n",
    "# Number of unit of the bulk's reduced formula that fit into the slab\n",
    "if find_bulk_form_units_method == \"main_atom\": \n",
    "    bulk_formula_units_in_slab = int(df.loc[\"slab\"][\"Ir\"] / df.loc[\"bulk\"][\"Ir\"])\n",
    "\n",
    "elif find_bulk_form_units_method == \"gcm\":\n",
    "    bulk_formula_units_in_slab = int(min(\n",
    "        df.loc[\"slab\"].to_numpy() / df.loc[\"bulk\"].to_numpy()\n",
    "        ))\n",
    "bfuis = bulk_formula_units_in_slab\n",
    "\n",
    "# #####################################################################\n",
    "# Getting the non-stoicheometric atoms composition\n",
    "df.loc[\"nonstoich\"] = df.loc[\"slab\"] - bfuis * df.loc[\"bulk\"]\n",
    "non_stoich_comp = df.loc[\"nonstoich\"].to_dict()\n",
    "self.non_stoich_comp = non_stoich_comp\n",
    "\n",
    "print(bulk_formula_units_in_slab)\n",
    "print(non_stoich_comp)\n",
    "# return(bulk_formula_units_in_slab)\n"
   ]
  },
  {
   "cell_type": "code",
   "execution_count": null,
   "metadata": {
    "jupyter": {
     "source_hidden": true
    }
   },
   "outputs": [],
   "source": [
    "bulk_formula_units_in_slab = int(df.loc[\"slab\"][\"Ir\"] / df.loc[\"bulk\"][\"Ir\"])\n",
    "bfuis = bulk_formula_units_in_slab\n",
    "\n",
    "df.loc[\"tmp\"] = df.loc[\"slab\"] - bfuis * df.loc[\"bulk\"]\n",
    "non_stoich_comp = df.loc[\"tmp\"].to_dict()\n",
    "\n",
    "print(non_stoich_comp)\n",
    "print(bulk_formula_units_in_slab)"
   ]
  },
  {
   "cell_type": "code",
   "execution_count": null,
   "metadata": {
    "jupyter": {
     "source_hidden": true
    }
   },
   "outputs": [],
   "source": [
    "df.loc[\"slab\"].to_numpy()\n",
    "\n",
    "df.loc[\"bulk\"].to_numpy()"
   ]
  }
 ],
 "metadata": {
  "kernelspec": {
   "display_name": "Python 3",
   "language": "python",
   "name": "python3"
  },
  "language_info": {
   "codemirror_mode": {
    "name": "ipython",
    "version": 3
   },
   "file_extension": ".py",
   "mimetype": "text/x-python",
   "name": "python",
   "nbconvert_exporter": "python",
   "pygments_lexer": "ipython3",
   "version": "3.7.3"
  }
 },
 "nbformat": 4,
 "nbformat_minor": 4
}
