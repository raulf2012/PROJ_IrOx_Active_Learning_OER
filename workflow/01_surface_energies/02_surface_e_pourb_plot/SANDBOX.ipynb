{
 "cells": [
  {
   "cell_type": "code",
   "execution_count": null,
   "metadata": {},
   "outputs": [],
   "source": [
    "ids = [\n",
    "  194,\n",
    "  196,\n",
    "  197,\n",
    "  200,\n",
    "  202,\n",
    "  294,\n",
    "  ]"
   ]
  },
  {
   "cell_type": "code",
   "execution_count": null,
   "metadata": {},
   "outputs": [],
   "source": [
    "%%capture\n",
    "import os\n",
    "import sys\n",
    "\n",
    "# #############################################################################\n",
    "sys.path.insert(0,\n",
    "    os.path.join(\n",
    "        os.environ[\"PROJ_irox\"],\n",
    "        \"workflow\"))\n",
    "from an_data_processing import load_df\n",
    "from an_data_processing import oxy_ref, hyd_ref\n",
    "\n",
    "# # #############################################################################\n",
    "import pickle\n",
    "import pandas as pd\n",
    "\n",
    "# # #############################################################################\n",
    "from misc_modules.pandas_methods import drop_columns\n",
    "from surface_energy.surface_energy import SurfaceEnergy\n",
    "\n",
    "from proj_data_irox import bulk_e_per_atom_dict"
   ]
  },
  {
   "cell_type": "code",
   "execution_count": null,
   "metadata": {},
   "outputs": [],
   "source": [
    "from ase.visualize import view"
   ]
  },
  {
   "cell_type": "code",
   "execution_count": null,
   "metadata": {},
   "outputs": [],
   "source": [
    "dataframe_dir = os.path.join(\n",
    "    os.environ[\"PROJ_DATA\"],\n",
    "    \"04_IrOx_surfaces_OER/190321_new_job_df\")\n",
    "df_pourbaix, df_ads, df_surf = load_df(\n",
    "    from_file=True,\n",
    "    root_dir=dataframe_dir,\n",
    "    data_dir=dataframe_dir,\n",
    "    file_name=\"df_master.pickle\",\n",
    "    process_df=True)\n",
    "df_m = df_surf\n",
    "\n",
    "\n",
    "# Filter the jobs that were unsuccessful\n",
    "df_m = df_m[[not i for i in pd.isna(df_m[\"elec_energy\"].tolist())]]\n",
    "df_m = df_m[df_m[\"job_type\"] == \"surface_coverage_energy\"]\n",
    "\n",
    "cols_to_keep = [\n",
    "    'facet',\n",
    "    'job_type',\n",
    "    'layers',\n",
    "    'surface_type',\n",
    "    'elec_energy',\n",
    "    'atoms_object',\n",
    "    'bulk_system',\n",
    "    'coverage_type',\n",
    "    'nonstoich_Os',\n",
    "    ]\n",
    "\n",
    "df_m = drop_columns(df=df_m, columns=cols_to_keep, keep_or_drop=\"keep\")\n",
    "\n",
    "# #############################################################################\n",
    "\n",
    "bulk_data_path = os.path.join(\n",
    "    os.environ[\"PROJ_irox\"],\n",
    "    \"workflow/an_bulk_systems\",\n",
    "    \"bulk_systems.pickle\")\n",
    "with open(bulk_data_path, \"rb\") as fle:\n",
    "    bulk_data = pickle.load(fle)"
   ]
  },
  {
   "cell_type": "code",
   "execution_count": null,
   "metadata": {},
   "outputs": [],
   "source": [
    "# df_m = df_m[\n",
    "#     (df_m[\"bulk_system\"] == \"IrO3\") &\n",
    "#     (df_m[\"facet\"] == \"111\") &\n",
    "# #     (df_m[\"\"] == \"\") &\n",
    "#     [True for i in range(len(df_m))]\n",
    "#     ]"
   ]
  },
  {
   "cell_type": "code",
   "execution_count": null,
   "metadata": {},
   "outputs": [],
   "source": [
    "# %%capture\n",
    "\n",
    "def method(row_i):\n",
    "    \"\"\"\n",
    "    \"\"\"\n",
    "    print(row_i[\"bulk_system\"] + \"_\" + row_i[\"facet\"] + \"_\" + row_i[\"coverage_type\"])\n",
    "\n",
    "\n",
    "    bulk_e_per_atom = bulk_e_per_atom_dict[row_i[\"bulk_system\"]]\n",
    "\n",
    "    SE = SurfaceEnergy(\n",
    "        atoms=row_i[\"atoms_object\"][-1],\n",
    "        bulk_atoms=bulk_data[row_i[\"bulk_system\"]],\n",
    "        bulk_electronic_energy_per_atom=bulk_e_per_atom,\n",
    "        H_ref_electronic_energy=hyd_ref,\n",
    "        O_ref_electronic_energy=oxy_ref,\n",
    "        verbose=True,\n",
    "        )\n",
    "\n",
    "    print(\"index: \", row_i.name)\n",
    "    print(\"\")\n",
    "\n",
    "    return(SE)\n",
    "\n",
    "df_m[\"SurfaceEnergy\"] = df_m.apply(\n",
    "    method,\n",
    "    axis=1,\n",
    "    )"
   ]
  },
  {
   "cell_type": "code",
   "execution_count": null,
   "metadata": {},
   "outputs": [],
   "source": [
    "import copy\n",
    "\n",
    "non_stoich_comp = df_m.iloc[1][\"SurfaceEnergy\"].non_stoich_comp\n",
    "\n",
    "non_stoich_comp_new = copy.copy(non_stoich_comp)\n",
    "\n",
    "print(non_stoich_comp)\n",
    "\n",
    "special_species_dict = dict()\n",
    "if \"O\" in non_stoich_comp.keys():\n",
    "\n",
    "    num_Os = non_stoich_comp.get(\"O\")\n",
    "    \n",
    "    if \"H\" in non_stoich_comp.keys():\n",
    "        num_Hs = non_stoich_comp.get(\"H\")\n",
    "        \n",
    "        min_num = min([num_Os, num_Hs])\n",
    "        \n",
    "        num_OHs = min_num\n",
    "\n",
    "        left_over_Hs = num_Hs - min_num\n",
    "        left_over_Os = num_Os - min_num\n",
    "\n",
    "        special_species_dict[\"*OH\"] = num_OHs\n",
    "        special_species_dict[\"*O\"] = left_over_Os\n",
    "\n",
    "        non_stoich_comp_new[\"O\"] = 0  # All nonstoich Os will be *O species\n",
    "        non_stoich_comp_new[\"H\"] = left_over_Hs\n",
    "    else:\n",
    "        num_OHs = 0\n",
    "        special_species_dict[\"*OH\"] = num_OHs\n",
    "\n",
    "        left_over_Hs = 0\n",
    "        left_over_Os = num_Os\n",
    "\n",
    "        special_species_dict[\"*O\"] = left_over_Os\n",
    "        special_species_dict[\"*OH\"] = 0\n",
    "\n",
    "        non_stoich_comp_new[\"O\"] = 0  # All nonstoich Os will be *O species\n",
    "        non_stoich_comp_new[\"H\"] = left_over_Hs\n",
    "        \n",
    "else:\n",
    "    num_OHs = 0\n",
    "    left_over_Os = num_Os\n",
    "    left_over_Hs = 0\n",
    "\n",
    "    if \"H\" in non_stoich_comp.keys():    \n",
    "        if non_stoich_comp.get(\"H\") > 0:\n",
    "            raise ValueError(\"NOT GOOD HERE, THERE IS AN *H WITHOUT and *OH\")\n",
    "            \n",
    "print(\"----\")\n",
    "print(non_stoich_comp_new)\n",
    "print(special_species_dict)"
   ]
  },
  {
   "cell_type": "code",
   "execution_count": null,
   "metadata": {},
   "outputs": [],
   "source": [
    "list0 = [\n",
    "{\n",
    "    \"index\": \"orig\",\n",
    "    \"O\": non_stoich_comp.get(\"O\", 0),\n",
    "    \"H\": non_stoich_comp.get(\"H\", 0),\n",
    "    },\n",
    "    ]\n",
    "\n",
    "df = pd.DataFrame(list0)\n",
    "\n",
    "# df[\"H_O\"] = \n",
    "\n",
    "df"
   ]
  },
  {
   "cell_type": "code",
   "execution_count": null,
   "metadata": {},
   "outputs": [],
   "source": [
    "min([3, 4])"
   ]
  },
  {
   "cell_type": "raw",
   "execution_count": null,
   "metadata": {},
   "outputs": [],
   "source": [
    "O3 H4\n",
    "\n",
    "O5 H4"
   ]
  },
  {
   "cell_type": "code",
   "execution_count": null,
   "metadata": {},
   "outputs": [],
   "source": [
    "# df_i = df_m.loc[ids]\n",
    "\n",
    "# atoms_list = [i[-1] for i in df_i[\"atoms_object\"].tolist()]\n",
    "# df_i[\"atoms\"] = atoms_list"
   ]
  },
  {
   "cell_type": "code",
   "execution_count": null,
   "metadata": {
    "jupyter": {}
   },
   "outputs": [],
   "source": [
    "# import tempfile\n",
    "# import shutil\n",
    "\n",
    "# dirpath = tempfile.mkdtemp(\n",
    "#     suffix=None,\n",
    "#     prefix=\"RAUL_TEMP_DIR_\",\n",
    "#     )\n",
    "\n",
    "# # dirpath = \"/tmp/RAUL_TEMP_DIR_i6m7jdtp\"\n",
    "# # print(dirpath)\n",
    "\n",
    "\n",
    "# def method(row_i):\n",
    "#     row_i[\"atoms\"].write(\n",
    "#         dirpath + \"/\" + str(row_i.name).zfill(4) + \".cif\")\n",
    "\n",
    "# df_i.apply(\n",
    "#     method,\n",
    "#     axis=1)\n",
    "\n",
    "\n",
    "\n",
    "# # shutil.rmtree(dirpath)"
   ]
  },
  {
   "cell_type": "raw",
   "execution_count": null,
   "metadata": {},
   "outputs": [],
   "source": [
    "\n",
    "\n",
    "\n",
    "\n"
   ]
  },
  {
   "cell_type": "code",
   "execution_count": null,
   "metadata": {},
   "outputs": [],
   "source": [
    "\"IrO3_100_h_covered\"\n",
    "\n",
    "df_tmp = df_m[\n",
    "    (df_m[\"bulk_system\"] == \"IrO3\") &\n",
    "    (df_m[\"facet\"] == \"111\") &\n",
    "#     (df_m[\"\"] == \"\") &\n",
    "    [True for i in range(len(df_m))]\n",
    "    ]\n",
    "\n",
    "df_tmp.loc[202][\"SurfaceEnergy\"].non_stoich_comp\n",
    "\n",
    "print(df_tmp[\"atoms_object\"].loc[200][-1])\n",
    "print(df_tmp[\"atoms_object\"].loc[201][-1])\n",
    "print(df_tmp[\"atoms_object\"].loc[202][-1])\n",
    "\n",
    "df_tmp"
   ]
  },
  {
   "cell_type": "code",
   "execution_count": null,
   "metadata": {},
   "outputs": [],
   "source": [
    "for i_cnt, row_i in df_tmp.iterrows():\n",
    "    row_i[\"SurfaceEnergy\"]\n",
    "#     df_tmp[\"SurfaceEnergy\"]\n",
    "\n",
    "    non_stoich_comp = row_i[\"SurfaceEnergy\"].non_stoich_comp\n",
    "    print(non_stoich_comp)"
   ]
  },
  {
   "cell_type": "code",
   "execution_count": null,
   "metadata": {},
   "outputs": [],
   "source": [
    "from ase_modules.ase_methods import view_in_vesta"
   ]
  },
  {
   "cell_type": "code",
   "execution_count": null,
   "metadata": {},
   "outputs": [],
   "source": [
    "# atoms_0 = df_tmp[\"atoms_object\"].loc[200][-1]\n",
    "# atoms_1 = df_tmp[\"atoms_object\"].loc[201][-1]\n",
    "\n",
    "# atoms_list = [\n",
    "#     df_tmp[\"atoms_object\"].loc[200][-1],\n",
    "#     df_tmp[\"atoms_object\"].loc[201][-1],\n",
    "#     df_tmp[\"atoms_object\"].loc[202][-1],\n",
    "#     ]\n",
    "\n",
    "\n",
    "# view_in_vesta(\n",
    "#     atoms_list,\n",
    "#     ase_gui=True,\n",
    "#     )"
   ]
  },
  {
   "cell_type": "code",
   "execution_count": null,
   "metadata": {},
   "outputs": [],
   "source": [
    "df_tmp = df_m[\n",
    "    (df_m[\"bulk_system\"] == \"IrO3\") &\n",
    "    (df_m[\"facet\"] == \"100\") &\n",
    "#     (df_m[\"\"] == \"\") &\n",
    "    [True for i in range(len(df_m))]\n",
    "    ]; df_tmp\n",
    "\n",
    "atoms_list = []\n",
    "for i_cnt, row_i in df_tmp.iterrows():\n",
    "    print(i_cnt)\n",
    "    print(row_i[\"SurfaceEnergy\"].non_stoich_comp)\n",
    "    \n",
    "    atoms_i = row_i[\"atoms_object\"][-1]\n",
    "    \n",
    "    atoms_list.append(atoms_i)\n",
    "    \n",
    "    \n",
    "# view_in_vesta(atoms_list, ase_gui=True)"
   ]
  },
  {
   "cell_type": "code",
   "execution_count": null,
   "metadata": {},
   "outputs": [],
   "source": [
    "# atoms_i.write(\"iro3_100_o_covered.cif\")"
   ]
  },
  {
   "cell_type": "code",
   "execution_count": null,
   "metadata": {},
   "outputs": [],
   "source": [
    "view_in_vesta"
   ]
  },
  {
   "cell_type": "code",
   "execution_count": null,
   "metadata": {},
   "outputs": [],
   "source": []
  },
  {
   "cell_type": "code",
   "execution_count": null,
   "metadata": {},
   "outputs": [],
   "source": [
    "row_i = df_m.loc[194]\n",
    "\n",
    "self = row_i[\"SurfaceEnergy\"]\n",
    "self.non_stoich"
   ]
  },
  {
   "cell_type": "code",
   "execution_count": null,
   "metadata": {},
   "outputs": [],
   "source": [
    "view_in_vesta(row_i[\"atoms_object\"][-1])"
   ]
  },
  {
   "cell_type": "raw",
   "execution_count": null,
   "metadata": {},
   "outputs": [],
   "source": [
    "\n",
    "\n",
    "\n",
    "\n",
    "\n",
    "\n"
   ]
  },
  {
   "cell_type": "code",
   "execution_count": null,
   "metadata": {},
   "outputs": [],
   "source": [
    "assert False"
   ]
  },
  {
   "cell_type": "code",
   "execution_count": null,
   "metadata": {
    "jupyter": {}
   },
   "outputs": [],
   "source": [
    "\n",
    "# | - IMPORT MODULES\n",
    "import numpy as np\n",
    "import pandas as pd\n",
    "\n",
    "import plotly.graph_objs as go\n",
    "\n",
    "from ase_modules.ase_methods import create_species_element_dict\n",
    "\n",
    "from pymatgen.core.composition import Composition\n",
    "#__|\n"
   ]
  },
  {
   "cell_type": "code",
   "execution_count": null,
   "metadata": {
    "jupyter": {}
   },
   "outputs": [],
   "source": [
    "main_atom = \"Ir\"  # Make this a class attribute\n",
    "find_bulk_form_units_method = \"main_atom\"  # 'gcm' (greatest common multiple)\n",
    "\n",
    "bulk_atoms = self.bulk_atoms\n",
    "atoms = self.atoms\n",
    "\n",
    "\n",
    "comp0 = Composition(bulk_atoms.get_chemical_formula())\n",
    "\n",
    "df = pd.DataFrame([\n",
    "    create_species_element_dict(atoms,\n",
    "        elems_to_always_include=[\"O\", \"H\"]),\n",
    "    dict(comp0.to_data_dict[\"reduced_cell_composition\"])],\n",
    "    index=[\"slab\", \"bulk\"])\n",
    "\n",
    "# Replace NaNs with 0.\n",
    "df = df.replace(np.nan, 0.0, regex=True)\n",
    "\n",
    "# Removingg columns with 0\n",
    "df = df.loc[:, (df != 0).any(axis=0)]\n",
    "\n",
    "# slab_comp_array = np.array(list(df.loc[\"slab\"]))\n",
    "# bulk_comp_array = np.array(list(df.loc[\"bulk\"]))\n",
    "# df.loc[\"slab\"].to_numpy()\n",
    "# df.loc[\"bulk\"].to_numpy()\n",
    "\n",
    "# Number of unit of the bulk's reduced formula that fit into the slab\n",
    "if find_bulk_form_units_method == \"main_atom\": \n",
    "    bulk_formula_units_in_slab = int(df.loc[\"slab\"][\"Ir\"] / df.loc[\"bulk\"][\"Ir\"])\n",
    "\n",
    "elif find_bulk_form_units_method == \"gcm\":\n",
    "    bulk_formula_units_in_slab = int(min(\n",
    "        df.loc[\"slab\"].to_numpy() / df.loc[\"bulk\"].to_numpy()\n",
    "        ))\n",
    "bfuis = bulk_formula_units_in_slab\n",
    "\n",
    "# #####################################################################\n",
    "# Getting the non-stoicheometric atoms composition\n",
    "df.loc[\"nonstoich\"] = df.loc[\"slab\"] - bfuis * df.loc[\"bulk\"]\n",
    "non_stoich_comp = df.loc[\"nonstoich\"].to_dict()\n",
    "self.non_stoich_comp = non_stoich_comp\n",
    "\n",
    "print(bulk_formula_units_in_slab)\n",
    "print(non_stoich_comp)\n",
    "# return(bulk_formula_units_in_slab)\n"
   ]
  },
  {
   "cell_type": "code",
   "execution_count": null,
   "metadata": {
    "jupyter": {}
   },
   "outputs": [],
   "source": [
    "bulk_formula_units_in_slab = int(df.loc[\"slab\"][\"Ir\"] / df.loc[\"bulk\"][\"Ir\"])\n",
    "bfuis = bulk_formula_units_in_slab\n",
    "\n",
    "df.loc[\"tmp\"] = df.loc[\"slab\"] - bfuis * df.loc[\"bulk\"]\n",
    "non_stoich_comp = df.loc[\"tmp\"].to_dict()\n",
    "\n",
    "print(non_stoich_comp)\n",
    "print(bulk_formula_units_in_slab)"
   ]
  },
  {
   "cell_type": "code",
   "execution_count": null,
   "metadata": {
    "jupyter": {}
   },
   "outputs": [],
   "source": [
    "df.loc[\"slab\"].to_numpy()\n",
    "\n",
    "df.loc[\"bulk\"].to_numpy()"
   ]
  }
 ],
 "metadata": {
  "kernelspec": {
   "display_name": "Python 3",
   "language": "python",
   "name": "python3"
  },
  "language_info": {
   "codemirror_mode": {
    "name": "ipython",
    "version": 3
   },
   "file_extension": ".py",
   "mimetype": "text/x-python",
   "name": "python",
   "nbconvert_exporter": "python",
   "pygments_lexer": "ipython3",
   "version": "3.7.5"
  }
 },
 "nbformat": 4,
 "nbformat_minor": 4
}
