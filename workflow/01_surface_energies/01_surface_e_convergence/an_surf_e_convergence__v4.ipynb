{
 "cells": [
  {
   "cell_type": "markdown",
   "execution_count": null,
   "metadata": {},
   "outputs": [],
   "source": [
    "# Surface Energy Convergence of IrOx Systems\n",
    "---\n",
    "\n",
    "Procedure:\n",
    "* TMP\n",
    "* TMP2\n",
    "* TMP3"
   ]
  },
  {
   "cell_type": "markdown",
   "execution_count": null,
   "metadata": {
    "toc-hr-collapsed": true
   },
   "outputs": [],
   "source": [
    "# Notebook Setup"
   ]
  },
  {
   "cell_type": "markdown",
   "execution_count": null,
   "metadata": {
    "toc-hr-collapsed": true
   },
   "outputs": [],
   "source": [
    "## Import Modules"
   ]
  },
  {
   "cell_type": "markdown",
   "execution_count": null,
   "metadata": {},
   "outputs": [],
   "source": [
    "### Notebook Magik Commands"
   ]
  },
  {
   "cell_type": "code",
   "execution_count": null,
   "metadata": {},
   "outputs": [],
   "source": [
    "%load_ext autoreload\n",
    "%autoreload 2"
   ]
  },
  {
   "cell_type": "markdown",
   "execution_count": null,
   "metadata": {},
   "outputs": [],
   "source": [
    "### Python Modules"
   ]
  },
  {
   "cell_type": "code",
   "execution_count": null,
   "metadata": {},
   "outputs": [],
   "source": [
    "%%capture\n",
    "# TEMP\n",
    "import os\n",
    "import sys\n",
    "\n",
    "# #############################################################################\n",
    "sys.path.insert(0,\n",
    "    os.path.join(\n",
    "        os.environ[\"PROJ_irox\"],\n",
    "        \"data\"))\n",
    "from proj_data_irox import irox_bulk_color_map\n",
    "\n",
    "# #############################################################################\n",
    "sys.path.insert(0,\n",
    "    os.path.join(\n",
    "        os.environ[\"PROJ_irox\"],\n",
    "        \"workflow\"))\n",
    "from an_data_processing import load_df\n",
    "from an_data_processing import oxy_ref, hyd_ref\n",
    "\n",
    "# #############################################################################\n",
    "import pickle\n",
    "import pandas as pd\n",
    "import numpy as np\n",
    "import plotly.graph_objs as go\n",
    "import plotly.express as px\n",
    "\n",
    "# #############################################################################\n",
    "from misc_modules.pandas_methods import drop_columns\n",
    "from surface_energy.surface_energy import SurfaceEnergy\n",
    "\n",
    "from plotting.my_plotly import my_plotly_plot\n",
    "from surface_energy.surface_energy import SurfaceEnergyConvergence as SE_Conv\n",
    "\n",
    "# #############################################################################\n",
    "pd.set_option(\"display.max_columns\", None)\n",
    "\n",
    "# #############################################################################\n",
    "from IPython.display import display"
   ]
  },
  {
   "cell_type": "markdown",
   "execution_count": null,
   "metadata": {},
   "outputs": [],
   "source": [
    "## Script Inputs"
   ]
  },
  {
   "cell_type": "code",
   "execution_count": null,
   "metadata": {},
   "outputs": [],
   "source": [
    "verbose = False"
   ]
  },
  {
   "cell_type": "markdown",
   "execution_count": null,
   "metadata": {
    "toc-hr-collapsed": true
   },
   "outputs": [],
   "source": [
    "## Read Data"
   ]
  },
  {
   "cell_type": "markdown",
   "execution_count": null,
   "metadata": {},
   "outputs": [],
   "source": [
    "### Read surface energy dataframe"
   ]
  },
  {
   "cell_type": "code",
   "execution_count": null,
   "metadata": {},
   "outputs": [],
   "source": [
    "dataframe_dir = os.path.join(\n",
    "    os.environ[\"PROJ_DATA\"],\n",
    "    \"04_IrOx_surfaces_OER/190321_new_job_df\")\n",
    "\n",
    "df_pourbaix, df_ads, df_surf = load_df(\n",
    "    from_file=True,\n",
    "    root_dir=dataframe_dir,\n",
    "    data_dir=dataframe_dir,\n",
    "    file_name=\"df_master.pickle\",\n",
    "    process_df=True)\n",
    "df_m = df_surf\n",
    "\n",
    "\n",
    "# Filter the jobs that were unsuccessful\n",
    "df_m = df_m[[not i for i in pd.isna(df_m[\"elec_energy\"].tolist())]]\n",
    "df_m = df_m[df_m[\"job_type\"] == \"surface_energy\"]\n",
    "\n",
    "\n",
    "cols_to_keep = [\n",
    "    'facet',\n",
    "    'job_type',\n",
    "    'layers',\n",
    "    'surface_type',\n",
    "    'elec_energy',\n",
    "    'atoms_object',\n",
    "    'bulk_system',\n",
    "    'coverage_type',\n",
    "    ]\n",
    "\n",
    "df_m = drop_columns(df=df_m, columns=cols_to_keep, keep_or_drop=\"keep\")"
   ]
  },
  {
   "cell_type": "markdown",
   "execution_count": null,
   "metadata": {},
   "outputs": [],
   "source": [
    "### Read bulk systems data"
   ]
  },
  {
   "cell_type": "code",
   "execution_count": null,
   "metadata": {},
   "outputs": [],
   "source": [
    "bulk_data_path = os.path.join(\n",
    "    os.environ[\"PROJ_irox\"],\n",
    "    \"workflow/an_bulk_systems\",\n",
    "    \"bulk_systems.pickle\")\n",
    "with open(bulk_data_path, \"rb\") as fle:\n",
    "    bulk_data = pickle.load(fle)"
   ]
  },
  {
   "cell_type": "markdown",
   "execution_count": null,
   "metadata": {},
   "outputs": [],
   "source": [
    "# -------------------------------------"
   ]
  },
  {
   "cell_type": "markdown",
   "execution_count": null,
   "metadata": {},
   "outputs": [],
   "source": [
    "# Instantiate SurfaceEnergy to DataFrame"
   ]
  },
  {
   "cell_type": "code",
   "execution_count": null,
   "metadata": {},
   "outputs": [],
   "source": [
    "def method(row_i):\n",
    "    \"\"\"\n",
    "    \"\"\"\n",
    "    SE = SurfaceEnergy(\n",
    "        atoms=row_i[\"atoms_object\"][-1],\n",
    "        bulk_atoms=bulk_data[row_i[\"bulk_system\"]],\n",
    "        H_ref_electronic_energy=hyd_ref,\n",
    "        O_ref_electronic_energy=oxy_ref,\n",
    "        verbose=verbose,\n",
    "        )\n",
    "\n",
    "    return(SE)\n",
    "\n",
    "df_m[\"SurfaceEnergy\"] = df_m.apply(\n",
    "    method,\n",
    "    axis=1,\n",
    "    )"
   ]
  },
  {
   "cell_type": "markdown",
   "execution_count": null,
   "metadata": {},
   "outputs": [],
   "source": [
    "# TEMP | Select subset of data"
   ]
  },
  {
   "cell_type": "code",
   "execution_count": null,
   "metadata": {},
   "outputs": [],
   "source": [
    "# # TEMP TEMP\n",
    "# df_m = df_m[\n",
    "#     (df_m[\"bulk_system\"] == \"IrO2\") &\n",
    "# #     (df_m[\"bulk_system\"] == \"IrO3_rutile-like\") &\n",
    "# #     (df_m[\"facet\"] == \"001\") &\n",
    "#     [True for i in range(len(df_m))]\n",
    "#     ]"
   ]
  },
  {
   "cell_type": "markdown",
   "execution_count": null,
   "metadata": {
    "toc-hr-collapsed": true
   },
   "outputs": [],
   "source": [
    "# Surface Energy vs Slab Width Plot <------------------------\n",
    "\n",
    "Explain what's happenging here"
   ]
  },
  {
   "cell_type": "code",
   "execution_count": null,
   "metadata": {},
   "outputs": [],
   "source": [
    "SEC_data = []\n",
    "data = []\n",
    "grouped = df_m.groupby([\"bulk_system\", \"facet\"])\n",
    "for i_cnt, (name, group) in enumerate(grouped):\n",
    "\n",
    "    SEC = SE_Conv(\n",
    "        SurfaceEnergy_instances=group[\"SurfaceEnergy\"].tolist(),\n",
    "        verbose=verbose,\n",
    "        )\n",
    "    self = SEC\n",
    "\n",
    "    # Fit bulk and then use to recalculate the surface energies for all slabs\n",
    "    self.fit_bulk_energy()\n",
    "    self.calculate_surface_energies(bulk_energy=self.fitted_bulk_energy)\n",
    "\n",
    "    color_i = irox_bulk_color_map[name[0]]\n",
    "    name_i = \"_\".join(list(name))\n",
    "\n",
    "    SEC_data.append({\n",
    "        \"name\": name_i,\n",
    "        \"bulk_system\": name[0],\n",
    "        \"facet\": name[1],\n",
    "        \"SEC\": SEC})\n",
    "\n",
    "    data_i = self.plot_surface_energy(\n",
    "        name_i=name_i,\n",
    "        color_i=color_i)\n",
    "\n",
    "    data += data_i"
   ]
  },
  {
   "cell_type": "markdown",
   "execution_count": null,
   "metadata": {},
   "outputs": [],
   "source": [
    "## Plot"
   ]
  },
  {
   "cell_type": "code",
   "execution_count": null,
   "metadata": {},
   "outputs": [],
   "source": [
    "my_plotly_plot(plot_name=\"TEMP_PLOT\",\n",
    "    save_dir=None, data=data, upload_plot=False)"
   ]
  },
  {
   "cell_type": "raw",
   "execution_count": null,
   "metadata": {},
   "outputs": [],
   "source": [
    "\n",
    "\n",
    "\n"
   ]
  },
  {
   "cell_type": "markdown",
   "execution_count": null,
   "metadata": {},
   "outputs": [],
   "source": [
    "# -------------------------------------"
   ]
  },
  {
   "cell_type": "markdown",
   "execution_count": null,
   "metadata": {
    "toc-hr-collapsed": true
   },
   "outputs": [],
   "source": [
    "# Averaging the fitted bulk energies across different facets"
   ]
  },
  {
   "cell_type": "markdown",
   "execution_count": null,
   "metadata": {},
   "outputs": [],
   "source": [
    "## Setting up new DataFrame"
   ]
  },
  {
   "cell_type": "code",
   "execution_count": null,
   "metadata": {},
   "outputs": [],
   "source": [
    "df_new = pd.DataFrame(SEC_data)\n",
    "\n",
    "# #############################################################################\n",
    "def method(row_i):\n",
    "    new_se = row_i[\"SEC\"].fitted_bulk_energy\n",
    "    return(new_se)\n",
    "df_new[\"fitted_bulk_energy\"] = df_new.apply(\n",
    "    method, axis=1)\n",
    "\n",
    "# #############################################################################\n",
    "def method(row_i):\n",
    "    new_se = row_i[\"SEC\"].ave_surface_energy_per_area\n",
    "    return(new_se)\n",
    "df_new[\"dft_bulk_ave_surface_e\"] = df_new.apply(\n",
    "    method, axis=1)\n",
    "\n",
    "def method(row_i):\n",
    "    new_se = row_i[\"SEC\"].new_ave_surface_energy_per_area\n",
    "    return(new_se)\n",
    "df_new[\"fitted_bulk_ave_surface_e\"] = df_new.apply(\n",
    "    method, axis=1)"
   ]
  },
  {
   "cell_type": "markdown",
   "execution_count": null,
   "metadata": {},
   "outputs": [],
   "source": [
    "## Group bulk fitted energies, average and std dev.\n",
    "\n",
    "The fitted bulk energies should hopefully be the same across fits done for different surfaces"
   ]
  },
  {
   "cell_type": "code",
   "execution_count": null,
   "metadata": {},
   "outputs": [],
   "source": [
    "final_averaged_fitted_bulk_energies = dict()\n",
    "grouped = df_new.groupby([\"bulk_system\"])\n",
    "for i_cnt, (name, group) in enumerate(grouped):\n",
    "    # display(group)\n",
    "\n",
    "    print(80 * \"_\")\n",
    "    name_tmp = \"|  \" + name + \"  |\"\n",
    "    print(name_tmp)\n",
    "    print(len(name_tmp) * \"-\")\n",
    "\n",
    "    ave_fitted_bulk_energy = group[\"fitted_bulk_energy\"].mean()\n",
    "    print(\"ave_fitted_bulk_energy:\", ave_fitted_bulk_energy)\n",
    "\n",
    "    std_fitted_bulk_energy = group[\"fitted_bulk_energy\"].std()\n",
    "    print(\"std_fitted_bulk_energy:\", std_fitted_bulk_energy)\n",
    "\n",
    "    final_averaged_fitted_bulk_energies[name] = ave_fitted_bulk_energy"
   ]
  },
  {
   "cell_type": "raw",
   "execution_count": null,
   "metadata": {},
   "outputs": [],
   "source": [
    "________________________________________________________________________________\n",
    "|  IrO2  |\n",
    "----------\n",
    "ave_fitted_bulk_energy: -7.044324480309523\n",
    "std_fitted_bulk_energy: 5.383171936804735e-05\n",
    "________________________________________________________________________________\n",
    "|  IrO3  |\n",
    "----------\n",
    "ave_fitted_bulk_energy: -6.463874089016009\n",
    "std_fitted_bulk_energy: 0.0017695334929991133\n",
    "________________________________________________________________________________\n",
    "|  IrO3_rutile-like  |\n",
    "----------------------\n",
    "ave_fitted_bulk_energy: -6.458260171334821\n",
    "std_fitted_bulk_energy: 0.0001088472764921181"
   ]
  },
  {
   "cell_type": "raw",
   "execution_count": null,
   "metadata": {},
   "outputs": [],
   "source": [
    "These results look pretty good\n",
    "The fitted bulk energies are very close to one another for each bulk system"
   ]
  },
  {
   "cell_type": "raw",
   "execution_count": null,
   "metadata": {},
   "outputs": [],
   "source": [
    "\n",
    "\n"
   ]
  },
  {
   "cell_type": "markdown",
   "execution_count": null,
   "metadata": {},
   "outputs": [],
   "source": [
    "# Recalculate all surface energies with newly average fitted bulk energetics"
   ]
  },
  {
   "cell_type": "code",
   "execution_count": null,
   "metadata": {},
   "outputs": [],
   "source": [
    "SEC_data = []\n",
    "data = []\n",
    "grouped = df_m.groupby([\"bulk_system\", \"facet\"])\n",
    "for i_cnt, (name, group) in enumerate(grouped):\n",
    "    bulk_system_i = name[0]\n",
    "    facet_i = name[1]\n",
    "\n",
    "    SEC = SE_Conv(\n",
    "        SurfaceEnergy_instances=group[\"SurfaceEnergy\"].tolist(),\n",
    "        verbose=verbose,\n",
    "        )\n",
    "    self = SEC\n",
    "\n",
    "    ave_fitt_bulk_energy = final_averaged_fitted_bulk_energies[bulk_system_i]\n",
    "\n",
    "    # Use the averaged fitted bulk  energies\n",
    "    self.calculate_surface_energies(\n",
    "        bulk_energy=ave_fitt_bulk_energy\n",
    "        )\n",
    "    print(name_i)\n",
    "    print(SEC.new_ave_surface_energy_per_area)\n",
    "\n",
    "    color_i = irox_bulk_color_map[name[0]]\n",
    "    name_i = \"_\".join(list(name))\n",
    "\n",
    "    SEC_data.append({\n",
    "        \"name\": name_i,\n",
    "        \"bulk_system\": name[0],\n",
    "        \"facet\": name[1],\n",
    "        \"SEC\": SEC})\n",
    "\n",
    "    data_i = self.plot_surface_energy(\n",
    "        name_i=name_i,\n",
    "        color_i=color_i)\n",
    "\n",
    "    data += data_i"
   ]
  },
  {
   "cell_type": "code",
   "execution_count": null,
   "metadata": {},
   "outputs": [],
   "source": [
    "my_plotly_plot(plot_name=\"TEMP_PLOT\",\n",
    "    save_dir=None, data=data, upload_plot=False)"
   ]
  },
  {
   "cell_type": "raw",
   "execution_count": null,
   "metadata": {},
   "outputs": [],
   "source": [
    "\n",
    "\n",
    "\n",
    "\n"
   ]
  },
  {
   "cell_type": "code",
   "execution_count": null,
   "metadata": {
    "jupyter": {}
   },
   "outputs": [],
   "source": [
    "#     # #########################################################################\n",
    "#     # | - Surface Energy (DFT Bulk)\n",
    "#     y_surface_e = []; x_slab_thickness = []\n",
    "#     for SE_inst_i in self.SurfaceEnergy_instances:\n",
    "#         y_surface_e.append(SE_inst_i.surface_e_per_area)\n",
    "#         x_slab_thickness.append(SE_inst_i.slab_thickness)\n",
    "\n",
    "#     trace_i = go.Scatter(\n",
    "#         x=x_slab_thickness,\n",
    "#         y=y_surface_e,\n",
    "#         mode='markers+lines',\n",
    "#         name=name_i,\n",
    "#         legendgroup=name_i,\n",
    "#         showlegend=True,\n",
    "#         line=dict(\n",
    "#             width=1.5,\n",
    "#             color=color_i,\n",
    "#             dash='dash',\n",
    "#             ),\n",
    "#         marker=dict(\n",
    "#             symbol=\"square\",\n",
    "#             size=8,\n",
    "#             color=color_i,\n",
    "#             line=dict(\n",
    "#                 width=1.0,\n",
    "#                 color=\"black\",\n",
    "#                 ),\n",
    "#             ),\n",
    "\n",
    "#         )\n",
    "#     data.append(trace_i)\n",
    "#     #__|\n",
    "\n",
    "#     # #########################################################################\n",
    "#     # | - Surface Energy (Fitted Bulk)\n",
    "#     y_surface_e = []; x_slab_thickness = []\n",
    "#     for SE_inst_i in self.new_SurfaceEnergy_instances:\n",
    "#         y_surface_e.append(SE_inst_i.surface_e_per_area)\n",
    "#         x_slab_thickness.append(SE_inst_i.slab_thickness)\n",
    "\n",
    "#     trace_i = go.Scatter(\n",
    "#         x=x_slab_thickness,\n",
    "#         y=y_surface_e,\n",
    "#         mode='markers+lines',\n",
    "#         name=name_i,\n",
    "#         # legendgroup=name_i,\n",
    "#         showlegend=False,\n",
    "#         line=dict(\n",
    "#             width=1.5,\n",
    "#             color=color_i,\n",
    "#             dash='solid',\n",
    "#             ),\n",
    "#         marker=dict(\n",
    "#             symbol=\"circle\",\n",
    "#             size=10,\n",
    "#             color=color_i,\n",
    "#             line=dict(\n",
    "#                 width=1.5,\n",
    "#                 color=\"black\",\n",
    "# #                 dash='solid',\n",
    "#                 ),\n",
    "#             ),\n",
    "#         )\n",
    "#     data.append(trace_i)\n",
    "#     #__|\n",
    "\n",
    "#     # #########################################################################\n",
    "#     # | - Average Surface Energy (DFT Bulk)\n",
    "#     ave_surface_energy = self.ave_surface_energy_per_area\n",
    "#     trace_i = go.Scatter(\n",
    "#         x=[0, 30],\n",
    "#         y=[ave_surface_energy, ave_surface_energy],\n",
    "#         name=name_i,\n",
    "#         # legendgroup=name_i,\n",
    "#         mode='lines',\n",
    "#         showlegend=False,\n",
    "#         line=dict(\n",
    "#             width=1.5,\n",
    "#             color=color_i,\n",
    "#             dash='dash',\n",
    "#             ),\n",
    "#         marker=dict(\n",
    "#             symbol=\"square\",\n",
    "#             size=10,\n",
    "#             color=color_i,\n",
    "#             line=dict(\n",
    "#                 width=1,\n",
    "#                 # color='rgb(0, 0, 0)',\n",
    "#                 color=color_i,\n",
    "#                 ),\n",
    "#             ),\n",
    "#         )\n",
    "#     data.append(trace_i)\n",
    "#     #__|\n",
    "\n",
    "#     # #########################################################################\n",
    "#     # | - Average Surface Energy (Fitted Bulk)\n",
    "#     ave_surface_energy = self.new_ave_surface_energy_per_area\n",
    "#     trace_i = go.Scatter(\n",
    "#         x=[0, 30],\n",
    "#         y=[ave_surface_energy, ave_surface_energy],\n",
    "#         name=name_i,\n",
    "#         # legendgroup=name_i,\n",
    "#         mode='lines',\n",
    "#         showlegend=False,\n",
    "#         line=dict(\n",
    "#             width=1.5,\n",
    "#             color=color_i,\n",
    "#             dash='solid',\n",
    "#             ),\n",
    "#         marker=dict(\n",
    "#             symbol=\"square\",\n",
    "#             size=10,\n",
    "#             color=color_i,\n",
    "#             line=dict(\n",
    "#                 width=1,\n",
    "#                 color=\"black\",\n",
    "#                 ),\n",
    "#             ),\n",
    "#         )\n",
    "#     data.append(trace_i)\n",
    "#     #__|"
   ]
  },
  {
   "cell_type": "code",
   "execution_count": null,
   "metadata": {
    "jupyter": {}
   },
   "outputs": [],
   "source": [
    "# TEMP\n",
    "# # self.fit_bulk_energy()\n",
    "# # self.calculate_surface_energies(bulk_energy=self.fitted_bulk_energy)\n",
    "# # self.calculate_surface_energies(bulk_energy=-10)\n",
    "\n",
    "# self.new_SurfaceEnergy_instances\n",
    "# self.ave_surface_energy_per_area"
   ]
  }
 ],
 "metadata": {
  "jupytext": {
   "formats": "ipynb,py:light"
  },
  "kernelspec": {
   "display_name": "Python 3",
   "language": "python",
   "name": "python3"
  },
  "language_info": {
   "codemirror_mode": {
    "name": "ipython",
    "version": 3
   },
   "file_extension": ".py",
   "mimetype": "text/x-python",
   "name": "python",
   "nbconvert_exporter": "python",
   "pygments_lexer": "ipython3",
   "version": "3.7.3"
  },
  "toc-autonumbering": true
 },
 "nbformat": 4,
 "nbformat_minor": 4
}
