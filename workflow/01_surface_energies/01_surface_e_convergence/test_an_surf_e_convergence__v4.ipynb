{
 "cells": [
  {
   "cell_type": "markdown",
   "metadata": {},
   "source": [
    "# Surface Energy Convergence of IrOx Systems\n",
    "---\n",
    "\n",
    "Procedure:\n",
    "* TMP\n",
    "* TMP2\n",
    "* TMP3"
   ]
  },
  {
   "cell_type": "markdown",
   "metadata": {
    "toc-hr-collapsed": true
   },
   "source": [
    "# Notebook Setup"
   ]
  },
  {
   "cell_type": "markdown",
   "metadata": {
    "toc-hr-collapsed": true
   },
   "source": [
    "## Import Modules"
   ]
  },
  {
   "cell_type": "markdown",
   "metadata": {},
   "source": [
    "### Notebook Magik Commands"
   ]
  },
  {
   "cell_type": "code",
   "execution_count": 1,
   "metadata": {},
   "outputs": [],
   "source": [
    "%load_ext autoreload\n",
    "%autoreload 2"
   ]
  },
  {
   "cell_type": "markdown",
   "metadata": {},
   "source": [
    "### Python Modules"
   ]
  },
  {
   "cell_type": "code",
   "execution_count": 2,
   "metadata": {},
   "outputs": [
    {
     "ename": "ImportError",
     "evalue": "cannot import name 'SurfaceEnergyConvergence'",
     "output_type": "error",
     "traceback": [
      "\u001b[0;31m---------------------------------------------------------------------------\u001b[0m",
      "\u001b[0;31mImportError\u001b[0m                               Traceback (most recent call last)",
      "\u001b[0;32m<ipython-input-2-e0ff49c7a412>\u001b[0m in \u001b[0;36m<module>\u001b[0;34m\u001b[0m\n\u001b[1;32m     30\u001b[0m \u001b[0;34m\u001b[0m\u001b[0m\n\u001b[1;32m     31\u001b[0m \u001b[0;32mfrom\u001b[0m \u001b[0mplotting\u001b[0m\u001b[0;34m.\u001b[0m\u001b[0mmy_plotly\u001b[0m \u001b[0;32mimport\u001b[0m \u001b[0mmy_plotly_plot\u001b[0m\u001b[0;34m\u001b[0m\u001b[0;34m\u001b[0m\u001b[0m\n\u001b[0;32m---> 32\u001b[0;31m \u001b[0;32mfrom\u001b[0m \u001b[0msurface_energy\u001b[0m\u001b[0;34m.\u001b[0m\u001b[0msurface_energy\u001b[0m \u001b[0;32mimport\u001b[0m \u001b[0mSurfaceEnergyConvergence\u001b[0m \u001b[0;32mas\u001b[0m \u001b[0mSE_Conv\u001b[0m\u001b[0;34m\u001b[0m\u001b[0;34m\u001b[0m\u001b[0m\n\u001b[0m\u001b[1;32m     33\u001b[0m \u001b[0;34m\u001b[0m\u001b[0m\n\u001b[1;32m     34\u001b[0m \u001b[0;31m# #############################################################################\u001b[0m\u001b[0;34m\u001b[0m\u001b[0;34m\u001b[0m\u001b[0;34m\u001b[0m\u001b[0m\n",
      "\u001b[0;31mImportError\u001b[0m: cannot import name 'SurfaceEnergyConvergence'"
     ]
    }
   ],
   "source": [
    "%%capture\n",
    "# TEMP\n",
    "import os\n",
    "import sys\n",
    "\n",
    "# #############################################################################\n",
    "sys.path.insert(0,\n",
    "    os.path.join(\n",
    "        os.environ[\"PROJ_irox\"],\n",
    "        \"data\"))\n",
    "from proj_data_irox import irox_bulk_color_map\n",
    "\n",
    "# #############################################################################\n",
    "sys.path.insert(0,\n",
    "    os.path.join(\n",
    "        os.environ[\"PROJ_irox\"],\n",
    "        \"workflow\"))\n",
    "from an_data_processing import load_df\n",
    "from an_data_processing import oxy_ref, hyd_ref\n",
    "\n",
    "# #############################################################################\n",
    "import pickle\n",
    "import pandas as pd\n",
    "import numpy as np\n",
    "import plotly.graph_objs as go\n",
    "import plotly.express as px\n",
    "\n",
    "# #############################################################################\n",
    "from misc_modules.pandas_methods import drop_columns\n",
    "from surface_energy.surface_energy import SurfaceEnergy\n",
    "\n",
    "from plotting.my_plotly import my_plotly_plot\n",
    "from surface_energy.surface_energy import SurfaceEnergyConvergence as SE_Conv\n",
    "\n",
    "# #############################################################################\n",
    "pd.set_option(\"display.max_columns\", None)\n",
    "\n",
    "# #############################################################################\n",
    "from IPython.display import display"
   ]
  },
  {
   "cell_type": "markdown",
   "metadata": {},
   "source": [
    "## Script Inputs"
   ]
  },
  {
   "cell_type": "code",
   "execution_count": 3,
   "metadata": {},
   "outputs": [],
   "source": [
    "verbose = False"
   ]
  },
  {
   "cell_type": "markdown",
   "metadata": {
    "toc-hr-collapsed": true
   },
   "source": [
    "## Read Data"
   ]
  },
  {
   "cell_type": "markdown",
   "metadata": {},
   "source": [
    "### Read surface energy dataframe"
   ]
  },
  {
   "cell_type": "code",
   "execution_count": 4,
   "metadata": {},
   "outputs": [
    {
     "name": "stdout",
     "output_type": "stream",
     "text": [
      "Attempting to load df from pickle\n"
     ]
    }
   ],
   "source": [
    "dataframe_dir = os.path.join(\n",
    "    os.environ[\"PROJ_DATA\"],\n",
    "    \"04_IrOx_surfaces_OER/190321_new_job_df\")\n",
    "\n",
    "df_pourbaix, df_ads, df_surf = load_df(\n",
    "    from_file=True,\n",
    "    root_dir=dataframe_dir,\n",
    "    data_dir=dataframe_dir,\n",
    "    file_name=\"df_master.pickle\",\n",
    "    process_df=True)\n",
    "df_m = df_surf\n",
    "\n",
    "\n",
    "# Filter the jobs that were unsuccessful\n",
    "df_m = df_m[[not i for i in pd.isna(df_m[\"elec_energy\"].tolist())]]\n",
    "df_m = df_m[df_m[\"job_type\"] == \"surface_energy\"]\n",
    "\n",
    "\n",
    "cols_to_keep = [\n",
    "    'facet',\n",
    "    'job_type',\n",
    "    'layers',\n",
    "    'surface_type',\n",
    "    'elec_energy',\n",
    "    'atoms_object',\n",
    "    'bulk_system',\n",
    "    'coverage_type',\n",
    "    ]\n",
    "\n",
    "df_m = drop_columns(df=df_m, columns=cols_to_keep, keep_or_drop=\"keep\")"
   ]
  },
  {
   "cell_type": "markdown",
   "metadata": {},
   "source": [
    "### Read bulk systems data"
   ]
  },
  {
   "cell_type": "code",
   "execution_count": 5,
   "metadata": {},
   "outputs": [],
   "source": [
    "bulk_data_path = os.path.join(\n",
    "    os.environ[\"PROJ_irox\"],\n",
    "    \"workflow/an_bulk_systems\",\n",
    "    \"bulk_systems.pickle\")\n",
    "with open(bulk_data_path, \"rb\") as fle:\n",
    "    bulk_data = pickle.load(fle)"
   ]
  },
  {
   "cell_type": "markdown",
   "metadata": {},
   "source": [
    "# -------------------------------------"
   ]
  },
  {
   "cell_type": "markdown",
   "metadata": {},
   "source": [
    "# Instantiate SurfaceEnergy to DataFrame"
   ]
  },
  {
   "cell_type": "code",
   "execution_count": 6,
   "metadata": {},
   "outputs": [],
   "source": [
    "def method(row_i):\n",
    "    \"\"\"\n",
    "    \"\"\"\n",
    "    SE = SurfaceEnergy(\n",
    "        atoms=row_i[\"atoms_object\"][-1],\n",
    "        bulk_atoms=bulk_data[row_i[\"bulk_system\"]],\n",
    "        H_ref_electronic_energy=hyd_ref,\n",
    "        O_ref_electronic_energy=oxy_ref,\n",
    "        verbose=verbose,\n",
    "        )\n",
    "\n",
    "    return(SE)\n",
    "\n",
    "df_m[\"SurfaceEnergy\"] = df_m.apply(\n",
    "    method,\n",
    "    axis=1,\n",
    "    )"
   ]
  },
  {
   "cell_type": "code",
   "execution_count": 7,
   "metadata": {},
   "outputs": [
    {
     "data": {
      "text/plain": [
       "6"
      ]
     },
     "execution_count": 7,
     "metadata": {},
     "output_type": "execute_result"
    }
   ],
   "source": [
    "SE_i = df_m.iloc[0][\"SurfaceEnergy\"]\n",
    "\n",
    "dir(SE_i)\n",
    "\n",
    "SE_i.bulk_electronic_energy\n",
    "\n",
    "SE_i.bulk_electronic_energy_per_atom\n",
    "\n",
    "SE_i.bulk_atoms.get_number_of_atoms()"
   ]
  },
  {
   "cell_type": "code",
   "execution_count": 8,
   "metadata": {},
   "outputs": [
    {
     "ename": "AssertionError",
     "evalue": "",
     "output_type": "error",
     "traceback": [
      "\u001b[0;31m---------------------------------------------------------------------------\u001b[0m",
      "\u001b[0;31mAssertionError\u001b[0m                            Traceback (most recent call last)",
      "\u001b[0;32m<ipython-input-8-a871fdc9ebee>\u001b[0m in \u001b[0;36m<module>\u001b[0;34m\u001b[0m\n\u001b[0;32m----> 1\u001b[0;31m \u001b[0;32massert\u001b[0m \u001b[0;32mFalse\u001b[0m\u001b[0;34m\u001b[0m\u001b[0;34m\u001b[0m\u001b[0m\n\u001b[0m",
      "\u001b[0;31mAssertionError\u001b[0m: "
     ]
    }
   ],
   "source": [
    "assert False"
   ]
  }
 ],
 "metadata": {
  "jupytext": {
   "formats": "ipynb,py:light"
  },
  "kernelspec": {
   "display_name": "Python [conda env:research-new]",
   "language": "python",
   "name": "conda-env-research-new-py"
  },
  "language_info": {
   "codemirror_mode": {
    "name": "ipython",
    "version": 3
   },
   "file_extension": ".py",
   "mimetype": "text/x-python",
   "name": "python",
   "nbconvert_exporter": "python",
   "pygments_lexer": "ipython3",
   "version": "3.6.8"
  },
  "toc-autonumbering": true
 },
 "nbformat": 4,
 "nbformat_minor": 4
}
