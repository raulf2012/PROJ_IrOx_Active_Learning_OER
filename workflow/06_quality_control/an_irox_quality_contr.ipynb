{
 "cells": [
  {
   "cell_type": "markdown",
   "metadata": {
    "Collapsed": "false"
   },
   "source": [
    "# Checking Job Sets for Consistency and Quality\n",
    "\n",
    "***"
   ]
  },
  {
   "cell_type": "raw",
   "metadata": {
    "Collapsed": "false"
   },
   "source": [
    "  The jobs within a Job set (defined as a set of DFT jobs containing bare, ooh, o, oh species)\n",
    "should be consistent with one another.\n",
    "\n",
    "1. All atoms (other than adsorbate atoms) should be reasonably consistent across all jobs\n",
    "2. Magnetic structures should be reasonably consistent\n",
    "3. Free from unwanted dissocation or other unexpected atom movement\n",
    "\n",
    "\n",
    "***************************************************************************************\n",
    "\n",
    "The atoms objects need the magnetic moments set to the init_magmom attribute\n",
    "\n",
    "ads_magmoms = ads.get_magnetic_moments()\n",
    "ads.set_initial_magnetic_moments(ads_magmoms)\n",
    "\n",
    "***************************************************************************************"
   ]
  },
  {
   "cell_type": "markdown",
   "metadata": {
    "Collapsed": "false"
   },
   "source": [
    "# Import Modules"
   ]
  },
  {
   "cell_type": "code",
   "execution_count": 1,
   "metadata": {
    "Collapsed": "false"
   },
   "outputs": [],
   "source": [
    "%%capture\n",
    "%load_ext autoreload\n",
    "%autoreload 2"
   ]
  },
  {
   "cell_type": "code",
   "execution_count": 1,
   "metadata": {
    "Collapsed": "false"
   },
   "outputs": [],
   "source": [
    "import sys\n",
    "import os\n",
    "\n",
    "sys.path.insert(\n",
    "    0, os.path.join(\n",
    "    os.environ[\"PROJ_irox\"],\n",
    "    \"workflow\"))\n",
    "\n",
    "sys.path.insert(\n",
    "    0, os.path.join(\n",
    "    os.environ[\"PROJ_irox\"],\n",
    "    \"data\"))"
   ]
  },
  {
   "cell_type": "code",
   "execution_count": 1,
   "metadata": {
    "Collapsed": "false"
   },
   "outputs": [],
   "source": [
    "###############################################################################\n",
    "# Local Imports ###############################################################\n",
    "from proj_data_irox import data_dir\n",
    "from an_data_processing import load_df\n",
    "\n",
    "\n",
    "# #############################################################################\n",
    "# Python Modules # ############################################################\n",
    "import subprocess\n",
    "import datetime\n",
    "\n",
    "import numpy as np\n",
    "import pandas as pd\n",
    "\n",
    "from ase.visualize import view\n",
    "from ase.io import Trajectory\n",
    "from ase import io\n",
    "\n",
    "\n",
    "# #############################################################################\n",
    "# IPython Imports #############################################################\n",
    "from IPython.display import display"
   ]
  },
  {
   "cell_type": "code",
   "execution_count": null,
   "metadata": {},
   "outputs": [],
   "source": [
    "pd.set_option('display.max_rows', 500)\n",
    "pd.set_option('display.max_columns', 500)\n",
    "pd.set_option('display.width', 1000)"
   ]
  },
  {
   "cell_type": "markdown",
   "metadata": {
    "Collapsed": "false"
   },
   "source": [
    "# Script Inputs"
   ]
  },
  {
   "cell_type": "code",
   "execution_count": 2,
   "metadata": {
    "Collapsed": "false"
   },
   "outputs": [],
   "source": [
    "prop_name_list = [\n",
    "    'bulk_system',\n",
    "#     'coverage',\n",
    "    'coverage_type',\n",
    "    'facet',\n",
    "    ]"
   ]
  },
  {
   "cell_type": "markdown",
   "metadata": {
    "Collapsed": "false"
   },
   "source": [
    "# Read and Process Data Frame"
   ]
  },
  {
   "cell_type": "code",
   "execution_count": 3,
   "metadata": {
    "Collapsed": "false"
   },
   "outputs": [
    {
     "name": "stdout",
     "output_type": "stream",
     "text": [
      "Attempting to load df from pickle\n"
     ]
    }
   ],
   "source": [
    "df_pourbaix, df_ads, df_surf = load_df(\n",
    "    from_file=True,\n",
    "    root_dir=data_dir,\n",
    "    data_dir=data_dir,\n",
    "    file_name=\"df_master.pickle\",\n",
    "    process_df=True,\n",
    "    )\n",
    "\n",
    "df_m = df_ads\n",
    "df_m.loc[df_m[\"coverage_type\"] == \"O-4_OH-0\", \"coverage_type\"] = \"o_covered\"\n",
    "df_m.loc[df_m[\"coverage_type\"] == \"O-2_OH-0\", \"coverage_type\"] = \"o_covered_2\"\n",
    "df_m.loc[df_m[\"coverage_type\"] == \"O-2_OH-2\", \"coverage_type\"] = \"h_covered\""
   ]
  },
  {
   "cell_type": "code",
   "execution_count": 4,
   "metadata": {
    "Collapsed": "false"
   },
   "outputs": [],
   "source": [
    "def create_energetics_table(\n",
    "    atoms_dir,\n",
    "    sys_name_i,\n",
    "    root_dir,\n",
    "    ):\n",
    "    \"\"\"\n",
    "    \"\"\"\n",
    "    #| - create_energetics_table\n",
    "    os.chdir(\n",
    "        os.path.join(\n",
    "            atoms_dir,\n",
    "            sys_name_i,\n",
    "            ),\n",
    "        )\n",
    "\n",
    "    bash_comm = os.path.join(\n",
    "        os.environ[\"PROJ_irox\"],\n",
    "        \"scripts\",\n",
    "        \"dft_scripts\",\n",
    "        \"get_energies_top_sites.py\",\n",
    "        )\n",
    "\n",
    "    result = subprocess.run(\n",
    "        [bash_comm],\n",
    "        stdout=subprocess.PIPE,\n",
    "        )\n",
    "\n",
    "    out_i = result.stdout.decode(\"utf-8\")\n",
    "\n",
    "    with open(\"energetics_summary.txt\", \"w\") as text_file:\n",
    "        text_file.write(out_i)\n",
    "#     out_i = [i for i in out_i.split(\"\\n\") if i != '']\n",
    "\n",
    "    os.chdir(root_dir)\n",
    "    #__|"
   ]
  },
  {
   "cell_type": "markdown",
   "metadata": {
    "Collapsed": "false"
   },
   "source": [
    "# Creating Traj Objects for Each 'Job Set'"
   ]
  },
  {
   "cell_type": "code",
   "execution_count": 5,
   "metadata": {
    "Collapsed": "false"
   },
   "outputs": [
    {
     "name": "stdout",
     "output_type": "stream",
     "text": [
      "202013\n"
     ]
    }
   ],
   "source": [
    "d = datetime.datetime.today()\n",
    "date_i = str(d.year) + str(d.month) + str(d.day)\n",
    "print(date_i)"
   ]
  },
  {
   "cell_type": "code",
   "execution_count": 6,
   "metadata": {
    "Collapsed": "false"
   },
   "outputs": [
    {
     "name": "stdout",
     "output_type": "stream",
     "text": [
      "out_data/00_job_sets_atoms_202013/00_job_sets_atoms/00_IrO2___h_covered___100/bare.json\n",
      "out_data/00_job_sets_atoms_202013/00_job_sets_atoms/00_IrO2___h_covered___100/ooh_up.json\n",
      "out_data/00_job_sets_atoms_202013/00_job_sets_atoms/00_IrO2___h_covered___100/o.json\n",
      "out_data/00_job_sets_atoms_202013/00_job_sets_atoms/00_IrO2___h_covered___100/oh.json\n",
      "out_data/00_job_sets_atoms_202013/00_job_sets_atoms/01_IrO2___h_covered___110/bare.json\n",
      "out_data/00_job_sets_atoms_202013/00_job_sets_atoms/01_IrO2___h_covered___110/ooh_up.json\n",
      "out_data/00_job_sets_atoms_202013/00_job_sets_atoms/01_IrO2___h_covered___110/o.json\n",
      "out_data/00_job_sets_atoms_202013/00_job_sets_atoms/01_IrO2___h_covered___110/oh.json\n",
      "out_data/00_job_sets_atoms_202013/00_job_sets_atoms/02_IrO2___o_covered___100/bare.json\n",
      "out_data/00_job_sets_atoms_202013/00_job_sets_atoms/02_IrO2___o_covered___100/ooh_up.json\n",
      "out_data/00_job_sets_atoms_202013/00_job_sets_atoms/02_IrO2___o_covered___100/o.json\n",
      "out_data/00_job_sets_atoms_202013/00_job_sets_atoms/02_IrO2___o_covered___100/oh.json\n",
      "out_data/00_job_sets_atoms_202013/00_job_sets_atoms/03_IrO2___o_covered___110/bare.json\n",
      "out_data/00_job_sets_atoms_202013/00_job_sets_atoms/03_IrO2___o_covered___110/ooh_up.json\n",
      "out_data/00_job_sets_atoms_202013/00_job_sets_atoms/03_IrO2___o_covered___110/o.json\n",
      "out_data/00_job_sets_atoms_202013/00_job_sets_atoms/03_IrO2___o_covered___110/oh.json\n",
      "out_data/00_job_sets_atoms_202013/00_job_sets_atoms/04_IrO3___h_covered___100/bare.json\n",
      "out_data/00_job_sets_atoms_202013/00_job_sets_atoms/04_IrO3___h_covered___100/ooh_up.json\n",
      "out_data/00_job_sets_atoms_202013/00_job_sets_atoms/04_IrO3___h_covered___100/o.json\n",
      "out_data/00_job_sets_atoms_202013/00_job_sets_atoms/04_IrO3___h_covered___100/oh.json\n",
      "out_data/00_job_sets_atoms_202013/00_job_sets_atoms/05_IrO3___h_covered___110/bare.json\n",
      "out_data/00_job_sets_atoms_202013/00_job_sets_atoms/05_IrO3___h_covered___110/ooh_sideways.json\n",
      "out_data/00_job_sets_atoms_202013/00_job_sets_atoms/05_IrO3___h_covered___110/o.json\n",
      "out_data/00_job_sets_atoms_202013/00_job_sets_atoms/05_IrO3___h_covered___110/oh.json\n",
      "out_data/00_job_sets_atoms_202013/00_job_sets_atoms/06_IrO3___h_covered___211/bare.json\n",
      "out_data/00_job_sets_atoms_202013/00_job_sets_atoms/06_IrO3___h_covered___211/ooh_up.json\n",
      "out_data/00_job_sets_atoms_202013/00_job_sets_atoms/06_IrO3___h_covered___211/o.json\n",
      "out_data/00_job_sets_atoms_202013/00_job_sets_atoms/06_IrO3___h_covered___211/oh.json\n",
      "out_data/00_job_sets_atoms_202013/00_job_sets_atoms/07_IrO3___o_covered___100/bare.json\n",
      "out_data/00_job_sets_atoms_202013/00_job_sets_atoms/07_IrO3___o_covered___100/ooh_up.json\n",
      "out_data/00_job_sets_atoms_202013/00_job_sets_atoms/07_IrO3___o_covered___100/o.json\n",
      "out_data/00_job_sets_atoms_202013/00_job_sets_atoms/07_IrO3___o_covered___100/oh.json\n",
      "out_data/00_job_sets_atoms_202013/00_job_sets_atoms/08_IrO3___o_covered___110/bare.json\n",
      "out_data/00_job_sets_atoms_202013/00_job_sets_atoms/08_IrO3___o_covered___110/ooh_up.json\n",
      "out_data/00_job_sets_atoms_202013/00_job_sets_atoms/08_IrO3___o_covered___110/o.json\n",
      "out_data/00_job_sets_atoms_202013/00_job_sets_atoms/08_IrO3___o_covered___110/oh.json\n",
      "out_data/00_job_sets_atoms_202013/00_job_sets_atoms/09_IrO3___o_covered___111/bare.json\n",
      "out_data/00_job_sets_atoms_202013/00_job_sets_atoms/09_IrO3___o_covered___111/ooh_up.json\n",
      "out_data/00_job_sets_atoms_202013/00_job_sets_atoms/09_IrO3___o_covered___111/o.json\n",
      "out_data/00_job_sets_atoms_202013/00_job_sets_atoms/09_IrO3___o_covered___111/oh.json\n",
      "out_data/00_job_sets_atoms_202013/00_job_sets_atoms/10_IrO3___o_covered___211/bare.json\n",
      "out_data/00_job_sets_atoms_202013/00_job_sets_atoms/10_IrO3___o_covered___211/ooh_up.json\n",
      "out_data/00_job_sets_atoms_202013/00_job_sets_atoms/10_IrO3___o_covered___211/o.json\n",
      "out_data/00_job_sets_atoms_202013/00_job_sets_atoms/10_IrO3___o_covered___211/oh.json\n",
      "out_data/00_job_sets_atoms_202013/00_job_sets_atoms/11_IrO3_battery___o_covered___010/bare.json\n",
      "out_data/00_job_sets_atoms_202013/00_job_sets_atoms/11_IrO3_battery___o_covered___010/ooh_up.json\n",
      "out_data/00_job_sets_atoms_202013/00_job_sets_atoms/11_IrO3_battery___o_covered___010/o.json\n",
      "out_data/00_job_sets_atoms_202013/00_job_sets_atoms/11_IrO3_battery___o_covered___010/oh.json\n",
      "out_data/00_job_sets_atoms_202013/00_job_sets_atoms/11_IrO3_battery___o_covered___010/bare.json\n",
      "out_data/00_job_sets_atoms_202013/00_job_sets_atoms/11_IrO3_battery___o_covered___010/ooh_up.json\n",
      "out_data/00_job_sets_atoms_202013/00_job_sets_atoms/11_IrO3_battery___o_covered___010/o.json\n",
      "out_data/00_job_sets_atoms_202013/00_job_sets_atoms/11_IrO3_battery___o_covered___010/oh.json\n",
      "out_data/00_job_sets_atoms_202013/00_job_sets_atoms/12_IrO3_rutile-like___h_covered___100/bare.json\n",
      "out_data/00_job_sets_atoms_202013/00_job_sets_atoms/12_IrO3_rutile-like___h_covered___100/ooh.json\n",
      "out_data/00_job_sets_atoms_202013/00_job_sets_atoms/12_IrO3_rutile-like___h_covered___100/o.json\n",
      "out_data/00_job_sets_atoms_202013/00_job_sets_atoms/12_IrO3_rutile-like___h_covered___100/oh.json\n",
      "out_data/00_job_sets_atoms_202013/00_job_sets_atoms/13_IrO3_rutile-like___h_covered___110/bare.json\n",
      "out_data/00_job_sets_atoms_202013/00_job_sets_atoms/13_IrO3_rutile-like___h_covered___110/ooh.json\n",
      "out_data/00_job_sets_atoms_202013/00_job_sets_atoms/13_IrO3_rutile-like___h_covered___110/o.json\n",
      "out_data/00_job_sets_atoms_202013/00_job_sets_atoms/13_IrO3_rutile-like___h_covered___110/oh.json\n",
      "out_data/00_job_sets_atoms_202013/00_job_sets_atoms/14_IrO3_rutile-like___o_covered___100/bare.json\n",
      "out_data/00_job_sets_atoms_202013/00_job_sets_atoms/14_IrO3_rutile-like___o_covered___100/ooh_up.json\n",
      "out_data/00_job_sets_atoms_202013/00_job_sets_atoms/14_IrO3_rutile-like___o_covered___100/o.json\n",
      "out_data/00_job_sets_atoms_202013/00_job_sets_atoms/14_IrO3_rutile-like___o_covered___100/oh.json\n",
      "out_data/00_job_sets_atoms_202013/00_job_sets_atoms/15_IrO3_rutile-like___o_covered___110/bare.json\n",
      "out_data/00_job_sets_atoms_202013/00_job_sets_atoms/15_IrO3_rutile-like___o_covered___110/ooh_up.json\n",
      "out_data/00_job_sets_atoms_202013/00_job_sets_atoms/15_IrO3_rutile-like___o_covered___110/o.json\n",
      "out_data/00_job_sets_atoms_202013/00_job_sets_atoms/15_IrO3_rutile-like___o_covered___110/oh.json\n",
      "out_data/00_job_sets_atoms_202013/00_job_sets_atoms/16_IrO3_rutile-like___o_covered_2___100/bare.json\n",
      "out_data/00_job_sets_atoms_202013/00_job_sets_atoms/16_IrO3_rutile-like___o_covered_2___100/ooh_up.json\n",
      "out_data/00_job_sets_atoms_202013/00_job_sets_atoms/16_IrO3_rutile-like___o_covered_2___100/o.json\n",
      "out_data/00_job_sets_atoms_202013/00_job_sets_atoms/16_IrO3_rutile-like___o_covered_2___100/oh.json\n"
     ]
    }
   ],
   "source": [
    "root_dir = os.getcwd()\n",
    "\n",
    "# atoms_dir = \"00_job_sets_atoms_181116_02\"\n",
    "\n",
    "num_atoms_dirs = len([i for i in os.listdir(\".\") if \"job_sets_atoms\" in i])\n",
    "# atoms_dir = \"00_job_sets_atoms/\" + str(num_atoms_dirs).zfill(2) + \"_job_sets_atoms\"\n",
    "atoms_dir = \"out_data/00_job_sets_atoms_\" + date_i + \"/\" + str(num_atoms_dirs).zfill(2) + \"_job_sets_atoms\"\n",
    "\n",
    "if not os.path.exists(atoms_dir):\n",
    "    os.makedirs(atoms_dir)\n",
    "\n",
    "groups = df_m.groupby(by=prop_name_list)\n",
    "for i_ind, (props_i, group_i) in enumerate(groups):\n",
    "    # images_list = [i for i in group_i[\"atoms_object\"].tolist() if i is not None]\n",
    "    # final_atoms_list = [i[-1] for i in images_list]\n",
    "\n",
    "    sys_name_i = str(i_ind).zfill(2) + \"_\" + \"___\".join(props_i)\n",
    "\n",
    "    sys_i_dir = os.path.join(\n",
    "        atoms_dir,\n",
    "        sys_name_i,\n",
    "        )\n",
    "\n",
    "    if not os.path.exists(sys_i_dir):\n",
    "        os.makedirs(sys_i_dir)\n",
    "\n",
    "    for j_cnt, row_j in group_i.iterrows():\n",
    "\n",
    "        name_j = row_j[\"adsorbate\"]\n",
    "\n",
    "        if not pd.isna(row_j[\"ooh_direction\"]):\n",
    "            name_j += \"_\" + row_j[\"ooh_direction\"]\n",
    "\n",
    "\n",
    "        # name_j += \".traj\"\n",
    "        name_j += \".json\"\n",
    "\n",
    "        if row_j[\"atoms_object\"] is None:\n",
    "            continue\n",
    "        else:\n",
    "            atoms_j = row_j[\"atoms_object\"][-1]\n",
    "\n",
    "            atoms_j_full_path = os.path.join(\n",
    "                atoms_dir,\n",
    "                sys_name_i,\n",
    "                name_j,\n",
    "                )\n",
    "\n",
    "            print(atoms_j_full_path)\n",
    "\n",
    "            # io.write(\n",
    "            #     atoms_j_full_path,\n",
    "            #     atoms_j,\n",
    "            #     )\n",
    "\n",
    "\n",
    "    # create_energetics_table(\n",
    "    #     atoms_dir,\n",
    "    #     sys_name_i,\n",
    "    #     root_dir,\n",
    "    #     )"
   ]
  }
 ],
 "metadata": {
  "kernelspec": {
   "display_name": "Python [conda env:PROJ_IrOx_Active_Learning_OER]",
   "language": "python",
   "name": "conda-env-PROJ_IrOx_Active_Learning_OER-py"
  },
  "language_info": {
   "codemirror_mode": {
    "name": "ipython",
    "version": 3
   },
   "file_extension": ".py",
   "mimetype": "text/x-python",
   "name": "python",
   "nbconvert_exporter": "python",
   "pygments_lexer": "ipython3",
   "version": "3.6.7"
  },
  "toc-autonumbering": true,
  "toc-showcode": false,
  "toc-showmarkdowntxt": false,
  "toc-showtags": false
 },
 "nbformat": 4,
 "nbformat_minor": 4
}
