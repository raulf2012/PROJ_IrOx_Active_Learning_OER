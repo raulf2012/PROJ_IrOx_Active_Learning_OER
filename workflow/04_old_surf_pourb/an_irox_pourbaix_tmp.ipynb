{
 "cells": [
  {
   "cell_type": "markdown",
   "metadata": {},
   "source": [
    "# Import Modules"
   ],
   "execution_count": null,
   "outputs": []
  },
  {
   "cell_type": "code",
   "execution_count": null,
   "metadata": {},
   "outputs": [],
   "source": [
    "%%capture\n",
    "%load_ext autoreload\n",
    "%autoreload 2"
   ]
  },
  {
   "cell_type": "code",
   "execution_count": null,
   "metadata": {},
   "outputs": [],
   "source": [
    "import sys\n",
    "import os\n",
    "\n",
    "sys.path.insert(\n",
    "    0,\n",
    "    os.path.join(\n",
    "        os.environ[\"PROJ_irox\"],\n",
    "        \"scripts\",\n",
    "        ),\n",
    "    )\n",
    "\n",
    "sys.path.insert(\n",
    "    0,\n",
    "    os.path.join(\n",
    "        os.environ[\"PROJ_irox\"],\n",
    "        \"workflow/an_analysis_dir\",\n",
    "        ),\n",
    "    )\n",
    "\n",
    "# sys.path.insert(\n",
    "#     0,\n",
    "#     os.path.join(\n",
    "#         os.environ[\"PROJ_irox\"],\n",
    "#         \"workflow/data\",\n",
    "#         ),\n",
    "#     )\n",
    "\n",
    "from Pourbaix_simple_generic import plot_Pourbaix\n",
    "from an_data_processing import load_df\n",
    "\n",
    "from ase_modules.ase_methods import create_species_element_dict"
   ]
  },
  {
   "cell_type": "code",
   "execution_count": null,
   "metadata": {},
   "outputs": [],
   "source": [
    "from data import h2_ref as h2\n",
    "from data import h2o_ref as h2o\n",
    "\n",
    "from data import zpe_h2o\n",
    "from data import cv_h2o\n",
    "from data import ts_h2o\n",
    "\n",
    "from data import zpe_h2\n",
    "from data import cv_h2\n",
    "from data import ts_h2\n",
    "\n",
    "from data import zpe_ooh\n",
    "from data import cv_ooh\n",
    "from data import ts_ooh\n",
    "\n",
    "from data import zpe_o\n",
    "from data import cv_o\n",
    "from data import ts_o\n",
    "\n",
    "from data import zpe_oh\n",
    "from data import cv_oh\n",
    "from data import ts_oh"
   ]
  },
  {
   "cell_type": "markdown",
   "metadata": {},
   "source": [
    "# Script Inputs"
   ],
   "execution_count": null,
   "outputs": []
  },
  {
   "cell_type": "code",
   "execution_count": null,
   "metadata": {},
   "outputs": [],
   "source": [
    "close_plt = False\n",
    "\n",
    "save_dir = os.path.join(\n",
    "    os.environ[\"PROJ_irox\"],\n",
    "    \"workflow/pl_master_plots/pl_pourbaix\"\n",
    "    )\n",
    "\n",
    "Umin=0.0\n",
    "Umax=2.2"
   ]
  },
  {
   "cell_type": "code",
   "execution_count": null,
   "metadata": {},
   "outputs": [],
   "source": [
    "Pourbaix_arg_dict = {\n",
    "#     \"surfs\": surfs,\n",
    "    \"h2\": h2,\n",
    "    \"zpe_h2\": zpe_h2,\n",
    "    \"ts_h2\": ts_h2,\n",
    "    \"cv_h2\": cv_h2,\n",
    "    \"h2o\": h2o,\n",
    "    \"zpe_h2o\": zpe_h2o,\n",
    "    \"ts_h2o\": ts_h2o,\n",
    "    \"cv_h2o\": cv_h2o,\n",
    "    \"zpe_o\": zpe_o,\n",
    "    \"ts_o\": ts_o,\n",
    "    \"cv_o\": cv_o,\n",
    "    \"zpe_oh\": zpe_oh,\n",
    "    \"ts_oh\": ts_oh,\n",
    "    \"cv_oh\": cv_oh,\n",
    "    \"zpe_ooh\": zpe_ooh,\n",
    "    \"ts_ooh\": ts_ooh,\n",
    "    \"cv_ooh\": cv_ooh,\n",
    "    \"Umin\": Umin,\n",
    "    \"Umax\": Umax,\n",
    "    \"print_out\": False,\n",
    "    \"save_dir\": save_dir,\n",
    "#     \"file_name\": \"_\".join(list(key_i)) + \".pdf\",\n",
    "    \"close_plt\": close_plt,\n",
    "    }"
   ]
  },
  {
   "cell_type": "code",
   "execution_count": null,
   "metadata": {},
   "outputs": [],
   "source": [
    "Pourbaix_arg_dict = {\n",
    "#     \"surfs\": surfs,\n",
    "    \"h2\": h2,\n",
    "    \"zpe_h2\": 0.,\n",
    "    \"ts_h2\": 0.,\n",
    "    \"cv_h2\": 0.,\n",
    "    \"h2o\": h2o,\n",
    "    \"zpe_h2o\": 0.,\n",
    "    \"ts_h2o\": 0.,\n",
    "    \"cv_h2o\": 0.,\n",
    "    \"zpe_o\": 0.,\n",
    "    \"ts_o\": 0.,\n",
    "    \"cv_o\": 0.,\n",
    "    \"zpe_oh\": 0.,\n",
    "    \"ts_oh\": 0.,\n",
    "    \"cv_oh\":0.,\n",
    "    \"zpe_ooh\": 0.,\n",
    "    \"ts_ooh\": 0.,\n",
    "    \"cv_ooh\": 0.,\n",
    "    \"Umin\": Umin,\n",
    "    \"Umax\": Umax,\n",
    "    \"print_out\": False,\n",
    "    \"save_dir\": save_dir,\n",
    "#     \"file_name\": \"_\".join(list(key_i)) + \".pdf\",\n",
    "    \"close_plt\": close_plt,\n",
    "    }"
   ]
  },
  {
   "cell_type": "markdown",
   "metadata": {},
   "source": [
    "# Read/Process DataFrame"
   ],
   "execution_count": null,
   "outputs": []
  },
  {
   "cell_type": "code",
   "execution_count": null,
   "metadata": {},
   "outputs": [],
   "source": [
    "dataframe_dir = os.path.join(\n",
    "    os.environ[\"PROJ_irox\"],\n",
    "    \"workflow/data\",\n",
    "    )\n",
    "\n",
    "df_pourbaix, df_ads, df_surf = load_df(\n",
    "    from_file=False,\n",
    "\n",
    "    root_dir=dataframe_dir,\n",
    "    data_dir=dataframe_dir,\n",
    "\n",
    "#     root_dir=\"../../data\",\n",
    "#     data_dir=\"../../data\",\n",
    "\n",
    "    file_name=\"df_master.pickle\",\n",
    "    process_df=True,\n",
    "    )\n",
    "\n",
    "# df_pourbaix, df_ads, df_surf = load_df(\n",
    "#     from_file=False,\n",
    "#     root_dir=\"../data\",\n",
    "#     data_dir=\"../data\",\n",
    "#     file_name=\"df_master.pickle\",\n",
    "#     process_df=True,\n",
    "#     )\n",
    "\n",
    "df_m = df_pourbaix\n",
    "\n",
    "# Elimate structures that aren't converged w.r.t. forces\n",
    "df_m = df_m[df_m[\"max_force\"] < 0.05]\n",
    "\n",
    "df_m[\"name_i\"] = df_m[\"name_i\"].str.replace(\"_\", \" \")\n",
    "df_m[\"name_i\"] = df_m[\"name_i\"].str.replace(\"|\", \",\")\n",
    "\n",
    "grouped = df_m.groupby([\"facet\", \"bulk_system\"])\n",
    "group_dict = {}\n",
    "for i_ind, (name, group) in enumerate(grouped):\n",
    "    df_i = group\n",
    "    group_dict[name] = group"
   ]
  },
  {
   "cell_type": "code",
   "execution_count": null,
   "metadata": {},
   "outputs": [],
   "source": [
    "# df_m"
   ]
  },
  {
   "cell_type": "markdown",
   "metadata": {},
   "source": [
    "# Pourbaix Diagrams"
   ],
   "execution_count": null,
   "outputs": []
  },
  {
   "cell_type": "markdown",
   "metadata": {},
   "source": [
    "## IrO3 ------------------------------"
   ],
   "execution_count": null,
   "outputs": []
  },
  {
   "cell_type": "markdown",
   "metadata": {},
   "source": [
    "### IrO3 | 100"
   ],
   "execution_count": null,
   "outputs": []
  },
  {
   "cell_type": "code",
   "execution_count": null,
   "metadata": {},
   "outputs": [],
   "source": [
    "key_i = (\"100\", \"IrO3\")\n",
    "df_i = group_dict[key_i]\n",
    "\n",
    "surfs = [\n",
    "    # Clean ******************************************************\n",
    "    [df_i[df_i[\"coverage_type\"] == \"bare\"].iloc[0].elec_energy,\n",
    "        0, 0, 0],\n",
    "\n",
    "    # *O *********************************************************\n",
    "    [df_i[df_i[\"coverage_type\"] == \"o_covered\"].iloc[0].elec_energy,\n",
    "        0, 2, 0],\n",
    "\n",
    "    # *OH ********************************************************\n",
    "    [df_i[df_i[\"coverage_type\"] == \"h_covered\"].iloc[0].elec_energy,\n",
    "        0, 0, 2],\n",
    "    ]\n",
    "\n",
    "Pourbaix_arg_dict.update({\"surfs\": surfs})\n",
    "Pourbaix_arg_dict.update({\"file_name\": \"_\".join(list(key_i)) + \".pdf\"})\n",
    "plot_Pourbaix(**Pourbaix_arg_dict)"
   ]
  },
  {
   "cell_type": "markdown",
   "metadata": {},
   "source": [
    "### IrO3 | 110"
   ],
   "execution_count": null,
   "outputs": []
  },
  {
   "cell_type": "code",
   "execution_count": null,
   "metadata": {},
   "outputs": [],
   "source": [
    "key_i = (\"110\", \"IrO3\")\n",
    "df_i = group_dict[key_i]\n",
    "\n",
    "surfs = [\n",
    "    # Clean ******************************************************\n",
    "    [df_i[df_i[\"coverage_type\"] == \"bare\"].iloc[0].elec_energy,\n",
    "        0, 0, 0],\n",
    "\n",
    "    # *O *********************************************************\n",
    "    [df_i[df_i[\"coverage_type\"] == \"o_covered\"].iloc[0].elec_energy,\n",
    "        0, 4, 0],\n",
    "\n",
    "    # *OH ********************************************************\n",
    "    [df_i[df_i[\"coverage_type\"] == \"h_covered\"].iloc[0].elec_energy,\n",
    "        0, 0, 4],\n",
    "    ]\n",
    "\n",
    "Pourbaix_arg_dict.update({\"surfs\": surfs})\n",
    "Pourbaix_arg_dict.update({\"file_name\": \"_\".join(list(key_i)) + \".pdf\"})\n",
    "plot_Pourbaix(**Pourbaix_arg_dict)"
   ]
  },
  {
   "cell_type": "markdown",
   "metadata": {},
   "source": [
    "### IrO3 | 111"
   ],
   "execution_count": null,
   "outputs": []
  },
  {
   "cell_type": "code",
   "execution_count": null,
   "metadata": {},
   "outputs": [],
   "source": [
    "key_i = (\"111\", \"IrO3\")\n",
    "df_i = group_dict[key_i]\n",
    "\n",
    "surfs = [\n",
    "    # Clean ******************************************************\n",
    "    [df_i[df_i[\"coverage_type\"] == \"bare\"].iloc[0].elec_energy,\n",
    "        0, 0, 0],\n",
    "\n",
    "    # *O *********************************************************\n",
    "    [df_i[df_i[\"coverage_type\"] == \"o_covered\"].iloc[-1].elec_energy,\n",
    "        0, 6, 0],\n",
    "    [df_i[df_i[\"coverage_type\"] == \"o_covered\"].iloc[-2].elec_energy,\n",
    "        0, 5, 0],\n",
    "    [df_i[df_i[\"coverage_type\"] == \"o_covered\"].iloc[-3].elec_energy,\n",
    "        0, 4, 0],\n",
    "    [df_i[df_i[\"coverage_type\"] == \"o_covered\"].iloc[-4].elec_energy,\n",
    "        0, 3, 0],\n",
    "    [df_i[df_i[\"coverage_type\"] == \"o_covered\"].iloc[-5].elec_energy,\n",
    "        0, 2, 0],\n",
    "    [df_i[df_i[\"coverage_type\"] == \"o_covered\"].iloc[-6].elec_energy,\n",
    "        0, 1, 0],\n",
    "\n",
    "    # *OH ********************************************************\n",
    "    [df_i[df_i[\"coverage_type\"] == \"h_covered\"].iloc[-1].elec_energy,\n",
    "        0, 0, 6],\n",
    "    [df_i[df_i[\"coverage_type\"] == \"h_covered\"].iloc[-2].elec_energy,\n",
    "        0, 1, 5],\n",
    "    [df_i[df_i[\"coverage_type\"] == \"h_covered\"].iloc[-3].elec_energy,\n",
    "        0, 2, 4],\n",
    "    [df_i[df_i[\"coverage_type\"] == \"h_covered\"].iloc[-4].elec_energy,\n",
    "        0, 3, 3],\n",
    "    [df_i[df_i[\"coverage_type\"] == \"h_covered\"].iloc[-5].elec_energy,\n",
    "        0, 4, 2],\n",
    "#     [df_i[df_i[\"coverage_type\"] == \"h_covered\"].iloc[-6].elec_energy,\n",
    "#         0, 5, 1],\n",
    "    ]\n",
    "\n",
    "Pourbaix_arg_dict.update({\"surfs\": surfs})\n",
    "Pourbaix_arg_dict.update({\"file_name\": \"_\".join(list(key_i)) + \".pdf\"})\n",
    "plot_Pourbaix(**Pourbaix_arg_dict)"
   ]
  },
  {
   "cell_type": "markdown",
   "metadata": {},
   "source": [
    "### IrO3 | 211"
   ],
   "execution_count": null,
   "outputs": []
  },
  {
   "cell_type": "code",
   "execution_count": null,
   "metadata": {},
   "outputs": [],
   "source": [
    "key_i = (\"211\", \"IrO3\")\n",
    "df_i = group_dict[key_i]\n",
    "\n",
    "surfs = [\n",
    "    # Clean ******************************************************\n",
    "    [df_i[df_i[\"coverage_type\"] == \"bare\"].iloc[0].elec_energy,\n",
    "        0, 0, 0],\n",
    "\n",
    "    # *O *********************************************************\n",
    "    [df_i[df_i[\"coverage_type\"] == \"o_covered\"].iloc[0].elec_energy,\n",
    "        0, 4, 0],\n",
    "\n",
    "#     # *OH ********************************************************\n",
    "#     [df_i[df_i[\"coverage_type\"] == \"h_covered\"].iloc[1].elec_energy,\n",
    "#         0, 0, 4],\n",
    "    ]\n",
    "\n",
    "Pourbaix_arg_dict.update({\"surfs\": surfs})\n",
    "Pourbaix_arg_dict.update({\"file_name\": \"_\".join(list(key_i)) + \".pdf\"})\n",
    "plot_Pourbaix(**Pourbaix_arg_dict)"
   ]
  },
  {
   "cell_type": "markdown",
   "metadata": {},
   "source": [
    "***\n",
    "***"
   ],
   "execution_count": null,
   "outputs": []
  },
  {
   "cell_type": "markdown",
   "metadata": {},
   "source": [
    "## IrO2 ------------------------------"
   ],
   "execution_count": null,
   "outputs": []
  },
  {
   "cell_type": "markdown",
   "metadata": {},
   "source": [
    "### IrO2 | 100"
   ],
   "execution_count": null,
   "outputs": []
  },
  {
   "cell_type": "raw",
   "metadata": {},
   "source": [
    "The OH covered surface is extremely stable here and overrides the bare phase everywhere on the diagram\n",
    "Not consistent with the surface energy calculation it seems\n",
    "\n",
    "The H is pointing up in the surface energy calculation (didn't relax fully)\n",
    "And in this Pourbaix calculation the H atoms found themselves deeply embedded into the surface (almost sideways)"
   ],
   "execution_count": null,
   "outputs": []
  },
  {
   "cell_type": "code",
   "execution_count": null,
   "metadata": {},
   "outputs": [],
   "source": [
    "key_i = (\"100\", \"IrO2\")\n",
    "df_i = group_dict[key_i]\n",
    "\n",
    "surfs = [ \n",
    "    # Clean ******************************************************\n",
    "    [df_i[df_i[\"coverage_type\"] == \"bare\"].iloc[0].elec_energy,\n",
    "        0, 0, 0],\n",
    "\n",
    "    # *O *********************************************************\n",
    "    [df_i[df_i[\"coverage_type\"] == \"o_covered\"].iloc[-1].elec_energy,\n",
    "        0, 4, 0],\n",
    "#     [df_i[df_i[\"coverage_type\"] == \"o_covered\"].iloc[-2].elec_energy,\n",
    "#         0, 1, 0],\n",
    "\n",
    "    # *OH ********************************************************\n",
    "    [df_i[df_i[\"coverage_type\"] == \"h_covered\"].iloc[-1].elec_energy,\n",
    "        0, 0, 4],\n",
    "    ]\n",
    "\n",
    "Pourbaix_arg_dict.update({\"surfs\": surfs})\n",
    "Pourbaix_arg_dict.update({\"file_name\": \"_\".join(list(key_i)) + \".pdf\"})\n",
    "plot_Pourbaix(**Pourbaix_arg_dict)"
   ]
  },
  {
   "cell_type": "code",
   "execution_count": null,
   "metadata": {},
   "outputs": [],
   "source": [
    "# view(df_i[df_i[\"coverage_type\"] == \"h_covered\"].iloc[-1].atoms_object)"
   ]
  },
  {
   "cell_type": "code",
   "execution_count": null,
   "metadata": {},
   "outputs": [],
   "source": [
    "# from ase.visualize import view\n",
    "# view(df_i.loc[20].atoms_object)"
   ]
  },
  {
   "cell_type": "markdown",
   "metadata": {},
   "source": [
    "### IrO2 | 110"
   ],
   "execution_count": null,
   "outputs": []
  },
  {
   "cell_type": "code",
   "execution_count": null,
   "metadata": {},
   "outputs": [],
   "source": [
    "key_i = (\"110\", \"IrO2\")\n",
    "df_i = group_dict[key_i]\n",
    "\n",
    "surfs = [ \n",
    "    # Clean ******************************************************\n",
    "    [df_i[df_i[\"coverage_type\"] == \"bare\"].iloc[0].elec_energy,\n",
    "        0, 0, 0],\n",
    "\n",
    "    # *O *********************************************************\n",
    "    [df_i[df_i[\"coverage_type\"] == \"o_covered\"].iloc[-1].elec_energy,\n",
    "        0, 2, 0],\n",
    "\n",
    "    # *OH ********************************************************\n",
    "    [df_i[df_i[\"coverage_type\"] == \"h_covered\"].iloc[-1].elec_energy,\n",
    "        0, 0, 2],\n",
    "    ]\n",
    "\n",
    "Pourbaix_arg_dict.update({\"surfs\": surfs})\n",
    "Pourbaix_arg_dict.update({\"file_name\": \"_\".join(list(key_i)) + \".pdf\"})\n",
    "plot_Pourbaix(**Pourbaix_arg_dict)"
   ]
  },
  {
   "cell_type": "markdown",
   "metadata": {},
   "source": [
    "## IrO3_rutile-like ------------------"
   ],
   "execution_count": null,
   "outputs": []
  },
  {
   "cell_type": "markdown",
   "metadata": {},
   "source": [
    "### IrO3_rutile-like | 001"
   ],
   "execution_count": null,
   "outputs": []
  },
  {
   "cell_type": "code",
   "execution_count": null,
   "metadata": {},
   "outputs": [],
   "source": [
    "key_i = (\"001\", \"IrO3_rutile-like\")\n",
    "df_i = group_dict[key_i]\n",
    "\n",
    "bare_i = df_i.loc[\n",
    "    (df_i[\"coverage_type\"] == \"o_covered\") & \\\n",
    "    (df_i[\"coverage\"] == \"0.0\")\n",
    "    ]\n",
    "\n",
    "o_covered_i = df_i.loc[\n",
    "    (df_i[\"coverage_type\"] == \"o_covered\")\n",
    "    ]\n",
    "\n",
    "h_covered_i = df_i.loc[\n",
    "    (df_i[\"coverage_type\"] == \"h_covered\")\n",
    "    ]\n",
    "\n",
    "surfs = [ \n",
    "    # Clean ******************************************************\n",
    "    [bare_i.iloc[0].elec_energy,\n",
    "        0, 0, 0],\n",
    "\n",
    "    # *O *********************************************************\n",
    "\n",
    "#     [o_covered_i[o_covered_i[\"coverage\"] == \"0.125\"].iloc[0].elec_energy,\n",
    "#         0, 1, 0],\n",
    "#     [o_covered_i[o_covered_i[\"coverage\"] == \"0.25\"].iloc[0].elec_energy,\n",
    "#         0, 2, 0],\n",
    "#     [o_covered_i[o_covered_i[\"coverage\"] == \"0.375\"].iloc[0].elec_energy,\n",
    "#         0, 3, 0],\n",
    "\n",
    "    [o_covered_i[o_covered_i[\"coverage\"] == \"0.5\"].iloc[0].elec_energy,\n",
    "        0, 4, 0],\n",
    "\n",
    "#     [o_covered_i[o_covered_i[\"coverage\"] == \"0.625\"].iloc[0].elec_energy,\n",
    "#         0, 5, 0],\n",
    "#     [o_covered_i[o_covered_i[\"coverage\"] == \"0.75\"].iloc[0].elec_energy,\n",
    "#         0, 6, 0],\n",
    "#     [o_covered_i[o_covered_i[\"coverage\"] == \"0.875\"].iloc[0].elec_energy,\n",
    "#         0, 7, 0],\n",
    "    [o_covered_i[o_covered_i[\"coverage\"] == \"1.0\"].iloc[0].elec_energy,\n",
    "        0, 8, 0],\n",
    "\n",
    "#     # *OH ********************************************************\n",
    "#     [h_covered_i[h_covered_i[\"coverage\"] == \"0.125\"].iloc[0].elec_energy,\n",
    "#         0, 7, 1],\n",
    "#     [h_covered_i[h_covered_i[\"coverage\"] == \"0.25\"].iloc[0].elec_energy,\n",
    "#         0, 6, 2],\n",
    "#     [h_covered_i[h_covered_i[\"coverage\"] == \"0.375\"].iloc[0].elec_energy,\n",
    "#         0, 5, 3],\n",
    "     [h_covered_i[h_covered_i[\"coverage\"] == \"0.5\"].iloc[0].elec_energy,\n",
    "        0, 4, 4],\n",
    "#     [h_covered_i[h_covered_i[\"coverage\"] == \"0.625\"].iloc[0].elec_energy,\n",
    "#         0, 3, 5],\n",
    "    [h_covered_i[h_covered_i[\"coverage\"] == \"0.75\"].iloc[0].elec_energy,\n",
    "        0, 2, 6],\n",
    "\n",
    "#     [h_covered_i[h_covered_i[\"coverage\"] == \"0.875\"].iloc[0].elec_energy,\n",
    "#         0, 1, 7],\n",
    "#     [h_covered_i[h_covered_i[\"coverage\"] == \"1.0\"].iloc[0].elec_energy,\n",
    "#         0, 0, 8],\n",
    "    ]\n",
    "\n",
    "Pourbaix_arg_dict.update({\"surfs\": surfs})\n",
    "Pourbaix_arg_dict.update({\"file_name\": \"_\".join(list(key_i)) + \".pdf\"})\n",
    "plot_Pourbaix(**Pourbaix_arg_dict)"
   ]
  },
  {
   "cell_type": "markdown",
   "metadata": {},
   "source": [
    "### IrO3_rutile-like | 100"
   ],
   "execution_count": null,
   "outputs": []
  },
  {
   "cell_type": "code",
   "execution_count": null,
   "metadata": {},
   "outputs": [],
   "source": [
    "key_i = (\"100\", \"IrO3_rutile-like\")\n",
    "df_i = group_dict[key_i]\n",
    "\n",
    "bare_i = df_i.loc[\n",
    "    (df_i[\"coverage_type\"] == \"o_covered\") & \\\n",
    "    (df_i[\"coverage\"] == \"0.0\")\n",
    "    ]\n",
    "\n",
    "o_covered_i = df_i.loc[\n",
    "    (df_i[\"coverage_type\"] == \"o_covered\")\n",
    "    ]\n",
    "\n",
    "h_covered_i = df_i.loc[\n",
    "    (df_i[\"coverage_type\"] == \"h_covered\")\n",
    "    ]\n",
    "\n",
    "surfs = [ \n",
    "    # Clean ******************************************************\n",
    "    [bare_i.iloc[0].elec_energy,\n",
    "        0, 0, 0],\n",
    "\n",
    "    # *O *********************************************************\n",
    "    [o_covered_i[o_covered_i[\"coverage\"] == \"0.25\"].iloc[0].elec_energy,\n",
    "        0, 1, 0],\n",
    "    [o_covered_i[o_covered_i[\"coverage\"] == \"0.5\"].iloc[0].elec_energy,\n",
    "        0, 2, 0],\n",
    "    [o_covered_i[o_covered_i[\"coverage\"] == \"0.75\"].iloc[0].elec_energy,\n",
    "        0, 3, 0],\n",
    "    [o_covered_i[o_covered_i[\"coverage\"] == \"1.0\"].iloc[0].elec_energy,\n",
    "        0, 4, 0],\n",
    "    \n",
    "    # *H *********************************************************\n",
    "    [h_covered_i[h_covered_i[\"coverage\"] == \"0.25\"].iloc[0].elec_energy,\n",
    "        0, 3, 1],\n",
    "    [h_covered_i[h_covered_i[\"coverage\"] == \"0.5\"].iloc[0].elec_energy,\n",
    "        0, 2, 2],\n",
    "    [h_covered_i[h_covered_i[\"coverage\"] == \"0.75\"].iloc[0].elec_energy,\n",
    "        0, 1, 3],\n",
    "    [h_covered_i[h_covered_i[\"coverage\"] == \"1.0\"].iloc[0].elec_energy,\n",
    "        0, 0, 4],\n",
    "    ]\n",
    "\n",
    "Pourbaix_arg_dict.update({\"surfs\": surfs})\n",
    "Pourbaix_arg_dict.update({\"file_name\": \"_\".join(list(key_i)) + \".pdf\"})\n",
    "plot_Pourbaix(**Pourbaix_arg_dict)"
   ]
  },
  {
   "cell_type": "markdown",
   "metadata": {},
   "source": [
    "### IrO3_rutile-like | 110"
   ],
   "execution_count": null,
   "outputs": []
  },
  {
   "cell_type": "code",
   "execution_count": null,
   "metadata": {},
   "outputs": [],
   "source": [
    "key_i = (\"110\", \"IrO3_rutile-like\")\n",
    "df_i = group_dict[key_i]\n",
    "\n",
    "bare_i = df_i.loc[\n",
    "    (df_i[\"coverage_type\"] == \"o_covered\") & \\\n",
    "    (df_i[\"coverage\"] == \"0.0\")\n",
    "    ]\n",
    "\n",
    "o_covered_i = df_i.loc[\n",
    "    (df_i[\"coverage_type\"] == \"o_covered\")\n",
    "    ]\n",
    "\n",
    "h_covered_i = df_i.loc[\n",
    "    (df_i[\"coverage_type\"] == \"h_covered\")\n",
    "    ]\n",
    "\n",
    "\n",
    "surfs = [ \n",
    "    # Clean ******************************************************\n",
    "    [bare_i.iloc[0].elec_energy,\n",
    "        0, 0, 0],\n",
    "\n",
    "    # *O *********************************************************\n",
    "    [o_covered_i[o_covered_i[\"coverage\"] == \"0.5\"].iloc[0].elec_energy,\n",
    "        0, 1, 0],\n",
    "    [o_covered_i[o_covered_i[\"coverage\"] == \"1.0\"].iloc[0].elec_energy,\n",
    "        0, 2, 0],   \n",
    "\n",
    "    # *H *********************************************************\n",
    "    [h_covered_i[h_covered_i[\"coverage\"] == \"0.5\"].iloc[0].elec_energy,\n",
    "        0, 1, 1],\n",
    "    [h_covered_i[h_covered_i[\"coverage\"] == \"1.0\"].iloc[0].elec_energy,\n",
    "        0, 0, 2],\n",
    "    ]\n",
    "\n",
    "Pourbaix_arg_dict.update({\"surfs\": surfs})\n",
    "Pourbaix_arg_dict.update({\"file_name\": \"_\".join(list(key_i)) + \".pdf\"})\n",
    "plot_Pourbaix(**Pourbaix_arg_dict)"
   ]
  }
 ],
 "metadata": {
  "kernelspec": {
   "display_name": "Python [conda env:PROJ_IrOx_Active_Learning_OER]",
   "language": "python",
   "name": "conda-env-PROJ_IrOx_Active_Learning_OER-py"
  },
  "language_info": {
   "codemirror_mode": {
    "name": "ipython",
    "version": 3
   },
   "file_extension": ".py",
   "mimetype": "text/x-python",
   "name": "python",
   "nbconvert_exporter": "python",
   "pygments_lexer": "ipython3",
   "version": "3.6.7"
  }
 },
 "nbformat": 4,
 "nbformat_minor": 4
}
