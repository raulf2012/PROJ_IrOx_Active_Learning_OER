{
 "cells": [
  {
   "cell_type": "code",
   "execution_count": 1,
   "metadata": {
    "jupyter": {
     "source_hidden": true
    }
   },
   "outputs": [],
   "source": [
    "import os\n",
    "import sys\n",
    "\n",
    "import pickle\n",
    "\n",
    "\n",
    "# #############################################################################\n",
    "from ccf import(\n",
    "    struc2ccf,\n",
    "    cal_ccf_d,\n",
    "    cal_inter_atomic_d,\n",
    "    d2ccf,\n",
    "    weight_f,\n",
    "    pearson_cc,\n",
    "    gaussian_f,\n",
    "    element_tag,\n",
    "    cell_range,\n",
    "    count_atoms_dict,\n",
    "    )\n",
    "\n",
    "\n",
    "sys.path.insert(0, os.path.join(os.environ[\"PROJ_irox\"], \"data\"))\n",
    "from proj_data_irox import (\n",
    "    bulk_dft_data_path,\n",
    "    unique_ids_path,\n",
    "    prototypes_data_path,\n",
    "    static_irox_structures_path,\n",
    "    oqmd_irox_data_path,\n",
    "    voronoi_features_data_path,\n",
    "    )"
   ]
  },
  {
   "cell_type": "markdown",
   "metadata": {},
   "source": [
    "# Read Data"
   ]
  },
  {
   "cell_type": "code",
   "execution_count": 2,
   "metadata": {},
   "outputs": [],
   "source": [
    "with open(static_irox_structures_path, \"rb\") as fle:\n",
    "    df_structures = pickle.load(fle)"
   ]
  },
  {
   "cell_type": "code",
   "execution_count": 3,
   "metadata": {},
   "outputs": [
    {
     "data": {
      "text/plain": [
       "Atoms(symbols='O8Ir4', pbc=True, cell=[[5.80009, 0.0, 0.0], [-2.900039999999999, 5.0230166239820475, 0.0], [0.0, 0.0, 29.0126]], tags=...)"
      ]
     },
     "execution_count": 3,
     "metadata": {},
     "output_type": "execute_result"
    }
   ],
   "source": [
    "atoms_i = df_structures.iloc[0][\"atoms\"]\n",
    "\n",
    "atoms_i"
   ]
  },
  {
   "cell_type": "code",
   "execution_count": 4,
   "metadata": {},
   "outputs": [
    {
     "name": "stdout",
     "output_type": "stream",
     "text": [
      "1.8333333333333333\n",
      "3.835\n",
      "3.0\n",
      "0.16666666666666666\n",
      "3.8360000000000003\n",
      "3.0\n",
      "0.06049786640743886\n",
      "4.852\n",
      "3.0\n",
      "0.05906320244442578\n",
      "4.856\n",
      "3.0\n"
     ]
    },
    {
     "data": {
      "text/plain": [
       "{'1_2': 5.8885194947069355e-18, '2_2': 1.5608471041724116e-90}"
      ]
     },
     "execution_count": 4,
     "metadata": {},
     "output_type": "execute_result"
    }
   ],
   "source": [
    "\n",
    "r_cut_off = 5.\n",
    "# r_vector = [1., 5.,]\n",
    "r_vector = 3.\n",
    "\n",
    "\n",
    "\n",
    "struc2ccf(atoms_i, 1, [1, 2])\n",
    "\n",
    "\n",
    "i_a_d =cal_inter_atomic_d(atoms_i, 5.)\n",
    "d2ccf(i_a_d, r_cut_off, r_vector)"
   ]
  }
 ],
 "metadata": {
  "jupytext": {
   "formats": "ipynb,py:light"
  },
  "kernelspec": {
   "display_name": "Python [conda env:research-new]",
   "language": "python",
   "name": "conda-env-research-new-py"
  },
  "language_info": {
   "codemirror_mode": {
    "name": "ipython",
    "version": 3
   },
   "file_extension": ".py",
   "mimetype": "text/x-python",
   "name": "python",
   "nbconvert_exporter": "python",
   "pygments_lexer": "ipython3",
   "version": "3.6.8"
  }
 },
 "nbformat": 4,
 "nbformat_minor": 4
}
