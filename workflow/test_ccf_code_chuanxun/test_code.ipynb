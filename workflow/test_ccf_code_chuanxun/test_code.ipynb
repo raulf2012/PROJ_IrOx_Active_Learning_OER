{
 "cells": [
  {
   "cell_type": "markdown",
   "metadata": {},
   "source": [
    "# Import Modules"
   ],
   "execution_count": null,
   "outputs": []
  },
  {
   "cell_type": "code",
   "execution_count": null,
   "metadata": {
    "jupyter": {}
   },
   "outputs": [],
   "source": [
    "import os\n",
    "import sys\n",
    "import copy\n",
    "\n",
    "import pickle\n",
    "\n",
    "import numpy as np\n",
    "\n",
    "import pandas as pd\n",
    "\n",
    "from ase.visualize import view\n",
    "\n",
    "# Plotly\n",
    "import chart_studio.plotly as py\n",
    "import plotly.graph_objs as go\n",
    "\n",
    "\n",
    "# #############################################################################\n",
    "from ccf import(\n",
    "    struc2ccf,\n",
    "    cal_ccf_d,\n",
    "    cal_inter_atomic_d,\n",
    "    d2ccf,\n",
    "    weight_f,\n",
    "    pearson_cc,\n",
    "    gaussian_f,\n",
    "    element_tag,\n",
    "    cell_range,\n",
    "    count_atoms_dict,\n",
    "    )\n",
    "\n",
    "\n",
    "sys.path.insert(0, os.path.join(os.environ[\"PROJ_irox\"], \"data\"))\n",
    "from proj_data_irox import (\n",
    "    bulk_dft_data_path,\n",
    "    unique_ids_path,\n",
    "    prototypes_data_path,\n",
    "    static_irox_structures_path,\n",
    "    oqmd_irox_data_path,\n",
    "    voronoi_features_data_path,\n",
    "    )"
   ]
  },
  {
   "cell_type": "markdown",
   "metadata": {},
   "source": [
    "# Script Inputs"
   ],
   "execution_count": null,
   "outputs": []
  },
  {
   "cell_type": "code",
   "execution_count": null,
   "metadata": {},
   "outputs": [],
   "source": [
    "r_cut_off = 10.\n",
    "\n",
    "r_vector = np.arange(1, 10, 0.02)"
   ]
  },
  {
   "cell_type": "markdown",
   "metadata": {},
   "source": [
    "# Read Data"
   ],
   "execution_count": null,
   "outputs": []
  },
  {
   "cell_type": "code",
   "execution_count": null,
   "metadata": {},
   "outputs": [],
   "source": [
    "with open(static_irox_structures_path, \"rb\") as fle:\n",
    "    df_structures = pickle.load(fle)\n",
    "\n",
    "atoms_0 = df_structures.iloc[0][\"atoms\"]\n",
    "\n",
    "# atoms_1 = df_structures.iloc[50][\"atoms\"]\n",
    "\n",
    "atoms_1 = copy.deepcopy(atoms_0)\n",
    "atoms_1.rattle(\n",
    "    stdev=0.2,\n",
    "#     stdev=0.01,\n",
    "    )"
   ]
  },
  {
   "cell_type": "code",
   "execution_count": null,
   "metadata": {},
   "outputs": [],
   "source": [
    "assert False"
   ]
  },
  {
   "cell_type": "code",
   "execution_count": null,
   "metadata": {},
   "outputs": [],
   "source": [
    "def get_ccf_df(ccf, r_cut_off, r_vector):\n",
    "    \"\"\"\n",
    "    \"\"\"\n",
    "    df_i = pd.DataFrame()\n",
    "    for key, value in ccf.items():\n",
    "        df_i[key] = value\n",
    "\n",
    "    df_i = df_i.set_index(r_vector)\n",
    "    \n",
    "    return(df_i)"
   ]
  },
  {
   "cell_type": "code",
   "execution_count": null,
   "metadata": {},
   "outputs": [],
   "source": [
    "ccf_0 = struc2ccf(atoms_0, r_cut_off, r_vector)\n",
    "ccf_1 = struc2ccf(atoms_1, r_cut_off, r_vector)\n",
    "\n",
    "df_0 = get_ccf_df(ccf_0, r_cut_off, r_vector)\n",
    "df_1 = get_ccf_df(ccf_1, r_cut_off, r_vector)"
   ]
  },
  {
   "cell_type": "code",
   "execution_count": null,
   "metadata": {},
   "outputs": [],
   "source": [
    "cal_ccf_d(ccf_0, ccf_1)"
   ]
  },
  {
   "cell_type": "code",
   "execution_count": null,
   "metadata": {},
   "outputs": [],
   "source": [
    "data = []\n",
    "df_i = df_0\n",
    "for col_i in list(df_i):\n",
    "    trace_i = go.Scatter(\n",
    "        x=list(df_i.index),\n",
    "        y=df_i[col_i],\n",
    "        mode=\"lines+markers\",\n",
    "\n",
    "        line=dict(\n",
    "            color='red',\n",
    "            width=0.8,\n",
    "            ),\n",
    "\n",
    "        )\n",
    "    data.append(trace_i)\n",
    "\n",
    "df_i = df_1\n",
    "for col_i in list(df_i):\n",
    "    trace_i = go.Scatter(\n",
    "        x=list(df_i.index),\n",
    "        y=df_i[col_i],\n",
    "        mode=\"lines+markers\",\n",
    "\n",
    "        line=dict(\n",
    "            color='black',\n",
    "            width=0.8,\n",
    "            ),\n",
    "\n",
    "        )\n",
    "    data.append(trace_i)\n",
    "\n",
    "fig = go.Figure(data=data)\n",
    "fig.show()"
   ]
  },
  {
   "cell_type": "raw",
   "metadata": {},
   "source": [
    "\n",
    "\n"
   ],
   "execution_count": null,
   "outputs": []
  },
  {
   "cell_type": "code",
   "execution_count": null,
   "metadata": {
    "jupyter": {}
   },
   "outputs": [],
   "source": [
    "# ccf_0 = struc2ccf(atoms_0, r_cut_off, r_vector)\n",
    "# ccf_50 = struc2ccf(atoms_50, r_cut_off, r_vector)\n",
    "\n",
    "\n",
    "# cal_ccf_d(ccf_0, ccf_50)\n",
    "\n",
    "# # i_a_d =cal_inter_atomic_d(atoms_i, 5.)\n",
    "# # d2ccf(i_a_d, r_cut_off, r_vector)\n",
    "\n",
    "# ccf_0_list = []\n",
    "# ccf_1_list = []\n",
    "\n",
    "# r_vector_array = np.arange(1, 10, 2.)\n",
    "# for r_vector in r_vector_array:\n",
    "#     print(r_vector)\n",
    "\n",
    "#     ccf_0 = struc2ccf(atoms_0, r_cut_off, r_vector)\n",
    "#     ccf_1 = struc2ccf(atoms_1, r_cut_off, r_vector)\n",
    "\n",
    "#     ccf_0_list.append(ccf_0)\n",
    "#     ccf_1_list.append(ccf_1)\n",
    "\n",
    "# df_0 = pd.DataFrame(\n",
    "#     ccf_0_list\n",
    "#     )\n",
    "\n",
    "# ccf_0 = struc2ccf(atoms_0, r_cut_off, r_vector)\n",
    "# ccf_1 = struc2ccf(atoms_1, r_cut_off, r_vector)"
   ]
  }
 ],
 "metadata": {
  "jupytext": {
   "formats": "ipynb,py:light"
  },
  "kernelspec": {
   "display_name": "Python [conda env:PROJ_IrOx_Active_Learning_OER]",
   "language": "python",
   "name": "conda-env-PROJ_IrOx_Active_Learning_OER-py"
  },
  "language_info": {
   "codemirror_mode": {
    "name": "ipython",
    "version": 3
   },
   "file_extension": ".py",
   "mimetype": "text/x-python",
   "name": "python",
   "nbconvert_exporter": "python",
   "pygments_lexer": "ipython3",
   "version": "3.6.9"
  }
 },
 "nbformat": 4,
 "nbformat_minor": 4
}
