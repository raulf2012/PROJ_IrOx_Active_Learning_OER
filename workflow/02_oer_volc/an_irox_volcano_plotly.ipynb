{
 "cells": [
  {
   "cell_type": "markdown",
   "metadata": {},
   "source": [
    "# OER Volcano for IrOx systems\n",
    "\n",
    "***"
   ]
  },
  {
   "cell_type": "markdown",
   "metadata": {},
   "source": [
    "# Import Modules"
   ]
  },
  {
   "cell_type": "code",
   "execution_count": 1,
   "metadata": {},
   "outputs": [],
   "source": [
    "%%capture\n",
    "%load_ext autoreload\n",
    "%autoreload 2"
   ]
  },
  {
   "cell_type": "code",
   "execution_count": 2,
   "metadata": {},
   "outputs": [
    {
     "name": "stdout",
     "output_type": "stream",
     "text": [
      "Divisor is Energy class instance!!!\n",
      "Divisor is Energy class instance!!!\n",
      "TEMP TEMP TEMPTEMP TEMP TEMPTEMP TEMP TEMPTEMP TEMP TEMPTEMP TEMP TEMPTEMP TEMP TEMPTEMP TEMP TEMPTEMP TEMP TEMPTEMP TEMP TEMPTEMP TEMP TEMPTEMP TEMP TEMPTEMP TEMP TEMPTEMP TEMP TEMPTEMP TEMP TEMPTEMP TEMP TEMPTEMP TEMP TEMPTEMP TEMP TEMPTEMP TEMP TEMPTEMP TEMP TEMPTEMP TEMP TEMP\n",
      "-7.45942759\n",
      "-3.38574595\n"
     ]
    }
   ],
   "source": [
    "import sys\n",
    "import os\n",
    "\n",
    "sys.path.insert(\n",
    "    0,\n",
    "    os.path.join(\n",
    "        os.environ[\"PROJ_irox\"],\n",
    "        \"workflow\",\n",
    "        ),\n",
    "    )\n",
    "\n",
    "sys.path.insert(\n",
    "    0,\n",
    "    os.path.join(\n",
    "        os.environ[\"PROJ_irox\"],\n",
    "        \"data\",\n",
    "        ),\n",
    "    )\n",
    "\n",
    "from an_data_processing import load_df\n",
    "\n",
    "###########################################################\n",
    "\n",
    "# Python Modules\n",
    "import numpy as np\n",
    "import pandas as pd\n",
    "\n",
    "import plotly.plotly as py\n",
    "import plotly.graph_objs as go\n",
    "\n",
    "# import colorlover as cl\n",
    "from IPython.display import HTML\n",
    "\n",
    "# My Modules\n",
    "from orr_reaction.orr_fed_plot import ORR_Free_E_Plot\n",
    "from orr_reaction.orr_fed_plot import Scaling_Relations_Plot\n",
    "from orr_reaction.orr_fed_plot import Volcano_Plot\n",
    "\n",
    "# Project Data\n",
    "from proj_data_irox import (\n",
    "    surface_energies,\n",
    "    smart_format_dict,\n",
    "    smart_format_dict_volcano,\n",
    "\n",
    "    irox_bulk_color_map,\n",
    "    color_palettes,\n",
    "    system_color_map,\n",
    "\n",
    "    max_surf_e,\n",
    "    min_surf_e,\n",
    "    proj_dir_name,\n",
    "    smart_format_dict,\n",
    "    \n",
    "    gas_molec_dict,\n",
    "    scaling_dict_ideal,\n",
    "    exp_irox_lim_pot,\n",
    "    data_dir,\n",
    "    \n",
    "    groupby_props,\n",
    "    )"
   ]
  },
  {
   "cell_type": "markdown",
   "metadata": {},
   "source": [
    "# Script Inputs"
   ]
  },
  {
   "cell_type": "code",
   "execution_count": 3,
   "metadata": {},
   "outputs": [],
   "source": [
    "save_plot = True\n",
    "plot_exp_traces = True\n",
    "\n",
    "plot_range = {\n",
    "    \"y\": [2., 1.4],\n",
    "    \"x\": [1., 2.],\n",
    "    }"
   ]
  },
  {
   "cell_type": "markdown",
   "metadata": {
    "toc-hr-collapsed": true
   },
   "source": [
    "# Read and Process Data Frame"
   ]
  },
  {
   "cell_type": "markdown",
   "metadata": {},
   "source": [
    "## Read dataframe from file"
   ]
  },
  {
   "cell_type": "code",
   "execution_count": 4,
   "metadata": {},
   "outputs": [],
   "source": [
    "%%capture\n",
    "\n",
    "df_pourbaix, df_ads, df_surf = load_df(\n",
    "    from_file=False,\n",
    "    root_dir=data_dir,\n",
    "    data_dir=data_dir,   \n",
    "    file_name=\"df_master.pickle\",\n",
    "    process_df=True,\n",
    "    )\n",
    "\n",
    "df_m = df_ads"
   ]
  },
  {
   "cell_type": "markdown",
   "metadata": {},
   "source": [
    "# ORR_Free_E_Plot Instance"
   ]
  },
  {
   "cell_type": "code",
   "execution_count": 5,
   "metadata": {},
   "outputs": [],
   "source": [
    "ORR_PLT = ORR_Free_E_Plot(\n",
    "    free_energy_df=None,\n",
    "    state_title=\"adsorbate\",\n",
    "    free_e_title=\"ads_e\",\n",
    "    smart_format=smart_format_dict,\n",
    "\n",
    "#     bias=0.,\n",
    "    color_list=None,   \n",
    "    show_H_e_pairs_annotations=True,\n",
    "    show_legend=True,\n",
    "    rxn_type=\"OER\",\n",
    "    )"
   ]
  },
  {
   "cell_type": "markdown",
   "metadata": {},
   "source": [
    "# Processing Data"
   ]
  },
  {
   "cell_type": "code",
   "execution_count": 6,
   "metadata": {},
   "outputs": [],
   "source": [
    "prop_name_list = [\n",
    "    'bulk_system',\n",
    "#     'coverage',\n",
    "    'coverage_type',\n",
    "    'facet',\n",
    "    'surface_type',\n",
    "    ]\n",
    "\n",
    "grouped = df_m.groupby(groupby_props)\n",
    "\n",
    "for i_ind, (name, group) in enumerate(grouped):\n",
    "    df_i = group\n",
    "\n",
    "    if not any([np.isnan(i) for i in df_i.elec_energy.tolist()]):        \n",
    "        ORR_PLT.add_series(\n",
    "            df_i,\n",
    "            plot_mode=\"all\",\n",
    "            overpotential_type=\"OER\",\n",
    "            property_key_list=prop_name_list,\n",
    "            add_overpot=False,\n",
    "            )"
   ]
  },
  {
   "cell_type": "code",
   "execution_count": 7,
   "metadata": {},
   "outputs": [],
   "source": [
    "scaling_dict_fitted = {\n",
    "    \n",
    "    \"ooh\": {\n",
    "        \"m\": 1.,\n",
    "        \"b\": 3.1,\n",
    "        },\n",
    "    \"o\": {\n",
    "        \"m\": 2.,\n",
    "        \"b\": 0,\n",
    "        },\n",
    "    \"oh\": {\n",
    "        \"m\": 1.,\n",
    "        \"b\": 0.,\n",
    "        },\n",
    "    }\n",
    "\n",
    "scaling_dict_fitted = {\n",
    "    \n",
    "    \"ooh\": {\n",
    "        \"m\": 0.976,\n",
    "        \"b\": 3.09,\n",
    "        },\n",
    "    \"o\": {\n",
    "        \"m\": 1.30,\n",
    "        \"b\": 1.19,\n",
    "        },\n",
    "    \"oh\": {\n",
    "        \"m\": 1.,\n",
    "        \"b\": 0.,\n",
    "        },\n",
    "    }\n",
    "\n",
    "# intercept_i:  3.0923565821584003\n",
    "# slope_i:  0.9756829157533189\n",
    "\n",
    "# Scaling fit for  o\n",
    "# intercept_i:  1.3025046731746635\n",
    "# slope_i:  1.1905482253235011"
   ]
  },
  {
   "cell_type": "markdown",
   "metadata": {
    "toc-hr-collapsed": true
   },
   "source": [
    "# Experimental IrOx Activity Traces"
   ]
  },
  {
   "cell_type": "markdown",
   "metadata": {},
   "source": [
    "## Horizontal data traces"
   ]
  },
  {
   "cell_type": "code",
   "execution_count": 8,
   "metadata": {},
   "outputs": [],
   "source": [
    "trace_iro3 = go.Scatter(\n",
    "    x=plot_range[\"x\"],\n",
    "    y=2*[exp_irox_lim_pot[\"iro3\"][\"lim_pot\"]],\n",
    "    mode=\"lines\",\n",
    "    name=\"lines\",\n",
    "    line={\n",
    "        \"color\": exp_irox_lim_pot[\"iro3\"][\"line_color\"],\n",
    "        \"width\": 1,\n",
    "        \"dash\": \"dash\",\n",
    "        },\n",
    "    )\n",
    "\n",
    "trace_iro2 = go.Scatter(\n",
    "    x=plot_range[\"x\"],\n",
    "    y=2*[exp_irox_lim_pot[\"iro2\"][\"lim_pot\"]],\n",
    "    mode=\"lines\",\n",
    "    name=\"lines\",\n",
    "    line={\n",
    "        \"color\": exp_irox_lim_pot[\"iro2\"][\"line_color\"],\n",
    "        \"width\": 1,\n",
    "        \"dash\": \"dash\",\n",
    "        },\n",
    "    )\n",
    "\n",
    "# trace_irox = go.Scatter(\n",
    "#     x=plot_range[\"x\"],\n",
    "#     y=2*[exp_irox_lim_pot[\"irox\"][\"lim_pot\"]],\n",
    "#     mode=\"lines\",\n",
    "#     name=\"lines\",\n",
    "#     line={\n",
    "#         \"color\": exp_irox_lim_pot[\"irox\"][\"line_color\"],\n",
    "#         \"width\": 1,\n",
    "#         \"dash\": \"dash\",\n",
    "#         },\n",
    "#     )"
   ]
  },
  {
   "cell_type": "markdown",
   "metadata": {},
   "source": [
    "## Exp. IrOx Annotations"
   ]
  },
  {
   "cell_type": "code",
   "execution_count": 9,
   "metadata": {},
   "outputs": [],
   "source": [
    "annotations=[\n",
    "    dict(\n",
    "        x=1,\n",
    "        y=exp_irox_lim_pot[\"iro3\"][\"lim_pot\"],\n",
    "        xref='x',\n",
    "        yref='y',\n",
    "        text='IrO<sub>3</sub> (@1mA/cm<sup>2</sup>)',\n",
    "        showarrow=False,\n",
    "        xanchor=\"left\",\n",
    "        yshift=9,\n",
    "        ),\n",
    "\n",
    "    dict(\n",
    "        x=1,\n",
    "        y=exp_irox_lim_pot[\"iro2\"][\"lim_pot\"],\n",
    "        xref='x',\n",
    "        yref='y',\n",
    "        text='IrO<sub>2</sub> (@1mA/cm<sup>2</sup>)',\n",
    "        showarrow=False,\n",
    "        xanchor=\"left\",\n",
    "        yshift=9,\n",
    "        ),\n",
    "\n",
    "#     dict(\n",
    "#         x=1,\n",
    "#         y=exp_irox_lim_pot[\"irox\"][\"lim_pot\"],\n",
    "#         xref='x',\n",
    "#         yref='y',\n",
    "#         text='IrO<sub>x</sub>',\n",
    "#         showarrow=False,\n",
    "#         xanchor=\"left\",\n",
    "#         yshift=7,\n",
    "#         ),\n",
    "\n",
    "    ]"
   ]
  },
  {
   "cell_type": "markdown",
   "metadata": {},
   "source": [
    "# Volcano Plot"
   ]
  },
  {
   "cell_type": "code",
   "execution_count": 10,
   "metadata": {},
   "outputs": [],
   "source": [
    "VP = Volcano_Plot(\n",
    "    ORR_PLT,\n",
    "    x_ax_species=\"o-oh\",  # 'o-oh' or 'oh'\n",
    "    smart_format_dict=smart_format_dict,\n",
    "    plot_range=plot_range,\n",
    "    )\n",
    "\n",
    "VP.create_volcano_relations_plot()\n",
    "\n",
    "volcano_legs_data = VP.create_volcano_lines(\n",
    "    gas_molec_dict=gas_molec_dict,\n",
    "    scaling_dict=scaling_dict_ideal,\n",
    "    plot_all_legs=False,\n",
    "    plot_min_max_legs=True,\n",
    "    trace_priority=\"bottom\",  # 'top' or 'bottom'\n",
    "    )\n",
    "\n",
    "volcano_legs_data_tmp = VP.create_volcano_lines(\n",
    "    gas_molec_dict=gas_molec_dict,\n",
    "    scaling_dict=scaling_dict_fitted,\n",
    "    plot_all_legs=False,\n",
    "    plot_min_max_legs=True,\n",
    "    trace_priority=\"bottom\",  # 'top' or 'bottom'\n",
    "    legs_to_plot=[\n",
    "#         \"o2_to_ooh\",\n",
    "        \"ooh_to_o\",\n",
    "        \"o_to_oh\",\n",
    "#         \"oh_to_h2o\",\n",
    "        ],\n",
    "    line_color=\"grey\"\n",
    "    )\n",
    "\n",
    "data = volcano_legs_data + volcano_legs_data_tmp + VP.data_points\n",
    "\n",
    "if plot_exp_traces:\n",
    "    data.insert(0, trace_iro3)\n",
    "    data.insert(0, trace_iro2)\n",
    "#     data.insert(0, trace_irox)"
   ]
  },
  {
   "cell_type": "code",
   "execution_count": 11,
   "metadata": {},
   "outputs": [],
   "source": [
    "if save_plot:\n",
    "    save_dir = proj_dir_name\n",
    "else:\n",
    "    save_dir = \"__temp__\""
   ]
  },
  {
   "cell_type": "code",
   "execution_count": 12,
   "metadata": {},
   "outputs": [
    {
     "data": {
      "text/html": [
       "<iframe id=\"igraph\" scrolling=\"no\" style=\"border:none;\" seamless=\"seamless\" src=\"https://plot.ly/~flores12/550.embed\" height=\"1530.7086614355px\" width=\"1020.472440957px\"></iframe>"
      ],
      "text/plain": [
       "<plotly.tools.PlotlyDisplay object>"
      ]
     },
     "execution_count": 12,
     "metadata": {},
     "output_type": "execute_result"
    }
   ],
   "source": [
    "layout = VP.get_plotly_layout(\n",
    "    showlegend=True,\n",
    "    width=3. * 9. * 37.795275591,\n",
    "    height=4.5 * 9. * 37.795275591)\n",
    "layout[\"annotations\"] = annotations\n",
    "\n",
    "fig = dict(data=data, layout=layout)\n",
    "# py.iplot(fig, filename=os.path.join(save_dir, \"pl_irox_volcano_plotly_large_low_energy_ooh\"))\n",
    "py.iplot(fig, filename=os.path.join(save_dir, \"oer_volcano\", \"pl_irox_volcano_plotly_large_default_ooh\"))"
   ]
  },
  {
   "cell_type": "code",
   "execution_count": 13,
   "metadata": {},
   "outputs": [
    {
     "data": {
      "text/html": [
       "<iframe id=\"igraph\" scrolling=\"no\" style=\"border:none;\" seamless=\"seamless\" src=\"https://plot.ly/~flores12/552.embed\" height=\"317.4916535470773px\" width=\"436.45228346974983px\"></iframe>"
      ],
      "text/plain": [
       "<plotly.tools.PlotlyDisplay object>"
      ]
     },
     "execution_count": 13,
     "metadata": {},
     "output_type": "execute_result"
    }
   ],
   "source": [
    "layout = VP.get_plotly_layout(\n",
    "    showlegend=False,\n",
    "\n",
    "    width=1.45 * 7.964 * 37.795275591,\n",
    "#     width=0.3 * 7.964 * 37.795275591,\n",
    "\n",
    "    height=1.5 * 5.6002 * 37.795275591)\n",
    "layout[\"annotations\"] = annotations\n",
    "layout[\"xaxis\"][\"title\"] = \"\"\n",
    "layout[\"yaxis\"][\"title\"] = \"\"\n",
    "\n",
    "fig = dict(data=data, layout=layout)\n",
    "py.iplot(fig, filename=os.path.join(save_dir, \"oer_volcano\", \"pl_irox_volcano_plotly_default_ooh\"))"
   ]
  },
  {
   "cell_type": "code",
   "execution_count": 14,
   "metadata": {},
   "outputs": [],
   "source": [
    "layout[\"xaxis\"][\"title\"] = \"\""
   ]
  },
  {
   "cell_type": "raw",
   "metadata": {},
   "source": [
    "\n",
    "\n",
    "\n",
    "\n",
    "\n",
    "\n",
    "\n",
    "\n"
   ]
  },
  {
   "cell_type": "code",
   "execution_count": 15,
   "metadata": {},
   "outputs": [
    {
     "data": {
      "text/html": [
       "<div>\n",
       "<style scoped>\n",
       "    .dataframe tbody tr th:only-of-type {\n",
       "        vertical-align: middle;\n",
       "    }\n",
       "\n",
       "    .dataframe tbody tr th {\n",
       "        vertical-align: top;\n",
       "    }\n",
       "\n",
       "    .dataframe thead th {\n",
       "        text-align: right;\n",
       "    }\n",
       "</style>\n",
       "<table border=\"1\" class=\"dataframe\">\n",
       "  <thead>\n",
       "    <tr style=\"text-align: right;\">\n",
       "      <th></th>\n",
       "      <th>bulk_system</th>\n",
       "      <th>facet</th>\n",
       "      <th>adsorbate</th>\n",
       "      <th>coverage_type</th>\n",
       "      <th>ooh_direction</th>\n",
       "      <th>ads_e</th>\n",
       "      <th>elec_energy</th>\n",
       "      <th>total_magmom</th>\n",
       "      <th>abs_magmom</th>\n",
       "      <th>path_short</th>\n",
       "      <th>...</th>\n",
       "      <th>incar_parsed</th>\n",
       "      <th>init_atoms</th>\n",
       "      <th>atoms_object</th>\n",
       "      <th>N_atoms</th>\n",
       "      <th>dipole_correction</th>\n",
       "      <th>path</th>\n",
       "      <th>name_i_2</th>\n",
       "      <th>name_i_3</th>\n",
       "      <th>priority</th>\n",
       "      <th>surface_type</th>\n",
       "    </tr>\n",
       "  </thead>\n",
       "  <tbody>\n",
       "    <tr>\n",
       "      <th>259</th>\n",
       "      <td>IrO3_rutile-like</td>\n",
       "      <td>100</td>\n",
       "      <td>ooh</td>\n",
       "      <td>o_covered</td>\n",
       "      <td>up</td>\n",
       "      <td>4.757747</td>\n",
       "      <td>-552.246367</td>\n",
       "      <td>3.682</td>\n",
       "      <td>7.002</td>\n",
       "      <td>03_OER_Calc/IrO3_rutile-like/100/01_O-4_OH-0/0...</td>\n",
       "      <td>...</td>\n",
       "      <td>{'ENCUT': 500.0, 'AMIX_MAG': 0.05, 'BMIX_MAG':...</td>\n",
       "      <td>(Atom('O', [1.84444, 2.83282, 7.50008], index=...</td>\n",
       "      <td>[(Atom('O', [1.84444, 2.83282, 7.50008], index...</td>\n",
       "      <td>90.0</td>\n",
       "      <td>True</td>\n",
       "      <td>/global/cscratch1/sd/flores12/IrOx_Project/03_...</td>\n",
       "      <td>100_O-4_OH-0_IrO3_rutile-like</td>\n",
       "      <td>100, O-4_OH-0, IrO3_rutile-like,</td>\n",
       "      <td>NaN</td>\n",
       "      <td>NaN</td>\n",
       "    </tr>\n",
       "    <tr>\n",
       "      <th>265</th>\n",
       "      <td>IrO3_rutile-like</td>\n",
       "      <td>100</td>\n",
       "      <td>ooh</td>\n",
       "      <td>o_covered_2</td>\n",
       "      <td>up</td>\n",
       "      <td>4.205397</td>\n",
       "      <td>-543.880710</td>\n",
       "      <td>-0.576</td>\n",
       "      <td>8.490</td>\n",
       "      <td>03_OER_Calc/IrO3_rutile-like/100/02_O-2_OH-0/0...</td>\n",
       "      <td>...</td>\n",
       "      <td>{'POTIM': '0.200000', 'ENCUT': 500.0, 'AMIX_MA...</td>\n",
       "      <td>(Atom('O', [1.84444, 2.83282, 7.50008], magmom...</td>\n",
       "      <td>[(Atom('O', [1.84444, 2.83282, 7.50008], index...</td>\n",
       "      <td>88.0</td>\n",
       "      <td>True</td>\n",
       "      <td>/global/cscratch1/sd/flores12/IrOx_Project/03_...</td>\n",
       "      <td>100_O-2_OH-0_IrO3_rutile-like</td>\n",
       "      <td>100, O-2_OH-0, IrO3_rutile-like,</td>\n",
       "      <td>NaN</td>\n",
       "      <td>NaN</td>\n",
       "    </tr>\n",
       "    <tr>\n",
       "      <th>272</th>\n",
       "      <td>IrO3_rutile-like</td>\n",
       "      <td>100</td>\n",
       "      <td>ooh</td>\n",
       "      <td>h_covered</td>\n",
       "      <td>NaN</td>\n",
       "      <td>4.807029</td>\n",
       "      <td>-557.647162</td>\n",
       "      <td>3.683</td>\n",
       "      <td>6.729</td>\n",
       "      <td>03_OER_Calc/IrO3_rutile-like/100/03_O-2_OH-2/0...</td>\n",
       "      <td>...</td>\n",
       "      <td>{'ENCUT': 500.0, 'AMIX_MAG': 0.05, 'BMIX_MAG':...</td>\n",
       "      <td>(Atom('O', [1.84444, 2.83282, 7.50008], index=...</td>\n",
       "      <td>[(Atom('O', [1.84444, 2.83282, 7.50008], index...</td>\n",
       "      <td>91.0</td>\n",
       "      <td>True</td>\n",
       "      <td>/global/cscratch1/sd/flores12/IrOx_Project/03_...</td>\n",
       "      <td>100_O-2_OH-2_IrO3_rutile-like</td>\n",
       "      <td>100, O-2_OH-2, IrO3_rutile-like,</td>\n",
       "      <td>NaN</td>\n",
       "      <td>NaN</td>\n",
       "    </tr>\n",
       "    <tr>\n",
       "      <th>276</th>\n",
       "      <td>IrO3_rutile-like</td>\n",
       "      <td>110</td>\n",
       "      <td>ooh</td>\n",
       "      <td>o_covered</td>\n",
       "      <td>up</td>\n",
       "      <td>4.084265</td>\n",
       "      <td>-425.810928</td>\n",
       "      <td>0.853</td>\n",
       "      <td>2.781</td>\n",
       "      <td>03_OER_Calc/IrO3_rutile-like/110/01_O_covered/...</td>\n",
       "      <td>...</td>\n",
       "      <td>{'ENCUT': 500.0, 'AMIX_MAG': 0.05, 'BMIX_MAG':...</td>\n",
       "      <td>(Atom('O', [3.32082, 2.83282, 7.50011], index=...</td>\n",
       "      <td>[(Atom('O', [3.32082, 2.83282, 7.50011], index...</td>\n",
       "      <td>68.0</td>\n",
       "      <td>True</td>\n",
       "      <td>/global/cscratch1/sd/flores12/IrOx_Project/03_...</td>\n",
       "      <td>110_o_covered_IrO3_rutile-like</td>\n",
       "      <td>110, o_covered, IrO3_rutile-like,</td>\n",
       "      <td>NaN</td>\n",
       "      <td>NaN</td>\n",
       "    </tr>\n",
       "    <tr>\n",
       "      <th>282</th>\n",
       "      <td>IrO3_rutile-like</td>\n",
       "      <td>110</td>\n",
       "      <td>ooh</td>\n",
       "      <td>h_covered</td>\n",
       "      <td>NaN</td>\n",
       "      <td>4.120659</td>\n",
       "      <td>-431.021152</td>\n",
       "      <td>2.210</td>\n",
       "      <td>3.516</td>\n",
       "      <td>03_OER_Calc/IrO3_rutile-like/110/02_H_covered/...</td>\n",
       "      <td>...</td>\n",
       "      <td>{'ENCUT': 500.0, 'AMIX_MAG': 0.05, 'BMIX_MAG':...</td>\n",
       "      <td>(Atom('O', [3.32082, 2.83282, 7.50011], index=...</td>\n",
       "      <td>[(Atom('O', [3.32082, 2.83282, 7.50011], index...</td>\n",
       "      <td>69.0</td>\n",
       "      <td>True</td>\n",
       "      <td>/global/cscratch1/sd/flores12/IrOx_Project/03_...</td>\n",
       "      <td>110_h_covered_IrO3_rutile-like</td>\n",
       "      <td>110, h_covered, IrO3_rutile-like,</td>\n",
       "      <td>NaN</td>\n",
       "      <td>NaN</td>\n",
       "    </tr>\n",
       "  </tbody>\n",
       "</table>\n",
       "<p>5 rows × 24 columns</p>\n",
       "</div>"
      ],
      "text/plain": [
       "          bulk_system facet adsorbate coverage_type ooh_direction     ads_e  \\\n",
       "259  IrO3_rutile-like   100       ooh     o_covered            up  4.757747   \n",
       "265  IrO3_rutile-like   100       ooh   o_covered_2            up  4.205397   \n",
       "272  IrO3_rutile-like   100       ooh     h_covered           NaN  4.807029   \n",
       "276  IrO3_rutile-like   110       ooh     o_covered            up  4.084265   \n",
       "282  IrO3_rutile-like   110       ooh     h_covered           NaN  4.120659   \n",
       "\n",
       "     elec_energy  total_magmom  abs_magmom  \\\n",
       "259  -552.246367         3.682       7.002   \n",
       "265  -543.880710        -0.576       8.490   \n",
       "272  -557.647162         3.683       6.729   \n",
       "276  -425.810928         0.853       2.781   \n",
       "282  -431.021152         2.210       3.516   \n",
       "\n",
       "                                            path_short     ...       \\\n",
       "259  03_OER_Calc/IrO3_rutile-like/100/01_O-4_OH-0/0...     ...        \n",
       "265  03_OER_Calc/IrO3_rutile-like/100/02_O-2_OH-0/0...     ...        \n",
       "272  03_OER_Calc/IrO3_rutile-like/100/03_O-2_OH-2/0...     ...        \n",
       "276  03_OER_Calc/IrO3_rutile-like/110/01_O_covered/...     ...        \n",
       "282  03_OER_Calc/IrO3_rutile-like/110/02_H_covered/...     ...        \n",
       "\n",
       "                                          incar_parsed  \\\n",
       "259  {'ENCUT': 500.0, 'AMIX_MAG': 0.05, 'BMIX_MAG':...   \n",
       "265  {'POTIM': '0.200000', 'ENCUT': 500.0, 'AMIX_MA...   \n",
       "272  {'ENCUT': 500.0, 'AMIX_MAG': 0.05, 'BMIX_MAG':...   \n",
       "276  {'ENCUT': 500.0, 'AMIX_MAG': 0.05, 'BMIX_MAG':...   \n",
       "282  {'ENCUT': 500.0, 'AMIX_MAG': 0.05, 'BMIX_MAG':...   \n",
       "\n",
       "                                            init_atoms  \\\n",
       "259  (Atom('O', [1.84444, 2.83282, 7.50008], index=...   \n",
       "265  (Atom('O', [1.84444, 2.83282, 7.50008], magmom...   \n",
       "272  (Atom('O', [1.84444, 2.83282, 7.50008], index=...   \n",
       "276  (Atom('O', [3.32082, 2.83282, 7.50011], index=...   \n",
       "282  (Atom('O', [3.32082, 2.83282, 7.50011], index=...   \n",
       "\n",
       "                                          atoms_object N_atoms  \\\n",
       "259  [(Atom('O', [1.84444, 2.83282, 7.50008], index...    90.0   \n",
       "265  [(Atom('O', [1.84444, 2.83282, 7.50008], index...    88.0   \n",
       "272  [(Atom('O', [1.84444, 2.83282, 7.50008], index...    91.0   \n",
       "276  [(Atom('O', [3.32082, 2.83282, 7.50011], index...    68.0   \n",
       "282  [(Atom('O', [3.32082, 2.83282, 7.50011], index...    69.0   \n",
       "\n",
       "    dipole_correction                                               path  \\\n",
       "259              True  /global/cscratch1/sd/flores12/IrOx_Project/03_...   \n",
       "265              True  /global/cscratch1/sd/flores12/IrOx_Project/03_...   \n",
       "272              True  /global/cscratch1/sd/flores12/IrOx_Project/03_...   \n",
       "276              True  /global/cscratch1/sd/flores12/IrOx_Project/03_...   \n",
       "282              True  /global/cscratch1/sd/flores12/IrOx_Project/03_...   \n",
       "\n",
       "                           name_i_2                            name_i_3  \\\n",
       "259   100_O-4_OH-0_IrO3_rutile-like   100, O-4_OH-0, IrO3_rutile-like,    \n",
       "265   100_O-2_OH-0_IrO3_rutile-like   100, O-2_OH-0, IrO3_rutile-like,    \n",
       "272   100_O-2_OH-2_IrO3_rutile-like   100, O-2_OH-2, IrO3_rutile-like,    \n",
       "276  110_o_covered_IrO3_rutile-like  110, o_covered, IrO3_rutile-like,    \n",
       "282  110_h_covered_IrO3_rutile-like  110, h_covered, IrO3_rutile-like,    \n",
       "\n",
       "    priority surface_type  \n",
       "259      NaN          NaN  \n",
       "265      NaN          NaN  \n",
       "272      NaN          NaN  \n",
       "276      NaN          NaN  \n",
       "282      NaN          NaN  \n",
       "\n",
       "[5 rows x 24 columns]"
      ]
     },
     "execution_count": 15,
     "metadata": {},
     "output_type": "execute_result"
    }
   ],
   "source": [
    "df_m[\n",
    "    (df_m[\"bulk_system\"] == \"IrO3_rutile-like\") &\n",
    "    (df_m[\"adsorbate\"] == \"ooh\") &\n",
    "#     (df_m[\"\"] == \"\") &\n",
    "    [True for i in range(len(df_m))]\n",
    "    ]"
   ]
  },
  {
   "cell_type": "code",
   "execution_count": 16,
   "metadata": {},
   "outputs": [
    {
     "ename": "AssertionError",
     "evalue": "",
     "output_type": "error",
     "traceback": [
      "\u001b[0;31m------------------------------------------------------------------------\u001b[0m",
      "\u001b[0;31mAssertionError\u001b[0m                         Traceback (most recent call last)",
      "\u001b[0;32m<ipython-input-16-a871fdc9ebee>\u001b[0m in \u001b[0;36m<module>\u001b[0;34m()\u001b[0m\n\u001b[0;32m----> 1\u001b[0;31m \u001b[0;32massert\u001b[0m \u001b[0;32mFalse\u001b[0m\u001b[0;34m\u001b[0m\u001b[0;34m\u001b[0m\u001b[0m\n\u001b[0m",
      "\u001b[0;31mAssertionError\u001b[0m: "
     ]
    }
   ],
   "source": [
    "assert False"
   ]
  },
  {
   "cell_type": "code",
   "execution_count": null,
   "metadata": {},
   "outputs": [],
   "source": [
    "from ase import io"
   ]
  },
  {
   "cell_type": "code",
   "execution_count": null,
   "metadata": {},
   "outputs": [],
   "source": [
    "row_i = df_m[\n",
    "    (df_m[\"bulk_system\"] == \"IrO3\") &\n",
    "    (df_m[\"coverage_type\"] == \"o_covered\") &\n",
    "    (df_m[\"facet\"] == \"100\") &\n",
    "    (df_m[\"adsorbate\"] == \"o\") &\n",
    "    [True for i in range(len(df_m))]\n",
    "    ].iloc[0]\n",
    "\n",
    "atoms_i = row_i[\"atoms_object\"][-1]\n",
    "\n",
    "io.write(\"iro3_o-covered_100_o.traj\", atoms_i)"
   ]
  },
  {
   "cell_type": "code",
   "execution_count": null,
   "metadata": {},
   "outputs": [],
   "source": [
    "row_i = df_m[\n",
    "    (df_m[\"bulk_system\"] == \"IrO3\") &\n",
    "    (df_m[\"coverage_type\"] == \"o_covered\") &\n",
    "    (df_m[\"facet\"] == \"110\") &\n",
    "    (df_m[\"adsorbate\"] == \"o\") &\n",
    "    [True for i in range(len(df_m))]\n",
    "    ].iloc[0]\n",
    "\n",
    "atoms_i = row_i[\"atoms_object\"][-1]\n",
    "\n",
    "io.write(\"iro3_o-covered_110_o.traj\", atoms_i)"
   ]
  },
  {
   "cell_type": "code",
   "execution_count": null,
   "metadata": {},
   "outputs": [],
   "source": [
    "row_i = df_m[\n",
    "    (df_m[\"bulk_system\"] == \"IrO3_rutile-like\") &\n",
    "    (df_m[\"coverage_type\"] == \"o_covered\") &\n",
    "    (df_m[\"facet\"] == \"110\") &\n",
    "    (df_m[\"adsorbate\"] == \"o\") &\n",
    "    [True for i in range(len(df_m))]\n",
    "    ].iloc[0]\n",
    "\n",
    "atoms_i = row_i[\"atoms_object\"][-1]\n",
    "\n",
    "io.write(\"iro3_rutile-like_o-covered_110_o.traj\", atoms_i)"
   ]
  },
  {
   "cell_type": "code",
   "execution_count": null,
   "metadata": {},
   "outputs": [],
   "source": [
    "row_i = df_m[\n",
    "    (df_m[\"bulk_system\"] == \"IrO3_battery\") &\n",
    "    (df_m[\"coverage_type\"] == \"o_covered\") &\n",
    "    (df_m[\"facet\"] == \"010\") &\n",
    "    (df_m[\"adsorbate\"] == \"o\") &\n",
    "    [True for i in range(len(df_m))]\n",
    "    ].iloc[0]\n",
    "\n",
    "atoms_i = row_i[\"atoms_object\"][-1]\n",
    "atoms_i\n",
    "io.write(\"iro3_rutile-like_o-covered_110_o.traj\", atoms_i)"
   ]
  },
  {
   "cell_type": "code",
   "execution_count": null,
   "metadata": {},
   "outputs": [],
   "source": [
    "df_i = df_m[\n",
    "    (df_m[\"bulk_system\"] == \"IrO3_battery\") &\n",
    "    (df_m[\"coverage_type\"] == \"o_covered\") &\n",
    "    (df_m[\"facet\"] == \"010\") &\n",
    "    (df_m[\"adsorbate\"] == \"o\") &\n",
    "    (df_m[\"surface_type\"] == \"a\") &\n",
    "    [True for i in range(len(df_m))]\n",
    "    ]\n",
    "\n",
    "row_i = df_i.iloc[0]\n",
    "\n",
    "atoms_i = row_i[\"atoms_object\"][-1]\n",
    "\n",
    "io.write(\"iro3-battery_o-covered_010_o_surface-type-a.traj\", atoms_i)"
   ]
  },
  {
   "cell_type": "code",
   "execution_count": null,
   "metadata": {},
   "outputs": [],
   "source": [
    "row_i = df_m[\n",
    "    (df_m[\"bulk_system\"] == \"IrO3\") &\n",
    "    (df_m[\"coverage_type\"] == \"o_covered\") &\n",
    "    (df_m[\"facet\"] == \"211\") &\n",
    "    (df_m[\"adsorbate\"] == \"o\") &\n",
    "    [True for i in range(len(df_m))]\n",
    "    ].iloc[0]\n",
    "\n",
    "atoms_i = row_i[\"atoms_object\"][-1]\n",
    "atoms_i\n",
    "io.write(\"iro3_o-covered_211_o.traj\", atoms_i)"
   ]
  },
  {
   "cell_type": "code",
   "execution_count": null,
   "metadata": {},
   "outputs": [],
   "source": [
    "row_i = df_m[\n",
    "    (df_m[\"bulk_system\"] == \"IrO2\") &\n",
    "    (df_m[\"coverage_type\"] == \"o_covered\") &\n",
    "    (df_m[\"facet\"] == \"100\") &\n",
    "    (df_m[\"adsorbate\"] == \"o\") &\n",
    "    [True for i in range(len(df_m))]\n",
    "    ].iloc[0]\n",
    "\n",
    "atoms_i = row_i[\"atoms_object\"][-1]\n",
    "atoms_i\n",
    "io.write(\"iro2_o-covered_100_o.traj\", atoms_i)"
   ]
  },
  {
   "cell_type": "code",
   "execution_count": null,
   "metadata": {},
   "outputs": [],
   "source": [
    "# df_dict = {}\n",
    "#     df_dict[\"_\".join(list(name))] = df_i\n",
    "#     # Choosing the most stable *OOH species\n",
    "#     # ###################################################\n",
    "#     species_j = \"ooh\"\n",
    "#     df_wo_species = df_i[df_i[\"adsorbate\"] != species_j]\n",
    "#     df_ij = df_i[df_i[\"adsorbate\"] == species_j]\n",
    "#     df_final = df_wo_species.append(\n",
    "#         df_ij.loc[df_ij[\"ads_e\"].idxmin()]\n",
    "#         )\n",
    "#     df_final\n",
    "#     df_i = df_final\n",
    "#     # ###################################################\n",
    "#     sys_i = df_i.iloc[0][\"bulk_system\"] + \"_\" + df_i.iloc[0][\"facet\"]\n",
    "#     color_i = system_color_map[sys_i]\n",
    "#             color=color_i,\n",
    "#             opt_name=df_i[\"name_i\"].tolist()[0],\n",
    "\n",
    "# df_m.loc[df_m[\"coverage_type\"] == \"O-4_OH-0\", \"coverage_type\"] = \"o_covered\"\n",
    "# df_m.loc[df_m[\"coverage_type\"] == \"O-2_OH-0\", \"coverage_type\"] = \"o_covered_2\"\n",
    "# df_m.loc[df_m[\"coverage_type\"] == \"O-2_OH-2\", \"coverage_type\"] = \"h_covered\"\n",
    "\n",
    "# df_m = df_m[df_m[\"ooh_direction\"] != \"deprotonated\"]"
   ]
  }
 ],
 "metadata": {
  "kernelspec": {
   "display_name": "Python 3",
   "language": "python",
   "name": "python3"
  },
  "language_info": {
   "codemirror_mode": {
    "name": "ipython",
    "version": 3
   },
   "file_extension": ".py",
   "mimetype": "text/x-python",
   "name": "python",
   "nbconvert_exporter": "python",
   "pygments_lexer": "ipython3",
   "version": "3.6.7"
  },
  "toc-autonumbering": true
 },
 "nbformat": 4,
 "nbformat_minor": 2
}
