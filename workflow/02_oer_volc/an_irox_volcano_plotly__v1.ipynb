{
 "cells": [
  {
   "cell_type": "markdown",
   "metadata": {},
   "source": [
    "# OER Volcano for IrOx systems\n",
    "\n",
    "***"
   ]
  },
  {
   "cell_type": "markdown",
   "metadata": {},
   "source": [
    "# Import Modules"
   ]
  },
  {
   "cell_type": "code",
   "execution_count": 1,
   "metadata": {},
   "outputs": [],
   "source": [
    "%%capture\n",
    "%load_ext autoreload\n",
    "%autoreload 2"
   ]
  },
  {
   "cell_type": "code",
   "execution_count": 2,
   "metadata": {},
   "outputs": [
    {
     "data": {
      "text/plain": [
       "'C:\\\\Users\\\\raulf2012\\\\Dropbox\\\\01_norskov\\\\00_git_repos\\\\PROJ_IrOx_Active_Learning_OER'"
      ]
     },
     "execution_count": 2,
     "metadata": {},
     "output_type": "execute_result"
    }
   ],
   "source": [
    "import os\n",
    "\n",
    "# os.environ[\"TEMP0\"]\n",
    "os.environ[\"PROJ_irox\"]"
   ]
  },
  {
   "cell_type": "code",
   "execution_count": 3,
   "metadata": {},
   "outputs": [
    {
     "ename": "ModuleNotFoundError",
     "evalue": "No module named 'ase_modules'",
     "output_type": "error",
     "traceback": [
      "\u001b[1;31m---------------------------------------------------------------------------\u001b[0m",
      "\u001b[1;31mModuleNotFoundError\u001b[0m                       Traceback (most recent call last)",
      "\u001b[1;32m<ipython-input-3-1d7fa867f8c8>\u001b[0m in \u001b[0;36m<module>\u001b[1;34m\u001b[0m\n\u001b[0;32m     12\u001b[0m         \"data\"))\n\u001b[0;32m     13\u001b[0m \u001b[1;33m\u001b[0m\u001b[0m\n\u001b[1;32m---> 14\u001b[1;33m \u001b[1;32mfrom\u001b[0m \u001b[0man_data_processing\u001b[0m \u001b[1;32mimport\u001b[0m \u001b[0mload_df\u001b[0m\u001b[1;33m\u001b[0m\u001b[1;33m\u001b[0m\u001b[0m\n\u001b[0m\u001b[0;32m     15\u001b[0m \u001b[1;33m\u001b[0m\u001b[0m\n\u001b[0;32m     16\u001b[0m \u001b[1;31m# #############################################################################\u001b[0m\u001b[1;33m\u001b[0m\u001b[1;33m\u001b[0m\u001b[1;33m\u001b[0m\u001b[0m\n",
      "\u001b[1;32m~\\Dropbox\\01_norskov\\00_git_repos\\PROJ_IrOx_Active_Learning_OER\\workflow\\an_data_processing.py\u001b[0m in \u001b[0;36m<module>\u001b[1;34m\u001b[0m\n\u001b[0;32m     25\u001b[0m \u001b[1;32mimport\u001b[0m \u001b[0mnumpy\u001b[0m \u001b[1;32mas\u001b[0m \u001b[0mnp\u001b[0m\u001b[1;33m\u001b[0m\u001b[1;33m\u001b[0m\u001b[0m\n\u001b[0;32m     26\u001b[0m \u001b[1;33m\u001b[0m\u001b[0m\n\u001b[1;32m---> 27\u001b[1;33m \u001b[1;32mfrom\u001b[0m \u001b[0mase_modules\u001b[0m\u001b[1;33m.\u001b[0m\u001b[0mase_methods\u001b[0m \u001b[1;32mimport\u001b[0m \u001b[0mmax_force\u001b[0m\u001b[1;33m\u001b[0m\u001b[1;33m\u001b[0m\u001b[0m\n\u001b[0m\u001b[0;32m     28\u001b[0m \u001b[1;32mfrom\u001b[0m \u001b[0mdft_job_automat\u001b[0m\u001b[1;33m.\u001b[0m\u001b[0mjob_analysis\u001b[0m \u001b[1;32mimport\u001b[0m \u001b[0mDFT_Jobs_Analysis\u001b[0m\u001b[1;33m\u001b[0m\u001b[1;33m\u001b[0m\u001b[0m\n\u001b[0;32m     29\u001b[0m \u001b[1;32mfrom\u001b[0m \u001b[0moxr_reaction\u001b[0m\u001b[1;33m.\u001b[0m\u001b[0moxr_methods\u001b[0m \u001b[1;32mimport\u001b[0m \u001b[0mdf_calc_adsorption_e\u001b[0m\u001b[1;33m\u001b[0m\u001b[1;33m\u001b[0m\u001b[0m\n",
      "\u001b[1;31mModuleNotFoundError\u001b[0m: No module named 'ase_modules'"
     ]
    }
   ],
   "source": [
    "%%capture\n",
    "\n",
    "import sys\n",
    "import os\n",
    "\n",
    "sys.path.insert(\n",
    "    0, os.path.join(\n",
    "        os.environ[\"PROJ_irox\"],\n",
    "        \"workflow\"))\n",
    "\n",
    "sys.path.insert(\n",
    "    0, os.path.join(\n",
    "        os.environ[\"PROJ_irox\"],\n",
    "        \"data\"))\n",
    "\n",
    "from an_data_processing import load_df\n",
    "\n",
    "# #############################################################################\n",
    "# Python Modules\n",
    "\n",
    "import pickle\n",
    "\n",
    "import numpy as np\n",
    "\n",
    "import plotly.graph_objs as go\n",
    "\n",
    "# #############################################################################\n",
    "# My Modules\n",
    "from oxr_reaction.oxr_rxn import ORR_Free_E_Plot\n",
    "from oxr_reaction.oxr_plotting_classes.oxr_plot_volcano import Volcano_Plot\n",
    "\n",
    "# #############################################################################\n",
    "# Project Data\n",
    "from proj_data_irox import (\n",
    "    proj_dir_name,\n",
    "    smart_format_dict,\n",
    "    gas_molec_dict,\n",
    "    scaling_dict_ideal,\n",
    "    scaling_dict_fitted,\n",
    "    exp_irox_lim_pot,\n",
    "    data_dir,\n",
    "    groupby_props,\n",
    "    irox_bulk_color_map)\n",
    "\n",
    "# #############################################################################\n",
    "# Local Imports\n",
    "from plotting.my_plotly import my_plotly_plot\n",
    "from layout import layout"
   ]
  },
  {
   "cell_type": "markdown",
   "metadata": {},
   "source": [
    "# Script Inputs"
   ]
  },
  {
   "cell_type": "code",
   "execution_count": 4,
   "metadata": {},
   "outputs": [],
   "source": [
    "save_plot = False\n",
    "plot_exp_traces = True\n",
    "\n",
    "plot_range = {\n",
    "    \"y\": [2., 1.4],\n",
    "    \"x\": [1., 2.],\n",
    "    }"
   ]
  },
  {
   "cell_type": "markdown",
   "metadata": {
    "incorrectly_encoded_metadata": "toc-hr-collapsed=true"
   },
   "source": [
    "# Read and Process Data Frame"
   ]
  },
  {
   "cell_type": "markdown",
   "metadata": {},
   "source": [
    "## Read dataframe from file"
   ]
  },
  {
   "cell_type": "code",
   "execution_count": 5,
   "metadata": {},
   "outputs": [
    {
     "ename": "NameError",
     "evalue": "name 'load_df' is not defined",
     "output_type": "error",
     "traceback": [
      "\u001b[1;31m---------------------------------------------------------------------------\u001b[0m",
      "\u001b[1;31mNameError\u001b[0m                                 Traceback (most recent call last)",
      "\u001b[1;32m<ipython-input-5-15e5b507ec06>\u001b[0m in \u001b[0;36m<module>\u001b[1;34m\u001b[0m\n\u001b[0;32m      1\u001b[0m \u001b[1;31m# %%capture\u001b[0m\u001b[1;33m\u001b[0m\u001b[1;33m\u001b[0m\u001b[1;33m\u001b[0m\u001b[0m\n\u001b[0;32m      2\u001b[0m \u001b[1;33m\u001b[0m\u001b[0m\n\u001b[1;32m----> 3\u001b[1;33m df_pourbaix, df_ads, df_surf = load_df(\n\u001b[0m\u001b[0;32m      4\u001b[0m     \u001b[0mfrom_file\u001b[0m\u001b[1;33m=\u001b[0m\u001b[1;32mTrue\u001b[0m\u001b[1;33m,\u001b[0m\u001b[1;33m\u001b[0m\u001b[1;33m\u001b[0m\u001b[0m\n\u001b[0;32m      5\u001b[0m     \u001b[0mroot_dir\u001b[0m\u001b[1;33m=\u001b[0m\u001b[0mdata_dir\u001b[0m\u001b[1;33m,\u001b[0m\u001b[1;33m\u001b[0m\u001b[1;33m\u001b[0m\u001b[0m\n",
      "\u001b[1;31mNameError\u001b[0m: name 'load_df' is not defined"
     ]
    }
   ],
   "source": [
    "# %%capture\n",
    "\n",
    "df_pourbaix, df_ads, df_surf = load_df(\n",
    "    from_file=True,\n",
    "    root_dir=data_dir,\n",
    "    data_dir=data_dir,\n",
    "    file_name=\"df_master.pickle\",\n",
    "    process_df=False)\n",
    "\n",
    "# df_pourbaix, df_ads, df_surf = load_df(\n",
    "#     from_file=False,\n",
    "#     root_dir=data_dir,\n",
    "#     data_dir=data_dir,\n",
    "#     file_name=\"df_master.pickle\",\n",
    "#     process_df=True)\n",
    "\n",
    "df_m = df_ads"
   ]
  },
  {
   "cell_type": "markdown",
   "metadata": {},
   "source": [
    "# ORR_Free_E_Plot Instance"
   ]
  },
  {
   "cell_type": "code",
   "execution_count": null,
   "metadata": {},
   "outputs": [],
   "source": [
    "ORR_PLT = ORR_Free_E_Plot(\n",
    "    free_energy_df=None,\n",
    "    state_title=\"adsorbate\",\n",
    "    free_e_title=\"ads_e\",\n",
    "    smart_format=smart_format_dict,\n",
    "    color_list=None,\n",
    "    rxn_type=\"OER\")"
   ]
  },
  {
   "cell_type": "markdown",
   "metadata": {},
   "source": [
    "# Processing Data"
   ]
  },
  {
   "cell_type": "code",
   "execution_count": null,
   "metadata": {},
   "outputs": [],
   "source": [
    "prop_name_list = [\n",
    "    'bulk_system',\n",
    "    # 'coverage',\n",
    "    'coverage_type',\n",
    "    'facet',\n",
    "    'surface_type',\n",
    "    ]\n",
    "\n",
    "grouped = df_m.groupby(groupby_props)\n",
    "\n",
    "for i_ind, (name, group) in enumerate(grouped):\n",
    "    df_i = group\n",
    "\n",
    "    if not any([np.isnan(i) for i in df_i.elec_energy.tolist()]):\n",
    "        ORR_PLT.add_series(\n",
    "            df_i,\n",
    "            plot_mode=\"all\",\n",
    "            overpotential_type=\"OER\",\n",
    "            property_key_list=prop_name_list,\n",
    "            add_overpot=False,\n",
    "            )"
   ]
  },
  {
   "cell_type": "markdown",
   "metadata": {
    "incorrectly_encoded_metadata": "toc-hr-collapsed=true"
   },
   "source": [
    "# Experimental IrOx Activity Traces"
   ]
  },
  {
   "cell_type": "markdown",
   "metadata": {},
   "source": [
    "## Horizontal data traces"
   ]
  },
  {
   "cell_type": "code",
   "execution_count": null,
   "metadata": {},
   "outputs": [],
   "source": [
    "trace_iro3 = go.Scatter(\n",
    "    x=plot_range[\"x\"],\n",
    "    y=2 * [exp_irox_lim_pot[\"10_mA/cm2\"][\"SrIrO3\"]],    \n",
    "    mode=\"lines\",\n",
    "    name=\"lines\",\n",
    "    line={\n",
    "        \"color\": irox_bulk_color_map[\"IrO3\"],\n",
    "        \"width\": 1,\n",
    "        \"dash\": \"dash\",\n",
    "        },\n",
    "    )\n",
    "\n",
    "trace_iro2 = go.Scatter(\n",
    "    x=plot_range[\"x\"],\n",
    "    y=2 * [exp_irox_lim_pot[\"10_mA/cm2\"][\"IrO2(110)\"]],\n",
    "    mode=\"lines\",\n",
    "    name=\"lines\",\n",
    "    line={\n",
    "        \"color\": irox_bulk_color_map[\"IrO2\"],\n",
    "        \"width\": 1,\n",
    "        \"dash\": \"dash\",\n",
    "        },\n",
    "    )"
   ]
  },
  {
   "cell_type": "markdown",
   "metadata": {},
   "source": [
    "# Volcano Plot"
   ]
  },
  {
   "cell_type": "code",
   "execution_count": null,
   "metadata": {},
   "outputs": [],
   "source": [
    "VP = Volcano_Plot(\n",
    "    ORR_PLT,\n",
    "    x_ax_species=\"o-oh\",  # 'o-oh' or 'oh'\n",
    "    smart_format_dict=smart_format_dict,\n",
    "    plot_range=plot_range,\n",
    "    )\n",
    "\n",
    "VP.create_volcano_relations_plot()\n",
    "\n",
    "volcano_legs_data = VP.create_volcano_lines(\n",
    "    gas_molec_dict=gas_molec_dict,\n",
    "    scaling_dict=scaling_dict_ideal,\n",
    "    plot_all_legs=False,\n",
    "    plot_min_max_legs=True,\n",
    "    trace_priority=\"bottom\",  # 'top' or 'bottom'\n",
    "    )\n",
    "\n",
    "volcano_legs_data_tmp = VP.create_volcano_lines(\n",
    "    gas_molec_dict=gas_molec_dict,\n",
    "    scaling_dict=scaling_dict_fitted,\n",
    "    plot_all_legs=False,\n",
    "    plot_min_max_legs=True,\n",
    "    trace_priority=\"bottom\",  # 'top' or 'bottom'\n",
    "    legs_to_plot=[\n",
    "        # \"o2_to_ooh\",\n",
    "        \"ooh_to_o\",\n",
    "        \"o_to_oh\",\n",
    "        # \"oh_to_h2o\",\n",
    "        ],\n",
    "    line_color=\"grey\"\n",
    "    )\n",
    "\n",
    "data = volcano_legs_data + volcano_legs_data_tmp + VP.data_points\n",
    "\n",
    "if plot_exp_traces:\n",
    "    data.insert(0, trace_iro3)\n",
    "    data.insert(0, trace_iro2)"
   ]
  },
  {
   "cell_type": "code",
   "execution_count": null,
   "metadata": {},
   "outputs": [],
   "source": [
    "if save_plot:\n",
    "    save_dir = proj_dir_name\n",
    "else:\n",
    "    save_dir = \"__temp__\"\n",
    "\n",
    "fig = go.Figure(data=data, layout=layout)"
   ]
  },
  {
   "cell_type": "code",
   "execution_count": null,
   "metadata": {},
   "outputs": [],
   "source": [
    "os.environ.get(\"USER\", \"\")"
   ]
  },
  {
   "cell_type": "code",
   "execution_count": null,
   "metadata": {},
   "outputs": [],
   "source": [
    "layout_override = {\n",
    "    \"width\": 35 * 37.795275591,\n",
    "    \"height\": 19 * 37.795275591,\n",
    "    \"showlegend\": True}\n",
    "fig.layout.update(layout_override)\n",
    "\n",
    "fig = my_plotly_plot(\n",
    "    figure=fig,\n",
    "    plot_name=\"out_plot_02_large\")"
   ]
  },
  {
   "cell_type": "code",
   "execution_count": null,
   "metadata": {},
   "outputs": [],
   "source": [
    "layout_override = {\n",
    "    \"width\": 1.45 * 7.964 * 37.795275591,\n",
    "    \"height\": 1.5 * 5.6002 * 37.795275591,\n",
    "    \"showlegend\": False}\n",
    "fig.layout.update(layout_override)\n",
    "\n",
    "my_plotly_plot(\n",
    "    figure=fig,\n",
    "    plot_name=\"pl_irox_volcano_plotly_default_ooh\")"
   ]
  },
  {
   "cell_type": "markdown",
   "metadata": {},
   "source": [
    "# Adding Kinetic Volcano Traces"
   ]
  },
  {
   "cell_type": "code",
   "execution_count": null,
   "metadata": {},
   "outputs": [],
   "source": [
    "# #############################################################################\n",
    "path_i = os.path.join(\n",
    "    \"out_data\",\n",
    "    \"kinetic_volcano_trace.pickle\")\n",
    "with open(path_i, \"rb\") as fle:\n",
    "    data_kin_volc = pickle.load(fle)\n",
    "# #############################################################################\n",
    "\n",
    "# #############################################################################\n",
    "path_i = os.path.join(\n",
    "    \"out_data\",\n",
    "    \"df_10mA.pickle\")\n",
    "with open(path_i, \"rb\") as fle:\n",
    "    df_10mA = pickle.load(fle)\n",
    "# #############################################################################"
   ]
  },
  {
   "cell_type": "code",
   "execution_count": null,
   "metadata": {},
   "outputs": [],
   "source": [
    "df = df_10mA\n",
    "trace_kin_10mA = go.Scatter(\n",
    "    x=df[\"descriptor\"],\n",
    "    y=df[\"U_lim\"],\n",
    "    mode=\"lines\",\n",
    "    line=dict(\n",
    "        color=\"blue\",\n",
    "        width=2,\n",
    "        dash=\"dash\",\n",
    "        ),\n",
    "    )"
   ]
  },
  {
   "cell_type": "code",
   "execution_count": null,
   "metadata": {
    "collapsed": false,
    "jupyter": {
     "outputs_hidden": false
    }
   },
   "outputs": [],
   "source": [
    "for trace_i in data_kin_volc:\n",
    "    data_dict = trace_i.to_plotly_json()\n",
    "    fig.add_scatter(**data_dict)\n",
    "\n",
    "fig.add_scatter(**trace_kin_10mA.to_plotly_json())\n",
    "\n",
    "tmp = my_plotly_plot(\n",
    "    figure=fig,\n",
    "    plot_name=\"pl_irox_volcano_plotly_default_ooh__w_kinetic_volc\",\n",
    "    write_html=True)\n",
    "\n",
    "fig.update_layout(\n",
    "    width=900,\n",
    "    height=500,\n",
    "    legend=None,\n",
    "    showlegend=True)"
   ]
  },
  {
   "cell_type": "code",
   "execution_count": null,
   "metadata": {},
   "outputs": [],
   "source": [
    "fig"
   ]
  },
  {
   "cell_type": "raw",
   "metadata": {},
   "source": [
    "\n",
    "\n",
    "\n",
    "\n",
    "\n",
    "\n",
    "\n",
    "\n"
   ]
  }
 ],
 "metadata": {
  "jupytext": {
   "encoding": "# -*- coding: utf-8 -*-",
   "formats": "ipynb,py:light"
  },
  "kernelspec": {
   "display_name": "Python [conda env:PROJ_IrOx_Active_Learning_OER]",
   "language": "python",
   "name": "conda-env-PROJ_IrOx_Active_Learning_OER-py"
  },
  "language_info": {
   "codemirror_mode": {
    "name": "ipython",
    "version": 3
   },
   "file_extension": ".py",
   "mimetype": "text/x-python",
   "name": "python",
   "nbconvert_exporter": "python",
   "pygments_lexer": "ipython3",
   "version": "3.6.9"
  },
  "toc-autonumbering": true
 },
 "nbformat": 4,
 "nbformat_minor": 4
}
