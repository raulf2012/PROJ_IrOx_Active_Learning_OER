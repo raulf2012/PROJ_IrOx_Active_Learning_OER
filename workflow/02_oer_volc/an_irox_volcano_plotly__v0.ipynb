{
 "cells": [
  {
   "cell_type": "markdown",
   "metadata": {},
   "source": [
    "# OER Volcano for IrOx systems\n",
    "\n",
    "***"
   ]
  },
  {
   "cell_type": "markdown",
   "metadata": {},
   "source": [
    "# Import Modules"
   ]
  },
  {
   "cell_type": "code",
   "execution_count": 1,
   "metadata": {},
   "outputs": [],
   "source": [
    "%%capture\n",
    "%load_ext autoreload\n",
    "%autoreload 2"
   ]
  },
  {
   "cell_type": "code",
   "execution_count": 2,
   "metadata": {},
   "outputs": [
    {
     "name": "stdout",
     "output_type": "stream",
     "text": [
      "Divisor is Energy class instance!!!\n",
      "Divisor is Energy class instance!!!\n",
      "TEMP TEMP TEMPTEMP TEMP TEMPTEMP TEMP TEMPTEMP TEMP TEMPTEMP TEMP TEMPTEMP TEMP TEMPTEMP TEMP TEMPTEMP TEMP TEMPTEMP TEMP TEMPTEMP TEMP TEMPTEMP TEMP TEMPTEMP TEMP TEMPTEMP TEMP TEMPTEMP TEMP TEMPTEMP TEMP TEMPTEMP TEMP TEMPTEMP TEMP TEMPTEMP TEMP TEMPTEMP TEMP TEMPTEMP TEMP TEMP\n",
      "-7.45942759\n",
      "-3.38574595\n"
     ]
    },
    {
     "ename": "ImportError",
     "evalue": "\nThe plotly.plotly module is deprecated,\nplease install the chart-studio package and use the\nchart_studio.plotly module instead. \n",
     "output_type": "error",
     "traceback": [
      "\u001b[0;31m---------------------------------------------------------------------------\u001b[0m",
      "\u001b[0;31mImportError\u001b[0m                               Traceback (most recent call last)",
      "\u001b[0;32m<ipython-input-2-2ccdc9103c55>\u001b[0m in \u001b[0;36m<module>\u001b[0;34m\u001b[0m\n\u001b[1;32m     26\u001b[0m \u001b[0;32mimport\u001b[0m \u001b[0mpandas\u001b[0m \u001b[0;32mas\u001b[0m \u001b[0mpd\u001b[0m\u001b[0;34m\u001b[0m\u001b[0;34m\u001b[0m\u001b[0m\n\u001b[1;32m     27\u001b[0m \u001b[0;34m\u001b[0m\u001b[0m\n\u001b[0;32m---> 28\u001b[0;31m \u001b[0;32mimport\u001b[0m \u001b[0mplotly\u001b[0m\u001b[0;34m.\u001b[0m\u001b[0mplotly\u001b[0m \u001b[0;32mas\u001b[0m \u001b[0mpy\u001b[0m\u001b[0;34m\u001b[0m\u001b[0;34m\u001b[0m\u001b[0m\n\u001b[0m\u001b[1;32m     29\u001b[0m \u001b[0;32mimport\u001b[0m \u001b[0mplotly\u001b[0m\u001b[0;34m.\u001b[0m\u001b[0mgraph_objs\u001b[0m \u001b[0;32mas\u001b[0m \u001b[0mgo\u001b[0m\u001b[0;34m\u001b[0m\u001b[0;34m\u001b[0m\u001b[0m\n\u001b[1;32m     30\u001b[0m \u001b[0;34m\u001b[0m\u001b[0m\n",
      "\u001b[0;32m~/anaconda3/lib/python3.7/site-packages/plotly/plotly/__init__.py\u001b[0m in \u001b[0;36m<module>\u001b[0;34m\u001b[0m\n\u001b[1;32m      2\u001b[0m \u001b[0;32mfrom\u001b[0m \u001b[0m_plotly_future_\u001b[0m \u001b[0;32mimport\u001b[0m \u001b[0m_chart_studio_error\u001b[0m\u001b[0;34m\u001b[0m\u001b[0;34m\u001b[0m\u001b[0m\n\u001b[1;32m      3\u001b[0m \u001b[0;34m\u001b[0m\u001b[0m\n\u001b[0;32m----> 4\u001b[0;31m \u001b[0m_chart_studio_error\u001b[0m\u001b[0;34m(\u001b[0m\u001b[0;34m\"plotly\"\u001b[0m\u001b[0;34m)\u001b[0m\u001b[0;34m\u001b[0m\u001b[0;34m\u001b[0m\u001b[0m\n\u001b[0m",
      "\u001b[0;32m~/anaconda3/lib/python3.7/site-packages/_plotly_future_/__init__.py\u001b[0m in \u001b[0;36m_chart_studio_error\u001b[0;34m(submodule)\u001b[0m\n\u001b[1;32m     47\u001b[0m \u001b[0mchart_studio\u001b[0m\u001b[0;34m.\u001b[0m\u001b[0;34m{\u001b[0m\u001b[0msubmodule\u001b[0m\u001b[0;34m}\u001b[0m \u001b[0mmodule\u001b[0m \u001b[0minstead\u001b[0m\u001b[0;34m.\u001b[0m\u001b[0;34m\u001b[0m\u001b[0;34m\u001b[0m\u001b[0m\n\u001b[1;32m     48\u001b[0m \"\"\".format(\n\u001b[0;32m---> 49\u001b[0;31m             \u001b[0msubmodule\u001b[0m\u001b[0;34m=\u001b[0m\u001b[0msubmodule\u001b[0m\u001b[0;34m\u001b[0m\u001b[0;34m\u001b[0m\u001b[0m\n\u001b[0m\u001b[1;32m     50\u001b[0m         )\n\u001b[1;32m     51\u001b[0m     )\n",
      "\u001b[0;31mImportError\u001b[0m: \nThe plotly.plotly module is deprecated,\nplease install the chart-studio package and use the\nchart_studio.plotly module instead. \n"
     ]
    }
   ],
   "source": [
    "import sys\n",
    "import os\n",
    "\n",
    "sys.path.insert(\n",
    "    0,\n",
    "    os.path.join(\n",
    "        os.environ[\"PROJ_irox\"],\n",
    "        \"workflow\",\n",
    "        ),\n",
    "    )\n",
    "\n",
    "sys.path.insert(\n",
    "    0,\n",
    "    os.path.join(\n",
    "        os.environ[\"PROJ_irox\"],\n",
    "        \"data\",\n",
    "        ),\n",
    "    )\n",
    "\n",
    "from an_data_processing import load_df\n",
    "\n",
    "###########################################################\n",
    "\n",
    "# Python Modules\n",
    "import numpy as np\n",
    "import pandas as pd\n",
    "\n",
    "import plotly.plotly as py\n",
    "import plotly.graph_objs as go\n",
    "\n",
    "# import colorlover as cl\n",
    "from IPython.display import HTML\n",
    "\n",
    "# My Modules\n",
    "from orr_reaction.orr_fed_plot import ORR_Free_E_Plot\n",
    "from orr_reaction.orr_fed_plot import Scaling_Relations_Plot\n",
    "from orr_reaction.orr_fed_plot import Volcano_Plot\n",
    "\n",
    "# Project Data\n",
    "from proj_data_irox import (\n",
    "    surface_energies,\n",
    "    smart_format_dict,\n",
    "    smart_format_dict_volcano,\n",
    "\n",
    "    irox_bulk_color_map,\n",
    "    color_palettes,\n",
    "    system_color_map,\n",
    "\n",
    "    max_surf_e,\n",
    "    min_surf_e,\n",
    "    proj_dir_name,\n",
    "    smart_format_dict,\n",
    "    \n",
    "    gas_molec_dict,\n",
    "    scaling_dict_ideal,\n",
    "    exp_irox_lim_pot,\n",
    "    data_dir,\n",
    "    \n",
    "    groupby_props,\n",
    "    )"
   ]
  },
  {
   "cell_type": "markdown",
   "metadata": {},
   "source": [
    "# Script Inputs"
   ]
  },
  {
   "cell_type": "code",
   "execution_count": null,
   "metadata": {},
   "outputs": [],
   "source": [
    "save_plot = True\n",
    "plot_exp_traces = True\n",
    "\n",
    "plot_range = {\n",
    "    \"y\": [2., 1.4],\n",
    "    \"x\": [1., 2.],\n",
    "    }"
   ]
  },
  {
   "cell_type": "markdown",
   "metadata": {
    "toc-hr-collapsed": true
   },
   "source": [
    "# Read and Process Data Frame"
   ]
  },
  {
   "cell_type": "markdown",
   "metadata": {},
   "source": [
    "## Read dataframe from file"
   ]
  },
  {
   "cell_type": "code",
   "execution_count": null,
   "metadata": {},
   "outputs": [],
   "source": [
    "%%capture\n",
    "\n",
    "df_pourbaix, df_ads, df_surf = load_df(\n",
    "    from_file=False,\n",
    "    root_dir=data_dir,\n",
    "    data_dir=data_dir,   \n",
    "    file_name=\"df_master.pickle\",\n",
    "    process_df=True,\n",
    "    )\n",
    "\n",
    "df_m = df_ads"
   ]
  },
  {
   "cell_type": "markdown",
   "metadata": {},
   "source": [
    "# ORR_Free_E_Plot Instance"
   ]
  },
  {
   "cell_type": "code",
   "execution_count": null,
   "metadata": {},
   "outputs": [],
   "source": [
    "ORR_PLT = ORR_Free_E_Plot(\n",
    "    free_energy_df=None,\n",
    "    state_title=\"adsorbate\",\n",
    "    free_e_title=\"ads_e\",\n",
    "    smart_format=smart_format_dict,\n",
    "\n",
    "#     bias=0.,\n",
    "    color_list=None,   \n",
    "    show_H_e_pairs_annotations=True,\n",
    "    show_legend=True,\n",
    "    rxn_type=\"OER\",\n",
    "    )"
   ]
  },
  {
   "cell_type": "markdown",
   "metadata": {},
   "source": [
    "# Processing Data"
   ]
  },
  {
   "cell_type": "code",
   "execution_count": null,
   "metadata": {},
   "outputs": [],
   "source": [
    "prop_name_list = [\n",
    "    'bulk_system',\n",
    "#     'coverage',\n",
    "    'coverage_type',\n",
    "    'facet',\n",
    "    'surface_type',\n",
    "    ]\n",
    "\n",
    "grouped = df_m.groupby(groupby_props)\n",
    "\n",
    "for i_ind, (name, group) in enumerate(grouped):\n",
    "    df_i = group\n",
    "\n",
    "    if not any([np.isnan(i) for i in df_i.elec_energy.tolist()]):        \n",
    "        ORR_PLT.add_series(\n",
    "            df_i,\n",
    "            plot_mode=\"all\",\n",
    "            overpotential_type=\"OER\",\n",
    "            property_key_list=prop_name_list,\n",
    "            add_overpot=False,\n",
    "            )"
   ]
  },
  {
   "cell_type": "code",
   "execution_count": null,
   "metadata": {},
   "outputs": [],
   "source": [
    "scaling_dict_fitted = {\n",
    "    \n",
    "    \"ooh\": {\n",
    "        \"m\": 1.,\n",
    "        \"b\": 3.1,\n",
    "        },\n",
    "    \"o\": {\n",
    "        \"m\": 2.,\n",
    "        \"b\": 0,\n",
    "        },\n",
    "    \"oh\": {\n",
    "        \"m\": 1.,\n",
    "        \"b\": 0.,\n",
    "        },\n",
    "    }\n",
    "\n",
    "scaling_dict_fitted = {\n",
    "    \n",
    "    \"ooh\": {\n",
    "        \"m\": 0.976,\n",
    "        \"b\": 3.09,\n",
    "        },\n",
    "    \"o\": {\n",
    "        \"m\": 1.30,\n",
    "        \"b\": 1.19,\n",
    "        },\n",
    "    \"oh\": {\n",
    "        \"m\": 1.,\n",
    "        \"b\": 0.,\n",
    "        },\n",
    "    }\n",
    "\n",
    "# intercept_i:  3.0923565821584003\n",
    "# slope_i:  0.9756829157533189\n",
    "\n",
    "# Scaling fit for  o\n",
    "# intercept_i:  1.3025046731746635\n",
    "# slope_i:  1.1905482253235011"
   ]
  },
  {
   "cell_type": "markdown",
   "metadata": {
    "toc-hr-collapsed": true
   },
   "source": [
    "# Experimental IrOx Activity Traces"
   ]
  },
  {
   "cell_type": "markdown",
   "metadata": {},
   "source": [
    "## Horizontal data traces"
   ]
  },
  {
   "cell_type": "code",
   "execution_count": null,
   "metadata": {},
   "outputs": [],
   "source": [
    "trace_iro3 = go.Scatter(\n",
    "    x=plot_range[\"x\"],\n",
    "    y=2*[exp_irox_lim_pot[\"iro3\"][\"lim_pot\"]],\n",
    "    mode=\"lines\",\n",
    "    name=\"lines\",\n",
    "    line={\n",
    "        \"color\": exp_irox_lim_pot[\"iro3\"][\"line_color\"],\n",
    "        \"width\": 1,\n",
    "        \"dash\": \"dash\",\n",
    "        },\n",
    "    )\n",
    "\n",
    "trace_iro2 = go.Scatter(\n",
    "    x=plot_range[\"x\"],\n",
    "    y=2*[exp_irox_lim_pot[\"iro2\"][\"lim_pot\"]],\n",
    "    mode=\"lines\",\n",
    "    name=\"lines\",\n",
    "    line={\n",
    "        \"color\": exp_irox_lim_pot[\"iro2\"][\"line_color\"],\n",
    "        \"width\": 1,\n",
    "        \"dash\": \"dash\",\n",
    "        },\n",
    "    )\n",
    "\n",
    "# trace_irox = go.Scatter(\n",
    "#     x=plot_range[\"x\"],\n",
    "#     y=2*[exp_irox_lim_pot[\"irox\"][\"lim_pot\"]],\n",
    "#     mode=\"lines\",\n",
    "#     name=\"lines\",\n",
    "#     line={\n",
    "#         \"color\": exp_irox_lim_pot[\"irox\"][\"line_color\"],\n",
    "#         \"width\": 1,\n",
    "#         \"dash\": \"dash\",\n",
    "#         },\n",
    "#     )"
   ]
  },
  {
   "cell_type": "markdown",
   "metadata": {},
   "source": [
    "## Exp. IrOx Annotations"
   ]
  },
  {
   "cell_type": "code",
   "execution_count": null,
   "metadata": {},
   "outputs": [],
   "source": [
    "annotations=[\n",
    "    dict(\n",
    "        x=1,\n",
    "        y=exp_irox_lim_pot[\"iro3\"][\"lim_pot\"],\n",
    "        xref='x',\n",
    "        yref='y',\n",
    "        text='IrO<sub>3</sub> (@1mA/cm<sup>2</sup>)',\n",
    "        showarrow=False,\n",
    "        xanchor=\"left\",\n",
    "        yshift=9,\n",
    "        ),\n",
    "\n",
    "    dict(\n",
    "        x=1,\n",
    "        y=exp_irox_lim_pot[\"iro2\"][\"lim_pot\"],\n",
    "        xref='x',\n",
    "        yref='y',\n",
    "        text='IrO<sub>2</sub> (@1mA/cm<sup>2</sup>)',\n",
    "        showarrow=False,\n",
    "        xanchor=\"left\",\n",
    "        yshift=9,\n",
    "        ),\n",
    "\n",
    "#     dict(\n",
    "#         x=1,\n",
    "#         y=exp_irox_lim_pot[\"irox\"][\"lim_pot\"],\n",
    "#         xref='x',\n",
    "#         yref='y',\n",
    "#         text='IrO<sub>x</sub>',\n",
    "#         showarrow=False,\n",
    "#         xanchor=\"left\",\n",
    "#         yshift=7,\n",
    "#         ),\n",
    "\n",
    "    ]"
   ]
  },
  {
   "cell_type": "markdown",
   "metadata": {},
   "source": [
    "# Volcano Plot"
   ]
  },
  {
   "cell_type": "code",
   "execution_count": null,
   "metadata": {},
   "outputs": [],
   "source": [
    "VP = Volcano_Plot(\n",
    "    ORR_PLT,\n",
    "    x_ax_species=\"o-oh\",  # 'o-oh' or 'oh'\n",
    "    smart_format_dict=smart_format_dict,\n",
    "    plot_range=plot_range,\n",
    "    )\n",
    "\n",
    "VP.create_volcano_relations_plot()\n",
    "\n",
    "volcano_legs_data = VP.create_volcano_lines(\n",
    "    gas_molec_dict=gas_molec_dict,\n",
    "    scaling_dict=scaling_dict_ideal,\n",
    "    plot_all_legs=False,\n",
    "    plot_min_max_legs=True,\n",
    "    trace_priority=\"bottom\",  # 'top' or 'bottom'\n",
    "    )\n",
    "\n",
    "volcano_legs_data_tmp = VP.create_volcano_lines(\n",
    "    gas_molec_dict=gas_molec_dict,\n",
    "    scaling_dict=scaling_dict_fitted,\n",
    "    plot_all_legs=False,\n",
    "    plot_min_max_legs=True,\n",
    "    trace_priority=\"bottom\",  # 'top' or 'bottom'\n",
    "    legs_to_plot=[\n",
    "#         \"o2_to_ooh\",\n",
    "        \"ooh_to_o\",\n",
    "        \"o_to_oh\",\n",
    "#         \"oh_to_h2o\",\n",
    "        ],\n",
    "    line_color=\"grey\"\n",
    "    )\n",
    "\n",
    "data = volcano_legs_data + volcano_legs_data_tmp + VP.data_points\n",
    "\n",
    "if plot_exp_traces:\n",
    "    data.insert(0, trace_iro3)\n",
    "    data.insert(0, trace_iro2)\n",
    "#     data.insert(0, trace_irox)"
   ]
  },
  {
   "cell_type": "code",
   "execution_count": null,
   "metadata": {},
   "outputs": [],
   "source": [
    "if save_plot:\n",
    "    save_dir = proj_dir_name\n",
    "else:\n",
    "    save_dir = \"__temp__\""
   ]
  },
  {
   "cell_type": "code",
   "execution_count": null,
   "metadata": {},
   "outputs": [],
   "source": [
    "layout = VP.get_plotly_layout(\n",
    "    showlegend=True,\n",
    "    width=3. * 9. * 37.795275591,\n",
    "    height=4.5 * 9. * 37.795275591)\n",
    "layout[\"annotations\"] = annotations\n",
    "\n",
    "fig = dict(data=data, layout=layout)\n",
    "# py.iplot(fig, filename=os.path.join(save_dir, \"pl_irox_volcano_plotly_large_low_energy_ooh\"))\n",
    "py.iplot(fig, filename=os.path.join(save_dir, \"oer_volcano\", \"pl_irox_volcano_plotly_large_default_ooh\"))"
   ]
  },
  {
   "cell_type": "code",
   "execution_count": null,
   "metadata": {},
   "outputs": [],
   "source": [
    "layout = VP.get_plotly_layout(\n",
    "    showlegend=False,\n",
    "\n",
    "    width=1.45 * 7.964 * 37.795275591,\n",
    "#     width=0.3 * 7.964 * 37.795275591,\n",
    "\n",
    "    height=1.5 * 5.6002 * 37.795275591)\n",
    "layout[\"annotations\"] = annotations\n",
    "layout[\"xaxis\"][\"title\"] = \"\"\n",
    "layout[\"yaxis\"][\"title\"] = \"\"\n",
    "\n",
    "fig = dict(data=data, layout=layout)\n",
    "py.iplot(fig, filename=os.path.join(save_dir, \"oer_volcano\", \"pl_irox_volcano_plotly_default_ooh\"))"
   ]
  },
  {
   "cell_type": "code",
   "execution_count": null,
   "metadata": {},
   "outputs": [],
   "source": [
    "layout[\"xaxis\"][\"title\"] = \"\""
   ]
  },
  {
   "cell_type": "raw",
   "metadata": {},
   "source": [
    "\n",
    "\n",
    "\n",
    "\n",
    "\n",
    "\n",
    "\n",
    "\n"
   ]
  },
  {
   "cell_type": "code",
   "execution_count": null,
   "metadata": {},
   "outputs": [],
   "source": [
    "df_m[\n",
    "    (df_m[\"bulk_system\"] == \"IrO3_rutile-like\") &\n",
    "    (df_m[\"adsorbate\"] == \"ooh\") &\n",
    "#     (df_m[\"\"] == \"\") &\n",
    "    [True for i in range(len(df_m))]\n",
    "    ]"
   ]
  },
  {
   "cell_type": "code",
   "execution_count": null,
   "metadata": {},
   "outputs": [],
   "source": [
    "assert False"
   ]
  },
  {
   "cell_type": "code",
   "execution_count": null,
   "metadata": {},
   "outputs": [],
   "source": [
    "from ase import io"
   ]
  },
  {
   "cell_type": "code",
   "execution_count": null,
   "metadata": {},
   "outputs": [],
   "source": [
    "row_i = df_m[\n",
    "    (df_m[\"bulk_system\"] == \"IrO3\") &\n",
    "    (df_m[\"coverage_type\"] == \"o_covered\") &\n",
    "    (df_m[\"facet\"] == \"100\") &\n",
    "    (df_m[\"adsorbate\"] == \"o\") &\n",
    "    [True for i in range(len(df_m))]\n",
    "    ].iloc[0]\n",
    "\n",
    "atoms_i = row_i[\"atoms_object\"][-1]\n",
    "\n",
    "io.write(\"iro3_o-covered_100_o.traj\", atoms_i)"
   ]
  },
  {
   "cell_type": "code",
   "execution_count": null,
   "metadata": {},
   "outputs": [],
   "source": [
    "row_i = df_m[\n",
    "    (df_m[\"bulk_system\"] == \"IrO3\") &\n",
    "    (df_m[\"coverage_type\"] == \"o_covered\") &\n",
    "    (df_m[\"facet\"] == \"110\") &\n",
    "    (df_m[\"adsorbate\"] == \"o\") &\n",
    "    [True for i in range(len(df_m))]\n",
    "    ].iloc[0]\n",
    "\n",
    "atoms_i = row_i[\"atoms_object\"][-1]\n",
    "\n",
    "io.write(\"iro3_o-covered_110_o.traj\", atoms_i)"
   ]
  },
  {
   "cell_type": "code",
   "execution_count": null,
   "metadata": {},
   "outputs": [],
   "source": [
    "row_i = df_m[\n",
    "    (df_m[\"bulk_system\"] == \"IrO3_rutile-like\") &\n",
    "    (df_m[\"coverage_type\"] == \"o_covered\") &\n",
    "    (df_m[\"facet\"] == \"110\") &\n",
    "    (df_m[\"adsorbate\"] == \"o\") &\n",
    "    [True for i in range(len(df_m))]\n",
    "    ].iloc[0]\n",
    "\n",
    "atoms_i = row_i[\"atoms_object\"][-1]\n",
    "\n",
    "io.write(\"iro3_rutile-like_o-covered_110_o.traj\", atoms_i)"
   ]
  },
  {
   "cell_type": "code",
   "execution_count": null,
   "metadata": {},
   "outputs": [],
   "source": [
    "row_i = df_m[\n",
    "    (df_m[\"bulk_system\"] == \"IrO3_battery\") &\n",
    "    (df_m[\"coverage_type\"] == \"o_covered\") &\n",
    "    (df_m[\"facet\"] == \"010\") &\n",
    "    (df_m[\"adsorbate\"] == \"o\") &\n",
    "    [True for i in range(len(df_m))]\n",
    "    ].iloc[0]\n",
    "\n",
    "atoms_i = row_i[\"atoms_object\"][-1]\n",
    "atoms_i\n",
    "io.write(\"iro3_rutile-like_o-covered_110_o.traj\", atoms_i)"
   ]
  },
  {
   "cell_type": "code",
   "execution_count": null,
   "metadata": {},
   "outputs": [],
   "source": [
    "df_i = df_m[\n",
    "    (df_m[\"bulk_system\"] == \"IrO3_battery\") &\n",
    "    (df_m[\"coverage_type\"] == \"o_covered\") &\n",
    "    (df_m[\"facet\"] == \"010\") &\n",
    "    (df_m[\"adsorbate\"] == \"o\") &\n",
    "    (df_m[\"surface_type\"] == \"a\") &\n",
    "    [True for i in range(len(df_m))]\n",
    "    ]\n",
    "\n",
    "row_i = df_i.iloc[0]\n",
    "\n",
    "atoms_i = row_i[\"atoms_object\"][-1]\n",
    "\n",
    "io.write(\"iro3-battery_o-covered_010_o_surface-type-a.traj\", atoms_i)"
   ]
  },
  {
   "cell_type": "code",
   "execution_count": null,
   "metadata": {},
   "outputs": [],
   "source": [
    "row_i = df_m[\n",
    "    (df_m[\"bulk_system\"] == \"IrO3\") &\n",
    "    (df_m[\"coverage_type\"] == \"o_covered\") &\n",
    "    (df_m[\"facet\"] == \"211\") &\n",
    "    (df_m[\"adsorbate\"] == \"o\") &\n",
    "    [True for i in range(len(df_m))]\n",
    "    ].iloc[0]\n",
    "\n",
    "atoms_i = row_i[\"atoms_object\"][-1]\n",
    "atoms_i\n",
    "io.write(\"iro3_o-covered_211_o.traj\", atoms_i)"
   ]
  },
  {
   "cell_type": "code",
   "execution_count": null,
   "metadata": {},
   "outputs": [],
   "source": [
    "row_i = df_m[\n",
    "    (df_m[\"bulk_system\"] == \"IrO2\") &\n",
    "    (df_m[\"coverage_type\"] == \"o_covered\") &\n",
    "    (df_m[\"facet\"] == \"100\") &\n",
    "    (df_m[\"adsorbate\"] == \"o\") &\n",
    "    [True for i in range(len(df_m))]\n",
    "    ].iloc[0]\n",
    "\n",
    "atoms_i = row_i[\"atoms_object\"][-1]\n",
    "atoms_i\n",
    "io.write(\"iro2_o-covered_100_o.traj\", atoms_i)"
   ]
  },
  {
   "cell_type": "code",
   "execution_count": null,
   "metadata": {},
   "outputs": [],
   "source": [
    "# df_dict = {}\n",
    "#     df_dict[\"_\".join(list(name))] = df_i\n",
    "#     # Choosing the most stable *OOH species\n",
    "#     # ###################################################\n",
    "#     species_j = \"ooh\"\n",
    "#     df_wo_species = df_i[df_i[\"adsorbate\"] != species_j]\n",
    "#     df_ij = df_i[df_i[\"adsorbate\"] == species_j]\n",
    "#     df_final = df_wo_species.append(\n",
    "#         df_ij.loc[df_ij[\"ads_e\"].idxmin()]\n",
    "#         )\n",
    "#     df_final\n",
    "#     df_i = df_final\n",
    "#     # ###################################################\n",
    "#     sys_i = df_i.iloc[0][\"bulk_system\"] + \"_\" + df_i.iloc[0][\"facet\"]\n",
    "#     color_i = system_color_map[sys_i]\n",
    "#             color=color_i,\n",
    "#             opt_name=df_i[\"name_i\"].tolist()[0],\n",
    "\n",
    "# df_m.loc[df_m[\"coverage_type\"] == \"O-4_OH-0\", \"coverage_type\"] = \"o_covered\"\n",
    "# df_m.loc[df_m[\"coverage_type\"] == \"O-2_OH-0\", \"coverage_type\"] = \"o_covered_2\"\n",
    "# df_m.loc[df_m[\"coverage_type\"] == \"O-2_OH-2\", \"coverage_type\"] = \"h_covered\"\n",
    "\n",
    "# df_m = df_m[df_m[\"ooh_direction\"] != \"deprotonated\"]"
   ]
  }
 ],
 "metadata": {
  "kernelspec": {
   "display_name": "Python 3",
   "language": "python",
   "name": "python3"
  },
  "language_info": {
   "codemirror_mode": {
    "name": "ipython",
    "version": 3
   },
   "file_extension": ".py",
   "mimetype": "text/x-python",
   "name": "python",
   "nbconvert_exporter": "python",
   "pygments_lexer": "ipython3",
   "version": "3.7.3"
  },
  "toc-autonumbering": true
 },
 "nbformat": 4,
 "nbformat_minor": 4
}
