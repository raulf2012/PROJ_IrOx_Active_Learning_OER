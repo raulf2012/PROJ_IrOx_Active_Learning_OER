{
 "cells": [
  {
   "cell_type": "markdown",
   "metadata": {},
   "source": [
    "# Import Modules"
   ]
  },
  {
   "cell_type": "code",
   "execution_count": 1,
   "metadata": {},
   "outputs": [],
   "source": [
    "%%capture\n",
    "%load_ext autoreload\n",
    "%autoreload 2"
   ]
  },
  {
   "cell_type": "code",
   "execution_count": 2,
   "metadata": {},
   "outputs": [
    {
     "name": "stdout",
     "output_type": "stream",
     "text": [
      "Divisor is Energy class instance!!!\n",
      "Divisor is Energy class instance!!!\n"
     ]
    }
   ],
   "source": [
    "import sys\n",
    "import os\n",
    "\n",
    "sys.path.insert(\n",
    "    0,\n",
    "    os.path.join(\n",
    "        os.environ[\"PROJ_irox\"],\n",
    "        \"scripts/01_Michal_OER_Plot_Script\"))\n",
    "\n",
    "sys.path.insert(\n",
    "    0,\n",
    "    os.path.join(\n",
    "        os.environ[\"PROJ_irox\"],\n",
    "        \"data\"))\n",
    "\n",
    "from an_data_processing import load_df\n",
    "from sc_OER_contour_plot_IrOx_vers2 import create_OER_plots\n",
    "\n",
    "###########################################################\n",
    "\n",
    "# Python Modules\n",
    "import numpy as np\n",
    "import pandas as pd\n",
    "\n",
    "import plotly as py\n",
    "import plotly.graph_objs as go\n",
    "\n",
    "import colorlover as cl\n",
    "from IPython.display import HTML\n",
    "\n",
    "# My Modules\n",
    "from orr_reaction.orr_fed_plot import ORR_Free_E_Plot\n",
    "\n",
    "# Project Data\n",
    "from proj_data_irox import (\n",
    "    surface_energies,\n",
    "    smart_format_dict_volcano,\n",
    "\n",
    "    color_palettes,\n",
    "    system_color_map,\n",
    "\n",
    "    max_surf_e,\n",
    "    min_surf_e,\n",
    "    data_dir,\n",
    "    )\n",
    "\n",
    "smart_format_dict = smart_format_dict_volcano"
   ]
  },
  {
   "cell_type": "markdown",
   "metadata": {},
   "source": [
    "# Script Inputs"
   ]
  },
  {
   "cell_type": "code",
   "execution_count": 3,
   "metadata": {},
   "outputs": [],
   "source": [
    "bias=0."
   ]
  },
  {
   "cell_type": "code",
   "execution_count": 4,
   "metadata": {},
   "outputs": [],
   "source": [
    "annotation_placement_dict = {\n",
    "    \"100 , O-2 OH-0 , IrO3 rutile-like\": [(26, 10)],\n",
    "    \"100 , O-2 OH-2 , IrO3 rutile-like\": [(26, 0)],\n",
    "    \"100 , O-4 OH-0 , IrO3 rutile-like\": [(22, -22)],\n",
    "\n",
    "    \"110 , h covered , IrO3 rutile-like\": [(-15, 15)],\n",
    "    \"110 , o covered , IrO3 rutile-like\": [(20, 10)],\n",
    "   \n",
    "#     \"100 , h covered , IrO2\": [(-10, 10)],\n",
    "#     \"100 , h covered , IrO3\": [(-10, 10)],\n",
    "#     \"100 , o covered , IrO2\": [(-10, 10)],\n",
    "#     \"100 , o covered , IrO3\": [(-10, 10)],\n",
    "\n",
    "    \"110 , h covered , IrO2\": [(4, 14)],\n",
    "#     \"110 , o covered , IrO2\": [(-10, 10)],\n",
    "    \n",
    "    \"110 , h covered , IrO3\": [(4, -22)],\n",
    "    \"110 , o covered , IrO3\": [(28, 2)],\n",
    "    \"111 , o covered , IrO3\": [(0, -24)],\n",
    "    \"211 , h covered , IrO3\": [(-2, -10)],\n",
    "    \"211 , o covered , IrO3\": [(8, 16)],\n",
    "    }\n",
    "\n",
    "ignore_data_point_list = [\n",
    "    # \"100 , O-2 OH-0 , IrO3 rutile-like\",\n",
    "    # \"100 , O-2 OH-2 , IrO3 rutile-like\",\n",
    "    # \"100 , O-4 OH-0 , IrO3 rutile-like\",\n",
    "\n",
    "    # \"110 , h covered , IrO3 rutile-like\",\n",
    "    # \"110 , o covered , IrO3 rutile-like\",\n",
    "\n",
    "    \"110 , h covered , IrO2\",\n",
    "    # \"110 , o covered , IrO2\",\n",
    "    \"100 , h covered , IrO2\",\n",
    "    # \"100 , o covered , IrO2\",\n",
    "\n",
    "    # \"110 , h covered , IrO3\",\n",
    "    # \"110 , o covered , IrO3\",\n",
    "    # \"100 , o covered , IrO3\",\n",
    "    \"100 , h covered , IrO3\",\n",
    "    # \"111 , o covered , IrO3\",\n",
    "    \"211 , h covered , IrO3\",\n",
    "    # \"211 , o covered , IrO3\",\n",
    "    ]"
   ]
  },
  {
   "cell_type": "markdown",
   "metadata": {},
   "source": [
    "# Load Data"
   ]
  },
  {
   "cell_type": "code",
   "execution_count": 5,
   "metadata": {},
   "outputs": [
    {
     "name": "stdout",
     "output_type": "stream",
     "text": [
      "Attempting to load df from pickle\n"
     ]
    }
   ],
   "source": [
    "# dataframe_dir = os.path.join(\n",
    "#     os.environ[\"PROJ_irox\"],\n",
    "#     \"data\",\n",
    "#     )\n",
    "\n",
    "df_pourbaix, df_ads, df_surf = load_df(\n",
    "    from_file=True,\n",
    "    root_dir=data_dir,\n",
    "    data_dir=data_dir,\n",
    "    file_name=\"df_master.pickle\"\n",
    "    )\n",
    "\n",
    "df_m = df_ads\n",
    "df_m = df_m[[not i for i in pd.isna(df_m[\"elec_energy\"].tolist())]]\n",
    "\n",
    "df_m[\"name_i\"] = df_m[\"name_i\"].str.replace(\"_\", \" \")\n",
    "df_m[\"name_i\"] = df_m[\"name_i\"].str.replace(\"|\", \",\")"
   ]
  },
  {
   "cell_type": "markdown",
   "metadata": {},
   "source": [
    "# Methods"
   ]
  },
  {
   "cell_type": "code",
   "execution_count": 6,
   "metadata": {},
   "outputs": [],
   "source": [
    "def make_series_entry_4_Michal_sc(\n",
    "    ORR_series,\n",
    "\n",
    "    size = \"8\",\n",
    "    color1 = \"black\",\n",
    "    color2 = \"green\",\n",
    "    symbol = \"s\",\n",
    "    ):\n",
    "    \"\"\"\n",
    "    \"\"\"\n",
    "    series_i = ORR_series\n",
    "\n",
    "    entry_list = []\n",
    "\n",
    "    energy_list = series_i.energy_lst\n",
    "    energy_list = energy_list[1:-1]\n",
    "\n",
    "    entry_list.extend(energy_list)\n",
    "    entry_list.append(series_i.overpotential_OER)\n",
    "\n",
    "    entry_list.append(series_i.opt_name)\n",
    "    entry_list.append(color1)\n",
    "\n",
    "    tmp = [0.0, 0.08, 1.5]\n",
    "    entry_list.extend(tmp)\n",
    "\n",
    "    entry_list.append(size)\n",
    "    entry_list.append(color2)\n",
    "    entry_list.append(symbol)\n",
    "    \n",
    "    # TEMP\n",
    "    entry_list.append(series_i.properties)\n",
    "    \n",
    "    return(entry_list)\n",
    "\n",
    "def color_scale_interp(\n",
    "    input_num,\n",
    "    max_num,\n",
    "    min_num,\n",
    "    color_mesh_size=80,\n",
    "    hex_mode=True,\n",
    "    ):\n",
    "    \"\"\"\n",
    "    \"\"\"\n",
    "#     cl.scales[\"8\"][\"seq\"][\"Purples\"]\n",
    "\n",
    "    black_white_cs = [\n",
    "        'rgb(0,0,0)',\n",
    "        'rgb(255,255,255)',\n",
    "        ]\n",
    "\n",
    "    black_red_cs = [\n",
    "        'rgb(0,0,0)',\n",
    "        'rgb(255,0,0)',\n",
    "        ]\n",
    "    \n",
    "    color_scale_i = black_red_cs\n",
    "\n",
    "    color_scale_i = cl.scales[\"8\"][\"seq\"][\"Greys\"][::-1]\n",
    "#     color_scale_i = cl.scales[\"8\"][\"seq\"][\"Purples\"]\n",
    "#     color_scale_i = cl.scales['3']['div']['RdYlBu']\n",
    "    \n",
    "    color_scale = cl.interp(\n",
    "        color_scale_i,\n",
    "        color_mesh_size,\n",
    "        )\n",
    "\n",
    "    color_scale = cl.to_rgb(color_scale)\n",
    "    \n",
    "    # Converting RGB string representatino to tuple\n",
    "    color_scale = cl.to_numeric(color_scale)\n",
    "\n",
    "    input_norm = ((input_num - min_num)/ (max_num - min_num))\n",
    "    \n",
    "    cs_index = round(input_norm * len(color_scale)) - 1\n",
    "    if cs_index == -1:\n",
    "        cs_index = 0\n",
    "        \n",
    "    color_out = color_scale[cs_index]\n",
    "    \n",
    "    if hex_mode:\n",
    "        def rgb_to_hex(rgb_tuple):\n",
    "            \"\"\"\n",
    "            \"\"\"\n",
    "            r = int(rgb_tuple[0])\n",
    "            g = int(rgb_tuple[1])\n",
    "            b = int(rgb_tuple[2])\n",
    "\n",
    "            def clamp(x): \n",
    "              return max(0, min(x, 255))\n",
    "\n",
    "            hex_rep = \"#{0:02x}{1:02x}{2:02x}\".format(clamp(r), clamp(g), clamp(b))\n",
    "            return(hex_rep)\n",
    "\n",
    "        color_out = rgb_to_hex(color_out)\n",
    "\n",
    "    \n",
    "    return(color_out)"
   ]
  },
  {
   "cell_type": "markdown",
   "metadata": {},
   "source": [
    "# Plotting"
   ]
  },
  {
   "cell_type": "code",
   "execution_count": 7,
   "metadata": {},
   "outputs": [
    {
     "name": "stdout",
     "output_type": "stream",
     "text": [
      "Not the correct # of steps for H2O2\n",
      "Not the correct # of steps for H2O2\n",
      "Not the correct # of steps for H2O2\n",
      "Not the correct # of steps for H2O2\n",
      "Not the correct # of steps for H2O2\n",
      "Not the correct # of steps for H2O2\n",
      "Not the correct # of steps for H2O2\n",
      "Not the correct # of steps for H2O2\n",
      "Not the correct # of steps for H2O2\n",
      "Not the correct # of steps for H2O2\n",
      "Not the correct # of steps for H2O2\n",
      "Not the correct # of steps for H2O2\n",
      "Not the correct # of steps for H2O2\n",
      "Not the correct # of steps for H2O2\n"
     ]
    }
   ],
   "source": [
    "prop_name_list = [\n",
    "    'bulk_system',\n",
    "    'coverage',\n",
    "    'coverage_type',\n",
    "    'facet',\n",
    "    ]\n",
    "\n",
    "ORR_PLT = ORR_Free_E_Plot(\n",
    "    free_energy_df=None,\n",
    "    state_title=\"adsorbate\",\n",
    "    free_e_title=\"ads_e\",  \n",
    "    bias=bias,\n",
    "    color_list=None,   \n",
    "    show_H_e_pairs_annotations=True,\n",
    "    show_legend=True,\n",
    "    rxn_type=\"OER\",\n",
    "    )\n",
    "\n",
    "grouped = df_m.groupby([\"facet\", \"coverage_type\", \"bulk_system\"])\n",
    "for i_ind, (name, group) in enumerate(grouped):\n",
    "    df_i = group\n",
    "\n",
    "    prop_list_i = {}\n",
    "    for prop_i in prop_name_list:    \n",
    "        first_value = df_i[prop_i].tolist()[0]\n",
    "        all_same_value = all([True if i == first_value else False for i in df_i[prop_i].tolist()])\n",
    "\n",
    "        if all_same_value:\n",
    "            prop_list_i[prop_i] = first_value\n",
    "        else:\n",
    "            prop_list_i[prop_i] = None\n",
    "\n",
    "    if not any([np.isnan(i) for i in df_i.elec_energy.tolist()]):        \n",
    "        ORR_PLT.add_series(\n",
    "            df_i,\n",
    "            plot_mode=\"all\",\n",
    "            opt_name=df_i[\"name_i\"].tolist()[0],\n",
    "            overpotential_type=\"OER\",\n",
    "            system_properties=prop_list_i,\n",
    "            )"
   ]
  },
  {
   "cell_type": "markdown",
   "metadata": {},
   "source": [
    "# Converting ORR instance into form that can be put into Michals script"
   ]
  },
  {
   "cell_type": "code",
   "execution_count": 8,
   "metadata": {},
   "outputs": [],
   "source": [
    "calc_systems = []\n",
    "for series_i in ORR_PLT.series_list:\n",
    "\n",
    "    # **************************************************\n",
    "#     ads_e = series_i.properties['ads_e']\n",
    "    bulk_system = series_i.properties['bulk_system']\n",
    "    coverage = series_i.properties['coverage']\n",
    "    coverage_type = series_i.properties['coverage_type']\n",
    "    facet = series_i.properties['facet']\n",
    "#     job_type = series_i.properties['job_type']\n",
    "    # **************************************************\n",
    "\n",
    "    format_dict = {}\n",
    "    for key_i, value_i in series_i.properties.items():\n",
    "        for format_i in smart_format_dict:\n",
    "            if list(format_i[0])[0] == key_i:\n",
    "                if list(format_i[0].values())[0] == value_i:\n",
    "                    format_dict.update(format_i[1])\n",
    "\n",
    "    color_i = system_color_map[bulk_system + \"_\" + facet]\n",
    "    surf_e_i = surface_energies[bulk_system + \"_\" + facet]\n",
    "    color_2 = color_scale_interp(surf_e_i, max_surf_e, min_surf_e)\n",
    "\n",
    "    entry_i = make_series_entry_4_Michal_sc(\n",
    "        series_i,\n",
    "        size = \"8\",\n",
    "        color1 = color_2,\n",
    "        color2 = color_i,\n",
    "        symbol = format_dict[\"symbol\"],\n",
    "        )\n",
    "\n",
    "    calc_systems.append(entry_i)"
   ]
  },
  {
   "cell_type": "markdown",
   "metadata": {},
   "source": [
    "# Collecting systems for plotting"
   ]
  },
  {
   "cell_type": "code",
   "execution_count": 9,
   "metadata": {},
   "outputs": [],
   "source": [
    "calc_systems_final = []\n",
    "for ind_i, system_i in enumerate(calc_systems):\n",
    "#     print(system_i[4])\n",
    "    if system_i[4] not in ignore_data_point_list:\n",
    "        calc_systems_final.append(system_i)\n",
    "\n",
    "# Ordering the systems list by the bulk material (was disordered before)\n",
    "\n",
    "iro2_list = []\n",
    "iro3_list = []\n",
    "iro3_rl_list = []\n",
    "\n",
    "for ind_i, system_i in enumerate(calc_systems_final):\n",
    "    if \"IrO3 rutile-like\" in system_i[4]:\n",
    "        iro3_rl_list.append(system_i)\n",
    "    elif \"IrO2\" in system_i[4]:\n",
    "        iro2_list.append(system_i)\n",
    "    elif \"IrO3\" in system_i[4]:\n",
    "        iro3_list.append(system_i)\n",
    "\n",
    "# print(len(iro2_list) + len(iro3_list) + len(iro3_rl_list))\n",
    "\n",
    "calc_systems_final = iro2_list + iro3_list + iro3_rl_list"
   ]
  },
  {
   "cell_type": "code",
   "execution_count": 10,
   "metadata": {},
   "outputs": [
    {
     "data": {
      "text/plain": [
       "<Figure size 1838.11x1136.01 with 0 Axes>"
      ]
     },
     "metadata": {},
     "output_type": "display_data"
    }
   ],
   "source": [
    "create_OER_plots(\n",
    "    calc_systems_final,\n",
    "    annotation_placement_dict=annotation_placement_dict,\n",
    "    plots_folder=os.path.join(\n",
    "        os.environ[\"PROJ_irox\"],\n",
    "        \"pl_master_plots/oer_plots\",\n",
    "        ),\n",
    "#     \"../pl_master_plots/oer_plots\",  \n",
    "    )"
   ]
  }
 ],
 "metadata": {
  "kernelspec": {
   "display_name": "Python 3",
   "language": "python",
   "name": "python3"
  },
  "language_info": {
   "codemirror_mode": {
    "name": "ipython",
    "version": 3
   },
   "file_extension": ".py",
   "mimetype": "text/x-python",
   "name": "python",
   "nbconvert_exporter": "python",
   "pygments_lexer": "ipython3",
   "version": "3.6.6"
  }
 },
 "nbformat": 4,
 "nbformat_minor": 2
}
