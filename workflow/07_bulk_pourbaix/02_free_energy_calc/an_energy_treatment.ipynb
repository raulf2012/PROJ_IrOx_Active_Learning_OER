{
 "cells": [
  {
   "cell_type": "markdown",
   "metadata": {},
   "source": [
    "# Bulk Energy Treatment for IrOx Systems\n",
    "___\n",
    "\n",
    "\n",
    "TODO:\n",
    "  * Switch the bulk DFT energies to my numbers"
   ],
   "execution_count": null,
   "outputs": []
  },
  {
   "cell_type": "markdown",
   "metadata": {},
   "source": [
    "# Import Modules"
   ],
   "execution_count": null,
   "outputs": []
  },
  {
   "cell_type": "code",
   "execution_count": null,
   "metadata": {},
   "outputs": [],
   "source": [
    "import os\n",
    "import sys\n",
    "\n",
    "sys.path.insert(0,\n",
    "    os.path.join(\n",
    "        os.environ[\"PROJ_irox\"],\n",
    "        \"data\",\n",
    "        )\n",
    "    )\n",
    "\n",
    "# #############################################################################\n",
    "from energetics.dft_energy import Element_Refs\n",
    "\n",
    "# #############################################################################\n",
    "# Gas phase molecules\n",
    "from proj_data_irox import (\n",
    "    h2o_ref,\n",
    "    zpe_h2o,\n",
    "    cv_h2o,\n",
    "    ts_h2o,\n",
    "\n",
    "    h2_ref,\n",
    "    zpe_h2,\n",
    "    cv_h2,\n",
    "    ts_h2,\n",
    "\n",
    "#     h2o_corr,\n",
    "#     h2_corr,\n",
    "    )\n",
    "\n",
    "# Bulk DFT calculations\n",
    "from proj_data_irox import (\n",
    "    IrO2_ave_regressed_bulk_e,\n",
    "    IrO3_ave_regressed_bulk_e,\n",
    "    IrO3_rutile_like_ave_regressed_bulk_e,\n",
    "    IrO3_battery_bulk_e_dft,    \n",
    "    )"
   ]
  },
  {
   "cell_type": "markdown",
   "metadata": {},
   "source": [
    "# Script Inputs"
   ],
   "execution_count": null,
   "outputs": []
  },
  {
   "cell_type": "code",
   "execution_count": null,
   "metadata": {},
   "outputs": [],
   "source": [
    "kjmol = 96.485\n",
    "T = 298.15\n",
    "\n",
    "convert_dS = T / (1000 * kjmol)"
   ]
  },
  {
   "cell_type": "markdown",
   "metadata": {},
   "source": [
    "# Gas Phase References"
   ],
   "execution_count": null,
   "outputs": []
  },
  {
   "cell_type": "code",
   "execution_count": null,
   "metadata": {},
   "outputs": [],
   "source": [
    "e_h2o_r = h2o_ref\n",
    "e_h2_r = h2_ref\n",
    "\n",
    "h_h2o_r = e_h2o_r + zpe_h2o + cv_h2o\n",
    "h_h2_r = e_h2_r + zpe_h2 + cv_h2\n",
    "\n",
    "g_h2o_r = h_h2o_r + ts_h2o\n",
    "g_h2_r = h_h2_r + ts_h2\n",
    "\n",
    "# #############################################################################\n",
    "Elem_Refs = Element_Refs(\n",
    "    H2O_dict={\n",
    "        \"electronic_e\": e_h2o_r, \"enthalpy_e\": h_h2o_r, \"gibbs_e\": g_h2o_r},\n",
    "    H2_dict={\n",
    "        \"electronic_e\": e_h2_r, \"enthalpy_e\": h_h2_r, \"gibbs_e\": g_h2_r},\n",
    "    oxygen_ref=\"O2\",\n",
    "    hydrogen_ref=\"H2\")\n",
    "\n",
    "oxy_ref, hyd_ref = Elem_Refs.calc_ref_energies()"
   ]
  },
  {
   "cell_type": "code",
   "execution_count": null,
   "metadata": {},
   "outputs": [],
   "source": [
    "print(\"O_ref =\", oxy_ref.enthalpy_e)\n",
    "print(\"H_ref =\", hyd_ref.enthalpy_e)"
   ]
  },
  {
   "cell_type": "markdown",
   "metadata": {
    "toc-hr-collapsed": false
   },
   "source": [
    "# IrOx Energy Treatment"
   ],
   "execution_count": null,
   "outputs": []
  },
  {
   "cell_type": "markdown",
   "metadata": {},
   "source": [
    "## IrOx Energy Quantities"
   ],
   "execution_count": null,
   "outputs": []
  },
  {
   "cell_type": "code",
   "execution_count": null,
   "metadata": {},
   "outputs": [],
   "source": [
    "# IrO2_ave_regressed_bulk_e\n",
    "# IrO3_ave_regressed_bulk_e\n",
    "# IrO3_rutile_like_ave_regressed_bulk_e\n",
    "# IrO3_battery_bulk_e_dft\n",
    "\n",
    "\n",
    "\n",
    "# Ir  #########################################################################\n",
    "e_ir_m = -8.860644725\n",
    "s_ir_metal = 35.5  # exp.\n",
    "\n",
    "\n",
    "\n",
    "# IrO2  #######################################################################\n",
    "# e_iro2 = -7.045317 * 3  # calculated Rutile PBE energy, 600 eV\n",
    "e_iro2 = IrO2_ave_regressed_bulk_e * 3\n",
    "h_iro2 = e_iro2  # Assumping PV term is small and E ~= H\n",
    "\n",
    "dh_iro2_exp = -242.672 / kjmol\n",
    "dg_iro2_exp = -188.386 / kjmol\n",
    "\n",
    "s_iro2_solid = 58.57  # exp.\n",
    "s_iro2_solid_calc_phonon = 0.1485\n",
    "\n",
    "\n",
    "\n",
    "# IrO3  #######################################################################\n",
    "# e_iro3 = -6.442159 * 4  # calculated lowest PBE energy , 600 eV\n",
    "# e_iro3 = -6.492707 * 4  # Taken from Chris's script\n",
    "e_iro3 = IrO3_ave_regressed_bulk_e * 4\n",
    "# e_iro3 = IrO3_rutile_like_ave_regressed_bulk_e * 4\n",
    "\n",
    "h_iro3 = e_iro3  # Assumping PV term is small and E ~= H\n",
    "\n",
    "\n",
    "\n",
    "# IrHO3  ######################################################################\n",
    "e_irho3 = -6.123924 * 5  # calculated lowest PBE energy , 600 eV\n",
    "h_irho3 = e_irho3  # Assumping PV term is small and E ~= H"
   ]
  },
  {
   "cell_type": "code",
   "execution_count": null,
   "metadata": {},
   "outputs": [],
   "source": [
    "# print(S_iro2_solid * convert_dS, S_iro2_solid_calc_phonon)"
   ]
  },
  {
   "cell_type": "markdown",
   "metadata": {},
   "source": [
    "## Ir Metal Fit to Exp. IrO2 Formation E."
   ],
   "execution_count": null,
   "outputs": []
  },
  {
   "cell_type": "code",
   "execution_count": null,
   "metadata": {},
   "outputs": [],
   "source": [
    "h_ir_m_fit = h_iro2 - (2 * -4.1811960) - dh_iro2_exp  # fit to exp dH\n",
    "print(h_ir_m_fit)\n",
    "# h_ir_m_fit = e_iro2 - (2 * -4.6579473) - dh_iro2_exp  # fit to exp dH"
   ]
  },
  {
   "cell_type": "markdown",
   "metadata": {
    "toc-hr-collapsed": true
   },
   "source": [
    "## Calculating dH_f of IrOx Species"
   ],
   "execution_count": null,
   "outputs": []
  },
  {
   "cell_type": "markdown",
   "metadata": {},
   "source": [
    "### IrO2"
   ],
   "execution_count": null,
   "outputs": []
  },
  {
   "cell_type": "code",
   "execution_count": null,
   "metadata": {},
   "outputs": [],
   "source": [
    "dh_iro2 = h_iro2 - (2 * oxy_ref.enthalpy_e + h_ir_m_fit)\n",
    "\n",
    "print(\n",
    "    \"\\n\",\n",
    "    \"IrO2: dH=\", dh_iro2, \" eV\",\n",
    "    \"\\n\",\n",
    "    \"IrO2: dH=\", dh_iro2 / 3, \" eV/atom\",\n",
    "    \"\\n\",\n",
    "    \"IrO2: dH=\", dh_iro2 * kjmol, \" kj/mol\",\n",
    "    \"\\n\",\n",
    "    \"IrO2: dH_exp\", dh_iro2_exp * kjmol, ' kj/mol',\n",
    "    )"
   ]
  },
  {
   "cell_type": "markdown",
   "metadata": {},
   "source": [
    "### IrO3 (\u03b1-AlF3)"
   ],
   "execution_count": null,
   "outputs": []
  },
  {
   "cell_type": "code",
   "execution_count": null,
   "metadata": {},
   "outputs": [],
   "source": [
    "dh_iro3 = h_iro3 - (3 * oxy_ref.enthalpy_e + h_ir_m_fit)\n",
    "\n",
    "print(\n",
    "    \"\\n\",\n",
    "    \"IrO3_a-AlF3: dH=\", dh_iro3, \" eV\",\n",
    "    \"\\n\",\n",
    "    \"IrO3_a-AlF3: dH=\", dh_iro3 / 3, \" eV/atom\",\n",
    "    \"\\n\",\n",
    "    \"IrO3_a-AlF3: dH=\", dh_iro3 * kjmol, \" kj/mol\",\n",
    "    )"
   ]
  },
  {
   "cell_type": "markdown",
   "metadata": {},
   "source": [
    "### IrO3 (rutile-like)"
   ],
   "execution_count": null,
   "outputs": []
  },
  {
   "cell_type": "code",
   "execution_count": null,
   "metadata": {},
   "outputs": [],
   "source": [
    "e_iro3_rutile = IrO3_rutile_like_ave_regressed_bulk_e * 4.\n",
    "h_iro3_rutile = e_iro3_rutile\n",
    "\n",
    "dh_iro3_rutile = h_iro3_rutile - (3 * oxy_ref.enthalpy_e + h_ir_m_fit)\n",
    "\n",
    "print(\n",
    "    \"\\n\",\n",
    "    \"IrO3_rutile: dH=\", dh_iro3_rutile, \" eV\",\n",
    "    \"\\n\",\n",
    "    \"IrO3_rutile: dH=\", dh_iro3_rutile / 3, \" eV/atom\",\n",
    "    \"\\n\",\n",
    "    \"IrO3_rutile: dH=\", dh_iro3_rutile * kjmol, \" kj/mol\",\n",
    "    )"
   ]
  },
  {
   "cell_type": "markdown",
   "metadata": {},
   "source": [
    "### IrO3 (battery)"
   ],
   "execution_count": null,
   "outputs": []
  },
  {
   "cell_type": "code",
   "execution_count": null,
   "metadata": {},
   "outputs": [],
   "source": [
    "e_iro3_battery = IrO3_battery_bulk_e_dft * 4.\n",
    "h_iro3_battery = e_iro3_battery\n",
    "\n",
    "dh_iro3_battery = h_iro3_battery - (3 * oxy_ref.enthalpy_e + h_ir_m_fit)\n",
    "\n",
    "print(\n",
    "    \"\\n\",\n",
    "    \"IrO3_battery: dH=\", dh_iro3_battery, \" eV\",\n",
    "    \"\\n\",\n",
    "    \"IrO3_battery: dH=\", dh_iro3_battery / 3, \" eV/atom\",\n",
    "    \"\\n\",\n",
    "    \"IrO3_battery: dH=\", dh_iro3_battery * kjmol, \" kj/mol\",\n",
    "    )"
   ]
  },
  {
   "cell_type": "markdown",
   "metadata": {},
   "source": [
    "### IrHO3"
   ],
   "execution_count": null,
   "outputs": []
  },
  {
   "cell_type": "code",
   "execution_count": null,
   "metadata": {},
   "outputs": [],
   "source": [
    "dh_irho3 = h_irho3 - (3 * oxy_ref.enthalpy_e + h_ir_m_fit + hyd_ref.enthalpy_e)\n",
    "\n",
    "print(\n",
    "    \"\\n\",\n",
    "    \"IrHO3: dH=\", dh_irho3, \" eV\",\n",
    "    \"\\n\",\n",
    "    \"IrHO3: dH=\", dh_irho3 / 3, \" eV/atom\",\n",
    "    \"\\n\",\n",
    "    \"IrHO3: dH=\", dh_irho3 * kjmol, \" kj/mol\",\n",
    "    )"
   ]
  },
  {
   "cell_type": "markdown",
   "metadata": {
    "toc-hr-collapsed": true
   },
   "source": [
    "## Calculating dG_f of IrOx Species"
   ],
   "execution_count": null,
   "outputs": []
  },
  {
   "cell_type": "code",
   "execution_count": null,
   "metadata": {},
   "outputs": [],
   "source": [
    "s_o2_gas = 205.2"
   ]
  },
  {
   "cell_type": "markdown",
   "metadata": {},
   "source": [
    "### IrO2"
   ],
   "execution_count": null,
   "outputs": []
  },
  {
   "cell_type": "code",
   "execution_count": null,
   "metadata": {},
   "outputs": [],
   "source": [
    "TdS_iro2 = (s_iro2_solid - s_ir_metal - s_o2_gas) * convert_dS\n",
    "#print (S_iro2_solid-S_ir_metal-S_o2_gas)*T/(1000)\n",
    "\n",
    "dg_iro2 = dh_iro2 - TdS_iro2\n",
    "print(\n",
    "    \"\\n\",\n",
    "\n",
    "    'IrO2: dG=',\n",
    "    dg_iro2,\n",
    "    ' eV',\n",
    "    \"\\n\",\n",
    "\n",
    "    'IrO2: dG/3=',\n",
    "    dg_iro2 / 3,\n",
    "    ' eV/atom',\n",
    "    \"\\n\",\n",
    "\n",
    "    'IrO2: dG/3=',\n",
    "    dg_iro2 * kjmol,\n",
    "    ' kj/mol',\n",
    "    \"\\n\",\n",
    "\n",
    "    'IrO2_exp: dG/3=',\n",
    "    dg_iro2_exp * kjmol,\n",
    "    ' kj/mol',\n",
    "    \"\\n\",\n",
    "    )"
   ]
  },
  {
   "cell_type": "markdown",
   "metadata": {},
   "source": [
    "### IrO3 (\u03b1-AlF3)"
   ],
   "execution_count": null,
   "outputs": []
  },
  {
   "cell_type": "code",
   "execution_count": null,
   "metadata": {},
   "outputs": [],
   "source": [
    "factor = 3 / 2  # adjusted to reflect more O in IrO3 vs IrO2\n",
    "TdS_iro3 = (s_iro2_solid * factor - s_ir_metal - 3 / 2 * s_o2_gas) * convert_dS\n",
    "dg_iro3 = dh_iro3 - TdS_iro3\n",
    "\n",
    "print(\n",
    "    \"\\n\",\n",
    "\n",
    "    'IrO3: dG=',\n",
    "    dg_iro3,\n",
    "    ' eV',\n",
    "    \"\\n\",\n",
    "\n",
    "    'IrO3: dG/3=',\n",
    "    dg_iro3 / 3,\n",
    "    ' eV/atom',\n",
    "    \"\\n\",\n",
    "\n",
    "    'IrO3: dG=',\n",
    "    dg_iro3 * kjmol,\n",
    "    ' kj/mol',\n",
    "    \"\\n\",\n",
    "    )"
   ]
  },
  {
   "cell_type": "markdown",
   "metadata": {},
   "source": [
    "### IrO3 (rutile-like)"
   ],
   "execution_count": null,
   "outputs": []
  },
  {
   "cell_type": "code",
   "execution_count": null,
   "metadata": {},
   "outputs": [],
   "source": [
    "factor = 3 / 2  # adjusted to reflect more O in IrO3 vs IrO2\n",
    "TdS_i = (s_iro2_solid * factor - s_ir_metal - 3 / 2 * s_o2_gas) * convert_dS\n",
    "dg_iro3_rutile = dh_iro3_rutile - TdS_i\n",
    "\n",
    "print(\n",
    "    \"\\n\",\n",
    "\n",
    "    'IrO3: dG=',\n",
    "    dg_iro3_rutile,\n",
    "    ' eV',\n",
    "    \"\\n\",\n",
    "\n",
    "    'IrO3: dG/3=',\n",
    "    dg_iro3_rutile / 3,\n",
    "    ' eV/atom',\n",
    "    \"\\n\",\n",
    "\n",
    "    'IrO3: dG=',\n",
    "    dg_iro3_rutile * kjmol,\n",
    "    ' kj/mol',\n",
    "    \"\\n\",\n",
    "    )"
   ]
  },
  {
   "cell_type": "markdown",
   "metadata": {},
   "source": [
    "### IrO3 (battery)"
   ],
   "execution_count": null,
   "outputs": []
  },
  {
   "cell_type": "code",
   "execution_count": null,
   "metadata": {},
   "outputs": [],
   "source": [
    "factor = 3 / 2  # adjusted to reflect more O in IrO3 vs IrO2\n",
    "TdS_i = (s_iro2_solid * factor - s_ir_metal - 3 / 2 * s_o2_gas) * convert_dS\n",
    "dg_iro3_battery = dh_iro3_battery - TdS_i\n",
    "\n",
    "print(\n",
    "    \"\\n\",\n",
    "\n",
    "    'IrO3_battery: dG=',\n",
    "    dg_iro3_battery,\n",
    "    ' eV',\n",
    "    \"\\n\",\n",
    "\n",
    "    'IrO3_battery: dG/3=',\n",
    "    dg_iro3_battery / 3,\n",
    "    ' eV/atom',\n",
    "    \"\\n\",\n",
    "\n",
    "    'IrO3_battery: dG=',\n",
    "    dg_iro3_battery * kjmol,\n",
    "    ' kj/mol',\n",
    "    \"\\n\",\n",
    "    )"
   ]
  },
  {
   "cell_type": "markdown",
   "metadata": {},
   "source": [
    "### IrHO3"
   ],
   "execution_count": null,
   "outputs": []
  },
  {
   "cell_type": "code",
   "execution_count": null,
   "metadata": {},
   "outputs": [],
   "source": [
    "# # Adjusted to reflect more O H in IriHO3 vs. IrO2\n",
    "# # Phonons needs to be calculated\n",
    "\n",
    "# factor = 4 / 2\n",
    "# TdS_irho3 = (S_iro2_solid * factor - S_ir_metal -\n",
    "#     S_o2_gas * 3 / 2 - S_h2_gas / 2) * convert_dS\n",
    "# #TdS_irho3=(-S_o2_gas*3/2-S_h2_gas/2)*convert_dS\n",
    "# dg_irho3 = dh_irho3 - TdS_irho3\n",
    "# print(\n",
    "#     'IrHO3: dG= ',\n",
    "#     dg_irho3,\n",
    "#     ' eV ',\n",
    "#     dg_irho3 / 5,\n",
    "#     dg_irho3 * kjmol,\n",
    "#     ' kjmol',\n",
    "#     )"
   ]
  },
  {
   "cell_type": "markdown",
   "metadata": {},
   "source": [
    "# Final Energies"
   ],
   "execution_count": null,
   "outputs": []
  },
  {
   "cell_type": "code",
   "execution_count": null,
   "metadata": {},
   "outputs": [],
   "source": [
    "final_dict = {\n",
    "    \"Ir\": 0.,\n",
    "    \"IrO2\": dg_iro2,\n",
    "    \"IrO3\": dg_iro3,\n",
    "    \"IrO3_rutile\": dg_iro3_rutile,\n",
    "    \"IrO3_battery\": dg_iro3_battery,\n",
    "    }\n",
    "\n",
    "print(\"ion_dict_solids_expt = \" + str(final_dict))"
   ]
  }
 ],
 "metadata": {
  "kernelspec": {
   "display_name": "Python 3",
   "language": "python",
   "name": "python3"
  },
  "language_info": {
   "codemirror_mode": {
    "name": "ipython",
    "version": 3
   },
   "file_extension": ".py",
   "mimetype": "text/x-python",
   "name": "python",
   "nbconvert_exporter": "python",
   "pygments_lexer": "ipython3",
   "version": "3.6.8"
  },
  "toc-autonumbering": true
 },
 "nbformat": 4,
 "nbformat_minor": 4
}
