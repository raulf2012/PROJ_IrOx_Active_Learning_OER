{
 "cells": [
  {
   "cell_type": "markdown",
   "metadata": {},
   "source": [
    "# Import Modules"
   ],
   "execution_count": null,
   "outputs": []
  },
  {
   "cell_type": "code",
   "execution_count": null,
   "metadata": {},
   "outputs": [],
   "source": [
    "import os\n",
    "import pickle\n",
    "\n",
    "import numpy as np"
   ]
  },
  {
   "cell_type": "code",
   "execution_count": null,
   "metadata": {},
   "outputs": [],
   "source": [
    "duration_long = 1000 * 3\n",
    "duration_short = 800 * 3"
   ]
  },
  {
   "cell_type": "code",
   "execution_count": null,
   "metadata": {},
   "outputs": [],
   "source": [
    "# #############################################################################\n",
    "path_i = os.path.join(\n",
    "    \"out_data\",\n",
    "    \"pourb_fig_0.pickle\")\n",
    "with open(path_i, \"rb\") as fle:\n",
    "    fig_0 = pickle.load(fle)\n",
    "# #############################################################################\n",
    "\n",
    "\n",
    "# #############################################################################\n",
    "path_i = os.path.join(\n",
    "    \"out_data\",\n",
    "    \"pourb_fig_1.pickle\")\n",
    "with open(path_i, \"rb\") as fle:\n",
    "    fig_1 = pickle.load(fle)\n",
    "# #############################################################################"
   ]
  },
  {
   "cell_type": "code",
   "execution_count": null,
   "metadata": {},
   "outputs": [],
   "source": [
    "tmp_x = fig_1.data[2][\"x\"]\n",
    "\n",
    "first_x = tmp_x[0]\n",
    "tmp_x = tmp_x[1:]\n",
    "x_new = np.append(tmp_x, first_x)\n",
    "\n",
    "fig_1.data[2][\"x\"] = x_new\n",
    "\n",
    "\n",
    "\n",
    "tmp_y = fig_1.data[2][\"y\"]\n",
    "\n",
    "first_y = tmp_y[0]\n",
    "tmp_y = tmp_y[1:]\n",
    "y_new = np.append(tmp_y, first_y)\n",
    "\n",
    "fig_1.data[2][\"y\"] = y_new"
   ]
  },
  {
   "cell_type": "code",
   "execution_count": null,
   "metadata": {},
   "outputs": [],
   "source": [
    "x_new = [1.40000000e+01,  1.22371036e-02, -8.88178420e-16,  8.88178420e-16, 1.40000000e+01,  1.40000000e+01]\n",
    "y_new = [0.38893608,      1.4911718 ,      1.49261823,      2.5       ,     2.5       ,      0.38893608]\n",
    "\n",
    "# x_new = [0, 0, 10, 10, 0]\n",
    "# y_new = [4, 6, 6,  4,  4]\n",
    "\n",
    "fig_0.data[6][\"x\"] = x_new\n",
    "fig_0.data[6][\"y\"] = y_new"
   ]
  },
  {
   "cell_type": "code",
   "execution_count": null,
   "metadata": {},
   "outputs": [],
   "source": [
    "# x_new = [1.4000e+01,      1.26107660e+01,  1.77635684e-15,  0.0000e+00,     1.40000000e+01,  1.40000000e+01]\n",
    "# y_new = [0.38893608,      0.498407720000,  1.989000260000,  2.5       ,     2.5           ,  0.38893608]\n",
    "\n",
    "x_new = [1.40000000e+01,  1.22371036e-02, -8.88178420e-16,  8.88178420e-16, 1.40000000e+01,  1.40000000e+01]\n",
    "y_new = [0.38893608,      1.4911718 ,      1.49261823,      2.5       ,     2.5       ,      0.38893608]\n",
    "\n",
    "# x_new = [0, 0, 10, 10, 0]\n",
    "# y_new = [4, 6, 6,  4,  4]\n",
    "\n",
    "fig_1.data[6][\"x\"] = x_new\n",
    "fig_1.data[6][\"y\"] = y_new"
   ]
  },
  {
   "cell_type": "code",
   "execution_count": null,
   "metadata": {},
   "outputs": [],
   "source": [
    "# on_top_traces = []\n",
    "# for trace_i in fig_1.data:\n",
    "#     name = trace_i.name\n",
    "\n",
    "#     if name is not None:\n",
    "#         if \"AlF3\" in name:\n",
    "#             tmp = 42\n",
    "#             on_top_traces.append(trace_i)\n",
    "            \n",
    "\n",
    "# new_data =fig_1.data + tuple(on_top_traces)\n",
    "\n",
    "\n",
    "# fig_1.data = new_data"
   ]
  },
  {
   "cell_type": "code",
   "execution_count": null,
   "metadata": {},
   "outputs": [],
   "source": [
    "fig_data_list = list(fig_1.data)\n",
    "\n",
    "fig_data_list.append(fig_data_list.pop(4)) \n",
    "\n",
    "fig_1.data = tuple(fig_data_list)\n",
    "\n",
    "\n",
    "fig_data_list = list(fig_0.data)\n",
    "\n",
    "fig_data_list.append(fig_data_list.pop(4)) \n",
    "\n",
    "fig_0.data = tuple(fig_data_list)"
   ]
  },
  {
   "cell_type": "code",
   "execution_count": null,
   "metadata": {
    "jupyter": {}
   },
   "outputs": [],
   "source": [
    "import plotly.graph_objs as go\n",
    "\n",
    "\n",
    "def get_layout(\n",
    "    duration_long=1000 * 2,\n",
    "    duration_short=800 * 2,\n",
    "    ):\n",
    "    \"\"\"\n",
    "    \"\"\"\n",
    "    # | - get_layout\n",
    "\n",
    "    # | - updatemenus\n",
    "    updatemenus = [\n",
    "        {\n",
    "            'buttons': [\n",
    "                {\n",
    "                    'args': [\n",
    "                        None,\n",
    "                        {\n",
    "                            'frame': {\n",
    "                                'duration': duration_long,  # TEMP_DURATION\n",
    "                                'redraw': False,\n",
    "                                },\n",
    "                            'fromcurrent': True,\n",
    "                            'transition': {\n",
    "                                'duration': duration_short,  # TEMP_DURATION\n",
    "                                'easing': 'quadratic-in-out',\n",
    "                                }\n",
    "                            }\n",
    "                        ],\n",
    "                    'label': 'Play',\n",
    "                    'method': 'animate'\n",
    "                    },\n",
    "                {\n",
    "                    'args': [\n",
    "                        [None],\n",
    "                        {\n",
    "                            'frame': {\n",
    "                                'duration': 0,\n",
    "                                'redraw': False,\n",
    "                                },\n",
    "                            'mode': 'immediate',\n",
    "                            'transition': {'duration': 0},\n",
    "                            }\n",
    "                        ],\n",
    "                    'label': 'Pause',\n",
    "                    'method': 'animate'\n",
    "                    }\n",
    "                ],\n",
    "            'direction': 'left',\n",
    "            'pad': {'r': 10, 't': 87},\n",
    "            'showactive': False,\n",
    "            'type': 'buttons',\n",
    "            'x': 0.1,\n",
    "            'xanchor': 'right',\n",
    "            'y': 0,\n",
    "            'yanchor': 'top'\n",
    "            }\n",
    "        ]\n",
    "\n",
    "    #__|\n",
    "\n",
    "    layout = go.Layout(\n",
    "        # title='Material Discovery Training',\n",
    "        showlegend=False,\n",
    "        font=dict(\n",
    "            # family='Courier New, monospace',\n",
    "\n",
    "            family='Arial',\n",
    "            size=20,\n",
    "            color='black'\n",
    "            ),\n",
    "\n",
    "        xaxis={\n",
    "            'title': 'Candidate Structures',\n",
    "\n",
    "            # 'range': [0 - 5, len(models_list[0]) + 5],\n",
    "            # 'autorange': False,\n",
    "            'autorange': True,\n",
    "\n",
    "            'showgrid': False,\n",
    "            'zeroline': False,\n",
    "            'showline': True,\n",
    "            'ticks': '',\n",
    "            'showticklabels': True,\n",
    "            'mirror': True,\n",
    "            'linecolor': 'black',\n",
    "\n",
    "            },\n",
    "\n",
    "        yaxis={\n",
    "            'title': 'Formation Energy (eV)',\n",
    "\n",
    "            # 'range': [global_y_min, global_y_max],\n",
    "            # 'range': [-1.5, 2.4],\n",
    "            # 'autorange': False,\n",
    "            'autorange': True,\n",
    "            'fixedrange': False,\n",
    "\n",
    "            'showgrid': False,\n",
    "            'zeroline': True,\n",
    "            'showline': True,\n",
    "            'ticks': '',\n",
    "            'showticklabels': True,\n",
    "            'mirror': True,\n",
    "            'linecolor': 'black',\n",
    "\n",
    "            },\n",
    "\n",
    "        updatemenus=updatemenus,\n",
    "        )\n",
    "\n",
    "    return(layout)\n",
    "    #__|\n",
    "\n",
    "    \n",
    "def get_sliders_init_dict(duration_short):\n",
    "    \"\"\"\n",
    "    \"\"\"\n",
    "    # | - get_sliders_init_dict\n",
    "    sliders_dict = {\n",
    "        # 'active': 0,\n",
    "        'active': 0,\n",
    "        'yanchor': 'top',\n",
    "        'xanchor': 'left',\n",
    "        'currentvalue': {\n",
    "            'font': {'size': 20},\n",
    "            'prefix': 'Loop #:',\n",
    "            'visible': True,\n",
    "            'xanchor': 'right'\n",
    "            },\n",
    "        'transition': {\n",
    "            'duration': duration_short,  # TEMP_DURATION\n",
    "            'easing': 'cubic-in-out'},\n",
    "        'pad': {'b': 10, 't': 50},\n",
    "        'len': 0.8,\n",
    "        'x': 0.1,\n",
    "        'y': 0,\n",
    "        'steps': [],\n",
    "        }\n",
    "\n",
    "    return(sliders_dict)\n",
    "    #__|\n",
    "\n",
    "def get_slider_step_i(i_cnt, duration_short):\n",
    "    \"\"\"\n",
    "    \"\"\"\n",
    "    # | - get_slider_step_i\n",
    "    slider_step_i = {\n",
    "        'args': [\n",
    "            [str(i_cnt)],\n",
    "            {\n",
    "                'frame': {\n",
    "                    'duration': duration_short,  # TEMP_DURATION\n",
    "                    'redraw': False},\n",
    "                'mode': 'immediate',\n",
    "                'transition': {\n",
    "                    'duration': duration_short,  # TEMP_DURATION\n",
    "                    },\n",
    "                },\n",
    "            ],\n",
    "        'label': str(i_cnt),\n",
    "        'method': 'animate',\n",
    "        }\n",
    "\n",
    "    return(slider_step_i)\n",
    "    #__|\n",
    "\n",
    "# TEMP"
   ]
  },
  {
   "cell_type": "code",
   "execution_count": null,
   "metadata": {
    "jupyter": {}
   },
   "outputs": [],
   "source": [
    "layout_anim = get_layout(\n",
    "    duration_long=duration_long,\n",
    "    duration_short=duration_short)\n",
    "sliders_dict = get_sliders_init_dict(duration_short)\n",
    "\n",
    "frames = []; data = []\n",
    "# for i_cnt, df_i in enumerate(df_list):"
   ]
  },
  {
   "cell_type": "code",
   "execution_count": null,
   "metadata": {
    "jupyter": {}
   },
   "outputs": [],
   "source": [
    "fig_0.layout.template = None\n",
    "layout_anim = layout_anim.update(fig_0.layout)"
   ]
  },
  {
   "cell_type": "code",
   "execution_count": null,
   "metadata": {
    "jupyter": {}
   },
   "outputs": [],
   "source": [
    "i_cnt = 0\n",
    "traces_i = fig_0.data\n",
    "# traces_i = get_traces(df_i)\n",
    "\n",
    "# #################################################################\n",
    "if i_cnt == 0: data.extend(traces_i)\n",
    "data_i = []; data_i.extend(traces_i)\n",
    "frame_i = go.Frame(data=data_i, name=str(i_cnt))\n",
    "frames.append(frame_i)\n",
    "slider_step_i = get_slider_step_i(i_cnt, duration_short)\n",
    "sliders_dict['steps'].append(slider_step_i)"
   ]
  },
  {
   "cell_type": "code",
   "execution_count": null,
   "metadata": {
    "jupyter": {}
   },
   "outputs": [],
   "source": [
    "i_cnt = 1\n",
    "traces_i = fig_1.data\n",
    "# traces_i = get_traces(df_i)\n",
    "\n",
    "# #################################################################\n",
    "if i_cnt == 0: data.extend(traces_i)\n",
    "data_i = []; data_i.extend(traces_i)\n",
    "frame_i = go.Frame(data=data_i, name=str(i_cnt))\n",
    "frames.append(frame_i)\n",
    "slider_step_i = get_slider_step_i(i_cnt, duration_short)\n",
    "sliders_dict['steps'].append(slider_step_i)"
   ]
  },
  {
   "cell_type": "code",
   "execution_count": null,
   "metadata": {
    "jupyter": {}
   },
   "outputs": [],
   "source": [
    "layout_anim[\"showlegend\"] = False\n",
    "\n",
    "fig = go.Figure(\n",
    "    data=data,\n",
    "    layout=layout_anim,\n",
    "    frames=frames)\n",
    "fig['layout']['sliders'] = [sliders_dict]\n",
    "\n",
    "fig.show()"
   ]
  },
  {
   "cell_type": "code",
   "execution_count": null,
   "metadata": {},
   "outputs": [],
   "source": [
    "assert False"
   ]
  },
  {
   "cell_type": "code",
   "execution_count": null,
   "metadata": {},
   "outputs": [],
   "source": [
    "fig_0.data[6]"
   ]
  },
  {
   "cell_type": "code",
   "execution_count": null,
   "metadata": {},
   "outputs": [],
   "source": [
    "fig_1.data[6]"
   ]
  },
  {
   "cell_type": "code",
   "execution_count": null,
   "metadata": {},
   "outputs": [],
   "source": [
    "# tmp = fig_1.data[2][\"x\"]\n",
    "\n",
    "# # tmp = \n",
    "\n",
    "# # tmp = tmp[1:].append(tmp[0])\n",
    "# # + [tmp[0]]"
   ]
  }
 ],
 "metadata": {
  "kernelspec": {
   "display_name": "Python [conda env:research-new]",
   "language": "python",
   "name": "conda-env-research-new-py"
  },
  "language_info": {
   "codemirror_mode": {
    "name": "ipython",
    "version": 3
   },
   "file_extension": ".py",
   "mimetype": "text/x-python",
   "name": "python",
   "nbconvert_exporter": "python",
   "pygments_lexer": "ipython3",
   "version": "3.6.8"
  }
 },
 "nbformat": 4,
 "nbformat_minor": 4
}
