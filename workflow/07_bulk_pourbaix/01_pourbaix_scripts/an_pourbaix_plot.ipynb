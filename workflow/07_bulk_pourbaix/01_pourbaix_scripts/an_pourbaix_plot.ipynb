{
 "cells": [
  {
   "cell_type": "markdown",
   "metadata": {
    "Collapsed": "false",
    "toc-hr-collapsed": true
   },
   "source": [
    "# Import Modules"
   ]
  },
  {
   "cell_type": "markdown",
   "metadata": {
    "Collapsed": "false"
   },
   "source": [
    "## Notebook Settings"
   ]
  },
  {
   "cell_type": "code",
   "execution_count": 1,
   "metadata": {
    "Collapsed": "false"
   },
   "outputs": [],
   "source": [
    "%%capture\n",
    "%load_ext autoreload\n",
    "%autoreload 2"
   ]
  },
  {
   "cell_type": "markdown",
   "metadata": {
    "Collapsed": "false"
   },
   "source": [
    "## Python Packages"
   ]
  },
  {
   "cell_type": "code",
   "execution_count": 2,
   "metadata": {
    "Collapsed": "false"
   },
   "outputs": [
    {
     "name": "stdout",
     "output_type": "stream",
     "text": [
      "os.getcwd(): \n",
      " /home/raulf2012/Dropbox/01_norskov/00_git_repos/PROJ_IrOx_Active_Learning_OER/workflow/07_bulk_pourbaix/01_pourbaix_scripts\n"
     ]
    },
    {
     "data": {
      "text/html": [
       "        <script type=\"text/javascript\">\n",
       "        window.PlotlyConfig = {MathJaxConfig: 'local'};\n",
       "        if (window.MathJax) {MathJax.Hub.Config({SVG: {font: \"STIX-Web\"}});}\n",
       "        if (typeof require !== 'undefined') {\n",
       "        require.undef(\"plotly\");\n",
       "        requirejs.config({\n",
       "            paths: {\n",
       "                'plotly': ['https://cdn.plot.ly/plotly-latest.min']\n",
       "            }\n",
       "        });\n",
       "        require(['plotly'], function(Plotly) {\n",
       "            window._Plotly = Plotly;\n",
       "        });\n",
       "        }\n",
       "        </script>\n",
       "        "
      ]
     },
     "metadata": {},
     "output_type": "display_data"
    }
   ],
   "source": [
    "import sys\n",
    "import os\n",
    "print(\"os.getcwd():\", \"\\n\", os.getcwd())\n",
    "\n",
    "sys.path.insert(\n",
    "    0,\n",
    "    os.path.join(\n",
    "        os.environ[\"PROJ_irox\"],\n",
    "        \"data\"))\n",
    "from proj_data_irox import proj_dir_name, irox_bulk_color_map\n",
    "\n",
    "# #############################################################################\n",
    "import pickle\n",
    "\n",
    "import chart_studio.plotly as py\n",
    "import plotly.graph_objs as go\n",
    "\n",
    "import plotly.offline as py_off\n",
    "from plotly.offline import (\n",
    "    init_notebook_mode,\n",
    "    iplot,\n",
    "    )\n",
    "\n",
    "# #############################################################################\n",
    "from methods import (\n",
    "    create_pourbaix_plot,\n",
    "    create_outside_borders,\n",
    "    create_pourb_entry_outline,\n",
    "    create_oer_equil_line,\n",
    "    )\n",
    "\n",
    "init_notebook_mode(connected=True)"
   ]
  },
  {
   "cell_type": "markdown",
   "metadata": {
    "Collapsed": "false"
   },
   "source": [
    "# Script Inputs"
   ]
  },
  {
   "cell_type": "code",
   "execution_count": 3,
   "metadata": {
    "Collapsed": "false"
   },
   "outputs": [],
   "source": [
    "run_create_entries_script = True\n",
    "\n",
    "axis_ranges = {\n",
    "    \"x_axis\": [0., 14],\n",
    "    \"y_axis\": [0., 2.5],\n",
    "    }\n",
    "\n",
    "save_plot = True\n",
    "\n",
    "entries_to_remove_list = [\n",
    "#     \"IrO3_rutile-like\",\n",
    "#     \"IrO3_battery\",\n",
    "#     \"IrO3_a-AlF3\",\n",
    "    ]"
   ]
  },
  {
   "cell_type": "markdown",
   "metadata": {
    "Collapsed": "false"
   },
   "source": [
    "# Load Entry Data"
   ]
  },
  {
   "cell_type": "code",
   "execution_count": 4,
   "metadata": {
    "Collapsed": "false"
   },
   "outputs": [],
   "source": [
    "%%capture\n",
    "if run_create_entries_script:\n",
    "    print(\"ISDIFJSDIFIDsj\")\n",
    "    !python sc_create_all_entries.py\n",
    "\n",
    "\n",
    "# #############################################################################\n",
    "path_i = os.path.join(\n",
    "    \"out_data\",\n",
    "    \"all_entries.pickle\")\n",
    "with open(path_i, \"rb\") as fle:\n",
    "    all_entries = pickle.load(fle)\n",
    "# #############################################################################"
   ]
  },
  {
   "cell_type": "markdown",
   "metadata": {
    "Collapsed": "false"
   },
   "source": [
    "# Process Data for Plotting"
   ]
  },
  {
   "cell_type": "code",
   "execution_count": 5,
   "metadata": {
    "Collapsed": "false"
   },
   "outputs": [],
   "source": [
    "directory = \"00_figures\"\n",
    "if not os.path.exists(directory):\n",
    "    os.makedirs(directory)\n",
    "\n",
    "data_entry_borders = create_pourb_entry_outline(\n",
    "    entries_to_remove_list=entries_to_remove_list,\n",
    "    all_entries=all_entries)\n",
    "\n",
    "outside_border = create_outside_borders(axis_ranges=axis_ranges)\n",
    "\n",
    "data, layout = create_pourbaix_plot(entries=all_entries, axis_ranges=axis_ranges)\n",
    "\n",
    "oer_equil_line = create_oer_equil_line(axis_ranges=axis_ranges)\n",
    "\n",
    "data += data_entry_borders\n",
    "data += [outside_border]\n",
    "data += [oer_equil_line]"
   ]
  },
  {
   "cell_type": "markdown",
   "metadata": {
    "Collapsed": "false"
   },
   "source": [
    "# Plotting"
   ]
  },
  {
   "cell_type": "code",
   "execution_count": 6,
   "metadata": {
    "Collapsed": "false"
   },
   "outputs": [
    {
     "data": {
      "application/vnd.plotly.v1+json": {
       "config": {
        "plotlyServerURL": "https://plot.ly"
       },
       "data": [
        {
         "fill": "toself",
         "fillcolor": "#6799A3",
         "hoverinfo": "none",
         "line": {
          "color": "black"
         },
         "mode": "lines",
         "name": "Ir",
         "showlegend": true,
         "type": "scatter",
         "x": [
          12.538536275989358,
          -8.881784197001252e-16,
          0,
          12.538536275989358
         ],
         "y": [
          -2.220446049250313e-16,
          0,
          0.7410274939109713,
          -2.220446049250313e-16
         ]
        },
        {
         "hoverinfo": "name",
         "mode": "lines",
         "name": "Ir",
         "showlegend": false,
         "text": [
          "Ir"
         ],
         "textfont": {
          "color": "black",
          "family": "Arial",
          "size": 12
         },
         "textposition": "bottom center",
         "type": "scatter",
         "x": [
          4.179512091996453
         ],
         "y": [
          0.24700916463699038
         ]
        },
        {
         "fill": "toself",
         "fillcolor": "#7FC97F",
         "hoverinfo": "none",
         "line": {
          "color": "black"
         },
         "mode": "lines",
         "name": "IrO2",
         "showlegend": true,
         "type": "scatter",
         "x": [
          0,
          0,
          12.335485216375297,
          14.000000000000004,
          14,
          12.538536275989358,
          0
         ],
         "y": [
          0.7410274939109713,
          1.2491270243561108,
          0.5200998480683314,
          0.38893608311870476,
          0,
          -2.220446049250313e-16,
          0.7410274939109713
         ]
        },
        {
         "hoverinfo": "name",
         "mode": "lines",
         "name": "IrO2",
         "showlegend": false,
         "text": [
          "IrO2"
         ],
         "textfont": {
          "color": "black",
          "family": "Arial",
          "size": 12
         },
         "textposition": "bottom center",
         "type": "scatter",
         "x": [
          8.812336915394111
         ],
         "y": [
          0.48319840824235305
         ]
        },
        {
         "fill": "toself",
         "fillcolor": "#BEAED4",
         "hoverinfo": "none",
         "line": {
          "color": "black"
         },
         "mode": "lines",
         "name": "IrO3_a-AlF3",
         "showlegend": true,
         "type": "scatter",
         "x": [
          8.992508629368883,
          0,
          -1.7763568394002505e-15,
          8.992508629368883
         ],
         "y": [
          0.8164547225064502,
          1.3479119825021515,
          1.8793692424978525,
          0.8164547225064502
         ]
        },
        {
         "hoverinfo": "name",
         "mode": "lines",
         "name": "IrO3_a-AlF3",
         "showlegend": false,
         "text": [
          "IrO3_a-AlF3"
         ],
         "textfont": {
          "color": "black",
          "family": "Arial",
          "size": 12
         },
         "textposition": "bottom center",
         "type": "scatter",
         "x": [
          2.9975028764562937
         ],
         "y": [
          1.3479119825021515
         ]
        },
        {
         "fill": "toself",
         "fillcolor": "rgb(5,90,208)",
         "hoverinfo": "none",
         "line": {
          "color": "black"
         },
         "mode": "lines",
         "name": "IrHO3",
         "showlegend": true,
         "type": "scatter",
         "x": [
          0,
          0,
          8.992508629368883,
          12.335485216375297,
          0
         ],
         "y": [
          1.2491270243561108,
          1.3479119825021515,
          0.8164547225064502,
          0.5200998480683314,
          1.2491270243561108
         ]
        },
        {
         "hoverinfo": "name",
         "mode": "lines",
         "name": "IrHO3",
         "showlegend": false,
         "text": [
          "IrHO3"
         ],
         "textfont": {
          "color": "black",
          "family": "Arial",
          "size": 12
         },
         "textposition": "bottom center",
         "type": "scatter",
         "x": [
          5.331998461436045
         ],
         "y": [
          0.9833983943582609
         ]
        },
        {
         "fill": "toself",
         "fillcolor": "#7c7c7c",
         "hoverinfo": "none",
         "line": {
          "color": "black"
         },
         "mode": "lines",
         "name": "IrO4-",
         "showlegend": true,
         "type": "scatter",
         "x": [
          14.000000000000004,
          12.335485216375297,
          8.992508629368883,
          -1.7763568394002505e-15,
          1.7763568394002505e-15,
          14,
          14.000000000000004
         ],
         "y": [
          0.38893608311870476,
          0.5200998480683314,
          0.8164547225064502,
          1.8793692424978525,
          2.5,
          2.5,
          0.38893608311870476
         ]
        },
        {
         "hoverinfo": "name",
         "mode": "lines",
         "name": "IrO4-",
         "showlegend": false,
         "text": [
          "IrO4-"
         ],
         "textfont": {
          "color": "black",
          "family": "Arial",
          "size": 12
         },
         "textposition": "bottom center",
         "type": "scatter",
         "x": [
          8.22133230762403
         ],
         "y": [
          1.43414331603189
         ]
        },
        {
         "marker": {
          "color": "black",
          "line": {
           "color": "black",
           "width": 4
          }
         },
         "mode": "lines",
         "type": "scatter",
         "x": [
          0,
          14,
          14,
          0,
          0
         ],
         "y": [
          0,
          0,
          2.5,
          2.5,
          0
         ]
        },
        {
         "line": {
          "color": "black",
          "dash": "dot",
          "width": 0.75
         },
         "mode": "lines",
         "name": "lines",
         "type": "scatter",
         "x": [
          0,
          14
         ],
         "y": [
          1.23,
          0.40259999999999996
         ]
        }
       ],
       "layout": {
        "font": {
         "color": "black",
         "family": "Arial",
         "size": 18
        },
        "height": 500,
        "margin": {
         "b": 40,
         "l": 40,
         "r": 40,
         "t": 40
        },
        "showlegend": true,
        "template": {
         "data": {
          "bar": [
           {
            "error_x": {
             "color": "#2a3f5f"
            },
            "error_y": {
             "color": "#2a3f5f"
            },
            "marker": {
             "line": {
              "color": "#E5ECF6",
              "width": 0.5
             }
            },
            "type": "bar"
           }
          ],
          "barpolar": [
           {
            "marker": {
             "line": {
              "color": "#E5ECF6",
              "width": 0.5
             }
            },
            "type": "barpolar"
           }
          ],
          "carpet": [
           {
            "aaxis": {
             "endlinecolor": "#2a3f5f",
             "gridcolor": "white",
             "linecolor": "white",
             "minorgridcolor": "white",
             "startlinecolor": "#2a3f5f"
            },
            "baxis": {
             "endlinecolor": "#2a3f5f",
             "gridcolor": "white",
             "linecolor": "white",
             "minorgridcolor": "white",
             "startlinecolor": "#2a3f5f"
            },
            "type": "carpet"
           }
          ],
          "choropleth": [
           {
            "colorbar": {
             "outlinewidth": 0,
             "ticks": ""
            },
            "type": "choropleth"
           }
          ],
          "contour": [
           {
            "colorbar": {
             "outlinewidth": 0,
             "ticks": ""
            },
            "colorscale": [
             [
              0,
              "#0d0887"
             ],
             [
              0.1111111111111111,
              "#46039f"
             ],
             [
              0.2222222222222222,
              "#7201a8"
             ],
             [
              0.3333333333333333,
              "#9c179e"
             ],
             [
              0.4444444444444444,
              "#bd3786"
             ],
             [
              0.5555555555555556,
              "#d8576b"
             ],
             [
              0.6666666666666666,
              "#ed7953"
             ],
             [
              0.7777777777777778,
              "#fb9f3a"
             ],
             [
              0.8888888888888888,
              "#fdca26"
             ],
             [
              1,
              "#f0f921"
             ]
            ],
            "type": "contour"
           }
          ],
          "contourcarpet": [
           {
            "colorbar": {
             "outlinewidth": 0,
             "ticks": ""
            },
            "type": "contourcarpet"
           }
          ],
          "heatmap": [
           {
            "colorbar": {
             "outlinewidth": 0,
             "ticks": ""
            },
            "colorscale": [
             [
              0,
              "#0d0887"
             ],
             [
              0.1111111111111111,
              "#46039f"
             ],
             [
              0.2222222222222222,
              "#7201a8"
             ],
             [
              0.3333333333333333,
              "#9c179e"
             ],
             [
              0.4444444444444444,
              "#bd3786"
             ],
             [
              0.5555555555555556,
              "#d8576b"
             ],
             [
              0.6666666666666666,
              "#ed7953"
             ],
             [
              0.7777777777777778,
              "#fb9f3a"
             ],
             [
              0.8888888888888888,
              "#fdca26"
             ],
             [
              1,
              "#f0f921"
             ]
            ],
            "type": "heatmap"
           }
          ],
          "heatmapgl": [
           {
            "colorbar": {
             "outlinewidth": 0,
             "ticks": ""
            },
            "colorscale": [
             [
              0,
              "#0d0887"
             ],
             [
              0.1111111111111111,
              "#46039f"
             ],
             [
              0.2222222222222222,
              "#7201a8"
             ],
             [
              0.3333333333333333,
              "#9c179e"
             ],
             [
              0.4444444444444444,
              "#bd3786"
             ],
             [
              0.5555555555555556,
              "#d8576b"
             ],
             [
              0.6666666666666666,
              "#ed7953"
             ],
             [
              0.7777777777777778,
              "#fb9f3a"
             ],
             [
              0.8888888888888888,
              "#fdca26"
             ],
             [
              1,
              "#f0f921"
             ]
            ],
            "type": "heatmapgl"
           }
          ],
          "histogram": [
           {
            "marker": {
             "colorbar": {
              "outlinewidth": 0,
              "ticks": ""
             }
            },
            "type": "histogram"
           }
          ],
          "histogram2d": [
           {
            "colorbar": {
             "outlinewidth": 0,
             "ticks": ""
            },
            "colorscale": [
             [
              0,
              "#0d0887"
             ],
             [
              0.1111111111111111,
              "#46039f"
             ],
             [
              0.2222222222222222,
              "#7201a8"
             ],
             [
              0.3333333333333333,
              "#9c179e"
             ],
             [
              0.4444444444444444,
              "#bd3786"
             ],
             [
              0.5555555555555556,
              "#d8576b"
             ],
             [
              0.6666666666666666,
              "#ed7953"
             ],
             [
              0.7777777777777778,
              "#fb9f3a"
             ],
             [
              0.8888888888888888,
              "#fdca26"
             ],
             [
              1,
              "#f0f921"
             ]
            ],
            "type": "histogram2d"
           }
          ],
          "histogram2dcontour": [
           {
            "colorbar": {
             "outlinewidth": 0,
             "ticks": ""
            },
            "colorscale": [
             [
              0,
              "#0d0887"
             ],
             [
              0.1111111111111111,
              "#46039f"
             ],
             [
              0.2222222222222222,
              "#7201a8"
             ],
             [
              0.3333333333333333,
              "#9c179e"
             ],
             [
              0.4444444444444444,
              "#bd3786"
             ],
             [
              0.5555555555555556,
              "#d8576b"
             ],
             [
              0.6666666666666666,
              "#ed7953"
             ],
             [
              0.7777777777777778,
              "#fb9f3a"
             ],
             [
              0.8888888888888888,
              "#fdca26"
             ],
             [
              1,
              "#f0f921"
             ]
            ],
            "type": "histogram2dcontour"
           }
          ],
          "mesh3d": [
           {
            "colorbar": {
             "outlinewidth": 0,
             "ticks": ""
            },
            "type": "mesh3d"
           }
          ],
          "parcoords": [
           {
            "line": {
             "colorbar": {
              "outlinewidth": 0,
              "ticks": ""
             }
            },
            "type": "parcoords"
           }
          ],
          "scatter": [
           {
            "marker": {
             "colorbar": {
              "outlinewidth": 0,
              "ticks": ""
             }
            },
            "type": "scatter"
           }
          ],
          "scatter3d": [
           {
            "line": {
             "colorbar": {
              "outlinewidth": 0,
              "ticks": ""
             }
            },
            "marker": {
             "colorbar": {
              "outlinewidth": 0,
              "ticks": ""
             }
            },
            "type": "scatter3d"
           }
          ],
          "scattercarpet": [
           {
            "marker": {
             "colorbar": {
              "outlinewidth": 0,
              "ticks": ""
             }
            },
            "type": "scattercarpet"
           }
          ],
          "scattergeo": [
           {
            "marker": {
             "colorbar": {
              "outlinewidth": 0,
              "ticks": ""
             }
            },
            "type": "scattergeo"
           }
          ],
          "scattergl": [
           {
            "marker": {
             "colorbar": {
              "outlinewidth": 0,
              "ticks": ""
             }
            },
            "type": "scattergl"
           }
          ],
          "scattermapbox": [
           {
            "marker": {
             "colorbar": {
              "outlinewidth": 0,
              "ticks": ""
             }
            },
            "type": "scattermapbox"
           }
          ],
          "scatterpolar": [
           {
            "marker": {
             "colorbar": {
              "outlinewidth": 0,
              "ticks": ""
             }
            },
            "type": "scatterpolar"
           }
          ],
          "scatterpolargl": [
           {
            "marker": {
             "colorbar": {
              "outlinewidth": 0,
              "ticks": ""
             }
            },
            "type": "scatterpolargl"
           }
          ],
          "scatterternary": [
           {
            "marker": {
             "colorbar": {
              "outlinewidth": 0,
              "ticks": ""
             }
            },
            "type": "scatterternary"
           }
          ],
          "surface": [
           {
            "colorbar": {
             "outlinewidth": 0,
             "ticks": ""
            },
            "colorscale": [
             [
              0,
              "#0d0887"
             ],
             [
              0.1111111111111111,
              "#46039f"
             ],
             [
              0.2222222222222222,
              "#7201a8"
             ],
             [
              0.3333333333333333,
              "#9c179e"
             ],
             [
              0.4444444444444444,
              "#bd3786"
             ],
             [
              0.5555555555555556,
              "#d8576b"
             ],
             [
              0.6666666666666666,
              "#ed7953"
             ],
             [
              0.7777777777777778,
              "#fb9f3a"
             ],
             [
              0.8888888888888888,
              "#fdca26"
             ],
             [
              1,
              "#f0f921"
             ]
            ],
            "type": "surface"
           }
          ],
          "table": [
           {
            "cells": {
             "fill": {
              "color": "#EBF0F8"
             },
             "line": {
              "color": "white"
             }
            },
            "header": {
             "fill": {
              "color": "#C8D4E3"
             },
             "line": {
              "color": "white"
             }
            },
            "type": "table"
           }
          ]
         },
         "layout": {
          "annotationdefaults": {
           "arrowcolor": "#2a3f5f",
           "arrowhead": 0,
           "arrowwidth": 1
          },
          "colorscale": {
           "diverging": [
            [
             0,
             "#8e0152"
            ],
            [
             0.1,
             "#c51b7d"
            ],
            [
             0.2,
             "#de77ae"
            ],
            [
             0.3,
             "#f1b6da"
            ],
            [
             0.4,
             "#fde0ef"
            ],
            [
             0.5,
             "#f7f7f7"
            ],
            [
             0.6,
             "#e6f5d0"
            ],
            [
             0.7,
             "#b8e186"
            ],
            [
             0.8,
             "#7fbc41"
            ],
            [
             0.9,
             "#4d9221"
            ],
            [
             1,
             "#276419"
            ]
           ],
           "sequential": [
            [
             0,
             "#0d0887"
            ],
            [
             0.1111111111111111,
             "#46039f"
            ],
            [
             0.2222222222222222,
             "#7201a8"
            ],
            [
             0.3333333333333333,
             "#9c179e"
            ],
            [
             0.4444444444444444,
             "#bd3786"
            ],
            [
             0.5555555555555556,
             "#d8576b"
            ],
            [
             0.6666666666666666,
             "#ed7953"
            ],
            [
             0.7777777777777778,
             "#fb9f3a"
            ],
            [
             0.8888888888888888,
             "#fdca26"
            ],
            [
             1,
             "#f0f921"
            ]
           ],
           "sequentialminus": [
            [
             0,
             "#0d0887"
            ],
            [
             0.1111111111111111,
             "#46039f"
            ],
            [
             0.2222222222222222,
             "#7201a8"
            ],
            [
             0.3333333333333333,
             "#9c179e"
            ],
            [
             0.4444444444444444,
             "#bd3786"
            ],
            [
             0.5555555555555556,
             "#d8576b"
            ],
            [
             0.6666666666666666,
             "#ed7953"
            ],
            [
             0.7777777777777778,
             "#fb9f3a"
            ],
            [
             0.8888888888888888,
             "#fdca26"
            ],
            [
             1,
             "#f0f921"
            ]
           ]
          },
          "colorway": [
           "#636efa",
           "#EF553B",
           "#00cc96",
           "#ab63fa",
           "#FFA15A",
           "#19d3f3",
           "#FF6692",
           "#B6E880",
           "#FF97FF",
           "#FECB52"
          ],
          "font": {
           "color": "#2a3f5f"
          },
          "geo": {
           "bgcolor": "white",
           "lakecolor": "white",
           "landcolor": "#E5ECF6",
           "showlakes": true,
           "showland": true,
           "subunitcolor": "white"
          },
          "hoverlabel": {
           "align": "left"
          },
          "hovermode": "closest",
          "mapbox": {
           "style": "light"
          },
          "paper_bgcolor": "white",
          "plot_bgcolor": "#E5ECF6",
          "polar": {
           "angularaxis": {
            "gridcolor": "white",
            "linecolor": "white",
            "ticks": ""
           },
           "bgcolor": "#E5ECF6",
           "radialaxis": {
            "gridcolor": "white",
            "linecolor": "white",
            "ticks": ""
           }
          },
          "scene": {
           "xaxis": {
            "backgroundcolor": "#E5ECF6",
            "gridcolor": "white",
            "gridwidth": 2,
            "linecolor": "white",
            "showbackground": true,
            "ticks": "",
            "zerolinecolor": "white"
           },
           "yaxis": {
            "backgroundcolor": "#E5ECF6",
            "gridcolor": "white",
            "gridwidth": 2,
            "linecolor": "white",
            "showbackground": true,
            "ticks": "",
            "zerolinecolor": "white"
           },
           "zaxis": {
            "backgroundcolor": "#E5ECF6",
            "gridcolor": "white",
            "gridwidth": 2,
            "linecolor": "white",
            "showbackground": true,
            "ticks": "",
            "zerolinecolor": "white"
           }
          },
          "shapedefaults": {
           "line": {
            "color": "#2a3f5f"
           }
          },
          "ternary": {
           "aaxis": {
            "gridcolor": "white",
            "linecolor": "white",
            "ticks": ""
           },
           "baxis": {
            "gridcolor": "white",
            "linecolor": "white",
            "ticks": ""
           },
           "bgcolor": "#E5ECF6",
           "caxis": {
            "gridcolor": "white",
            "linecolor": "white",
            "ticks": ""
           }
          },
          "title": {
           "x": 0.05
          },
          "xaxis": {
           "automargin": true,
           "gridcolor": "white",
           "linecolor": "white",
           "ticks": "",
           "zerolinecolor": "white",
           "zerolinewidth": 2
          },
          "yaxis": {
           "automargin": true,
           "gridcolor": "white",
           "linecolor": "white",
           "ticks": "",
           "zerolinecolor": "white",
           "zerolinewidth": 2
          }
         }
        },
        "width": 600,
        "xaxis": {
         "dtick": 1,
         "linecolor": "black",
         "mirror": "ticks",
         "range": [
          0,
          14
         ],
         "showgrid": false,
         "showline": true,
         "tick0": 0,
         "tickcolor": "black",
         "tickfont": {
          "size": 16
         },
         "ticklen": 2,
         "ticks": "inside",
         "tickwidth": 1,
         "title": {
          "font": {
           "size": 18.666666666666664
          },
          "text": "pH"
         },
         "type": "linear",
         "zeroline": false
        },
        "yaxis": {
         "linecolor": "black",
         "mirror": "ticks",
         "range": [
          0,
          2.5
         ],
         "showgrid": false,
         "showline": true,
         "tick0": 0,
         "tickcolor": "black",
         "tickfont": {
          "size": 16
         },
         "ticklen": 2,
         "ticks": "inside",
         "tickwidth": 1,
         "title": {
          "font": {
           "size": 18.666666666666664
          },
          "text": "E(V)"
         },
         "type": "linear",
         "zeroline": false
        }
       }
      },
      "image/png": "[encoded data removed]",
      "text/html": [
       "<div>\n",
       "        \n",
       "        \n",
       "            <div id=\"3fd8cd09-e307-42f3-81cc-66f4217bcd1c\" class=\"plotly-graph-div\" style=\"height:500px; width:600px;\"></div>\n",
       "            <script type=\"text/javascript\">\n",
       "                require([\"plotly\"], function(Plotly) {\n",
       "                    window.PLOTLYENV=window.PLOTLYENV || {};\n",
       "                    \n",
       "                if (document.getElementById(\"3fd8cd09-e307-42f3-81cc-66f4217bcd1c\")) {\n",
       "                    Plotly.newPlot(\n",
       "                        '3fd8cd09-e307-42f3-81cc-66f4217bcd1c',\n",
       "                        [{\"fill\": \"toself\", \"fillcolor\": \"#6799A3\", \"hoverinfo\": \"none\", \"line\": {\"color\": \"black\"}, \"mode\": \"lines\", \"name\": \"Ir\", \"showlegend\": true, \"type\": \"scatter\", \"x\": [12.538536275989358, -8.881784197001252e-16, 0.0, 12.538536275989358], \"y\": [-2.220446049250313e-16, 0.0, 0.7410274939109713, -2.220446049250313e-16]}, {\"hoverinfo\": \"name\", \"mode\": \"lines\", \"name\": \"Ir\", \"showlegend\": false, \"text\": [\"Ir\"], \"textfont\": {\"color\": \"black\", \"family\": \"Arial\", \"size\": 12.0}, \"textposition\": \"bottom center\", \"type\": \"scatter\", \"x\": [4.179512091996453], \"y\": [0.24700916463699038]}, {\"fill\": \"toself\", \"fillcolor\": \"#7FC97F\", \"hoverinfo\": \"none\", \"line\": {\"color\": \"black\"}, \"mode\": \"lines\", \"name\": \"IrO2\", \"showlegend\": true, \"type\": \"scatter\", \"x\": [0.0, 0.0, 12.335485216375297, 14.000000000000004, 14.0, 12.538536275989358, 0.0], \"y\": [0.7410274939109713, 1.2491270243561108, 0.5200998480683314, 0.38893608311870476, 0.0, -2.220446049250313e-16, 0.7410274939109713]}, {\"hoverinfo\": \"name\", \"mode\": \"lines\", \"name\": \"IrO2\", \"showlegend\": false, \"text\": [\"IrO2\"], \"textfont\": {\"color\": \"black\", \"family\": \"Arial\", \"size\": 12.0}, \"textposition\": \"bottom center\", \"type\": \"scatter\", \"x\": [8.812336915394111], \"y\": [0.48319840824235305]}, {\"fill\": \"toself\", \"fillcolor\": \"#BEAED4\", \"hoverinfo\": \"none\", \"line\": {\"color\": \"black\"}, \"mode\": \"lines\", \"name\": \"IrO3_a-AlF3\", \"showlegend\": true, \"type\": \"scatter\", \"x\": [8.992508629368883, 0.0, -1.7763568394002505e-15, 8.992508629368883], \"y\": [0.8164547225064502, 1.3479119825021515, 1.8793692424978525, 0.8164547225064502]}, {\"hoverinfo\": \"name\", \"mode\": \"lines\", \"name\": \"IrO3_a-AlF3\", \"showlegend\": false, \"text\": [\"IrO3_a-AlF3\"], \"textfont\": {\"color\": \"black\", \"family\": \"Arial\", \"size\": 12.0}, \"textposition\": \"bottom center\", \"type\": \"scatter\", \"x\": [2.9975028764562937], \"y\": [1.3479119825021515]}, {\"fill\": \"toself\", \"fillcolor\": \"rgb(5,90,208)\", \"hoverinfo\": \"none\", \"line\": {\"color\": \"black\"}, \"mode\": \"lines\", \"name\": \"IrHO3\", \"showlegend\": true, \"type\": \"scatter\", \"x\": [0.0, 0.0, 8.992508629368883, 12.335485216375297, 0.0], \"y\": [1.2491270243561108, 1.3479119825021515, 0.8164547225064502, 0.5200998480683314, 1.2491270243561108]}, {\"hoverinfo\": \"name\", \"mode\": \"lines\", \"name\": \"IrHO3\", \"showlegend\": false, \"text\": [\"IrHO3\"], \"textfont\": {\"color\": \"black\", \"family\": \"Arial\", \"size\": 12.0}, \"textposition\": \"bottom center\", \"type\": \"scatter\", \"x\": [5.331998461436045], \"y\": [0.9833983943582609]}, {\"fill\": \"toself\", \"fillcolor\": \"#7c7c7c\", \"hoverinfo\": \"none\", \"line\": {\"color\": \"black\"}, \"mode\": \"lines\", \"name\": \"IrO4-\", \"showlegend\": true, \"type\": \"scatter\", \"x\": [14.000000000000004, 12.335485216375297, 8.992508629368883, -1.7763568394002505e-15, 1.7763568394002505e-15, 14.0, 14.000000000000004], \"y\": [0.38893608311870476, 0.5200998480683314, 0.8164547225064502, 1.8793692424978525, 2.5, 2.5, 0.38893608311870476]}, {\"hoverinfo\": \"name\", \"mode\": \"lines\", \"name\": \"IrO4-\", \"showlegend\": false, \"text\": [\"IrO4-\"], \"textfont\": {\"color\": \"black\", \"family\": \"Arial\", \"size\": 12.0}, \"textposition\": \"bottom center\", \"type\": \"scatter\", \"x\": [8.22133230762403], \"y\": [1.43414331603189]}, {\"marker\": {\"color\": \"black\", \"line\": {\"color\": \"black\", \"width\": 4}}, \"mode\": \"lines\", \"type\": \"scatter\", \"x\": [0.0, 14, 14, 0.0, 0.0], \"y\": [0.0, 0.0, 2.5, 2.5, 0.0]}, {\"line\": {\"color\": \"black\", \"dash\": \"dot\", \"width\": 0.75}, \"mode\": \"lines\", \"name\": \"lines\", \"type\": \"scatter\", \"x\": [0.0, 14], \"y\": [1.23, 0.40259999999999996]}],\n",
       "                        {\"font\": {\"color\": \"black\", \"family\": \"Arial\", \"size\": 18}, \"height\": 500, \"margin\": {\"b\": 40.0, \"l\": 40.0, \"r\": 40.0, \"t\": 40.0}, \"showlegend\": true, \"template\": {\"data\": {\"bar\": [{\"error_x\": {\"color\": \"#2a3f5f\"}, \"error_y\": {\"color\": \"#2a3f5f\"}, \"marker\": {\"line\": {\"color\": \"#E5ECF6\", \"width\": 0.5}}, \"type\": \"bar\"}], \"barpolar\": [{\"marker\": {\"line\": {\"color\": \"#E5ECF6\", \"width\": 0.5}}, \"type\": \"barpolar\"}], \"carpet\": [{\"aaxis\": {\"endlinecolor\": \"#2a3f5f\", \"gridcolor\": \"white\", \"linecolor\": \"white\", \"minorgridcolor\": \"white\", \"startlinecolor\": \"#2a3f5f\"}, \"baxis\": {\"endlinecolor\": \"#2a3f5f\", \"gridcolor\": \"white\", \"linecolor\": \"white\", \"minorgridcolor\": \"white\", \"startlinecolor\": \"#2a3f5f\"}, \"type\": \"carpet\"}], \"choropleth\": [{\"colorbar\": {\"outlinewidth\": 0, \"ticks\": \"\"}, \"type\": \"choropleth\"}], \"contour\": [{\"colorbar\": {\"outlinewidth\": 0, \"ticks\": \"\"}, \"colorscale\": [[0.0, \"#0d0887\"], [0.1111111111111111, \"#46039f\"], [0.2222222222222222, \"#7201a8\"], [0.3333333333333333, \"#9c179e\"], [0.4444444444444444, \"#bd3786\"], [0.5555555555555556, \"#d8576b\"], [0.6666666666666666, \"#ed7953\"], [0.7777777777777778, \"#fb9f3a\"], [0.8888888888888888, \"#fdca26\"], [1.0, \"#f0f921\"]], \"type\": \"contour\"}], \"contourcarpet\": [{\"colorbar\": {\"outlinewidth\": 0, \"ticks\": \"\"}, \"type\": \"contourcarpet\"}], \"heatmap\": [{\"colorbar\": {\"outlinewidth\": 0, \"ticks\": \"\"}, \"colorscale\": [[0.0, \"#0d0887\"], [0.1111111111111111, \"#46039f\"], [0.2222222222222222, \"#7201a8\"], [0.3333333333333333, \"#9c179e\"], [0.4444444444444444, \"#bd3786\"], [0.5555555555555556, \"#d8576b\"], [0.6666666666666666, \"#ed7953\"], [0.7777777777777778, \"#fb9f3a\"], [0.8888888888888888, \"#fdca26\"], [1.0, \"#f0f921\"]], \"type\": \"heatmap\"}], \"heatmapgl\": [{\"colorbar\": {\"outlinewidth\": 0, \"ticks\": \"\"}, \"colorscale\": [[0.0, \"#0d0887\"], [0.1111111111111111, \"#46039f\"], [0.2222222222222222, \"#7201a8\"], [0.3333333333333333, \"#9c179e\"], [0.4444444444444444, \"#bd3786\"], [0.5555555555555556, \"#d8576b\"], [0.6666666666666666, \"#ed7953\"], [0.7777777777777778, \"#fb9f3a\"], [0.8888888888888888, \"#fdca26\"], [1.0, \"#f0f921\"]], \"type\": \"heatmapgl\"}], \"histogram\": [{\"marker\": {\"colorbar\": {\"outlinewidth\": 0, \"ticks\": \"\"}}, \"type\": \"histogram\"}], \"histogram2d\": [{\"colorbar\": {\"outlinewidth\": 0, \"ticks\": \"\"}, \"colorscale\": [[0.0, \"#0d0887\"], [0.1111111111111111, \"#46039f\"], [0.2222222222222222, \"#7201a8\"], [0.3333333333333333, \"#9c179e\"], [0.4444444444444444, \"#bd3786\"], [0.5555555555555556, \"#d8576b\"], [0.6666666666666666, \"#ed7953\"], [0.7777777777777778, \"#fb9f3a\"], [0.8888888888888888, \"#fdca26\"], [1.0, \"#f0f921\"]], \"type\": \"histogram2d\"}], \"histogram2dcontour\": [{\"colorbar\": {\"outlinewidth\": 0, \"ticks\": \"\"}, \"colorscale\": [[0.0, \"#0d0887\"], [0.1111111111111111, \"#46039f\"], [0.2222222222222222, \"#7201a8\"], [0.3333333333333333, \"#9c179e\"], [0.4444444444444444, \"#bd3786\"], [0.5555555555555556, \"#d8576b\"], [0.6666666666666666, \"#ed7953\"], [0.7777777777777778, \"#fb9f3a\"], [0.8888888888888888, \"#fdca26\"], [1.0, \"#f0f921\"]], \"type\": \"histogram2dcontour\"}], \"mesh3d\": [{\"colorbar\": {\"outlinewidth\": 0, \"ticks\": \"\"}, \"type\": \"mesh3d\"}], \"parcoords\": [{\"line\": {\"colorbar\": {\"outlinewidth\": 0, \"ticks\": \"\"}}, \"type\": \"parcoords\"}], \"scatter\": [{\"marker\": {\"colorbar\": {\"outlinewidth\": 0, \"ticks\": \"\"}}, \"type\": \"scatter\"}], \"scatter3d\": [{\"line\": {\"colorbar\": {\"outlinewidth\": 0, \"ticks\": \"\"}}, \"marker\": {\"colorbar\": {\"outlinewidth\": 0, \"ticks\": \"\"}}, \"type\": \"scatter3d\"}], \"scattercarpet\": [{\"marker\": {\"colorbar\": {\"outlinewidth\": 0, \"ticks\": \"\"}}, \"type\": \"scattercarpet\"}], \"scattergeo\": [{\"marker\": {\"colorbar\": {\"outlinewidth\": 0, \"ticks\": \"\"}}, \"type\": \"scattergeo\"}], \"scattergl\": [{\"marker\": {\"colorbar\": {\"outlinewidth\": 0, \"ticks\": \"\"}}, \"type\": \"scattergl\"}], \"scattermapbox\": [{\"marker\": {\"colorbar\": {\"outlinewidth\": 0, \"ticks\": \"\"}}, \"type\": \"scattermapbox\"}], \"scatterpolar\": [{\"marker\": {\"colorbar\": {\"outlinewidth\": 0, \"ticks\": \"\"}}, \"type\": \"scatterpolar\"}], \"scatterpolargl\": [{\"marker\": {\"colorbar\": {\"outlinewidth\": 0, \"ticks\": \"\"}}, \"type\": \"scatterpolargl\"}], \"scatterternary\": [{\"marker\": {\"colorbar\": {\"outlinewidth\": 0, \"ticks\": \"\"}}, \"type\": \"scatterternary\"}], \"surface\": [{\"colorbar\": {\"outlinewidth\": 0, \"ticks\": \"\"}, \"colorscale\": [[0.0, \"#0d0887\"], [0.1111111111111111, \"#46039f\"], [0.2222222222222222, \"#7201a8\"], [0.3333333333333333, \"#9c179e\"], [0.4444444444444444, \"#bd3786\"], [0.5555555555555556, \"#d8576b\"], [0.6666666666666666, \"#ed7953\"], [0.7777777777777778, \"#fb9f3a\"], [0.8888888888888888, \"#fdca26\"], [1.0, \"#f0f921\"]], \"type\": \"surface\"}], \"table\": [{\"cells\": {\"fill\": {\"color\": \"#EBF0F8\"}, \"line\": {\"color\": \"white\"}}, \"header\": {\"fill\": {\"color\": \"#C8D4E3\"}, \"line\": {\"color\": \"white\"}}, \"type\": \"table\"}]}, \"layout\": {\"annotationdefaults\": {\"arrowcolor\": \"#2a3f5f\", \"arrowhead\": 0, \"arrowwidth\": 1}, \"colorscale\": {\"diverging\": [[0, \"#8e0152\"], [0.1, \"#c51b7d\"], [0.2, \"#de77ae\"], [0.3, \"#f1b6da\"], [0.4, \"#fde0ef\"], [0.5, \"#f7f7f7\"], [0.6, \"#e6f5d0\"], [0.7, \"#b8e186\"], [0.8, \"#7fbc41\"], [0.9, \"#4d9221\"], [1, \"#276419\"]], \"sequential\": [[0.0, \"#0d0887\"], [0.1111111111111111, \"#46039f\"], [0.2222222222222222, \"#7201a8\"], [0.3333333333333333, \"#9c179e\"], [0.4444444444444444, \"#bd3786\"], [0.5555555555555556, \"#d8576b\"], [0.6666666666666666, \"#ed7953\"], [0.7777777777777778, \"#fb9f3a\"], [0.8888888888888888, \"#fdca26\"], [1.0, \"#f0f921\"]], \"sequentialminus\": [[0.0, \"#0d0887\"], [0.1111111111111111, \"#46039f\"], [0.2222222222222222, \"#7201a8\"], [0.3333333333333333, \"#9c179e\"], [0.4444444444444444, \"#bd3786\"], [0.5555555555555556, \"#d8576b\"], [0.6666666666666666, \"#ed7953\"], [0.7777777777777778, \"#fb9f3a\"], [0.8888888888888888, \"#fdca26\"], [1.0, \"#f0f921\"]]}, \"colorway\": [\"#636efa\", \"#EF553B\", \"#00cc96\", \"#ab63fa\", \"#FFA15A\", \"#19d3f3\", \"#FF6692\", \"#B6E880\", \"#FF97FF\", \"#FECB52\"], \"font\": {\"color\": \"#2a3f5f\"}, \"geo\": {\"bgcolor\": \"white\", \"lakecolor\": \"white\", \"landcolor\": \"#E5ECF6\", \"showlakes\": true, \"showland\": true, \"subunitcolor\": \"white\"}, \"hoverlabel\": {\"align\": \"left\"}, \"hovermode\": \"closest\", \"mapbox\": {\"style\": \"light\"}, \"paper_bgcolor\": \"white\", \"plot_bgcolor\": \"#E5ECF6\", \"polar\": {\"angularaxis\": {\"gridcolor\": \"white\", \"linecolor\": \"white\", \"ticks\": \"\"}, \"bgcolor\": \"#E5ECF6\", \"radialaxis\": {\"gridcolor\": \"white\", \"linecolor\": \"white\", \"ticks\": \"\"}}, \"scene\": {\"xaxis\": {\"backgroundcolor\": \"#E5ECF6\", \"gridcolor\": \"white\", \"gridwidth\": 2, \"linecolor\": \"white\", \"showbackground\": true, \"ticks\": \"\", \"zerolinecolor\": \"white\"}, \"yaxis\": {\"backgroundcolor\": \"#E5ECF6\", \"gridcolor\": \"white\", \"gridwidth\": 2, \"linecolor\": \"white\", \"showbackground\": true, \"ticks\": \"\", \"zerolinecolor\": \"white\"}, \"zaxis\": {\"backgroundcolor\": \"#E5ECF6\", \"gridcolor\": \"white\", \"gridwidth\": 2, \"linecolor\": \"white\", \"showbackground\": true, \"ticks\": \"\", \"zerolinecolor\": \"white\"}}, \"shapedefaults\": {\"line\": {\"color\": \"#2a3f5f\"}}, \"ternary\": {\"aaxis\": {\"gridcolor\": \"white\", \"linecolor\": \"white\", \"ticks\": \"\"}, \"baxis\": {\"gridcolor\": \"white\", \"linecolor\": \"white\", \"ticks\": \"\"}, \"bgcolor\": \"#E5ECF6\", \"caxis\": {\"gridcolor\": \"white\", \"linecolor\": \"white\", \"ticks\": \"\"}}, \"title\": {\"x\": 0.05}, \"xaxis\": {\"automargin\": true, \"gridcolor\": \"white\", \"linecolor\": \"white\", \"ticks\": \"\", \"zerolinecolor\": \"white\", \"zerolinewidth\": 2}, \"yaxis\": {\"automargin\": true, \"gridcolor\": \"white\", \"linecolor\": \"white\", \"ticks\": \"\", \"zerolinecolor\": \"white\", \"zerolinewidth\": 2}}}, \"width\": 600, \"xaxis\": {\"dtick\": 1, \"linecolor\": \"black\", \"mirror\": \"ticks\", \"range\": [0.0, 14], \"showgrid\": false, \"showline\": true, \"tick0\": 0, \"tickcolor\": \"black\", \"tickfont\": {\"size\": 16.0}, \"ticklen\": 2, \"ticks\": \"inside\", \"tickwidth\": 1, \"title\": {\"font\": {\"size\": 18.666666666666664}, \"text\": \"pH\"}, \"zeroline\": false}, \"yaxis\": {\"linecolor\": \"black\", \"mirror\": \"ticks\", \"range\": [0.0, 2.5], \"showgrid\": false, \"showline\": true, \"tick0\": 0, \"tickcolor\": \"black\", \"tickfont\": {\"size\": 16.0}, \"ticklen\": 2, \"ticks\": \"inside\", \"tickwidth\": 1, \"title\": {\"font\": {\"size\": 18.666666666666664}, \"text\": \"E(V)\"}, \"zeroline\": false}},\n",
       "                        {\"responsive\": true}\n",
       "                    ).then(function(){\n",
       "                            \n",
       "var gd = document.getElementById('3fd8cd09-e307-42f3-81cc-66f4217bcd1c');\n",
       "var x = new MutationObserver(function (mutations, observer) {{\n",
       "        var display = window.getComputedStyle(gd).display;\n",
       "        if (!display || display === 'none') {{\n",
       "            console.log([gd, 'removed!']);\n",
       "            Plotly.purge(gd);\n",
       "            observer.disconnect();\n",
       "        }}\n",
       "}});\n",
       "\n",
       "// Listen for the removal of the full notebook cells\n",
       "var notebookContainer = gd.closest('#notebook-container');\n",
       "if (notebookContainer) {{\n",
       "    x.observe(notebookContainer, {childList: true});\n",
       "}}\n",
       "\n",
       "// Listen for the clearing of the current output cell\n",
       "var outputEl = gd.closest('.output');\n",
       "if (outputEl) {{\n",
       "    x.observe(outputEl, {childList: true});\n",
       "}}\n",
       "\n",
       "                        })\n",
       "                };\n",
       "                });\n",
       "            </script>\n",
       "        </div>"
      ]
     },
     "metadata": {},
     "output_type": "display_data"
    }
   ],
   "source": [
    "layout[\"xaxis\"][\"dtick\"] = 1\n",
    "layout[\"yaxis\"][\"dtick\"] = 0.5\n",
    "\n",
    "layout[\"width\"] = 600\n",
    "layout[\"height\"] = 500\n",
    "layout[\"yaxis\"][\"dtick\"] = None\n",
    "\n",
    "layout_override = go.Layout(\n",
    "    showlegend=True,\n",
    "    font=go.layout.Font(\n",
    "        color=\"black\",\n",
    "        family=None,\n",
    "        size=18,\n",
    "        ),\n",
    "    annotations=None,\n",
    "    )\n",
    "\n",
    "layout.update(layout_override)\n",
    "\n",
    "fig = go.Figure(data=data, layout=layout)\n",
    "fig.show()"
   ]
  },
  {
   "cell_type": "code",
   "execution_count": 7,
   "metadata": {
    "Collapsed": "false"
   },
   "outputs": [],
   "source": [
    "# Pickling data ######################################################\n",
    "directory = \"out_data\"\n",
    "if not os.path.exists(directory): os.makedirs(directory)\n",
    "with open(os.path.join(directory, \"pourb_fig_0.pickle\"), \"wb\") as fle:\n",
    "    pickle.dump(fig, fle)\n",
    "# #####################################################################"
   ]
  },
  {
   "cell_type": "raw",
   "metadata": {
    "Collapsed": "false"
   },
   "source": [
    "\n",
    "\n",
    "\n",
    "\n"
   ]
  }
 ],
 "metadata": {
  "kernelspec": {
   "display_name": "Python [conda env:PROJ_IrOx_Active_Learning_OER]",
   "language": "python",
   "name": "conda-env-PROJ_IrOx_Active_Learning_OER-py"
  },
  "language_info": {
   "codemirror_mode": {
    "name": "ipython",
    "version": 3
   },
   "file_extension": ".py",
   "mimetype": "text/x-python",
   "name": "python",
   "nbconvert_exporter": "python",
   "pygments_lexer": "ipython3",
   "version": "3.6.7"
  }
 },
 "nbformat": 4,
 "nbformat_minor": 4
}
