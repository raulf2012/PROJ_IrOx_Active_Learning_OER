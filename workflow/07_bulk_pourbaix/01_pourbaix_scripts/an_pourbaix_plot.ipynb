{
 "cells": [
  {
   "cell_type": "markdown",
   "metadata": {
    "incorrectly_encoded_metadata": "Collapsed=\"false\" toc-hr-collapsed=true"
   },
   "source": [
    "# Import Modules"
   ]
  },
  {
   "cell_type": "markdown",
   "metadata": {
    "Collapsed": "false"
   },
   "source": [
    "## Notebook Settings"
   ]
  },
  {
   "cell_type": "code",
   "execution_count": 1,
   "metadata": {
    "Collapsed": "false",
    "jupyter": {}
   },
   "outputs": [],
   "source": [
    "%%capture\n",
    "%load_ext autoreload\n",
    "%autoreload 2"
   ]
  },
  {
   "cell_type": "markdown",
   "metadata": {
    "Collapsed": "false"
   },
   "source": [
    "## Python Packages"
   ]
  },
  {
   "cell_type": "code",
   "execution_count": 2,
   "metadata": {
    "Collapsed": "false"
   },
   "outputs": [
    {
     "name": "stdout",
     "output_type": "stream",
     "text": [
      "/home/raulf2012/Dropbox/01_norskov/00_git_repos/PROJ_IrOx_Active_Learning_OER_test_1/workflow/07_bulk_pourbaix/01_pourbaix_scripts\n"
     ]
    },
    {
     "data": {
      "text/html": [
       "        <script type=\"text/javascript\">\n",
       "        window.PlotlyConfig = {MathJaxConfig: 'local'};\n",
       "        if (window.MathJax) {MathJax.Hub.Config({SVG: {font: \"STIX-Web\"}});}\n",
       "        if (typeof require !== 'undefined') {\n",
       "        require.undef(\"plotly\");\n",
       "        requirejs.config({\n",
       "            paths: {\n",
       "                'plotly': ['https://cdn.plot.ly/plotly-latest.min']\n",
       "            }\n",
       "        });\n",
       "        require(['plotly'], function(Plotly) {\n",
       "            window._Plotly = Plotly;\n",
       "        });\n",
       "        }\n",
       "        </script>\n",
       "        "
      ]
     },
     "metadata": {},
     "output_type": "display_data"
    }
   ],
   "source": [
    "import os\n",
    "print(os.getcwd())\n",
    "import sys\n",
    "\n",
    "sys.path.insert(\n",
    "    0,\n",
    "    os.path.join(\n",
    "        os.environ[\"PROJ_irox\"],\n",
    "        \"data\"))\n",
    "from proj_data_irox import proj_dir_name, irox_bulk_color_map\n",
    "\n",
    "# #############################################################################\n",
    "import copy\n",
    "\n",
    "import pickle\n",
    "\n",
    "import chart_studio.plotly as py\n",
    "import plotly.graph_objs as go\n",
    "\n",
    "import plotly.offline as py_off\n",
    "from plotly.offline import (\n",
    "    init_notebook_mode,\n",
    "    iplot,\n",
    "    )\n",
    "\n",
    "# #############################################################################\n",
    "from methods import (\n",
    "    create_pourbaix_plot,\n",
    "    create_outside_borders,\n",
    "    create_pourb_entry_outline,\n",
    "    create_oer_equil_line,\n",
    "    )\n",
    "\n",
    "init_notebook_mode(connected=True)\n",
    "\n",
    "\n",
    "# #############################################################################\n",
    "from plotting.my_plotly import (\n",
    "    add_minor_ticks,\n",
    "    my_plotly_plot,\n",
    "    add_duplicate_axes)"
   ]
  },
  {
   "cell_type": "markdown",
   "metadata": {
    "Collapsed": "false"
   },
   "source": [
    "# Script Inputs"
   ]
  },
  {
   "cell_type": "code",
   "execution_count": 3,
   "metadata": {
    "Collapsed": "false"
   },
   "outputs": [],
   "source": [
    "run_create_entries_script = True\n",
    "\n",
    "axis_ranges = {\n",
    "        \"x_axis\": [0., 14],\n",
    "        \"y_axis\": [0., 2.5],\n",
    "\n",
    "        # \"x_axis\": [-0.0001, 0.0001],\n",
    "        # \"y_axis\": [1.4920084, 1.4923185],\n",
    "        }\n",
    "\n",
    "entries_to_remove_list = [\n",
    "    # \"IrO3_TEMP00\",\n",
    "    # \"IrO3_TEMP01\",\n",
    "    # \"IrO3_TEMP02\",\n",
    "    # \"IrO3_TEMP03\",\n",
    "    # \"IrO3_TEMP04\",\n",
    "    # \"IrO3_TEMP05\",\n",
    "    # \"IrO3_TEMP06\",\n",
    "    # \"IrO3_TEMP07\",\n",
    "    # \"IrO3_TEMP08\",\n",
    "    # \"IrO3_TEMP09\",\n",
    "    # \"IrO3_TEMP10\",\n",
    "    # \"IrO3_TEMP11\",\n",
    "    # \"IrO3_TEMP12\",\n",
    "    # \"IrO3_TEMP13\",\n",
    "    # \"IrO3_TEMP14\",\n",
    "    # \"IrO3_TEMP15\",\n",
    "    # \"IrO3_TEMP16\",\n",
    "    # \"IrO3_TEMP17\",\n",
    "    # \"IrO3_TEMP18\",\n",
    "    # \"IrO3_TEMP19\",\n",
    "    # \"IrO3_TEMP20\",\n",
    "    # \"IrO3_TEMP21\",\n",
    "\n",
    "\n",
    "    \"IrO3_rutile-like\",\n",
    "    \"IrO3_battery\",\n",
    "\n",
    "    # \"IrO3_a-AlF3\",\n",
    "    ]"
   ]
  },
  {
   "cell_type": "markdown",
   "metadata": {
    "Collapsed": "false"
   },
   "source": [
    "# Load Entry Data"
   ]
  },
  {
   "cell_type": "code",
   "execution_count": 4,
   "metadata": {
    "Collapsed": "false"
   },
   "outputs": [
    {
     "name": "stdout",
     "output_type": "stream",
     "text": [
      "12345\n",
      "['sc_create_all_entries.py']\n",
      "12345\n",
      "{'Major_Elements': ['Ir'], 'Name': 'IrO4[-] ', 'Energy': -2.038081775, 'Reference solid energy': -1.214176376, 'Reference Solid': 'IrO2', 'Source': 'Douglas G. Brookins, Eh-pH Diagrams for Geochemistry, Springer-Verlag Berlin Heidelberg 2059'}\n",
      "\n",
      "IrO4[-]  Ir1 O4 -1 -2.038081775\n",
      "IrO4[-]  Ir1 O4 -1 -2.038081775\n",
      "# # # # # # # # # # # # # # # # # # # # # # # # # # # # # # # # # # # # # # # # \n",
      "All done!\n",
      "Traceback (most recent call last):\n",
      "  File \"sc_create_all_entries.py\", line 169, in <module>\n",
      "    assert False\n",
      "AssertionError\n"
     ]
    }
   ],
   "source": [
    "# %%capture\n",
    "\n",
    "if run_create_entries_script:\n",
    "    tmp = 42\n",
    "    !python sc_create_all_entries.py"
   ]
  },
  {
   "cell_type": "code",
   "execution_count": 5,
   "metadata": {},
   "outputs": [
    {
     "name": "stdout",
     "output_type": "stream",
     "text": [
      "123 SDKISJDIFJSIDPJF\n",
      "['/home/raulf2012/anaconda3/envs/PROJ_irox/lib/python3.6/site-packages/ipykernel_launcher.py', '-f', '/home/raulf2012/.local/share/jupyter/runtime/kernel-6f97177a-a978-499c-b796-30d291ec2044.json']\n"
     ]
    }
   ],
   "source": [
    "print(\"123 SDKISJDIFJSIDPJF\")\n",
    "print(sys.argv)\n",
    "\n",
    "stoich_i = \"AB2\"\n",
    "if sys.argv[-1] == \"AB2\" or sys.argv[-1] == \"AB3\":\n",
    "    stoich_i = sys.argv[-1]"
   ]
  },
  {
   "cell_type": "markdown",
   "metadata": {},
   "source": [
    "## All Pourbaix entries"
   ]
  },
  {
   "cell_type": "code",
   "execution_count": 6,
   "metadata": {
    "Collapsed": "false"
   },
   "outputs": [],
   "source": [
    "# #############################################################################\n",
    "path_i = os.path.join(\n",
    "    \"out_data\",\n",
    "    \"all_entries_\" + stoich_i + \".pickle\")\n",
    "with open(path_i, \"rb\") as fle:\n",
    "    all_entries = pickle.load(fle)\n",
    "# #############################################################################"
   ]
  },
  {
   "cell_type": "code",
   "execution_count": 7,
   "metadata": {},
   "outputs": [
    {
     "data": {
      "text/plain": [
       "[Pourbaix Entry : Ir1 with energy = 0.0000, npH = 0, nPhi = 0.0, nH2O = 0, entry_id = None ,\n",
       " Pourbaix Entry : Ir1 O2 with energy = 2.9641, npH = -4.0, nPhi = -4.0, nH2O = 2.0, entry_id = None ,\n",
       " Pourbaix Entry : Ir1 O4 with energy = 7.4405, npH = -8.0, nPhi = -7.0, nH2O = 4.0, entry_id = None ]"
      ]
     },
     "execution_count": 7,
     "metadata": {},
     "output_type": "execute_result"
    }
   ],
   "source": [
    "all_entries"
   ]
  },
  {
   "cell_type": "code",
   "execution_count": 8,
   "metadata": {},
   "outputs": [],
   "source": [
    "# assert False"
   ]
  },
  {
   "cell_type": "markdown",
   "metadata": {},
   "source": [
    "## Bulk Pourbaix transitions"
   ]
  },
  {
   "cell_type": "code",
   "execution_count": 9,
   "metadata": {},
   "outputs": [],
   "source": [
    "# path_i = os.path.join(\n",
    "#     os.environ[\"PROJ_irox\"],\n",
    "#     \"workflow/07_bulk_pourbaix/01_pourbaix_scripts\",\n",
    "#     \"out_data/bulk_pourb_transitions.pickle\")\n",
    "# with open(path_i, \"rb\") as fle:\n",
    "#     pourb_trans = pickle.load(fle)\n",
    "\n",
    "# pourb_trans"
   ]
  },
  {
   "cell_type": "markdown",
   "metadata": {
    "Collapsed": "false"
   },
   "source": [
    "# Process Data for Plotting"
   ]
  },
  {
   "cell_type": "code",
   "execution_count": 10,
   "metadata": {},
   "outputs": [
    {
     "data": {
      "text/plain": [
       "[Pourbaix Entry : Ir1 with energy = 0.0000, npH = 0, nPhi = 0.0, nH2O = 0, entry_id = None ,\n",
       " Pourbaix Entry : Ir1 O2 with energy = 2.9641, npH = -4.0, nPhi = -4.0, nH2O = 2.0, entry_id = None ,\n",
       " Pourbaix Entry : Ir1 O4 with energy = 7.4405, npH = -8.0, nPhi = -7.0, nH2O = 4.0, entry_id = None ]"
      ]
     },
     "execution_count": 10,
     "metadata": {},
     "output_type": "execute_result"
    }
   ],
   "source": [
    "all_entries"
   ]
  },
  {
   "cell_type": "code",
   "execution_count": 11,
   "metadata": {},
   "outputs": [
    {
     "data": {
      "text/plain": [
       "['IrO3_rutile-like', 'IrO3_battery']"
      ]
     },
     "execution_count": 11,
     "metadata": {},
     "output_type": "execute_result"
    }
   ],
   "source": [
    "entries_to_remove_list"
   ]
  },
  {
   "cell_type": "code",
   "execution_count": 12,
   "metadata": {
    "Collapsed": "false"
   },
   "outputs": [],
   "source": [
    "%%capture\n",
    "\n",
    "data_entry_borders = create_pourb_entry_outline(\n",
    "    entries_to_remove_list=entries_to_remove_list,\n",
    "    all_entries=all_entries)\n",
    "\n",
    "data = create_pourbaix_plot(entries=all_entries, axis_ranges=axis_ranges)\n",
    "\n",
    "oer_equil_line = create_oer_equil_line(axis_ranges=axis_ranges)\n",
    "\n",
    "data += data_entry_borders\n",
    "data += [oer_equil_line]"
   ]
  },
  {
   "cell_type": "markdown",
   "metadata": {
    "Collapsed": "false"
   },
   "source": [
    "# Plotting"
   ]
  },
  {
   "cell_type": "code",
   "execution_count": 13,
   "metadata": {},
   "outputs": [],
   "source": [
    "from layout import layout\n",
    "\n",
    "fig = go.Figure(\n",
    "    data=data,\n",
    "    layout=layout,\n",
    "    )\n",
    "\n",
    "\n",
    "x_axis_range_tmp = [\n",
    "    axis_ranges[\"x_axis\"][0] + 0.03,\n",
    "    axis_ranges[\"x_axis\"][1] - 0.03,\n",
    "    ]\n",
    "\n",
    "\n",
    "y_axis_range_tmp = [\n",
    "    axis_ranges[\"y_axis\"][0] + 0.03,\n",
    "    axis_ranges[\"y_axis\"][1] - 0.03,\n",
    "    ]\n",
    "\n",
    "fig.layout.yaxis.range = y_axis_range_tmp\n",
    "fig.layout.xaxis.range = x_axis_range_tmp\n",
    "\n",
    "# fig.layout.yaxis.range = axis_ranges[\"y_axis\"]\n",
    "# fig.layout.xaxis.range = axis_ranges[\"x_axis\"]"
   ]
  },
  {
   "cell_type": "code",
   "execution_count": 14,
   "metadata": {},
   "outputs": [
    {
     "name": "stdout",
     "output_type": "stream",
     "text": [
      "\n",
      "\n",
      "\n",
      "\n",
      "\n",
      "\n"
     ]
    }
   ],
   "source": [
    "# len(layout.annotations)\n",
    "\n",
    "annotations_new = []\n",
    "for annot_i in layout.annotations:\n",
    "    # print(annot_i)\n",
    "    \n",
    "    if \"<sub>3<\" in annot_i.text:\n",
    "        # print(annot_i)\n",
    "        \n",
    "        annotations_new.append(annot_i)\n",
    "\n",
    "    print(\"\")"
   ]
  },
  {
   "cell_type": "code",
   "execution_count": 15,
   "metadata": {},
   "outputs": [],
   "source": [
    "%%capture\n",
    "\n",
    "fig.layout.update(annotations=annotations_new)"
   ]
  },
  {
   "cell_type": "markdown",
   "metadata": {},
   "source": [
    "# Adding 2nd x-axis for minor ticks"
   ]
  },
  {
   "cell_type": "code",
   "execution_count": 16,
   "metadata": {},
   "outputs": [],
   "source": [
    "shared_dupl_axis = dict(\n",
    "    tickcolor=\"black\",\n",
    "    ticklen=3)\n",
    "\n",
    "ticks_props_new_x = go.layout.XAxis(\n",
    "    tick0=0,\n",
    "    **shared_dupl_axis)\n",
    "\n",
    "ticks_props_new_y = go.layout.YAxis(\n",
    "    dtick=0.25,\n",
    "    **shared_dupl_axis)\n",
    "\n",
    "\n",
    "add_duplicate_axes(\n",
    "    fig, axis_type='x',\n",
    "    axis_data=ticks_props_new_x.to_plotly_json())\n",
    "\n",
    "add_duplicate_axes(\n",
    "    fig, axis_type='y',\n",
    "    axis_data=ticks_props_new_y.to_plotly_json())"
   ]
  },
  {
   "cell_type": "code",
   "execution_count": 17,
   "metadata": {},
   "outputs": [
    {
     "name": "stdout",
     "output_type": "stream",
     "text": [
      "Writing pdf with ORCA\n",
      "prepath: out_plot/bulk_pourbaix\n"
     ]
    }
   ],
   "source": [
    "my_plotly_plot(\n",
    "    figure=fig,\n",
    "    # plot_name=\"bulk_pourbaix_wo_alpha\",\n",
    "    plot_name=\"bulk_pourbaix_\" + stoich_i,\n",
    "    write_html=True,\n",
    "    write_png=False,\n",
    "    png_scale=6.0,\n",
    "    write_pdf=True,\n",
    "    write_svg=False,\n",
    "    try_orca_write=True,\n",
    "    )\n",
    "\n",
    "# fig.show()"
   ]
  },
  {
   "cell_type": "markdown",
   "metadata": {},
   "source": [
    "# Saving figure to pickle"
   ]
  },
  {
   "cell_type": "code",
   "execution_count": 20,
   "metadata": {
    "Collapsed": "false"
   },
   "outputs": [],
   "source": [
    "# Pickling data ######################################################\n",
    "directory = \"out_data\"\n",
    "if not os.path.exists(directory): os.makedirs(directory)\n",
    "with open(os.path.join(directory, \"pourb_fig_\" + stoich_i + \".pickle\"), \"wb\") as fle:\n",
    "    pickle.dump(fig, fle)\n",
    "# #####################################################################"
   ]
  },
  {
   "cell_type": "code",
   "execution_count": 19,
   "metadata": {},
   "outputs": [
    {
     "name": "stdout",
     "output_type": "stream",
     "text": [
      "# # # # # # # # # # # # # # # # # # # # # # # # # # # # # # # # # # # # # # # # \n",
      "All done!\n"
     ]
    },
    {
     "ename": "AssertionError",
     "evalue": "",
     "output_type": "error",
     "traceback": [
      "\u001b[0;31m---------------------------------------------------------------------------\u001b[0m",
      "\u001b[0;31mAssertionError\u001b[0m                            Traceback (most recent call last)",
      "\u001b[0;32m<ipython-input-19-7808a1103591>\u001b[0m in \u001b[0;36m<module>\u001b[0;34m\u001b[0m\n\u001b[1;32m      1\u001b[0m \u001b[0mprint\u001b[0m\u001b[0;34m(\u001b[0m\u001b[0;36m20\u001b[0m \u001b[0;34m*\u001b[0m \u001b[0;34m\"# # \"\u001b[0m\u001b[0;34m)\u001b[0m\u001b[0;34m\u001b[0m\u001b[0;34m\u001b[0m\u001b[0m\n\u001b[1;32m      2\u001b[0m \u001b[0mprint\u001b[0m\u001b[0;34m(\u001b[0m\u001b[0;34m\"All done!\"\u001b[0m\u001b[0;34m)\u001b[0m\u001b[0;34m\u001b[0m\u001b[0;34m\u001b[0m\u001b[0m\n\u001b[0;32m----> 3\u001b[0;31m \u001b[0;32massert\u001b[0m \u001b[0;32mFalse\u001b[0m\u001b[0;34m\u001b[0m\u001b[0;34m\u001b[0m\u001b[0m\n\u001b[0m",
      "\u001b[0;31mAssertionError\u001b[0m: "
     ]
    }
   ],
   "source": [
    "print(20 * \"# # \")\n",
    "print(\"All done!\")\n",
    "assert False"
   ]
  },
  {
   "cell_type": "code",
   "execution_count": null,
   "metadata": {},
   "outputs": [],
   "source": [
    "fig.show()"
   ]
  }
 ],
 "metadata": {
  "kernelspec": {
   "display_name": "Python [conda env:PROJ_irox]",
   "language": "python",
   "name": "conda-env-PROJ_irox-py"
  },
  "language_info": {
   "codemirror_mode": {
    "name": "ipython",
    "version": 3
   },
   "file_extension": ".py",
   "mimetype": "text/x-python",
   "name": "python",
   "nbconvert_exporter": "python",
   "pygments_lexer": "ipython3",
   "version": "3.6.10"
  }
 },
 "nbformat": 4,
 "nbformat_minor": 4
}
