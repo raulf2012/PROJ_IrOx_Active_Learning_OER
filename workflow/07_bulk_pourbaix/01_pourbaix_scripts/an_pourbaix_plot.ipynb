{
 "cells": [
  {
   "cell_type": "markdown",
   "metadata": {
    "incorrectly_encoded_metadata": "Collapsed=\"false\" toc-hr-collapsed=true"
   },
   "source": [
    "# Import Modules"
   ]
  },
  {
   "cell_type": "markdown",
   "metadata": {
    "Collapsed": "false"
   },
   "source": [
    "## Notebook Settings"
   ]
  },
  {
   "cell_type": "code",
   "execution_count": 1,
   "metadata": {
    "Collapsed": "false",
    "jupyter": {}
   },
   "outputs": [],
   "source": [
    "%%capture\n",
    "%load_ext autoreload\n",
    "%autoreload 2"
   ]
  },
  {
   "cell_type": "markdown",
   "metadata": {
    "Collapsed": "false"
   },
   "source": [
    "## Python Packages"
   ]
  },
  {
   "cell_type": "code",
   "execution_count": 2,
   "metadata": {
    "Collapsed": "false"
   },
   "outputs": [
    {
     "name": "stdout",
     "output_type": "stream",
     "text": [
      "/mnt/f/Dropbox/01_norskov/00_git_repos/PROJ_IrOx_Active_Learning_OER/workflow/07_bulk_pourbaix/01_pourbaix_scripts\n"
     ]
    },
    {
     "data": {
      "text/html": [
       "        <script type=\"text/javascript\">\n",
       "        window.PlotlyConfig = {MathJaxConfig: 'local'};\n",
       "        if (window.MathJax) {MathJax.Hub.Config({SVG: {font: \"STIX-Web\"}});}\n",
       "        if (typeof require !== 'undefined') {\n",
       "        require.undef(\"plotly\");\n",
       "        requirejs.config({\n",
       "            paths: {\n",
       "                'plotly': ['https://cdn.plot.ly/plotly-latest.min']\n",
       "            }\n",
       "        });\n",
       "        require(['plotly'], function(Plotly) {\n",
       "            window._Plotly = Plotly;\n",
       "        });\n",
       "        }\n",
       "        </script>\n",
       "        "
      ]
     },
     "metadata": {},
     "output_type": "display_data"
    }
   ],
   "source": [
    "import sys\n",
    "import os\n",
    "print(os.getcwd())\n",
    "\n",
    "sys.path.insert(\n",
    "    0,\n",
    "    os.path.join(\n",
    "        os.environ[\"PROJ_irox\"],\n",
    "        \"data\"))\n",
    "from proj_data_irox import proj_dir_name, irox_bulk_color_map\n",
    "\n",
    "# #############################################################################\n",
    "import copy\n",
    "\n",
    "import pickle\n",
    "\n",
    "import chart_studio.plotly as py\n",
    "import plotly.graph_objs as go\n",
    "\n",
    "import plotly.offline as py_off\n",
    "from plotly.offline import (\n",
    "    init_notebook_mode,\n",
    "    iplot,\n",
    "    )\n",
    "\n",
    "# #############################################################################\n",
    "from methods import (\n",
    "    create_pourbaix_plot,\n",
    "    create_outside_borders,\n",
    "    create_pourb_entry_outline,\n",
    "    create_oer_equil_line,\n",
    "    )\n",
    "\n",
    "init_notebook_mode(connected=True)\n",
    "\n",
    "\n",
    "# #############################################################################\n",
    "from plotting.my_plotly import (\n",
    "    add_minor_ticks,\n",
    "    my_plotly_plot,\n",
    "    add_duplicate_axes)"
   ]
  },
  {
   "cell_type": "markdown",
   "metadata": {
    "Collapsed": "false"
   },
   "source": [
    "# Script Inputs"
   ]
  },
  {
   "cell_type": "code",
   "execution_count": 3,
   "metadata": {
    "Collapsed": "false"
   },
   "outputs": [],
   "source": [
    "run_create_entries_script = True\n",
    "\n",
    "axis_ranges = {\n",
    "        \"x_axis\": [0., 14],\n",
    "        \"y_axis\": [0., 2.5],\n",
    "\n",
    "        # \"x_axis\": [-0.0001, 0.0001],\n",
    "        # \"y_axis\": [1.4920084, 1.4923185],\n",
    "        }\n",
    "\n",
    "entries_to_remove_list = [\n",
    "    # \"IrO3_TEMP00\",\n",
    "    # \"IrO3_TEMP01\",\n",
    "    # \"IrO3_TEMP02\",\n",
    "    # \"IrO3_TEMP03\",\n",
    "    # \"IrO3_TEMP04\",\n",
    "    # \"IrO3_TEMP05\",\n",
    "    # \"IrO3_TEMP06\",\n",
    "    # \"IrO3_TEMP07\",\n",
    "    # \"IrO3_TEMP08\",\n",
    "    # \"IrO3_TEMP09\",\n",
    "    # \"IrO3_TEMP10\",\n",
    "    # \"IrO3_TEMP11\",\n",
    "    # \"IrO3_TEMP12\",\n",
    "    # \"IrO3_TEMP13\",\n",
    "    # \"IrO3_TEMP14\",\n",
    "    # \"IrO3_TEMP15\",\n",
    "    # \"IrO3_TEMP16\",\n",
    "    # \"IrO3_TEMP17\",\n",
    "    # \"IrO3_TEMP18\",\n",
    "    # \"IrO3_TEMP19\",\n",
    "    # \"IrO3_TEMP20\",\n",
    "    # \"IrO3_TEMP21\",\n",
    "\n",
    "\n",
    "    \"IrO3_rutile-like\",\n",
    "    \"IrO3_battery\",\n",
    "\n",
    "    # \"IrO3_a-AlF3\",\n",
    "    ]"
   ]
  },
  {
   "cell_type": "markdown",
   "metadata": {
    "Collapsed": "false"
   },
   "source": [
    "# Load Entry Data"
   ]
  },
  {
   "cell_type": "code",
   "execution_count": 4,
   "metadata": {
    "Collapsed": "false"
   },
   "outputs": [
    {
     "name": "stdout",
     "output_type": "stream",
     "text": [
      "{'Major_Elements': ['Ir'], 'Name': 'IrO4[-] ', 'Energy': -2.038081775, 'Reference solid energy': -1.214176376, 'Reference Solid': 'IrO2', 'Source': 'Douglas G. Brookins, Eh-pH Diagrams for Geochemistry, Springer-Verlag Berlin Heidelberg 2059'}\n",
      "\n",
      "IrO4[-]  Ir1 O4 -1 -2.038081775\n",
      "IrO4[-]  Ir1 O4 -1 -2.038081775\n"
     ]
    }
   ],
   "source": [
    "# %%capture\n",
    "\n",
    "if run_create_entries_script:\n",
    "    !python sc_create_all_entries.py"
   ]
  },
  {
   "cell_type": "markdown",
   "metadata": {},
   "source": [
    "## All Pourbaix entries"
   ]
  },
  {
   "cell_type": "code",
   "execution_count": 5,
   "metadata": {
    "Collapsed": "false"
   },
   "outputs": [],
   "source": [
    "# #############################################################################\n",
    "path_i = os.path.join(\n",
    "    \"out_data\",\n",
    "    \"all_entries.pickle\")\n",
    "with open(path_i, \"rb\") as fle:\n",
    "    all_entries = pickle.load(fle)\n",
    "# #############################################################################"
   ]
  },
  {
   "cell_type": "code",
   "execution_count": 6,
   "metadata": {},
   "outputs": [
    {
     "data": {
      "text/plain": [
       "[Pourbaix Entry : Ir1 with energy = 0.0000, npH = 0, nPhi = 0.0, nH2O = 0, entry_id = None ,\n",
       " Pourbaix Entry : Ir1 O2 with energy = 2.9641, npH = -4.0, nPhi = -4.0, nH2O = 2.0, entry_id = None ,\n",
       " Pourbaix Entry : Ir1 O3 with energy = 5.5611, npH = -6.0, nPhi = -6.0, nH2O = 3.0, entry_id = None ,\n",
       " Pourbaix Entry : Ir1 O3 with energy = 5.6127, npH = -6.0, nPhi = -6.0, nH2O = 3.0, entry_id = None ,\n",
       " Pourbaix Entry : Ir1 O3 with energy = 5.7766, npH = -6.0, nPhi = -6.0, nH2O = 3.0, entry_id = None ,\n",
       " Pourbaix Entry : Ir1 O3 with energy = 5.9489, npH = -6.0, nPhi = -6.0, nH2O = 3.0, entry_id = None ,\n",
       " Pourbaix Entry : Ir1 O4 with energy = 7.4405, npH = -8.0, nPhi = -7.0, nH2O = 4.0, entry_id = None ]"
      ]
     },
     "execution_count": 6,
     "metadata": {},
     "output_type": "execute_result"
    }
   ],
   "source": [
    "all_entries"
   ]
  },
  {
   "cell_type": "code",
   "execution_count": 7,
   "metadata": {},
   "outputs": [],
   "source": [
    "# assert False"
   ]
  },
  {
   "cell_type": "markdown",
   "metadata": {},
   "source": [
    "## Bulk Pourbaix transitions"
   ]
  },
  {
   "cell_type": "code",
   "execution_count": 8,
   "metadata": {},
   "outputs": [],
   "source": [
    "# path_i = os.path.join(\n",
    "#     os.environ[\"PROJ_irox\"],\n",
    "#     \"workflow/07_bulk_pourbaix/01_pourbaix_scripts\",\n",
    "#     \"out_data/bulk_pourb_transitions.pickle\")\n",
    "# with open(path_i, \"rb\") as fle:\n",
    "#     pourb_trans = pickle.load(fle)\n",
    "\n",
    "# pourb_trans"
   ]
  },
  {
   "cell_type": "markdown",
   "metadata": {
    "Collapsed": "false"
   },
   "source": [
    "# Process Data for Plotting"
   ]
  },
  {
   "cell_type": "code",
   "execution_count": 9,
   "metadata": {},
   "outputs": [
    {
     "data": {
      "text/plain": [
       "[Pourbaix Entry : Ir1 with energy = 0.0000, npH = 0, nPhi = 0.0, nH2O = 0, entry_id = None ,\n",
       " Pourbaix Entry : Ir1 O2 with energy = 2.9641, npH = -4.0, nPhi = -4.0, nH2O = 2.0, entry_id = None ,\n",
       " Pourbaix Entry : Ir1 O3 with energy = 5.5611, npH = -6.0, nPhi = -6.0, nH2O = 3.0, entry_id = None ,\n",
       " Pourbaix Entry : Ir1 O3 with energy = 5.6127, npH = -6.0, nPhi = -6.0, nH2O = 3.0, entry_id = None ,\n",
       " Pourbaix Entry : Ir1 O3 with energy = 5.7766, npH = -6.0, nPhi = -6.0, nH2O = 3.0, entry_id = None ,\n",
       " Pourbaix Entry : Ir1 O3 with energy = 5.9489, npH = -6.0, nPhi = -6.0, nH2O = 3.0, entry_id = None ,\n",
       " Pourbaix Entry : Ir1 O4 with energy = 7.4405, npH = -8.0, nPhi = -7.0, nH2O = 4.0, entry_id = None ]"
      ]
     },
     "execution_count": 9,
     "metadata": {},
     "output_type": "execute_result"
    }
   ],
   "source": [
    "all_entries"
   ]
  },
  {
   "cell_type": "code",
   "execution_count": 10,
   "metadata": {},
   "outputs": [
    {
     "data": {
      "text/plain": [
       "['IrO3_rutile-like', 'IrO3_battery']"
      ]
     },
     "execution_count": 10,
     "metadata": {},
     "output_type": "execute_result"
    }
   ],
   "source": [
    "entries_to_remove_list"
   ]
  },
  {
   "cell_type": "code",
   "execution_count": 11,
   "metadata": {
    "Collapsed": "false"
   },
   "outputs": [],
   "source": [
    "%%capture\n",
    "\n",
    "data_entry_borders = create_pourb_entry_outline(\n",
    "    entries_to_remove_list=entries_to_remove_list,\n",
    "    all_entries=all_entries)\n",
    "\n",
    "data = create_pourbaix_plot(entries=all_entries, axis_ranges=axis_ranges)\n",
    "\n",
    "oer_equil_line = create_oer_equil_line(axis_ranges=axis_ranges)\n",
    "\n",
    "data += data_entry_borders\n",
    "data += [oer_equil_line]"
   ]
  },
  {
   "cell_type": "markdown",
   "metadata": {
    "Collapsed": "false"
   },
   "source": [
    "# Plotting"
   ]
  },
  {
   "cell_type": "code",
   "execution_count": 12,
   "metadata": {},
   "outputs": [],
   "source": [
    "from layout import layout\n",
    "\n",
    "fig = go.Figure(\n",
    "    data=data,\n",
    "    layout=layout,\n",
    "    )\n",
    "\n",
    "\n",
    "x_axis_range_tmp = [\n",
    "    axis_ranges[\"x_axis\"][0] + 0.03,\n",
    "    axis_ranges[\"x_axis\"][1] - 0.03,\n",
    "    ]\n",
    "\n",
    "\n",
    "y_axis_range_tmp = [\n",
    "    axis_ranges[\"y_axis\"][0] + 0.03,\n",
    "    axis_ranges[\"y_axis\"][1] - 0.03,\n",
    "    ]\n",
    "\n",
    "fig.layout.yaxis.range = y_axis_range_tmp\n",
    "fig.layout.xaxis.range = x_axis_range_tmp\n",
    "\n",
    "# fig.layout.yaxis.range = axis_ranges[\"y_axis\"]\n",
    "# fig.layout.xaxis.range = axis_ranges[\"x_axis\"]"
   ]
  },
  {
   "cell_type": "code",
   "execution_count": 13,
   "metadata": {},
   "outputs": [
    {
     "name": "stdout",
     "output_type": "stream",
     "text": [
      "\n",
      "\n",
      "\n",
      "\n",
      "\n",
      "\n"
     ]
    }
   ],
   "source": [
    "# len(layout.annotations)\n",
    "\n",
    "annotations_new = []\n",
    "for annot_i in layout.annotations:\n",
    "    # print(annot_i)\n",
    "    \n",
    "    if \"<sub>3<\" in annot_i.text:\n",
    "        # print(annot_i)\n",
    "        \n",
    "        annotations_new.append(annot_i)\n",
    "\n",
    "    print(\"\")"
   ]
  },
  {
   "cell_type": "code",
   "execution_count": 14,
   "metadata": {},
   "outputs": [],
   "source": [
    "%%capture\n",
    "\n",
    "fig.layout.update(annotations=annotations_new)"
   ]
  },
  {
   "cell_type": "markdown",
   "metadata": {},
   "source": [
    "# Adding 2nd x-axis for minor ticks"
   ]
  },
  {
   "cell_type": "code",
   "execution_count": 15,
   "metadata": {},
   "outputs": [],
   "source": [
    "shared_dupl_axis = dict(\n",
    "    tickcolor=\"black\",\n",
    "    ticklen=3)\n",
    "\n",
    "ticks_props_new_x = go.layout.XAxis(\n",
    "    tick0=0,\n",
    "    **shared_dupl_axis)\n",
    "\n",
    "ticks_props_new_y = go.layout.YAxis(\n",
    "    dtick=0.25,\n",
    "    **shared_dupl_axis)\n",
    "\n",
    "\n",
    "add_duplicate_axes(\n",
    "    fig, axis_type='x',\n",
    "    axis_data=ticks_props_new_x.to_plotly_json())\n",
    "\n",
    "add_duplicate_axes(\n",
    "    fig, axis_type='y',\n",
    "    axis_data=ticks_props_new_y.to_plotly_json())"
   ]
  },
  {
   "cell_type": "code",
   "execution_count": 16,
   "metadata": {},
   "outputs": [
    {
     "name": "stdout",
     "output_type": "stream",
     "text": [
      "Writing pdf with ORCA\n",
      "prepath: out_plot/bulk_pourbaix\n",
      "Couldn't write pdf\n"
     ]
    },
    {
     "data": {
      "application/vnd.plotly.v1+json": {
       "config": {
        "plotlyServerURL": "https://plot.ly"
       },
       "data": [
        {
         "fill": "toself",
         "fillcolor": "#6799A3",
         "hoverinfo": "none",
         "line": {
          "color": "black",
          "width": 1
         },
         "mode": "lines",
         "name": "Ir",
         "showlegend": true,
         "type": "scatter",
         "x": [
          12.538536275989358,
          -8.881784197001252e-16,
          0,
          12.538536275989358
         ],
         "y": [
          -2.220446049250313e-16,
          0,
          0.7410274939109713,
          -2.220446049250313e-16
         ]
        },
        {
         "hoverinfo": "name",
         "mode": "lines",
         "name": "Ir",
         "showlegend": false,
         "text": [
          "Ir"
         ],
         "textfont": {
          "color": "black",
          "family": "Arial",
          "size": 12
         },
         "textposition": "bottom center",
         "type": "scatter",
         "x": [
          4.179512091996453
         ],
         "y": [
          0.24700916463699038
         ]
        },
        {
         "fill": "toself",
         "fillcolor": "#7FC97F",
         "hoverinfo": "none",
         "line": {
          "color": "black",
          "width": 1
         },
         "mode": "lines",
         "name": "IrO2",
         "showlegend": true,
         "type": "scatter",
         "x": [
          0,
          0,
          9.828299476628256,
          14.000000000000004,
          14,
          12.538536275989358,
          0
         ],
         "y": [
          0.7410274939109713,
          1.2985185834291284,
          0.7176660843603982,
          0.38893608311870476,
          0,
          -2.220446049250313e-16,
          0.7410274939109713
         ]
        },
        {
         "hoverinfo": "name",
         "mode": "lines",
         "name": "IrO2",
         "showlegend": false,
         "text": [
          "IrO2"
         ],
         "textfont": {
          "color": "black",
          "family": "Arial",
          "size": 12
         },
         "textposition": "bottom center",
         "type": "scatter",
         "x": [
          8.39447262543627
         ],
         "y": [
          0.5243580408032004
         ]
        },
        {
         "fill": "toself",
         "fillcolor": "#BEAED4",
         "hoverinfo": "none",
         "line": {
          "color": "black",
          "width": 1
         },
         "mode": "lines",
         "name": "IrO3_a-AlF3",
         "showlegend": true,
         "type": "scatter",
         "x": [
          9.828299476628256,
          0,
          -8.881784197001252e-16,
          9.828299476628256
         ],
         "y": [
          0.7176660843603982,
          1.2985185834291284,
          1.8793710824978573,
          0.7176660843603982
         ]
        },
        {
         "hoverinfo": "name",
         "mode": "lines",
         "name": "IrO3_a-AlF3",
         "showlegend": false,
         "text": [
          "IrO3_a-AlF3"
         ],
         "textfont": {
          "color": "black",
          "family": "Arial",
          "size": 12
         },
         "textposition": "bottom center",
         "type": "scatter",
         "x": [
          3.2760998255427523
         ],
         "y": [
          1.298518583429128
         ]
        },
        {
         "fill": "toself",
         "fillcolor": "#3a3a3a",
         "hoverinfo": "none",
         "line": {
          "color": "black",
          "width": 1
         },
         "mode": "lines",
         "name": "IrO4-",
         "showlegend": true,
         "type": "scatter",
         "x": [
          14.000000000000004,
          9.828299476628256,
          -8.881784197001252e-16,
          8.881784197001252e-16,
          14,
          14.000000000000004
         ],
         "y": [
          0.38893608311870476,
          0.7176660843603982,
          1.8793710824978573,
          2.5,
          2.5,
          0.38893608311870476
         ]
        },
        {
         "hoverinfo": "name",
         "mode": "lines",
         "name": "IrO4-",
         "showlegend": false,
         "text": [
          "IrO4-"
         ],
         "textfont": {
          "color": "black",
          "family": "Arial",
          "size": 12
         },
         "textposition": "bottom center",
         "type": "scatter",
         "x": [
          7.565659895325652
         ],
         "y": [
          1.5971946499953922
         ]
        },
        {
         "line": {
          "color": "#FDC086",
          "width": 2
         },
         "mode": "lines",
         "type": "scatter",
         "x": [
          8.520151570536848,
          -1.9999999999999998,
          -1.9999999999999998,
          8.520151570536848
         ],
         "y": [
          0.8207481393604027,
          1.442489097179131,
          2.064230054997857,
          0.8207481393604027
         ]
        },
        {
         "line": {
          "color": "#ff9dcd",
          "width": 2
         },
         "mode": "lines",
         "type": "scatter",
         "x": [
          4.359186421425207,
          -2.0000000000000018,
          -2.0000000000000018,
          4.359186421425207
         ],
         "y": [
          1.1486321931104,
          1.52446011061663,
          1.9002880281228602,
          1.1486321931104
         ]
        },
        {
         "line": {
          "color": "#444444",
          "dash": "dot",
          "width": 1
         },
         "mode": "lines",
         "name": "lines",
         "type": "scatter",
         "x": [
          0,
          14
         ],
         "y": [
          1.23,
          0.40259999999999996
         ]
        },
        {
         "type": "scatter",
         "xaxis": "x2"
        },
        {
         "type": "scatter",
         "yaxis": "y2"
        },
        {
         "type": "scatter",
         "yaxis": "y3"
        }
       ],
       "layout": {
        "annotations": [
         {
          "font": {
           "color": "#BEAED4",
           "size": 13.333333333333332
          },
          "showarrow": false,
          "text": "α-AlF<sub>3</sub> IrO<sub>3</sub> (s)",
          "x": 0.02,
          "xanchor": "left",
          "xref": "paper",
          "y": 0.85,
          "yanchor": "top",
          "yref": "paper",
          "yshift": 0
         },
         {
          "font": {
           "color": "#FDC086",
           "size": 13.333333333333332
          },
          "showarrow": false,
          "text": "R-IrO<sub>3</sub> (s)",
          "x": 0.13,
          "xanchor": "left",
          "xref": "paper",
          "y": 0.775,
          "yanchor": "top",
          "yref": "paper",
          "yshift": 0
         },
         {
          "font": {
           "color": "#ff9dcd",
           "size": 13.333333333333332
          },
          "showarrow": false,
          "text": "β-IrO<sub>3</sub> (s)",
          "x": 0.24,
          "xanchor": "left",
          "xref": "paper",
          "y": 0.7,
          "yanchor": "top",
          "yref": "paper",
          "yshift": 0
         },
         {
          "font": {
           "color": "#BEAED4",
           "size": 13.333333333333332
          },
          "showarrow": false,
          "text": "α-AlF<sub>3</sub> IrO<sub>3</sub> (s)",
          "x": 0.02,
          "xanchor": "left",
          "xref": "paper",
          "y": 0.85,
          "yanchor": "top",
          "yref": "paper",
          "yshift": 0
         },
         {
          "font": {
           "color": "#FDC086",
           "size": 13.333333333333332
          },
          "showarrow": false,
          "text": "R-IrO<sub>3</sub> (s)",
          "x": 0.13,
          "xanchor": "left",
          "xref": "paper",
          "y": 0.775,
          "yanchor": "top",
          "yref": "paper",
          "yshift": 0
         },
         {
          "font": {
           "color": "#ff9dcd",
           "size": 13.333333333333332
          },
          "showarrow": false,
          "text": "β-IrO<sub>3</sub> (s)",
          "x": 0.24,
          "xanchor": "left",
          "xref": "paper",
          "y": 0.7,
          "yanchor": "top",
          "yref": "paper",
          "yshift": 0
         }
        ],
        "font": {
         "color": "black",
         "family": "Arial"
        },
        "height": 264.566929137,
        "margin": {
         "b": 0,
         "l": 0,
         "r": 0,
         "t": 0
        },
        "paper_bgcolor": "rgba(255,255,255,0.9)",
        "plot_bgcolor": "rgba(255,255,255,0.)",
        "showlegend": false,
        "template": {
         "data": {
          "bar": [
           {
            "error_x": {
             "color": "#2a3f5f"
            },
            "error_y": {
             "color": "#2a3f5f"
            },
            "marker": {
             "line": {
              "color": "#E5ECF6",
              "width": 0.5
             }
            },
            "type": "bar"
           }
          ],
          "barpolar": [
           {
            "marker": {
             "line": {
              "color": "#E5ECF6",
              "width": 0.5
             }
            },
            "type": "barpolar"
           }
          ],
          "carpet": [
           {
            "aaxis": {
             "endlinecolor": "#2a3f5f",
             "gridcolor": "white",
             "linecolor": "white",
             "minorgridcolor": "white",
             "startlinecolor": "#2a3f5f"
            },
            "baxis": {
             "endlinecolor": "#2a3f5f",
             "gridcolor": "white",
             "linecolor": "white",
             "minorgridcolor": "white",
             "startlinecolor": "#2a3f5f"
            },
            "type": "carpet"
           }
          ],
          "choropleth": [
           {
            "colorbar": {
             "outlinewidth": 0,
             "ticks": ""
            },
            "type": "choropleth"
           }
          ],
          "contour": [
           {
            "colorbar": {
             "outlinewidth": 0,
             "ticks": ""
            },
            "colorscale": [
             [
              0,
              "#0d0887"
             ],
             [
              0.1111111111111111,
              "#46039f"
             ],
             [
              0.2222222222222222,
              "#7201a8"
             ],
             [
              0.3333333333333333,
              "#9c179e"
             ],
             [
              0.4444444444444444,
              "#bd3786"
             ],
             [
              0.5555555555555556,
              "#d8576b"
             ],
             [
              0.6666666666666666,
              "#ed7953"
             ],
             [
              0.7777777777777778,
              "#fb9f3a"
             ],
             [
              0.8888888888888888,
              "#fdca26"
             ],
             [
              1,
              "#f0f921"
             ]
            ],
            "type": "contour"
           }
          ],
          "contourcarpet": [
           {
            "colorbar": {
             "outlinewidth": 0,
             "ticks": ""
            },
            "type": "contourcarpet"
           }
          ],
          "heatmap": [
           {
            "colorbar": {
             "outlinewidth": 0,
             "ticks": ""
            },
            "colorscale": [
             [
              0,
              "#0d0887"
             ],
             [
              0.1111111111111111,
              "#46039f"
             ],
             [
              0.2222222222222222,
              "#7201a8"
             ],
             [
              0.3333333333333333,
              "#9c179e"
             ],
             [
              0.4444444444444444,
              "#bd3786"
             ],
             [
              0.5555555555555556,
              "#d8576b"
             ],
             [
              0.6666666666666666,
              "#ed7953"
             ],
             [
              0.7777777777777778,
              "#fb9f3a"
             ],
             [
              0.8888888888888888,
              "#fdca26"
             ],
             [
              1,
              "#f0f921"
             ]
            ],
            "type": "heatmap"
           }
          ],
          "heatmapgl": [
           {
            "colorbar": {
             "outlinewidth": 0,
             "ticks": ""
            },
            "colorscale": [
             [
              0,
              "#0d0887"
             ],
             [
              0.1111111111111111,
              "#46039f"
             ],
             [
              0.2222222222222222,
              "#7201a8"
             ],
             [
              0.3333333333333333,
              "#9c179e"
             ],
             [
              0.4444444444444444,
              "#bd3786"
             ],
             [
              0.5555555555555556,
              "#d8576b"
             ],
             [
              0.6666666666666666,
              "#ed7953"
             ],
             [
              0.7777777777777778,
              "#fb9f3a"
             ],
             [
              0.8888888888888888,
              "#fdca26"
             ],
             [
              1,
              "#f0f921"
             ]
            ],
            "type": "heatmapgl"
           }
          ],
          "histogram": [
           {
            "marker": {
             "colorbar": {
              "outlinewidth": 0,
              "ticks": ""
             }
            },
            "type": "histogram"
           }
          ],
          "histogram2d": [
           {
            "colorbar": {
             "outlinewidth": 0,
             "ticks": ""
            },
            "colorscale": [
             [
              0,
              "#0d0887"
             ],
             [
              0.1111111111111111,
              "#46039f"
             ],
             [
              0.2222222222222222,
              "#7201a8"
             ],
             [
              0.3333333333333333,
              "#9c179e"
             ],
             [
              0.4444444444444444,
              "#bd3786"
             ],
             [
              0.5555555555555556,
              "#d8576b"
             ],
             [
              0.6666666666666666,
              "#ed7953"
             ],
             [
              0.7777777777777778,
              "#fb9f3a"
             ],
             [
              0.8888888888888888,
              "#fdca26"
             ],
             [
              1,
              "#f0f921"
             ]
            ],
            "type": "histogram2d"
           }
          ],
          "histogram2dcontour": [
           {
            "colorbar": {
             "outlinewidth": 0,
             "ticks": ""
            },
            "colorscale": [
             [
              0,
              "#0d0887"
             ],
             [
              0.1111111111111111,
              "#46039f"
             ],
             [
              0.2222222222222222,
              "#7201a8"
             ],
             [
              0.3333333333333333,
              "#9c179e"
             ],
             [
              0.4444444444444444,
              "#bd3786"
             ],
             [
              0.5555555555555556,
              "#d8576b"
             ],
             [
              0.6666666666666666,
              "#ed7953"
             ],
             [
              0.7777777777777778,
              "#fb9f3a"
             ],
             [
              0.8888888888888888,
              "#fdca26"
             ],
             [
              1,
              "#f0f921"
             ]
            ],
            "type": "histogram2dcontour"
           }
          ],
          "mesh3d": [
           {
            "colorbar": {
             "outlinewidth": 0,
             "ticks": ""
            },
            "type": "mesh3d"
           }
          ],
          "parcoords": [
           {
            "line": {
             "colorbar": {
              "outlinewidth": 0,
              "ticks": ""
             }
            },
            "type": "parcoords"
           }
          ],
          "pie": [
           {
            "automargin": true,
            "type": "pie"
           }
          ],
          "scatter": [
           {
            "marker": {
             "colorbar": {
              "outlinewidth": 0,
              "ticks": ""
             }
            },
            "type": "scatter"
           }
          ],
          "scatter3d": [
           {
            "line": {
             "colorbar": {
              "outlinewidth": 0,
              "ticks": ""
             }
            },
            "marker": {
             "colorbar": {
              "outlinewidth": 0,
              "ticks": ""
             }
            },
            "type": "scatter3d"
           }
          ],
          "scattercarpet": [
           {
            "marker": {
             "colorbar": {
              "outlinewidth": 0,
              "ticks": ""
             }
            },
            "type": "scattercarpet"
           }
          ],
          "scattergeo": [
           {
            "marker": {
             "colorbar": {
              "outlinewidth": 0,
              "ticks": ""
             }
            },
            "type": "scattergeo"
           }
          ],
          "scattergl": [
           {
            "marker": {
             "colorbar": {
              "outlinewidth": 0,
              "ticks": ""
             }
            },
            "type": "scattergl"
           }
          ],
          "scattermapbox": [
           {
            "marker": {
             "colorbar": {
              "outlinewidth": 0,
              "ticks": ""
             }
            },
            "type": "scattermapbox"
           }
          ],
          "scatterpolar": [
           {
            "marker": {
             "colorbar": {
              "outlinewidth": 0,
              "ticks": ""
             }
            },
            "type": "scatterpolar"
           }
          ],
          "scatterpolargl": [
           {
            "marker": {
             "colorbar": {
              "outlinewidth": 0,
              "ticks": ""
             }
            },
            "type": "scatterpolargl"
           }
          ],
          "scatterternary": [
           {
            "marker": {
             "colorbar": {
              "outlinewidth": 0,
              "ticks": ""
             }
            },
            "type": "scatterternary"
           }
          ],
          "surface": [
           {
            "colorbar": {
             "outlinewidth": 0,
             "ticks": ""
            },
            "colorscale": [
             [
              0,
              "#0d0887"
             ],
             [
              0.1111111111111111,
              "#46039f"
             ],
             [
              0.2222222222222222,
              "#7201a8"
             ],
             [
              0.3333333333333333,
              "#9c179e"
             ],
             [
              0.4444444444444444,
              "#bd3786"
             ],
             [
              0.5555555555555556,
              "#d8576b"
             ],
             [
              0.6666666666666666,
              "#ed7953"
             ],
             [
              0.7777777777777778,
              "#fb9f3a"
             ],
             [
              0.8888888888888888,
              "#fdca26"
             ],
             [
              1,
              "#f0f921"
             ]
            ],
            "type": "surface"
           }
          ],
          "table": [
           {
            "cells": {
             "fill": {
              "color": "#EBF0F8"
             },
             "line": {
              "color": "white"
             }
            },
            "header": {
             "fill": {
              "color": "#C8D4E3"
             },
             "line": {
              "color": "white"
             }
            },
            "type": "table"
           }
          ]
         },
         "layout": {
          "annotationdefaults": {
           "arrowcolor": "#2a3f5f",
           "arrowhead": 0,
           "arrowwidth": 1
          },
          "coloraxis": {
           "colorbar": {
            "outlinewidth": 0,
            "ticks": ""
           }
          },
          "colorscale": {
           "diverging": [
            [
             0,
             "#8e0152"
            ],
            [
             0.1,
             "#c51b7d"
            ],
            [
             0.2,
             "#de77ae"
            ],
            [
             0.3,
             "#f1b6da"
            ],
            [
             0.4,
             "#fde0ef"
            ],
            [
             0.5,
             "#f7f7f7"
            ],
            [
             0.6,
             "#e6f5d0"
            ],
            [
             0.7,
             "#b8e186"
            ],
            [
             0.8,
             "#7fbc41"
            ],
            [
             0.9,
             "#4d9221"
            ],
            [
             1,
             "#276419"
            ]
           ],
           "sequential": [
            [
             0,
             "#0d0887"
            ],
            [
             0.1111111111111111,
             "#46039f"
            ],
            [
             0.2222222222222222,
             "#7201a8"
            ],
            [
             0.3333333333333333,
             "#9c179e"
            ],
            [
             0.4444444444444444,
             "#bd3786"
            ],
            [
             0.5555555555555556,
             "#d8576b"
            ],
            [
             0.6666666666666666,
             "#ed7953"
            ],
            [
             0.7777777777777778,
             "#fb9f3a"
            ],
            [
             0.8888888888888888,
             "#fdca26"
            ],
            [
             1,
             "#f0f921"
            ]
           ],
           "sequentialminus": [
            [
             0,
             "#0d0887"
            ],
            [
             0.1111111111111111,
             "#46039f"
            ],
            [
             0.2222222222222222,
             "#7201a8"
            ],
            [
             0.3333333333333333,
             "#9c179e"
            ],
            [
             0.4444444444444444,
             "#bd3786"
            ],
            [
             0.5555555555555556,
             "#d8576b"
            ],
            [
             0.6666666666666666,
             "#ed7953"
            ],
            [
             0.7777777777777778,
             "#fb9f3a"
            ],
            [
             0.8888888888888888,
             "#fdca26"
            ],
            [
             1,
             "#f0f921"
            ]
           ]
          },
          "colorway": [
           "#636efa",
           "#EF553B",
           "#00cc96",
           "#ab63fa",
           "#FFA15A",
           "#19d3f3",
           "#FF6692",
           "#B6E880",
           "#FF97FF",
           "#FECB52"
          ],
          "font": {
           "color": "#2a3f5f"
          },
          "geo": {
           "bgcolor": "white",
           "lakecolor": "white",
           "landcolor": "#E5ECF6",
           "showlakes": true,
           "showland": true,
           "subunitcolor": "white"
          },
          "hoverlabel": {
           "align": "left"
          },
          "hovermode": "closest",
          "mapbox": {
           "style": "light"
          },
          "paper_bgcolor": "white",
          "plot_bgcolor": "#E5ECF6",
          "polar": {
           "angularaxis": {
            "gridcolor": "white",
            "linecolor": "white",
            "ticks": ""
           },
           "bgcolor": "#E5ECF6",
           "radialaxis": {
            "gridcolor": "white",
            "linecolor": "white",
            "ticks": ""
           }
          },
          "scene": {
           "xaxis": {
            "backgroundcolor": "#E5ECF6",
            "gridcolor": "white",
            "gridwidth": 2,
            "linecolor": "white",
            "showbackground": true,
            "ticks": "",
            "zerolinecolor": "white"
           },
           "yaxis": {
            "backgroundcolor": "#E5ECF6",
            "gridcolor": "white",
            "gridwidth": 2,
            "linecolor": "white",
            "showbackground": true,
            "ticks": "",
            "zerolinecolor": "white"
           },
           "zaxis": {
            "backgroundcolor": "#E5ECF6",
            "gridcolor": "white",
            "gridwidth": 2,
            "linecolor": "white",
            "showbackground": true,
            "ticks": "",
            "zerolinecolor": "white"
           }
          },
          "shapedefaults": {
           "line": {
            "color": "#2a3f5f"
           }
          },
          "ternary": {
           "aaxis": {
            "gridcolor": "white",
            "linecolor": "white",
            "ticks": ""
           },
           "baxis": {
            "gridcolor": "white",
            "linecolor": "white",
            "ticks": ""
           },
           "bgcolor": "#E5ECF6",
           "caxis": {
            "gridcolor": "white",
            "linecolor": "white",
            "ticks": ""
           }
          },
          "title": {
           "x": 0.05
          },
          "xaxis": {
           "automargin": true,
           "gridcolor": "white",
           "linecolor": "white",
           "ticks": "",
           "title": {
            "standoff": 15
           },
           "zerolinecolor": "white",
           "zerolinewidth": 2
          },
          "yaxis": {
           "automargin": true,
           "gridcolor": "white",
           "linecolor": "white",
           "ticks": "",
           "title": {
            "standoff": 15
           },
           "zerolinecolor": "white",
           "zerolinewidth": 2
          }
         }
        },
        "width": 321.25984252349997,
        "xaxis": {
         "dtick": 2,
         "linecolor": "black",
         "mirror": true,
         "range": [
          0.03,
          13.97
         ],
         "showgrid": false,
         "showline": true,
         "tick0": 1,
         "tickcolor": "black",
         "tickfont": {
          "color": "black",
          "size": 10.666666666666666
         },
         "ticks": "outside",
         "title": {
          "font": {
           "color": "black"
          },
          "text": "pH"
         },
         "type": "linear",
         "zeroline": false
        },
        "xaxis2": {
         "dtick": 2,
         "linecolor": "black",
         "mirror": true,
         "range": [
          0.03,
          13.97
         ],
         "showgrid": false,
         "showline": true,
         "showticklabels": false,
         "tick0": 0,
         "tickcolor": "black",
         "tickfont": {
          "color": "black",
          "size": 10.666666666666666
         },
         "ticklen": 3,
         "ticks": "outside",
         "title": {
          "text": ""
         },
         "zeroline": false
        },
        "yaxis": {
         "linecolor": "black",
         "mirror": true,
         "range": [
          0.03,
          2.47
         ],
         "showgrid": false,
         "showline": true,
         "tickcolor": "black",
         "tickfont": {
          "color": "black",
          "size": 10.666666666666666
         },
         "ticks": "outside",
         "title": {
          "font": {
           "color": "black"
          },
          "text": "U<sub>SHE</sub> (V)"
         },
         "type": "linear",
         "zeroline": false
        },
        "yaxis2": {
         "dtick": 0.25,
         "linecolor": "black",
         "mirror": true,
         "range": [
          0.03,
          2.47
         ],
         "showgrid": false,
         "showline": true,
         "showticklabels": false,
         "tickcolor": "black",
         "tickfont": {
          "color": "black",
          "size": 10.666666666666666
         },
         "ticklen": 3,
         "ticks": "outside",
         "title": {
          "text": ""
         },
         "zeroline": false
        },
        "yaxis3": {
         "dtick": 0.25,
         "linecolor": "black",
         "mirror": true,
         "range": [
          0.03,
          2.47
         ],
         "showgrid": false,
         "showline": true,
         "showticklabels": false,
         "tickcolor": "black",
         "tickfont": {
          "color": "black",
          "size": 10.666666666666666
         },
         "ticklen": 3,
         "ticks": "outside",
         "title": {
          "text": ""
         },
         "zeroline": false
        }
       }
      },
      "image/png": "[encoded data removed]",
      "text/html": [
       "<div>\n",
       "        \n",
       "        \n",
       "            <div id=\"4c90c651-9348-40bc-b948-8f20d9e03d0b\" class=\"plotly-graph-div\" style=\"height:264.566929137px; width:321.25984252349997px;\"></div>\n",
       "            <script type=\"text/javascript\">\n",
       "                require([\"plotly\"], function(Plotly) {\n",
       "                    window.PLOTLYENV=window.PLOTLYENV || {};\n",
       "                    \n",
       "                if (document.getElementById(\"4c90c651-9348-40bc-b948-8f20d9e03d0b\")) {\n",
       "                    Plotly.newPlot(\n",
       "                        '4c90c651-9348-40bc-b948-8f20d9e03d0b',\n",
       "                        [{\"fill\": \"toself\", \"fillcolor\": \"#6799A3\", \"hoverinfo\": \"none\", \"line\": {\"color\": \"black\", \"width\": 1.0}, \"mode\": \"lines\", \"name\": \"Ir\", \"showlegend\": true, \"type\": \"scatter\", \"x\": [12.538536275989358, -8.881784197001252e-16, 0.0, 12.538536275989358], \"y\": [-2.220446049250313e-16, 0.0, 0.7410274939109713, -2.220446049250313e-16]}, {\"hoverinfo\": \"name\", \"mode\": \"lines\", \"name\": \"Ir\", \"showlegend\": false, \"text\": [\"Ir\"], \"textfont\": {\"color\": \"black\", \"family\": \"Arial\", \"size\": 12.0}, \"textposition\": \"bottom center\", \"type\": \"scatter\", \"x\": [4.179512091996453], \"y\": [0.24700916463699038]}, {\"fill\": \"toself\", \"fillcolor\": \"#7FC97F\", \"hoverinfo\": \"none\", \"line\": {\"color\": \"black\", \"width\": 1.0}, \"mode\": \"lines\", \"name\": \"IrO2\", \"showlegend\": true, \"type\": \"scatter\", \"x\": [0.0, 0.0, 9.828299476628256, 14.000000000000004, 14.0, 12.538536275989358, 0.0], \"y\": [0.7410274939109713, 1.2985185834291284, 0.7176660843603982, 0.38893608311870476, 0.0, -2.220446049250313e-16, 0.7410274939109713]}, {\"hoverinfo\": \"name\", \"mode\": \"lines\", \"name\": \"IrO2\", \"showlegend\": false, \"text\": [\"IrO2\"], \"textfont\": {\"color\": \"black\", \"family\": \"Arial\", \"size\": 12.0}, \"textposition\": \"bottom center\", \"type\": \"scatter\", \"x\": [8.39447262543627], \"y\": [0.5243580408032004]}, {\"fill\": \"toself\", \"fillcolor\": \"#BEAED4\", \"hoverinfo\": \"none\", \"line\": {\"color\": \"black\", \"width\": 1.0}, \"mode\": \"lines\", \"name\": \"IrO3_a-AlF3\", \"showlegend\": true, \"type\": \"scatter\", \"x\": [9.828299476628256, 0.0, -8.881784197001252e-16, 9.828299476628256], \"y\": [0.7176660843603982, 1.2985185834291284, 1.8793710824978573, 0.7176660843603982]}, {\"hoverinfo\": \"name\", \"mode\": \"lines\", \"name\": \"IrO3_a-AlF3\", \"showlegend\": false, \"text\": [\"IrO3_a-AlF3\"], \"textfont\": {\"color\": \"black\", \"family\": \"Arial\", \"size\": 12.0}, \"textposition\": \"bottom center\", \"type\": \"scatter\", \"x\": [3.2760998255427523], \"y\": [1.298518583429128]}, {\"fill\": \"toself\", \"fillcolor\": \"#3a3a3a\", \"hoverinfo\": \"none\", \"line\": {\"color\": \"black\", \"width\": 1.0}, \"mode\": \"lines\", \"name\": \"IrO4-\", \"showlegend\": true, \"type\": \"scatter\", \"x\": [14.000000000000004, 9.828299476628256, -8.881784197001252e-16, 8.881784197001252e-16, 14.0, 14.000000000000004], \"y\": [0.38893608311870476, 0.7176660843603982, 1.8793710824978573, 2.5, 2.5, 0.38893608311870476]}, {\"hoverinfo\": \"name\", \"mode\": \"lines\", \"name\": \"IrO4-\", \"showlegend\": false, \"text\": [\"IrO4-\"], \"textfont\": {\"color\": \"black\", \"family\": \"Arial\", \"size\": 12.0}, \"textposition\": \"bottom center\", \"type\": \"scatter\", \"x\": [7.565659895325652], \"y\": [1.5971946499953922]}, {\"line\": {\"color\": \"#FDC086\", \"width\": 2.0}, \"mode\": \"lines\", \"type\": \"scatter\", \"x\": [8.520151570536848, -1.9999999999999998, -1.9999999999999998, 8.520151570536848], \"y\": [0.8207481393604027, 1.442489097179131, 2.064230054997857, 0.8207481393604027]}, {\"line\": {\"color\": \"#ff9dcd\", \"width\": 2.0}, \"mode\": \"lines\", \"type\": \"scatter\", \"x\": [4.359186421425207, -2.0000000000000018, -2.0000000000000018, 4.359186421425207], \"y\": [1.1486321931104, 1.52446011061663, 1.9002880281228602, 1.1486321931104]}, {\"line\": {\"color\": \"#444444\", \"dash\": \"dot\", \"width\": 1.0}, \"mode\": \"lines\", \"name\": \"lines\", \"type\": \"scatter\", \"x\": [0.0, 14], \"y\": [1.23, 0.40259999999999996]}, {\"type\": \"scatter\", \"xaxis\": \"x2\"}, {\"type\": \"scatter\", \"yaxis\": \"y2\"}, {\"type\": \"scatter\", \"yaxis\": \"y3\"}],\n",
       "                        {\"annotations\": [{\"font\": {\"color\": \"#BEAED4\", \"size\": 13.333333333333332}, \"showarrow\": false, \"text\": \"\\u03b1-AlF<sub>3</sub> IrO<sub>3</sub> (s)\", \"x\": 0.02, \"xanchor\": \"left\", \"xref\": \"paper\", \"y\": 0.85, \"yanchor\": \"top\", \"yref\": \"paper\", \"yshift\": 0.0}, {\"font\": {\"color\": \"#FDC086\", \"size\": 13.333333333333332}, \"showarrow\": false, \"text\": \"R-IrO<sub>3</sub> (s)\", \"x\": 0.13, \"xanchor\": \"left\", \"xref\": \"paper\", \"y\": 0.775, \"yanchor\": \"top\", \"yref\": \"paper\", \"yshift\": 0.0}, {\"font\": {\"color\": \"#ff9dcd\", \"size\": 13.333333333333332}, \"showarrow\": false, \"text\": \"\\u03b2-IrO<sub>3</sub> (s)\", \"x\": 0.24, \"xanchor\": \"left\", \"xref\": \"paper\", \"y\": 0.7, \"yanchor\": \"top\", \"yref\": \"paper\", \"yshift\": 0.0}, {\"font\": {\"color\": \"#BEAED4\", \"size\": 13.333333333333332}, \"showarrow\": false, \"text\": \"\\u03b1-AlF<sub>3</sub> IrO<sub>3</sub> (s)\", \"x\": 0.02, \"xanchor\": \"left\", \"xref\": \"paper\", \"y\": 0.85, \"yanchor\": \"top\", \"yref\": \"paper\", \"yshift\": 0.0}, {\"font\": {\"color\": \"#FDC086\", \"size\": 13.333333333333332}, \"showarrow\": false, \"text\": \"R-IrO<sub>3</sub> (s)\", \"x\": 0.13, \"xanchor\": \"left\", \"xref\": \"paper\", \"y\": 0.775, \"yanchor\": \"top\", \"yref\": \"paper\", \"yshift\": 0.0}, {\"font\": {\"color\": \"#ff9dcd\", \"size\": 13.333333333333332}, \"showarrow\": false, \"text\": \"\\u03b2-IrO<sub>3</sub> (s)\", \"x\": 0.24, \"xanchor\": \"left\", \"xref\": \"paper\", \"y\": 0.7, \"yanchor\": \"top\", \"yref\": \"paper\", \"yshift\": 0.0}], \"font\": {\"color\": \"black\", \"family\": \"Arial\"}, \"height\": 264.566929137, \"margin\": {\"b\": 0, \"l\": 0, \"r\": 0, \"t\": 0}, \"paper_bgcolor\": \"rgba(255,255,255,0.9)\", \"plot_bgcolor\": \"rgba(255,255,255,0.)\", \"showlegend\": false, \"template\": {\"data\": {\"bar\": [{\"error_x\": {\"color\": \"#2a3f5f\"}, \"error_y\": {\"color\": \"#2a3f5f\"}, \"marker\": {\"line\": {\"color\": \"#E5ECF6\", \"width\": 0.5}}, \"type\": \"bar\"}], \"barpolar\": [{\"marker\": {\"line\": {\"color\": \"#E5ECF6\", \"width\": 0.5}}, \"type\": \"barpolar\"}], \"carpet\": [{\"aaxis\": {\"endlinecolor\": \"#2a3f5f\", \"gridcolor\": \"white\", \"linecolor\": \"white\", \"minorgridcolor\": \"white\", \"startlinecolor\": \"#2a3f5f\"}, \"baxis\": {\"endlinecolor\": \"#2a3f5f\", \"gridcolor\": \"white\", \"linecolor\": \"white\", \"minorgridcolor\": \"white\", \"startlinecolor\": \"#2a3f5f\"}, \"type\": \"carpet\"}], \"choropleth\": [{\"colorbar\": {\"outlinewidth\": 0, \"ticks\": \"\"}, \"type\": \"choropleth\"}], \"contour\": [{\"colorbar\": {\"outlinewidth\": 0, \"ticks\": \"\"}, \"colorscale\": [[0.0, \"#0d0887\"], [0.1111111111111111, \"#46039f\"], [0.2222222222222222, \"#7201a8\"], [0.3333333333333333, \"#9c179e\"], [0.4444444444444444, \"#bd3786\"], [0.5555555555555556, \"#d8576b\"], [0.6666666666666666, \"#ed7953\"], [0.7777777777777778, \"#fb9f3a\"], [0.8888888888888888, \"#fdca26\"], [1.0, \"#f0f921\"]], \"type\": \"contour\"}], \"contourcarpet\": [{\"colorbar\": {\"outlinewidth\": 0, \"ticks\": \"\"}, \"type\": \"contourcarpet\"}], \"heatmap\": [{\"colorbar\": {\"outlinewidth\": 0, \"ticks\": \"\"}, \"colorscale\": [[0.0, \"#0d0887\"], [0.1111111111111111, \"#46039f\"], [0.2222222222222222, \"#7201a8\"], [0.3333333333333333, \"#9c179e\"], [0.4444444444444444, \"#bd3786\"], [0.5555555555555556, \"#d8576b\"], [0.6666666666666666, \"#ed7953\"], [0.7777777777777778, \"#fb9f3a\"], [0.8888888888888888, \"#fdca26\"], [1.0, \"#f0f921\"]], \"type\": \"heatmap\"}], \"heatmapgl\": [{\"colorbar\": {\"outlinewidth\": 0, \"ticks\": \"\"}, \"colorscale\": [[0.0, \"#0d0887\"], [0.1111111111111111, \"#46039f\"], [0.2222222222222222, \"#7201a8\"], [0.3333333333333333, \"#9c179e\"], [0.4444444444444444, \"#bd3786\"], [0.5555555555555556, \"#d8576b\"], [0.6666666666666666, \"#ed7953\"], [0.7777777777777778, \"#fb9f3a\"], [0.8888888888888888, \"#fdca26\"], [1.0, \"#f0f921\"]], \"type\": \"heatmapgl\"}], \"histogram\": [{\"marker\": {\"colorbar\": {\"outlinewidth\": 0, \"ticks\": \"\"}}, \"type\": \"histogram\"}], \"histogram2d\": [{\"colorbar\": {\"outlinewidth\": 0, \"ticks\": \"\"}, \"colorscale\": [[0.0, \"#0d0887\"], [0.1111111111111111, \"#46039f\"], [0.2222222222222222, \"#7201a8\"], [0.3333333333333333, \"#9c179e\"], [0.4444444444444444, \"#bd3786\"], [0.5555555555555556, \"#d8576b\"], [0.6666666666666666, \"#ed7953\"], [0.7777777777777778, \"#fb9f3a\"], [0.8888888888888888, \"#fdca26\"], [1.0, \"#f0f921\"]], \"type\": \"histogram2d\"}], \"histogram2dcontour\": [{\"colorbar\": {\"outlinewidth\": 0, \"ticks\": \"\"}, \"colorscale\": [[0.0, \"#0d0887\"], [0.1111111111111111, \"#46039f\"], [0.2222222222222222, \"#7201a8\"], [0.3333333333333333, \"#9c179e\"], [0.4444444444444444, \"#bd3786\"], [0.5555555555555556, \"#d8576b\"], [0.6666666666666666, \"#ed7953\"], [0.7777777777777778, \"#fb9f3a\"], [0.8888888888888888, \"#fdca26\"], [1.0, \"#f0f921\"]], \"type\": \"histogram2dcontour\"}], \"mesh3d\": [{\"colorbar\": {\"outlinewidth\": 0, \"ticks\": \"\"}, \"type\": \"mesh3d\"}], \"parcoords\": [{\"line\": {\"colorbar\": {\"outlinewidth\": 0, \"ticks\": \"\"}}, \"type\": \"parcoords\"}], \"pie\": [{\"automargin\": true, \"type\": \"pie\"}], \"scatter\": [{\"marker\": {\"colorbar\": {\"outlinewidth\": 0, \"ticks\": \"\"}}, \"type\": \"scatter\"}], \"scatter3d\": [{\"line\": {\"colorbar\": {\"outlinewidth\": 0, \"ticks\": \"\"}}, \"marker\": {\"colorbar\": {\"outlinewidth\": 0, \"ticks\": \"\"}}, \"type\": \"scatter3d\"}], \"scattercarpet\": [{\"marker\": {\"colorbar\": {\"outlinewidth\": 0, \"ticks\": \"\"}}, \"type\": \"scattercarpet\"}], \"scattergeo\": [{\"marker\": {\"colorbar\": {\"outlinewidth\": 0, \"ticks\": \"\"}}, \"type\": \"scattergeo\"}], \"scattergl\": [{\"marker\": {\"colorbar\": {\"outlinewidth\": 0, \"ticks\": \"\"}}, \"type\": \"scattergl\"}], \"scattermapbox\": [{\"marker\": {\"colorbar\": {\"outlinewidth\": 0, \"ticks\": \"\"}}, \"type\": \"scattermapbox\"}], \"scatterpolar\": [{\"marker\": {\"colorbar\": {\"outlinewidth\": 0, \"ticks\": \"\"}}, \"type\": \"scatterpolar\"}], \"scatterpolargl\": [{\"marker\": {\"colorbar\": {\"outlinewidth\": 0, \"ticks\": \"\"}}, \"type\": \"scatterpolargl\"}], \"scatterternary\": [{\"marker\": {\"colorbar\": {\"outlinewidth\": 0, \"ticks\": \"\"}}, \"type\": \"scatterternary\"}], \"surface\": [{\"colorbar\": {\"outlinewidth\": 0, \"ticks\": \"\"}, \"colorscale\": [[0.0, \"#0d0887\"], [0.1111111111111111, \"#46039f\"], [0.2222222222222222, \"#7201a8\"], [0.3333333333333333, \"#9c179e\"], [0.4444444444444444, \"#bd3786\"], [0.5555555555555556, \"#d8576b\"], [0.6666666666666666, \"#ed7953\"], [0.7777777777777778, \"#fb9f3a\"], [0.8888888888888888, \"#fdca26\"], [1.0, \"#f0f921\"]], \"type\": \"surface\"}], \"table\": [{\"cells\": {\"fill\": {\"color\": \"#EBF0F8\"}, \"line\": {\"color\": \"white\"}}, \"header\": {\"fill\": {\"color\": \"#C8D4E3\"}, \"line\": {\"color\": \"white\"}}, \"type\": \"table\"}]}, \"layout\": {\"annotationdefaults\": {\"arrowcolor\": \"#2a3f5f\", \"arrowhead\": 0, \"arrowwidth\": 1}, \"coloraxis\": {\"colorbar\": {\"outlinewidth\": 0, \"ticks\": \"\"}}, \"colorscale\": {\"diverging\": [[0, \"#8e0152\"], [0.1, \"#c51b7d\"], [0.2, \"#de77ae\"], [0.3, \"#f1b6da\"], [0.4, \"#fde0ef\"], [0.5, \"#f7f7f7\"], [0.6, \"#e6f5d0\"], [0.7, \"#b8e186\"], [0.8, \"#7fbc41\"], [0.9, \"#4d9221\"], [1, \"#276419\"]], \"sequential\": [[0.0, \"#0d0887\"], [0.1111111111111111, \"#46039f\"], [0.2222222222222222, \"#7201a8\"], [0.3333333333333333, \"#9c179e\"], [0.4444444444444444, \"#bd3786\"], [0.5555555555555556, \"#d8576b\"], [0.6666666666666666, \"#ed7953\"], [0.7777777777777778, \"#fb9f3a\"], [0.8888888888888888, \"#fdca26\"], [1.0, \"#f0f921\"]], \"sequentialminus\": [[0.0, \"#0d0887\"], [0.1111111111111111, \"#46039f\"], [0.2222222222222222, \"#7201a8\"], [0.3333333333333333, \"#9c179e\"], [0.4444444444444444, \"#bd3786\"], [0.5555555555555556, \"#d8576b\"], [0.6666666666666666, \"#ed7953\"], [0.7777777777777778, \"#fb9f3a\"], [0.8888888888888888, \"#fdca26\"], [1.0, \"#f0f921\"]]}, \"colorway\": [\"#636efa\", \"#EF553B\", \"#00cc96\", \"#ab63fa\", \"#FFA15A\", \"#19d3f3\", \"#FF6692\", \"#B6E880\", \"#FF97FF\", \"#FECB52\"], \"font\": {\"color\": \"#2a3f5f\"}, \"geo\": {\"bgcolor\": \"white\", \"lakecolor\": \"white\", \"landcolor\": \"#E5ECF6\", \"showlakes\": true, \"showland\": true, \"subunitcolor\": \"white\"}, \"hoverlabel\": {\"align\": \"left\"}, \"hovermode\": \"closest\", \"mapbox\": {\"style\": \"light\"}, \"paper_bgcolor\": \"white\", \"plot_bgcolor\": \"#E5ECF6\", \"polar\": {\"angularaxis\": {\"gridcolor\": \"white\", \"linecolor\": \"white\", \"ticks\": \"\"}, \"bgcolor\": \"#E5ECF6\", \"radialaxis\": {\"gridcolor\": \"white\", \"linecolor\": \"white\", \"ticks\": \"\"}}, \"scene\": {\"xaxis\": {\"backgroundcolor\": \"#E5ECF6\", \"gridcolor\": \"white\", \"gridwidth\": 2, \"linecolor\": \"white\", \"showbackground\": true, \"ticks\": \"\", \"zerolinecolor\": \"white\"}, \"yaxis\": {\"backgroundcolor\": \"#E5ECF6\", \"gridcolor\": \"white\", \"gridwidth\": 2, \"linecolor\": \"white\", \"showbackground\": true, \"ticks\": \"\", \"zerolinecolor\": \"white\"}, \"zaxis\": {\"backgroundcolor\": \"#E5ECF6\", \"gridcolor\": \"white\", \"gridwidth\": 2, \"linecolor\": \"white\", \"showbackground\": true, \"ticks\": \"\", \"zerolinecolor\": \"white\"}}, \"shapedefaults\": {\"line\": {\"color\": \"#2a3f5f\"}}, \"ternary\": {\"aaxis\": {\"gridcolor\": \"white\", \"linecolor\": \"white\", \"ticks\": \"\"}, \"baxis\": {\"gridcolor\": \"white\", \"linecolor\": \"white\", \"ticks\": \"\"}, \"bgcolor\": \"#E5ECF6\", \"caxis\": {\"gridcolor\": \"white\", \"linecolor\": \"white\", \"ticks\": \"\"}}, \"title\": {\"x\": 0.05}, \"xaxis\": {\"automargin\": true, \"gridcolor\": \"white\", \"linecolor\": \"white\", \"ticks\": \"\", \"title\": {\"standoff\": 15}, \"zerolinecolor\": \"white\", \"zerolinewidth\": 2}, \"yaxis\": {\"automargin\": true, \"gridcolor\": \"white\", \"linecolor\": \"white\", \"ticks\": \"\", \"title\": {\"standoff\": 15}, \"zerolinecolor\": \"white\", \"zerolinewidth\": 2}}}, \"width\": 321.25984252349997, \"xaxis\": {\"dtick\": 2.0, \"linecolor\": \"black\", \"mirror\": true, \"range\": [0.03, 13.97], \"showgrid\": false, \"showline\": true, \"tick0\": 1, \"tickcolor\": \"black\", \"tickfont\": {\"color\": \"black\", \"size\": 10.666666666666666}, \"ticks\": \"outside\", \"title\": {\"font\": {\"color\": \"black\"}, \"text\": \"pH\"}, \"zeroline\": false}, \"xaxis2\": {\"dtick\": 2.0, \"linecolor\": \"black\", \"mirror\": true, \"range\": [0.03, 13.97], \"showgrid\": false, \"showline\": true, \"showticklabels\": false, \"tick0\": 0, \"tickcolor\": \"black\", \"tickfont\": {\"color\": \"black\", \"size\": 10.666666666666666}, \"ticklen\": 3, \"ticks\": \"outside\", \"title\": {\"text\": \"\"}, \"zeroline\": false}, \"yaxis\": {\"linecolor\": \"black\", \"mirror\": true, \"range\": [0.03, 2.47], \"showgrid\": false, \"showline\": true, \"tickcolor\": \"black\", \"tickfont\": {\"color\": \"black\", \"size\": 10.666666666666666}, \"ticks\": \"outside\", \"title\": {\"font\": {\"color\": \"black\"}, \"text\": \"U<sub>SHE</sub> (V)\"}, \"zeroline\": false}, \"yaxis2\": {\"dtick\": 0.25, \"linecolor\": \"black\", \"mirror\": true, \"range\": [0.03, 2.47], \"showgrid\": false, \"showline\": true, \"showticklabels\": false, \"tickcolor\": \"black\", \"tickfont\": {\"color\": \"black\", \"size\": 10.666666666666666}, \"ticklen\": 3, \"ticks\": \"outside\", \"title\": {\"text\": \"\"}, \"zeroline\": false}, \"yaxis3\": {\"dtick\": 0.25, \"linecolor\": \"black\", \"mirror\": true, \"range\": [0.03, 2.47], \"showgrid\": false, \"showline\": true, \"showticklabels\": false, \"tickcolor\": \"black\", \"tickfont\": {\"color\": \"black\", \"size\": 10.666666666666666}, \"ticklen\": 3, \"ticks\": \"outside\", \"title\": {\"text\": \"\"}, \"zeroline\": false}},\n",
       "                        {\"responsive\": true}\n",
       "                    ).then(function(){\n",
       "                            \n",
       "var gd = document.getElementById('4c90c651-9348-40bc-b948-8f20d9e03d0b');\n",
       "var x = new MutationObserver(function (mutations, observer) {{\n",
       "        var display = window.getComputedStyle(gd).display;\n",
       "        if (!display || display === 'none') {{\n",
       "            console.log([gd, 'removed!']);\n",
       "            Plotly.purge(gd);\n",
       "            observer.disconnect();\n",
       "        }}\n",
       "}});\n",
       "\n",
       "// Listen for the removal of the full notebook cells\n",
       "var notebookContainer = gd.closest('#notebook-container');\n",
       "if (notebookContainer) {{\n",
       "    x.observe(notebookContainer, {childList: true});\n",
       "}}\n",
       "\n",
       "// Listen for the clearing of the current output cell\n",
       "var outputEl = gd.closest('.output');\n",
       "if (outputEl) {{\n",
       "    x.observe(outputEl, {childList: true});\n",
       "}}\n",
       "\n",
       "                        })\n",
       "                };\n",
       "                });\n",
       "            </script>\n",
       "        </div>"
      ]
     },
     "metadata": {},
     "output_type": "display_data"
    }
   ],
   "source": [
    "my_plotly_plot(\n",
    "    figure=fig,\n",
    "    # plot_name=\"bulk_pourbaix_wo_alpha\",\n",
    "    plot_name=\"bulk_pourbaix\",\n",
    "    write_html=True,\n",
    "    write_png=False,\n",
    "    png_scale=6.0,\n",
    "    write_pdf=True,\n",
    "    write_svg=False,\n",
    "    try_orca_write=True,\n",
    "    )\n",
    "\n",
    "fig.show()"
   ]
  },
  {
   "cell_type": "markdown",
   "metadata": {},
   "source": [
    "# Saving figure to pickle"
   ]
  },
  {
   "cell_type": "code",
   "execution_count": 17,
   "metadata": {
    "Collapsed": "false"
   },
   "outputs": [],
   "source": [
    "# Pickling data ######################################################\n",
    "directory = \"out_data\"\n",
    "if not os.path.exists(directory): os.makedirs(directory)\n",
    "with open(os.path.join(directory, \"pourb_fig_0.pickle\"), \"wb\") as fle:\n",
    "    pickle.dump(fig, fle)\n",
    "# #####################################################################"
   ]
  },
  {
   "cell_type": "raw",
   "metadata": {},
   "source": [
    "\n",
    "\n"
   ]
  },
  {
   "cell_type": "raw",
   "metadata": {},
   "source": [
    "\n",
    "\n"
   ]
  }
 ],
 "metadata": {
  "kernelspec": {
   "display_name": "Python [conda env:PROJ_IrOx_Active_Learning_OER]",
   "language": "python",
   "name": "conda-env-PROJ_IrOx_Active_Learning_OER-py"
  },
  "language_info": {
   "codemirror_mode": {
    "name": "ipython",
    "version": 3
   },
   "file_extension": ".py",
   "mimetype": "text/x-python",
   "name": "python",
   "nbconvert_exporter": "python",
   "pygments_lexer": "ipython3",
   "version": "3.6.9"
  }
 },
 "nbformat": 4,
 "nbformat_minor": 4
}
