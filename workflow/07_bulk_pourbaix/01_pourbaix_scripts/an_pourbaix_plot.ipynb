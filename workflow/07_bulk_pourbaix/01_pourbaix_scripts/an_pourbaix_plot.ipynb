{
 "cells": [
  {
   "cell_type": "markdown",
   "metadata": {
    "incorrectly_encoded_metadata": "Collapsed=\"false\" toc-hr-collapsed=true"
   },
   "source": [
    "# Import Modules"
   ],
   "execution_count": null,
   "outputs": []
  },
  {
   "cell_type": "markdown",
   "metadata": {
    "Collapsed": "false"
   },
   "source": [
    "## Notebook Settings"
   ],
   "execution_count": null,
   "outputs": []
  },
  {
   "cell_type": "code",
   "execution_count": null,
   "metadata": {
    "Collapsed": "false",
    "jupyter": {}
   },
   "outputs": [],
   "source": [
    "%%capture\n",
    "%load_ext autoreload\n",
    "%autoreload 2"
   ]
  },
  {
   "cell_type": "markdown",
   "metadata": {
    "Collapsed": "false"
   },
   "source": [
    "## Python Packages"
   ],
   "execution_count": null,
   "outputs": []
  },
  {
   "cell_type": "code",
   "execution_count": null,
   "metadata": {
    "Collapsed": "false"
   },
   "outputs": [],
   "source": [
    "import os\n",
    "print(os.getcwd())\n",
    "import sys\n",
    "\n",
    "sys.path.insert(\n",
    "    0,\n",
    "    os.path.join(\n",
    "        os.environ[\"PROJ_irox\"],\n",
    "        \"data\"))\n",
    "from proj_data_irox import proj_dir_name, irox_bulk_color_map\n",
    "\n",
    "# #############################################################################\n",
    "import copy\n",
    "\n",
    "import pickle\n",
    "\n",
    "import chart_studio.plotly as py\n",
    "import plotly.graph_objs as go\n",
    "\n",
    "import plotly.offline as py_off\n",
    "from plotly.offline import (\n",
    "    init_notebook_mode,\n",
    "    iplot,\n",
    "    )\n",
    "\n",
    "# #############################################################################\n",
    "from methods import (\n",
    "    create_pourbaix_plot,\n",
    "    create_outside_borders,\n",
    "    create_pourb_entry_outline,\n",
    "    create_oer_equil_line,\n",
    "    )\n",
    "\n",
    "init_notebook_mode(connected=True)\n",
    "\n",
    "\n",
    "# #############################################################################\n",
    "from plotting.my_plotly import (\n",
    "    add_minor_ticks,\n",
    "    my_plotly_plot,\n",
    "    add_duplicate_axes)"
   ]
  },
  {
   "cell_type": "markdown",
   "metadata": {
    "Collapsed": "false"
   },
   "source": [
    "# Script Inputs"
   ],
   "execution_count": null,
   "outputs": []
  },
  {
   "cell_type": "code",
   "execution_count": null,
   "metadata": {
    "Collapsed": "false"
   },
   "outputs": [],
   "source": [
    "run_create_entries_script = True\n",
    "\n",
    "axis_ranges = {\n",
    "        \"x_axis\": [0., 14],\n",
    "        \"y_axis\": [0., 2.5],\n",
    "\n",
    "        # \"x_axis\": [-0.0001, 0.0001],\n",
    "        # \"y_axis\": [1.4920084, 1.4923185],\n",
    "        }\n",
    "\n",
    "entries_to_remove_list = [\n",
    "    # \"IrO3_TEMP00\",\n",
    "    # \"IrO3_TEMP01\",\n",
    "    # \"IrO3_TEMP02\",\n",
    "    # \"IrO3_TEMP03\",\n",
    "    # \"IrO3_TEMP04\",\n",
    "    # \"IrO3_TEMP05\",\n",
    "    # \"IrO3_TEMP06\",\n",
    "    # \"IrO3_TEMP07\",\n",
    "    # \"IrO3_TEMP08\",\n",
    "    # \"IrO3_TEMP09\",\n",
    "    # \"IrO3_TEMP10\",\n",
    "    # \"IrO3_TEMP11\",\n",
    "    # \"IrO3_TEMP12\",\n",
    "    # \"IrO3_TEMP13\",\n",
    "    # \"IrO3_TEMP14\",\n",
    "    # \"IrO3_TEMP15\",\n",
    "    # \"IrO3_TEMP16\",\n",
    "    # \"IrO3_TEMP17\",\n",
    "    # \"IrO3_TEMP18\",\n",
    "    # \"IrO3_TEMP19\",\n",
    "    # \"IrO3_TEMP20\",\n",
    "    # \"IrO3_TEMP21\",\n",
    "\n",
    "\n",
    "    \"IrO3_rutile-like\",\n",
    "    \"IrO3_battery\",\n",
    "\n",
    "    # \"IrO3_a-AlF3\",\n",
    "    ]"
   ]
  },
  {
   "cell_type": "markdown",
   "metadata": {
    "Collapsed": "false"
   },
   "source": [
    "# Load Entry Data"
   ],
   "execution_count": null,
   "outputs": []
  },
  {
   "cell_type": "code",
   "execution_count": null,
   "metadata": {
    "Collapsed": "false"
   },
   "outputs": [],
   "source": [
    "# %%capture\n",
    "\n",
    "if run_create_entries_script:\n",
    "    !python sc_create_all_entries.py"
   ]
  },
  {
   "cell_type": "markdown",
   "metadata": {},
   "source": [
    "## All Pourbaix entries"
   ],
   "execution_count": null,
   "outputs": []
  },
  {
   "cell_type": "code",
   "execution_count": null,
   "metadata": {
    "Collapsed": "false"
   },
   "outputs": [],
   "source": [
    "# #############################################################################\n",
    "path_i = os.path.join(\n",
    "    \"out_data\",\n",
    "    \"all_entries.pickle\")\n",
    "with open(path_i, \"rb\") as fle:\n",
    "    all_entries = pickle.load(fle)\n",
    "# #############################################################################"
   ]
  },
  {
   "cell_type": "code",
   "execution_count": null,
   "metadata": {},
   "outputs": [],
   "source": [
    "all_entries"
   ]
  },
  {
   "cell_type": "code",
   "execution_count": null,
   "metadata": {},
   "outputs": [],
   "source": [
    "# assert False"
   ]
  },
  {
   "cell_type": "markdown",
   "metadata": {},
   "source": [
    "## Bulk Pourbaix transitions"
   ],
   "execution_count": null,
   "outputs": []
  },
  {
   "cell_type": "code",
   "execution_count": null,
   "metadata": {},
   "outputs": [],
   "source": [
    "# path_i = os.path.join(\n",
    "#     os.environ[\"PROJ_irox\"],\n",
    "#     \"workflow/07_bulk_pourbaix/01_pourbaix_scripts\",\n",
    "#     \"out_data/bulk_pourb_transitions.pickle\")\n",
    "# with open(path_i, \"rb\") as fle:\n",
    "#     pourb_trans = pickle.load(fle)\n",
    "\n",
    "# pourb_trans"
   ]
  },
  {
   "cell_type": "markdown",
   "metadata": {
    "Collapsed": "false"
   },
   "source": [
    "# Process Data for Plotting"
   ],
   "execution_count": null,
   "outputs": []
  },
  {
   "cell_type": "code",
   "execution_count": null,
   "metadata": {},
   "outputs": [],
   "source": [
    "all_entries"
   ]
  },
  {
   "cell_type": "code",
   "execution_count": null,
   "metadata": {},
   "outputs": [],
   "source": [
    "entries_to_remove_list"
   ]
  },
  {
   "cell_type": "code",
   "execution_count": null,
   "metadata": {
    "Collapsed": "false"
   },
   "outputs": [],
   "source": [
    "%%capture\n",
    "\n",
    "data_entry_borders = create_pourb_entry_outline(\n",
    "    entries_to_remove_list=entries_to_remove_list,\n",
    "    all_entries=all_entries)\n",
    "\n",
    "data = create_pourbaix_plot(entries=all_entries, axis_ranges=axis_ranges)\n",
    "\n",
    "oer_equil_line = create_oer_equil_line(axis_ranges=axis_ranges)\n",
    "\n",
    "data += data_entry_borders\n",
    "data += [oer_equil_line]"
   ]
  },
  {
   "cell_type": "markdown",
   "metadata": {
    "Collapsed": "false"
   },
   "source": [
    "# Plotting"
   ],
   "execution_count": null,
   "outputs": []
  },
  {
   "cell_type": "code",
   "execution_count": null,
   "metadata": {},
   "outputs": [],
   "source": [
    "from layout import layout\n",
    "\n",
    "fig = go.Figure(\n",
    "    data=data,\n",
    "    layout=layout,\n",
    "    )\n",
    "\n",
    "\n",
    "x_axis_range_tmp = [\n",
    "    axis_ranges[\"x_axis\"][0] + 0.03,\n",
    "    axis_ranges[\"x_axis\"][1] - 0.03,\n",
    "    ]\n",
    "\n",
    "\n",
    "y_axis_range_tmp = [\n",
    "    axis_ranges[\"y_axis\"][0] + 0.03,\n",
    "    axis_ranges[\"y_axis\"][1] - 0.03,\n",
    "    ]\n",
    "\n",
    "fig.layout.yaxis.range = y_axis_range_tmp\n",
    "fig.layout.xaxis.range = x_axis_range_tmp\n",
    "\n",
    "# fig.layout.yaxis.range = axis_ranges[\"y_axis\"]\n",
    "# fig.layout.xaxis.range = axis_ranges[\"x_axis\"]"
   ]
  },
  {
   "cell_type": "code",
   "execution_count": null,
   "metadata": {},
   "outputs": [],
   "source": [
    "# len(layout.annotations)\n",
    "\n",
    "annotations_new = []\n",
    "for annot_i in layout.annotations:\n",
    "    # print(annot_i)\n",
    "    \n",
    "    if \"<sub>3<\" in annot_i.text:\n",
    "        # print(annot_i)\n",
    "        \n",
    "        annotations_new.append(annot_i)\n",
    "\n",
    "    print(\"\")"
   ]
  },
  {
   "cell_type": "code",
   "execution_count": null,
   "metadata": {},
   "outputs": [],
   "source": [
    "%%capture\n",
    "\n",
    "fig.layout.update(annotations=annotations_new)"
   ]
  },
  {
   "cell_type": "markdown",
   "metadata": {},
   "source": [
    "# Adding 2nd x-axis for minor ticks"
   ],
   "execution_count": null,
   "outputs": []
  },
  {
   "cell_type": "code",
   "execution_count": null,
   "metadata": {},
   "outputs": [],
   "source": [
    "shared_dupl_axis = dict(\n",
    "    tickcolor=\"black\",\n",
    "    ticklen=3)\n",
    "\n",
    "ticks_props_new_x = go.layout.XAxis(\n",
    "    tick0=0,\n",
    "    **shared_dupl_axis)\n",
    "\n",
    "ticks_props_new_y = go.layout.YAxis(\n",
    "    dtick=0.25,\n",
    "    **shared_dupl_axis)\n",
    "\n",
    "\n",
    "add_duplicate_axes(\n",
    "    fig, axis_type='x',\n",
    "    axis_data=ticks_props_new_x.to_plotly_json())\n",
    "\n",
    "add_duplicate_axes(\n",
    "    fig, axis_type='y',\n",
    "    axis_data=ticks_props_new_y.to_plotly_json())"
   ]
  },
  {
   "cell_type": "code",
   "execution_count": null,
   "metadata": {},
   "outputs": [],
   "source": [
    "my_plotly_plot(\n",
    "    figure=fig,\n",
    "    # plot_name=\"bulk_pourbaix_wo_alpha\",\n",
    "    plot_name=\"bulk_pourbaix\",\n",
    "    write_html=True,\n",
    "    write_png=False,\n",
    "    png_scale=6.0,\n",
    "    write_pdf=True,\n",
    "    write_svg=False,\n",
    "    try_orca_write=True,\n",
    "    )\n",
    "\n",
    "fig.show()"
   ]
  },
  {
   "cell_type": "markdown",
   "metadata": {},
   "source": [
    "# Saving figure to pickle"
   ],
   "execution_count": null,
   "outputs": []
  },
  {
   "cell_type": "code",
   "execution_count": null,
   "metadata": {
    "Collapsed": "false"
   },
   "outputs": [],
   "source": [
    "# Pickling data ######################################################\n",
    "directory = \"out_data\"\n",
    "if not os.path.exists(directory): os.makedirs(directory)\n",
    "with open(os.path.join(directory, \"pourb_fig_0.pickle\"), \"wb\") as fle:\n",
    "    pickle.dump(fig, fle)\n",
    "# #####################################################################"
   ]
  }
 ],
 "metadata": {
  "kernelspec": {
   "display_name": "Python [conda env:PROJ_IrOx_Active_Learning_OER]",
   "language": "python",
   "name": "conda-env-PROJ_IrOx_Active_Learning_OER-py"
  },
  "language_info": {
   "codemirror_mode": {
    "name": "ipython",
    "version": 3
   },
   "file_extension": ".py",
   "mimetype": "text/x-python",
   "name": "python",
   "nbconvert_exporter": "python",
   "pygments_lexer": "ipython3",
   "version": "3.6.9"
  }
 },
 "nbformat": 4,
 "nbformat_minor": 4
}
