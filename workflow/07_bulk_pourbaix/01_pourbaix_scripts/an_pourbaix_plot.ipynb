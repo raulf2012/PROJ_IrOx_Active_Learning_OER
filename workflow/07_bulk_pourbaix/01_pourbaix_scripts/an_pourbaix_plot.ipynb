{
 "cells": [
  {
   "cell_type": "markdown",
   "metadata": {
    "Collapsed": "false",
    "toc-hr-collapsed": true
   },
   "source": [
    "# Import Modules"
   ],
   "execution_count": null,
   "outputs": []
  },
  {
   "cell_type": "markdown",
   "metadata": {
    "Collapsed": "false"
   },
   "source": [
    "## Notebook Settings"
   ],
   "execution_count": null,
   "outputs": []
  },
  {
   "cell_type": "code",
   "execution_count": null,
   "metadata": {
    "Collapsed": "false"
   },
   "outputs": [],
   "source": [
    "%%capture\n",
    "%load_ext autoreload\n",
    "%autoreload 2"
   ]
  },
  {
   "cell_type": "markdown",
   "metadata": {
    "Collapsed": "false"
   },
   "source": [
    "## Python Packages"
   ],
   "execution_count": null,
   "outputs": []
  },
  {
   "cell_type": "code",
   "execution_count": null,
   "metadata": {
    "Collapsed": "false"
   },
   "outputs": [],
   "source": [
    "import sys\n",
    "import os\n",
    "print(\"os.getcwd():\", \"\\n\", os.getcwd())\n",
    "\n",
    "sys.path.insert(\n",
    "    0,\n",
    "    os.path.join(\n",
    "        os.environ[\"PROJ_irox\"],\n",
    "        \"data\"))\n",
    "from proj_data_irox import proj_dir_name, irox_bulk_color_map\n",
    "\n",
    "# #############################################################################\n",
    "import pickle\n",
    "\n",
    "import chart_studio.plotly as py\n",
    "import plotly.graph_objs as go\n",
    "\n",
    "import plotly.offline as py_off\n",
    "from plotly.offline import (\n",
    "    init_notebook_mode,\n",
    "    iplot,\n",
    "    )\n",
    "\n",
    "# #############################################################################\n",
    "from methods import (\n",
    "    create_pourbaix_plot,\n",
    "    create_outside_borders,\n",
    "    create_pourb_entry_outline,\n",
    "    create_oer_equil_line,\n",
    "    )\n",
    "\n",
    "init_notebook_mode(connected=True)"
   ]
  },
  {
   "cell_type": "markdown",
   "metadata": {
    "Collapsed": "false"
   },
   "source": [
    "# Script Inputs"
   ],
   "execution_count": null,
   "outputs": []
  },
  {
   "cell_type": "code",
   "execution_count": null,
   "metadata": {
    "Collapsed": "false"
   },
   "outputs": [],
   "source": [
    "run_create_entries_script = True\n",
    "\n",
    "axis_ranges = {\n",
    "    \"x_axis\": [0., 14],\n",
    "    \"y_axis\": [0., 2.5],\n",
    "    }\n",
    "\n",
    "save_plot = True\n",
    "\n",
    "entries_to_remove_list = [\n",
    "#     \"IrO3_rutile-like\",\n",
    "#     \"IrO3_battery\",\n",
    "#     \"IrO3_a-AlF3\",\n",
    "    ]"
   ]
  },
  {
   "cell_type": "markdown",
   "metadata": {
    "Collapsed": "false"
   },
   "source": [
    "# Load Entry Data"
   ],
   "execution_count": null,
   "outputs": []
  },
  {
   "cell_type": "code",
   "execution_count": null,
   "metadata": {
    "Collapsed": "false"
   },
   "outputs": [],
   "source": [
    "%%capture\n",
    "if run_create_entries_script:\n",
    "    print(\"ISDIFJSDIFIDsj\")\n",
    "    !python sc_create_all_entries.py\n",
    "\n",
    "\n",
    "# #############################################################################\n",
    "path_i = os.path.join(\n",
    "    \"out_data\",\n",
    "    \"all_entries.pickle\")\n",
    "with open(path_i, \"rb\") as fle:\n",
    "    all_entries = pickle.load(fle)\n",
    "# #############################################################################"
   ]
  },
  {
   "cell_type": "markdown",
   "metadata": {
    "Collapsed": "false"
   },
   "source": [
    "# Process Data for Plotting"
   ],
   "execution_count": null,
   "outputs": []
  },
  {
   "cell_type": "code",
   "execution_count": null,
   "metadata": {
    "Collapsed": "false"
   },
   "outputs": [],
   "source": [
    "directory = \"00_figures\"\n",
    "if not os.path.exists(directory):\n",
    "    os.makedirs(directory)\n",
    "\n",
    "data_entry_borders = create_pourb_entry_outline(\n",
    "    entries_to_remove_list=entries_to_remove_list,\n",
    "    all_entries=all_entries)\n",
    "\n",
    "outside_border = create_outside_borders(axis_ranges=axis_ranges)\n",
    "\n",
    "data, layout = create_pourbaix_plot(entries=all_entries, axis_ranges=axis_ranges)\n",
    "\n",
    "oer_equil_line = create_oer_equil_line(axis_ranges=axis_ranges)\n",
    "\n",
    "data += data_entry_borders\n",
    "data += [outside_border]\n",
    "data += [oer_equil_line]"
   ]
  },
  {
   "cell_type": "markdown",
   "metadata": {
    "Collapsed": "false"
   },
   "source": [
    "# Plotting"
   ],
   "execution_count": null,
   "outputs": []
  },
  {
   "cell_type": "code",
   "execution_count": null,
   "metadata": {
    "Collapsed": "false"
   },
   "outputs": [],
   "source": [
    "layout[\"xaxis\"][\"dtick\"] = 1\n",
    "layout[\"yaxis\"][\"dtick\"] = 0.5\n",
    "\n",
    "layout[\"width\"] = 600\n",
    "layout[\"height\"] = 500\n",
    "layout[\"yaxis\"][\"dtick\"] = None\n",
    "\n",
    "layout_override = go.Layout(\n",
    "    showlegend=True,\n",
    "    font=go.layout.Font(\n",
    "        color=\"black\",\n",
    "        family=None,\n",
    "        size=18,\n",
    "        ),\n",
    "    annotations=None,\n",
    "    )\n",
    "\n",
    "layout.update(layout_override)\n",
    "\n",
    "fig = go.Figure(data=data, layout=layout)\n",
    "fig.show()"
   ]
  },
  {
   "cell_type": "code",
   "execution_count": null,
   "metadata": {
    "Collapsed": "false"
   },
   "outputs": [],
   "source": [
    "# Pickling data ######################################################\n",
    "directory = \"out_data\"\n",
    "if not os.path.exists(directory): os.makedirs(directory)\n",
    "with open(os.path.join(directory, \"pourb_fig_0.pickle\"), \"wb\") as fle:\n",
    "    pickle.dump(fig, fle)\n",
    "# #####################################################################"
   ]
  },
  {
   "cell_type": "raw",
   "metadata": {
    "Collapsed": "false"
   },
   "source": [
    "\n",
    "\n",
    "\n",
    "\n"
   ],
   "execution_count": null,
   "outputs": []
  }
 ],
 "metadata": {
  "kernelspec": {
   "display_name": "Python [conda env:PROJ_IrOx_Active_Learning_OER]",
   "language": "python",
   "name": "conda-env-PROJ_IrOx_Active_Learning_OER-py"
  },
  "language_info": {
   "codemirror_mode": {
    "name": "ipython",
    "version": 3
   },
   "file_extension": ".py",
   "mimetype": "text/x-python",
   "name": "python",
   "nbconvert_exporter": "python",
   "pygments_lexer": "ipython3",
   "version": "3.6.7"
  }
 },
 "nbformat": 4,
 "nbformat_minor": 4
}
