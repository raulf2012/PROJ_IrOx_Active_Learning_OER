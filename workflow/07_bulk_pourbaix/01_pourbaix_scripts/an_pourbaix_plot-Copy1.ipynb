{
 "cells": [
  {
   "cell_type": "markdown",
   "metadata": {},
   "source": [
    "# Import Modules"
   ]
  },
  {
   "cell_type": "code",
   "execution_count": 1,
   "metadata": {},
   "outputs": [],
   "source": [
    "%%capture\n",
    "%load_ext autoreload\n",
    "%autoreload 2"
   ]
  },
  {
   "cell_type": "code",
   "execution_count": 2,
   "metadata": {},
   "outputs": [
    {
     "data": {
      "text/html": [
       "        <script type=\"text/javascript\">\n",
       "        window.PlotlyConfig = {MathJaxConfig: 'local'};\n",
       "        if (window.MathJax) {MathJax.Hub.Config({SVG: {font: \"STIX-Web\"}});}\n",
       "        if (typeof require !== 'undefined') {\n",
       "        require.undef(\"plotly\");\n",
       "        requirejs.config({\n",
       "            paths: {\n",
       "                'plotly': ['https://cdn.plot.ly/plotly-latest.min']\n",
       "            }\n",
       "        });\n",
       "        require(['plotly'], function(Plotly) {\n",
       "            window._Plotly = Plotly;\n",
       "        });\n",
       "        }\n",
       "        </script>\n",
       "        "
      ]
     },
     "metadata": {},
     "output_type": "display_data"
    }
   ],
   "source": [
    "import sys\n",
    "import os\n",
    "\n",
    "sys.path.insert(\n",
    "    0,\n",
    "    os.path.join(\n",
    "        os.environ[\"PROJ_irox\"],\n",
    "        \"data\"))\n",
    "from proj_data_irox import proj_dir_name, irox_bulk_color_map\n",
    "\n",
    "# #############################################################################\n",
    "import pickle\n",
    "\n",
    "import plotly.plotly as py\n",
    "import plotly.offline as py_off\n",
    "from plotly.offline import (\n",
    "    init_notebook_mode,\n",
    "    iplot,\n",
    "    )\n",
    "\n",
    "# #############################################################################\n",
    "from methods import (\n",
    "    create_pourbaix_plot,\n",
    "    create_outside_borders,\n",
    "    create_pourb_entry_outline,\n",
    "    create_oer_equil_line,\n",
    "    )\n",
    "\n",
    "init_notebook_mode(connected=True)"
   ]
  },
  {
   "cell_type": "markdown",
   "metadata": {},
   "source": [
    "# Script Inputs"
   ]
  },
  {
   "cell_type": "code",
   "execution_count": 3,
   "metadata": {},
   "outputs": [],
   "source": [
    "run_create_entries_script = True\n",
    "with_iro3 = True\n",
    "\n",
    "# axis_ranges = {\n",
    "#     \"x_axis\": [-2, 16],\n",
    "#     \"y_axis\": [-3, 3],\n",
    "#     }\n",
    "\n",
    "axis_ranges = {\n",
    "    \"x_axis\": [0., 16],\n",
    "    \"y_axis\": [0., 2.5],\n",
    "    }\n",
    "\n",
    "save_plot = True\n",
    "\n",
    "entries_to_remove_list = [\n",
    "    \"IrO3_rutile-like\",\n",
    "    \"IrO3_battery\",\n",
    "#     \"IrO3_a-AlF3\",\n",
    "    ]"
   ]
  },
  {
   "cell_type": "markdown",
   "metadata": {},
   "source": [
    "# Load Entry Data"
   ]
  },
  {
   "cell_type": "code",
   "execution_count": 4,
   "metadata": {},
   "outputs": [],
   "source": [
    "%%capture\n",
    "if run_create_entries_script:\n",
    "    !python sc_create_all_entries.py\n",
    "\n",
    "all_entries = pickle.load(open(\"all_entries.pickle\", \"rb\"))"
   ]
  },
  {
   "cell_type": "markdown",
   "metadata": {},
   "source": [
    "# Process Data for Plotting"
   ]
  },
  {
   "cell_type": "code",
   "execution_count": 5,
   "metadata": {},
   "outputs": [],
   "source": [
    "directory = \"00_figures\"\n",
    "if not os.path.exists(directory):\n",
    "    os.makedirs(directory)\n",
    "\n",
    "data_entry_borders = create_pourb_entry_outline(\n",
    "    entries_to_remove_list=entries_to_remove_list,\n",
    "    all_entries=all_entries)\n",
    "outside_border = create_outside_borders(axis_ranges=axis_ranges)\n",
    "data, layout = create_pourbaix_plot(entries=all_entries, axis_ranges=axis_ranges)\n",
    "oer_equil_line = create_oer_equil_line(axis_ranges=axis_ranges)\n",
    "\n",
    "data += data_entry_borders\n",
    "data += [outside_border]\n",
    "data += [oer_equil_line]"
   ]
  },
  {
   "cell_type": "markdown",
   "metadata": {},
   "source": [
    "# Plotting"
   ]
  },
  {
   "cell_type": "code",
   "execution_count": 6,
   "metadata": {},
   "outputs": [],
   "source": [
    "if save_plot:\n",
    "    save_dir = proj_dir_name\n",
    "else:\n",
    "    save_dir = \"__temp__\""
   ]
  },
  {
   "cell_type": "code",
   "execution_count": 7,
   "metadata": {},
   "outputs": [
    {
     "data": {
      "application/vnd.plotly.v1+json": {
       "config": {
        "linkText": "Export to plot.ly",
        "plotlyServerURL": "https://plot.ly",
        "showLink": false
       },
       "data": [
        {
         "fill": "toself",
         "fillcolor": "#6799A3",
         "hoverinfo": "none",
         "line": {
          "color": "black"
         },
         "mode": "lines",
         "name": "Ir",
         "showlegend": true,
         "type": "scatter",
         "uid": "57dd6e89-615c-4ed8-9859-b7c96efccc75",
         "x": [
          1.7763568394002505e-15,
          12.539240529633524,
          0,
          1.7763568394002505e-15
         ],
         "y": [
          0.7410691153013416,
          4.440892098500626e-16,
          0,
          0.7410691153013416
         ]
        },
        {
         "hoverinfo": "name",
         "mode": "lines+text",
         "name": "Ir",
         "text": [
          "Ir"
         ],
         "textfont": {
          "color": "black",
          "family": "Arial",
          "size": 12
         },
         "textposition": "bottom center",
         "type": "scatter",
         "uid": "15bafc88-44ad-4aa9-9610-fc2aa7210e48",
         "x": [
          4.179746843211175
         ],
         "y": [
          0.24702303843378068
         ]
        },
        {
         "fill": "toself",
         "fillcolor": "#7FC97F",
         "hoverinfo": "none",
         "line": {
          "color": "black"
         },
         "mode": "lines",
         "name": "IrO2",
         "showlegend": true,
         "type": "scatter",
         "uid": "d2fc9c09-7f31-4516-89d0-55ced8430e16",
         "x": [
          16,
          15.999999999999998,
          12.539240529633524,
          1.7763568394002505e-15,
          1.7763568394002505e-15,
          16
         ],
         "y": [
          0.2312805879315436,
          2.220446049250313e-16,
          4.440892098500626e-16,
          0.7410691153013416,
          1.492080587931544,
          0.2312805879315436
         ]
        },
        {
         "hoverinfo": "name",
         "mode": "lines+text",
         "name": "IrO2",
         "text": [
          "IrO2"
         ],
         "textfont": {
          "color": "black",
          "family": "Arial",
          "size": 12
         },
         "textposition": "bottom center",
         "type": "scatter",
         "uid": "c8229ae9-61bb-420d-b868-94c9ad2f5c55",
         "x": [
          8.907848105926705
         ],
         "y": [
          0.4928860582328859
         ]
        },
        {
         "fill": "toself",
         "fillcolor": "#7c7c7c",
         "hoverinfo": "none",
         "line": {
          "color": "black"
         },
         "mode": "lines",
         "name": "IrO4-",
         "showlegend": true,
         "type": "scatter",
         "uid": "b811b9c2-bdae-4cfa-8bd5-6af5baa6fb70",
         "x": [
          16,
          1.7763568394002505e-15,
          2.6645352591003757e-15,
          16,
          16
         ],
         "y": [
          0.2312805879315436,
          1.492080587931544,
          2.5,
          2.5,
          0.2312805879315436
         ]
        },
        {
         "hoverinfo": "name",
         "mode": "lines+text",
         "name": "IrO4-",
         "text": [
          "IrO4-"
         ],
         "textfont": {
          "color": "black",
          "family": "Arial",
          "size": 12
         },
         "textposition": "bottom center",
         "type": "scatter",
         "uid": "d36794af-39f6-47ef-bb89-2542e3fa3dbf",
         "x": [
          8
         ],
         "y": [
          1.6808402939657718
         ]
        },
        {
         "marker": {
          "color": "black",
          "line": {
           "color": "black",
           "width": 4
          }
         },
         "mode": "lines",
         "type": "scatter",
         "uid": "a841e7d7-99e5-4309-880a-0ac9daebdb7e",
         "x": [
          0,
          16,
          16,
          0,
          0
         ],
         "y": [
          0,
          0,
          2.5,
          2.5,
          0
         ]
        },
        {
         "line": {
          "color": "black",
          "dash": "dot",
          "width": 0.75
         },
         "mode": "lines",
         "name": "lines",
         "type": "scatter",
         "uid": "41ba6b3d-141e-4035-a55b-ec19ad04c88a",
         "x": [
          0,
          16
         ],
         "y": [
          1.23,
          0.2844
         ]
        }
       ],
       "layout": {
        "font": {
         "color": "black",
         "family": "Arial"
        },
        "height": 226.77165354599998,
        "margin": {
         "b": 40,
         "l": 40,
         "r": 40,
         "t": 40
        },
        "showlegend": false,
        "width": 340.157480319,
        "xaxis": {
         "dtick": 1,
         "linecolor": "black",
         "mirror": "ticks",
         "range": [
          0,
          16
         ],
         "showgrid": false,
         "showline": true,
         "tick0": 0,
         "tickcolor": "black",
         "tickfont": {
          "size": 10.666666666666666
         },
         "ticklen": 2,
         "ticks": "inside",
         "tickwidth": 1,
         "title": {
          "font": {
           "size": 12
          },
          "text": "pH"
         },
         "type": "linear",
         "zeroline": false
        },
        "yaxis": {
         "linecolor": "black",
         "mirror": "ticks",
         "range": [
          0,
          2.5
         ],
         "showgrid": false,
         "showline": true,
         "tick0": 0,
         "tickcolor": "black",
         "tickfont": {
          "size": 10.666666666666666
         },
         "ticklen": 2,
         "ticks": "inside",
         "tickwidth": 1,
         "title": {
          "font": {
           "size": 12
          },
          "text": "E(V)"
         },
         "type": "linear",
         "zeroline": false
        }
       }
      },
      "image/png": "[encoded data removed]",
      "text/html": [
       "<div>\n",
       "        \n",
       "        \n",
       "            <div id=\"98ce854a-5c72-4b8f-80e3-ddc41aa4b2c4\" class=\"plotly-graph-div\" style=\"height:226.77165354599998px; width:340.157480319px;\"></div>\n",
       "            <script type=\"text/javascript\">\n",
       "                require([\"plotly\"], function(Plotly) {\n",
       "                    window.PLOTLYENV=window.PLOTLYENV || {};\n",
       "                    window.PLOTLYENV.BASE_URL='https://plot.ly';\n",
       "                    \n",
       "                if (document.getElementById(\"98ce854a-5c72-4b8f-80e3-ddc41aa4b2c4\")) {\n",
       "                    Plotly.newPlot(\n",
       "                        '98ce854a-5c72-4b8f-80e3-ddc41aa4b2c4',\n",
       "                        [{\"fill\": \"toself\", \"fillcolor\": \"#6799A3\", \"hoverinfo\": \"none\", \"line\": {\"color\": \"black\"}, \"mode\": \"lines\", \"name\": \"Ir\", \"showlegend\": true, \"type\": \"scatter\", \"uid\": \"57dd6e89-615c-4ed8-9859-b7c96efccc75\", \"x\": [1.7763568394002505e-15, 12.539240529633524, 0.0, 1.7763568394002505e-15], \"y\": [0.7410691153013416, 4.440892098500626e-16, 0.0, 0.7410691153013416]}, {\"hoverinfo\": \"name\", \"mode\": \"lines+text\", \"name\": \"Ir\", \"text\": [\"Ir\"], \"textfont\": {\"color\": \"black\", \"family\": \"Arial\", \"size\": 12.0}, \"textposition\": \"bottom center\", \"type\": \"scatter\", \"uid\": \"15bafc88-44ad-4aa9-9610-fc2aa7210e48\", \"x\": [4.179746843211175], \"y\": [0.24702303843378068]}, {\"fill\": \"toself\", \"fillcolor\": \"#7FC97F\", \"hoverinfo\": \"none\", \"line\": {\"color\": \"black\"}, \"mode\": \"lines\", \"name\": \"IrO2\", \"showlegend\": true, \"type\": \"scatter\", \"uid\": \"d2fc9c09-7f31-4516-89d0-55ced8430e16\", \"x\": [16.0, 15.999999999999998, 12.539240529633524, 1.7763568394002505e-15, 1.7763568394002505e-15, 16.0], \"y\": [0.2312805879315436, 2.220446049250313e-16, 4.440892098500626e-16, 0.7410691153013416, 1.492080587931544, 0.2312805879315436]}, {\"hoverinfo\": \"name\", \"mode\": \"lines+text\", \"name\": \"IrO2\", \"text\": [\"IrO2\"], \"textfont\": {\"color\": \"black\", \"family\": \"Arial\", \"size\": 12.0}, \"textposition\": \"bottom center\", \"type\": \"scatter\", \"uid\": \"c8229ae9-61bb-420d-b868-94c9ad2f5c55\", \"x\": [8.907848105926705], \"y\": [0.4928860582328859]}, {\"fill\": \"toself\", \"fillcolor\": \"#7c7c7c\", \"hoverinfo\": \"none\", \"line\": {\"color\": \"black\"}, \"mode\": \"lines\", \"name\": \"IrO4-\", \"showlegend\": true, \"type\": \"scatter\", \"uid\": \"b811b9c2-bdae-4cfa-8bd5-6af5baa6fb70\", \"x\": [16.0, 1.7763568394002505e-15, 2.6645352591003757e-15, 16.0, 16.0], \"y\": [0.2312805879315436, 1.492080587931544, 2.5, 2.5, 0.2312805879315436]}, {\"hoverinfo\": \"name\", \"mode\": \"lines+text\", \"name\": \"IrO4-\", \"text\": [\"IrO4-\"], \"textfont\": {\"color\": \"black\", \"family\": \"Arial\", \"size\": 12.0}, \"textposition\": \"bottom center\", \"type\": \"scatter\", \"uid\": \"d36794af-39f6-47ef-bb89-2542e3fa3dbf\", \"x\": [8.0], \"y\": [1.6808402939657718]}, {\"marker\": {\"color\": \"black\", \"line\": {\"color\": \"black\", \"width\": 4}}, \"mode\": \"lines\", \"type\": \"scatter\", \"uid\": \"a841e7d7-99e5-4309-880a-0ac9daebdb7e\", \"x\": [0.0, 16, 16, 0.0, 0.0], \"y\": [0.0, 0.0, 2.5, 2.5, 0.0]}, {\"line\": {\"color\": \"black\", \"dash\": \"dot\", \"width\": 0.75}, \"mode\": \"lines\", \"name\": \"lines\", \"type\": \"scatter\", \"uid\": \"41ba6b3d-141e-4035-a55b-ec19ad04c88a\", \"x\": [0.0, 16], \"y\": [1.23, 0.2844]}],\n",
       "                        {\"font\": {\"color\": \"black\", \"family\": \"Arial\"}, \"height\": 226.77165354599998, \"margin\": {\"b\": 40.0, \"l\": 40.0, \"r\": 40.0, \"t\": 40.0}, \"showlegend\": false, \"width\": 340.157480319, \"xaxis\": {\"dtick\": 1, \"linecolor\": \"black\", \"mirror\": \"ticks\", \"range\": [0.0, 16], \"showgrid\": false, \"showline\": true, \"tick0\": 0, \"tickcolor\": \"black\", \"tickfont\": {\"size\": 10.666666666666666}, \"ticklen\": 2, \"ticks\": \"inside\", \"tickwidth\": 1, \"title\": {\"font\": {\"size\": 12.0}, \"text\": \"pH\"}, \"zeroline\": false}, \"yaxis\": {\"linecolor\": \"black\", \"mirror\": \"ticks\", \"range\": [0.0, 2.5], \"showgrid\": false, \"showline\": true, \"tick0\": 0, \"tickcolor\": \"black\", \"tickfont\": {\"size\": 10.666666666666666}, \"ticklen\": 2, \"ticks\": \"inside\", \"tickwidth\": 1, \"title\": {\"font\": {\"size\": 12.0}, \"text\": \"E(V)\"}, \"zeroline\": false}},\n",
       "                        {\"showLink\": false, \"linkText\": \"Export to plot.ly\", \"plotlyServerURL\": \"https://plot.ly\", \"responsive\": true}\n",
       "                    ).then(function(){\n",
       "                            \n",
       "var gd = document.getElementById('98ce854a-5c72-4b8f-80e3-ddc41aa4b2c4');\n",
       "var x = new MutationObserver(function (mutations, observer) {{\n",
       "        var display = window.getComputedStyle(gd).display;\n",
       "        if (!display || display === 'none') {{\n",
       "            console.log([gd, 'removed!']);\n",
       "            Plotly.purge(gd);\n",
       "            observer.disconnect();\n",
       "        }}\n",
       "}});\n",
       "\n",
       "// Listen for the removal of the full notebook cells\n",
       "var notebookContainer = gd.closest('#notebook-container');\n",
       "if (notebookContainer) {{\n",
       "    x.observe(notebookContainer, {childList: true});\n",
       "}}\n",
       "\n",
       "// Listen for the clearing of the current output cell\n",
       "var outputEl = gd.closest('.output');\n",
       "if (outputEl) {{\n",
       "    x.observe(outputEl, {childList: true});\n",
       "}}\n",
       "\n",
       "                        })\n",
       "                };\n",
       "                });\n",
       "            </script>\n",
       "        </div>"
      ]
     },
     "metadata": {},
     "output_type": "display_data"
    },
    {
     "name": "stderr",
     "output_type": "stream",
     "text": [
      "/home/raulf2012/miniconda2/envs/py36/lib/python3.6/site-packages/IPython/core/display.py:689: UserWarning:\n",
      "\n",
      "Consider using IPython.display.IFrame instead\n",
      "\n"
     ]
    }
   ],
   "source": [
    "fig = dict(data=data, layout=layout)\n",
    "py_off.iplot(fig)\n",
    "\n",
    "if with_iro3:\n",
    "    py.iplot(fig, filename=os.path.join(save_dir, \"bulk_pourbiax\", \"pl_bulk_pourbaix__regular\"))\n",
    "else:\n",
    "    py.iplot(fig, filename=os.path.join(save_dir, \"bulk_pourbiax\", \"pl_bulk_pourbaix_wo_iro3__regular\"))"
   ]
  },
  {
   "cell_type": "code",
   "execution_count": 8,
   "metadata": {},
   "outputs": [
    {
     "data": {
      "application/vnd.plotly.v1+json": {
       "config": {
        "linkText": "Export to plot.ly",
        "plotlyServerURL": "https://plot.ly",
        "showLink": false
       },
       "data": [
        {
         "fill": "toself",
         "fillcolor": "#6799A3",
         "hoverinfo": "none",
         "line": {
          "color": "black"
         },
         "mode": "lines",
         "name": "Ir",
         "showlegend": true,
         "type": "scatter",
         "uid": "4615b4e0-5b1e-4821-80ea-3036cbbf68cc",
         "x": [
          1.7763568394002505e-15,
          12.539240529633524,
          0,
          1.7763568394002505e-15
         ],
         "y": [
          0.7410691153013416,
          4.440892098500626e-16,
          0,
          0.7410691153013416
         ]
        },
        {
         "hoverinfo": "name",
         "mode": "lines+text",
         "name": "Ir",
         "text": [
          "Ir"
         ],
         "textfont": {
          "color": "black",
          "family": "Arial",
          "size": 12
         },
         "textposition": "bottom center",
         "type": "scatter",
         "uid": "e492f5fc-f186-4ee8-8718-93323290a3cd",
         "x": [
          4.179746843211175
         ],
         "y": [
          0.24702303843378068
         ]
        },
        {
         "fill": "toself",
         "fillcolor": "#7FC97F",
         "hoverinfo": "none",
         "line": {
          "color": "black"
         },
         "mode": "lines",
         "name": "IrO2",
         "showlegend": true,
         "type": "scatter",
         "uid": "d7d68aba-8280-4b98-9ae8-a246111ff26a",
         "x": [
          16,
          15.999999999999998,
          12.539240529633524,
          1.7763568394002505e-15,
          1.7763568394002505e-15,
          16
         ],
         "y": [
          0.2312805879315436,
          2.220446049250313e-16,
          4.440892098500626e-16,
          0.7410691153013416,
          1.492080587931544,
          0.2312805879315436
         ]
        },
        {
         "hoverinfo": "name",
         "mode": "lines+text",
         "name": "IrO2",
         "text": [
          "IrO2"
         ],
         "textfont": {
          "color": "black",
          "family": "Arial",
          "size": 12
         },
         "textposition": "bottom center",
         "type": "scatter",
         "uid": "c64b8945-fd07-4501-944d-fa9c4533f31f",
         "x": [
          8.907848105926705
         ],
         "y": [
          0.4928860582328859
         ]
        },
        {
         "fill": "toself",
         "fillcolor": "#7c7c7c",
         "hoverinfo": "none",
         "line": {
          "color": "black"
         },
         "mode": "lines",
         "name": "IrO4-",
         "showlegend": true,
         "type": "scatter",
         "uid": "f7ac5d18-d40f-42c2-b215-0cca10edb1cb",
         "x": [
          16,
          1.7763568394002505e-15,
          2.6645352591003757e-15,
          16,
          16
         ],
         "y": [
          0.2312805879315436,
          1.492080587931544,
          2.5,
          2.5,
          0.2312805879315436
         ]
        },
        {
         "hoverinfo": "name",
         "mode": "lines+text",
         "name": "IrO4-",
         "text": [
          "IrO4-"
         ],
         "textfont": {
          "color": "black",
          "family": "Arial",
          "size": 12
         },
         "textposition": "bottom center",
         "type": "scatter",
         "uid": "f29cbdbd-0855-4155-853c-43c74f3099e4",
         "x": [
          8
         ],
         "y": [
          1.6808402939657718
         ]
        },
        {
         "marker": {
          "color": "black",
          "line": {
           "color": "black",
           "width": 4
          }
         },
         "mode": "lines",
         "type": "scatter",
         "uid": "073d3243-a700-4123-aee5-3615acfbf911",
         "x": [
          0,
          16,
          16,
          0,
          0
         ],
         "y": [
          0,
          0,
          2.5,
          2.5,
          0
         ]
        },
        {
         "line": {
          "color": "black",
          "dash": "dot",
          "width": 0.75
         },
         "mode": "lines",
         "name": "lines",
         "type": "scatter",
         "uid": "b1f85d8f-09f2-404b-9683-a57a3bcbf988",
         "x": [
          0,
          16
         ],
         "y": [
          1.23,
          0.2844
         ]
        }
       ],
       "layout": {
        "font": {
         "color": "black",
         "family": "Arial"
        },
        "height": 453.54330709199996,
        "margin": {
         "b": 40,
         "l": 40,
         "r": 40,
         "t": 40
        },
        "showlegend": false,
        "width": 680.314960638,
        "xaxis": {
         "dtick": 1,
         "linecolor": "black",
         "mirror": "ticks",
         "range": [
          0,
          16
         ],
         "showgrid": false,
         "showline": true,
         "tick0": 0,
         "tickcolor": "black",
         "tickfont": {
          "size": 10.666666666666666
         },
         "ticklen": 2,
         "ticks": "inside",
         "tickwidth": 1,
         "title": {
          "font": {
           "size": 12
          },
          "text": "pH"
         },
         "type": "linear",
         "zeroline": false
        },
        "yaxis": {
         "linecolor": "black",
         "mirror": "ticks",
         "range": [
          0,
          2.5
         ],
         "showgrid": false,
         "showline": true,
         "tick0": 0,
         "tickcolor": "black",
         "tickfont": {
          "size": 10.666666666666666
         },
         "ticklen": 2,
         "ticks": "inside",
         "tickwidth": 1,
         "title": {
          "font": {
           "size": 12
          },
          "text": "E(V)"
         },
         "type": "linear",
         "zeroline": false
        }
       }
      },
      "image/png": "[encoded data removed]",
      "text/html": [
       "<div>\n",
       "        \n",
       "        \n",
       "            <div id=\"4e2a3561-5e46-4b40-9bf2-0816be1a4ad1\" class=\"plotly-graph-div\" style=\"height:453.54330709199996px; width:680.314960638px;\"></div>\n",
       "            <script type=\"text/javascript\">\n",
       "                require([\"plotly\"], function(Plotly) {\n",
       "                    window.PLOTLYENV=window.PLOTLYENV || {};\n",
       "                    window.PLOTLYENV.BASE_URL='https://plot.ly';\n",
       "                    \n",
       "                if (document.getElementById(\"4e2a3561-5e46-4b40-9bf2-0816be1a4ad1\")) {\n",
       "                    Plotly.newPlot(\n",
       "                        '4e2a3561-5e46-4b40-9bf2-0816be1a4ad1',\n",
       "                        [{\"fill\": \"toself\", \"fillcolor\": \"#6799A3\", \"hoverinfo\": \"none\", \"line\": {\"color\": \"black\"}, \"mode\": \"lines\", \"name\": \"Ir\", \"showlegend\": true, \"type\": \"scatter\", \"uid\": \"4615b4e0-5b1e-4821-80ea-3036cbbf68cc\", \"x\": [1.7763568394002505e-15, 12.539240529633524, 0.0, 1.7763568394002505e-15], \"y\": [0.7410691153013416, 4.440892098500626e-16, 0.0, 0.7410691153013416]}, {\"hoverinfo\": \"name\", \"mode\": \"lines+text\", \"name\": \"Ir\", \"text\": [\"Ir\"], \"textfont\": {\"color\": \"black\", \"family\": \"Arial\", \"size\": 12.0}, \"textposition\": \"bottom center\", \"type\": \"scatter\", \"uid\": \"e492f5fc-f186-4ee8-8718-93323290a3cd\", \"x\": [4.179746843211175], \"y\": [0.24702303843378068]}, {\"fill\": \"toself\", \"fillcolor\": \"#7FC97F\", \"hoverinfo\": \"none\", \"line\": {\"color\": \"black\"}, \"mode\": \"lines\", \"name\": \"IrO2\", \"showlegend\": true, \"type\": \"scatter\", \"uid\": \"d7d68aba-8280-4b98-9ae8-a246111ff26a\", \"x\": [16.0, 15.999999999999998, 12.539240529633524, 1.7763568394002505e-15, 1.7763568394002505e-15, 16.0], \"y\": [0.2312805879315436, 2.220446049250313e-16, 4.440892098500626e-16, 0.7410691153013416, 1.492080587931544, 0.2312805879315436]}, {\"hoverinfo\": \"name\", \"mode\": \"lines+text\", \"name\": \"IrO2\", \"text\": [\"IrO2\"], \"textfont\": {\"color\": \"black\", \"family\": \"Arial\", \"size\": 12.0}, \"textposition\": \"bottom center\", \"type\": \"scatter\", \"uid\": \"c64b8945-fd07-4501-944d-fa9c4533f31f\", \"x\": [8.907848105926705], \"y\": [0.4928860582328859]}, {\"fill\": \"toself\", \"fillcolor\": \"#7c7c7c\", \"hoverinfo\": \"none\", \"line\": {\"color\": \"black\"}, \"mode\": \"lines\", \"name\": \"IrO4-\", \"showlegend\": true, \"type\": \"scatter\", \"uid\": \"f7ac5d18-d40f-42c2-b215-0cca10edb1cb\", \"x\": [16.0, 1.7763568394002505e-15, 2.6645352591003757e-15, 16.0, 16.0], \"y\": [0.2312805879315436, 1.492080587931544, 2.5, 2.5, 0.2312805879315436]}, {\"hoverinfo\": \"name\", \"mode\": \"lines+text\", \"name\": \"IrO4-\", \"text\": [\"IrO4-\"], \"textfont\": {\"color\": \"black\", \"family\": \"Arial\", \"size\": 12.0}, \"textposition\": \"bottom center\", \"type\": \"scatter\", \"uid\": \"f29cbdbd-0855-4155-853c-43c74f3099e4\", \"x\": [8.0], \"y\": [1.6808402939657718]}, {\"marker\": {\"color\": \"black\", \"line\": {\"color\": \"black\", \"width\": 4}}, \"mode\": \"lines\", \"type\": \"scatter\", \"uid\": \"073d3243-a700-4123-aee5-3615acfbf911\", \"x\": [0.0, 16, 16, 0.0, 0.0], \"y\": [0.0, 0.0, 2.5, 2.5, 0.0]}, {\"line\": {\"color\": \"black\", \"dash\": \"dot\", \"width\": 0.75}, \"mode\": \"lines\", \"name\": \"lines\", \"type\": \"scatter\", \"uid\": \"b1f85d8f-09f2-404b-9683-a57a3bcbf988\", \"x\": [0.0, 16], \"y\": [1.23, 0.2844]}],\n",
       "                        {\"font\": {\"color\": \"black\", \"family\": \"Arial\"}, \"height\": 453.54330709199996, \"margin\": {\"b\": 40.0, \"l\": 40.0, \"r\": 40.0, \"t\": 40.0}, \"showlegend\": false, \"width\": 680.314960638, \"xaxis\": {\"dtick\": 1, \"linecolor\": \"black\", \"mirror\": \"ticks\", \"range\": [0.0, 16], \"showgrid\": false, \"showline\": true, \"tick0\": 0, \"tickcolor\": \"black\", \"tickfont\": {\"size\": 10.666666666666666}, \"ticklen\": 2, \"ticks\": \"inside\", \"tickwidth\": 1, \"title\": {\"font\": {\"size\": 12.0}, \"text\": \"pH\"}, \"zeroline\": false}, \"yaxis\": {\"linecolor\": \"black\", \"mirror\": \"ticks\", \"range\": [0.0, 2.5], \"showgrid\": false, \"showline\": true, \"tick0\": 0, \"tickcolor\": \"black\", \"tickfont\": {\"size\": 10.666666666666666}, \"ticklen\": 2, \"ticks\": \"inside\", \"tickwidth\": 1, \"title\": {\"font\": {\"size\": 12.0}, \"text\": \"E(V)\"}, \"zeroline\": false}},\n",
       "                        {\"showLink\": false, \"linkText\": \"Export to plot.ly\", \"plotlyServerURL\": \"https://plot.ly\", \"responsive\": true}\n",
       "                    ).then(function(){\n",
       "                            \n",
       "var gd = document.getElementById('4e2a3561-5e46-4b40-9bf2-0816be1a4ad1');\n",
       "var x = new MutationObserver(function (mutations, observer) {{\n",
       "        var display = window.getComputedStyle(gd).display;\n",
       "        if (!display || display === 'none') {{\n",
       "            console.log([gd, 'removed!']);\n",
       "            Plotly.purge(gd);\n",
       "            observer.disconnect();\n",
       "        }}\n",
       "}});\n",
       "\n",
       "// Listen for the removal of the full notebook cells\n",
       "var notebookContainer = gd.closest('#notebook-container');\n",
       "if (notebookContainer) {{\n",
       "    x.observe(notebookContainer, {childList: true});\n",
       "}}\n",
       "\n",
       "// Listen for the clearing of the current output cell\n",
       "var outputEl = gd.closest('.output');\n",
       "if (outputEl) {{\n",
       "    x.observe(outputEl, {childList: true});\n",
       "}}\n",
       "\n",
       "                        })\n",
       "                };\n",
       "                });\n",
       "            </script>\n",
       "        </div>"
      ]
     },
     "metadata": {},
     "output_type": "display_data"
    },
    {
     "data": {
      "text/plain": [
       "'00_figures/fig01_alf3.html'"
      ]
     },
     "execution_count": 8,
     "metadata": {},
     "output_type": "execute_result"
    }
   ],
   "source": [
    "layout[\"height\"] = 2 * 6. * 37.795275591\n",
    "layout[\"width\"] = 2 * 9. * 37.795275591\n",
    "\n",
    "py_off.iplot(fig)\n",
    "py_off.plot(fig, filename=os.path.join(directory, \"fig01_alf3.html\"))\n",
    "\n",
    "# py.iplot(fig, filename=os.path.join(save_dir, \"bulk_pourbiax\", \"pl_bulk_pourbaix__large\"))"
   ]
  },
  {
   "cell_type": "raw",
   "metadata": {},
   "source": [
    "\n",
    "\n",
    "\n",
    "\n"
   ]
  }
 ],
 "metadata": {
  "kernelspec": {
   "display_name": "Python 3",
   "language": "python",
   "name": "python3"
  },
  "language_info": {
   "codemirror_mode": {
    "name": "ipython",
    "version": 3
   },
   "file_extension": ".py",
   "mimetype": "text/x-python",
   "name": "python",
   "nbconvert_exporter": "python",
   "pygments_lexer": "ipython3",
   "version": "3.6.7"
  }
 },
 "nbformat": 4,
 "nbformat_minor": 2
}
