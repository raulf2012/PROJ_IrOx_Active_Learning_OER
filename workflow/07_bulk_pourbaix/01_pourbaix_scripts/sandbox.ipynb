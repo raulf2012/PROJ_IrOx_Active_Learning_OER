{
 "cells": [
  {
   "cell_type": "code",
   "execution_count": null,
   "metadata": {
    "jupyter": {}
   },
   "outputs": [],
   "source": [
    "# | - Import Modules\n",
    "import pickle\n",
    "\n",
    "from pymatgen import MPRester\n",
    "\n",
    "# Decomposes ion into composition object that can handle the charge string\n",
    "from pymatgen.core.ion import Ion\n",
    "\n",
    "from pymatgen.analysis.phase_diagram import PhaseDiagram\n",
    "from pymatgen.analysis.pourbaix_diagram import (\n",
    "    PourbaixEntry,\n",
    "    IonEntry,\n",
    "    )\n",
    "\n",
    "#GGA/GGA+U Mixing Scheme\n",
    "from pymatgen.entries.compatibility import MaterialsProjectAqueousCompatibility\n",
    "from pymatgen.entries.computed_entries import ComputedEntry\n",
    "\n",
    "import warnings\n",
    "warnings.filterwarnings('ignore')\n",
    "\n",
    "# #############################################################################\n",
    "# #############################################################################\n",
    "from dft_energies import ion_dict_solids_expt\n",
    "#__|"
   ]
  },
  {
   "cell_type": "code",
   "execution_count": null,
   "metadata": {},
   "outputs": [],
   "source": [
    "ion_dict_solids_expt"
   ]
  },
  {
   "cell_type": "code",
   "execution_count": null,
   "metadata": {},
   "outputs": [],
   "source": [
    "# ion_dict_solids_expt = ion_dict_solids_expt[\"IrO2\"]\n",
    "\n",
    "# ion_dict_solids_expt = dict(IrO2=-1.9523235387946347)"
   ]
  },
  {
   "cell_type": "code",
   "execution_count": null,
   "metadata": {},
   "outputs": [],
   "source": [
    "MU_H2O = -2.4583\n",
    "# MU_H2O = -2.4577835\n",
    "\n",
    "# IrO2\n",
    "IrO2_G = -1.9523235387946347 - 2 * MU_H2O\n",
    "\n",
    "# IrO3\n",
    "# IrO3_G = -2.267671121530652 - 3 * MU_H2O\n",
    "IrO3_G = -2.067671121530652 - 3 * MU_H2O\n",
    "\n",
    "\n",
    "(IrO3_G - IrO2_G) / 2  # 1.0714762086319913"
   ]
  },
  {
   "cell_type": "code",
   "execution_count": null,
   "metadata": {},
   "outputs": [],
   "source": [
    "1.0714762086319913 - 1.1214762086319912"
   ]
  },
  {
   "cell_type": "code",
   "execution_count": null,
   "metadata": {},
   "outputs": [],
   "source": [
    "# | - Script Inputs\n",
    "#This initializes the REST adaptor. Put your own API key in.\n",
    "mpr = MPRester('NJTXWGbreuLAq8O5')  # Raul\n",
    "\n",
    "#__|\n",
    "\n",
    "# | - Methods\n",
    "#Used later to filter duplicate entries\n",
    "#If entry is already in entry_list, then return True\n",
    "def contains_entry(entry_list, entry):\n",
    "    \"\"\"\n",
    "    \"\"\"\n",
    "    # | - contains_entry\n",
    "    for e in entry_list:\n",
    "        if e.entry_id == entry.entry_id or (abs(entry.energy_per_atom - e.energy_per_atom) < 1e-6 and entry.composition.reduced_formula == e.composition.reduced_formula):\n",
    "            return True\n",
    "    #__|\n",
    "\n",
    "#__|\n",
    "\n",
    "# | - Main Code ****************************************************************\n",
    "#Entries are the basic unit for thermodynamic and other analyses in pymatgen.\n",
    "entries = mpr.get_entries_in_chemsys(['O', 'H'])\n",
    "\n",
    "# | - Ion Reference Data\n",
    "#Dictionary of reference state:experimental formation energy\n",
    "\n",
    "# ion_dict_Co = mpr._make_request('/pourbaix_diagram/reference_data/Ru')\n",
    "# ion_dict_S = mpr._make_request('/pourbaix_diagram/reference_data/Y')\n",
    "\n",
    "ion_dict_Co = mpr._make_request('/pourbaix_diagram/reference_data/Ir')\n",
    "ion_dict_S = mpr._make_request('/pourbaix_diagram/reference_data/Sr')\n",
    "\n",
    "\n",
    "for i, dummy in enumerate(ion_dict_Co):\n",
    "    print(ion_dict_Co[i])\n",
    "    print('hi')\n",
    "\n",
    "# for i,dummy in enumerate(ion_dict_S):\n",
    "# \tprint ion_dict_S[i]['Name'], ion_dict_S[i]['Energy']\n",
    "\n",
    "ion_dict = ion_dict_Co  # + ion_dict_S\n",
    "#ion_dict = ion_dict_Co + ion_dict_S\n",
    "#__|\n",
    "\n",
    "#NOTE This line assumes that the every entry in the experimental ion energy\n",
    "# has the same ref. st. solid\n",
    "ref_state = str(ion_dict[0]['Reference Solid'])\n",
    "ref_dict = {ref_state: ion_dict[0]['Reference solid energy']}\n",
    "\n",
    "# Run aqueouscorrection on the entries\n",
    "# Entries without applicable corrections will be discarded\n",
    "# Implements the GGA/GGA+U mixing scheme\n",
    "aqcompat = MaterialsProjectAqueousCompatibility()\n",
    "\n",
    "entries_aqcorr = list()\n",
    "for entry in entries:\n",
    "    # Applies corrections to entry, if none applicable it gets rid of entry\n",
    "    aq_corrected_entry = aqcompat.process_entry(entry)\n",
    "    # If entry already in entries_aqcorr then don't add to list\n",
    "    if not contains_entry(entries_aqcorr, aq_corrected_entry):\n",
    "        entries_aqcorr.append(aq_corrected_entry)\n",
    "\n",
    "# Generate a phase diagram to consider only solid entries stable in water.\n",
    "pd = PhaseDiagram(entries_aqcorr)\n",
    "stable_solids = pd.stable_entries\n",
    "stable_solids_minus_h2o = [entry for entry in stable_solids if\n",
    "    entry.composition.reduced_formula not in [\"H2\", \"O2\", \"H2O\", \"H2O2\"]]\n",
    "\n"
   ]
  },
  {
   "cell_type": "code",
   "execution_count": null,
   "metadata": {},
   "outputs": [],
   "source": [
    "pbx_solid_entries = []\n",
    "for entry in stable_solids_minus_h2o:\n",
    "    pbx_entry = PourbaixEntry(entry)\n",
    "\n",
    "    # Replace E with newly corrected E\n",
    "    pbx_entry.g0_replace(pd.get_form_energy(entry))\n",
    "    pbx_entry.reduced_entry()  # Applies reduction factor?????\n",
    "    pbx_solid_entries.append(pbx_entry)\n",
    "\n",
    "# | - Processing My Solid Entries\n",
    "for key, value in ion_dict_solids_expt.items():\n",
    "    print(\"IDJFIJDS\")\n",
    "    split_key = key.split(\"_\")\n",
    "    formula_i = split_key[0]\n",
    "\n",
    "    comp = Ion.from_formula(formula_i)\n",
    "    energy = value\n",
    "    pbx_entry_ion = PourbaixEntry(\n",
    "        ComputedEntry(\n",
    "            comp,\n",
    "            energy,\n",
    "            attribute={\n",
    "                \"full_name\": key}))\n",
    "\n",
    "    # AP pbx_entry_ion.name = key\n",
    "    pbx_entry_ion.conc = 1\n",
    "    pbx_solid_entries.append(pbx_entry_ion)\n",
    "\n",
    "for a in pbx_solid_entries:\n",
    "    print(a, a.conc)\n",
    "    print('hkjo')\n",
    "\n",
    "#__|"
   ]
  },
  {
   "cell_type": "code",
   "execution_count": null,
   "metadata": {},
   "outputs": [],
   "source": [
    "self = pbx_entry_ion\n",
    "\n",
    "\n",
    "self.uncorrected_energy\n",
    "\n",
    "self.conc_term\n",
    "\n",
    "self.nH2O"
   ]
  },
  {
   "cell_type": "code",
   "execution_count": null,
   "metadata": {},
   "outputs": [],
   "source": [
    "-2.369\n",
    "\n",
    "-2.4577835\n",
    "\n",
    "-2.46  # 1.23 * 2"
   ]
  },
  {
   "cell_type": "code",
   "execution_count": null,
   "metadata": {},
   "outputs": [],
   "source": [
    "ion_dict_solids_expt\n",
    "\n",
    "2.9643 - -1.9523235387946347"
   ]
  },
  {
   "cell_type": "code",
   "execution_count": null,
   "metadata": {},
   "outputs": [],
   "source": [
    "-2.4583"
   ]
  },
  {
   "cell_type": "code",
   "execution_count": null,
   "metadata": {},
   "outputs": [],
   "source": [
    "1.23 * 2"
   ]
  },
  {
   "cell_type": "code",
   "execution_count": null,
   "metadata": {},
   "outputs": [],
   "source": [
    "PourbaixEntry?"
   ]
  },
  {
   "cell_type": "code",
   "execution_count": null,
   "metadata": {},
   "outputs": [],
   "source": [
    "pbx_entry_ion.energy"
   ]
  },
  {
   "cell_type": "code",
   "execution_count": null,
   "metadata": {},
   "outputs": [],
   "source": [
    "assert False"
   ]
  },
  {
   "cell_type": "code",
   "execution_count": null,
   "metadata": {
    "jupyter": {}
   },
   "outputs": [],
   "source": [
    "# | - Ion Entries\n",
    "# Calculate DFT reference energy for ions (See Persson et al, PRB (2012))\n",
    "pbx_ion_entries = []\n",
    "for id in ion_dict:\n",
    "    # Ion name-> Ion comp name (ex. Fe[3+] -> Ion: Fe1 +3)\n",
    "    comp = Ion.from_formula(id['Name'])\n",
    "    energy = id['Energy']  # + ion_correction * factor\n",
    "    print(id['Name'], comp, energy)\n",
    "    pbx_entry_ion = PourbaixEntry(IonEntry(comp, energy))\n",
    "    # AP pbx_entry_ion.name = id['Name']\n",
    "    pbx_entry_ion.conc = 1.0e-6\n",
    "    if pbx_entry_ion.name not in ['jfdksl']:  # ['H2RuO2[2+]']: #[\"RuO4(aq)\"]:\n",
    "        pbx_ion_entries.append(pbx_entry_ion)\n",
    "#__|\n",
    "\n",
    "all_entries = pbx_solid_entries + pbx_ion_entries\n",
    "#__|\n",
    "\n",
    "# | - Save all_entries\n",
    "\n",
    "# Pickling data ######################################################\n",
    "# import os; import pickle\n",
    "# directory = \"out_data\"\n",
    "# if not os.path.exists(directory): os.makedirs(directory)\n",
    "# with open(os.path.join(directory, \"all_entries.pickle\"), \"wb\") as fle:\n",
    "#     pickle.dump(all_entries, fle)\n",
    "# #####################################################################"
   ]
  },
  {
   "cell_type": "raw",
   "metadata": {},
   "source": [
    "\n",
    "\n",
    "\n"
   ],
   "execution_count": null,
   "outputs": []
  },
  {
   "cell_type": "code",
   "execution_count": null,
   "metadata": {
    "jupyter": {}
   },
   "outputs": [],
   "source": [
    "# from pymatgen.analysis.pourbaix_diagram import (\n",
    "#     PourbaixDiagram,\n",
    "#     PourbaixPlotter,\n",
    "#     generate_entry_label,\n",
    "#     )\n",
    "\n",
    "\n",
    "# # #############################################################################\n",
    "# import pickle; import os\n",
    "# path_i = os.path.join(\n",
    "#     \"out_data\",\n",
    "#     \"all_entries.pickle\")\n",
    "# with open(path_i, \"rb\") as fle:\n",
    "#     all_entries = pickle.load(fle)\n",
    "# # #############################################################################\n",
    "\n",
    "# all_entries = all_entries[0:2]\n",
    "\n",
    "# all_entries\n",
    "\n",
    "\n",
    "# pourbaix = PourbaixDiagram(all_entries)  # comp_dict={'Ru':0.5,'Y':0.5})"
   ]
  }
 ],
 "metadata": {
  "kernelspec": {
   "display_name": "Python [conda env:research-new]",
   "language": "python",
   "name": "conda-env-research-new-py"
  },
  "language_info": {
   "codemirror_mode": {
    "name": "ipython",
    "version": 3
   },
   "file_extension": ".py",
   "mimetype": "text/x-python",
   "name": "python",
   "nbconvert_exporter": "python",
   "pygments_lexer": "ipython3",
   "version": "3.6.8"
  }
 },
 "nbformat": 4,
 "nbformat_minor": 4
}
