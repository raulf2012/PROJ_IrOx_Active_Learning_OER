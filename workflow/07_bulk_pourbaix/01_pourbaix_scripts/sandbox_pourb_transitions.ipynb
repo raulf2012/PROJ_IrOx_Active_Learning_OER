{
 "cells": [
  {
   "cell_type": "markdown",
   "metadata": {},
   "source": [
    "# Import Modules"
   ],
   "execution_count": null,
   "outputs": []
  },
  {
   "cell_type": "code",
   "execution_count": null,
   "metadata": {
    "Collapsed": "false",
    "jupyter": {}
   },
   "outputs": [],
   "source": [
    "import sys\n",
    "print(os.getcwd())\n",
    "import os\n",
    "\n",
    "sys.path.insert(\n",
    "    0,\n",
    "    os.path.join(\n",
    "        os.environ[\"PROJ_irox\"],\n",
    "        \"data\"))\n",
    "from proj_data_irox import proj_dir_name, irox_bulk_color_map\n",
    "\n",
    "# #############################################################################\n",
    "import copy\n",
    "\n",
    "import pickle\n",
    "\n",
    "import numpy as np\n",
    "\n",
    "import chart_studio.plotly as py\n",
    "import plotly.graph_objs as go\n",
    "\n",
    "import plotly.offline as py_off\n",
    "from plotly.offline import (\n",
    "    init_notebook_mode,\n",
    "    iplot,\n",
    "    )\n",
    "\n",
    "from pymatgen.analysis.pourbaix_diagram import PourbaixDiagram, PourbaixPlotter\n",
    "\n",
    "# #############################################################################\n",
    "from methods import (\n",
    "    create_pourbaix_plot,\n",
    "    create_outside_borders,\n",
    "    create_pourb_entry_outline,\n",
    "    create_oer_equil_line,\n",
    "    \n",
    "    get_base_spec,\n",
    "    get_spec_entries,\n",
    "    )\n",
    "\n",
    "init_notebook_mode(connected=True)\n",
    "\n",
    "\n",
    "# #############################################################################\n",
    "from plotting.my_plotly import (\n",
    "    add_minor_ticks,\n",
    "    my_plotly_plot,\n",
    "    add_duplicate_axes)"
   ]
  },
  {
   "cell_type": "code",
   "execution_count": null,
   "metadata": {
    "Collapsed": "false"
   },
   "outputs": [],
   "source": [
    "# %%capture\n",
    "\n",
    "if True:\n",
    "    tmp = 42\n",
    "    !python sc_create_all_entries.py"
   ]
  },
  {
   "cell_type": "code",
   "execution_count": null,
   "metadata": {
    "Collapsed": "false"
   },
   "outputs": [],
   "source": [
    "# #############################################################################\n",
    "path_i = os.path.join(\n",
    "    \"out_data\",\n",
    "    \"all_entries_AB3.pickle\")\n",
    "    # \"all_entries.pickle\")\n",
    "with open(path_i, \"rb\") as fle:\n",
    "    all_entries = pickle.load(fle)\n",
    "# #############################################################################"
   ]
  },
  {
   "cell_type": "code",
   "execution_count": null,
   "metadata": {},
   "outputs": [],
   "source": [
    "ir_entry = get_base_spec(\"Ir\", all_entries)\n",
    "iro2_entry = get_base_spec(\"IrO2\", all_entries)\n",
    "ir_ion_entry = get_base_spec(\"IrO4-\", all_entries)"
   ]
  },
  {
   "cell_type": "markdown",
   "metadata": {},
   "source": [
    "# Find transition method"
   ],
   "execution_count": null,
   "outputs": []
  },
  {
   "cell_type": "code",
   "execution_count": null,
   "metadata": {},
   "outputs": [],
   "source": [
    "def find_pour_trans(\n",
    "    PourbaixDiagram=None,\n",
    "    range=[0, 3],\n",
    "    num=500,\n",
    "    ):\n",
    "    \"\"\"\n",
    "    \"\"\"\n",
    "    PD = PourbaixDiagram\n",
    "\n",
    "    transition_V = None\n",
    "\n",
    "    entries_sweep = []\n",
    "    for i_cnt, V_i in enumerate(np.linspace(range[0], range[1], num=num)):\n",
    "        stable_entry = PD.get_stable_entry(0, V_i)\n",
    "        entry_name = stable_entry.name\n",
    "\n",
    "        if i_cnt != 0:\n",
    "            prev_entry = entries_sweep[i_cnt - 1]\n",
    "\n",
    "            if prev_entry != entry_name:\n",
    "                # print(\"V_i:\", V_i)\n",
    "                transition_V = V_i\n",
    "\n",
    "                break\n",
    "\n",
    "        entries_sweep.append(entry_name)\n",
    "\n",
    "    return(transition_V)"
   ]
  },
  {
   "cell_type": "markdown",
   "metadata": {},
   "source": [
    "# Ir --> IrO2 Transition"
   ],
   "execution_count": null,
   "outputs": []
  },
  {
   "cell_type": "code",
   "execution_count": null,
   "metadata": {},
   "outputs": [],
   "source": [
    "PD = PourbaixDiagram([\n",
    "    ir_entry,\n",
    "    iro2_entry,\n",
    "    ])\n",
    "\n",
    "# find_pour_trans(PourbaixDiagram=PD)\n",
    "ir_iro2_trans = find_pour_trans(PourbaixDiagram=PD, range=[0.5, 0.9], num=1000)\n",
    "print(\"ir_iro2_trans:\", ir_iro2_trans)"
   ]
  },
  {
   "cell_type": "markdown",
   "metadata": {},
   "source": [
    "# IrO2 --> IrO3 transitions\n",
    "---"
   ],
   "execution_count": null,
   "outputs": []
  },
  {
   "cell_type": "markdown",
   "metadata": {},
   "source": [
    "# IrO2 --> a-IrO3 Transition"
   ],
   "execution_count": null,
   "outputs": []
  },
  {
   "cell_type": "code",
   "execution_count": null,
   "metadata": {},
   "outputs": [],
   "source": [
    "# %%capture\n",
    "\n",
    "out_dict = get_spec_entries(\n",
    "    [\"IrO3_a-AlF3\"],\n",
    "    all_entries)\n",
    "a_iro3_entry = out_dict[\"IrO3_a-AlF3\"]\n",
    "\n",
    "PD = PourbaixDiagram([\n",
    "    iro2_entry,\n",
    "    a_iro3_entry,\n",
    "    ])\n",
    "\n",
    "iro2_a_iro3_trans = find_pour_trans(PourbaixDiagram=PD, range=[1, 1.5], num=1000)\n",
    "print(\"iro2_a_iro3_trans:\", iro2_a_iro3_trans)"
   ]
  },
  {
   "cell_type": "markdown",
   "metadata": {},
   "source": [
    "# IrO2 --> rutile-IrO3 Transition"
   ],
   "execution_count": null,
   "outputs": []
  },
  {
   "cell_type": "code",
   "execution_count": null,
   "metadata": {},
   "outputs": [],
   "source": [
    "# %%capture\n",
    "\n",
    "out_dict = get_spec_entries(\n",
    "    [\"IrO3_rutile-like\"],\n",
    "    all_entries)\n",
    "r_iro3_entry = out_dict[\"IrO3_rutile-like\"]\n",
    "\n",
    "PD = PourbaixDiagram([\n",
    "    iro2_entry,\n",
    "    r_iro3_entry,\n",
    "    ])\n",
    "\n",
    "iro2_r_iro3_trans = find_pour_trans(PourbaixDiagram=PD, range=[1, 1.5], num=1000)\n",
    "print(\"iro2_r_iro3_trans:\", iro2_r_iro3_trans)"
   ]
  },
  {
   "cell_type": "markdown",
   "metadata": {},
   "source": [
    "# IrO2 --> b-IrO3 Transition"
   ],
   "execution_count": null,
   "outputs": []
  },
  {
   "cell_type": "code",
   "execution_count": null,
   "metadata": {},
   "outputs": [],
   "source": [
    "# %%capture\n",
    "\n",
    "out_dict = get_spec_entries(\n",
    "    [\"IrO3_battery\"],\n",
    "    all_entries)\n",
    "b_iro3_entry = out_dict[\"IrO3_battery\"]\n",
    "\n",
    "PD = PourbaixDiagram([\n",
    "    iro2_entry,\n",
    "    b_iro3_entry,\n",
    "    ])\n",
    "\n",
    "iro2_b_iro3_trans = find_pour_trans(PourbaixDiagram=PD, range=[1, 1.5], num=1000)\n",
    "print(\"b_iro2_a_iro3_trans:\", iro2_b_iro3_trans)"
   ]
  },
  {
   "cell_type": "markdown",
   "metadata": {},
   "source": [
    "# IrO3 --> Ir Ion transitions\n",
    "---"
   ],
   "execution_count": null,
   "outputs": []
  },
  {
   "cell_type": "markdown",
   "metadata": {},
   "source": [
    "# a-IrO3 --> Ir[4+] Transition"
   ],
   "execution_count": null,
   "outputs": []
  },
  {
   "cell_type": "code",
   "execution_count": null,
   "metadata": {},
   "outputs": [],
   "source": [
    "PD = PourbaixDiagram([\n",
    "    a_iro3_entry,\n",
    "    ir_ion_entry,\n",
    "    ])\n",
    "\n",
    "a_iro3_ir_ion_trans = find_pour_trans(PourbaixDiagram=PD, range=[1.5, 2], num=1000)\n",
    "print(\"a_iro3_ir_ion_trans:\", a_iro3_ir_ion_trans)"
   ]
  },
  {
   "cell_type": "markdown",
   "metadata": {},
   "source": [
    "# r-IrO3 --> Ir[4+] Transition"
   ],
   "execution_count": null,
   "outputs": []
  },
  {
   "cell_type": "code",
   "execution_count": null,
   "metadata": {},
   "outputs": [],
   "source": [
    "PD = PourbaixDiagram([\n",
    "    r_iro3_entry,\n",
    "    ir_ion_entry,\n",
    "    ])\n",
    "\n",
    "r_iro3_ir_ion_trans = find_pour_trans(PourbaixDiagram=PD, range=[1.5, 2], num=1000)\n",
    "print(\"r_iro3_ir_ion_trans:\", r_iro3_ir_ion_trans)"
   ]
  },
  {
   "cell_type": "markdown",
   "metadata": {},
   "source": [
    "# b-IrO3 --> Ir[4+] Transition"
   ],
   "execution_count": null,
   "outputs": []
  },
  {
   "cell_type": "code",
   "execution_count": null,
   "metadata": {},
   "outputs": [],
   "source": [
    "PD = PourbaixDiagram([\n",
    "    b_iro3_entry,\n",
    "    ir_ion_entry,\n",
    "    ])\n",
    "\n",
    "b_iro3_ir_ion_trans = find_pour_trans(PourbaixDiagram=PD, range=[1.5, 2], num=1000)\n",
    "print(\"b_iro3_ir_ion_trans:\", b_iro3_ir_ion_trans)"
   ]
  },
  {
   "cell_type": "raw",
   "metadata": {},
   "source": [
    "\n",
    "\n",
    "\n",
    "\n"
   ],
   "execution_count": null,
   "outputs": []
  },
  {
   "cell_type": "code",
   "execution_count": null,
   "metadata": {},
   "outputs": [],
   "source": [
    "out_dict = dict(\n",
    "    ir_iro2_trans=ir_iro2_trans,\n",
    "\n",
    "    iro2_a_iro3_trans=iro2_a_iro3_trans,\n",
    "    iro2_r_iro3_trans=iro2_r_iro3_trans,\n",
    "    iro2_b_iro3_trans=iro2_b_iro3_trans,\n",
    "\n",
    "    a_iro3_ir_ion_trans=a_iro3_ir_ion_trans,\n",
    "    r_iro3_ir_ion_trans=r_iro3_ir_ion_trans,\n",
    "    b_iro3_ir_ion_trans=b_iro3_ir_ion_trans,\n",
    "    )\n",
    "\n",
    "\n",
    "\n",
    "# Pickling data ######################################################\n",
    "import os; import pickle\n",
    "directory = \"out_data\"\n",
    "if not os.path.exists(directory): os.makedirs(directory)\n",
    "with open(os.path.join(directory, \"bulk_pourb_transitions.pickle\"), \"wb\") as fle:\n",
    "    pickle.dump(out_dict, fle)\n",
    "# #####################################################################"
   ]
  },
  {
   "cell_type": "code",
   "execution_count": null,
   "metadata": {},
   "outputs": [],
   "source": [
    "print(20 * \"# # \")\n",
    "print(\"All done!\")\n",
    "assert False"
   ]
  }
 ],
 "metadata": {
  "kernelspec": {
   "display_name": "Python [conda env:PROJ_irox]",
   "language": "python",
   "name": "conda-env-PROJ_irox-py"
  },
  "language_info": {
   "codemirror_mode": {
    "name": "ipython",
    "version": 3
   },
   "file_extension": ".py",
   "mimetype": "text/x-python",
   "name": "python",
   "nbconvert_exporter": "python",
   "pygments_lexer": "ipython3",
   "version": "3.6.10"
  }
 },
 "nbformat": 4,
 "nbformat_minor": 4
}
