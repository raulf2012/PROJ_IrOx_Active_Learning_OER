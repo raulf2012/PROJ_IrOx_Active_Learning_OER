{
 "cells": [
  {
   "cell_type": "code",
   "execution_count": 1,
   "metadata": {
    "Collapsed": "false",
    "jupyter": {}
   },
   "outputs": [
    {
     "name": "stdout",
     "output_type": "stream",
     "text": [
      "/home/raulf2012/Dropbox/01_norskov/00_git_repos/PROJ_IrOx_Active_Learning_OER_test_1/workflow/07_bulk_pourbaix/01_pourbaix_scripts\n"
     ]
    },
    {
     "data": {
      "text/html": [
       "        <script type=\"text/javascript\">\n",
       "        window.PlotlyConfig = {MathJaxConfig: 'local'};\n",
       "        if (window.MathJax) {MathJax.Hub.Config({SVG: {font: \"STIX-Web\"}});}\n",
       "        if (typeof require !== 'undefined') {\n",
       "        require.undef(\"plotly\");\n",
       "        requirejs.config({\n",
       "            paths: {\n",
       "                'plotly': ['https://cdn.plot.ly/plotly-latest.min']\n",
       "            }\n",
       "        });\n",
       "        require(['plotly'], function(Plotly) {\n",
       "            window._Plotly = Plotly;\n",
       "        });\n",
       "        }\n",
       "        </script>\n",
       "        "
      ]
     },
     "metadata": {},
     "output_type": "display_data"
    }
   ],
   "source": [
    "import sys\n",
    "import os\n",
    "print(os.getcwd())\n",
    "\n",
    "sys.path.insert(\n",
    "    0,\n",
    "    os.path.join(\n",
    "        os.environ[\"PROJ_irox\"],\n",
    "        \"data\"))\n",
    "from proj_data_irox import proj_dir_name, irox_bulk_color_map\n",
    "\n",
    "# #############################################################################\n",
    "import copy\n",
    "\n",
    "import pickle\n",
    "\n",
    "import numpy as np\n",
    "\n",
    "import chart_studio.plotly as py\n",
    "import plotly.graph_objs as go\n",
    "\n",
    "import plotly.offline as py_off\n",
    "from plotly.offline import (\n",
    "    init_notebook_mode,\n",
    "    iplot,\n",
    "    )\n",
    "\n",
    "from pymatgen.analysis.pourbaix_diagram import PourbaixDiagram, PourbaixPlotter\n",
    "\n",
    "# #############################################################################\n",
    "from methods import (\n",
    "    create_pourbaix_plot,\n",
    "    create_outside_borders,\n",
    "    create_pourb_entry_outline,\n",
    "    create_oer_equil_line,\n",
    "    \n",
    "    get_base_spec,\n",
    "    get_spec_entries,\n",
    "    )\n",
    "\n",
    "init_notebook_mode(connected=True)\n",
    "\n",
    "\n",
    "# #############################################################################\n",
    "from plotting.my_plotly import (\n",
    "    add_minor_ticks,\n",
    "    my_plotly_plot,\n",
    "    add_duplicate_axes)"
   ]
  },
  {
   "cell_type": "code",
   "execution_count": 2,
   "metadata": {
    "Collapsed": "false"
   },
   "outputs": [
    {
     "name": "stdout",
     "output_type": "stream",
     "text": [
      "12345\n",
      "['sc_create_all_entries.py']\n",
      "12345\n",
      "{'Major_Elements': ['Ir'], 'Name': 'IrO4[-] ', 'Energy': -2.038081775, 'Reference solid energy': -1.214176376, 'Reference Solid': 'IrO2', 'Source': 'Douglas G. Brookins, Eh-pH Diagrams for Geochemistry, Springer-Verlag Berlin Heidelberg 2059'}\n",
      "\n",
      "IrO4[-]  Ir1 O4 -1 -2.038081775\n",
      "IrO4[-]  Ir1 O4 -1 -2.038081775\n",
      "# # # # # # # # # # # # # # # # # # # # # # # # # # # # # # # # # # # # # # # # \n",
      "All done!\n",
      "Traceback (most recent call last):\n",
      "  File \"sc_create_all_entries.py\", line 169, in <module>\n",
      "    assert False\n",
      "AssertionError\n"
     ]
    }
   ],
   "source": [
    "# %%capture\n",
    "\n",
    "if True:\n",
    "    tmp = 42\n",
    "    !python sc_create_all_entries.py"
   ]
  },
  {
   "cell_type": "code",
   "execution_count": 5,
   "metadata": {
    "Collapsed": "false"
   },
   "outputs": [],
   "source": [
    "# #############################################################################\n",
    "path_i = os.path.join(\n",
    "    \"out_data\",\n",
    "    \"all_entries_AB3.pickle\")\n",
    "    # \"all_entries.pickle\")\n",
    "with open(path_i, \"rb\") as fle:\n",
    "    all_entries = pickle.load(fle)\n",
    "# #############################################################################"
   ]
  },
  {
   "cell_type": "code",
   "execution_count": 6,
   "metadata": {},
   "outputs": [],
   "source": [
    "ir_entry = get_base_spec(\"Ir\", all_entries)\n",
    "iro2_entry = get_base_spec(\"IrO2\", all_entries)\n",
    "ir_ion_entry = get_base_spec(\"IrO4-\", all_entries)"
   ]
  },
  {
   "cell_type": "markdown",
   "metadata": {},
   "source": [
    "# Find transition method"
   ]
  },
  {
   "cell_type": "code",
   "execution_count": 7,
   "metadata": {},
   "outputs": [],
   "source": [
    "def find_pour_trans(\n",
    "    PourbaixDiagram=None,\n",
    "    range=[0, 3],\n",
    "    num=500,\n",
    "    ):\n",
    "    \"\"\"\n",
    "    \"\"\"\n",
    "    PD = PourbaixDiagram\n",
    "\n",
    "    transition_V = None\n",
    "\n",
    "    entries_sweep = []\n",
    "    for i_cnt, V_i in enumerate(np.linspace(range[0], range[1], num=num)):\n",
    "        stable_entry = PD.get_stable_entry(0, V_i)\n",
    "        entry_name = stable_entry.name\n",
    "\n",
    "        if i_cnt != 0:\n",
    "            prev_entry = entries_sweep[i_cnt - 1]\n",
    "\n",
    "            if prev_entry != entry_name:\n",
    "                # print(\"V_i:\", V_i)\n",
    "                transition_V = V_i\n",
    "\n",
    "                break\n",
    "\n",
    "        entries_sweep.append(entry_name)\n",
    "\n",
    "    return(transition_V)"
   ]
  },
  {
   "cell_type": "markdown",
   "metadata": {},
   "source": [
    "# Ir --> IrO2 Transition"
   ]
  },
  {
   "cell_type": "code",
   "execution_count": 8,
   "metadata": {},
   "outputs": [
    {
     "name": "stdout",
     "output_type": "stream",
     "text": [
      "ir_iro2_trans: 0.7410410410410411\n"
     ]
    }
   ],
   "source": [
    "PD = PourbaixDiagram([\n",
    "    ir_entry,\n",
    "    iro2_entry,\n",
    "    ])\n",
    "\n",
    "# find_pour_trans(PourbaixDiagram=PD)\n",
    "ir_iro2_trans = find_pour_trans(PourbaixDiagram=PD, range=[0.5, 0.9], num=1000)\n",
    "print(\"ir_iro2_trans:\", ir_iro2_trans)"
   ]
  },
  {
   "cell_type": "markdown",
   "metadata": {},
   "source": [
    "# IrO2 --> IrO3 transitions\n",
    "---"
   ]
  },
  {
   "cell_type": "markdown",
   "metadata": {},
   "source": [
    "# IrO2 --> a-IrO3 Transition"
   ]
  },
  {
   "cell_type": "code",
   "execution_count": 9,
   "metadata": {},
   "outputs": [
    {
     "name": "stdout",
     "output_type": "stream",
     "text": [
      "Ir\n",
      "IrO2\n",
      "IrO3_a-AlF3\n",
      "IrO3_rutile-like\n",
      "IrO3_battery\n",
      "IrO3_TEMP21\n",
      "IrO4-\n",
      "iro2_a_iro3_trans: 1.2987987987987988\n"
     ]
    }
   ],
   "source": [
    "# %%capture\n",
    "\n",
    "out_dict = get_spec_entries(\n",
    "    [\"IrO3_a-AlF3\"],\n",
    "    all_entries)\n",
    "a_iro3_entry = out_dict[\"IrO3_a-AlF3\"]\n",
    "\n",
    "PD = PourbaixDiagram([\n",
    "    iro2_entry,\n",
    "    a_iro3_entry,\n",
    "    ])\n",
    "\n",
    "iro2_a_iro3_trans = find_pour_trans(PourbaixDiagram=PD, range=[1, 1.5], num=1000)\n",
    "print(\"iro2_a_iro3_trans:\", iro2_a_iro3_trans)"
   ]
  },
  {
   "cell_type": "code",
   "execution_count": 10,
   "metadata": {},
   "outputs": [],
   "source": [
    "# assert False"
   ]
  },
  {
   "cell_type": "markdown",
   "metadata": {},
   "source": [
    "# IrO2 --> rutile-IrO3 Transition"
   ]
  },
  {
   "cell_type": "code",
   "execution_count": 11,
   "metadata": {},
   "outputs": [
    {
     "name": "stdout",
     "output_type": "stream",
     "text": [
      "Ir\n",
      "IrO2\n",
      "IrO3_a-AlF3\n",
      "IrO3_rutile-like\n",
      "IrO3_battery\n",
      "IrO3_TEMP21\n",
      "IrO4-\n",
      "iro2_r_iro3_trans: 1.3243243243243243\n"
     ]
    }
   ],
   "source": [
    "# %%capture\n",
    "\n",
    "out_dict = get_spec_entries(\n",
    "    [\"IrO3_rutile-like\"],\n",
    "    all_entries)\n",
    "r_iro3_entry = out_dict[\"IrO3_rutile-like\"]\n",
    "\n",
    "PD = PourbaixDiagram([\n",
    "    iro2_entry,\n",
    "    r_iro3_entry,\n",
    "    ])\n",
    "\n",
    "iro2_r_iro3_trans = find_pour_trans(PourbaixDiagram=PD, range=[1, 1.5], num=1000)\n",
    "print(\"iro2_r_iro3_trans:\", iro2_r_iro3_trans)"
   ]
  },
  {
   "cell_type": "markdown",
   "metadata": {},
   "source": [
    "# IrO2 --> b-IrO3 Transition"
   ]
  },
  {
   "cell_type": "code",
   "execution_count": 12,
   "metadata": {},
   "outputs": [
    {
     "name": "stdout",
     "output_type": "stream",
     "text": [
      "Ir\n",
      "IrO2\n",
      "IrO3_a-AlF3\n",
      "IrO3_rutile-like\n",
      "IrO3_battery\n",
      "IrO3_TEMP21\n",
      "IrO4-\n",
      "b_iro2_a_iro3_trans: 1.4064064064064064\n"
     ]
    }
   ],
   "source": [
    "# %%capture\n",
    "\n",
    "out_dict = get_spec_entries(\n",
    "    [\"IrO3_battery\"],\n",
    "    all_entries)\n",
    "b_iro3_entry = out_dict[\"IrO3_battery\"]\n",
    "\n",
    "PD = PourbaixDiagram([\n",
    "    iro2_entry,\n",
    "    b_iro3_entry,\n",
    "    ])\n",
    "\n",
    "iro2_b_iro3_trans = find_pour_trans(PourbaixDiagram=PD, range=[1, 1.5], num=1000)\n",
    "print(\"b_iro2_a_iro3_trans:\", iro2_b_iro3_trans)"
   ]
  },
  {
   "cell_type": "markdown",
   "metadata": {},
   "source": [
    "# IrO3 --> Ir Ion transitions\n",
    "---"
   ]
  },
  {
   "cell_type": "markdown",
   "metadata": {},
   "source": [
    "# a-IrO3 --> Ir[4+] Transition"
   ]
  },
  {
   "cell_type": "code",
   "execution_count": 13,
   "metadata": {},
   "outputs": [
    {
     "name": "stdout",
     "output_type": "stream",
     "text": [
      "a_iro3_ir_ion_trans: 1.8793793793793794\n"
     ]
    }
   ],
   "source": [
    "PD = PourbaixDiagram([\n",
    "    a_iro3_entry,\n",
    "    ir_ion_entry,\n",
    "    ])\n",
    "\n",
    "a_iro3_ir_ion_trans = find_pour_trans(PourbaixDiagram=PD, range=[1.5, 2], num=1000)\n",
    "print(\"a_iro3_ir_ion_trans:\", a_iro3_ir_ion_trans)"
   ]
  },
  {
   "cell_type": "markdown",
   "metadata": {},
   "source": [
    "# r-IrO3 --> Ir[4+] Transition"
   ]
  },
  {
   "cell_type": "code",
   "execution_count": 14,
   "metadata": {},
   "outputs": [
    {
     "name": "stdout",
     "output_type": "stream",
     "text": [
      "r_iro3_ir_ion_trans: 1.8283283283283283\n"
     ]
    }
   ],
   "source": [
    "PD = PourbaixDiagram([\n",
    "    r_iro3_entry,\n",
    "    ir_ion_entry,\n",
    "    ])\n",
    "\n",
    "r_iro3_ir_ion_trans = find_pour_trans(PourbaixDiagram=PD, range=[1.5, 2], num=1000)\n",
    "print(\"r_iro3_ir_ion_trans:\", r_iro3_ir_ion_trans)"
   ]
  },
  {
   "cell_type": "markdown",
   "metadata": {},
   "source": [
    "# b-IrO3 --> Ir[4+] Transition"
   ]
  },
  {
   "cell_type": "code",
   "execution_count": 15,
   "metadata": {},
   "outputs": [
    {
     "name": "stdout",
     "output_type": "stream",
     "text": [
      "b_iro3_ir_ion_trans: 1.6641641641641642\n"
     ]
    }
   ],
   "source": [
    "PD = PourbaixDiagram([\n",
    "    b_iro3_entry,\n",
    "    ir_ion_entry,\n",
    "    ])\n",
    "\n",
    "b_iro3_ir_ion_trans = find_pour_trans(PourbaixDiagram=PD, range=[1.5, 2], num=1000)\n",
    "print(\"b_iro3_ir_ion_trans:\", b_iro3_ir_ion_trans)"
   ]
  },
  {
   "cell_type": "raw",
   "metadata": {},
   "source": [
    "\n",
    "\n",
    "\n",
    "\n"
   ]
  },
  {
   "cell_type": "code",
   "execution_count": 16,
   "metadata": {},
   "outputs": [],
   "source": [
    "out_dict = dict(\n",
    "    ir_iro2_trans=ir_iro2_trans,\n",
    "\n",
    "    iro2_a_iro3_trans=iro2_a_iro3_trans,\n",
    "    iro2_r_iro3_trans=iro2_r_iro3_trans,\n",
    "    iro2_b_iro3_trans=iro2_b_iro3_trans,\n",
    "\n",
    "    a_iro3_ir_ion_trans=a_iro3_ir_ion_trans,\n",
    "    r_iro3_ir_ion_trans=r_iro3_ir_ion_trans,\n",
    "    b_iro3_ir_ion_trans=b_iro3_ir_ion_trans,\n",
    "    )\n",
    "\n",
    "\n",
    "\n",
    "# Pickling data ######################################################\n",
    "import os; import pickle\n",
    "directory = \"out_data\"\n",
    "if not os.path.exists(directory): os.makedirs(directory)\n",
    "with open(os.path.join(directory, \"bulk_pourb_transitions.pickle\"), \"wb\") as fle:\n",
    "    pickle.dump(out_dict, fle)\n",
    "# #####################################################################"
   ]
  },
  {
   "cell_type": "code",
   "execution_count": 17,
   "metadata": {},
   "outputs": [
    {
     "name": "stdout",
     "output_type": "stream",
     "text": [
      "# # # # # # # # # # # # # # # # # # # # # # # # # # # # # # # # # # # # # # # # \n",
      "All done!\n"
     ]
    },
    {
     "ename": "AssertionError",
     "evalue": "",
     "output_type": "error",
     "traceback": [
      "\u001b[0;31m---------------------------------------------------------------------------\u001b[0m",
      "\u001b[0;31mAssertionError\u001b[0m                            Traceback (most recent call last)",
      "\u001b[0;32m<ipython-input-17-7808a1103591>\u001b[0m in \u001b[0;36m<module>\u001b[0;34m\u001b[0m\n\u001b[1;32m      1\u001b[0m \u001b[0mprint\u001b[0m\u001b[0;34m(\u001b[0m\u001b[0;36m20\u001b[0m \u001b[0;34m*\u001b[0m \u001b[0;34m\"# # \"\u001b[0m\u001b[0;34m)\u001b[0m\u001b[0;34m\u001b[0m\u001b[0;34m\u001b[0m\u001b[0m\n\u001b[1;32m      2\u001b[0m \u001b[0mprint\u001b[0m\u001b[0;34m(\u001b[0m\u001b[0;34m\"All done!\"\u001b[0m\u001b[0;34m)\u001b[0m\u001b[0;34m\u001b[0m\u001b[0;34m\u001b[0m\u001b[0m\n\u001b[0;32m----> 3\u001b[0;31m \u001b[0;32massert\u001b[0m \u001b[0;32mFalse\u001b[0m\u001b[0;34m\u001b[0m\u001b[0;34m\u001b[0m\u001b[0m\n\u001b[0m",
      "\u001b[0;31mAssertionError\u001b[0m: "
     ]
    }
   ],
   "source": [
    "print(20 * \"# # \")\n",
    "print(\"All done!\")\n",
    "assert False"
   ]
  },
  {
   "cell_type": "code",
   "execution_count": 18,
   "metadata": {},
   "outputs": [],
   "source": [
    "# # IrO2(s)\n",
    "# # Ir(s)\n",
    "\n",
    "# entries_sweep = []\n",
    "# for i_cnt, V_i in enumerate(np.linspace(0, 1, num=1000)):\n",
    "#     stable_entry = PD.get_stable_entry(0, V_i)\n",
    "#     entry_name = stable_entry.name\n",
    "\n",
    "#     if i_cnt != 0:\n",
    "#         prev_entry = entries_sweep[i_cnt - 1]\n",
    "\n",
    "#         if prev_entry != entry_name:\n",
    "#             print(\"V_i:\", V_i)\n",
    "\n",
    "#     entries_sweep.append(entry_name)\n",
    "\n",
    "# # PD.get_stable_entry(0, i).name\n",
    "# # 0.7410741074107411"
   ]
  },
  {
   "cell_type": "code",
   "execution_count": null,
   "metadata": {},
   "outputs": [],
   "source": []
  }
 ],
 "metadata": {
  "kernelspec": {
   "display_name": "Python [conda env:PROJ_irox]",
   "language": "python",
   "name": "conda-env-PROJ_irox-py"
  },
  "language_info": {
   "codemirror_mode": {
    "name": "ipython",
    "version": 3
   },
   "file_extension": ".py",
   "mimetype": "text/x-python",
   "name": "python",
   "nbconvert_exporter": "python",
   "pygments_lexer": "ipython3",
   "version": "3.6.10"
  }
 },
 "nbformat": 4,
 "nbformat_minor": 4
}
