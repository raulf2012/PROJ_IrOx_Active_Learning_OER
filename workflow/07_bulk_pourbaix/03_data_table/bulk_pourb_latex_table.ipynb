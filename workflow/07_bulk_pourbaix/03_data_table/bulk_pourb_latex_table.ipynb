{
 "cells": [
  {
   "cell_type": "markdown",
   "metadata": {},
   "source": [
    "# Import Modules"
   ]
  },
  {
   "cell_type": "code",
   "execution_count": 1,
   "metadata": {},
   "outputs": [
    {
     "name": "stdout",
     "output_type": "stream",
     "text": [
      "/mnt/f/Dropbox/01_norskov/00_git_repos/PROJ_IrOx_Active_Learning_OER/workflow/07_bulk_pourbaix/03_data_table\n"
     ]
    }
   ],
   "source": [
    "import os\n",
    "print(os.getcwd())\n",
    "import sys\n",
    "\n",
    "import json\n",
    "\n",
    "import pandas as pd\n",
    "\n",
    "# #########################################################\n",
    "sys.path.insert(0, os.path.join(os.environ[\"PROJ_irox\"], \"data\"))\n",
    "from proj_data_irox import calc_dH\n",
    "\n",
    "sys.path.insert(0, os.path.join(os.environ[\"PROJ_irox\"], \"workflow/ml_modelling\"))\n",
    "from ml_methods import get_ml_dataframes"
   ]
  },
  {
   "cell_type": "code",
   "execution_count": 2,
   "metadata": {},
   "outputs": [],
   "source": [
    "# #######################################################################\n",
    "data_path = os.path.join(\n",
    "    os.environ[\"PROJ_irox\"],\n",
    "    \"workflow/energy_treatment_deriv/calc_references\",\n",
    "    \"out_data/data.json\")\n",
    "with open(data_path, \"r\") as fle:\n",
    "    data = json.load(fle)\n",
    "# #######################################################################\n",
    "\n",
    "h_ref = data['h_ref']\n",
    "o_ref = data['o_ref']\n",
    "ir_ref = data['ir_ref']\n",
    "\n",
    "TdS_IrO2 = data['TdS_iro2']\n",
    "TdS_IrO3 = data['TdS_iro3']\n",
    "TdS_IrHO3 = data['TdS_irho3']"
   ]
  },
  {
   "cell_type": "markdown",
   "metadata": {},
   "source": [
    "# Script Inputs"
   ]
  },
  {
   "cell_type": "code",
   "execution_count": 3,
   "metadata": {},
   "outputs": [],
   "source": [
    "# TdS_IrO2 = -0.562803124838058\n",
    "# TdS_IrO3 = -0.789056096134837\n",
    "\n",
    "mu_H2O = -2.4583\n",
    "\n",
    "# #########################################################\n",
    "dH_r_iro2 = -2.515126703632689\n",
    "dH_b_iro3 = 4 * -0.596831474814422\n",
    "\n",
    "# #########################################################\n",
    "dG_ir_aq = -2.038081775"
   ]
  },
  {
   "cell_type": "code",
   "execution_count": 4,
   "metadata": {},
   "outputs": [],
   "source": [
    "all_systems = [\n",
    "    \"ir\",\n",
    "    \"r-iro2\",\n",
    "    \"a-iro3\",\n",
    "    \"r-iro3\",\n",
    "    \"b-iro3\",\n",
    "    \"ir_aq\",\n",
    "    \"a-irho3\",\n",
    "    ]\n",
    "    \n",
    "TdS_dict = {\n",
    "    \"AB2\": TdS_IrO2,\n",
    "    \"AB3\": TdS_IrO3,\n",
    "    \"IrHO3\": TdS_IrHO3,\n",
    "    }"
   ]
  },
  {
   "cell_type": "markdown",
   "metadata": {},
   "source": [
    "# Read Data"
   ]
  },
  {
   "cell_type": "markdown",
   "metadata": {},
   "source": [
    "## Read DFT data for a-IrO3 and R-IrO3"
   ]
  },
  {
   "cell_type": "code",
   "execution_count": 5,
   "metadata": {},
   "outputs": [],
   "source": [
    "DF_dict = get_ml_dataframes()\n",
    "\n",
    "df_dft = DF_dict.get(\"df_dft_final_final\")\n",
    "\n",
    "df_i = df_dft[\n",
    "    (df_dft.stoich == \"AB3\")\n",
    "    ].sort_values(\"dH\")\n",
    "\n",
    "alpha_iro3_row = df_i.iloc[0]\n",
    "rutile_iro3_row = df_i.loc[\"b5cgvsb16w\"]"
   ]
  },
  {
   "cell_type": "markdown",
   "metadata": {},
   "source": [
    "# Put together Enthalpy dict"
   ]
  },
  {
   "cell_type": "code",
   "execution_count": 6,
   "metadata": {},
   "outputs": [],
   "source": [
    "dH_dict = {\n",
    "    \"ir\": 0.,\n",
    "    \"r-iro2\": dH_r_iro2,\n",
    "    \"a-iro3\": 4 * alpha_iro3_row.dH,\n",
    "    \"r-iro3\": 4 * rutile_iro3_row.dH,\n",
    "    \"b-iro3\": dH_b_iro3,\n",
    "    \"a-irho3\": (5 * calc_dH(-6.151177564999999, stoich=\"IrHO3\")),\n",
    "    # \"ir_aq\": None,\n",
    "    }\n",
    "\n",
    "# (5 * calc_dH(-6.151177564999999, stoich=\"IrHO3\")) - TdS_irho3\n",
    "# dH_dict"
   ]
  },
  {
   "cell_type": "markdown",
   "metadata": {},
   "source": [
    "# TEMP"
   ]
  },
  {
   "cell_type": "code",
   "execution_count": 7,
   "metadata": {},
   "outputs": [],
   "source": [
    "dG_dict = dict()\n",
    "\n",
    "for sys_i, dH_i in dH_dict.items():\n",
    "\n",
    "    if \"iro2\" in sys_i:\n",
    "        stoich_i = \"AB2\"\n",
    "    elif \"iro3\" in sys_i:\n",
    "        stoich_i = \"AB3\"\n",
    "    elif \"irho3\" in sys_i:\n",
    "        stoich_i = \"IrHO3\"\n",
    "    else:\n",
    "        continue\n",
    "\n",
    "    # Getting Entropy correction\n",
    "    TdS_i = TdS_dict[stoich_i]\n",
    "\n",
    "\n",
    "    dG = dH_i - TdS_i\n",
    "    dG_dict[sys_i] = dG\n",
    "\n",
    "\n",
    "# TdS_IrO2 = -0.562803124838058\n",
    "# TdS_IrO3 = -0.789056096134837\n",
    "\n",
    "dG_dict[\"ir_aq\"] = dG_ir_aq\n",
    "dG_dict[\"ir\"] = 0."
   ]
  },
  {
   "cell_type": "code",
   "execution_count": 8,
   "metadata": {},
   "outputs": [
    {
     "data": {
      "text/html": [
       "<div>\n",
       "<style scoped>\n",
       "    .dataframe tbody tr th:only-of-type {\n",
       "        vertical-align: middle;\n",
       "    }\n",
       "\n",
       "    .dataframe tbody tr th {\n",
       "        vertical-align: top;\n",
       "    }\n",
       "\n",
       "    .dataframe thead th {\n",
       "        text-align: right;\n",
       "    }\n",
       "</style>\n",
       "<table border=\"1\" class=\"dataframe\">\n",
       "  <thead>\n",
       "    <tr style=\"text-align: right;\">\n",
       "      <th></th>\n",
       "      <th>system</th>\n",
       "      <th>dH</th>\n",
       "      <th>dG</th>\n",
       "    </tr>\n",
       "  </thead>\n",
       "  <tbody>\n",
       "    <tr>\n",
       "      <th>0</th>\n",
       "      <td>ir</td>\n",
       "      <td>0.000000</td>\n",
       "      <td>0.000000</td>\n",
       "    </tr>\n",
       "    <tr>\n",
       "      <th>1</th>\n",
       "      <td>r-iro2</td>\n",
       "      <td>-2.515127</td>\n",
       "      <td>-1.952324</td>\n",
       "    </tr>\n",
       "    <tr>\n",
       "      <th>2</th>\n",
       "      <td>a-iro3</td>\n",
       "      <td>-2.602809</td>\n",
       "      <td>-1.813753</td>\n",
       "    </tr>\n",
       "    <tr>\n",
       "      <th>3</th>\n",
       "      <td>r-iro3</td>\n",
       "      <td>-2.551268</td>\n",
       "      <td>-1.762212</td>\n",
       "    </tr>\n",
       "    <tr>\n",
       "      <th>4</th>\n",
       "      <td>b-iro3</td>\n",
       "      <td>-2.387326</td>\n",
       "      <td>-1.598270</td>\n",
       "    </tr>\n",
       "    <tr>\n",
       "      <th>5</th>\n",
       "      <td>ir_aq</td>\n",
       "      <td>NaN</td>\n",
       "      <td>-2.038082</td>\n",
       "    </tr>\n",
       "    <tr>\n",
       "      <th>6</th>\n",
       "      <td>a-irho3</td>\n",
       "      <td>-4.273061</td>\n",
       "      <td>-3.210571</td>\n",
       "    </tr>\n",
       "  </tbody>\n",
       "</table>\n",
       "</div>"
      ],
      "text/plain": [
       "    system        dH        dG\n",
       "0       ir  0.000000  0.000000\n",
       "1   r-iro2 -2.515127 -1.952324\n",
       "2   a-iro3 -2.602809 -1.813753\n",
       "3   r-iro3 -2.551268 -1.762212\n",
       "4   b-iro3 -2.387326 -1.598270\n",
       "5    ir_aq       NaN -2.038082\n",
       "6  a-irho3 -4.273061 -3.210571"
      ]
     },
     "execution_count": 8,
     "metadata": {},
     "output_type": "execute_result"
    }
   ],
   "source": [
    "data_dict_list = []\n",
    "for sys_i in all_systems:\n",
    "    # print(sys_i)\n",
    "\n",
    "    data_dict_i = dict()\n",
    "    data_dict_i[\"system\"] = sys_i\n",
    "    \n",
    "    \n",
    "    data_dict_i[\"dH\"] = dH_dict.get(sys_i, None)\n",
    "    data_dict_i[\"dG\"] = dG_dict.get(sys_i, None)\n",
    "    \n",
    "    data_dict_list.append(data_dict_i)\n",
    "\n",
    "df = pd.DataFrame(data_dict_list)\n",
    "df"
   ]
  },
  {
   "cell_type": "raw",
   "metadata": {},
   "source": [
    "\n",
    "\n",
    "\n",
    "\n",
    "\n",
    "\n"
   ]
  },
  {
   "cell_type": "code",
   "execution_count": 9,
   "metadata": {},
   "outputs": [],
   "source": [
    "num_dec = 3\n",
    "\n",
    "df = df.round({\n",
    "    \"dH\": num_dec,\n",
    "    \"dG\": num_dec,\n",
    "    })"
   ]
  },
  {
   "cell_type": "code",
   "execution_count": 10,
   "metadata": {},
   "outputs": [],
   "source": [
    "units_dict = {\n",
    "    \"system\": \"\",\n",
    "    \"dH\": \"(eV/f.u.)\",\n",
    "    \"dG\": \"(eV/f.u.)\",\n",
    "    }\n",
    "\n",
    "units_list = []\n",
    "for col_i in df.columns.values:\n",
    "    unit_i = units_dict[col_i]\n",
    "    units_list.append(unit_i)\n",
    "\n",
    "tuples = list(zip(*[\n",
    "    df.columns.values,\n",
    "    units_list,\n",
    "    ]))\n",
    "\n",
    "index = pd.MultiIndex.from_tuples(\n",
    "    tuples,\n",
    "    # names=[\"Header\", \"Units\"],\n",
    "    )\n",
    "df.columns = index"
   ]
  },
  {
   "cell_type": "code",
   "execution_count": 11,
   "metadata": {},
   "outputs": [],
   "source": [
    "column_rename_dict = {\n",
    "    \"dH\": \"$\\Delta H_{f}$\",\n",
    "    \"dG\": \"$\\Delta G_{f}$\",\n",
    "    }\n",
    "\n",
    "df = df.rename(columns=column_rename_dict)\n",
    "\n",
    "\n",
    "df = df.replace(\n",
    "    to_replace=\"ir\",\n",
    "    value=\"Ir(s)\")\n",
    "\n",
    "df = df.replace(\n",
    "    to_replace=\"r-iro2\",\n",
    "    value=\"$R$-$IrO_{2}(s)$\")\n",
    "\n",
    "df = df.replace(\n",
    "    to_replace=\"a-iro3\",\n",
    "    value=\"$\\\\alpha$-$IrO_{3}(s)$\")\n",
    "df = df.replace(\n",
    "    to_replace=\"r-iro3\",\n",
    "    value=\"$R$-$IrO_{3}(s)$\")\n",
    "df = df.replace(\n",
    "    to_replace=\"b-iro3\",\n",
    "    value=\"$\\\\beta$-$IrO_{3}(s)$\")\n",
    "df = df.replace(\n",
    "    to_replace=\"ir_aq\",\n",
    "    value=\"$IrO_{4}^{-}(aq)$\")\n",
    "df = df.replace(\n",
    "    to_replace=\"a-irho3\",\n",
    "    value=\"$\\\\alpha$-$IrHO_{3}(s)$\")"
   ]
  },
  {
   "cell_type": "code",
   "execution_count": 12,
   "metadata": {},
   "outputs": [],
   "source": [
    "alignment_str = \"lcc\""
   ]
  },
  {
   "cell_type": "raw",
   "metadata": {},
   "source": [
    "\n",
    "\n",
    "\n",
    "\n"
   ]
  },
  {
   "cell_type": "markdown",
   "metadata": {},
   "source": [
    "# Write latex table to file"
   ]
  },
  {
   "cell_type": "code",
   "execution_count": 13,
   "metadata": {},
   "outputs": [],
   "source": [
    "shared_props = dict(\n",
    "    # buf=\"oer_table.tex\",\n",
    "    columns=None,\n",
    "    col_space=None,\n",
    "\n",
    "    # #####################################################\n",
    "    header=True,\n",
    "    # #####################################################\n",
    "    index=False,\n",
    "\n",
    "    # #####################################################\n",
    "    na_rep='-',\n",
    "    formatters=None,\n",
    "\n",
    "    # #####################################################\n",
    "    # float_format=\"{:0.2f}\",\n",
    "    sparsify=None,\n",
    "    index_names=True,\n",
    "    bold_rows=False,\n",
    "    \n",
    "    # #####################################################\n",
    "    column_format=alignment_str,\n",
    "    \n",
    "    longtable=None,\n",
    "    \n",
    "    # #####################################################\n",
    "    escape=False,\n",
    "    encoding=None,\n",
    "    decimal='.',\n",
    "    multicolumn=None,\n",
    "    multicolumn_format=None,\n",
    "    multirow=None,\n",
    "    )"
   ]
  },
  {
   "cell_type": "code",
   "execution_count": 14,
   "metadata": {},
   "outputs": [],
   "source": [
    "df.to_latex(\n",
    "    buf=\"bulk_pourb_table.tex\",\n",
    "    **shared_props)\n",
    "\n",
    "path_i = os.path.join(\n",
    "    os.environ[\"PROJ_irox_paper\"],\n",
    "    \"04_data_tables/bulk_pourb_energy\",\n",
    "    \"bulk_pourb_table.tex\")\n",
    "\n",
    "df.to_latex(\n",
    "    buf=path_i,\n",
    "    **shared_props)"
   ]
  },
  {
   "cell_type": "code",
   "execution_count": 15,
   "metadata": {},
   "outputs": [
    {
     "data": {
      "text/html": [
       "<div>\n",
       "<style scoped>\n",
       "    .dataframe tbody tr th:only-of-type {\n",
       "        vertical-align: middle;\n",
       "    }\n",
       "\n",
       "    .dataframe tbody tr th {\n",
       "        vertical-align: top;\n",
       "    }\n",
       "\n",
       "    .dataframe thead tr th {\n",
       "        text-align: left;\n",
       "    }\n",
       "</style>\n",
       "<table border=\"1\" class=\"dataframe\">\n",
       "  <thead>\n",
       "    <tr>\n",
       "      <th></th>\n",
       "      <th>system</th>\n",
       "      <th>$\\Delta H_{f}$</th>\n",
       "      <th>$\\Delta G_{f}$</th>\n",
       "    </tr>\n",
       "    <tr>\n",
       "      <th></th>\n",
       "      <th></th>\n",
       "      <th>(eV/f.u.)</th>\n",
       "      <th>(eV/f.u.)</th>\n",
       "    </tr>\n",
       "  </thead>\n",
       "  <tbody>\n",
       "    <tr>\n",
       "      <th>0</th>\n",
       "      <td>Ir(s)</td>\n",
       "      <td>0.000</td>\n",
       "      <td>0.000</td>\n",
       "    </tr>\n",
       "    <tr>\n",
       "      <th>1</th>\n",
       "      <td>$R$-$IrO_{2}(s)$</td>\n",
       "      <td>-2.515</td>\n",
       "      <td>-1.952</td>\n",
       "    </tr>\n",
       "    <tr>\n",
       "      <th>2</th>\n",
       "      <td>$\\alpha$-$IrO_{3}(s)$</td>\n",
       "      <td>-2.603</td>\n",
       "      <td>-1.814</td>\n",
       "    </tr>\n",
       "    <tr>\n",
       "      <th>3</th>\n",
       "      <td>$R$-$IrO_{3}(s)$</td>\n",
       "      <td>-2.551</td>\n",
       "      <td>-1.762</td>\n",
       "    </tr>\n",
       "    <tr>\n",
       "      <th>4</th>\n",
       "      <td>$\\beta$-$IrO_{3}(s)$</td>\n",
       "      <td>-2.387</td>\n",
       "      <td>-1.598</td>\n",
       "    </tr>\n",
       "    <tr>\n",
       "      <th>5</th>\n",
       "      <td>$IrO_{4}^{-}(aq)$</td>\n",
       "      <td>NaN</td>\n",
       "      <td>-2.038</td>\n",
       "    </tr>\n",
       "    <tr>\n",
       "      <th>6</th>\n",
       "      <td>$\\alpha$-$IrHO_{3}(s)$</td>\n",
       "      <td>-4.273</td>\n",
       "      <td>-3.211</td>\n",
       "    </tr>\n",
       "  </tbody>\n",
       "</table>\n",
       "</div>"
      ],
      "text/plain": [
       "                   system $\\Delta H_{f}$ $\\Delta G_{f}$\n",
       "                               (eV/f.u.)      (eV/f.u.)\n",
       "0                   Ir(s)          0.000          0.000\n",
       "1        $R$-$IrO_{2}(s)$         -2.515         -1.952\n",
       "2   $\\alpha$-$IrO_{3}(s)$         -2.603         -1.814\n",
       "3        $R$-$IrO_{3}(s)$         -2.551         -1.762\n",
       "4    $\\beta$-$IrO_{3}(s)$         -2.387         -1.598\n",
       "5       $IrO_{4}^{-}(aq)$            NaN         -2.038\n",
       "6  $\\alpha$-$IrHO_{3}(s)$         -4.273         -3.211"
      ]
     },
     "execution_count": 15,
     "metadata": {},
     "output_type": "execute_result"
    }
   ],
   "source": [
    "df"
   ]
  }
 ],
 "metadata": {
  "kernelspec": {
   "display_name": "Python [conda env:PROJ_IrOx_Active_Learning_OER]",
   "language": "python",
   "name": "conda-env-PROJ_IrOx_Active_Learning_OER-py"
  },
  "language_info": {
   "codemirror_mode": {
    "name": "ipython",
    "version": 3
   },
   "file_extension": ".py",
   "mimetype": "text/x-python",
   "name": "python",
   "nbconvert_exporter": "python",
   "pygments_lexer": "ipython3",
   "version": "3.6.9"
  }
 },
 "nbformat": 4,
 "nbformat_minor": 4
}
