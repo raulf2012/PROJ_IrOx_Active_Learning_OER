{
 "cells": [
  {
   "cell_type": "markdown",
   "metadata": {},
   "source": [
    "# Import Modules"
   ],
   "execution_count": null,
   "outputs": []
  },
  {
   "cell_type": "code",
   "execution_count": null,
   "metadata": {},
   "outputs": [],
   "source": [
    "import os\n",
    "print(os.getcwd())\n",
    "import sys\n",
    "\n",
    "import pandas as pd\n",
    "\n",
    "# #########################################################\n",
    "sys.path.insert(0, os.path.join(os.environ[\"PROJ_irox\"], \"data\"))\n",
    "from proj_data_irox import calc_dH\n",
    "\n",
    "sys.path.insert(0, os.path.join(os.environ[\"PROJ_irox\"], \"workflow/ml_modelling\"))\n",
    "from ml_methods import get_ml_dataframes"
   ]
  },
  {
   "cell_type": "markdown",
   "metadata": {},
   "source": [
    "# Script Inputs"
   ],
   "execution_count": null,
   "outputs": []
  },
  {
   "cell_type": "code",
   "execution_count": null,
   "metadata": {},
   "outputs": [],
   "source": [
    "TdS_IrO2 = -0.562803124838058\n",
    "TdS_IrO3 = -0.789056096134837\n",
    "\n",
    "mu_H2O = -2.4583\n",
    "\n",
    "# #########################################################\n",
    "dH_r_iro2 = -2.515126703632689\n",
    "dH_b_iro3 = 4 * -0.596831474814422\n",
    "\n",
    "# #########################################################\n",
    "dG_ir_aq = -2.038081775"
   ]
  },
  {
   "cell_type": "code",
   "execution_count": null,
   "metadata": {},
   "outputs": [],
   "source": [
    "all_systems = [\n",
    "    \"ir\",\n",
    "    \"r-iro2\",\n",
    "    \"a-iro3\",\n",
    "    \"r-iro3\",\n",
    "    \"b-iro3\",\n",
    "    \"ir_aq\",\n",
    "    ]\n",
    "    \n",
    "TdS_dict = {\n",
    "    \"AB2\": TdS_IrO2,\n",
    "    \"AB3\": TdS_IrO3,\n",
    "    }"
   ]
  },
  {
   "cell_type": "markdown",
   "metadata": {},
   "source": [
    "# Read Data"
   ],
   "execution_count": null,
   "outputs": []
  },
  {
   "cell_type": "markdown",
   "metadata": {},
   "source": [
    "## Read DFT data for a-IrO3 and R-IrO3"
   ],
   "execution_count": null,
   "outputs": []
  },
  {
   "cell_type": "code",
   "execution_count": null,
   "metadata": {},
   "outputs": [],
   "source": [
    "DF_dict = get_ml_dataframes()\n",
    "\n",
    "df_dft = DF_dict.get(\"df_dft_final_final\")\n",
    "\n",
    "df_i = df_dft[\n",
    "    (df_dft.stoich == \"AB3\")\n",
    "    ].sort_values(\"dH\")\n",
    "\n",
    "alpha_iro3_row = df_i.iloc[0]\n",
    "rutile_iro3_row = df_i.loc[\"b5cgvsb16w\"]"
   ]
  },
  {
   "cell_type": "markdown",
   "metadata": {},
   "source": [
    "# Put together Enthalpy dict"
   ],
   "execution_count": null,
   "outputs": []
  },
  {
   "cell_type": "code",
   "execution_count": null,
   "metadata": {},
   "outputs": [],
   "source": [
    "dH_dict = {\n",
    "    \"ir\": 0.,\n",
    "    \"r-iro2\": dH_r_iro2,\n",
    "    \"a-iro3\": 4 * alpha_iro3_row.dH,\n",
    "    \"r-iro3\": 4 * rutile_iro3_row.dH,\n",
    "    \"b-iro3\": dH_b_iro3,\n",
    "\n",
    "    # \"ir_aq\": None,\n",
    "    }\n",
    "\n",
    "# dH_dict"
   ]
  },
  {
   "cell_type": "markdown",
   "metadata": {},
   "source": [
    "# TEMP"
   ],
   "execution_count": null,
   "outputs": []
  },
  {
   "cell_type": "code",
   "execution_count": null,
   "metadata": {},
   "outputs": [],
   "source": [
    "dG_dict = dict()\n",
    "\n",
    "for sys_i, dH_i in dH_dict.items():\n",
    "\n",
    "    if \"iro2\" in sys_i:\n",
    "        stoich_i = \"AB2\"\n",
    "    elif \"iro3\" in sys_i:\n",
    "        stoich_i = \"AB3\"\n",
    "    else:\n",
    "        continue\n",
    "\n",
    "    # Getting Entropy correction\n",
    "    TdS_i = TdS_dict[stoich_i]\n",
    "\n",
    "\n",
    "    dG = dH_i - TdS_i\n",
    "    dG_dict[sys_i] = dG\n",
    "\n",
    "\n",
    "# TdS_IrO2 = -0.562803124838058\n",
    "# TdS_IrO3 = -0.789056096134837\n",
    "\n",
    "dG_dict[\"ir_aq\"] = dG_ir_aq\n",
    "dG_dict[\"ir\"] = 0."
   ]
  },
  {
   "cell_type": "code",
   "execution_count": null,
   "metadata": {},
   "outputs": [],
   "source": [
    "data_dict_list = []\n",
    "for sys_i in all_systems:\n",
    "    # print(sys_i)\n",
    "\n",
    "    data_dict_i = dict()\n",
    "    data_dict_i[\"system\"] = sys_i\n",
    "    \n",
    "    \n",
    "    data_dict_i[\"dH\"] = dH_dict.get(sys_i, None)\n",
    "    data_dict_i[\"dG\"] = dG_dict.get(sys_i, None)\n",
    "    \n",
    "    data_dict_list.append(data_dict_i)\n",
    "\n",
    "df = pd.DataFrame(data_dict_list)\n",
    "df"
   ]
  },
  {
   "cell_type": "raw",
   "metadata": {},
   "source": [
    "\n",
    "\n",
    "\n",
    "\n",
    "\n",
    "\n"
   ],
   "execution_count": null,
   "outputs": []
  },
  {
   "cell_type": "code",
   "execution_count": null,
   "metadata": {},
   "outputs": [],
   "source": [
    "num_dec = 3\n",
    "\n",
    "df = df.round({\n",
    "    \"dH\": num_dec,\n",
    "    \"dG\": num_dec,\n",
    "    })"
   ]
  },
  {
   "cell_type": "code",
   "execution_count": null,
   "metadata": {},
   "outputs": [],
   "source": [
    "units_dict = {\n",
    "    \"system\": \"\",\n",
    "    \"dH\": \"(eV/f.u.)\",\n",
    "    \"dG\": \"(eV/f.u.)\",\n",
    "    }\n",
    "\n",
    "units_list = []\n",
    "for col_i in df.columns.values:\n",
    "    unit_i = units_dict[col_i]\n",
    "    units_list.append(unit_i)\n",
    "\n",
    "tuples = list(zip(*[\n",
    "    df.columns.values,\n",
    "    units_list,\n",
    "    ]))\n",
    "\n",
    "index = pd.MultiIndex.from_tuples(\n",
    "    tuples,\n",
    "    # names=[\"Header\", \"Units\"],\n",
    "    )\n",
    "df.columns = index"
   ]
  },
  {
   "cell_type": "code",
   "execution_count": null,
   "metadata": {},
   "outputs": [],
   "source": [
    "column_rename_dict = {\n",
    "    \"dH\": \"$\\Delta H_{f}$\",\n",
    "    \"dG\": \"$\\Delta G_{f}$\",\n",
    "    }\n",
    "\n",
    "df = df.rename(columns=column_rename_dict)\n",
    "\n",
    "\n",
    "df = df.replace(\n",
    "    to_replace=\"ir\",\n",
    "    value=\"Ir(s)\")\n",
    "\n",
    "df = df.replace(\n",
    "    to_replace=\"r-iro2\",\n",
    "    value=\"$R$-$IrO_{2}(s)$\")\n",
    "\n",
    "df = df.replace(\n",
    "    to_replace=\"a-iro3\",\n",
    "    value=\"$\\\\alpha$-$IrO_{3}(s)$\")\n",
    "df = df.replace(\n",
    "    to_replace=\"r-iro3\",\n",
    "    value=\"$R$-$IrO_{3}(s)$\")\n",
    "df = df.replace(\n",
    "    to_replace=\"b-iro3\",\n",
    "    value=\"$\\\\beta$-$IrO_{3}(s)$\")\n",
    "\n",
    "df = df.replace(\n",
    "    to_replace=\"ir_aq\",\n",
    "    value=\"$IrO_{4}^{-}(aq)$\")"
   ]
  },
  {
   "cell_type": "code",
   "execution_count": null,
   "metadata": {},
   "outputs": [],
   "source": [
    "alignment_str = \"lcc\""
   ]
  },
  {
   "cell_type": "raw",
   "metadata": {},
   "source": [
    "\n",
    "\n",
    "\n",
    "\n"
   ],
   "execution_count": null,
   "outputs": []
  },
  {
   "cell_type": "markdown",
   "metadata": {},
   "source": [
    "# Write latex table to file"
   ],
   "execution_count": null,
   "outputs": []
  },
  {
   "cell_type": "code",
   "execution_count": null,
   "metadata": {},
   "outputs": [],
   "source": [
    "shared_props = dict(\n",
    "    # buf=\"oer_table.tex\",\n",
    "    columns=None,\n",
    "    col_space=None,\n",
    "\n",
    "    # #####################################################\n",
    "    header=True,\n",
    "    # #####################################################\n",
    "    index=False,\n",
    "\n",
    "    # #####################################################\n",
    "    na_rep='-',\n",
    "    formatters=None,\n",
    "\n",
    "    # #####################################################\n",
    "    # float_format=\"{:0.2f}\",\n",
    "    sparsify=None,\n",
    "    index_names=True,\n",
    "    bold_rows=False,\n",
    "    \n",
    "    # #####################################################\n",
    "    column_format=alignment_str,\n",
    "    \n",
    "    longtable=None,\n",
    "    \n",
    "    # #####################################################\n",
    "    escape=False,\n",
    "    encoding=None,\n",
    "    decimal='.',\n",
    "    multicolumn=None,\n",
    "    multicolumn_format=None,\n",
    "    multirow=None,\n",
    "    )"
   ]
  },
  {
   "cell_type": "code",
   "execution_count": null,
   "metadata": {},
   "outputs": [],
   "source": [
    "df.to_latex(\n",
    "    buf=\"bulk_pourb_table.tex\",\n",
    "    **shared_props)\n",
    "\n",
    "path_i = os.path.join(\n",
    "    os.environ[\"PROJ_irox_paper\"],\n",
    "    # \"PAPER_IrOx_Active_Learning_OER\",\n",
    "    \"04_data_tables/bulk_pourb_energy\",\n",
    "    \"bulk_pourb_table.tex\")\n",
    "\n",
    "df.to_latex(\n",
    "    buf=path_i,\n",
    "    **shared_props)"
   ]
  },
  {
   "cell_type": "code",
   "execution_count": null,
   "metadata": {},
   "outputs": [],
   "source": [
    "df"
   ]
  },
  {
   "cell_type": "raw",
   "metadata": {},
   "source": [
    "\n",
    "\n",
    "\n"
   ],
   "execution_count": null,
   "outputs": []
  },
  {
   "cell_type": "code",
   "execution_count": null,
   "metadata": {
    "jupyter": {}
   },
   "outputs": [],
   "source": [
    "# # /mnt/f/Dropbox/01_norskov/00_git_repos\n",
    "# \"PAPER_IrOx_Active_Learning_OER\"\n",
    "# \"04_data_tables/bulk_pourb_energy\""
   ]
  },
  {
   "cell_type": "code",
   "execution_count": null,
   "metadata": {
    "jupyter": {}
   },
   "outputs": [],
   "source": [
    "# df_tmp = df.copy()\n",
    "# df_tmp = df_tmp.set_index(('system', ''))"
   ]
  },
  {
   "cell_type": "code",
   "execution_count": null,
   "metadata": {
    "jupyter": {}
   },
   "outputs": [],
   "source": [
    "# # df_tmp = df\n",
    "\n",
    "\n",
    "# df = df.set_index(\n",
    "#     'system',\n",
    "#     drop=True,\n",
    "#     append=False,\n",
    "#     inplace=False,\n",
    "#     verify_integrity=False,\n",
    "#     )"
   ]
  },
  {
   "cell_type": "code",
   "execution_count": null,
   "metadata": {
    "jupyter": {}
   },
   "outputs": [],
   "source": [
    "\n",
    "# df_tmp.columns.tolist()\n",
    "\n",
    "# df_tmp"
   ]
  },
  {
   "cell_type": "code",
   "execution_count": null,
   "metadata": {
    "jupyter": {}
   },
   "outputs": [],
   "source": [
    "# assert False"
   ]
  }
 ],
 "metadata": {
  "kernelspec": {
   "display_name": "Python [conda env:PROJ_IrOx_Active_Learning_OER]",
   "language": "python",
   "name": "conda-env-PROJ_IrOx_Active_Learning_OER-py"
  },
  "language_info": {
   "codemirror_mode": {
    "name": "ipython",
    "version": 3
   },
   "file_extension": ".py",
   "mimetype": "text/x-python",
   "name": "python",
   "nbconvert_exporter": "python",
   "pygments_lexer": "ipython3",
   "version": "3.6.9"
  }
 },
 "nbformat": 4,
 "nbformat_minor": 4
}
