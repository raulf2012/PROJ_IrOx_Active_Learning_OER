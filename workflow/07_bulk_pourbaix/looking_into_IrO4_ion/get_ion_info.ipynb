{
 "cells": [
  {
   "cell_type": "code",
   "execution_count": null,
   "metadata": {},
   "outputs": [],
   "source": [
    "# | - Import Modules\n",
    "import os\n",
    "import sys\n",
    "\n",
    "import pickle\n",
    "import yaml\n",
    "\n",
    "# Decomposes ion into composition object that can handle the charge string\n",
    "from pymatgen import MPRester\n",
    "from pymatgen.core.ion import Ion\n",
    "from pymatgen.analysis.pourbaix_diagram import PourbaixEntry, IonEntry\n",
    "from pymatgen.entries.computed_entries import ComputedEntry\n",
    "\n",
    "# #########################################################\n",
    "# from dft_energies import ion_dict_solids_expt\n",
    "#__|"
   ]
  },
  {
   "cell_type": "code",
   "execution_count": null,
   "metadata": {},
   "outputs": [],
   "source": [
    "# | - Script Inputs\n",
    "#This initializes the REST adaptor. Put your own API key in.\n",
    "\n",
    "path_i = os.path.join(os.environ[\"PROJ_irox\"], \"config\", \"config.yml\")\n",
    "with open(path_i) as file:\n",
    "    config_dict = yaml.load(file, Loader=yaml.FullLoader)\n",
    "\n",
    "api_key = config_dict[\"materials_project\"][\"api_key\"]\n",
    "\n",
    "mpr = MPRester(api_key)  # Raul\n",
    "#__|"
   ]
  },
  {
   "cell_type": "code",
   "execution_count": null,
   "metadata": {},
   "outputs": [],
   "source": [
    "entries = mpr.get_pourbaix_entries(\n",
    "    [\n",
    "        \"Ir\",\n",
    "        ]\n",
    "    )"
   ]
  },
  {
   "cell_type": "code",
   "execution_count": null,
   "metadata": {},
   "outputs": [],
   "source": [
    "entry = entries[0]"
   ]
  },
  {
   "cell_type": "code",
   "execution_count": null,
   "metadata": {},
   "outputs": [],
   "source": [
    "entry.uncorrected_energy\n",
    "# entry"
   ]
  },
  {
   "cell_type": "code",
   "execution_count": null,
   "metadata": {},
   "outputs": [],
   "source": [
    "# Pourbaix Entry : Ir1 O4 with energy = 7.4405, npH = -8.0, nPhi = -7.0, nH2O = 4.0, entry_id = None\n"
   ]
  },
  {
   "cell_type": "code",
   "execution_count": null,
   "metadata": {},
   "outputs": [],
   "source": [
    "assert False"
   ]
  },
  {
   "cell_type": "code",
   "execution_count": null,
   "metadata": {
    "jupyter": {}
   },
   "outputs": [],
   "source": [
    "# | - Methods\n",
    "#Used later to filter duplicate entries\n",
    "#If entry is already in entry_list, then return True\n",
    "def contains_entry(entry_list, entry):\n",
    "    \"\"\"\n",
    "    \"\"\"\n",
    "    # | - contains_entry\n",
    "    for e in entry_list:\n",
    "        if e.entry_id == entry.entry_id or (abs(entry.energy_per_atom - e.energy_per_atom) < 1e-6 and entry.composition.reduced_formula == e.composition.reduced_formula):\n",
    "            return True\n",
    "    #__|\n",
    "\n",
    "#__|"
   ]
  },
  {
   "cell_type": "code",
   "execution_count": null,
   "metadata": {
    "jupyter": {}
   },
   "outputs": [],
   "source": [
    "# | - Main Code ****************************************************************\n",
    "\n",
    "# | - Processing My Solid Entries\n",
    "# for key in ion_dict_solids_expt:\n",
    "pbx_solid_entries = []\n",
    "for key, value in ion_dict_solids_expt.items():\n",
    "\n",
    "    split_key = key.split(\"_\")\n",
    "    formula_i = split_key[0]\n",
    "\n",
    "    # if len(split_key) > 1:\n",
    "    #     # attribute_i = key.split(\"_\")[-1]\n",
    "    #     attribute_i = split_key[-1]\n",
    "    # else:\n",
    "    #     attribute_i = None\n",
    "\n",
    "    comp = Ion.from_formula(formula_i)\n",
    "    # comp = Ion.from_formula(key)\n",
    "    energy = value\n",
    "    # energy = ion_dict_solids_expt[key]  # + ion_correction * factor\n",
    "    pbx_entry_ion = PourbaixEntry(\n",
    "        ComputedEntry(\n",
    "            comp,\n",
    "            energy,\n",
    "            # attribute={\n",
    "            parameters={\n",
    "                \"full_name\": key,\n",
    "                },\n",
    "            )\n",
    "        )\n",
    "\n",
    "    # AP pbx_entry_ion.name = key\n",
    "    pbx_entry_ion.conc = 1\n",
    "    pbx_solid_entries.append(pbx_entry_ion)\n",
    "\n",
    "#__|\n",
    "\n",
    "\n",
    "# | - Ion Entries\n",
    "\n",
    "\n",
    "# Ion Reference Data\n",
    "\n",
    "#Dictionary of reference state:experimental formation energy\n",
    "ion_dict_Ir = mpr._make_request('/pourbaix_diagram/reference_data/Ir')\n",
    "ion_dict_S = mpr._make_request('/pourbaix_diagram/reference_data/Sr')\n",
    "\n",
    "\n",
    "for i, dummy in enumerate(ion_dict_Ir):\n",
    "    print(ion_dict_Ir[i])\n",
    "print(\"\")\n",
    "\n",
    "ion_dict = ion_dict_Ir\n",
    "\n",
    "\n",
    "\n",
    "# Calculate DFT reference energy for ions (See Persson et al, PRB (2012))\n",
    "pbx_ion_entries = []\n",
    "for id in ion_dict:\n",
    "    # Ion name-> Ion comp name (ex. Fe[3+] -> Ion: Fe1 +3)\n",
    "    comp = Ion.from_formula(id['Name'])\n",
    "    energy = id['Energy']  # + ion_correction * factor\n",
    "    print(id['Name'], comp, energy)\n",
    "    pbx_entry_ion = PourbaixEntry(IonEntry(comp, energy))\n",
    "    # AP pbx_entry_ion.name = id['Name']\n",
    "    pbx_entry_ion.conc = 1.0e-6\n",
    "    if pbx_entry_ion.name not in ['jfdksl']:  # ['H2RuO2[2+]']: #[\"RuO4(aq)\"]:\n",
    "        pbx_ion_entries.append(pbx_entry_ion)\n",
    "#__|\n",
    "\n",
    "\n",
    "all_entries = pbx_solid_entries + pbx_ion_entries\n",
    "#__|"
   ]
  },
  {
   "cell_type": "raw",
   "metadata": {},
   "source": [
    "\n",
    "\n",
    "\n",
    "\n",
    "\n"
   ],
   "execution_count": null,
   "outputs": []
  },
  {
   "cell_type": "code",
   "execution_count": null,
   "metadata": {
    "jupyter": {}
   },
   "outputs": [],
   "source": [
    "# def get_pourbaix_entries(self, chemsys):\n",
    "#     \"\"\"\n",
    "#     A helper function to get all entries necessary to generate\n",
    "#     a pourbaix diagram from the rest interface.\n",
    "\n",
    "#     Args:\n",
    "#         chemsys ([str]): A list of elements comprising the chemical\n",
    "#             system, e.g. ['Li', 'Fe']\n",
    "#     \"\"\"\n",
    "#     from pymatgen.analysis.pourbaix_diagram import PourbaixEntry, IonEntry\n",
    "#     from pymatgen.analysis.phase_diagram import PhaseDiagram\n",
    "#     from pymatgen.core.ion import Ion\n",
    "#     from pymatgen.entries.compatibility import \\\n",
    "#         MaterialsProjectAqueousCompatibility\n",
    "\n",
    "#     pbx_entries = []\n",
    "\n",
    "#     # Get ion entries first, because certain ions have reference\n",
    "#     # solids that aren't necessarily in the chemsys (Na2SO4)\n",
    "#     url = '/pourbaix_diagram/reference_data/' + '-'.join(chemsys)\n",
    "#     ion_data = self._make_request(url)\n",
    "#     ion_ref_comps = [Composition(d['Reference Solid']) for d in ion_data]\n",
    "#     ion_ref_elts = list(itertools.chain.from_iterable(\n",
    "#         i.elements for i in ion_ref_comps))\n",
    "#     ion_ref_entries = self.get_entries_in_chemsys(\n",
    "#         list(set([str(e) for e in ion_ref_elts] + ['O', 'H'])),\n",
    "#         property_data=['e_above_hull'], compatible_only=False)\n",
    "#     compat = MaterialsProjectAqueousCompatibility(\"Advanced\")\n",
    "#     ion_ref_entries = compat.process_entries(ion_ref_entries)\n",
    "#     ion_ref_pd = PhaseDiagram(ion_ref_entries)\n",
    "\n",
    "#     # position the ion energies relative to most stable reference state\n",
    "#     for n, i_d in enumerate(ion_data):\n",
    "#         ion_entry = IonEntry(Ion.from_formula(i_d['Name']), i_d['Energy'])\n",
    "#         refs = [e for e in ion_ref_entries\n",
    "#                 if e.composition.reduced_formula == i_d['Reference Solid']]\n",
    "#         if not refs:\n",
    "#             raise ValueError(\"Reference solid not contained in entry list\")\n",
    "#         stable_ref = sorted(refs, key=lambda x: x.data['e_above_hull'])[0]\n",
    "#         rf = stable_ref.composition.get_reduced_composition_and_factor()[1]\n",
    "#         solid_diff = ion_ref_pd.get_form_energy(stable_ref) - i_d['Reference solid energy'] * rf\n",
    "#         elt = i_d['Major_Elements'][0]\n",
    "#         correction_factor = ion_entry.ion.composition[elt] / stable_ref.composition[elt]\n",
    "#         ion_entry.energy += solid_diff * correction_factor\n",
    "#         pbx_entries.append(PourbaixEntry(ion_entry, 'ion-{}'.format(n)))\n",
    "\n",
    "#     # Construct the solid pourbaix entries from filtered ion_ref entries\n",
    "#     extra_elts = set(ion_ref_elts) - {Element(s) for s in chemsys} \\\n",
    "#         - {Element('H'), Element('O')}\n",
    "#     for entry in ion_ref_entries:\n",
    "#         entry_elts = set(entry.composition.elements)\n",
    "#         # Ensure no OH chemsys or extraneous elements from ion references\n",
    "#         if not (entry_elts <= {Element('H'), Element('O')} or\n",
    "#                 extra_elts.intersection(entry_elts)):\n",
    "#             # replace energy with formation energy, use dict to\n",
    "#             # avoid messing with the ion_ref_pd and to keep all old params\n",
    "#             form_e = ion_ref_pd.get_form_energy(entry)\n",
    "#             new_entry = deepcopy(entry)\n",
    "#             new_entry.uncorrected_energy = form_e\n",
    "#             new_entry.correction = 0.0\n",
    "#             pbx_entry = PourbaixEntry(new_entry)\n",
    "#             pbx_entries.append(pbx_entry)\n",
    "\n",
    "#     return pbx_entries"
   ]
  }
 ],
 "metadata": {
  "kernelspec": {
   "display_name": "Python [conda env:PROJ_IrOx_Active_Learning_OER]",
   "language": "python",
   "name": "conda-env-PROJ_IrOx_Active_Learning_OER-py"
  },
  "language_info": {
   "codemirror_mode": {
    "name": "ipython",
    "version": 3
   },
   "file_extension": ".py",
   "mimetype": "text/x-python",
   "name": "python",
   "nbconvert_exporter": "python",
   "pygments_lexer": "ipython3",
   "version": "3.6.9"
  }
 },
 "nbformat": 4,
 "nbformat_minor": 4
}
