{
 "cells": [
  {
   "cell_type": "markdown",
   "metadata": {
    "Collapsed": "false"
   },
   "source": [
    "# New ML Active Learning Workflow\n",
    "---\n",
    "\n",
    "32 (Too big, not computed),\n",
    "\n",
    "226 (Not computed),"
   ]
  },
  {
   "cell_type": "markdown",
   "metadata": {
    "Collapsed": "false"
   },
   "source": [
    "# Import Modules"
   ]
  },
  {
   "cell_type": "code",
   "execution_count": 1,
   "metadata": {
    "Collapsed": "false",
    "jupyter": {
     "source_hidden": true
    }
   },
   "outputs": [],
   "source": [
    "%%capture\n",
    "#| - OUT_OF_SIGHT\n",
    "import os\n",
    "import sys\n",
    "\n",
    "import json\n",
    "import pickle\n",
    "\n",
    "import time\n",
    "\n",
    "import itertools\n",
    "\n",
    "import pandas as pd\n",
    "import numpy as np\n",
    "\n",
    "from ase.visualize import view\n",
    "\n",
    "import chart_studio.plotly as py\n",
    "import plotly.graph_objs as go\n",
    "\n",
    "sys.path.insert(0, os.path.join(os.environ[\"PROJ_irox\"], \"data\"))\n",
    "from proj_data_irox import (\n",
    "    bulk_dft_data_path, unique_ids_path,\n",
    "    df_features_pre_opt_path,\n",
    "    df_features_post_opt_path,\n",
    "    ids_to_discard__too_many_atoms_path,\n",
    "    )\n",
    "\n",
    "from plotting.my_plotly import my_plotly_plot\n",
    "\n",
    "import pprint\n",
    "pp = pprint.PrettyPrinter()\n",
    "\n",
    "sys.path.insert(0,\n",
    "    os.path.join(os.environ[\"PROJ_irox\"], \"workflow/ml_modelling\"))\n",
    "\n",
    "from ml_methods import create_mixed_df\n",
    "\n",
    "from ase_modules.ase_methods import view_in_vesta"
   ]
  },
  {
   "cell_type": "markdown",
   "metadata": {
    "Collapsed": "false"
   },
   "source": [
    "# Script Inputs"
   ]
  },
  {
   "cell_type": "code",
   "execution_count": 2,
   "metadata": {
    "Collapsed": "false"
   },
   "outputs": [],
   "source": [
    "# stoich_i = \"AB3\"\n",
    "stoich_i = \"AB2\""
   ]
  },
  {
   "cell_type": "markdown",
   "metadata": {
    "Collapsed": "false"
   },
   "source": [
    "# Read Data"
   ]
  },
  {
   "cell_type": "code",
   "execution_count": 3,
   "metadata": {
    "Collapsed": "false",
    "lines_to_next_cell": 0
   },
   "outputs": [],
   "source": [
    "# with open(bulk_dft_data_path, \"rb\") as fle:\n",
    "#     df_bulk_dft = pickle.load(fle)\n",
    "\n",
    "df_ids = pd.read_csv(unique_ids_path)"
   ]
  },
  {
   "cell_type": "markdown",
   "metadata": {
    "Collapsed": "false"
   },
   "source": [
    "# Duplicate Analysis"
   ]
  },
  {
   "cell_type": "code",
   "execution_count": 4,
   "metadata": {
    "Collapsed": "false"
   },
   "outputs": [
    {
     "name": "stdout",
     "output_type": "stream",
     "text": [
      "in ids to drop False\n",
      "TEMP TEMP TEMP True\n",
      "TEMP TEMP TEMP False\n"
     ]
    }
   ],
   "source": [
    "sys.path.insert(0, os.path.join(\n",
    "    os.environ[\"PROJ_irox\"],\n",
    "    \"workflow/ml_modelling\"))\n",
    "from ml_methods import get_data_for_al\n",
    "from ccf_similarity.ccf import CCF\n",
    "\n",
    "out_dict = get_data_for_al(\n",
    "    stoich=stoich_i, verbose=False,\n",
    "    drop_too_many_atoms=True)\n",
    "\n",
    "df_dij = out_dict[\"df_dij\"]\n",
    "df_bulk_dft = out_dict[\"df_bulk_dft\"]\n",
    "\n",
    "CCF_i = CCF(df_dij=df_dij, d_thresh=0.02)"
   ]
  },
  {
   "cell_type": "code",
   "execution_count": 5,
   "metadata": {
    "Collapsed": "false"
   },
   "outputs": [
    {
     "name": "stderr",
     "output_type": "stream",
     "text": [
      "/home/raul_desktop/anaconda3/envs/PROJ_IrOx_Active_Learning_OER/lib/python3.6/site-packages/ipykernel_launcher.py:13: FutureWarning:\n",
      "\n",
      "\n",
      "Passing list-likes to .loc or [] with any missing label will raise\n",
      "KeyError in the future, you can use .reindex() as an alternative.\n",
      "\n",
      "See the documentation here:\n",
      "https://pandas.pydata.org/pandas-docs/stable/user_guide/indexing.html#deprecate-loc-reindex-listlike\n",
      "\n"
     ]
    }
   ],
   "source": [
    "df_bulk_dft = df_bulk_dft[df_bulk_dft.source == \"raul\"]\n",
    "\n",
    "ids_to_drop = []\n",
    "for id_i in df_bulk_dft.index.tolist():\n",
    "    simil_dict_i = CCF_i.i_all_similar(id_i)\n",
    "\n",
    "    # for key, val in simil_dict_i.items():\n",
    "    #     tmp = 42\n",
    "\n",
    "    if simil_dict_i is not None:\n",
    "        similar_ids = [id_i] + list(simil_dict_i.keys())\n",
    "\n",
    "        df_i = df_bulk_dft.loc[similar_ids]\n",
    "\n",
    "        ids_to_drop_i = df_i.sort_values(\"energy_pa\").iloc[1:].index.tolist()\n",
    "\n",
    "        ids_to_drop.extend(ids_to_drop_i)\n",
    "\n",
    "        \n",
    "ids_to_drop__duplicates = ids_to_drop"
   ]
  },
  {
   "cell_type": "code",
   "execution_count": 6,
   "metadata": {
    "Collapsed": "false"
   },
   "outputs": [],
   "source": [
    "# df_dij.loc[[\n",
    "# #     \"zimixdvdxd\",\n",
    "#     \"6fcdbh9fz2\",\n",
    "#     ]]\n",
    "\n",
    "# df_dij.loc[\"6fcdbh9fz2\"]\n",
    "\n",
    "# df_tmp = df_dij\n",
    "# \"6fcdbh9fz2\" in df_tmp.index.tolist()\n",
    "\n",
    "# \"6fcdbh9fz2\" in df_bulk_dft.index.tolist()"
   ]
  },
  {
   "cell_type": "markdown",
   "metadata": {
    "Collapsed": "false"
   },
   "source": [
    "# Filtering dataframes to the correct stoicheometry"
   ]
  },
  {
   "cell_type": "markdown",
   "metadata": {
    "Collapsed": "false"
   },
   "source": [
    "# TEMP DROP DUPLICATE and OUTLIER SYSTEMS"
   ]
  },
  {
   "cell_type": "code",
   "execution_count": 7,
   "metadata": {
    "Collapsed": "false"
   },
   "outputs": [
    {
     "name": "stdout",
     "output_type": "stream",
     "text": [
      "len(ids_to_drop): 442\n",
      "len(ids_to_drop): 94\n"
     ]
    }
   ],
   "source": [
    "# path_i = os.path.join(\n",
    "#     os.environ[\"PROJ_irox\"],\n",
    "#     \"workflow/ml_modelling/00_ml_workflow/191102_new_workflow/00_abx_al_runs/out_data\",\n",
    "#     \"duplicates.pickle\")\n",
    "# with open(path_i, \"rb\") as fle:\n",
    "#     duplicates_dict = pickle.load(fle)\n",
    "#     ids_to_drop__duplicates = duplicates_dict[stoich_i]\n",
    "\n",
    "# #############################################################################\n",
    "path_i = os.path.join(\n",
    "    os.environ[\"PROJ_irox\"],\n",
    "    \"workflow/ml_modelling/visualizing_data/out_data\",\n",
    "    \"outlier_features.json\")\n",
    "with open(path_i, 'r') as f:\n",
    "    ids_to_drop__outliers = json.load(f)\n",
    "\n",
    "with open(ids_to_discard__too_many_atoms_path, \"rb\") as fle:\n",
    "    ids_to_drop__too_many_atoms = pickle.load(fle)\n",
    "\n",
    "# #############################################################################\n",
    "ids_to_drop = [] + \\\n",
    "    ids_to_drop__duplicates + \\\n",
    "    []\n",
    "    # ids_to_drop__too_many_atoms + \\\n",
    "    # ids_to_drop__outliers + \\\n",
    "\n",
    "print(\"len(ids_to_drop):\", len(ids_to_drop))\n",
    "ids_to_drop = list(set(ids_to_drop))\n",
    "print(\"len(ids_to_drop):\", len(ids_to_drop))"
   ]
  },
  {
   "cell_type": "code",
   "execution_count": 8,
   "metadata": {
    "Collapsed": "false"
   },
   "outputs": [
    {
     "name": "stdout",
     "output_type": "stream",
     "text": [
      "df_ids.shape: (697, 5)\n"
     ]
    }
   ],
   "source": [
    "# #############################################################################\n",
    "# Filter ids ##################################################################\n",
    "df_ids = df_ids[\n",
    "    (df_ids[\"stoich\"] == stoich_i) & \\\n",
    "    (df_ids[\"source\"] != \"oqmd\") & \\\n",
    "    (df_ids[\"source\"] != \"raul_oer\") & \\\n",
    "    [True for i in range(len(df_ids))]\n",
    "    ]\n",
    "\n",
    "print(\"df_ids.shape:\", df_ids.shape)\n",
    "# IDS TO DROP\n",
    "df_ids = df_ids[~df_ids[\"unique_ids\"].isin(ids_to_drop)]\n",
    "unique_ids = df_ids[\"unique_ids\"].tolist()\n",
    "\n",
    "index_filter = np.intersect1d(df_bulk_dft.index, unique_ids)\n",
    "df_bulk_dft = df_bulk_dft.loc[index_filter]\n",
    "df_bulk_dft = df_bulk_dft[df_bulk_dft[\"source\"] != \"chris\"]"
   ]
  },
  {
   "cell_type": "code",
   "execution_count": 9,
   "metadata": {
    "Collapsed": "false"
   },
   "outputs": [],
   "source": [
    "directory = \"out_data/\" + stoich_i + \"_structures_all\"\n",
    "if not os.path.exists(directory):\n",
    "    os.makedirs(directory)\n",
    "\n",
    "\n",
    "directory = \"out_data/\" + stoich_i + \"_structures\"\n",
    "if not os.path.exists(directory):\n",
    "    os.makedirs(directory)"
   ]
  },
  {
   "cell_type": "code",
   "execution_count": 10,
   "metadata": {
    "Collapsed": "false"
   },
   "outputs": [],
   "source": [
    "cols_to_drop = [\n",
    "    \"atoms\",\n",
    "    \"form_e_chris\",\n",
    "    \"id\",\n",
    "    \"path\",\n",
    "    \"source\",\n",
    "    \"stoich\",\n",
    "    ]\n",
    "\n",
    "df_select = df_bulk_dft.drop(cols_to_drop, axis=1)"
   ]
  },
  {
   "cell_type": "code",
   "execution_count": 11,
   "metadata": {
    "Collapsed": "false"
   },
   "outputs": [],
   "source": [
    "df_bulk_dft = df_bulk_dft.sort_values(\"energy_pa\")\n",
    "\n",
    "df_bulk_dft[\"energy_order_id\"] = [i for i in range(len(df_bulk_dft))]\n",
    "\n",
    "df_select = df_bulk_dft.drop(cols_to_drop, axis=1)"
   ]
  },
  {
   "cell_type": "code",
   "execution_count": 12,
   "metadata": {
    "Collapsed": "false"
   },
   "outputs": [
    {
     "data": {
      "text/plain": [
       "'3.18.0b1'"
      ]
     },
     "execution_count": 12,
     "metadata": {},
     "output_type": "execute_result"
    }
   ],
   "source": [
    "import ase\n",
    "\n",
    "ase.__version__"
   ]
  },
  {
   "cell_type": "code",
   "execution_count": 13,
   "metadata": {
    "Collapsed": "false"
   },
   "outputs": [
    {
     "data": {
      "text/plain": [
       "'AB2'"
      ]
     },
     "execution_count": 13,
     "metadata": {},
     "output_type": "execute_result"
    }
   ],
   "source": [
    "stoich_i"
   ]
  },
  {
   "cell_type": "code",
   "execution_count": 14,
   "metadata": {
    "Collapsed": "false"
   },
   "outputs": [],
   "source": [
    "df_select.to_csv(\"out_data/data_table_\" + stoich_i + \".csv\")\n",
    "\n",
    "for i_cnt, row_i in df_bulk_dft.iterrows():\n",
    "    atoms = row_i[\"atoms\"]\n",
    "    file_name_i = \"\" + \\\n",
    "        str(row_i[\"energy_order_id\"]).zfill(3) + \\\n",
    "        \"__\" + \\\n",
    "        \"id-unique\" + \\\n",
    "        \"_\" + \\\n",
    "        row_i.name + \\\n",
    "        \"__\" + \\\n",
    "        \"id-short\" + \\\n",
    "        \"_\" + \\\n",
    "        str(row_i[\"id_old\"]).zfill(3) + \\\n",
    "        \".cif\"\n",
    "    \n",
    "    # atoms.write(\"out_data/\" + stoich_i + \"_structures_all/\" + file_name_i)\n",
    "    atoms.write(\"out_data/\" + stoich_i + \"_structures/\" + file_name_i)"
   ]
  },
  {
   "cell_type": "code",
   "execution_count": 15,
   "metadata": {
    "Collapsed": "false"
   },
   "outputs": [
    {
     "data": {
      "text/html": [
       "<div>\n",
       "<style scoped>\n",
       "    .dataframe tbody tr th:only-of-type {\n",
       "        vertical-align: middle;\n",
       "    }\n",
       "\n",
       "    .dataframe tbody tr th {\n",
       "        vertical-align: top;\n",
       "    }\n",
       "\n",
       "    .dataframe thead th {\n",
       "        text-align: right;\n",
       "    }\n",
       "</style>\n",
       "<table border=\"1\" class=\"dataframe\">\n",
       "  <thead>\n",
       "    <tr style=\"text-align: right;\">\n",
       "      <th></th>\n",
       "      <th>atoms</th>\n",
       "      <th>energy_pa</th>\n",
       "      <th>form_e_chris</th>\n",
       "      <th>id</th>\n",
       "      <th>id_old</th>\n",
       "      <th>path</th>\n",
       "      <th>source</th>\n",
       "      <th>stoich</th>\n",
       "      <th>energy</th>\n",
       "      <th>dH</th>\n",
       "      <th>num_atoms</th>\n",
       "      <th>energy_order_id</th>\n",
       "    </tr>\n",
       "    <tr>\n",
       "      <th>id_unique</th>\n",
       "      <th></th>\n",
       "      <th></th>\n",
       "      <th></th>\n",
       "      <th></th>\n",
       "      <th></th>\n",
       "      <th></th>\n",
       "      <th></th>\n",
       "      <th></th>\n",
       "      <th></th>\n",
       "      <th></th>\n",
       "      <th></th>\n",
       "      <th></th>\n",
       "    </tr>\n",
       "  </thead>\n",
       "  <tbody>\n",
       "    <tr>\n",
       "      <th>64cg6j9any</th>\n",
       "      <td>(Atom('O', [4.43912, 4.78444, 3.20932], index=...</td>\n",
       "      <td>-7.047516</td>\n",
       "      <td>NaN</td>\n",
       "      <td>NaN</td>\n",
       "      <td>177</td>\n",
       "      <td>/scratch/users/flores12/PROJ_irox_ml_oer/ml_bu...</td>\n",
       "      <td>raul</td>\n",
       "      <td>AB2</td>\n",
       "      <td>-169.140375</td>\n",
       "      <td>-0.838375</td>\n",
       "      <td>24</td>\n",
       "      <td>0</td>\n",
       "    </tr>\n",
       "    <tr>\n",
       "      <th>n36axdbw65</th>\n",
       "      <td>(Atom('O', [1.29443, 3.4982, 8.37891], index=0...</td>\n",
       "      <td>-7.010873</td>\n",
       "      <td>NaN</td>\n",
       "      <td>NaN</td>\n",
       "      <td>312</td>\n",
       "      <td>/global/cscratch1/sd/flores12/IrOx_Project_tem...</td>\n",
       "      <td>raul</td>\n",
       "      <td>AB2</td>\n",
       "      <td>-252.391438</td>\n",
       "      <td>-0.801733</td>\n",
       "      <td>36</td>\n",
       "      <td>1</td>\n",
       "    </tr>\n",
       "    <tr>\n",
       "      <th>clc2b1mavs</th>\n",
       "      <td>(Atom('Ir', [13.02343, 0.79711, 4.37893], inde...</td>\n",
       "      <td>-6.994516</td>\n",
       "      <td>NaN</td>\n",
       "      <td>NaN</td>\n",
       "      <td>192</td>\n",
       "      <td>/scratch/users/flores12/PROJ_irox_ml_oer/ml_bu...</td>\n",
       "      <td>raul</td>\n",
       "      <td>AB2</td>\n",
       "      <td>-167.868377</td>\n",
       "      <td>-0.785375</td>\n",
       "      <td>24</td>\n",
       "      <td>2</td>\n",
       "    </tr>\n",
       "    <tr>\n",
       "      <th>ck638t75z3</th>\n",
       "      <td>(Atom('O', [0.56398, 3.10384, 1.42509], index=...</td>\n",
       "      <td>-6.985392</td>\n",
       "      <td>NaN</td>\n",
       "      <td>NaN</td>\n",
       "      <td>41</td>\n",
       "      <td>/global/cscratch1/sd/flores12/IrOx_Project_tem...</td>\n",
       "      <td>raul</td>\n",
       "      <td>AB2</td>\n",
       "      <td>-125.737054</td>\n",
       "      <td>-0.776251</td>\n",
       "      <td>18</td>\n",
       "      <td>3</td>\n",
       "    </tr>\n",
       "    <tr>\n",
       "      <th>mkbj6e6e9p</th>\n",
       "      <td>(Atom('O', [8.12243, 2.19605, 3.08353], index=...</td>\n",
       "      <td>-6.962611</td>\n",
       "      <td>NaN</td>\n",
       "      <td>NaN</td>\n",
       "      <td>90</td>\n",
       "      <td>/scratch/users/flores12/PROJ_irox_ml_oer/ml_bu...</td>\n",
       "      <td>raul</td>\n",
       "      <td>AB2</td>\n",
       "      <td>-250.653999</td>\n",
       "      <td>-0.753471</td>\n",
       "      <td>36</td>\n",
       "      <td>4</td>\n",
       "    </tr>\n",
       "    <tr>\n",
       "      <th>...</th>\n",
       "      <td>...</td>\n",
       "      <td>...</td>\n",
       "      <td>...</td>\n",
       "      <td>...</td>\n",
       "      <td>...</td>\n",
       "      <td>...</td>\n",
       "      <td>...</td>\n",
       "      <td>...</td>\n",
       "      <td>...</td>\n",
       "      <td>...</td>\n",
       "      <td>...</td>\n",
       "      <td>...</td>\n",
       "    </tr>\n",
       "    <tr>\n",
       "      <th>brbizonjmy</th>\n",
       "      <td>(Atom('O', [0.23164, 2.83949, 1.11906], index=...</td>\n",
       "      <td>-5.477754</td>\n",
       "      <td>NaN</td>\n",
       "      <td>NaN</td>\n",
       "      <td>132</td>\n",
       "      <td>/global/cscratch1/sd/flores12/IrOx_Project_tem...</td>\n",
       "      <td>raul</td>\n",
       "      <td>AB2</td>\n",
       "      <td>-16.433262</td>\n",
       "      <td>0.731386</td>\n",
       "      <td>3</td>\n",
       "      <td>370</td>\n",
       "    </tr>\n",
       "    <tr>\n",
       "      <th>6l7fnyctmt</th>\n",
       "      <td>(Atom('Ir', [1.123, 5.61647, 1.123], index=0),...</td>\n",
       "      <td>-5.427689</td>\n",
       "      <td>NaN</td>\n",
       "      <td>NaN</td>\n",
       "      <td>161</td>\n",
       "      <td>/scratch/users/flores12/PROJ_irox_ml_oer/ml_bu...</td>\n",
       "      <td>raul</td>\n",
       "      <td>AB2</td>\n",
       "      <td>-130.264524</td>\n",
       "      <td>0.781452</td>\n",
       "      <td>24</td>\n",
       "      <td>371</td>\n",
       "    </tr>\n",
       "    <tr>\n",
       "      <th>7umymtza7a</th>\n",
       "      <td>(Atom('O', [2.95957, 0.0, 1.31196], index=0), ...</td>\n",
       "      <td>-5.416683</td>\n",
       "      <td>NaN</td>\n",
       "      <td>NaN</td>\n",
       "      <td>185</td>\n",
       "      <td>/scratch/users/flores12/PROJ_irox_ml_oer/ml_bu...</td>\n",
       "      <td>raul</td>\n",
       "      <td>AB2</td>\n",
       "      <td>-32.500095</td>\n",
       "      <td>0.792458</td>\n",
       "      <td>6</td>\n",
       "      <td>372</td>\n",
       "    </tr>\n",
       "    <tr>\n",
       "      <th>7am4vwzi7p</th>\n",
       "      <td>(Atom('O', [1.26709, 1.26709, 3.80126], index=...</td>\n",
       "      <td>-4.978113</td>\n",
       "      <td>NaN</td>\n",
       "      <td>NaN</td>\n",
       "      <td>385</td>\n",
       "      <td>/global/cscratch1/sd/flores12/IrOx_Project_tem...</td>\n",
       "      <td>raul</td>\n",
       "      <td>AB2</td>\n",
       "      <td>-59.737356</td>\n",
       "      <td>1.231027</td>\n",
       "      <td>12</td>\n",
       "      <td>373</td>\n",
       "    </tr>\n",
       "    <tr>\n",
       "      <th>75xkcazgmi</th>\n",
       "      <td>(Atom('O', [0.78112, 5.46787, 2.34337], index=...</td>\n",
       "      <td>-4.464245</td>\n",
       "      <td>NaN</td>\n",
       "      <td>NaN</td>\n",
       "      <td>268</td>\n",
       "      <td>/scratch/users/flores12/PROJ_irox_ml_oer/ml_bu...</td>\n",
       "      <td>raul</td>\n",
       "      <td>AB2</td>\n",
       "      <td>-107.141873</td>\n",
       "      <td>1.744896</td>\n",
       "      <td>24</td>\n",
       "      <td>374</td>\n",
       "    </tr>\n",
       "  </tbody>\n",
       "</table>\n",
       "<p>375 rows × 12 columns</p>\n",
       "</div>"
      ],
      "text/plain": [
       "                                                        atoms  energy_pa  \\\n",
       "id_unique                                                                  \n",
       "64cg6j9any  (Atom('O', [4.43912, 4.78444, 3.20932], index=...  -7.047516   \n",
       "n36axdbw65  (Atom('O', [1.29443, 3.4982, 8.37891], index=0...  -7.010873   \n",
       "clc2b1mavs  (Atom('Ir', [13.02343, 0.79711, 4.37893], inde...  -6.994516   \n",
       "ck638t75z3  (Atom('O', [0.56398, 3.10384, 1.42509], index=...  -6.985392   \n",
       "mkbj6e6e9p  (Atom('O', [8.12243, 2.19605, 3.08353], index=...  -6.962611   \n",
       "...                                                       ...        ...   \n",
       "brbizonjmy  (Atom('O', [0.23164, 2.83949, 1.11906], index=...  -5.477754   \n",
       "6l7fnyctmt  (Atom('Ir', [1.123, 5.61647, 1.123], index=0),...  -5.427689   \n",
       "7umymtza7a  (Atom('O', [2.95957, 0.0, 1.31196], index=0), ...  -5.416683   \n",
       "7am4vwzi7p  (Atom('O', [1.26709, 1.26709, 3.80126], index=...  -4.978113   \n",
       "75xkcazgmi  (Atom('O', [0.78112, 5.46787, 2.34337], index=...  -4.464245   \n",
       "\n",
       "            form_e_chris   id id_old  \\\n",
       "id_unique                              \n",
       "64cg6j9any           NaN  NaN    177   \n",
       "n36axdbw65           NaN  NaN    312   \n",
       "clc2b1mavs           NaN  NaN    192   \n",
       "ck638t75z3           NaN  NaN     41   \n",
       "mkbj6e6e9p           NaN  NaN     90   \n",
       "...                  ...  ...    ...   \n",
       "brbizonjmy           NaN  NaN    132   \n",
       "6l7fnyctmt           NaN  NaN    161   \n",
       "7umymtza7a           NaN  NaN    185   \n",
       "7am4vwzi7p           NaN  NaN    385   \n",
       "75xkcazgmi           NaN  NaN    268   \n",
       "\n",
       "                                                         path source stoich  \\\n",
       "id_unique                                                                     \n",
       "64cg6j9any  /scratch/users/flores12/PROJ_irox_ml_oer/ml_bu...   raul    AB2   \n",
       "n36axdbw65  /global/cscratch1/sd/flores12/IrOx_Project_tem...   raul    AB2   \n",
       "clc2b1mavs  /scratch/users/flores12/PROJ_irox_ml_oer/ml_bu...   raul    AB2   \n",
       "ck638t75z3  /global/cscratch1/sd/flores12/IrOx_Project_tem...   raul    AB2   \n",
       "mkbj6e6e9p  /scratch/users/flores12/PROJ_irox_ml_oer/ml_bu...   raul    AB2   \n",
       "...                                                       ...    ...    ...   \n",
       "brbizonjmy  /global/cscratch1/sd/flores12/IrOx_Project_tem...   raul    AB2   \n",
       "6l7fnyctmt  /scratch/users/flores12/PROJ_irox_ml_oer/ml_bu...   raul    AB2   \n",
       "7umymtza7a  /scratch/users/flores12/PROJ_irox_ml_oer/ml_bu...   raul    AB2   \n",
       "7am4vwzi7p  /global/cscratch1/sd/flores12/IrOx_Project_tem...   raul    AB2   \n",
       "75xkcazgmi  /scratch/users/flores12/PROJ_irox_ml_oer/ml_bu...   raul    AB2   \n",
       "\n",
       "                energy        dH  num_atoms  energy_order_id  \n",
       "id_unique                                                     \n",
       "64cg6j9any -169.140375 -0.838375         24                0  \n",
       "n36axdbw65 -252.391438 -0.801733         36                1  \n",
       "clc2b1mavs -167.868377 -0.785375         24                2  \n",
       "ck638t75z3 -125.737054 -0.776251         18                3  \n",
       "mkbj6e6e9p -250.653999 -0.753471         36                4  \n",
       "...                ...       ...        ...              ...  \n",
       "brbizonjmy  -16.433262  0.731386          3              370  \n",
       "6l7fnyctmt -130.264524  0.781452         24              371  \n",
       "7umymtza7a  -32.500095  0.792458          6              372  \n",
       "7am4vwzi7p  -59.737356  1.231027         12              373  \n",
       "75xkcazgmi -107.141873  1.744896         24              374  \n",
       "\n",
       "[375 rows x 12 columns]"
      ]
     },
     "execution_count": 15,
     "metadata": {},
     "output_type": "execute_result"
    }
   ],
   "source": [
    "# df_bulk_dft.loc[\"cubqbpzd7k\"]\n",
    "\n",
    "# df_bulk_dft.sort_values(\"energy_pa\").iloc[0:3].index\n",
    "df_bulk_dft.sort_values(\"energy_pa\")"
   ]
  },
  {
   "cell_type": "code",
   "execution_count": 18,
   "metadata": {
    "Collapsed": "false"
   },
   "outputs": [],
   "source": [
    "# df_dij.loc[\n",
    "#     [\"xw9y6rbkxr\", \"8p8evt9pcg\"],\n",
    "#     [\"xw9y6rbkxr\", \"8p8evt9pcg\"],\n",
    "#     ]"
   ]
  },
  {
   "cell_type": "raw",
   "metadata": {
    "Collapsed": "false"
   },
   "source": [
    "\n",
    "\n",
    "\n",
    "\n"
   ]
  },
  {
   "cell_type": "code",
   "execution_count": null,
   "metadata": {
    "Collapsed": "false",
    "jupyter": {
     "source_hidden": true
    }
   },
   "outputs": [],
   "source": [
    "# df_bulk_dft[df_bulk_dft[\"stoich\"] == \"AB3\"].sort_values(\"energy_pa\")\n",
    "\n",
    "# -6.469847\n",
    "# -6.467450"
   ]
  },
  {
   "cell_type": "code",
   "execution_count": null,
   "metadata": {
    "Collapsed": "false",
    "jupyter": {
     "source_hidden": true
    }
   },
   "outputs": [],
   "source": [
    "# -6.469847 - -6.46745"
   ]
  },
  {
   "cell_type": "code",
   "execution_count": null,
   "metadata": {
    "Collapsed": "false",
    "jupyter": {
     "source_hidden": true
    }
   },
   "outputs": [],
   "source": [
    "# assert False"
   ]
  }
 ],
 "metadata": {
  "jupytext": {
   "formats": "ipynb,py:light"
  },
  "kernelspec": {
   "display_name": "Python [conda env:PROJ_IrOx_Active_Learning_OER]",
   "language": "python",
   "name": "conda-env-PROJ_IrOx_Active_Learning_OER-py"
  },
  "language_info": {
   "codemirror_mode": {
    "name": "ipython",
    "version": 3
   },
   "file_extension": ".py",
   "mimetype": "text/x-python",
   "name": "python",
   "nbconvert_exporter": "python",
   "pygments_lexer": "ipython3",
   "version": "3.6.9"
  }
 },
 "nbformat": 4,
 "nbformat_minor": 4
}
