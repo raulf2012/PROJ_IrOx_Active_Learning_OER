{
 "cells": [
  {
   "cell_type": "markdown",
   "metadata": {},
   "source": [
    "# Import Modules"
   ]
  },
  {
   "cell_type": "code",
   "execution_count": 7,
   "metadata": {},
   "outputs": [],
   "source": [
    "import os\n",
    "import sys\n",
    "\n",
    "import numpy as np\n",
    "\n",
    "from ase import io\n",
    "\n",
    "from StructurePrototypeAnalysisPackage.ccf import struc2ccf"
   ]
  },
  {
   "cell_type": "code",
   "execution_count": 12,
   "metadata": {},
   "outputs": [],
   "source": [
    "from StructurePrototypeAnalysisPackage.ccf import (\n",
    "    struc2ccf,\n",
    "    cal_ccf_d,\n",
    "    cal_inter_atomic_d,\n",
    "    d2ccf,\n",
    "    weight_f,\n",
    "    pearson_cc,\n",
    "    gaussian_f,\n",
    "    element_tag,\n",
    "    cell_range,\n",
    "    count_atoms_dict,\n",
    "    )"
   ]
  },
  {
   "cell_type": "markdown",
   "metadata": {},
   "source": [
    "# Script Inputs"
   ]
  },
  {
   "cell_type": "code",
   "execution_count": 8,
   "metadata": {},
   "outputs": [],
   "source": [
    "r_cut_off = 10.\n",
    "r_vector = np.arange(1, 10, 0.02)"
   ]
  },
  {
   "cell_type": "markdown",
   "metadata": {},
   "source": [
    "# Read structure files"
   ]
  },
  {
   "cell_type": "code",
   "execution_count": 9,
   "metadata": {},
   "outputs": [],
   "source": [
    "struct_files = [\n",
    "    \"000__id-unique_8p8evt9pcg__id-short_207.cif\",\n",
    "    \"22_179197-3835-5794-AlF3_F6Al2fixed.cif\",\n",
    "    \"out.cif\",\n",
    "    ]\n",
    "\n",
    "atoms_0 = io.read(struct_files[0])\n",
    "atoms_1 = io.read(struct_files[1])\n",
    "atoms_2 = io.read(struct_files[2])"
   ]
  },
  {
   "cell_type": "code",
   "execution_count": 11,
   "metadata": {},
   "outputs": [],
   "source": [
    "# atoms_i = row_i[atoms_key]\n",
    "\n",
    "ccf_0 = struc2ccf(atoms_0, r_cut_off, r_vector)\n",
    "ccf_1 = struc2ccf(atoms_1, r_cut_off, r_vector)\n",
    "ccf_2 = struc2ccf(atoms_2, r_cut_off, r_vector)"
   ]
  },
  {
   "cell_type": "code",
   "execution_count": 17,
   "metadata": {},
   "outputs": [
    {
     "data": {
      "text/plain": [
       "0.0018760166857376692"
      ]
     },
     "execution_count": 17,
     "metadata": {},
     "output_type": "execute_result"
    }
   ],
   "source": [
    "# d_ij = \n",
    "cal_ccf_d(ccf_0, ccf_1)"
   ]
  }
 ],
 "metadata": {
  "kernelspec": {
   "display_name": "Python [conda env:research-new]",
   "language": "python",
   "name": "conda-env-research-new-py"
  },
  "language_info": {
   "codemirror_mode": {
    "name": "ipython",
    "version": 3
   },
   "file_extension": ".py",
   "mimetype": "text/x-python",
   "name": "python",
   "nbconvert_exporter": "python",
   "pygments_lexer": "ipython3",
   "version": "3.6.8"
  }
 },
 "nbformat": 4,
 "nbformat_minor": 4
}
