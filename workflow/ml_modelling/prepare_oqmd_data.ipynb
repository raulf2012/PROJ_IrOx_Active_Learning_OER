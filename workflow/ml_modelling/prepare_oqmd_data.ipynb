{
 "cells": [
  {
   "cell_type": "markdown",
   "metadata": {},
   "source": [
    "# Parsing OQMD Structures and Energies into Dataframe\n",
    "---"
   ]
  },
  {
   "cell_type": "markdown",
   "metadata": {},
   "source": [
    "# Import Modules"
   ]
  },
  {
   "cell_type": "code",
   "execution_count": 1,
   "metadata": {},
   "outputs": [],
   "source": [
    "import os\n",
    "import sys\n",
    "\n",
    "import pickle\n",
    "import pandas as pd"
   ]
  },
  {
   "cell_type": "markdown",
   "metadata": {},
   "source": [
    "# Read Data"
   ]
  },
  {
   "cell_type": "code",
   "execution_count": 2,
   "metadata": {},
   "outputs": [],
   "source": [
    "path_i = os.path.join(\n",
    "    os.environ[\"PROJ_irox\"],\n",
    "    \"data/ml_irox_data\",\n",
    "    \"oqmd_data.csv\")\n",
    "\n",
    "df_oqmd_data = pd.read_csv(path_i)\n",
    "\n",
    "df_oqmd_data.set_index(\"id_unique\", inplace=True)"
   ]
  },
  {
   "cell_type": "code",
   "execution_count": 3,
   "metadata": {},
   "outputs": [],
   "source": [
    "path_i = os.path.join(\n",
    "    os.environ[\"PROJ_irox\"],\n",
    "    \"data/ml_irox_data\",\n",
    "    \"unique_ids.csv\")\n",
    "df_id = pd.read_csv(path_i)"
   ]
  },
  {
   "cell_type": "code",
   "execution_count": 4,
   "metadata": {},
   "outputs": [],
   "source": [
    "path_i = os.path.join(\n",
    "    os.environ[\"PROJ_irox\"],\n",
    "    \"chris_prototypes_structures\",\n",
    "    \"data_structures.pickle\")\n",
    "with open(path_i, \"rb\") as fle:\n",
    "    df_structures = pickle.load(fle)"
   ]
  },
  {
   "cell_type": "markdown",
   "metadata": {},
   "source": [
    "Only processing OQMD entries"
   ]
  },
  {
   "cell_type": "code",
   "execution_count": 5,
   "metadata": {},
   "outputs": [],
   "source": [
    "df_structures = df_structures.loc[df_id[df_id[\"source\"] == \"oqmd\"][\"unique_ids\"]]"
   ]
  },
  {
   "cell_type": "markdown",
   "metadata": {},
   "source": [
    "# Merging OQMD data with Structures Data"
   ]
  },
  {
   "cell_type": "code",
   "execution_count": 6,
   "metadata": {},
   "outputs": [],
   "source": [
    "df_merged = df_structures.merge(\n",
    "    df_oqmd_data.drop([\"id_old\", \"stoich\"], axis=1),  # Drop duplicate columns\n",
    "    how='left',\n",
    "    left_index=True, right_index=True,\n",
    "    indicator=True)\n",
    "\n",
    "# df_merged"
   ]
  },
  {
   "cell_type": "raw",
   "metadata": {},
   "source": [
    "Check that the `_merge` column says `both`, i.e. all rows exist in both dfs"
   ]
  },
  {
   "cell_type": "code",
   "execution_count": 7,
   "metadata": {},
   "outputs": [
    {
     "name": "stdout",
     "output_type": "stream",
     "text": [
      "All good!\n"
     ]
    }
   ],
   "source": [
    "all_good = False\n",
    "\n",
    "merged_col_unique = list(set(df_merged[\"_merge\"].tolist()))\n",
    "if len(merged_col_unique) == 1:\n",
    "    if merged_col_unique[0] == \"both\":\n",
    "        print(\"All good!\")\n",
    "        all_good = True\n",
    "    else:\n",
    "        print(\"Not good!! 00\")\n",
    "else:\n",
    "    print(\"Not good!! 11\")\n",
    "    \n",
    "if all_good:\n",
    "    df_merged.drop([\"_merge\"], axis=1, inplace=True)"
   ]
  },
  {
   "cell_type": "markdown",
   "metadata": {},
   "source": [
    "# Save Data"
   ]
  },
  {
   "cell_type": "code",
   "execution_count": 8,
   "metadata": {},
   "outputs": [],
   "source": [
    "import pickle\n",
    "\n",
    "with open(\"df_oqmd_data.pickle\", \"wb\") as fle:\n",
    "    pickle.dump(df_merged, fle)"
   ]
  }
 ],
 "metadata": {
  "kernelspec": {
   "display_name": "Python [conda env:py36] *",
   "language": "python",
   "name": "conda-env-py36-py"
  },
  "language_info": {
   "codemirror_mode": {
    "name": "ipython",
    "version": 3
   },
   "file_extension": ".py",
   "mimetype": "text/x-python",
   "name": "python",
   "nbconvert_exporter": "python",
   "pygments_lexer": "ipython3",
   "version": "3.6.8"
  }
 },
 "nbformat": 4,
 "nbformat_minor": 2
}
