{
 "cells": [
  {
   "cell_type": "markdown",
   "metadata": {},
   "source": [
    "# Import Modules"
   ]
  },
  {
   "cell_type": "code",
   "execution_count": 1,
   "metadata": {},
   "outputs": [],
   "source": [
    "# Setting Custom Paths ********************************************************\n",
    "# *****************************************************************************\n",
    "import os\n",
    "import sys\n",
    "\n",
    "sys.path.insert(0, os.path.join(\n",
    "    os.environ[\"PROJ_irox\"],\n",
    "    \"data\"))\n",
    "\n",
    "# Python Modules **************************************************************\n",
    "# *****************************************************************************\n",
    "import copy\n",
    "import csv\n",
    "\n",
    "import plotly.plotly as py\n",
    "# import plotly.graph_objs as go\n",
    "import plotly.io as pio\n",
    "\n",
    "import pandas as pd\n",
    "\n",
    "# My Modules ******************************************************************\n",
    "# *****************************************************************************\n",
    "\n",
    "# Local Imports ***************************************************************\n",
    "# *****************************************************************************\n",
    "# from parse_plot_data import get_plot_data\n",
    "from methods import process_data_for_plot, get_layout\n",
    "\n",
    "from proj_data_irox import (\n",
    "    proj_dir_name,\n",
    "    )"
   ]
  },
  {
   "cell_type": "markdown",
   "metadata": {},
   "source": [
    "# Script Inputs"
   ]
  },
  {
   "cell_type": "code",
   "execution_count": 2,
   "metadata": {},
   "outputs": [],
   "source": [
    "save_plot = True\n",
    "\n",
    "\n",
    "compenv_var = os.environ.get(\"COMPENV\", None)\n",
    "if os.environ.get(\"COMPENV\", None) is not None:\n",
    "    if compenv_var == \"wsl\":\n",
    "        orca_avail = False\n",
    "    else:\n",
    "        orca_avail = True\n",
    "else:\n",
    "    orca_avail = True"
   ]
  },
  {
   "cell_type": "markdown",
   "metadata": {},
   "source": [
    "# Reading Data"
   ]
  },
  {
   "cell_type": "markdown",
   "metadata": {},
   "source": [
    "## 1st Generation"
   ]
  },
  {
   "cell_type": "code",
   "execution_count": 3,
   "metadata": {},
   "outputs": [],
   "source": [
    "file_path_i = os.path.join(\n",
    "    os.environ[\"PROJ_irox\"],\n",
    "    \"workflow/ml_modelling/ml_convergence_plots\",\n",
    "    \"chris_data_for_figures/iro2/new_190329\",\n",
    "    \"OQMD_IrO2___published_IrO2.txt\",\n",
    "    )\n",
    "\n",
    "with open(file_path_i, \"r\") as fle:\n",
    "    data = csv.reader(fle)\n",
    "    data_list = []\n",
    "    for i in data:\n",
    "        i = i[0].split(\"\\t\")\n",
    "        row_i = {\n",
    "            \"id\": int(i[0]),\n",
    "            \"form_e_0\": float(i[1]),\n",
    "            \"uncert_0\": float(i[2]),\n",
    "            }\n",
    "\n",
    "        data_list.append(row_i)\n",
    "\n",
    "df1 = pd.DataFrame(data_list)\n",
    "df1[\"ind\"] = [i for i in range(len(df1))]"
   ]
  },
  {
   "cell_type": "markdown",
   "metadata": {},
   "source": [
    "## 2nd Generation"
   ]
  },
  {
   "cell_type": "code",
   "execution_count": 4,
   "metadata": {},
   "outputs": [],
   "source": [
    "file_path_i = os.path.join(\n",
    "    os.environ[\"PROJ_irox\"],\n",
    "    \"workflow/ml_modelling/ml_convergence_plots\",\n",
    "    \"chris_data_for_figures/iro2/new_190329\",\n",
    "    \"IrO2_after_active_learning_DFT.txt\",\n",
    "    )\n",
    "\n",
    "with open(file_path_i, \"r\") as fle:\n",
    "    data = csv.reader(fle)\n",
    "    data_list = []\n",
    "    for i in data:\n",
    "        i = i[0].split(\"\\t\")\n",
    "        row_i = {\n",
    "            \"id\": int(i[0]),\n",
    "            \"form_e_0\": float(i[1]),\n",
    "            \"uncert_0\": float(i[2]),\n",
    "            }\n",
    "\n",
    "        data_list.append(row_i)\n",
    "\n",
    "df2 = pd.DataFrame(data_list)\n",
    "df2[\"ind\"] = [i for i in range(len(df1))]"
   ]
  },
  {
   "cell_type": "markdown",
   "metadata": {},
   "source": [
    "# Processing Data"
   ]
  },
  {
   "cell_type": "code",
   "execution_count": 5,
   "metadata": {},
   "outputs": [],
   "source": [
    "# list_0 = df1[\"form_e_0\"].tolist()\n",
    "# for i_ind, i in enumerate(list_0):\n",
    "#     tmp = 42\n",
    "\n",
    "#     print(i - list_0[i_ind - 1])"
   ]
  },
  {
   "cell_type": "code",
   "execution_count": 6,
   "metadata": {},
   "outputs": [],
   "source": [
    "# Generation to be the baseline for x-axis ordering\n",
    "# This gen will have a continious color scale gradient\n",
    "gen_ordered = \"round_1\"\n",
    "\n",
    "if gen_ordered == \"round_2\":\n",
    "    gen_other = \"round_1\"\n",
    "elif gen_ordered == \"round_1\":\n",
    "    gen_other = \"round_2\"\n",
    "\n",
    "new_col = list(df1[\"ind\"].astype(float) / float(df1[\"ind\"].max()))\n",
    "\n",
    "df1[\"color_order\"] = new_col\n",
    "\n",
    "\n",
    "# df[\"iro3\"]\n",
    "\n",
    "id_color_grad_mapping = dict(zip(\n",
    "    df1[\"id\"],\n",
    "    df1[\"color_order\"],\n",
    "    ))\n",
    "\n",
    "\n",
    "def struct_mapping(row_i):\n",
    "    \"\"\"\n",
    "    \"\"\"\n",
    "    order_i = id_color_grad_mapping[row_i[\"id\"]]\n",
    "\n",
    "    return(order_i)\n",
    "\n",
    "df2[\"color_order\"] = df2.apply(\n",
    "    struct_mapping,\n",
    "    axis=1,\n",
    "    )\n",
    "\n",
    "# .sort_index(axis=1, inplace=True)"
   ]
  },
  {
   "cell_type": "code",
   "execution_count": 7,
   "metadata": {},
   "outputs": [],
   "source": [
    "data_final = []\n",
    "data_i = process_data_for_plot(\n",
    "    df1,\n",
    "    color0='rgba(30,40,50,0.5)',\n",
    "    color1='rgba(30,40,50,0.5)',\n",
    "    name='1st_gen',\n",
    "    marker_color_mode='array',\n",
    "    energy_key='form_e_0',\n",
    "    marker_color_key='color_order',\n",
    "    uncertainty_key='uncert_0',\n",
    "    text_key='id',\n",
    "    process_text_for_hover=False,\n",
    "    explicit_error_bars=True,\n",
    "    filled_error_traces=False,\n",
    "    )\n",
    "data_final += data_i\n",
    "\n",
    "\n",
    "\n",
    "data_final2 = []\n",
    "data_i = process_data_for_plot(\n",
    "    df2,\n",
    "    color0='rgba(90,0,130,0.5)',\n",
    "    color1='rgba(90,0,130,0.5)',\n",
    "    name='2nd_gen',\n",
    "    marker_color_mode='array',\n",
    "    energy_key='form_e_0',\n",
    "    marker_color_key='color_order',\n",
    "    uncertainty_key='uncert_0',\n",
    "    text_key='id',\n",
    "    process_text_for_hover=False,\n",
    "    explicit_error_bars=True,\n",
    "    filled_error_traces=False,\n",
    "    )\n",
    "data_final2 += data_i\n",
    "\n",
    "\n",
    "# data_final += data_i"
   ]
  },
  {
   "cell_type": "markdown",
   "metadata": {
    "toc-hr-collapsed": false
   },
   "source": [
    "# Plotting"
   ]
  },
  {
   "cell_type": "code",
   "execution_count": 8,
   "metadata": {},
   "outputs": [],
   "source": [
    "if save_plot:\n",
    "    save_dir = proj_dir_name\n",
    "else:\n",
    "    save_dir = \"__temp__\"\n",
    "\n",
    "if not os.path.exists('images'):\n",
    "    os.mkdir('images')\n",
    "\n",
    "# layout = get_layout()\n",
    "# layout[\"showlegend\"] = False\n",
    "# layout[\"xaxis\"][\"range\"] = [0, 700]\n",
    "# layout[\"yaxis\"][\"range\"] = [-1.5, 2.5]\n",
    "\n",
    "# layout[\"width\"] = 1.05 * 18.7 * 37.795275591\n",
    "# layout[\"height\"] = 0.4 * 18.7 * 37.795275591"
   ]
  },
  {
   "cell_type": "markdown",
   "metadata": {
    "toc-hr-collapsed": false
   },
   "source": [
    "## Configure Plot Layout"
   ]
  },
  {
   "cell_type": "code",
   "execution_count": 9,
   "metadata": {},
   "outputs": [],
   "source": [
    "layout = get_layout()\n",
    "\n",
    "layout[\"yaxis\"][\"range\"] = [-1.5, 2.5]\n",
    "layout[\"yaxis\"][\"dtick\"] = 0.5\n",
    "layout[\"yaxis\"][\"title\"] = \"\"\n",
    "\n",
    "layout[\"xaxis\"][\"title\"] = \"\"\n",
    "layout[\"xaxis\"][\"range\"] = [0, 700]\n",
    "layout[\"xaxis\"][\"showticklabels\"] = False\n",
    "\n",
    "layout[\"width\"] = 1.05 * 18.7 * 37.795275591\n",
    "layout[\"height\"] = 0.4 * 18.7 * 37.795275591\n",
    "layout[\"showlegend\"] = False\n",
    "\n",
    "layout[\"font\"] = dict(\n",
    "    family='Arial',\n",
    "    size=10,\n",
    "    color='black',\n",
    "    )\n",
    "\n",
    "# layout[\"shapes\"] = [\n",
    "#     {\n",
    "#         \"type\": \"rect\",\n",
    "#         \"xref\": \"x\",\n",
    "#         \"yref\": \"y\",\n",
    "#         \"x0\": zoom_in_ranges[\"x\"][0],\n",
    "#         \"y0\": zoom_in_ranges[\"y\"][0],\n",
    "#         \"x1\": zoom_in_ranges[\"x\"][1],\n",
    "#         \"y1\": zoom_in_ranges[\"y\"][1],\n",
    "#         \"line\": {\n",
    "#             \"width\": 0.25,\n",
    "#             \"color\": \"black\",\n",
    "#             },\n",
    "#         },\n",
    "#     ]"
   ]
  },
  {
   "cell_type": "markdown",
   "metadata": {},
   "source": [
    "## Generation 0"
   ]
  },
  {
   "cell_type": "code",
   "execution_count": 10,
   "metadata": {},
   "outputs": [
    {
     "name": "stderr",
     "output_type": "stream",
     "text": [
      "/home/raul_surface/anaconda2/envs/test_bare/lib/python3.6/site-packages/IPython/core/display.py:689: UserWarning:\n",
      "\n",
      "Consider using IPython.display.IFrame instead\n",
      "\n"
     ]
    },
    {
     "data": {
      "text/html": [
       "<iframe id=\"igraph\" scrolling=\"no\" style=\"border:none;\" seamless=\"seamless\" src=\"https://plot.ly/~flores12/790.embed\" height=\"282.70866142068px\" width=\"742.1102362292851px\"></iframe>"
      ],
      "text/plain": [
       "<chart_studio.tools.PlotlyDisplay object>"
      ]
     },
     "execution_count": 10,
     "metadata": {},
     "output_type": "execute_result"
    }
   ],
   "source": [
    "fig = dict(data=data_final, layout=layout)\n",
    "\n",
    "if orca_avail:\n",
    "    pio.write_image(fig, 'images/iro2_ml_convergence_gen_0.svg')\n",
    "\n",
    "py.iplot(fig,\n",
    "    filename=os.path.join(\n",
    "        save_dir,\n",
    "        \"ml_convergence\",\n",
    "        \"iro2\",\n",
    "        \"iro2_ml_convergence_gen_0\",\n",
    "        ),\n",
    "    )"
   ]
  },
  {
   "cell_type": "markdown",
   "metadata": {},
   "source": [
    "## Generation 1"
   ]
  },
  {
   "cell_type": "code",
   "execution_count": 11,
   "metadata": {},
   "outputs": [],
   "source": [
    "layout_i = copy.deepcopy(layout)\n",
    "\n",
    "layout_i[\"xaxis\"][\"showticklabels\"] = True"
   ]
  },
  {
   "cell_type": "code",
   "execution_count": 12,
   "metadata": {},
   "outputs": [
    {
     "data": {
      "text/html": [
       "<iframe id=\"igraph\" scrolling=\"no\" style=\"border:none;\" seamless=\"seamless\" src=\"https://plot.ly/~flores12/792.embed\" height=\"282.70866142068px\" width=\"742.1102362292851px\"></iframe>"
      ],
      "text/plain": [
       "<chart_studio.tools.PlotlyDisplay object>"
      ]
     },
     "execution_count": 12,
     "metadata": {},
     "output_type": "execute_result"
    }
   ],
   "source": [
    "fig = dict(data=data_final2, layout=layout_i)\n",
    "\n",
    "if orca_avail:\n",
    "    pio.write_image(fig, 'images/iro2_ml_convergence_gen_1.svg')\n",
    "\n",
    "py.iplot(fig,\n",
    "    filename=os.path.join(\n",
    "        save_dir,\n",
    "        \"ml_convergence\",\n",
    "        \"iro2\",\n",
    "        \"iro2_ml_convergence_gen_1\",\n",
    "        ),\n",
    "    )"
   ]
  },
  {
   "cell_type": "markdown",
   "metadata": {},
   "source": [
    "# Zoomed in plots"
   ]
  },
  {
   "cell_type": "code",
   "execution_count": 13,
   "metadata": {},
   "outputs": [],
   "source": [
    "marker_size = 10"
   ]
  },
  {
   "cell_type": "code",
   "execution_count": 14,
   "metadata": {},
   "outputs": [],
   "source": [
    "layout[\"xaxis\"][\"range\"] = [0, 20]\n",
    "layout[\"yaxis\"][\"range\"] = [-0.8, -0.3]\n",
    "\n",
    "layout[\"yaxis\"][\"dtick\"] = 0.2\n",
    "layout[\"width\"] = (2. * 18.7 * 37.795275591) / 4.5\n",
    "layout[\"height\"] = (1. * 18.7 * 37.795275591) / 4.0\n",
    "\n",
    "# Removing shapes\n",
    "# layout.pop(\"shapes\")"
   ]
  },
  {
   "cell_type": "code",
   "execution_count": 15,
   "metadata": {},
   "outputs": [],
   "source": [
    "layout[\"yaxis\"][\"range\"] = [-0.8102, -0.5747]\n",
    "\n",
    "layout[\"yaxis\"][\"showticklabels\"] = False"
   ]
  },
  {
   "cell_type": "code",
   "execution_count": 16,
   "metadata": {},
   "outputs": [
    {
     "data": {
      "text/html": [
       "<iframe id=\"igraph\" scrolling=\"no\" style=\"border:none;\" seamless=\"seamless\" src=\"https://plot.ly/~flores12/794.embed\" height=\"176.692913387925px\" width=\"314.12073491186663px\"></iframe>"
      ],
      "text/plain": [
       "<chart_studio.tools.PlotlyDisplay object>"
      ]
     },
     "execution_count": 16,
     "metadata": {},
     "output_type": "execute_result"
    }
   ],
   "source": [
    "for i in data_final:\n",
    "    i_dict = i.to_plotly_json()\n",
    "    if \"name\" in i_dict.keys():\n",
    "        if \"energies\" in i_dict[\"name\"]:\n",
    "            trace_j = i\n",
    "            trace_j[\"marker\"][\"size\"] = marker_size\n",
    "\n",
    "fig = dict(data=data_final, layout=layout)\n",
    "\n",
    "if orca_avail:\n",
    "    pio.write_image(fig, 'images/iro2_ml_convergence_gen_0__zoomed_in.svg')\n",
    "py.iplot(fig,\n",
    "    filename=os.path.join(\n",
    "        save_dir,\n",
    "        \"ml_convergence\",\n",
    "        \"iro2\",\n",
    "        \"iro2_ml_convergence_gen_0__zoomed_in\",\n",
    "        ),\n",
    "    )"
   ]
  },
  {
   "cell_type": "code",
   "execution_count": 17,
   "metadata": {},
   "outputs": [],
   "source": [
    "layout[\"yaxis\"][\"range\"] = [-0.9, -0.5747]"
   ]
  },
  {
   "cell_type": "code",
   "execution_count": 18,
   "metadata": {},
   "outputs": [
    {
     "data": {
      "text/html": [
       "<iframe id=\"igraph\" scrolling=\"no\" style=\"border:none;\" seamless=\"seamless\" src=\"https://plot.ly/~flores12/796.embed\" height=\"176.692913387925px\" width=\"314.12073491186663px\"></iframe>"
      ],
      "text/plain": [
       "<chart_studio.tools.PlotlyDisplay object>"
      ]
     },
     "execution_count": 18,
     "metadata": {},
     "output_type": "execute_result"
    }
   ],
   "source": [
    "for i in data_final2:\n",
    "    i_dict = i.to_plotly_json()\n",
    "    if \"name\" in i_dict.keys():\n",
    "        if \"energies\" in i_dict[\"name\"]:\n",
    "            trace_j = i\n",
    "            trace_j[\"marker\"][\"size\"] = marker_size\n",
    "\n",
    "fig = dict(data=data_final2, layout=layout)\n",
    "\n",
    "if orca_avail:\n",
    "    pio.write_image(fig, 'images/iro2_ml_convergence_gen_1__zoomed_in.svg')\n",
    "py.iplot(fig,\n",
    "    filename=os.path.join(\n",
    "        save_dir,\n",
    "        \"ml_convergence\",\n",
    "        \"iro2\",\n",
    "        \"iro2_ml_convergence_gen_1__zoomed_in\",\n",
    "        ),\n",
    "    )"
   ]
  },
  {
   "cell_type": "markdown",
   "metadata": {},
   "source": [
    "# end_of_file"
   ]
  }
 ],
 "metadata": {
  "kernelspec": {
   "display_name": "Python [conda env:py36] *",
   "language": "python",
   "name": "conda-env-py36-py"
  },
  "language_info": {
   "codemirror_mode": {
    "name": "ipython",
    "version": 3
   },
   "file_extension": ".py",
   "mimetype": "text/x-python",
   "name": "python",
   "nbconvert_exporter": "python",
   "pygments_lexer": "ipython3",
   "version": "3.6.8"
  }
 },
 "nbformat": 4,
 "nbformat_minor": 2
}
