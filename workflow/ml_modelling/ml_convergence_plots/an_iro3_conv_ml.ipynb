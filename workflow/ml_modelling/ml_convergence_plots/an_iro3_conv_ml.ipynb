{
 "cells": [
  {
   "cell_type": "markdown",
   "metadata": {},
   "source": [
    "# ML Alogorithm Convergence Plots\n",
    "___\n",
    "\n",
    "I'm making some code to plot and format the convergence data from Chris"
   ]
  },
  {
   "cell_type": "markdown",
   "metadata": {},
   "source": [
    "# Import Modules"
   ]
  },
  {
   "cell_type": "code",
   "execution_count": 1,
   "metadata": {},
   "outputs": [],
   "source": [
    "%%capture\n",
    "%load_ext autoreload\n",
    "%autoreload 2"
   ]
  },
  {
   "cell_type": "code",
   "execution_count": 2,
   "metadata": {},
   "outputs": [],
   "source": [
    "# Setting Custom Paths ********************************************************\n",
    "# *****************************************************************************\n",
    "import os\n",
    "import sys\n",
    "\n",
    "sys.path.insert(0, os.path.join(\n",
    "    os.environ[\"PROJ_irox\"],\n",
    "    \"data\"))\n",
    "\n",
    "# Python Modules **************************************************************\n",
    "# *****************************************************************************\n",
    "import plotly.plotly as py\n",
    "import plotly.graph_objs as go\n",
    "import plotly.io as pio\n",
    "\n",
    "import pandas as pd\n",
    "\n",
    "# My Modules ******************************************************************\n",
    "# *****************************************************************************\n",
    "\n",
    "# Local Imports ***************************************************************\n",
    "# *****************************************************************************\n",
    "from parse_plot_data import get_plot_data\n",
    "from methods import process_data_for_plot, get_layout\n",
    "\n",
    "from proj_data_irox import (\n",
    "    proj_dir_name,\n",
    "    )"
   ]
  },
  {
   "cell_type": "markdown",
   "metadata": {},
   "source": [
    "# Script Inputs"
   ]
  },
  {
   "cell_type": "code",
   "execution_count": 3,
   "metadata": {},
   "outputs": [],
   "source": [
    "save_plot = True\n",
    "\n",
    "zoom_in_ranges = {\n",
    "    \"x\": [+00.0, +20.0],\n",
    "    \"y\": [-00.8, -00.3],\n",
    "    }\n",
    "\n",
    "show_error_bars = True\n",
    "filled_error_traces = False"
   ]
  },
  {
   "cell_type": "markdown",
   "metadata": {
    "toc-hr-collapsed": true
   },
   "source": [
    "# Load and Process Data"
   ]
  },
  {
   "cell_type": "markdown",
   "metadata": {},
   "source": [
    "## Load Data"
   ]
  },
  {
   "cell_type": "code",
   "execution_count": 4,
   "metadata": {},
   "outputs": [],
   "source": [
    "df = get_plot_data()"
   ]
  },
  {
   "cell_type": "markdown",
   "metadata": {
    "toc-hr-collapsed": true
   },
   "source": [
    "# Processing Data"
   ]
  },
  {
   "cell_type": "markdown",
   "metadata": {},
   "source": [
    "## Reorganizing last gen. data to match 1st gen structure ordering"
   ]
  },
  {
   "cell_type": "code",
   "execution_count": 5,
   "metadata": {},
   "outputs": [],
   "source": [
    "# Generation to be the baseline for x-axis ordering\n",
    "# This gen will have a continious color scale gradient\n",
    "gen_ordered = \"round_1\"\n",
    "\n",
    "if gen_ordered == \"round_2\":\n",
    "    gen_other = \"round_1\"\n",
    "elif gen_ordered == \"round_1\":\n",
    "    gen_other = \"round_2\"\n",
    "\n",
    "num_i = df[\"iro3\"][gen_ordered][\"ind\"].astype(float)\n",
    "den_i = float(df[\"iro3\"][gen_ordered][\"ind\"].max())\n",
    "new_col = list(num_i / den_i)\n",
    "\n",
    "df[\"iro3\"][gen_ordered, \"ordering_color_grad\"] = new_col\n",
    "df[\"iro3\"].sort_index(axis=1, inplace=True)\n",
    "\n",
    "\n",
    "\n",
    "id_color_grad_mapping = dict(zip(\n",
    "    df[\"iro3\"][gen_ordered][\"id\"],\n",
    "    df[\"iro3\"][gen_ordered][\"ordering_color_grad\"],\n",
    "    ))\n",
    "\n",
    "\n",
    "def struct_mapping(row_i):\n",
    "    \"\"\"\n",
    "    \"\"\"\n",
    "    order_i = id_color_grad_mapping[row_i[\"id\"]]\n",
    "\n",
    "    return(order_i)\n",
    "\n",
    "df[\"iro3\"][gen_other, \"ordering_color_grad\"] = df[\"iro3\"][gen_other].apply(\n",
    "    struct_mapping,\n",
    "    axis=1,\n",
    "    )\n",
    "\n",
    "df[\"iro3\"].sort_index(axis=1, inplace=True)"
   ]
  },
  {
   "cell_type": "markdown",
   "metadata": {},
   "source": [
    "## Processing data into plotting traces"
   ]
  },
  {
   "cell_type": "code",
   "execution_count": 6,
   "metadata": {},
   "outputs": [],
   "source": [
    "color_i = \"rgba(152,152,152,0.9)\"\n",
    "\n",
    "data_round_2 = process_data_for_plot(\n",
    "    df[\"iro3\"][\"round_2\"],\n",
    "    color0=color_i,\n",
    "    color1=color_i,\n",
    "    name=\"round2\",\n",
    "    marker_color_mode=\"array\",  # single, array\n",
    "    energy_key=\"form_e_0\",\n",
    "    marker_color_key=\"ordering_color_grad\",\n",
    "    uncertainty_key=\"uncert_0\",\n",
    "    process_text_for_hover=True,\n",
    "    explicit_error_bars=show_error_bars,\n",
    "    filled_error_traces=filled_error_traces,\n",
    "    )\n",
    "\n",
    "data_round_1 = process_data_for_plot(\n",
    "    df[\"iro3\"][\"round_1\"],\n",
    "    color0=color_i,\n",
    "    color1=color_i,\n",
    "    name=\"round1\",\n",
    "    marker_color_mode=\"array\",  # single, array\n",
    "    energy_key=\"form_e_0\",\n",
    "    marker_color_key=\"ordering_color_grad\",\n",
    "    uncertainty_key=\"uncert_0\",\n",
    "    process_text_for_hover=True,\n",
    "    explicit_error_bars=show_error_bars,\n",
    "    filled_error_traces=filled_error_traces,\n",
    "    )"
   ]
  },
  {
   "cell_type": "markdown",
   "metadata": {
    "toc-hr-collapsed": true
   },
   "source": [
    "# Plotting Figures"
   ]
  },
  {
   "cell_type": "markdown",
   "metadata": {},
   "source": [
    "## Plot Layout Config"
   ]
  },
  {
   "cell_type": "code",
   "execution_count": 7,
   "metadata": {},
   "outputs": [],
   "source": [
    "layout = get_layout()\n",
    "\n",
    "layout[\"yaxis\"][\"range\"] = [-1., 2.]\n",
    "layout[\"yaxis\"][\"dtick\"] = 0.5\n",
    "layout[\"yaxis\"][\"title\"] = \"\"\n",
    "\n",
    "layout[\"xaxis\"][\"title\"] = \"\"\n",
    "layout[\"xaxis\"][\"range\"] = [0, 275]\n",
    "layout[\"xaxis\"][\"showticklabels\"] = False\n",
    "\n",
    "layout[\"width\"] = 1.05 * 18.7 * 37.795275591\n",
    "layout[\"height\"] = 0.4 * 18.7 * 37.795275591\n",
    "layout[\"showlegend\"] = False\n",
    "\n",
    "\n",
    "layout[\"shapes\"] = [\n",
    "    {\n",
    "        \"type\": \"rect\",\n",
    "        \"xref\": \"x\",\n",
    "        \"yref\": \"y\",\n",
    "        \"x0\": zoom_in_ranges[\"x\"][0],\n",
    "        \"y0\": zoom_in_ranges[\"y\"][0],\n",
    "        \"x1\": zoom_in_ranges[\"x\"][1],\n",
    "        \"y1\": zoom_in_ranges[\"y\"][1],\n",
    "        \"line\": {\n",
    "            \"width\": 0.25,\n",
    "            \"color\": \"black\",\n",
    "            },\n",
    "        },\n",
    "    ]"
   ]
  },
  {
   "cell_type": "code",
   "execution_count": 8,
   "metadata": {},
   "outputs": [],
   "source": [
    "if save_plot:\n",
    "    save_dir = proj_dir_name\n",
    "else:\n",
    "    save_dir = \"__temp__\""
   ]
  },
  {
   "cell_type": "markdown",
   "metadata": {},
   "source": [
    "## Generation 0"
   ]
  },
  {
   "cell_type": "code",
   "execution_count": 9,
   "metadata": {},
   "outputs": [
    {
     "name": "stderr",
     "output_type": "stream",
     "text": [
      "/home/raulf2012/anaconda2/envs/py36/lib/python3.6/site-packages/IPython/core/display.py:689: UserWarning:\n",
      "\n",
      "Consider using IPython.display.IFrame instead\n",
      "\n"
     ]
    },
    {
     "data": {
      "text/html": [
       "<iframe id=\"igraph\" scrolling=\"no\" style=\"border:none;\" seamless=\"seamless\" src=\"https://plot.ly/~flores12/781.embed\" height=\"282.70866142068px\" width=\"742.1102362292851px\"></iframe>"
      ],
      "text/plain": [
       "<plotly.tools.PlotlyDisplay object>"
      ]
     },
     "execution_count": 9,
     "metadata": {},
     "output_type": "execute_result"
    }
   ],
   "source": [
    "fig = dict(data=data_round_1, layout=layout)\n",
    "pio.write_image(fig, 'images/iro3_ml_convergence_gen_0.svg')\n",
    "py.iplot(fig,\n",
    "    filename=os.path.join(\n",
    "        save_dir,\n",
    "        \"ml_convergence\",\n",
    "        \"iro3\",\n",
    "        \"iro3_ml_convergence_gen_0\",\n",
    "        ),\n",
    "    )"
   ]
  },
  {
   "cell_type": "markdown",
   "metadata": {},
   "source": [
    "## Generation 1"
   ]
  },
  {
   "cell_type": "code",
   "execution_count": 10,
   "metadata": {},
   "outputs": [
    {
     "data": {
      "text/html": [
       "<iframe id=\"igraph\" scrolling=\"no\" style=\"border:none;\" seamless=\"seamless\" src=\"https://plot.ly/~flores12/783.embed\" height=\"282.70866142068px\" width=\"742.1102362292851px\"></iframe>"
      ],
      "text/plain": [
       "<plotly.tools.PlotlyDisplay object>"
      ]
     },
     "execution_count": 10,
     "metadata": {},
     "output_type": "execute_result"
    }
   ],
   "source": [
    "fig = dict(data=data_round_2, layout=layout)\n",
    "pio.write_image(fig, 'images/iro3_ml_convergence_gen_1.svg')\n",
    "py.iplot(fig,\n",
    "    filename=os.path.join(\n",
    "        save_dir,\n",
    "        \"ml_convergence\",\n",
    "        \"iro3\",\n",
    "        \"iro3_ml_convergence_gen_1\",\n",
    "        ),\n",
    "    )"
   ]
  },
  {
   "cell_type": "markdown",
   "metadata": {},
   "source": [
    "# Zoomed in Plots"
   ]
  },
  {
   "cell_type": "code",
   "execution_count": 11,
   "metadata": {},
   "outputs": [],
   "source": [
    "marker_size = 10"
   ]
  },
  {
   "cell_type": "code",
   "execution_count": 12,
   "metadata": {},
   "outputs": [
    {
     "data": {
      "text/plain": [
       "[{'type': 'rect',\n",
       "  'xref': 'x',\n",
       "  'yref': 'y',\n",
       "  'x0': 0.0,\n",
       "  'y0': -0.8,\n",
       "  'x1': 20.0,\n",
       "  'y1': -0.3,\n",
       "  'line': {'width': 0.25, 'color': 'black'}}]"
      ]
     },
     "execution_count": 12,
     "metadata": {},
     "output_type": "execute_result"
    }
   ],
   "source": [
    "layout[\"xaxis\"][\"range\"] = [0, 20]\n",
    "layout[\"yaxis\"][\"range\"] = [-0.8, -0.3]\n",
    "\n",
    "layout[\"yaxis\"][\"dtick\"] = 0.2\n",
    "layout[\"width\"] = (2. * 18.7 * 37.795275591) / 4.5\n",
    "layout[\"height\"] = (1. * 18.7 * 37.795275591) / 4.0\n",
    "\n",
    "# Removing shapes\n",
    "layout.pop(\"shapes\")"
   ]
  },
  {
   "cell_type": "code",
   "execution_count": 13,
   "metadata": {},
   "outputs": [
    {
     "data": {
      "text/html": [
       "<iframe id=\"igraph\" scrolling=\"no\" style=\"border:none;\" seamless=\"seamless\" src=\"https://plot.ly/~flores12/785.embed\" height=\"176.692913387925px\" width=\"314.12073491186663px\"></iframe>"
      ],
      "text/plain": [
       "<plotly.tools.PlotlyDisplay object>"
      ]
     },
     "execution_count": 13,
     "metadata": {},
     "output_type": "execute_result"
    }
   ],
   "source": [
    "for i in data_round_1:\n",
    "    i_dict = i.to_plotly_json()\n",
    "    if \"name\" in i_dict.keys():\n",
    "        if \"energies\" in i_dict[\"name\"]:\n",
    "            trace_j = i\n",
    "            trace_j[\"marker\"][\"size\"] = marker_size\n",
    "\n",
    "fig = dict(data=data_round_1, layout=layout)\n",
    "pio.write_image(fig, 'images/iro3_ml_convergence_gen_0__zoomed_in.svg')\n",
    "py.iplot(fig,\n",
    "    filename=os.path.join(\n",
    "        save_dir,\n",
    "        \"ml_convergence\",\n",
    "        \"iro3\",\n",
    "        \"iro3_ml_convergence_gen_0__zoomed_in\",\n",
    "        ),\n",
    "    )"
   ]
  },
  {
   "cell_type": "code",
   "execution_count": 14,
   "metadata": {},
   "outputs": [
    {
     "data": {
      "text/html": [
       "<iframe id=\"igraph\" scrolling=\"no\" style=\"border:none;\" seamless=\"seamless\" src=\"https://plot.ly/~flores12/787.embed\" height=\"176.692913387925px\" width=\"314.12073491186663px\"></iframe>"
      ],
      "text/plain": [
       "<plotly.tools.PlotlyDisplay object>"
      ]
     },
     "execution_count": 14,
     "metadata": {},
     "output_type": "execute_result"
    }
   ],
   "source": [
    "for i in data_round_2:\n",
    "    i_dict = i.to_plotly_json()\n",
    "    if \"name\" in i_dict.keys():\n",
    "        if \"energies\" in i_dict[\"name\"]:\n",
    "            trace_j = i\n",
    "            trace_j[\"marker\"][\"size\"] = marker_size\n",
    "\n",
    "fig = dict(data=data_round_2, layout=layout)\n",
    "pio.write_image(fig, 'images/iro3_ml_convergence_gen_1__zoomed_in.svg')\n",
    "py.iplot(fig,\n",
    "    filename=os.path.join(\n",
    "        save_dir,\n",
    "        \"ml_convergence\",\n",
    "        \"iro3\",\n",
    "        \"iro3_ml_convergence_gen_1__zoomed_in\",\n",
    "        ),\n",
    "    )"
   ]
  },
  {
   "cell_type": "raw",
   "metadata": {},
   "source": [
    "\n",
    "\n",
    "\n",
    "\n",
    "\n",
    "\n"
   ]
  },
  {
   "cell_type": "markdown",
   "metadata": {},
   "source": [
    "# end_of_file"
   ]
  },
  {
   "cell_type": "code",
   "execution_count": 15,
   "metadata": {},
   "outputs": [],
   "source": [
    "# struct_order_mapping = dict(zip(\n",
    "#     df[\"iro3\"][\"round_2\"][\"id\"].tolist(),\n",
    "#     df[\"iro3\"][\"round_2\"][\"ind\"].tolist(),\n",
    "#     ))\n",
    "\n",
    "# df_iro3_r1 = df[\"iro3\"][\"round_1\"]\n",
    "\n",
    "# def struct_mapping(row_i):\n",
    "#     \"\"\"\n",
    "#     \"\"\"\n",
    "#     order_i = struct_order_mapping[row_i[\"id\"]]\n",
    "\n",
    "#     return(order_i)\n",
    "\n",
    "# df_iro3_r1[\"ordering_column\"] = df_iro3_r1.apply(\n",
    "#     struct_mapping,\n",
    "#     axis=1,\n",
    "#     )\n",
    "\n",
    "# df_iro3_r1_sorted = df_iro3_r1.sort_values(\"ordering_column\")\n",
    "# df_iro3_r1_sorted[\"ind_old\"] = df_iro3_r1_sorted[\"ind\"]\n",
    "# df_iro3_r1_sorted[\"ind\"] = df_iro3_r1_sorted[\"ordering_column\"]\n",
    "\n",
    "# data_final = []\n",
    "\n",
    "# data1 = process_data_for_plot(\n",
    "#     # df[\"iro3\"][\"round_1\"],\n",
    "#     df_iro3_r1_sorted,\n",
    "#     color0=\"rgba(152,152,152,1.0)\",\n",
    "#     color1=\"rgba(152,152,152,1.0)\",\n",
    "#     # color1=\"blue\",\n",
    "#     name=\"round1\",\n",
    "#     explicit_error_bars=show_error_bars,\n",
    "#     )\n",
    "# data_final += data1\n",
    "\n",
    "# data2 = process_data_for_plot(\n",
    "#     df[\"iro3\"][\"round_2\"],\n",
    "#     # df_iro3_r2_sorted,\n",
    "#     color0=\"rgba(215,142,82,0.8)\",\n",
    "#     color1=\"rgba(215,142,82,0.8)\",\n",
    "#     # color1=\"pink\",\n",
    "#     name=\"round2\",\n",
    "#     explicit_error_bars=show_error_bars,\n",
    "#     )\n",
    "# data_final += data2\n",
    "\n",
    "# data_final = []\n",
    "\n",
    "# data1 = process_data_for_plot(\n",
    "#     df[\"iro2\"][\"round_1\"],\n",
    "#     color0=\"rgba(152,152,152,1.0)\",\n",
    "#     name=\"round1\",\n",
    "#     )\n",
    "# data_final += data1\n",
    "\n",
    "# data2 = process_data_for_plot(\n",
    "#     df[\"iro2\"][\"round_2\"],\n",
    "#     color0=\"rgba(215,142,82,0.8)\",\n",
    "#     name=\"round2\",\n",
    "#     )\n",
    "# data_final += data2\n",
    "\n",
    "# # data3 = process_data_for_plot(\n",
    "# #     df[\"round_3\"],\n",
    "# #     color0=\"rgba(233,20,140,0.1)\",\n",
    "# #     name=\"round3\",\n",
    "# #     )\n",
    "# # data_final += data3\n",
    "\n",
    "# data_final = []\n",
    "\n",
    "# data_round_2 = process_data_for_plot(\n",
    "#     df[\"iro3\"][\"round_2\"],\n",
    "#     color0=\"rgba(215,142,82,0.8)\",\n",
    "#     color1=\"rgba(215,142,82,0.8)\",\n",
    "\n",
    "#     name=\"round2\",\n",
    "#     marker_color_mode=\"array\",  # single, array\n",
    "\n",
    "#     energy_key=\"form_e_0\",\n",
    "#     marker_color_key=\"ordering_color_grad\",\n",
    "\n",
    "#     uncertainty_key=\"uncert_0\",\n",
    "#     )\n",
    "# data_final += data_round_2\n",
    "\n",
    "\n",
    "# data_round_1 = process_data_for_plot(\n",
    "#     df[\"iro3\"][\"round_1\"],\n",
    "#     color0=\"rgba(152,152,152,0.3)\",\n",
    "#     color1=\"rgba(152,152,152,0.3)\",\n",
    "#     name=\"round1\",\n",
    "#     marker_color_mode=\"array\",  # single, array\n",
    "#     energy_key=\"form_e_0\",\n",
    "#     marker_color_key=\"ordering_color_grad\",\n",
    "\n",
    "#     uncertainty_key=\"uncert_0\",\n",
    "#     )\n",
    "# data_final += data_round_1\n",
    "\n",
    "# layout = get_layout()\n",
    "\n",
    "# # layout[\"xaxis\"][\"range\"]\n",
    "# layout[\"yaxis\"][\"range\"] = [-1.5, 2.]\n",
    "\n",
    "# layout[\"width\"] = 2. * 18.7 * 37.795275591\n",
    "# layout[\"height\"] = 1. * 18.7 * 37.795275591\n",
    "\n",
    "# layout[\"showlegend\"] = True\n",
    "# fig = dict(data=data_final, layout=layout)\n",
    "# py.iplot(fig,\n",
    "#     filename=os.path.join(\n",
    "#         save_dir,\n",
    "#         \"ml_convergence\",\n",
    "#         \"iro3_ml_convergence__large_tmp\",\n",
    "#         ),\n",
    "#     )\n",
    "\n",
    "# fig = dict(data=data_final, layout=layout)\n",
    "# py.iplot(fig,\n",
    "#     filename=os.path.join(\n",
    "#         save_dir,\n",
    "#         \"ml_convergence\",\n",
    "#         \"iro2_ml_convergence__large\",\n",
    "#         ),\n",
    "#     )\n",
    "\n",
    "# layout[\"width\"] = 11. * 37.795275591\n",
    "# layout[\"height\"] = 11. * 37.795275591\n",
    "\n",
    "# # fig = dict(data=data_final, layout=layout)\n",
    "# # py.iplot(fig,\n",
    "# #     filename=os.path.join(\n",
    "# #         save_dir,\n",
    "# #         \"ml_convergence\",\n",
    "# #         \"iro2_ml_convergence__main\",\n",
    "# #         ),\n",
    "# #     )\n",
    "\n",
    "# layout = get_layout()\n",
    "\n",
    "# layout[\"xaxis\"][\"range\"]\n",
    "# layout[\"yaxis\"][\"range\"] = [-1.5, 2.]\n",
    "\n",
    "# layout[\"showlegend\"] = True\n",
    "# fig = dict(data=data_final, layout=layout)\n",
    "# py.iplot(fig,\n",
    "#     filename=os.path.join(\n",
    "#         save_dir,\n",
    "#         \"ml_convergence\",\n",
    "#         \"iro3_ml_convergence__large\",\n",
    "#         ),\n",
    "#     )\n",
    "\n",
    "# layout[\"width\"] = 11. * 37.795275591\n",
    "# layout[\"height\"] = 11. * 37.795275591\n",
    "# layout[\"showlegend\"] = False\n",
    "\n",
    "# # fig = dict(data=data_final, layout=layout)\n",
    "# # py.iplot(fig,\n",
    "# #     filename=os.path.join(\n",
    "# #         save_dir,\n",
    "# #         \"ml_convergence\",\n",
    "# #         \"iro3_ml_convergence__main\",\n",
    "# #         ),\n",
    "# #     )"
   ]
  }
 ],
 "metadata": {
  "kernelspec": {
   "display_name": "Python 3",
   "language": "python",
   "name": "python3"
  },
  "language_info": {
   "codemirror_mode": {
    "name": "ipython",
    "version": 3
   },
   "file_extension": ".py",
   "mimetype": "text/x-python",
   "name": "python",
   "nbconvert_exporter": "python",
   "pygments_lexer": "ipython3",
   "version": "3.6.8"
  },
  "toc-autonumbering": true,
  "toc-showcode": false,
  "toc-showmarkdowntxt": false
 },
 "nbformat": 4,
 "nbformat_minor": 2
}
