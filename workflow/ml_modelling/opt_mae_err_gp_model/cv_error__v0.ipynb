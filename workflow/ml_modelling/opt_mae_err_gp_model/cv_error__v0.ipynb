{
 "cells": [
  {
   "cell_type": "markdown",
   "metadata": {},
   "source": [
    "# Calculate a cross-validated error of the GP model\n",
    "---"
   ],
   "execution_count": null,
   "outputs": []
  },
  {
   "cell_type": "markdown",
   "metadata": {},
   "source": [
    "# Import Modules"
   ],
   "execution_count": null,
   "outputs": []
  },
  {
   "cell_type": "code",
   "execution_count": null,
   "metadata": {
    "jupyter": {}
   },
   "outputs": [],
   "source": [
    "import os\n",
    "import sys\n",
    "\n",
    "import pickle\n",
    "\n",
    "import pandas as pd\n",
    "\n",
    "import chart_studio.plotly as py\n",
    "import plotly.graph_objs as go\n",
    "\n",
    "sys.path.insert(0, os.path.join(os.environ[\"PROJ_irox\"], \"data\"))\n",
    "from proj_data_irox import (\n",
    "    bulk_dft_data_path, unique_ids_path,\n",
    "    df_features_pre_opt_path,\n",
    "    df_features_post_opt_path)"
   ]
  },
  {
   "cell_type": "code",
   "execution_count": null,
   "metadata": {},
   "outputs": [],
   "source": [
    "# workflow/ml_modelling/00_ml_workflow/190611_new_workflow/02_gaus_proc\n",
    "sys.path.insert(0, \n",
    "    os.path.join(\n",
    "        os.environ[\"PROJ_irox\"],\n",
    "        \"workflow/ml_modelling/00_ml_workflow\",\n",
    "        \"190611_new_workflow/02_gaus_proc\",\n",
    "        )\n",
    "    )\n",
    "from gp_methods import gp_model_catlearn"
   ]
  },
  {
   "cell_type": "markdown",
   "metadata": {},
   "source": [
    "# Read Data"
   ],
   "execution_count": null,
   "outputs": []
  },
  {
   "cell_type": "code",
   "execution_count": null,
   "metadata": {},
   "outputs": [],
   "source": [
    "path_i = os.path.join(\n",
    "    os.environ[\"PROJ_irox\"],\n",
    "    \"workflow/ml_modelling/00_ml_workflow/190611_new_workflow\",\n",
    "    \"02_gaus_proc/out_data\",\n",
    "    \"data_dict.pickle\")\n",
    "with open(path_i, \"rb\") as fle:\n",
    "    data = pickle.load(fle)"
   ]
  },
  {
   "cell_type": "code",
   "execution_count": null,
   "metadata": {},
   "outputs": [],
   "source": [
    "path_i = os.path.join(\n",
    "    os.environ[\"PROJ_irox\"],\n",
    "    \"workflow/ml_modelling/00_ml_workflow/190611_new_workflow\",\n",
    "    \"02_gaus_proc/out_data\",\n",
    "    \"train_x_y.pickle\")\n",
    "with open(path_i, \"rb\") as fle:\n",
    "    train_x_y = pickle.load(fle)\n",
    "\n",
    "train_x_y.keys()\n",
    "\n",
    "mean_y = train_x_y[\"train_y\"].mean()\n",
    "std_y = train_x_y[\"train_y\"].std()\n",
    "\n",
    "std_y"
   ]
  },
  {
   "cell_type": "code",
   "execution_count": null,
   "metadata": {},
   "outputs": [],
   "source": [
    "with open(bulk_dft_data_path, \"rb\") as fle:\n",
    "    df_bulk_dft = pickle.load(fle)\n",
    "\n",
    "with open(df_features_pre_opt_path, \"rb\") as fle:\n",
    "    df_features_pre = pickle.load(fle)\n",
    "\n",
    "with open(df_features_post_opt_path, \"rb\") as fle:\n",
    "    df_features_post = pickle.load(fle)\n",
    "\n",
    "df_ids = pd.read_csv(unique_ids_path)"
   ]
  },
  {
   "cell_type": "code",
   "execution_count": null,
   "metadata": {},
   "outputs": [],
   "source": [
    "# TEMP\n",
    "features_i = df_features_post.iloc[0:2].values"
   ]
  },
  {
   "cell_type": "code",
   "execution_count": null,
   "metadata": {},
   "outputs": [],
   "source": [
    "last_ind = list(data.keys())[-1]\n",
    "\n",
    "data_i = data[last_ind]\n",
    "print(\"data_i.keys(): \", data_i.keys())\n",
    "\n",
    "GP = data_i[\"gp_instance\"]\n",
    "\n",
    "# pred = GP.predict(\n",
    "#     test_fp=features_i,\n",
    "#     uncertainty=True,\n",
    "#     )"
   ]
  },
  {
   "cell_type": "code",
   "execution_count": null,
   "metadata": {},
   "outputs": [],
   "source": [
    "gp_model_catlearn\n",
    "\n",
    "pred = GP.predict(\n",
    "    test_fp=train_x_y[\"train_x\"],\n",
    "    uncertainty=True,\n",
    "    )\n",
    "\n",
    "pred[\"prediction\"]\n",
    "\n",
    "prediction = pd.DataFrame(pred, index=train_x_y[\"train_x\"].index)\n"
   ]
  },
  {
   "cell_type": "code",
   "execution_count": null,
   "metadata": {},
   "outputs": [],
   "source": [
    "\n",
    "\n",
    "# prediction.index.tolist()"
   ]
  },
  {
   "cell_type": "code",
   "execution_count": null,
   "metadata": {},
   "outputs": [],
   "source": [
    "\n",
    "data = []\n",
    "trace = go.Scatter(\n",
    "    x=prediction.index.tolist(),\n",
    "    y=std_y * prediction[\"prediction\"] + mean_y,\n",
    "    mode=\"markers\",\n",
    "    name=\"GP Prediction\",\n",
    "    )\n",
    "data.append(trace)\n",
    "\n",
    "trace = go.Scatter(\n",
    "    x=prediction.index.tolist(),\n",
    "    y=std_y * train_x_y[\"train_y_standard\"] + mean_y,\n",
    "    mode=\"markers\",\n",
    "    name=\"DFT Data\",\n",
    "    )\n",
    "data.append(trace)\n",
    "\n",
    "\n",
    "fig = go.Figure(data=data)\n",
    "fig.show()"
   ]
  }
 ],
 "metadata": {
  "kernelspec": {
   "display_name": "Python [conda env:PROJ_IrOx_Active_Learning_OER]",
   "language": "python",
   "name": "conda-env-PROJ_IrOx_Active_Learning_OER-py"
  },
  "language_info": {
   "codemirror_mode": {
    "name": "ipython",
    "version": 3
   },
   "file_extension": ".py",
   "mimetype": "text/x-python",
   "name": "python",
   "nbconvert_exporter": "python",
   "pygments_lexer": "ipython3",
   "version": "3.6.9"
  }
 },
 "nbformat": 4,
 "nbformat_minor": 4
}
