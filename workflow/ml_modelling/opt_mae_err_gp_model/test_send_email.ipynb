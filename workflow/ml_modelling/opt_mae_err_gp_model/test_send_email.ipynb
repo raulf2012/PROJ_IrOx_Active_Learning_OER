{
 "cells": [
  {
   "cell_type": "code",
   "execution_count": null,
   "metadata": {},
   "outputs": [],
   "source": [
    "# Import smtplib for the actual sending function\n",
    "import smtplib\n",
    "\n",
    "# Import the email modules we'll need\n",
    "from email.mime.text import MIMEText\n",
    "\n",
    "# Open a plain text file for reading.  For this example, assume that\n",
    "# the text file contains only ASCII characters.\n",
    "# textfile = \"textfile\"\n",
    "# with open(textfile, 'rb') as fp:\n",
    "#     # Create a text/plain message\n",
    "#     msg = MIMEText(fp.read())\n",
    "\n",
    "msg = MIMEText(\n",
    "\"\"\"\n",
    "Hello Bello\n",
    "\"\"\"\n",
    ")\n",
    "\n",
    "# msg = \"\"\"\n",
    "# Hello bello.\n",
    "# \"\"\"\n",
    "\n",
    "# me == the sender's email address\n",
    "# you == the recipient's email address\n",
    "# msg['Subject'] = 'The contents of %s' % textfile\n",
    "msg['Subject'] = 'The contents of TEMP'\n",
    "# msg['From'] = \"raulf2012@gmail.com\"\n",
    "msg['From'] = \"raulf2012@hotmail.com\"\n",
    "msg['To'] = \"raulf2012@hotmail.com\"\n",
    "\n",
    "# Send the message via our own SMTP server, but don't include the\n",
    "# envelope header.\n",
    "\n",
    "s = smtplib.SMTP('localhost')\n",
    "s.sendmail(me, [you], msg.as_string())\n",
    "s.quit()"
   ]
  }
 ],
 "metadata": {
  "kernelspec": {
   "display_name": "Python [conda env:PROJ_IrOx_Active_Learning_OER]",
   "language": "python",
   "name": "conda-env-PROJ_IrOx_Active_Learning_OER-py"
  },
  "language_info": {
   "codemirror_mode": {
    "name": "ipython",
    "version": 3
   },
   "file_extension": ".py",
   "mimetype": "text/x-python",
   "name": "python",
   "nbconvert_exporter": "python",
   "pygments_lexer": "ipython3",
   "version": "3.6.9"
  }
 },
 "nbformat": 4,
 "nbformat_minor": 4
}
