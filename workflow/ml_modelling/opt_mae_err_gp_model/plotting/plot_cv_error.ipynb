{
 "cells": [
  {
   "cell_type": "markdown",
   "metadata": {},
   "source": [
    "# Import Modules"
   ]
  },
  {
   "cell_type": "code",
   "execution_count": null,
   "metadata": {},
   "outputs": [],
   "source": [
    "import os\n",
    "print(os.getcwd())\n",
    "import sys\n",
    "\n",
    "import chart_studio.plotly as py\n",
    "import plotly.graph_objs as go\n",
    "\n",
    "# #########################################################\n",
    "# Local Imports\n",
    "from layout import layout"
   ]
  },
  {
   "cell_type": "markdown",
   "metadata": {},
   "source": [
    "# Read Data"
   ]
  },
  {
   "cell_type": "code",
   "execution_count": null,
   "metadata": {},
   "outputs": [],
   "source": [
    "# #########################################################\n",
    "import pickle; import os\n",
    "path_i = os.path.join(\n",
    "    os.environ[\"PROJ_irox\"],\n",
    "    \"workflow/ml_modelling/opt_mae_err_gp_model\",\n",
    "    \"out_data/AB3_data.pickle\")\n",
    "    # \"out_data/data_0.pickle\")\n",
    "with open(path_i, \"rb\") as fle:\n",
    "    df = pickle.load(fle)\n",
    "# #########################################################"
   ]
  },
  {
   "cell_type": "code",
   "execution_count": null,
   "metadata": {},
   "outputs": [],
   "source": [
    "df.head()"
   ]
  },
  {
   "cell_type": "code",
   "execution_count": null,
   "metadata": {},
   "outputs": [],
   "source": [
    "x_array = df.pca_comp\n",
    "# y_array = df.mae_cv\n",
    "y_array = df.mae_ave\n",
    "\n",
    "\n",
    "trace = go.Scatter(\n",
    "    x=x_array,\n",
    "    y=y_array,\n",
    "    mode=\"markers+lines\",\n",
    "    opacity=1.,\n",
    "    marker=dict(\n",
    "        symbol=\"circle\",\n",
    "        color='grey',\n",
    "        opacity=1.,\n",
    "        size=12,\n",
    "        line=dict(\n",
    "            color=\"black\",\n",
    "            width=1,\n",
    "            )\n",
    "        ),\n",
    "    line=dict(\n",
    "        color=\"black\",\n",
    "        width=2,\n",
    "        dash=\"solid\",\n",
    "        ),\n",
    "    )\n",
    "\n",
    "data = [trace]\n",
    "\n",
    "fig = go.Figure(data=data, layout=layout)"
   ]
  },
  {
   "cell_type": "markdown",
   "metadata": {},
   "source": [
    "# Saving Plot"
   ]
  },
  {
   "cell_type": "code",
   "execution_count": null,
   "metadata": {},
   "outputs": [],
   "source": [
    "from plotting.my_plotly import my_plotly_plot\n",
    "\n",
    "my_plotly_plot(\n",
    "    figure=fig,\n",
    "    plot_name=\"mae_vs_pca\",\n",
    "    write_html=True,\n",
    "    write_png=False,\n",
    "    png_scale=6.0,\n",
    "    write_pdf=True,\n",
    "    write_svg=False,\n",
    "    try_orca_write=True,\n",
    "    )"
   ]
  },
  {
   "cell_type": "code",
   "execution_count": null,
   "metadata": {},
   "outputs": [],
   "source": [
    "print(20 * \"# # \")\n",
    "print(\"All done!\")\n",
    "assert False"
   ]
  },
  {
   "cell_type": "code",
   "execution_count": null,
   "metadata": {},
   "outputs": [],
   "source": [
    "fig.show()"
   ]
  },
  {
   "cell_type": "raw",
   "metadata": {},
   "source": [
    "\n",
    "\n",
    "\n",
    "\n"
   ]
  },
  {
   "cell_type": "code",
   "execution_count": null,
   "metadata": {
    "jupyter": {}
   },
   "outputs": [],
   "source": [
    "# from plotting.my_plotly import add_duplicate_axes\n",
    "\n",
    "# shared_axis_props = dict(\n",
    "#     ticklen=3,\n",
    "#     tickcolor=\"red\",\n",
    "#     )\n",
    "\n",
    "# ticks_props_new_x = dict(\n",
    "#     dtick=0.5, **shared_axis_props)\n",
    "# ticks_props_new_y = dict(\n",
    "#     dtick=0.1, **shared_axis_props)\n",
    "\n",
    "# add_duplicate_axes(\n",
    "#     fig,\n",
    "#     axis_type='x',\n",
    "#     axis_data=ticks_props_new_x,\n",
    "#     # axis_num_list=None,\n",
    "#     tmp_define_both_axis_types=True,\n",
    "#     )\n",
    "# add_duplicate_axes(\n",
    "#     fig,\n",
    "#     axis_type='y',\n",
    "#     axis_data=ticks_props_new_y,\n",
    "#     # axis_num_list=None,\n",
    "#     tmp_define_both_axis_types=False,\n",
    "#     )"
   ]
  }
 ],
 "metadata": {
  "kernelspec": {
   "display_name": "Python [conda env:PROJ_IrOx_Active_Learning_OER]",
   "language": "python",
   "name": "conda-env-PROJ_IrOx_Active_Learning_OER-py"
  },
  "language_info": {
   "codemirror_mode": {
    "name": "ipython",
    "version": 3
   },
   "file_extension": ".py",
   "mimetype": "text/x-python",
   "name": "python",
   "nbconvert_exporter": "python",
   "pygments_lexer": "ipython3",
   "version": "3.6.9"
  }
 },
 "nbformat": 4,
 "nbformat_minor": 4
}
