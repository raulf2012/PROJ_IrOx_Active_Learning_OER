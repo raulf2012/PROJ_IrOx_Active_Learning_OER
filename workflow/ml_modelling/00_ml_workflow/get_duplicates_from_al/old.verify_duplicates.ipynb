{
 "cells": [
  {
   "cell_type": "markdown",
   "execution_count": null,
   "metadata": {
    "Collapsed": "false"
   },
   "outputs": [],
   "source": [
    "# Import Modules"
   ]
  },
  {
   "cell_type": "code",
   "execution_count": null,
   "metadata": {
    "Collapsed": "false"
   },
   "outputs": [],
   "source": [
    "import os\n",
    "import sys                                 \n",
    "\n",
    "import pickle\n",
    "\n",
    "import pandas as pd\n",
    "\n",
    "# #########################################################\n",
    "# Local Imports\n",
    "sys.path.insert(0, os.path.join(os.environ[\"PROJ_irox\"], \"data\"))\n",
    "from proj_data_irox import df_dij_path\n",
    "\n",
    "from al_data import main_AB2_run, main_AB3_run"
   ]
  },
  {
   "cell_type": "code",
   "execution_count": null,
   "metadata": {},
   "outputs": [],
   "source": [
    "sys.path.insert(0, os.path.join(os.environ[\"PROJ_irox\"], \"workflow/ml_modelling\"))\n",
    "from ml_methods import get_ml_dataframes"
   ]
  },
  {
   "cell_type": "markdown",
   "execution_count": null,
   "metadata": {},
   "outputs": [],
   "source": [
    "# Script Inputs"
   ]
  },
  {
   "cell_type": "code",
   "execution_count": null,
   "metadata": {},
   "outputs": [],
   "source": [
    "stoich_i = \"AB2\"\n",
    "\n",
    "if stoich_i == \"AB2\":\n",
    "    AL_data_path = main_AB2_run\n",
    "elif stoich_i == \"AB3\":\n",
    "    AL_data_path = main_AB3_run"
   ]
  },
  {
   "cell_type": "markdown",
   "execution_count": null,
   "metadata": {
    "Collapsed": "false"
   },
   "outputs": [],
   "source": [
    "# Import Data"
   ]
  },
  {
   "cell_type": "code",
   "execution_count": null,
   "metadata": {},
   "outputs": [],
   "source": [
    "with open(AL_data_path, \"rb\") as fle:\n",
    "    AL_i = pickle.load(fle)\n",
    "\n",
    "# #########################################################\n",
    "DF_dict = get_ml_dataframes(\n",
    "    names=[\n",
    "        'bulk_dft_data_path',\n",
    "        'unique_ids_path',\n",
    "        'prototypes_data_path',\n",
    "        'static_irox_structures_path',\n",
    "        'static_irox_structures_kirsten_path',\n",
    "        'oqmd_irox_data_path',\n",
    "        'df_features_pre_opt_path',\n",
    "        'df_features_pre_opt_kirsten_path',\n",
    "        'df_features_post_opt_path',\n",
    "        'oer_bulk_structures_path',\n",
    "        'df_ccf_path',\n",
    "        'df_dij_path',\n",
    "        'ids_to_discard__too_many_atoms_path',\n",
    "        'df_prototype_dft_path',\n",
    "        'df_prototype_static_path',\n",
    "        ]\n",
    "    )\n",
    "\n",
    "df_bulk_dft = DF_dict[\"bulk_dft_data\"]\n",
    "# unique_ids = DF_dict[\"unique_ids\"]\n",
    "# prototypes_data = DF_dict[\"prototypes_data\"]\n",
    "# static_irox_structures = DF_dict[\"static_irox_structures\"]\n",
    "# static_irox_structures_kirsten = DF_dict[\"static_irox_structures_kirsten\"]\n",
    "# oqmd_irox_data = DF_dict[\"oqmd_irox_data\"]\n",
    "# df_features_pre_opt = DF_dict[\"df_features_pre_opt\"]\n",
    "# df_features_pre_opt_kirsten = DF_dict[\"df_features_pre_opt_kirsten\"]\n",
    "# df_features_post_opt = DF_dict[\"df_features_post_opt\"]\n",
    "# oer_bulk_structures = DF_dict[\"oer_bulk_structures\"]\n",
    "# df_ccf = DF_dict[\"df_ccf\"]\n",
    "df_dij = DF_dict[\"df_dij\"]\n",
    "# ids_to_discard__too_many_atoms = DF_dict[\"ids_to_discard__too_many_atoms\"]\n",
    "# df_dft_final_final = DF_dict[\"df_dft_final_final\"]\n",
    "\n",
    "df_prototype_dft_path = DF_dict[\"df_prototype_dft\"]\n",
    "df_prototype_static_path = DF_dict[\"df_prototype_static\"]"
   ]
  },
  {
   "cell_type": "code",
   "execution_count": null,
   "metadata": {},
   "outputs": [],
   "source": [
    "from misc_modules.pandas_methods import drop_columns\n",
    "\n",
    "df_prototype_dft_path = drop_columns(df=df_prototype_dft_path, columns=[\n",
    "    # 'p_name',\n",
    "    'structure_name',\n",
    "    # 'spacegroup',\n",
    "    'wyckoffs',\n",
    "    'species',\n",
    "    ],\n",
    "    keep_or_drop=\"drop\")\n",
    "\n",
    "df_bulk_dft = drop_columns(df=df_bulk_dft, columns=[\n",
    "    \"atoms\",\n",
    "    \"form_e_chris\",\n",
    "    \"id\",\n",
    "    \"id_old\",\n",
    "    \"path\",\n",
    "    \"volume\",\n",
    "    # \"\",\n",
    "    ], keep_or_drop=\"drop\")\n",
    "\n",
    "# #########################################################\n",
    "shared_indices = df_bulk_dft.index.intersection(df_prototype_dft_path.index)\n",
    "df_info = pd.concat([\n",
    "    df_prototype_dft_path.loc[shared_indices],\n",
    "    df_bulk_dft[df_bulk_dft.source == \"raul\"].loc[shared_indices],\n",
    "    ],\n",
    "    axis=1)\n",
    "\n",
    "df_info = df_info.sort_values(\"dH\")\n",
    "df_info = df_info.drop_duplicates()"
   ]
  },
  {
   "cell_type": "raw",
   "execution_count": null,
   "metadata": {
    "Collapsed": "false"
   },
   "outputs": [],
   "source": [
    "\n",
    "\n"
   ]
  },
  {
   "cell_type": "code",
   "execution_count": null,
   "metadata": {
    "Collapsed": "false"
   },
   "outputs": [],
   "source": [
    "last_gen_key = list(AL_i.al_gen_dict.keys())[-1]\n",
    "AL_gen_f = AL_i.al_gen_dict[last_gen_key]\n",
    "\n",
    "model = AL_gen_f.model\n",
    "model_notdupl = model[model.duplicate == False]\n",
    "\n",
    "indices_not_duplicates = model_notdupl.index"
   ]
  },
  {
   "cell_type": "code",
   "execution_count": null,
   "metadata": {
    "Collapsed": "false"
   },
   "outputs": [],
   "source": [
    "# Subset of df_dij that contains entries of final AL generation that aren't duplicates\n",
    "df_dij_sub = df_dij.loc[indices_not_duplicates, indices_not_duplicates]\n",
    "# df_dij_sub[df_dij_sub < 0.01]\n",
    "\n",
    "\n",
    "for i_cnt, row_i in df_dij_sub.iterrows():\n",
    "    id_i = row_i.name\n",
    "\n",
    "    # duplicate_ids = row_i[row_i < 0.02].index.tolist()\n",
    "    duplicate_ids = row_i[row_i < 0.03].index.tolist()\n",
    "    if id_i in duplicate_ids:\n",
    "        duplicate_ids.remove(id_i)\n",
    "\n",
    "    if len(duplicate_ids) > 0:\n",
    "        print(id_i, \":\", duplicate_ids)"
   ]
  },
  {
   "cell_type": "code",
   "execution_count": null,
   "metadata": {},
   "outputs": [],
   "source": [
    "df_dij.loc[\"8p8evt9pcg\", \"xw9y6rbkxr\"]\n",
    "\n",
    "tmp_list = model_notdupl.sort_values(\"y_real\").iloc[0:15].index.tolist()\n",
    "\n",
    "df_dij.loc[tmp_list, tmp_list]"
   ]
  },
  {
   "cell_type": "raw",
   "execution_count": null,
   "metadata": {},
   "outputs": [],
   "source": [
    "\n",
    "\n",
    "\n"
   ]
  },
  {
   "cell_type": "code",
   "execution_count": null,
   "metadata": {},
   "outputs": [],
   "source": [
    "# 9yz2mt8hbh"
   ]
  },
  {
   "cell_type": "code",
   "execution_count": null,
   "metadata": {},
   "outputs": [],
   "source": [
    "model_notdupl.sort_values(\"y_real\")\n",
    "\n",
    "# id_i = \"64cg6j9any\"\n",
    "# id_i = \"n36axdbw65\"\n",
    "# id_i = \"clc2b1mavs\"\n",
    "id_i = \"ck638t75z3\"\n",
    "# id_i = \"mkbj6e6e9p\"\n",
    "# id_i = \"b49kx4c19q\"\n",
    "# id_i = \"85z4msnl6o\"\n",
    "# id_i = \"bpc2nk6qz1\"\n",
    "\n",
    "\n",
    "# df_dij[df_dij.loc[id_i] < 0.01]\n",
    "# df_dij.loc[id_i][df_dij.loc[id_i] < 0.2]\n",
    "# df_dij.loc[id_i] < 0.4\n",
    "# df_dij.loc[id_i]\n",
    "\n",
    "# df_i = df_dij.loc[id_i][df_dij.loc[id_i] < 0.05]\n",
    "df_i = df_dij.loc[id_i][df_dij.loc[id_i] < 0.08]\n",
    "\n",
    "df_i.index.tolist()"
   ]
  },
  {
   "cell_type": "code",
   "execution_count": null,
   "metadata": {},
   "outputs": [],
   "source": [
    "# df_prototype_dft_path.loc[df_i.index]\n",
    "# df_bulk_dft.loc[df_i.index].sort_values(\"dH\")\n",
    "\n",
    "df_info.loc[df_i.index].sort_values(\"dH\")"
   ]
  },
  {
   "cell_type": "code",
   "execution_count": null,
   "metadata": {},
   "outputs": [],
   "source": [
    "\n",
    "\n",
    "# df_info.shape"
   ]
  },
  {
   "cell_type": "code",
   "execution_count": null,
   "metadata": {},
   "outputs": [],
   "source": [
    "# model_notdupl.sort_values(\"y_real\").iloc[0:10].index.tolist()\n",
    "model_notdupl.sort_values(\"y_real\").iloc[0:10]"
   ]
  },
  {
   "cell_type": "raw",
   "execution_count": null,
   "metadata": {},
   "outputs": [],
   "source": [
    "\n",
    "\n"
   ]
  },
  {
   "cell_type": "code",
   "execution_count": null,
   "metadata": {
    "jupyter": {}
   },
   "outputs": [],
   "source": [
    "# [i for i in df_dij.index if \"byna\" in i]"
   ]
  },
  {
   "cell_type": "code",
   "execution_count": null,
   "metadata": {
    "Collapsed": "false",
    "jupyter": {}
   },
   "outputs": [],
   "source": [
    "# model_notdupl.sort_values(\"y_real\")\n",
    "\n",
    "# model.sort_values(\"y_real\").iloc[0:15]"
   ]
  },
  {
   "cell_type": "code",
   "execution_count": null,
   "metadata": {
    "Collapsed": "false",
    "jupyter": {}
   },
   "outputs": [],
   "source": [
    "# /mnt/f/Dropbox/01_norskov/00_git_repos/PROJ_IrOx_Active_Learning_OER/workflow/ml_modelling/00_ml_workflow/191102_new_workflow/00_abx_al_runs/out_data/AB2/gp_ucb_True/TEST_AL_muvasubu.pickle\n",
    "\n",
    "# # #############################################################################\n",
    "# # AL_data_path += \"/AB3/gp_ucb_True\"\n",
    "# # AL_data_path += \"/AL_geheneva.pickle\"\n",
    "\n",
    "# # #####################################\n",
    "# AL_data_path += \"/AB2/gp_ucb_True\"\n",
    "# # #####################################\n",
    "# # AL_data_path += \"/AL_piritapo.pickle\"\n",
    "# # AL_data_path += \"/TEST_AL_wakuhifa.pickle\"\n",
    "# AL_data_path += \"/TEST_AL_muvasubu.pickle\""
   ]
  },
  {
   "cell_type": "code",
   "execution_count": null,
   "metadata": {
    "Collapsed": "false",
    "jupyter": {}
   },
   "outputs": [],
   "source": [
    "# # AL_data_path = \"/home/raulf2012/Dropbox/01_norskov/00_git_repos/PROJ_IrOx_Active_Learning_OER/workflow/ml_modelling/00_ml_workflow/191102_new_workflow/00_abx_al_runs/out_data\"\n",
    "# AL_data_path = os.path.join(\n",
    "#     os.environ[\"PROJ_irox\"],\n",
    "#     \"workflow/ml_modelling/00_ml_workflow/191102_new_workflow/00_abx_al_runs/out_data\",\n",
    "#     )\n",
    "\n",
    "# # #####################################\n",
    "# AL_data_path += \"/AB3/gp_ucb_True/01_attempt\"\n",
    "# # #####################################\n",
    "# AL_data_path += \"/AL_geheneva.pickle\"\n",
    "\n",
    "# # AL_geheneva.pickle"
   ]
  }
 ],
 "metadata": {
  "kernelspec": {
   "display_name": "Python [conda env:PROJ_IrOx_Active_Learning_OER]",
   "language": "python",
   "name": "conda-env-PROJ_IrOx_Active_Learning_OER-py"
  },
  "language_info": {
   "codemirror_mode": {
    "name": "ipython",
    "version": 3
   },
   "file_extension": ".py",
   "mimetype": "text/x-python",
   "name": "python",
   "nbconvert_exporter": "python",
   "pygments_lexer": "ipython3",
   "version": "3.6.9"
  }
 },
 "nbformat": 4,
 "nbformat_minor": 4
}
