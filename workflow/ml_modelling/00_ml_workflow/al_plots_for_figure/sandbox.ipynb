{
 "cells": [
  {
   "cell_type": "code",
   "execution_count": null,
   "metadata": {},
   "outputs": [],
   "source": [
    "color_list = [\n",
    "    \"0c007fff\",\n",
    "    \"0000acff\",\n",
    "    \"0001d7ff\",\n",
    "    \"0033e9ff\",\n",
    "    \"0053ffff\",\n",
    "    \"0073ffff\",\n",
    "    \"008df3ff\",\n",
    "    \"00b5f6ff\",\n",
    "    \"00dcf5ff\",\n",
    "    \"00fff3ff\",\n",
    "    ]\n",
    "\n",
    "color_list"
   ]
  },
  {
   "cell_type": "code",
   "execution_count": null,
   "metadata": {},
   "outputs": [],
   "source": [
    "# h = input('Enter hex: ').lstrip('#')\n",
    "\n",
    "h = '0c007fff'\n",
    "\n",
    "\n",
    "for color_i in color_list:\n",
    "    h = color_i\n",
    "    print(tuple(int(h[i:i+2], 16) for i in (0, 2, 4)))"
   ]
  },
  {
   "cell_type": "code",
   "execution_count": null,
   "metadata": {},
   "outputs": [],
   "source": [
    "import plotly.graph_objs as go\n",
    "\n",
    "# go.Figure?\n",
    "\n",
    "go.Frame?\n",
    "\n",
    "\n",
    "# go.Layout?\n",
    "# fig.update_layout(\n",
    "#     annotations=[\n",
    "#         go.layout.Annotation(\n",
    "#             x=50,\n",
    "#             y=2,\n",
    "#             xref=\"x\",\n",
    "#             yref=\"y\",\n",
    "#             text=\"dict Text\",\n",
    "#             showarrow=True,\n",
    "#             arrowhead=7,\n",
    "#             ax=0,\n",
    "#             ay=-40\n",
    "#             )\n",
    "#         ],\n",
    "\n",
    "#     )"
   ]
  },
  {
   "cell_type": "code",
   "execution_count": null,
   "metadata": {},
   "outputs": [],
   "source": [
    "go.Scatter.textposition?"
   ]
  }
 ],
 "metadata": {
  "kernelspec": {
   "display_name": "Python [conda env:research-new]",
   "language": "python",
   "name": "conda-env-research-new-py"
  },
  "language_info": {
   "codemirror_mode": {
    "name": "ipython",
    "version": 3
   },
   "file_extension": ".py",
   "mimetype": "text/x-python",
   "name": "python",
   "nbconvert_exporter": "python",
   "pygments_lexer": "ipython3",
   "version": "3.6.8"
  }
 },
 "nbformat": 4,
 "nbformat_minor": 4
}
