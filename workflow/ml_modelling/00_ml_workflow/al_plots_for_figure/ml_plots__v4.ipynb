{
 "cells": [
  {
   "cell_type": "markdown",
   "metadata": {},
   "source": [
    "# Creating the AL plots\n",
    "\n",
    "This whole script needs be run twice with the variable `color_custom_points` set to `True` and `False` and twice for IrO2 and IrO3 stoichs, so 4 times in total"
   ],
   "execution_count": null,
   "outputs": []
  },
  {
   "cell_type": "markdown",
   "metadata": {
    "Collapsed": "false"
   },
   "source": [
    "# Import Modules"
   ],
   "execution_count": null,
   "outputs": []
  },
  {
   "cell_type": "code",
   "execution_count": null,
   "metadata": {},
   "outputs": [],
   "source": [
    "import os\n",
    "print(os.getcwd())\n",
    "\n",
    "import sys\n",
    "\n",
    "import pickle\n",
    "import copy\n",
    "\n",
    "import plotly.graph_objects as go\n",
    "from plotly.subplots import make_subplots\n",
    "\n",
    "# #############################################################################\n",
    "from plotting.my_plotly import my_plotly_plot\n",
    "\n",
    "# #########################################################\n",
    "# Local Imports\n",
    "sys.path.insert(0, os.path.join(os.environ[\"PROJ_irox\"], \"data\"))\n",
    "from proj_data_irox import (\n",
    "    bulk_dft_data_path,\n",
    "    ids_to_discard__too_many_atoms_path,\n",
    "    unique_ids_path,\n",
    "    df_dij_path)\n",
    "\n",
    "# from proj_data_irox import main_AB2_run, main_AB3_run"
   ]
  },
  {
   "cell_type": "code",
   "execution_count": null,
   "metadata": {},
   "outputs": [],
   "source": [
    "from al_data import main_AB2_run, main_AB3_run, gens_to_plot_dict\n",
    "\n",
    "from layout import layout as layout_base"
   ]
  },
  {
   "cell_type": "code",
   "execution_count": null,
   "metadata": {},
   "outputs": [],
   "source": [
    "# assert False"
   ]
  },
  {
   "cell_type": "markdown",
   "metadata": {
    "Collapsed": "false"
   },
   "source": [
    "# Script Inputs"
   ],
   "execution_count": null,
   "outputs": []
  },
  {
   "cell_type": "code",
   "execution_count": null,
   "metadata": {},
   "outputs": [],
   "source": [
    "stoich_i = \"AB3\"\n",
    "# stoich_i = \"AB2\"\n",
    "\n",
    "lowest_N_sys_to_track = 10"
   ]
  },
  {
   "cell_type": "markdown",
   "metadata": {
    "Collapsed": "false"
   },
   "source": [
    "# Read Data"
   ],
   "execution_count": null,
   "outputs": []
  },
  {
   "cell_type": "code",
   "execution_count": null,
   "metadata": {
    "Collapsed": "false"
   },
   "outputs": [],
   "source": [
    "# #########################################################\n",
    "if stoich_i == \"AB3\":\n",
    "    path_i = main_AB3_run\n",
    "elif stoich_i == \"AB2\":\n",
    "    path_i = main_AB2_run\n",
    "else:\n",
    "    assert False, \"No data here isjfisdifjisdjifjsidfjr89u8fh8wejf\"\n",
    "\n",
    "print(stoich_i, \"\\n\", path_i)\n",
    "\n",
    "with open(path_i, \"rb\") as fle:\n",
    "    AL = pickle.load(fle)\n",
    "\n",
    "al_gen_dict = AL.al_gen_dict\n",
    "\n",
    "gens_to_plot = gens_to_plot_dict[stoich_i]"
   ]
  },
  {
   "cell_type": "code",
   "execution_count": null,
   "metadata": {
    "Collapsed": "false"
   },
   "outputs": [],
   "source": [
    "# #########################################################\n",
    "last_gen_key = list(al_gen_dict.keys())[-1]\n",
    "\n",
    "if gens_to_plot[-1] == \"last\":\n",
    "    gen_4 = last_gen_key\n",
    "    gens_to_plot[-1] = gen_4\n",
    "\n",
    "AL_last = al_gen_dict[last_gen_key]\n",
    "\n",
    "model = AL_last.model\n",
    "\n",
    "model_i = model[\n",
    "    (model[\"duplicate\"] == False) & \\\n",
    "    (model[\"acquired\"] == True)\n",
    "    ].sort_values(\"y_real\")\n",
    "top_ids_to_track = model_i.iloc[0:lowest_N_sys_to_track].index.tolist()\n",
    "\n",
    "\n",
    "color_list = [\n",
    "\n",
    "    # \"rgba(12,0,127,1.0)\",\n",
    "    # \"rgba(0,0,172,1.0)\",\n",
    "    # \"rgba(0,1,215,1.0)\",\n",
    "    # \"rgba(0,51,233,1.0)\",\n",
    "    # \"rgba(0,83,255,1.0)\",\n",
    "    # \"rgba(0,115,255,1.0)\",\n",
    "    # \"rgba(0,141,243,1.0)\",\n",
    "    # \"rgba(0,181,246,1.0)\",\n",
    "    # \"rgba(0,220,245,1.0)\",\n",
    "    # \"rgba(0,255,243,1.0)\",\n",
    "\n",
    "    \"#fde725\",\n",
    "    \"#b8de29\",\n",
    "    \"#74d055\",\n",
    "    \"#3cbc75\",\n",
    "    \"#20a386\",\n",
    "    \"#238a8d\",\n",
    "    \"#2d708e\",\n",
    "    \"#39558c\",\n",
    "    \"#453781\",\n",
    "    \"#481568\",\n",
    "\n",
    "    # \"rgb(202,88,66)\",\n",
    "    # \"rgb(71,189,198)\",\n",
    "    # \"rgb(210,70,147)\",\n",
    "    # \"rgb(120,181,66)\",\n",
    "    # \"rgb(157,99,201)\",\n",
    "    # \"rgb(81,163,108)\",\n",
    "    # \"rgb(189,104,138)\",\n",
    "    # \"rgb(131,128,57)\",\n",
    "    # \"rgb(101,130,203)\",\n",
    "    # \"rgb(209,154,68)\",\n",
    "    ]\n",
    "\n",
    "\n",
    "marker_color_dict = dict(zip(\n",
    "    top_ids_to_track,\n",
    "    color_list,\n",
    "    ))"
   ]
  },
  {
   "cell_type": "code",
   "execution_count": null,
   "metadata": {
    "Collapsed": "false"
   },
   "outputs": [],
   "source": [
    "\n",
    "# #########################################################\n",
    "from active_learning.al_analysis import ALAnimation\n",
    "\n",
    "color_custom_points = False\n",
    "# color_custom_points = True\n",
    "\n",
    "ALAnim = ALAnimation(\n",
    "    ALBulkOpt=AL,\n",
    "    marker_color_dict=marker_color_dict,\n",
    "    verbose=True,\n",
    "    # color_custom_points=False,\n",
    "    color_custom_points=color_custom_points,\n",
    "    )"
   ]
  },
  {
   "cell_type": "code",
   "execution_count": null,
   "metadata": {
    "Collapsed": "false"
   },
   "outputs": [],
   "source": [
    "# # Create AL animation #########################################################\n",
    "# filename_i = \"ANIM_\" + stoich_i + \"_\" + AL.name + \"_NEW\"\n",
    "# ALAnim.create_animation(\n",
    "#     duration_long=6000,\n",
    "#     duration_short=6000,\n",
    "#     # serial_parallel='serial',\n",
    "#     serial_parallel='parallel',\n",
    "#     filename=filename_i,\n",
    "    \n",
    "#     )"
   ]
  },
  {
   "cell_type": "code",
   "execution_count": null,
   "metadata": {},
   "outputs": [],
   "source": [
    "# assert False"
   ]
  },
  {
   "cell_type": "code",
   "execution_count": null,
   "metadata": {
    "Collapsed": "false"
   },
   "outputs": [],
   "source": [
    "# #########################################################\n",
    "traces_list = []\n",
    "traces_list_tracking = []\n",
    "\n",
    "num_dft_list = []\n",
    "# top_ten_tracking_dict = dict()\n",
    "for gen_i in gens_to_plot:\n",
    "    print(gen_i)\n",
    "    \n",
    "    if gen_i < 0:\n",
    "        gen_i = list(al_gen_dict.keys())[gen_i]\n",
    "\n",
    "    AL_i = al_gen_dict[gen_i]\n",
    "    model_i = AL_i.model\n",
    "    \n",
    "    tmp = model_i[model_i.acquired == True].shape\n",
    "    num_dft_list.append(tmp[0])\n",
    "\n",
    "    num_systems_0 = AL_i.model.shape[0]\n",
    "\n",
    "    num_dft_i = model_i[model_i[\"acquired\"] == True].shape[0]\n",
    "    print(\"num_dft_i:\", num_dft_i)\n",
    "\n",
    "    trace_i, other_data_dict = ALAnim.get_trace_j(\n",
    "        AL_i,\n",
    "        prediction_key=\"y\",\n",
    "        uncertainty_key=\"err\",\n",
    "        plot_dft_instead_of_pred=True,\n",
    "        plot_validation_dft=False,\n",
    "        # trace_all_dft=True,\n",
    "        trace_horiz_lines=False,\n",
    "        internally_order_df=True,\n",
    "        dft_calc_al_gen_text_overlay=False,\n",
    "        add_vertical_track_lines=True,\n",
    "        just_traces=False,\n",
    "        )\n",
    "    traces_list.append(trace_i)\n",
    "\n",
    "\n",
    "    # #########################################################################\n",
    "    # #########################################################################\n",
    "    model__tracked = other_data_dict[\"model__tracked\"]\n",
    "\n",
    "    gen_traces_i = []\n",
    "    for i_ind, row_i in model__tracked.iterrows():\n",
    "        Y_main = row_i[\"Y_main\"]\n",
    "        x_ind = row_i[\"x_axis_ind\"]\n",
    "        acquired = row_i[\"acquired\"]\n",
    "\n",
    "        if acquired:\n",
    "            color = \"red\"\n",
    "            y = [4.7, 6]\n",
    "            width = 0.8\n",
    "        else:\n",
    "            color = \"grey\"\n",
    "            y = [5., 6]\n",
    "            width = 0.5\n",
    "\n",
    "        trace_i = go.Scatter(\n",
    "            mode=\"lines\",\n",
    "            x=[x_ind, x_ind],\n",
    "            y=y,\n",
    "            name=\"top_ten\",\n",
    "            line=dict(\n",
    "                width=width,\n",
    "                color=color,\n",
    "                ),\n",
    "            )\n",
    "\n",
    "        # data.append(trace_i)\n",
    "        # traces_list_tracking.append(trace_i)\n",
    "\n",
    "        gen_traces_i.append(trace_i)\n",
    "\n",
    "    traces_list_tracking.append(gen_traces_i)"
   ]
  },
  {
   "cell_type": "code",
   "execution_count": null,
   "metadata": {},
   "outputs": [],
   "source": [
    "# model__tracked = other_data_dict[\"model__tracked\"]\n",
    "\n",
    "# model__tracked"
   ]
  },
  {
   "cell_type": "code",
   "execution_count": null,
   "metadata": {
    "Collapsed": "false"
   },
   "outputs": [],
   "source": [
    "# #########################################################\n",
    "# %%capture\n",
    "\n",
    "a = 1 / len(traces_list)\n",
    "x = 0.1\n",
    "y = a + x\n",
    "z = a - x / 4\n",
    "\n",
    "column_widths = [z, z, y, z, z]\n",
    "# print(\"column_widths:\", column_widths)\n",
    "\n",
    "fig = make_subplots(\n",
    "    rows=1, cols=len(traces_list),\n",
    "    column_widths=column_widths,\n",
    "    shared_yaxes=True,\n",
    "    horizontal_spacing=0.01)\n",
    "\n",
    "for i_ind, traces_i in enumerate(traces_list):\n",
    "    for trace_i in traces_i:\n",
    "        fig.add_trace(trace_i, row=1, col=i_ind + 1)\n",
    "\n",
    "if stoich_i == \"AB3\":\n",
    "    # range_y = [-3.184, 5.529]\n",
    "    range_y = [-0.8, 1.5]\n",
    "elif stoich_i == \"AB2\":\n",
    "    range_y = None\n",
    "        \n",
    "\n",
    "layout_override = dict(\n",
    "    # height=200,\n",
    "    # width=650,\n",
    "\n",
    "    height=5.291667 * 37.795275591,\n",
    "    # width=17.5 * 37.795275591,\n",
    "    width=17.7 * 37.795275591,\n",
    "\n",
    "    margin=go.layout.Margin(\n",
    "        b=0,\n",
    "        l=10,\n",
    "        r=5,\n",
    "        t=5),\n",
    "    xaxis=dict(\n",
    "        range=[-20, num_systems_0 + 10],\n",
    "        showticklabels=False,\n",
    "        # ticks=\"\",\n",
    "        ticks=None,\n",
    "        ),\n",
    "    yaxis=dict(\n",
    "        range=range_y,\n",
    "        mirror=True,\n",
    "        showticklabels=False,\n",
    "        # ticks=\"\",\n",
    "        ticks=None,\n",
    "        ),\n",
    "    )\n",
    "        \n",
    "layout_base_cpy = copy.deepcopy(layout_base)\n",
    "layout = layout_base_cpy.update(layout_override)\n",
    "fig.update_layout(layout)\n",
    "\n",
    "fig.update_xaxes(layout.xaxis)\n",
    "fig.update_yaxes(layout.yaxis)\n",
    "\n",
    "# #############################################################################\n",
    "# \n",
    "fig.update_xaxes(\n",
    "    linecolor=\"red\",\n",
    "    row=1, col=3)\n",
    "fig.update_yaxes(\n",
    "    linecolor=\"red\",\n",
    "    row=1, col=3)\n",
    "\n",
    "# Update first subplot to have tick props\n",
    "fig.update_yaxes(\n",
    "    showticklabels=True,\n",
    "    ticks=\"outside\",\n",
    "    dtick=0.5,\n",
    "    row=1, col=1)"
   ]
  },
  {
   "cell_type": "code",
   "execution_count": null,
   "metadata": {
    "Collapsed": "false",
    "collapsed": true,
    "jupyter": {
     "outputs_hidden": true
    }
   },
   "outputs": [],
   "source": [
    "# #########################################################\n",
    "fig_al_series = copy.deepcopy(fig)\n",
    "\n",
    "my_plotly_plot(\n",
    "    figure=fig,\n",
    "    plot_name=stoich_i + \"_\" + \"al_5_gens_in_row\",\n",
    "    write_html=True,\n",
    "    # write_png=True,\n",
    "    # png_scale=10,\n",
    "    # write_pdf=True,\n",
    "    )\n",
    "\n",
    "fig.layout.update(paper_bgcolor=\"white\")\n",
    "\n",
    "tmp = 42\n",
    "# fig.show()"
   ]
  },
  {
   "cell_type": "code",
   "execution_count": null,
   "metadata": {
    "Collapsed": "false"
   },
   "outputs": [],
   "source": [
    "# #########################################################\n",
    "figs_dict = {\n",
    "    # \"fig_inset\": fig_inset,\n",
    "    # \"fig_main\": fig_main,\n",
    "    \"fig_al_series\": fig_al_series,\n",
    "    # \"fig_al_series_top10_marked\": fig_al_series_top10_marked,\n",
    "    \"traces_tracking\": traces_list_tracking,\n",
    "    \"num_dft_list\": num_dft_list,\n",
    "    }\n",
    "\n",
    "# Pickling data ######################################################\n",
    "directory = \"out_data\"\n",
    "if not os.path.exists(directory): os.makedirs(directory)\n",
    "# with open(os.path.join(directory, stoich_i + \"_\" +  + \"figs_dict__v2.pickle\"), \"wb\") as fle:\n",
    "with open(os.path.join(directory, stoich_i + \"_\" + str(color_custom_points) + \"_\" + \"figs_dict__v2.pickle\"), \"wb\") as fle:\n",
    "    pickle.dump(figs_dict, fle)\n",
    "# #####################################################################"
   ]
  },
  {
   "cell_type": "code",
   "execution_count": null,
   "metadata": {},
   "outputs": [],
   "source": [
    "print(20 * \"# # \")\n",
    "print(\"All done!\")\n",
    "assert False"
   ]
  },
  {
   "cell_type": "raw",
   "metadata": {},
   "source": [
    "\n",
    "\n",
    "\n",
    "\n",
    "\n",
    "\n",
    "\n"
   ],
   "execution_count": null,
   "outputs": []
  },
  {
   "cell_type": "code",
   "execution_count": null,
   "metadata": {
    "jupyter": {}
   },
   "outputs": [],
   "source": [
    "# fig_al_series.data[0].name\n",
    "\n",
    "# for i in fig_al_series.data:\n",
    "#     print(i.name)"
   ]
  },
  {
   "cell_type": "code",
   "execution_count": null,
   "metadata": {
    "jupyter": {}
   },
   "outputs": [],
   "source": [
    "# ALAnim.model__tracked"
   ]
  },
  {
   "cell_type": "code",
   "execution_count": null,
   "metadata": {
    "jupyter": {}
   },
   "outputs": [],
   "source": [
    "# for gen_i in gens_to_plot:\n",
    "#     if gen_i < 0:\n",
    "#         al_gen_i = al_gen_dict[\n",
    "#             list(al_gen_dict.keys())[gen_i]    \n",
    "#             ]\n",
    "#     else:\n",
    "#         al_gen_i = al_gen_dict[gen_i]\n",
    "\n",
    "#     model = al_gen_i.model\n",
    "#     model_0  = model.loc[list(marker_color_dict.keys())]\n",
    "\n",
    "# data = []\n",
    "# for i_ind, row_i in model_0.iterrows():\n",
    "#     Y_main = row_i[\"Y_main\"]\n",
    "#     x_ind = row_i[\"x_axis_ind\"]\n",
    "#     acquired = row_i[\"acquired\"]\n",
    "\n",
    "#     if acquired:\n",
    "#         color = \"red\"\n",
    "#         y = [4.7, 6]\n",
    "#         width = 0.8\n",
    "#     else:\n",
    "#         color = \"grey\"\n",
    "#         y = [5., 6]\n",
    "#         width = 0.5\n",
    "\n",
    "#     trace_i = go.Scatter(\n",
    "#         mode=\"lines\",\n",
    "#         x=[x_ind, x_ind],\n",
    "#         y=y,\n",
    "#         name=\"top_ten\",\n",
    "#         line=dict(\n",
    "#             width=width,\n",
    "#             color=color,\n",
    "#             ),\n",
    "#         )\n",
    "\n",
    "#     data.append(trace_i)"
   ]
  },
  {
   "cell_type": "code",
   "execution_count": null,
   "metadata": {
    "jupyter": {}
   },
   "outputs": [],
   "source": [
    "# list(marker_color_dict.keys())\n",
    "\n",
    "# list(al_gen_dict.keys())"
   ]
  },
  {
   "cell_type": "code",
   "execution_count": null,
   "metadata": {
    "jupyter": {}
   },
   "outputs": [],
   "source": [
    "\n",
    "    # path_i = os.path.join(\n",
    "    #     os.environ[\"PROJ_irox\"],\n",
    "    #     \"workflow/ml_modelling/00_ml_workflow/191102_new_workflow/00_abx_al_runs/out_data/AB3/gp_ucb_True\",\n",
    "\n",
    "    #     # \"01_attempt/AL_geheneva.pickle\",\n",
    "    #     # \"01_attempt/AL_pifehohu.pickle\",\n",
    "    #     # \"01_attempt/AL_suturomo.pickle\",\n",
    "\n",
    "    #     \"TEST_AL_2_fugunefo.pickle\",\n",
    "\n",
    "    #     # NEW RUNS\n",
    "    #     # \"TEST_AL_2_fugunefo.pickle\",\n",
    "    #     # \"TEST_AL_2_seruladi.pickle\",\n",
    "    #     # \"TEST_AL_masahiti.pickle\",  # This is a good one to pick ************\n",
    "    #     )\n",
    "\n",
    "\n",
    "\n",
    "    # path_i = os.path.join(\n",
    "    #     os.environ[\"PROJ_irox\"],\n",
    "    #     # \"workflow/ml_modelling/00_ml_workflow/191102_new_workflow/00_abx_al_runs/out_data/AB2/gp_ucb_True\",\n",
    "    #     # \"AL_piritapo.pickle\",\n",
    "\n",
    "    #     \"workflow/ml_modelling/00_ml_workflow/191102_new_workflow/01_abx_al_runs_new/out_data/AB2/gp_ucb_True\",\n",
    "    #     \"TEST_AL_6_radetama.pickle\",\n",
    "    #     ) \n"
   ]
  },
  {
   "cell_type": "code",
   "execution_count": null,
   "metadata": {
    "jupyter": {}
   },
   "outputs": [],
   "source": [
    "# AL.duplicate_swap_dict\n",
    "\n",
    "# AL.dupl"
   ]
  },
  {
   "cell_type": "code",
   "execution_count": null,
   "metadata": {
    "jupyter": {}
   },
   "outputs": [],
   "source": [
    "#| - Minor tick axis settings\n",
    "# minor_ticks_data = {\n",
    "\n",
    "# #| - Main AL Plots\n",
    "#     \"main_al_plots\": {\n",
    "#         \"x\": 100,\n",
    "#         \"y\": 0.25,\n",
    "#         },\n",
    "\n",
    "#     }\n",
    "\n",
    "#__|"
   ]
  },
  {
   "cell_type": "code",
   "execution_count": null,
   "metadata": {
    "Collapsed": "false",
    "jupyter": {}
   },
   "outputs": [],
   "source": [
    "# from inputs import (\n",
    "#     stoich_i,\n",
    "#     lowest_N_sys_to_track,\n",
    "#     )"
   ]
  }
 ],
 "metadata": {
  "jupytext": {
   "encoding": "# -*- coding: utf-8 -*-"
  },
  "kernelspec": {
   "display_name": "Python [conda env:PROJ_IrOx_Active_Learning_OER]",
   "language": "python",
   "name": "conda-env-PROJ_IrOx_Active_Learning_OER-py"
  },
  "language_info": {
   "codemirror_mode": {
    "name": "ipython",
    "version": 3
   },
   "file_extension": ".py",
   "mimetype": "text/x-python",
   "name": "python",
   "nbconvert_exporter": "python",
   "pygments_lexer": "ipython3",
   "version": "3.6.7"
  }
 },
 "nbformat": 4,
 "nbformat_minor": 4
}
