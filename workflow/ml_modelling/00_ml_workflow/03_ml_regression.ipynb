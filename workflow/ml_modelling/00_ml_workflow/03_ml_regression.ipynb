{
 "cells": [
  {
   "cell_type": "markdown",
   "metadata": {},
   "source": [
    "# Train Gaussian Process ML Model\n",
    "___"
   ]
  },
  {
   "cell_type": "markdown",
   "metadata": {},
   "source": [
    "# Notebook Setup"
   ]
  },
  {
   "cell_type": "markdown",
   "metadata": {},
   "source": [
    "## Import Modules"
   ]
  },
  {
   "cell_type": "code",
   "execution_count": 1,
   "metadata": {},
   "outputs": [],
   "source": [
    "import os\n",
    "import pickle\n",
    "import numpy as np\n",
    "\n",
    "from catlearn.regression import GaussianProcess"
   ]
  },
  {
   "cell_type": "code",
   "execution_count": 2,
   "metadata": {},
   "outputs": [
    {
     "data": {
      "text/plain": [
       "'0.24.2'"
      ]
     },
     "execution_count": 2,
     "metadata": {},
     "output_type": "execute_result"
    }
   ],
   "source": [
    "import pandas as pd\n",
    "\n",
    "pd.__version__"
   ]
  },
  {
   "cell_type": "markdown",
   "metadata": {},
   "source": [
    "## Script Inputs"
   ]
  },
  {
   "cell_type": "code",
   "execution_count": 3,
   "metadata": {},
   "outputs": [],
   "source": [
    "file_i = os.path.join(\n",
    "    os.environ[\"PROJ_irox\"],\n",
    "    \"workflow/ml_modelling/00_ml_workflow/outdata\",\n",
    "    \"02_data_featurized.pickle\",\n",
    "    )"
   ]
  },
  {
   "cell_type": "markdown",
   "metadata": {},
   "source": [
    "## Load Data"
   ]
  },
  {
   "cell_type": "code",
   "execution_count": 4,
   "metadata": {},
   "outputs": [],
   "source": [
    "with open(file_i, \"rb\") as fle:\n",
    "    df_m = pickle.load(fle)"
   ]
  },
  {
   "cell_type": "markdown",
   "metadata": {},
   "source": [
    "## Pre-process Data"
   ]
  },
  {
   "cell_type": "markdown",
   "metadata": {},
   "source": [
    "Only train and predict on AB3 structures"
   ]
  },
  {
   "cell_type": "code",
   "execution_count": 5,
   "metadata": {},
   "outputs": [],
   "source": [
    "df_m = df_m[df_m[\"default_columns\"][\"stoich\"] == \"AB3\"]\n",
    "\n",
    "# df_m[0:3]"
   ]
  },
  {
   "cell_type": "code",
   "execution_count": 6,
   "metadata": {},
   "outputs": [
    {
     "data": {
      "text/html": [
       "<div>\n",
       "<style scoped>\n",
       "    .dataframe tbody tr th:only-of-type {\n",
       "        vertical-align: middle;\n",
       "    }\n",
       "\n",
       "    .dataframe tbody tr th {\n",
       "        vertical-align: top;\n",
       "    }\n",
       "\n",
       "    .dataframe thead tr th {\n",
       "        text-align: left;\n",
       "    }\n",
       "</style>\n",
       "<table border=\"1\" class=\"dataframe\">\n",
       "  <thead>\n",
       "    <tr>\n",
       "      <th></th>\n",
       "      <th colspan=\"5\" halign=\"left\">default_columns</th>\n",
       "      <th colspan=\"5\" halign=\"left\">prototype_info</th>\n",
       "      <th>...</th>\n",
       "      <th colspan=\"10\" halign=\"left\">features_pca</th>\n",
       "    </tr>\n",
       "    <tr>\n",
       "      <th></th>\n",
       "      <th>atoms</th>\n",
       "      <th>formation_e</th>\n",
       "      <th>id</th>\n",
       "      <th>oqmd_id</th>\n",
       "      <th>stoich</th>\n",
       "      <th>name_i</th>\n",
       "      <th>parameter_values_i</th>\n",
       "      <th>spacegroup_i</th>\n",
       "      <th>species_i</th>\n",
       "      <th>wyckoff_i</th>\n",
       "      <th>...</th>\n",
       "      <th>10</th>\n",
       "      <th>11</th>\n",
       "      <th>12</th>\n",
       "      <th>13</th>\n",
       "      <th>14</th>\n",
       "      <th>15</th>\n",
       "      <th>16</th>\n",
       "      <th>17</th>\n",
       "      <th>18</th>\n",
       "      <th>19</th>\n",
       "    </tr>\n",
       "  </thead>\n",
       "  <tbody>\n",
       "    <tr>\n",
       "      <th>697</th>\n",
       "      <td>(Atom('Ir', [0.0, 0.0, 0.0], tag=0, index=0), ...</td>\n",
       "      <td>NaN</td>\n",
       "      <td>0</td>\n",
       "      <td>NaN</td>\n",
       "      <td>AB3</td>\n",
       "      <td>AB3_1_a_bc_191</td>\n",
       "      <td>[{'name': 'a', 'value': 5.552499976395137}, {'...</td>\n",
       "      <td>191</td>\n",
       "      <td>[Ir, O, O]</td>\n",
       "      <td>[a, b, c]</td>\n",
       "      <td>...</td>\n",
       "      <td>0.009133</td>\n",
       "      <td>-0.047166</td>\n",
       "      <td>0.036836</td>\n",
       "      <td>-0.007277</td>\n",
       "      <td>0.097195</td>\n",
       "      <td>-0.004311</td>\n",
       "      <td>0.045155</td>\n",
       "      <td>-0.014266</td>\n",
       "      <td>0.008509</td>\n",
       "      <td>-0.005023</td>\n",
       "    </tr>\n",
       "    <tr>\n",
       "      <th>698</th>\n",
       "      <td>(Atom('O', [0.0, 0.0, 3.853165], tag=0, index=...</td>\n",
       "      <td>NaN</td>\n",
       "      <td>100</td>\n",
       "      <td>NaN</td>\n",
       "      <td>AB3</td>\n",
       "      <td>AB3_1_a_bh_123</td>\n",
       "      <td>[{'name': 'a', 'value': 2.79322}, {'name': 'b/...</td>\n",
       "      <td>123</td>\n",
       "      <td>[Ir, O, O]</td>\n",
       "      <td>[a, b, h]</td>\n",
       "      <td>...</td>\n",
       "      <td>-0.085653</td>\n",
       "      <td>0.050189</td>\n",
       "      <td>0.081931</td>\n",
       "      <td>-0.013496</td>\n",
       "      <td>-0.023988</td>\n",
       "      <td>0.039874</td>\n",
       "      <td>-0.025906</td>\n",
       "      <td>-0.006926</td>\n",
       "      <td>0.000122</td>\n",
       "      <td>-0.003530</td>\n",
       "    </tr>\n",
       "    <tr>\n",
       "      <th>699</th>\n",
       "      <td>(Atom('O', [0.0, 0.0, 25.833282699999998], tag...</td>\n",
       "      <td>NaN</td>\n",
       "      <td>101</td>\n",
       "      <td>NaN</td>\n",
       "      <td>AB3</td>\n",
       "      <td>AB3_7_a3b4_a4b3c7_99</td>\n",
       "      <td>[{'name': 'a', 'value': 3.72125}, {'name': 'b/...</td>\n",
       "      <td>99</td>\n",
       "      <td>[Ir, Ir, Ir, Ir, Ir, Ir, Ir, O, O, O, O, O, O,...</td>\n",
       "      <td>[a, a, a, b, b, b, b, a, a, a, a, b, b, b, c, ...</td>\n",
       "      <td>...</td>\n",
       "      <td>0.028219</td>\n",
       "      <td>0.047584</td>\n",
       "      <td>0.050935</td>\n",
       "      <td>0.003089</td>\n",
       "      <td>0.027579</td>\n",
       "      <td>0.011280</td>\n",
       "      <td>-0.013778</td>\n",
       "      <td>0.003758</td>\n",
       "      <td>0.005796</td>\n",
       "      <td>-0.003372</td>\n",
       "    </tr>\n",
       "    <tr>\n",
       "      <th>700</th>\n",
       "      <td>(Atom('O', [0.9539667806000002, 1.648481928199...</td>\n",
       "      <td>NaN</td>\n",
       "      <td>102</td>\n",
       "      <td>NaN</td>\n",
       "      <td>AB3</td>\n",
       "      <td>AB3_8_adgi2_l4_149</td>\n",
       "      <td>[{'name': 'a', 'value': 5.821114940147411}, {'...</td>\n",
       "      <td>149</td>\n",
       "      <td>[Ir, Ir, Ir, Ir, Ir, O, O, O, O]</td>\n",
       "      <td>[a, d, g, i, i, l, l, l, l]</td>\n",
       "      <td>...</td>\n",
       "      <td>-0.038590</td>\n",
       "      <td>0.029052</td>\n",
       "      <td>0.006647</td>\n",
       "      <td>0.009825</td>\n",
       "      <td>0.002921</td>\n",
       "      <td>-0.007218</td>\n",
       "      <td>-0.001823</td>\n",
       "      <td>0.000468</td>\n",
       "      <td>-0.003188</td>\n",
       "      <td>0.000672</td>\n",
       "    </tr>\n",
       "    <tr>\n",
       "      <th>701</th>\n",
       "      <td>(Atom('Ir', [2.209615, 0.0, 4.641573129], tag=...</td>\n",
       "      <td>NaN</td>\n",
       "      <td>103</td>\n",
       "      <td>NaN</td>\n",
       "      <td>AB3</td>\n",
       "      <td>AB3_3_ac_a2b3c2_99</td>\n",
       "      <td>[{'name': 'a', 'value': 4.41923}, {'name': 'b/...</td>\n",
       "      <td>99</td>\n",
       "      <td>[Ir, Ir, O, O, O, O, O, O, O]</td>\n",
       "      <td>[a, c, a, a, b, b, b, c, c]</td>\n",
       "      <td>...</td>\n",
       "      <td>-0.048612</td>\n",
       "      <td>0.024397</td>\n",
       "      <td>0.045955</td>\n",
       "      <td>-0.006091</td>\n",
       "      <td>0.035545</td>\n",
       "      <td>0.020443</td>\n",
       "      <td>-0.002692</td>\n",
       "      <td>-0.003254</td>\n",
       "      <td>-0.009536</td>\n",
       "      <td>-0.009198</td>\n",
       "    </tr>\n",
       "  </tbody>\n",
       "</table>\n",
       "<p>5 rows × 30 columns</p>\n",
       "</div>"
      ],
      "text/plain": [
       "                                       default_columns                   \\\n",
       "                                                 atoms formation_e   id   \n",
       "697  (Atom('Ir', [0.0, 0.0, 0.0], tag=0, index=0), ...         NaN    0   \n",
       "698  (Atom('O', [0.0, 0.0, 3.853165], tag=0, index=...         NaN  100   \n",
       "699  (Atom('O', [0.0, 0.0, 25.833282699999998], tag...         NaN  101   \n",
       "700  (Atom('O', [0.9539667806000002, 1.648481928199...         NaN  102   \n",
       "701  (Atom('Ir', [2.209615, 0.0, 4.641573129], tag=...         NaN  103   \n",
       "\n",
       "                          prototype_info  \\\n",
       "    oqmd_id stoich                name_i   \n",
       "697     NaN    AB3        AB3_1_a_bc_191   \n",
       "698     NaN    AB3        AB3_1_a_bh_123   \n",
       "699     NaN    AB3  AB3_7_a3b4_a4b3c7_99   \n",
       "700     NaN    AB3    AB3_8_adgi2_l4_149   \n",
       "701     NaN    AB3    AB3_3_ac_a2b3c2_99   \n",
       "\n",
       "                                                                     \\\n",
       "                                    parameter_values_i spacegroup_i   \n",
       "697  [{'name': 'a', 'value': 5.552499976395137}, {'...          191   \n",
       "698  [{'name': 'a', 'value': 2.79322}, {'name': 'b/...          123   \n",
       "699  [{'name': 'a', 'value': 3.72125}, {'name': 'b/...           99   \n",
       "700  [{'name': 'a', 'value': 5.821114940147411}, {'...          149   \n",
       "701  [{'name': 'a', 'value': 4.41923}, {'name': 'b/...           99   \n",
       "\n",
       "                                                        \\\n",
       "                                             species_i   \n",
       "697                                         [Ir, O, O]   \n",
       "698                                         [Ir, O, O]   \n",
       "699  [Ir, Ir, Ir, Ir, Ir, Ir, Ir, O, O, O, O, O, O,...   \n",
       "700                   [Ir, Ir, Ir, Ir, Ir, O, O, O, O]   \n",
       "701                      [Ir, Ir, O, O, O, O, O, O, O]   \n",
       "\n",
       "                                                        ... features_pca  \\\n",
       "                                             wyckoff_i  ...           10   \n",
       "697                                          [a, b, c]  ...     0.009133   \n",
       "698                                          [a, b, h]  ...    -0.085653   \n",
       "699  [a, a, a, b, b, b, b, a, a, a, a, b, b, b, c, ...  ...     0.028219   \n",
       "700                        [a, d, g, i, i, l, l, l, l]  ...    -0.038590   \n",
       "701                        [a, c, a, a, b, b, b, c, c]  ...    -0.048612   \n",
       "\n",
       "                                                                           \\\n",
       "           11        12        13        14        15        16        17   \n",
       "697 -0.047166  0.036836 -0.007277  0.097195 -0.004311  0.045155 -0.014266   \n",
       "698  0.050189  0.081931 -0.013496 -0.023988  0.039874 -0.025906 -0.006926   \n",
       "699  0.047584  0.050935  0.003089  0.027579  0.011280 -0.013778  0.003758   \n",
       "700  0.029052  0.006647  0.009825  0.002921 -0.007218 -0.001823  0.000468   \n",
       "701  0.024397  0.045955 -0.006091  0.035545  0.020443 -0.002692 -0.003254   \n",
       "\n",
       "                         \n",
       "           18        19  \n",
       "697  0.008509 -0.005023  \n",
       "698  0.000122 -0.003530  \n",
       "699  0.005796 -0.003372  \n",
       "700 -0.003188  0.000672  \n",
       "701 -0.009536 -0.009198  \n",
       "\n",
       "[5 rows x 30 columns]"
      ]
     },
     "execution_count": 6,
     "metadata": {},
     "output_type": "execute_result"
    }
   ],
   "source": [
    "df_m.head()"
   ]
  },
  {
   "cell_type": "markdown",
   "metadata": {},
   "source": [
    "# Training Data"
   ]
  },
  {
   "cell_type": "code",
   "execution_count": 7,
   "metadata": {},
   "outputs": [],
   "source": [
    "df_train = df_m[df_m[\"default_columns\"][\"formation_e\"].notnull()]\n",
    "train_x = df_train[\"features_pca\"].values\n",
    "train_y = df_train[\"default_columns\"][\"formation_e\"]"
   ]
  },
  {
   "cell_type": "code",
   "execution_count": 8,
   "metadata": {},
   "outputs": [
    {
     "name": "stdout",
     "output_type": "stream",
     "text": [
      "Optimized kernel: [{'type': 'quadratic', 'dimension': 'single', 'slope': array([6.3917]), 'scaling': 0.512, 'degree': array([0.3907])}]\n"
     ]
    }
   ],
   "source": [
    "# Define initial prediction parameters.\n",
    "# noise = 0.0042  # Regularisation parameter.\n",
    "\n",
    "# sigma_l = 2.3917  # Length scale parameter.\n",
    "# sigma_f = 0.5120  # Scaling parameter.\n",
    "# alpha = 0.8907  # Alpha parameter.\n",
    "\n",
    "noise = 0.0042  # Regularisation parameter.\n",
    "sigma_l = 6.3917  # Length scale parameter.\n",
    "sigma_f = 0.5120  # Scaling parameter.\n",
    "alpha = 0.3907  # Alpha parameter.\n",
    "\n",
    "\n",
    "kdict = [\n",
    "    {\n",
    "        'type': 'quadratic',\n",
    "        'dimension': 'single',\n",
    "        # 'dimension': 'features',\n",
    "        'slope': sigma_l,\n",
    "        'scaling': sigma_f,\n",
    "        'degree': alpha,\n",
    "        }\n",
    "    ]\n",
    "\n",
    "gp = GaussianProcess(\n",
    "    kernel_list=kdict, regularization=noise, train_fp=train_x,\n",
    "    train_target=train_y, optimize_hyperparameters=False,\n",
    "    scale_data=False)\n",
    "\n",
    "print('Optimized kernel:', gp.kernel_list)\n",
    "\n",
    "# Optimize hyperparameters:\n",
    "gp.optimize_hyperparameters(global_opt=True)"
   ]
  },
  {
   "cell_type": "markdown",
   "metadata": {},
   "source": [
    "# Predictions\n",
    "\n",
    "Do the optimized predictions."
   ]
  },
  {
   "cell_type": "code",
   "execution_count": 9,
   "metadata": {},
   "outputs": [
    {
     "name": "stderr",
     "output_type": "stream",
     "text": [
      "/mnt/f/Dropbox/01_norskov/00_git_repos/CatLearn/catlearn/regression/gpfunctions/uncertainty.py:41: RuntimeWarning: invalid value encountered in sqrt\n",
      "  uncertainty = np.sqrt(scale - var)\n"
     ]
    }
   ],
   "source": [
    "pred = gp.predict(\n",
    "    test_fp=df_m[\"features_pca\"].values,\n",
    "    # test_fp=test_data[:249],\n",
    "    uncertainty=True,\n",
    "    )\n",
    "\n",
    "# prediction = np.array(pred['prediction'][:, 0])\n",
    "prediction = pred[\"prediction\"]\n",
    "\n",
    "# Calculate the uncertainty of the predictions.\n",
    "uncertainty = np.array(pred['uncertainty'])\n",
    "\n",
    "# Sort predictions (ascending):\n",
    "sorted_x = np.arange(0, len(prediction))\n",
    "sorted_y = prediction[np.argsort(prediction)]\n",
    "sorted_unc = uncertainty[np.argsort(prediction)]"
   ]
  },
  {
   "cell_type": "markdown",
   "metadata": {},
   "source": [
    "# Plotting"
   ]
  },
  {
   "cell_type": "code",
   "execution_count": 10,
   "metadata": {},
   "outputs": [
    {
     "data": {
      "text/html": [
       "<iframe id=\"igraph\" scrolling=\"no\" style=\"border:none;\" seamless=\"seamless\" src=\"https://plot.ly/~flores12/774.embed\" height=\"525px\" width=\"100%\"></iframe>"
      ],
      "text/plain": [
       "<chart_studio.tools.PlotlyDisplay object>"
      ]
     },
     "execution_count": 10,
     "metadata": {},
     "output_type": "execute_result"
    }
   ],
   "source": [
    "import plotly.plotly as py\n",
    "import plotly.graph_objs as go\n",
    "\n",
    "import os\n",
    "\n",
    "x_array = [0, 1, 2, 3]\n",
    "y_array = [0, 1, 2, 3]\n",
    "\n",
    "trace = go.Scatter(\n",
    "    x=sorted_x,\n",
    "    y=sorted_y,\n",
    "\n",
    "    error_y={\n",
    "        \"type\": 'data',\n",
    "        \"array\": sorted_unc,\n",
    "        \"visible\": True,\n",
    "        },\n",
    "\n",
    "    mode=\"markers\",\n",
    "    )\n",
    "\n",
    "data = [trace]\n",
    "\n",
    "py.iplot(data,\n",
    "    filename=os.path.join(\n",
    "        \"__temp__\",\n",
    "        \"temp_plot_0\"\n",
    "        )\n",
    "    )"
   ]
  }
 ],
 "metadata": {
  "kernelspec": {
   "display_name": "Python 3",
   "language": "python",
   "name": "python3"
  },
  "language_info": {
   "codemirror_mode": {
    "name": "ipython",
    "version": 3
   },
   "file_extension": ".py",
   "mimetype": "text/x-python",
   "name": "python",
   "nbconvert_exporter": "python",
   "pygments_lexer": "ipython3",
   "version": "3.6.7"
  }
 },
 "nbformat": 4,
 "nbformat_minor": 2
}
