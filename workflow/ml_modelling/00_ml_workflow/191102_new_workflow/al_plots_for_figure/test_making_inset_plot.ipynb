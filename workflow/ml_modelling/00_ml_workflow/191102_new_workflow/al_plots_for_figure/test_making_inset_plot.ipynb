{
 "cells": [
  {
   "cell_type": "code",
   "execution_count": null,
   "metadata": {},
   "outputs": [],
   "source": [
    "import plotly.graph_objs as go\n",
    "\n",
    "from plotting.my_plotly import my_plotly_plot"
   ]
  },
  {
   "cell_type": "markdown",
   "metadata": {},
   "source": [
    "# Script Inputs"
   ],
   "execution_count": null,
   "outputs": []
  },
  {
   "cell_type": "code",
   "execution_count": null,
   "metadata": {},
   "outputs": [],
   "source": [
    "stoich_i = \"AB2\""
   ]
  },
  {
   "cell_type": "markdown",
   "metadata": {},
   "source": [
    "# Read Data"
   ],
   "execution_count": null,
   "outputs": []
  },
  {
   "cell_type": "code",
   "execution_count": null,
   "metadata": {},
   "outputs": [],
   "source": [
    "# #############################################################################\n",
    "import pickle; import os\n",
    "path_i = os.path.join(\n",
    "    os.environ[\"PROJ_irox\"],\n",
    "    \"workflow/ml_modelling/00_ml_workflow/191102_new_workflow/performance_comp/out_data\",\n",
    "    stoich_i + \"_\" + \"fig_al_perf.pickle\")\n",
    "with open(path_i, \"rb\") as fle:\n",
    "    fig_perf = pickle.load(fle)\n",
    "# #############################################################################"
   ]
  },
  {
   "cell_type": "code",
   "execution_count": null,
   "metadata": {},
   "outputs": [],
   "source": [
    "# #############################################################################\n",
    "import pickle; import os\n",
    "path_i = os.path.join(\n",
    "    # os.environ[\"\"],\n",
    "    \"out_data\",\n",
    "    stoich_i + \"_\" + \"figs_dict.pickle\")\n",
    "with open(path_i, \"rb\") as fle:\n",
    "    fig_dict = pickle.load(fle)\n",
    "# #############################################################################\n",
    "\n",
    "fig_inset = fig_dict[\"fig_inset\"]\n",
    "fig_main = fig_dict[\"fig_main\"]\n",
    "\n",
    "# #####################################\n",
    "data_all = []\n",
    "\n",
    "data_inset = fig_inset.data\n",
    "data_main = fig_main.data\n",
    "\n",
    "data_all.extend(data_inset)\n",
    "data_all.extend(data_main)\n",
    "\n",
    "# #####################################\n",
    "layout_inset = fig_inset.layout\n",
    "layout_main = fig_main.layout"
   ]
  },
  {
   "cell_type": "code",
   "execution_count": null,
   "metadata": {},
   "outputs": [],
   "source": [
    "fig_main.show()"
   ]
  },
  {
   "cell_type": "code",
   "execution_count": null,
   "metadata": {},
   "outputs": [],
   "source": [
    "for trace_i in data_inset:\n",
    "    trace_i.xaxis = \"x2\"\n",
    "    trace_i.yaxis = \"y2\""
   ]
  },
  {
   "cell_type": "code",
   "execution_count": null,
   "metadata": {},
   "outputs": [],
   "source": [
    "layout = go.Layout(\n",
    "    xaxis2=dict(\n",
    "        domain=[0.1, 0.35],\n",
    "        anchor='y2'\n",
    "        ),\n",
    "    yaxis2=dict(\n",
    "        domain=[0.55, 0.95],\n",
    "        anchor='x2'\n",
    "        )\n",
    "    )"
   ]
  },
  {
   "cell_type": "code",
   "execution_count": null,
   "metadata": {},
   "outputs": [],
   "source": [
    "layout[\"xaxis2\"].update(layout_inset[\"xaxis\"])\n",
    "layout[\"yaxis2\"].update(layout_inset[\"yaxis\"])\n",
    "\n",
    "layout_main.template = None\n",
    "layout = layout.update(layout_main)\n",
    "\n",
    "# layout['paper_bgcolor'] = 'rgba(0,0,0,0)'\n",
    "# layout['plot_bgcolor'] = 'rgba(0,0,0,0)'\n",
    "\n",
    "layout['paper_bgcolor'] = 'white'\n",
    "layout['plot_bgcolor'] = 'white'"
   ]
  },
  {
   "cell_type": "code",
   "execution_count": null,
   "metadata": {},
   "outputs": [],
   "source": [
    "# Annotation of inset plot square\n",
    "shapes = [\n",
    "    go.layout.Shape(\n",
    "        type=\"rect\",\n",
    "        xref=\"x\",\n",
    "        yref=\"y\",\n",
    "\n",
    "        x0=-1,\n",
    "        y0=-2.65,\n",
    "        x1=16.5,\n",
    "        y1=-2.2,\n",
    "\n",
    "        line=dict(\n",
    "            color=\"grey\",\n",
    "            width=1.,\n",
    "            ),\n",
    "        # fillcolor=\"LightSkyBlue\",\n",
    "        ),\n",
    "\n",
    "\n",
    "    go.layout.Shape(\n",
    "        type=\"line\",\n",
    "        xref=\"paper\",   \n",
    "        yref=\"paper\",\n",
    "        x0=0.1,\n",
    "        y0=0.075,\n",
    "        x1=0.35,\n",
    "        y1=0.55,\n",
    "        line=dict(\n",
    "            color=\"black\",\n",
    "            width=1,\n",
    "            )\n",
    "        ),\n",
    "\n",
    "\n",
    "    go.layout.Shape(\n",
    "        type=\"line\",\n",
    "        xref=\"paper\",\n",
    "        yref=\"paper\",\n",
    "        x0=0.035 - 0.001479855,\n",
    "        y0=0.119 + 0.003112469 + 0.0005,\n",
    "        x1=0.1,\n",
    "        y1=0.55,\n",
    "        line=dict(\n",
    "            color=\"black\",\n",
    "            width=1,\n",
    "            )\n",
    "        ),\n",
    "\n",
    "    ]\n",
    "\n",
    "layout.shapes = shapes"
   ]
  },
  {
   "cell_type": "code",
   "execution_count": null,
   "metadata": {},
   "outputs": [],
   "source": [
    "fig = go.Figure(data=data_all, layout=layout)\n",
    "\n",
    "tmp = my_plotly_plot(\n",
    "    figure=fig,\n",
    "    plot_name=stoich_i + \"_\" + \"al_main_w_inset\",\n",
    "    write_html=True,\n",
    "    write_png=True,\n",
    "    png_scale=10.0,\n",
    "    write_pdf=True)\n",
    "\n",
    "# fig.show()"
   ]
  },
  {
   "cell_type": "code",
   "execution_count": null,
   "metadata": {},
   "outputs": [],
   "source": [
    "fig.show()"
   ]
  },
  {
   "cell_type": "code",
   "execution_count": null,
   "metadata": {},
   "outputs": [],
   "source": [
    "assert False"
   ]
  },
  {
   "cell_type": "code",
   "execution_count": null,
   "metadata": {},
   "outputs": [],
   "source": [
    "fig.layout"
   ]
  },
  {
   "cell_type": "raw",
   "metadata": {},
   "source": [
    "\n",
    "\n",
    "\n",
    "\n"
   ],
   "execution_count": null,
   "outputs": []
  },
  {
   "cell_type": "code",
   "execution_count": null,
   "metadata": {},
   "outputs": [],
   "source": [
    "from plotly.subplots import make_subplots\n",
    "import plotly.graph_objects as go\n",
    "\n",
    "fig_subplot = make_subplots(rows=1, cols=2)\n",
    "\n",
    "for trace_i in fig.data:\n",
    "    fig_subplot.add_trace(\n",
    "        trace_i,\n",
    "        row=1, col=1\n",
    "        )\n",
    "\n",
    "# fig_subplot.add_trace(\n",
    "#     trace_i,\n",
    "#     row=1, col=1\n",
    "#     )\n",
    "\n",
    "# fig.add_trace(\n",
    "#     # go.Scatter(x=[1, 2, 3], y=[4, 5, 6]),\n",
    "#     fig.data,\n",
    "#     row=1, col=1\n",
    "# )\n",
    "\n",
    "fig_subplot.add_trace(\n",
    "    go.Scatter(x=[20, 30, 40], y=[50, 60, 70]),\n",
    "    row=1, col=2\n",
    ")\n",
    "\n",
    "fig_subplot.update_layout(height=600, width=800, title_text=\"Subplots\")\n",
    "fig_subplot.show()"
   ]
  },
  {
   "cell_type": "code",
   "execution_count": null,
   "metadata": {},
   "outputs": [],
   "source": [
    "# fig_subplot.data\n",
    "\n",
    "# fig_subplot.update_layout(layout)\n",
    "\n",
    "\n",
    "fig_subplot.layout"
   ]
  },
  {
   "cell_type": "code",
   "execution_count": null,
   "metadata": {
    "jupyter": {}
   },
   "outputs": [],
   "source": [
    "# dir(layout_main)\n",
    "\n",
    "# type(layout_main)\n",
    "# go.Layout\n",
    "\n",
    "# layout_main.template\n",
    "# layout_main.__delattr__(\"template\")\n",
    "\n",
    "# layout_main.template = None"
   ]
  },
  {
   "cell_type": "code",
   "execution_count": null,
   "metadata": {
    "jupyter": {}
   },
   "outputs": [],
   "source": [
    "# layout_tmp = go.Layout({\n",
    "#     'font': {'color': 'black', 'family': 'Arial'},\n",
    "#     'height': 270,\n",
    "#     'margin': {'b': 20, 'l': 20, 'r': 10, 't': 10},\n",
    "#     'paper_bgcolor': 'rgba(0,0,0,0)',\n",
    "#     'plot_bgcolor': 'rgba(0,0,0,0)',\n",
    "#     'shapes': [{'line': {'color': 'grey', 'width': 1.0},\n",
    "#                 'type': 'rect',\n",
    "#                 'x0': -1,\n",
    "#                 'x1': 16.5,\n",
    "#                 'xref': 'x',\n",
    "#                 'y0': -2.65,\n",
    "#                 'y1': -2.2,\n",
    "#                 'yref': 'y'}],\n",
    "#     'showlegend': False,\n",
    "#     # 'template': '...',\n",
    "#     'width': 450,\n",
    "#     'xaxis': {'linecolor': 'red',\n",
    "#               'linewidth': 1.0,\n",
    "#               'mirror': True,\n",
    "#               'range': [-10, 258],\n",
    "#               'showgrid': False,\n",
    "#               'showline': True,\n",
    "#               'showticklabels': True,\n",
    "#               'tickcolor': 'black',\n",
    "#               'tickfont': {'size': 10.666666666666666},\n",
    "#               'ticks': 'outside',\n",
    "#               'title': {'font': {'color': 'black', 'size': 13.333333333333332}, 'text': 'Candidate Space'},\n",
    "#               'zeroline': False},\n",
    "#     'yaxis': {'dtick': 1.0,\n",
    "#               'linecolor': 'red',\n",
    "#               'linewidth': 1.0,\n",
    "#               'mirror': True,\n",
    "#               'showgrid': False,\n",
    "#               'showline': True,\n",
    "#               'showticklabels': True,\n",
    "#               'tickcolor': 'black',\n",
    "#               'tickfont': {'size': 10.666666666666666},\n",
    "#               'ticks': 'outside',\n",
    "#               'title': {'font': {'color': 'black', 'size': 13.333333333333332}, 'text': '\u0394H<sub>f</sub> (eV)'},\n",
    "#               'zeroline': False}\n",
    "# })"
   ]
  }
 ],
 "metadata": {
  "jupytext": {
   "encoding": "# -*- coding: utf-8 -*-",
   "formats": "ipynb,py:light"
  },
  "kernelspec": {
   "display_name": "Python [conda env:research-new]",
   "language": "python",
   "name": "conda-env-research-new-py"
  },
  "language_info": {
   "codemirror_mode": {
    "name": "ipython",
    "version": 3
   },
   "file_extension": ".py",
   "mimetype": "text/x-python",
   "name": "python",
   "nbconvert_exporter": "python",
   "pygments_lexer": "ipython3",
   "version": "3.6.8"
  }
 },
 "nbformat": 4,
 "nbformat_minor": 4
}
