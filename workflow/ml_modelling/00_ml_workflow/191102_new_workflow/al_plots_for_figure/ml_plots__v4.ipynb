{
 "cells": [
  {
   "cell_type": "markdown",
   "metadata": {
    "Collapsed": "false"
   },
   "source": [
    "# Import Modules"
   ]
  },
  {
   "cell_type": "code",
   "execution_count": 1,
   "metadata": {
    "Collapsed": "false"
   },
   "outputs": [],
   "source": [
    "import os\n",
    "import sys\n",
    "\n",
    "import pickle\n",
    "\n",
    "import copy\n",
    "\n",
    "import plotly.graph_objects as go\n",
    "from plotly.subplots import make_subplots\n",
    "\n",
    "# #############################################################################\n",
    "from plotting.my_plotly import my_plotly_plot\n",
    "\n",
    "sys.path.insert(0, os.path.join(os.environ[\"PROJ_irox\"], \"data\"))\n",
    "from proj_data_irox import (\n",
    "    bulk_dft_data_path,\n",
    "    ids_to_discard__too_many_atoms_path,\n",
    "    unique_ids_path,\n",
    "    df_dij_path)"
   ]
  },
  {
   "cell_type": "markdown",
   "metadata": {
    "Collapsed": "false"
   },
   "source": [
    "# Script Inputs"
   ]
  },
  {
   "cell_type": "code",
   "execution_count": 2,
   "metadata": {
    "Collapsed": "false"
   },
   "outputs": [],
   "source": [
    "from inputs import (\n",
    "    stoich_i,\n",
    "    lowest_N_sys_to_track,\n",
    "    gens_to_plot,\n",
    "    main_gen,\n",
    "    )\n",
    "\n",
    "from layout import layout as layout_base\n",
    "\n",
    "# layout = dict(xaxis=dict(linecolor=None))"
   ]
  },
  {
   "cell_type": "markdown",
   "metadata": {
    "Collapsed": "false"
   },
   "source": [
    "# Read Data"
   ]
  },
  {
   "cell_type": "code",
   "execution_count": 3,
   "metadata": {
    "Collapsed": "false"
   },
   "outputs": [
    {
     "name": "stdout",
     "output_type": "stream",
     "text": [
      "new init2!\n"
     ]
    }
   ],
   "source": [
    "if stoich_i == \"AB3\":\n",
    "    path_i = os.path.join(\n",
    "        os.environ[\"PROJ_irox\"],\n",
    "        \"workflow/ml_modelling/00_ml_workflow/191102_new_workflow/00_abx_al_runs/out_data/AB3/gp_ucb_True\",\n",
    "        \"AL_geheneva.pickle\",\n",
    "        # \"AL_pifehohu.pickle\",\n",
    "\n",
    "        # geheneva\n",
    "        # nisoponi\n",
    "        )\n",
    "elif stoich_i == \"AB2\":\n",
    "    path_i = os.path.join(\n",
    "        os.environ[\"PROJ_irox\"],\n",
    "        \"workflow/ml_modelling/00_ml_workflow/191102_new_workflow/00_abx_al_runs/out_data/AB2/gp_ucb_True\",\n",
    "        \"AL_piritapo.pickle\",\n",
    "        ) \n",
    "else:\n",
    "    assert False, \"No data here isjfisdifjisdjifjsidfjr89u8fh8wejf\"\n",
    "\n",
    "with open(path_i, \"rb\") as fle:\n",
    "    AL = pickle.load(fle)\n",
    "\n",
    "al_gen_dict = AL.al_gen_dict"
   ]
  },
  {
   "cell_type": "code",
   "execution_count": 4,
   "metadata": {
    "Collapsed": "false"
   },
   "outputs": [],
   "source": [
    "last_gen_key = list(al_gen_dict.keys())[-1]\n",
    "\n",
    "if gens_to_plot[-1] == \"last\":\n",
    "    gen_4 = last_gen_key\n",
    "    gens_to_plot[-1] = gen_4\n",
    "\n",
    "AL_last = al_gen_dict[last_gen_key]\n",
    "\n",
    "model = AL_last.model\n",
    "\n",
    "model_i = model[\n",
    "    (model[\"duplicate\"] == False) & \\\n",
    "    (model[\"acquired\"] == True)\n",
    "    ].sort_values(\"y_real\")\n",
    "top_ids_to_track = model_i.iloc[0:lowest_N_sys_to_track].index.tolist()\n",
    "\n",
    "\n",
    "color_list = [\n",
    "\n",
    "    \"rgba(12,0,127,1.0)\",\n",
    "    \"rgba(0,0,172,1.0)\",\n",
    "    \"rgba(0,1,215,1.0)\",\n",
    "    \"rgba(0,51,233,1.0)\",\n",
    "    \"rgba(0,83,255,1.0)\",\n",
    "    \"rgba(0,115,255,1.0)\",\n",
    "    \"rgba(0,141,243,1.0)\",\n",
    "    \"rgba(0,181,246,1.0)\",\n",
    "    \"rgba(0,220,245,1.0)\",\n",
    "    \"rgba(0,255,243,1.0)\",\n",
    "\n",
    "    # \"rgb(202,88,66)\",\n",
    "    # \"rgb(71,189,198)\",\n",
    "    # \"rgb(210,70,147)\",\n",
    "    # \"rgb(120,181,66)\",\n",
    "    # \"rgb(157,99,201)\",\n",
    "    # \"rgb(81,163,108)\",\n",
    "    # \"rgb(189,104,138)\",\n",
    "    # \"rgb(131,128,57)\",\n",
    "    # \"rgb(101,130,203)\",\n",
    "    # \"rgb(209,154,68)\",\n",
    "    ]\n",
    "\n",
    "\n",
    "marker_color_dict = dict(zip(\n",
    "    top_ids_to_track,\n",
    "    color_list,\n",
    "    ))"
   ]
  },
  {
   "cell_type": "code",
   "execution_count": 5,
   "metadata": {
    "Collapsed": "false"
   },
   "outputs": [],
   "source": [
    "from active_learning.al_analysis import ALAnimation\n",
    "\n",
    "ALAnim = ALAnimation(\n",
    "    ALBulkOpt=AL,\n",
    "    marker_color_dict=marker_color_dict,\n",
    "    verbose=True,\n",
    "    )\n",
    "\n",
    "# Create AL animation #########################################################\n",
    "# filename_i = stoich_i + \"_\" + AL.name\n",
    "# ALAnim.create_animation(\n",
    "#     duration_long=6000,\n",
    "#     duration_short=6000,\n",
    "\n",
    "# #     duration_long=800,\n",
    "# #     duration_short=800,\n",
    "\n",
    "#     serial_parallel='parallel',\n",
    "#     filename=filename_i,\n",
    "#     )"
   ]
  },
  {
   "cell_type": "code",
   "execution_count": 6,
   "metadata": {
    "Collapsed": "false"
   },
   "outputs": [
    {
     "name": "stdout",
     "output_type": "stream",
     "text": [
      "num_dft_i: 5\n",
      "al_gen: 0\n",
      "num_dft_i: 20\n",
      "al_gen: 3\n",
      "num_dft_i: 35\n",
      "al_gen: 6\n",
      "num_dft_i: 105\n",
      "al_gen: 20\n",
      "num_dft_i: 205\n",
      "al_gen: 40\n"
     ]
    }
   ],
   "source": [
    "traces_list = []\n",
    "for gen_i in gens_to_plot:\n",
    "\n",
    "    if gen_i < 0:\n",
    "        gen_i = list(al_gen_dict.keys())[gen_i]\n",
    "\n",
    "    AL_i = al_gen_dict[gen_i]\n",
    "    model_i = AL_i.model\n",
    "    num_systems_0 = AL_i.model.shape[0]\n",
    "\n",
    "    num_dft_i = model_i[model_i[\"acquired\"] == True].shape[0]\n",
    "    print(\"num_dft_i:\", num_dft_i)\n",
    "\n",
    "    trace_i = ALAnim.get_trace_j(\n",
    "        AL_i,\n",
    "        prediction_key=\"y\",\n",
    "        uncertainty_key=\"err\",\n",
    "        plot_dft_instead_of_pred=True,\n",
    "        plot_validation_dft=False,\n",
    "        # trace_all_dft=True,\n",
    "        trace_horiz_lines=False,\n",
    "        internally_order_df=True,\n",
    "        dft_calc_al_gen_text_overlay=False,\n",
    "        )\n",
    "    traces_list.append(trace_i)"
   ]
  },
  {
   "cell_type": "code",
   "execution_count": 7,
   "metadata": {
    "Collapsed": "false"
   },
   "outputs": [],
   "source": [
    "%%capture\n",
    "\n",
    "a = 1 / len(traces_list)\n",
    "x = 0.1\n",
    "y = a + x\n",
    "z = a - x / 4\n",
    "\n",
    "column_widths = [z, z, y, z, z]\n",
    "# print(\"column_widths:\", column_widths)\n",
    "\n",
    "fig = make_subplots(\n",
    "    rows=1, cols=len(traces_list),\n",
    "    column_widths=column_widths,\n",
    "    shared_yaxes=True,\n",
    "    horizontal_spacing=0.01)\n",
    "\n",
    "for i_ind, traces_i in enumerate(traces_list):\n",
    "    for trace_i in traces_i:\n",
    "        fig.add_trace(trace_i, row=1, col=i_ind + 1)\n",
    "\n",
    "if stoich_i == \"AB3\":\n",
    "    range_y = [-3.184, 5.529]\n",
    "elif stoich_i == \"AB2\":\n",
    "    range_y = None\n",
    "        \n",
    "\n",
    "layout_override = dict(\n",
    "    # height=200,\n",
    "    # width=650,\n",
    "\n",
    "    height=5.291667 * 37.795275591,\n",
    "    # width=17.5 * 37.795275591,\n",
    "    width=17.7 * 37.795275591,\n",
    "\n",
    "    margin=go.layout.Margin(\n",
    "        b=0,\n",
    "        l=10,\n",
    "        r=5,\n",
    "        t=5),\n",
    "    xaxis=dict(\n",
    "        range=[-20, num_systems_0 + 10],\n",
    "        showticklabels=False,\n",
    "        # ticks=\"\",\n",
    "        ticks=None,\n",
    "        ),\n",
    "    yaxis=dict(\n",
    "        range=range_y,\n",
    "        mirror=True,\n",
    "        showticklabels=False,\n",
    "        # ticks=\"\",\n",
    "        ticks=None,\n",
    "        ),\n",
    "    )\n",
    "        \n",
    "layout_base_cpy = copy.deepcopy(layout_base)\n",
    "layout = layout_base_cpy.update(layout_override)\n",
    "fig.update_layout(layout)\n",
    "\n",
    "fig.update_xaxes(layout.xaxis)\n",
    "fig.update_yaxes(layout.yaxis)\n",
    "\n",
    "# #############################################################################\n",
    "# \n",
    "fig.update_xaxes(\n",
    "    linecolor=\"red\",\n",
    "    row=1, col=3)\n",
    "fig.update_yaxes(\n",
    "    linecolor=\"red\",\n",
    "    row=1, col=3)\n",
    "\n",
    "# Update first subplot to have tick props\n",
    "fig.update_yaxes(\n",
    "    showticklabels=True,\n",
    "    ticks=\"outside\",\n",
    "    dtick=1.,\n",
    "    row=1, col=1)"
   ]
  },
  {
   "cell_type": "code",
   "execution_count": 9,
   "metadata": {
    "Collapsed": "false"
   },
   "outputs": [],
   "source": [
    "fig_al_series = copy.deepcopy(fig)\n",
    "\n",
    "my_plotly_plot(\n",
    "    figure=fig,\n",
    "    plot_name=stoich_i + \"_\" + \"al_5_gens_in_row\",\n",
    "    write_html=True,\n",
    "    write_png=True,\n",
    "    png_scale=10,\n",
    "    write_pdf=True,\n",
    "    )\n",
    "\n",
    "fig.layout.update(paper_bgcolor=\"white\")\n",
    "fig.show()"
   ]
  },
  {
   "cell_type": "code",
   "execution_count": 10,
   "metadata": {
    "Collapsed": "false"
   },
   "outputs": [],
   "source": [
    "figs_dict = {\n",
    "    # \"fig_inset\": fig_inset,\n",
    "    # \"fig_main\": fig_main,\n",
    "    \"fig_al_series\": fig_al_series,\n",
    "    }\n",
    "\n",
    "# Pickling data ######################################################\n",
    "directory = \"out_data\"\n",
    "if not os.path.exists(directory): os.makedirs(directory)\n",
    "with open(os.path.join(directory, stoich_i + \"_\" + \"figs_dict.pickle\"), \"wb\") as fle:\n",
    "    pickle.dump(figs_dict, fle)\n",
    "# #####################################################################"
   ]
  }
 ],
 "metadata": {
  "jupytext": {
   "encoding": "# -*- coding: utf-8 -*-",
   "formats": "ipynb,py:light"
  },
  "kernelspec": {
   "display_name": "Python [conda env:PROJ_IrOx_Active_Learning_OER]",
   "language": "python",
   "name": "conda-env-PROJ_IrOx_Active_Learning_OER-py"
  },
  "language_info": {
   "codemirror_mode": {
    "name": "ipython",
    "version": 3
   },
   "file_extension": ".py",
   "mimetype": "text/x-python",
   "name": "python",
   "nbconvert_exporter": "python",
   "pygments_lexer": "ipython3",
   "version": "3.6.9"
  }
 },
 "nbformat": 4,
 "nbformat_minor": 4
}
