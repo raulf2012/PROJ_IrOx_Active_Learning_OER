{
 "cells": [
  {
   "cell_type": "code",
   "execution_count": 1,
   "metadata": {},
   "outputs": [
    {
     "data": {
      "text/plain": [
       "['0c007fff',\n",
       " '0000acff',\n",
       " '0001d7ff',\n",
       " '0033e9ff',\n",
       " '0053ffff',\n",
       " '0073ffff',\n",
       " '008df3ff',\n",
       " '00b5f6ff',\n",
       " '00dcf5ff',\n",
       " '00fff3ff']"
      ]
     },
     "execution_count": 1,
     "metadata": {},
     "output_type": "execute_result"
    }
   ],
   "source": [
    "color_list = [\n",
    "    \"0c007fff\",\n",
    "    \"0000acff\",\n",
    "    \"0001d7ff\",\n",
    "    \"0033e9ff\",\n",
    "    \"0053ffff\",\n",
    "    \"0073ffff\",\n",
    "    \"008df3ff\",\n",
    "    \"00b5f6ff\",\n",
    "    \"00dcf5ff\",\n",
    "    \"00fff3ff\",\n",
    "    ]\n",
    "\n",
    "color_list"
   ]
  },
  {
   "cell_type": "code",
   "execution_count": 2,
   "metadata": {},
   "outputs": [
    {
     "name": "stdout",
     "output_type": "stream",
     "text": [
      "(12, 0, 127)\n",
      "(0, 0, 172)\n",
      "(0, 1, 215)\n",
      "(0, 51, 233)\n",
      "(0, 83, 255)\n",
      "(0, 115, 255)\n",
      "(0, 141, 243)\n",
      "(0, 181, 246)\n",
      "(0, 220, 245)\n",
      "(0, 255, 243)\n"
     ]
    }
   ],
   "source": [
    "# h = input('Enter hex: ').lstrip('#')\n",
    "\n",
    "h = '0c007fff'\n",
    "\n",
    "\n",
    "for color_i in color_list:\n",
    "    h = color_i\n",
    "    print(tuple(int(h[i:i+2], 16) for i in (0, 2, 4)))"
   ]
  },
  {
   "cell_type": "code",
   "execution_count": 3,
   "metadata": {},
   "outputs": [
    {
     "data": {
      "text/plain": [
       "\u001b[0;31mInit signature:\u001b[0m\n",
       "\u001b[0mgo\u001b[0m\u001b[0;34m.\u001b[0m\u001b[0mFrame\u001b[0m\u001b[0;34m(\u001b[0m\u001b[0;34m\u001b[0m\n",
       "\u001b[0;34m\u001b[0m    \u001b[0marg\u001b[0m\u001b[0;34m=\u001b[0m\u001b[0;32mNone\u001b[0m\u001b[0;34m,\u001b[0m\u001b[0;34m\u001b[0m\n",
       "\u001b[0;34m\u001b[0m    \u001b[0mbaseframe\u001b[0m\u001b[0;34m=\u001b[0m\u001b[0;32mNone\u001b[0m\u001b[0;34m,\u001b[0m\u001b[0;34m\u001b[0m\n",
       "\u001b[0;34m\u001b[0m    \u001b[0mdata\u001b[0m\u001b[0;34m=\u001b[0m\u001b[0;32mNone\u001b[0m\u001b[0;34m,\u001b[0m\u001b[0;34m\u001b[0m\n",
       "\u001b[0;34m\u001b[0m    \u001b[0mgroup\u001b[0m\u001b[0;34m=\u001b[0m\u001b[0;32mNone\u001b[0m\u001b[0;34m,\u001b[0m\u001b[0;34m\u001b[0m\n",
       "\u001b[0;34m\u001b[0m    \u001b[0mlayout\u001b[0m\u001b[0;34m=\u001b[0m\u001b[0;32mNone\u001b[0m\u001b[0;34m,\u001b[0m\u001b[0;34m\u001b[0m\n",
       "\u001b[0;34m\u001b[0m    \u001b[0mname\u001b[0m\u001b[0;34m=\u001b[0m\u001b[0;32mNone\u001b[0m\u001b[0;34m,\u001b[0m\u001b[0;34m\u001b[0m\n",
       "\u001b[0;34m\u001b[0m    \u001b[0mtraces\u001b[0m\u001b[0;34m=\u001b[0m\u001b[0;32mNone\u001b[0m\u001b[0;34m,\u001b[0m\u001b[0;34m\u001b[0m\n",
       "\u001b[0;34m\u001b[0m    \u001b[0;34m**\u001b[0m\u001b[0mkwargs\u001b[0m\u001b[0;34m,\u001b[0m\u001b[0;34m\u001b[0m\n",
       "\u001b[0;34m\u001b[0m\u001b[0;34m)\u001b[0m\u001b[0;34m\u001b[0m\u001b[0;34m\u001b[0m\u001b[0m\n",
       "\u001b[0;31mDocstring:\u001b[0m      Base class for all types in the trace hierarchy\n",
       "\u001b[0;31mInit docstring:\u001b[0m\n",
       "Construct a new Frame object\n",
       "\n",
       "Parameters\n",
       "----------\n",
       "arg\n",
       "    dict of properties compatible with this constructor or\n",
       "    an instance of plotly.graph_objs.Frame\n",
       "baseframe\n",
       "    The name of the frame into which this frame's\n",
       "    properties are merged before applying. This is used to\n",
       "    unify properties and avoid needing to specify the same\n",
       "    values for the same properties in multiple frames.\n",
       "data\n",
       "    A list of traces this frame modifies. The format is\n",
       "    identical to the normal trace definition.\n",
       "group\n",
       "    An identifier that specifies the group to which the\n",
       "    frame belongs, used by animate to select a subset of\n",
       "    frames.\n",
       "layout\n",
       "    Layout properties which this frame modifies. The format\n",
       "    is identical to the normal layout definition.\n",
       "name\n",
       "    A label by which to identify the frame\n",
       "traces\n",
       "    A list of trace indices that identify the respective\n",
       "    traces in the data attribute\n",
       "\n",
       "Returns\n",
       "-------\n",
       "Frame\n",
       "\u001b[0;31mFile:\u001b[0m           ~/anaconda2/envs/research-new/lib/python3.6/site-packages/plotly/graph_objs/__init__.py\n",
       "\u001b[0;31mType:\u001b[0m           type\n",
       "\u001b[0;31mSubclasses:\u001b[0m     \n"
      ]
     },
     "metadata": {},
     "output_type": "display_data"
    }
   ],
   "source": [
    "import plotly.graph_objs as go\n",
    "\n",
    "# go.Figure?\n",
    "\n",
    "go.Frame?\n",
    "\n",
    "\n",
    "# go.Layout?\n",
    "# fig.update_layout(\n",
    "#     annotations=[\n",
    "#         go.layout.Annotation(\n",
    "#             x=50,\n",
    "#             y=2,\n",
    "#             xref=\"x\",\n",
    "#             yref=\"y\",\n",
    "#             text=\"dict Text\",\n",
    "#             showarrow=True,\n",
    "#             arrowhead=7,\n",
    "#             ax=0,\n",
    "#             ay=-40\n",
    "#             )\n",
    "#         ],\n",
    "\n",
    "#     )"
   ]
  },
  {
   "cell_type": "code",
   "execution_count": 4,
   "metadata": {},
   "outputs": [
    {
     "data": {
      "text/plain": [
       "\u001b[0;31mType:\u001b[0m        property\n",
       "\u001b[0;31mString form:\u001b[0m <property object at 0x7fce1c4685e8>\n",
       "\u001b[0;31mDocstring:\u001b[0m  \n",
       "Sets the positions of the `text` elements with respects to the\n",
       "(x,y) coordinates.\n",
       "\n",
       "The 'textposition' property is an enumeration that may be specified as:\n",
       "  - One of the following enumeration values:\n",
       "        ['top left', 'top center', 'top right', 'middle left',\n",
       "        'middle center', 'middle right', 'bottom left', 'bottom\n",
       "        center', 'bottom right']\n",
       "  - A tuple, list, or one-dimensional numpy array of the above\n",
       "\n",
       "Returns\n",
       "-------\n",
       "Any|numpy.ndarray\n"
      ]
     },
     "metadata": {},
     "output_type": "display_data"
    }
   ],
   "source": [
    "go.Scatter.textposition?"
   ]
  }
 ],
 "metadata": {
  "kernelspec": {
   "display_name": "Python [conda env:research-new]",
   "language": "python",
   "name": "conda-env-research-new-py"
  },
  "language_info": {
   "codemirror_mode": {
    "name": "ipython",
    "version": 3
   },
   "file_extension": ".py",
   "mimetype": "text/x-python",
   "name": "python",
   "nbconvert_exporter": "python",
   "pygments_lexer": "ipython3",
   "version": "3.6.8"
  }
 },
 "nbformat": 4,
 "nbformat_minor": 4
}
