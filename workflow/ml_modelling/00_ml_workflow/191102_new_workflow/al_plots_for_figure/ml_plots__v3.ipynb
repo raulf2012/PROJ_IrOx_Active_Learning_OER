{
 "cells": [
  {
   "cell_type": "markdown",
   "metadata": {
    "Collapsed": "false"
   },
   "source": [
    "# Import Modules"
   ],
   "execution_count": null,
   "outputs": []
  },
  {
   "cell_type": "code",
   "execution_count": null,
   "metadata": {
    "Collapsed": "false"
   },
   "outputs": [],
   "source": [
    "import pickle\n",
    "import os\n",
    "import sys\n",
    "\n",
    "import copy\n",
    "\n",
    "import plotly.graph_objects as go\n",
    "from plotly.subplots import make_subplots\n",
    "\n",
    "# #############################################################################\n",
    "from plotting.my_plotly import my_plotly_plot\n",
    "\n",
    "sys.path.insert(0, os.path.join(os.environ[\"PROJ_irox\"], \"data\"))\n",
    "from proj_data_irox import (\n",
    "    bulk_dft_data_path,\n",
    "    ids_to_discard__too_many_atoms_path,\n",
    "    unique_ids_path,\n",
    "    df_dij_path)"
   ]
  },
  {
   "cell_type": "markdown",
   "metadata": {
    "Collapsed": "false"
   },
   "source": [
    "# Script Inputs"
   ],
   "execution_count": null,
   "outputs": []
  },
  {
   "cell_type": "code",
   "execution_count": null,
   "metadata": {
    "Collapsed": "false"
   },
   "outputs": [],
   "source": [
    "from inputs import (\n",
    "    stoich_i,\n",
    "    lowest_N_sys_to_track,\n",
    "    gens_to_plot,\n",
    "    main_gen,\n",
    "    )\n",
    "\n",
    "from layout import layout as layout_base\n",
    "\n",
    "# layout = dict(xaxis=dict(linecolor=None))"
   ]
  },
  {
   "cell_type": "markdown",
   "metadata": {
    "Collapsed": "false"
   },
   "source": [
    "# Read Data"
   ],
   "execution_count": null,
   "outputs": []
  },
  {
   "cell_type": "code",
   "execution_count": null,
   "metadata": {
    "Collapsed": "false"
   },
   "outputs": [],
   "source": [
    "if stoich_i == \"AB3\":\n",
    "    path_i = os.path.join(\n",
    "        os.environ[\"PROJ_irox\"],\n",
    "        \"workflow/ml_modelling/00_ml_workflow/191102_new_workflow/00_abx_al_runs/out_data/AB3/gp_ucb_True\",\n",
    "        \"AL_geheneva.pickle\",\n",
    "        # \"AL_pifehohu.pickle\",\n",
    "\n",
    "        # geheneva\n",
    "        # nisoponi\n",
    "        )\n",
    "elif stoich_i == \"AB2\":\n",
    "    path_i = os.path.join(\n",
    "        os.environ[\"PROJ_irox\"],\n",
    "        \"workflow/ml_modelling/00_ml_workflow/191102_new_workflow/00_abx_al_runs/out_data/AB2/gp_ucb_True\",\n",
    "        \"AL_piritapo.pickle\",\n",
    "        ) \n",
    "else:\n",
    "    assert False, \"No data here isjfisdifjisdjifjsidfjr89u8fh8wejf\"\n",
    "\n",
    "with open(path_i, \"rb\") as fle:\n",
    "    AL = pickle.load(fle)\n",
    "\n",
    "al_gen_dict = AL.al_gen_dict"
   ]
  },
  {
   "cell_type": "code",
   "execution_count": null,
   "metadata": {
    "Collapsed": "false"
   },
   "outputs": [],
   "source": [
    "last_gen_key = list(al_gen_dict.keys())[-1]\n",
    "\n",
    "if gens_to_plot[-1] == \"last\":\n",
    "    gen_4 = last_gen_key\n",
    "    gens_to_plot[-1] = gen_4\n",
    "\n",
    "AL_last = al_gen_dict[last_gen_key]\n",
    "\n",
    "model = AL_last.model\n",
    "\n",
    "model_i = model[\n",
    "    (model[\"duplicate\"] == False) & \\\n",
    "    (model[\"acquired\"] == True)\n",
    "    ].sort_values(\"y_real\")\n",
    "top_ids_to_track = model_i.iloc[0:lowest_N_sys_to_track].index.tolist()\n",
    "\n",
    "\n",
    "color_list = [\n",
    "\n",
    "    \"rgba(12,0,127,1.0)\",\n",
    "    \"rgba(0,0,172,1.0)\",\n",
    "    \"rgba(0,1,215,1.0)\",\n",
    "    \"rgba(0,51,233,1.0)\",\n",
    "    \"rgba(0,83,255,1.0)\",\n",
    "    \"rgba(0,115,255,1.0)\",\n",
    "    \"rgba(0,141,243,1.0)\",\n",
    "    \"rgba(0,181,246,1.0)\",\n",
    "    \"rgba(0,220,245,1.0)\",\n",
    "    \"rgba(0,255,243,1.0)\",\n",
    "\n",
    "    # \"rgb(202,88,66)\",\n",
    "    # \"rgb(71,189,198)\",\n",
    "    # \"rgb(210,70,147)\",\n",
    "    # \"rgb(120,181,66)\",\n",
    "    # \"rgb(157,99,201)\",\n",
    "    # \"rgb(81,163,108)\",\n",
    "    # \"rgb(189,104,138)\",\n",
    "    # \"rgb(131,128,57)\",\n",
    "    # \"rgb(101,130,203)\",\n",
    "    # \"rgb(209,154,68)\",\n",
    "    ]\n",
    "\n",
    "\n",
    "marker_color_dict = dict(zip(\n",
    "    top_ids_to_track,\n",
    "    color_list,\n",
    "    ))"
   ]
  },
  {
   "cell_type": "code",
   "execution_count": null,
   "metadata": {
    "Collapsed": "false"
   },
   "outputs": [],
   "source": [
    "model_tmp = model.sort_values(\"y_real\")\n",
    "model_tmp = model_tmp[model_tmp[\"duplicate\"] == False]\n",
    "\n",
    "\n",
    "min_y = model_tmp[\"y_real\"].min()\n",
    "\n",
    "model_tmp[model_tmp[\"y_real\"] < (min_y + 0.2)]"
   ]
  },
  {
   "cell_type": "code",
   "execution_count": null,
   "metadata": {
    "Collapsed": "false"
   },
   "outputs": [],
   "source": [
    "model_i.shape"
   ]
  },
  {
   "cell_type": "code",
   "execution_count": null,
   "metadata": {
    "Collapsed": "false"
   },
   "outputs": [],
   "source": [
    "from active_learning.al_analysis import ALAnimation\n",
    "\n",
    "ALAnim = ALAnimation(\n",
    "    ALBulkOpt=AL,\n",
    "    marker_color_dict=marker_color_dict,\n",
    "    verbose=True,\n",
    "    )\n",
    "\n",
    "# Create AL animation\n",
    "filename_i = stoich_i + \"_\" + AL.name\n",
    "# ALAnim.create_animation(\n",
    "#     duration_long=6000,\n",
    "#     duration_short=6000,\n",
    "\n",
    "# #     duration_long=800,\n",
    "# #     duration_short=800,\n",
    "\n",
    "#     serial_parallel='parallel',\n",
    "#     filename=filename_i,\n",
    "#     )"
   ]
  },
  {
   "cell_type": "code",
   "execution_count": null,
   "metadata": {
    "Collapsed": "false",
    "jupyter": {}
   },
   "outputs": [],
   "source": [
    "# self = ALAnim\n",
    "\n",
    "# AL = self.ALBulkOpt\n",
    "\n",
    "# al_gen_dict = AL.al_gen_dict\n",
    "\n",
    "# gen_i = 3\n",
    "\n",
    "\n",
    "# AL_i = al_gen_dict[gen_i]\n",
    "# model = AL_i.model\n",
    "\n",
    "# num_dft_calcs = model[model[\"acquired\"] == True].shape[0]\n",
    "\n",
    "# print(num_dft_calcs)\n",
    "\n",
    "# model[\"y_real\"].max()"
   ]
  },
  {
   "cell_type": "code",
   "execution_count": null,
   "metadata": {
    "Collapsed": "false"
   },
   "outputs": [],
   "source": [
    "traces_list = []\n",
    "for gen_i in gens_to_plot:\n",
    "\n",
    "    if gen_i < 0:\n",
    "        gen_i = list(al_gen_dict.keys())[gen_i]\n",
    "\n",
    "    AL_i = al_gen_dict[gen_i]\n",
    "    model_i = AL_i.model\n",
    "    num_systems_0 = AL_i.model.shape[0]\n",
    "\n",
    "    num_dft_i = model_i[model_i[\"acquired\"] == True].shape[0]\n",
    "    print(\"num_dft_i:\", num_dft_i)\n",
    "\n",
    "    trace_i = ALAnim.get_trace_j(\n",
    "        AL_i,\n",
    "        prediction_key=\"y\",\n",
    "        uncertainty_key=\"err\",\n",
    "        plot_dft_instead_of_pred=True,\n",
    "        plot_validation_dft=False,\n",
    "        # trace_all_dft=True,\n",
    "        trace_horiz_lines=False,\n",
    "        internally_order_df=True,\n",
    "        dft_calc_al_gen_text_overlay=False,\n",
    "        )\n",
    "    traces_list.append(trace_i)"
   ]
  },
  {
   "cell_type": "code",
   "execution_count": null,
   "metadata": {
    "Collapsed": "false"
   },
   "outputs": [],
   "source": [
    "print(len(traces_list))"
   ]
  },
  {
   "cell_type": "code",
   "execution_count": null,
   "metadata": {
    "Collapsed": "false"
   },
   "outputs": [],
   "source": [
    "%%capture\n",
    "\n",
    "a = 1 / len(traces_list)\n",
    "x = 0.1\n",
    "y = a + x\n",
    "z = a - x / 4\n",
    "\n",
    "column_widths = [z, z, y, z, z]\n",
    "# print(\"column_widths:\", column_widths)\n",
    "\n",
    "fig = make_subplots(\n",
    "    rows=1, cols=len(traces_list),\n",
    "    column_widths=column_widths,\n",
    "    shared_yaxes=True,\n",
    "    horizontal_spacing=0.01)\n",
    "\n",
    "for i_ind, traces_i in enumerate(traces_list):\n",
    "    for trace_i in traces_i:\n",
    "        fig.add_trace(trace_i, row=1, col=i_ind + 1)\n",
    "\n",
    "if stoich_i == \"AB3\":\n",
    "    range_y = [-3.184, 5.529]\n",
    "elif stoich_i == \"AB2\":\n",
    "    range_y = None\n",
    "        \n",
    "\n",
    "layout_override = dict(\n",
    "    # height=200,\n",
    "    # width=650,\n",
    "\n",
    "    height=5.291667 * 37.795275591,\n",
    "    # width=17.5 * 37.795275591,\n",
    "    width=17.7 * 37.795275591,\n",
    "\n",
    "    margin=go.layout.Margin(\n",
    "        b=0,\n",
    "        l=10,\n",
    "        r=5,\n",
    "        t=5),\n",
    "    xaxis=dict(\n",
    "        range=[-20, num_systems_0 + 10],\n",
    "        showticklabels=False,\n",
    "        # ticks=\"\",\n",
    "        ticks=None,\n",
    "        ),\n",
    "    yaxis=dict(\n",
    "        range=range_y,\n",
    "        mirror=True,\n",
    "        showticklabels=False,\n",
    "        # ticks=\"\",\n",
    "        ticks=None,\n",
    "        ),\n",
    "    )\n",
    "        \n",
    "layout_base_cpy = copy.deepcopy(layout_base)\n",
    "layout = layout_base_cpy.update(layout_override)\n",
    "fig.update_layout(layout)\n",
    "\n",
    "fig.update_xaxes(layout.xaxis)\n",
    "fig.update_yaxes(layout.yaxis)\n",
    "\n",
    "# #############################################################################\n",
    "# \n",
    "fig.update_xaxes(\n",
    "    linecolor=\"red\",\n",
    "    row=1, col=3)\n",
    "fig.update_yaxes(\n",
    "    linecolor=\"red\",\n",
    "    row=1, col=3)\n",
    "\n",
    "# Update first subplot to have tick props\n",
    "fig.update_yaxes(\n",
    "    showticklabels=True,\n",
    "    ticks=\"outside\",\n",
    "    dtick=1.,\n",
    "    row=1, col=1)"
   ]
  },
  {
   "cell_type": "code",
   "execution_count": null,
   "metadata": {
    "Collapsed": "false"
   },
   "outputs": [],
   "source": [
    "my_plotly_plot(\n",
    "    figure=fig,\n",
    "    plot_name=stoich_i + \"_\" + \"al_5_gens_in_row\",\n",
    "    write_html=True,\n",
    "    write_png=True,\n",
    "    png_scale=10,\n",
    "    write_pdf=True,\n",
    "    )\n",
    "\n",
    "fig.layout.update(paper_bgcolor=\"white\")\n",
    "fig.show()"
   ]
  },
  {
   "cell_type": "code",
   "execution_count": null,
   "metadata": {
    "Collapsed": "false"
   },
   "outputs": [],
   "source": [
    "layout = copy.deepcopy(layout)\n",
    "layout.update(dict(\n",
    "    xaxis=dict(range=[-0.5, 20]),\n",
    "    yaxis=dict(range=[-2.7, -1.8]),\n",
    "    # width=400,\n",
    "    # width=200,\n",
    "    # width=202,\n",
    "    width=200.2,\n",
    "\n",
    "    # height=300,\n",
    "    # height=220,\n",
    "    height=100,\n",
    "    showlegend=False,\n",
    "    ))\n",
    "\n",
    "fig = go.Figure(\n",
    "    data=traces_list[2],\n",
    "    layout=layout,\n",
    "    )\n",
    "\n",
    "# ##############################################################################\n",
    "my_plotly_plot(\n",
    "    figure=fig,\n",
    "    plot_name=stoich_i + \"_\" + \"al_main_plot_zoomed\",\n",
    "    write_html=True,\n",
    "    write_png=True,\n",
    "    png_scale=10,\n",
    "    write_pdf=True,\n",
    "    )\n",
    "\n",
    "fig.layout.update(paper_bgcolor=\"white\")\n",
    "fig.show()"
   ]
  },
  {
   "cell_type": "code",
   "execution_count": null,
   "metadata": {
    "Collapsed": "false"
   },
   "outputs": [],
   "source": [
    "assert False"
   ]
  },
  {
   "cell_type": "raw",
   "metadata": {
    "Collapsed": "false"
   },
   "source": [
    "\n",
    "\n",
    "\n",
    "\n",
    "\n",
    "\n",
    "\n",
    "\n",
    "\n",
    "\n",
    "\n",
    "\n",
    "\n",
    "\n",
    "\n",
    "\n",
    "\n",
    "\n",
    "\n",
    "\n",
    "\n",
    "\n"
   ],
   "execution_count": null,
   "outputs": []
  },
  {
   "cell_type": "code",
   "execution_count": null,
   "metadata": {
    "Collapsed": "false"
   },
   "outputs": [],
   "source": [
    "# Annotation of inset plot square\n",
    "annotations = [\n",
    "    go.layout.Shape(\n",
    "        type=\"rect\",\n",
    "        xref=\"x\",\n",
    "        yref=\"y\",\n",
    "\n",
    "        x0=-1,\n",
    "        y0=-2.65,\n",
    "        x1=16.5,\n",
    "        y1=-2.2,\n",
    "\n",
    "        line=dict(\n",
    "            color=\"grey\",\n",
    "            width=1.,\n",
    "            ),\n",
    "        # fillcolor=\"LightSkyBlue\",\n",
    "        ),\n",
    "\n",
    "    ]"
   ]
  },
  {
   "cell_type": "code",
   "execution_count": null,
   "metadata": {
    "Collapsed": "false"
   },
   "outputs": [],
   "source": [
    "AL_main = al_gen_dict[main_gen]\n",
    "model_main = AL_main.model\n",
    "num_systems_0 = model_main.shape[0]\n",
    "\n",
    "trace_i = ALAnim.get_trace_j(\n",
    "    AL_main,\n",
    "    prediction_key=\"y\",\n",
    "    uncertainty_key=\"err\",\n",
    "    plot_dft_instead_of_pred=True,\n",
    "    plot_validation_dft=False,\n",
    "    # trace_all_dft=True,\n",
    "    trace_horiz_lines=False,\n",
    "    internally_order_df=True,\n",
    "    )\n",
    "\n",
    "print(\"len(trace_i):\", len(trace_i))\n",
    "# trace_i = trace_i[0:1]\n",
    "\n",
    "layout_override = go.Layout(\n",
    "    width=450,\n",
    "    height=270,\n",
    "\n",
    "    xaxis=dict(\n",
    "        title=dict(\n",
    "            text=\"Candidate Space\",\n",
    "            ),\n",
    "        range=[-10, num_systems_0 + 10],\n",
    "        showticklabels=True,\n",
    "        linecolor=\"red\",\n",
    "        ticks=\"outside\",\n",
    "        ),\n",
    "\n",
    "    yaxis=dict(\n",
    "        title=dict(text=\"\u0394H<sub>f</sub> (eV)\"),\n",
    "        dtick=1.,\n",
    "        showticklabels=True,\n",
    "        linecolor=\"red\",\n",
    "        ),\n",
    "    \n",
    "    showlegend=False,\n",
    "\n",
    "    margin=go.layout.Margin(\n",
    "        b=20,\n",
    "        l=20,\n",
    "        r=10,\n",
    "        t=10),\n",
    "\n",
    "#     annotations=annotations,\n",
    "\n",
    "    )\n",
    "\n",
    "layout_base_cpy = copy.deepcopy(layout_base)\n",
    "layout = layout_base_cpy.update(layout_override)\n",
    "\n",
    "# layout.annotations = annotations\n",
    "# layout.shapes = annotations\n",
    "\n",
    "fig = go.Figure(data=trace_i, layout=layout)\n",
    "\n",
    "fig_main = fig"
   ]
  },
  {
   "cell_type": "code",
   "execution_count": null,
   "metadata": {
    "Collapsed": "false"
   },
   "outputs": [],
   "source": [
    "my_plotly_plot(\n",
    "    figure=fig,\n",
    "    plot_name=stoich_i + \"_\" + \"al_main_plot\",\n",
    "    write_html=True,\n",
    "    write_png=True,\n",
    "    png_scale=10,\n",
    "    write_pdf=True,\n",
    "    )\n",
    "\n",
    "fig.show()"
   ]
  },
  {
   "cell_type": "markdown",
   "metadata": {
    "Collapsed": "false"
   },
   "source": [
    "# Zoomed-in Plot"
   ],
   "execution_count": null,
   "outputs": []
  },
  {
   "cell_type": "code",
   "execution_count": null,
   "metadata": {
    "Collapsed": "false"
   },
   "outputs": [],
   "source": [
    "AL_main = al_gen_dict[main_gen]\n",
    "model_main = AL_main.model\n",
    "num_systems_0 = model_main.shape[0]\n",
    "\n",
    "\n",
    "trace_i = ALAnim.get_trace_j(\n",
    "    AL_main,\n",
    "    prediction_key=\"y\",\n",
    "    uncertainty_key=\"err\",\n",
    "    plot_dft_instead_of_pred=True,\n",
    "    plot_validation_dft=False,\n",
    "    # trace_all_dft=True,\n",
    "    trace_horiz_lines=False,\n",
    "    internally_order_df=True,\n",
    "    )\n",
    "\n",
    "# trace_i = trace_i[0:1]\n",
    "\n",
    "\n",
    "if stoich_i == \"AB3\":\n",
    "    # x_range = [-1, 16.5]\n",
    "    # y_range = [-2.65, -2.2]\n",
    "\n",
    "    x_range_inset = [-1, 16.5]\n",
    "    y_range_inset = [-2.65, -2.2]\n",
    "elif stoich_i == \"AB2\":\n",
    "    # x_range = [-1, 15]\n",
    "    # y_range = [-2.5844, -1.7545]\n",
    "\n",
    "    x_range_inset = [-1, 15]\n",
    "    y_range_inset = [-2.5844, -1.7545]\n",
    "\n",
    "\n",
    "layout_override = go.Layout(\n",
    "    width=450 / 2.3,\n",
    "    height=270 / 2.3,\n",
    "    margin=go.layout.Margin(\n",
    "        b=20,\n",
    "        l=20,\n",
    "        r=10,\n",
    "        t=10),\n",
    "    xaxis=dict(\n",
    "        showticklabels=False,\n",
    "        range=x_range_inset,\n",
    "        ticks=\"\",\n",
    "        ),\n",
    "    yaxis=dict(\n",
    "#         showticklabels=True,\n",
    "        range=y_range_inset,\n",
    "        ),\n",
    "    )\n",
    "\n",
    "layout_base_cpy = copy.deepcopy(layout_base)\n",
    "layout = layout_base_cpy.update(layout_override)\n",
    "\n",
    "fig = go.Figure(data=trace_i, layout=layout)\n",
    "\n",
    "fig_inset = fig"
   ]
  },
  {
   "cell_type": "code",
   "execution_count": null,
   "metadata": {
    "Collapsed": "false"
   },
   "outputs": [],
   "source": [
    "my_plotly_plot(\n",
    "    figure=fig,\n",
    "    plot_name=stoich_i + \"_\" + \"al_main_plot_zoomed\",\n",
    "    write_html=True,\n",
    "    write_png=True,\n",
    "    png_scale=10,\n",
    "    write_pdf=True,\n",
    "    )\n",
    "\n",
    "fig.show()"
   ]
  },
  {
   "cell_type": "code",
   "execution_count": null,
   "metadata": {
    "Collapsed": "false"
   },
   "outputs": [],
   "source": [
    "figs_dict = {\n",
    "    \"fig_inset\": fig_inset,\n",
    "    \"fig_main\": fig_main,\n",
    "    }\n",
    "\n",
    "# Pickling data ######################################################\n",
    "import os; import pickle\n",
    "directory = \"out_data\"\n",
    "if not os.path.exists(directory): os.makedirs(directory)\n",
    "with open(os.path.join(directory, stoich_i + \"_\" + \"figs_dict.pickle\"), \"wb\") as fle:\n",
    "    pickle.dump(figs_dict, fle)\n",
    "# #####################################################################"
   ]
  },
  {
   "cell_type": "code",
   "execution_count": null,
   "metadata": {
    "Collapsed": "false"
   },
   "outputs": [],
   "source": [
    "os.path.join(directory, stoich_i + \"_\" + \"figs_dict.pickle\")"
   ]
  },
  {
   "cell_type": "code",
   "execution_count": null,
   "metadata": {
    "Collapsed": "false"
   },
   "outputs": [],
   "source": [
    "figs_dict[\"fig_main\"]"
   ]
  },
  {
   "cell_type": "raw",
   "metadata": {
    "Collapsed": "false"
   },
   "source": [
    "\n",
    "\n"
   ],
   "execution_count": null,
   "outputs": []
  },
  {
   "cell_type": "code",
   "execution_count": null,
   "metadata": {
    "Collapsed": "false",
    "jupyter": {}
   },
   "outputs": [],
   "source": [
    "# al_output_data_path = os.path.join(\n",
    "#     os.environ[\"PROJ_irox\"],\n",
    "#     \"workflow/ml_modelling\", \"00_ml_workflow/190611_new_workflow\",\n",
    "#     \"02_gaus_proc/out_data\")\n",
    "# filename_i = \"data_dict_\" + stoich_i + \"_\" + custom_name + \"_processed.pickle\"\n",
    "\n",
    "# with open(os.path.join(al_output_data_path, filename_i), \"rb\") as fle:\n",
    "#     data = pickle.load(fle)\n",
    "\n",
    "# num_systems_0 = data[0][\"model_processed\"].shape[0]"
   ]
  },
  {
   "cell_type": "code",
   "execution_count": null,
   "metadata": {
    "Collapsed": "false",
    "jupyter": {}
   },
   "outputs": [],
   "source": [
    "# # #############################################################################\n",
    "# with open(bulk_dft_data_path, \"rb\") as fle:\n",
    "#     df_bulk_dft = pickle.load(fle)\n",
    "#     df_bulk_dft_orig = copy.deepcopy(df_bulk_dft)\n",
    "\n",
    "#     sources = ['raul', 'raul_oer']\n",
    "#     df_bulk_dft = df_bulk_dft[df_bulk_dft[\"source\"].isin(sources)]\n",
    "\n",
    "# df_bulk_dft.loc[model_i.index].sort_values(\"energy_pa\")\n",
    "\n",
    "# df_bulk_dft[df_bulk_dft[\"stoich\"] == \"AB3\"].sort_values(\"energy_pa\")"
   ]
  },
  {
   "cell_type": "code",
   "execution_count": null,
   "metadata": {
    "Collapsed": "false",
    "jupyter": {}
   },
   "outputs": [],
   "source": [
    "# stoich_i = \"AB3\"\n",
    "# custom_name = \"regular\"\n",
    "\n",
    "# lowest_N_sys_to_track = 10\n",
    "\n",
    "# generations to plot\n",
    "# gen_0 = 0\n",
    "# gen_1 = 2\n",
    "# gen_2 = 9  # 5/10 top structures found\n",
    "# gen_3 = 14 # 10/10 top structures found\n",
    "# gen_4 = \"last\"\n",
    "\n",
    "# gens_to_plot = [gen_0, gen_1, gen_2, gen_3, gen_4]\n",
    "\n",
    "# main_gen = gen_2"
   ]
  },
  {
   "cell_type": "code",
   "execution_count": null,
   "metadata": {
    "Collapsed": "false",
    "jupyter": {}
   },
   "outputs": [],
   "source": [
    "# if stoich_i == \"AB3\":\n",
    "#     x_range = [-1, 16.5]\n",
    "#     y_range = [-2.65, -2.2]\n",
    "# else:\n",
    "#     tmp = 42\n",
    "\n",
    "# # fig.layout.xaxis[\"range\"] = [-1, 12]\n",
    "# # fig.layout.yaxis[\"range\"] = [-6.4772, -6.41]\n",
    "\n",
    "# fig.layout.xaxis[\"range\"] = x_range\n",
    "# fig.layout.yaxis[\"range\"] = y_range"
   ]
  },
  {
   "cell_type": "code",
   "execution_count": null,
   "metadata": {
    "Collapsed": "false",
    "jupyter": {},
    "lines_to_end_of_cell_marker": 2
   },
   "outputs": [],
   "source": [
    "# # #############################################################################\n",
    "# import pickle; import os\n",
    "# path_i = os.path.join(\n",
    "#     os.environ[\"HOME\"],\n",
    "#     \"__temp__\",\n",
    "#     \"TEMP.pickle\")\n",
    "# with open(path_i, \"rb\") as fle:\n",
    "#     model_0 = pickle.load(fle)\n",
    "# # #############################################################################\n",
    "\n",
    "\n",
    "# data = []\n",
    "\n",
    "# for i_ind, row_i in model_0.iterrows():\n",
    "#     tmp1 = 42\n",
    "\n",
    "#     Y_main = row_i[\"Y_main\"]\n",
    "#     x_ind = row_i[\"x_axis_ind\"]\n",
    "\n",
    "#     trace_i = go.Scatter(\n",
    "#         mode=\"lines\",\n",
    "#         x=[x_ind, x_ind],\n",
    "#         y=[Y_main, 6],\n",
    "#         )\n",
    "\n",
    "#     data.append(trace_i)\n",
    "\n",
    "\n",
    "# i_ind"
   ]
  }
 ],
 "metadata": {
  "jupytext": {
   "encoding": "# -*- coding: utf-8 -*-",
   "formats": "ipynb,py:light"
  },
  "kernelspec": {
   "display_name": "Python 3",
   "language": "python",
   "name": "python3"
  },
  "language_info": {
   "codemirror_mode": {
    "name": "ipython",
    "version": 3
   },
   "file_extension": ".py",
   "mimetype": "text/x-python",
   "name": "python",
   "nbconvert_exporter": "python",
   "pygments_lexer": "ipython3",
   "version": "3.7.5"
  }
 },
 "nbformat": 4,
 "nbformat_minor": 4
}
