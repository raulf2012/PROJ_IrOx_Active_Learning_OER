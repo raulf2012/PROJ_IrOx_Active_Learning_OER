{
 "cells": [
  {
   "cell_type": "code",
   "execution_count": 1,
   "metadata": {},
   "outputs": [
    {
     "data": {
      "text/plain": [
       "'F:\\\\Dropbox\\\\01_norskov\\\\00_PythonModules;F:\\\\Dropbox\\\\01_norskov\\\\00_git_repos\\\\CatLearn;F:\\\\Dropbox\\\\01_norskov\\\\00_git_repos\\\\PROJ_IrOx_Active_Learning_OER\\\\python_classes'"
      ]
     },
     "execution_count": 1,
     "metadata": {},
     "output_type": "execute_result"
    }
   ],
   "source": [
    "import os\n",
    "\n",
    "os.environ[\"PYTHONPATH\"]"
   ]
  },
  {
   "cell_type": "code",
   "execution_count": 2,
   "metadata": {
    "Collapsed": "false"
   },
   "outputs": [
    {
     "name": "stderr",
     "output_type": "stream",
     "text": [
      "C:\\Users\\raul_desktop\\Anaconda3\\envs\\PROJ_IrOx_Active_Learning_OER\\lib\\site-packages\\tensorflow\\python\\framework\\dtypes.py:526: FutureWarning: Passing (type, 1) or '1type' as a synonym of type is deprecated; in a future version of numpy, it will be understood as (type, (1,)) / '(1,)type'.\n",
      "  _np_qint8 = np.dtype([(\"qint8\", np.int8, 1)])\n",
      "C:\\Users\\raul_desktop\\Anaconda3\\envs\\PROJ_IrOx_Active_Learning_OER\\lib\\site-packages\\tensorflow\\python\\framework\\dtypes.py:527: FutureWarning: Passing (type, 1) or '1type' as a synonym of type is deprecated; in a future version of numpy, it will be understood as (type, (1,)) / '(1,)type'.\n",
      "  _np_quint8 = np.dtype([(\"quint8\", np.uint8, 1)])\n",
      "C:\\Users\\raul_desktop\\Anaconda3\\envs\\PROJ_IrOx_Active_Learning_OER\\lib\\site-packages\\tensorflow\\python\\framework\\dtypes.py:528: FutureWarning: Passing (type, 1) or '1type' as a synonym of type is deprecated; in a future version of numpy, it will be understood as (type, (1,)) / '(1,)type'.\n",
      "  _np_qint16 = np.dtype([(\"qint16\", np.int16, 1)])\n",
      "C:\\Users\\raul_desktop\\Anaconda3\\envs\\PROJ_IrOx_Active_Learning_OER\\lib\\site-packages\\tensorflow\\python\\framework\\dtypes.py:529: FutureWarning: Passing (type, 1) or '1type' as a synonym of type is deprecated; in a future version of numpy, it will be understood as (type, (1,)) / '(1,)type'.\n",
      "  _np_quint16 = np.dtype([(\"quint16\", np.uint16, 1)])\n",
      "C:\\Users\\raul_desktop\\Anaconda3\\envs\\PROJ_IrOx_Active_Learning_OER\\lib\\site-packages\\tensorflow\\python\\framework\\dtypes.py:530: FutureWarning: Passing (type, 1) or '1type' as a synonym of type is deprecated; in a future version of numpy, it will be understood as (type, (1,)) / '(1,)type'.\n",
      "  _np_qint32 = np.dtype([(\"qint32\", np.int32, 1)])\n",
      "C:\\Users\\raul_desktop\\Anaconda3\\envs\\PROJ_IrOx_Active_Learning_OER\\lib\\site-packages\\tensorflow\\python\\framework\\dtypes.py:535: FutureWarning: Passing (type, 1) or '1type' as a synonym of type is deprecated; in a future version of numpy, it will be understood as (type, (1,)) / '(1,)type'.\n",
      "  np_resource = np.dtype([(\"resource\", np.ubyte, 1)])\n"
     ]
    },
    {
     "name": "stdout",
     "output_type": "stream",
     "text": [
      "new init2!\n"
     ]
    }
   ],
   "source": [
    "import os\n",
    "\n",
    "import time\n",
    "\n",
    "import numpy as np\n",
    "\n",
    "import itertools\n",
    "\n",
    "from methods import run_al_i\n",
    "\n",
    "from multiprocessing import Pool\n",
    "from functools import partial"
   ]
  },
  {
   "cell_type": "code",
   "execution_count": 3,
   "metadata": {
    "Collapsed": "false"
   },
   "outputs": [],
   "source": [
    "t0 = time.time()"
   ]
  },
  {
   "cell_type": "code",
   "execution_count": 4,
   "metadata": {
    "Collapsed": "false"
   },
   "outputs": [],
   "source": [
    "stoich_i = \"AB2\"\n",
    "verbose = False\n",
    "\n",
    "gp_settings = {\n",
    "    \"noise\": 0.02542,\n",
    "    \"sigma_l\": 1.0049,\n",
    "    \"sigma_f\": 5.19,\n",
    "    \"alpha\": 0.018,\n",
    "    }\n",
    "\n",
    "# duplicate_analysis = False\n",
    "# acquisition_method = \"gp_ucb\"\n",
    "# acquisition_method = \"random\"\n",
    "\n",
    "# #############################################################################\n",
    "runs_list = list(range(5))\n",
    "acquisition_methods = [\"gp_ucb\", \"random\"]\n",
    "duplicate_analysis = [True, False]\n",
    "\n",
    "# TEST SETTINGS # #############################################################\n",
    "runs_list = list(range(1))\n",
    "acquisition_methods = [\"gp_ucb\"]\n",
    "duplicate_analysis = [True]"
   ]
  },
  {
   "cell_type": "code",
   "execution_count": 5,
   "metadata": {
    "Collapsed": "false"
   },
   "outputs": [],
   "source": [
    "from misc_modules.misc_methods import GetFriendlyID\n",
    "\n",
    "# GetFriendlyID()"
   ]
  },
  {
   "cell_type": "code",
   "execution_count": 6,
   "metadata": {
    "Collapsed": "false"
   },
   "outputs": [],
   "source": [
    "variables_dict = dict(\n",
    "    stoich_i=stoich_i,\n",
    "    # acquisition_method=acquisition_method,\n",
    "    # duplicate_analysis=duplicate_analysis,\n",
    "    verbose=verbose,\n",
    "    gp_settings=gp_settings,\n",
    "    )\n",
    "\n",
    "def run_al_meth(\n",
    "    input_dict,\n",
    "    stoich_i=None,\n",
    "    # acquisition_method=None,\n",
    "    verbose=None,\n",
    "    gp_settings=None,\n",
    "    name_i=None,\n",
    "    save_dir=None,\n",
    "    # duplicate_analysis=None,\n",
    "    ):\n",
    "    \"\"\"\n",
    "    \"\"\"\n",
    "    i = input_dict['i']\n",
    "    acquisition_method = input_dict['acquisition_method']\n",
    "    duplicate_analysis = input_dict['duplicate_analysis' ]\n",
    "    seed = input_dict['seed']\n",
    "\n",
    "    # #########################################################################\n",
    "    i_str = str(i).zfill(2)\n",
    "\n",
    "    \n",
    "    print(80 * \"#\")\n",
    "    print(i_str, 77 * \"#\")\n",
    "\n",
    "    name_i = \"TEST_AL_\" + GetFriendlyID()\n",
    "    save_dir = stoich_i + \"/\" + acquisition_method + \"_\" + str(duplicate_analysis)\n",
    "    run_al_i(\n",
    "        stoich_i=stoich_i,\n",
    "        verbose=verbose,\n",
    "        gp_settings=gp_settings,\n",
    "        name_i=name_i,\n",
    "        save_dir_extra=save_dir,\n",
    "        acquisition_method=acquisition_method,\n",
    "        duplicate_analysis=duplicate_analysis,\n",
    "        seed=seed,\n",
    "        )"
   ]
  },
  {
   "cell_type": "code",
   "execution_count": 7,
   "metadata": {
    "Collapsed": "false"
   },
   "outputs": [],
   "source": [
    "# for i in range(num_runs):\n",
    "#     run_al_meth(i, **variables_dict)"
   ]
  },
  {
   "cell_type": "code",
   "execution_count": 8,
   "metadata": {
    "Collapsed": "false"
   },
   "outputs": [],
   "source": [
    "input_list = []\n",
    "for i in itertools.product(acquisition_methods, duplicate_analysis, runs_list):\n",
    "    data_dict_i = dict(\n",
    "        acquisition_method=i[0],\n",
    "        duplicate_analysis=i[1],\n",
    "        i=i[2],\n",
    "        seed=np.random.randint(0, 1000)\n",
    "        )\n",
    "    input_list.append(data_dict_i)\n",
    "    \n",
    "# input_list"
   ]
  },
  {
   "cell_type": "code",
   "execution_count": null,
   "metadata": {
    "Collapsed": "false"
   },
   "outputs": [],
   "source": [
    "traces_all = Pool().map(\n",
    "    partial(\n",
    "        run_al_meth,  # METHOD\n",
    "        **variables_dict,  # KWARGS\n",
    "        ),\n",
    "    input_list,\n",
    "    )"
   ]
  },
  {
   "cell_type": "code",
   "execution_count": null,
   "metadata": {
    "Collapsed": "false"
   },
   "outputs": [],
   "source": [
    "print(\"Notebook runtime (s):\", time.time() - t0)\n",
    "print(\"Notebook runtime (s):\", (time.time() - t0) / 60)"
   ]
  },
  {
   "cell_type": "raw",
   "metadata": {
    "Collapsed": "false"
   },
   "source": [
    "\n",
    "\n"
   ]
  }
 ],
 "metadata": {
  "jupytext": {
   "cell_metadata_json": true,
   "formats": "ipynb,py:light"
  },
  "kernelspec": {
   "display_name": "Python [conda env:PROJ_IrOx_Active_Learning_OER]",
   "language": "python",
   "name": "conda-env-PROJ_IrOx_Active_Learning_OER-py"
  },
  "language_info": {
   "codemirror_mode": {
    "name": "ipython",
    "version": 3
   },
   "file_extension": ".py",
   "mimetype": "text/x-python",
   "name": "python",
   "nbconvert_exporter": "python",
   "pygments_lexer": "ipython3",
   "version": "3.6.9"
  }
 },
 "nbformat": 4,
 "nbformat_minor": 4
}
