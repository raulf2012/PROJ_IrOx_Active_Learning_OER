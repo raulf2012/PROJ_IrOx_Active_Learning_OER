{
 "cells": [
  {
   "cell_type": "markdown",
   "metadata": {
    "Collapsed": "false"
   },
   "source": [
    "# Import Modules"
   ],
   "execution_count": null,
   "outputs": []
  },
  {
   "cell_type": "code",
   "execution_count": null,
   "metadata": {
    "Collapsed": "false",
    "collapsed": false,
    "jupyter": {
     "outputs_hidden": false
    }
   },
   "outputs": [],
   "source": [
    "import os\n",
    "import sys\n",
    "\n",
    "import pickle\n",
    "\n",
    "import pandas as pd\n",
    "\n",
    "import chart_studio.plotly as py\n",
    "import plotly.graph_objs as go\n",
    "\n",
    "from ccf_similarity.ccf import CCF\n",
    "\n",
    "from active_learning.al_analysis import ALPerformance\n",
    "\n",
    "from plotting.my_plotly import my_plotly_plot\n",
    "\n",
    "from layout import layout"
   ]
  },
  {
   "cell_type": "markdown",
   "metadata": {
    "Collapsed": "false"
   },
   "source": [
    "# Script Inputs"
   ],
   "execution_count": null,
   "outputs": []
  },
  {
   "cell_type": "code",
   "execution_count": null,
   "metadata": {
    "Collapsed": "false",
    "collapsed": false,
    "jupyter": {
     "outputs_hidden": false
    }
   },
   "outputs": [],
   "source": [
    "stoich_i = \"AB3\"\n",
    "\n",
    "perc_of_structs = 2.5\n",
    "\n",
    "subdirs_list = [\"gp_ucb\", \"random\"]\n",
    "\n",
    "shared_scatter_props = dict(\n",
    "    mode=\"lines\",\n",
    "    marker=dict(\n",
    "        symbol=\"circle\",\n",
    "        size=6,\n",
    "        opacity=0.5,\n",
    "        line=dict(\n",
    "            color='black',\n",
    "            width=1,\n",
    "            )\n",
    "        ),\n",
    "\n",
    "    line=dict(\n",
    "        width=1.5,\n",
    "        # dash=\"dash\",\n",
    "        ),\n",
    "\n",
    "    error_y=dict(\n",
    "        thickness=.5,\n",
    "        width=1.0,\n",
    "        ),\n",
    "    )\n",
    "\n",
    "data_path_root = os.path.join(\n",
    "    os.environ[\"PROJ_irox\"],\n",
    "    \"workflow/ml_modelling/00_ml_workflow\",\n",
    "    \"191102_new_workflow/00_abx_al_runs/out_data\",\n",
    "    stoich_i,\n",
    "    # \"gp_ucb_False\",\n",
    "    )\n",
    "\n",
    "\n",
    "from inputs import top_ids_to_track_ab2, top_ids_to_track_ab3"
   ]
  },
  {
   "cell_type": "code",
   "execution_count": null,
   "metadata": {
    "Collapsed": "false",
    "collapsed": false,
    "jupyter": {
     "outputs_hidden": false
    }
   },
   "outputs": [],
   "source": [
    "if stoich_i == \"AB2\":\n",
    "    top_ids_to_track = top_ids_to_track_ab2\n",
    "elif stoich_i == \"AB3\":\n",
    "    top_ids_to_track = top_ids_to_track_ab3\n",
    "else:\n",
    "    print(\"ISDJIFSDJI\")"
   ]
  },
  {
   "cell_type": "code",
   "execution_count": null,
   "metadata": {
    "Collapsed": "false",
    "collapsed": false,
    "jupyter": {
     "outputs_hidden": false
    }
   },
   "outputs": [],
   "source": [
    "def process_data(\n",
    "    subdir=None,\n",
    "    shared_scatter_props=None,\n",
    "    unique_scatter_props=None,\n",
    "    ALPerf_account_duplicates=True,\n",
    "    top_ids_to_track=None,\n",
    "    ):\n",
    "    \"\"\"\n",
    "    \"\"\"\n",
    "    #| - process_data\n",
    "    out_data_dict = dict()\n",
    "\n",
    "    # #############################################################################\n",
    "    files_list = os.listdir(\n",
    "        os.path.join(\n",
    "            # dir_i,\n",
    "            data_path_root,\n",
    "            # \"out_data\",\n",
    "            subdir))\n",
    "    files_list = [i for i in files_list if \"pickle\" in i]\n",
    "    files_list = [i for i in files_list if \"AL_\" in i]\n",
    "\n",
    "    data_dict = dict()\n",
    "    for file_i in files_list:\n",
    "        # #########################################################################\n",
    "        num = file_i.split(\"_\")[-1].split(\".\")[0]\n",
    "\n",
    "        file_path_i =os.path.join(\n",
    "            data_path_root, subdir, file_i)\n",
    "        with open(file_path_i, \"rb\") as fle:\n",
    "            AL_i = pickle.load(fle)\n",
    "\n",
    "        data_dict[num] = AL_i\n",
    "    out_data_dict[\"AL_dict\"] = data_dict\n",
    "\n",
    "    # #############################################################################\n",
    "    df_list = []\n",
    "    for num, AL in data_dict.items():\n",
    "        ALPerf = ALPerformance(\n",
    "            ALBulkOpt=AL,\n",
    "            verbose=False)\n",
    "        ALPerf.num_sys_discovered(\n",
    "            # perc_of_structs=perc_of_structs,\n",
    "            # account_duplicates=ALPerf_account_duplicates,\n",
    "\n",
    "            mode=\"user_specified\",  # 'perc' or 'num'\n",
    "            # mode=\"perc\",  # 'perc' or 'num'\n",
    "            perc_of_structs=perc_of_structs,\n",
    "            num_structs=None,\n",
    "            ids_to_track=top_ids_to_track,\n",
    "            account_duplicates=ALPerf_account_duplicates,\n",
    "\n",
    "            )\n",
    "\n",
    "        # #########################################################################\n",
    "        df = ALPerf.num_sys_discovered_df\n",
    "        df_list.append(df)\n",
    "\n",
    "\n",
    "    df_m = pd.concat(\n",
    "        df_list,\n",
    "        axis=1,\n",
    "        keys=data_dict.keys(),\n",
    "        )\n",
    "\n",
    "    # Checking that the x-axis series are all the same\n",
    "    # Necessary if the different runs are to be averaged\n",
    "    x_axis_series_list = []\n",
    "    for i in data_dict.keys():\n",
    "        x_axis_series = df_m[i][\"num_dft\"].tolist()\n",
    "        x_axis_series_list.append(x_axis_series)\n",
    "    all_x_axis_the_same = all(x_axis_series_list)\n",
    "    assert all_x_axis_the_same is True, \"ISFIDSIFJISDIfj\"\n",
    "\n",
    "\n",
    "\n",
    "\n",
    "\n",
    "\n",
    "    # #############################################################################\n",
    "    # df_m.index = df_m[0, \"num_dft\"].tolist()\n",
    "    df_m.index = x_axis_series\n",
    "\n",
    "\n",
    "    # #############################################################################\n",
    "    for i in data_dict.keys():\n",
    "        del df_m[i, \"num_dft\"]\n",
    "\n",
    "        \n",
    "    # TEMP\n",
    "    # out_data_dict[\"df_perf\"] = df_m\n",
    "    # return(out_data_dict)\n",
    "    \n",
    "    \n",
    "    columns_list = list(df_m.columns.levels[0])\n",
    "    col = df_m.loc[: , columns_list[0]:columns_list[-1]]\n",
    " \n",
    "    # col = df_m.loc[: , 0:list(df_m.columns.levels[0])[-1]]\n",
    "\n",
    "    y_mean = col.mean(axis=1)\n",
    "    y_std = col.std(axis=1)\n",
    "\n",
    "    df_ave = pd.DataFrame()\n",
    "    df_ave[\"y_mean\"] = y_mean\n",
    "    df_ave[\"y_std\"] = y_std\n",
    "    df_ave.index = df_m.index\n",
    "\n",
    "    out_data_dict[\"df_perf\"] = df_m\n",
    "\n",
    "    traces = []\n",
    "    # #############################################################################\n",
    "    trace = go.Scatter(\n",
    "        x=df_ave.index.tolist(),\n",
    "        y=df_ave[\"y_mean\"],\n",
    "        # error_y={\n",
    "        #     \"array\": df_ave[\"y_std\"],\n",
    "        #     },\n",
    "        )\n",
    "    trace.update(**shared_scatter_props)\n",
    "    trace.update(**unique_scatter_props)\n",
    "    traces.append(trace)\n",
    "    # #########################################################################\n",
    "    trace = go.Scatter(\n",
    "        x=df_ave.index.tolist(),\n",
    "        y=df_ave[\"y_mean\"] + df_ave[\"y_std\"],\n",
    "        )\n",
    "    trace.update(**shared_scatter_props)\n",
    "    trace.update(**unique_scatter_props)\n",
    "    traces.append(trace)\n",
    "\n",
    "    trace = go.Scatter(\n",
    "        x=df_ave.index.tolist(),\n",
    "        y=df_ave[\"y_mean\"] - df_ave[\"y_std\"],\n",
    "        fill=\"tonexty\"\n",
    "        )\n",
    "    trace.update(**shared_scatter_props)\n",
    "    trace.update(**unique_scatter_props)\n",
    "    traces.append(trace)\n",
    "    # #########################################################################\n",
    "    # out_data_dict[\"trace\"] = trace\n",
    "    out_data_dict[\"trace\"] = traces\n",
    "    out_data_dict[\"df_ave\"] = df_ave\n",
    "\n",
    "    return(out_data_dict)\n",
    "    #__|"
   ]
  },
  {
   "cell_type": "code",
   "execution_count": null,
   "metadata": {
    "Collapsed": "false",
    "collapsed": false,
    "jupyter": {
     "outputs_hidden": false
    }
   },
   "outputs": [],
   "source": [
    "data = []"
   ]
  },
  {
   "cell_type": "raw",
   "metadata": {
    "Collapsed": "false"
   },
   "source": [
    "\n",
    "\n",
    "\n"
   ],
   "execution_count": null,
   "outputs": []
  },
  {
   "cell_type": "markdown",
   "metadata": {
    "Collapsed": "false"
   },
   "source": [
    "# Random | w/ Duplicates"
   ],
   "execution_count": null,
   "outputs": []
  },
  {
   "cell_type": "code",
   "execution_count": null,
   "metadata": {
    "Collapsed": "false",
    "collapsed": false,
    "jupyter": {
     "outputs_hidden": false
    }
   },
   "outputs": [],
   "source": [
    "#############################################################################\n",
    "color_i = \"rgb(100,100,100,0.5)\"\n",
    "out_data_dict_i = process_data(\n",
    "    subdir=\"random_True\",\n",
    "    unique_scatter_props=dict(\n",
    "        name=\"random w/ dupl\",\n",
    "        marker=dict(color=color_i),\n",
    "        error_y=dict(\n",
    "            color=color_i,\n",
    "            ),\n",
    "        ),\n",
    "    shared_scatter_props=shared_scatter_props,\n",
    "    ALPerf_account_duplicates=True,\n",
    "    top_ids_to_track=top_ids_to_track,\n",
    "    )\n",
    "trace_i = out_data_dict_i[\"trace\"]\n",
    "# data.append(trace_i)\n",
    "data.extend(trace_i)\n",
    "\n",
    "df_perf = out_data_dict_i[\"df_perf\"]\n",
    "# df_perf"
   ]
  },
  {
   "cell_type": "markdown",
   "metadata": {
    "Collapsed": "false"
   },
   "source": [
    "# Random | w/o Duplicates"
   ],
   "execution_count": null,
   "outputs": []
  },
  {
   "cell_type": "code",
   "execution_count": null,
   "metadata": {
    "Collapsed": "false",
    "collapsed": false,
    "jupyter": {
     "outputs_hidden": false
    }
   },
   "outputs": [],
   "source": [
    "# # #############################################################################\n",
    "# # color_i = \"grey\"\n",
    "# color_i = \"rgb(60,120,100,0.5)\"\n",
    "# out_data_dict_i = process_data(\n",
    "#     subdir=\"random_False\",\n",
    "#     unique_scatter_props=dict(\n",
    "#         name=\"random w/o dupl\",\n",
    "#         marker=dict(color=color_i),\n",
    "#         error_y=dict(\n",
    "#             color=color_i,\n",
    "#             ),\n",
    "#         ),\n",
    "#     shared_scatter_props=shared_scatter_props,\n",
    "#     ALPerf_account_duplicates=False,\n",
    "#     top_ids_to_track=top_ids_to_track,\n",
    "#     )\n",
    "# trace_i = out_data_dict_i[\"trace\"]\n",
    "# # data.append(trace_i)\n",
    "# data.extend(trace_i)\n",
    "\n",
    "# df_perf = out_data_dict_i[\"df_perf\"]\n",
    "# # df_perf"
   ]
  },
  {
   "cell_type": "markdown",
   "metadata": {
    "Collapsed": "false"
   },
   "source": [
    "# GP-UCB | w/ Duplicates"
   ],
   "execution_count": null,
   "outputs": []
  },
  {
   "cell_type": "code",
   "execution_count": null,
   "metadata": {
    "Collapsed": "false",
    "collapsed": false,
    "jupyter": {
     "outputs_hidden": false
    }
   },
   "outputs": [],
   "source": [
    "# #############################################################################\n",
    "# color_i = \"red\"\n",
    "color_i = \"rgba(255,0,0,0.5)\"\n",
    "\n",
    "out_data_dict_i = process_data(\n",
    "    subdir=\"gp_ucb_True\",\n",
    "    unique_scatter_props=dict(\n",
    "        name=\"gp_ucb w/ dupl\",\n",
    "        marker=dict(color=color_i),\n",
    "\n",
    "        error_y=dict(\n",
    "            color=color_i,\n",
    "            ),\n",
    "\n",
    "        ),\n",
    "    shared_scatter_props=shared_scatter_props,\n",
    "    ALPerf_account_duplicates=True,\n",
    "    top_ids_to_track=top_ids_to_track,\n",
    "    )\n",
    "trace_i = out_data_dict_i[\"trace\"]\n",
    "# data.append(trace_i)\n",
    "data.extend(trace_i)\n",
    "\n",
    "df_perf = out_data_dict_i[\"df_perf\"]\n",
    "# df_perf"
   ]
  },
  {
   "cell_type": "code",
   "execution_count": null,
   "metadata": {
    "Collapsed": "false",
    "collapsed": false,
    "jupyter": {
     "outputs_hidden": false
    }
   },
   "outputs": [],
   "source": [
    "# df_perf\n",
    "# pifehohu\n",
    "# geheneva\n",
    "# nisoponi"
   ]
  },
  {
   "cell_type": "markdown",
   "metadata": {
    "Collapsed": "false"
   },
   "source": [
    "# GP-UCB | w/o Duplicates"
   ],
   "execution_count": null,
   "outputs": []
  },
  {
   "cell_type": "code",
   "execution_count": null,
   "metadata": {
    "Collapsed": "false",
    "collapsed": false,
    "jupyter": {
     "outputs_hidden": false
    }
   },
   "outputs": [],
   "source": [
    "# # #############################################################################\n",
    "# color_i = \"orange\"\n",
    "# out_data_dict_i = process_data(\n",
    "#     subdir=\"gp_ucb_False\",\n",
    "#     unique_scatter_props=dict(\n",
    "#         name=\"gp_ucb w/o dupl\",\n",
    "#         marker=dict(color=color_i),\n",
    "#         error_y=dict(\n",
    "#             color=color_i,\n",
    "#             ),\n",
    "#         ),\n",
    "#     shared_scatter_props=shared_scatter_props,\n",
    "#     ALPerf_account_duplicates=True,\n",
    "#     top_ids_to_track=top_ids_to_track,\n",
    "#     )\n",
    "# trace_i = out_data_dict_i[\"trace\"]\n",
    "# # data.append(trace_i)\n",
    "# data.extend(trace_i)\n",
    "\n",
    "# df_perf = out_data_dict_i[\"df_perf\"]\n",
    "# # df_perf"
   ]
  },
  {
   "cell_type": "markdown",
   "metadata": {
    "Collapsed": "false"
   },
   "source": [
    "# Plotting"
   ],
   "execution_count": null,
   "outputs": []
  },
  {
   "cell_type": "code",
   "execution_count": null,
   "metadata": {
    "Collapsed": "false",
    "collapsed": false,
    "jupyter": {
     "outputs_hidden": false
    }
   },
   "outputs": [],
   "source": [
    "shared_shape_dict = dict(\n",
    "    xref=\"x\", yref=\"y\",\n",
    "    type=\"line\",\n",
    "    line=dict(\n",
    "        color=\"black\",\n",
    "        width=2,\n",
    "        dash=\"dot\",\n",
    "        ),\n",
    "    )\n",
    "\n",
    "shapes = tuple([\n",
    "\n",
    "    go.layout.Shape(\n",
    "        x0=50,  y0=-1,\n",
    "        x1=50, y1=7,\n",
    "\n",
    "        **shared_shape_dict),\n",
    "\n",
    "    go.layout.Shape(\n",
    "        x0=0,  y0=7,\n",
    "        x1=50, y1=7,\n",
    "\n",
    "        **shared_shape_dict),\n",
    "\n",
    "\n",
    "    go.layout.Shape(\n",
    "        x0=157,  y0=-1,\n",
    "        x1=157, y1=7,\n",
    "\n",
    "        **shared_shape_dict),\n",
    "\n",
    "    go.layout.Shape(\n",
    "        x0=0,  y0=7,\n",
    "        x1=157, y1=7,\n",
    "\n",
    "        **shared_shape_dict),\n",
    "\n",
    "\n",
    "    ])"
   ]
  },
  {
   "cell_type": "code",
   "execution_count": null,
   "metadata": {
    "Collapsed": "false",
    "collapsed": false,
    "jupyter": {
     "outputs_hidden": false
    }
   },
   "outputs": [],
   "source": [
    "layout[\"height\"] = 37.795275591 * 7.12\n",
    "layout[\"width\"] = 37.795275591 * 6.3\n",
    "\n",
    "layout[\"paper_bgcolor\"] = \"rgba(0,0,0,0)\"\n",
    "layout[\"plot_bgcolor\"] = \"rgba(0,0,0,0)\"\n",
    "\n",
    "fig = go.Figure(data=data, layout=layout)\n",
    "\n",
    "fig.layout.update(\n",
    "    shapes=shapes,\n",
    "    xaxis=dict(range=[-0.8, 250]),\n",
    "    yaxis=dict(range=[-0.3, 10.6]),\n",
    "    )\n",
    "\n",
    "fig = my_plotly_plot(\n",
    "    figure=fig,\n",
    "    plot_name=stoich_i + \"_\" + \"al_performance\",\n",
    "    write_html=True,\n",
    "    write_png=False,\n",
    "    png_scale=6.0,\n",
    "    write_pdf=True,\n",
    "    write_svg=True,\n",
    "    )\n",
    "\n",
    "\n",
    "fig.layout.update(paper_bgcolor=\"white\")\n",
    "fig.show()"
   ]
  },
  {
   "cell_type": "code",
   "execution_count": null,
   "metadata": {
    "Collapsed": "false",
    "collapsed": false,
    "jupyter": {
     "outputs_hidden": false
    }
   },
   "outputs": [],
   "source": [
    "# Pickling data ######################################################\n",
    "import os; import pickle\n",
    "directory = \"out_data\"\n",
    "if not os.path.exists(directory): os.makedirs(directory)\n",
    "with open(os.path.join(directory, stoich_i + \"_\" + \"fig_al_perf.pickle\"), \"wb\") as fle:\n",
    "    pickle.dump(fig, fle)\n",
    "# #####################################################################"
   ]
  },
  {
   "cell_type": "code",
   "execution_count": null,
   "metadata": {
    "Collapsed": "false",
    "collapsed": false,
    "jupyter": {
     "outputs_hidden": false
    }
   },
   "outputs": [],
   "source": [
    "# go.Layout?\n",
    "# go.layout.Scene?\n",
    "# go.layout.Shape?"
   ]
  },
  {
   "cell_type": "raw",
   "metadata": {
    "Collapsed": "false"
   },
   "source": [
    "\n",
    "\n",
    "\n",
    "\n"
   ],
   "execution_count": null,
   "outputs": []
  },
  {
   "cell_type": "code",
   "execution_count": null,
   "metadata": {
    "Collapsed": "false",
    "collapsed": false,
    "jupyter": {
     "outputs_hidden": false
    }
   },
   "outputs": [],
   "source": [
    "# shapes = tuple([\n",
    "\n",
    "#     go.layout.Shape(\n",
    "#         type=\"line\",\n",
    "#         xref=\"x\",\n",
    "#         yref=\"y\",\n",
    "#         x0=50,\n",
    "#         y0=0,\n",
    "#         x1=100,\n",
    "#         y1=6,\n",
    "#         line=dict(\n",
    "#             color=\"DarkOrange\",\n",
    "#             width=3,\n",
    "#             ),\n",
    "#         ),\n",
    "\n",
    "#     go.layout.Shape(\n",
    "#         type=\"line\",\n",
    "#         xref=\"x\",\n",
    "#         yref=\"y\",\n",
    "#         x0=20,\n",
    "#         y0=1,\n",
    "#         x1=120,\n",
    "#         y1=8,\n",
    "#         line=dict(\n",
    "#             color=\"DarkOrange\",\n",
    "#             width=3,\n",
    "#             ),\n",
    "#         ),\n",
    "\n",
    "#     ])\n",
    "\n",
    "# fig.layout.update(shapes=shapes)\n",
    "\n",
    "# fig"
   ]
  },
  {
   "cell_type": "code",
   "execution_count": null,
   "metadata": {
    "Collapsed": "false",
    "collapsed": false,
    "jupyter": {
     "outputs_hidden": false
    }
   },
   "outputs": [],
   "source": [
    "# # AL_i = \n",
    "# keys = list(out_data_dict_i[\"AL_dict\"].keys())\n",
    "\n",
    "# for key in keys:\n",
    "#     # AL_i = out_data_dict_i[\"AL_dict\"][key].al_gen_dict[49]\n",
    "#     AL = out_data_dict_i[\"AL_dict\"][key]\n",
    "#     al_gen_dict = AL.al_gen_dict\n",
    "\n",
    "#     print(len(AL.duplicate_ids))\n",
    "    \n",
    "#     if len(AL.duplicate_ids) == 82:\n",
    "#         print(AL.duplicate_ids)\n",
    "#         break\n",
    "#     # print(key)\n",
    "\n",
    "#     # print(len(al_gen_dict.keys()))\n",
    "#     # print(\"\")\n",
    "\n",
    "\n",
    "\n",
    "# AL.duplicate_ids\n",
    "\n",
    "# # AL_i = al_gen_dict[49]\n",
    "\n",
    "\n",
    "# # .al_gen_dict[25]\n",
    "# # out_data_dict_i[\"AL_dict\"][0].al_gen_dict[25]\n",
    "# # model = AL_i.model\n",
    "# # model_i = model[\n",
    "# #     (model[\"acquired\"] == True) & \\\n",
    "# #     (model[\"duplicate\"] == False)\n",
    "# #     ]\n",
    "# # # AL_i.indices_that_are_duplicates\n",
    "# # model_i.sort_values(\"y_real\").iloc[0:50].index.tolist()"
   ]
  },
  {
   "cell_type": "code",
   "execution_count": null,
   "metadata": {
    "Collapsed": "false",
    "collapsed": false,
    "jupyter": {
     "outputs_hidden": false
    }
   },
   "outputs": [],
   "source": [
    "# layout[\"height\"] = 37.795275591 * 7.05\n",
    "# layout[\"height\"] = 37.795275591 * 7.07\n",
    "# layout[\"height\"] = 37.795275591 * 7.055\n",
    "# layout[\"height\"] = 37.795275591 * 7.052\n",
    "# layout[\"height\"] = 37.795275591 * 7.048\n",
    "# layout[\"height\"] = 37.795275591 * 7.035\n",
    "# layout[\"height\"] = 37.795275591 * 7.041\n",
    "# layout[\"height\"] = 37.795275591 * 7.043  # too short\n",
    "# layout[\"height\"] = 37.795275591 * 7.045  # short\n",
    "# layout[\"height\"] = 37.795275591 * 7.047  # short\n",
    "# layout[\"height\"] = 37.795275591 * 7.052  # short\n",
    "# layout[\"height\"] = 37.795275591 * 7.09  # long\n",
    "# layout[\"height\"] = 37.795275591 * 7.08 # short\n",
    "# layout[\"height\"] = 37.795275591 * 7.085  # long\n",
    "# layout[\"height\"] = 37.795275591 * 7.082  # long\n",
    "# layout[\"height\"] = 37.795275591 * 7.07  # long\n",
    "# layout[\"height\"] = 37.795275591 * 7.06  # long\n",
    "# layout[\"height\"] = 37.795275591 * 7.04  # short\n",
    "# layout[\"height\"] = 37.795275591 * 7.045 # short\n",
    "# layout[\"height\"] = 37.795275591 * 7.049 # short\n",
    "# layout[\"height\"] = 37.795275591 * 7.051\n",
    "# layout[\"height\"] = 37.795275591 * 7.053 #short\n",
    "# layout[\"height\"] = 37.795275591 * 7.055 #l\n",
    "# layout[\"height\"] = 37.795275591 * 7.054\n",
    "# layout[\"height\"] = 37.795275591 * 7.053 #l\n",
    "# layout[\"height\"] = 37.795275591 * 7.052 #l\n",
    "# layout[\"height\"] = 37.795275591 * 7.051 # s\n",
    "# layout[\"height\"] = 37.795275591 * 7.056 # s\n",
    "# layout[\"height\"] = 37.795275591 * 7.06\n",
    "# layout[\"height\"] = 37.795275591 * 7.066\n",
    "# layout[\"height\"] = 37.795275591 * 7.07\n",
    "# layout[\"height\"] = 37.795275591 * 7.085\n",
    "# layout[\"height\"] = 37.795275591 * 7.092\n",
    "# layout[\"height\"] = 37.795275591 * 7.098\n",
    "# layout[\"height\"] = 37.795275591 * 7.2\n",
    "# layout[\"height\"] = 37.795275591 * 7.14\n",
    "\n",
    "# layout[\"width\"] = 37.9 * 5\n",
    "# layout[\"width\"] = 37.795275591 * 20\n",
    "# layout[\"width\"] = 37.795275591 * 10\n",
    "# layout[\"width\"] = 37.795275591 * 8\n",
    "# layout[\"width\"] = 37.795275591 * 6\n",
    "# layout[\"width\"] = 37.795275591 * 6.5"
   ]
  },
  {
   "cell_type": "code",
   "execution_count": null,
   "metadata": {
    "Collapsed": "false",
    "collapsed": false,
    "jupyter": {
     "outputs_hidden": false
    }
   },
   "outputs": [],
   "source": [
    "# layout[\"height\"] *= 2\n",
    "# layout[\"width\"] *= 4\n",
    "\n",
    "# layout[\"paper_bgcolor\"] = \"white\"\n",
    "# layout[\"plot_bgcolor\"] = \"white\"\n",
    "\n",
    "# layout[\"showlegend\"] = True\n",
    "\n",
    "# fig.update_layout(layout)\n",
    "# fig.show()"
   ]
  },
  {
   "cell_type": "code",
   "execution_count": null,
   "metadata": {
    "Collapsed": "false",
    "collapsed": false,
    "jupyter": {
     "outputs_hidden": false
    }
   },
   "outputs": [],
   "source": [
    "# AL_i = out_data_dict_i[\"AL_dict\"][0].al_gen_dict[25]\n",
    "# # out_data_dict_i[\"AL_dict\"][0].al_gen_dict[25]\n",
    "# model = AL_i.model\n",
    "# model_i = model[\n",
    "#     (model[\"acquired\"] == True) & \\\n",
    "#     (model[\"duplicate\"] == False)\n",
    "#     ]\n",
    "# # AL_i.indices_that_are_duplicates\n",
    "# model_i.sort_values(\"y_real\").iloc[0:10].index.tolist()"
   ]
  },
  {
   "cell_type": "code",
   "execution_count": null,
   "metadata": {
    "Collapsed": "false",
    "collapsed": false,
    "jupyter": {
     "outputs_hidden": false
    }
   },
   "outputs": [],
   "source": [
    "# # #############################################################################\n",
    "# out_data_dict_i = process_data(\n",
    "#     subdir=\"gp_ucb_True\",\n",
    "#     unique_scatter_props=dict(\n",
    "#         name=\"gp_ucb w dupl\",\n",
    "#         marker=dict(color=\"red\"),\n",
    "#         ),\n",
    "#     shared_scatter_props=shared_scatter_props,\n",
    "#     ALPerf_account_duplicates=True,\n",
    "#     top_ids_to_track=top_ids_to_track,\n",
    "#     )\n",
    "\n",
    "# trace_i = out_data_dict_i[\"trace\"]\n",
    "# data.append(trace_i)\n",
    "\n",
    "# df_perf = out_data_dict_i[\"df_perf\"]"
   ]
  },
  {
   "cell_type": "code",
   "execution_count": null,
   "metadata": {
    "Collapsed": "false",
    "collapsed": false,
    "jupyter": {
     "outputs_hidden": false
    }
   },
   "outputs": [],
   "source": [
    "# df_perf\n",
    "\n",
    "# df_m = df_perf\n",
    "\n",
    "\n",
    "# columns_list = list(df_m.columns.levels[0])\n",
    "# col = df_m.loc[: , columns_list[0]:columns_list[-1]]\n",
    "\n",
    "# col\n",
    "\n",
    "\n",
    "# y_mean = col.mean(axis=1)\n",
    "# y_std = col.std(axis=1)\n",
    "\n",
    "# y_mean\n",
    "# y_std"
   ]
  }
 ],
 "metadata": {
  "jupytext": {
   "formats": "ipynb,py:light"
  },
  "kernelspec": {
   "display_name": "Python [conda env:PROJ_IrOx_Active_Learning_OER]",
   "language": "python",
   "name": "conda-env-PROJ_IrOx_Active_Learning_OER-py"
  },
  "language_info": {
   "codemirror_mode": {
    "name": "ipython",
    "version": 3
   },
   "file_extension": ".py",
   "mimetype": "text/x-python",
   "name": "python",
   "nbconvert_exporter": "python",
   "pygments_lexer": "ipython3",
   "version": "3.6.9"
  }
 },
 "nbformat": 4,
 "nbformat_minor": 4
}
