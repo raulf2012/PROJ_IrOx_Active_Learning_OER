{
 "cells": [
  {
   "cell_type": "markdown",
   "metadata": {
    "Collapsed": "false"
   },
   "source": [
    "# Import Modules"
   ],
   "execution_count": null,
   "outputs": []
  },
  {
   "cell_type": "code",
   "execution_count": null,
   "metadata": {
    "Collapsed": "false"
   },
   "outputs": [],
   "source": [
    "import os\n",
    "print(os.getcwd())\n",
    "import sys\n",
    "\n",
    "import pickle\n",
    "\n",
    "import numpy as np\n",
    "import pandas as pd\n",
    "\n",
    "import chart_studio.plotly as py\n",
    "import plotly.graph_objs as go\n",
    "\n",
    "from ccf_similarity.ccf import CCF\n",
    "\n",
    "from active_learning.al_analysis import ALPerformance\n",
    "\n",
    "from plotting.my_plotly import my_plotly_plot\n",
    "\n",
    "from layout import layout"
   ]
  },
  {
   "cell_type": "code",
   "execution_count": null,
   "metadata": {},
   "outputs": [],
   "source": [
    "from inputs import files_list_gp_ucb, files_list_random\n",
    "\n",
    "from inputs import stoich_i"
   ]
  },
  {
   "cell_type": "markdown",
   "metadata": {
    "Collapsed": "false"
   },
   "source": [
    "# Script Inputs"
   ],
   "execution_count": null,
   "outputs": []
  },
  {
   "cell_type": "code",
   "execution_count": null,
   "metadata": {
    "Collapsed": "false",
    "collapsed": false,
    "jupyter": {
     "outputs_hidden": false
    }
   },
   "outputs": [],
   "source": [
    "# perc_of_structs = 2.5\n",
    "# num_disc = 7\n",
    "# subdirs_list = [\"gp_ucb\", \"random\"]\n",
    "# shared_scatter_props = dict(\n",
    "#     mode=\"lines\",\n",
    "#     )\n",
    "\n",
    "data_path_root = os.path.join(\n",
    "    os.environ[\"PROJ_irox\"],\n",
    "    \"workflow/ml_modelling/00_ml_workflow\",\n",
    "    \"191102_new_workflow/00_abx_al_runs/out_data\",\n",
    "    stoich_i)\n",
    "\n",
    "\n",
    "from inputs import top_ids_to_track_ab2, top_ids_to_track_ab3"
   ]
  },
  {
   "cell_type": "code",
   "execution_count": null,
   "metadata": {
    "Collapsed": "false",
    "collapsed": false,
    "jupyter": {
     "outputs_hidden": false
    }
   },
   "outputs": [],
   "source": [
    "if stoich_i == \"AB2\":\n",
    "    top_ids_to_track = top_ids_to_track_ab2\n",
    "elif stoich_i == \"AB3\":\n",
    "    top_ids_to_track = top_ids_to_track_ab3\n",
    "else:\n",
    "    print(\"ISDJIFSDJI\")"
   ]
  },
  {
   "cell_type": "code",
   "execution_count": null,
   "metadata": {},
   "outputs": [],
   "source": [
    "color_i = \"rgba(0,100,255,0.5)\""
   ]
  },
  {
   "cell_type": "code",
   "execution_count": null,
   "metadata": {},
   "outputs": [],
   "source": [
    "files_list=files_list_gp_ucb\n",
    "subdir=\"gp_ucb_True/01_attempt\"\n",
    "unique_scatter_props=dict(\n",
    "    name=\"gp_ucb w/ dupl\",\n",
    "    marker=dict(color=color_i),\n",
    "    error_y=dict(\n",
    "        color=color_i,\n",
    "        ),\n",
    "    )\n",
    "# shared_scatter_props=shared_scatter_props\n",
    "ALPerf_account_duplicates=True\n",
    "top_ids_to_track=top_ids_to_track\n",
    "# color_i = \"rgba(0,100,255,0.5)\"\n",
    "color2=\"rgba(0,100,255,1.)\""
   ]
  },
  {
   "cell_type": "code",
   "execution_count": null,
   "metadata": {
    "Collapsed": "false"
   },
   "outputs": [],
   "source": [
    "out_data_dict = dict()\n",
    "\n",
    "# #############################################################################\n",
    "if files_list is not None:\n",
    "    tmp = 42\n",
    "else:\n",
    "    files_list = os.listdir(\n",
    "        os.path.join(\n",
    "            # dir_i,\n",
    "            data_path_root,\n",
    "            # \"out_data\",\n",
    "            subdir))\n",
    "    files_list = [i for i in files_list if \"pickle\" in i]\n",
    "    files_list = [i for i in files_list if \"AL_\" in i]\n",
    "\n",
    "# print(files_list)\n",
    "\n",
    "data_dict = dict()\n",
    "for file_i in files_list:\n",
    "    # #########################################################################\n",
    "    num = file_i.split(\"_\")[-1].split(\".\")[0]\n",
    "\n",
    "    file_path_i =os.path.join(\n",
    "        data_path_root, subdir, file_i)\n",
    "    with open(file_path_i, \"rb\") as fle:\n",
    "        AL_i = pickle.load(fle)\n",
    "\n",
    "    data_dict[num] = AL_i\n",
    "out_data_dict[\"AL_dict\"] = data_dict"
   ]
  },
  {
   "cell_type": "raw",
   "metadata": {},
   "source": [
    "\n",
    "\n",
    "\n",
    "\n"
   ],
   "execution_count": null,
   "outputs": []
  },
  {
   "cell_type": "code",
   "execution_count": null,
   "metadata": {},
   "outputs": [],
   "source": [
    "def get_gen_acquired(\n",
    "    AL_i,\n",
    "    id_of_most_stable\n",
    "    # init_id_of_most_stable,\n",
    "    ):\n",
    "    out_dict = dict()\n",
    "    out_dict[\"first_acq_id\"] = None\n",
    "\n",
    "    color_progression_i = AL_i.color_dict_progression.get(id_of_most_stable, None)\n",
    "\n",
    "    gen_acquired = None\n",
    "\n",
    "    if color_progression_i is not None:\n",
    "        init_id_of_most_stable = color_progression_i[0]\n",
    "\n",
    "        for gen_i, AL_gen_i in AL_i.al_gen_dict.items():\n",
    "            # print(\"init_id_of_most_stable:\", init_id_of_most_stable)\n",
    "\n",
    "            acquired_i = AL_gen_i.model.loc[init_id_of_most_stable].acquired\n",
    "\n",
    "\n",
    "            if acquired_i:\n",
    "                print(\"init_id_of_most_stable:\", init_id_of_most_stable)\n",
    "                out_dict[\"first_acq_id\"] = init_id_of_most_stable\n",
    "                gen_acquired = gen_i\n",
    "                break\n",
    "\n",
    "    elif color_progression_i is None:\n",
    "        # gen_acquired = 69\n",
    "\n",
    "        AL_gen_i = AL_i.al_gen_dict[\n",
    "            list(AL_i.al_gen_dict.keys())[-1]\n",
    "            ]\n",
    "        model = AL_gen_i.model\n",
    "        \n",
    "        out_dict[\"first_acq_id\"] = id_of_most_stable\n",
    "\n",
    "        gen_acquired = model.loc[id_of_most_stable].gen_acquired\n",
    "\n",
    "    print(\"Acquired:\", gen_acquired)\n",
    "\n",
    "    out_dict[\"gen_acq\"] = gen_acquired\n",
    "\n",
    "    return(out_dict)"
   ]
  },
  {
   "cell_type": "code",
   "execution_count": null,
   "metadata": {},
   "outputs": [],
   "source": [
    "AL_gen_i = AL_i.al_gen_dict[\n",
    "    list(AL_i.al_gen_dict.keys())[-1]\n",
    "    ]\n",
    "\n",
    "model = AL_gen_i.model"
   ]
  },
  {
   "cell_type": "code",
   "execution_count": null,
   "metadata": {},
   "outputs": [],
   "source": [
    "AL_dict = out_data_dict[\"AL_dict\"]\n",
    "\n",
    "runs_list = list(AL_dict.keys())\n",
    "\n",
    "data_list = []\n",
    "gen_acquired_list = []\n",
    "for run_i in runs_list:\n",
    "    print(\"run_i:\", run_i)\n",
    "\n",
    "    data_row_i = dict()\n",
    "\n",
    "    AL_i = AL_dict[run_i]\n",
    "\n",
    "    last_gen = list(AL_i.al_gen_dict.keys())[-1]\n",
    "\n",
    "    tmp = AL_i.al_gen_dict[last_gen]\n",
    "    duplicates = tmp.indices_that_are_duplicates\n",
    "\n",
    "    not_dupl_list = []\n",
    "    for index in tmp.model.index:\n",
    "        if index not in duplicates:\n",
    "            not_dupl_list.append(index)\n",
    "\n",
    "    id_of_most_stable = tmp.model.loc[not_dupl_list].sort_values(\"y\").iloc[0].name\n",
    "    print(\"id_of_most_stable:\", id_of_most_stable)\n",
    "\n",
    "    # gen_acq = get_gen_acquired(\n",
    "    out_dict = get_gen_acquired(\n",
    "        AL_i,\n",
    "        id_of_most_stable,\n",
    "        )\n",
    "    gen_acq = out_dict[\"gen_acq\"]\n",
    "    gen_acquired_list.append(gen_acq)\n",
    "\n",
    "    data_list.append(out_dict)\n",
    "\n",
    "    print(\"\")"
   ]
  },
  {
   "cell_type": "code",
   "execution_count": null,
   "metadata": {},
   "outputs": [],
   "source": [
    "print(\"Average generatios to acquire structure\", \"\\n\", np.mean(gen_acquired_list))"
   ]
  },
  {
   "cell_type": "code",
   "execution_count": null,
   "metadata": {},
   "outputs": [],
   "source": [
    "df = pd.DataFrame(data_list)\n",
    "\n",
    "\n",
    "\n",
    "# df.first_acq_id.value_counts()"
   ]
  },
  {
   "cell_type": "code",
   "execution_count": null,
   "metadata": {},
   "outputs": [],
   "source": [
    "for i in df.first_acq_id.unique().tolist():\n",
    "    print(i)\n",
    "    \n",
    "    from IPython.display import display\n",
    "    df_i = df[df.first_acq_id == i]\n",
    "    # display(df_i)\n",
    "    \n",
    "    mean_gen_acq = df_i.gen_acq.mean()\n",
    "    print(\"mean_gen_acq:\", mean_gen_acq)\n",
    "    print(\"\")"
   ]
  },
  {
   "cell_type": "code",
   "execution_count": null,
   "metadata": {},
   "outputs": [],
   "source": [
    "assert False"
   ]
  },
  {
   "cell_type": "code",
   "execution_count": null,
   "metadata": {},
   "outputs": [],
   "source": [
    "AL_i\n",
    "\n",
    "# init_id_of_most_stable = \n",
    "# AL_i.color_dict_progression.get(id_of_most_stable, None)"
   ]
  },
  {
   "cell_type": "code",
   "execution_count": null,
   "metadata": {},
   "outputs": [],
   "source": [
    "# init_id_of_most_stable"
   ]
  },
  {
   "cell_type": "code",
   "execution_count": null,
   "metadata": {},
   "outputs": [],
   "source": [
    "id_of_most_stable"
   ]
  },
  {
   "cell_type": "code",
   "execution_count": null,
   "metadata": {},
   "outputs": [],
   "source": [
    "run_i"
   ]
  },
  {
   "cell_type": "code",
   "execution_count": null,
   "metadata": {},
   "outputs": [],
   "source": [
    "df_i = AL_i.al_gen_dict[48].model.sort_values(\"y\")\n",
    "\n",
    "df_i[df_i.duplicate == False]"
   ]
  },
  {
   "cell_type": "code",
   "execution_count": null,
   "metadata": {},
   "outputs": [],
   "source": []
  },
  {
   "cell_type": "code",
   "execution_count": null,
   "metadata": {},
   "outputs": [],
   "source": [
    "AL_i.color_dict_progression\n",
    "\n",
    "# id_of_most_stable"
   ]
  },
  {
   "cell_type": "code",
   "execution_count": null,
   "metadata": {},
   "outputs": [],
   "source": [
    "# # key_i = list(AL_dict.keys())[0]\n",
    "# # AL_i = AL_dict[key_i]\n",
    "\n",
    "# AL_i = AL_dict[run_i]\n",
    "\n",
    "# last_gen = list(AL_i.al_gen_dict.keys())[-1]\n",
    "\n",
    "# tmp = AL_i.al_gen_dict[last_gen]\n",
    "# # tmp.model.sort_values(\"y\")\n",
    "# duplicates = tmp.indices_that_are_duplicates\n",
    "\n",
    "# not_dupl_list = []\n",
    "# for index in tmp.model.index:\n",
    "#     if index not in duplicates:\n",
    "#         not_dupl_list.append(index)\n",
    "\n",
    "# id_of_most_stable = tmp.model.loc[not_dupl_list].sort_values(\"y\").iloc[0].name\n",
    "\n",
    "# init_id_of_most_stable = AL_i.color_dict_progression[id_of_most_stable][0]"
   ]
  },
  {
   "cell_type": "code",
   "execution_count": null,
   "metadata": {},
   "outputs": [],
   "source": [
    "# get_gen_acquired(\n",
    "#     AL_i,\n",
    "#     init_id_of_most_stable,\n",
    "#     )"
   ]
  },
  {
   "cell_type": "raw",
   "metadata": {},
   "source": [
    "\n",
    "\n",
    "\n"
   ],
   "execution_count": null,
   "outputs": []
  }
 ],
 "metadata": {
  "kernelspec": {
   "display_name": "Python [conda env:PROJ_IrOx_Active_Learning_OER]",
   "language": "python",
   "name": "conda-env-PROJ_IrOx_Active_Learning_OER-py"
  },
  "language_info": {
   "codemirror_mode": {
    "name": "ipython",
    "version": 3
   },
   "file_extension": ".py",
   "mimetype": "text/x-python",
   "name": "python",
   "nbconvert_exporter": "python",
   "pygments_lexer": "ipython3",
   "version": "3.6.7"
  }
 },
 "nbformat": 4,
 "nbformat_minor": 4
}
