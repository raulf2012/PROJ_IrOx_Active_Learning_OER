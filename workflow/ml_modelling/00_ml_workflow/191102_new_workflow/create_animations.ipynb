{
 "cells": [
  {
   "cell_type": "code",
   "execution_count": 1,
   "metadata": {},
   "outputs": [],
   "source": [
    "import os\n",
    "import sys\n",
    "\n",
    "import pickle"
   ]
  },
  {
   "cell_type": "code",
   "execution_count": 2,
   "metadata": {},
   "outputs": [
    {
     "name": "stdout",
     "output_type": "stream",
     "text": [
      "new init2!\n"
     ]
    }
   ],
   "source": [
    "# #############################################################################\n",
    "path_i = os.path.join(\n",
    "    os.environ[\"PROJ_irox\"],\n",
    "    'workflow/ml_modelling/00_ml_workflow',\n",
    "    '191102_new_workflow/00_abx_al_runs',\n",
    "    'out_data/AB3/gp_ucb_True',\n",
    "    'AL_kupugeti.pickle',\n",
    "    )\n",
    "with open(path_i, \"rb\") as fle:\n",
    "    AL = pickle.load(fle)"
   ]
  },
  {
   "cell_type": "code",
   "execution_count": 3,
   "metadata": {},
   "outputs": [],
   "source": [
    "from active_learning.al_analysis import ALAnimation"
   ]
  },
  {
   "cell_type": "code",
   "execution_count": 4,
   "metadata": {},
   "outputs": [
    {
     "name": "stdout",
     "output_type": "stream",
     "text": [
      "\n",
      " Creating animation...\n",
      "al_gen: 0\n",
      "al_gen: 1\n",
      "al_gen: 2\n",
      "out_plot/al_anim_AL_kupugeti.html\n",
      "DONE!\n"
     ]
    }
   ],
   "source": [
    "ALAnim = ALAnimation(\n",
    "    ALBulkOpt=AL,\n",
    "    # marker_color_dict=id_color_dict,\n",
    "    verbose=True)\n",
    "\n",
    "ALAnim.create_animation(\n",
    "    duration_long=1000 * 4,\n",
    "    duration_short=800 * 4,\n",
    "    serial_parallel=\"parallel\",  # 'serial' or 'parallel'\n",
    "    # marker_color_dict=id_color_dict,\n",
    "    )"
   ]
  },
  {
   "cell_type": "raw",
   "metadata": {},
   "source": [
    "\n",
    "\n",
    "\n"
   ]
  },
  {
   "cell_type": "code",
   "execution_count": 5,
   "metadata": {},
   "outputs": [],
   "source": [
    "# sys.path.insert(0,\n",
    "#     os.path.join(\n",
    "#         os.environ[\"PROJ_irox\"],\n",
    "#         \"python_classes\"))\n",
    "\n",
    "# sys.path.insert(0,\n",
    "#     os.path.join(\n",
    "#         os.environ[\"PROJ_irox\"],\n",
    "#         \"python_classes/active_learning\"))\n",
    "\n",
    "# sys.path.insert(0,\n",
    "#     os.path.join(\n",
    "#         os.environ[\"PROJ_irox\"],\n",
    "#         \"python_classes/active_learning/\"))\n",
    "\n",
    "# from active_learning.al_algeneration import ALGeneration\n",
    "# from active_learning.al_bulkopt import ALBulkOpt\n",
    "# from active_learning import al_bulkopt"
   ]
  }
 ],
 "metadata": {
  "kernelspec": {
   "display_name": "Python [conda env:research-new]",
   "language": "python",
   "name": "conda-env-research-new-py"
  },
  "language_info": {
   "codemirror_mode": {
    "name": "ipython",
    "version": 3
   },
   "file_extension": ".py",
   "mimetype": "text/x-python",
   "name": "python",
   "nbconvert_exporter": "python",
   "pygments_lexer": "ipython3",
   "version": "3.6.8"
  }
 },
 "nbformat": 4,
 "nbformat_minor": 4
}
