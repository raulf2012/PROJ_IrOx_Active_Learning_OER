{
 "cells": [
  {
   "cell_type": "markdown",
   "metadata": {
    "Collapsed": "false"
   },
   "source": [
    "# Import Modules"
   ],
   "execution_count": null,
   "outputs": []
  },
  {
   "cell_type": "code",
   "execution_count": null,
   "metadata": {
    "Collapsed": "false"
   },
   "outputs": [],
   "source": [
    "import os\n",
    "import sys                                 \n",
    "\n",
    "import pickle\n",
    "\n",
    "sys.path.insert(0, os.path.join(os.environ[\"PROJ_irox\"], \"data\"))                    \n",
    "from proj_data_irox import df_dij_path"
   ]
  },
  {
   "cell_type": "markdown",
   "metadata": {
    "Collapsed": "false"
   },
   "source": [
    "# Import Data"
   ],
   "execution_count": null,
   "outputs": []
  },
  {
   "cell_type": "code",
   "execution_count": null,
   "metadata": {
    "Collapsed": "false"
   },
   "outputs": [],
   "source": [
    "with open(df_dij_path, \"rb\") as fle:\n",
    "    df_dij = pickle.load(fle)"
   ]
  },
  {
   "cell_type": "code",
   "execution_count": null,
   "metadata": {},
   "outputs": [],
   "source": [
    "# /mnt/f/Dropbox/01_norskov/00_git_repos/PROJ_IrOx_Active_Learning_OER/workflow/ml_modelling/00_ml_workflow/191102_new_workflow/00_abx_al_runs/out_data/AB2/gp_ucb_True/TEST_AL_muvasubu.pickle"
   ]
  },
  {
   "cell_type": "code",
   "execution_count": null,
   "metadata": {
    "Collapsed": "false"
   },
   "outputs": [],
   "source": [
    "# AL_data_path = \"/home/raulf2012/Dropbox/01_norskov/00_git_repos/PROJ_IrOx_Active_Learning_OER/workflow/ml_modelling/00_ml_workflow/191102_new_workflow/00_abx_al_runs/out_data\"\n",
    "AL_data_path = os.path.join(\n",
    "    os.environ[\"PROJ_irox\"],\n",
    "    \"workflow/ml_modelling/00_ml_workflow/191102_new_workflow/00_abx_al_runs/out_data\",\n",
    "    )"
   ]
  },
  {
   "cell_type": "code",
   "execution_count": null,
   "metadata": {
    "Collapsed": "false"
   },
   "outputs": [],
   "source": [
    "# # #############################################################################\n",
    "# # AL_data_path += \"/AB3/gp_ucb_True\"\n",
    "# # AL_data_path += \"/AL_geheneva.pickle\"\n",
    "\n",
    "# # #####################################\n",
    "# AL_data_path += \"/AB2/gp_ucb_True\"\n",
    "# # #####################################\n",
    "# # AL_data_path += \"/AL_piritapo.pickle\"\n",
    "# # AL_data_path += \"/TEST_AL_wakuhifa.pickle\"\n",
    "# AL_data_path += \"/TEST_AL_muvasubu.pickle\""
   ]
  },
  {
   "cell_type": "code",
   "execution_count": null,
   "metadata": {},
   "outputs": [],
   "source": [
    "# #####################################\n",
    "AL_data_path += \"/AB3/gp_ucb_True/01_attempt\"\n",
    "# #####################################\n",
    "AL_data_path += \"/AL_geheneva.pickle\"\n",
    "\n",
    "# AL_geheneva.pickle"
   ]
  },
  {
   "cell_type": "code",
   "execution_count": null,
   "metadata": {
    "Collapsed": "false"
   },
   "outputs": [],
   "source": [
    "with open(AL_data_path, \"rb\") as fle:\n",
    "    AL_i = pickle.load(fle)"
   ]
  },
  {
   "cell_type": "raw",
   "metadata": {
    "Collapsed": "false"
   },
   "source": [
    "\n",
    "\n"
   ],
   "execution_count": null,
   "outputs": []
  },
  {
   "cell_type": "code",
   "execution_count": null,
   "metadata": {
    "Collapsed": "false"
   },
   "outputs": [],
   "source": [
    "last_gen_key = list(AL_i.al_gen_dict.keys())[-1]\n",
    "AL_gen_f = AL_i.al_gen_dict[last_gen_key]\n",
    "\n",
    "model = AL_gen_f.model\n",
    "model_notdupl = model[model.duplicate == False]\n",
    "\n",
    "\n",
    "indices_not_duplicates = model_notdupl.index"
   ]
  },
  {
   "cell_type": "code",
   "execution_count": null,
   "metadata": {
    "Collapsed": "false"
   },
   "outputs": [],
   "source": [
    "# Subset of df_dij that contains entries of final AL generation that aren't duplicates\n",
    "df_dij_sub = df_dij.loc[indices_not_duplicates, indices_not_duplicates]\n",
    "# df_dij_sub[df_dij_sub < 0.01]\n",
    "\n",
    "\n",
    "for i_cnt, row_i in df_dij_sub.iterrows():\n",
    "    id_i = row_i.name\n",
    "\n",
    "    # duplicate_ids = row_i[row_i < 0.02].index.tolist()\n",
    "    duplicate_ids = row_i[row_i < 0.03].index.tolist()\n",
    "    if id_i in duplicate_ids:\n",
    "        duplicate_ids.remove(id_i)\n",
    "\n",
    "    if len(duplicate_ids) > 0:\n",
    "        print(id_i, \":\", duplicate_ids)"
   ]
  },
  {
   "cell_type": "code",
   "execution_count": null,
   "metadata": {},
   "outputs": [],
   "source": [
    "df_dij.loc[\"8p8evt9pcg\", \"xw9y6rbkxr\"]"
   ]
  },
  {
   "cell_type": "code",
   "execution_count": null,
   "metadata": {},
   "outputs": [],
   "source": [
    "tmp_list = model_notdupl.sort_values(\"y_real\").iloc[0:15].index.tolist()\n",
    "\n",
    "\n",
    "df_dij.loc[tmp_list, tmp_list]"
   ]
  },
  {
   "cell_type": "code",
   "execution_count": null,
   "metadata": {
    "Collapsed": "false"
   },
   "outputs": [],
   "source": [
    "# model_notdupl.sort_values(\"y_real\")\n",
    "\n",
    "model.sort_values(\"y_real\").iloc[0:15]"
   ]
  }
 ],
 "metadata": {
  "kernelspec": {
   "display_name": "Python [conda env:PROJ_IrOx_Active_Learning_OER]",
   "language": "python",
   "name": "conda-env-PROJ_IrOx_Active_Learning_OER-py"
  },
  "language_info": {
   "codemirror_mode": {
    "name": "ipython",
    "version": 3
   },
   "file_extension": ".py",
   "mimetype": "text/x-python",
   "name": "python",
   "nbconvert_exporter": "python",
   "pygments_lexer": "ipython3",
   "version": "3.6.9"
  }
 },
 "nbformat": 4,
 "nbformat_minor": 4
}
