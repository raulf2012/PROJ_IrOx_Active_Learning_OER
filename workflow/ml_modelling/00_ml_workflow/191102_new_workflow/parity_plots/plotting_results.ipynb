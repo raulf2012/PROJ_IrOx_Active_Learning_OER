{
 "cells": [
  {
   "cell_type": "markdown",
   "metadata": {},
   "source": [
    "# Import Modules"
   ],
   "execution_count": null,
   "outputs": []
  },
  {
   "cell_type": "code",
   "execution_count": null,
   "metadata": {
    "jupyter": {}
   },
   "outputs": [],
   "source": [
    "import os\n",
    "import sys\n",
    "\n",
    "import pickle\n",
    "\n",
    "import chart_studio.plotly as py\n",
    "import plotly.graph_objs as go\n",
    "\n",
    "from plotting.my_plotly import my_plotly_plot\n",
    "\n",
    "from layout import layout"
   ]
  },
  {
   "cell_type": "code",
   "execution_count": null,
   "metadata": {},
   "outputs": [],
   "source": [
    "import pandas as pd"
   ]
  },
  {
   "cell_type": "markdown",
   "metadata": {},
   "source": [
    "# Read Data"
   ],
   "execution_count": null,
   "outputs": []
  },
  {
   "cell_type": "code",
   "execution_count": null,
   "metadata": {
    "jupyter": {}
   },
   "outputs": [],
   "source": [
    "# #############################################################################\n",
    "path_i = os.path.join(\n",
    "    \"out_data\",\n",
    "    \"AB2_post_dft_cv_data.pickle\")\n",
    "with open(path_i, \"rb\") as fle:\n",
    "    model_post_ab2 = pickle.load(fle)\n",
    "# #############################################################################\n",
    "\n",
    "# #############################################################################\n",
    "path_i = os.path.join(\n",
    "    \"out_data\",\n",
    "    \"AB2_pre_dft_cv_data.pickle\")\n",
    "with open(path_i, \"rb\") as fle:\n",
    "    model_pre_ab2 = pickle.load(fle)\n",
    "# #############################################################################\n",
    "\n",
    "\n",
    "\n",
    "# #############################################################################\n",
    "import pickle; import os\n",
    "path_i = os.path.join(\n",
    "    # os.environ[\"\"],\n",
    "    \"out_data\",\n",
    "    \"AB3_post_dft_cv_data.pickle\")\n",
    "with open(path_i, \"rb\") as fle:\n",
    "    model_post_ab3 = pickle.load(fle)\n",
    "# #############################################################################\n",
    "\n",
    "# #############################################################################\n",
    "path_i = os.path.join(\n",
    "    \"out_data\",\n",
    "    \"AB3_pre_dft_cv_data.pickle\")\n",
    "with open(path_i, \"rb\") as fle:\n",
    "    model_pre_ab3 = pickle.load(fle)\n",
    "# #############################################################################"
   ]
  },
  {
   "cell_type": "code",
   "execution_count": null,
   "metadata": {},
   "outputs": [],
   "source": [
    "data = []\n",
    "\n",
    "scatter_shared = go.Scatter(\n",
    "    mode=\"markers\",\n",
    "    marker=dict(\n",
    "        opacity=1.,\n",
    "        size=4,\n",
    "        line=dict(\n",
    "            color='black',\n",
    "            # width=0.1,\n",
    "            width=0.,\n",
    "            ),\n",
    "        ),\n",
    "    )\n",
    "\n",
    "scatter_shared_post = go.Scatter(opacity=.6, marker=dict(color=\"rgba(0,100,255,1.)\"))\n",
    "scatter_shared_pre = go.Scatter(marker=dict(color=\"rgba(150,150,150,1.)\"))\n",
    "\n",
    "scatter_shared_iro2 = go.Scatter(marker=dict(symbol=\"circle\"))\n",
    "scatter_shared_iro3 = go.Scatter(marker=dict(symbol=\"circle\"))"
   ]
  },
  {
   "cell_type": "markdown",
   "metadata": {},
   "source": [
    "# TRACES | Main data traces"
   ],
   "execution_count": null,
   "outputs": []
  },
  {
   "cell_type": "code",
   "execution_count": null,
   "metadata": {},
   "outputs": [],
   "source": [
    "# #############################################################################\n",
    "model_i = pd.concat([\n",
    "    model_pre_ab2,\n",
    "    model_pre_ab3,    \n",
    "    ], axis=0)\n",
    "trace = go.Scatter(y=model_i.y, x=model_i.y_real)\n",
    "trace.update(scatter_shared)\n",
    "trace.update(scatter_shared_pre)\n",
    "data.append(trace)\n",
    "\n",
    "\n",
    "# #############################################################################\n",
    "model_i = pd.concat([\n",
    "    model_post_ab2,\n",
    "    model_post_ab3,    \n",
    "    ], axis=0)\n",
    "trace = go.Scatter(y=model_i.y, x=model_i.y_real)\n",
    "trace.update(scatter_shared)\n",
    "trace.update(scatter_shared_post)\n",
    "data.append(trace)"
   ]
  },
  {
   "cell_type": "markdown",
   "metadata": {},
   "source": [
    "# TRACE | Parity Line"
   ],
   "execution_count": null,
   "outputs": []
  },
  {
   "cell_type": "code",
   "execution_count": null,
   "metadata": {},
   "outputs": [],
   "source": [
    "trace_xy = go.Scatter(\n",
    "    x=[-4, 6],\n",
    "    y=[-4, 6],\n",
    "    mode=\"lines\",\n",
    "    line=dict(\n",
    "        color=\"red\",\n",
    "        dash=\"dot\",\n",
    "        ),\n",
    "    )\n",
    "\n",
    "data.append(trace_xy)"
   ]
  },
  {
   "cell_type": "markdown",
   "metadata": {},
   "source": [
    "# Plotting"
   ],
   "execution_count": null,
   "outputs": []
  },
  {
   "cell_type": "code",
   "execution_count": null,
   "metadata": {
    "jupyter": {}
   },
   "outputs": [],
   "source": [
    "layout.update(dict(\n",
    "    xaxis=dict(range=[-2.9, 5.7]),\n",
    "    yaxis=dict(\n",
    "        range=[-2.9, 5.7],\n",
    "        scaleanchor = \"x\",\n",
    "        scaleratio = 1,    \n",
    "        ),\n",
    "    \n",
    "    paper_bgcolor=\"rgb(255,255,255)\",\n",
    "    plot_bgcolor=\"rgb(255,255,255)\",\n",
    "    annotations=None,\n",
    "    ))\n",
    "\n",
    "fig = go.Figure(data=data, layout=layout)\n",
    "fig = my_plotly_plot(\n",
    "    figure=fig,\n",
    "    plot_name=\"parity_plot\",\n",
    "    write_html=True,\n",
    "    write_pdf=True,\n",
    "    write_png=True,\n",
    "    png_scale=1.0,\n",
    "    )\n",
    "\n",
    "fig.show()"
   ]
  },
  {
   "cell_type": "code",
   "execution_count": null,
   "metadata": {},
   "outputs": [],
   "source": [
    "layout.update(dict(\n",
    "    height=6.812 * 37.795275591,\n",
    "    width=6.74 * 37.795275591,\n",
    "\n",
    "    paper_bgcolor=\"rgba(255,255,255,0.)\",\n",
    "    plot_bgcolor=\"rgba(255,255,255,0.)\",\n",
    "\n",
    "    showlegend=False,\n",
    "    margin=go.layout.Margin(\n",
    "        autoexpand=None,\n",
    "        b=10,\n",
    "        l=10,\n",
    "        pad=None,\n",
    "        r=10,\n",
    "        t=10,\n",
    "        ),\n",
    "    ))\n",
    "\n",
    "fig = go.Figure(data=data, layout=layout)\n",
    "fig = my_plotly_plot(\n",
    "    figure=fig,\n",
    "    plot_name=\"main_parity_plot\",\n",
    "    write_html=True,\n",
    "    write_pdf=True,\n",
    "    write_png=True,\n",
    "    png_scale=20.0,\n",
    "    )\n",
    "\n",
    "fig.show()"
   ]
  },
  {
   "cell_type": "raw",
   "metadata": {},
   "source": [
    "\n",
    "\n",
    "\n"
   ],
   "execution_count": null,
   "outputs": []
  },
  {
   "cell_type": "code",
   "execution_count": null,
   "metadata": {
    "jupyter": {}
   },
   "outputs": [],
   "source": [
    "\n",
    "\n",
    "\n",
    "# def method(row_i, argument_0, optional_arg=None):\n",
    "#     \"\"\"\n",
    "#     \"\"\"\n",
    "#     calc_dH()\n",
    "#     return(argument_0)\n",
    "\n",
    "# arg1 = \"TEMP_0\"\n",
    "# df_i = model_i\n",
    "# df_i[\"column_name\"] = df_i.apply(\n",
    "#     method,\n",
    "#     axis=1,\n",
    "#     args=(arg1, ),\n",
    "#     optional_arg=\"TEMP_1\"\n",
    "#     )"
   ]
  }
 ],
 "metadata": {
  "jupytext": {
   "formats": "ipynb,py:light"
  },
  "kernelspec": {
   "display_name": "Python [conda env:PROJ_IrOx_Active_Learning_OER]",
   "language": "python",
   "name": "conda-env-PROJ_IrOx_Active_Learning_OER-py"
  },
  "language_info": {
   "codemirror_mode": {
    "name": "ipython",
    "version": 3
   },
   "file_extension": ".py",
   "mimetype": "text/x-python",
   "name": "python",
   "nbconvert_exporter": "python",
   "pygments_lexer": "ipython3",
   "version": "3.6.9"
  }
 },
 "nbformat": 4,
 "nbformat_minor": 4
}
