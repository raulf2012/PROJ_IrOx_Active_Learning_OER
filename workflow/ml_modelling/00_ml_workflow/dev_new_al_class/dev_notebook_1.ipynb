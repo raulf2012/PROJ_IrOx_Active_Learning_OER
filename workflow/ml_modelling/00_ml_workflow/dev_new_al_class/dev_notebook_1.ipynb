{
 "cells": [
  {
   "cell_type": "markdown",
   "metadata": {},
   "source": [
    "# Import Modules"
   ]
  },
  {
   "cell_type": "code",
   "execution_count": 1,
   "metadata": {
    "jupyter": {
     "source_hidden": true
    }
   },
   "outputs": [],
   "source": [
    "%%capture\n",
    "\n",
    "import os\n",
    "import sys\n",
    "\n",
    "import copy\n",
    "\n",
    "import time\n",
    "import pickle\n",
    "\n",
    "import numpy as np\n",
    "import pandas as pd\n",
    "\n",
    "import gpflow\n",
    "\n",
    "from sklearn.decomposition import PCA\n",
    "\n",
    "# #############################################################################\n",
    "from catlearn.regression.gaussian_process import GaussianProcess\n",
    "from catlearn.preprocess.clean_data import (\n",
    "    clean_infinite,\n",
    "    clean_variance,\n",
    "    clean_skewness)\n",
    "from catlearn.preprocess.scaling import standardize\n",
    "\n",
    "# #############################################################################\n",
    "sys.path.insert(0, os.path.join(\n",
    "    os.environ[\"PROJ_irox\"],\n",
    "    \"python_classes/active_learning\"))\n",
    "from active_learning import (\n",
    "    ALBulkOpt,\n",
    "    ALGeneration,\n",
    "    RegressionModel,\n",
    "    FingerPrints,\n",
    "    CandidateSpace,\n",
    "    )\n",
    "\n",
    "from al_analysis import ALAnalysis, ALAnimation\n",
    "\n",
    "# #############################################################################\n",
    "from IPython.display import display"
   ]
  },
  {
   "cell_type": "markdown",
   "metadata": {},
   "source": [
    "# Script Inputs"
   ]
  },
  {
   "cell_type": "code",
   "execution_count": 2,
   "metadata": {},
   "outputs": [],
   "source": [
    "stoich_i = \"AB2\"\n",
    "verbose = False\n",
    "num_gen_stop = 5\n",
    "# num_gen_stop = 10\n",
    "\n",
    "gp_settings = {\n",
    "    \"noise\": 0.02542,\n",
    "    \"sigma_l\": 1.0049,\n",
    "    \"sigma_f\": 5.19,\n",
    "    \"alpha\": 0.018,\n",
    "    }"
   ]
  },
  {
   "cell_type": "markdown",
   "metadata": {},
   "source": [
    "# Read Data"
   ]
  },
  {
   "cell_type": "code",
   "execution_count": 3,
   "metadata": {},
   "outputs": [],
   "source": [
    "sys.path.insert(0, os.path.join(\n",
    "    os.environ[\"PROJ_irox\"],\n",
    "    \"workflow/ml_modelling\"))\n",
    "from ml_methods import get_data_for_al\n",
    "\n",
    "out_dict = get_data_for_al(\n",
    "    stoich=\"AB2\", verbose=False,\n",
    "    drop_too_many_atoms=True,\n",
    "#     drop_too_many_atoms=False,\n",
    "    )\n",
    "\n",
    "df_bulk_dft = out_dict[\"df_bulk_dft\"]\n",
    "df_bulk_dft = df_bulk_dft[df_bulk_dft[\"source\"] == \"raul\"]"
   ]
  },
  {
   "cell_type": "code",
   "execution_count": 4,
   "metadata": {},
   "outputs": [],
   "source": [
    "# df_bulk_dft = df_bulk_dft[[\"atoms\", \"energy_pa\"]]\n",
    "df_bulk_dft = df_bulk_dft[[\"atoms\", \"dH\"]]\n",
    "df_bulk_dft.columns.values[1] = \"y_real\"\n",
    "\n",
    "df_features_pre = out_dict[\"df_features_pre\"]\n",
    "df_features_post = out_dict[\"df_features_post\"]\n",
    "\n",
    "df_ids = out_dict[\"df_ids\"]\n",
    "\n",
    "\n",
    "df_static_irox = out_dict[\"df_static_irox\"]\n",
    "df_dij = out_dict[\"df_dij\"]"
   ]
  },
  {
   "cell_type": "code",
   "execution_count": 5,
   "metadata": {},
   "outputs": [],
   "source": [
    "ids_w_dft = df_bulk_dft.index\n",
    "\n",
    "# TEMP | Reduce size of candidate space\n",
    "np.random.seed(8)\n",
    "# ids_w_dft = np.sort(np.random.choice(np.sort(ids_w_dft), size=200))\n",
    "ids_w_dft = list(set(ids_w_dft))\n",
    "\n",
    "df_bulk_dft = df_bulk_dft.loc[ids_w_dft]\n",
    "\n",
    "df_features_pre = df_features_pre.loc[ids_w_dft]\n",
    "df_features_post = df_features_post.loc[ids_w_dft]"
   ]
  },
  {
   "cell_type": "code",
   "execution_count": 6,
   "metadata": {
    "jupyter": {
     "source_hidden": true
    }
   },
   "outputs": [
    {
     "name": "stdout",
     "output_type": "stream",
     "text": [
      "{'6r716sxr9t': 'green', '9yz2mt8hbh': 'blue'}\n"
     ]
    }
   ],
   "source": [
    "color_list = [\n",
    "    \"rgb(202,88,66)\",\n",
    "    \"rgb(71,189,198)\",\n",
    "    \"rgb(210,70,147)\",\n",
    "    \"rgb(120,181,66)\",\n",
    "    \"rgb(157,99,201)\",\n",
    "    \"rgb(81,163,108)\",\n",
    "    \"rgb(189,104,138)\",\n",
    "    \"rgb(131,128,57)\",\n",
    "    \"rgb(101,130,203)\",\n",
    "    \"rgb(209,154,68)\",\n",
    "    ]\n",
    "\n",
    "ids_top_ten = [\n",
    "    '64cg6j9any',\n",
    "    'n36axdbw65',\n",
    "    'clc2b1mavs',\n",
    "    'ck638t75z3',\n",
    "    'mkbj6e6e9p',\n",
    "    'b49kx4c19q',\n",
    "    '85z4msnl6o',\n",
    "    'bpc2nk6qz1',\n",
    "    '926dnunrxf',\n",
    "    'mwmg9p7s6o',\n",
    "\n",
    "    # \"6r716sxr9t\",\n",
    "    # \"n36axdbw65\",\n",
    "    # \"clc2b1mavs\",\n",
    "    # \"ck638t75z3\",\n",
    "    # \"mkbj6e6e9p\",\n",
    "    # \"vp7fvs6q81\",\n",
    "    # \"85z4msnl6o\",\n",
    "    # \"bpc2nk6qz1\",\n",
    "    # \"926dnunrxf\",\n",
    "    # \"mwmg9p7s6o\",\n",
    "    ]\n",
    "\n",
    "id_color_dict = dict(zip(\n",
    "    ids_top_ten,\n",
    "    # df_bulk_dft.sort_values(\"y_real\").iloc[0:10].index,\n",
    "    color_list,\n",
    "    ))\n",
    "\n",
    "\n",
    "ids_top_system_duplicates = [\n",
    "\"6r716sxr9t\",\n",
    "# \"6avov5cy64\",\n",
    "# \"cfcivdxrc2\",\n",
    "# \"m29j648g6i\",\n",
    "# \"vunhmsbrml\",\n",
    "\"9yz2mt8hbh\",\n",
    "# \"nazu9q9l9h\",\n",
    "# \"64cg6j9any\",\n",
    "# \"b46enqnq8e\",\n",
    "]\n",
    "\n",
    "# \"6r716sxr9t\",\n",
    "# \"9yz2mt8hbh\",\n",
    "# \"64cg6j9any\"\n",
    "\n",
    "color_list = [\n",
    "\"green\",\n",
    "\"blue\",\n",
    "# \"rgb(202,88,66)\",\n",
    "# \"rgb(71,189,198)\",\n",
    "# \"rgb(210,70,147)\",\n",
    "# \"rgb(120,181,66)\",\n",
    "# \"rgb(157,99,201)\",\n",
    "# \"rgb(81,163,108)\",\n",
    "# \"rgb(189,104,138)\",\n",
    "# \"rgb(131,128,57)\",\n",
    "# \"rgb(101,130,203)\",\n",
    "]\n",
    "\n",
    "id_color_dict = dict(zip(\n",
    "    ids_top_system_duplicates,\n",
    "    color_list,\n",
    "    ))\n",
    "\n",
    "print(id_color_dict)"
   ]
  },
  {
   "cell_type": "raw",
   "metadata": {},
   "source": [
    "\n",
    "\n",
    "\n",
    "\n",
    "\n",
    "\n"
   ]
  },
  {
   "cell_type": "markdown",
   "metadata": {},
   "source": [
    "# CCF Class"
   ]
  },
  {
   "cell_type": "code",
   "execution_count": 7,
   "metadata": {
    "jupyter": {
     "source_hidden": true
    }
   },
   "outputs": [],
   "source": [
    "sys.path.insert(0, os.path.join(\n",
    "    os.environ[\"PROJ_irox\"],\n",
    "    \"python_classes\"))\n",
    "from ccf_similarity.ccf import CCF\n",
    "\n",
    "d_thresh = 0.02\n",
    "CCF = CCF(\n",
    "    df_dij=df_dij,\n",
    "    d_thresh=d_thresh)"
   ]
  },
  {
   "cell_type": "code",
   "execution_count": 8,
   "metadata": {},
   "outputs": [],
   "source": [
    "RM = RegressionModel(\n",
    "    opt_hyperparameters=True,\n",
    "    gp_settings_dict=gp_settings,\n",
    "    verbose=verbose,\n",
    "    )\n",
    "\n",
    "FP = FingerPrints(\n",
    "    df_features_pre,\n",
    "    df_features_post=df_features_post,\n",
    "    pca_mode=\"num_comp\",  # 'num_comp' or 'perc'\n",
    "    pca_comp=11,\n",
    "    pca_perc=None,\n",
    "    verbose=verbose,\n",
    "    )\n",
    "\n",
    "CS = CandidateSpace(\n",
    "    Y_data=df_bulk_dft,\n",
    "    Y_key=\"y_real\",\n",
    "    FingerPrints=FP,\n",
    "    )"
   ]
  },
  {
   "cell_type": "code",
   "execution_count": 9,
   "metadata": {},
   "outputs": [
    {
     "name": "stdout",
     "output_type": "stream",
     "text": [
      "name: AL_AB2_05 \n",
      "\n",
      "000  | init  |  ****************************************************************\n",
      "000  | final |  ****************************************************************\n",
      "\n",
      "001  | init  |  ****************************************************************\n",
      "001  | final |  ****************************************************************\n",
      "\n",
      "002  | init  |  ****************************************************************\n",
      "002  | final |  ****************************************************************\n",
      "\n",
      "003  | init  |  ****************************************************************\n",
      "003  | final |  ****************************************************************\n",
      "\n",
      "004  | init  |  ****************************************************************\n",
      "004  | final |  ****************************************************************\n",
      "\n"
     ]
    }
   ],
   "source": [
    "name_i = \"AL_\" + stoich_i + \"_\" + str(num_gen_stop).zfill(2)\n",
    "print(\"name:\", name_i, \"\\n\")\n",
    "AL = ALBulkOpt(\n",
    "    CandidateSpace=CS,\n",
    "    RegressionModel=RM,\n",
    "    DuplicateFinder=CCF,  # Optional\n",
    "    num_seed_calcs=11,\n",
    "    acquisition_bin=50,\n",
    "    stop_mode=\"num_generations\",\n",
    "#     stop_mode=None,\n",
    "    stop_num_generations=num_gen_stop,\n",
    "    name=\"TEST__acq_10\",\n",
    "    verbose=verbose,\n",
    "    )\n",
    "\n",
    "run_al = True\n",
    "if run_al:\n",
    "    AL.run_AL()\n",
    "\n",
    "    AL.__save_state__()"
   ]
  },
  {
   "cell_type": "raw",
   "metadata": {},
   "source": [
    "\n",
    "\n"
   ]
  },
  {
   "cell_type": "code",
   "execution_count": 10,
   "metadata": {},
   "outputs": [
    {
     "name": "stdout",
     "output_type": "stream",
     "text": [
      "\n",
      " Creating animation...\n",
      "{'6r716sxr9t': 'green', '9yz2mt8hbh': 'blue'}\n",
      "{'9yz2mt8hbh': 'blue', 'momkzj9r84': 'green'}\n",
      "TEMPTEMPTEMPTEMPTEMPTEMPTEMPTEMPTEMPTEMPTEMPTEMPTEMPTEMPTEMPTEMPTEMPTEMPTEMPTEMPTEMPTEMPTEMPTEMPTEMPTEMPTEMPTEMPTEMPTEMPTEMPTEMPTEMPTEMPTEMPTEMPTEMPTEMPTEMPTEMP\n",
      "{'6r716sxr9t': 'green', '9yz2mt8hbh': 'blue'}\n",
      "{'9yz2mt8hbh': 'blue', 'momkzj9r84': 'green'}\n",
      "TEMPTEMPTEMPTEMPTEMPTEMPTEMPTEMPTEMPTEMPTEMPTEMPTEMPTEMPTEMPTEMPTEMPTEMPTEMPTEMPTEMPTEMPTEMPTEMPTEMPTEMPTEMPTEMPTEMPTEMPTEMPTEMPTEMPTEMPTEMPTEMPTEMPTEMPTEMPTEMP\n",
      "{'6r716sxr9t': 'green', '9yz2mt8hbh': 'blue'}\n",
      "{'9yz2mt8hbh': 'blue', 'momkzj9r84': 'green'}\n",
      "TEMPTEMPTEMPTEMPTEMPTEMPTEMPTEMPTEMPTEMPTEMPTEMPTEMPTEMPTEMPTEMPTEMPTEMPTEMPTEMPTEMPTEMPTEMPTEMPTEMPTEMPTEMPTEMPTEMPTEMPTEMPTEMPTEMPTEMPTEMPTEMPTEMPTEMPTEMPTEMP\n",
      "{'9yz2mt8hbh': 'blue', 'momkzj9r84': 'green'}\n",
      "{'9yz2mt8hbh': 'green'}\n",
      "TEMPTEMPTEMPTEMPTEMPTEMPTEMPTEMPTEMPTEMPTEMPTEMPTEMPTEMPTEMPTEMPTEMPTEMPTEMPTEMPTEMPTEMPTEMPTEMPTEMPTEMPTEMPTEMPTEMPTEMPTEMPTEMPTEMPTEMPTEMPTEMPTEMPTEMPTEMPTEMP\n",
      "{'6r716sxr9t': 'green', '9yz2mt8hbh': 'blue'}\n",
      "{'6r716sxr9t': 'green', '64cg6j9any': 'blue'}\n",
      "TEMPTEMPTEMPTEMPTEMPTEMPTEMPTEMPTEMPTEMPTEMPTEMPTEMPTEMPTEMPTEMPTEMPTEMPTEMPTEMPTEMPTEMPTEMPTEMPTEMPTEMPTEMPTEMPTEMPTEMPTEMPTEMPTEMPTEMPTEMPTEMPTEMPTEMPTEMPTEMP\n",
      "{'6r716sxr9t': 'green', '64cg6j9any': 'blue'}\n",
      "{'64cg6j9any': 'blue', 'momkzj9r84': 'green'}\n",
      "TEMPTEMPTEMPTEMPTEMPTEMPTEMPTEMPTEMPTEMPTEMPTEMPTEMPTEMPTEMPTEMPTEMPTEMPTEMPTEMPTEMPTEMPTEMPTEMPTEMPTEMPTEMPTEMPTEMPTEMPTEMPTEMPTEMPTEMPTEMPTEMPTEMPTEMPTEMPTEMP\n",
      "{'64cg6j9any': 'blue', 'momkzj9r84': 'green'}\n",
      "{'64cg6j9any': 'blue', '9yz2mt8hbh': 'green'}\n",
      "TEMPTEMPTEMPTEMPTEMPTEMPTEMPTEMPTEMPTEMPTEMPTEMPTEMPTEMPTEMPTEMPTEMPTEMPTEMPTEMPTEMPTEMPTEMPTEMPTEMPTEMPTEMPTEMPTEMPTEMPTEMPTEMPTEMPTEMPTEMPTEMPTEMPTEMPTEMPTEMP\n",
      "DONE!\n"
     ]
    }
   ],
   "source": [
    "# #############################################################################\n",
    "import pickle; import os\n",
    "path_i = os.path.join(\n",
    "    os.environ[\"PROJ_irox\"],\n",
    "    \"workflow/ml_modelling/00_ml_workflow\",\n",
    "    \"dev_new_al_class/out_data\",\n",
    "    \"TEST__acq_10.pickle\")\n",
    "    # \"TEST.pickle\")\n",
    "    # \"TEST_small.pickle\")\n",
    "\n",
    "with open(path_i, \"rb\") as fle:\n",
    "    AL = pickle.load(fle)\n",
    "\n",
    "ALAnim = ALAnimation(ALBulkOpt=AL, verbose=True)\n",
    "\n",
    "if True:\n",
    "    ALAnim.create_animation(\n",
    "        # duration_long=1000 * 0.5,\n",
    "        # duration_short=800 * 0.5,\n",
    "        duration_long=1000 * 3,\n",
    "        duration_short=800 * 3,\n",
    "        serial_parallel=\"parallel\",  # 'serial' or 'parallel'\n",
    "        marker_color_dict=id_color_dict,\n",
    "        )"
   ]
  },
  {
   "cell_type": "code",
   "execution_count": 11,
   "metadata": {},
   "outputs": [],
   "source": [
    "# assert False"
   ]
  },
  {
   "cell_type": "code",
   "execution_count": 12,
   "metadata": {},
   "outputs": [],
   "source": [
    "# #############################################################################\n",
    "self = AL\n",
    "\n",
    "duplicate_ids = AL.duplicate_ids\n",
    "\n",
    "duplicate_swap_dict = AL.duplicate_swap_dict\n",
    "# #############################################################################"
   ]
  },
  {
   "cell_type": "code",
   "execution_count": 13,
   "metadata": {},
   "outputs": [
    {
     "data": {
      "text/plain": [
       "False"
      ]
     },
     "execution_count": 13,
     "metadata": {},
     "output_type": "execute_result"
    }
   ],
   "source": [
    "\"64cg6j9any\" in list(set(AL.duplicate_ids))\n",
    "\n",
    "# AL.duplicate_ids"
   ]
  },
  {
   "cell_type": "code",
   "execution_count": 14,
   "metadata": {},
   "outputs": [
    {
     "data": {
      "text/plain": [
       "True"
      ]
     },
     "execution_count": 14,
     "metadata": {},
     "output_type": "execute_result"
    }
   ],
   "source": [
    "# #############################################################################\n",
    "gen_i = 1\n",
    "\n",
    "AL_i = AL.al_gen_dict[gen_i]\n",
    "self = AL_i\n",
    "\n",
    "model = self.model\n",
    "# #############################################################################\n",
    "\n",
    "# AL_i.duplicate_swap_dict\n",
    "\n",
    "model.loc[\n",
    "    [\"64cg6j9any\", \"9yz2mt8hbh\", \"6r716sxr9t\"]]\n",
    "\n",
    "# model\n",
    "\n",
    "\"6r716sxr9t\" in AL.duplicate_ids"
   ]
  },
  {
   "cell_type": "code",
   "execution_count": null,
   "metadata": {},
   "outputs": [],
   "source": []
  },
  {
   "cell_type": "code",
   "execution_count": 15,
   "metadata": {},
   "outputs": [],
   "source": [
    "# indices_that_are_duplicates\n",
    "# indices_that_are_duplicates\n",
    "# .extend(\n",
    "\n",
    "# indices_that_are_duplicates_i"
   ]
  },
  {
   "cell_type": "raw",
   "metadata": {},
   "source": [
    "\n",
    "\n",
    "\n"
   ]
  },
  {
   "cell_type": "raw",
   "metadata": {},
   "source": [
    "              y_real         y       err  acquired  gen_acquired\n",
    "id_unique                                                       \n",
    "6avov5cy64 -7.045677 -7.045334  0.000591      True           1.0\n",
    "cfcivdxrc2 -7.045449 -7.046304  0.000632      True           1.0\n",
    "m29j648g6i -7.045449 -7.046259  0.000622      True           1.0\n",
    "vunhmsbrml -7.045582 -7.045695  0.000579      True           1.0\n",
    "nazu9q9l9h -7.045528 -7.045367  0.000581      True           1.0\n",
    "b46enqnq8e -7.047508 -7.046924  0.000705      True           4.0\n",
    "\n",
    "64cg6j9any -7.047516 -7.046930  0.000701      True           4.0\n",
    "6r716sxr9t -7.040906 -7.041141  0.001500      True           0.0\n",
    "9yz2mt8hbh -7.047426 -7.046936  0.000704      True           1.0\n",
    "\n",
    "y_real             -7.04752\n",
    "y                  -7.04693\n",
    "err             0.000701333\n",
    "acquired               True\n",
    "gen_acquired              4\n",
    "Name: 64cg6j9any, dtype: object\n",
    "\n",
    "64cg6j9any\n",
    "b46enqnq8e"
   ]
  },
  {
   "cell_type": "raw",
   "metadata": {},
   "source": [
    "\n",
    "\n"
   ]
  },
  {
   "cell_type": "code",
   "execution_count": 16,
   "metadata": {},
   "outputs": [
    {
     "data": {
      "text/plain": [
       "['64cg6j9any']"
      ]
     },
     "execution_count": 16,
     "metadata": {},
     "output_type": "execute_result"
    }
   ],
   "source": [
    "[i for i in df_bulk_dft.index.tolist() if \"64cg\" in i]"
   ]
  }
 ],
 "metadata": {
  "jupytext": {
   "formats": "ipynb,py:light"
  },
  "kernelspec": {
   "display_name": "Python [conda env:research-new]",
   "language": "python",
   "name": "conda-env-research-new-py"
  },
  "language_info": {
   "codemirror_mode": {
    "name": "ipython",
    "version": 3
   },
   "file_extension": ".py",
   "mimetype": "text/x-python",
   "name": "python",
   "nbconvert_exporter": "python",
   "pygments_lexer": "ipython3",
   "version": "3.6.8"
  },
  "toc-autonumbering": true
 },
 "nbformat": 4,
 "nbformat_minor": 4
}
