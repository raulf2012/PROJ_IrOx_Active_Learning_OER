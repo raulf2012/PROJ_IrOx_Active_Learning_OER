{
 "cells": [
  {
   "cell_type": "code",
   "execution_count": 1,
   "metadata": {},
   "outputs": [],
   "source": [
    "%load_ext autoreload\n",
    "%autoreload 2"
   ]
  },
  {
   "cell_type": "markdown",
   "metadata": {},
   "source": [
    "# Import Modules"
   ]
  },
  {
   "cell_type": "code",
   "execution_count": 2,
   "metadata": {},
   "outputs": [],
   "source": [
    "import os\n",
    "import pickle\n",
    "import random\n",
    "import string\n",
    "import pandas as pd\n",
    "import numpy as np\n",
    "\n",
    "from protosearch.ml_modelling.fingerprint import (\n",
    "    FingerPrint,\n",
    "    VoronoiFingerprint\n",
    "    )\n",
    "\n",
    "pd.set_option(\"display.max_columns\", None)"
   ]
  },
  {
   "cell_type": "markdown",
   "metadata": {},
   "source": [
    "# Script Inputs"
   ]
  },
  {
   "cell_type": "markdown",
   "metadata": {},
   "source": [
    "# Read Data"
   ]
  },
  {
   "cell_type": "code",
   "execution_count": 3,
   "metadata": {},
   "outputs": [],
   "source": [
    "file_i = os.path.join(\n",
    "    os.environ[\"PROJ_irox\"],\n",
    "    \"workflow/ml_modelling/00_ml_workflow/outdata\",\n",
    "    \"01_irox_data_featurized.pickle\")\n",
    "with open(file_i, \"rb\") as fle:\n",
    "    df_m = pickle.load(fle)"
   ]
  },
  {
   "cell_type": "markdown",
   "metadata": {},
   "source": [
    "# Pre-process Data"
   ]
  },
  {
   "cell_type": "code",
   "execution_count": 4,
   "metadata": {},
   "outputs": [],
   "source": [
    "df_m = df_m[df_m[\"default_columns\"][\"stoich\"] == \"AB3\"]\n",
    "\n",
    "#TEMP\n",
    "# df_m = df_m[0:20]\n",
    "\n",
    "# Setting unique ID for each row\n",
    "def random_id():\n",
    "    out_id = ''.join(\n",
    "        random.choices(\n",
    "            string.ascii_uppercase + string.digits,\n",
    "            k=10\n",
    "            )\n",
    "        )\n",
    "    return(out_id)\n",
    "\n",
    "rand_ids = [random_id() for i in range(len(df_m))]\n",
    "df_m = df_m.set_index(\n",
    "    np.array(rand_ids),\n",
    "    drop=False,\n",
    "    append=False,\n",
    "    inplace=False,\n",
    "    verify_integrity=True,\n",
    "    )\n",
    "\n",
    "# df_m = df_m[df_m[\"default_columns\"][\"formation_e\"].notnull()]\n",
    "\n",
    "df_train = df_m[df_m[\"default_columns\"][\"formation_e\"].notnull()]\n",
    "df_test = df_m[df_m[\"default_columns\"][\"formation_e\"].isnull()]"
   ]
  },
  {
   "cell_type": "code",
   "execution_count": 5,
   "metadata": {},
   "outputs": [
    {
     "name": "stdout",
     "output_type": "stream",
     "text": [
      "Generate Voronoi fingerprint of 271 structures\n"
     ]
    },
    {
     "name": "stderr",
     "output_type": "stream",
     "text": [
      "/home/raul_surface/anaconda2/envs/test_bare/lib/python3.6/site-packages/pandas/core/generic.py:3812: PerformanceWarning: dropping on a non-lexsorted multi-index without a level parameter may impact performance.\n",
      "  new_axis = axis.drop(labels, errors=errors)\n"
     ]
    }
   ],
   "source": [
    "FP = FingerPrint(**{\n",
    "    \"feature_methods\": [\"voronoi\"],\n",
    "    \"input_data\": df_m,\n",
    "    \"input_index\": [\"default_columns\", \"atoms\"],\n",
    "    })\n",
    "\n",
    "\n",
    "FP.generate_fingerprints()\n",
    "FP.clean_features()\n",
    "FP.join_input_to_fingerprints()"
   ]
  },
  {
   "cell_type": "code",
   "execution_count": 6,
   "metadata": {},
   "outputs": [],
   "source": [
    "df_i = FP.fingerprints\n",
    "\n",
    "df_train = df_i[df_i[\"default_columns\"][\"formation_e\"].notnull()]\n",
    "df_test = df_i[df_i[\"default_columns\"][\"formation_e\"].isnull()]\n",
    "\n",
    "y = df_train[\"default_columns\"][\"formation_e\"].tolist()\n",
    "X = df_train[\"voronoi\"]  # .values"
   ]
  },
  {
   "cell_type": "code",
   "execution_count": 7,
   "metadata": {},
   "outputs": [],
   "source": [
    "from sklearn import linear_model\n",
    "from sklearn.linear_model import Ridge\n",
    "\n",
    "reg = linear_model.Ridge(alpha=.5)\n",
    "reg.fit(X, y)\n",
    "reg.coef_\n",
    "reg.intercept_ \n",
    "\n",
    "y_pred = reg.predict(df_i[\"voronoi\"])\n",
    "df_i[\"y_pred\"] = y_pred\n",
    "df_i = df_i.sort_values(by=[\"y_pred\"], axis=0)\n",
    "\n",
    "df_i[\"ind\"] = [i for i in range(len(df_i))]"
   ]
  },
  {
   "cell_type": "code",
   "execution_count": 8,
   "metadata": {},
   "outputs": [
    {
     "name": "stderr",
     "output_type": "stream",
     "text": [
      "/home/raul_surface/anaconda2/envs/test_bare/lib/python3.6/site-packages/IPython/core/display.py:689: UserWarning:\n",
      "\n",
      "Consider using IPython.display.IFrame instead\n",
      "\n"
     ]
    },
    {
     "data": {
      "text/html": [
       "<iframe id=\"igraph\" scrolling=\"no\" style=\"border:none;\" seamless=\"seamless\" src=\"https://plot.ly/~flores12/798.embed\" height=\"706.7716535517px\" width=\"706.7716535517px\"></iframe>"
      ],
      "text/plain": [
       "<chart_studio.tools.PlotlyDisplay object>"
      ]
     },
     "execution_count": 8,
     "metadata": {},
     "output_type": "execute_result"
    }
   ],
   "source": [
    "import os\n",
    "import sys\n",
    "\n",
    "sys.path.insert(0, os.path.join(\n",
    "    os.environ[\"PROJ_irox\"],\n",
    "    \"workflow/ml_modelling/ml_convergence_plots\",\n",
    "    ))\n",
    "\n",
    "from methods import process_data_for_plot, get_layout\n",
    "\n",
    "data_i = process_data_for_plot(\n",
    "    df_i,\n",
    "#     color0='red',\n",
    "#     color1='black',\n",
    "#     name='temp_name',\n",
    "#     marker_color_mode='single',\n",
    "    energy_key='y_pred',\n",
    "    marker_color_key='color_order',\n",
    "    uncertainty_key='uncert_0',\n",
    "    text_key='id',\n",
    "    process_text_for_hover=False,\n",
    "    explicit_error_bars=False,\n",
    "    filled_error_traces=False,\n",
    "    )\n",
    "\n",
    "layout_i = get_layout()\n",
    "\n",
    "import plotly.graph_objs as go\n",
    "import plotly.plotly as py\n",
    "\n",
    "save_dir = \"__temp__\"\n",
    "\n",
    "fig = dict(data=data_i, layout=layout_i)\n",
    "py.iplot(\n",
    "    fig,\n",
    "    filename=os.path.join(save_dir, \"190603_lin_regress_iro3\"))"
   ]
  },
  {
   "cell_type": "code",
   "execution_count": 26,
   "metadata": {},
   "outputs": [
    {
     "name": "stdout",
     "output_type": "stream",
     "text": [
      "0 features with greater than 0.20 missing values.\n",
      "\n",
      "64 features with a correlation magnitude greater than 0.97.\n",
      "\n"
     ]
    },
    {
     "data": {
      "image/png": "[encoded data removed]",
      "text/plain": [
       "<Figure size 720x576 with 2 Axes>"
      ]
     },
     "metadata": {
      "needs_background": "light"
     },
     "output_type": "display_data"
    }
   ],
   "source": [
    "import lightgbm\n",
    "from feature_selector import FeatureSelector\n",
    "\n",
    "fs = FeatureSelector(\n",
    "    data=df_train[\"voronoi\"],\n",
    "    labels=list(df_train[\"voronoi\"]),\n",
    "    )\n",
    "\n",
    "fs.identify_missing(missing_threshold=0.2)\n",
    "\n",
    "fs.identify_collinear(correlation_threshold=0.975)\n",
    "\n",
    "fs.plot_collinear(plot_all=False)"
   ]
  },
  {
   "cell_type": "code",
   "execution_count": 25,
   "metadata": {},
   "outputs": [
    {
     "name": "stdout",
     "output_type": "stream",
     "text": [
      "Training Gradient Boosting Model\n",
      "\n"
     ]
    },
    {
     "ename": "ValueError",
     "evalue": "Found input variables with inconsistent numbers of samples: [42, 84]",
     "output_type": "error",
     "traceback": [
      "\u001b[0;31m---------------------------------------------------------------------------\u001b[0m",
      "\u001b[0;31mValueError\u001b[0m                                Traceback (most recent call last)",
      "\u001b[0;32m<ipython-input-25-15ab79eda90e>\u001b[0m in \u001b[0;36m<module>\u001b[0;34m\u001b[0m\n\u001b[0;32m----> 1\u001b[0;31m \u001b[0mfs\u001b[0m\u001b[0;34m.\u001b[0m\u001b[0midentify_zero_importance\u001b[0m\u001b[0;34m(\u001b[0m\u001b[0mtask\u001b[0m\u001b[0;34m=\u001b[0m\u001b[0;34m'regression'\u001b[0m\u001b[0;34m,\u001b[0m \u001b[0meval_metric\u001b[0m\u001b[0;34m=\u001b[0m\u001b[0;34m'auc'\u001b[0m\u001b[0;34m,\u001b[0m \u001b[0mn_iterations\u001b[0m\u001b[0;34m=\u001b[0m\u001b[0;36m10\u001b[0m\u001b[0;34m,\u001b[0m \u001b[0mearly_stopping\u001b[0m\u001b[0;34m=\u001b[0m\u001b[0;32mTrue\u001b[0m\u001b[0;34m)\u001b[0m\u001b[0;34m\u001b[0m\u001b[0;34m\u001b[0m\u001b[0m\n\u001b[0m\u001b[1;32m      2\u001b[0m \u001b[0;34m\u001b[0m\u001b[0m\n\u001b[1;32m      3\u001b[0m \u001b[0mfs\u001b[0m\u001b[0;34m.\u001b[0m\u001b[0mplot_feature_importances\u001b[0m\u001b[0;34m(\u001b[0m\u001b[0mthreshold\u001b[0m \u001b[0;34m=\u001b[0m \u001b[0;36m0.99\u001b[0m\u001b[0;34m,\u001b[0m \u001b[0mplot_n\u001b[0m \u001b[0;34m=\u001b[0m \u001b[0;36m12\u001b[0m\u001b[0;34m)\u001b[0m\u001b[0;34m\u001b[0m\u001b[0;34m\u001b[0m\u001b[0m\n",
      "\u001b[0;32m/mnt/c/Users/raulf/Dropbox/01_norskov/00_git_repos/feature-selector/feature_selector/feature_selector.py\u001b[0m in \u001b[0;36midentify_zero_importance\u001b[0;34m(self, task, eval_metric, n_iterations, early_stopping)\u001b[0m\n\u001b[1;32m    304\u001b[0m             \u001b[0;32mif\u001b[0m \u001b[0mearly_stopping\u001b[0m\u001b[0;34m:\u001b[0m\u001b[0;34m\u001b[0m\u001b[0;34m\u001b[0m\u001b[0m\n\u001b[1;32m    305\u001b[0m \u001b[0;34m\u001b[0m\u001b[0m\n\u001b[0;32m--> 306\u001b[0;31m                 \u001b[0mtrain_features\u001b[0m\u001b[0;34m,\u001b[0m \u001b[0mvalid_features\u001b[0m\u001b[0;34m,\u001b[0m \u001b[0mtrain_labels\u001b[0m\u001b[0;34m,\u001b[0m \u001b[0mvalid_labels\u001b[0m \u001b[0;34m=\u001b[0m \u001b[0mtrain_test_split\u001b[0m\u001b[0;34m(\u001b[0m\u001b[0mfeatures\u001b[0m\u001b[0;34m,\u001b[0m \u001b[0mlabels\u001b[0m\u001b[0;34m,\u001b[0m \u001b[0mtest_size\u001b[0m \u001b[0;34m=\u001b[0m \u001b[0;36m0.15\u001b[0m\u001b[0;34m)\u001b[0m\u001b[0;34m\u001b[0m\u001b[0;34m\u001b[0m\u001b[0m\n\u001b[0m\u001b[1;32m    307\u001b[0m \u001b[0;34m\u001b[0m\u001b[0m\n\u001b[1;32m    308\u001b[0m                 \u001b[0;31m# Train the model with early stopping\u001b[0m\u001b[0;34m\u001b[0m\u001b[0;34m\u001b[0m\u001b[0;34m\u001b[0m\u001b[0m\n",
      "\u001b[0;32m~/anaconda2/envs/test_bare/lib/python3.6/site-packages/sklearn/model_selection/_split.py\u001b[0m in \u001b[0;36mtrain_test_split\u001b[0;34m(*arrays, **options)\u001b[0m\n\u001b[1;32m   2094\u001b[0m         \u001b[0;32mraise\u001b[0m \u001b[0mTypeError\u001b[0m\u001b[0;34m(\u001b[0m\u001b[0;34m\"Invalid parameters passed: %s\"\u001b[0m \u001b[0;34m%\u001b[0m \u001b[0mstr\u001b[0m\u001b[0;34m(\u001b[0m\u001b[0moptions\u001b[0m\u001b[0;34m)\u001b[0m\u001b[0;34m)\u001b[0m\u001b[0;34m\u001b[0m\u001b[0;34m\u001b[0m\u001b[0m\n\u001b[1;32m   2095\u001b[0m \u001b[0;34m\u001b[0m\u001b[0m\n\u001b[0;32m-> 2096\u001b[0;31m     \u001b[0marrays\u001b[0m \u001b[0;34m=\u001b[0m \u001b[0mindexable\u001b[0m\u001b[0;34m(\u001b[0m\u001b[0;34m*\u001b[0m\u001b[0marrays\u001b[0m\u001b[0;34m)\u001b[0m\u001b[0;34m\u001b[0m\u001b[0;34m\u001b[0m\u001b[0m\n\u001b[0m\u001b[1;32m   2097\u001b[0m \u001b[0;34m\u001b[0m\u001b[0m\n\u001b[1;32m   2098\u001b[0m     \u001b[0mn_samples\u001b[0m \u001b[0;34m=\u001b[0m \u001b[0m_num_samples\u001b[0m\u001b[0;34m(\u001b[0m\u001b[0marrays\u001b[0m\u001b[0;34m[\u001b[0m\u001b[0;36m0\u001b[0m\u001b[0;34m]\u001b[0m\u001b[0;34m)\u001b[0m\u001b[0;34m\u001b[0m\u001b[0;34m\u001b[0m\u001b[0m\n",
      "\u001b[0;32m~/anaconda2/envs/test_bare/lib/python3.6/site-packages/sklearn/utils/validation.py\u001b[0m in \u001b[0;36mindexable\u001b[0;34m(*iterables)\u001b[0m\n\u001b[1;32m    228\u001b[0m         \u001b[0;32melse\u001b[0m\u001b[0;34m:\u001b[0m\u001b[0;34m\u001b[0m\u001b[0;34m\u001b[0m\u001b[0m\n\u001b[1;32m    229\u001b[0m             \u001b[0mresult\u001b[0m\u001b[0;34m.\u001b[0m\u001b[0mappend\u001b[0m\u001b[0;34m(\u001b[0m\u001b[0mnp\u001b[0m\u001b[0;34m.\u001b[0m\u001b[0marray\u001b[0m\u001b[0;34m(\u001b[0m\u001b[0mX\u001b[0m\u001b[0;34m)\u001b[0m\u001b[0;34m)\u001b[0m\u001b[0;34m\u001b[0m\u001b[0;34m\u001b[0m\u001b[0m\n\u001b[0;32m--> 230\u001b[0;31m     \u001b[0mcheck_consistent_length\u001b[0m\u001b[0;34m(\u001b[0m\u001b[0;34m*\u001b[0m\u001b[0mresult\u001b[0m\u001b[0;34m)\u001b[0m\u001b[0;34m\u001b[0m\u001b[0;34m\u001b[0m\u001b[0m\n\u001b[0m\u001b[1;32m    231\u001b[0m     \u001b[0;32mreturn\u001b[0m \u001b[0mresult\u001b[0m\u001b[0;34m\u001b[0m\u001b[0;34m\u001b[0m\u001b[0m\n\u001b[1;32m    232\u001b[0m \u001b[0;34m\u001b[0m\u001b[0m\n",
      "\u001b[0;32m~/anaconda2/envs/test_bare/lib/python3.6/site-packages/sklearn/utils/validation.py\u001b[0m in \u001b[0;36mcheck_consistent_length\u001b[0;34m(*arrays)\u001b[0m\n\u001b[1;32m    203\u001b[0m     \u001b[0;32mif\u001b[0m \u001b[0mlen\u001b[0m\u001b[0;34m(\u001b[0m\u001b[0muniques\u001b[0m\u001b[0;34m)\u001b[0m \u001b[0;34m>\u001b[0m \u001b[0;36m1\u001b[0m\u001b[0;34m:\u001b[0m\u001b[0;34m\u001b[0m\u001b[0;34m\u001b[0m\u001b[0m\n\u001b[1;32m    204\u001b[0m         raise ValueError(\"Found input variables with inconsistent numbers of\"\n\u001b[0;32m--> 205\u001b[0;31m                          \" samples: %r\" % [int(l) for l in lengths])\n\u001b[0m\u001b[1;32m    206\u001b[0m \u001b[0;34m\u001b[0m\u001b[0m\n\u001b[1;32m    207\u001b[0m \u001b[0;34m\u001b[0m\u001b[0m\n",
      "\u001b[0;31mValueError\u001b[0m: Found input variables with inconsistent numbers of samples: [42, 84]"
     ]
    }
   ],
   "source": [
    "fs.identify_zero_importance(task='regression', eval_metric='auc', n_iterations=10, early_stopping=True)\n",
    "\n",
    "fs.plot_feature_importances(threshold = 0.99, plot_n = 12)"
   ]
  },
  {
   "cell_type": "raw",
   "metadata": {},
   "source": [
    "\n",
    "\n",
    "\n",
    "\n",
    "\n",
    "\n",
    "\n",
    "\n",
    "\n",
    "\n",
    "\n",
    "\n",
    "\n",
    "\n",
    "\n",
    "\n",
    "\n",
    "\n",
    "\n",
    "\n",
    "\n"
   ]
  },
  {
   "cell_type": "markdown",
   "metadata": {},
   "source": [
    "# Gaussian Process ML Regression"
   ]
  },
  {
   "cell_type": "code",
   "execution_count": 10,
   "metadata": {},
   "outputs": [],
   "source": [
    "# # Define initial prediction parameters.\n",
    "# # noise = 0.0042  # Regularisation parameter.\n",
    "\n",
    "# # sigma_l = 2.3917  # Length scale parameter.\n",
    "# # sigma_f = 0.5120  # Scaling parameter.\n",
    "# # alpha = 0.8907  # Alpha parameter.\n",
    "\n",
    "# noise = 0.0042  # Regularisation parameter.\n",
    "# sigma_l = 6.3917  # Length scale parameter.\n",
    "# sigma_f = 0.5120  # Scaling parameter.\n",
    "# alpha = 0.3907  # Alpha parameter.\n",
    "\n",
    "\n",
    "# kdict = [\n",
    "#     {\n",
    "#         'type': 'quadratic',\n",
    "#         'dimension': 'single',\n",
    "#         # 'dimension': 'features',\n",
    "#         'slope': sigma_l,\n",
    "#         'scaling': sigma_f,\n",
    "#         'degree': alpha,\n",
    "#         }\n",
    "#     ]\n",
    "\n",
    "# gp = GaussianProcess(\n",
    "#     kernel_list=kdict, regularization=noise, train_fp=train_x,\n",
    "#     train_target=train_y, optimize_hyperparameters=False,\n",
    "#     scale_data=False)\n",
    "\n",
    "# print('Optimized kernel:', gp.kernel_list)\n",
    "\n",
    "# # Optimize hyperparameters:\n",
    "# gp.optimize_hyperparameters(global_opt=True)"
   ]
  },
  {
   "cell_type": "code",
   "execution_count": 11,
   "metadata": {},
   "outputs": [],
   "source": [
    "# tmp = pd.merge(df_m, FP.fingerprints,\n",
    "#     left_index=True,\n",
    "#     right_index=True,\n",
    "#     indicator=True,\n",
    "#     )\n",
    "\n",
    "# FP = FingerPrint(**{\n",
    "#     \"feature_methods\": [\"voronoi\"],\n",
    "#     \"input_objects\": atoms_list,\n",
    "#     })\n",
    "\n",
    "# FP.generate_fingerprints()\n",
    "\n",
    "# FP.clean_features()\n",
    "\n",
    "# from catlearn.preprocess.scaling import (\n",
    "#     standardize,\n",
    "#     normalize,\n",
    "#     min_max,\n",
    "#     unit_length,\n",
    "#     target_standardize,\n",
    "#     target_normalize,\n",
    "#     target_center,\n",
    "#     )\n",
    "\n",
    "# std_data = standardize(\n",
    "#     FP.fingerprints.values,\n",
    "#     test_matrix=None,\n",
    "#     mean=None,\n",
    "#     std=None,\n",
    "#     local=True,\n",
    "#     )\n",
    "\n",
    "# std_data.keys()\n",
    "# # pd.DataFrame(std_data[\"train\"])\n",
    "\n",
    "# df_tmp = pd.DataFrame(\n",
    "#     data=output[\"train\"],\n",
    "#     # columns=output[\"labels\"],\n",
    "#     )\n",
    "\n",
    "# multi_index = pd.MultiIndex.from_tuples(\n",
    "#     [tuple(i) for i in output[\"labels\"]],\n",
    "#     # names=(\"tmp1\", \"tmp2\"),\n",
    "#     )\n",
    "\n",
    "# df_tmp.columns = multi_index\n",
    "# df_tmp\n",
    "\n",
    "# output[\"train\"].shape\n",
    "\n",
    "# output[\"labels\"]\n",
    "\n",
    "# # output[\"labels\"]\n",
    "\n",
    "# multiindex_i = FP.fingerprints.columns\n",
    "\n",
    "# # dir(multiindex_i)\n",
    "\n",
    "# # pd.MultiIndex.from_arrays(output[\"labels\"], names=(\"tmp1\", \"tmp2\"))\n",
    "\n",
    "# pd.MultiIndex.from_tuples([tuple(i) for i in output[\"labels\"]], names=(\"tmp1\", \"tmp2\"))\n",
    "\n",
    "# df_features = FP.fingerprints\n",
    "\n",
    "\n",
    "\n",
    "# from ase import Atoms\n",
    "\n",
    "\n",
    "\n",
    "# isinstance(\n",
    "#     FP.__feature_instances__[\"voronoi\"].atoms_list[0],\n",
    "#     Atoms,\n",
    "#     )\n",
    "\n",
    "# import pandas as pd\n",
    "\n",
    "# df0 = pd.DataFrame([\n",
    "#     {\"a\": 1, \"b\": 2},\n",
    "#     {\"a\": 3, \"b\": 4},\n",
    "#     ]\n",
    "#     )\n",
    "\n",
    "# df1 = pd.DataFrame([\n",
    "#     {\"x\": 1, \"y\": 2},\n",
    "#     {\"x\": 3, \"y\": 4},\n",
    "#     ]\n",
    "#     )\n",
    "\n",
    "\n",
    "\n",
    "\n",
    "\n",
    "# columns_to_remove = []\n",
    "# for column in df_features:\n",
    "#     tmp = 42\n",
    "#     num_unique_vals = len(list(set(df_features[column].tolist())))\n",
    "\n",
    "#     if num_unique_vals == 1:\n",
    "#         columns_to_remove.append(column)\n",
    "\n",
    "# df_tmp = df_features.drop(columns_to_remove, axis=1)\n",
    "\n",
    "\n",
    "\n",
    "\n",
    "\n",
    "# print(df_features.shape)\n",
    "\n",
    "# import copy\n",
    "# from catlearn.preprocess.clean_data import (\n",
    "#     clean_infinite,\n",
    "#     clean_variance,\n",
    "#     clean_infinite,\n",
    "#     clean_skewness,\n",
    "#     )\n",
    "\n",
    "# df_features_cpy = copy.deepcopy(df_features)\n",
    "\n",
    "# train_features = df_features_cpy.values\n",
    "# train_labels = list(df_features_cpy)\n",
    "\n",
    "# output = clean_variance(\n",
    "#     train_features,\n",
    "#     test=None,\n",
    "#     # labels=train_labels,\n",
    "#     mask=None,\n",
    "#     )\n",
    "# train_features = output[\"train\"]\n",
    "# print(train_features.shape)\n",
    "\n",
    "# output = clean_infinite(\n",
    "#     train_features,\n",
    "#     test=None,\n",
    "#     targets=None,\n",
    "#     labels=None,\n",
    "#     mask=None,\n",
    "#     max_impute_fraction=0,\n",
    "#     strategy='mean',\n",
    "#     )\n",
    "# train_features = output[\"train\"]\n",
    "# print(train_features.shape)\n",
    "\n",
    "# output = clean_skewness(\n",
    "#     train_features,\n",
    "#     test=None,\n",
    "#     labels=None,\n",
    "#     mask=None,\n",
    "#     skewness=3.,\n",
    "#     )\n",
    "# train_features = output[\"train\"]\n",
    "# print(train_features.shape)"
   ]
  }
 ],
 "metadata": {
  "kernelspec": {
   "display_name": "Python [conda env:test_bare]",
   "language": "python",
   "name": "conda-env-test_bare-py"
  },
  "language_info": {
   "codemirror_mode": {
    "name": "ipython",
    "version": 3
   },
   "file_extension": ".py",
   "mimetype": "text/x-python",
   "name": "python",
   "nbconvert_exporter": "python",
   "pygments_lexer": "ipython3",
   "version": "3.6.8"
  }
 },
 "nbformat": 4,
 "nbformat_minor": 2
}
