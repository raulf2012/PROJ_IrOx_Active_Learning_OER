{
 "cells": [
  {
   "cell_type": "markdown",
   "metadata": {},
   "source": [
    "# Import Modules"
   ]
  },
  {
   "cell_type": "code",
   "execution_count": 1,
   "metadata": {},
   "outputs": [],
   "source": [
    "import os\n",
    "import sys\n",
    "\n",
    "import numpy as np\n",
    "\n",
    "import pandas as pd"
   ]
  },
  {
   "cell_type": "markdown",
   "metadata": {},
   "source": [
    "# Script Inputs"
   ]
  },
  {
   "cell_type": "code",
   "execution_count": 2,
   "metadata": {},
   "outputs": [],
   "source": [
    "N_tot = 259\n",
    "\n",
    "aqs_bin_size = 10\n",
    "\n",
    "# Bottom nth percent of systems to find\n",
    "perc_to_find = 0.1"
   ]
  },
  {
   "cell_type": "code",
   "execution_count": 3,
   "metadata": {},
   "outputs": [
    {
     "name": "stdout",
     "output_type": "stream",
     "text": [
      "num_systems_to_find: 18\n"
     ]
    }
   ],
   "source": [
    "num_systems_to_find = round(N_tot * perc_to_find)\n",
    "num_systems_to_find = 18\n",
    "print(\"num_systems_to_find:\", num_systems_to_find)"
   ]
  },
  {
   "cell_type": "markdown",
   "metadata": {},
   "source": [
    "# Picking randomly with no duplicates"
   ]
  },
  {
   "cell_type": "code",
   "execution_count": 5,
   "metadata": {},
   "outputs": [
    {
     "name": "stdout",
     "output_type": "stream",
     "text": [
      "df.shape: (259, 1)\n",
      "221 18\n",
      "i / N_tot: 0.8532818532818532\n"
     ]
    }
   ],
   "source": [
    "frac_calc_needed_list = []\n",
    "# for run_i in range(5):\n",
    "\n",
    "df = pd.DataFrame()\n",
    "df[\"energy_ordering\"] = [i for i in range(N_tot)]\n",
    "\n",
    "print(\"df.shape:\", df.shape)\n",
    "# #################################################################################################\n",
    "\n",
    "num_systems_aquired = 0\n",
    "# for i in range(400):\n",
    "\n",
    "data_list = []\n",
    "\n",
    "\n",
    "i = 0\n",
    "while True:\n",
    "    if i == 0:\n",
    "        i += aqs_bin_size + 1\n",
    "    else:\n",
    "        i += aqs_bin_size\n",
    "\n",
    "    data_dict_i = {}\n",
    "    data_dict_i[\"num_computed\"] = i\n",
    "\n",
    "    df_aquis_i = df.sample(n = aqs_bin_size)\n",
    "    \n",
    "    for j_cnt, row_j in df_aquis_i.iterrows():\n",
    "        \n",
    "\n",
    "        # row_i = df_aquis_i.iloc[0]\n",
    "\n",
    "        energy_num_i = row_j[\"energy_ordering\"]\n",
    "\n",
    "        if energy_num_i <= num_systems_to_find:\n",
    "            num_systems_aquired += 1\n",
    "\n",
    "        data_dict_i[\"num_top_systems_aquired\"] = num_systems_aquired\n",
    "\n",
    "        df = df.drop(row_j.name)\n",
    "\n",
    "#     print(i, num_systems_aquired)\n",
    "    data_list.append(data_dict_i)\n",
    "\n",
    "    if num_systems_aquired >= num_systems_to_find:\n",
    "        print(i, num_systems_aquired)\n",
    "        frac_i = i / N_tot\n",
    "        print(\"i / N_tot:\", frac_i)\n",
    "\n",
    "        frac_calc_needed_list.append(frac_i)\n",
    "        # print(\"DONE!!!!!!!!!!!!!!\")\n",
    "        break\n",
    "        \n",
    "    if i > 260:\n",
    "        break\n",
    "        \n",
    "    "
   ]
  },
  {
   "cell_type": "code",
   "execution_count": 6,
   "metadata": {},
   "outputs": [
    {
     "data": {
      "text/plain": [
       "(39, 1)"
      ]
     },
     "execution_count": 6,
     "metadata": {},
     "output_type": "execute_result"
    }
   ],
   "source": [
    "df.shape"
   ]
  },
  {
   "cell_type": "code",
   "execution_count": 8,
   "metadata": {},
   "outputs": [
    {
     "data": {
      "text/html": [
       "<div>\n",
       "<style scoped>\n",
       "    .dataframe tbody tr th:only-of-type {\n",
       "        vertical-align: middle;\n",
       "    }\n",
       "\n",
       "    .dataframe tbody tr th {\n",
       "        vertical-align: top;\n",
       "    }\n",
       "\n",
       "    .dataframe thead th {\n",
       "        text-align: right;\n",
       "    }\n",
       "</style>\n",
       "<table border=\"1\" class=\"dataframe\">\n",
       "  <thead>\n",
       "    <tr style=\"text-align: right;\">\n",
       "      <th></th>\n",
       "      <th>num_computed</th>\n",
       "      <th>num_top_systems_aquired</th>\n",
       "    </tr>\n",
       "  </thead>\n",
       "  <tbody>\n",
       "    <tr>\n",
       "      <th>0</th>\n",
       "      <td>11</td>\n",
       "      <td>0</td>\n",
       "    </tr>\n",
       "    <tr>\n",
       "      <th>1</th>\n",
       "      <td>21</td>\n",
       "      <td>1</td>\n",
       "    </tr>\n",
       "    <tr>\n",
       "      <th>2</th>\n",
       "      <td>31</td>\n",
       "      <td>2</td>\n",
       "    </tr>\n",
       "    <tr>\n",
       "      <th>3</th>\n",
       "      <td>41</td>\n",
       "      <td>4</td>\n",
       "    </tr>\n",
       "    <tr>\n",
       "      <th>4</th>\n",
       "      <td>51</td>\n",
       "      <td>6</td>\n",
       "    </tr>\n",
       "    <tr>\n",
       "      <th>5</th>\n",
       "      <td>61</td>\n",
       "      <td>6</td>\n",
       "    </tr>\n",
       "    <tr>\n",
       "      <th>6</th>\n",
       "      <td>71</td>\n",
       "      <td>6</td>\n",
       "    </tr>\n",
       "    <tr>\n",
       "      <th>7</th>\n",
       "      <td>81</td>\n",
       "      <td>7</td>\n",
       "    </tr>\n",
       "    <tr>\n",
       "      <th>8</th>\n",
       "      <td>91</td>\n",
       "      <td>8</td>\n",
       "    </tr>\n",
       "    <tr>\n",
       "      <th>9</th>\n",
       "      <td>101</td>\n",
       "      <td>8</td>\n",
       "    </tr>\n",
       "    <tr>\n",
       "      <th>10</th>\n",
       "      <td>111</td>\n",
       "      <td>9</td>\n",
       "    </tr>\n",
       "    <tr>\n",
       "      <th>11</th>\n",
       "      <td>121</td>\n",
       "      <td>9</td>\n",
       "    </tr>\n",
       "    <tr>\n",
       "      <th>12</th>\n",
       "      <td>131</td>\n",
       "      <td>10</td>\n",
       "    </tr>\n",
       "    <tr>\n",
       "      <th>13</th>\n",
       "      <td>141</td>\n",
       "      <td>10</td>\n",
       "    </tr>\n",
       "    <tr>\n",
       "      <th>14</th>\n",
       "      <td>151</td>\n",
       "      <td>11</td>\n",
       "    </tr>\n",
       "    <tr>\n",
       "      <th>15</th>\n",
       "      <td>161</td>\n",
       "      <td>13</td>\n",
       "    </tr>\n",
       "    <tr>\n",
       "      <th>16</th>\n",
       "      <td>171</td>\n",
       "      <td>13</td>\n",
       "    </tr>\n",
       "    <tr>\n",
       "      <th>17</th>\n",
       "      <td>181</td>\n",
       "      <td>15</td>\n",
       "    </tr>\n",
       "    <tr>\n",
       "      <th>18</th>\n",
       "      <td>191</td>\n",
       "      <td>15</td>\n",
       "    </tr>\n",
       "    <tr>\n",
       "      <th>19</th>\n",
       "      <td>201</td>\n",
       "      <td>16</td>\n",
       "    </tr>\n",
       "    <tr>\n",
       "      <th>20</th>\n",
       "      <td>211</td>\n",
       "      <td>17</td>\n",
       "    </tr>\n",
       "    <tr>\n",
       "      <th>21</th>\n",
       "      <td>221</td>\n",
       "      <td>18</td>\n",
       "    </tr>\n",
       "  </tbody>\n",
       "</table>\n",
       "</div>"
      ],
      "text/plain": [
       "    num_computed  num_top_systems_aquired\n",
       "0             11                        0\n",
       "1             21                        1\n",
       "2             31                        2\n",
       "3             41                        4\n",
       "4             51                        6\n",
       "5             61                        6\n",
       "6             71                        6\n",
       "7             81                        7\n",
       "8             91                        8\n",
       "9            101                        8\n",
       "10           111                        9\n",
       "11           121                        9\n",
       "12           131                       10\n",
       "13           141                       10\n",
       "14           151                       11\n",
       "15           161                       13\n",
       "16           171                       13\n",
       "17           181                       15\n",
       "18           191                       15\n",
       "19           201                       16\n",
       "20           211                       17\n",
       "21           221                       18"
      ]
     },
     "execution_count": 8,
     "metadata": {},
     "output_type": "execute_result"
    }
   ],
   "source": [
    "df_discovery_totally_random = pd.DataFrame(data_list)\n",
    "df_discovery_totally_random.to_csv(\"out_data/df_discovery_totally_random_with_replacement.csv\")\n",
    "# df_discovery_totally_random.to_csv(\"out_data/df_discovery_totally_random_no_replacement.csv\")\n",
    "\n",
    "df_discovery_totally_random"
   ]
  },
  {
   "cell_type": "code",
   "execution_count": null,
   "metadata": {},
   "outputs": [],
   "source": [
    "print(\"mean:\", np.mean(frac_calc_needed_list))\n",
    "print(\"std dev:\", np.std(frac_calc_needed_list))"
   ]
  },
  {
   "cell_type": "raw",
   "metadata": {},
   "source": [
    "# #############################################################################\n",
    "0.974\n",
    "0.958\n",
    "0.993\n",
    "\n",
    "50: 0.9\n",
    "100: 0.8\n",
    "500: 0.986\n",
    "1000: 0.99\n",
    "4000: 0.99425"
   ]
  },
  {
   "cell_type": "code",
   "execution_count": null,
   "metadata": {},
   "outputs": [],
   "source": [
    "frac_calc_needed_list = []\n",
    "for run_i in range(5):\n",
    "\n",
    "    df = pd.DataFrame()\n",
    "    df[\"energy_ordering\"] = [i for i in range(N_tot)]\n",
    "\n",
    "    for i in range(num_systems_to_find):\n",
    "        sample_index = df.sample(frac=0.05).index\n",
    "        df.loc[sample_index][\"energy_ordering\"] = \"TEMP\"\n",
    "        df[\"energy_ordering\"][sample_index] = i\n",
    "\n",
    "    df[\"energy_ordering\"][0:num_systems_to_find] = [i for i in range(num_systems_to_find)]\n",
    "\n",
    "    # #################################################################################################\n",
    "\n",
    "    num_systems_aquired = 0\n",
    "    systems_aquired = []\n",
    "    i = 0\n",
    "    while True:\n",
    "        i += 1\n",
    "        df_aquis_i = df.sample(n=1)\n",
    "        row_i = df_aquis_i.iloc[0]\n",
    "\n",
    "        energy_num_i = row_i[\"energy_ordering\"]\n",
    "\n",
    "        if energy_num_i <= num_systems_to_find:\n",
    "            if energy_num_i not in systems_aquired:\n",
    "                systems_aquired.append(energy_num_i)\n",
    "                num_systems_aquired += 1\n",
    "            else:\n",
    "                tmp = 42\n",
    "\n",
    "        df = df.drop(row_i.name)\n",
    "\n",
    "\n",
    "        if num_systems_aquired >= num_systems_to_find:\n",
    "            print(str(i) + \":\", num_systems_aquired)\n",
    "            \n",
    "            frac_calcs_needed = i / N_tot\n",
    "            print(\"i / N_tot:\", frac_calcs_needed)\n",
    "            print(\"\")\n",
    "            frac_calc_needed_list.append(frac_calcs_needed)\n",
    "            break"
   ]
  },
  {
   "cell_type": "code",
   "execution_count": null,
   "metadata": {},
   "outputs": [],
   "source": [
    "print(\"mean:\", np.mean(frac_calc_needed_list))\n",
    "print(\"std dev:\", np.std(frac_calc_needed_list))"
   ]
  }
 ],
 "metadata": {
  "kernelspec": {
   "display_name": "Python [conda env:research-new] *",
   "language": "python",
   "name": "conda-env-research-new-py"
  },
  "language_info": {
   "codemirror_mode": {
    "name": "ipython",
    "version": 3
   },
   "file_extension": ".py",
   "mimetype": "text/x-python",
   "name": "python",
   "nbconvert_exporter": "python",
   "pygments_lexer": "ipython3",
   "version": "3.6.8"
  }
 },
 "nbformat": 4,
 "nbformat_minor": 4
}
