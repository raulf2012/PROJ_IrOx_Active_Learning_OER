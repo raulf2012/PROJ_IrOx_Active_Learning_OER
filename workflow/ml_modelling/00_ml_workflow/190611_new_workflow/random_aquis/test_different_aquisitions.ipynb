{
 "cells": [
  {
   "cell_type": "markdown",
   "metadata": {},
   "source": [
    "# Import Modules"
   ],
   "execution_count": null,
   "outputs": []
  },
  {
   "cell_type": "code",
   "execution_count": null,
   "metadata": {},
   "outputs": [],
   "source": [
    "import os\n",
    "import sys\n",
    "\n",
    "import numpy as np\n",
    "\n",
    "import pandas as pd"
   ]
  },
  {
   "cell_type": "markdown",
   "metadata": {},
   "source": [
    "# Script Inputs"
   ],
   "execution_count": null,
   "outputs": []
  },
  {
   "cell_type": "code",
   "execution_count": null,
   "metadata": {},
   "outputs": [],
   "source": [
    "N_tot = 259\n",
    "\n",
    "aqs_bin_size = 10\n",
    "\n",
    "# Bottom nth percent of systems to find\n",
    "perc_to_find = 0.1"
   ]
  },
  {
   "cell_type": "code",
   "execution_count": null,
   "metadata": {},
   "outputs": [],
   "source": [
    "num_systems_to_find = round(N_tot * perc_to_find)\n",
    "num_systems_to_find = 18\n",
    "print(\"num_systems_to_find:\", num_systems_to_find)"
   ]
  },
  {
   "cell_type": "markdown",
   "metadata": {},
   "source": [
    "# Picking randomly with no duplicates"
   ],
   "execution_count": null,
   "outputs": []
  },
  {
   "cell_type": "code",
   "execution_count": null,
   "metadata": {},
   "outputs": [],
   "source": [
    "frac_calc_needed_list = []\n",
    "# for run_i in range(5):\n",
    "\n",
    "df = pd.DataFrame()\n",
    "df[\"energy_ordering\"] = [i for i in range(N_tot)]\n",
    "\n",
    "print(\"df.shape:\", df.shape)\n",
    "# #################################################################################################\n",
    "\n",
    "num_systems_aquired = 0\n",
    "# for i in range(400):\n",
    "\n",
    "data_list = []\n",
    "\n",
    "\n",
    "i = 0\n",
    "while True:\n",
    "    if i == 0:\n",
    "        i += aqs_bin_size + 1\n",
    "    else:\n",
    "        i += aqs_bin_size\n",
    "\n",
    "    data_dict_i = {}\n",
    "    data_dict_i[\"num_computed\"] = i\n",
    "\n",
    "    df_aquis_i = df.sample(n = aqs_bin_size)\n",
    "    \n",
    "    for j_cnt, row_j in df_aquis_i.iterrows():\n",
    "        \n",
    "\n",
    "        # row_i = df_aquis_i.iloc[0]\n",
    "\n",
    "        energy_num_i = row_j[\"energy_ordering\"]\n",
    "\n",
    "        if energy_num_i <= num_systems_to_find:\n",
    "            num_systems_aquired += 1\n",
    "\n",
    "        data_dict_i[\"num_top_systems_aquired\"] = num_systems_aquired\n",
    "\n",
    "        df = df.drop(row_j.name)\n",
    "\n",
    "#     print(i, num_systems_aquired)\n",
    "    data_list.append(data_dict_i)\n",
    "\n",
    "    if num_systems_aquired >= num_systems_to_find:\n",
    "        print(i, num_systems_aquired)\n",
    "        frac_i = i / N_tot\n",
    "        print(\"i / N_tot:\", frac_i)\n",
    "\n",
    "        frac_calc_needed_list.append(frac_i)\n",
    "        # print(\"DONE!!!!!!!!!!!!!!\")\n",
    "        break\n",
    "        \n",
    "    if i > 260:\n",
    "        break\n",
    "        \n",
    "    "
   ]
  },
  {
   "cell_type": "code",
   "execution_count": null,
   "metadata": {},
   "outputs": [],
   "source": [
    "df.shape"
   ]
  },
  {
   "cell_type": "code",
   "execution_count": null,
   "metadata": {},
   "outputs": [],
   "source": [
    "df_discovery_totally_random = pd.DataFrame(data_list)\n",
    "df_discovery_totally_random.to_csv(\"out_data/df_discovery_totally_random_with_replacement.csv\")\n",
    "# df_discovery_totally_random.to_csv(\"out_data/df_discovery_totally_random_no_replacement.csv\")\n",
    "\n",
    "df_discovery_totally_random"
   ]
  },
  {
   "cell_type": "code",
   "execution_count": null,
   "metadata": {},
   "outputs": [],
   "source": [
    "print(\"mean:\", np.mean(frac_calc_needed_list))\n",
    "print(\"std dev:\", np.std(frac_calc_needed_list))"
   ]
  },
  {
   "cell_type": "raw",
   "metadata": {},
   "source": [
    "# #############################################################################\n",
    "0.974\n",
    "0.958\n",
    "0.993\n",
    "\n",
    "50: 0.9\n",
    "100: 0.8\n",
    "500: 0.986\n",
    "1000: 0.99\n",
    "4000: 0.99425"
   ],
   "execution_count": null,
   "outputs": []
  },
  {
   "cell_type": "code",
   "execution_count": null,
   "metadata": {},
   "outputs": [],
   "source": [
    "frac_calc_needed_list = []\n",
    "for run_i in range(5):\n",
    "\n",
    "    df = pd.DataFrame()\n",
    "    df[\"energy_ordering\"] = [i for i in range(N_tot)]\n",
    "\n",
    "    for i in range(num_systems_to_find):\n",
    "        sample_index = df.sample(frac=0.05).index\n",
    "        df.loc[sample_index][\"energy_ordering\"] = \"TEMP\"\n",
    "        df[\"energy_ordering\"][sample_index] = i\n",
    "\n",
    "    df[\"energy_ordering\"][0:num_systems_to_find] = [i for i in range(num_systems_to_find)]\n",
    "\n",
    "    # #################################################################################################\n",
    "\n",
    "    num_systems_aquired = 0\n",
    "    systems_aquired = []\n",
    "    i = 0\n",
    "    while True:\n",
    "        i += 1\n",
    "        df_aquis_i = df.sample(n=1)\n",
    "        row_i = df_aquis_i.iloc[0]\n",
    "\n",
    "        energy_num_i = row_i[\"energy_ordering\"]\n",
    "\n",
    "        if energy_num_i <= num_systems_to_find:\n",
    "            if energy_num_i not in systems_aquired:\n",
    "                systems_aquired.append(energy_num_i)\n",
    "                num_systems_aquired += 1\n",
    "            else:\n",
    "                tmp = 42\n",
    "\n",
    "        df = df.drop(row_i.name)\n",
    "\n",
    "\n",
    "        if num_systems_aquired >= num_systems_to_find:\n",
    "            print(str(i) + \":\", num_systems_aquired)\n",
    "            \n",
    "            frac_calcs_needed = i / N_tot\n",
    "            print(\"i / N_tot:\", frac_calcs_needed)\n",
    "            print(\"\")\n",
    "            frac_calc_needed_list.append(frac_calcs_needed)\n",
    "            break"
   ]
  },
  {
   "cell_type": "code",
   "execution_count": null,
   "metadata": {},
   "outputs": [],
   "source": [
    "print(\"mean:\", np.mean(frac_calc_needed_list))\n",
    "print(\"std dev:\", np.std(frac_calc_needed_list))"
   ]
  }
 ],
 "metadata": {
  "kernelspec": {
   "display_name": "Python [conda env:research-new] *",
   "language": "python",
   "name": "conda-env-research-new-py"
  },
  "language_info": {
   "codemirror_mode": {
    "name": "ipython",
    "version": 3
   },
   "file_extension": ".py",
   "mimetype": "text/x-python",
   "name": "python",
   "nbconvert_exporter": "python",
   "pygments_lexer": "ipython3",
   "version": "3.6.8"
  }
 },
 "nbformat": 4,
 "nbformat_minor": 4
}
