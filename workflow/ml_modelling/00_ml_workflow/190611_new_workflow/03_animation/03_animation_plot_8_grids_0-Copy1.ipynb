{
 "cells": [
  {
   "cell_type": "markdown",
   "metadata": {},
   "source": [
    "# Creating ML Congergence Animation for IrOx Systems\n",
    "---\n",
    "\n",
    "The colors aren't normalizing to the final data set"
   ]
  },
  {
   "cell_type": "markdown",
   "metadata": {},
   "source": [
    "# Import Modules"
   ]
  },
  {
   "cell_type": "code",
   "execution_count": 1,
   "metadata": {},
   "outputs": [],
   "source": [
    "import time\n",
    "import os\n",
    "\n",
    "import plotly.plotly as py\n",
    "import plotly.graph_objs as go\n",
    "from plotly.grid_objs import Grid, Column\n",
    "\n",
    "from methods import get_trace_i\n",
    "from methods import get_data"
   ]
  },
  {
   "cell_type": "markdown",
   "metadata": {},
   "source": [
    "# Script Inputs"
   ]
  },
  {
   "cell_type": "code",
   "execution_count": 2,
   "metadata": {},
   "outputs": [],
   "source": [
    "stoich_i = \"iro3\"\n",
    "\n",
    "save_plot = False\n",
    "if save_plot:\n",
    "#     save_dir = \"04_IrOx_surfaces_OER/ml_convergence/nam_figures_190627\"\n",
    "#     save_dir = \"04_IrOx_surfaces_OER/ml_convergence/nam_ml_figures\"\n",
    "    save_dir = \"04_IrOx_surfaces_OER\"\n",
    "    \n",
    "else:\n",
    "    save_dir = \"__temp__/PROJ_irox/190625\""
   ]
  },
  {
   "cell_type": "raw",
   "metadata": {},
   "source": [
    "\n",
    "\n"
   ]
  },
  {
   "cell_type": "code",
   "execution_count": 3,
   "metadata": {},
   "outputs": [],
   "source": [
    "data_dict = get_data(stoich_i=stoich_i)\n",
    "\n",
    "models_list = data_dict[\"models_list\"]\n",
    "layout = data_dict[\"layout\"]\n",
    "sliders_dict = data_dict[\"sliders_dict\"]\n",
    "get_slider_step_i = data_dict[\"get_slider_step_i\"]"
   ]
  },
  {
   "cell_type": "code",
   "execution_count": 4,
   "metadata": {},
   "outputs": [],
   "source": [
    "# models_list[-1][\"uncertainty\"] = models_list[-1][\"uncertainty\"] / 1.3\n",
    "\n",
    "# models_list[-1].at[\"vhxsmhbjzf\", \"prediction\"] += 0.05\n",
    "# models_list[-1].at[\"6snsbh9pno\", \"prediction\"] += 0.05\n",
    "# models_list[-1].at[\"mj6hxlvrcu\", \"prediction\"] += 0.05\n",
    "\n",
    "# models_list[-1].at[\"vhxsmhbjzf\", \"uncertainty\"] /= 3\n",
    "# models_list[-1].at[\"6snsbh9pno\", \"uncertainty\"] /= 3\n",
    "# models_list[-1].at[\"mj6hxlvrcu\", \"uncertainty\"] /= 3"
   ]
  },
  {
   "cell_type": "markdown",
   "metadata": {},
   "source": [
    "# Create Plotly Grid"
   ]
  },
  {
   "cell_type": "code",
   "execution_count": 5,
   "metadata": {},
   "outputs": [
    {
     "data": {
      "text/plain": [
       "'https://plot.ly/~flores12/2582/'"
      ]
     },
     "execution_count": 5,
     "metadata": {},
     "output_type": "execute_result"
    }
   ],
   "source": [
    "columns_list = list(models_list[0])\n",
    "\n",
    "Columns_list = []\n",
    "for i_cnt, model_i in enumerate(models_list):\n",
    "    for col_j in columns_list:\n",
    "        Col_i = Column(\n",
    "            model_i[col_j],\n",
    "            col_j + \"_\" + str(i_cnt))\n",
    "        Columns_list.append(Col_i)\n",
    "\n",
    "grid = Grid(Columns_list)\n",
    "\n",
    "py.grid_ops.upload(\n",
    "    grid,\n",
    "    filename=os.path.join(\n",
    "        save_dir,\n",
    "        \"FIG_ml_conv_iro3\" + str(time.time())\n",
    "        ),\n",
    "#     '__temp__/PROJ_irox/GRID_ml_conv_' + str(time.time()),\n",
    "    auto_open=False)"
   ]
  },
  {
   "cell_type": "markdown",
   "metadata": {},
   "source": [
    "# Frames"
   ]
  },
  {
   "cell_type": "code",
   "execution_count": 6,
   "metadata": {},
   "outputs": [],
   "source": [
    "frames = []; data = []\n",
    "for i_cnt in range(len(models_list)):\n",
    "    col_list_i = []\n",
    "    for col_j in columns_list: col_list_i.append(col_j + \"_\" + str(i_cnt))\n",
    "\n",
    "\n",
    "    # #########################################################################\n",
    "    # Layout --> Data\n",
    "    if i_cnt == 0:\n",
    "        trace_i = get_trace_i(grid, col_list_i, str(i_cnt), num_structures=len(models_list[0]))\n",
    "        data.extend(trace_i)\n",
    "\n",
    "    # #########################################################################\n",
    "    trace_i = get_trace_i(\n",
    "        grid,\n",
    "        col_list_i,\n",
    "        str(i_cnt),\n",
    "        num_structures=len(models_list[0]),\n",
    "        )\n",
    "    data_i = []\n",
    "    data_i.extend(trace_i)\n",
    "\n",
    "    frame_i = go.Frame(\n",
    "        data=data_i,\n",
    "        name=str(i_cnt))\n",
    "\n",
    "    frames.append(frame_i)\n",
    "       \n",
    "    # #########################################################################\n",
    "    slider_step_i = get_slider_step_i(i_cnt)\n",
    "    sliders_dict['steps'].append(slider_step_i)"
   ]
  },
  {
   "cell_type": "markdown",
   "metadata": {},
   "source": [
    "# Figure"
   ]
  },
  {
   "cell_type": "code",
   "execution_count": 7,
   "metadata": {},
   "outputs": [
    {
     "name": "stderr",
     "output_type": "stream",
     "text": [
      "/home/raul_desktop/anaconda2/envs/py36/lib/python3.6/site-packages/IPython/core/display.py:694: UserWarning:\n",
      "\n",
      "Consider using IPython.display.IFrame instead\n",
      "\n"
     ]
    },
    {
     "data": {
      "text/html": [
       "<iframe id=\"igraph\" scrolling=\"no\" style=\"border:none;\" seamless=\"seamless\" src=\"https://plot.ly/~flores12/2588.embed\" height=\"525px\" width=\"100%\"></iframe>"
      ],
      "text/plain": [
       "<chart_studio.tools.PlotlyDisplay object>"
      ]
     },
     "execution_count": 7,
     "metadata": {},
     "output_type": "execute_result"
    }
   ],
   "source": [
    "figure = go.Figure(\n",
    "    data=data,\n",
    "    layout=layout,\n",
    "    frames=frames,\n",
    "    )\n",
    "figure['layout']['sliders'] = [sliders_dict]\n",
    "\n",
    "py.icreate_animations(\n",
    "    figure,\n",
    "    filename=os.path.join(save_dir,\n",
    "        \"FIG_ml_conv_iro3_\" + str(time.time())\n",
    "        )\n",
    "    )"
   ]
  },
  {
   "cell_type": "raw",
   "metadata": {},
   "source": [
    "\n",
    "\n",
    "\n",
    "\n"
   ]
  }
 ],
 "metadata": {
  "kernelspec": {
   "display_name": "Python 3",
   "language": "python",
   "name": "python3"
  },
  "language_info": {
   "codemirror_mode": {
    "name": "ipython",
    "version": 3
   },
   "file_extension": ".py",
   "mimetype": "text/x-python",
   "name": "python",
   "nbconvert_exporter": "python",
   "pygments_lexer": "ipython3",
   "version": "3.6.8"
  }
 },
 "nbformat": 4,
 "nbformat_minor": 4
}
