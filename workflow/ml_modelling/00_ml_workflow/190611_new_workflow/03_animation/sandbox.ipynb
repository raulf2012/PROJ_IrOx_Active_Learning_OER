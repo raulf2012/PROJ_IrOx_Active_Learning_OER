{
 "cells": [
  {
   "cell_type": "markdown",
   "metadata": {},
   "source": [
    "# Import Modules"
   ],
   "execution_count": null,
   "outputs": []
  },
  {
   "cell_type": "code",
   "execution_count": null,
   "metadata": {
    "jupyter": {}
   },
   "outputs": [],
   "source": [
    "import os\n",
    "import sys\n",
    "\n",
    "import pickle\n",
    "\n",
    "import pandas as pd"
   ]
  },
  {
   "cell_type": "markdown",
   "metadata": {},
   "source": [
    "# Read Data"
   ],
   "execution_count": null,
   "outputs": []
  },
  {
   "cell_type": "code",
   "execution_count": null,
   "metadata": {
    "jupyter": {}
   },
   "outputs": [],
   "source": [
    "file_path = \"/home/raulf2012/Dropbox/01_norskov/00_git_repos/PROJ_IrOx_Active_Learning_OER/workflow/ml_modelling/00_ml_workflow/190611_new_workflow/02_gaus_proc/out_data/temp.pickle\"\n",
    "\n",
    "with open(file_path, \"rb\") as fle:\n",
    "    data_dict = pickle.load(fle)\n",
    "\n",
    "df_bulk_dft = data_dict[\"df_bulk_dft\"]\n",
    "model_i = data_dict[\"model_i\"]"
   ]
  },
  {
   "cell_type": "code",
   "execution_count": null,
   "metadata": {
    "collapsed": true,
    "jupyter": {
     "outputs_hidden": true
    }
   },
   "outputs": [],
   "source": [
    "print(\"df_bulk_dft.shape:\", df_bulk_dft.shape)\n",
    "\n",
    "df_bulk_dft.head()"
   ]
  },
  {
   "cell_type": "code",
   "execution_count": null,
   "metadata": {
    "collapsed": true,
    "jupyter": {
     "outputs_hidden": true
    }
   },
   "outputs": [],
   "source": [
    "print(\"model_i.shape:\", model_i.shape)\n",
    "\n",
    "model_i.head()"
   ]
  },
  {
   "cell_type": "code",
   "execution_count": null,
   "metadata": {
    "collapsed": true,
    "jupyter": {
     "outputs_hidden": true
    }
   },
   "outputs": [],
   "source": [
    "df_tmp = pd.concat(\n",
    "    [\n",
    "        model_i[[\"x_axis_ind\", \"computed\", \"actually_computed\"]],\n",
    "        df_bulk_dft[\"energy_pa\"],\n",
    "        ],\n",
    "    axis=1, sort=True,\n",
    "    )\n",
    "print(\"df_tmp.shape:\", df_tmp.shape)\n",
    "\n",
    "df_tmp = df_tmp.reindex(model_i.index.sort_values().tolist())"
   ]
  },
  {
   "cell_type": "code",
   "execution_count": null,
   "metadata": {
    "jupyter": {}
   },
   "outputs": [],
   "source": [
    "df_tmp[\"energy_pa\"].isnull()\n",
    "\n",
    "def method(row_i):\n",
    "#     energy_pa = row_i[\"energy_pa\"]\n",
    "    if pd.isna(row_i[\"energy_pa\"]): size=5\n",
    "    else: size=10\n",
    "    return(size)\n",
    "\n",
    "df_i = df_tmp\n",
    "df_i[\"marker_size\"] = df_i.apply(method, axis=1)\n",
    "df_tmp = df_i"
   ]
  },
  {
   "cell_type": "code",
   "execution_count": null,
   "metadata": {
    "jupyter": {}
   },
   "outputs": [],
   "source": [
    "# df_tmp.fillna(value=-5.)"
   ]
  },
  {
   "cell_type": "code",
   "execution_count": null,
   "metadata": {
    "collapsed": true,
    "jupyter": {
     "outputs_hidden": true
    }
   },
   "outputs": [],
   "source": [
    "df_tmp[df_tmp[\"energy_pa\"].isna()].shape"
   ]
  },
  {
   "cell_type": "code",
   "execution_count": null,
   "metadata": {
    "collapsed": true,
    "jupyter": {
     "outputs_hidden": true
    }
   },
   "outputs": [],
   "source": [
    "print(df_tmp[df_tmp[\"energy_pa\"].isna()].shape)\n",
    "\n",
    "print(df_tmp[~df_tmp[\"energy_pa\"].isna()].shape)"
   ]
  },
  {
   "cell_type": "raw",
   "metadata": {},
   "source": [
    "\n",
    "\n",
    "\n"
   ],
   "execution_count": null,
   "outputs": []
  },
  {
   "cell_type": "markdown",
   "metadata": {},
   "source": [
    "# Getting IDs of Next Systems to Run\n",
    "---"
   ],
   "execution_count": null,
   "outputs": []
  },
  {
   "cell_type": "code",
   "execution_count": null,
   "metadata": {
    "jupyter": {}
   },
   "outputs": [],
   "source": [
    "import time\n",
    "import os\n",
    "\n",
    "import pickle\n",
    "\n",
    "import pandas as pd\n",
    "\n",
    "import chart_studio.plotly as py\n",
    "from chart_studio.grid_objs import Grid, Column\n",
    "import plotly.graph_objects as go\n",
    "\n",
    "from plotting.my_plotly import my_plotly_plot\n",
    "\n",
    "from methods import (\n",
    "    get_sliders_init_dict,\n",
    "    get_slider_step_i,\n",
    "    get_layout,\n",
    "    )\n",
    "\n",
    "# stoich_i = \"AB2\"\n",
    "stoich_i = \"AB2\"\n",
    "\n",
    "\n",
    "# duration_long = 1000 * 2\n",
    "# duration_short = 800 * 2\n",
    "\n",
    "duration_long = 1000 * 3\n",
    "duration_short = 800 * 5\n",
    "\n",
    "save_plot = False\n",
    "if save_plot:\n",
    "    save_dir = \"04_IrOx_surfaces_OER\" \n",
    "else:\n",
    "    save_dir = \"__temp__/PROJ_irox/190625\"\n",
    "\n",
    "layout = get_layout(\n",
    "    duration_long=duration_long,\n",
    "    duration_short=duration_short)\n",
    "\n",
    "sliders_dict = get_sliders_init_dict(duration_short)"
   ]
  },
  {
   "cell_type": "code",
   "execution_count": null,
   "metadata": {},
   "outputs": [],
   "source": [
    "al_output_data_path = os.path.join(\n",
    "    os.environ[\"PROJ_irox\"],\n",
    "    \"workflow/ml_modelling\", \"00_ml_workflow/190611_new_workflow\",\n",
    "    \"02_gaus_proc/out_data\",\n",
    "    \"data_dict_\" + stoich_i + \".pickle\",\n",
    "    # \"data_dict_AB3.pickle\",\n",
    "    )\n",
    "\n",
    "with open(al_output_data_path, \"rb\") as fle:\n",
    "    al_data_dict = pickle.load(fle)\n",
    "\n",
    "model_i = al_data_dict[43][\"model\"].sort_values(\"prediction_unstandardized\")\n",
    "\n",
    "model_i = model_i[model_i[\"actually_computed\"] == False]"
   ]
  },
  {
   "cell_type": "code",
   "execution_count": null,
   "metadata": {},
   "outputs": [],
   "source": [
    "rootdir = os.path.join(\n",
    "    os.environ[\"dropbox\"],\n",
    "    \"__temp__\")\n",
    "\n",
    "with open(os.path.join(rootdir, \"ids_in_job_folders_iro2_nersc.txt\"), 'r') as f:\n",
    "    x = f.readlines()\n",
    "    iro2_nersc_ids = [i.strip() for i in x]\n",
    "\n",
    "with open(os.path.join(rootdir, \"ids_in_job_folders_iro2_sher.txt\"), 'r') as f:\n",
    "    x = f.readlines()\n",
    "    iro2_sher_ids = [i.strip() for i in x]"
   ]
  },
  {
   "cell_type": "code",
   "execution_count": null,
   "metadata": {},
   "outputs": [],
   "source": [
    "print(len(iro2_nersc_ids))\n",
    "print(len(iro2_sher_ids))"
   ]
  },
  {
   "cell_type": "code",
   "execution_count": null,
   "metadata": {},
   "outputs": [],
   "source": [
    "iro2_ids = list(set(iro2_nersc_ids + iro2_sher_ids))\n",
    "\n",
    "print(len(iro2_ids))"
   ]
  },
  {
   "cell_type": "code",
   "execution_count": null,
   "metadata": {},
   "outputs": [],
   "source": [
    "\"508\" in iro2_ids"
   ]
  },
  {
   "cell_type": "code",
   "execution_count": null,
   "metadata": {},
   "outputs": [],
   "source": [
    "# [i for i in str(int(model_i[\"id\"].iloc[0])).zfill(3) if i not in iro2_ids]\n",
    "\n",
    "\n",
    "# str(int(model_i[\"id\"].iloc[0])).zfill(3)\n",
    "\n",
    "ids_to_run = []\n",
    "for i in model_i[\"id\"]:\n",
    "    tmp = 42\n",
    "\n",
    "    id_str = str(int(i)).zfill(3)\n",
    "    \n",
    "    if id_str not in iro2_ids:\n",
    "        ids_to_run.append(id_str)"
   ]
  },
  {
   "cell_type": "code",
   "execution_count": null,
   "metadata": {},
   "outputs": [],
   "source": [
    "[int(i) for i in ids_to_run]"
   ]
  },
  {
   "cell_type": "code",
   "execution_count": null,
   "metadata": {},
   "outputs": [],
   "source": [
    "259 + 327"
   ]
  },
  {
   "cell_type": "raw",
   "metadata": {},
   "source": [
    "\n",
    "\n",
    "\n"
   ],
   "execution_count": null,
   "outputs": []
  },
  {
   "cell_type": "code",
   "execution_count": null,
   "metadata": {
    "jupyter": {}
   },
   "outputs": [],
   "source": [
    "# sys.path.insert(0, rootdir)\n",
    "# from ids_to_run_nersc import ids_to_run as ids_to_run_nersc\n",
    "# from ids_to_run_sher import ids_to_run as ids_to_run_sher\n",
    "# ids_already_running = ids_to_run_nersc + ids_to_run_sher\n",
    "# ids_already_running = list(set(ids_already_running))\n",
    "# ids_already_running"
   ]
  }
 ],
 "metadata": {
  "kernelspec": {
   "display_name": "Python [conda env:research-new] *",
   "language": "python",
   "name": "conda-env-research-new-py"
  },
  "language_info": {
   "codemirror_mode": {
    "name": "ipython",
    "version": 3
   },
   "file_extension": ".py",
   "mimetype": "text/x-python",
   "name": "python",
   "nbconvert_exporter": "python",
   "pygments_lexer": "ipython3",
   "version": "3.6.8"
  }
 },
 "nbformat": 4,
 "nbformat_minor": 4
}
