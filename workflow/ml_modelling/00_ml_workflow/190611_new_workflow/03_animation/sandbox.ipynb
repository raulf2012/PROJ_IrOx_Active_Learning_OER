{
 "cells": [
  {
   "cell_type": "markdown",
   "metadata": {},
   "source": [
    "# Creating ML Congergence Animation for IrOx Systems\n",
    "---\n",
    "\n",
    "The colors aren't normalizing to the final data set"
   ]
  },
  {
   "cell_type": "markdown",
   "metadata": {},
   "source": [
    "# Import Modules"
   ]
  },
  {
   "cell_type": "code",
   "execution_count": 1,
   "metadata": {},
   "outputs": [],
   "source": [
    "import time\n",
    "\n",
    "import plotly.plotly as py\n",
    "import plotly.graph_objs as go\n",
    "from plotly.grid_objs import Grid, Column\n",
    "\n",
    "from methods import models_list, layout, get_trace_i, sliders_dict, get_slider_step_i"
   ]
  },
  {
   "cell_type": "markdown",
   "metadata": {},
   "source": [
    "# Create Plotly Grid"
   ]
  },
  {
   "cell_type": "code",
   "execution_count": 2,
   "metadata": {},
   "outputs": [
    {
     "data": {
      "text/plain": [
       "'https://plot.ly/~flores12/1993/'"
      ]
     },
     "execution_count": 2,
     "metadata": {},
     "output_type": "execute_result"
    }
   ],
   "source": [
    "columns_list = list(models_list[0])\n",
    "\n",
    "Columns_list = []\n",
    "for i_cnt, model_i in enumerate(models_list):\n",
    "    for col_j in columns_list:\n",
    "        Col_i = Column(\n",
    "            model_i[col_j],\n",
    "            col_j + \"_\" + str(i_cnt))\n",
    "        Columns_list.append(Col_i)\n",
    "\n",
    "grid = Grid(Columns_list)\n",
    "\n",
    "py.grid_ops.upload(\n",
    "    grid,\n",
    "    '__temp__/PROJ_irox/GRID_ml_conv_' + str(time.time()),\n",
    "    auto_open=False)"
   ]
  },
  {
   "cell_type": "code",
   "execution_count": 9,
   "metadata": {},
   "outputs": [],
   "source": [
    "frames = []; data = []\n",
    "for i_cnt in range(len(models_list)):\n",
    "    col_list_i = []\n",
    "    for col_j in columns_list: col_list_i.append(col_j + \"_\" + str(i_cnt))\n",
    "\n",
    "    # #########################################################################\n",
    "    # Layout --> Data\n",
    "    if i_cnt == 0:\n",
    "#         get_trace_i(grid, col_list_i, str(i_cnt))\n",
    "        tmp = 42\n",
    "    \n",
    "column_names = col_list_i"
   ]
  },
  {
   "cell_type": "code",
   "execution_count": 12,
   "metadata": {},
   "outputs": [],
   "source": [
    "ref_cols = [\"prediction\", \"x_axis_index\"]\n",
    "\n",
    "data_i = {}\n",
    "for col_j in column_names:\n",
    "    if \"prediction_\" in col_j:\n",
    "        data_i[\"prediction\"] = grid.get_column_reference(col_j)\n",
    "        data_i[\"prediction_not_ref\"] = grid.get_column(col_j)\n",
    "    elif \"uncertainty_\" in col_j:\n",
    "        data_i[\"uncertainty\"] = grid.get_column(col_j).data\n",
    "    elif \"computed_\" in col_j:\n",
    "        data_i[\"computed\"] = grid.get_column(col_j).data\n",
    "    elif \"x_axis_index_\" in col_j:\n",
    "        data_i[\"x_axis_index\"] = grid.get_column_reference(col_j)\n",
    "    elif \"color_order_rank_\" in col_j:\n",
    "        data_i[\"color_order_rank\"] = grid.get_column(col_j).data\n",
    "    else:\n",
    "        tmp = 42\n"
   ]
  },
  {
   "cell_type": "code",
   "execution_count": 18,
   "metadata": {},
   "outputs": [
    {
     "data": {
      "text/plain": [
       "-0.9477392541856249"
      ]
     },
     "execution_count": 18,
     "metadata": {},
     "output_type": "execute_result"
    }
   ],
   "source": [
    "data_i[\"prediction_not_ref\"].data.min()"
   ]
  },
  {
   "cell_type": "code",
   "execution_count": 33,
   "metadata": {},
   "outputs": [
    {
     "data": {
      "text/plain": [
       "-0.7949541084940126"
      ]
     },
     "execution_count": 33,
     "metadata": {},
     "output_type": "execute_result"
    }
   ],
   "source": [
    "import pandas as pd\n",
    "\n",
    "df_tmp = pd.merge(\n",
    "    data_i[\"computed\"],\n",
    "    data_i[\"prediction_not_ref\"].data,\n",
    "    left_index=True, right_index=True)\n",
    "min_computed_y = df_tmp[df_tmp[\"computed\"] == True][\"prediction\"].min()\n",
    "\n",
    "\n"
   ]
  },
  {
   "cell_type": "code",
   "execution_count": 29,
   "metadata": {},
   "outputs": [
    {
     "name": "stderr",
     "output_type": "stream",
     "text": [
      "/home/raulf2012/miniconda2/envs/py36/lib/python3.6/site-packages/ipykernel_launcher.py:2: FutureWarning:\n",
      "\n",
      "Series.data is deprecated and will be removed in a future version\n",
      "\n"
     ]
    },
    {
     "data": {
      "text/plain": [
       "<memory at 0x7fb5fb62a588>"
      ]
     },
     "execution_count": 29,
     "metadata": {},
     "output_type": "execute_result"
    }
   ],
   "source": [
    "type(data_i[\"prediction_not_ref\"].data)\n",
    "data_i[\"computed\"]"
   ]
  }
 ],
 "metadata": {
  "kernelspec": {
   "display_name": "Python 3",
   "language": "python",
   "name": "python3"
  },
  "language_info": {
   "codemirror_mode": {
    "name": "ipython",
    "version": 3
   },
   "file_extension": ".py",
   "mimetype": "text/x-python",
   "name": "python",
   "nbconvert_exporter": "python",
   "pygments_lexer": "ipython3",
   "version": "3.6.7"
  }
 },
 "nbformat": 4,
 "nbformat_minor": 2
}
