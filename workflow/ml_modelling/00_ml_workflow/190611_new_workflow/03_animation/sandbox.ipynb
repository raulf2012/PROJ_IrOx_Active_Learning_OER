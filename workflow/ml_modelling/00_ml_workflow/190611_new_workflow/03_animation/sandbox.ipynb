{
 "cells": [
  {
   "cell_type": "markdown",
   "metadata": {},
   "source": [
    "# Import Modules"
   ]
  },
  {
   "cell_type": "code",
   "execution_count": 22,
   "metadata": {
    "jupyter": {
     "source_hidden": true
    }
   },
   "outputs": [],
   "source": [
    "import os\n",
    "import sys\n",
    "\n",
    "import pickle\n",
    "\n",
    "import pandas as pd"
   ]
  },
  {
   "cell_type": "markdown",
   "metadata": {},
   "source": [
    "# Read Data"
   ]
  },
  {
   "cell_type": "code",
   "execution_count": 2,
   "metadata": {
    "jupyter": {
     "source_hidden": true
    }
   },
   "outputs": [],
   "source": [
    "file_path = \"/home/raulf2012/Dropbox/01_norskov/00_git_repos/PROJ_IrOx_Active_Learning_OER/workflow/ml_modelling/00_ml_workflow/190611_new_workflow/02_gaus_proc/out_data/temp.pickle\"\n",
    "\n",
    "with open(file_path, \"rb\") as fle:\n",
    "    data_dict = pickle.load(fle)\n",
    "\n",
    "df_bulk_dft = data_dict[\"df_bulk_dft\"]\n",
    "model_i = data_dict[\"model_i\"]"
   ]
  },
  {
   "cell_type": "code",
   "execution_count": 3,
   "metadata": {
    "collapsed": true,
    "jupyter": {
     "outputs_hidden": true,
     "source_hidden": true
    }
   },
   "outputs": [
    {
     "name": "stdout",
     "output_type": "stream",
     "text": [
      "df_bulk_dft.shape: (208, 9)\n"
     ]
    },
    {
     "data": {
      "text/html": [
       "<div>\n",
       "<style scoped>\n",
       "    .dataframe tbody tr th:only-of-type {\n",
       "        vertical-align: middle;\n",
       "    }\n",
       "\n",
       "    .dataframe tbody tr th {\n",
       "        vertical-align: top;\n",
       "    }\n",
       "\n",
       "    .dataframe thead th {\n",
       "        text-align: right;\n",
       "    }\n",
       "</style>\n",
       "<table border=\"1\" class=\"dataframe\">\n",
       "  <thead>\n",
       "    <tr style=\"text-align: right;\">\n",
       "      <th></th>\n",
       "      <th>atoms</th>\n",
       "      <th>energy_pa</th>\n",
       "      <th>form_e_chris</th>\n",
       "      <th>id</th>\n",
       "      <th>id_old</th>\n",
       "      <th>path</th>\n",
       "      <th>source</th>\n",
       "      <th>stoich</th>\n",
       "      <th>energy</th>\n",
       "    </tr>\n",
       "    <tr>\n",
       "      <th>id_unique</th>\n",
       "      <th></th>\n",
       "      <th></th>\n",
       "      <th></th>\n",
       "      <th></th>\n",
       "      <th></th>\n",
       "      <th></th>\n",
       "      <th></th>\n",
       "      <th></th>\n",
       "      <th></th>\n",
       "    </tr>\n",
       "  </thead>\n",
       "  <tbody>\n",
       "    <tr>\n",
       "      <th>61mwz4ny85</th>\n",
       "      <td>(Atom('Ir', [0.0, 0.0, 0.0], index=0), Atom('O...</td>\n",
       "      <td>-4.702486</td>\n",
       "      <td>NaN</td>\n",
       "      <td>NaN</td>\n",
       "      <td>124</td>\n",
       "      <td>/global/cscratch1/sd/flores12/IrOx_Project_tem...</td>\n",
       "      <td>raul</td>\n",
       "      <td>AB3</td>\n",
       "      <td>-18.809946</td>\n",
       "    </tr>\n",
       "    <tr>\n",
       "      <th>62xp6e9yzs</th>\n",
       "      <td>(Atom('Ir', [-2.81342, 14.60929, 5.52693], ind...</td>\n",
       "      <td>-6.226849</td>\n",
       "      <td>NaN</td>\n",
       "      <td>NaN</td>\n",
       "      <td>230</td>\n",
       "      <td>/global/cscratch1/sd/flores12/IrOx_Project_tem...</td>\n",
       "      <td>raul</td>\n",
       "      <td>AB3</td>\n",
       "      <td>-298.888752</td>\n",
       "    </tr>\n",
       "    <tr>\n",
       "      <th>6384vt7pml</th>\n",
       "      <td>(Atom('O', [2.24653, 5.50212, 1.81723], index=...</td>\n",
       "      <td>-6.397915</td>\n",
       "      <td>NaN</td>\n",
       "      <td>NaN</td>\n",
       "      <td>237</td>\n",
       "      <td>/global/cscratch1/sd/flores12/IrOx_Project_tem...</td>\n",
       "      <td>raul</td>\n",
       "      <td>AB3</td>\n",
       "      <td>-358.283250</td>\n",
       "    </tr>\n",
       "    <tr>\n",
       "      <th>63xlmhno8h</th>\n",
       "      <td>(Atom('O', [0.37755, 1.807, 0.32305], index=0)...</td>\n",
       "      <td>-6.184285</td>\n",
       "      <td>NaN</td>\n",
       "      <td>NaN</td>\n",
       "      <td>131</td>\n",
       "      <td>/global/cscratch1/sd/flores12/IrOx_Project_tem...</td>\n",
       "      <td>raul</td>\n",
       "      <td>AB3</td>\n",
       "      <td>-49.474282</td>\n",
       "    </tr>\n",
       "    <tr>\n",
       "      <th>64vo6w8wvq</th>\n",
       "      <td>(Atom('O', [12.74778, 1.5778, 0.20169], index=...</td>\n",
       "      <td>-6.138180</td>\n",
       "      <td>NaN</td>\n",
       "      <td>NaN</td>\n",
       "      <td>91</td>\n",
       "      <td>/global/cscratch1/sd/flores12/IrOx_Project_tem...</td>\n",
       "      <td>raul</td>\n",
       "      <td>AB3</td>\n",
       "      <td>-196.421749</td>\n",
       "    </tr>\n",
       "  </tbody>\n",
       "</table>\n",
       "</div>"
      ],
      "text/plain": [
       "                                                        atoms  energy_pa  \\\n",
       "id_unique                                                                  \n",
       "61mwz4ny85  (Atom('Ir', [0.0, 0.0, 0.0], index=0), Atom('O...  -4.702486   \n",
       "62xp6e9yzs  (Atom('Ir', [-2.81342, 14.60929, 5.52693], ind...  -6.226849   \n",
       "6384vt7pml  (Atom('O', [2.24653, 5.50212, 1.81723], index=...  -6.397915   \n",
       "63xlmhno8h  (Atom('O', [0.37755, 1.807, 0.32305], index=0)...  -6.184285   \n",
       "64vo6w8wvq  (Atom('O', [12.74778, 1.5778, 0.20169], index=...  -6.138180   \n",
       "\n",
       "            form_e_chris   id id_old  \\\n",
       "id_unique                              \n",
       "61mwz4ny85           NaN  NaN    124   \n",
       "62xp6e9yzs           NaN  NaN    230   \n",
       "6384vt7pml           NaN  NaN    237   \n",
       "63xlmhno8h           NaN  NaN    131   \n",
       "64vo6w8wvq           NaN  NaN     91   \n",
       "\n",
       "                                                         path source stoich  \\\n",
       "id_unique                                                                     \n",
       "61mwz4ny85  /global/cscratch1/sd/flores12/IrOx_Project_tem...   raul    AB3   \n",
       "62xp6e9yzs  /global/cscratch1/sd/flores12/IrOx_Project_tem...   raul    AB3   \n",
       "6384vt7pml  /global/cscratch1/sd/flores12/IrOx_Project_tem...   raul    AB3   \n",
       "63xlmhno8h  /global/cscratch1/sd/flores12/IrOx_Project_tem...   raul    AB3   \n",
       "64vo6w8wvq  /global/cscratch1/sd/flores12/IrOx_Project_tem...   raul    AB3   \n",
       "\n",
       "                energy  \n",
       "id_unique               \n",
       "61mwz4ny85  -18.809946  \n",
       "62xp6e9yzs -298.888752  \n",
       "6384vt7pml -358.283250  \n",
       "63xlmhno8h  -49.474282  \n",
       "64vo6w8wvq -196.421749  "
      ]
     },
     "execution_count": 3,
     "metadata": {},
     "output_type": "execute_result"
    }
   ],
   "source": [
    "print(\"df_bulk_dft.shape:\", df_bulk_dft.shape)\n",
    "\n",
    "df_bulk_dft.head()"
   ]
  },
  {
   "cell_type": "code",
   "execution_count": 4,
   "metadata": {
    "collapsed": true,
    "jupyter": {
     "outputs_hidden": true,
     "source_hidden": true
    }
   },
   "outputs": [
    {
     "name": "stdout",
     "output_type": "stream",
     "text": [
      "model_i.shape: (208, 15)\n"
     ]
    },
    {
     "data": {
      "text/html": [
       "<div>\n",
       "<style scoped>\n",
       "    .dataframe tbody tr th:only-of-type {\n",
       "        vertical-align: middle;\n",
       "    }\n",
       "\n",
       "    .dataframe tbody tr th {\n",
       "        vertical-align: top;\n",
       "    }\n",
       "\n",
       "    .dataframe thead th {\n",
       "        text-align: right;\n",
       "    }\n",
       "</style>\n",
       "<table border=\"1\" class=\"dataframe\">\n",
       "  <thead>\n",
       "    <tr style=\"text-align: right;\">\n",
       "      <th></th>\n",
       "      <th>prediction</th>\n",
       "      <th>uncertainty</th>\n",
       "      <th>uncertainty_with_reg</th>\n",
       "      <th>id</th>\n",
       "      <th>computed</th>\n",
       "      <th>prediction_unstandardized</th>\n",
       "      <th>uncertainty_unstandardized</th>\n",
       "      <th>uncertainty_with_reg_unstandardized</th>\n",
       "      <th>energy_pa</th>\n",
       "      <th>x_axis_ind</th>\n",
       "      <th>actually_computed</th>\n",
       "      <th>tmp</th>\n",
       "      <th>marker_size</th>\n",
       "      <th>marker_line_color</th>\n",
       "      <th>marker_line_size</th>\n",
       "    </tr>\n",
       "    <tr>\n",
       "      <th>id_unique</th>\n",
       "      <th></th>\n",
       "      <th></th>\n",
       "      <th></th>\n",
       "      <th></th>\n",
       "      <th></th>\n",
       "      <th></th>\n",
       "      <th></th>\n",
       "      <th></th>\n",
       "      <th></th>\n",
       "      <th></th>\n",
       "      <th></th>\n",
       "      <th></th>\n",
       "      <th></th>\n",
       "      <th></th>\n",
       "      <th></th>\n",
       "    </tr>\n",
       "  </thead>\n",
       "  <tbody>\n",
       "    <tr>\n",
       "      <th>61mwz4ny85</th>\n",
       "      <td>3.224219</td>\n",
       "      <td>0.000058</td>\n",
       "      <td>0.000115</td>\n",
       "      <td>124.0</td>\n",
       "      <td>True</td>\n",
       "      <td>-4.702486</td>\n",
       "      <td>0.000024</td>\n",
       "      <td>0.000048</td>\n",
       "      <td>-4.702486</td>\n",
       "      <td>197</td>\n",
       "      <td>True</td>\n",
       "      <td>-4.702511</td>\n",
       "      <td>10</td>\n",
       "      <td>red</td>\n",
       "      <td>1.5</td>\n",
       "    </tr>\n",
       "    <tr>\n",
       "      <th>62xp6e9yzs</th>\n",
       "      <td>-0.413439</td>\n",
       "      <td>0.000058</td>\n",
       "      <td>0.000115</td>\n",
       "      <td>230.0</td>\n",
       "      <td>True</td>\n",
       "      <td>-6.226849</td>\n",
       "      <td>0.000024</td>\n",
       "      <td>0.000048</td>\n",
       "      <td>-6.226849</td>\n",
       "      <td>42</td>\n",
       "      <td>True</td>\n",
       "      <td>-6.226873</td>\n",
       "      <td>10</td>\n",
       "      <td>red</td>\n",
       "      <td>1.5</td>\n",
       "    </tr>\n",
       "    <tr>\n",
       "      <th>6384vt7pml</th>\n",
       "      <td>-0.821662</td>\n",
       "      <td>0.000058</td>\n",
       "      <td>0.000115</td>\n",
       "      <td>237.0</td>\n",
       "      <td>True</td>\n",
       "      <td>-6.397915</td>\n",
       "      <td>0.000024</td>\n",
       "      <td>0.000048</td>\n",
       "      <td>-6.397915</td>\n",
       "      <td>14</td>\n",
       "      <td>True</td>\n",
       "      <td>-6.397939</td>\n",
       "      <td>10</td>\n",
       "      <td>red</td>\n",
       "      <td>1.5</td>\n",
       "    </tr>\n",
       "    <tr>\n",
       "      <th>63xlmhno8h</th>\n",
       "      <td>-0.311867</td>\n",
       "      <td>0.000058</td>\n",
       "      <td>0.000115</td>\n",
       "      <td>131.0</td>\n",
       "      <td>True</td>\n",
       "      <td>-6.184285</td>\n",
       "      <td>0.000024</td>\n",
       "      <td>0.000048</td>\n",
       "      <td>-6.184285</td>\n",
       "      <td>45</td>\n",
       "      <td>True</td>\n",
       "      <td>-6.184309</td>\n",
       "      <td>10</td>\n",
       "      <td>red</td>\n",
       "      <td>1.5</td>\n",
       "    </tr>\n",
       "    <tr>\n",
       "      <th>64vo6w8wvq</th>\n",
       "      <td>-0.201843</td>\n",
       "      <td>0.000058</td>\n",
       "      <td>0.000115</td>\n",
       "      <td>91.0</td>\n",
       "      <td>True</td>\n",
       "      <td>-6.138180</td>\n",
       "      <td>0.000024</td>\n",
       "      <td>0.000048</td>\n",
       "      <td>-6.138180</td>\n",
       "      <td>56</td>\n",
       "      <td>True</td>\n",
       "      <td>-6.138204</td>\n",
       "      <td>10</td>\n",
       "      <td>red</td>\n",
       "      <td>1.5</td>\n",
       "    </tr>\n",
       "  </tbody>\n",
       "</table>\n",
       "</div>"
      ],
      "text/plain": [
       "            prediction  uncertainty  uncertainty_with_reg     id  computed  \\\n",
       "id_unique                                                                    \n",
       "61mwz4ny85    3.224219     0.000058              0.000115  124.0      True   \n",
       "62xp6e9yzs   -0.413439     0.000058              0.000115  230.0      True   \n",
       "6384vt7pml   -0.821662     0.000058              0.000115  237.0      True   \n",
       "63xlmhno8h   -0.311867     0.000058              0.000115  131.0      True   \n",
       "64vo6w8wvq   -0.201843     0.000058              0.000115   91.0      True   \n",
       "\n",
       "            prediction_unstandardized  uncertainty_unstandardized  \\\n",
       "id_unique                                                           \n",
       "61mwz4ny85                  -4.702486                    0.000024   \n",
       "62xp6e9yzs                  -6.226849                    0.000024   \n",
       "6384vt7pml                  -6.397915                    0.000024   \n",
       "63xlmhno8h                  -6.184285                    0.000024   \n",
       "64vo6w8wvq                  -6.138180                    0.000024   \n",
       "\n",
       "            uncertainty_with_reg_unstandardized  energy_pa  x_axis_ind  \\\n",
       "id_unique                                                                \n",
       "61mwz4ny85                             0.000048  -4.702486         197   \n",
       "62xp6e9yzs                             0.000048  -6.226849          42   \n",
       "6384vt7pml                             0.000048  -6.397915          14   \n",
       "63xlmhno8h                             0.000048  -6.184285          45   \n",
       "64vo6w8wvq                             0.000048  -6.138180          56   \n",
       "\n",
       "            actually_computed       tmp  marker_size marker_line_color  \\\n",
       "id_unique                                                                \n",
       "61mwz4ny85               True -4.702511           10               red   \n",
       "62xp6e9yzs               True -6.226873           10               red   \n",
       "6384vt7pml               True -6.397939           10               red   \n",
       "63xlmhno8h               True -6.184309           10               red   \n",
       "64vo6w8wvq               True -6.138204           10               red   \n",
       "\n",
       "            marker_line_size  \n",
       "id_unique                     \n",
       "61mwz4ny85               1.5  \n",
       "62xp6e9yzs               1.5  \n",
       "6384vt7pml               1.5  \n",
       "63xlmhno8h               1.5  \n",
       "64vo6w8wvq               1.5  "
      ]
     },
     "execution_count": 4,
     "metadata": {},
     "output_type": "execute_result"
    }
   ],
   "source": [
    "print(\"model_i.shape:\", model_i.shape)\n",
    "\n",
    "model_i.head()"
   ]
  },
  {
   "cell_type": "code",
   "execution_count": 5,
   "metadata": {
    "collapsed": true,
    "jupyter": {
     "outputs_hidden": true,
     "source_hidden": true
    }
   },
   "outputs": [
    {
     "name": "stdout",
     "output_type": "stream",
     "text": [
      "df_tmp.shape: (208, 2)\n"
     ]
    }
   ],
   "source": [
    "df_tmp = pd.concat(\n",
    "    [\n",
    "        model_i[[\"x_axis_ind\", \"computed\", \"actually_computed\"]],\n",
    "        df_bulk_dft[\"energy_pa\"],\n",
    "        ],\n",
    "    axis=1, sort=True,\n",
    "    )\n",
    "print(\"df_tmp.shape:\", df_tmp.shape)\n",
    "\n",
    "df_tmp = df_tmp.reindex(model_i.index.sort_values().tolist())"
   ]
  },
  {
   "cell_type": "code",
   "execution_count": 6,
   "metadata": {
    "jupyter": {
     "source_hidden": true
    }
   },
   "outputs": [],
   "source": [
    "df_tmp[\"energy_pa\"].isnull()\n",
    "\n",
    "def method(row_i):\n",
    "#     energy_pa = row_i[\"energy_pa\"]\n",
    "    if pd.isna(row_i[\"energy_pa\"]): size=5\n",
    "    else: size=10\n",
    "    return(size)\n",
    "\n",
    "df_i = df_tmp\n",
    "df_i[\"marker_size\"] = df_i.apply(method, axis=1)\n",
    "df_tmp = df_i"
   ]
  },
  {
   "cell_type": "code",
   "execution_count": 7,
   "metadata": {
    "jupyter": {
     "source_hidden": true
    }
   },
   "outputs": [],
   "source": [
    "# df_tmp.fillna(value=-5.)"
   ]
  },
  {
   "cell_type": "code",
   "execution_count": 8,
   "metadata": {
    "collapsed": true,
    "jupyter": {
     "outputs_hidden": true,
     "source_hidden": true
    }
   },
   "outputs": [
    {
     "data": {
      "text/plain": [
       "(101, 3)"
      ]
     },
     "execution_count": 8,
     "metadata": {},
     "output_type": "execute_result"
    }
   ],
   "source": [
    "df_tmp[df_tmp[\"energy_pa\"].isna()].shape"
   ]
  },
  {
   "cell_type": "code",
   "execution_count": 9,
   "metadata": {
    "collapsed": true,
    "jupyter": {
     "outputs_hidden": true,
     "source_hidden": true
    }
   },
   "outputs": [
    {
     "name": "stdout",
     "output_type": "stream",
     "text": [
      "(101, 3)\n",
      "(107, 3)\n"
     ]
    }
   ],
   "source": [
    "print(df_tmp[df_tmp[\"energy_pa\"].isna()].shape)\n",
    "\n",
    "print(df_tmp[~df_tmp[\"energy_pa\"].isna()].shape)"
   ]
  },
  {
   "cell_type": "raw",
   "metadata": {},
   "source": [
    "\n",
    "\n",
    "\n"
   ]
  },
  {
   "cell_type": "markdown",
   "metadata": {},
   "source": [
    "# Getting IDs of Next Systems to Run\n",
    "---"
   ]
  },
  {
   "cell_type": "code",
   "execution_count": 1,
   "metadata": {
    "jupyter": {
     "source_hidden": true
    }
   },
   "outputs": [],
   "source": [
    "import time\n",
    "import os\n",
    "\n",
    "import pickle\n",
    "\n",
    "import pandas as pd\n",
    "\n",
    "import chart_studio.plotly as py\n",
    "from chart_studio.grid_objs import Grid, Column\n",
    "import plotly.graph_objects as go\n",
    "\n",
    "from plotting.my_plotly import my_plotly_plot\n",
    "\n",
    "from methods import (\n",
    "    get_sliders_init_dict,\n",
    "    get_slider_step_i,\n",
    "    get_layout,\n",
    "    )\n",
    "\n",
    "# stoich_i = \"AB2\"\n",
    "stoich_i = \"AB2\"\n",
    "\n",
    "\n",
    "# duration_long = 1000 * 2\n",
    "# duration_short = 800 * 2\n",
    "\n",
    "duration_long = 1000 * 3\n",
    "duration_short = 800 * 5\n",
    "\n",
    "save_plot = False\n",
    "if save_plot:\n",
    "    save_dir = \"04_IrOx_surfaces_OER\" \n",
    "else:\n",
    "    save_dir = \"__temp__/PROJ_irox/190625\"\n",
    "\n",
    "layout = get_layout(\n",
    "    duration_long=duration_long,\n",
    "    duration_short=duration_short)\n",
    "\n",
    "sliders_dict = get_sliders_init_dict(duration_short)"
   ]
  },
  {
   "cell_type": "code",
   "execution_count": 45,
   "metadata": {},
   "outputs": [
    {
     "data": {
      "text/plain": [
       "nu94n3v4n4    508.0\n",
       "crnonhbf6j     10.0\n",
       "zoxsbkmyna    649.0\n",
       "7ynav474cs    543.0\n",
       "vtzi7tcony    662.0\n",
       "              ...  \n",
       "7ymj7t9l8p    531.0\n",
       "nk8en4m1va    346.0\n",
       "cfzam1mdbf    590.0\n",
       "9d6y74b5by    633.0\n",
       "mwxdzp8g7u    642.0\n",
       "Name: id, Length: 342, dtype: float64"
      ]
     },
     "execution_count": 45,
     "metadata": {},
     "output_type": "execute_result"
    }
   ],
   "source": [
    "al_output_data_path = os.path.join(\n",
    "    os.environ[\"PROJ_irox\"],\n",
    "    \"workflow/ml_modelling\", \"00_ml_workflow/190611_new_workflow\",\n",
    "    \"02_gaus_proc/out_data\",\n",
    "    \"data_dict_\" + stoich_i + \".pickle\",\n",
    "    # \"data_dict_AB3.pickle\",\n",
    "    )\n",
    "\n",
    "with open(al_output_data_path, \"rb\") as fle:\n",
    "    al_data_dict = pickle.load(fle)\n",
    "\n",
    "model_i = al_data_dict[43][\"model\"].sort_values(\"prediction_unstandardized\")\n",
    "\n",
    "model_i = model_i[model_i[\"actually_computed\"] == False]"
   ]
  },
  {
   "cell_type": "code",
   "execution_count": 46,
   "metadata": {},
   "outputs": [],
   "source": [
    "rootdir = os.path.join(\n",
    "    os.environ[\"dropbox\"],\n",
    "    \"__temp__\")\n",
    "\n",
    "with open(os.path.join(rootdir, \"ids_in_job_folders_iro2_nersc.txt\"), 'r') as f:\n",
    "    x = f.readlines()\n",
    "    iro2_nersc_ids = [i.strip() for i in x]\n",
    "\n",
    "with open(os.path.join(rootdir, \"ids_in_job_folders_iro2_sher.txt\"), 'r') as f:\n",
    "    x = f.readlines()\n",
    "    iro2_sher_ids = [i.strip() for i in x]"
   ]
  },
  {
   "cell_type": "code",
   "execution_count": 47,
   "metadata": {},
   "outputs": [
    {
     "name": "stdout",
     "output_type": "stream",
     "text": [
      "172\n",
      "172\n"
     ]
    }
   ],
   "source": [
    "print(len(iro2_nersc_ids))\n",
    "print(len(iro2_sher_ids))"
   ]
  },
  {
   "cell_type": "code",
   "execution_count": 48,
   "metadata": {},
   "outputs": [
    {
     "name": "stdout",
     "output_type": "stream",
     "text": [
      "327\n"
     ]
    }
   ],
   "source": [
    "iro2_ids = list(set(iro2_nersc_ids + iro2_sher_ids))\n",
    "\n",
    "print(len(iro2_ids))"
   ]
  },
  {
   "cell_type": "code",
   "execution_count": 71,
   "metadata": {},
   "outputs": [
    {
     "data": {
      "text/plain": [
       "False"
      ]
     },
     "execution_count": 71,
     "metadata": {},
     "output_type": "execute_result"
    }
   ],
   "source": [
    "\"508\" in iro2_ids"
   ]
  },
  {
   "cell_type": "code",
   "execution_count": 64,
   "metadata": {},
   "outputs": [],
   "source": [
    "# [i for i in str(int(model_i[\"id\"].iloc[0])).zfill(3) if i not in iro2_ids]\n",
    "\n",
    "\n",
    "# str(int(model_i[\"id\"].iloc[0])).zfill(3)\n",
    "\n",
    "ids_to_run = []\n",
    "for i in model_i[\"id\"]:\n",
    "    tmp = 42\n",
    "\n",
    "    id_str = str(int(i)).zfill(3)\n",
    "    \n",
    "    if id_str not in iro2_ids:\n",
    "        ids_to_run.append(id_str)"
   ]
  },
  {
   "cell_type": "code",
   "execution_count": 75,
   "metadata": {},
   "outputs": [
    {
     "data": {
      "text/plain": [
       "[508,\n",
       " 649,\n",
       " 543,\n",
       " 662,\n",
       " 591,\n",
       " 461,\n",
       " 424,\n",
       " 36,\n",
       " 54,\n",
       " 43,\n",
       " 374,\n",
       " 4,\n",
       " 679,\n",
       " 524,\n",
       " 551,\n",
       " 683,\n",
       " 483,\n",
       " 544,\n",
       " 429,\n",
       " 579,\n",
       " 335,\n",
       " 479,\n",
       " 522,\n",
       " 445,\n",
       " 465,\n",
       " 357,\n",
       " 597,\n",
       " 538,\n",
       " 93,\n",
       " 402,\n",
       " 566,\n",
       " 493,\n",
       " 418,\n",
       " 386,\n",
       " 384,\n",
       " 604,\n",
       " 367,\n",
       " 562,\n",
       " 599,\n",
       " 526,\n",
       " 671,\n",
       " 63,\n",
       " 32,\n",
       " 331,\n",
       " 525,\n",
       " 462,\n",
       " 559,\n",
       " 670,\n",
       " 455,\n",
       " 614,\n",
       " 669,\n",
       " 362,\n",
       " 94,\n",
       " 589,\n",
       " 441,\n",
       " 365,\n",
       " 372,\n",
       " 572,\n",
       " 95,\n",
       " 438,\n",
       " 96,\n",
       " 394,\n",
       " 6,\n",
       " 399,\n",
       " 678,\n",
       " 354,\n",
       " 509,\n",
       " 37,\n",
       " 66,\n",
       " 97,\n",
       " 67,\n",
       " 690,\n",
       " 623,\n",
       " 453,\n",
       " 624,\n",
       " 663,\n",
       " 696,\n",
       " 393,\n",
       " 449,\n",
       " 500,\n",
       " 584,\n",
       " 608,\n",
       " 494,\n",
       " 505,\n",
       " 638,\n",
       " 82,\n",
       " 539,\n",
       " 602,\n",
       " 350,\n",
       " 640,\n",
       " 486,\n",
       " 692,\n",
       " 358,\n",
       " 84,\n",
       " 61,\n",
       " 410,\n",
       " 609,\n",
       " 643,\n",
       " 580,\n",
       " 46,\n",
       " 636,\n",
       " 569,\n",
       " 639,\n",
       " 373,\n",
       " 90,\n",
       " 625,\n",
       " 495,\n",
       " 472,\n",
       " 504,\n",
       " 587,\n",
       " 492,\n",
       " 605,\n",
       " 55,\n",
       " 408,\n",
       " 40,\n",
       " 528,\n",
       " 619,\n",
       " 645,\n",
       " 428,\n",
       " 529,\n",
       " 369,\n",
       " 446,\n",
       " 33,\n",
       " 666,\n",
       " 657,\n",
       " 360,\n",
       " 56,\n",
       " 333,\n",
       " 468,\n",
       " 688,\n",
       " 481,\n",
       " 607,\n",
       " 89,\n",
       " 341,\n",
       " 404,\n",
       " 595,\n",
       " 42,\n",
       " 405,\n",
       " 389,\n",
       " 659,\n",
       " 391,\n",
       " 617,\n",
       " 60,\n",
       " 613,\n",
       " 466,\n",
       " 421,\n",
       " 694,\n",
       " 351,\n",
       " 561,\n",
       " 549,\n",
       " 610,\n",
       " 379,\n",
       " 443,\n",
       " 44,\n",
       " 49,\n",
       " 52,\n",
       " 618,\n",
       " 665,\n",
       " 420,\n",
       " 650,\n",
       " 91,\n",
       " 489,\n",
       " 457,\n",
       " 533,\n",
       " 329,\n",
       " 680,\n",
       " 343,\n",
       " 631,\n",
       " 400,\n",
       " 8,\n",
       " 684,\n",
       " 516,\n",
       " 439,\n",
       " 600,\n",
       " 474,\n",
       " 515,\n",
       " 414,\n",
       " 667,\n",
       " 355,\n",
       " 376,\n",
       " 582,\n",
       " 686,\n",
       " 557,\n",
       " 62,\n",
       " 620,\n",
       " 514,\n",
       " 564,\n",
       " 435,\n",
       " 401,\n",
       " 652,\n",
       " 535,\n",
       " 518,\n",
       " 359,\n",
       " 74,\n",
       " 641,\n",
       " 648,\n",
       " 521,\n",
       " 651,\n",
       " 615,\n",
       " 634,\n",
       " 581,\n",
       " 344,\n",
       " 596,\n",
       " 398,\n",
       " 70,\n",
       " 427,\n",
       " 426,\n",
       " 476,\n",
       " 693,\n",
       " 433,\n",
       " 491,\n",
       " 366,\n",
       " 570,\n",
       " 431,\n",
       " 330,\n",
       " 92,\n",
       " 440,\n",
       " 536,\n",
       " 675,\n",
       " 378,\n",
       " 397,\n",
       " 382,\n",
       " 593,\n",
       " 454,\n",
       " 437,\n",
       " 353,\n",
       " 558,\n",
       " 687,\n",
       " 381,\n",
       " 345,\n",
       " 415,\n",
       " 328,\n",
       " 34,\n",
       " 606,\n",
       " 338,\n",
       " 578,\n",
       " 53,\n",
       " 68,\n",
       " 520,\n",
       " 568,\n",
       " 497,\n",
       " 407,\n",
       " 537,\n",
       " 695,\n",
       " 430,\n",
       " 560,\n",
       " 406,\n",
       " 364,\n",
       " 99,\n",
       " 627,\n",
       " 35,\n",
       " 550,\n",
       " 661,\n",
       " 541,\n",
       " 531,\n",
       " 346,\n",
       " 590,\n",
       " 633,\n",
       " 642]"
      ]
     },
     "execution_count": 75,
     "metadata": {},
     "output_type": "execute_result"
    }
   ],
   "source": [
    "[int(i) for i in ids_to_run]"
   ]
  },
  {
   "cell_type": "code",
   "execution_count": 73,
   "metadata": {},
   "outputs": [
    {
     "data": {
      "text/plain": [
       "586"
      ]
     },
     "execution_count": 73,
     "metadata": {},
     "output_type": "execute_result"
    }
   ],
   "source": [
    "259 + 327"
   ]
  },
  {
   "cell_type": "raw",
   "metadata": {},
   "source": [
    "\n",
    "\n",
    "\n"
   ]
  },
  {
   "cell_type": "code",
   "execution_count": 21,
   "metadata": {
    "jupyter": {
     "source_hidden": true
    }
   },
   "outputs": [],
   "source": [
    "# sys.path.insert(0, rootdir)\n",
    "# from ids_to_run_nersc import ids_to_run as ids_to_run_nersc\n",
    "# from ids_to_run_sher import ids_to_run as ids_to_run_sher\n",
    "# ids_already_running = ids_to_run_nersc + ids_to_run_sher\n",
    "# ids_already_running = list(set(ids_already_running))\n",
    "# ids_already_running"
   ]
  }
 ],
 "metadata": {
  "kernelspec": {
   "display_name": "Python [conda env:research-new] *",
   "language": "python",
   "name": "conda-env-research-new-py"
  },
  "language_info": {
   "codemirror_mode": {
    "name": "ipython",
    "version": 3
   },
   "file_extension": ".py",
   "mimetype": "text/x-python",
   "name": "python",
   "nbconvert_exporter": "python",
   "pygments_lexer": "ipython3",
   "version": "3.6.8"
  }
 },
 "nbformat": 4,
 "nbformat_minor": 4
}
