{
 "cells": [
  {
   "cell_type": "markdown",
   "metadata": {},
   "source": [
    "# New ML Active Learning Workflow\n",
    "---"
   ],
   "execution_count": null,
   "outputs": []
  },
  {
   "cell_type": "raw",
   "metadata": {},
   "source": [
    "df_train\n",
    "df_struct\n",
    "df_proto\n",
    "df_ids\n",
    "df_features_pca"
   ],
   "execution_count": null,
   "outputs": []
  },
  {
   "cell_type": "markdown",
   "metadata": {},
   "source": [
    "# Import Modules"
   ],
   "execution_count": null,
   "outputs": []
  },
  {
   "cell_type": "code",
   "execution_count": null,
   "metadata": {},
   "outputs": [],
   "source": [
    "import os\n",
    "import sys\n",
    "\n",
    "sys.path.insert(0, os.path.join(\n",
    "    os.environ[\"PROJ_irox\"],\n",
    "    \"workflow/ml_modelling/ml_convergence_plots\"))\n",
    "\n",
    "import pickle\n",
    "import random\n",
    "import copy\n",
    "\n",
    "import pandas as pd\n",
    "import numpy as np\n",
    "import plotly.plotly as py\n",
    "\n",
    "from ase.visualize import view\n",
    "from ase import io\n",
    "\n",
    "# #############################################################################\n",
    "# #############################################################################\n",
    "from catlearn.regression import GaussianProcess\n",
    "import gpflow\n",
    "\n",
    "# #############################################################################\n",
    "# #############################################################################\n",
    "from methods import process_data_for_plot, get_layout"
   ]
  },
  {
   "cell_type": "markdown",
   "metadata": {},
   "source": [
    "# Script Inputs"
   ],
   "execution_count": null,
   "outputs": []
  },
  {
   "cell_type": "markdown",
   "metadata": {},
   "source": [
    "# Read Data"
   ],
   "execution_count": null,
   "outputs": []
  },
  {
   "cell_type": "code",
   "execution_count": null,
   "metadata": {},
   "outputs": [],
   "source": [
    "path_i = os.path.join(\n",
    "    os.environ[\"PROJ_irox\"],\n",
    "    \"workflow/ml_modelling/parsing_chris_dft_data\",\n",
    "    \"df_dft_calcs.pickle\")\n",
    "with open(path_i, \"rb\") as fle:\n",
    "    df_dft_calcs = pickle.load(fle)\n",
    "\n",
    "# #############################################################################\n",
    "\n",
    "path_i = os.path.join(\n",
    "    os.environ[\"PROJ_irox\"],\n",
    "    \"workflow/ml_modelling\",\n",
    "    \"df_oqmd_data.pickle\")\n",
    "with open(path_i, \"rb\") as fle:\n",
    "    df_oqmd_data = pickle.load(fle)\n",
    "\n",
    "df_train = pd.concat([df_oqmd_data, df_dft_calcs], sort=False)\n",
    "# Removing missing data\n",
    "df_train = df_train[df_train[\"atoms\"].notnull()]\n",
    "df_train = df_train.drop([\"energy\", \"force_max\", \"force_sum\"], axis=1)\n",
    "\n",
    "# #############################################################################\n",
    "# #############################################################################\n",
    "# #############################################################################\n",
    "\n",
    "path_i = os.path.join(\n",
    "    os.environ[\"PROJ_irox\"],\n",
    "    \"chris_prototypes_structures\",\n",
    "    \"data_structures.pickle\")\n",
    "with open(path_i, \"rb\") as fle:\n",
    "    df_struct = pickle.load(fle)\n",
    "\n",
    "# #############################################################################\n",
    "\n",
    "path_i = os.path.join(\n",
    "    os.environ[\"PROJ_irox\"],\n",
    "    \"chris_prototypes_structures\",\n",
    "    \"data_prototypes.pickle\")\n",
    "with open(path_i, \"rb\") as fle:\n",
    "    df_proto = pickle.load(fle)\n",
    "\n",
    "# #############################################################################\n",
    "\n",
    "path_i = os.path.join(\n",
    "    os.environ[\"PROJ_irox\"],\n",
    "    \"data/ml_irox_data\",\n",
    "    \"unique_ids.csv\")\n",
    "df_ids = pd.read_csv(path_i)\n",
    "\n",
    "# #############################################################################\n",
    "\n",
    "path_i = os.path.join(\n",
    "    os.environ[\"PROJ_irox\"],\n",
    "    \"workflow/ml_modelling/00_ml_workflow/190611_new_workflow\",\n",
    "    \"data\",\n",
    "    \"df_features_pca.pickle\",\n",
    "    )\n",
    "with open(path_i, \"rb\") as fle:\n",
    "    df_features_pca = pickle.load(fle)"
   ]
  },
  {
   "cell_type": "raw",
   "metadata": {},
   "source": [
    "rutile IrO2: AB2_2_a_f_136\n",
    "a-AlF3 IrO3: AB3_2_b_e_167\n",
    "rutile IrO3: AB3_4_e_fj_136\n",
    "batter IrO3: AB3_8_ik_glm2_66"
   ],
   "execution_count": null,
   "outputs": []
  },
  {
   "cell_type": "markdown",
   "metadata": {},
   "source": [
    "# Finding Structure that is closest to beta-IrO3 phase"
   ],
   "execution_count": null,
   "outputs": []
  },
  {
   "cell_type": "code",
   "execution_count": null,
   "metadata": {},
   "outputs": [],
   "source": [
    "# AB3_8_ik_glm2_66\n",
    "# npvumg7g93\n",
    "\n",
    "df_proto[df_proto[\"spacegroup_i\"] == 66]"
   ]
  },
  {
   "cell_type": "markdown",
   "metadata": {},
   "source": [
    "# Finding Structure that is closest to alpha-IrO3 phase"
   ],
   "execution_count": null,
   "outputs": []
  },
  {
   "cell_type": "code",
   "execution_count": null,
   "metadata": {},
   "outputs": [],
   "source": [
    "# AB3_2_b_e_167\n",
    "# 8k7expx2bp\n",
    "\n",
    "df_proto[df_proto[\"spacegroup_i\"] == 167]\n",
    "\n",
    "\n",
    "row_i = df_struct.loc[\"8k7expx2bp\"]\n",
    "view(row_i[\"atoms\"])\n",
    "\n",
    "# view(df_struct.loc[\"8k7expx2bp\"][\"atoms\"])"
   ]
  },
  {
   "cell_type": "code",
   "execution_count": null,
   "metadata": {},
   "outputs": [],
   "source": [
    "row_i"
   ]
  },
  {
   "cell_type": "markdown",
   "metadata": {},
   "source": [
    "# Getting minimum energy line trace in animation"
   ],
   "execution_count": null,
   "outputs": []
  },
  {
   "cell_type": "code",
   "execution_count": null,
   "metadata": {},
   "outputs": [],
   "source": []
  }
 ],
 "metadata": {
  "kernelspec": {
   "display_name": "Python 3",
   "language": "python",
   "name": "python3"
  },
  "language_info": {
   "codemirror_mode": {
    "name": "ipython",
    "version": 3
   },
   "file_extension": ".py",
   "mimetype": "text/x-python",
   "name": "python",
   "nbconvert_exporter": "python",
   "pygments_lexer": "ipython3",
   "version": "3.6.7"
  }
 },
 "nbformat": 4,
 "nbformat_minor": 2
}
