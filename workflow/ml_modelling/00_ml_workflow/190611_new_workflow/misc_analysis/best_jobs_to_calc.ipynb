{
 "cells": [
  {
   "cell_type": "markdown",
   "metadata": {},
   "source": [
    "# Creating ML Congergence Animation for IrOx Systems\n",
    "---"
   ]
  },
  {
   "cell_type": "markdown",
   "metadata": {},
   "source": [
    "# Import Modules"
   ]
  },
  {
   "cell_type": "code",
   "execution_count": 1,
   "metadata": {},
   "outputs": [],
   "source": [
    "import sys\n",
    "import os\n",
    "\n",
    "import time\n",
    "\n",
    "import pandas as pd\n",
    "import numpy as np\n",
    "\n",
    "import chart_studio.plotly as py\n",
    "from chart_studio.grid_objs import Grid, Column\n",
    "import plotly.graph_objects as go\n",
    "\n",
    "sys.path.insert(0,\n",
    "    os.path.join(\n",
    "        os.environ[\"PROJ_irox\"],\n",
    "        \"workflow/ml_modelling/00_ml_workflow\",\n",
    "        \"190611_new_workflow/03_animation\",\n",
    "        )\n",
    "    )\n",
    "\n",
    "from methods import get_trace_i\n",
    "from methods import get_data\n",
    "\n",
    "# from layout import layout\n",
    "\n",
    "from plotting.my_plotly import my_plotly_plot"
   ]
  },
  {
   "cell_type": "markdown",
   "metadata": {},
   "source": [
    "# Script Inputs"
   ]
  },
  {
   "cell_type": "code",
   "execution_count": 2,
   "metadata": {},
   "outputs": [],
   "source": [
    "# stoich_i = \"iro3\"\n",
    "stoich_i = \"iro2\""
   ]
  },
  {
   "cell_type": "markdown",
   "metadata": {},
   "source": [
    "# Load Data"
   ]
  },
  {
   "cell_type": "code",
   "execution_count": 3,
   "metadata": {},
   "outputs": [],
   "source": [
    "%%capture\n",
    "data_dict = get_data(stoich_i=stoich_i)\n",
    "\n",
    "models_list = data_dict[\"models_list\"]\n",
    "# layout = data_dict[\"layout\"]\n",
    "sliders_dict = data_dict[\"sliders_dict\"]\n",
    "get_slider_step_i = data_dict[\"get_slider_step_i\"]"
   ]
  },
  {
   "cell_type": "code",
   "execution_count": 4,
   "metadata": {},
   "outputs": [],
   "source": [
    "path_i = os.path.join(\n",
    "    os.environ[\"PROJ_irox\"],\n",
    "    \"data/ml_irox_data\",\n",
    "    \"unique_ids.csv\")\n",
    "df_ids = pd.read_csv(path_i)"
   ]
  },
  {
   "cell_type": "code",
   "execution_count": 5,
   "metadata": {},
   "outputs": [],
   "source": [
    "df_tmp = models_list[-1]\n",
    "index_list = list(df_tmp[df_tmp[\"computed\"] == False][0:50].index)"
   ]
  },
  {
   "cell_type": "code",
   "execution_count": 26,
   "metadata": {},
   "outputs": [],
   "source": [
    "\n",
    "unique_id_to_old_id = dict(zip(\n",
    "    df_ids[\"unique_ids\"],\n",
    "    df_ids[\"id\"],\n",
    "    ))\n",
    "\n",
    "# unique_id_to_old_id"
   ]
  },
  {
   "cell_type": "code",
   "execution_count": 29,
   "metadata": {},
   "outputs": [],
   "source": [
    "old_ids = []\n",
    "for index_i in index_list:\n",
    "    old_id_i = unique_id_to_old_id[index_i]\n",
    "    old_ids.append(old_id_i)\n",
    "\n",
    "# old_ids\n",
    "\n",
    "directory = \"out_dir\"\n",
    "if not os.path.exists(directory):\n",
    "    os.makedirs(directory)\n",
    "\n",
    "import pickle\n",
    "with open(os.path.join(directory, \"iro2_ids.pickle\"), \"wb\") as fle:\n",
    "    pickle.dump(old_ids, fle)"
   ]
  },
  {
   "cell_type": "raw",
   "metadata": {},
   "source": [
    "\n",
    "\n",
    "\n",
    "\n"
   ]
  },
  {
   "cell_type": "code",
   "execution_count": 8,
   "metadata": {},
   "outputs": [],
   "source": [
    "import sys\n",
    "\n",
    "sys.path.insert(0, os.path.join(os.environ[\"PROJ_irox\"], \"data\"))\n",
    "\n",
    "from proj_data_irox import data_dir_name, get_relative_path_to_proj"
   ]
  },
  {
   "cell_type": "code",
   "execution_count": 9,
   "metadata": {},
   "outputs": [
    {
     "name": "stdout",
     "output_type": "stream",
     "text": [
      "workflow/ml_modelling/00_ml_workflow/190611_new_workflow/misc_analysis\n"
     ]
    }
   ],
   "source": [
    "rel_path = get_relative_path_to_proj(os.getcwd())\n",
    "\n",
    "print(rel_path)"
   ]
  },
  {
   "cell_type": "code",
   "execution_count": 25,
   "metadata": {},
   "outputs": [
    {
     "data": {
      "text/plain": [
       "'01_norskov/PROJECT_DATA/04_IrOx_surfaces_OER/repo_output/workflow/ml_modelling/00_ml_workflow/190611_new_workflow/misc_analysis'"
      ]
     },
     "execution_count": 25,
     "metadata": {},
     "output_type": "execute_result"
    }
   ],
   "source": [
    "proj_data_dir = os.path.join(os.environ[\"PROJ_DATA\"], data_dir_name)\n",
    "\n",
    "\n",
    "os.path.join(os.path.join(proj_data_dir, \"repo_output\"), rel_path)\n",
    "\n",
    "rel_path_to_db = proj_data_dir.replace(os.environ[\"dropbox\"] + \"/\", \"\")\n",
    "\n",
    "# print(rel_path_to_db)\n",
    "\n",
    "\n",
    "path_for_rclone = os.path.join(os.path.join(rel_path_to_db, \"repo_output\"), rel_path)\n",
    "\n",
    "path_for_rclone"
   ]
  },
  {
   "cell_type": "code",
   "execution_count": 37,
   "metadata": {
    "jupyter": {
     "source_hidden": true
    }
   },
   "outputs": [
    {
     "data": {
      "text/plain": [
       "'workflow/ml_modelling/00_ml_workflow/190611_new_workflow/misc_analysis'"
      ]
     },
     "execution_count": 37,
     "metadata": {},
     "output_type": "execute_result"
    }
   ],
   "source": [
    "proj_data_dir\n",
    "\n",
    "rel_path_to_db\n",
    "\n",
    "rel_path"
   ]
  },
  {
   "cell_type": "code",
   "execution_count": 45,
   "metadata": {},
   "outputs": [
    {
     "data": {
      "text/plain": [
       "0"
      ]
     },
     "execution_count": 45,
     "metadata": {},
     "output_type": "execute_result"
    }
   ],
   "source": [
    "rclone_bash_comm = \"rclone copy\" + \\\n",
    "\" \" + \\\n",
    "os.path.join(directory, \"iro2_ids.pickle\") + \\\n",
    "\" \" + \\\n",
    "\"raul_dropbox:\" + \\\n",
    "path_for_rclone\n",
    "\n",
    "\n",
    "os.system(rclone_bash_comm)\n",
    "\n",
    "# print(rclone_bash_comm)"
   ]
  }
 ],
 "metadata": {
  "kernelspec": {
   "display_name": "Python [conda env:PROJ_IrOx_Active_Learning_OER]",
   "language": "python",
   "name": "conda-env-PROJ_IrOx_Active_Learning_OER-py"
  },
  "language_info": {
   "codemirror_mode": {
    "name": "ipython",
    "version": 3
   },
   "file_extension": ".py",
   "mimetype": "text/x-python",
   "name": "python",
   "nbconvert_exporter": "python",
   "pygments_lexer": "ipython3",
   "version": "3.6.9"
  }
 },
 "nbformat": 4,
 "nbformat_minor": 4
}
