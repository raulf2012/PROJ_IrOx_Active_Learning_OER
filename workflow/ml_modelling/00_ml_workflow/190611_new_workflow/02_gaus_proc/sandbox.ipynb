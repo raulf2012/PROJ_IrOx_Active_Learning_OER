{
 "cells": [
  {
   "cell_type": "code",
   "execution_count": null,
   "metadata": {},
   "outputs": [],
   "source": [
    "import pickle\n",
    "import os\n",
    "path_i = os.path.join(\n",
    "    # os.environ[\"\"],\n",
    "    \"out_data/temp.pickle\",\n",
    "    )\n",
    "with open(path_i, \"rb\") as fle:\n",
    "    data = pickle.load(fle)\n",
    "    \n",
    "\n"
   ]
  },
  {
   "cell_type": "code",
   "execution_count": null,
   "metadata": {},
   "outputs": [],
   "source": [
    "df_bulk_dft = data[\"df_bulk_dft\"]\n",
    "model = data[\"model\"]"
   ]
  },
  {
   "cell_type": "code",
   "execution_count": null,
   "metadata": {},
   "outputs": [],
   "source": [
    "model"
   ]
  },
  {
   "cell_type": "code",
   "execution_count": null,
   "metadata": {},
   "outputs": [],
   "source": [
    "assert False"
   ]
  },
  {
   "cell_type": "code",
   "execution_count": null,
   "metadata": {
    "jupyter": {}
   },
   "outputs": [],
   "source": [
    "# import colorlover as cl\n",
    "# from IPython.display import HTML\n",
    "\n",
    "\n",
    "# bupu = cl.scales['9']['seq']['BuPu']\n",
    "# bupu500 = cl.interp(bupu, 500 ) # Map color scale to 500 bins\n",
    "\n",
    "\n",
    "# HTML(cl.to_html(bupu500))\n",
    "\n",
    "# # import parula as par\n",
    "# import matplotlib\n",
    "# from matplotlib import cm\n",
    "# import numpy as np\n",
    "\n",
    "# magma_cmap = matplotlib.cm.get_cmap('magma')\n",
    "# viridis_cmap = matplotlib.cm.get_cmap('viridis')\n",
    "\n",
    "# viridis_cmap\n",
    "\n",
    "# # import parula as par\n",
    "# import matplotlib\n",
    "# from matplotlib import cm\n",
    "# import numpy as np\n",
    "\n",
    "# magma_cmap = matplotlib.cm.get_cmap('magma')\n",
    "# viridis_cmap = matplotlib.cm.get_cmap('viridis')\n",
    "# # parula_cmap = par.parula_map\n",
    "\n",
    "# viridis_rgb = []\n",
    "# magma_rgb = []\n",
    "# parula_rgb = []\n",
    "# norm = matplotlib.colors.Normalize(vmin=0, vmax=255)\n",
    "\n",
    "# for i in range(0, 255):\n",
    "#        k = matplotlib.colors.colorConverter.to_rgb(magma_cmap(norm(i)))\n",
    "#        magma_rgb.append(k)\n",
    "\n",
    "# for i in range(0, 255):\n",
    "#        k = matplotlib.colors.colorConverter.to_rgb(viridis_cmap(norm(i)))\n",
    "#        viridis_rgb.append(k)\n",
    "\n",
    "# # for i in range(0, 255):\n",
    "# #        k = matplotlib.colors.colorConverter.to_rgb(parula_cmap(norm(i)))\n",
    "# #        parula_rgb.append(k)\n",
    "\n",
    "# def matplotlib_to_plotly(cmap, pl_entries):\n",
    "#     h = 1.0/(pl_entries-1)\n",
    "#     pl_colorscale = []\n",
    "\n",
    "#     for k in range(pl_entries):\n",
    "#         C = map(np.uint8, np.array(cmap(k*h)[:3])*255)\n",
    "#         C = list(C)\n",
    "#         pl_colorscale.append([k*h, 'rgb'+str((C[0], C[1], C[2]))])\n",
    "\n",
    "#     return pl_colorscale\n",
    "\n",
    "# # magma = matplotlib_to_plotly(magma_cmap, 255)\n",
    "# viridis = matplotlib_to_plotly(viridis_cmap, 255)\n",
    "# # parula = matplotlib_to_plotly(parula_cmap, 255)\n",
    "\n",
    "# # color=df_bulk_dft[\"energy_pa\"],\n",
    "\n",
    "# # colorbar=dict(\n",
    "# #     title=\"Colorbar\"\n",
    "# #     ),\n",
    "# # colorscale=viridis,\n",
    "\n",
    "# # cmap = viridis_cmap\n",
    "# # pl_entries = 255\n",
    "\n",
    "\n",
    "# # h = 1.0/(pl_entries-1)\n",
    "# # pl_colorscale = []\n",
    "\n",
    "# # for k in range(pl_entries):\n",
    "# #     C = map(np.uint8, np.array(cmap(k*h)[:3])*255)\n",
    "# #     C = list(C)\n",
    "# #     pl_colorscale.append([k*h, 'rgb'+str((C[0], C[1], C[2]))])\n",
    "\n",
    "# # # list(C)\n",
    "\n",
    "# # viridis_rgb"
   ]
  },
  {
   "cell_type": "code",
   "execution_count": null,
   "metadata": {},
   "outputs": [],
   "source": [
    "df_bulk_dft = data\n",
    "\n",
    "\n",
    "df_bulk_dft = df_bulk_dft.sort_values(\"energy_pa\")\n",
    "df_bulk_dft[\"energy_order_index\"] = [i for i in range(df_bulk_dft.shape[0])]\n",
    "df_bulk_dft"
   ]
  }
 ],
 "metadata": {
  "kernelspec": {
   "display_name": "Python [conda env:PROJ_IrOx_Active_Learning_OER]",
   "language": "python",
   "name": "conda-env-PROJ_IrOx_Active_Learning_OER-py"
  },
  "language_info": {
   "codemirror_mode": {
    "name": "ipython",
    "version": 3
   },
   "file_extension": ".py",
   "mimetype": "text/x-python",
   "name": "python",
   "nbconvert_exporter": "python",
   "pygments_lexer": "ipython3",
   "version": "3.6.9"
  }
 },
 "nbformat": 4,
 "nbformat_minor": 4
}
