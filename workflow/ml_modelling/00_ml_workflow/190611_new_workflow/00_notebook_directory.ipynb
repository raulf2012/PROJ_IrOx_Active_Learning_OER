{
 "cells": [
  {
   "cell_type": "markdown",
   "metadata": {},
   "source": [
    "# Analysis Notebooks:\n",
    "----"
   ]
  },
  {
   "cell_type": "markdown",
   "metadata": {},
   "source": [
    "* 01_data_coll_feat\n",
    "  * [01_data_coll_featurization__v2.ipynb](01_data_coll_feat/01_data_coll_featurization__v2.ipynb)\n",
    "* 02_gaus_proc\n",
    "* 03_animation\n",
    "* 04_final_ml_plots\n",
    "* misc_analysis\n",
    "  * [best_jobs_to_calc.ipynb](misc_analysis/best_jobs_to_calc.ipynb)"
   ]
  },
  {
   "cell_type": "code",
   "execution_count": null,
   "metadata": {},
   "outputs": [],
   "source": []
  }
 ],
 "metadata": {
  "kernelspec": {
   "display_name": "Python 3",
   "language": "python",
   "name": "python3"
  },
  "language_info": {
   "codemirror_mode": {
    "name": "ipython",
    "version": 3
   },
   "file_extension": ".py",
   "mimetype": "text/x-python",
   "name": "python",
   "nbconvert_exporter": "python",
   "pygments_lexer": "ipython3",
   "version": "3.7.3"
  }
 },
 "nbformat": 4,
 "nbformat_minor": 4
}
