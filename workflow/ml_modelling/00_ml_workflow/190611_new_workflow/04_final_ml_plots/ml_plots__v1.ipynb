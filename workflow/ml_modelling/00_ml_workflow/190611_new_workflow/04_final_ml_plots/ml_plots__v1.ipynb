{
 "cells": [
  {
   "cell_type": "markdown",
   "metadata": {},
   "source": [
    "# Creating ML Congergence Animation for IrOx Systems\n",
    "---"
   ],
   "execution_count": null,
   "outputs": []
  },
  {
   "cell_type": "markdown",
   "metadata": {},
   "source": [
    "# Import Modules"
   ],
   "execution_count": null,
   "outputs": []
  },
  {
   "cell_type": "code",
   "execution_count": null,
   "metadata": {},
   "outputs": [],
   "source": [
    "import time\n",
    "import os\n",
    "\n",
    "import copy\n",
    "\n",
    "import pickle\n",
    "import pandas as pd\n",
    "import chart_studio.plotly as py\n",
    "import plotly.graph_objects as go\n",
    "\n",
    "# #############################################################################\n",
    "from plotting.my_plotly import my_plotly_plot\n",
    "\n",
    "# #############################################################################\n",
    "from layout import get_layout"
   ]
  },
  {
   "cell_type": "markdown",
   "metadata": {},
   "source": [
    "# Script Inputs"
   ],
   "execution_count": null,
   "outputs": []
  },
  {
   "cell_type": "code",
   "execution_count": null,
   "metadata": {},
   "outputs": [],
   "source": [
    "# stoich_i = \"iro2\"\n",
    "stoich_i = \"iro3\"\n",
    "\n",
    "al_gen = -1"
   ]
  },
  {
   "cell_type": "markdown",
   "metadata": {},
   "source": [
    "# Read AL Data"
   ],
   "execution_count": null,
   "outputs": []
  },
  {
   "cell_type": "code",
   "execution_count": null,
   "metadata": {},
   "outputs": [],
   "source": [
    "al_output_data_path = os.path.join(\n",
    "    os.environ[\"PROJ_irox\"],\n",
    "    \"workflow/ml_modelling\", \"00_ml_workflow/190611_new_workflow\",\n",
    "    \"02_gaus_proc/out_data\", \"data_dict_AB3.pickle\")\n",
    "with open(al_output_data_path, \"rb\") as fle:\n",
    "    al_data_dict = pickle.load(fle)"
   ]
  },
  {
   "cell_type": "code",
   "execution_count": null,
   "metadata": {},
   "outputs": [],
   "source": [
    "data_index_i = list(al_data_dict.keys())[-1]\n",
    "data_i = al_data_dict[data_index_i]\n",
    "\n",
    "model = data_i[\"model\"]\n",
    "gp_instance = data_i[\"gp_instance\"]\n",
    "fig = data_i[\"fig\"]\n",
    "ids_needed_but_not_avail = data_i[\"ids_needed_but_not_avail\"]"
   ]
  },
  {
   "cell_type": "markdown",
   "metadata": {},
   "source": [
    "# Plot Layout"
   ],
   "execution_count": null,
   "outputs": []
  },
  {
   "cell_type": "code",
   "execution_count": null,
   "metadata": {},
   "outputs": [],
   "source": [
    "fig_0 = fig\n",
    "\n",
    "layout = get_layout(model)\n",
    "\n",
    "fig_0.layout.update(layout)\n",
    "\n",
    "my_plotly_plot(\n",
    "    figure=fig_0,\n",
    "    plot_name=\"main_plot\", write_html=False,\n",
    "    write_png=False, write_pdf=True,\n",
    "    write_svg=False, upload_plot=False)"
   ]
  },
  {
   "cell_type": "code",
   "execution_count": null,
   "metadata": {},
   "outputs": [],
   "source": [
    "# Number of systems to show in the zoomed in plot\n",
    "num_sys_zoomed = 20\n",
    "\n",
    "model_nth_most_stable = model.sort_values(\"prediction_unstandardized\").iloc[0:num_sys_zoomed]\n",
    "\n",
    "e_min_zoomed = model_nth_most_stable[\"prediction_unstandardized\"].min()\n",
    "e_max_zoomed = model_nth_most_stable[\"prediction_unstandardized\"].max()\n",
    "\n",
    "extra_space_y = abs(0.05 * (e_max_zoomed - e_min_zoomed))\n",
    "layout_1 = go.Layout(\n",
    "    xaxis=go.layout.XAxis(\n",
    "        range=[0 - 1, num_sys_zoomed + 1],\n",
    "        showticklabels=False,\n",
    "        # ayout.xaxis.showticklabels property to False.\n",
    "        ),\n",
    "    yaxis=go.layout.YAxis(\n",
    "        range=[e_min_zoomed - extra_space_y, e_max_zoomed + extra_space_y],\n",
    "        showticklabels=False,\n",
    "        ),\n",
    "\n",
    "    width=680.314960638 / 3,\n",
    "    height=226.77165354599998 / 3,\n",
    "    annotations=None,\n",
    "    margin={'b': 15, 'l': 20, 'r': 5, 't': 5},\n",
    "    )"
   ]
  },
  {
   "cell_type": "code",
   "execution_count": null,
   "metadata": {},
   "outputs": [],
   "source": [
    "fig_1 = copy.deepcopy(fig)\n",
    "fig_1.layout.update(layout_1)\n",
    "\n",
    "my_plotly_plot(\n",
    "    figure=fig_1,\n",
    "    plot_name=\"zoomed_in_plot\", write_html=False,\n",
    "    write_png=False, write_pdf=True,\n",
    "    write_svg=False, upload_plot=False)"
   ]
  },
  {
   "cell_type": "code",
   "execution_count": null,
   "metadata": {},
   "outputs": [],
   "source": [
    "# fig_1.layout[\"annotations\"] = None\n",
    "fig_1.layout\n",
    "\n",
    "\n",
    "{'b': 50, 'l': 60, 'r': 5, 't': 10}\n",
    "\n",
    "# width\n",
    "# 680.314960638\n",
    "# height\n",
    "# 226.77165354599998"
   ]
  },
  {
   "cell_type": "raw",
   "metadata": {},
   "source": [
    "\n",
    "\n",
    "\n"
   ],
   "execution_count": null,
   "outputs": []
  },
  {
   "cell_type": "code",
   "execution_count": null,
   "metadata": {
    "jupyter": {}
   },
   "outputs": [],
   "source": [
    "# frames = []; data = []\n",
    "# for i_cnt, (key, val) in enumerate(al_data_dict.items()):\n",
    "#     col_list_i = []\n",
    "#     for col_j in columns_list: col_list_i.append(col_j + \"_\" + str(i_cnt))\n",
    "\n",
    "#     key_i = list(al_data_dict.keys())[i_cnt]\n",
    "#     trace_i = list(al_data_dict[key_i][\"fig\"].data)\n",
    "\n",
    "#     if i_cnt == 0: data.extend(trace_i)\n",
    "\n",
    "#     data_i = []; data_i.extend(trace_i)\n",
    "\n",
    "#     frame_i = go.Frame(data=data_i, name=str(i_cnt))\n",
    "#     frames.append(frame_i)\n",
    "\n",
    "#     slider_step_i = get_slider_step_i(i_cnt, duration_short)\n",
    "#     sliders_dict['steps'].append(slider_step_i)\n",
    "\n",
    "# layout[\"showlegend\"] = True\n",
    "\n",
    "# figure = go.Figure(\n",
    "#     data=data,\n",
    "#     layout=layout,\n",
    "#     frames=frames)\n",
    "# figure['layout']['sliders'] = [sliders_dict]\n",
    "\n",
    "# py.icreate_animations(\n",
    "#     figure,\n",
    "#     filename=os.path.join(save_dir,\n",
    "#         \"FIG_ml_conv_iro3_\" + str(time.time())))"
   ]
  }
 ],
 "metadata": {
  "jupytext": {
   "formats": "ipynb,py:light"
  },
  "kernelspec": {
   "display_name": "Python [conda env:PROJ_IrOx_Active_Learning_OER]",
   "language": "python",
   "name": "conda-env-PROJ_IrOx_Active_Learning_OER-py"
  },
  "language_info": {
   "codemirror_mode": {
    "name": "ipython",
    "version": 3
   },
   "file_extension": ".py",
   "mimetype": "text/x-python",
   "name": "python",
   "nbconvert_exporter": "python",
   "pygments_lexer": "ipython3",
   "version": "3.6.9"
  }
 },
 "nbformat": 4,
 "nbformat_minor": 4
}
