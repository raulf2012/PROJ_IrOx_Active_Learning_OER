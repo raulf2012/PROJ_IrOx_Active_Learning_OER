{
 "cells": [
  {
   "cell_type": "code",
   "execution_count": null,
   "metadata": {},
   "outputs": [],
   "source": []
  },
  {
   "cell_type": "markdown",
   "metadata": {},
   "source": [
    "# Cumaltive plots"
   ],
   "execution_count": null,
   "outputs": []
  },
  {
   "cell_type": "code",
   "execution_count": null,
   "metadata": {
    "jupyter": {}
   },
   "outputs": [],
   "source": [
    "y_tot_sum = AL.CandidateSpace.Y_data_series[\"y_real\"].sum()\n",
    "\n",
    "Y_data_series = AL.CandidateSpace.Y_data_series"
   ]
  },
  {
   "cell_type": "code",
   "execution_count": null,
   "metadata": {
    "jupyter": {}
   },
   "outputs": [],
   "source": [
    "y_min = Y_data_series[\"y_real\"].min()\n",
    "y_max = Y_data_series[\"y_real\"].max()\n",
    "\n",
    "m = (1 - 0) / (y_min - y_max)\n",
    "b = y_max / (y_max - y_min)\n",
    "\n",
    "\n",
    "Y_data_series[\"y_real_scaled\"] = m * Y_data_series[\"y_real\"] + b"
   ]
  },
  {
   "cell_type": "code",
   "execution_count": null,
   "metadata": {
    "jupyter": {}
   },
   "outputs": [],
   "source": [
    "# #############################################################################\n",
    "# #############################################################################\n",
    "Y_data_series_sorted = copy.deepcopy(Y_data_series).sort_values(\"y_real_scaled\", ascending=False)\n",
    "\n",
    "y_gen_summed_ideal = []\n",
    "for i_cnt, (gen_i, AL_i) in enumerate(AL.al_gen_dict.items()):\n",
    "    acq_size_i = len(AL_i.prev_acquisition)\n",
    "\n",
    "    Y_data_acq_i = Y_data_series_sorted.iloc[0:acq_size_i]\n",
    "    \n",
    "    y_gen_sum_i = Y_data_acq_i[\"y_real_scaled\"].sum()\n",
    "    y_gen_summed_ideal.append(y_gen_sum_i)\n",
    "\n",
    "    # Drop acquired rows\n",
    "    Y_data_series_sorted = Y_data_series_sorted.drop(\n",
    "        labels=Y_data_acq_i.index.tolist(), axis=0)\n",
    "\n",
    "# #############################################################################\n",
    "# #############################################################################\n",
    "Y_data_series_sorted = copy.deepcopy(Y_data_series).sort_values(\"y_real_scaled\", ascending=True)\n",
    "\n",
    "y_gen_summed_nonideal = []\n",
    "for i_cnt, (gen_i, AL_i) in enumerate(AL.al_gen_dict.items()):\n",
    "    acq_size_i = len(AL_i.prev_acquisition)\n",
    "\n",
    "    Y_data_acq_i = Y_data_series_sorted.iloc[0:acq_size_i]\n",
    "    \n",
    "    y_gen_sum_i = Y_data_acq_i[\"y_real_scaled\"].sum()\n",
    "    y_gen_summed_nonideal.append(y_gen_sum_i)\n",
    "\n",
    "    # Drop acquired rows\n",
    "    Y_data_series_sorted = Y_data_series_sorted.drop(\n",
    "        labels=Y_data_acq_i.index.tolist(), axis=0)\n",
    "\n",
    "# #############################################################################\n",
    "# #############################################################################\n",
    "y_gen_summed_al = []\n",
    "for i_cnt, (gen_i, AL_i) in enumerate(AL.al_gen_dict.items()):\n",
    "    # #########################################################################\n",
    "    y_gen_sum_i = 0.\n",
    "    for id_i in AL_i.prev_acquisition:\n",
    "        y_i = Y_data_series.loc[id_i][\"y_real_scaled\"]\n",
    "        y_gen_sum_i += y_i\n",
    "\n",
    "    y_gen_summed_al.append(y_gen_sum_i)"
   ]
  },
  {
   "cell_type": "code",
   "execution_count": null,
   "metadata": {
    "jupyter": {}
   },
   "outputs": [],
   "source": [
    "# print(\"y_tot_sum:\", -1. * y_tot_sum)\n",
    "\n",
    "print(np.sum(y_gen_summed_al))\n",
    "print(np.sum(y_gen_summed_ideal))"
   ]
  },
  {
   "cell_type": "code",
   "execution_count": null,
   "metadata": {
    "jupyter": {}
   },
   "outputs": [],
   "source": [
    "# #############################################################################\n",
    "y_cumulative_al = []\n",
    "for i_cnt, y_i in enumerate(y_gen_summed_al):\n",
    "    if i_cnt == 0: y_cumulative_al.append(y_i)\n",
    "    else: y_cumulative_al.append(y_i + y_cumulative_al[-1])\n",
    "y_cumulative_al = np.array(y_cumulative_al)\n",
    "\n",
    "\n",
    "# #############################################################################\n",
    "y_cumulative_ideal = []\n",
    "for i_cnt, y_i in enumerate(y_gen_summed_ideal):\n",
    "    if i_cnt == 0: y_cumulative_ideal.append(y_i)\n",
    "    else: y_cumulative_ideal.append(y_i + y_cumulative_ideal[-1])\n",
    "y_cumulative_ideal = np.array(y_cumulative_ideal)\n",
    "\n",
    "\n",
    "# #############################################################################\n",
    "y_cumulative_nonideal = []\n",
    "for i_cnt, y_i in enumerate(y_gen_summed_nonideal):\n",
    "    if i_cnt == 0: y_cumulative_nonideal.append(y_i)\n",
    "    else: y_cumulative_nonideal.append(y_i + y_cumulative_nonideal[-1])\n",
    "y_cumulative_nonideal = np.array(y_cumulative_nonideal)"
   ]
  },
  {
   "cell_type": "code",
   "execution_count": null,
   "metadata": {
    "jupyter": {}
   },
   "outputs": [],
   "source": [
    "y_cumulative_al = y_cumulative_al / y_cumulative_al.max()\n",
    "y_cumulative_ideal = y_cumulative_ideal / y_cumulative_ideal.max()\n",
    "y_cumulative_nonideal = y_cumulative_nonideal / y_cumulative_nonideal.max()"
   ]
  },
  {
   "cell_type": "code",
   "execution_count": null,
   "metadata": {
    "jupyter": {}
   },
   "outputs": [],
   "source": [
    "import chart_studio.plotly as py\n",
    "import plotly.graph_objs as go\n",
    "import os\n",
    "\n",
    "\n",
    "trace = go.Scatter(\n",
    "    y=y_cumulative_al,\n",
    "    mode=\"markers\",\n",
    "    name=\"AL\",\n",
    "    )\n",
    "\n",
    "trace_ideal = go.Scatter(\n",
    "    y=y_cumulative_ideal,\n",
    "    mode=\"markers\",\n",
    "    name=\"ideal\",\n",
    "    )\n",
    "\n",
    "\n",
    "trace_nonideal = go.Scatter(\n",
    "    y=y_cumulative_nonideal,\n",
    "    mode=\"markers\",\n",
    "    name=\"non-ideal\",\n",
    "    )\n",
    "\n",
    "data = [trace, trace_ideal, trace_nonideal]\n",
    "\n",
    "fig = go.Figure(data=data)\n",
    "fig.show()"
   ]
  },
  {
   "cell_type": "code",
   "execution_count": null,
   "metadata": {
    "jupyter": {}
   },
   "outputs": [],
   "source": [
    "from scipy.integrate import simps\n",
    "from numpy import trapz\n",
    "\n",
    "a = len(y_cumulative_al)\n",
    "b = len(y_cumulative_ideal)\n",
    "c = len(y_cumulative_nonideal)\n",
    "assert a == b == c, \"IJFIDJS\"\n",
    "\n",
    "area_al = []\n",
    "area_ideal = []\n",
    "area_nonideal = []\n",
    "for i in range(len(y_cumulative_al)):\n",
    "    area_al_i = trapz(y_cumulative_al[0:i], x=None, dx=1.0)\n",
    "    area_ideal_i = trapz(y_cumulative_ideal[0:i], x=None, dx=1.0)\n",
    "    area_nonideal_i = trapz(y_cumulative_nonideal[0:i], x=None, dx=1.0)\n",
    "    \n",
    "    area_al.append(area_al_i)\n",
    "    area_ideal.append(area_ideal_i)\n",
    "    area_nonideal.append(area_nonideal_i)"
   ]
  },
  {
   "cell_type": "code",
   "execution_count": null,
   "metadata": {
    "jupyter": {}
   },
   "outputs": [],
   "source": [
    "data = []\n",
    "\n",
    "trace_i = go.Scatter(\n",
    "    y=(np.array(area_al) - np.array(area_nonideal)) / (np.array(area_ideal) - np.array(area_nonideal)),\n",
    "    mode=\"markers\",\n",
    "    name=\"ratio\",\n",
    "    )\n",
    "data.append(trace_i)\n",
    "\n",
    "\n",
    "trace_i = go.Scatter(\n",
    "    y=(np.array(area_al) - np.array(area_nonideal)),\n",
    "    mode=\"markers\",\n",
    "    name=\"AL\",\n",
    "    )\n",
    "data.append(trace_i)\n",
    "\n",
    "trace_i = go.Scatter(\n",
    "    y=(np.array(area_ideal) - np.array(area_nonideal)),\n",
    "    mode=\"markers\",\n",
    "    name=\"ideal\",\n",
    "    )\n",
    "data.append(trace_i)\n",
    "\n",
    "\n",
    "fig = go.Figure(data=data)\n",
    "fig.show()"
   ]
  },
  {
   "cell_type": "code",
   "execution_count": null,
   "metadata": {
    "jupyter": {}
   },
   "outputs": [],
   "source": [
    "np.array(area_al) - np.array(area_nonideal)"
   ]
  }
 ],
 "metadata": {
  "kernelspec": {
   "display_name": "Python [conda env:research-new]",
   "language": "python",
   "name": "conda-env-research-new-py"
  },
  "language_info": {
   "codemirror_mode": {
    "name": "ipython",
    "version": 3
   },
   "file_extension": ".py",
   "mimetype": "text/x-python",
   "name": "python",
   "nbconvert_exporter": "python",
   "pygments_lexer": "ipython3",
   "version": "3.6.8"
  }
 },
 "nbformat": 4,
 "nbformat_minor": 4
}
