{
 "cells": [
  {
   "cell_type": "markdown",
   "metadata": {},
   "source": [
    "# Gaussian Process Regression on IrO3"
   ],
   "execution_count": null,
   "outputs": []
  },
  {
   "cell_type": "markdown",
   "metadata": {},
   "source": [
    "# Import Modules"
   ],
   "execution_count": null,
   "outputs": []
  },
  {
   "cell_type": "code",
   "execution_count": null,
   "metadata": {
    "jupyter": {}
   },
   "outputs": [],
   "source": [
    "import os\n",
    "import sys\n",
    "\n",
    "import chart_studio.plotly as py\n",
    "import plotly.graph_objs as go\n",
    "\n",
    "import numpy as np\n",
    "import pandas as pd\n",
    "from catlearn.regression import GaussianProcess\n",
    "import matplotlib.pyplot as plt"
   ]
  },
  {
   "cell_type": "code",
   "execution_count": null,
   "metadata": {},
   "outputs": [],
   "source": [
    "sys.path.insert(0, os.path.join(os.environ[\"PROJ_irox\"], \"data\"))\n",
    "from proj_data_irox import unique_ids_path\n",
    "\n",
    "df_id = pd.read_csv(unique_ids_path)\n",
    "\n",
    "id_mapp_iro2 = dict(zip(\n",
    "    df_id[df_id[\"stoich\"] == \"AB2\"][\"id\"],\n",
    "    df_id[df_id[\"stoich\"] == \"AB2\"][\"unique_ids\"]))\n",
    "\n",
    "id_mapp_iro3 = dict(zip(\n",
    "    df_id[df_id[\"stoich\"] == \"AB3\"][\"id\"],\n",
    "    df_id[df_id[\"stoich\"] == \"AB3\"][\"unique_ids\"]))"
   ]
  },
  {
   "cell_type": "markdown",
   "metadata": {},
   "source": [
    "# Script Inputs"
   ],
   "execution_count": null,
   "outputs": []
  },
  {
   "cell_type": "code",
   "execution_count": null,
   "metadata": {},
   "outputs": [],
   "source": [
    "stoich_i = \"AB2\""
   ]
  },
  {
   "cell_type": "markdown",
   "metadata": {},
   "source": [
    "# Read Data"
   ],
   "execution_count": null,
   "outputs": []
  },
  {
   "cell_type": "code",
   "execution_count": null,
   "metadata": {},
   "outputs": [],
   "source": [
    "train_x = pd.read_csv('./RAW/train_x.csv', sep=',', header=None)\n",
    "train_y = pd.read_csv('./RAW/train_y.csv', sep=',', header=None)\n",
    "\n",
    "# test_data = (pd.read_csv('./RAW/test_features.csv', sep=',',\n",
    "#              header=None)).drop([0], axis=1)\n",
    "\n",
    "test_data = pd.read_csv(\n",
    "    './RAW/test_features.csv',\n",
    "    sep=',',\n",
    "    header=None,\n",
    "    )\n",
    "\n",
    "test_data = test_data.sort_values(0)\n",
    "test_data = test_data.rename(columns={0: \"id_old\"})\n",
    "\n",
    "\n",
    "oqmd_ids = list(range(259, 268 + 1))\n",
    "mask = np.logical_not(test_data[\"id_old\"].isin(oqmd_ids))\n",
    "test_data = test_data[mask]\n",
    "\n",
    "# Removing duplicates\n",
    "row_list = []\n",
    "for i in test_data[\"id_old\"].unique():\n",
    "    row_i = test_data[test_data[\"id_old\"] == i].iloc[0]\n",
    "    row_list.append(row_i)\n",
    "\n",
    "test_data = pd.DataFrame(row_list)"
   ]
  },
  {
   "cell_type": "code",
   "execution_count": null,
   "metadata": {},
   "outputs": [],
   "source": [
    "def method(row_i, id_mapp):\n",
    "#     print(row_i)\n",
    "    id_old = int(row_i[\"id_old\"])\n",
    "    id_unique = id_mapp[id_old]\n",
    "    return(id_unique)\n",
    "\n",
    "df_i = test_data\n",
    "df_i[\"id\"] = df_i.apply(\n",
    "    method, axis=1,\n",
    "    args=(id_mapp_iro3,))\n",
    "test_data = df_i\n",
    "\n",
    "test_data = test_data.set_index(\"id\")"
   ]
  },
  {
   "cell_type": "markdown",
   "metadata": {},
   "source": [
    "# Gaussian Process"
   ],
   "execution_count": null,
   "outputs": []
  },
  {
   "cell_type": "code",
   "execution_count": null,
   "metadata": {},
   "outputs": [],
   "source": [
    "# Define initial prediction parameters.\n",
    "noise = 0.0042  # Regularisation parameter.\n",
    "sigma_l = 6.3917  # Length scale parameter.\n",
    "sigma_f = 0.5120  # Scaling parameter.\n",
    "alpha = 0.3907  # Alpha parameter.\n",
    "\n",
    "kdict = [\n",
    "    {\n",
    "        'type': 'quadratic',\n",
    "        'dimension': 'single',\n",
    "        'slope': sigma_l,\n",
    "        'scaling': sigma_f,\n",
    "        'degree':alpha\n",
    "        }\n",
    "    ]\n",
    "\n",
    "gp = GaussianProcess(\n",
    "    kernel_list=kdict, regularization=noise, train_fp=train_x,\n",
    "    train_target=train_y, optimize_hyperparameters=True,\n",
    "    scale_data=False)\n",
    "\n",
    "print('Optimized kernel:', gp.kernel_list)\n",
    "\n",
    "# Optimize hyperparameters:\n",
    "gp.optimize_hyperparameters(global_opt=False)"
   ]
  },
  {
   "cell_type": "code",
   "execution_count": null,
   "metadata": {},
   "outputs": [],
   "source": [
    "gp.kernel_list"
   ]
  },
  {
   "cell_type": "markdown",
   "metadata": {},
   "source": [
    "# Predictions"
   ],
   "execution_count": null,
   "outputs": []
  },
  {
   "cell_type": "code",
   "execution_count": null,
   "metadata": {},
   "outputs": [],
   "source": [
    "# Do the optimized predictions.\n",
    "# pred = gp.predict(test_fp=test_data[:259], uncertainty=True)\n",
    "pred = gp.predict(\n",
    "#     test_fp=test_data,\n",
    "    test_fp=test_data.drop(\"id_old\", axis=1),\n",
    "    uncertainty=True)\n",
    "\n",
    "prediction = np.array(pred['prediction'][:, 0])\n",
    "\n",
    "# Calculate the uncertainty of the predictions.\n",
    "uncertainty = np.array(pred['uncertainty'])\n",
    "\n",
    "# Sort predictions (ascending):\n",
    "sorted_x = np.arange(0, len(prediction))\n",
    "sorted_y = prediction[np.argsort(prediction)]\n",
    "sorted_unc = uncertainty[np.argsort(prediction)]"
   ]
  },
  {
   "cell_type": "code",
   "execution_count": null,
   "metadata": {},
   "outputs": [],
   "source": [
    "model = pd.DataFrame()\n",
    "\n",
    "model[\"prediction\"] = prediction\n",
    "model[\"uncertainty\"] = uncertainty\n",
    "\n",
    "model[\"id_old\"] = test_data[\"id_old\"].to_list()\n",
    "model[\"id_old\"] = model[\"id_old\"].astype(int)\n",
    "\n",
    "model = model.set_index(test_data.index)\n",
    "\n",
    "model_sorted = model.sort_values(\"prediction\")"
   ]
  },
  {
   "cell_type": "markdown",
   "metadata": {},
   "source": [
    "# Plotting"
   ],
   "execution_count": null,
   "outputs": []
  },
  {
   "cell_type": "code",
   "execution_count": null,
   "metadata": {},
   "outputs": [],
   "source": [
    "trace = go.Scatter(\n",
    "    y=model_sorted[\"prediction\"],\n",
    "    error_y={\n",
    "        \"type\": 'data',\n",
    "        \"array\": model_sorted[\"uncertainty\"],\n",
    "        \"visible\": True,\n",
    "        },\n",
    "    text=model_sorted[\"id_old\"],\n",
    "    mode=\"markers\")\n",
    "data = [trace]\n",
    "\n",
    "fig = go.Figure(data=data)\n",
    "fig.show()"
   ]
  },
  {
   "cell_type": "raw",
   "metadata": {},
   "source": [
    "\n",
    "\n"
   ],
   "execution_count": null,
   "outputs": []
  },
  {
   "cell_type": "code",
   "execution_count": null,
   "metadata": {
    "jupyter": {}
   },
   "outputs": [],
   "source": [
    "# train_x = (pd.read_csv('./RAW/train_x.csv', sep=',', header=None)).as_matrix()\n",
    "# train_y = (pd.read_csv('./RAW/train_y.csv', sep=',', header=None)).as_matrix()\n",
    "\n",
    "# test_data = (pd.read_csv('./RAW/test_features.csv', sep=',',\n",
    "#              header=None)).drop([0], axis=1).as_matrix()\n",
    "\n",
    "# train_x = (pd.read_csv('./RAW/train_x.csv', sep=',', header=None)).as_matrix()\n",
    "# train_y = (pd.read_csv('./RAW/train_y.csv', sep=',', header=None)).as_matrix()\n",
    "\n",
    "# test_data = (pd.read_csv('./RAW/test_features.csv', sep=',',\n",
    "#              header=None)).drop([0], axis=1).as_matrix()\n",
    "\n",
    "# # (pd.read_csv('./RAW/test_features.csv', sep=',',\n",
    "# #              header=None)).drop([0], axis=1)\n",
    "\n",
    "# # test_data.drop([\"id_old\"])\n",
    "\n",
    "# test_data.drop(\"id_old\", axis=1)\n",
    "\n",
    "# # test_data.drop?"
   ]
  },
  {
   "cell_type": "code",
   "execution_count": null,
   "metadata": {},
   "outputs": [],
   "source": [
    "# 132, 4, 118, 72, 174\n",
    "\n",
    "model_sorted[0:6][\"id_old\"].tolist()"
   ]
  },
  {
   "cell_type": "code",
   "execution_count": null,
   "metadata": {},
   "outputs": [],
   "source": [
    "test_data.drop(\"id_old\", axis=1).describe()"
   ]
  },
  {
   "cell_type": "code",
   "execution_count": null,
   "metadata": {},
   "outputs": [],
   "source": [
    "train_x.describe()"
   ]
  }
 ],
 "metadata": {
  "kernelspec": {
   "display_name": "Python 3",
   "language": "python",
   "name": "python3"
  },
  "language_info": {
   "codemirror_mode": {
    "name": "ipython",
    "version": 3
   },
   "file_extension": ".py",
   "mimetype": "text/x-python",
   "name": "python",
   "nbconvert_exporter": "python",
   "pygments_lexer": "ipython3",
   "version": "3.7.3"
  }
 },
 "nbformat": 4,
 "nbformat_minor": 4
}
