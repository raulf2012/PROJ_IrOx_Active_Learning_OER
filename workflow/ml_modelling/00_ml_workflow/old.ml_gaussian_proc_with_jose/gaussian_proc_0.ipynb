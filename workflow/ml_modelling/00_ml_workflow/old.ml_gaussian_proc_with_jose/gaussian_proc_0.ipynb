{
 "cells": [
  {
   "cell_type": "code",
   "execution_count": null,
   "metadata": {},
   "outputs": [],
   "source": [
    "import pandas as pd\n",
    "pd.set_option('display.max_rows', None)\n",
    "\n",
    "from catlearn.featurize.setup import FeatureGenerator\n",
    "from catlearn.regression import GaussianProcess\n",
    "from catlearn.regression.cost_function import get_error\n",
    "from catlearn.fingerprint.voro import VoronoiFingerprintGenerator"
   ]
  },
  {
   "cell_type": "code",
   "execution_count": null,
   "metadata": {},
   "outputs": [],
   "source": [
    "y_targets = pd.read_csv(\"Y_targerts.csv\", header=None)\n",
    "\n",
    "x_features = pd.read_csv(\"X_features.csv\", header=None)\n",
    "\n",
    "test_features = pd.read_csv(\"test_features_2.csv\", header=None)\n",
    "# test_features = test_features.drop([0], axis=1)"
   ]
  },
  {
   "cell_type": "code",
   "execution_count": null,
   "metadata": {},
   "outputs": [],
   "source": [
    "test_features"
   ]
  },
  {
   "cell_type": "code",
   "execution_count": null,
   "metadata": {},
   "outputs": [],
   "source": [
    "308 - 39 - 10"
   ]
  },
  {
   "cell_type": "code",
   "execution_count": null,
   "metadata": {},
   "outputs": [],
   "source": [
    "len(test_features[:259])"
   ]
  },
  {
   "cell_type": "code",
   "execution_count": null,
   "metadata": {},
   "outputs": [],
   "source": [
    "test_features = test_features[:259]"
   ]
  },
  {
   "cell_type": "code",
   "execution_count": null,
   "metadata": {},
   "outputs": [],
   "source": [
    "len(list(test_features))"
   ]
  },
  {
   "cell_type": "code",
   "execution_count": null,
   "metadata": {},
   "outputs": [],
   "source": [
    "sigma_f = 1.\n",
    "w1 = 1.0  # Too large widths results in a biased model.\n",
    "scaling = 1.0\n",
    "# width_bounds = ((0.01, 20.0),) * len(train_features[0])\n",
    "scaling_bounds = ((sigma_f, sigma_f),)\n",
    "reg_bounds = (1e-1, 1e-1)\n",
    "\n",
    "kdict = [{\n",
    "    'type': 'gaussian',\n",
    "    'width': w1,\n",
    "    'scaling': sigma_f,\n",
    "    'dimension': 'features',\n",
    "    }]\n",
    "\n",
    "gp = GaussianProcess(\n",
    "    train_fp=x_features.as_matrix(),\n",
    "    train_target=y_targets[0].tolist(),\n",
    "    kernel_list=kdict,\n",
    "#     gradients=None,\n",
    "\n",
    "        regularization=1e-2,  # Needs to be defined\n",
    "#     regularization=1e-1,\n",
    "#         regularization_bounds=reg_bounds,\n",
    "\n",
    "#     optimize_hyperparameters=True,\n",
    "#     scale_optimizer=False,\n",
    "#     scale_data=False,\n",
    "    )\n",
    "\n",
    "# gp.optimize_hyperparameters(global_opt=True, eval_jac=False)\n",
    "\n",
    "pred = gp.predict(\n",
    "    test_fp=test_features.as_matrix(),\n",
    "    uncertainty=True,\n",
    "    )"
   ]
  },
  {
   "cell_type": "code",
   "execution_count": null,
   "metadata": {},
   "outputs": [],
   "source": [
    "# data_final = []\n",
    "# for i in pred_list:\n",
    "#     df_i = pd.DataFrame(i)\n",
    "#     df_i[\"ind\"] = [i for i in range(len(df_i))]\n",
    "\n",
    "#     df_tmp_i = df_i.sort_values(\"prediction\")\n",
    "#     df_tmp_i[\"ind_new\"] = [i for i in range(len(df_tmp_i))]\n",
    "\n",
    "#     df_tmp_i[\"ind_old\"] = df_tmp_i[\"ind\"]\n",
    "#     df_tmp_i[\"ind\"] = df_tmp_i[\"ind_new\"]\n",
    "\n",
    "# data1 = process_data_for_plot(\n",
    "#     df_tmp_i,\n",
    "#     color0=random.choice(color_list),\n",
    "#     color1=\"black\",\n",
    "#     name=str(df_i[\"num_training\"].iloc[0]),\n",
    "#     energy_key=\"prediction\",\n",
    "#     uncertainty_key=\"uncertainty\",\n",
    "#     )\n",
    "# data_final += data1"
   ]
  },
  {
   "cell_type": "code",
   "execution_count": null,
   "metadata": {},
   "outputs": [],
   "source": [
    "layout = get_layout()\n",
    "layout[\"yaxis\"][\"range\"] = [-1., 1.]\n",
    "\n",
    "layout[\"showlegend\"] = True\n",
    "fig = dict(data=data_final, layout=layout)\n",
    "py.iplot(fig,\n",
    "    filename=os.path.join(\n",
    "        save_dir,\n",
    "        \"ml_regression_test\",\n",
    "        \"190317_iro3_ml_training\",\n",
    "        ),\n",
    "    )"
   ]
  },
  {
   "cell_type": "raw",
   "metadata": {},
   "source": [
    "\n",
    "\n",
    "\n",
    "\n",
    "\n",
    "\n",
    "\n",
    "\n",
    "p"
   ],
   "execution_count": null,
   "outputs": []
  },
  {
   "cell_type": "code",
   "execution_count": null,
   "metadata": {},
   "outputs": [],
   "source": [
    "# for i_cnt, row_i in x_features.iterrows():\n",
    "#     tmp = 42"
   ]
  }
 ],
 "metadata": {
  "kernelspec": {
   "display_name": "Python 3",
   "language": "python",
   "name": "python3"
  },
  "language_info": {
   "codemirror_mode": {
    "name": "ipython",
    "version": 3
   },
   "file_extension": ".py",
   "mimetype": "text/x-python",
   "name": "python",
   "nbconvert_exporter": "python",
   "pygments_lexer": "ipython3",
   "version": "3.6.8"
  }
 },
 "nbformat": 4,
 "nbformat_minor": 2
}
