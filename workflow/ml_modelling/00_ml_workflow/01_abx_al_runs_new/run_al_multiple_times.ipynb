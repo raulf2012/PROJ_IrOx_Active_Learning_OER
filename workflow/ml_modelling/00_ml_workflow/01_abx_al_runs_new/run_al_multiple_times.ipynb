{
 "cells": [
  {
   "cell_type": "markdown",
   "execution_count": null,
   "metadata": {},
   "outputs": [],
   "source": [
    "# Import Modules"
   ]
  },
  {
   "cell_type": "code",
   "execution_count": null,
   "metadata": {
    "Collapsed": "false"
   },
   "outputs": [],
   "source": [
    "import os\n",
    "print(os.getcwd())"
   ]
  },
  {
   "cell_type": "code",
   "execution_count": null,
   "metadata": {
    "Collapsed": "false"
   },
   "outputs": [],
   "source": [
    "%%capture\n",
    "\n",
    "import sys\n",
    "import time\n",
    "\n",
    "import itertools\n",
    "\n",
    "import numpy as np\n",
    "\n",
    "from multiprocessing import Pool\n",
    "from functools import partial\n",
    "\n",
    "# #############################################################################\n",
    "from methods import run_al_i\n",
    "from misc_modules.misc_methods import GetFriendlyID"
   ]
  },
  {
   "cell_type": "code",
   "execution_count": null,
   "metadata": {
    "Collapsed": "false"
   },
   "outputs": [],
   "source": [
    "t0 = time.time()"
   ]
  },
  {
   "cell_type": "code",
   "execution_count": null,
   "metadata": {},
   "outputs": [],
   "source": [
    "from inputs import (\n",
    "    stoich_i,\n",
    "    verbose,\n",
    "    gp_settings,\n",
    "    runs_list,\n",
    "    acquisition_methods,\n",
    "    duplicate_analysis,\n",
    "    )"
   ]
  },
  {
   "cell_type": "code",
   "execution_count": null,
   "metadata": {
    "Collapsed": "false"
   },
   "outputs": [],
   "source": [
    "variables_dict = dict(\n",
    "    stoich_i=stoich_i,\n",
    "    # acquisition_method=acquisition_method,\n",
    "    # duplicate_analysis=duplicate_analysis,\n",
    "    verbose=verbose,\n",
    "    gp_settings=gp_settings,\n",
    "    )\n",
    "\n",
    "def run_al_meth(\n",
    "    input_dict,\n",
    "    stoich_i=None,\n",
    "    # acquisition_method=None,\n",
    "    verbose=None,\n",
    "    gp_settings=None,\n",
    "    name_i=None,\n",
    "    save_dir=None,\n",
    "    # duplicate_analysis=None,\n",
    "    ):\n",
    "    \"\"\"\n",
    "    \"\"\"\n",
    "    i = input_dict['i']\n",
    "    acquisition_method = input_dict['acquisition_method']\n",
    "    duplicate_analysis = input_dict['duplicate_analysis' ]\n",
    "    seed = input_dict['seed']\n",
    "\n",
    "    # #########################################################################\n",
    "    i_str = str(i).zfill(2)\n",
    "\n",
    "    \n",
    "    print(80 * \"#\")\n",
    "    print(i_str, 77 * \"#\")\n",
    "\n",
    "    # name_i = \"TEST_AL_7_\" + GetFriendlyID()\n",
    "    name_i = stoich_i + \"_AL_03_\" + GetFriendlyID()\n",
    "\n",
    "    print(\"****\")\n",
    "    print(\"name_i: \", name_i)\n",
    "    print(\"****\")\n",
    "\n",
    "    save_dir = stoich_i + \"/\" + acquisition_method + \"_\" + str(duplicate_analysis)\n",
    "    run_al_i(\n",
    "        stoich_i=stoich_i,\n",
    "        verbose=verbose,\n",
    "        gp_settings=gp_settings,\n",
    "        name_i=name_i,\n",
    "        save_dir_extra=save_dir,\n",
    "        acquisition_method=acquisition_method,\n",
    "        duplicate_analysis=duplicate_analysis,\n",
    "        seed=seed,\n",
    "        )"
   ]
  },
  {
   "cell_type": "code",
   "execution_count": null,
   "metadata": {
    "Collapsed": "false"
   },
   "outputs": [],
   "source": [
    "# for i in range(num_runs):\n",
    "#     run_al_meth(i, **variables_dict)"
   ]
  },
  {
   "cell_type": "code",
   "execution_count": null,
   "metadata": {
    "Collapsed": "false"
   },
   "outputs": [],
   "source": [
    "input_list = []\n",
    "for i in itertools.product(acquisition_methods, duplicate_analysis, runs_list):\n",
    "    data_dict_i = dict(\n",
    "        acquisition_method=i[0],\n",
    "        duplicate_analysis=i[1],\n",
    "        i=i[2],\n",
    "        seed=np.random.randint(0, 1000)\n",
    "        )\n",
    "    input_list.append(data_dict_i)\n",
    "    \n",
    "# input_list"
   ]
  },
  {
   "cell_type": "code",
   "execution_count": null,
   "metadata": {
    "Collapsed": "false"
   },
   "outputs": [],
   "source": [
    "traces_all = Pool().map(\n",
    "    partial(\n",
    "        run_al_meth,  # METHOD\n",
    "        **variables_dict,  # KWARGS\n",
    "        ),\n",
    "    input_list,\n",
    "    )"
   ]
  },
  {
   "cell_type": "code",
   "execution_count": null,
   "metadata": {
    "Collapsed": "false"
   },
   "outputs": [],
   "source": [
    "print(\"Notebook runtime (s):\", time.time() - t0)\n",
    "print(\"Notebook runtime (min):\", (time.time() - t0) / 60)"
   ]
  },
  {
   "cell_type": "raw",
   "execution_count": null,
   "metadata": {
    "Collapsed": "false"
   },
   "outputs": [],
   "source": [
    "\n",
    "\n"
   ]
  },
  {
   "cell_type": "code",
   "execution_count": null,
   "metadata": {
    "Collapsed": "false",
    "jupyter": {}
   },
   "outputs": [],
   "source": [
    "# stoich_i = \"AB3\"\n",
    "# verbose = False\n",
    "\n",
    "# gp_settings = {\n",
    "#     \"noise\": 0.02542,\n",
    "#     \"sigma_l\": 1.0049,\n",
    "#     \"sigma_f\": 5.19,\n",
    "#     \"alpha\": 0.018,\n",
    "#     }\n",
    "\n",
    "# # duplicate_analysis = False\n",
    "# # acquisition_method = \"gp_ucb\"\n",
    "# # acquisition_method = \"random\"\n",
    "\n",
    "# # #############################################################################\n",
    "# runs_list = list(range(5))\n",
    "# acquisition_methods = [\"gp_ucb\", \"random\"]\n",
    "# duplicate_analysis = [True, False]\n",
    "\n",
    "# # TEST SETTINGS # #############################################################\n",
    "# runs_list = list(range(1))\n",
    "# acquisition_methods = [\"gp_ucb\"]\n",
    "# duplicate_analysis = [True]"
   ]
  }
 ],
 "metadata": {
  "jupytext": {
   "cell_metadata_json": true
  },
  "kernelspec": {
   "display_name": "Python [conda env:PROJ_IrOx_Active_Learning_OER]",
   "language": "python",
   "name": "conda-env-PROJ_IrOx_Active_Learning_OER-py"
  },
  "language_info": {
   "codemirror_mode": {
    "name": "ipython",
    "version": 3
   },
   "file_extension": ".py",
   "mimetype": "text/x-python",
   "name": "python",
   "nbconvert_exporter": "python",
   "pygments_lexer": "ipython3",
   "version": "3.6.9"
  }
 },
 "nbformat": 4,
 "nbformat_minor": 2
}
