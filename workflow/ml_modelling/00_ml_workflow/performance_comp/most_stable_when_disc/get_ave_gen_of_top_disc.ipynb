{
 "cells": [
  {
   "cell_type": "markdown",
   "metadata": {
    "Collapsed": "false"
   },
   "source": [
    "# Import Modules"
   ],
   "execution_count": null,
   "outputs": []
  },
  {
   "cell_type": "code",
   "execution_count": null,
   "metadata": {},
   "outputs": [],
   "source": [
    "import os\n",
    "print(os.getcwd())\n",
    "import sys\n",
    "\n",
    "import pickle\n",
    "\n",
    "import numpy as np\n",
    "import pandas as pd\n",
    "\n",
    "# #########################################################\n",
    "sys.path.insert(0, os.path.join(os.environ[\"PROJ_irox\"], \"data\"))\n",
    "from proj_data_irox import tmp\n",
    "from al_data import al_data_files_dict"
   ]
  },
  {
   "cell_type": "markdown",
   "metadata": {
    "Collapsed": "false"
   },
   "source": [
    "# Script Inputs"
   ],
   "execution_count": null,
   "outputs": []
  },
  {
   "cell_type": "code",
   "execution_count": null,
   "metadata": {},
   "outputs": [],
   "source": [
    "stoich_i = \"AB2\"\n",
    "# stoich_i = \"AB3\"\n",
    "\n",
    "# gp_or_random = \"gp\"\n",
    "gp_or_random = \"random\"\n",
    "\n",
    "\n",
    "if gp_or_random == \"gp\":\n",
    "    files_list = al_data_files_dict[stoich_i][\"files_list_gp_ucb\"]\n",
    "elif gp_or_random == \"random\":\n",
    "    files_list = al_data_files_dict[stoich_i][\"files_list_random\"]"
   ]
  },
  {
   "cell_type": "code",
   "execution_count": null,
   "metadata": {},
   "outputs": [],
   "source": [
    "files_list[0:4]"
   ]
  },
  {
   "cell_type": "code",
   "execution_count": null,
   "metadata": {
    "Collapsed": "false"
   },
   "outputs": [],
   "source": [
    "out_data_dict = dict()\n",
    "\n",
    "data_dict = dict()\n",
    "for file_i in files_list:\n",
    "    # #########################################################################\n",
    "    num = file_i.split(\"_\")[-1].split(\".\")[0]\n",
    "    with open(file_i, \"rb\") as fle:\n",
    "        AL_i = pickle.load(fle)\n",
    "\n",
    "    data_dict[num] = AL_i\n",
    "out_data_dict[\"AL_dict\"] = data_dict"
   ]
  },
  {
   "cell_type": "code",
   "execution_count": null,
   "metadata": {},
   "outputs": [],
   "source": [
    "def get_gen_acquired(\n",
    "    AL_i,\n",
    "    id_of_most_stable\n",
    "    # init_id_of_most_stable,\n",
    "    ):\n",
    "    out_dict = dict()\n",
    "    out_dict[\"first_acq_id\"] = None\n",
    "\n",
    "    color_progression_i = AL_i.color_dict_progression.get(id_of_most_stable, None)\n",
    "\n",
    "    gen_acquired = None\n",
    "\n",
    "    if color_progression_i is not None:\n",
    "        init_id_of_most_stable = color_progression_i[0]\n",
    "\n",
    "        for gen_i, AL_gen_i in AL_i.al_gen_dict.items():\n",
    "            # print(\"init_id_of_most_stable:\", init_id_of_most_stable)\n",
    "\n",
    "            acquired_i = AL_gen_i.model.loc[init_id_of_most_stable].acquired\n",
    "\n",
    "\n",
    "            if acquired_i:\n",
    "                print(\"init_id_of_most_stable:\", init_id_of_most_stable)\n",
    "                out_dict[\"first_acq_id\"] = init_id_of_most_stable\n",
    "                gen_acquired = gen_i\n",
    "                break\n",
    "\n",
    "    elif color_progression_i is None:\n",
    "        # gen_acquired = 69\n",
    "\n",
    "        AL_gen_i = AL_i.al_gen_dict[\n",
    "            list(AL_i.al_gen_dict.keys())[-1]\n",
    "            ]\n",
    "        model = AL_gen_i.model\n",
    "        \n",
    "        out_dict[\"first_acq_id\"] = id_of_most_stable\n",
    "\n",
    "        gen_acquired = model.loc[id_of_most_stable].gen_acquired\n",
    "\n",
    "    print(\"Acquired:\", gen_acquired)\n",
    "\n",
    "    out_dict[\"gen_acq\"] = gen_acquired\n",
    "\n",
    "    return(out_dict)"
   ]
  },
  {
   "cell_type": "code",
   "execution_count": null,
   "metadata": {},
   "outputs": [],
   "source": [
    "%%capture\n",
    "\n",
    "AL_dict = out_data_dict[\"AL_dict\"]\n",
    "\n",
    "runs_list = list(AL_dict.keys())\n",
    "\n",
    "data_list = []\n",
    "gen_acquired_list = []\n",
    "for run_i in runs_list:\n",
    "    print(\"run_i:\", run_i)\n",
    "\n",
    "    data_row_i = dict()\n",
    "\n",
    "    AL_i = AL_dict[run_i]\n",
    "\n",
    "    last_gen = list(AL_i.al_gen_dict.keys())[-1]\n",
    "\n",
    "    tmp = AL_i.al_gen_dict[last_gen]\n",
    "    duplicates = tmp.indices_that_are_duplicates\n",
    "\n",
    "    not_dupl_list = []\n",
    "    for index in tmp.model.index:\n",
    "        if index not in duplicates:\n",
    "            not_dupl_list.append(index)\n",
    "\n",
    "    id_of_most_stable = tmp.model.loc[not_dupl_list].sort_values(\"y\").iloc[0].name\n",
    "    print(\"id_of_most_stable:\", id_of_most_stable)\n",
    "\n",
    "    # gen_acq = get_gen_acquired(\n",
    "    out_dict = get_gen_acquired(\n",
    "        AL_i,\n",
    "        id_of_most_stable,\n",
    "        )\n",
    "    gen_acq = out_dict[\"gen_acq\"]\n",
    "    gen_acquired_list.append(gen_acq)\n",
    "\n",
    "    data_list.append(out_dict)\n",
    "\n",
    "    print(\"\")"
   ]
  },
  {
   "cell_type": "code",
   "execution_count": null,
   "metadata": {},
   "outputs": [],
   "source": [
    "print(\"Average generatios to acquire structure\", \"\\n\", np.mean(gen_acquired_list))"
   ]
  },
  {
   "cell_type": "code",
   "execution_count": null,
   "metadata": {},
   "outputs": [],
   "source": [
    "# #####################################\n",
    "# IrO2 ################################\n",
    "# 3.74 | GP\n",
    "# 6.33 | Random\n",
    "\n",
    "# #####################################\n",
    "# IrO3 ################################\n",
    "# 4.33 | GP\n",
    "# 4.82 | Random"
   ]
  },
  {
   "cell_type": "code",
   "execution_count": null,
   "metadata": {},
   "outputs": [],
   "source": [
    "df = pd.DataFrame(data_list)\n",
    "\n",
    "# df.first_acq_id.value_counts()\n",
    "# df\n",
    "\n",
    "for i in df.first_acq_id.unique().tolist():\n",
    "    print(i)\n",
    "    \n",
    "    from IPython.display import display\n",
    "    df_i = df[df.first_acq_id == i]\n",
    "    # display(df_i)\n",
    "    \n",
    "    mean_gen_acq = df_i.gen_acq.mean()\n",
    "    print(\"mean_gen_acq:\", mean_gen_acq)\n",
    "    print(\"\")"
   ]
  },
  {
   "cell_type": "raw",
   "metadata": {},
   "source": [
    "\n",
    "\n"
   ],
   "execution_count": null,
   "outputs": []
  },
  {
   "cell_type": "code",
   "execution_count": null,
   "metadata": {
    "Collapsed": "false",
    "jupyter": {}
   },
   "outputs": [],
   "source": [
    "# import chart_studio.plotly as py\n",
    "# import plotly.graph_objs as go\n",
    "\n",
    "# from ccf_similarity.ccf import CCF\n",
    "\n",
    "# from active_learning.al_analysis import ALPerformance\n",
    "\n",
    "# from plotting.my_plotly import my_plotly_plot\n",
    "\n",
    "# from layout import layout"
   ]
  }
 ],
 "metadata": {
  "kernelspec": {
   "display_name": "Python [conda env:PROJ_IrOx_Active_Learning_OER]",
   "language": "python",
   "name": "conda-env-PROJ_IrOx_Active_Learning_OER-py"
  },
  "language_info": {
   "codemirror_mode": {
    "name": "ipython",
    "version": 3
   },
   "file_extension": ".py",
   "mimetype": "text/x-python",
   "name": "python",
   "nbconvert_exporter": "python",
   "pygments_lexer": "ipython3",
   "version": "3.6.7"
  }
 },
 "nbformat": 4,
 "nbformat_minor": 4
}
