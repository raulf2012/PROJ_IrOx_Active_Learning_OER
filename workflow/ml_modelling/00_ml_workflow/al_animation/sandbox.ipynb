{
 "cells": [
  {
   "cell_type": "code",
   "execution_count": null,
   "metadata": {},
   "outputs": [],
   "source": [
    "import os\n",
    "print(os.getcwd())\n",
    "import sys\n",
    "\n",
    "import pickle\n",
    "\n",
    "# #########################################################\n",
    "# Local Imports\n",
    "sys.path.insert(0, os.path.join(os.environ[\"PROJ_irox\"], \"data\"))\n",
    "from proj_data_irox import tmp\n",
    "\n",
    "from al_data import main_AB2_run, main_AB3_run\n",
    "\n",
    "# #########################################################\n",
    "from active_learning.al_analysis import ALAnimation"
   ]
  },
  {
   "cell_type": "code",
   "execution_count": null,
   "metadata": {},
   "outputs": [],
   "source": [
    "stoich_i = \"AB2\"\n",
    "# stoich_i = \"AB3\""
   ]
  },
  {
   "cell_type": "code",
   "execution_count": null,
   "metadata": {},
   "outputs": [],
   "source": [
    "if stoich_i == \"AB3\":\n",
    "    path_i = main_AB3_run\n",
    "elif stoich_i == \"AB2\":\n",
    "    path_i = main_AB2_run\n",
    "\n",
    "# #########################################################\n",
    "with open(path_i, \"rb\") as fle:\n",
    "    AL = pickle.load(fle)"
   ]
  },
  {
   "cell_type": "raw",
   "execution_count": null,
   "metadata": {},
   "outputs": [],
   "source": [
    "\n",
    "\n",
    "\n",
    "\n",
    "\n"
   ]
  },
  {
   "cell_type": "code",
   "execution_count": null,
   "metadata": {},
   "outputs": [],
   "source": [
    "al_gen_dict = AL.al_gen_dict\n",
    "last_gen_key = list(al_gen_dict.keys())[-1]\n",
    "\n",
    "# if gens_to_plot[-1] == \"last\":\n",
    "#     gen_4 = last_gen_key\n",
    "#     gens_to_plot[-1] = gen_4\n",
    "\n",
    "lowest_N_sys_to_track = 10\n",
    "\n",
    "AL_last = al_gen_dict[last_gen_key]\n",
    "\n",
    "model = AL_last.model\n",
    "\n",
    "model_i = model[\n",
    "    (model[\"duplicate\"] == False) & \\\n",
    "    (model[\"acquired\"] == True)\n",
    "    ].sort_values(\"y_real\")\n",
    "top_ids_to_track = model_i.iloc[0:lowest_N_sys_to_track].index.tolist()\n",
    "\n",
    "\n",
    "color_list = [\n",
    "    \"#fde725\",\n",
    "    \"#b8de29\",\n",
    "    \"#74d055\",\n",
    "    \"#3cbc75\",\n",
    "    \"#20a386\",\n",
    "    \"#238a8d\",\n",
    "    \"#2d708e\",\n",
    "    \"#39558c\",\n",
    "    \"#453781\",\n",
    "    \"#481568\",\n",
    "    ]\n",
    "\n",
    "\n",
    "marker_color_dict = dict(zip(\n",
    "    top_ids_to_track,\n",
    "    color_list,\n",
    "    ))"
   ]
  },
  {
   "cell_type": "raw",
   "execution_count": null,
   "metadata": {},
   "outputs": [],
   "source": [
    "\n",
    "\n",
    "\n",
    "\n",
    "\n"
   ]
  },
  {
   "cell_type": "code",
   "execution_count": null,
   "metadata": {},
   "outputs": [],
   "source": [
    "ALAnim = ALAnimation(\n",
    "    ALBulkOpt=AL,\n",
    "    marker_color_dict=marker_color_dict,\n",
    "    verbose=True,\n",
    "    color_custom_points=True,\n",
    "    # gens_to_plot = [0, 1, 2, 3, 4, 5, 6, 7, 8, 9, 10, 22],\n",
    "    )"
   ]
  },
  {
   "cell_type": "code",
   "execution_count": null,
   "metadata": {},
   "outputs": [],
   "source": [
    "# duration_long=1000 * 6\n",
    "# duration_short=800 * 6\n",
    "\n",
    "duration_long=1000 * 2\n",
    "duration_short=800 * 2\n",
    "\n",
    "serial_parallel=\"parallel\"  # 'serial' or 'parallel'\n",
    "# serial_parallel=\"serial\"  # 'serial' or 'parallel'\n",
    "filename=None\n",
    "\n",
    "\n",
    "# | - Attributes #######################################################\n",
    "ALBulkOpt = ALAnim.ALBulkOpt\n",
    "verbose = ALAnim.verbose\n",
    "\n",
    "get_trace_j = ALAnim.get_trace_j\n",
    "get_layout = ALAnim.get_layout\n",
    "get_sliders_init_dict = ALAnim.get_sliders_init_dict\n",
    "get_slider_step_i = ALAnim.get_slider_step_i\n",
    "__save_figure_to_file__ = ALAnim.__save_figure_to_file__\n",
    "#__| #################################################################\n",
    "\n",
    "if verbose:\n",
    "    print(\"\\n\", \"Creating animation...\")\n",
    "\n",
    "# #####################################################################\n",
    "get_trace_j_kwargs = dict(\n",
    "    prediction_key=\"y\",\n",
    "    uncertainty_key=\"err\",\n",
    "    plot_dft_instead_of_pred=True,\n",
    "    # trace_all_dft=False,\n",
    "    trace_horiz_lines=False,\n",
    "    plot_validation_dft=False,\n",
    "    dft_calc_al_gen_text_overlay=False,\n",
    "    # marker_color_dict=marker_color_dict,\n",
    "    # marker_size=8,\n",
    "    add_vertical_track_lines=True,\n",
    "    just_traces=True,\n",
    "    error_type=\"normal\",  # filled or normal\n",
    "    )\n",
    "\n",
    "\n",
    "ALAnim.__create_traces__(\n",
    "    # marker_color_dict=marker_color_dict,\n",
    "    serial_parallel=serial_parallel,\n",
    "    read_traces_from_file=True,\n",
    "    get_trace_j_kwargs=get_trace_j_kwargs,\n",
    "    )\n",
    "\n",
    "ALAnim.__create_figure__(\n",
    "    duration_long=duration_long,\n",
    "    duration_short=duration_short)\n",
    "\n",
    "# Save figure (HTML) to file\n",
    "__save_figure_to_file__(filename=filename)\n",
    "\n",
    "\n",
    "if verbose:\n",
    "    print(\"DONE!\")"
   ]
  },
  {
   "cell_type": "code",
   "execution_count": null,
   "metadata": {},
   "outputs": [],
   "source": [
    "assert False"
   ]
  },
  {
   "cell_type": "code",
   "execution_count": null,
   "metadata": {},
   "outputs": [],
   "source": [
    "ALAnim.get_global_props()"
   ]
  },
  {
   "cell_type": "code",
   "execution_count": null,
   "metadata": {},
   "outputs": [],
   "source": [
    "# ALAnim.y_max_global\n",
    "\n",
    "AL = self.ALBulkOpt\n",
    "\n",
    "AL_i = AL.al_gen_dict[0]\n",
    "\n",
    "num_xaxis = AL_i.model.shape[0]"
   ]
  },
  {
   "cell_type": "code",
   "execution_count": null,
   "metadata": {},
   "outputs": [],
   "source": [
    "import numpy as np"
   ]
  },
  {
   "cell_type": "code",
   "execution_count": null,
   "metadata": {},
   "outputs": [],
   "source": [
    "y_max_list = []\n",
    "for gen_i, AL_i in AL.al_gen_dict.items():\n",
    "    model = AL_i.model\n",
    "\n",
    "    model_tmp = model[model.duplicate == False]\n",
    "\n",
    "    y_max = model_tmp.y.max()\n",
    "    y_max_list.append(y_max)\n",
    "    \n",
    "y_max_global = np.max(y_max_list)"
   ]
  },
  {
   "cell_type": "code",
   "execution_count": null,
   "metadata": {},
   "outputs": [],
   "source": [
    "AL_i = AL.al_gen_dict[3]\n",
    "\n",
    "model = AL_i.model"
   ]
  },
  {
   "cell_type": "raw",
   "execution_count": null,
   "metadata": {},
   "outputs": [],
   "source": []
  },
  {
   "cell_type": "code",
   "execution_count": null,
   "metadata": {},
   "outputs": [],
   "source": [
    "# model_tmp = model[model.duplicate == False]\n",
    "\n",
    "# y_min = model_tmp.y_real.min()\n",
    "# y_max = model_tmp.y_real.max()"
   ]
  }
 ],
 "metadata": {
  "kernelspec": {
   "display_name": "Python [conda env:PROJ_IrOx_Active_Learning_OER]",
   "language": "python",
   "name": "conda-env-PROJ_IrOx_Active_Learning_OER-py"
  },
  "language_info": {
   "codemirror_mode": {
    "name": "ipython",
    "version": 3
   },
   "file_extension": ".py",
   "mimetype": "text/x-python",
   "name": "python",
   "nbconvert_exporter": "python",
   "pygments_lexer": "ipython3",
   "version": "3.6.7"
  }
 },
 "nbformat": 4,
 "nbformat_minor": 4
}
