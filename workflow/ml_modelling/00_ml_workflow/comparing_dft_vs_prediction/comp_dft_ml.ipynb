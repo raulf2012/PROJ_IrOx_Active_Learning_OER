{
 "cells": [
  {
   "cell_type": "markdown",
   "metadata": {},
   "source": [
    "# TEMP\n",
    "---"
   ],
   "execution_count": null,
   "outputs": []
  },
  {
   "cell_type": "markdown",
   "metadata": {},
   "source": [
    "# Import Modules"
   ],
   "execution_count": null,
   "outputs": []
  },
  {
   "cell_type": "code",
   "execution_count": null,
   "metadata": {
    "jupyter": {}
   },
   "outputs": [],
   "source": [
    "import os\n",
    "import sys\n",
    "\n",
    "import json\n",
    "import time\n",
    "\n",
    "import copy\n",
    "import pickle\n",
    "\n",
    "import numpy as np\n",
    "import pandas as pd\n",
    "\n",
    "import plotly.graph_objects as go\n",
    "import chart_studio.plotly as py\n",
    "from chart_studio.grid_objs import Grid, Column\n",
    "\n",
    "# #############################################################################\n",
    "from plotting.my_plotly import my_plotly_plot\n",
    "\n",
    "sys.path.insert(0, os.path.join(os.environ[\"PROJ_irox\"], \"data\"))\n",
    "from proj_data_irox import (\n",
    "    bulk_dft_data_path,\n",
    "    ids_to_discard__too_many_atoms_path,\n",
    "    unique_ids_path,\n",
    "    df_dij_path)\n",
    "\n",
    "print(os.getcwd())"
   ]
  },
  {
   "cell_type": "code",
   "execution_count": null,
   "metadata": {},
   "outputs": [],
   "source": [
    "from plotting.my_plotly import my_plotly_plot\n"
   ]
  },
  {
   "cell_type": "code",
   "execution_count": null,
   "metadata": {},
   "outputs": [],
   "source": [
    "sys.path.insert(0, os.path.join(\n",
    "    os.environ[\"PROJ_irox\"],\n",
    "    \"python_classes/active_learning\"))\n",
    "from active_learning import (\n",
    "    ALBulkOpt,\n",
    "    ALGeneration,\n",
    "    RegressionModel,\n",
    "    FingerPrints,\n",
    "    CandidateSpace,\n",
    "    )"
   ]
  },
  {
   "cell_type": "markdown",
   "metadata": {},
   "source": [
    "# Methods"
   ],
   "execution_count": null,
   "outputs": []
  },
  {
   "cell_type": "code",
   "execution_count": null,
   "metadata": {
    "jupyter": {}
   },
   "outputs": [],
   "source": [
    "def process_parity_plot(al_data_dict=None, df_bulk_dft=None, df_features_pre=None, df_features_post=None):\n",
    "    \"\"\"\n",
    "    \"\"\"\n",
    "    last_key = list(al_data_dict.keys())[-1]\n",
    "    al_i = al_data_dict[last_key]\n",
    "\n",
    "    gp_model = al_i[\"model_inst\"]\n",
    "    computed_ids = al_i[\"computed_ids\"]\n",
    "\n",
    "    # %%capture\n",
    "\n",
    "    df_bulk_dft = df_bulk_dft.loc[df_bulk_dft.index.intersection(computed_ids)]\n",
    "    df_features_pre = df_features_pre.loc[df_features_pre.index.intersection(computed_ids)]\n",
    "    df_features_post = df_features_post.loc[df_features_post.index.intersection(computed_ids)]\n",
    "\n",
    "    FP = FingerPrints(\n",
    "        df_features_pre,\n",
    "        df_features_post=df_features_post)\n",
    "\n",
    "    FP.clean_data(df_features_post, df_features_pre,\n",
    "        clean_variance_flag=True,\n",
    "        clean_skewness_flag=True,\n",
    "        clean_infinite_flag=True,\n",
    "        standardize_data_flag=True)\n",
    "\n",
    "    FP.pca_analysis(\n",
    "        pca_mode=\"num_comp\",\n",
    "        pca_comp=11,\n",
    "        pca_perc=None)\n",
    "\n",
    "\n",
    "    pred = gp_model.predict(test_fp=FP.df_test.sort_index(), uncertainty=True)\n",
    "\n",
    "    dft_energy = df_bulk_dft.sort_index()[\"energy_pa\"].tolist()\n",
    "    dft_energy = np.array(dft_energy)\n",
    "\n",
    "    pred_unstd = (pred[\"prediction\"] * np.std(dft_energy)) + np.mean(dft_energy)\n",
    "    \n",
    "    return(dft_energy, pred_unstd)"
   ]
  },
  {
   "cell_type": "markdown",
   "metadata": {},
   "source": [
    "# Read AL Data"
   ],
   "execution_count": null,
   "outputs": []
  },
  {
   "cell_type": "code",
   "execution_count": null,
   "metadata": {},
   "outputs": [],
   "source": [
    "sys.path.insert(0, os.path.join(\n",
    "    os.environ[\"PROJ_irox\"],\n",
    "    \"workflow/ml_modelling\"))\n",
    "from ml_methods import get_data_for_al\n",
    "\n",
    "\n",
    "# #############################################################################\n",
    "al_output_data_path_root = os.path.join(\n",
    "    os.environ[\"PROJ_irox\"],\n",
    "    \"workflow/ml_modelling\", \"00_ml_workflow/190611_new_workflow\",\n",
    "    \"02_gaus_proc/out_data\")\n",
    "# with open(al_output_data_path, \"rb\") as fle:\n",
    "#     al_data_dict = pickle.load(fle)"
   ]
  },
  {
   "cell_type": "code",
   "execution_count": null,
   "metadata": {},
   "outputs": [],
   "source": [
    "stoich_i = \"AB2\"\n",
    "custom_name = \"regular\"\n",
    "\n",
    "# #############################################################################\n",
    "out_dict = get_data_for_al(stoich=stoich_i, verbose=False)\n",
    "\n",
    "df_bulk_dft = out_dict[\"df_bulk_dft\"]\n",
    "df_bulk_dft = df_bulk_dft[df_bulk_dft[\"source\"] == \"raul\"]\n",
    "df_bulk_dft = df_bulk_dft[[\"atoms\", \"energy_pa\"]]\n",
    "\n",
    "df_features_pre = out_dict[\"df_features_pre\"]\n",
    "df_features_post = out_dict[\"df_features_post\"]\n",
    "\n",
    "# #############################################################################\n",
    "# AL Data #####################################################################\n",
    "al_output_data_path = os.path.join(\n",
    "    al_output_data_path_root,\n",
    "    \"data_dict_\" + stoich_i + \"_\" + custom_name + \".pickle\")\n",
    "\n",
    "with open(al_output_data_path, \"rb\") as fle:\n",
    "    al_data_dict = pickle.load(fle)"
   ]
  },
  {
   "cell_type": "code",
   "execution_count": null,
   "metadata": {},
   "outputs": [],
   "source": [
    "%%capture\n",
    "dft_energy_ab2, pred_unstd_ab2 = process_parity_plot(\n",
    "    al_data_dict=al_data_dict,\n",
    "    df_bulk_dft=df_bulk_dft,\n",
    "    df_features_pre=df_features_pre,\n",
    "    df_features_post=df_features_post)"
   ]
  },
  {
   "cell_type": "code",
   "execution_count": null,
   "metadata": {},
   "outputs": [],
   "source": [
    "stoich_i = \"AB3\"\n",
    "custom_name = \"regular\"\n",
    "\n",
    "# #############################################################################\n",
    "out_dict = get_data_for_al(stoich=stoich_i, verbose=False)\n",
    "\n",
    "df_bulk_dft = out_dict[\"df_bulk_dft\"]\n",
    "df_bulk_dft = df_bulk_dft[df_bulk_dft[\"source\"] == \"raul\"]\n",
    "df_bulk_dft = df_bulk_dft[[\"atoms\", \"energy_pa\"]]\n",
    "\n",
    "df_features_pre = out_dict[\"df_features_pre\"]\n",
    "df_features_post = out_dict[\"df_features_post\"]\n",
    "\n",
    "# #############################################################################\n",
    "# AL Data #####################################################################\n",
    "al_output_data_path = os.path.join(\n",
    "    al_output_data_path_root,\n",
    "    \"data_dict_\" + stoich_i + \"_\" + custom_name + \".pickle\")\n",
    "with open(al_output_data_path, \"rb\") as fle:\n",
    "    al_data_dict = pickle.load(fle)"
   ]
  },
  {
   "cell_type": "code",
   "execution_count": null,
   "metadata": {},
   "outputs": [],
   "source": [
    "dft_energy_ab3, pred_unstd_ab3 = process_parity_plot(\n",
    "    al_data_dict=al_data_dict,\n",
    "    df_bulk_dft=df_bulk_dft,\n",
    "    df_features_pre=df_features_pre,\n",
    "    df_features_post=df_features_post)"
   ]
  },
  {
   "cell_type": "raw",
   "metadata": {},
   "source": [
    "\n",
    "\n"
   ],
   "execution_count": null,
   "outputs": []
  },
  {
   "cell_type": "code",
   "execution_count": null,
   "metadata": {},
   "outputs": [],
   "source": [
    "# AB2 Parity Plot #############################################################\n",
    "x_array_ab2 = dft_energy_ab2\n",
    "y_array_ab2 = pred_unstd_ab2\n",
    "trace_ab2 = go.Scatter(\n",
    "    x=x_array_ab2,\n",
    "    y=y_array_ab2,\n",
    "    mode=\"markers\")\n",
    "\n",
    "\n",
    "# AB3 Parity Plot #############################################################\n",
    "x_array_ab3 = dft_energy_ab3\n",
    "y_array_ab3 = pred_unstd_ab3\n",
    "trace_ab3 = go.Scatter(\n",
    "    x=x_array_ab3,\n",
    "    y=y_array_ab3,\n",
    "    mode=\"markers\")\n",
    "\n",
    "\n",
    "# x=y line ####################################################################\n",
    "plot_range = [\n",
    "    min(\n",
    "        y_array_ab2.min(), x_array_ab2.min(),\n",
    "        y_array_ab3.min(), x_array_ab3.min()),\n",
    "    max(\n",
    "        y_array_ab2.max(), x_array_ab2.max(),\n",
    "        y_array_ab3.max(), x_array_ab3.max())]\n",
    "trace_xy = go.Scatter(\n",
    "    x=plot_range,\n",
    "    y=plot_range,\n",
    "    mode=\"lines\")\n",
    "\n",
    "\n",
    "from layout import layout\n",
    "\n",
    "data = [trace_xy, trace_ab2, trace_ab3]\n",
    "fig = go.Figure(data=data, layout=layout)\n",
    "\n",
    "\n",
    "my_plotly_plot(\n",
    "    figure=fig,\n",
    "    plot_name='irox_parity_plot',\n",
    "    write_pdf_svg=True,\n",
    "    write_html=True,\n",
    "    write_png=False)\n",
    "\n",
    "fig.show()"
   ]
  },
  {
   "cell_type": "raw",
   "metadata": {},
   "source": [
    "\n",
    "\n",
    "\n"
   ],
   "execution_count": null,
   "outputs": []
  }
 ],
 "metadata": {
  "kernelspec": {
   "display_name": "Python [conda env:research-new] *",
   "language": "python",
   "name": "conda-env-research-new-py"
  },
  "language_info": {
   "codemirror_mode": {
    "name": "ipython",
    "version": 3
   },
   "file_extension": ".py",
   "mimetype": "text/x-python",
   "name": "python",
   "nbconvert_exporter": "python",
   "pygments_lexer": "ipython3",
   "version": "3.6.8"
  }
 },
 "nbformat": 4,
 "nbformat_minor": 4
}
