{
 "cells": [
  {
   "cell_type": "markdown",
   "metadata": {},
   "source": [
    "# Import Modules"
   ]
  },
  {
   "cell_type": "code",
   "execution_count": 1,
   "metadata": {},
   "outputs": [
    {
     "name": "stdout",
     "output_type": "stream",
     "text": [
      "/mnt/c/Users/raulf2012/Dropbox/01_norskov/00_git_repos/PROJ_IrOx_Active_Learning_OER/workflow/ml_modelling/processing_bulk_dft\n"
     ]
    }
   ],
   "source": [
    "import os\n",
    "import sys\n",
    "\n",
    "import pickle\n",
    "\n",
    "import numpy as np\n",
    "import pandas as pd\n",
    "\n",
    "# #############################################################################\n",
    "sys.path.insert(0, os.path.join(os.environ[\"PROJ_irox\"], \"data\"))\n",
    "\n",
    "from proj_data_irox import (\n",
    "    bulk_dft_data_path,\n",
    "    unique_ids_path,\n",
    "    prototypes_data_path,\n",
    "    static_irox_structures_path)\n",
    "\n",
    "print(os.getcwd())"
   ]
  },
  {
   "cell_type": "markdown",
   "metadata": {},
   "source": [
    "# Read Data"
   ]
  },
  {
   "cell_type": "code",
   "execution_count": 2,
   "metadata": {},
   "outputs": [],
   "source": [
    "path_i = os.path.join(\n",
    "    os.environ[\"PROJ_irox\"],\n",
    "    \"workflow/ml_modelling\",\n",
    "    \"processing_bulk_dft/parse_chris_bulk_dft/out_data\",\n",
    "    \"df_dft_calcs.pickle\")\n",
    "with open(path_i, \"rb\") as fle:\n",
    "    df_chris = pickle.load(fle)\n",
    "df_chris[\"source\"] = \"chris\""
   ]
  },
  {
   "cell_type": "code",
   "execution_count": 3,
   "metadata": {},
   "outputs": [],
   "source": [
    "path_i = os.path.join(\n",
    "    os.environ[\"PROJ_irox\"],\n",
    "    \"workflow/ml_modelling/processing_bulk_dft\",\n",
    "    \"parse_my_bulk_dft/out_data\",\n",
    "    \"df_bulk_raul_irox.pickle\")\n",
    "with open(path_i, \"rb\") as fle:\n",
    "    df_raul_irox = pickle.load(fle)\n",
    "    \n",
    "df_raul_irox[\"source\"] = \"raul\""
   ]
  },
  {
   "cell_type": "code",
   "execution_count": 4,
   "metadata": {},
   "outputs": [],
   "source": [
    "path_i = os.path.join(\n",
    "    os.environ[\"PROJ_irox\"],\n",
    "    \"workflow/ml_modelling/processing_bulk_dft\",\n",
    "    \"parse_my_oer_bulk_dft/out_data\",\n",
    "    \"df_oer_bulk.pickle\")\n",
    "\n",
    "with open(path_i, \"rb\") as fle:\n",
    "    df_oer_bulk = pickle.load(fle)\n",
    "\n",
    "# df_raul_irox[\"source\"] = \"raul\""
   ]
  },
  {
   "cell_type": "code",
   "execution_count": 5,
   "metadata": {},
   "outputs": [],
   "source": [
    "from proj_data_irox import oqmd_irox_data_path\n",
    "with open(oqmd_irox_data_path, \"rb\") as fle:\n",
    "    df_oqmd_data = pickle.load(fle)\n",
    "\n",
    "df_oqmd_data = df_oqmd_data.drop(\n",
    "    labels=[\n",
    "        \"source\",\n",
    "#         \"id_unique\",\n",
    "        ],\n",
    "    axis=1,\n",
    "    )\n",
    "\n",
    "df_oqmd_data[\"source\"] = \"oqmd\""
   ]
  },
  {
   "cell_type": "markdown",
   "metadata": {},
   "source": [
    "# Combining Chris and Raul data"
   ]
  },
  {
   "cell_type": "code",
   "execution_count": 6,
   "metadata": {},
   "outputs": [
    {
     "name": "stderr",
     "output_type": "stream",
     "text": [
      "/home/raulf2012/anaconda3/envs/PROJ_IrOx_Active_Learning_OER/lib/python3.6/site-packages/ipykernel_launcher.py:8: FutureWarning: Sorting because non-concatenation axis is not aligned. A future version\n",
      "of pandas will change to not sort by default.\n",
      "\n",
      "To accept the future behavior, pass 'sort=False'.\n",
      "\n",
      "To retain the current behavior and silence the warning, pass 'sort=True'.\n",
      "\n",
      "  \n"
     ]
    }
   ],
   "source": [
    "frames = [\n",
    "    df_raul_irox,\n",
    "    df_oer_bulk,\n",
    "    df_chris,\n",
    "    df_oqmd_data,\n",
    "    ]\n",
    "\n",
    "df_m = pd.concat(frames)"
   ]
  },
  {
   "cell_type": "markdown",
   "metadata": {},
   "source": [
    "# Mapping unique ID scheme"
   ]
  },
  {
   "cell_type": "code",
   "execution_count": 7,
   "metadata": {},
   "outputs": [],
   "source": [
    "df_id = pd.read_csv(unique_ids_path)\n",
    "\n",
    "id_mapp_iro2 = dict(zip(\n",
    "    df_id[df_id[\"stoich\"] == \"AB2\"][\"id\"],\n",
    "    df_id[df_id[\"stoich\"] == \"AB2\"][\"unique_ids\"]))\n",
    "\n",
    "id_mapp_iro3 = dict(zip(\n",
    "    df_id[df_id[\"stoich\"] == \"AB3\"][\"id\"],\n",
    "    df_id[df_id[\"stoich\"] == \"AB3\"][\"unique_ids\"]))\n",
    "\n",
    "# #############################################################################\n",
    "\n",
    "def method(row_i):\n",
    "    \"\"\"\n",
    "    \"\"\"\n",
    "\n",
    "    if row_i[\"source\"] == \"raul_oer\":\n",
    "        id_unique_i = row_i.name\n",
    "    else:\n",
    "        id_i = row_i[\"id_old\"]\n",
    "\n",
    "        if row_i[\"stoich\"] == \"IrO2\" or row_i[\"stoich\"] == \"AB2\":\n",
    "            mapping_dict = id_mapp_iro2\n",
    "        elif row_i[\"stoich\"] == \"IrO3\" or row_i[\"stoich\"] == \"AB3\":\n",
    "            mapping_dict = id_mapp_iro3\n",
    "        else:\n",
    "            print(\"BAD BAD | Couldn't process id: \", row_i)\n",
    "\n",
    "        id_unique_i = mapping_dict[id_i]\n",
    "\n",
    "    return(id_unique_i)\n",
    "\n",
    "df_m[\"id_unique\"] = df_m.apply(method, axis=1)\n",
    "df_m.set_index(\"id_unique\", inplace=True)"
   ]
  },
  {
   "cell_type": "markdown",
   "metadata": {},
   "source": [
    "# Adding energy per atom column"
   ]
  },
  {
   "cell_type": "code",
   "execution_count": 8,
   "metadata": {},
   "outputs": [],
   "source": [
    "def method(row_i):\n",
    "    atoms_i = row_i[\"atoms\"]\n",
    "    energy = None\n",
    "    if atoms_i is None:\n",
    "        energy = None\n",
    "    else:\n",
    "        try:\n",
    "            energy = atoms_i.get_potential_energy()\n",
    "        except:\n",
    "            energy = None\n",
    "    return(energy)\n",
    "df_m[\"energy\"] = df_m.apply(method, axis=1)\n",
    "\n",
    "def method(row_i):\n",
    "    energy_norm_i = None\n",
    "\n",
    "    atoms_i = row_i[\"atoms\"]\n",
    "    # energy_pa = row_i[\"energy_pa\"]\n",
    "    energy_pa = row_i.get(\"energy_pa\", np.nan)\n",
    "    \n",
    "\n",
    "    if not np.isnan(energy_pa) and row_i[\"source\"] == \"oqmd\":\n",
    "        energy_norm_i = energy_pa\n",
    "\n",
    "    else:\n",
    "        if atoms_i is None:\n",
    "            energy_norm_i = None\n",
    "        else:\n",
    "            num_atoms_i = len(atoms_i.get_atomic_numbers())\n",
    "            energy_norm_i = row_i[\"energy\"] / num_atoms_i\n",
    "\n",
    "    return(energy_norm_i)\n",
    "df_m[\"energy_pa\"] = df_m.apply(method, axis=1)"
   ]
  },
  {
   "cell_type": "markdown",
   "metadata": {},
   "source": [
    "# Adding Formation Enthalpy and Gibbs Free Energy"
   ]
  },
  {
   "cell_type": "code",
   "execution_count": 9,
   "metadata": {},
   "outputs": [],
   "source": [
    "from proj_data_irox import calc_dH\n",
    "\n",
    "\n",
    "def method(row_i, calc_dH):\n",
    "    energy_pa = row_i[\"energy_pa\"]\n",
    "    stoich = row_i[\"stoich\"]\n",
    "    \n",
    "    dH = calc_dH(energy_pa, stoich=stoich)\n",
    "    \n",
    "    return(dH)\n",
    "\n",
    "df_m[\"dH\"] = df_m.apply(method, args=(calc_dH, ), axis=1)"
   ]
  },
  {
   "cell_type": "code",
   "execution_count": 10,
   "metadata": {},
   "outputs": [],
   "source": [
    "# def method(row_i, argument_0, optional_arg=None):\n",
    "#     \"\"\"\n",
    "#     \"\"\"\n",
    "#     return(argument_0)\n",
    "\n",
    "# arg1 = \"TEMP_0\"\n",
    "# df_i = model_i\n",
    "# df_i[\"column_name\"] = df_i.apply(\n",
    "#     method,\n",
    "#     axis=1,\n",
    "#     args=(arg1, ),\n",
    "#     optional_arg=\"TEMP_1\"\n",
    "#     )"
   ]
  },
  {
   "cell_type": "markdown",
   "metadata": {},
   "source": [
    "# Removing rows with missing atoms objects"
   ]
  },
  {
   "cell_type": "code",
   "execution_count": 11,
   "metadata": {},
   "outputs": [],
   "source": [
    "df_m = df_m[df_m[\"atoms\"].notnull()]"
   ]
  },
  {
   "cell_type": "markdown",
   "metadata": {},
   "source": [
    "# Count number of atoms"
   ]
  },
  {
   "cell_type": "code",
   "execution_count": 12,
   "metadata": {},
   "outputs": [],
   "source": [
    "def method(row_i):\n",
    "    atoms_i = row_i[\"atoms\"]\n",
    "    num_atoms_i = atoms_i.get_number_of_atoms()\n",
    "    return(num_atoms_i)\n",
    "\n",
    "df_m[\"num_atoms\"] = df_m.apply(\n",
    "    method,\n",
    "    axis=1)"
   ]
  },
  {
   "cell_type": "markdown",
   "metadata": {},
   "source": [
    "# Save data"
   ]
  },
  {
   "cell_type": "code",
   "execution_count": 13,
   "metadata": {
    "lines_to_next_cell": 0
   },
   "outputs": [],
   "source": [
    "# directory = \"out_data\"\n",
    "# if not os.path.exists(directory):\n",
    "#     os.makedirs(directory)\n",
    "\n",
    "# with open(os.path.join(directory, \"df_bulk_dft.pickle\"), \"wb\") as fle:\n",
    "#     pickle.dump(df_m, fle)"
   ]
  },
  {
   "cell_type": "code",
   "execution_count": 45,
   "metadata": {},
   "outputs": [
    {
     "name": "stdout",
     "output_type": "stream",
     "text": [
      "VESTA /tmp/RAUL_TEMP_DIR_vbbrl4x5/000_9yz2mt8hbh_eegrihjbxo.cif /tmp/RAUL_TEMP_DIR_vbbrl4x5/001_cfcivdxrc2_sqlyyduxfi.cif /tmp/RAUL_TEMP_DIR_vbbrl4x5/002_b49kx4c19q_ngrjqrbuil.cif /tmp/RAUL_TEMP_DIR_vbbrl4x5/003_vsvsms92ng_ezimsuajrw.cif /tmp/RAUL_TEMP_DIR_vbbrl4x5/004_xonhb1cgnq_ogdwarexjj.cif /tmp/RAUL_TEMP_DIR_vbbrl4x5/005_8aza84xlvs_rlwvppcmwr.cif /tmp/RAUL_TEMP_DIR_vbbrl4x5/006_xgmkzuxf8g_bklehkizgo.cif /tmp/RAUL_TEMP_DIR_vbbrl4x5/007_c48lx363be_thezzpoghh.cif &\n"
     ]
    }
   ],
   "source": [
    "from ase_modules.ase_methods import view_in_vesta\n",
    "\n",
    "df_tmp = df_m[\n",
    "    (df_m.source == \"chris\") & \\\n",
    "    (df_m.stoich == \"AB2\")\n",
    "    ].sort_values(\"dH\")\n",
    "\n",
    "df_tmp2 = df_tmp[\n",
    "    (df_tmp.dH < -0.75 + 0.2) & \\\n",
    "    (df_tmp.dH > -0.75 - 0.1)\n",
    "    ]\n",
    "\n",
    "df_tmp2\n",
    "# df_tmp.shape\n",
    "\n",
    "view_in_vesta(df_tmp2.atoms.tolist(), name_list=df_tmp2.index.tolist())\n",
    "\n",
    "# view_in_vesta?"
   ]
  },
  {
   "cell_type": "code",
   "execution_count": 49,
   "metadata": {},
   "outputs": [
    {
     "data": {
      "text/plain": [
       "['/mnt/f/GDrive/norskov_research_storage/00_projects/PROJ_irox_2/chris_nersc_files/April_Backup/IrO2/final_relax/513_fixed.cif',\n",
       " '/mnt/f/GDrive/norskov_research_storage/00_projects/PROJ_irox_2/chris_nersc_files/IrO2/final_opt_new1-3/199_fixed.cif',\n",
       " '/mnt/f/GDrive/norskov_research_storage/00_projects/PROJ_irox_2/chris_nersc_files/April_Backup/IrO2/final_relax/444_fixed.cif',\n",
       " '/mnt/f/GDrive/norskov_research_storage/00_projects/PROJ_irox_2/chris_nersc_files/IrO2/final_opt_new1-3/261_fixed.cif',\n",
       " '/mnt/f/GDrive/norskov_research_storage/00_projects/PROJ_irox_2/chris_nersc_files/IrO2/final_opt_new1-3/72_fixed.cif',\n",
       " '/mnt/f/GDrive/norskov_research_storage/00_projects/PROJ_irox_2/chris_nersc_files/IrO2/final_opt_new1-3/73_fixed.cif',\n",
       " '/mnt/f/GDrive/norskov_research_storage/00_projects/PROJ_irox_2/chris_nersc_files/IrO2/final_opt_new1-3/197_fixed.cif',\n",
       " '/mnt/f/GDrive/norskov_research_storage/00_projects/PROJ_irox_2/chris_nersc_files/IrO2/final_opt_new1-3/107_fixed.cif',\n",
       " '/mnt/f/GDrive/norskov_research_storage/00_projects/PROJ_irox_2/chris_nersc_files/IrO2/final_opt_new1-3/507_fixed.cif',\n",
       " '/mnt/f/GDrive/norskov_research_storage/00_projects/PROJ_irox_2/chris_nersc_files/IrO2/final_opt_new1-3/469_fixed.cif',\n",
       " '/mnt/f/GDrive/norskov_research_storage/00_projects/PROJ_irox_2/chris_nersc_files/IrO2/final_opt_new1-3/530_fixed.cif',\n",
       " '/mnt/f/GDrive/norskov_research_storage/00_projects/PROJ_irox_2/chris_nersc_files/IrO2/final_opt_new1-3/674_fixed.cif',\n",
       " '/mnt/f/GDrive/norskov_research_storage/00_projects/PROJ_irox_2/chris_nersc_files/IrO2/final_opt_new1-3/475_fixed.cif',\n",
       " '/mnt/f/GDrive/norskov_research_storage/00_projects/PROJ_irox_2/chris_nersc_files/IrO2/final_opt_new1-3/349_fixed.cif',\n",
       " '/mnt/f/GDrive/norskov_research_storage/00_projects/PROJ_irox_2/chris_nersc_files/IrO2/final_opt_new1-3/592_fixed.cif',\n",
       " '/mnt/f/GDrive/norskov_research_storage/00_projects/PROJ_irox_2/chris_nersc_files/IrO2/final_opt_new1-3/167_fixed.cif',\n",
       " '/mnt/f/GDrive/norskov_research_storage/00_projects/PROJ_irox_2/chris_nersc_files/IrO2/final_opt_new1-3/83_fixed.cif',\n",
       " '/mnt/f/GDrive/norskov_research_storage/00_projects/PROJ_irox_2/chris_nersc_files/April_Backup/IrO2/final_relax/654_fixed.cif',\n",
       " '/mnt/f/GDrive/norskov_research_storage/00_projects/PROJ_irox_2/chris_nersc_files/April_Backup/IrO2/final_relax/552_fixed.cif',\n",
       " '/mnt/f/GDrive/norskov_research_storage/00_projects/PROJ_irox_2/chris_nersc_files/April_Backup/IrO2/final_relax/231_fixed.cif',\n",
       " '/mnt/f/GDrive/norskov_research_storage/00_projects/PROJ_irox_2/chris_nersc_files/April_Backup/IrO2/final_relax/388_fixed.cif',\n",
       " '/mnt/f/GDrive/norskov_research_storage/00_projects/PROJ_irox_2/chris_nersc_files/IrO2/final_opt_new1-3/575_fixed.cif',\n",
       " '/mnt/f/GDrive/norskov_research_storage/00_projects/PROJ_irox_2/chris_nersc_files/April_Backup/IrO2/final_relax/189_fixed.cif',\n",
       " '/mnt/f/GDrive/norskov_research_storage/00_projects/PROJ_irox_2/chris_nersc_files/IrO2/final_opt_new1-3/432_fixed.cif',\n",
       " '/mnt/f/GDrive/norskov_research_storage/00_projects/PROJ_irox_2/chris_nersc_files/IrO2/final_opt_new1-3/244_fixed.cif',\n",
       " '/mnt/f/GDrive/norskov_research_storage/00_projects/PROJ_irox_2/chris_nersc_files/IrO2/final_opt_new1-3/464_fixed.cif',\n",
       " '/mnt/f/GDrive/norskov_research_storage/00_projects/PROJ_irox_2/chris_nersc_files/IrO2/final_opt_new1-3/80_fixed.cif',\n",
       " '/mnt/f/GDrive/norskov_research_storage/00_projects/PROJ_irox_2/chris_nersc_files/IrO2/final_opt_new1-3/59_fixed.cif',\n",
       " '/mnt/f/GDrive/norskov_research_storage/00_projects/PROJ_irox_2/chris_nersc_files/IrO2/final_opt_new1-3/238_fixed.cif',\n",
       " '/mnt/f/GDrive/norskov_research_storage/00_projects/PROJ_irox_2/chris_nersc_files/IrO2/final_opt_new1-3/69_fixed.cif',\n",
       " '/mnt/f/GDrive/norskov_research_storage/00_projects/PROJ_irox_2/chris_nersc_files/IrO2/final_opt_new1-3/233_fixed.cif',\n",
       " '/mnt/f/GDrive/norskov_research_storage/00_projects/PROJ_irox_2/chris_nersc_files/IrO2/final_opt_new1-3/196_fixed.cif',\n",
       " '/mnt/f/GDrive/norskov_research_storage/00_projects/PROJ_irox_2/chris_nersc_files/IrO2/final_opt_new1-3/527_fixed.cif',\n",
       " '/mnt/f/GDrive/norskov_research_storage/00_projects/PROJ_irox_2/chris_nersc_files/IrO2/final_opt_new1-3/511_fixed.cif',\n",
       " '/mnt/f/GDrive/norskov_research_storage/00_projects/PROJ_irox_2/chris_nersc_files/IrO2/final_opt_new1-3/173_fixed.cif',\n",
       " '/mnt/f/GDrive/norskov_research_storage/00_projects/PROJ_irox_2/chris_nersc_files/IrO2/final_opt_new1-3/598_fixed.cif',\n",
       " '/mnt/f/GDrive/norskov_research_storage/00_projects/PROJ_irox_2/chris_nersc_files/IrO2/final_opt_new1-3/323_fixed.cif',\n",
       " '/mnt/f/GDrive/norskov_research_storage/00_projects/PROJ_irox_2/chris_nersc_files/IrO2/final_opt_new1-3/25_fixed.cif',\n",
       " '/mnt/f/GDrive/norskov_research_storage/00_projects/PROJ_irox_2/chris_nersc_files/April_Backup/IrO2/final_relax/169_fixed.cif',\n",
       " '/mnt/f/GDrive/norskov_research_storage/00_projects/PROJ_irox_2/chris_nersc_files/IrO2/final_opt_new1-3/339_fixed.cif',\n",
       " '/mnt/f/GDrive/norskov_research_storage/00_projects/PROJ_irox_2/chris_nersc_files/April_Backup/IrO2/final_relax/689_fixed.cif',\n",
       " '/mnt/f/GDrive/norskov_research_storage/00_projects/PROJ_irox_2/chris_nersc_files/IrO2/final_opt_new1-3/621_fixed.cif',\n",
       " '/mnt/f/GDrive/norskov_research_storage/00_projects/PROJ_irox_2/chris_nersc_files/IrO2/final_opt_new1-3/647_fixed.cif',\n",
       " '/mnt/f/GDrive/norskov_research_storage/00_projects/PROJ_irox_2/chris_nersc_files/IrO2/final_opt_new1-3/348_fixed.cif',\n",
       " '/mnt/f/GDrive/norskov_research_storage/00_projects/PROJ_irox_2/chris_nersc_files/IrO2/final_opt_new1-3/152_fixed.cif',\n",
       " '/mnt/f/GDrive/norskov_research_storage/00_projects/PROJ_irox_2/chris_nersc_files/IrO2/final_opt_new1-3/385_fixed.cif',\n",
       " '/mnt/f/GDrive/norskov_research_storage/00_projects/PROJ_irox_2/chris_nersc_files/April_Backup/IrO2/final_relax/682_fixed.cif',\n",
       " '/mnt/f/GDrive/norskov_research_storage/00_projects/PROJ_irox_2/chris_nersc_files/IrO2/final_opt_new1-3/622_fixed.cif']"
      ]
     },
     "execution_count": 49,
     "metadata": {},
     "output_type": "execute_result"
    }
   ],
   "source": [
    "df_tmp.path.tolist()"
   ]
  },
  {
   "cell_type": "raw",
   "metadata": {
    "lines_to_next_cell": 2
   },
   "source": [
    "\n",
    "\n",
    "\n",
    "\n"
   ]
  },
  {
   "cell_type": "code",
   "execution_count": 15,
   "metadata": {
    "jupyter": {
     "source_hidden": true
    }
   },
   "outputs": [],
   "source": [
    "# for i in df_m.index.tolist():\n",
    "#     if \"m16\" in i:\n",
    "#         print(i)"
   ]
  },
  {
   "cell_type": "code",
   "execution_count": 16,
   "metadata": {
    "jupyter": {
     "source_hidden": true
    }
   },
   "outputs": [],
   "source": [
    "# df_m.loc[\"m16tvk8h7g\"]\n",
    "\n",
    "# df_m[df_m.stoich == \"AB2\"].sort_values(\"dH\").iloc[0:10]"
   ]
  },
  {
   "cell_type": "code",
   "execution_count": 17,
   "metadata": {
    "jupyter": {
     "source_hidden": true
    }
   },
   "outputs": [],
   "source": [
    "# os.path.join(directory, \"df_bulk_dft.pickle\")\n",
    "\n",
    "# df_m.loc[\"cubqbpzd7k\"]\n",
    "\n",
    "# # 3 * -7.049 - (2 * -4.657947279999998 + -9.304929736367313)\n",
    "\n",
    "# # -7.04\n",
    "\n",
    "# df_m[\n",
    "#     (df_m[\"stoich\"] == \"AB2\") & \\\n",
    "# #     (df_m[\"stoich\"] == \"AB2\")\n",
    "#     (df_m[\"source\"] == \"raul\")\n",
    "#     ].sort_values(\"energy_pa\")"
   ]
  }
 ],
 "metadata": {
  "jupytext": {
   "formats": "ipynb,py:light"
  },
  "kernelspec": {
   "display_name": "Python [conda env:PROJ_IrOx_Active_Learning_OER]",
   "language": "python",
   "name": "conda-env-PROJ_IrOx_Active_Learning_OER-py"
  },
  "language_info": {
   "codemirror_mode": {
    "name": "ipython",
    "version": 3
   },
   "file_extension": ".py",
   "mimetype": "text/x-python",
   "name": "python",
   "nbconvert_exporter": "python",
   "pygments_lexer": "ipython3",
   "version": "3.6.9"
  }
 },
 "nbformat": 4,
 "nbformat_minor": 4
}
