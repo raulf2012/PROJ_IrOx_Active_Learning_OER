{
 "cells": [
  {
   "cell_type": "markdown",
   "metadata": {},
   "source": [
    "# Import Modules"
   ]
  },
  {
   "cell_type": "code",
   "execution_count": 1,
   "metadata": {},
   "outputs": [
    {
     "name": "stdout",
     "output_type": "stream",
     "text": [
      "/mnt/f/Dropbox/01_norskov/00_git_repos/PROJ_IrOx_Active_Learning_OER/workflow/ml_modelling/processing_bulk_dft\n"
     ]
    }
   ],
   "source": [
    "import os\n",
    "import sys\n",
    "\n",
    "import pickle\n",
    "\n",
    "import numpy as np\n",
    "import pandas as pd\n",
    "\n",
    "# #############################################################################\n",
    "sys.path.insert(0, os.path.join(os.environ[\"PROJ_irox\"], \"data\"))\n",
    "\n",
    "from proj_data_irox import (\n",
    "    bulk_dft_data_path,\n",
    "    unique_ids_path,\n",
    "    prototypes_data_path,\n",
    "    static_irox_structures_path)\n",
    "\n",
    "print(os.getcwd())"
   ]
  },
  {
   "cell_type": "markdown",
   "metadata": {},
   "source": [
    "# Read Data"
   ]
  },
  {
   "cell_type": "code",
   "execution_count": 2,
   "metadata": {},
   "outputs": [],
   "source": [
    "path_i = os.path.join(\n",
    "    os.environ[\"PROJ_irox\"],\n",
    "    \"workflow/ml_modelling\",\n",
    "    \"processing_bulk_dft/parse_chris_bulk_dft/out_data\",\n",
    "    \"df_dft_calcs.pickle\")\n",
    "with open(path_i, \"rb\") as fle:\n",
    "    df_chris = pickle.load(fle)\n",
    "df_chris[\"source\"] = \"chris\""
   ]
  },
  {
   "cell_type": "code",
   "execution_count": 3,
   "metadata": {},
   "outputs": [],
   "source": [
    "path_i = os.path.join(\n",
    "    os.environ[\"PROJ_irox\"],\n",
    "    \"workflow/ml_modelling/processing_bulk_dft\",\n",
    "    \"parse_my_bulk_dft/out_data\",\n",
    "    \"df_bulk_raul_irox.pickle\")\n",
    "with open(path_i, \"rb\") as fle:\n",
    "    df_raul_irox = pickle.load(fle)\n",
    "    \n",
    "df_raul_irox[\"source\"] = \"raul\""
   ]
  },
  {
   "cell_type": "code",
   "execution_count": 4,
   "metadata": {},
   "outputs": [],
   "source": [
    "path_i = os.path.join(\n",
    "    os.environ[\"PROJ_irox\"],\n",
    "    \"workflow/ml_modelling/processing_bulk_dft\",\n",
    "    \"parse_my_oer_bulk_dft/out_data\",\n",
    "    \"df_oer_bulk.pickle\")\n",
    "\n",
    "with open(path_i, \"rb\") as fle:\n",
    "    df_oer_bulk = pickle.load(fle)\n",
    "\n",
    "# df_raul_irox[\"source\"] = \"raul\""
   ]
  },
  {
   "cell_type": "code",
   "execution_count": 5,
   "metadata": {},
   "outputs": [],
   "source": [
    "from proj_data_irox import oqmd_irox_data_path\n",
    "with open(oqmd_irox_data_path, \"rb\") as fle:\n",
    "    df_oqmd_data = pickle.load(fle)\n",
    "\n",
    "df_oqmd_data = df_oqmd_data.drop(\n",
    "    labels=[\n",
    "        \"source\",\n",
    "#         \"id_unique\",\n",
    "        ],\n",
    "    axis=1,\n",
    "    )\n",
    "\n",
    "df_oqmd_data[\"source\"] = \"oqmd\""
   ]
  },
  {
   "cell_type": "markdown",
   "metadata": {},
   "source": [
    "# Combining Chris and Raul data"
   ]
  },
  {
   "cell_type": "code",
   "execution_count": 6,
   "metadata": {},
   "outputs": [
    {
     "name": "stderr",
     "output_type": "stream",
     "text": [
      "/home/raul_desktop/anaconda2/envs/py36/lib/python3.6/site-packages/ipykernel_launcher.py:8: FutureWarning: Sorting because non-concatenation axis is not aligned. A future version\n",
      "of pandas will change to not sort by default.\n",
      "\n",
      "To accept the future behavior, pass 'sort=False'.\n",
      "\n",
      "To retain the current behavior and silence the warning, pass 'sort=True'.\n",
      "\n",
      "  \n"
     ]
    }
   ],
   "source": [
    "frames = [\n",
    "    df_raul_irox,\n",
    "    df_oer_bulk,\n",
    "    df_chris,\n",
    "    df_oqmd_data,\n",
    "    ]\n",
    "\n",
    "df_m = pd.concat(frames)"
   ]
  },
  {
   "cell_type": "markdown",
   "metadata": {},
   "source": [
    "# Mapping unique ID scheme"
   ]
  },
  {
   "cell_type": "code",
   "execution_count": 7,
   "metadata": {},
   "outputs": [],
   "source": [
    "df_id = pd.read_csv(unique_ids_path)\n",
    "\n",
    "id_mapp_iro2 = dict(zip(\n",
    "    df_id[df_id[\"stoich\"] == \"AB2\"][\"id\"],\n",
    "    df_id[df_id[\"stoich\"] == \"AB2\"][\"unique_ids\"]))\n",
    "\n",
    "id_mapp_iro3 = dict(zip(\n",
    "    df_id[df_id[\"stoich\"] == \"AB3\"][\"id\"],\n",
    "    df_id[df_id[\"stoich\"] == \"AB3\"][\"unique_ids\"]))\n",
    "\n",
    "# #############################################################################\n",
    "\n",
    "def method(row_i):\n",
    "    \"\"\"\n",
    "    \"\"\"\n",
    "\n",
    "    if row_i[\"source\"] == \"raul_oer\":\n",
    "        id_unique_i = row_i.name\n",
    "    else:\n",
    "        id_i = row_i[\"id_old\"]\n",
    "\n",
    "        if row_i[\"stoich\"] == \"IrO2\" or row_i[\"stoich\"] == \"AB2\":\n",
    "            mapping_dict = id_mapp_iro2\n",
    "        elif row_i[\"stoich\"] == \"IrO3\" or row_i[\"stoich\"] == \"AB3\":\n",
    "            mapping_dict = id_mapp_iro3\n",
    "        else:\n",
    "            print(\"BAD BAD | Couldn't process id: \", row_i)\n",
    "\n",
    "        id_unique_i = mapping_dict[id_i]\n",
    "\n",
    "    return(id_unique_i)\n",
    "\n",
    "df_m[\"id_unique\"] = df_m.apply(method, axis=1)\n",
    "df_m.set_index(\"id_unique\", inplace=True)"
   ]
  },
  {
   "cell_type": "markdown",
   "metadata": {},
   "source": [
    "# Adding energy per atom column"
   ]
  },
  {
   "cell_type": "code",
   "execution_count": 8,
   "metadata": {},
   "outputs": [],
   "source": [
    "def method(row_i):\n",
    "    atoms_i = row_i[\"atoms\"]\n",
    "    energy = None\n",
    "    if atoms_i is None:\n",
    "        energy = None\n",
    "    else:\n",
    "        try:\n",
    "            energy = atoms_i.get_potential_energy()\n",
    "        except:\n",
    "            energy = None\n",
    "    return(energy)\n",
    "df_m[\"energy\"] = df_m.apply(method, axis=1)\n",
    "\n",
    "def method(row_i):\n",
    "    energy_norm_i = None\n",
    "\n",
    "    atoms_i = row_i[\"atoms\"]\n",
    "    # energy_pa = row_i[\"energy_pa\"]\n",
    "    energy_pa = row_i.get(\"energy_pa\", np.nan)\n",
    "    \n",
    "\n",
    "    if not np.isnan(energy_pa) and row_i[\"source\"] == \"oqmd\":\n",
    "        energy_norm_i = energy_pa\n",
    "\n",
    "    else:\n",
    "        if atoms_i is None:\n",
    "            energy_norm_i = None\n",
    "        else:\n",
    "            num_atoms_i = len(atoms_i.get_atomic_numbers())\n",
    "            energy_norm_i = row_i[\"energy\"] / num_atoms_i\n",
    "\n",
    "    return(energy_norm_i)\n",
    "df_m[\"energy_pa\"] = df_m.apply(method, axis=1)"
   ]
  },
  {
   "cell_type": "markdown",
   "metadata": {},
   "source": [
    "# Adding Formation Enthalpy and Gibbs Free Energy"
   ]
  },
  {
   "cell_type": "code",
   "execution_count": 9,
   "metadata": {},
   "outputs": [],
   "source": [
    "from proj_data_irox import calc_dH\n",
    "\n",
    "\n",
    "def method(row_i, calc_dH):\n",
    "    energy_pa = row_i[\"energy_pa\"]\n",
    "    stoich = row_i[\"stoich\"]\n",
    "    \n",
    "    dH = calc_dH(energy_pa, stoich=stoich)\n",
    "    \n",
    "    return(dH)\n",
    "\n",
    "df_m[\"dH\"] = df_m.apply(method, args=(calc_dH, ), axis=1)"
   ]
  },
  {
   "cell_type": "code",
   "execution_count": 10,
   "metadata": {},
   "outputs": [],
   "source": [
    "# def method(row_i, argument_0, optional_arg=None):\n",
    "#     \"\"\"\n",
    "#     \"\"\"\n",
    "#     return(argument_0)\n",
    "\n",
    "# arg1 = \"TEMP_0\"\n",
    "# df_i = model_i\n",
    "# df_i[\"column_name\"] = df_i.apply(\n",
    "#     method,\n",
    "#     axis=1,\n",
    "#     args=(arg1, ),\n",
    "#     optional_arg=\"TEMP_1\"\n",
    "#     )"
   ]
  },
  {
   "cell_type": "markdown",
   "metadata": {},
   "source": [
    "# Removing rows with missing atoms objects"
   ]
  },
  {
   "cell_type": "code",
   "execution_count": 11,
   "metadata": {},
   "outputs": [],
   "source": [
    "df_m = df_m[df_m[\"atoms\"].notnull()]"
   ]
  },
  {
   "cell_type": "markdown",
   "metadata": {},
   "source": [
    "# Count number of atoms"
   ]
  },
  {
   "cell_type": "code",
   "execution_count": 12,
   "metadata": {},
   "outputs": [],
   "source": [
    "def method(row_i):\n",
    "    atoms_i = row_i[\"atoms\"]\n",
    "    num_atoms_i = atoms_i.get_number_of_atoms()\n",
    "    return(num_atoms_i)\n",
    "\n",
    "\n",
    "df_i = df_m\n",
    "df_i[\"num_atoms\"] = df_i.apply(\n",
    "    method,\n",
    "    axis=1)\n",
    "df_m = df_i"
   ]
  },
  {
   "cell_type": "markdown",
   "metadata": {},
   "source": [
    "# Save data"
   ]
  },
  {
   "cell_type": "code",
   "execution_count": 13,
   "metadata": {
    "lines_to_next_cell": 0
   },
   "outputs": [],
   "source": [
    "directory = \"out_data\"\n",
    "if not os.path.exists(directory):\n",
    "    os.makedirs(directory)\n",
    "\n",
    "with open(os.path.join(directory, \"df_bulk_dft.pickle\"), \"wb\") as fle:\n",
    "    pickle.dump(df_m, fle)"
   ]
  },
  {
   "cell_type": "code",
   "execution_count": 14,
   "metadata": {},
   "outputs": [
    {
     "data": {
      "text/plain": [
       "-2.526175703632692"
      ]
     },
     "execution_count": 14,
     "metadata": {},
     "output_type": "execute_result"
    }
   ],
   "source": [
    "3 * -7.049 - (2 * -4.657947279999998 + -9.304929736367313)"
   ]
  },
  {
   "cell_type": "code",
   "execution_count": 15,
   "metadata": {},
   "outputs": [
    {
     "data": {
      "text/plain": [
       "-7.04"
      ]
     },
     "execution_count": 15,
     "metadata": {},
     "output_type": "execute_result"
    }
   ],
   "source": [
    "-7.04"
   ]
  },
  {
   "cell_type": "code",
   "execution_count": 16,
   "metadata": {},
   "outputs": [
    {
     "data": {
      "text/html": [
       "<div>\n",
       "<style scoped>\n",
       "    .dataframe tbody tr th:only-of-type {\n",
       "        vertical-align: middle;\n",
       "    }\n",
       "\n",
       "    .dataframe tbody tr th {\n",
       "        vertical-align: top;\n",
       "    }\n",
       "\n",
       "    .dataframe thead th {\n",
       "        text-align: right;\n",
       "    }\n",
       "</style>\n",
       "<table border=\"1\" class=\"dataframe\">\n",
       "  <thead>\n",
       "    <tr style=\"text-align: right;\">\n",
       "      <th></th>\n",
       "      <th>atoms</th>\n",
       "      <th>energy_pa</th>\n",
       "      <th>form_e_chris</th>\n",
       "      <th>id</th>\n",
       "      <th>id_old</th>\n",
       "      <th>path</th>\n",
       "      <th>source</th>\n",
       "      <th>stoich</th>\n",
       "      <th>energy</th>\n",
       "      <th>dH</th>\n",
       "      <th>num_atoms</th>\n",
       "    </tr>\n",
       "    <tr>\n",
       "      <th>id_unique</th>\n",
       "      <th></th>\n",
       "      <th></th>\n",
       "      <th></th>\n",
       "      <th></th>\n",
       "      <th></th>\n",
       "      <th></th>\n",
       "      <th></th>\n",
       "      <th></th>\n",
       "      <th></th>\n",
       "      <th></th>\n",
       "      <th></th>\n",
       "    </tr>\n",
       "  </thead>\n",
       "  <tbody>\n",
       "    <tr>\n",
       "      <th>cubqbpzd7k</th>\n",
       "      <td>(Atom('O', [3.1853, 4.44115, 0.0], index=0), A...</td>\n",
       "      <td>-7.049062</td>\n",
       "      <td>NaN</td>\n",
       "      <td>NaN</td>\n",
       "      <td>473</td>\n",
       "      <td>/global/cscratch1/sd/flores12/IrOx_Project_tem...</td>\n",
       "      <td>raul</td>\n",
       "      <td>AB2</td>\n",
       "      <td>-676.709950</td>\n",
       "      <td>-2.515127</td>\n",
       "      <td>96</td>\n",
       "    </tr>\n",
       "    <tr>\n",
       "      <th>6r716sxr9t</th>\n",
       "      <td>(Atom('Ir', [-2.25703, 4.54641, 1.59822], inde...</td>\n",
       "      <td>-7.040906</td>\n",
       "      <td>NaN</td>\n",
       "      <td>NaN</td>\n",
       "      <td>9</td>\n",
       "      <td>/global/cscratch1/sd/flores12/IrOx_Project_tem...</td>\n",
       "      <td>raul</td>\n",
       "      <td>AB2</td>\n",
       "      <td>-42.245435</td>\n",
       "      <td>-2.490658</td>\n",
       "      <td>6</td>\n",
       "    </tr>\n",
       "  </tbody>\n",
       "</table>\n",
       "</div>"
      ],
      "text/plain": [
       "                                                        atoms  energy_pa  \\\n",
       "id_unique                                                                  \n",
       "cubqbpzd7k  (Atom('O', [3.1853, 4.44115, 0.0], index=0), A...  -7.049062   \n",
       "6r716sxr9t  (Atom('Ir', [-2.25703, 4.54641, 1.59822], inde...  -7.040906   \n",
       "\n",
       "            form_e_chris   id id_old  \\\n",
       "id_unique                              \n",
       "cubqbpzd7k           NaN  NaN    473   \n",
       "6r716sxr9t           NaN  NaN      9   \n",
       "\n",
       "                                                         path source stoich  \\\n",
       "id_unique                                                                     \n",
       "cubqbpzd7k  /global/cscratch1/sd/flores12/IrOx_Project_tem...   raul    AB2   \n",
       "6r716sxr9t  /global/cscratch1/sd/flores12/IrOx_Project_tem...   raul    AB2   \n",
       "\n",
       "                energy        dH  num_atoms  \n",
       "id_unique                                    \n",
       "cubqbpzd7k -676.709950 -2.515127         96  \n",
       "6r716sxr9t  -42.245435 -2.490658          6  "
      ]
     },
     "execution_count": 16,
     "metadata": {},
     "output_type": "execute_result"
    }
   ],
   "source": [
    "df_m[\n",
    "    (df_m[\"stoich\"] == \"AB2\") & \\\n",
    "#     (df_m[\"stoich\"] == \"AB2\")\n",
    "    (df_m[\"source\"] == \"raul\")\n",
    "    ].sort_values(\"energy_pa\").loc[\n",
    "    \n",
    "    [\n",
    "        \n",
    "\"cubqbpzd7k\",\n",
    "\"6r716sxr9t\",        \n",
    "    ]\n",
    "]"
   ]
  },
  {
   "cell_type": "code",
   "execution_count": 17,
   "metadata": {},
   "outputs": [
    {
     "name": "stdout",
     "output_type": "stream",
     "text": [
      "-0.008156000000000496\n",
      "-0.024469000000000296\n"
     ]
    }
   ],
   "source": [
    "print(-7.049062 - -7.040906)\n",
    "\n",
    "print(-2.515127 - -2.490658)"
   ]
  },
  {
   "cell_type": "raw",
   "metadata": {
    "lines_to_next_cell": 2
   },
   "source": [
    "\n",
    "\n",
    "\n"
   ]
  },
  {
   "cell_type": "code",
   "execution_count": 18,
   "metadata": {
    "jupyter": {
     "source_hidden": true
    }
   },
   "outputs": [],
   "source": [
    "# df_m[\n",
    "#     (df_m[\"source\"] == \"raul\") & \\\n",
    "#     (df_m[\"stoich\"] == \"AB2\")\n",
    "#     ][\"source\"]\n",
    "\n",
    "# # df_m.head()"
   ]
  },
  {
   "cell_type": "code",
   "execution_count": 19,
   "metadata": {
    "jupyter": {
     "source_hidden": true
    }
   },
   "outputs": [],
   "source": [
    "# df_m[df_m[\"source\"] == \"raul_oer\"].index.tolist()"
   ]
  },
  {
   "cell_type": "code",
   "execution_count": 20,
   "metadata": {
    "jupyter": {
     "source_hidden": true
    }
   },
   "outputs": [],
   "source": [
    "# def method(row_i):\n",
    "#     atoms_i = row_i[\"atoms\"]\n",
    "#     num_atoms_i = atoms_i.get_number_of_atoms()\n",
    "#     return(num_atoms_i)\n",
    "\n",
    "\n",
    "# df_i = df_m\n",
    "# df_i[\"num_atoms\"] = df_i.apply(\n",
    "#     method,\n",
    "#     axis=1)\n",
    "# df_m = df_i"
   ]
  },
  {
   "cell_type": "code",
   "execution_count": 21,
   "metadata": {
    "jupyter": {
     "source_hidden": true
    }
   },
   "outputs": [],
   "source": [
    "# df_m.sort_values(\"num_atoms\").iloc[0][\"path\"]\n",
    "\n",
    "# df_m.loc[\"9qzl9t7l84\"]"
   ]
  },
  {
   "cell_type": "code",
   "execution_count": 22,
   "metadata": {
    "jupyter": {
     "source_hidden": true
    }
   },
   "outputs": [],
   "source": [
    "# df_m = df_m[df_m[\"stoich\"] == \"AB3\"]\n",
    "# df_m = df_m[df_m[\"source\"] == \"chris\"]\n",
    "\n",
    "# # if row_i[\"energy_pa\"]\n",
    "\n",
    "# # row_i = df_m.loc[\"v4zonyzw7d\"]\n",
    "# row_i = df_oqmd_data.iloc[0]\n",
    "\n",
    "# energy_pa = row_i[\"energy_pa\"]\n",
    "# if not np.isnan(energy_pa) and row_i[\"source\"] == \"oqmd\":\n",
    "#     energy_norm_i = energy_pa\n",
    "\n",
    "# # row_i\n",
    "\n",
    "# def method(row_i):\n",
    "#     \"\"\"\n",
    "#     \"\"\"\n",
    "#     atoms_i = row_i[\"atoms\"]    \n",
    "#     num_atoms_i = atoms_i.get_number_of_atoms()\n",
    "#     return(num_atoms_i)\n",
    "\n",
    "# df_i = df_m\n",
    "# df_i[\"num_atoms\"] = df_i.apply(\n",
    "#     method,\n",
    "#     axis=1,\n",
    "#     )\n",
    "# df_m = df_i"
   ]
  }
 ],
 "metadata": {
  "jupytext": {
   "formats": "ipynb,py:light"
  },
  "kernelspec": {
   "display_name": "Python 3",
   "language": "python",
   "name": "python3"
  },
  "language_info": {
   "codemirror_mode": {
    "name": "ipython",
    "version": 3
   },
   "file_extension": ".py",
   "mimetype": "text/x-python",
   "name": "python",
   "nbconvert_exporter": "python",
   "pygments_lexer": "ipython3",
   "version": "3.6.8"
  }
 },
 "nbformat": 4,
 "nbformat_minor": 4
}
