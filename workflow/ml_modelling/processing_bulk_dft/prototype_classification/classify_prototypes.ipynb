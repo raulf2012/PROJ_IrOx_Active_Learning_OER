{
 "cells": [
  {
   "cell_type": "markdown",
   "metadata": {},
   "source": [
    "# Import Modules"
   ]
  },
  {
   "cell_type": "code",
   "execution_count": 1,
   "metadata": {},
   "outputs": [
    {
     "name": "stdout",
     "output_type": "stream",
     "text": [
      "/home/raulf2012/Dropbox/01_norskov/00_git_repos/PROJ_IrOx_Active_Learning_OER/workflow/ml_modelling/processing_bulk_dft/prototype_classification\n"
     ]
    }
   ],
   "source": [
    "import os\n",
    "print(os.getcwd())\n",
    "\n",
    "import sys\n",
    "\n",
    "import pickle\n",
    "\n",
    "import pandas as pd\n",
    "\n",
    "import bulk_enumerator as be\n",
    "import time\n",
    "\n",
    "from pymatgen.io.vasp.inputs import Poscar\n",
    "from pymatgen.io.ase import AseAtomsAdaptor\n",
    "\n",
    "# #############################################################################\n",
    "sys.path.insert(0, os.path.join(os.environ[\"PROJ_irox\"], \"data\"))     \n",
    "\n",
    "from proj_data_irox import (\n",
    "    bulk_dft_data_path,\n",
    "    unique_ids_path,\n",
    "    prototypes_data_path,\n",
    "    static_irox_structures_path,\n",
    "    oqmd_irox_data_path,\n",
    "    )"
   ]
  },
  {
   "cell_type": "markdown",
   "metadata": {},
   "source": [
    "# Read Data"
   ]
  },
  {
   "cell_type": "code",
   "execution_count": 2,
   "metadata": {},
   "outputs": [],
   "source": [
    "# #############################################################################\n",
    "with open(bulk_dft_data_path, \"rb\") as fle:\n",
    "    df_bulk_dft = pickle.load(fle)\n",
    "# #############################################################################\n",
    "\n",
    "df_bulk_dft = df_bulk_dft[df_bulk_dft.source == \"raul\"]"
   ]
  },
  {
   "cell_type": "markdown",
   "metadata": {},
   "source": [
    "# Classify prototype info"
   ]
  },
  {
   "cell_type": "code",
   "execution_count": 3,
   "metadata": {},
   "outputs": [],
   "source": [
    "# tolerance = 1e-12\n",
    "# tolerance = 1e-9\n",
    "# tolerance = 1e-8\n",
    "# tolerance = 1e-7\n",
    "# tolerance = 1e-6\n",
    "# tolerance = 1e-5\n",
    "tolerance = 1e-4\n",
    "# tolerance = 1e-3\n",
    "# tolerance = 1e-2\n",
    "# tolerance = 1e-1\n"
   ]
  },
  {
   "cell_type": "code",
   "execution_count": 4,
   "metadata": {
    "jupyter": {
     "source_hidden": true
    }
   },
   "outputs": [
    {
     "name": "stdout",
     "output_type": "stream",
     "text": [
      "time to complete for loop:  73.31834673881531 sec\n",
      "time to complete for loop (per iter):  0.09961731893860776 sec\n",
      "\n",
      "Number of entries processed:  736\n",
      "Unique entries (some systems with the same prototype):  540\n"
     ]
    }
   ],
   "source": [
    "t0 = time.time()\n",
    "\n",
    "data_list = []\n",
    "# for id_i, row_i in df_bulk_dft.iloc[0:20].iterrows():\n",
    "for id_i, row_i in df_bulk_dft.iterrows():\n",
    "\n",
    "    atoms_i = row_i[\"atoms\"]\n",
    "\n",
    "    structure_i = AseAtomsAdaptor.get_structure(atoms_i)\n",
    "    poscar_str_i = Poscar(structure_i).get_string()\n",
    "\n",
    "    b = be.bulk.BULK(\n",
    "        tolerance=tolerance, \n",
    "        )\n",
    "    b.set_structure_from_file(poscar_str_i)\n",
    "\n",
    "    spacegroup_i = b.get_spacegroup()\n",
    "    species_i = b.get_species()\n",
    "    wyckoff_i = b.get_wyckoff()\n",
    "    name_i = b.get_name()\n",
    "    parameter_values_i = b.get_parameter_values()\n",
    "\n",
    "    primitive_natom = b.get_primitive_natom()\n",
    "    std_natom = b.get_std_natom()\n",
    "\n",
    "    row_dict_i = {\n",
    "        \"id\": id_i,\n",
    "        \"spacegroup_i\": spacegroup_i,\n",
    "        \"species_i\": species_i,\n",
    "        \"wyckoff_i\": wyckoff_i,\n",
    "        \"name_i\": name_i,\n",
    "        \"parameter_values_i\": parameter_values_i,\n",
    "        \"primitive_natoms\": primitive_natom,\n",
    "        \"std_natom\": std_natom,\n",
    "        }\n",
    "    data_list.append(row_dict_i)\n",
    "\n",
    "\n",
    "t1 = time.time()\n",
    "print(\"time to complete for loop: \", t1 - t0, \"sec\")\n",
    "print(\"time to complete for loop (per iter): \", (t1 - t0) / len(data_list), \"sec\")\n",
    "print(\"\")\n",
    "\n",
    "df_proto = pd.DataFrame(data_list)\n",
    "df_proto.set_index(\"id\", inplace=True)\n",
    "\n",
    "print(\n",
    "    \"Number of entries processed: \",\n",
    "    len(df_proto[\"name_i\"].to_list())\n",
    "    )\n",
    "\n",
    "print(\n",
    "    \"Unique entries (some systems with the same prototype): \", \n",
    "    len(set(df_proto[\"name_i\"].tolist())),\n",
    "    )\n"
   ]
  },
  {
   "cell_type": "code",
   "execution_count": 5,
   "metadata": {},
   "outputs": [
    {
     "name": "stdout",
     "output_type": "stream",
     "text": [
      "num_atoms_removed: 5323\n"
     ]
    }
   ],
   "source": [
    "num_atoms_removed = (df_proto.std_natom - df_proto.primitive_natoms).sum()\n",
    "\n",
    "print(\"num_atoms_removed:\", num_atoms_removed)"
   ]
  },
  {
   "cell_type": "code",
   "execution_count": 6,
   "metadata": {
    "collapsed": true,
    "jupyter": {
     "outputs_hidden": true
    }
   },
   "outputs": [
    {
     "data": {
      "text/html": [
       "<div>\n",
       "<style scoped>\n",
       "    .dataframe tbody tr th:only-of-type {\n",
       "        vertical-align: middle;\n",
       "    }\n",
       "\n",
       "    .dataframe tbody tr th {\n",
       "        vertical-align: top;\n",
       "    }\n",
       "\n",
       "    .dataframe thead th {\n",
       "        text-align: right;\n",
       "    }\n",
       "</style>\n",
       "<table border=\"1\" class=\"dataframe\">\n",
       "  <thead>\n",
       "    <tr style=\"text-align: right;\">\n",
       "      <th></th>\n",
       "      <th>spacegroup_i</th>\n",
       "      <th>species_i</th>\n",
       "      <th>wyckoff_i</th>\n",
       "      <th>name_i</th>\n",
       "      <th>parameter_values_i</th>\n",
       "      <th>primitive_natoms</th>\n",
       "      <th>std_natom</th>\n",
       "    </tr>\n",
       "    <tr>\n",
       "      <th>id</th>\n",
       "      <th></th>\n",
       "      <th></th>\n",
       "      <th></th>\n",
       "      <th></th>\n",
       "      <th></th>\n",
       "      <th></th>\n",
       "      <th></th>\n",
       "    </tr>\n",
       "  </thead>\n",
       "  <tbody>\n",
       "    <tr>\n",
       "      <th>95c29e9f6h</th>\n",
       "      <td>4</td>\n",
       "      <td>[Ir, Ir, O, O, O, O]</td>\n",
       "      <td>[a, a, a, a, a, a]</td>\n",
       "      <td>AB2_4_a2_a4_4</td>\n",
       "      <td>[{'name': 'a', 'value': 3.1577903249242185}, {...</td>\n",
       "      <td>12</td>\n",
       "      <td>12</td>\n",
       "    </tr>\n",
       "    <tr>\n",
       "      <th>zh6rc56hzs</th>\n",
       "      <td>1</td>\n",
       "      <td>[Ir, Ir, Ir, Ir, O, O, O, O, O, O, O, O]</td>\n",
       "      <td>[a, a, a, a, a, a, a, a, a, a, a, a]</td>\n",
       "      <td>AB2_4_a4_a8_1</td>\n",
       "      <td>[{'name': 'a', 'value': 4.708590000066368}, {'...</td>\n",
       "      <td>12</td>\n",
       "      <td>12</td>\n",
       "    </tr>\n",
       "    <tr>\n",
       "      <th>ml6snhmqxe</th>\n",
       "      <td>221</td>\n",
       "      <td>[Ir, O, O, O]</td>\n",
       "      <td>[k, h, i, m]</td>\n",
       "      <td>AB2_24_k_him_221</td>\n",
       "      <td>[{'name': 'a', 'value': 13.5968}, {'name': 'yk...</td>\n",
       "      <td>72</td>\n",
       "      <td>72</td>\n",
       "    </tr>\n",
       "    <tr>\n",
       "      <th>zy9dzknhnj</th>\n",
       "      <td>74</td>\n",
       "      <td>[Ir, O, O]</td>\n",
       "      <td>[e, a, c]</td>\n",
       "      <td>AB2_2_e_ac_74</td>\n",
       "      <td>[{'name': 'a', 'value': 7.28936}, {'name': 'b/...</td>\n",
       "      <td>6</td>\n",
       "      <td>12</td>\n",
       "    </tr>\n",
       "    <tr>\n",
       "      <th>ca7u6o9ins</th>\n",
       "      <td>211</td>\n",
       "      <td>[Ir, O, O]</td>\n",
       "      <td>[i, h, i]</td>\n",
       "      <td>AB2_12_i_hi_211</td>\n",
       "      <td>[{'name': 'a', 'value': 11.5636}, {'name': 'yi...</td>\n",
       "      <td>36</td>\n",
       "      <td>72</td>\n",
       "    </tr>\n",
       "    <tr>\n",
       "      <th>...</th>\n",
       "      <td>...</td>\n",
       "      <td>...</td>\n",
       "      <td>...</td>\n",
       "      <td>...</td>\n",
       "      <td>...</td>\n",
       "      <td>...</td>\n",
       "      <td>...</td>\n",
       "    </tr>\n",
       "    <tr>\n",
       "      <th>xuvkcucdzf</th>\n",
       "      <td>6</td>\n",
       "      <td>[Ir, Ir, Ir, Ir, O, O, O, O, O, O, O, O, O, O,...</td>\n",
       "      <td>[a, a, b, b, a, a, a, a, a, a, b, b, b, b, b, b]</td>\n",
       "      <td>AB3_4_a2b2_a6b6_6</td>\n",
       "      <td>[{'name': 'a', 'value': 7.846689940905337}, {'...</td>\n",
       "      <td>16</td>\n",
       "      <td>16</td>\n",
       "    </tr>\n",
       "    <tr>\n",
       "      <th>zez2zp9o7o</th>\n",
       "      <td>139</td>\n",
       "      <td>[Ir, O, O, O]</td>\n",
       "      <td>[e, c, d, e]</td>\n",
       "      <td>AB3_2_e_cde_139</td>\n",
       "      <td>[{'name': 'a', 'value': 4.10895}, {'name': 'b/...</td>\n",
       "      <td>8</td>\n",
       "      <td>16</td>\n",
       "    </tr>\n",
       "    <tr>\n",
       "      <th>miceml8yc1</th>\n",
       "      <td>191</td>\n",
       "      <td>[Ir, O, O, O]</td>\n",
       "      <td>[f, b, c, k]</td>\n",
       "      <td>AB3_3_f_bck_191</td>\n",
       "      <td>[{'name': 'a', 'value': 7.167609850862035}, {'...</td>\n",
       "      <td>12</td>\n",
       "      <td>12</td>\n",
       "    </tr>\n",
       "    <tr>\n",
       "      <th>me8d9sx47e</th>\n",
       "      <td>1</td>\n",
       "      <td>[Ir, Ir, Ir, Ir, Ir, Ir, Ir, Ir, Ir, Ir, Ir, I...</td>\n",
       "      <td>[a, a, a, a, a, a, a, a, a, a, a, a, a, a, a, ...</td>\n",
       "      <td>AB3_18_a18_a54_1</td>\n",
       "      <td>[{'name': 'a', 'value': 8.23602}, {'name': 'b/...</td>\n",
       "      <td>72</td>\n",
       "      <td>72</td>\n",
       "    </tr>\n",
       "    <tr>\n",
       "      <th>zi9svixkvk</th>\n",
       "      <td>140</td>\n",
       "      <td>[Ir, O, O]</td>\n",
       "      <td>[b, a, h]</td>\n",
       "      <td>AB3_2_b_ah_140</td>\n",
       "      <td>[{'name': 'a', 'value': 4.91771}, {'name': 'b/...</td>\n",
       "      <td>8</td>\n",
       "      <td>16</td>\n",
       "    </tr>\n",
       "  </tbody>\n",
       "</table>\n",
       "<p>736 rows × 7 columns</p>\n",
       "</div>"
      ],
      "text/plain": [
       "            spacegroup_i                                          species_i  \\\n",
       "id                                                                            \n",
       "95c29e9f6h             4                               [Ir, Ir, O, O, O, O]   \n",
       "zh6rc56hzs             1           [Ir, Ir, Ir, Ir, O, O, O, O, O, O, O, O]   \n",
       "ml6snhmqxe           221                                      [Ir, O, O, O]   \n",
       "zy9dzknhnj            74                                         [Ir, O, O]   \n",
       "ca7u6o9ins           211                                         [Ir, O, O]   \n",
       "...                  ...                                                ...   \n",
       "xuvkcucdzf             6  [Ir, Ir, Ir, Ir, O, O, O, O, O, O, O, O, O, O,...   \n",
       "zez2zp9o7o           139                                      [Ir, O, O, O]   \n",
       "miceml8yc1           191                                      [Ir, O, O, O]   \n",
       "me8d9sx47e             1  [Ir, Ir, Ir, Ir, Ir, Ir, Ir, Ir, Ir, Ir, Ir, I...   \n",
       "zi9svixkvk           140                                         [Ir, O, O]   \n",
       "\n",
       "                                                    wyckoff_i  \\\n",
       "id                                                              \n",
       "95c29e9f6h                                 [a, a, a, a, a, a]   \n",
       "zh6rc56hzs               [a, a, a, a, a, a, a, a, a, a, a, a]   \n",
       "ml6snhmqxe                                       [k, h, i, m]   \n",
       "zy9dzknhnj                                          [e, a, c]   \n",
       "ca7u6o9ins                                          [i, h, i]   \n",
       "...                                                       ...   \n",
       "xuvkcucdzf   [a, a, b, b, a, a, a, a, a, a, b, b, b, b, b, b]   \n",
       "zez2zp9o7o                                       [e, c, d, e]   \n",
       "miceml8yc1                                       [f, b, c, k]   \n",
       "me8d9sx47e  [a, a, a, a, a, a, a, a, a, a, a, a, a, a, a, ...   \n",
       "zi9svixkvk                                          [b, a, h]   \n",
       "\n",
       "                       name_i  \\\n",
       "id                              \n",
       "95c29e9f6h      AB2_4_a2_a4_4   \n",
       "zh6rc56hzs      AB2_4_a4_a8_1   \n",
       "ml6snhmqxe   AB2_24_k_him_221   \n",
       "zy9dzknhnj      AB2_2_e_ac_74   \n",
       "ca7u6o9ins    AB2_12_i_hi_211   \n",
       "...                       ...   \n",
       "xuvkcucdzf  AB3_4_a2b2_a6b6_6   \n",
       "zez2zp9o7o    AB3_2_e_cde_139   \n",
       "miceml8yc1    AB3_3_f_bck_191   \n",
       "me8d9sx47e   AB3_18_a18_a54_1   \n",
       "zi9svixkvk     AB3_2_b_ah_140   \n",
       "\n",
       "                                           parameter_values_i  \\\n",
       "id                                                              \n",
       "95c29e9f6h  [{'name': 'a', 'value': 3.1577903249242185}, {...   \n",
       "zh6rc56hzs  [{'name': 'a', 'value': 4.708590000066368}, {'...   \n",
       "ml6snhmqxe  [{'name': 'a', 'value': 13.5968}, {'name': 'yk...   \n",
       "zy9dzknhnj  [{'name': 'a', 'value': 7.28936}, {'name': 'b/...   \n",
       "ca7u6o9ins  [{'name': 'a', 'value': 11.5636}, {'name': 'yi...   \n",
       "...                                                       ...   \n",
       "xuvkcucdzf  [{'name': 'a', 'value': 7.846689940905337}, {'...   \n",
       "zez2zp9o7o  [{'name': 'a', 'value': 4.10895}, {'name': 'b/...   \n",
       "miceml8yc1  [{'name': 'a', 'value': 7.167609850862035}, {'...   \n",
       "me8d9sx47e  [{'name': 'a', 'value': 8.23602}, {'name': 'b/...   \n",
       "zi9svixkvk  [{'name': 'a', 'value': 4.91771}, {'name': 'b/...   \n",
       "\n",
       "            primitive_natoms  std_natom  \n",
       "id                                       \n",
       "95c29e9f6h                12         12  \n",
       "zh6rc56hzs                12         12  \n",
       "ml6snhmqxe                72         72  \n",
       "zy9dzknhnj                 6         12  \n",
       "ca7u6o9ins                36         72  \n",
       "...                      ...        ...  \n",
       "xuvkcucdzf                16         16  \n",
       "zez2zp9o7o                 8         16  \n",
       "miceml8yc1                12         12  \n",
       "me8d9sx47e                72         72  \n",
       "zi9svixkvk                 8         16  \n",
       "\n",
       "[736 rows x 7 columns]"
      ]
     },
     "execution_count": 6,
     "metadata": {},
     "output_type": "execute_result"
    }
   ],
   "source": [
    "df_proto"
   ]
  },
  {
   "cell_type": "raw",
   "metadata": {},
   "source": [
    "1e-1 | 0\n",
    "1e-2 | 105\n",
    "1e-3 | 126\n",
    "1e-4 | 114\n",
    "1e-5 | 117\n",
    "1e-6 | 114\n",
    "1e-7 | 114\n",
    "1e-8 | 114\n",
    "1e-9 | 114"
   ]
  },
  {
   "cell_type": "raw",
   "metadata": {},
   "source": [
    "1e-3 | 5784\n",
    "1e-4 | 5323"
   ]
  },
  {
   "cell_type": "raw",
   "metadata": {},
   "source": [
    "\n",
    "\n",
    "\n"
   ]
  },
  {
   "cell_type": "code",
   "execution_count": 7,
   "metadata": {
    "jupyter": {
     "source_hidden": true
    }
   },
   "outputs": [],
   "source": [
    "# b.get_name()\n",
    "# b.get_parameter_gradients()\n",
    "# b.get_parameter_values()\n",
    "# b.get_parameters()\n",
    "# b.get_primitive_natom()\n",
    "# b.get_primitive_poscar()\n",
    "# b.get_spacegroup()\n",
    "# b.get_species()\n",
    "# b.get_species_permutations()\n",
    "# b.get_std_natom()\n",
    "# b.get_std_poscar()\n",
    "# b.get_wyckoff()\n",
    "# b.get_wyckoff_list()\n",
    "# b.get_wyckoff_structure_map()"
   ]
  },
  {
   "cell_type": "code",
   "execution_count": 8,
   "metadata": {
    "jupyter": {
     "source_hidden": true
    }
   },
   "outputs": [],
   "source": [
    "# b.get_primitive_natom()\n",
    "# b.get_std_natom()\n",
    "# b.get_std_poscar()\n",
    "# b.get_wyckoff()"
   ]
  }
 ],
 "metadata": {
  "kernelspec": {
   "display_name": "Python [conda env:PROJ_IrOx_Active_Learning_OER]",
   "language": "python",
   "name": "conda-env-PROJ_IrOx_Active_Learning_OER-py"
  },
  "language_info": {
   "codemirror_mode": {
    "name": "ipython",
    "version": 3
   },
   "file_extension": ".py",
   "mimetype": "text/x-python",
   "name": "python",
   "nbconvert_exporter": "python",
   "pygments_lexer": "ipython3",
   "version": "3.6.7"
  }
 },
 "nbformat": 4,
 "nbformat_minor": 4
}
