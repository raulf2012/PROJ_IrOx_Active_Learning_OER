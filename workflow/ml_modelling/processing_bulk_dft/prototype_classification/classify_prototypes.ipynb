{
 "cells": [
  {
   "cell_type": "markdown",
   "execution_count": null,
   "metadata": {},
   "outputs": [],
   "source": [
    "# Import Modules"
   ]
  },
  {
   "cell_type": "code",
   "execution_count": null,
   "metadata": {},
   "outputs": [],
   "source": [
    "import os\n",
    "print(os.getcwd())\n",
    "\n",
    "import sys\n",
    "\n",
    "import pickle\n",
    "\n",
    "import pandas as pd\n",
    "\n",
    "import bulk_enumerator as be\n",
    "import time\n",
    "\n",
    "from pymatgen.io.vasp.inputs import Poscar\n",
    "from pymatgen.io.ase import AseAtomsAdaptor\n",
    "\n",
    "# #############################################################################\n",
    "sys.path.insert(0, os.path.join(os.environ[\"PROJ_irox\"], \"data\"))     \n",
    "\n",
    "from proj_data_irox import (\n",
    "    bulk_dft_data_path,\n",
    "    unique_ids_path,\n",
    "    prototypes_data_path,\n",
    "    static_irox_structures_path,\n",
    "    oqmd_irox_data_path,\n",
    "    )"
   ]
  },
  {
   "cell_type": "markdown",
   "execution_count": null,
   "metadata": {},
   "outputs": [],
   "source": [
    "# Read Data"
   ]
  },
  {
   "cell_type": "code",
   "execution_count": null,
   "metadata": {},
   "outputs": [],
   "source": [
    "# #############################################################################\n",
    "with open(bulk_dft_data_path, \"rb\") as fle:\n",
    "    df_bulk_dft = pickle.load(fle)\n",
    "# #############################################################################\n",
    "\n",
    "df_bulk_dft = df_bulk_dft[df_bulk_dft.source == \"raul\"]"
   ]
  },
  {
   "cell_type": "markdown",
   "execution_count": null,
   "metadata": {},
   "outputs": [],
   "source": [
    "# Classify prototype info"
   ]
  },
  {
   "cell_type": "code",
   "execution_count": null,
   "metadata": {},
   "outputs": [],
   "source": [
    "# tolerance = 1e-12\n",
    "# tolerance = 1e-9\n",
    "# tolerance = 1e-8\n",
    "# tolerance = 1e-7\n",
    "# tolerance = 1e-6\n",
    "# tolerance = 1e-5\n",
    "tolerance = 1e-4\n",
    "# tolerance = 1e-3\n",
    "# tolerance = 1e-2\n",
    "# tolerance = 1e-1\n"
   ]
  },
  {
   "cell_type": "code",
   "execution_count": null,
   "metadata": {
    "jupyter": {}
   },
   "outputs": [],
   "source": [
    "t0 = time.time()\n",
    "\n",
    "data_list = []\n",
    "# for id_i, row_i in df_bulk_dft.iloc[0:20].iterrows():\n",
    "for id_i, row_i in df_bulk_dft.iterrows():\n",
    "\n",
    "    atoms_i = row_i[\"atoms\"]\n",
    "\n",
    "    structure_i = AseAtomsAdaptor.get_structure(atoms_i)\n",
    "    poscar_str_i = Poscar(structure_i).get_string()\n",
    "\n",
    "    b = be.bulk.BULK(\n",
    "        tolerance=tolerance, \n",
    "        )\n",
    "    b.set_structure_from_file(poscar_str_i)\n",
    "\n",
    "    spacegroup_i = b.get_spacegroup()\n",
    "    species_i = b.get_species()\n",
    "    wyckoff_i = b.get_wyckoff()\n",
    "    name_i = b.get_name()\n",
    "    parameter_values_i = b.get_parameter_values()\n",
    "\n",
    "    primitive_natom = b.get_primitive_natom()\n",
    "    std_natom = b.get_std_natom()\n",
    "\n",
    "    row_dict_i = {\n",
    "        \"id\": id_i,\n",
    "        \"spacegroup_i\": spacegroup_i,\n",
    "        \"species_i\": species_i,\n",
    "        \"wyckoff_i\": wyckoff_i,\n",
    "        \"name_i\": name_i,\n",
    "        \"parameter_values_i\": parameter_values_i,\n",
    "        \"primitive_natoms\": primitive_natom,\n",
    "        \"std_natom\": std_natom,\n",
    "        }\n",
    "    data_list.append(row_dict_i)\n",
    "\n",
    "\n",
    "t1 = time.time()\n",
    "print(\"time to complete for loop: \", t1 - t0, \"sec\")\n",
    "print(\"time to complete for loop (per iter): \", (t1 - t0) / len(data_list), \"sec\")\n",
    "print(\"\")\n",
    "\n",
    "df_proto = pd.DataFrame(data_list)\n",
    "df_proto.set_index(\"id\", inplace=True)\n",
    "\n",
    "print(\n",
    "    \"Number of entries processed: \",\n",
    "    len(df_proto[\"name_i\"].to_list())\n",
    "    )\n",
    "\n",
    "print(\n",
    "    \"Unique entries (some systems with the same prototype): \", \n",
    "    len(set(df_proto[\"name_i\"].tolist())),\n",
    "    )\n"
   ]
  },
  {
   "cell_type": "code",
   "execution_count": null,
   "metadata": {},
   "outputs": [],
   "source": [
    "num_atoms_removed = (df_proto.std_natom - df_proto.primitive_natoms).sum()\n",
    "\n",
    "print(\"num_atoms_removed:\", num_atoms_removed)"
   ]
  },
  {
   "cell_type": "code",
   "execution_count": null,
   "metadata": {
    "collapsed": true,
    "jupyter": {
     "outputs_hidden": true
    }
   },
   "outputs": [],
   "source": [
    "df_proto"
   ]
  },
  {
   "cell_type": "raw",
   "execution_count": null,
   "metadata": {},
   "outputs": [],
   "source": [
    "1e-1 | 0\n",
    "1e-2 | 105\n",
    "1e-3 | 126\n",
    "1e-4 | 114\n",
    "1e-5 | 117\n",
    "1e-6 | 114\n",
    "1e-7 | 114\n",
    "1e-8 | 114\n",
    "1e-9 | 114"
   ]
  },
  {
   "cell_type": "raw",
   "execution_count": null,
   "metadata": {},
   "outputs": [],
   "source": [
    "1e-3 | 5784\n",
    "1e-4 | 5323"
   ]
  },
  {
   "cell_type": "raw",
   "execution_count": null,
   "metadata": {},
   "outputs": [],
   "source": [
    "\n",
    "\n",
    "\n"
   ]
  },
  {
   "cell_type": "code",
   "execution_count": null,
   "metadata": {
    "jupyter": {}
   },
   "outputs": [],
   "source": [
    "# b.get_name()\n",
    "# b.get_parameter_gradients()\n",
    "# b.get_parameter_values()\n",
    "# b.get_parameters()\n",
    "# b.get_primitive_natom()\n",
    "# b.get_primitive_poscar()\n",
    "# b.get_spacegroup()\n",
    "# b.get_species()\n",
    "# b.get_species_permutations()\n",
    "# b.get_std_natom()\n",
    "# b.get_std_poscar()\n",
    "# b.get_wyckoff()\n",
    "# b.get_wyckoff_list()\n",
    "# b.get_wyckoff_structure_map()"
   ]
  },
  {
   "cell_type": "code",
   "execution_count": null,
   "metadata": {
    "jupyter": {}
   },
   "outputs": [],
   "source": [
    "# b.get_primitive_natom()\n",
    "# b.get_std_natom()\n",
    "# b.get_std_poscar()\n",
    "# b.get_wyckoff()"
   ]
  }
 ],
 "metadata": {
  "kernelspec": {
   "display_name": "Python [conda env:PROJ_IrOx_Active_Learning_OER]",
   "language": "python",
   "name": "conda-env-PROJ_IrOx_Active_Learning_OER-py"
  },
  "language_info": {
   "codemirror_mode": {
    "name": "ipython",
    "version": 3
   },
   "file_extension": ".py",
   "mimetype": "text/x-python",
   "name": "python",
   "nbconvert_exporter": "python",
   "pygments_lexer": "ipython3",
   "version": "3.6.7"
  }
 },
 "nbformat": 4,
 "nbformat_minor": 4
}
