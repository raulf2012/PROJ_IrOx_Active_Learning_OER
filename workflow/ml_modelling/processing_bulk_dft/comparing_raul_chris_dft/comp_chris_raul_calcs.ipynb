{
 "cells": [
  {
   "cell_type": "markdown",
   "metadata": {},
   "source": [
    "# Import Modules"
   ],
   "execution_count": null,
   "outputs": []
  },
  {
   "cell_type": "code",
   "execution_count": null,
   "metadata": {},
   "outputs": [],
   "source": [
    "import os\n",
    "import sys\n",
    "\n",
    "import pickle\n",
    "import pandas as pd\n",
    "\n",
    "from ase.visualize import view\n",
    "\n",
    "import chart_studio.plotly as py\n",
    "import plotly.graph_objs as go\n",
    "# #############################################################################\n",
    "sys.path.insert(0, os.path.join(os.environ[\"PROJ_irox\"], \"data\"))\n",
    "from proj_data_irox import bulk_dft_data_path"
   ]
  },
  {
   "cell_type": "markdown",
   "metadata": {},
   "source": [
    "# Script Inputs"
   ],
   "execution_count": null,
   "outputs": []
  },
  {
   "cell_type": "code",
   "execution_count": null,
   "metadata": {},
   "outputs": [],
   "source": [
    "raul_color = \"red\"\n",
    "chris_color = \"black\""
   ]
  },
  {
   "cell_type": "markdown",
   "metadata": {},
   "source": [
    "# Read & Process DFT Data"
   ],
   "execution_count": null,
   "outputs": []
  },
  {
   "cell_type": "markdown",
   "metadata": {},
   "source": [
    "## Read dataframe"
   ],
   "execution_count": null,
   "outputs": []
  },
  {
   "cell_type": "code",
   "execution_count": null,
   "metadata": {},
   "outputs": [],
   "source": [
    "with open(bulk_dft_data_path, \"rb\") as fle:\n",
    "    df_bulk_dft = pickle.load(fle)\n",
    "    df = df_bulk_dft"
   ]
  },
  {
   "cell_type": "markdown",
   "metadata": {},
   "source": [
    "## Filter only systems shared by Chris and Raul DFT calcs"
   ],
   "execution_count": null,
   "outputs": []
  },
  {
   "cell_type": "code",
   "execution_count": null,
   "metadata": {},
   "outputs": [],
   "source": [
    "shared_indices = list(\n",
    "    set(list(df[df[\"source\"] == \"raul\"].index))\n",
    "    &\n",
    "    set(list(df[df[\"source\"] == \"chris\"].index))\n",
    "    )\n",
    "print(\"Number of shared calculations: \", len(shared_indices))\n",
    "df_shared = df.loc[shared_indices]"
   ]
  },
  {
   "cell_type": "code",
   "execution_count": null,
   "metadata": {},
   "outputs": [],
   "source": [
    "grouped = df_shared.reset_index().groupby([\"id_unique\"])\n",
    "data_list = []\n",
    "for name, group in grouped:\n",
    "\n",
    "    data_dict_i = {\n",
    "        \"id_unique\": name,\n",
    "        \"e_diff\": None,\n",
    "        \"v_diff\": None,\n",
    "        \"e_diff_abs\": None,\n",
    "        \"v_diff_abs\": None,\n",
    "        }\n",
    "\n",
    "    row_raul = group[group[\"source\"] == \"raul\"]\n",
    "    row_chris = group[group[\"source\"] == \"chris\"]\n",
    "\n",
    "\n",
    "    e_diff = row_raul[\"energy_pa\"].iloc[0] - row_chris[\"energy_pa\"].iloc[0]\n",
    "    e_diff_abs = abs(e_diff)\n",
    "\n",
    "    atoms_raul = row_raul.iloc[0][\"atoms\"]\n",
    "    atoms_chris = row_chris.iloc[0][\"atoms\"]\n",
    "\n",
    "    vol_pa_raul = atoms_raul.get_volume() / atoms_raul.get_number_of_atoms()\n",
    "    vol_pa_chris = atoms_chris.get_volume() / atoms_chris.get_number_of_atoms()\n",
    "\n",
    "    v_diff = vol_pa_raul - vol_pa_chris\n",
    "    v_diff_abs = abs(v_diff)\n",
    "\n",
    "\n",
    "    data_dict_i[\"e_diff\"] = e_diff\n",
    "    data_dict_i[\"v_diff\"] = v_diff\n",
    "\n",
    "    data_dict_i[\"v_diff_abs\"] = v_diff_abs\n",
    "    data_dict_i[\"e_diff_abs\"] = e_diff_abs\n",
    "\n",
    "\n",
    "    data_list.append(data_dict_i)\n",
    "\n",
    "df_comp = pd.DataFrame(data_list)\n",
    "\n",
    "df_comp = df_comp.set_index(\"id_unique\")"
   ]
  },
  {
   "cell_type": "markdown",
   "metadata": {},
   "source": [
    "# Creating main traces"
   ],
   "execution_count": null,
   "outputs": []
  },
  {
   "cell_type": "code",
   "execution_count": null,
   "metadata": {},
   "outputs": [],
   "source": [
    "def method(row_i, argument_0, raul_color=None, chris_color=None, df_comp=None):\n",
    "    id_unique = row_i.name\n",
    "    source_i = row_i[\"source\"]\n",
    "    atoms_i = row_i[\"atoms\"]\n",
    "    energy_pa = row_i[\"energy_pa\"]\n",
    "\n",
    "    e_diff = df_comp.loc[id_unique][\"e_diff\"]\n",
    "    # #########################################################################\n",
    "    new_column_values_dict = {\n",
    "        \"trace\": None,\n",
    "        }\n",
    "\n",
    "    # #########################################################################\n",
    "    if source_i == \"raul\":\n",
    "        color_0 = raul_color\n",
    "        showlegend_i = True\n",
    "        marker_shape = \"diamond\"\n",
    "    elif source_i == \"chris\":\n",
    "        color_0 = chris_color\n",
    "        showlegend_i = False\n",
    "        marker_shape = \"circle\"\n",
    "\n",
    "    volume_i = atoms_i.get_volume()\n",
    "    num_atoms_i = atoms_i.get_number_of_atoms()\n",
    "    volume_pa = volume_i / num_atoms_i\n",
    "\n",
    "    trace_i = go.Scatter(\n",
    "        x=[volume_pa],\n",
    "        y=[energy_pa],\n",
    "        mode=\"markers\",\n",
    "        legendgroup=id_unique,\n",
    "        showlegend=showlegend_i,\n",
    "        name=id_unique,\n",
    "        marker=dict(\n",
    "            symbol=marker_shape,\n",
    "\n",
    "            # color=color_0,\n",
    "\n",
    "            color=e_diff,\n",
    "            colorscale='Viridis',\n",
    "            colorbar=dict(thickness=10),\n",
    "\n",
    "            size=12,\n",
    "            line=dict(\n",
    "                color='MediumPurple',\n",
    "                width=1.,\n",
    "                )\n",
    "            ),\n",
    "\n",
    "        )\n",
    "    new_column_values_dict[\"trace\"] = trace_i\n",
    "\n",
    "    # #########################################################################\n",
    "    for key, value in new_column_values_dict.items():\n",
    "        row_i[key] = value\n",
    "    return(row_i)\n",
    "\n",
    "df_i = df_shared\n",
    "\n",
    "arg1 = \"TEMP_0\"\n",
    "# df_i[\"column_name\"] = df_i.apply(\n",
    "df_i = df_i.apply(\n",
    "    method,\n",
    "    axis=1,\n",
    "    args=(arg1, ),\n",
    "    raul_color=raul_color,\n",
    "    chris_color=chris_color,\n",
    "    df_comp=df_comp,\n",
    "    )\n",
    "df_shared = df_i"
   ]
  },
  {
   "cell_type": "markdown",
   "metadata": {},
   "source": [
    "# Creating connections between data"
   ],
   "execution_count": null,
   "outputs": []
  },
  {
   "cell_type": "code",
   "execution_count": null,
   "metadata": {},
   "outputs": [],
   "source": [
    "grouped = df_shared.reset_index().groupby([\"id_unique\"])\n",
    "connecting_lines_data = []\n",
    "for name, group in grouped:\n",
    "\n",
    "    assert len(group) == 2, \"JIDFJSDI\"\n",
    "\n",
    "    row_0 = group.iloc[0]\n",
    "    row_1 = group.iloc[1]\n",
    "\n",
    "    vol_0 = row_0[\"atoms\"].get_volume() / row_0[\"atoms\"].get_number_of_atoms()\n",
    "    vol_1 = row_1[\"atoms\"].get_volume() / row_1[\"atoms\"].get_number_of_atoms()\n",
    "\n",
    "\n",
    "    energy_pa_0 = row_0[\"energy_pa\"]\n",
    "    energy_pa_1 = row_1[\"energy_pa\"]\n",
    "\n",
    "    trace_i = go.Scatter(\n",
    "        x=[vol_0, vol_1],\n",
    "        y=[energy_pa_0, energy_pa_1],\n",
    "        mode=\"lines\",\n",
    "        legendgroup=name,\n",
    "        showlegend=False,\n",
    "        line=dict(\n",
    "            color=\"grey\",\n",
    "            width=1.,\n",
    "#             dash=\"dot\",\n",
    "            ),\n",
    "\n",
    "        )\n",
    "\n",
    "    connecting_lines_data.append(trace_i)"
   ]
  },
  {
   "cell_type": "markdown",
   "metadata": {},
   "source": [
    "# Plotting"
   ],
   "execution_count": null,
   "outputs": []
  },
  {
   "cell_type": "code",
   "execution_count": null,
   "metadata": {},
   "outputs": [],
   "source": [
    "data = [] + \\\n",
    "    df_shared[\"trace\"].tolist() + \\\n",
    "    connecting_lines_data + \\\n",
    "    []\n",
    "\n",
    "\n",
    "\n",
    "fig = go.Figure(data=data)\n",
    "fig.update_layout(showlegend=False)\n",
    "\n",
    "fig.show()"
   ]
  },
  {
   "cell_type": "raw",
   "metadata": {},
   "source": [
    "\n",
    "\n"
   ],
   "execution_count": null,
   "outputs": []
  },
  {
   "cell_type": "code",
   "execution_count": null,
   "metadata": {},
   "outputs": [],
   "source": [
    "# view(df.loc[\"7ave8rzrzj\"].iloc[1][\"atoms\"])\n",
    "\n",
    "df.loc[\"7ave8rzrzj\"]"
   ]
  },
  {
   "cell_type": "code",
   "execution_count": null,
   "metadata": {},
   "outputs": [],
   "source": [
    "# df_tmp.sort_values(\"e_diff_abs\", ascending=False)\n",
    "\n",
    "\n",
    "# df_tmp[\n",
    "#     (df_tmp[\"e_diff\"] > 0.) &\n",
    "#     (df_tmp[\"e_diff\"] > 0.01)\n",
    "#     ]"
   ]
  },
  {
   "cell_type": "code",
   "execution_count": null,
   "metadata": {},
   "outputs": [],
   "source": [
    "import colorlover as cl"
   ]
  }
 ],
 "metadata": {
  "kernelspec": {
   "display_name": "Python 3",
   "language": "python",
   "name": "python3"
  },
  "language_info": {
   "codemirror_mode": {
    "name": "ipython",
    "version": 3
   },
   "file_extension": ".py",
   "mimetype": "text/x-python",
   "name": "python",
   "nbconvert_exporter": "python",
   "pygments_lexer": "ipython3",
   "version": "3.7.3"
  },
  "toc-autonumbering": true
 },
 "nbformat": 4,
 "nbformat_minor": 4
}
