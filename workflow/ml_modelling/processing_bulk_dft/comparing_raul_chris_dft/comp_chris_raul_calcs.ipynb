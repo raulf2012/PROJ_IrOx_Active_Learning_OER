{
 "cells": [
  {
   "cell_type": "markdown",
   "metadata": {},
   "source": [
    "# Import Modules"
   ]
  },
  {
   "cell_type": "code",
   "execution_count": 1,
   "metadata": {},
   "outputs": [],
   "source": [
    "import os\n",
    "import sys\n",
    "\n",
    "import pickle\n",
    "import pandas as pd\n",
    "\n",
    "from ase.visualize import view\n",
    "\n",
    "import chart_studio.plotly as py\n",
    "import plotly.graph_objs as go\n",
    "# #############################################################################\n",
    "sys.path.insert(0, os.path.join(os.environ[\"PROJ_irox\"], \"data\"))\n",
    "from proj_data_irox import bulk_dft_data_path"
   ]
  },
  {
   "cell_type": "markdown",
   "metadata": {},
   "source": [
    "# Script Inputs"
   ]
  },
  {
   "cell_type": "code",
   "execution_count": 2,
   "metadata": {},
   "outputs": [],
   "source": [
    "raul_color = \"red\"\n",
    "chris_color = \"black\""
   ]
  },
  {
   "cell_type": "markdown",
   "metadata": {},
   "source": [
    "# Read & Process DFT Data"
   ]
  },
  {
   "cell_type": "markdown",
   "metadata": {},
   "source": [
    "## Read dataframe"
   ]
  },
  {
   "cell_type": "code",
   "execution_count": 3,
   "metadata": {},
   "outputs": [],
   "source": [
    "with open(bulk_dft_data_path, \"rb\") as fle:\n",
    "    df_bulk_dft = pickle.load(fle)\n",
    "    df = df_bulk_dft"
   ]
  },
  {
   "cell_type": "markdown",
   "metadata": {},
   "source": [
    "## Filter only systems shared by Chris and Raul DFT calcs"
   ]
  },
  {
   "cell_type": "code",
   "execution_count": 4,
   "metadata": {},
   "outputs": [
    {
     "name": "stdout",
     "output_type": "stream",
     "text": [
      "Number of shared calculations:  74\n"
     ]
    }
   ],
   "source": [
    "shared_indices = list(\n",
    "    set(list(df[df[\"source\"] == \"raul\"].index))\n",
    "    &\n",
    "    set(list(df[df[\"source\"] == \"chris\"].index))\n",
    "    )\n",
    "print(\"Number of shared calculations: \", len(shared_indices))\n",
    "df_shared = df.loc[shared_indices]"
   ]
  },
  {
   "cell_type": "code",
   "execution_count": 5,
   "metadata": {},
   "outputs": [],
   "source": [
    "grouped = df_shared.reset_index().groupby([\"id_unique\"])\n",
    "data_list = []\n",
    "for name, group in grouped:\n",
    "\n",
    "    data_dict_i = {\n",
    "        \"id_unique\": name,\n",
    "        \"e_diff\": None,\n",
    "        \"v_diff\": None,\n",
    "        \"e_diff_abs\": None,\n",
    "        \"v_diff_abs\": None,\n",
    "        }\n",
    "\n",
    "    row_raul = group[group[\"source\"] == \"raul\"]\n",
    "    row_chris = group[group[\"source\"] == \"chris\"]\n",
    "\n",
    "\n",
    "    e_diff = row_raul[\"energy_pa\"].iloc[0] - row_chris[\"energy_pa\"].iloc[0]\n",
    "    e_diff_abs = abs(e_diff)\n",
    "\n",
    "    atoms_raul = row_raul.iloc[0][\"atoms\"]\n",
    "    atoms_chris = row_chris.iloc[0][\"atoms\"]\n",
    "\n",
    "    vol_pa_raul = atoms_raul.get_volume() / atoms_raul.get_number_of_atoms()\n",
    "    vol_pa_chris = atoms_chris.get_volume() / atoms_chris.get_number_of_atoms()\n",
    "\n",
    "    v_diff = vol_pa_raul - vol_pa_chris\n",
    "    v_diff_abs = abs(v_diff)\n",
    "\n",
    "\n",
    "    data_dict_i[\"e_diff\"] = e_diff\n",
    "    data_dict_i[\"v_diff\"] = v_diff\n",
    "\n",
    "    data_dict_i[\"v_diff_abs\"] = v_diff_abs\n",
    "    data_dict_i[\"e_diff_abs\"] = e_diff_abs\n",
    "\n",
    "\n",
    "    data_list.append(data_dict_i)\n",
    "\n",
    "df_comp = pd.DataFrame(data_list)\n",
    "\n",
    "df_comp = df_comp.set_index(\"id_unique\")"
   ]
  },
  {
   "cell_type": "markdown",
   "metadata": {},
   "source": [
    "# Creating main traces"
   ]
  },
  {
   "cell_type": "code",
   "execution_count": 6,
   "metadata": {},
   "outputs": [],
   "source": [
    "def method(row_i, argument_0, raul_color=None, chris_color=None, df_comp=None):\n",
    "    id_unique = row_i.name\n",
    "    source_i = row_i[\"source\"]\n",
    "    atoms_i = row_i[\"atoms\"]\n",
    "    energy_pa = row_i[\"energy_pa\"]\n",
    "\n",
    "    e_diff = df_comp.loc[id_unique][\"e_diff\"]\n",
    "    # #########################################################################\n",
    "    new_column_values_dict = {\n",
    "        \"trace\": None,\n",
    "        }\n",
    "\n",
    "    # #########################################################################\n",
    "    if source_i == \"raul\":\n",
    "        color_0 = raul_color\n",
    "        showlegend_i = True\n",
    "        marker_shape = \"diamond\"\n",
    "    elif source_i == \"chris\":\n",
    "        color_0 = chris_color\n",
    "        showlegend_i = False\n",
    "        marker_shape = \"circle\"\n",
    "\n",
    "    volume_i = atoms_i.get_volume()\n",
    "    num_atoms_i = atoms_i.get_number_of_atoms()\n",
    "    volume_pa = volume_i / num_atoms_i\n",
    "\n",
    "    trace_i = go.Scatter(\n",
    "        x=[volume_pa],\n",
    "        y=[energy_pa],\n",
    "        mode=\"markers\",\n",
    "        legendgroup=id_unique,\n",
    "        showlegend=showlegend_i,\n",
    "        name=id_unique,\n",
    "        marker=dict(\n",
    "            symbol=marker_shape,\n",
    "\n",
    "            # color=color_0,\n",
    "\n",
    "            color=e_diff,\n",
    "            colorscale='Viridis',\n",
    "            colorbar=dict(thickness=10),\n",
    "\n",
    "            size=12,\n",
    "            line=dict(\n",
    "                color='MediumPurple',\n",
    "                width=1.,\n",
    "                )\n",
    "            ),\n",
    "\n",
    "        )\n",
    "    new_column_values_dict[\"trace\"] = trace_i\n",
    "\n",
    "    # #########################################################################\n",
    "    for key, value in new_column_values_dict.items():\n",
    "        row_i[key] = value\n",
    "    return(row_i)\n",
    "\n",
    "df_i = df_shared\n",
    "\n",
    "arg1 = \"TEMP_0\"\n",
    "# df_i[\"column_name\"] = df_i.apply(\n",
    "df_i = df_i.apply(\n",
    "    method,\n",
    "    axis=1,\n",
    "    args=(arg1, ),\n",
    "    raul_color=raul_color,\n",
    "    chris_color=chris_color,\n",
    "    df_comp=df_comp,\n",
    "    )\n",
    "df_shared = df_i"
   ]
  },
  {
   "cell_type": "markdown",
   "metadata": {},
   "source": [
    "# Creating connections between data"
   ]
  },
  {
   "cell_type": "code",
   "execution_count": 7,
   "metadata": {},
   "outputs": [],
   "source": [
    "grouped = df_shared.reset_index().groupby([\"id_unique\"])\n",
    "connecting_lines_data = []\n",
    "for name, group in grouped:\n",
    "\n",
    "    assert len(group) == 2, \"JIDFJSDI\"\n",
    "\n",
    "    row_0 = group.iloc[0]\n",
    "    row_1 = group.iloc[1]\n",
    "\n",
    "    vol_0 = row_0[\"atoms\"].get_volume() / row_0[\"atoms\"].get_number_of_atoms()\n",
    "    vol_1 = row_1[\"atoms\"].get_volume() / row_1[\"atoms\"].get_number_of_atoms()\n",
    "\n",
    "\n",
    "    energy_pa_0 = row_0[\"energy_pa\"]\n",
    "    energy_pa_1 = row_1[\"energy_pa\"]\n",
    "\n",
    "    trace_i = go.Scatter(\n",
    "        x=[vol_0, vol_1],\n",
    "        y=[energy_pa_0, energy_pa_1],\n",
    "        mode=\"lines\",\n",
    "        legendgroup=name,\n",
    "        showlegend=False,\n",
    "        line=dict(\n",
    "            color=\"grey\",\n",
    "            width=1.,\n",
    "#             dash=\"dot\",\n",
    "            ),\n",
    "\n",
    "        )\n",
    "\n",
    "    connecting_lines_data.append(trace_i)"
   ]
  },
  {
   "cell_type": "markdown",
   "metadata": {},
   "source": [
    "# Plotting"
   ]
  },
  {
   "cell_type": "code",
   "execution_count": 12,
   "metadata": {},
   "outputs": [
    {
     "data": {
      "application/vnd.plotly.v1+json": {
       "config": {
        "plotlyServerURL": "https://plot.ly"
       },
       "data": [
        {
         "legendgroup": "bpc2nk6qz1",
         "marker": {
          "color": -0.2451868149999994,
          "colorbar": {
           "thickness": 10
          },
          "colorscale": [
           [
            0,
            "#440154"
           ],
           [
            0.1111111111111111,
            "#482878"
           ],
           [
            0.2222222222222222,
            "#3e4989"
           ],
           [
            0.3333333333333333,
            "#31688e"
           ],
           [
            0.4444444444444444,
            "#26828e"
           ],
           [
            0.5555555555555556,
            "#1f9e89"
           ],
           [
            0.6666666666666666,
            "#35b779"
           ],
           [
            0.7777777777777778,
            "#6ece58"
           ],
           [
            0.8888888888888888,
            "#b5de2b"
           ],
           [
            1,
            "#fde725"
           ]
          ],
          "line": {
           "color": "MediumPurple",
           "width": 1
          },
          "size": 12,
          "symbol": "diamond"
         },
         "mode": "markers",
         "name": "bpc2nk6qz1",
         "showlegend": true,
         "type": "scatter",
         "x": [
          11.95241158838254
         ],
         "y": [
          -6.9442786299999995
         ]
        },
        {
         "legendgroup": "bpc2nk6qz1",
         "marker": {
          "color": -0.2451868149999994,
          "colorbar": {
           "thickness": 10
          },
          "colorscale": [
           [
            0,
            "#440154"
           ],
           [
            0.1111111111111111,
            "#482878"
           ],
           [
            0.2222222222222222,
            "#3e4989"
           ],
           [
            0.3333333333333333,
            "#31688e"
           ],
           [
            0.4444444444444444,
            "#26828e"
           ],
           [
            0.5555555555555556,
            "#1f9e89"
           ],
           [
            0.6666666666666666,
            "#35b779"
           ],
           [
            0.7777777777777778,
            "#6ece58"
           ],
           [
            0.8888888888888888,
            "#b5de2b"
           ],
           [
            1,
            "#fde725"
           ]
          ],
          "line": {
           "color": "MediumPurple",
           "width": 1
          },
          "size": 12,
          "symbol": "circle"
         },
         "mode": "markers",
         "name": "bpc2nk6qz1",
         "showlegend": false,
         "type": "scatter",
         "x": [
          11.093756658829378
         ],
         "y": [
          -6.699091815
         ]
        },
        {
         "legendgroup": "7en56j64mi",
         "marker": {
          "color": 3.5734374999485397e-05,
          "colorbar": {
           "thickness": 10
          },
          "colorscale": [
           [
            0,
            "#440154"
           ],
           [
            0.1111111111111111,
            "#482878"
           ],
           [
            0.2222222222222222,
            "#3e4989"
           ],
           [
            0.3333333333333333,
            "#31688e"
           ],
           [
            0.4444444444444444,
            "#26828e"
           ],
           [
            0.5555555555555556,
            "#1f9e89"
           ],
           [
            0.6666666666666666,
            "#35b779"
           ],
           [
            0.7777777777777778,
            "#6ece58"
           ],
           [
            0.8888888888888888,
            "#b5de2b"
           ],
           [
            1,
            "#fde725"
           ]
          ],
          "line": {
           "color": "MediumPurple",
           "width": 1
          },
          "size": 12,
          "symbol": "diamond"
         },
         "mode": "markers",
         "name": "7en56j64mi",
         "showlegend": true,
         "type": "scatter",
         "x": [
          13.326239305597166
         ],
         "y": [
          -5.907570893125
         ]
        },
        {
         "legendgroup": "7en56j64mi",
         "marker": {
          "color": 3.5734374999485397e-05,
          "colorbar": {
           "thickness": 10
          },
          "colorscale": [
           [
            0,
            "#440154"
           ],
           [
            0.1111111111111111,
            "#482878"
           ],
           [
            0.2222222222222222,
            "#3e4989"
           ],
           [
            0.3333333333333333,
            "#31688e"
           ],
           [
            0.4444444444444444,
            "#26828e"
           ],
           [
            0.5555555555555556,
            "#1f9e89"
           ],
           [
            0.6666666666666666,
            "#35b779"
           ],
           [
            0.7777777777777778,
            "#6ece58"
           ],
           [
            0.8888888888888888,
            "#b5de2b"
           ],
           [
            1,
            "#fde725"
           ]
          ],
          "line": {
           "color": "MediumPurple",
           "width": 1
          },
          "size": 12,
          "symbol": "circle"
         },
         "mode": "markers",
         "name": "7en56j64mi",
         "showlegend": false,
         "type": "scatter",
         "x": [
          13.326504904706503
         ],
         "y": [
          -5.9076066275
         ]
        },
        {
         "legendgroup": "6d6a8a637i",
         "marker": {
          "color": -5.5764375000322275e-05,
          "colorbar": {
           "thickness": 10
          },
          "colorscale": [
           [
            0,
            "#440154"
           ],
           [
            0.1111111111111111,
            "#482878"
           ],
           [
            0.2222222222222222,
            "#3e4989"
           ],
           [
            0.3333333333333333,
            "#31688e"
           ],
           [
            0.4444444444444444,
            "#26828e"
           ],
           [
            0.5555555555555556,
            "#1f9e89"
           ],
           [
            0.6666666666666666,
            "#35b779"
           ],
           [
            0.7777777777777778,
            "#6ece58"
           ],
           [
            0.8888888888888888,
            "#b5de2b"
           ],
           [
            1,
            "#fde725"
           ]
          ],
          "line": {
           "color": "MediumPurple",
           "width": 1
          },
          "size": 12,
          "symbol": "diamond"
         },
         "mode": "markers",
         "name": "6d6a8a637i",
         "showlegend": true,
         "type": "scatter",
         "x": [
          20.110814508452755
         ],
         "y": [
          -6.170612928125
         ]
        },
        {
         "legendgroup": "6d6a8a637i",
         "marker": {
          "color": -5.5764375000322275e-05,
          "colorbar": {
           "thickness": 10
          },
          "colorscale": [
           [
            0,
            "#440154"
           ],
           [
            0.1111111111111111,
            "#482878"
           ],
           [
            0.2222222222222222,
            "#3e4989"
           ],
           [
            0.3333333333333333,
            "#31688e"
           ],
           [
            0.4444444444444444,
            "#26828e"
           ],
           [
            0.5555555555555556,
            "#1f9e89"
           ],
           [
            0.6666666666666666,
            "#35b779"
           ],
           [
            0.7777777777777778,
            "#6ece58"
           ],
           [
            0.8888888888888888,
            "#b5de2b"
           ],
           [
            1,
            "#fde725"
           ]
          ],
          "line": {
           "color": "MediumPurple",
           "width": 1
          },
          "size": 12,
          "symbol": "circle"
         },
         "mode": "markers",
         "name": "6d6a8a637i",
         "showlegend": false,
         "type": "scatter",
         "x": [
          20.12323567646139
         ],
         "y": [
          -6.17055716375
         ]
        },
        {
         "legendgroup": "xjxdzi73bg",
         "marker": {
          "color": -0.3299781950000007,
          "colorbar": {
           "thickness": 10
          },
          "colorscale": [
           [
            0,
            "#440154"
           ],
           [
            0.1111111111111111,
            "#482878"
           ],
           [
            0.2222222222222222,
            "#3e4989"
           ],
           [
            0.3333333333333333,
            "#31688e"
           ],
           [
            0.4444444444444444,
            "#26828e"
           ],
           [
            0.5555555555555556,
            "#1f9e89"
           ],
           [
            0.6666666666666666,
            "#35b779"
           ],
           [
            0.7777777777777778,
            "#6ece58"
           ],
           [
            0.8888888888888888,
            "#b5de2b"
           ],
           [
            1,
            "#fde725"
           ]
          ],
          "line": {
           "color": "MediumPurple",
           "width": 1
          },
          "size": 12,
          "symbol": "diamond"
         },
         "mode": "markers",
         "name": "xjxdzi73bg",
         "showlegend": true,
         "type": "scatter",
         "x": [
          10.86831593077965
         ],
         "y": [
          -6.46176988
         ]
        },
        {
         "legendgroup": "xjxdzi73bg",
         "marker": {
          "color": -0.3299781950000007,
          "colorbar": {
           "thickness": 10
          },
          "colorscale": [
           [
            0,
            "#440154"
           ],
           [
            0.1111111111111111,
            "#482878"
           ],
           [
            0.2222222222222222,
            "#3e4989"
           ],
           [
            0.3333333333333333,
            "#31688e"
           ],
           [
            0.4444444444444444,
            "#26828e"
           ],
           [
            0.5555555555555556,
            "#1f9e89"
           ],
           [
            0.6666666666666666,
            "#35b779"
           ],
           [
            0.7777777777777778,
            "#6ece58"
           ],
           [
            0.8888888888888888,
            "#b5de2b"
           ],
           [
            1,
            "#fde725"
           ]
          ],
          "line": {
           "color": "MediumPurple",
           "width": 1
          },
          "size": 12,
          "symbol": "circle"
         },
         "mode": "markers",
         "name": "xjxdzi73bg",
         "showlegend": false,
         "type": "scatter",
         "x": [
          23.262292081756197
         ],
         "y": [
          -6.131791685
         ]
        },
        {
         "legendgroup": "cung63bez1",
         "marker": {
          "color": -0.00015638416666696742,
          "colorbar": {
           "thickness": 10
          },
          "colorscale": [
           [
            0,
            "#440154"
           ],
           [
            0.1111111111111111,
            "#482878"
           ],
           [
            0.2222222222222222,
            "#3e4989"
           ],
           [
            0.3333333333333333,
            "#31688e"
           ],
           [
            0.4444444444444444,
            "#26828e"
           ],
           [
            0.5555555555555556,
            "#1f9e89"
           ],
           [
            0.6666666666666666,
            "#35b779"
           ],
           [
            0.7777777777777778,
            "#6ece58"
           ],
           [
            0.8888888888888888,
            "#b5de2b"
           ],
           [
            1,
            "#fde725"
           ]
          ],
          "line": {
           "color": "MediumPurple",
           "width": 1
          },
          "size": 12,
          "symbol": "diamond"
         },
         "mode": "markers",
         "name": "cung63bez1",
         "showlegend": true,
         "type": "scatter",
         "x": [
          12.878014073126131
         ],
         "y": [
          -6.743333853333334
         ]
        },
        {
         "legendgroup": "cung63bez1",
         "marker": {
          "color": -0.00015638416666696742,
          "colorbar": {
           "thickness": 10
          },
          "colorscale": [
           [
            0,
            "#440154"
           ],
           [
            0.1111111111111111,
            "#482878"
           ],
           [
            0.2222222222222222,
            "#3e4989"
           ],
           [
            0.3333333333333333,
            "#31688e"
           ],
           [
            0.4444444444444444,
            "#26828e"
           ],
           [
            0.5555555555555556,
            "#1f9e89"
           ],
           [
            0.6666666666666666,
            "#35b779"
           ],
           [
            0.7777777777777778,
            "#6ece58"
           ],
           [
            0.8888888888888888,
            "#b5de2b"
           ],
           [
            1,
            "#fde725"
           ]
          ],
          "line": {
           "color": "MediumPurple",
           "width": 1
          },
          "size": 12,
          "symbol": "circle"
         },
         "mode": "markers",
         "name": "cung63bez1",
         "showlegend": false,
         "type": "scatter",
         "x": [
          12.9078506772451
         ],
         "y": [
          -6.743177469166667
         ]
        },
        {
         "legendgroup": "vlbdnoxlnh",
         "marker": {
          "color": -0.33044111000000065,
          "colorbar": {
           "thickness": 10
          },
          "colorscale": [
           [
            0,
            "#440154"
           ],
           [
            0.1111111111111111,
            "#482878"
           ],
           [
            0.2222222222222222,
            "#3e4989"
           ],
           [
            0.3333333333333333,
            "#31688e"
           ],
           [
            0.4444444444444444,
            "#26828e"
           ],
           [
            0.5555555555555556,
            "#1f9e89"
           ],
           [
            0.6666666666666666,
            "#35b779"
           ],
           [
            0.7777777777777778,
            "#6ece58"
           ],
           [
            0.8888888888888888,
            "#b5de2b"
           ],
           [
            1,
            "#fde725"
           ]
          ],
          "line": {
           "color": "MediumPurple",
           "width": 1
          },
          "size": 12,
          "symbol": "diamond"
         },
         "mode": "markers",
         "name": "vlbdnoxlnh",
         "showlegend": true,
         "type": "scatter",
         "x": [
          10.868881658248148
         ],
         "y": [
          -6.461792755
         ]
        },
        {
         "legendgroup": "vlbdnoxlnh",
         "marker": {
          "color": -0.33044111000000065,
          "colorbar": {
           "thickness": 10
          },
          "colorscale": [
           [
            0,
            "#440154"
           ],
           [
            0.1111111111111111,
            "#482878"
           ],
           [
            0.2222222222222222,
            "#3e4989"
           ],
           [
            0.3333333333333333,
            "#31688e"
           ],
           [
            0.4444444444444444,
            "#26828e"
           ],
           [
            0.5555555555555556,
            "#1f9e89"
           ],
           [
            0.6666666666666666,
            "#35b779"
           ],
           [
            0.7777777777777778,
            "#6ece58"
           ],
           [
            0.8888888888888888,
            "#b5de2b"
           ],
           [
            1,
            "#fde725"
           ]
          ],
          "line": {
           "color": "MediumPurple",
           "width": 1
          },
          "size": 12,
          "symbol": "circle"
         },
         "mode": "markers",
         "name": "vlbdnoxlnh",
         "showlegend": false,
         "type": "scatter",
         "x": [
          22.947477859505643
         ],
         "y": [
          -6.131351645
         ]
        },
        {
         "legendgroup": "mp7svl6j8s",
         "marker": {
          "color": -0.026312005000000305,
          "colorbar": {
           "thickness": 10
          },
          "colorscale": [
           [
            0,
            "#440154"
           ],
           [
            0.1111111111111111,
            "#482878"
           ],
           [
            0.2222222222222222,
            "#3e4989"
           ],
           [
            0.3333333333333333,
            "#31688e"
           ],
           [
            0.4444444444444444,
            "#26828e"
           ],
           [
            0.5555555555555556,
            "#1f9e89"
           ],
           [
            0.6666666666666666,
            "#35b779"
           ],
           [
            0.7777777777777778,
            "#6ece58"
           ],
           [
            0.8888888888888888,
            "#b5de2b"
           ],
           [
            1,
            "#fde725"
           ]
          ],
          "line": {
           "color": "MediumPurple",
           "width": 1
          },
          "size": 12,
          "symbol": "diamond"
         },
         "mode": "markers",
         "name": "mp7svl6j8s",
         "showlegend": true,
         "type": "scatter",
         "x": [
          19.016262302183897
         ],
         "y": [
          -6.1504233575
         ]
        },
        {
         "legendgroup": "mp7svl6j8s",
         "marker": {
          "color": -0.026312005000000305,
          "colorbar": {
           "thickness": 10
          },
          "colorscale": [
           [
            0,
            "#440154"
           ],
           [
            0.1111111111111111,
            "#482878"
           ],
           [
            0.2222222222222222,
            "#3e4989"
           ],
           [
            0.3333333333333333,
            "#31688e"
           ],
           [
            0.4444444444444444,
            "#26828e"
           ],
           [
            0.5555555555555556,
            "#1f9e89"
           ],
           [
            0.6666666666666666,
            "#35b779"
           ],
           [
            0.7777777777777778,
            "#6ece58"
           ],
           [
            0.8888888888888888,
            "#b5de2b"
           ],
           [
            1,
            "#fde725"
           ]
          ],
          "line": {
           "color": "MediumPurple",
           "width": 1
          },
          "size": 12,
          "symbol": "circle"
         },
         "mode": "markers",
         "name": "mp7svl6j8s",
         "showlegend": false,
         "type": "scatter",
         "x": [
          20.387034398459633
         ],
         "y": [
          -6.1241113525
         ]
        },
        {
         "legendgroup": "b5cgvsb16w",
         "marker": {
          "color": -0.00017041125000005763,
          "colorbar": {
           "thickness": 10
          },
          "colorscale": [
           [
            0,
            "#440154"
           ],
           [
            0.1111111111111111,
            "#482878"
           ],
           [
            0.2222222222222222,
            "#3e4989"
           ],
           [
            0.3333333333333333,
            "#31688e"
           ],
           [
            0.4444444444444444,
            "#26828e"
           ],
           [
            0.5555555555555556,
            "#1f9e89"
           ],
           [
            0.6666666666666666,
            "#35b779"
           ],
           [
            0.7777777777777778,
            "#6ece58"
           ],
           [
            0.8888888888888888,
            "#b5de2b"
           ],
           [
            1,
            "#fde725"
           ]
          ],
          "line": {
           "color": "MediumPurple",
           "width": 1
          },
          "size": 12,
          "symbol": "diamond"
         },
         "mode": "markers",
         "name": "b5cgvsb16w",
         "showlegend": true,
         "type": "scatter",
         "x": [
          12.027832152721652
         ],
         "y": [
          -6.456962203125
         ]
        },
        {
         "legendgroup": "b5cgvsb16w",
         "marker": {
          "color": -0.00017041125000005763,
          "colorbar": {
           "thickness": 10
          },
          "colorscale": [
           [
            0,
            "#440154"
           ],
           [
            0.1111111111111111,
            "#482878"
           ],
           [
            0.2222222222222222,
            "#3e4989"
           ],
           [
            0.3333333333333333,
            "#31688e"
           ],
           [
            0.4444444444444444,
            "#26828e"
           ],
           [
            0.5555555555555556,
            "#1f9e89"
           ],
           [
            0.6666666666666666,
            "#35b779"
           ],
           [
            0.7777777777777778,
            "#6ece58"
           ],
           [
            0.8888888888888888,
            "#b5de2b"
           ],
           [
            1,
            "#fde725"
           ]
          ],
          "line": {
           "color": "MediumPurple",
           "width": 1
          },
          "size": 12,
          "symbol": "circle"
         },
         "mode": "markers",
         "name": "b5cgvsb16w",
         "showlegend": false,
         "type": "scatter",
         "x": [
          12.024976223645643
         ],
         "y": [
          -6.456791791875
         ]
        },
        {
         "legendgroup": "xgmkzuxf8g",
         "marker": {
          "color": -0.00018897555555597023,
          "colorbar": {
           "thickness": 10
          },
          "colorscale": [
           [
            0,
            "#440154"
           ],
           [
            0.1111111111111111,
            "#482878"
           ],
           [
            0.2222222222222222,
            "#3e4989"
           ],
           [
            0.3333333333333333,
            "#31688e"
           ],
           [
            0.4444444444444444,
            "#26828e"
           ],
           [
            0.5555555555555556,
            "#1f9e89"
           ],
           [
            0.6666666666666666,
            "#35b779"
           ],
           [
            0.7777777777777778,
            "#6ece58"
           ],
           [
            0.8888888888888888,
            "#b5de2b"
           ],
           [
            1,
            "#fde725"
           ]
          ],
          "line": {
           "color": "MediumPurple",
           "width": 1
          },
          "size": 12,
          "symbol": "diamond"
         },
         "mode": "markers",
         "name": "xgmkzuxf8g",
         "showlegend": true,
         "type": "scatter",
         "x": [
          13.81332501680083
         ],
         "y": [
          -6.795048252777778
         ]
        },
        {
         "legendgroup": "xgmkzuxf8g",
         "marker": {
          "color": -0.00018897555555597023,
          "colorbar": {
           "thickness": 10
          },
          "colorscale": [
           [
            0,
            "#440154"
           ],
           [
            0.1111111111111111,
            "#482878"
           ],
           [
            0.2222222222222222,
            "#3e4989"
           ],
           [
            0.3333333333333333,
            "#31688e"
           ],
           [
            0.4444444444444444,
            "#26828e"
           ],
           [
            0.5555555555555556,
            "#1f9e89"
           ],
           [
            0.6666666666666666,
            "#35b779"
           ],
           [
            0.7777777777777778,
            "#6ece58"
           ],
           [
            0.8888888888888888,
            "#b5de2b"
           ],
           [
            1,
            "#fde725"
           ]
          ],
          "line": {
           "color": "MediumPurple",
           "width": 1
          },
          "size": 12,
          "symbol": "circle"
         },
         "mode": "markers",
         "name": "xgmkzuxf8g",
         "showlegend": false,
         "type": "scatter",
         "x": [
          14.191143413945264
         ],
         "y": [
          -6.794859277222222
         ]
        },
        {
         "legendgroup": "m4cacfvjvh",
         "marker": {
          "color": -0.03243159104166704,
          "colorbar": {
           "thickness": 10
          },
          "colorscale": [
           [
            0,
            "#440154"
           ],
           [
            0.1111111111111111,
            "#482878"
           ],
           [
            0.2222222222222222,
            "#3e4989"
           ],
           [
            0.3333333333333333,
            "#31688e"
           ],
           [
            0.4444444444444444,
            "#26828e"
           ],
           [
            0.5555555555555556,
            "#1f9e89"
           ],
           [
            0.6666666666666666,
            "#35b779"
           ],
           [
            0.7777777777777778,
            "#6ece58"
           ],
           [
            0.8888888888888888,
            "#b5de2b"
           ],
           [
            1,
            "#fde725"
           ]
          ],
          "line": {
           "color": "MediumPurple",
           "width": 1
          },
          "size": 12,
          "symbol": "diamond"
         },
         "mode": "markers",
         "name": "m4cacfvjvh",
         "showlegend": true,
         "type": "scatter",
         "x": [
          13.098691572803448
         ],
         "y": [
          -6.609411229583333
         ]
        },
        {
         "legendgroup": "m4cacfvjvh",
         "marker": {
          "color": -0.03243159104166704,
          "colorbar": {
           "thickness": 10
          },
          "colorscale": [
           [
            0,
            "#440154"
           ],
           [
            0.1111111111111111,
            "#482878"
           ],
           [
            0.2222222222222222,
            "#3e4989"
           ],
           [
            0.3333333333333333,
            "#31688e"
           ],
           [
            0.4444444444444444,
            "#26828e"
           ],
           [
            0.5555555555555556,
            "#1f9e89"
           ],
           [
            0.6666666666666666,
            "#35b779"
           ],
           [
            0.7777777777777778,
            "#6ece58"
           ],
           [
            0.8888888888888888,
            "#b5de2b"
           ],
           [
            1,
            "#fde725"
           ]
          ],
          "line": {
           "color": "MediumPurple",
           "width": 1
          },
          "size": 12,
          "symbol": "circle"
         },
         "mode": "markers",
         "name": "m4cacfvjvh",
         "showlegend": false,
         "type": "scatter",
         "x": [
          13.213666380360472
         ],
         "y": [
          -6.576979638541666
         ]
        },
        {
         "legendgroup": "8g6g9dv47g",
         "marker": {
          "color": 0.010617411250000153,
          "colorbar": {
           "thickness": 10
          },
          "colorscale": [
           [
            0,
            "#440154"
           ],
           [
            0.1111111111111111,
            "#482878"
           ],
           [
            0.2222222222222222,
            "#3e4989"
           ],
           [
            0.3333333333333333,
            "#31688e"
           ],
           [
            0.4444444444444444,
            "#26828e"
           ],
           [
            0.5555555555555556,
            "#1f9e89"
           ],
           [
            0.6666666666666666,
            "#35b779"
           ],
           [
            0.7777777777777778,
            "#6ece58"
           ],
           [
            0.8888888888888888,
            "#b5de2b"
           ],
           [
            1,
            "#fde725"
           ]
          ],
          "line": {
           "color": "MediumPurple",
           "width": 1
          },
          "size": 12,
          "symbol": "diamond"
         },
         "mode": "markers",
         "name": "8g6g9dv47g",
         "showlegend": true,
         "type": "scatter",
         "x": [
          24.080919434317003
         ],
         "y": [
          -6.12292283625
         ]
        },
        {
         "legendgroup": "8g6g9dv47g",
         "marker": {
          "color": 0.010617411250000153,
          "colorbar": {
           "thickness": 10
          },
          "colorscale": [
           [
            0,
            "#440154"
           ],
           [
            0.1111111111111111,
            "#482878"
           ],
           [
            0.2222222222222222,
            "#3e4989"
           ],
           [
            0.3333333333333333,
            "#31688e"
           ],
           [
            0.4444444444444444,
            "#26828e"
           ],
           [
            0.5555555555555556,
            "#1f9e89"
           ],
           [
            0.6666666666666666,
            "#35b779"
           ],
           [
            0.7777777777777778,
            "#6ece58"
           ],
           [
            0.8888888888888888,
            "#b5de2b"
           ],
           [
            1,
            "#fde725"
           ]
          ],
          "line": {
           "color": "MediumPurple",
           "width": 1
          },
          "size": 12,
          "symbol": "circle"
         },
         "mode": "markers",
         "name": "8g6g9dv47g",
         "showlegend": false,
         "type": "scatter",
         "x": [
          23.834723845693837
         ],
         "y": [
          -6.1335402475
         ]
        },
        {
         "legendgroup": "8gnt9rnd92",
         "marker": {
          "color": -0.00034941312499991994,
          "colorbar": {
           "thickness": 10
          },
          "colorscale": [
           [
            0,
            "#440154"
           ],
           [
            0.1111111111111111,
            "#482878"
           ],
           [
            0.2222222222222222,
            "#3e4989"
           ],
           [
            0.3333333333333333,
            "#31688e"
           ],
           [
            0.4444444444444444,
            "#26828e"
           ],
           [
            0.5555555555555556,
            "#1f9e89"
           ],
           [
            0.6666666666666666,
            "#35b779"
           ],
           [
            0.7777777777777778,
            "#6ece58"
           ],
           [
            0.8888888888888888,
            "#b5de2b"
           ],
           [
            1,
            "#fde725"
           ]
          ],
          "line": {
           "color": "MediumPurple",
           "width": 1
          },
          "size": 12,
          "symbol": "diamond"
         },
         "mode": "markers",
         "name": "8gnt9rnd92",
         "showlegend": true,
         "type": "scatter",
         "x": [
          12.684583057733304
         ],
         "y": [
          -6.353620888125
         ]
        },
        {
         "legendgroup": "8gnt9rnd92",
         "marker": {
          "color": -0.00034941312499991994,
          "colorbar": {
           "thickness": 10
          },
          "colorscale": [
           [
            0,
            "#440154"
           ],
           [
            0.1111111111111111,
            "#482878"
           ],
           [
            0.2222222222222222,
            "#3e4989"
           ],
           [
            0.3333333333333333,
            "#31688e"
           ],
           [
            0.4444444444444444,
            "#26828e"
           ],
           [
            0.5555555555555556,
            "#1f9e89"
           ],
           [
            0.6666666666666666,
            "#35b779"
           ],
           [
            0.7777777777777778,
            "#6ece58"
           ],
           [
            0.8888888888888888,
            "#b5de2b"
           ],
           [
            1,
            "#fde725"
           ]
          ],
          "line": {
           "color": "MediumPurple",
           "width": 1
          },
          "size": 12,
          "symbol": "circle"
         },
         "mode": "markers",
         "name": "8gnt9rnd92",
         "showlegend": false,
         "type": "scatter",
         "x": [
          12.67717922598353
         ],
         "y": [
          -6.353271475
         ]
        },
        {
         "legendgroup": "8495vjvsc3",
         "marker": {
          "color": 0.3051127911111111,
          "colorbar": {
           "thickness": 10
          },
          "colorscale": [
           [
            0,
            "#440154"
           ],
           [
            0.1111111111111111,
            "#482878"
           ],
           [
            0.2222222222222222,
            "#3e4989"
           ],
           [
            0.3333333333333333,
            "#31688e"
           ],
           [
            0.4444444444444444,
            "#26828e"
           ],
           [
            0.5555555555555556,
            "#1f9e89"
           ],
           [
            0.6666666666666666,
            "#35b779"
           ],
           [
            0.7777777777777778,
            "#6ece58"
           ],
           [
            0.8888888888888888,
            "#b5de2b"
           ],
           [
            1,
            "#fde725"
           ]
          ],
          "line": {
           "color": "MediumPurple",
           "width": 1
          },
          "size": 12,
          "symbol": "diamond"
         },
         "mode": "markers",
         "name": "8495vjvsc3",
         "showlegend": true,
         "type": "scatter",
         "x": [
          11.961844393965109
         ],
         "y": [
          -6.263938788888889
         ]
        },
        {
         "legendgroup": "8495vjvsc3",
         "marker": {
          "color": 0.3051127911111111,
          "colorbar": {
           "thickness": 10
          },
          "colorscale": [
           [
            0,
            "#440154"
           ],
           [
            0.1111111111111111,
            "#482878"
           ],
           [
            0.2222222222222222,
            "#3e4989"
           ],
           [
            0.3333333333333333,
            "#31688e"
           ],
           [
            0.4444444444444444,
            "#26828e"
           ],
           [
            0.5555555555555556,
            "#1f9e89"
           ],
           [
            0.6666666666666666,
            "#35b779"
           ],
           [
            0.7777777777777778,
            "#6ece58"
           ],
           [
            0.8888888888888888,
            "#b5de2b"
           ],
           [
            1,
            "#fde725"
           ]
          ],
          "line": {
           "color": "MediumPurple",
           "width": 1
          },
          "size": 12,
          "symbol": "circle"
         },
         "mode": "markers",
         "name": "8495vjvsc3",
         "showlegend": false,
         "type": "scatter",
         "x": [
          13.211100053769378
         ],
         "y": [
          -6.56905158
         ]
        },
        {
         "legendgroup": "cfcivdxrc2",
         "marker": {
          "color": -0.00027953333333208263,
          "colorbar": {
           "thickness": 10
          },
          "colorscale": [
           [
            0,
            "#440154"
           ],
           [
            0.1111111111111111,
            "#482878"
           ],
           [
            0.2222222222222222,
            "#3e4989"
           ],
           [
            0.3333333333333333,
            "#31688e"
           ],
           [
            0.4444444444444444,
            "#26828e"
           ],
           [
            0.5555555555555556,
            "#1f9e89"
           ],
           [
            0.6666666666666666,
            "#35b779"
           ],
           [
            0.7777777777777778,
            "#6ece58"
           ],
           [
            0.8888888888888888,
            "#b5de2b"
           ],
           [
            1,
            "#fde725"
           ]
          ],
          "line": {
           "color": "MediumPurple",
           "width": 1
          },
          "size": 12,
          "symbol": "diamond"
         },
         "mode": "markers",
         "name": "cfcivdxrc2",
         "showlegend": true,
         "type": "scatter",
         "x": [
          10.950427347921467
         ],
         "y": [
          -7.0454485333333325
         ]
        },
        {
         "legendgroup": "cfcivdxrc2",
         "marker": {
          "color": -0.00027953333333208263,
          "colorbar": {
           "thickness": 10
          },
          "colorscale": [
           [
            0,
            "#440154"
           ],
           [
            0.1111111111111111,
            "#482878"
           ],
           [
            0.2222222222222222,
            "#3e4989"
           ],
           [
            0.3333333333333333,
            "#31688e"
           ],
           [
            0.4444444444444444,
            "#26828e"
           ],
           [
            0.5555555555555556,
            "#1f9e89"
           ],
           [
            0.6666666666666666,
            "#35b779"
           ],
           [
            0.7777777777777778,
            "#6ece58"
           ],
           [
            0.8888888888888888,
            "#b5de2b"
           ],
           [
            1,
            "#fde725"
           ]
          ],
          "line": {
           "color": "MediumPurple",
           "width": 1
          },
          "size": 12,
          "symbol": "circle"
         },
         "mode": "markers",
         "name": "cfcivdxrc2",
         "showlegend": false,
         "type": "scatter",
         "x": [
          10.953383870966732
         ],
         "y": [
          -7.0451690000000005
         ]
        },
        {
         "legendgroup": "9uxemw7rv2",
         "marker": {
          "color": -0.015544017708332802,
          "colorbar": {
           "thickness": 10
          },
          "colorscale": [
           [
            0,
            "#440154"
           ],
           [
            0.1111111111111111,
            "#482878"
           ],
           [
            0.2222222222222222,
            "#3e4989"
           ],
           [
            0.3333333333333333,
            "#31688e"
           ],
           [
            0.4444444444444444,
            "#26828e"
           ],
           [
            0.5555555555555556,
            "#1f9e89"
           ],
           [
            0.6666666666666666,
            "#35b779"
           ],
           [
            0.7777777777777778,
            "#6ece58"
           ],
           [
            0.8888888888888888,
            "#b5de2b"
           ],
           [
            1,
            "#fde725"
           ]
          ],
          "line": {
           "color": "MediumPurple",
           "width": 1
          },
          "size": 12,
          "symbol": "diamond"
         },
         "mode": "markers",
         "name": "9uxemw7rv2",
         "showlegend": true,
         "type": "scatter",
         "x": [
          12.881048561171667
         ],
         "y": [
          -6.6260351122916665
         ]
        },
        {
         "legendgroup": "9uxemw7rv2",
         "marker": {
          "color": -0.015544017708332802,
          "colorbar": {
           "thickness": 10
          },
          "colorscale": [
           [
            0,
            "#440154"
           ],
           [
            0.1111111111111111,
            "#482878"
           ],
           [
            0.2222222222222222,
            "#3e4989"
           ],
           [
            0.3333333333333333,
            "#31688e"
           ],
           [
            0.4444444444444444,
            "#26828e"
           ],
           [
            0.5555555555555556,
            "#1f9e89"
           ],
           [
            0.6666666666666666,
            "#35b779"
           ],
           [
            0.7777777777777778,
            "#6ece58"
           ],
           [
            0.8888888888888888,
            "#b5de2b"
           ],
           [
            1,
            "#fde725"
           ]
          ],
          "line": {
           "color": "MediumPurple",
           "width": 1
          },
          "size": 12,
          "symbol": "circle"
         },
         "mode": "markers",
         "name": "9uxemw7rv2",
         "showlegend": false,
         "type": "scatter",
         "x": [
          13.04761373118491
         ],
         "y": [
          -6.610491094583334
         ]
        },
        {
         "legendgroup": "cant6qca6o",
         "marker": {
          "color": 0.03286068333333336,
          "colorbar": {
           "thickness": 10
          },
          "colorscale": [
           [
            0,
            "#440154"
           ],
           [
            0.1111111111111111,
            "#482878"
           ],
           [
            0.2222222222222222,
            "#3e4989"
           ],
           [
            0.3333333333333333,
            "#31688e"
           ],
           [
            0.4444444444444444,
            "#26828e"
           ],
           [
            0.5555555555555556,
            "#1f9e89"
           ],
           [
            0.6666666666666666,
            "#35b779"
           ],
           [
            0.7777777777777778,
            "#6ece58"
           ],
           [
            0.8888888888888888,
            "#b5de2b"
           ],
           [
            1,
            "#fde725"
           ]
          ],
          "line": {
           "color": "MediumPurple",
           "width": 1
          },
          "size": 12,
          "symbol": "diamond"
         },
         "mode": "markers",
         "name": "cant6qca6o",
         "showlegend": true,
         "type": "scatter",
         "x": [
          20.641102700262326
         ],
         "y": [
          -6.408366933333333
         ]
        },
        {
         "legendgroup": "cant6qca6o",
         "marker": {
          "color": 0.03286068333333336,
          "colorbar": {
           "thickness": 10
          },
          "colorscale": [
           [
            0,
            "#440154"
           ],
           [
            0.1111111111111111,
            "#482878"
           ],
           [
            0.2222222222222222,
            "#3e4989"
           ],
           [
            0.3333333333333333,
            "#31688e"
           ],
           [
            0.4444444444444444,
            "#26828e"
           ],
           [
            0.5555555555555556,
            "#1f9e89"
           ],
           [
            0.6666666666666666,
            "#35b779"
           ],
           [
            0.7777777777777778,
            "#6ece58"
           ],
           [
            0.8888888888888888,
            "#b5de2b"
           ],
           [
            1,
            "#fde725"
           ]
          ],
          "line": {
           "color": "MediumPurple",
           "width": 1
          },
          "size": 12,
          "symbol": "circle"
         },
         "mode": "markers",
         "name": "cant6qca6o",
         "showlegend": false,
         "type": "scatter",
         "x": [
          20.017121864934797
         ],
         "y": [
          -6.441227616666667
         ]
        },
        {
         "legendgroup": "9ivycocdvw",
         "marker": {
          "color": 3.0566666673337295e-06,
          "colorbar": {
           "thickness": 10
          },
          "colorscale": [
           [
            0,
            "#440154"
           ],
           [
            0.1111111111111111,
            "#482878"
           ],
           [
            0.2222222222222222,
            "#3e4989"
           ],
           [
            0.3333333333333333,
            "#31688e"
           ],
           [
            0.4444444444444444,
            "#26828e"
           ],
           [
            0.5555555555555556,
            "#1f9e89"
           ],
           [
            0.6666666666666666,
            "#35b779"
           ],
           [
            0.7777777777777778,
            "#6ece58"
           ],
           [
            0.8888888888888888,
            "#b5de2b"
           ],
           [
            1,
            "#fde725"
           ]
          ],
          "line": {
           "color": "MediumPurple",
           "width": 1
          },
          "size": 12,
          "symbol": "diamond"
         },
         "mode": "markers",
         "name": "9ivycocdvw",
         "showlegend": true,
         "type": "scatter",
         "x": [
          18.21647475632034
         ],
         "y": [
          -6.48903900625
         ]
        },
        {
         "legendgroup": "9ivycocdvw",
         "marker": {
          "color": 3.0566666673337295e-06,
          "colorbar": {
           "thickness": 10
          },
          "colorscale": [
           [
            0,
            "#440154"
           ],
           [
            0.1111111111111111,
            "#482878"
           ],
           [
            0.2222222222222222,
            "#3e4989"
           ],
           [
            0.3333333333333333,
            "#31688e"
           ],
           [
            0.4444444444444444,
            "#26828e"
           ],
           [
            0.5555555555555556,
            "#1f9e89"
           ],
           [
            0.6666666666666666,
            "#35b779"
           ],
           [
            0.7777777777777778,
            "#6ece58"
           ],
           [
            0.8888888888888888,
            "#b5de2b"
           ],
           [
            1,
            "#fde725"
           ]
          ],
          "line": {
           "color": "MediumPurple",
           "width": 1
          },
          "size": 12,
          "symbol": "circle"
         },
         "mode": "markers",
         "name": "9ivycocdvw",
         "showlegend": false,
         "type": "scatter",
         "x": [
          18.21114373036146
         ],
         "y": [
          -6.489042062916667
         ]
        },
        {
         "legendgroup": "8aza84xlvs",
         "marker": {
          "color": -0.0015520327777789333,
          "colorbar": {
           "thickness": 10
          },
          "colorscale": [
           [
            0,
            "#440154"
           ],
           [
            0.1111111111111111,
            "#482878"
           ],
           [
            0.2222222222222222,
            "#3e4989"
           ],
           [
            0.3333333333333333,
            "#31688e"
           ],
           [
            0.4444444444444444,
            "#26828e"
           ],
           [
            0.5555555555555556,
            "#1f9e89"
           ],
           [
            0.6666666666666666,
            "#35b779"
           ],
           [
            0.7777777777777778,
            "#6ece58"
           ],
           [
            0.8888888888888888,
            "#b5de2b"
           ],
           [
            1,
            "#fde725"
           ]
          ],
          "line": {
           "color": "MediumPurple",
           "width": 1
          },
          "size": 12,
          "symbol": "diamond"
         },
         "mode": "markers",
         "name": "8aza84xlvs",
         "showlegend": true,
         "type": "scatter",
         "x": [
          14.034391831423996
         ],
         "y": [
          -6.807219115555556
         ]
        },
        {
         "legendgroup": "8aza84xlvs",
         "marker": {
          "color": -0.0015520327777789333,
          "colorbar": {
           "thickness": 10
          },
          "colorscale": [
           [
            0,
            "#440154"
           ],
           [
            0.1111111111111111,
            "#482878"
           ],
           [
            0.2222222222222222,
            "#3e4989"
           ],
           [
            0.3333333333333333,
            "#31688e"
           ],
           [
            0.4444444444444444,
            "#26828e"
           ],
           [
            0.5555555555555556,
            "#1f9e89"
           ],
           [
            0.6666666666666666,
            "#35b779"
           ],
           [
            0.7777777777777778,
            "#6ece58"
           ],
           [
            0.8888888888888888,
            "#b5de2b"
           ],
           [
            1,
            "#fde725"
           ]
          ],
          "line": {
           "color": "MediumPurple",
           "width": 1
          },
          "size": 12,
          "symbol": "circle"
         },
         "mode": "markers",
         "name": "8aza84xlvs",
         "showlegend": false,
         "type": "scatter",
         "x": [
          14.07513584197149
         ],
         "y": [
          -6.805667082777777
         ]
        },
        {
         "legendgroup": "6fzy7kcrxy",
         "marker": {
          "color": -0.0005203966666673665,
          "colorbar": {
           "thickness": 10
          },
          "colorscale": [
           [
            0,
            "#440154"
           ],
           [
            0.1111111111111111,
            "#482878"
           ],
           [
            0.2222222222222222,
            "#3e4989"
           ],
           [
            0.3333333333333333,
            "#31688e"
           ],
           [
            0.4444444444444444,
            "#26828e"
           ],
           [
            0.5555555555555556,
            "#1f9e89"
           ],
           [
            0.6666666666666666,
            "#35b779"
           ],
           [
            0.7777777777777778,
            "#6ece58"
           ],
           [
            0.8888888888888888,
            "#b5de2b"
           ],
           [
            1,
            "#fde725"
           ]
          ],
          "line": {
           "color": "MediumPurple",
           "width": 1
          },
          "size": 12,
          "symbol": "diamond"
         },
         "mode": "markers",
         "name": "6fzy7kcrxy",
         "showlegend": true,
         "type": "scatter",
         "x": [
          11.060233379224897
         ],
         "y": [
          -5.6724562025
         ]
        },
        {
         "legendgroup": "6fzy7kcrxy",
         "marker": {
          "color": -0.0005203966666673665,
          "colorbar": {
           "thickness": 10
          },
          "colorscale": [
           [
            0,
            "#440154"
           ],
           [
            0.1111111111111111,
            "#482878"
           ],
           [
            0.2222222222222222,
            "#3e4989"
           ],
           [
            0.3333333333333333,
            "#31688e"
           ],
           [
            0.4444444444444444,
            "#26828e"
           ],
           [
            0.5555555555555556,
            "#1f9e89"
           ],
           [
            0.6666666666666666,
            "#35b779"
           ],
           [
            0.7777777777777778,
            "#6ece58"
           ],
           [
            0.8888888888888888,
            "#b5de2b"
           ],
           [
            1,
            "#fde725"
           ]
          ],
          "line": {
           "color": "MediumPurple",
           "width": 1
          },
          "size": 12,
          "symbol": "circle"
         },
         "mode": "markers",
         "name": "6fzy7kcrxy",
         "showlegend": false,
         "type": "scatter",
         "x": [
          11.062013155071128
         ],
         "y": [
          -5.671935805833333
         ]
        },
        {
         "legendgroup": "macixavwv3",
         "marker": {
          "color": -0.00013688604166617324,
          "colorbar": {
           "thickness": 10
          },
          "colorscale": [
           [
            0,
            "#440154"
           ],
           [
            0.1111111111111111,
            "#482878"
           ],
           [
            0.2222222222222222,
            "#3e4989"
           ],
           [
            0.3333333333333333,
            "#31688e"
           ],
           [
            0.4444444444444444,
            "#26828e"
           ],
           [
            0.5555555555555556,
            "#1f9e89"
           ],
           [
            0.6666666666666666,
            "#35b779"
           ],
           [
            0.7777777777777778,
            "#6ece58"
           ],
           [
            0.8888888888888888,
            "#b5de2b"
           ],
           [
            1,
            "#fde725"
           ]
          ],
          "line": {
           "color": "MediumPurple",
           "width": 1
          },
          "size": 12,
          "symbol": "diamond"
         },
         "mode": "markers",
         "name": "macixavwv3",
         "showlegend": true,
         "type": "scatter",
         "x": [
          11.122250259344606
         ],
         "y": [
          -6.4690128810416665
         ]
        },
        {
         "legendgroup": "macixavwv3",
         "marker": {
          "color": -0.00013688604166617324,
          "colorbar": {
           "thickness": 10
          },
          "colorscale": [
           [
            0,
            "#440154"
           ],
           [
            0.1111111111111111,
            "#482878"
           ],
           [
            0.2222222222222222,
            "#3e4989"
           ],
           [
            0.3333333333333333,
            "#31688e"
           ],
           [
            0.4444444444444444,
            "#26828e"
           ],
           [
            0.5555555555555556,
            "#1f9e89"
           ],
           [
            0.6666666666666666,
            "#35b779"
           ],
           [
            0.7777777777777778,
            "#6ece58"
           ],
           [
            0.8888888888888888,
            "#b5de2b"
           ],
           [
            1,
            "#fde725"
           ]
          ],
          "line": {
           "color": "MediumPurple",
           "width": 1
          },
          "size": 12,
          "symbol": "circle"
         },
         "mode": "markers",
         "name": "macixavwv3",
         "showlegend": false,
         "type": "scatter",
         "x": [
          11.121115622322703
         ],
         "y": [
          -6.468875995
         ]
        },
        {
         "legendgroup": "zu6lnfze71",
         "marker": {
          "color": -0.00047742916666670965,
          "colorbar": {
           "thickness": 10
          },
          "colorscale": [
           [
            0,
            "#440154"
           ],
           [
            0.1111111111111111,
            "#482878"
           ],
           [
            0.2222222222222222,
            "#3e4989"
           ],
           [
            0.3333333333333333,
            "#31688e"
           ],
           [
            0.4444444444444444,
            "#26828e"
           ],
           [
            0.5555555555555556,
            "#1f9e89"
           ],
           [
            0.6666666666666666,
            "#35b779"
           ],
           [
            0.7777777777777778,
            "#6ece58"
           ],
           [
            0.8888888888888888,
            "#b5de2b"
           ],
           [
            1,
            "#fde725"
           ]
          ],
          "line": {
           "color": "MediumPurple",
           "width": 1
          },
          "size": 12,
          "symbol": "diamond"
         },
         "mode": "markers",
         "name": "zu6lnfze71",
         "showlegend": true,
         "type": "scatter",
         "x": [
          12.823831111458004
         ],
         "y": [
          -5.948860956666667
         ]
        },
        {
         "legendgroup": "zu6lnfze71",
         "marker": {
          "color": -0.00047742916666670965,
          "colorbar": {
           "thickness": 10
          },
          "colorscale": [
           [
            0,
            "#440154"
           ],
           [
            0.1111111111111111,
            "#482878"
           ],
           [
            0.2222222222222222,
            "#3e4989"
           ],
           [
            0.3333333333333333,
            "#31688e"
           ],
           [
            0.4444444444444444,
            "#26828e"
           ],
           [
            0.5555555555555556,
            "#1f9e89"
           ],
           [
            0.6666666666666666,
            "#35b779"
           ],
           [
            0.7777777777777778,
            "#6ece58"
           ],
           [
            0.8888888888888888,
            "#b5de2b"
           ],
           [
            1,
            "#fde725"
           ]
          ],
          "line": {
           "color": "MediumPurple",
           "width": 1
          },
          "size": 12,
          "symbol": "circle"
         },
         "mode": "markers",
         "name": "zu6lnfze71",
         "showlegend": false,
         "type": "scatter",
         "x": [
          12.825934062791243
         ],
         "y": [
          -5.9483835275
         ]
        },
        {
         "legendgroup": "ni6svhmw74",
         "marker": {
          "color": -0.00020497513888972918,
          "colorbar": {
           "thickness": 10
          },
          "colorscale": [
           [
            0,
            "#440154"
           ],
           [
            0.1111111111111111,
            "#482878"
           ],
           [
            0.2222222222222222,
            "#3e4989"
           ],
           [
            0.3333333333333333,
            "#31688e"
           ],
           [
            0.4444444444444444,
            "#26828e"
           ],
           [
            0.5555555555555556,
            "#1f9e89"
           ],
           [
            0.6666666666666666,
            "#35b779"
           ],
           [
            0.7777777777777778,
            "#6ece58"
           ],
           [
            0.8888888888888888,
            "#b5de2b"
           ],
           [
            1,
            "#fde725"
           ]
          ],
          "line": {
           "color": "MediumPurple",
           "width": 1
          },
          "size": 12,
          "symbol": "diamond"
         },
         "mode": "markers",
         "name": "ni6svhmw74",
         "showlegend": true,
         "type": "scatter",
         "x": [
          25.463998406392882
         ],
         "y": [
          -6.345803830555556
         ]
        },
        {
         "legendgroup": "ni6svhmw74",
         "marker": {
          "color": -0.00020497513888972918,
          "colorbar": {
           "thickness": 10
          },
          "colorscale": [
           [
            0,
            "#440154"
           ],
           [
            0.1111111111111111,
            "#482878"
           ],
           [
            0.2222222222222222,
            "#3e4989"
           ],
           [
            0.3333333333333333,
            "#31688e"
           ],
           [
            0.4444444444444444,
            "#26828e"
           ],
           [
            0.5555555555555556,
            "#1f9e89"
           ],
           [
            0.6666666666666666,
            "#35b779"
           ],
           [
            0.7777777777777778,
            "#6ece58"
           ],
           [
            0.8888888888888888,
            "#b5de2b"
           ],
           [
            1,
            "#fde725"
           ]
          ],
          "line": {
           "color": "MediumPurple",
           "width": 1
          },
          "size": 12,
          "symbol": "circle"
         },
         "mode": "markers",
         "name": "ni6svhmw74",
         "showlegend": false,
         "type": "scatter",
         "x": [
          25.46458095035551
         ],
         "y": [
          -6.345598855416666
         ]
        },
        {
         "legendgroup": "vl6uvqne6d",
         "marker": {
          "color": -0.0009726447916671432,
          "colorbar": {
           "thickness": 10
          },
          "colorscale": [
           [
            0,
            "#440154"
           ],
           [
            0.1111111111111111,
            "#482878"
           ],
           [
            0.2222222222222222,
            "#3e4989"
           ],
           [
            0.3333333333333333,
            "#31688e"
           ],
           [
            0.4444444444444444,
            "#26828e"
           ],
           [
            0.5555555555555556,
            "#1f9e89"
           ],
           [
            0.6666666666666666,
            "#35b779"
           ],
           [
            0.7777777777777778,
            "#6ece58"
           ],
           [
            0.8888888888888888,
            "#b5de2b"
           ],
           [
            1,
            "#fde725"
           ]
          ],
          "line": {
           "color": "MediumPurple",
           "width": 1
          },
          "size": 12,
          "symbol": "diamond"
         },
         "mode": "markers",
         "name": "vl6uvqne6d",
         "showlegend": true,
         "type": "scatter",
         "x": [
          13.039006309027805
         ],
         "y": [
          -6.604252169166667
         ]
        },
        {
         "legendgroup": "vl6uvqne6d",
         "marker": {
          "color": -0.0009726447916671432,
          "colorbar": {
           "thickness": 10
          },
          "colorscale": [
           [
            0,
            "#440154"
           ],
           [
            0.1111111111111111,
            "#482878"
           ],
           [
            0.2222222222222222,
            "#3e4989"
           ],
           [
            0.3333333333333333,
            "#31688e"
           ],
           [
            0.4444444444444444,
            "#26828e"
           ],
           [
            0.5555555555555556,
            "#1f9e89"
           ],
           [
            0.6666666666666666,
            "#35b779"
           ],
           [
            0.7777777777777778,
            "#6ece58"
           ],
           [
            0.8888888888888888,
            "#b5de2b"
           ],
           [
            1,
            "#fde725"
           ]
          ],
          "line": {
           "color": "MediumPurple",
           "width": 1
          },
          "size": 12,
          "symbol": "circle"
         },
         "mode": "markers",
         "name": "vl6uvqne6d",
         "showlegend": false,
         "type": "scatter",
         "x": [
          13.050842731152235
         ],
         "y": [
          -6.603279524375
         ]
        },
        {
         "legendgroup": "nrml6dms9l",
         "marker": {
          "color": -0.0016040903125000838,
          "colorbar": {
           "thickness": 10
          },
          "colorscale": [
           [
            0,
            "#440154"
           ],
           [
            0.1111111111111111,
            "#482878"
           ],
           [
            0.2222222222222222,
            "#3e4989"
           ],
           [
            0.3333333333333333,
            "#31688e"
           ],
           [
            0.4444444444444444,
            "#26828e"
           ],
           [
            0.5555555555555556,
            "#1f9e89"
           ],
           [
            0.6666666666666666,
            "#35b779"
           ],
           [
            0.7777777777777778,
            "#6ece58"
           ],
           [
            0.8888888888888888,
            "#b5de2b"
           ],
           [
            1,
            "#fde725"
           ]
          ],
          "line": {
           "color": "MediumPurple",
           "width": 1
          },
          "size": 12,
          "symbol": "diamond"
         },
         "mode": "markers",
         "name": "nrml6dms9l",
         "showlegend": true,
         "type": "scatter",
         "x": [
          11.889852104182722
         ],
         "y": [
          -6.37289985125
         ]
        },
        {
         "legendgroup": "nrml6dms9l",
         "marker": {
          "color": -0.0016040903125000838,
          "colorbar": {
           "thickness": 10
          },
          "colorscale": [
           [
            0,
            "#440154"
           ],
           [
            0.1111111111111111,
            "#482878"
           ],
           [
            0.2222222222222222,
            "#3e4989"
           ],
           [
            0.3333333333333333,
            "#31688e"
           ],
           [
            0.4444444444444444,
            "#26828e"
           ],
           [
            0.5555555555555556,
            "#1f9e89"
           ],
           [
            0.6666666666666666,
            "#35b779"
           ],
           [
            0.7777777777777778,
            "#6ece58"
           ],
           [
            0.8888888888888888,
            "#b5de2b"
           ],
           [
            1,
            "#fde725"
           ]
          ],
          "line": {
           "color": "MediumPurple",
           "width": 1
          },
          "size": 12,
          "symbol": "circle"
         },
         "mode": "markers",
         "name": "nrml6dms9l",
         "showlegend": false,
         "type": "scatter",
         "x": [
          11.744742461303936
         ],
         "y": [
          -6.3712957609375
         ]
        },
        {
         "legendgroup": "vhv39q6e9j",
         "marker": {
          "color": -2.1526458222222224,
          "colorbar": {
           "thickness": 10
          },
          "colorscale": [
           [
            0,
            "#440154"
           ],
           [
            0.1111111111111111,
            "#482878"
           ],
           [
            0.2222222222222222,
            "#3e4989"
           ],
           [
            0.3333333333333333,
            "#31688e"
           ],
           [
            0.4444444444444444,
            "#26828e"
           ],
           [
            0.5555555555555556,
            "#1f9e89"
           ],
           [
            0.6666666666666666,
            "#35b779"
           ],
           [
            0.7777777777777778,
            "#6ece58"
           ],
           [
            0.8888888888888888,
            "#b5de2b"
           ],
           [
            1,
            "#fde725"
           ]
          ],
          "line": {
           "color": "MediumPurple",
           "width": 1
          },
          "size": 12,
          "symbol": "diamond"
         },
         "mode": "markers",
         "name": "vhv39q6e9j",
         "showlegend": true,
         "type": "scatter",
         "x": [
          11.373463572688967
         ],
         "y": [
          -6.392222053333334
         ]
        },
        {
         "legendgroup": "vhv39q6e9j",
         "marker": {
          "color": -2.1526458222222224,
          "colorbar": {
           "thickness": 10
          },
          "colorscale": [
           [
            0,
            "#440154"
           ],
           [
            0.1111111111111111,
            "#482878"
           ],
           [
            0.2222222222222222,
            "#3e4989"
           ],
           [
            0.3333333333333333,
            "#31688e"
           ],
           [
            0.4444444444444444,
            "#26828e"
           ],
           [
            0.5555555555555556,
            "#1f9e89"
           ],
           [
            0.6666666666666666,
            "#35b779"
           ],
           [
            0.7777777777777778,
            "#6ece58"
           ],
           [
            0.8888888888888888,
            "#b5de2b"
           ],
           [
            1,
            "#fde725"
           ]
          ],
          "line": {
           "color": "MediumPurple",
           "width": 1
          },
          "size": 12,
          "symbol": "circle"
         },
         "mode": "markers",
         "name": "vhv39q6e9j",
         "showlegend": false,
         "type": "scatter",
         "x": [
          6.741221975121517
         ],
         "y": [
          -4.239576231111111
         ]
        },
        {
         "legendgroup": "91746y6g6i",
         "marker": {
          "color": -0.00028109458333247517,
          "colorbar": {
           "thickness": 10
          },
          "colorscale": [
           [
            0,
            "#440154"
           ],
           [
            0.1111111111111111,
            "#482878"
           ],
           [
            0.2222222222222222,
            "#3e4989"
           ],
           [
            0.3333333333333333,
            "#31688e"
           ],
           [
            0.4444444444444444,
            "#26828e"
           ],
           [
            0.5555555555555556,
            "#1f9e89"
           ],
           [
            0.6666666666666666,
            "#35b779"
           ],
           [
            0.7777777777777778,
            "#6ece58"
           ],
           [
            0.8888888888888888,
            "#b5de2b"
           ],
           [
            1,
            "#fde725"
           ]
          ],
          "line": {
           "color": "MediumPurple",
           "width": 1
          },
          "size": 12,
          "symbol": "diamond"
         },
         "mode": "markers",
         "name": "91746y6g6i",
         "showlegend": true,
         "type": "scatter",
         "x": [
          14.523681548760642
         ],
         "y": [
          -6.75891042625
         ]
        },
        {
         "legendgroup": "91746y6g6i",
         "marker": {
          "color": -0.00028109458333247517,
          "colorbar": {
           "thickness": 10
          },
          "colorscale": [
           [
            0,
            "#440154"
           ],
           [
            0.1111111111111111,
            "#482878"
           ],
           [
            0.2222222222222222,
            "#3e4989"
           ],
           [
            0.3333333333333333,
            "#31688e"
           ],
           [
            0.4444444444444444,
            "#26828e"
           ],
           [
            0.5555555555555556,
            "#1f9e89"
           ],
           [
            0.6666666666666666,
            "#35b779"
           ],
           [
            0.7777777777777778,
            "#6ece58"
           ],
           [
            0.8888888888888888,
            "#b5de2b"
           ],
           [
            1,
            "#fde725"
           ]
          ],
          "line": {
           "color": "MediumPurple",
           "width": 1
          },
          "size": 12,
          "symbol": "circle"
         },
         "mode": "markers",
         "name": "91746y6g6i",
         "showlegend": false,
         "type": "scatter",
         "x": [
          14.522419214660564
         ],
         "y": [
          -6.7586293316666675
         ]
        },
        {
         "legendgroup": "6w7ezj7gml",
         "marker": {
          "color": -0.0004607072916664734,
          "colorbar": {
           "thickness": 10
          },
          "colorscale": [
           [
            0,
            "#440154"
           ],
           [
            0.1111111111111111,
            "#482878"
           ],
           [
            0.2222222222222222,
            "#3e4989"
           ],
           [
            0.3333333333333333,
            "#31688e"
           ],
           [
            0.4444444444444444,
            "#26828e"
           ],
           [
            0.5555555555555556,
            "#1f9e89"
           ],
           [
            0.6666666666666666,
            "#35b779"
           ],
           [
            0.7777777777777778,
            "#6ece58"
           ],
           [
            0.8888888888888888,
            "#b5de2b"
           ],
           [
            1,
            "#fde725"
           ]
          ],
          "line": {
           "color": "MediumPurple",
           "width": 1
          },
          "size": 12,
          "symbol": "diamond"
         },
         "mode": "markers",
         "name": "6w7ezj7gml",
         "showlegend": true,
         "type": "scatter",
         "x": [
          14.490306588307368
         ],
         "y": [
          -6.758501716458333
         ]
        },
        {
         "legendgroup": "6w7ezj7gml",
         "marker": {
          "color": -0.0004607072916664734,
          "colorbar": {
           "thickness": 10
          },
          "colorscale": [
           [
            0,
            "#440154"
           ],
           [
            0.1111111111111111,
            "#482878"
           ],
           [
            0.2222222222222222,
            "#3e4989"
           ],
           [
            0.3333333333333333,
            "#31688e"
           ],
           [
            0.4444444444444444,
            "#26828e"
           ],
           [
            0.5555555555555556,
            "#1f9e89"
           ],
           [
            0.6666666666666666,
            "#35b779"
           ],
           [
            0.7777777777777778,
            "#6ece58"
           ],
           [
            0.8888888888888888,
            "#b5de2b"
           ],
           [
            1,
            "#fde725"
           ]
          ],
          "line": {
           "color": "MediumPurple",
           "width": 1
          },
          "size": 12,
          "symbol": "circle"
         },
         "mode": "markers",
         "name": "6w7ezj7gml",
         "showlegend": false,
         "type": "scatter",
         "x": [
          14.496833023906213
         ],
         "y": [
          -6.758041009166667
         ]
        },
        {
         "legendgroup": "v1vpxgbg9s",
         "marker": {
          "color": 0.014811614000000972,
          "colorbar": {
           "thickness": 10
          },
          "colorscale": [
           [
            0,
            "#440154"
           ],
           [
            0.1111111111111111,
            "#482878"
           ],
           [
            0.2222222222222222,
            "#3e4989"
           ],
           [
            0.3333333333333333,
            "#31688e"
           ],
           [
            0.4444444444444444,
            "#26828e"
           ],
           [
            0.5555555555555556,
            "#1f9e89"
           ],
           [
            0.6666666666666666,
            "#35b779"
           ],
           [
            0.7777777777777778,
            "#6ece58"
           ],
           [
            0.8888888888888888,
            "#b5de2b"
           ],
           [
            1,
            "#fde725"
           ]
          ],
          "line": {
           "color": "MediumPurple",
           "width": 1
          },
          "size": 12,
          "symbol": "diamond"
         },
         "mode": "markers",
         "name": "v1vpxgbg9s",
         "showlegend": true,
         "type": "scatter",
         "x": [
          11.697597710566937
         ],
         "y": [
          -6.634798865
         ]
        },
        {
         "legendgroup": "v1vpxgbg9s",
         "marker": {
          "color": 0.014811614000000972,
          "colorbar": {
           "thickness": 10
          },
          "colorscale": [
           [
            0,
            "#440154"
           ],
           [
            0.1111111111111111,
            "#482878"
           ],
           [
            0.2222222222222222,
            "#3e4989"
           ],
           [
            0.3333333333333333,
            "#31688e"
           ],
           [
            0.4444444444444444,
            "#26828e"
           ],
           [
            0.5555555555555556,
            "#1f9e89"
           ],
           [
            0.6666666666666666,
            "#35b779"
           ],
           [
            0.7777777777777778,
            "#6ece58"
           ],
           [
            0.8888888888888888,
            "#b5de2b"
           ],
           [
            1,
            "#fde725"
           ]
          ],
          "line": {
           "color": "MediumPurple",
           "width": 1
          },
          "size": 12,
          "symbol": "circle"
         },
         "mode": "markers",
         "name": "v1vpxgbg9s",
         "showlegend": false,
         "type": "scatter",
         "x": [
          10.183930020401514
         ],
         "y": [
          -6.649610479000001
         ]
        },
        {
         "legendgroup": "bp7ynac4my",
         "marker": {
          "color": -0.007166957037036958,
          "colorbar": {
           "thickness": 10
          },
          "colorscale": [
           [
            0,
            "#440154"
           ],
           [
            0.1111111111111111,
            "#482878"
           ],
           [
            0.2222222222222222,
            "#3e4989"
           ],
           [
            0.3333333333333333,
            "#31688e"
           ],
           [
            0.4444444444444444,
            "#26828e"
           ],
           [
            0.5555555555555556,
            "#1f9e89"
           ],
           [
            0.6666666666666666,
            "#35b779"
           ],
           [
            0.7777777777777778,
            "#6ece58"
           ],
           [
            0.8888888888888888,
            "#b5de2b"
           ],
           [
            1,
            "#fde725"
           ]
          ],
          "line": {
           "color": "MediumPurple",
           "width": 1
          },
          "size": 12,
          "symbol": "diamond"
         },
         "mode": "markers",
         "name": "bp7ynac4my",
         "showlegend": true,
         "type": "scatter",
         "x": [
          13.152716970010935
         ],
         "y": [
          -6.643014765740741
         ]
        },
        {
         "legendgroup": "bp7ynac4my",
         "marker": {
          "color": -0.007166957037036958,
          "colorbar": {
           "thickness": 10
          },
          "colorscale": [
           [
            0,
            "#440154"
           ],
           [
            0.1111111111111111,
            "#482878"
           ],
           [
            0.2222222222222222,
            "#3e4989"
           ],
           [
            0.3333333333333333,
            "#31688e"
           ],
           [
            0.4444444444444444,
            "#26828e"
           ],
           [
            0.5555555555555556,
            "#1f9e89"
           ],
           [
            0.6666666666666666,
            "#35b779"
           ],
           [
            0.7777777777777778,
            "#6ece58"
           ],
           [
            0.8888888888888888,
            "#b5de2b"
           ],
           [
            1,
            "#fde725"
           ]
          ],
          "line": {
           "color": "MediumPurple",
           "width": 1
          },
          "size": 12,
          "symbol": "circle"
         },
         "mode": "markers",
         "name": "bp7ynac4my",
         "showlegend": false,
         "type": "scatter",
         "x": [
          13.91037265676984
         ],
         "y": [
          -6.635847808703704
         ]
        },
        {
         "legendgroup": "nkmd71vt9q",
         "marker": {
          "color": 0.08218421499999984,
          "colorbar": {
           "thickness": 10
          },
          "colorscale": [
           [
            0,
            "#440154"
           ],
           [
            0.1111111111111111,
            "#482878"
           ],
           [
            0.2222222222222222,
            "#3e4989"
           ],
           [
            0.3333333333333333,
            "#31688e"
           ],
           [
            0.4444444444444444,
            "#26828e"
           ],
           [
            0.5555555555555556,
            "#1f9e89"
           ],
           [
            0.6666666666666666,
            "#35b779"
           ],
           [
            0.7777777777777778,
            "#6ece58"
           ],
           [
            0.8888888888888888,
            "#b5de2b"
           ],
           [
            1,
            "#fde725"
           ]
          ],
          "line": {
           "color": "MediumPurple",
           "width": 1
          },
          "size": 12,
          "symbol": "diamond"
         },
         "mode": "markers",
         "name": "nkmd71vt9q",
         "showlegend": true,
         "type": "scatter",
         "x": [
          13.198958159424427
         ],
         "y": [
          -5.85307799
         ]
        },
        {
         "legendgroup": "nkmd71vt9q",
         "marker": {
          "color": 0.08218421499999984,
          "colorbar": {
           "thickness": 10
          },
          "colorscale": [
           [
            0,
            "#440154"
           ],
           [
            0.1111111111111111,
            "#482878"
           ],
           [
            0.2222222222222222,
            "#3e4989"
           ],
           [
            0.3333333333333333,
            "#31688e"
           ],
           [
            0.4444444444444444,
            "#26828e"
           ],
           [
            0.5555555555555556,
            "#1f9e89"
           ],
           [
            0.6666666666666666,
            "#35b779"
           ],
           [
            0.7777777777777778,
            "#6ece58"
           ],
           [
            0.8888888888888888,
            "#b5de2b"
           ],
           [
            1,
            "#fde725"
           ]
          ],
          "line": {
           "color": "MediumPurple",
           "width": 1
          },
          "size": 12,
          "symbol": "circle"
         },
         "mode": "markers",
         "name": "nkmd71vt9q",
         "showlegend": false,
         "type": "scatter",
         "x": [
          15.813092072159016
         ],
         "y": [
          -5.935262205
         ]
        },
        {
         "legendgroup": "zunqxh6g9j",
         "marker": {
          "color": -0.17358346566666683,
          "colorbar": {
           "thickness": 10
          },
          "colorscale": [
           [
            0,
            "#440154"
           ],
           [
            0.1111111111111111,
            "#482878"
           ],
           [
            0.2222222222222222,
            "#3e4989"
           ],
           [
            0.3333333333333333,
            "#31688e"
           ],
           [
            0.4444444444444444,
            "#26828e"
           ],
           [
            0.5555555555555556,
            "#1f9e89"
           ],
           [
            0.6666666666666666,
            "#35b779"
           ],
           [
            0.7777777777777778,
            "#6ece58"
           ],
           [
            0.8888888888888888,
            "#b5de2b"
           ],
           [
            1,
            "#fde725"
           ]
          ],
          "line": {
           "color": "MediumPurple",
           "width": 1
          },
          "size": 12,
          "symbol": "diamond"
         },
         "mode": "markers",
         "name": "zunqxh6g9j",
         "showlegend": true,
         "type": "scatter",
         "x": [
          14.11074641611981
         ],
         "y": [
          -6.812768990333334
         ]
        },
        {
         "legendgroup": "zunqxh6g9j",
         "marker": {
          "color": -0.17358346566666683,
          "colorbar": {
           "thickness": 10
          },
          "colorscale": [
           [
            0,
            "#440154"
           ],
           [
            0.1111111111111111,
            "#482878"
           ],
           [
            0.2222222222222222,
            "#3e4989"
           ],
           [
            0.3333333333333333,
            "#31688e"
           ],
           [
            0.4444444444444444,
            "#26828e"
           ],
           [
            0.5555555555555556,
            "#1f9e89"
           ],
           [
            0.6666666666666666,
            "#35b779"
           ],
           [
            0.7777777777777778,
            "#6ece58"
           ],
           [
            0.8888888888888888,
            "#b5de2b"
           ],
           [
            1,
            "#fde725"
           ]
          ],
          "line": {
           "color": "MediumPurple",
           "width": 1
          },
          "size": 12,
          "symbol": "circle"
         },
         "mode": "markers",
         "name": "zunqxh6g9j",
         "showlegend": false,
         "type": "scatter",
         "x": [
          10.561043040789468
         ],
         "y": [
          -6.639185524666667
         ]
        },
        {
         "legendgroup": "9y85x1cp6e",
         "marker": {
          "color": 0.0017384462499991926,
          "colorbar": {
           "thickness": 10
          },
          "colorscale": [
           [
            0,
            "#440154"
           ],
           [
            0.1111111111111111,
            "#482878"
           ],
           [
            0.2222222222222222,
            "#3e4989"
           ],
           [
            0.3333333333333333,
            "#31688e"
           ],
           [
            0.4444444444444444,
            "#26828e"
           ],
           [
            0.5555555555555556,
            "#1f9e89"
           ],
           [
            0.6666666666666666,
            "#35b779"
           ],
           [
            0.7777777777777778,
            "#6ece58"
           ],
           [
            0.8888888888888888,
            "#b5de2b"
           ],
           [
            1,
            "#fde725"
           ]
          ],
          "line": {
           "color": "MediumPurple",
           "width": 1
          },
          "size": 12,
          "symbol": "diamond"
         },
         "mode": "markers",
         "name": "9y85x1cp6e",
         "showlegend": true,
         "type": "scatter",
         "x": [
          16.750199693429117
         ],
         "y": [
          -6.547264305416667
         ]
        },
        {
         "legendgroup": "9y85x1cp6e",
         "marker": {
          "color": 0.0017384462499991926,
          "colorbar": {
           "thickness": 10
          },
          "colorscale": [
           [
            0,
            "#440154"
           ],
           [
            0.1111111111111111,
            "#482878"
           ],
           [
            0.2222222222222222,
            "#3e4989"
           ],
           [
            0.3333333333333333,
            "#31688e"
           ],
           [
            0.4444444444444444,
            "#26828e"
           ],
           [
            0.5555555555555556,
            "#1f9e89"
           ],
           [
            0.6666666666666666,
            "#35b779"
           ],
           [
            0.7777777777777778,
            "#6ece58"
           ],
           [
            0.8888888888888888,
            "#b5de2b"
           ],
           [
            1,
            "#fde725"
           ]
          ],
          "line": {
           "color": "MediumPurple",
           "width": 1
          },
          "size": 12,
          "symbol": "circle"
         },
         "mode": "markers",
         "name": "9y85x1cp6e",
         "showlegend": false,
         "type": "scatter",
         "x": [
          16.809980836025137
         ],
         "y": [
          -6.5490027516666665
         ]
        },
        {
         "legendgroup": "myc4ng73xh",
         "marker": {
          "color": -0.0027020841666676176,
          "colorbar": {
           "thickness": 10
          },
          "colorscale": [
           [
            0,
            "#440154"
           ],
           [
            0.1111111111111111,
            "#482878"
           ],
           [
            0.2222222222222222,
            "#3e4989"
           ],
           [
            0.3333333333333333,
            "#31688e"
           ],
           [
            0.4444444444444444,
            "#26828e"
           ],
           [
            0.5555555555555556,
            "#1f9e89"
           ],
           [
            0.6666666666666666,
            "#35b779"
           ],
           [
            0.7777777777777778,
            "#6ece58"
           ],
           [
            0.8888888888888888,
            "#b5de2b"
           ],
           [
            1,
            "#fde725"
           ]
          ],
          "line": {
           "color": "MediumPurple",
           "width": 1
          },
          "size": 12,
          "symbol": "diamond"
         },
         "mode": "markers",
         "name": "myc4ng73xh",
         "showlegend": true,
         "type": "scatter",
         "x": [
          10.186654441042547
         ],
         "y": [
          -6.648283165833334
         ]
        },
        {
         "legendgroup": "myc4ng73xh",
         "marker": {
          "color": -0.0027020841666676176,
          "colorbar": {
           "thickness": 10
          },
          "colorscale": [
           [
            0,
            "#440154"
           ],
           [
            0.1111111111111111,
            "#482878"
           ],
           [
            0.2222222222222222,
            "#3e4989"
           ],
           [
            0.3333333333333333,
            "#31688e"
           ],
           [
            0.4444444444444444,
            "#26828e"
           ],
           [
            0.5555555555555556,
            "#1f9e89"
           ],
           [
            0.6666666666666666,
            "#35b779"
           ],
           [
            0.7777777777777778,
            "#6ece58"
           ],
           [
            0.8888888888888888,
            "#b5de2b"
           ],
           [
            1,
            "#fde725"
           ]
          ],
          "line": {
           "color": "MediumPurple",
           "width": 1
          },
          "size": 12,
          "symbol": "circle"
         },
         "mode": "markers",
         "name": "myc4ng73xh",
         "showlegend": false,
         "type": "scatter",
         "x": [
          10.193120518771337
         ],
         "y": [
          -6.645581081666666
         ]
        },
        {
         "legendgroup": "zr9ic2zaz5",
         "marker": {
          "color": 9.044062499974359e-05,
          "colorbar": {
           "thickness": 10
          },
          "colorscale": [
           [
            0,
            "#440154"
           ],
           [
            0.1111111111111111,
            "#482878"
           ],
           [
            0.2222222222222222,
            "#3e4989"
           ],
           [
            0.3333333333333333,
            "#31688e"
           ],
           [
            0.4444444444444444,
            "#26828e"
           ],
           [
            0.5555555555555556,
            "#1f9e89"
           ],
           [
            0.6666666666666666,
            "#35b779"
           ],
           [
            0.7777777777777778,
            "#6ece58"
           ],
           [
            0.8888888888888888,
            "#b5de2b"
           ],
           [
            1,
            "#fde725"
           ]
          ],
          "line": {
           "color": "MediumPurple",
           "width": 1
          },
          "size": 12,
          "symbol": "diamond"
         },
         "mode": "markers",
         "name": "zr9ic2zaz5",
         "showlegend": true,
         "type": "scatter",
         "x": [
          13.676420149762865
         ],
         "y": [
          -6.272679945
         ]
        },
        {
         "legendgroup": "zr9ic2zaz5",
         "marker": {
          "color": 9.044062499974359e-05,
          "colorbar": {
           "thickness": 10
          },
          "colorscale": [
           [
            0,
            "#440154"
           ],
           [
            0.1111111111111111,
            "#482878"
           ],
           [
            0.2222222222222222,
            "#3e4989"
           ],
           [
            0.3333333333333333,
            "#31688e"
           ],
           [
            0.4444444444444444,
            "#26828e"
           ],
           [
            0.5555555555555556,
            "#1f9e89"
           ],
           [
            0.6666666666666666,
            "#35b779"
           ],
           [
            0.7777777777777778,
            "#6ece58"
           ],
           [
            0.8888888888888888,
            "#b5de2b"
           ],
           [
            1,
            "#fde725"
           ]
          ],
          "line": {
           "color": "MediumPurple",
           "width": 1
          },
          "size": 12,
          "symbol": "circle"
         },
         "mode": "markers",
         "name": "zr9ic2zaz5",
         "showlegend": false,
         "type": "scatter",
         "x": [
          13.672843111672988
         ],
         "y": [
          -6.272770385625
         ]
        },
        {
         "legendgroup": "9txdvicqcf",
         "marker": {
          "color": -8.103458333419411e-05,
          "colorbar": {
           "thickness": 10
          },
          "colorscale": [
           [
            0,
            "#440154"
           ],
           [
            0.1111111111111111,
            "#482878"
           ],
           [
            0.2222222222222222,
            "#3e4989"
           ],
           [
            0.3333333333333333,
            "#31688e"
           ],
           [
            0.4444444444444444,
            "#26828e"
           ],
           [
            0.5555555555555556,
            "#1f9e89"
           ],
           [
            0.6666666666666666,
            "#35b779"
           ],
           [
            0.7777777777777778,
            "#6ece58"
           ],
           [
            0.8888888888888888,
            "#b5de2b"
           ],
           [
            1,
            "#fde725"
           ]
          ],
          "line": {
           "color": "MediumPurple",
           "width": 1
          },
          "size": 12,
          "symbol": "diamond"
         },
         "mode": "markers",
         "name": "9txdvicqcf",
         "showlegend": true,
         "type": "scatter",
         "x": [
          11.131862055648448
         ],
         "y": [
          -6.464471491666667
         ]
        },
        {
         "legendgroup": "9txdvicqcf",
         "marker": {
          "color": -8.103458333419411e-05,
          "colorbar": {
           "thickness": 10
          },
          "colorscale": [
           [
            0,
            "#440154"
           ],
           [
            0.1111111111111111,
            "#482878"
           ],
           [
            0.2222222222222222,
            "#3e4989"
           ],
           [
            0.3333333333333333,
            "#31688e"
           ],
           [
            0.4444444444444444,
            "#26828e"
           ],
           [
            0.5555555555555556,
            "#1f9e89"
           ],
           [
            0.6666666666666666,
            "#35b779"
           ],
           [
            0.7777777777777778,
            "#6ece58"
           ],
           [
            0.8888888888888888,
            "#b5de2b"
           ],
           [
            1,
            "#fde725"
           ]
          ],
          "line": {
           "color": "MediumPurple",
           "width": 1
          },
          "size": 12,
          "symbol": "circle"
         },
         "mode": "markers",
         "name": "9txdvicqcf",
         "showlegend": false,
         "type": "scatter",
         "x": [
          11.13668245311254
         ],
         "y": [
          -6.464390457083333
         ]
        },
        {
         "legendgroup": "vt9ynkzyna",
         "marker": {
          "color": 6.932604166642875e-05,
          "colorbar": {
           "thickness": 10
          },
          "colorscale": [
           [
            0,
            "#440154"
           ],
           [
            0.1111111111111111,
            "#482878"
           ],
           [
            0.2222222222222222,
            "#3e4989"
           ],
           [
            0.3333333333333333,
            "#31688e"
           ],
           [
            0.4444444444444444,
            "#26828e"
           ],
           [
            0.5555555555555556,
            "#1f9e89"
           ],
           [
            0.6666666666666666,
            "#35b779"
           ],
           [
            0.7777777777777778,
            "#6ece58"
           ],
           [
            0.8888888888888888,
            "#b5de2b"
           ],
           [
            1,
            "#fde725"
           ]
          ],
          "line": {
           "color": "MediumPurple",
           "width": 1
          },
          "size": 12,
          "symbol": "diamond"
         },
         "mode": "markers",
         "name": "vt9ynkzyna",
         "showlegend": true,
         "type": "scatter",
         "x": [
          23.9602279764986
         ],
         "y": [
          -6.126286650625
         ]
        },
        {
         "legendgroup": "vt9ynkzyna",
         "marker": {
          "color": 6.932604166642875e-05,
          "colorbar": {
           "thickness": 10
          },
          "colorscale": [
           [
            0,
            "#440154"
           ],
           [
            0.1111111111111111,
            "#482878"
           ],
           [
            0.2222222222222222,
            "#3e4989"
           ],
           [
            0.3333333333333333,
            "#31688e"
           ],
           [
            0.4444444444444444,
            "#26828e"
           ],
           [
            0.5555555555555556,
            "#1f9e89"
           ],
           [
            0.6666666666666666,
            "#35b779"
           ],
           [
            0.7777777777777778,
            "#6ece58"
           ],
           [
            0.8888888888888888,
            "#b5de2b"
           ],
           [
            1,
            "#fde725"
           ]
          ],
          "line": {
           "color": "MediumPurple",
           "width": 1
          },
          "size": 12,
          "symbol": "circle"
         },
         "mode": "markers",
         "name": "vt9ynkzyna",
         "showlegend": false,
         "type": "scatter",
         "x": [
          24.01702045635393
         ],
         "y": [
          -6.126355976666667
         ]
        },
        {
         "legendgroup": "c48lx363be",
         "marker": {
          "color": -0.00040557833333298987,
          "colorbar": {
           "thickness": 10
          },
          "colorscale": [
           [
            0,
            "#440154"
           ],
           [
            0.1111111111111111,
            "#482878"
           ],
           [
            0.2222222222222222,
            "#3e4989"
           ],
           [
            0.3333333333333333,
            "#31688e"
           ],
           [
            0.4444444444444444,
            "#26828e"
           ],
           [
            0.5555555555555556,
            "#1f9e89"
           ],
           [
            0.6666666666666666,
            "#35b779"
           ],
           [
            0.7777777777777778,
            "#6ece58"
           ],
           [
            0.8888888888888888,
            "#b5de2b"
           ],
           [
            1,
            "#fde725"
           ]
          ],
          "line": {
           "color": "MediumPurple",
           "width": 1
          },
          "size": 12,
          "symbol": "diamond"
         },
         "mode": "markers",
         "name": "c48lx363be",
         "showlegend": true,
         "type": "scatter",
         "x": [
          12.594083493133041
         ],
         "y": [
          -6.772998472499999
         ]
        },
        {
         "legendgroup": "c48lx363be",
         "marker": {
          "color": -0.00040557833333298987,
          "colorbar": {
           "thickness": 10
          },
          "colorscale": [
           [
            0,
            "#440154"
           ],
           [
            0.1111111111111111,
            "#482878"
           ],
           [
            0.2222222222222222,
            "#3e4989"
           ],
           [
            0.3333333333333333,
            "#31688e"
           ],
           [
            0.4444444444444444,
            "#26828e"
           ],
           [
            0.5555555555555556,
            "#1f9e89"
           ],
           [
            0.6666666666666666,
            "#35b779"
           ],
           [
            0.7777777777777778,
            "#6ece58"
           ],
           [
            0.8888888888888888,
            "#b5de2b"
           ],
           [
            1,
            "#fde725"
           ]
          ],
          "line": {
           "color": "MediumPurple",
           "width": 1
          },
          "size": 12,
          "symbol": "circle"
         },
         "mode": "markers",
         "name": "c48lx363be",
         "showlegend": false,
         "type": "scatter",
         "x": [
          12.59451971913595
         ],
         "y": [
          -6.772592894166666
         ]
        },
        {
         "legendgroup": "vsvsms92ng",
         "marker": {
          "color": -0.00018007333333436293,
          "colorbar": {
           "thickness": 10
          },
          "colorscale": [
           [
            0,
            "#440154"
           ],
           [
            0.1111111111111111,
            "#482878"
           ],
           [
            0.2222222222222222,
            "#3e4989"
           ],
           [
            0.3333333333333333,
            "#31688e"
           ],
           [
            0.4444444444444444,
            "#26828e"
           ],
           [
            0.5555555555555556,
            "#1f9e89"
           ],
           [
            0.6666666666666666,
            "#35b779"
           ],
           [
            0.7777777777777778,
            "#6ece58"
           ],
           [
            0.8888888888888888,
            "#b5de2b"
           ],
           [
            1,
            "#fde725"
           ]
          ],
          "line": {
           "color": "MediumPurple",
           "width": 1
          },
          "size": 12,
          "symbol": "diamond"
         },
         "mode": "markers",
         "name": "vsvsms92ng",
         "showlegend": true,
         "type": "scatter",
         "x": [
          9.991766055274669
         ],
         "y": [
          -6.950299773333334
         ]
        },
        {
         "legendgroup": "vsvsms92ng",
         "marker": {
          "color": -0.00018007333333436293,
          "colorbar": {
           "thickness": 10
          },
          "colorscale": [
           [
            0,
            "#440154"
           ],
           [
            0.1111111111111111,
            "#482878"
           ],
           [
            0.2222222222222222,
            "#3e4989"
           ],
           [
            0.3333333333333333,
            "#31688e"
           ],
           [
            0.4444444444444444,
            "#26828e"
           ],
           [
            0.5555555555555556,
            "#1f9e89"
           ],
           [
            0.6666666666666666,
            "#35b779"
           ],
           [
            0.7777777777777778,
            "#6ece58"
           ],
           [
            0.8888888888888888,
            "#b5de2b"
           ],
           [
            1,
            "#fde725"
           ]
          ],
          "line": {
           "color": "MediumPurple",
           "width": 1
          },
          "size": 12,
          "symbol": "circle"
         },
         "mode": "markers",
         "name": "vsvsms92ng",
         "showlegend": false,
         "type": "scatter",
         "x": [
          9.991534744171007
         ],
         "y": [
          -6.950119699999999
         ]
        },
        {
         "legendgroup": "7h62vo74x4",
         "marker": {
          "color": -0.008722588750000426,
          "colorbar": {
           "thickness": 10
          },
          "colorscale": [
           [
            0,
            "#440154"
           ],
           [
            0.1111111111111111,
            "#482878"
           ],
           [
            0.2222222222222222,
            "#3e4989"
           ],
           [
            0.3333333333333333,
            "#31688e"
           ],
           [
            0.4444444444444444,
            "#26828e"
           ],
           [
            0.5555555555555556,
            "#1f9e89"
           ],
           [
            0.6666666666666666,
            "#35b779"
           ],
           [
            0.7777777777777778,
            "#6ece58"
           ],
           [
            0.8888888888888888,
            "#b5de2b"
           ],
           [
            1,
            "#fde725"
           ]
          ],
          "line": {
           "color": "MediumPurple",
           "width": 1
          },
          "size": 12,
          "symbol": "diamond"
         },
         "mode": "markers",
         "name": "7h62vo74x4",
         "showlegend": true,
         "type": "scatter",
         "x": [
          29.54640538477562
         ],
         "y": [
          -5.6310075675
         ]
        },
        {
         "legendgroup": "7h62vo74x4",
         "marker": {
          "color": -0.008722588750000426,
          "colorbar": {
           "thickness": 10
          },
          "colorscale": [
           [
            0,
            "#440154"
           ],
           [
            0.1111111111111111,
            "#482878"
           ],
           [
            0.2222222222222222,
            "#3e4989"
           ],
           [
            0.3333333333333333,
            "#31688e"
           ],
           [
            0.4444444444444444,
            "#26828e"
           ],
           [
            0.5555555555555556,
            "#1f9e89"
           ],
           [
            0.6666666666666666,
            "#35b779"
           ],
           [
            0.7777777777777778,
            "#6ece58"
           ],
           [
            0.8888888888888888,
            "#b5de2b"
           ],
           [
            1,
            "#fde725"
           ]
          ],
          "line": {
           "color": "MediumPurple",
           "width": 1
          },
          "size": 12,
          "symbol": "circle"
         },
         "mode": "markers",
         "name": "7h62vo74x4",
         "showlegend": false,
         "type": "scatter",
         "x": [
          29.696820936215087
         ],
         "y": [
          -5.62228497875
         ]
        },
        {
         "legendgroup": "x2xj6wb48k",
         "marker": {
          "color": -0.00032575500000042723,
          "colorbar": {
           "thickness": 10
          },
          "colorscale": [
           [
            0,
            "#440154"
           ],
           [
            0.1111111111111111,
            "#482878"
           ],
           [
            0.2222222222222222,
            "#3e4989"
           ],
           [
            0.3333333333333333,
            "#31688e"
           ],
           [
            0.4444444444444444,
            "#26828e"
           ],
           [
            0.5555555555555556,
            "#1f9e89"
           ],
           [
            0.6666666666666666,
            "#35b779"
           ],
           [
            0.7777777777777778,
            "#6ece58"
           ],
           [
            0.8888888888888888,
            "#b5de2b"
           ],
           [
            1,
            "#fde725"
           ]
          ],
          "line": {
           "color": "MediumPurple",
           "width": 1
          },
          "size": 12,
          "symbol": "diamond"
         },
         "mode": "markers",
         "name": "x2xj6wb48k",
         "showlegend": true,
         "type": "scatter",
         "x": [
          12.158632090636106
         ],
         "y": [
          -6.343013570555556
         ]
        },
        {
         "legendgroup": "x2xj6wb48k",
         "marker": {
          "color": -0.00032575500000042723,
          "colorbar": {
           "thickness": 10
          },
          "colorscale": [
           [
            0,
            "#440154"
           ],
           [
            0.1111111111111111,
            "#482878"
           ],
           [
            0.2222222222222222,
            "#3e4989"
           ],
           [
            0.3333333333333333,
            "#31688e"
           ],
           [
            0.4444444444444444,
            "#26828e"
           ],
           [
            0.5555555555555556,
            "#1f9e89"
           ],
           [
            0.6666666666666666,
            "#35b779"
           ],
           [
            0.7777777777777778,
            "#6ece58"
           ],
           [
            0.8888888888888888,
            "#b5de2b"
           ],
           [
            1,
            "#fde725"
           ]
          ],
          "line": {
           "color": "MediumPurple",
           "width": 1
          },
          "size": 12,
          "symbol": "circle"
         },
         "mode": "markers",
         "name": "x2xj6wb48k",
         "showlegend": false,
         "type": "scatter",
         "x": [
          12.160392754972134
         ],
         "y": [
          -6.342687815555555
         ]
        },
        {
         "legendgroup": "nt6wv1n27r",
         "marker": {
          "color": 0.2746493274999988,
          "colorbar": {
           "thickness": 10
          },
          "colorscale": [
           [
            0,
            "#440154"
           ],
           [
            0.1111111111111111,
            "#482878"
           ],
           [
            0.2222222222222222,
            "#3e4989"
           ],
           [
            0.3333333333333333,
            "#31688e"
           ],
           [
            0.4444444444444444,
            "#26828e"
           ],
           [
            0.5555555555555556,
            "#1f9e89"
           ],
           [
            0.6666666666666666,
            "#35b779"
           ],
           [
            0.7777777777777778,
            "#6ece58"
           ],
           [
            0.8888888888888888,
            "#b5de2b"
           ],
           [
            1,
            "#fde725"
           ]
          ],
          "line": {
           "color": "MediumPurple",
           "width": 1
          },
          "size": 12,
          "symbol": "diamond"
         },
         "mode": "markers",
         "name": "nt6wv1n27r",
         "showlegend": true,
         "type": "scatter",
         "x": [
          13.761650599771627
         ],
         "y": [
          -6.290211007500001
         ]
        },
        {
         "legendgroup": "nt6wv1n27r",
         "marker": {
          "color": 0.2746493274999988,
          "colorbar": {
           "thickness": 10
          },
          "colorscale": [
           [
            0,
            "#440154"
           ],
           [
            0.1111111111111111,
            "#482878"
           ],
           [
            0.2222222222222222,
            "#3e4989"
           ],
           [
            0.3333333333333333,
            "#31688e"
           ],
           [
            0.4444444444444444,
            "#26828e"
           ],
           [
            0.5555555555555556,
            "#1f9e89"
           ],
           [
            0.6666666666666666,
            "#35b779"
           ],
           [
            0.7777777777777778,
            "#6ece58"
           ],
           [
            0.8888888888888888,
            "#b5de2b"
           ],
           [
            1,
            "#fde725"
           ]
          ],
          "line": {
           "color": "MediumPurple",
           "width": 1
          },
          "size": 12,
          "symbol": "circle"
         },
         "mode": "markers",
         "name": "nt6wv1n27r",
         "showlegend": false,
         "type": "scatter",
         "x": [
          15.640173284304757
         ],
         "y": [
          -6.564860335
         ]
        },
        {
         "legendgroup": "94vpmqvh9p",
         "marker": {
          "color": -0.00743553437500033,
          "colorbar": {
           "thickness": 10
          },
          "colorscale": [
           [
            0,
            "#440154"
           ],
           [
            0.1111111111111111,
            "#482878"
           ],
           [
            0.2222222222222222,
            "#3e4989"
           ],
           [
            0.3333333333333333,
            "#31688e"
           ],
           [
            0.4444444444444444,
            "#26828e"
           ],
           [
            0.5555555555555556,
            "#1f9e89"
           ],
           [
            0.6666666666666666,
            "#35b779"
           ],
           [
            0.7777777777777778,
            "#6ece58"
           ],
           [
            0.8888888888888888,
            "#b5de2b"
           ],
           [
            1,
            "#fde725"
           ]
          ],
          "line": {
           "color": "MediumPurple",
           "width": 1
          },
          "size": 12,
          "symbol": "diamond"
         },
         "mode": "markers",
         "name": "94vpmqvh9p",
         "showlegend": true,
         "type": "scatter",
         "x": [
          19.931253795854396
         ],
         "y": [
          -6.1839906559375
         ]
        },
        {
         "legendgroup": "94vpmqvh9p",
         "marker": {
          "color": -0.00743553437500033,
          "colorbar": {
           "thickness": 10
          },
          "colorscale": [
           [
            0,
            "#440154"
           ],
           [
            0.1111111111111111,
            "#482878"
           ],
           [
            0.2222222222222222,
            "#3e4989"
           ],
           [
            0.3333333333333333,
            "#31688e"
           ],
           [
            0.4444444444444444,
            "#26828e"
           ],
           [
            0.5555555555555556,
            "#1f9e89"
           ],
           [
            0.6666666666666666,
            "#35b779"
           ],
           [
            0.7777777777777778,
            "#6ece58"
           ],
           [
            0.8888888888888888,
            "#b5de2b"
           ],
           [
            1,
            "#fde725"
           ]
          ],
          "line": {
           "color": "MediumPurple",
           "width": 1
          },
          "size": 12,
          "symbol": "circle"
         },
         "mode": "markers",
         "name": "94vpmqvh9p",
         "showlegend": false,
         "type": "scatter",
         "x": [
          18.385014091101986
         ],
         "y": [
          -6.1765551215625
         ]
        },
        {
         "legendgroup": "mkvpml8q9e",
         "marker": {
          "color": 0.004599587499999558,
          "colorbar": {
           "thickness": 10
          },
          "colorscale": [
           [
            0,
            "#440154"
           ],
           [
            0.1111111111111111,
            "#482878"
           ],
           [
            0.2222222222222222,
            "#3e4989"
           ],
           [
            0.3333333333333333,
            "#31688e"
           ],
           [
            0.4444444444444444,
            "#26828e"
           ],
           [
            0.5555555555555556,
            "#1f9e89"
           ],
           [
            0.6666666666666666,
            "#35b779"
           ],
           [
            0.7777777777777778,
            "#6ece58"
           ],
           [
            0.8888888888888888,
            "#b5de2b"
           ],
           [
            1,
            "#fde725"
           ]
          ],
          "line": {
           "color": "MediumPurple",
           "width": 1
          },
          "size": 12,
          "symbol": "diamond"
         },
         "mode": "markers",
         "name": "mkvpml8q9e",
         "showlegend": true,
         "type": "scatter",
         "x": [
          24.4467446874663
         ],
         "y": [
          -6.1268412075
         ]
        },
        {
         "legendgroup": "mkvpml8q9e",
         "marker": {
          "color": 0.004599587499999558,
          "colorbar": {
           "thickness": 10
          },
          "colorscale": [
           [
            0,
            "#440154"
           ],
           [
            0.1111111111111111,
            "#482878"
           ],
           [
            0.2222222222222222,
            "#3e4989"
           ],
           [
            0.3333333333333333,
            "#31688e"
           ],
           [
            0.4444444444444444,
            "#26828e"
           ],
           [
            0.5555555555555556,
            "#1f9e89"
           ],
           [
            0.6666666666666666,
            "#35b779"
           ],
           [
            0.7777777777777778,
            "#6ece58"
           ],
           [
            0.8888888888888888,
            "#b5de2b"
           ],
           [
            1,
            "#fde725"
           ]
          ],
          "line": {
           "color": "MediumPurple",
           "width": 1
          },
          "size": 12,
          "symbol": "circle"
         },
         "mode": "markers",
         "name": "mkvpml8q9e",
         "showlegend": false,
         "type": "scatter",
         "x": [
          24.644694559469183
         ],
         "y": [
          -6.131440795
         ]
        },
        {
         "legendgroup": "mi8ob2xq9h",
         "marker": {
          "color": 0.13615408611111146,
          "colorbar": {
           "thickness": 10
          },
          "colorscale": [
           [
            0,
            "#440154"
           ],
           [
            0.1111111111111111,
            "#482878"
           ],
           [
            0.2222222222222222,
            "#3e4989"
           ],
           [
            0.3333333333333333,
            "#31688e"
           ],
           [
            0.4444444444444444,
            "#26828e"
           ],
           [
            0.5555555555555556,
            "#1f9e89"
           ],
           [
            0.6666666666666666,
            "#35b779"
           ],
           [
            0.7777777777777778,
            "#6ece58"
           ],
           [
            0.8888888888888888,
            "#b5de2b"
           ],
           [
            1,
            "#fde725"
           ]
          ],
          "line": {
           "color": "MediumPurple",
           "width": 1
          },
          "size": 12,
          "symbol": "diamond"
         },
         "mode": "markers",
         "name": "mi8ob2xq9h",
         "showlegend": true,
         "type": "scatter",
         "x": [
          15.361378730791737
         ],
         "y": [
          -6.521136823611111
         ]
        },
        {
         "legendgroup": "mi8ob2xq9h",
         "marker": {
          "color": 0.13615408611111146,
          "colorbar": {
           "thickness": 10
          },
          "colorscale": [
           [
            0,
            "#440154"
           ],
           [
            0.1111111111111111,
            "#482878"
           ],
           [
            0.2222222222222222,
            "#3e4989"
           ],
           [
            0.3333333333333333,
            "#31688e"
           ],
           [
            0.4444444444444444,
            "#26828e"
           ],
           [
            0.5555555555555556,
            "#1f9e89"
           ],
           [
            0.6666666666666666,
            "#35b779"
           ],
           [
            0.7777777777777778,
            "#6ece58"
           ],
           [
            0.8888888888888888,
            "#b5de2b"
           ],
           [
            1,
            "#fde725"
           ]
          ],
          "line": {
           "color": "MediumPurple",
           "width": 1
          },
          "size": 12,
          "symbol": "circle"
         },
         "mode": "markers",
         "name": "mi8ob2xq9h",
         "showlegend": false,
         "type": "scatter",
         "x": [
          15.17569879639599
         ],
         "y": [
          -6.657290909722223
         ]
        },
        {
         "legendgroup": "mlva81bg7p",
         "marker": {
          "color": -0.0009780191666672877,
          "colorbar": {
           "thickness": 10
          },
          "colorscale": [
           [
            0,
            "#440154"
           ],
           [
            0.1111111111111111,
            "#482878"
           ],
           [
            0.2222222222222222,
            "#3e4989"
           ],
           [
            0.3333333333333333,
            "#31688e"
           ],
           [
            0.4444444444444444,
            "#26828e"
           ],
           [
            0.5555555555555556,
            "#1f9e89"
           ],
           [
            0.6666666666666666,
            "#35b779"
           ],
           [
            0.7777777777777778,
            "#6ece58"
           ],
           [
            0.8888888888888888,
            "#b5de2b"
           ],
           [
            1,
            "#fde725"
           ]
          ],
          "line": {
           "color": "MediumPurple",
           "width": 1
          },
          "size": 12,
          "symbol": "diamond"
         },
         "mode": "markers",
         "name": "mlva81bg7p",
         "showlegend": true,
         "type": "scatter",
         "x": [
          12.613235925166217
         ],
         "y": [
          -6.653620445416667
         ]
        },
        {
         "legendgroup": "mlva81bg7p",
         "marker": {
          "color": -0.0009780191666672877,
          "colorbar": {
           "thickness": 10
          },
          "colorscale": [
           [
            0,
            "#440154"
           ],
           [
            0.1111111111111111,
            "#482878"
           ],
           [
            0.2222222222222222,
            "#3e4989"
           ],
           [
            0.3333333333333333,
            "#31688e"
           ],
           [
            0.4444444444444444,
            "#26828e"
           ],
           [
            0.5555555555555556,
            "#1f9e89"
           ],
           [
            0.6666666666666666,
            "#35b779"
           ],
           [
            0.7777777777777778,
            "#6ece58"
           ],
           [
            0.8888888888888888,
            "#b5de2b"
           ],
           [
            1,
            "#fde725"
           ]
          ],
          "line": {
           "color": "MediumPurple",
           "width": 1
          },
          "size": 12,
          "symbol": "circle"
         },
         "mode": "markers",
         "name": "mlva81bg7p",
         "showlegend": false,
         "type": "scatter",
         "x": [
          12.471816647500875
         ],
         "y": [
          -6.65264242625
         ]
        },
        {
         "legendgroup": "7am4vwzi7p",
         "marker": {
          "color": 0.007102571666667501,
          "colorbar": {
           "thickness": 10
          },
          "colorscale": [
           [
            0,
            "#440154"
           ],
           [
            0.1111111111111111,
            "#482878"
           ],
           [
            0.2222222222222222,
            "#3e4989"
           ],
           [
            0.3333333333333333,
            "#31688e"
           ],
           [
            0.4444444444444444,
            "#26828e"
           ],
           [
            0.5555555555555556,
            "#1f9e89"
           ],
           [
            0.6666666666666666,
            "#35b779"
           ],
           [
            0.7777777777777778,
            "#6ece58"
           ],
           [
            0.8888888888888888,
            "#b5de2b"
           ],
           [
            1,
            "#fde725"
           ]
          ],
          "line": {
           "color": "MediumPurple",
           "width": 1
          },
          "size": 12,
          "symbol": "diamond"
         },
         "mode": "markers",
         "name": "7am4vwzi7p",
         "showlegend": true,
         "type": "scatter",
         "x": [
          10.849656208841806
         ],
         "y": [
          -4.978113020833333
         ]
        },
        {
         "legendgroup": "7am4vwzi7p",
         "marker": {
          "color": 0.007102571666667501,
          "colorbar": {
           "thickness": 10
          },
          "colorscale": [
           [
            0,
            "#440154"
           ],
           [
            0.1111111111111111,
            "#482878"
           ],
           [
            0.2222222222222222,
            "#3e4989"
           ],
           [
            0.3333333333333333,
            "#31688e"
           ],
           [
            0.4444444444444444,
            "#26828e"
           ],
           [
            0.5555555555555556,
            "#1f9e89"
           ],
           [
            0.6666666666666666,
            "#35b779"
           ],
           [
            0.7777777777777778,
            "#6ece58"
           ],
           [
            0.8888888888888888,
            "#b5de2b"
           ],
           [
            1,
            "#fde725"
           ]
          ],
          "line": {
           "color": "MediumPurple",
           "width": 1
          },
          "size": 12,
          "symbol": "circle"
         },
         "mode": "markers",
         "name": "7am4vwzi7p",
         "showlegend": false,
         "type": "scatter",
         "x": [
          10.80015157252812
         ],
         "y": [
          -4.9852155925
         ]
        },
        {
         "legendgroup": "xjbj6fbfn1",
         "marker": {
          "color": -0.0004694714583326487,
          "colorbar": {
           "thickness": 10
          },
          "colorscale": [
           [
            0,
            "#440154"
           ],
           [
            0.1111111111111111,
            "#482878"
           ],
           [
            0.2222222222222222,
            "#3e4989"
           ],
           [
            0.3333333333333333,
            "#31688e"
           ],
           [
            0.4444444444444444,
            "#26828e"
           ],
           [
            0.5555555555555556,
            "#1f9e89"
           ],
           [
            0.6666666666666666,
            "#35b779"
           ],
           [
            0.7777777777777778,
            "#6ece58"
           ],
           [
            0.8888888888888888,
            "#b5de2b"
           ],
           [
            1,
            "#fde725"
           ]
          ],
          "line": {
           "color": "MediumPurple",
           "width": 1
          },
          "size": 12,
          "symbol": "diamond"
         },
         "mode": "markers",
         "name": "xjbj6fbfn1",
         "showlegend": true,
         "type": "scatter",
         "x": [
          14.490911706427854
         ],
         "y": [
          -6.758509948125
         ]
        },
        {
         "legendgroup": "xjbj6fbfn1",
         "marker": {
          "color": -0.0004694714583326487,
          "colorbar": {
           "thickness": 10
          },
          "colorscale": [
           [
            0,
            "#440154"
           ],
           [
            0.1111111111111111,
            "#482878"
           ],
           [
            0.2222222222222222,
            "#3e4989"
           ],
           [
            0.3333333333333333,
            "#31688e"
           ],
           [
            0.4444444444444444,
            "#26828e"
           ],
           [
            0.5555555555555556,
            "#1f9e89"
           ],
           [
            0.6666666666666666,
            "#35b779"
           ],
           [
            0.7777777777777778,
            "#6ece58"
           ],
           [
            0.8888888888888888,
            "#b5de2b"
           ],
           [
            1,
            "#fde725"
           ]
          ],
          "line": {
           "color": "MediumPurple",
           "width": 1
          },
          "size": 12,
          "symbol": "circle"
         },
         "mode": "markers",
         "name": "xjbj6fbfn1",
         "showlegend": false,
         "type": "scatter",
         "x": [
          14.50869906656827
         ],
         "y": [
          -6.758040476666667
         ]
        },
        {
         "legendgroup": "82mwbwbgbl",
         "marker": {
          "color": -0.00019666541666651938,
          "colorbar": {
           "thickness": 10
          },
          "colorscale": [
           [
            0,
            "#440154"
           ],
           [
            0.1111111111111111,
            "#482878"
           ],
           [
            0.2222222222222222,
            "#3e4989"
           ],
           [
            0.3333333333333333,
            "#31688e"
           ],
           [
            0.4444444444444444,
            "#26828e"
           ],
           [
            0.5555555555555556,
            "#1f9e89"
           ],
           [
            0.6666666666666666,
            "#35b779"
           ],
           [
            0.7777777777777778,
            "#6ece58"
           ],
           [
            0.8888888888888888,
            "#b5de2b"
           ],
           [
            1,
            "#fde725"
           ]
          ],
          "line": {
           "color": "MediumPurple",
           "width": 1
          },
          "size": 12,
          "symbol": "diamond"
         },
         "mode": "markers",
         "name": "82mwbwbgbl",
         "showlegend": true,
         "type": "scatter",
         "x": [
          13.165961325909123
         ],
         "y": [
          -6.5813658675
         ]
        },
        {
         "legendgroup": "82mwbwbgbl",
         "marker": {
          "color": -0.00019666541666651938,
          "colorbar": {
           "thickness": 10
          },
          "colorscale": [
           [
            0,
            "#440154"
           ],
           [
            0.1111111111111111,
            "#482878"
           ],
           [
            0.2222222222222222,
            "#3e4989"
           ],
           [
            0.3333333333333333,
            "#31688e"
           ],
           [
            0.4444444444444444,
            "#26828e"
           ],
           [
            0.5555555555555556,
            "#1f9e89"
           ],
           [
            0.6666666666666666,
            "#35b779"
           ],
           [
            0.7777777777777778,
            "#6ece58"
           ],
           [
            0.8888888888888888,
            "#b5de2b"
           ],
           [
            1,
            "#fde725"
           ]
          ],
          "line": {
           "color": "MediumPurple",
           "width": 1
          },
          "size": 12,
          "symbol": "circle"
         },
         "mode": "markers",
         "name": "82mwbwbgbl",
         "showlegend": false,
         "type": "scatter",
         "x": [
          13.137642245977725
         ],
         "y": [
          -6.581169202083333
         ]
        },
        {
         "legendgroup": "md7oztcizu",
         "marker": {
          "color": 0.0007122124999998647,
          "colorbar": {
           "thickness": 10
          },
          "colorscale": [
           [
            0,
            "#440154"
           ],
           [
            0.1111111111111111,
            "#482878"
           ],
           [
            0.2222222222222222,
            "#3e4989"
           ],
           [
            0.3333333333333333,
            "#31688e"
           ],
           [
            0.4444444444444444,
            "#26828e"
           ],
           [
            0.5555555555555556,
            "#1f9e89"
           ],
           [
            0.6666666666666666,
            "#35b779"
           ],
           [
            0.7777777777777778,
            "#6ece58"
           ],
           [
            0.8888888888888888,
            "#b5de2b"
           ],
           [
            1,
            "#fde725"
           ]
          ],
          "line": {
           "color": "MediumPurple",
           "width": 1
          },
          "size": 12,
          "symbol": "diamond"
         },
         "mode": "markers",
         "name": "md7oztcizu",
         "showlegend": true,
         "type": "scatter",
         "x": [
          14.50148462185056
         ],
         "y": [
          -6.7578324375
         ]
        },
        {
         "legendgroup": "md7oztcizu",
         "marker": {
          "color": 0.0007122124999998647,
          "colorbar": {
           "thickness": 10
          },
          "colorscale": [
           [
            0,
            "#440154"
           ],
           [
            0.1111111111111111,
            "#482878"
           ],
           [
            0.2222222222222222,
            "#3e4989"
           ],
           [
            0.3333333333333333,
            "#31688e"
           ],
           [
            0.4444444444444444,
            "#26828e"
           ],
           [
            0.5555555555555556,
            "#1f9e89"
           ],
           [
            0.6666666666666666,
            "#35b779"
           ],
           [
            0.7777777777777778,
            "#6ece58"
           ],
           [
            0.8888888888888888,
            "#b5de2b"
           ],
           [
            1,
            "#fde725"
           ]
          ],
          "line": {
           "color": "MediumPurple",
           "width": 1
          },
          "size": 12,
          "symbol": "circle"
         },
         "mode": "markers",
         "name": "md7oztcizu",
         "showlegend": false,
         "type": "scatter",
         "x": [
          14.501547428825681
         ],
         "y": [
          -6.75854465
         ]
        },
        {
         "legendgroup": "xonhb1cgnq",
         "marker": {
          "color": -0.00020475833333222226,
          "colorbar": {
           "thickness": 10
          },
          "colorscale": [
           [
            0,
            "#440154"
           ],
           [
            0.1111111111111111,
            "#482878"
           ],
           [
            0.2222222222222222,
            "#3e4989"
           ],
           [
            0.3333333333333333,
            "#31688e"
           ],
           [
            0.4444444444444444,
            "#26828e"
           ],
           [
            0.5555555555555556,
            "#1f9e89"
           ],
           [
            0.6666666666666666,
            "#35b779"
           ],
           [
            0.7777777777777778,
            "#6ece58"
           ],
           [
            0.8888888888888888,
            "#b5de2b"
           ],
           [
            1,
            "#fde725"
           ]
          ],
          "line": {
           "color": "MediumPurple",
           "width": 1
          },
          "size": 12,
          "symbol": "diamond"
         },
         "mode": "markers",
         "name": "xonhb1cgnq",
         "showlegend": true,
         "type": "scatter",
         "x": [
          9.991867369326537
         ],
         "y": [
          -6.950299244166666
         ]
        },
        {
         "legendgroup": "xonhb1cgnq",
         "marker": {
          "color": -0.00020475833333222226,
          "colorbar": {
           "thickness": 10
          },
          "colorscale": [
           [
            0,
            "#440154"
           ],
           [
            0.1111111111111111,
            "#482878"
           ],
           [
            0.2222222222222222,
            "#3e4989"
           ],
           [
            0.3333333333333333,
            "#31688e"
           ],
           [
            0.4444444444444444,
            "#26828e"
           ],
           [
            0.5555555555555556,
            "#1f9e89"
           ],
           [
            0.6666666666666666,
            "#35b779"
           ],
           [
            0.7777777777777778,
            "#6ece58"
           ],
           [
            0.8888888888888888,
            "#b5de2b"
           ],
           [
            1,
            "#fde725"
           ]
          ],
          "line": {
           "color": "MediumPurple",
           "width": 1
          },
          "size": 12,
          "symbol": "circle"
         },
         "mode": "markers",
         "name": "xonhb1cgnq",
         "showlegend": false,
         "type": "scatter",
         "x": [
          9.993952407222405
         ],
         "y": [
          -6.950094485833334
         ]
        },
        {
         "legendgroup": "7ave8rzrzj",
         "marker": {
          "color": -2.319664238333334,
          "colorbar": {
           "thickness": 10
          },
          "colorscale": [
           [
            0,
            "#440154"
           ],
           [
            0.1111111111111111,
            "#482878"
           ],
           [
            0.2222222222222222,
            "#3e4989"
           ],
           [
            0.3333333333333333,
            "#31688e"
           ],
           [
            0.4444444444444444,
            "#26828e"
           ],
           [
            0.5555555555555556,
            "#1f9e89"
           ],
           [
            0.6666666666666666,
            "#35b779"
           ],
           [
            0.7777777777777778,
            "#6ece58"
           ],
           [
            0.8888888888888888,
            "#b5de2b"
           ],
           [
            1,
            "#fde725"
           ]
          ],
          "line": {
           "color": "MediumPurple",
           "width": 1
          },
          "size": 12,
          "symbol": "diamond"
         },
         "mode": "markers",
         "name": "7ave8rzrzj",
         "showlegend": true,
         "type": "scatter",
         "x": [
          17.235308724015464
         ],
         "y": [
          -6.322997910000001
         ]
        },
        {
         "legendgroup": "7ave8rzrzj",
         "marker": {
          "color": -2.319664238333334,
          "colorbar": {
           "thickness": 10
          },
          "colorscale": [
           [
            0,
            "#440154"
           ],
           [
            0.1111111111111111,
            "#482878"
           ],
           [
            0.2222222222222222,
            "#3e4989"
           ],
           [
            0.3333333333333333,
            "#31688e"
           ],
           [
            0.4444444444444444,
            "#26828e"
           ],
           [
            0.5555555555555556,
            "#1f9e89"
           ],
           [
            0.6666666666666666,
            "#35b779"
           ],
           [
            0.7777777777777778,
            "#6ece58"
           ],
           [
            0.8888888888888888,
            "#b5de2b"
           ],
           [
            1,
            "#fde725"
           ]
          ],
          "line": {
           "color": "MediumPurple",
           "width": 1
          },
          "size": 12,
          "symbol": "circle"
         },
         "mode": "markers",
         "name": "7ave8rzrzj",
         "showlegend": false,
         "type": "scatter",
         "x": [
          38.86801604931104
         ],
         "y": [
          -4.003333671666667
         ]
        },
        {
         "legendgroup": "6obuvfvi9d",
         "marker": {
          "color": -0.0012296441666652669,
          "colorbar": {
           "thickness": 10
          },
          "colorscale": [
           [
            0,
            "#440154"
           ],
           [
            0.1111111111111111,
            "#482878"
           ],
           [
            0.2222222222222222,
            "#3e4989"
           ],
           [
            0.3333333333333333,
            "#31688e"
           ],
           [
            0.4444444444444444,
            "#26828e"
           ],
           [
            0.5555555555555556,
            "#1f9e89"
           ],
           [
            0.6666666666666666,
            "#35b779"
           ],
           [
            0.7777777777777778,
            "#6ece58"
           ],
           [
            0.8888888888888888,
            "#b5de2b"
           ],
           [
            1,
            "#fde725"
           ]
          ],
          "line": {
           "color": "MediumPurple",
           "width": 1
          },
          "size": 12,
          "symbol": "diamond"
         },
         "mode": "markers",
         "name": "6obuvfvi9d",
         "showlegend": true,
         "type": "scatter",
         "x": [
          18.56084405266874
         ],
         "y": [
          -6.737123299166666
         ]
        },
        {
         "legendgroup": "6obuvfvi9d",
         "marker": {
          "color": -0.0012296441666652669,
          "colorbar": {
           "thickness": 10
          },
          "colorscale": [
           [
            0,
            "#440154"
           ],
           [
            0.1111111111111111,
            "#482878"
           ],
           [
            0.2222222222222222,
            "#3e4989"
           ],
           [
            0.3333333333333333,
            "#31688e"
           ],
           [
            0.4444444444444444,
            "#26828e"
           ],
           [
            0.5555555555555556,
            "#1f9e89"
           ],
           [
            0.6666666666666666,
            "#35b779"
           ],
           [
            0.7777777777777778,
            "#6ece58"
           ],
           [
            0.8888888888888888,
            "#b5de2b"
           ],
           [
            1,
            "#fde725"
           ]
          ],
          "line": {
           "color": "MediumPurple",
           "width": 1
          },
          "size": 12,
          "symbol": "circle"
         },
         "mode": "markers",
         "name": "6obuvfvi9d",
         "showlegend": false,
         "type": "scatter",
         "x": [
          17.980947022965527
         ],
         "y": [
          -6.735893655000001
         ]
        },
        {
         "legendgroup": "bpvynr7p9w",
         "marker": {
          "color": 0.00011017812500035973,
          "colorbar": {
           "thickness": 10
          },
          "colorscale": [
           [
            0,
            "#440154"
           ],
           [
            0.1111111111111111,
            "#482878"
           ],
           [
            0.2222222222222222,
            "#3e4989"
           ],
           [
            0.3333333333333333,
            "#31688e"
           ],
           [
            0.4444444444444444,
            "#26828e"
           ],
           [
            0.5555555555555556,
            "#1f9e89"
           ],
           [
            0.6666666666666666,
            "#35b779"
           ],
           [
            0.7777777777777778,
            "#6ece58"
           ],
           [
            0.8888888888888888,
            "#b5de2b"
           ],
           [
            1,
            "#fde725"
           ]
          ],
          "line": {
           "color": "MediumPurple",
           "width": 1
          },
          "size": 12,
          "symbol": "diamond"
         },
         "mode": "markers",
         "name": "bpvynr7p9w",
         "showlegend": true,
         "type": "scatter",
         "x": [
          13.676082967728714
         ],
         "y": [
          -6.2726585125
         ]
        },
        {
         "legendgroup": "bpvynr7p9w",
         "marker": {
          "color": 0.00011017812500035973,
          "colorbar": {
           "thickness": 10
          },
          "colorscale": [
           [
            0,
            "#440154"
           ],
           [
            0.1111111111111111,
            "#482878"
           ],
           [
            0.2222222222222222,
            "#3e4989"
           ],
           [
            0.3333333333333333,
            "#31688e"
           ],
           [
            0.4444444444444444,
            "#26828e"
           ],
           [
            0.5555555555555556,
            "#1f9e89"
           ],
           [
            0.6666666666666666,
            "#35b779"
           ],
           [
            0.7777777777777778,
            "#6ece58"
           ],
           [
            0.8888888888888888,
            "#b5de2b"
           ],
           [
            1,
            "#fde725"
           ]
          ],
          "line": {
           "color": "MediumPurple",
           "width": 1
          },
          "size": 12,
          "symbol": "circle"
         },
         "mode": "markers",
         "name": "bpvynr7p9w",
         "showlegend": false,
         "type": "scatter",
         "x": [
          13.6729787842098
         ],
         "y": [
          -6.272768690625
         ]
        },
        {
         "legendgroup": "ckbg7d9u6u",
         "marker": {
          "color": -0.003197529583333747,
          "colorbar": {
           "thickness": 10
          },
          "colorscale": [
           [
            0,
            "#440154"
           ],
           [
            0.1111111111111111,
            "#482878"
           ],
           [
            0.2222222222222222,
            "#3e4989"
           ],
           [
            0.3333333333333333,
            "#31688e"
           ],
           [
            0.4444444444444444,
            "#26828e"
           ],
           [
            0.5555555555555556,
            "#1f9e89"
           ],
           [
            0.6666666666666666,
            "#35b779"
           ],
           [
            0.7777777777777778,
            "#6ece58"
           ],
           [
            0.8888888888888888,
            "#b5de2b"
           ],
           [
            1,
            "#fde725"
           ]
          ],
          "line": {
           "color": "MediumPurple",
           "width": 1
          },
          "size": 12,
          "symbol": "diamond"
         },
         "mode": "markers",
         "name": "ckbg7d9u6u",
         "showlegend": true,
         "type": "scatter",
         "x": [
          13.459708254162294
         ],
         "y": [
          -6.718412355416667
         ]
        },
        {
         "legendgroup": "ckbg7d9u6u",
         "marker": {
          "color": -0.003197529583333747,
          "colorbar": {
           "thickness": 10
          },
          "colorscale": [
           [
            0,
            "#440154"
           ],
           [
            0.1111111111111111,
            "#482878"
           ],
           [
            0.2222222222222222,
            "#3e4989"
           ],
           [
            0.3333333333333333,
            "#31688e"
           ],
           [
            0.4444444444444444,
            "#26828e"
           ],
           [
            0.5555555555555556,
            "#1f9e89"
           ],
           [
            0.6666666666666666,
            "#35b779"
           ],
           [
            0.7777777777777778,
            "#6ece58"
           ],
           [
            0.8888888888888888,
            "#b5de2b"
           ],
           [
            1,
            "#fde725"
           ]
          ],
          "line": {
           "color": "MediumPurple",
           "width": 1
          },
          "size": 12,
          "symbol": "circle"
         },
         "mode": "markers",
         "name": "ckbg7d9u6u",
         "showlegend": false,
         "type": "scatter",
         "x": [
          13.210438233189869
         ],
         "y": [
          -6.715214825833333
         ]
        },
        {
         "legendgroup": "b5cib48g9t",
         "marker": {
          "color": -0.04789482833333292,
          "colorbar": {
           "thickness": 10
          },
          "colorscale": [
           [
            0,
            "#440154"
           ],
           [
            0.1111111111111111,
            "#482878"
           ],
           [
            0.2222222222222222,
            "#3e4989"
           ],
           [
            0.3333333333333333,
            "#31688e"
           ],
           [
            0.4444444444444444,
            "#26828e"
           ],
           [
            0.5555555555555556,
            "#1f9e89"
           ],
           [
            0.6666666666666666,
            "#35b779"
           ],
           [
            0.7777777777777778,
            "#6ece58"
           ],
           [
            0.8888888888888888,
            "#b5de2b"
           ],
           [
            1,
            "#fde725"
           ]
          ],
          "line": {
           "color": "MediumPurple",
           "width": 1
          },
          "size": 12,
          "symbol": "diamond"
         },
         "mode": "markers",
         "name": "b5cib48g9t",
         "showlegend": true,
         "type": "scatter",
         "x": [
          16.586680323746126
         ],
         "y": [
          -6.526308038333333
         ]
        },
        {
         "legendgroup": "b5cib48g9t",
         "marker": {
          "color": -0.04789482833333292,
          "colorbar": {
           "thickness": 10
          },
          "colorscale": [
           [
            0,
            "#440154"
           ],
           [
            0.1111111111111111,
            "#482878"
           ],
           [
            0.2222222222222222,
            "#3e4989"
           ],
           [
            0.3333333333333333,
            "#31688e"
           ],
           [
            0.4444444444444444,
            "#26828e"
           ],
           [
            0.5555555555555556,
            "#1f9e89"
           ],
           [
            0.6666666666666666,
            "#35b779"
           ],
           [
            0.7777777777777778,
            "#6ece58"
           ],
           [
            0.8888888888888888,
            "#b5de2b"
           ],
           [
            1,
            "#fde725"
           ]
          ],
          "line": {
           "color": "MediumPurple",
           "width": 1
          },
          "size": 12,
          "symbol": "circle"
         },
         "mode": "markers",
         "name": "b5cib48g9t",
         "showlegend": false,
         "type": "scatter",
         "x": [
          18.601572696085736
         ],
         "y": [
          -6.47841321
         ]
        },
        {
         "legendgroup": "b4nrnqvl8h",
         "marker": {
          "color": 0.0001973737499998407,
          "colorbar": {
           "thickness": 10
          },
          "colorscale": [
           [
            0,
            "#440154"
           ],
           [
            0.1111111111111111,
            "#482878"
           ],
           [
            0.2222222222222222,
            "#3e4989"
           ],
           [
            0.3333333333333333,
            "#31688e"
           ],
           [
            0.4444444444444444,
            "#26828e"
           ],
           [
            0.5555555555555556,
            "#1f9e89"
           ],
           [
            0.6666666666666666,
            "#35b779"
           ],
           [
            0.7777777777777778,
            "#6ece58"
           ],
           [
            0.8888888888888888,
            "#b5de2b"
           ],
           [
            1,
            "#fde725"
           ]
          ],
          "line": {
           "color": "MediumPurple",
           "width": 1
          },
          "size": 12,
          "symbol": "diamond"
         },
         "mode": "markers",
         "name": "b4nrnqvl8h",
         "showlegend": true,
         "type": "scatter",
         "x": [
          14.11999255535732
         ],
         "y": [
          -5.831600935
         ]
        },
        {
         "legendgroup": "b4nrnqvl8h",
         "marker": {
          "color": 0.0001973737499998407,
          "colorbar": {
           "thickness": 10
          },
          "colorscale": [
           [
            0,
            "#440154"
           ],
           [
            0.1111111111111111,
            "#482878"
           ],
           [
            0.2222222222222222,
            "#3e4989"
           ],
           [
            0.3333333333333333,
            "#31688e"
           ],
           [
            0.4444444444444444,
            "#26828e"
           ],
           [
            0.5555555555555556,
            "#1f9e89"
           ],
           [
            0.6666666666666666,
            "#35b779"
           ],
           [
            0.7777777777777778,
            "#6ece58"
           ],
           [
            0.8888888888888888,
            "#b5de2b"
           ],
           [
            1,
            "#fde725"
           ]
          ],
          "line": {
           "color": "MediumPurple",
           "width": 1
          },
          "size": 12,
          "symbol": "circle"
         },
         "mode": "markers",
         "name": "b4nrnqvl8h",
         "showlegend": false,
         "type": "scatter",
         "x": [
          14.33347585813917
         ],
         "y": [
          -5.83179830875
         ]
        },
        {
         "legendgroup": "mpbd6sz1z5",
         "marker": {
          "color": -0.018582554722222255,
          "colorbar": {
           "thickness": 10
          },
          "colorscale": [
           [
            0,
            "#440154"
           ],
           [
            0.1111111111111111,
            "#482878"
           ],
           [
            0.2222222222222222,
            "#3e4989"
           ],
           [
            0.3333333333333333,
            "#31688e"
           ],
           [
            0.4444444444444444,
            "#26828e"
           ],
           [
            0.5555555555555556,
            "#1f9e89"
           ],
           [
            0.6666666666666666,
            "#35b779"
           ],
           [
            0.7777777777777778,
            "#6ece58"
           ],
           [
            0.8888888888888888,
            "#b5de2b"
           ],
           [
            1,
            "#fde725"
           ]
          ],
          "line": {
           "color": "MediumPurple",
           "width": 1
          },
          "size": 12,
          "symbol": "diamond"
         },
         "mode": "markers",
         "name": "mpbd6sz1z5",
         "showlegend": true,
         "type": "scatter",
         "x": [
          11.497320149117474
         ],
         "y": [
          -6.280755755833334
         ]
        },
        {
         "legendgroup": "mpbd6sz1z5",
         "marker": {
          "color": -0.018582554722222255,
          "colorbar": {
           "thickness": 10
          },
          "colorscale": [
           [
            0,
            "#440154"
           ],
           [
            0.1111111111111111,
            "#482878"
           ],
           [
            0.2222222222222222,
            "#3e4989"
           ],
           [
            0.3333333333333333,
            "#31688e"
           ],
           [
            0.4444444444444444,
            "#26828e"
           ],
           [
            0.5555555555555556,
            "#1f9e89"
           ],
           [
            0.6666666666666666,
            "#35b779"
           ],
           [
            0.7777777777777778,
            "#6ece58"
           ],
           [
            0.8888888888888888,
            "#b5de2b"
           ],
           [
            1,
            "#fde725"
           ]
          ],
          "line": {
           "color": "MediumPurple",
           "width": 1
          },
          "size": 12,
          "symbol": "circle"
         },
         "mode": "markers",
         "name": "mpbd6sz1z5",
         "showlegend": false,
         "type": "scatter",
         "x": [
          10.762018520161932
         ],
         "y": [
          -6.2621732011111115
         ]
        },
        {
         "legendgroup": "9wzqvtmw6a",
         "marker": {
          "color": -9.714833333340778e-05,
          "colorbar": {
           "thickness": 10
          },
          "colorscale": [
           [
            0,
            "#440154"
           ],
           [
            0.1111111111111111,
            "#482878"
           ],
           [
            0.2222222222222222,
            "#3e4989"
           ],
           [
            0.3333333333333333,
            "#31688e"
           ],
           [
            0.4444444444444444,
            "#26828e"
           ],
           [
            0.5555555555555556,
            "#1f9e89"
           ],
           [
            0.6666666666666666,
            "#35b779"
           ],
           [
            0.7777777777777778,
            "#6ece58"
           ],
           [
            0.8888888888888888,
            "#b5de2b"
           ],
           [
            1,
            "#fde725"
           ]
          ],
          "line": {
           "color": "MediumPurple",
           "width": 1
          },
          "size": 12,
          "symbol": "diamond"
         },
         "mode": "markers",
         "name": "9wzqvtmw6a",
         "showlegend": true,
         "type": "scatter",
         "x": [
          21.138097173072893
         ],
         "y": [
          -6.713121547083333
         ]
        },
        {
         "legendgroup": "9wzqvtmw6a",
         "marker": {
          "color": -9.714833333340778e-05,
          "colorbar": {
           "thickness": 10
          },
          "colorscale": [
           [
            0,
            "#440154"
           ],
           [
            0.1111111111111111,
            "#482878"
           ],
           [
            0.2222222222222222,
            "#3e4989"
           ],
           [
            0.3333333333333333,
            "#31688e"
           ],
           [
            0.4444444444444444,
            "#26828e"
           ],
           [
            0.5555555555555556,
            "#1f9e89"
           ],
           [
            0.6666666666666666,
            "#35b779"
           ],
           [
            0.7777777777777778,
            "#6ece58"
           ],
           [
            0.8888888888888888,
            "#b5de2b"
           ],
           [
            1,
            "#fde725"
           ]
          ],
          "line": {
           "color": "MediumPurple",
           "width": 1
          },
          "size": 12,
          "symbol": "circle"
         },
         "mode": "markers",
         "name": "9wzqvtmw6a",
         "showlegend": false,
         "type": "scatter",
         "x": [
          21.14295847927217
         ],
         "y": [
          -6.71302439875
         ]
        },
        {
         "legendgroup": "b49kx4c19q",
         "marker": {
          "color": -0.0007980658333330837,
          "colorbar": {
           "thickness": 10
          },
          "colorscale": [
           [
            0,
            "#440154"
           ],
           [
            0.1111111111111111,
            "#482878"
           ],
           [
            0.2222222222222222,
            "#3e4989"
           ],
           [
            0.3333333333333333,
            "#31688e"
           ],
           [
            0.4444444444444444,
            "#26828e"
           ],
           [
            0.5555555555555556,
            "#1f9e89"
           ],
           [
            0.6666666666666666,
            "#35b779"
           ],
           [
            0.7777777777777778,
            "#6ece58"
           ],
           [
            0.8888888888888888,
            "#b5de2b"
           ],
           [
            1,
            "#fde725"
           ]
          ],
          "line": {
           "color": "MediumPurple",
           "width": 1
          },
          "size": 12,
          "symbol": "diamond"
         },
         "mode": "markers",
         "name": "b49kx4c19q",
         "showlegend": true,
         "type": "scatter",
         "x": [
          10.844300193769683
         ],
         "y": [
          -6.961768555833333
         ]
        },
        {
         "legendgroup": "b49kx4c19q",
         "marker": {
          "color": -0.0007980658333330837,
          "colorbar": {
           "thickness": 10
          },
          "colorscale": [
           [
            0,
            "#440154"
           ],
           [
            0.1111111111111111,
            "#482878"
           ],
           [
            0.2222222222222222,
            "#3e4989"
           ],
           [
            0.3333333333333333,
            "#31688e"
           ],
           [
            0.4444444444444444,
            "#26828e"
           ],
           [
            0.5555555555555556,
            "#1f9e89"
           ],
           [
            0.6666666666666666,
            "#35b779"
           ],
           [
            0.7777777777777778,
            "#6ece58"
           ],
           [
            0.8888888888888888,
            "#b5de2b"
           ],
           [
            1,
            "#fde725"
           ]
          ],
          "line": {
           "color": "MediumPurple",
           "width": 1
          },
          "size": 12,
          "symbol": "circle"
         },
         "mode": "markers",
         "name": "b49kx4c19q",
         "showlegend": false,
         "type": "scatter",
         "x": [
          10.882806785835847
         ],
         "y": [
          -6.96097049
         ]
        },
        {
         "legendgroup": "6dxsvlbymt",
         "marker": {
          "color": -0.033470962500000034,
          "colorbar": {
           "thickness": 10
          },
          "colorscale": [
           [
            0,
            "#440154"
           ],
           [
            0.1111111111111111,
            "#482878"
           ],
           [
            0.2222222222222222,
            "#3e4989"
           ],
           [
            0.3333333333333333,
            "#31688e"
           ],
           [
            0.4444444444444444,
            "#26828e"
           ],
           [
            0.5555555555555556,
            "#1f9e89"
           ],
           [
            0.6666666666666666,
            "#35b779"
           ],
           [
            0.7777777777777778,
            "#6ece58"
           ],
           [
            0.8888888888888888,
            "#b5de2b"
           ],
           [
            1,
            "#fde725"
           ]
          ],
          "line": {
           "color": "MediumPurple",
           "width": 1
          },
          "size": 12,
          "symbol": "diamond"
         },
         "mode": "markers",
         "name": "6dxsvlbymt",
         "showlegend": true,
         "type": "scatter",
         "x": [
          16.514162048333393
         ],
         "y": [
          -6.127629045833333
         ]
        },
        {
         "legendgroup": "6dxsvlbymt",
         "marker": {
          "color": -0.033470962500000034,
          "colorbar": {
           "thickness": 10
          },
          "colorscale": [
           [
            0,
            "#440154"
           ],
           [
            0.1111111111111111,
            "#482878"
           ],
           [
            0.2222222222222222,
            "#3e4989"
           ],
           [
            0.3333333333333333,
            "#31688e"
           ],
           [
            0.4444444444444444,
            "#26828e"
           ],
           [
            0.5555555555555556,
            "#1f9e89"
           ],
           [
            0.6666666666666666,
            "#35b779"
           ],
           [
            0.7777777777777778,
            "#6ece58"
           ],
           [
            0.8888888888888888,
            "#b5de2b"
           ],
           [
            1,
            "#fde725"
           ]
          ],
          "line": {
           "color": "MediumPurple",
           "width": 1
          },
          "size": 12,
          "symbol": "circle"
         },
         "mode": "markers",
         "name": "6dxsvlbymt",
         "showlegend": false,
         "type": "scatter",
         "x": [
          12.587915072298616
         ],
         "y": [
          -6.094158083333333
         ]
        },
        {
         "legendgroup": "7f8pm5mhnu",
         "marker": {
          "color": -0.00010180499999989934,
          "colorbar": {
           "thickness": 10
          },
          "colorscale": [
           [
            0,
            "#440154"
           ],
           [
            0.1111111111111111,
            "#482878"
           ],
           [
            0.2222222222222222,
            "#3e4989"
           ],
           [
            0.3333333333333333,
            "#31688e"
           ],
           [
            0.4444444444444444,
            "#26828e"
           ],
           [
            0.5555555555555556,
            "#1f9e89"
           ],
           [
            0.6666666666666666,
            "#35b779"
           ],
           [
            0.7777777777777778,
            "#6ece58"
           ],
           [
            0.8888888888888888,
            "#b5de2b"
           ],
           [
            1,
            "#fde725"
           ]
          ],
          "line": {
           "color": "MediumPurple",
           "width": 1
          },
          "size": 12,
          "symbol": "diamond"
         },
         "mode": "markers",
         "name": "7f8pm5mhnu",
         "showlegend": true,
         "type": "scatter",
         "x": [
          13.756302301948976
         ],
         "y": [
          -6.271106365
         ]
        },
        {
         "legendgroup": "7f8pm5mhnu",
         "marker": {
          "color": -0.00010180499999989934,
          "colorbar": {
           "thickness": 10
          },
          "colorscale": [
           [
            0,
            "#440154"
           ],
           [
            0.1111111111111111,
            "#482878"
           ],
           [
            0.2222222222222222,
            "#3e4989"
           ],
           [
            0.3333333333333333,
            "#31688e"
           ],
           [
            0.4444444444444444,
            "#26828e"
           ],
           [
            0.5555555555555556,
            "#1f9e89"
           ],
           [
            0.6666666666666666,
            "#35b779"
           ],
           [
            0.7777777777777778,
            "#6ece58"
           ],
           [
            0.8888888888888888,
            "#b5de2b"
           ],
           [
            1,
            "#fde725"
           ]
          ],
          "line": {
           "color": "MediumPurple",
           "width": 1
          },
          "size": 12,
          "symbol": "circle"
         },
         "mode": "markers",
         "name": "7f8pm5mhnu",
         "showlegend": false,
         "type": "scatter",
         "x": [
          13.75806840174202
         ],
         "y": [
          -6.27100456
         ]
        },
        {
         "legendgroup": "vwbhvwmjmw",
         "marker": {
          "color": -0.05187412250000012,
          "colorbar": {
           "thickness": 10
          },
          "colorscale": [
           [
            0,
            "#440154"
           ],
           [
            0.1111111111111111,
            "#482878"
           ],
           [
            0.2222222222222222,
            "#3e4989"
           ],
           [
            0.3333333333333333,
            "#31688e"
           ],
           [
            0.4444444444444444,
            "#26828e"
           ],
           [
            0.5555555555555556,
            "#1f9e89"
           ],
           [
            0.6666666666666666,
            "#35b779"
           ],
           [
            0.7777777777777778,
            "#6ece58"
           ],
           [
            0.8888888888888888,
            "#b5de2b"
           ],
           [
            1,
            "#fde725"
           ]
          ],
          "line": {
           "color": "MediumPurple",
           "width": 1
          },
          "size": 12,
          "symbol": "diamond"
         },
         "mode": "markers",
         "name": "vwbhvwmjmw",
         "showlegend": true,
         "type": "scatter",
         "x": [
          21.183451571490888
         ],
         "y": [
          -6.223395707916667
         ]
        },
        {
         "legendgroup": "vwbhvwmjmw",
         "marker": {
          "color": -0.05187412250000012,
          "colorbar": {
           "thickness": 10
          },
          "colorscale": [
           [
            0,
            "#440154"
           ],
           [
            0.1111111111111111,
            "#482878"
           ],
           [
            0.2222222222222222,
            "#3e4989"
           ],
           [
            0.3333333333333333,
            "#31688e"
           ],
           [
            0.4444444444444444,
            "#26828e"
           ],
           [
            0.5555555555555556,
            "#1f9e89"
           ],
           [
            0.6666666666666666,
            "#35b779"
           ],
           [
            0.7777777777777778,
            "#6ece58"
           ],
           [
            0.8888888888888888,
            "#b5de2b"
           ],
           [
            1,
            "#fde725"
           ]
          ],
          "line": {
           "color": "MediumPurple",
           "width": 1
          },
          "size": 12,
          "symbol": "circle"
         },
         "mode": "markers",
         "name": "vwbhvwmjmw",
         "showlegend": false,
         "type": "scatter",
         "x": [
          22.3428310942342
         ],
         "y": [
          -6.1715215854166665
         ]
        },
        {
         "legendgroup": "bdbizg74vt",
         "marker": {
          "color": -0.37639330000000015,
          "colorbar": {
           "thickness": 10
          },
          "colorscale": [
           [
            0,
            "#440154"
           ],
           [
            0.1111111111111111,
            "#482878"
           ],
           [
            0.2222222222222222,
            "#3e4989"
           ],
           [
            0.3333333333333333,
            "#31688e"
           ],
           [
            0.4444444444444444,
            "#26828e"
           ],
           [
            0.5555555555555556,
            "#1f9e89"
           ],
           [
            0.6666666666666666,
            "#35b779"
           ],
           [
            0.7777777777777778,
            "#6ece58"
           ],
           [
            0.8888888888888888,
            "#b5de2b"
           ],
           [
            1,
            "#fde725"
           ]
          ],
          "line": {
           "color": "MediumPurple",
           "width": 1
          },
          "size": 12,
          "symbol": "diamond"
         },
         "mode": "markers",
         "name": "bdbizg74vt",
         "showlegend": true,
         "type": "scatter",
         "x": [
          18.873187435751984
         ],
         "y": [
          -6.421183248333333
         ]
        },
        {
         "legendgroup": "bdbizg74vt",
         "marker": {
          "color": -0.37639330000000015,
          "colorbar": {
           "thickness": 10
          },
          "colorscale": [
           [
            0,
            "#440154"
           ],
           [
            0.1111111111111111,
            "#482878"
           ],
           [
            0.2222222222222222,
            "#3e4989"
           ],
           [
            0.3333333333333333,
            "#31688e"
           ],
           [
            0.4444444444444444,
            "#26828e"
           ],
           [
            0.5555555555555556,
            "#1f9e89"
           ],
           [
            0.6666666666666666,
            "#35b779"
           ],
           [
            0.7777777777777778,
            "#6ece58"
           ],
           [
            0.8888888888888888,
            "#b5de2b"
           ],
           [
            1,
            "#fde725"
           ]
          ],
          "line": {
           "color": "MediumPurple",
           "width": 1
          },
          "size": 12,
          "symbol": "circle"
         },
         "mode": "markers",
         "name": "bdbizg74vt",
         "showlegend": false,
         "type": "scatter",
         "x": [
          13.262941521004684
         ],
         "y": [
          -6.0447899483333325
         ]
        },
        {
         "legendgroup": "9pzh8yxixe",
         "marker": {
          "color": -0.00022957812500035146,
          "colorbar": {
           "thickness": 10
          },
          "colorscale": [
           [
            0,
            "#440154"
           ],
           [
            0.1111111111111111,
            "#482878"
           ],
           [
            0.2222222222222222,
            "#3e4989"
           ],
           [
            0.3333333333333333,
            "#31688e"
           ],
           [
            0.4444444444444444,
            "#26828e"
           ],
           [
            0.5555555555555556,
            "#1f9e89"
           ],
           [
            0.6666666666666666,
            "#35b779"
           ],
           [
            0.7777777777777778,
            "#6ece58"
           ],
           [
            0.8888888888888888,
            "#b5de2b"
           ],
           [
            1,
            "#fde725"
           ]
          ],
          "line": {
           "color": "MediumPurple",
           "width": 1
          },
          "size": 12,
          "symbol": "diamond"
         },
         "mode": "markers",
         "name": "9pzh8yxixe",
         "showlegend": true,
         "type": "scatter",
         "x": [
          20.329032456061874
         ],
         "y": [
          -6.13143171125
         ]
        },
        {
         "legendgroup": "9pzh8yxixe",
         "marker": {
          "color": -0.00022957812500035146,
          "colorbar": {
           "thickness": 10
          },
          "colorscale": [
           [
            0,
            "#440154"
           ],
           [
            0.1111111111111111,
            "#482878"
           ],
           [
            0.2222222222222222,
            "#3e4989"
           ],
           [
            0.3333333333333333,
            "#31688e"
           ],
           [
            0.4444444444444444,
            "#26828e"
           ],
           [
            0.5555555555555556,
            "#1f9e89"
           ],
           [
            0.6666666666666666,
            "#35b779"
           ],
           [
            0.7777777777777778,
            "#6ece58"
           ],
           [
            0.8888888888888888,
            "#b5de2b"
           ],
           [
            1,
            "#fde725"
           ]
          ],
          "line": {
           "color": "MediumPurple",
           "width": 1
          },
          "size": 12,
          "symbol": "circle"
         },
         "mode": "markers",
         "name": "9pzh8yxixe",
         "showlegend": false,
         "type": "scatter",
         "x": [
          20.44954389937546
         ],
         "y": [
          -6.131202133125
         ]
        },
        {
         "legendgroup": "95nfmd6fce",
         "marker": {
          "color": 0.0004463381249992793,
          "colorbar": {
           "thickness": 10
          },
          "colorscale": [
           [
            0,
            "#440154"
           ],
           [
            0.1111111111111111,
            "#482878"
           ],
           [
            0.2222222222222222,
            "#3e4989"
           ],
           [
            0.3333333333333333,
            "#31688e"
           ],
           [
            0.4444444444444444,
            "#26828e"
           ],
           [
            0.5555555555555556,
            "#1f9e89"
           ],
           [
            0.6666666666666666,
            "#35b779"
           ],
           [
            0.7777777777777778,
            "#6ece58"
           ],
           [
            0.8888888888888888,
            "#b5de2b"
           ],
           [
            1,
            "#fde725"
           ]
          ],
          "line": {
           "color": "MediumPurple",
           "width": 1
          },
          "size": 12,
          "symbol": "diamond"
         },
         "mode": "markers",
         "name": "95nfmd6fce",
         "showlegend": true,
         "type": "scatter",
         "x": [
          24.314525034994244
         ],
         "y": [
          -6.133204605
         ]
        },
        {
         "legendgroup": "95nfmd6fce",
         "marker": {
          "color": 0.0004463381249992793,
          "colorbar": {
           "thickness": 10
          },
          "colorscale": [
           [
            0,
            "#440154"
           ],
           [
            0.1111111111111111,
            "#482878"
           ],
           [
            0.2222222222222222,
            "#3e4989"
           ],
           [
            0.3333333333333333,
            "#31688e"
           ],
           [
            0.4444444444444444,
            "#26828e"
           ],
           [
            0.5555555555555556,
            "#1f9e89"
           ],
           [
            0.6666666666666666,
            "#35b779"
           ],
           [
            0.7777777777777778,
            "#6ece58"
           ],
           [
            0.8888888888888888,
            "#b5de2b"
           ],
           [
            1,
            "#fde725"
           ]
          ],
          "line": {
           "color": "MediumPurple",
           "width": 1
          },
          "size": 12,
          "symbol": "circle"
         },
         "mode": "markers",
         "name": "95nfmd6fce",
         "showlegend": false,
         "type": "scatter",
         "x": [
          24.36333574190504
         ],
         "y": [
          -6.133650943125
         ]
        },
        {
         "legendgroup": "6s648e8s6p",
         "marker": {
          "color": -8.032291666459912e-06,
          "colorbar": {
           "thickness": 10
          },
          "colorscale": [
           [
            0,
            "#440154"
           ],
           [
            0.1111111111111111,
            "#482878"
           ],
           [
            0.2222222222222222,
            "#3e4989"
           ],
           [
            0.3333333333333333,
            "#31688e"
           ],
           [
            0.4444444444444444,
            "#26828e"
           ],
           [
            0.5555555555555556,
            "#1f9e89"
           ],
           [
            0.6666666666666666,
            "#35b779"
           ],
           [
            0.7777777777777778,
            "#6ece58"
           ],
           [
            0.8888888888888888,
            "#b5de2b"
           ],
           [
            1,
            "#fde725"
           ]
          ],
          "line": {
           "color": "MediumPurple",
           "width": 1
          },
          "size": 12,
          "symbol": "diamond"
         },
         "mode": "markers",
         "name": "6s648e8s6p",
         "showlegend": true,
         "type": "scatter",
         "x": [
          15.099724148465944
         ],
         "y": [
          -6.419084197708333
         ]
        },
        {
         "legendgroup": "6s648e8s6p",
         "marker": {
          "color": -8.032291666459912e-06,
          "colorbar": {
           "thickness": 10
          },
          "colorscale": [
           [
            0,
            "#440154"
           ],
           [
            0.1111111111111111,
            "#482878"
           ],
           [
            0.2222222222222222,
            "#3e4989"
           ],
           [
            0.3333333333333333,
            "#31688e"
           ],
           [
            0.4444444444444444,
            "#26828e"
           ],
           [
            0.5555555555555556,
            "#1f9e89"
           ],
           [
            0.6666666666666666,
            "#35b779"
           ],
           [
            0.7777777777777778,
            "#6ece58"
           ],
           [
            0.8888888888888888,
            "#b5de2b"
           ],
           [
            1,
            "#fde725"
           ]
          ],
          "line": {
           "color": "MediumPurple",
           "width": 1
          },
          "size": 12,
          "symbol": "circle"
         },
         "mode": "markers",
         "name": "6s648e8s6p",
         "showlegend": false,
         "type": "scatter",
         "x": [
          15.147912952242757
         ],
         "y": [
          -6.419076165416667
         ]
        },
        {
         "legendgroup": "8pmqmq9r8f",
         "marker": {
          "color": 0.00809588499999947,
          "colorbar": {
           "thickness": 10
          },
          "colorscale": [
           [
            0,
            "#440154"
           ],
           [
            0.1111111111111111,
            "#482878"
           ],
           [
            0.2222222222222222,
            "#3e4989"
           ],
           [
            0.3333333333333333,
            "#31688e"
           ],
           [
            0.4444444444444444,
            "#26828e"
           ],
           [
            0.5555555555555556,
            "#1f9e89"
           ],
           [
            0.6666666666666666,
            "#35b779"
           ],
           [
            0.7777777777777778,
            "#6ece58"
           ],
           [
            0.8888888888888888,
            "#b5de2b"
           ],
           [
            1,
            "#fde725"
           ]
          ],
          "line": {
           "color": "MediumPurple",
           "width": 1
          },
          "size": 12,
          "symbol": "diamond"
         },
         "mode": "markers",
         "name": "8pmqmq9r8f",
         "showlegend": true,
         "type": "scatter",
         "x": [
          20.826025718329333
         ],
         "y": [
          -6.111398525
         ]
        },
        {
         "legendgroup": "8pmqmq9r8f",
         "marker": {
          "color": 0.00809588499999947,
          "colorbar": {
           "thickness": 10
          },
          "colorscale": [
           [
            0,
            "#440154"
           ],
           [
            0.1111111111111111,
            "#482878"
           ],
           [
            0.2222222222222222,
            "#3e4989"
           ],
           [
            0.3333333333333333,
            "#31688e"
           ],
           [
            0.4444444444444444,
            "#26828e"
           ],
           [
            0.5555555555555556,
            "#1f9e89"
           ],
           [
            0.6666666666666666,
            "#35b779"
           ],
           [
            0.7777777777777778,
            "#6ece58"
           ],
           [
            0.8888888888888888,
            "#b5de2b"
           ],
           [
            1,
            "#fde725"
           ]
          ],
          "line": {
           "color": "MediumPurple",
           "width": 1
          },
          "size": 12,
          "symbol": "circle"
         },
         "mode": "markers",
         "name": "8pmqmq9r8f",
         "showlegend": false,
         "type": "scatter",
         "x": [
          20.200453922643263
         ],
         "y": [
          -6.11949441
         ]
        },
        {
         "legendgroup": "nd919pnr6q",
         "marker": {
          "color": -0.05827620125000088,
          "colorbar": {
           "thickness": 10
          },
          "colorscale": [
           [
            0,
            "#440154"
           ],
           [
            0.1111111111111111,
            "#482878"
           ],
           [
            0.2222222222222222,
            "#3e4989"
           ],
           [
            0.3333333333333333,
            "#31688e"
           ],
           [
            0.4444444444444444,
            "#26828e"
           ],
           [
            0.5555555555555556,
            "#1f9e89"
           ],
           [
            0.6666666666666666,
            "#35b779"
           ],
           [
            0.7777777777777778,
            "#6ece58"
           ],
           [
            0.8888888888888888,
            "#b5de2b"
           ],
           [
            1,
            "#fde725"
           ]
          ],
          "line": {
           "color": "MediumPurple",
           "width": 1
          },
          "size": 12,
          "symbol": "diamond"
         },
         "mode": "markers",
         "name": "nd919pnr6q",
         "showlegend": true,
         "type": "scatter",
         "x": [
          13.26283394876871
         ],
         "y": [
          -6.807534819583334
         ]
        },
        {
         "legendgroup": "nd919pnr6q",
         "marker": {
          "color": -0.05827620125000088,
          "colorbar": {
           "thickness": 10
          },
          "colorscale": [
           [
            0,
            "#440154"
           ],
           [
            0.1111111111111111,
            "#482878"
           ],
           [
            0.2222222222222222,
            "#3e4989"
           ],
           [
            0.3333333333333333,
            "#31688e"
           ],
           [
            0.4444444444444444,
            "#26828e"
           ],
           [
            0.5555555555555556,
            "#1f9e89"
           ],
           [
            0.6666666666666666,
            "#35b779"
           ],
           [
            0.7777777777777778,
            "#6ece58"
           ],
           [
            0.8888888888888888,
            "#b5de2b"
           ],
           [
            1,
            "#fde725"
           ]
          ],
          "line": {
           "color": "MediumPurple",
           "width": 1
          },
          "size": 12,
          "symbol": "circle"
         },
         "mode": "markers",
         "name": "nd919pnr6q",
         "showlegend": false,
         "type": "scatter",
         "x": [
          12.499463381255445
         ],
         "y": [
          -6.749258618333333
         ]
        },
        {
         "legendgroup": "bgcpc2vabf",
         "marker": {
          "color": -0.00014941562499970473,
          "colorbar": {
           "thickness": 10
          },
          "colorscale": [
           [
            0,
            "#440154"
           ],
           [
            0.1111111111111111,
            "#482878"
           ],
           [
            0.2222222222222222,
            "#3e4989"
           ],
           [
            0.3333333333333333,
            "#31688e"
           ],
           [
            0.4444444444444444,
            "#26828e"
           ],
           [
            0.5555555555555556,
            "#1f9e89"
           ],
           [
            0.6666666666666666,
            "#35b779"
           ],
           [
            0.7777777777777778,
            "#6ece58"
           ],
           [
            0.8888888888888888,
            "#b5de2b"
           ],
           [
            1,
            "#fde725"
           ]
          ],
          "line": {
           "color": "MediumPurple",
           "width": 1
          },
          "size": 12,
          "symbol": "diamond"
         },
         "mode": "markers",
         "name": "bgcpc2vabf",
         "showlegend": true,
         "type": "scatter",
         "x": [
          11.655157035681606
         ],
         "y": [
          -6.380464551875
         ]
        },
        {
         "legendgroup": "bgcpc2vabf",
         "marker": {
          "color": -0.00014941562499970473,
          "colorbar": {
           "thickness": 10
          },
          "colorscale": [
           [
            0,
            "#440154"
           ],
           [
            0.1111111111111111,
            "#482878"
           ],
           [
            0.2222222222222222,
            "#3e4989"
           ],
           [
            0.3333333333333333,
            "#31688e"
           ],
           [
            0.4444444444444444,
            "#26828e"
           ],
           [
            0.5555555555555556,
            "#1f9e89"
           ],
           [
            0.6666666666666666,
            "#35b779"
           ],
           [
            0.7777777777777778,
            "#6ece58"
           ],
           [
            0.8888888888888888,
            "#b5de2b"
           ],
           [
            1,
            "#fde725"
           ]
          ],
          "line": {
           "color": "MediumPurple",
           "width": 1
          },
          "size": 12,
          "symbol": "circle"
         },
         "mode": "markers",
         "name": "bgcpc2vabf",
         "showlegend": false,
         "type": "scatter",
         "x": [
          11.652437023048714
         ],
         "y": [
          -6.38031513625
         ]
        },
        {
         "legendgroup": "z39g648rnl",
         "marker": {
          "color": -0.00022473291666713635,
          "colorbar": {
           "thickness": 10
          },
          "colorscale": [
           [
            0,
            "#440154"
           ],
           [
            0.1111111111111111,
            "#482878"
           ],
           [
            0.2222222222222222,
            "#3e4989"
           ],
           [
            0.3333333333333333,
            "#31688e"
           ],
           [
            0.4444444444444444,
            "#26828e"
           ],
           [
            0.5555555555555556,
            "#1f9e89"
           ],
           [
            0.6666666666666666,
            "#35b779"
           ],
           [
            0.7777777777777778,
            "#6ece58"
           ],
           [
            0.8888888888888888,
            "#b5de2b"
           ],
           [
            1,
            "#fde725"
           ]
          ],
          "line": {
           "color": "MediumPurple",
           "width": 1
          },
          "size": 12,
          "symbol": "diamond"
         },
         "mode": "markers",
         "name": "z39g648rnl",
         "showlegend": true,
         "type": "scatter",
         "x": [
          28.029756323070334
         ],
         "y": [
          -6.28196167
         ]
        },
        {
         "legendgroup": "z39g648rnl",
         "marker": {
          "color": -0.00022473291666713635,
          "colorbar": {
           "thickness": 10
          },
          "colorscale": [
           [
            0,
            "#440154"
           ],
           [
            0.1111111111111111,
            "#482878"
           ],
           [
            0.2222222222222222,
            "#3e4989"
           ],
           [
            0.3333333333333333,
            "#31688e"
           ],
           [
            0.4444444444444444,
            "#26828e"
           ],
           [
            0.5555555555555556,
            "#1f9e89"
           ],
           [
            0.6666666666666666,
            "#35b779"
           ],
           [
            0.7777777777777778,
            "#6ece58"
           ],
           [
            0.8888888888888888,
            "#b5de2b"
           ],
           [
            1,
            "#fde725"
           ]
          ],
          "line": {
           "color": "MediumPurple",
           "width": 1
          },
          "size": 12,
          "symbol": "circle"
         },
         "mode": "markers",
         "name": "z39g648rnl",
         "showlegend": false,
         "type": "scatter",
         "x": [
          28.03092500984488
         ],
         "y": [
          -6.281736937083333
         ]
        },
        {
         "legendgroup": "cr6rcena9l",
         "marker": {
          "color": -0.0028669666666676363,
          "colorbar": {
           "thickness": 10
          },
          "colorscale": [
           [
            0,
            "#440154"
           ],
           [
            0.1111111111111111,
            "#482878"
           ],
           [
            0.2222222222222222,
            "#3e4989"
           ],
           [
            0.3333333333333333,
            "#31688e"
           ],
           [
            0.4444444444444444,
            "#26828e"
           ],
           [
            0.5555555555555556,
            "#1f9e89"
           ],
           [
            0.6666666666666666,
            "#35b779"
           ],
           [
            0.7777777777777778,
            "#6ece58"
           ],
           [
            0.8888888888888888,
            "#b5de2b"
           ],
           [
            1,
            "#fde725"
           ]
          ],
          "line": {
           "color": "MediumPurple",
           "width": 1
          },
          "size": 12,
          "symbol": "diamond"
         },
         "mode": "markers",
         "name": "cr6rcena9l",
         "showlegend": true,
         "type": "scatter",
         "x": [
          14.400834399484465
         ],
         "y": [
          -6.249802933333334
         ]
        },
        {
         "legendgroup": "cr6rcena9l",
         "marker": {
          "color": -0.0028669666666676363,
          "colorbar": {
           "thickness": 10
          },
          "colorscale": [
           [
            0,
            "#440154"
           ],
           [
            0.1111111111111111,
            "#482878"
           ],
           [
            0.2222222222222222,
            "#3e4989"
           ],
           [
            0.3333333333333333,
            "#31688e"
           ],
           [
            0.4444444444444444,
            "#26828e"
           ],
           [
            0.5555555555555556,
            "#1f9e89"
           ],
           [
            0.6666666666666666,
            "#35b779"
           ],
           [
            0.7777777777777778,
            "#6ece58"
           ],
           [
            0.8888888888888888,
            "#b5de2b"
           ],
           [
            1,
            "#fde725"
           ]
          ],
          "line": {
           "color": "MediumPurple",
           "width": 1
          },
          "size": 12,
          "symbol": "circle"
         },
         "mode": "markers",
         "name": "cr6rcena9l",
         "showlegend": false,
         "type": "scatter",
         "x": [
          14.132743842752424
         ],
         "y": [
          -6.246935966666666
         ]
        },
        {
         "legendgroup": "9yz2mt8hbh",
         "marker": {
          "color": -0.00011425416666721588,
          "colorbar": {
           "thickness": 10
          },
          "colorscale": [
           [
            0,
            "#440154"
           ],
           [
            0.1111111111111111,
            "#482878"
           ],
           [
            0.2222222222222222,
            "#3e4989"
           ],
           [
            0.3333333333333333,
            "#31688e"
           ],
           [
            0.4444444444444444,
            "#26828e"
           ],
           [
            0.5555555555555556,
            "#1f9e89"
           ],
           [
            0.6666666666666666,
            "#35b779"
           ],
           [
            0.7777777777777778,
            "#6ece58"
           ],
           [
            0.8888888888888888,
            "#b5de2b"
           ],
           [
            1,
            "#fde725"
           ]
          ],
          "line": {
           "color": "MediumPurple",
           "width": 1
          },
          "size": 12,
          "symbol": "diamond"
         },
         "mode": "markers",
         "name": "9yz2mt8hbh",
         "showlegend": true,
         "type": "scatter",
         "x": [
          10.95170787125321
         ],
         "y": [
          -7.04742625
         ]
        },
        {
         "legendgroup": "9yz2mt8hbh",
         "marker": {
          "color": -0.00011425416666721588,
          "colorbar": {
           "thickness": 10
          },
          "colorscale": [
           [
            0,
            "#440154"
           ],
           [
            0.1111111111111111,
            "#482878"
           ],
           [
            0.2222222222222222,
            "#3e4989"
           ],
           [
            0.3333333333333333,
            "#31688e"
           ],
           [
            0.4444444444444444,
            "#26828e"
           ],
           [
            0.5555555555555556,
            "#1f9e89"
           ],
           [
            0.6666666666666666,
            "#35b779"
           ],
           [
            0.7777777777777778,
            "#6ece58"
           ],
           [
            0.8888888888888888,
            "#b5de2b"
           ],
           [
            1,
            "#fde725"
           ]
          ],
          "line": {
           "color": "MediumPurple",
           "width": 1
          },
          "size": 12,
          "symbol": "circle"
         },
         "mode": "markers",
         "name": "9yz2mt8hbh",
         "showlegend": false,
         "type": "scatter",
         "x": [
          10.94958677969624
         ],
         "y": [
          -7.047311995833333
         ]
        },
        {
         "legendgroup": "9e8jmu7hmo",
         "marker": {
          "color": -0.0013757149999999996,
          "colorbar": {
           "thickness": 10
          },
          "colorscale": [
           [
            0,
            "#440154"
           ],
           [
            0.1111111111111111,
            "#482878"
           ],
           [
            0.2222222222222222,
            "#3e4989"
           ],
           [
            0.3333333333333333,
            "#31688e"
           ],
           [
            0.4444444444444444,
            "#26828e"
           ],
           [
            0.5555555555555556,
            "#1f9e89"
           ],
           [
            0.6666666666666666,
            "#35b779"
           ],
           [
            0.7777777777777778,
            "#6ece58"
           ],
           [
            0.8888888888888888,
            "#b5de2b"
           ],
           [
            1,
            "#fde725"
           ]
          ],
          "line": {
           "color": "MediumPurple",
           "width": 1
          },
          "size": 12,
          "symbol": "diamond"
         },
         "mode": "markers",
         "name": "9e8jmu7hmo",
         "showlegend": true,
         "type": "scatter",
         "x": [
          10.862839723389687
         ],
         "y": [
          -6.09827971
         ]
        },
        {
         "legendgroup": "9e8jmu7hmo",
         "marker": {
          "color": -0.0013757149999999996,
          "colorbar": {
           "thickness": 10
          },
          "colorscale": [
           [
            0,
            "#440154"
           ],
           [
            0.1111111111111111,
            "#482878"
           ],
           [
            0.2222222222222222,
            "#3e4989"
           ],
           [
            0.3333333333333333,
            "#31688e"
           ],
           [
            0.4444444444444444,
            "#26828e"
           ],
           [
            0.5555555555555556,
            "#1f9e89"
           ],
           [
            0.6666666666666666,
            "#35b779"
           ],
           [
            0.7777777777777778,
            "#6ece58"
           ],
           [
            0.8888888888888888,
            "#b5de2b"
           ],
           [
            1,
            "#fde725"
           ]
          ],
          "line": {
           "color": "MediumPurple",
           "width": 1
          },
          "size": 12,
          "symbol": "circle"
         },
         "mode": "markers",
         "name": "9e8jmu7hmo",
         "showlegend": false,
         "type": "scatter",
         "x": [
          10.933316724801948
         ],
         "y": [
          -6.096903995
         ]
        },
        {
         "legendgroup": "cgx3mkzhmd",
         "marker": {
          "color": -2.631749999970623e-05,
          "colorbar": {
           "thickness": 10
          },
          "colorscale": [
           [
            0,
            "#440154"
           ],
           [
            0.1111111111111111,
            "#482878"
           ],
           [
            0.2222222222222222,
            "#3e4989"
           ],
           [
            0.3333333333333333,
            "#31688e"
           ],
           [
            0.4444444444444444,
            "#26828e"
           ],
           [
            0.5555555555555556,
            "#1f9e89"
           ],
           [
            0.6666666666666666,
            "#35b779"
           ],
           [
            0.7777777777777778,
            "#6ece58"
           ],
           [
            0.8888888888888888,
            "#b5de2b"
           ],
           [
            1,
            "#fde725"
           ]
          ],
          "line": {
           "color": "MediumPurple",
           "width": 1
          },
          "size": 12,
          "symbol": "diamond"
         },
         "mode": "markers",
         "name": "cgx3mkzhmd",
         "showlegend": true,
         "type": "scatter",
         "x": [
          13.75124050684884
         ],
         "y": [
          -6.27975646875
         ]
        },
        {
         "legendgroup": "cgx3mkzhmd",
         "marker": {
          "color": -2.631749999970623e-05,
          "colorbar": {
           "thickness": 10
          },
          "colorscale": [
           [
            0,
            "#440154"
           ],
           [
            0.1111111111111111,
            "#482878"
           ],
           [
            0.2222222222222222,
            "#3e4989"
           ],
           [
            0.3333333333333333,
            "#31688e"
           ],
           [
            0.4444444444444444,
            "#26828e"
           ],
           [
            0.5555555555555556,
            "#1f9e89"
           ],
           [
            0.6666666666666666,
            "#35b779"
           ],
           [
            0.7777777777777778,
            "#6ece58"
           ],
           [
            0.8888888888888888,
            "#b5de2b"
           ],
           [
            1,
            "#fde725"
           ]
          ],
          "line": {
           "color": "MediumPurple",
           "width": 1
          },
          "size": 12,
          "symbol": "circle"
         },
         "mode": "markers",
         "name": "cgx3mkzhmd",
         "showlegend": false,
         "type": "scatter",
         "x": [
          13.753852244074528
         ],
         "y": [
          -6.27973015125
         ]
        },
        {
         "legendgroup": "6d6a8a637i",
         "line": {
          "color": "grey",
          "width": 1
         },
         "mode": "lines",
         "showlegend": false,
         "type": "scatter",
         "x": [
          20.110814508452755,
          20.12323567646139
         ],
         "y": [
          -6.170612928125,
          -6.17055716375
         ]
        },
        {
         "legendgroup": "6dxsvlbymt",
         "line": {
          "color": "grey",
          "width": 1
         },
         "mode": "lines",
         "showlegend": false,
         "type": "scatter",
         "x": [
          16.514162048333393,
          12.587915072298616
         ],
         "y": [
          -6.127629045833333,
          -6.094158083333333
         ]
        },
        {
         "legendgroup": "6fzy7kcrxy",
         "line": {
          "color": "grey",
          "width": 1
         },
         "mode": "lines",
         "showlegend": false,
         "type": "scatter",
         "x": [
          11.060233379224897,
          11.062013155071128
         ],
         "y": [
          -5.6724562025,
          -5.671935805833333
         ]
        },
        {
         "legendgroup": "6obuvfvi9d",
         "line": {
          "color": "grey",
          "width": 1
         },
         "mode": "lines",
         "showlegend": false,
         "type": "scatter",
         "x": [
          18.56084405266874,
          17.980947022965527
         ],
         "y": [
          -6.737123299166666,
          -6.735893655000001
         ]
        },
        {
         "legendgroup": "6s648e8s6p",
         "line": {
          "color": "grey",
          "width": 1
         },
         "mode": "lines",
         "showlegend": false,
         "type": "scatter",
         "x": [
          15.099724148465944,
          15.147912952242757
         ],
         "y": [
          -6.419084197708333,
          -6.419076165416667
         ]
        },
        {
         "legendgroup": "6w7ezj7gml",
         "line": {
          "color": "grey",
          "width": 1
         },
         "mode": "lines",
         "showlegend": false,
         "type": "scatter",
         "x": [
          14.490306588307368,
          14.496833023906213
         ],
         "y": [
          -6.758501716458333,
          -6.758041009166667
         ]
        },
        {
         "legendgroup": "7am4vwzi7p",
         "line": {
          "color": "grey",
          "width": 1
         },
         "mode": "lines",
         "showlegend": false,
         "type": "scatter",
         "x": [
          10.849656208841806,
          10.80015157252812
         ],
         "y": [
          -4.978113020833333,
          -4.9852155925
         ]
        },
        {
         "legendgroup": "7ave8rzrzj",
         "line": {
          "color": "grey",
          "width": 1
         },
         "mode": "lines",
         "showlegend": false,
         "type": "scatter",
         "x": [
          17.235308724015464,
          38.86801604931104
         ],
         "y": [
          -6.322997910000001,
          -4.003333671666667
         ]
        },
        {
         "legendgroup": "7en56j64mi",
         "line": {
          "color": "grey",
          "width": 1
         },
         "mode": "lines",
         "showlegend": false,
         "type": "scatter",
         "x": [
          13.326239305597166,
          13.326504904706503
         ],
         "y": [
          -5.907570893125,
          -5.9076066275
         ]
        },
        {
         "legendgroup": "7f8pm5mhnu",
         "line": {
          "color": "grey",
          "width": 1
         },
         "mode": "lines",
         "showlegend": false,
         "type": "scatter",
         "x": [
          13.756302301948976,
          13.75806840174202
         ],
         "y": [
          -6.271106365,
          -6.27100456
         ]
        },
        {
         "legendgroup": "7h62vo74x4",
         "line": {
          "color": "grey",
          "width": 1
         },
         "mode": "lines",
         "showlegend": false,
         "type": "scatter",
         "x": [
          29.54640538477562,
          29.696820936215087
         ],
         "y": [
          -5.6310075675,
          -5.62228497875
         ]
        },
        {
         "legendgroup": "82mwbwbgbl",
         "line": {
          "color": "grey",
          "width": 1
         },
         "mode": "lines",
         "showlegend": false,
         "type": "scatter",
         "x": [
          13.165961325909123,
          13.137642245977725
         ],
         "y": [
          -6.5813658675,
          -6.581169202083333
         ]
        },
        {
         "legendgroup": "8495vjvsc3",
         "line": {
          "color": "grey",
          "width": 1
         },
         "mode": "lines",
         "showlegend": false,
         "type": "scatter",
         "x": [
          11.961844393965109,
          13.211100053769378
         ],
         "y": [
          -6.263938788888889,
          -6.56905158
         ]
        },
        {
         "legendgroup": "8aza84xlvs",
         "line": {
          "color": "grey",
          "width": 1
         },
         "mode": "lines",
         "showlegend": false,
         "type": "scatter",
         "x": [
          14.034391831423996,
          14.07513584197149
         ],
         "y": [
          -6.807219115555556,
          -6.805667082777777
         ]
        },
        {
         "legendgroup": "8g6g9dv47g",
         "line": {
          "color": "grey",
          "width": 1
         },
         "mode": "lines",
         "showlegend": false,
         "type": "scatter",
         "x": [
          24.080919434317003,
          23.834723845693837
         ],
         "y": [
          -6.12292283625,
          -6.1335402475
         ]
        },
        {
         "legendgroup": "8gnt9rnd92",
         "line": {
          "color": "grey",
          "width": 1
         },
         "mode": "lines",
         "showlegend": false,
         "type": "scatter",
         "x": [
          12.684583057733304,
          12.67717922598353
         ],
         "y": [
          -6.353620888125,
          -6.353271475
         ]
        },
        {
         "legendgroup": "8pmqmq9r8f",
         "line": {
          "color": "grey",
          "width": 1
         },
         "mode": "lines",
         "showlegend": false,
         "type": "scatter",
         "x": [
          20.826025718329333,
          20.200453922643263
         ],
         "y": [
          -6.111398525,
          -6.11949441
         ]
        },
        {
         "legendgroup": "91746y6g6i",
         "line": {
          "color": "grey",
          "width": 1
         },
         "mode": "lines",
         "showlegend": false,
         "type": "scatter",
         "x": [
          14.523681548760642,
          14.522419214660564
         ],
         "y": [
          -6.75891042625,
          -6.7586293316666675
         ]
        },
        {
         "legendgroup": "94vpmqvh9p",
         "line": {
          "color": "grey",
          "width": 1
         },
         "mode": "lines",
         "showlegend": false,
         "type": "scatter",
         "x": [
          19.931253795854396,
          18.385014091101986
         ],
         "y": [
          -6.1839906559375,
          -6.1765551215625
         ]
        },
        {
         "legendgroup": "95nfmd6fce",
         "line": {
          "color": "grey",
          "width": 1
         },
         "mode": "lines",
         "showlegend": false,
         "type": "scatter",
         "x": [
          24.314525034994244,
          24.36333574190504
         ],
         "y": [
          -6.133204605,
          -6.133650943125
         ]
        },
        {
         "legendgroup": "9e8jmu7hmo",
         "line": {
          "color": "grey",
          "width": 1
         },
         "mode": "lines",
         "showlegend": false,
         "type": "scatter",
         "x": [
          10.862839723389687,
          10.933316724801948
         ],
         "y": [
          -6.09827971,
          -6.096903995
         ]
        },
        {
         "legendgroup": "9ivycocdvw",
         "line": {
          "color": "grey",
          "width": 1
         },
         "mode": "lines",
         "showlegend": false,
         "type": "scatter",
         "x": [
          18.21647475632034,
          18.21114373036146
         ],
         "y": [
          -6.48903900625,
          -6.489042062916667
         ]
        },
        {
         "legendgroup": "9pzh8yxixe",
         "line": {
          "color": "grey",
          "width": 1
         },
         "mode": "lines",
         "showlegend": false,
         "type": "scatter",
         "x": [
          20.329032456061874,
          20.44954389937546
         ],
         "y": [
          -6.13143171125,
          -6.131202133125
         ]
        },
        {
         "legendgroup": "9txdvicqcf",
         "line": {
          "color": "grey",
          "width": 1
         },
         "mode": "lines",
         "showlegend": false,
         "type": "scatter",
         "x": [
          11.131862055648448,
          11.13668245311254
         ],
         "y": [
          -6.464471491666667,
          -6.464390457083333
         ]
        },
        {
         "legendgroup": "9uxemw7rv2",
         "line": {
          "color": "grey",
          "width": 1
         },
         "mode": "lines",
         "showlegend": false,
         "type": "scatter",
         "x": [
          12.881048561171667,
          13.04761373118491
         ],
         "y": [
          -6.6260351122916665,
          -6.610491094583334
         ]
        },
        {
         "legendgroup": "9wzqvtmw6a",
         "line": {
          "color": "grey",
          "width": 1
         },
         "mode": "lines",
         "showlegend": false,
         "type": "scatter",
         "x": [
          21.138097173072893,
          21.14295847927217
         ],
         "y": [
          -6.713121547083333,
          -6.71302439875
         ]
        },
        {
         "legendgroup": "9y85x1cp6e",
         "line": {
          "color": "grey",
          "width": 1
         },
         "mode": "lines",
         "showlegend": false,
         "type": "scatter",
         "x": [
          16.750199693429117,
          16.809980836025137
         ],
         "y": [
          -6.547264305416667,
          -6.5490027516666665
         ]
        },
        {
         "legendgroup": "9yz2mt8hbh",
         "line": {
          "color": "grey",
          "width": 1
         },
         "mode": "lines",
         "showlegend": false,
         "type": "scatter",
         "x": [
          10.95170787125321,
          10.94958677969624
         ],
         "y": [
          -7.04742625,
          -7.047311995833333
         ]
        },
        {
         "legendgroup": "b49kx4c19q",
         "line": {
          "color": "grey",
          "width": 1
         },
         "mode": "lines",
         "showlegend": false,
         "type": "scatter",
         "x": [
          10.844300193769683,
          10.882806785835847
         ],
         "y": [
          -6.961768555833333,
          -6.96097049
         ]
        },
        {
         "legendgroup": "b4nrnqvl8h",
         "line": {
          "color": "grey",
          "width": 1
         },
         "mode": "lines",
         "showlegend": false,
         "type": "scatter",
         "x": [
          14.11999255535732,
          14.33347585813917
         ],
         "y": [
          -5.831600935,
          -5.83179830875
         ]
        },
        {
         "legendgroup": "b5cgvsb16w",
         "line": {
          "color": "grey",
          "width": 1
         },
         "mode": "lines",
         "showlegend": false,
         "type": "scatter",
         "x": [
          12.027832152721652,
          12.024976223645643
         ],
         "y": [
          -6.456962203125,
          -6.456791791875
         ]
        },
        {
         "legendgroup": "b5cib48g9t",
         "line": {
          "color": "grey",
          "width": 1
         },
         "mode": "lines",
         "showlegend": false,
         "type": "scatter",
         "x": [
          16.586680323746126,
          18.601572696085736
         ],
         "y": [
          -6.526308038333333,
          -6.47841321
         ]
        },
        {
         "legendgroup": "bdbizg74vt",
         "line": {
          "color": "grey",
          "width": 1
         },
         "mode": "lines",
         "showlegend": false,
         "type": "scatter",
         "x": [
          18.873187435751984,
          13.262941521004684
         ],
         "y": [
          -6.421183248333333,
          -6.0447899483333325
         ]
        },
        {
         "legendgroup": "bgcpc2vabf",
         "line": {
          "color": "grey",
          "width": 1
         },
         "mode": "lines",
         "showlegend": false,
         "type": "scatter",
         "x": [
          11.655157035681606,
          11.652437023048714
         ],
         "y": [
          -6.380464551875,
          -6.38031513625
         ]
        },
        {
         "legendgroup": "bp7ynac4my",
         "line": {
          "color": "grey",
          "width": 1
         },
         "mode": "lines",
         "showlegend": false,
         "type": "scatter",
         "x": [
          13.152716970010935,
          13.91037265676984
         ],
         "y": [
          -6.643014765740741,
          -6.635847808703704
         ]
        },
        {
         "legendgroup": "bpc2nk6qz1",
         "line": {
          "color": "grey",
          "width": 1
         },
         "mode": "lines",
         "showlegend": false,
         "type": "scatter",
         "x": [
          11.95241158838254,
          11.093756658829378
         ],
         "y": [
          -6.9442786299999995,
          -6.699091815
         ]
        },
        {
         "legendgroup": "bpvynr7p9w",
         "line": {
          "color": "grey",
          "width": 1
         },
         "mode": "lines",
         "showlegend": false,
         "type": "scatter",
         "x": [
          13.676082967728714,
          13.6729787842098
         ],
         "y": [
          -6.2726585125,
          -6.272768690625
         ]
        },
        {
         "legendgroup": "c48lx363be",
         "line": {
          "color": "grey",
          "width": 1
         },
         "mode": "lines",
         "showlegend": false,
         "type": "scatter",
         "x": [
          12.594083493133041,
          12.59451971913595
         ],
         "y": [
          -6.772998472499999,
          -6.772592894166666
         ]
        },
        {
         "legendgroup": "cant6qca6o",
         "line": {
          "color": "grey",
          "width": 1
         },
         "mode": "lines",
         "showlegend": false,
         "type": "scatter",
         "x": [
          20.641102700262326,
          20.017121864934797
         ],
         "y": [
          -6.408366933333333,
          -6.441227616666667
         ]
        },
        {
         "legendgroup": "cfcivdxrc2",
         "line": {
          "color": "grey",
          "width": 1
         },
         "mode": "lines",
         "showlegend": false,
         "type": "scatter",
         "x": [
          10.950427347921467,
          10.953383870966732
         ],
         "y": [
          -7.0454485333333325,
          -7.0451690000000005
         ]
        },
        {
         "legendgroup": "cgx3mkzhmd",
         "line": {
          "color": "grey",
          "width": 1
         },
         "mode": "lines",
         "showlegend": false,
         "type": "scatter",
         "x": [
          13.75124050684884,
          13.753852244074528
         ],
         "y": [
          -6.27975646875,
          -6.27973015125
         ]
        },
        {
         "legendgroup": "ckbg7d9u6u",
         "line": {
          "color": "grey",
          "width": 1
         },
         "mode": "lines",
         "showlegend": false,
         "type": "scatter",
         "x": [
          13.459708254162294,
          13.210438233189869
         ],
         "y": [
          -6.718412355416667,
          -6.715214825833333
         ]
        },
        {
         "legendgroup": "cr6rcena9l",
         "line": {
          "color": "grey",
          "width": 1
         },
         "mode": "lines",
         "showlegend": false,
         "type": "scatter",
         "x": [
          14.400834399484465,
          14.132743842752424
         ],
         "y": [
          -6.249802933333334,
          -6.246935966666666
         ]
        },
        {
         "legendgroup": "cung63bez1",
         "line": {
          "color": "grey",
          "width": 1
         },
         "mode": "lines",
         "showlegend": false,
         "type": "scatter",
         "x": [
          12.878014073126131,
          12.9078506772451
         ],
         "y": [
          -6.743333853333334,
          -6.743177469166667
         ]
        },
        {
         "legendgroup": "m4cacfvjvh",
         "line": {
          "color": "grey",
          "width": 1
         },
         "mode": "lines",
         "showlegend": false,
         "type": "scatter",
         "x": [
          13.098691572803448,
          13.213666380360472
         ],
         "y": [
          -6.609411229583333,
          -6.576979638541666
         ]
        },
        {
         "legendgroup": "macixavwv3",
         "line": {
          "color": "grey",
          "width": 1
         },
         "mode": "lines",
         "showlegend": false,
         "type": "scatter",
         "x": [
          11.122250259344606,
          11.121115622322703
         ],
         "y": [
          -6.4690128810416665,
          -6.468875995
         ]
        },
        {
         "legendgroup": "md7oztcizu",
         "line": {
          "color": "grey",
          "width": 1
         },
         "mode": "lines",
         "showlegend": false,
         "type": "scatter",
         "x": [
          14.50148462185056,
          14.501547428825681
         ],
         "y": [
          -6.7578324375,
          -6.75854465
         ]
        },
        {
         "legendgroup": "mi8ob2xq9h",
         "line": {
          "color": "grey",
          "width": 1
         },
         "mode": "lines",
         "showlegend": false,
         "type": "scatter",
         "x": [
          15.361378730791737,
          15.17569879639599
         ],
         "y": [
          -6.521136823611111,
          -6.657290909722223
         ]
        },
        {
         "legendgroup": "mkvpml8q9e",
         "line": {
          "color": "grey",
          "width": 1
         },
         "mode": "lines",
         "showlegend": false,
         "type": "scatter",
         "x": [
          24.4467446874663,
          24.644694559469183
         ],
         "y": [
          -6.1268412075,
          -6.131440795
         ]
        },
        {
         "legendgroup": "mlva81bg7p",
         "line": {
          "color": "grey",
          "width": 1
         },
         "mode": "lines",
         "showlegend": false,
         "type": "scatter",
         "x": [
          12.613235925166217,
          12.471816647500875
         ],
         "y": [
          -6.653620445416667,
          -6.65264242625
         ]
        },
        {
         "legendgroup": "mp7svl6j8s",
         "line": {
          "color": "grey",
          "width": 1
         },
         "mode": "lines",
         "showlegend": false,
         "type": "scatter",
         "x": [
          19.016262302183897,
          20.387034398459633
         ],
         "y": [
          -6.1504233575,
          -6.1241113525
         ]
        },
        {
         "legendgroup": "mpbd6sz1z5",
         "line": {
          "color": "grey",
          "width": 1
         },
         "mode": "lines",
         "showlegend": false,
         "type": "scatter",
         "x": [
          11.497320149117474,
          10.762018520161932
         ],
         "y": [
          -6.280755755833334,
          -6.2621732011111115
         ]
        },
        {
         "legendgroup": "myc4ng73xh",
         "line": {
          "color": "grey",
          "width": 1
         },
         "mode": "lines",
         "showlegend": false,
         "type": "scatter",
         "x": [
          10.186654441042547,
          10.193120518771337
         ],
         "y": [
          -6.648283165833334,
          -6.645581081666666
         ]
        },
        {
         "legendgroup": "nd919pnr6q",
         "line": {
          "color": "grey",
          "width": 1
         },
         "mode": "lines",
         "showlegend": false,
         "type": "scatter",
         "x": [
          13.26283394876871,
          12.499463381255445
         ],
         "y": [
          -6.807534819583334,
          -6.749258618333333
         ]
        },
        {
         "legendgroup": "ni6svhmw74",
         "line": {
          "color": "grey",
          "width": 1
         },
         "mode": "lines",
         "showlegend": false,
         "type": "scatter",
         "x": [
          25.463998406392882,
          25.46458095035551
         ],
         "y": [
          -6.345803830555556,
          -6.345598855416666
         ]
        },
        {
         "legendgroup": "nkmd71vt9q",
         "line": {
          "color": "grey",
          "width": 1
         },
         "mode": "lines",
         "showlegend": false,
         "type": "scatter",
         "x": [
          13.198958159424427,
          15.813092072159016
         ],
         "y": [
          -5.85307799,
          -5.935262205
         ]
        },
        {
         "legendgroup": "nrml6dms9l",
         "line": {
          "color": "grey",
          "width": 1
         },
         "mode": "lines",
         "showlegend": false,
         "type": "scatter",
         "x": [
          11.889852104182722,
          11.744742461303936
         ],
         "y": [
          -6.37289985125,
          -6.3712957609375
         ]
        },
        {
         "legendgroup": "nt6wv1n27r",
         "line": {
          "color": "grey",
          "width": 1
         },
         "mode": "lines",
         "showlegend": false,
         "type": "scatter",
         "x": [
          13.761650599771627,
          15.640173284304757
         ],
         "y": [
          -6.290211007500001,
          -6.564860335
         ]
        },
        {
         "legendgroup": "v1vpxgbg9s",
         "line": {
          "color": "grey",
          "width": 1
         },
         "mode": "lines",
         "showlegend": false,
         "type": "scatter",
         "x": [
          11.697597710566937,
          10.183930020401514
         ],
         "y": [
          -6.634798865,
          -6.649610479000001
         ]
        },
        {
         "legendgroup": "vhv39q6e9j",
         "line": {
          "color": "grey",
          "width": 1
         },
         "mode": "lines",
         "showlegend": false,
         "type": "scatter",
         "x": [
          11.373463572688967,
          6.741221975121517
         ],
         "y": [
          -6.392222053333334,
          -4.239576231111111
         ]
        },
        {
         "legendgroup": "vl6uvqne6d",
         "line": {
          "color": "grey",
          "width": 1
         },
         "mode": "lines",
         "showlegend": false,
         "type": "scatter",
         "x": [
          13.039006309027805,
          13.050842731152235
         ],
         "y": [
          -6.604252169166667,
          -6.603279524375
         ]
        },
        {
         "legendgroup": "vlbdnoxlnh",
         "line": {
          "color": "grey",
          "width": 1
         },
         "mode": "lines",
         "showlegend": false,
         "type": "scatter",
         "x": [
          10.868881658248148,
          22.947477859505643
         ],
         "y": [
          -6.461792755,
          -6.131351645
         ]
        },
        {
         "legendgroup": "vsvsms92ng",
         "line": {
          "color": "grey",
          "width": 1
         },
         "mode": "lines",
         "showlegend": false,
         "type": "scatter",
         "x": [
          9.991766055274669,
          9.991534744171007
         ],
         "y": [
          -6.950299773333334,
          -6.950119699999999
         ]
        },
        {
         "legendgroup": "vt9ynkzyna",
         "line": {
          "color": "grey",
          "width": 1
         },
         "mode": "lines",
         "showlegend": false,
         "type": "scatter",
         "x": [
          23.9602279764986,
          24.01702045635393
         ],
         "y": [
          -6.126286650625,
          -6.126355976666667
         ]
        },
        {
         "legendgroup": "vwbhvwmjmw",
         "line": {
          "color": "grey",
          "width": 1
         },
         "mode": "lines",
         "showlegend": false,
         "type": "scatter",
         "x": [
          21.183451571490888,
          22.3428310942342
         ],
         "y": [
          -6.223395707916667,
          -6.1715215854166665
         ]
        },
        {
         "legendgroup": "x2xj6wb48k",
         "line": {
          "color": "grey",
          "width": 1
         },
         "mode": "lines",
         "showlegend": false,
         "type": "scatter",
         "x": [
          12.158632090636106,
          12.160392754972134
         ],
         "y": [
          -6.343013570555556,
          -6.342687815555555
         ]
        },
        {
         "legendgroup": "xgmkzuxf8g",
         "line": {
          "color": "grey",
          "width": 1
         },
         "mode": "lines",
         "showlegend": false,
         "type": "scatter",
         "x": [
          13.81332501680083,
          14.191143413945264
         ],
         "y": [
          -6.795048252777778,
          -6.794859277222222
         ]
        },
        {
         "legendgroup": "xjbj6fbfn1",
         "line": {
          "color": "grey",
          "width": 1
         },
         "mode": "lines",
         "showlegend": false,
         "type": "scatter",
         "x": [
          14.490911706427854,
          14.50869906656827
         ],
         "y": [
          -6.758509948125,
          -6.758040476666667
         ]
        },
        {
         "legendgroup": "xjxdzi73bg",
         "line": {
          "color": "grey",
          "width": 1
         },
         "mode": "lines",
         "showlegend": false,
         "type": "scatter",
         "x": [
          10.86831593077965,
          23.262292081756197
         ],
         "y": [
          -6.46176988,
          -6.131791685
         ]
        },
        {
         "legendgroup": "xonhb1cgnq",
         "line": {
          "color": "grey",
          "width": 1
         },
         "mode": "lines",
         "showlegend": false,
         "type": "scatter",
         "x": [
          9.991867369326537,
          9.993952407222405
         ],
         "y": [
          -6.950299244166666,
          -6.950094485833334
         ]
        },
        {
         "legendgroup": "z39g648rnl",
         "line": {
          "color": "grey",
          "width": 1
         },
         "mode": "lines",
         "showlegend": false,
         "type": "scatter",
         "x": [
          28.029756323070334,
          28.03092500984488
         ],
         "y": [
          -6.28196167,
          -6.281736937083333
         ]
        },
        {
         "legendgroup": "zr9ic2zaz5",
         "line": {
          "color": "grey",
          "width": 1
         },
         "mode": "lines",
         "showlegend": false,
         "type": "scatter",
         "x": [
          13.676420149762865,
          13.672843111672988
         ],
         "y": [
          -6.272679945,
          -6.272770385625
         ]
        },
        {
         "legendgroup": "zu6lnfze71",
         "line": {
          "color": "grey",
          "width": 1
         },
         "mode": "lines",
         "showlegend": false,
         "type": "scatter",
         "x": [
          12.823831111458004,
          12.825934062791243
         ],
         "y": [
          -5.948860956666667,
          -5.9483835275
         ]
        },
        {
         "legendgroup": "zunqxh6g9j",
         "line": {
          "color": "grey",
          "width": 1
         },
         "mode": "lines",
         "showlegend": false,
         "type": "scatter",
         "x": [
          14.11074641611981,
          10.561043040789468
         ],
         "y": [
          -6.812768990333334,
          -6.639185524666667
         ]
        }
       ],
       "layout": {
        "autosize": true,
        "showlegend": false,
        "template": {
         "data": {
          "bar": [
           {
            "error_x": {
             "color": "#2a3f5f"
            },
            "error_y": {
             "color": "#2a3f5f"
            },
            "marker": {
             "line": {
              "color": "#E5ECF6",
              "width": 0.5
             }
            },
            "type": "bar"
           }
          ],
          "barpolar": [
           {
            "marker": {
             "line": {
              "color": "#E5ECF6",
              "width": 0.5
             }
            },
            "type": "barpolar"
           }
          ],
          "carpet": [
           {
            "aaxis": {
             "endlinecolor": "#2a3f5f",
             "gridcolor": "white",
             "linecolor": "white",
             "minorgridcolor": "white",
             "startlinecolor": "#2a3f5f"
            },
            "baxis": {
             "endlinecolor": "#2a3f5f",
             "gridcolor": "white",
             "linecolor": "white",
             "minorgridcolor": "white",
             "startlinecolor": "#2a3f5f"
            },
            "type": "carpet"
           }
          ],
          "choropleth": [
           {
            "colorbar": {
             "outlinewidth": 0,
             "ticks": ""
            },
            "type": "choropleth"
           }
          ],
          "contour": [
           {
            "colorbar": {
             "outlinewidth": 0,
             "ticks": ""
            },
            "colorscale": [
             [
              0,
              "#0d0887"
             ],
             [
              0.1111111111111111,
              "#46039f"
             ],
             [
              0.2222222222222222,
              "#7201a8"
             ],
             [
              0.3333333333333333,
              "#9c179e"
             ],
             [
              0.4444444444444444,
              "#bd3786"
             ],
             [
              0.5555555555555556,
              "#d8576b"
             ],
             [
              0.6666666666666666,
              "#ed7953"
             ],
             [
              0.7777777777777778,
              "#fb9f3a"
             ],
             [
              0.8888888888888888,
              "#fdca26"
             ],
             [
              1,
              "#f0f921"
             ]
            ],
            "type": "contour"
           }
          ],
          "contourcarpet": [
           {
            "colorbar": {
             "outlinewidth": 0,
             "ticks": ""
            },
            "type": "contourcarpet"
           }
          ],
          "heatmap": [
           {
            "colorbar": {
             "outlinewidth": 0,
             "ticks": ""
            },
            "colorscale": [
             [
              0,
              "#0d0887"
             ],
             [
              0.1111111111111111,
              "#46039f"
             ],
             [
              0.2222222222222222,
              "#7201a8"
             ],
             [
              0.3333333333333333,
              "#9c179e"
             ],
             [
              0.4444444444444444,
              "#bd3786"
             ],
             [
              0.5555555555555556,
              "#d8576b"
             ],
             [
              0.6666666666666666,
              "#ed7953"
             ],
             [
              0.7777777777777778,
              "#fb9f3a"
             ],
             [
              0.8888888888888888,
              "#fdca26"
             ],
             [
              1,
              "#f0f921"
             ]
            ],
            "type": "heatmap"
           }
          ],
          "heatmapgl": [
           {
            "colorbar": {
             "outlinewidth": 0,
             "ticks": ""
            },
            "colorscale": [
             [
              0,
              "#0d0887"
             ],
             [
              0.1111111111111111,
              "#46039f"
             ],
             [
              0.2222222222222222,
              "#7201a8"
             ],
             [
              0.3333333333333333,
              "#9c179e"
             ],
             [
              0.4444444444444444,
              "#bd3786"
             ],
             [
              0.5555555555555556,
              "#d8576b"
             ],
             [
              0.6666666666666666,
              "#ed7953"
             ],
             [
              0.7777777777777778,
              "#fb9f3a"
             ],
             [
              0.8888888888888888,
              "#fdca26"
             ],
             [
              1,
              "#f0f921"
             ]
            ],
            "type": "heatmapgl"
           }
          ],
          "histogram": [
           {
            "marker": {
             "colorbar": {
              "outlinewidth": 0,
              "ticks": ""
             }
            },
            "type": "histogram"
           }
          ],
          "histogram2d": [
           {
            "colorbar": {
             "outlinewidth": 0,
             "ticks": ""
            },
            "colorscale": [
             [
              0,
              "#0d0887"
             ],
             [
              0.1111111111111111,
              "#46039f"
             ],
             [
              0.2222222222222222,
              "#7201a8"
             ],
             [
              0.3333333333333333,
              "#9c179e"
             ],
             [
              0.4444444444444444,
              "#bd3786"
             ],
             [
              0.5555555555555556,
              "#d8576b"
             ],
             [
              0.6666666666666666,
              "#ed7953"
             ],
             [
              0.7777777777777778,
              "#fb9f3a"
             ],
             [
              0.8888888888888888,
              "#fdca26"
             ],
             [
              1,
              "#f0f921"
             ]
            ],
            "type": "histogram2d"
           }
          ],
          "histogram2dcontour": [
           {
            "colorbar": {
             "outlinewidth": 0,
             "ticks": ""
            },
            "colorscale": [
             [
              0,
              "#0d0887"
             ],
             [
              0.1111111111111111,
              "#46039f"
             ],
             [
              0.2222222222222222,
              "#7201a8"
             ],
             [
              0.3333333333333333,
              "#9c179e"
             ],
             [
              0.4444444444444444,
              "#bd3786"
             ],
             [
              0.5555555555555556,
              "#d8576b"
             ],
             [
              0.6666666666666666,
              "#ed7953"
             ],
             [
              0.7777777777777778,
              "#fb9f3a"
             ],
             [
              0.8888888888888888,
              "#fdca26"
             ],
             [
              1,
              "#f0f921"
             ]
            ],
            "type": "histogram2dcontour"
           }
          ],
          "mesh3d": [
           {
            "colorbar": {
             "outlinewidth": 0,
             "ticks": ""
            },
            "type": "mesh3d"
           }
          ],
          "parcoords": [
           {
            "line": {
             "colorbar": {
              "outlinewidth": 0,
              "ticks": ""
             }
            },
            "type": "parcoords"
           }
          ],
          "scatter": [
           {
            "marker": {
             "colorbar": {
              "outlinewidth": 0,
              "ticks": ""
             }
            },
            "type": "scatter"
           }
          ],
          "scatter3d": [
           {
            "line": {
             "colorbar": {
              "outlinewidth": 0,
              "ticks": ""
             }
            },
            "marker": {
             "colorbar": {
              "outlinewidth": 0,
              "ticks": ""
             }
            },
            "type": "scatter3d"
           }
          ],
          "scattercarpet": [
           {
            "marker": {
             "colorbar": {
              "outlinewidth": 0,
              "ticks": ""
             }
            },
            "type": "scattercarpet"
           }
          ],
          "scattergeo": [
           {
            "marker": {
             "colorbar": {
              "outlinewidth": 0,
              "ticks": ""
             }
            },
            "type": "scattergeo"
           }
          ],
          "scattergl": [
           {
            "marker": {
             "colorbar": {
              "outlinewidth": 0,
              "ticks": ""
             }
            },
            "type": "scattergl"
           }
          ],
          "scattermapbox": [
           {
            "marker": {
             "colorbar": {
              "outlinewidth": 0,
              "ticks": ""
             }
            },
            "type": "scattermapbox"
           }
          ],
          "scatterpolar": [
           {
            "marker": {
             "colorbar": {
              "outlinewidth": 0,
              "ticks": ""
             }
            },
            "type": "scatterpolar"
           }
          ],
          "scatterpolargl": [
           {
            "marker": {
             "colorbar": {
              "outlinewidth": 0,
              "ticks": ""
             }
            },
            "type": "scatterpolargl"
           }
          ],
          "scatterternary": [
           {
            "marker": {
             "colorbar": {
              "outlinewidth": 0,
              "ticks": ""
             }
            },
            "type": "scatterternary"
           }
          ],
          "surface": [
           {
            "colorbar": {
             "outlinewidth": 0,
             "ticks": ""
            },
            "colorscale": [
             [
              0,
              "#0d0887"
             ],
             [
              0.1111111111111111,
              "#46039f"
             ],
             [
              0.2222222222222222,
              "#7201a8"
             ],
             [
              0.3333333333333333,
              "#9c179e"
             ],
             [
              0.4444444444444444,
              "#bd3786"
             ],
             [
              0.5555555555555556,
              "#d8576b"
             ],
             [
              0.6666666666666666,
              "#ed7953"
             ],
             [
              0.7777777777777778,
              "#fb9f3a"
             ],
             [
              0.8888888888888888,
              "#fdca26"
             ],
             [
              1,
              "#f0f921"
             ]
            ],
            "type": "surface"
           }
          ],
          "table": [
           {
            "cells": {
             "fill": {
              "color": "#EBF0F8"
             },
             "line": {
              "color": "white"
             }
            },
            "header": {
             "fill": {
              "color": "#C8D4E3"
             },
             "line": {
              "color": "white"
             }
            },
            "type": "table"
           }
          ]
         },
         "layout": {
          "annotationdefaults": {
           "arrowcolor": "#2a3f5f",
           "arrowhead": 0,
           "arrowwidth": 1
          },
          "colorscale": {
           "diverging": [
            [
             0,
             "#8e0152"
            ],
            [
             0.1,
             "#c51b7d"
            ],
            [
             0.2,
             "#de77ae"
            ],
            [
             0.3,
             "#f1b6da"
            ],
            [
             0.4,
             "#fde0ef"
            ],
            [
             0.5,
             "#f7f7f7"
            ],
            [
             0.6,
             "#e6f5d0"
            ],
            [
             0.7,
             "#b8e186"
            ],
            [
             0.8,
             "#7fbc41"
            ],
            [
             0.9,
             "#4d9221"
            ],
            [
             1,
             "#276419"
            ]
           ],
           "sequential": [
            [
             0,
             "#0d0887"
            ],
            [
             0.1111111111111111,
             "#46039f"
            ],
            [
             0.2222222222222222,
             "#7201a8"
            ],
            [
             0.3333333333333333,
             "#9c179e"
            ],
            [
             0.4444444444444444,
             "#bd3786"
            ],
            [
             0.5555555555555556,
             "#d8576b"
            ],
            [
             0.6666666666666666,
             "#ed7953"
            ],
            [
             0.7777777777777778,
             "#fb9f3a"
            ],
            [
             0.8888888888888888,
             "#fdca26"
            ],
            [
             1,
             "#f0f921"
            ]
           ],
           "sequentialminus": [
            [
             0,
             "#0d0887"
            ],
            [
             0.1111111111111111,
             "#46039f"
            ],
            [
             0.2222222222222222,
             "#7201a8"
            ],
            [
             0.3333333333333333,
             "#9c179e"
            ],
            [
             0.4444444444444444,
             "#bd3786"
            ],
            [
             0.5555555555555556,
             "#d8576b"
            ],
            [
             0.6666666666666666,
             "#ed7953"
            ],
            [
             0.7777777777777778,
             "#fb9f3a"
            ],
            [
             0.8888888888888888,
             "#fdca26"
            ],
            [
             1,
             "#f0f921"
            ]
           ]
          },
          "colorway": [
           "#636efa",
           "#EF553B",
           "#00cc96",
           "#ab63fa",
           "#FFA15A",
           "#19d3f3",
           "#FF6692",
           "#B6E880",
           "#FF97FF",
           "#FECB52"
          ],
          "font": {
           "color": "#2a3f5f"
          },
          "geo": {
           "bgcolor": "white",
           "lakecolor": "white",
           "landcolor": "#E5ECF6",
           "showlakes": true,
           "showland": true,
           "subunitcolor": "white"
          },
          "hoverlabel": {
           "align": "left"
          },
          "hovermode": "closest",
          "mapbox": {
           "style": "light"
          },
          "paper_bgcolor": "white",
          "plot_bgcolor": "#E5ECF6",
          "polar": {
           "angularaxis": {
            "gridcolor": "white",
            "linecolor": "white",
            "ticks": ""
           },
           "bgcolor": "#E5ECF6",
           "radialaxis": {
            "gridcolor": "white",
            "linecolor": "white",
            "ticks": ""
           }
          },
          "scene": {
           "xaxis": {
            "backgroundcolor": "#E5ECF6",
            "gridcolor": "white",
            "gridwidth": 2,
            "linecolor": "white",
            "showbackground": true,
            "ticks": "",
            "zerolinecolor": "white"
           },
           "yaxis": {
            "backgroundcolor": "#E5ECF6",
            "gridcolor": "white",
            "gridwidth": 2,
            "linecolor": "white",
            "showbackground": true,
            "ticks": "",
            "zerolinecolor": "white"
           },
           "zaxis": {
            "backgroundcolor": "#E5ECF6",
            "gridcolor": "white",
            "gridwidth": 2,
            "linecolor": "white",
            "showbackground": true,
            "ticks": "",
            "zerolinecolor": "white"
           }
          },
          "shapedefaults": {
           "line": {
            "color": "#2a3f5f"
           }
          },
          "ternary": {
           "aaxis": {
            "gridcolor": "white",
            "linecolor": "white",
            "ticks": ""
           },
           "baxis": {
            "gridcolor": "white",
            "linecolor": "white",
            "ticks": ""
           },
           "bgcolor": "#E5ECF6",
           "caxis": {
            "gridcolor": "white",
            "linecolor": "white",
            "ticks": ""
           }
          },
          "title": {
           "x": 0.05
          },
          "xaxis": {
           "automargin": true,
           "gridcolor": "white",
           "linecolor": "white",
           "ticks": "",
           "zerolinecolor": "white",
           "zerolinewidth": 2
          },
          "yaxis": {
           "automargin": true,
           "gridcolor": "white",
           "linecolor": "white",
           "ticks": "",
           "zerolinecolor": "white",
           "zerolinewidth": 2
          }
         }
        },
        "xaxis": {
         "autorange": true,
         "range": [
          4.717340091083594,
          40.89189793334896
         ],
         "type": "linear"
        },
        "yaxis": {
         "autorange": true,
         "range": [
          -7.327803198004386,
          -3.7229567236622807
         ],
         "type": "linear"
        }
       }
      },
      "image/png": "[encoded data removed]",
      "text/html": [
       "<div>\n",
       "        \n",
       "        \n",
       "            <div id=\"df118b52-af09-40ac-8026-c4425db84a58\" class=\"plotly-graph-div\" style=\"height:525px; width:100%;\"></div>\n",
       "            <script type=\"text/javascript\">\n",
       "                require([\"plotly\"], function(Plotly) {\n",
       "                    window.PLOTLYENV=window.PLOTLYENV || {};\n",
       "                    \n",
       "                if (document.getElementById(\"df118b52-af09-40ac-8026-c4425db84a58\")) {\n",
       "                    Plotly.newPlot(\n",
       "                        'df118b52-af09-40ac-8026-c4425db84a58',\n",
       "                        [{\"legendgroup\": \"bpc2nk6qz1\", \"marker\": {\"color\": -0.2451868149999994, \"colorbar\": {\"thickness\": 10}, \"colorscale\": [[0.0, \"#440154\"], [0.1111111111111111, \"#482878\"], [0.2222222222222222, \"#3e4989\"], [0.3333333333333333, \"#31688e\"], [0.4444444444444444, \"#26828e\"], [0.5555555555555556, \"#1f9e89\"], [0.6666666666666666, \"#35b779\"], [0.7777777777777778, \"#6ece58\"], [0.8888888888888888, \"#b5de2b\"], [1.0, \"#fde725\"]], \"line\": {\"color\": \"MediumPurple\", \"width\": 1.0}, \"size\": 12, \"symbol\": \"diamond\"}, \"mode\": \"markers\", \"name\": \"bpc2nk6qz1\", \"showlegend\": true, \"type\": \"scatter\", \"x\": [11.95241158838254], \"y\": [-6.9442786299999995]}, {\"legendgroup\": \"bpc2nk6qz1\", \"marker\": {\"color\": -0.2451868149999994, \"colorbar\": {\"thickness\": 10}, \"colorscale\": [[0.0, \"#440154\"], [0.1111111111111111, \"#482878\"], [0.2222222222222222, \"#3e4989\"], [0.3333333333333333, \"#31688e\"], [0.4444444444444444, \"#26828e\"], [0.5555555555555556, \"#1f9e89\"], [0.6666666666666666, \"#35b779\"], [0.7777777777777778, \"#6ece58\"], [0.8888888888888888, \"#b5de2b\"], [1.0, \"#fde725\"]], \"line\": {\"color\": \"MediumPurple\", \"width\": 1.0}, \"size\": 12, \"symbol\": \"circle\"}, \"mode\": \"markers\", \"name\": \"bpc2nk6qz1\", \"showlegend\": false, \"type\": \"scatter\", \"x\": [11.093756658829378], \"y\": [-6.699091815]}, {\"legendgroup\": \"7en56j64mi\", \"marker\": {\"color\": 3.5734374999485397e-05, \"colorbar\": {\"thickness\": 10}, \"colorscale\": [[0.0, \"#440154\"], [0.1111111111111111, \"#482878\"], [0.2222222222222222, \"#3e4989\"], [0.3333333333333333, \"#31688e\"], [0.4444444444444444, \"#26828e\"], [0.5555555555555556, \"#1f9e89\"], [0.6666666666666666, \"#35b779\"], [0.7777777777777778, \"#6ece58\"], [0.8888888888888888, \"#b5de2b\"], [1.0, \"#fde725\"]], \"line\": {\"color\": \"MediumPurple\", \"width\": 1.0}, \"size\": 12, \"symbol\": \"diamond\"}, \"mode\": \"markers\", \"name\": \"7en56j64mi\", \"showlegend\": true, \"type\": \"scatter\", \"x\": [13.326239305597166], \"y\": [-5.907570893125]}, {\"legendgroup\": \"7en56j64mi\", \"marker\": {\"color\": 3.5734374999485397e-05, \"colorbar\": {\"thickness\": 10}, \"colorscale\": [[0.0, \"#440154\"], [0.1111111111111111, \"#482878\"], [0.2222222222222222, \"#3e4989\"], [0.3333333333333333, \"#31688e\"], [0.4444444444444444, \"#26828e\"], [0.5555555555555556, \"#1f9e89\"], [0.6666666666666666, \"#35b779\"], [0.7777777777777778, \"#6ece58\"], [0.8888888888888888, \"#b5de2b\"], [1.0, \"#fde725\"]], \"line\": {\"color\": \"MediumPurple\", \"width\": 1.0}, \"size\": 12, \"symbol\": \"circle\"}, \"mode\": \"markers\", \"name\": \"7en56j64mi\", \"showlegend\": false, \"type\": \"scatter\", \"x\": [13.326504904706503], \"y\": [-5.9076066275]}, {\"legendgroup\": \"6d6a8a637i\", \"marker\": {\"color\": -5.5764375000322275e-05, \"colorbar\": {\"thickness\": 10}, \"colorscale\": [[0.0, \"#440154\"], [0.1111111111111111, \"#482878\"], [0.2222222222222222, \"#3e4989\"], [0.3333333333333333, \"#31688e\"], [0.4444444444444444, \"#26828e\"], [0.5555555555555556, \"#1f9e89\"], [0.6666666666666666, \"#35b779\"], [0.7777777777777778, \"#6ece58\"], [0.8888888888888888, \"#b5de2b\"], [1.0, \"#fde725\"]], \"line\": {\"color\": \"MediumPurple\", \"width\": 1.0}, \"size\": 12, \"symbol\": \"diamond\"}, \"mode\": \"markers\", \"name\": \"6d6a8a637i\", \"showlegend\": true, \"type\": \"scatter\", \"x\": [20.110814508452755], \"y\": [-6.170612928125]}, {\"legendgroup\": \"6d6a8a637i\", \"marker\": {\"color\": -5.5764375000322275e-05, \"colorbar\": {\"thickness\": 10}, \"colorscale\": [[0.0, \"#440154\"], [0.1111111111111111, \"#482878\"], [0.2222222222222222, \"#3e4989\"], [0.3333333333333333, \"#31688e\"], [0.4444444444444444, \"#26828e\"], [0.5555555555555556, \"#1f9e89\"], [0.6666666666666666, \"#35b779\"], [0.7777777777777778, \"#6ece58\"], [0.8888888888888888, \"#b5de2b\"], [1.0, \"#fde725\"]], \"line\": {\"color\": \"MediumPurple\", \"width\": 1.0}, \"size\": 12, \"symbol\": \"circle\"}, \"mode\": \"markers\", \"name\": \"6d6a8a637i\", \"showlegend\": false, \"type\": \"scatter\", \"x\": [20.12323567646139], \"y\": [-6.17055716375]}, {\"legendgroup\": \"xjxdzi73bg\", \"marker\": {\"color\": -0.3299781950000007, \"colorbar\": {\"thickness\": 10}, \"colorscale\": [[0.0, \"#440154\"], [0.1111111111111111, \"#482878\"], [0.2222222222222222, \"#3e4989\"], [0.3333333333333333, \"#31688e\"], [0.4444444444444444, \"#26828e\"], [0.5555555555555556, \"#1f9e89\"], [0.6666666666666666, \"#35b779\"], [0.7777777777777778, \"#6ece58\"], [0.8888888888888888, \"#b5de2b\"], [1.0, \"#fde725\"]], \"line\": {\"color\": \"MediumPurple\", \"width\": 1.0}, \"size\": 12, \"symbol\": \"diamond\"}, \"mode\": \"markers\", \"name\": \"xjxdzi73bg\", \"showlegend\": true, \"type\": \"scatter\", \"x\": [10.86831593077965], \"y\": [-6.46176988]}, {\"legendgroup\": \"xjxdzi73bg\", \"marker\": {\"color\": -0.3299781950000007, \"colorbar\": {\"thickness\": 10}, \"colorscale\": [[0.0, \"#440154\"], [0.1111111111111111, \"#482878\"], [0.2222222222222222, \"#3e4989\"], [0.3333333333333333, \"#31688e\"], [0.4444444444444444, \"#26828e\"], [0.5555555555555556, \"#1f9e89\"], [0.6666666666666666, \"#35b779\"], [0.7777777777777778, \"#6ece58\"], [0.8888888888888888, \"#b5de2b\"], [1.0, \"#fde725\"]], \"line\": {\"color\": \"MediumPurple\", \"width\": 1.0}, \"size\": 12, \"symbol\": \"circle\"}, \"mode\": \"markers\", \"name\": \"xjxdzi73bg\", \"showlegend\": false, \"type\": \"scatter\", \"x\": [23.262292081756197], \"y\": [-6.131791685]}, {\"legendgroup\": \"cung63bez1\", \"marker\": {\"color\": -0.00015638416666696742, \"colorbar\": {\"thickness\": 10}, \"colorscale\": [[0.0, \"#440154\"], [0.1111111111111111, \"#482878\"], [0.2222222222222222, \"#3e4989\"], [0.3333333333333333, \"#31688e\"], [0.4444444444444444, \"#26828e\"], [0.5555555555555556, \"#1f9e89\"], [0.6666666666666666, \"#35b779\"], [0.7777777777777778, \"#6ece58\"], [0.8888888888888888, \"#b5de2b\"], [1.0, \"#fde725\"]], \"line\": {\"color\": \"MediumPurple\", \"width\": 1.0}, \"size\": 12, \"symbol\": \"diamond\"}, \"mode\": \"markers\", \"name\": \"cung63bez1\", \"showlegend\": true, \"type\": \"scatter\", \"x\": [12.878014073126131], \"y\": [-6.743333853333334]}, {\"legendgroup\": \"cung63bez1\", \"marker\": {\"color\": -0.00015638416666696742, \"colorbar\": {\"thickness\": 10}, \"colorscale\": [[0.0, \"#440154\"], [0.1111111111111111, \"#482878\"], [0.2222222222222222, \"#3e4989\"], [0.3333333333333333, \"#31688e\"], [0.4444444444444444, \"#26828e\"], [0.5555555555555556, \"#1f9e89\"], [0.6666666666666666, \"#35b779\"], [0.7777777777777778, \"#6ece58\"], [0.8888888888888888, \"#b5de2b\"], [1.0, \"#fde725\"]], \"line\": {\"color\": \"MediumPurple\", \"width\": 1.0}, \"size\": 12, \"symbol\": \"circle\"}, \"mode\": \"markers\", \"name\": \"cung63bez1\", \"showlegend\": false, \"type\": \"scatter\", \"x\": [12.9078506772451], \"y\": [-6.743177469166667]}, {\"legendgroup\": \"vlbdnoxlnh\", \"marker\": {\"color\": -0.33044111000000065, \"colorbar\": {\"thickness\": 10}, \"colorscale\": [[0.0, \"#440154\"], [0.1111111111111111, \"#482878\"], [0.2222222222222222, \"#3e4989\"], [0.3333333333333333, \"#31688e\"], [0.4444444444444444, \"#26828e\"], [0.5555555555555556, \"#1f9e89\"], [0.6666666666666666, \"#35b779\"], [0.7777777777777778, \"#6ece58\"], [0.8888888888888888, \"#b5de2b\"], [1.0, \"#fde725\"]], \"line\": {\"color\": \"MediumPurple\", \"width\": 1.0}, \"size\": 12, \"symbol\": \"diamond\"}, \"mode\": \"markers\", \"name\": \"vlbdnoxlnh\", \"showlegend\": true, \"type\": \"scatter\", \"x\": [10.868881658248148], \"y\": [-6.461792755]}, {\"legendgroup\": \"vlbdnoxlnh\", \"marker\": {\"color\": -0.33044111000000065, \"colorbar\": {\"thickness\": 10}, \"colorscale\": [[0.0, \"#440154\"], [0.1111111111111111, \"#482878\"], [0.2222222222222222, \"#3e4989\"], [0.3333333333333333, \"#31688e\"], [0.4444444444444444, \"#26828e\"], [0.5555555555555556, \"#1f9e89\"], [0.6666666666666666, \"#35b779\"], [0.7777777777777778, \"#6ece58\"], [0.8888888888888888, \"#b5de2b\"], [1.0, \"#fde725\"]], \"line\": {\"color\": \"MediumPurple\", \"width\": 1.0}, \"size\": 12, \"symbol\": \"circle\"}, \"mode\": \"markers\", \"name\": \"vlbdnoxlnh\", \"showlegend\": false, \"type\": \"scatter\", \"x\": [22.947477859505643], \"y\": [-6.131351645]}, {\"legendgroup\": \"mp7svl6j8s\", \"marker\": {\"color\": -0.026312005000000305, \"colorbar\": {\"thickness\": 10}, \"colorscale\": [[0.0, \"#440154\"], [0.1111111111111111, \"#482878\"], [0.2222222222222222, \"#3e4989\"], [0.3333333333333333, \"#31688e\"], [0.4444444444444444, \"#26828e\"], [0.5555555555555556, \"#1f9e89\"], [0.6666666666666666, \"#35b779\"], [0.7777777777777778, \"#6ece58\"], [0.8888888888888888, \"#b5de2b\"], [1.0, \"#fde725\"]], \"line\": {\"color\": \"MediumPurple\", \"width\": 1.0}, \"size\": 12, \"symbol\": \"diamond\"}, \"mode\": \"markers\", \"name\": \"mp7svl6j8s\", \"showlegend\": true, \"type\": \"scatter\", \"x\": [19.016262302183897], \"y\": [-6.1504233575]}, {\"legendgroup\": \"mp7svl6j8s\", \"marker\": {\"color\": -0.026312005000000305, \"colorbar\": {\"thickness\": 10}, \"colorscale\": [[0.0, \"#440154\"], [0.1111111111111111, \"#482878\"], [0.2222222222222222, \"#3e4989\"], [0.3333333333333333, \"#31688e\"], [0.4444444444444444, \"#26828e\"], [0.5555555555555556, \"#1f9e89\"], [0.6666666666666666, \"#35b779\"], [0.7777777777777778, \"#6ece58\"], [0.8888888888888888, \"#b5de2b\"], [1.0, \"#fde725\"]], \"line\": {\"color\": \"MediumPurple\", \"width\": 1.0}, \"size\": 12, \"symbol\": \"circle\"}, \"mode\": \"markers\", \"name\": \"mp7svl6j8s\", \"showlegend\": false, \"type\": \"scatter\", \"x\": [20.387034398459633], \"y\": [-6.1241113525]}, {\"legendgroup\": \"b5cgvsb16w\", \"marker\": {\"color\": -0.00017041125000005763, \"colorbar\": {\"thickness\": 10}, \"colorscale\": [[0.0, \"#440154\"], [0.1111111111111111, \"#482878\"], [0.2222222222222222, \"#3e4989\"], [0.3333333333333333, \"#31688e\"], [0.4444444444444444, \"#26828e\"], [0.5555555555555556, \"#1f9e89\"], [0.6666666666666666, \"#35b779\"], [0.7777777777777778, \"#6ece58\"], [0.8888888888888888, \"#b5de2b\"], [1.0, \"#fde725\"]], \"line\": {\"color\": \"MediumPurple\", \"width\": 1.0}, \"size\": 12, \"symbol\": \"diamond\"}, \"mode\": \"markers\", \"name\": \"b5cgvsb16w\", \"showlegend\": true, \"type\": \"scatter\", \"x\": [12.027832152721652], \"y\": [-6.456962203125]}, {\"legendgroup\": \"b5cgvsb16w\", \"marker\": {\"color\": -0.00017041125000005763, \"colorbar\": {\"thickness\": 10}, \"colorscale\": [[0.0, \"#440154\"], [0.1111111111111111, \"#482878\"], [0.2222222222222222, \"#3e4989\"], [0.3333333333333333, \"#31688e\"], [0.4444444444444444, \"#26828e\"], [0.5555555555555556, \"#1f9e89\"], [0.6666666666666666, \"#35b779\"], [0.7777777777777778, \"#6ece58\"], [0.8888888888888888, \"#b5de2b\"], [1.0, \"#fde725\"]], \"line\": {\"color\": \"MediumPurple\", \"width\": 1.0}, \"size\": 12, \"symbol\": \"circle\"}, \"mode\": \"markers\", \"name\": \"b5cgvsb16w\", \"showlegend\": false, \"type\": \"scatter\", \"x\": [12.024976223645643], \"y\": [-6.456791791875]}, {\"legendgroup\": \"xgmkzuxf8g\", \"marker\": {\"color\": -0.00018897555555597023, \"colorbar\": {\"thickness\": 10}, \"colorscale\": [[0.0, \"#440154\"], [0.1111111111111111, \"#482878\"], [0.2222222222222222, \"#3e4989\"], [0.3333333333333333, \"#31688e\"], [0.4444444444444444, \"#26828e\"], [0.5555555555555556, \"#1f9e89\"], [0.6666666666666666, \"#35b779\"], [0.7777777777777778, \"#6ece58\"], [0.8888888888888888, \"#b5de2b\"], [1.0, \"#fde725\"]], \"line\": {\"color\": \"MediumPurple\", \"width\": 1.0}, \"size\": 12, \"symbol\": \"diamond\"}, \"mode\": \"markers\", \"name\": \"xgmkzuxf8g\", \"showlegend\": true, \"type\": \"scatter\", \"x\": [13.81332501680083], \"y\": [-6.795048252777778]}, {\"legendgroup\": \"xgmkzuxf8g\", \"marker\": {\"color\": -0.00018897555555597023, \"colorbar\": {\"thickness\": 10}, \"colorscale\": [[0.0, \"#440154\"], [0.1111111111111111, \"#482878\"], [0.2222222222222222, \"#3e4989\"], [0.3333333333333333, \"#31688e\"], [0.4444444444444444, \"#26828e\"], [0.5555555555555556, \"#1f9e89\"], [0.6666666666666666, \"#35b779\"], [0.7777777777777778, \"#6ece58\"], [0.8888888888888888, \"#b5de2b\"], [1.0, \"#fde725\"]], \"line\": {\"color\": \"MediumPurple\", \"width\": 1.0}, \"size\": 12, \"symbol\": \"circle\"}, \"mode\": \"markers\", \"name\": \"xgmkzuxf8g\", \"showlegend\": false, \"type\": \"scatter\", \"x\": [14.191143413945264], \"y\": [-6.794859277222222]}, {\"legendgroup\": \"m4cacfvjvh\", \"marker\": {\"color\": -0.03243159104166704, \"colorbar\": {\"thickness\": 10}, \"colorscale\": [[0.0, \"#440154\"], [0.1111111111111111, \"#482878\"], [0.2222222222222222, \"#3e4989\"], [0.3333333333333333, \"#31688e\"], [0.4444444444444444, \"#26828e\"], [0.5555555555555556, \"#1f9e89\"], [0.6666666666666666, \"#35b779\"], [0.7777777777777778, \"#6ece58\"], [0.8888888888888888, \"#b5de2b\"], [1.0, \"#fde725\"]], \"line\": {\"color\": \"MediumPurple\", \"width\": 1.0}, \"size\": 12, \"symbol\": \"diamond\"}, \"mode\": \"markers\", \"name\": \"m4cacfvjvh\", \"showlegend\": true, \"type\": \"scatter\", \"x\": [13.098691572803448], \"y\": [-6.609411229583333]}, {\"legendgroup\": \"m4cacfvjvh\", \"marker\": {\"color\": -0.03243159104166704, \"colorbar\": {\"thickness\": 10}, \"colorscale\": [[0.0, \"#440154\"], [0.1111111111111111, \"#482878\"], [0.2222222222222222, \"#3e4989\"], [0.3333333333333333, \"#31688e\"], [0.4444444444444444, \"#26828e\"], [0.5555555555555556, \"#1f9e89\"], [0.6666666666666666, \"#35b779\"], [0.7777777777777778, \"#6ece58\"], [0.8888888888888888, \"#b5de2b\"], [1.0, \"#fde725\"]], \"line\": {\"color\": \"MediumPurple\", \"width\": 1.0}, \"size\": 12, \"symbol\": \"circle\"}, \"mode\": \"markers\", \"name\": \"m4cacfvjvh\", \"showlegend\": false, \"type\": \"scatter\", \"x\": [13.213666380360472], \"y\": [-6.576979638541666]}, {\"legendgroup\": \"8g6g9dv47g\", \"marker\": {\"color\": 0.010617411250000153, \"colorbar\": {\"thickness\": 10}, \"colorscale\": [[0.0, \"#440154\"], [0.1111111111111111, \"#482878\"], [0.2222222222222222, \"#3e4989\"], [0.3333333333333333, \"#31688e\"], [0.4444444444444444, \"#26828e\"], [0.5555555555555556, \"#1f9e89\"], [0.6666666666666666, \"#35b779\"], [0.7777777777777778, \"#6ece58\"], [0.8888888888888888, \"#b5de2b\"], [1.0, \"#fde725\"]], \"line\": {\"color\": \"MediumPurple\", \"width\": 1.0}, \"size\": 12, \"symbol\": \"diamond\"}, \"mode\": \"markers\", \"name\": \"8g6g9dv47g\", \"showlegend\": true, \"type\": \"scatter\", \"x\": [24.080919434317003], \"y\": [-6.12292283625]}, {\"legendgroup\": \"8g6g9dv47g\", \"marker\": {\"color\": 0.010617411250000153, \"colorbar\": {\"thickness\": 10}, \"colorscale\": [[0.0, \"#440154\"], [0.1111111111111111, \"#482878\"], [0.2222222222222222, \"#3e4989\"], [0.3333333333333333, \"#31688e\"], [0.4444444444444444, \"#26828e\"], [0.5555555555555556, \"#1f9e89\"], [0.6666666666666666, \"#35b779\"], [0.7777777777777778, \"#6ece58\"], [0.8888888888888888, \"#b5de2b\"], [1.0, \"#fde725\"]], \"line\": {\"color\": \"MediumPurple\", \"width\": 1.0}, \"size\": 12, \"symbol\": \"circle\"}, \"mode\": \"markers\", \"name\": \"8g6g9dv47g\", \"showlegend\": false, \"type\": \"scatter\", \"x\": [23.834723845693837], \"y\": [-6.1335402475]}, {\"legendgroup\": \"8gnt9rnd92\", \"marker\": {\"color\": -0.00034941312499991994, \"colorbar\": {\"thickness\": 10}, \"colorscale\": [[0.0, \"#440154\"], [0.1111111111111111, \"#482878\"], [0.2222222222222222, \"#3e4989\"], [0.3333333333333333, \"#31688e\"], [0.4444444444444444, \"#26828e\"], [0.5555555555555556, \"#1f9e89\"], [0.6666666666666666, \"#35b779\"], [0.7777777777777778, \"#6ece58\"], [0.8888888888888888, \"#b5de2b\"], [1.0, \"#fde725\"]], \"line\": {\"color\": \"MediumPurple\", \"width\": 1.0}, \"size\": 12, \"symbol\": \"diamond\"}, \"mode\": \"markers\", \"name\": \"8gnt9rnd92\", \"showlegend\": true, \"type\": \"scatter\", \"x\": [12.684583057733304], \"y\": [-6.353620888125]}, {\"legendgroup\": \"8gnt9rnd92\", \"marker\": {\"color\": -0.00034941312499991994, \"colorbar\": {\"thickness\": 10}, \"colorscale\": [[0.0, \"#440154\"], [0.1111111111111111, \"#482878\"], [0.2222222222222222, \"#3e4989\"], [0.3333333333333333, \"#31688e\"], [0.4444444444444444, \"#26828e\"], [0.5555555555555556, \"#1f9e89\"], [0.6666666666666666, \"#35b779\"], [0.7777777777777778, \"#6ece58\"], [0.8888888888888888, \"#b5de2b\"], [1.0, \"#fde725\"]], \"line\": {\"color\": \"MediumPurple\", \"width\": 1.0}, \"size\": 12, \"symbol\": \"circle\"}, \"mode\": \"markers\", \"name\": \"8gnt9rnd92\", \"showlegend\": false, \"type\": \"scatter\", \"x\": [12.67717922598353], \"y\": [-6.353271475]}, {\"legendgroup\": \"8495vjvsc3\", \"marker\": {\"color\": 0.3051127911111111, \"colorbar\": {\"thickness\": 10}, \"colorscale\": [[0.0, \"#440154\"], [0.1111111111111111, \"#482878\"], [0.2222222222222222, \"#3e4989\"], [0.3333333333333333, \"#31688e\"], [0.4444444444444444, \"#26828e\"], [0.5555555555555556, \"#1f9e89\"], [0.6666666666666666, \"#35b779\"], [0.7777777777777778, \"#6ece58\"], [0.8888888888888888, \"#b5de2b\"], [1.0, \"#fde725\"]], \"line\": {\"color\": \"MediumPurple\", \"width\": 1.0}, \"size\": 12, \"symbol\": \"diamond\"}, \"mode\": \"markers\", \"name\": \"8495vjvsc3\", \"showlegend\": true, \"type\": \"scatter\", \"x\": [11.961844393965109], \"y\": [-6.263938788888889]}, {\"legendgroup\": \"8495vjvsc3\", \"marker\": {\"color\": 0.3051127911111111, \"colorbar\": {\"thickness\": 10}, \"colorscale\": [[0.0, \"#440154\"], [0.1111111111111111, \"#482878\"], [0.2222222222222222, \"#3e4989\"], [0.3333333333333333, \"#31688e\"], [0.4444444444444444, \"#26828e\"], [0.5555555555555556, \"#1f9e89\"], [0.6666666666666666, \"#35b779\"], [0.7777777777777778, \"#6ece58\"], [0.8888888888888888, \"#b5de2b\"], [1.0, \"#fde725\"]], \"line\": {\"color\": \"MediumPurple\", \"width\": 1.0}, \"size\": 12, \"symbol\": \"circle\"}, \"mode\": \"markers\", \"name\": \"8495vjvsc3\", \"showlegend\": false, \"type\": \"scatter\", \"x\": [13.211100053769378], \"y\": [-6.56905158]}, {\"legendgroup\": \"cfcivdxrc2\", \"marker\": {\"color\": -0.00027953333333208263, \"colorbar\": {\"thickness\": 10}, \"colorscale\": [[0.0, \"#440154\"], [0.1111111111111111, \"#482878\"], [0.2222222222222222, \"#3e4989\"], [0.3333333333333333, \"#31688e\"], [0.4444444444444444, \"#26828e\"], [0.5555555555555556, \"#1f9e89\"], [0.6666666666666666, \"#35b779\"], [0.7777777777777778, \"#6ece58\"], [0.8888888888888888, \"#b5de2b\"], [1.0, \"#fde725\"]], \"line\": {\"color\": \"MediumPurple\", \"width\": 1.0}, \"size\": 12, \"symbol\": \"diamond\"}, \"mode\": \"markers\", \"name\": \"cfcivdxrc2\", \"showlegend\": true, \"type\": \"scatter\", \"x\": [10.950427347921467], \"y\": [-7.0454485333333325]}, {\"legendgroup\": \"cfcivdxrc2\", \"marker\": {\"color\": -0.00027953333333208263, \"colorbar\": {\"thickness\": 10}, \"colorscale\": [[0.0, \"#440154\"], [0.1111111111111111, \"#482878\"], [0.2222222222222222, \"#3e4989\"], [0.3333333333333333, \"#31688e\"], [0.4444444444444444, \"#26828e\"], [0.5555555555555556, \"#1f9e89\"], [0.6666666666666666, \"#35b779\"], [0.7777777777777778, \"#6ece58\"], [0.8888888888888888, \"#b5de2b\"], [1.0, \"#fde725\"]], \"line\": {\"color\": \"MediumPurple\", \"width\": 1.0}, \"size\": 12, \"symbol\": \"circle\"}, \"mode\": \"markers\", \"name\": \"cfcivdxrc2\", \"showlegend\": false, \"type\": \"scatter\", \"x\": [10.953383870966732], \"y\": [-7.0451690000000005]}, {\"legendgroup\": \"9uxemw7rv2\", \"marker\": {\"color\": -0.015544017708332802, \"colorbar\": {\"thickness\": 10}, \"colorscale\": [[0.0, \"#440154\"], [0.1111111111111111, \"#482878\"], [0.2222222222222222, \"#3e4989\"], [0.3333333333333333, \"#31688e\"], [0.4444444444444444, \"#26828e\"], [0.5555555555555556, \"#1f9e89\"], [0.6666666666666666, \"#35b779\"], [0.7777777777777778, \"#6ece58\"], [0.8888888888888888, \"#b5de2b\"], [1.0, \"#fde725\"]], \"line\": {\"color\": \"MediumPurple\", \"width\": 1.0}, \"size\": 12, \"symbol\": \"diamond\"}, \"mode\": \"markers\", \"name\": \"9uxemw7rv2\", \"showlegend\": true, \"type\": \"scatter\", \"x\": [12.881048561171667], \"y\": [-6.6260351122916665]}, {\"legendgroup\": \"9uxemw7rv2\", \"marker\": {\"color\": -0.015544017708332802, \"colorbar\": {\"thickness\": 10}, \"colorscale\": [[0.0, \"#440154\"], [0.1111111111111111, \"#482878\"], [0.2222222222222222, \"#3e4989\"], [0.3333333333333333, \"#31688e\"], [0.4444444444444444, \"#26828e\"], [0.5555555555555556, \"#1f9e89\"], [0.6666666666666666, \"#35b779\"], [0.7777777777777778, \"#6ece58\"], [0.8888888888888888, \"#b5de2b\"], [1.0, \"#fde725\"]], \"line\": {\"color\": \"MediumPurple\", \"width\": 1.0}, \"size\": 12, \"symbol\": \"circle\"}, \"mode\": \"markers\", \"name\": \"9uxemw7rv2\", \"showlegend\": false, \"type\": \"scatter\", \"x\": [13.04761373118491], \"y\": [-6.610491094583334]}, {\"legendgroup\": \"cant6qca6o\", \"marker\": {\"color\": 0.03286068333333336, \"colorbar\": {\"thickness\": 10}, \"colorscale\": [[0.0, \"#440154\"], [0.1111111111111111, \"#482878\"], [0.2222222222222222, \"#3e4989\"], [0.3333333333333333, \"#31688e\"], [0.4444444444444444, \"#26828e\"], [0.5555555555555556, \"#1f9e89\"], [0.6666666666666666, \"#35b779\"], [0.7777777777777778, \"#6ece58\"], [0.8888888888888888, \"#b5de2b\"], [1.0, \"#fde725\"]], \"line\": {\"color\": \"MediumPurple\", \"width\": 1.0}, \"size\": 12, \"symbol\": \"diamond\"}, \"mode\": \"markers\", \"name\": \"cant6qca6o\", \"showlegend\": true, \"type\": \"scatter\", \"x\": [20.641102700262326], \"y\": [-6.408366933333333]}, {\"legendgroup\": \"cant6qca6o\", \"marker\": {\"color\": 0.03286068333333336, \"colorbar\": {\"thickness\": 10}, \"colorscale\": [[0.0, \"#440154\"], [0.1111111111111111, \"#482878\"], [0.2222222222222222, \"#3e4989\"], [0.3333333333333333, \"#31688e\"], [0.4444444444444444, \"#26828e\"], [0.5555555555555556, \"#1f9e89\"], [0.6666666666666666, \"#35b779\"], [0.7777777777777778, \"#6ece58\"], [0.8888888888888888, \"#b5de2b\"], [1.0, \"#fde725\"]], \"line\": {\"color\": \"MediumPurple\", \"width\": 1.0}, \"size\": 12, \"symbol\": \"circle\"}, \"mode\": \"markers\", \"name\": \"cant6qca6o\", \"showlegend\": false, \"type\": \"scatter\", \"x\": [20.017121864934797], \"y\": [-6.441227616666667]}, {\"legendgroup\": \"9ivycocdvw\", \"marker\": {\"color\": 3.0566666673337295e-06, \"colorbar\": {\"thickness\": 10}, \"colorscale\": [[0.0, \"#440154\"], [0.1111111111111111, \"#482878\"], [0.2222222222222222, \"#3e4989\"], [0.3333333333333333, \"#31688e\"], [0.4444444444444444, \"#26828e\"], [0.5555555555555556, \"#1f9e89\"], [0.6666666666666666, \"#35b779\"], [0.7777777777777778, \"#6ece58\"], [0.8888888888888888, \"#b5de2b\"], [1.0, \"#fde725\"]], \"line\": {\"color\": \"MediumPurple\", \"width\": 1.0}, \"size\": 12, \"symbol\": \"diamond\"}, \"mode\": \"markers\", \"name\": \"9ivycocdvw\", \"showlegend\": true, \"type\": \"scatter\", \"x\": [18.21647475632034], \"y\": [-6.48903900625]}, {\"legendgroup\": \"9ivycocdvw\", \"marker\": {\"color\": 3.0566666673337295e-06, \"colorbar\": {\"thickness\": 10}, \"colorscale\": [[0.0, \"#440154\"], [0.1111111111111111, \"#482878\"], [0.2222222222222222, \"#3e4989\"], [0.3333333333333333, \"#31688e\"], [0.4444444444444444, \"#26828e\"], [0.5555555555555556, \"#1f9e89\"], [0.6666666666666666, \"#35b779\"], [0.7777777777777778, \"#6ece58\"], [0.8888888888888888, \"#b5de2b\"], [1.0, \"#fde725\"]], \"line\": {\"color\": \"MediumPurple\", \"width\": 1.0}, \"size\": 12, \"symbol\": \"circle\"}, \"mode\": \"markers\", \"name\": \"9ivycocdvw\", \"showlegend\": false, \"type\": \"scatter\", \"x\": [18.21114373036146], \"y\": [-6.489042062916667]}, {\"legendgroup\": \"8aza84xlvs\", \"marker\": {\"color\": -0.0015520327777789333, \"colorbar\": {\"thickness\": 10}, \"colorscale\": [[0.0, \"#440154\"], [0.1111111111111111, \"#482878\"], [0.2222222222222222, \"#3e4989\"], [0.3333333333333333, \"#31688e\"], [0.4444444444444444, \"#26828e\"], [0.5555555555555556, \"#1f9e89\"], [0.6666666666666666, \"#35b779\"], [0.7777777777777778, \"#6ece58\"], [0.8888888888888888, \"#b5de2b\"], [1.0, \"#fde725\"]], \"line\": {\"color\": \"MediumPurple\", \"width\": 1.0}, \"size\": 12, \"symbol\": \"diamond\"}, \"mode\": \"markers\", \"name\": \"8aza84xlvs\", \"showlegend\": true, \"type\": \"scatter\", \"x\": [14.034391831423996], \"y\": [-6.807219115555556]}, {\"legendgroup\": \"8aza84xlvs\", \"marker\": {\"color\": -0.0015520327777789333, \"colorbar\": {\"thickness\": 10}, \"colorscale\": [[0.0, \"#440154\"], [0.1111111111111111, \"#482878\"], [0.2222222222222222, \"#3e4989\"], [0.3333333333333333, \"#31688e\"], [0.4444444444444444, \"#26828e\"], [0.5555555555555556, \"#1f9e89\"], [0.6666666666666666, \"#35b779\"], [0.7777777777777778, \"#6ece58\"], [0.8888888888888888, \"#b5de2b\"], [1.0, \"#fde725\"]], \"line\": {\"color\": \"MediumPurple\", \"width\": 1.0}, \"size\": 12, \"symbol\": \"circle\"}, \"mode\": \"markers\", \"name\": \"8aza84xlvs\", \"showlegend\": false, \"type\": \"scatter\", \"x\": [14.07513584197149], \"y\": [-6.805667082777777]}, {\"legendgroup\": \"6fzy7kcrxy\", \"marker\": {\"color\": -0.0005203966666673665, \"colorbar\": {\"thickness\": 10}, \"colorscale\": [[0.0, \"#440154\"], [0.1111111111111111, \"#482878\"], [0.2222222222222222, \"#3e4989\"], [0.3333333333333333, \"#31688e\"], [0.4444444444444444, \"#26828e\"], [0.5555555555555556, \"#1f9e89\"], [0.6666666666666666, \"#35b779\"], [0.7777777777777778, \"#6ece58\"], [0.8888888888888888, \"#b5de2b\"], [1.0, \"#fde725\"]], \"line\": {\"color\": \"MediumPurple\", \"width\": 1.0}, \"size\": 12, \"symbol\": \"diamond\"}, \"mode\": \"markers\", \"name\": \"6fzy7kcrxy\", \"showlegend\": true, \"type\": \"scatter\", \"x\": [11.060233379224897], \"y\": [-5.6724562025]}, {\"legendgroup\": \"6fzy7kcrxy\", \"marker\": {\"color\": -0.0005203966666673665, \"colorbar\": {\"thickness\": 10}, \"colorscale\": [[0.0, \"#440154\"], [0.1111111111111111, \"#482878\"], [0.2222222222222222, \"#3e4989\"], [0.3333333333333333, \"#31688e\"], [0.4444444444444444, \"#26828e\"], [0.5555555555555556, \"#1f9e89\"], [0.6666666666666666, \"#35b779\"], [0.7777777777777778, \"#6ece58\"], [0.8888888888888888, \"#b5de2b\"], [1.0, \"#fde725\"]], \"line\": {\"color\": \"MediumPurple\", \"width\": 1.0}, \"size\": 12, \"symbol\": \"circle\"}, \"mode\": \"markers\", \"name\": \"6fzy7kcrxy\", \"showlegend\": false, \"type\": \"scatter\", \"x\": [11.062013155071128], \"y\": [-5.671935805833333]}, {\"legendgroup\": \"macixavwv3\", \"marker\": {\"color\": -0.00013688604166617324, \"colorbar\": {\"thickness\": 10}, \"colorscale\": [[0.0, \"#440154\"], [0.1111111111111111, \"#482878\"], [0.2222222222222222, \"#3e4989\"], [0.3333333333333333, \"#31688e\"], [0.4444444444444444, \"#26828e\"], [0.5555555555555556, \"#1f9e89\"], [0.6666666666666666, \"#35b779\"], [0.7777777777777778, \"#6ece58\"], [0.8888888888888888, \"#b5de2b\"], [1.0, \"#fde725\"]], \"line\": {\"color\": \"MediumPurple\", \"width\": 1.0}, \"size\": 12, \"symbol\": \"diamond\"}, \"mode\": \"markers\", \"name\": \"macixavwv3\", \"showlegend\": true, \"type\": \"scatter\", \"x\": [11.122250259344606], \"y\": [-6.4690128810416665]}, {\"legendgroup\": \"macixavwv3\", \"marker\": {\"color\": -0.00013688604166617324, \"colorbar\": {\"thickness\": 10}, \"colorscale\": [[0.0, \"#440154\"], [0.1111111111111111, \"#482878\"], [0.2222222222222222, \"#3e4989\"], [0.3333333333333333, \"#31688e\"], [0.4444444444444444, \"#26828e\"], [0.5555555555555556, \"#1f9e89\"], [0.6666666666666666, \"#35b779\"], [0.7777777777777778, \"#6ece58\"], [0.8888888888888888, \"#b5de2b\"], [1.0, \"#fde725\"]], \"line\": {\"color\": \"MediumPurple\", \"width\": 1.0}, \"size\": 12, \"symbol\": \"circle\"}, \"mode\": \"markers\", \"name\": \"macixavwv3\", \"showlegend\": false, \"type\": \"scatter\", \"x\": [11.121115622322703], \"y\": [-6.468875995]}, {\"legendgroup\": \"zu6lnfze71\", \"marker\": {\"color\": -0.00047742916666670965, \"colorbar\": {\"thickness\": 10}, \"colorscale\": [[0.0, \"#440154\"], [0.1111111111111111, \"#482878\"], [0.2222222222222222, \"#3e4989\"], [0.3333333333333333, \"#31688e\"], [0.4444444444444444, \"#26828e\"], [0.5555555555555556, \"#1f9e89\"], [0.6666666666666666, \"#35b779\"], [0.7777777777777778, \"#6ece58\"], [0.8888888888888888, \"#b5de2b\"], [1.0, \"#fde725\"]], \"line\": {\"color\": \"MediumPurple\", \"width\": 1.0}, \"size\": 12, \"symbol\": \"diamond\"}, \"mode\": \"markers\", \"name\": \"zu6lnfze71\", \"showlegend\": true, \"type\": \"scatter\", \"x\": [12.823831111458004], \"y\": [-5.948860956666667]}, {\"legendgroup\": \"zu6lnfze71\", \"marker\": {\"color\": -0.00047742916666670965, \"colorbar\": {\"thickness\": 10}, \"colorscale\": [[0.0, \"#440154\"], [0.1111111111111111, \"#482878\"], [0.2222222222222222, \"#3e4989\"], [0.3333333333333333, \"#31688e\"], [0.4444444444444444, \"#26828e\"], [0.5555555555555556, \"#1f9e89\"], [0.6666666666666666, \"#35b779\"], [0.7777777777777778, \"#6ece58\"], [0.8888888888888888, \"#b5de2b\"], [1.0, \"#fde725\"]], \"line\": {\"color\": \"MediumPurple\", \"width\": 1.0}, \"size\": 12, \"symbol\": \"circle\"}, \"mode\": \"markers\", \"name\": \"zu6lnfze71\", \"showlegend\": false, \"type\": \"scatter\", \"x\": [12.825934062791243], \"y\": [-5.9483835275]}, {\"legendgroup\": \"ni6svhmw74\", \"marker\": {\"color\": -0.00020497513888972918, \"colorbar\": {\"thickness\": 10}, \"colorscale\": [[0.0, \"#440154\"], [0.1111111111111111, \"#482878\"], [0.2222222222222222, \"#3e4989\"], [0.3333333333333333, \"#31688e\"], [0.4444444444444444, \"#26828e\"], [0.5555555555555556, \"#1f9e89\"], [0.6666666666666666, \"#35b779\"], [0.7777777777777778, \"#6ece58\"], [0.8888888888888888, \"#b5de2b\"], [1.0, \"#fde725\"]], \"line\": {\"color\": \"MediumPurple\", \"width\": 1.0}, \"size\": 12, \"symbol\": \"diamond\"}, \"mode\": \"markers\", \"name\": \"ni6svhmw74\", \"showlegend\": true, \"type\": \"scatter\", \"x\": [25.463998406392882], \"y\": [-6.345803830555556]}, {\"legendgroup\": \"ni6svhmw74\", \"marker\": {\"color\": -0.00020497513888972918, \"colorbar\": {\"thickness\": 10}, \"colorscale\": [[0.0, \"#440154\"], [0.1111111111111111, \"#482878\"], [0.2222222222222222, \"#3e4989\"], [0.3333333333333333, \"#31688e\"], [0.4444444444444444, \"#26828e\"], [0.5555555555555556, \"#1f9e89\"], [0.6666666666666666, \"#35b779\"], [0.7777777777777778, \"#6ece58\"], [0.8888888888888888, \"#b5de2b\"], [1.0, \"#fde725\"]], \"line\": {\"color\": \"MediumPurple\", \"width\": 1.0}, \"size\": 12, \"symbol\": \"circle\"}, \"mode\": \"markers\", \"name\": \"ni6svhmw74\", \"showlegend\": false, \"type\": \"scatter\", \"x\": [25.46458095035551], \"y\": [-6.345598855416666]}, {\"legendgroup\": \"vl6uvqne6d\", \"marker\": {\"color\": -0.0009726447916671432, \"colorbar\": {\"thickness\": 10}, \"colorscale\": [[0.0, \"#440154\"], [0.1111111111111111, \"#482878\"], [0.2222222222222222, \"#3e4989\"], [0.3333333333333333, \"#31688e\"], [0.4444444444444444, \"#26828e\"], [0.5555555555555556, \"#1f9e89\"], [0.6666666666666666, \"#35b779\"], [0.7777777777777778, \"#6ece58\"], [0.8888888888888888, \"#b5de2b\"], [1.0, \"#fde725\"]], \"line\": {\"color\": \"MediumPurple\", \"width\": 1.0}, \"size\": 12, \"symbol\": \"diamond\"}, \"mode\": \"markers\", \"name\": \"vl6uvqne6d\", \"showlegend\": true, \"type\": \"scatter\", \"x\": [13.039006309027805], \"y\": [-6.604252169166667]}, {\"legendgroup\": \"vl6uvqne6d\", \"marker\": {\"color\": -0.0009726447916671432, \"colorbar\": {\"thickness\": 10}, \"colorscale\": [[0.0, \"#440154\"], [0.1111111111111111, \"#482878\"], [0.2222222222222222, \"#3e4989\"], [0.3333333333333333, \"#31688e\"], [0.4444444444444444, \"#26828e\"], [0.5555555555555556, \"#1f9e89\"], [0.6666666666666666, \"#35b779\"], [0.7777777777777778, \"#6ece58\"], [0.8888888888888888, \"#b5de2b\"], [1.0, \"#fde725\"]], \"line\": {\"color\": \"MediumPurple\", \"width\": 1.0}, \"size\": 12, \"symbol\": \"circle\"}, \"mode\": \"markers\", \"name\": \"vl6uvqne6d\", \"showlegend\": false, \"type\": \"scatter\", \"x\": [13.050842731152235], \"y\": [-6.603279524375]}, {\"legendgroup\": \"nrml6dms9l\", \"marker\": {\"color\": -0.0016040903125000838, \"colorbar\": {\"thickness\": 10}, \"colorscale\": [[0.0, \"#440154\"], [0.1111111111111111, \"#482878\"], [0.2222222222222222, \"#3e4989\"], [0.3333333333333333, \"#31688e\"], [0.4444444444444444, \"#26828e\"], [0.5555555555555556, \"#1f9e89\"], [0.6666666666666666, \"#35b779\"], [0.7777777777777778, \"#6ece58\"], [0.8888888888888888, \"#b5de2b\"], [1.0, \"#fde725\"]], \"line\": {\"color\": \"MediumPurple\", \"width\": 1.0}, \"size\": 12, \"symbol\": \"diamond\"}, \"mode\": \"markers\", \"name\": \"nrml6dms9l\", \"showlegend\": true, \"type\": \"scatter\", \"x\": [11.889852104182722], \"y\": [-6.37289985125]}, {\"legendgroup\": \"nrml6dms9l\", \"marker\": {\"color\": -0.0016040903125000838, \"colorbar\": {\"thickness\": 10}, \"colorscale\": [[0.0, \"#440154\"], [0.1111111111111111, \"#482878\"], [0.2222222222222222, \"#3e4989\"], [0.3333333333333333, \"#31688e\"], [0.4444444444444444, \"#26828e\"], [0.5555555555555556, \"#1f9e89\"], [0.6666666666666666, \"#35b779\"], [0.7777777777777778, \"#6ece58\"], [0.8888888888888888, \"#b5de2b\"], [1.0, \"#fde725\"]], \"line\": {\"color\": \"MediumPurple\", \"width\": 1.0}, \"size\": 12, \"symbol\": \"circle\"}, \"mode\": \"markers\", \"name\": \"nrml6dms9l\", \"showlegend\": false, \"type\": \"scatter\", \"x\": [11.744742461303936], \"y\": [-6.3712957609375]}, {\"legendgroup\": \"vhv39q6e9j\", \"marker\": {\"color\": -2.1526458222222224, \"colorbar\": {\"thickness\": 10}, \"colorscale\": [[0.0, \"#440154\"], [0.1111111111111111, \"#482878\"], [0.2222222222222222, \"#3e4989\"], [0.3333333333333333, \"#31688e\"], [0.4444444444444444, \"#26828e\"], [0.5555555555555556, \"#1f9e89\"], [0.6666666666666666, \"#35b779\"], [0.7777777777777778, \"#6ece58\"], [0.8888888888888888, \"#b5de2b\"], [1.0, \"#fde725\"]], \"line\": {\"color\": \"MediumPurple\", \"width\": 1.0}, \"size\": 12, \"symbol\": \"diamond\"}, \"mode\": \"markers\", \"name\": \"vhv39q6e9j\", \"showlegend\": true, \"type\": \"scatter\", \"x\": [11.373463572688967], \"y\": [-6.392222053333334]}, {\"legendgroup\": \"vhv39q6e9j\", \"marker\": {\"color\": -2.1526458222222224, \"colorbar\": {\"thickness\": 10}, \"colorscale\": [[0.0, \"#440154\"], [0.1111111111111111, \"#482878\"], [0.2222222222222222, \"#3e4989\"], [0.3333333333333333, \"#31688e\"], [0.4444444444444444, \"#26828e\"], [0.5555555555555556, \"#1f9e89\"], [0.6666666666666666, \"#35b779\"], [0.7777777777777778, \"#6ece58\"], [0.8888888888888888, \"#b5de2b\"], [1.0, \"#fde725\"]], \"line\": {\"color\": \"MediumPurple\", \"width\": 1.0}, \"size\": 12, \"symbol\": \"circle\"}, \"mode\": \"markers\", \"name\": \"vhv39q6e9j\", \"showlegend\": false, \"type\": \"scatter\", \"x\": [6.741221975121517], \"y\": [-4.239576231111111]}, {\"legendgroup\": \"91746y6g6i\", \"marker\": {\"color\": -0.00028109458333247517, \"colorbar\": {\"thickness\": 10}, \"colorscale\": [[0.0, \"#440154\"], [0.1111111111111111, \"#482878\"], [0.2222222222222222, \"#3e4989\"], [0.3333333333333333, \"#31688e\"], [0.4444444444444444, \"#26828e\"], [0.5555555555555556, \"#1f9e89\"], [0.6666666666666666, \"#35b779\"], [0.7777777777777778, \"#6ece58\"], [0.8888888888888888, \"#b5de2b\"], [1.0, \"#fde725\"]], \"line\": {\"color\": \"MediumPurple\", \"width\": 1.0}, \"size\": 12, \"symbol\": \"diamond\"}, \"mode\": \"markers\", \"name\": \"91746y6g6i\", \"showlegend\": true, \"type\": \"scatter\", \"x\": [14.523681548760642], \"y\": [-6.75891042625]}, {\"legendgroup\": \"91746y6g6i\", \"marker\": {\"color\": -0.00028109458333247517, \"colorbar\": {\"thickness\": 10}, \"colorscale\": [[0.0, \"#440154\"], [0.1111111111111111, \"#482878\"], [0.2222222222222222, \"#3e4989\"], [0.3333333333333333, \"#31688e\"], [0.4444444444444444, \"#26828e\"], [0.5555555555555556, \"#1f9e89\"], [0.6666666666666666, \"#35b779\"], [0.7777777777777778, \"#6ece58\"], [0.8888888888888888, \"#b5de2b\"], [1.0, \"#fde725\"]], \"line\": {\"color\": \"MediumPurple\", \"width\": 1.0}, \"size\": 12, \"symbol\": \"circle\"}, \"mode\": \"markers\", \"name\": \"91746y6g6i\", \"showlegend\": false, \"type\": \"scatter\", \"x\": [14.522419214660564], \"y\": [-6.7586293316666675]}, {\"legendgroup\": \"6w7ezj7gml\", \"marker\": {\"color\": -0.0004607072916664734, \"colorbar\": {\"thickness\": 10}, \"colorscale\": [[0.0, \"#440154\"], [0.1111111111111111, \"#482878\"], [0.2222222222222222, \"#3e4989\"], [0.3333333333333333, \"#31688e\"], [0.4444444444444444, \"#26828e\"], [0.5555555555555556, \"#1f9e89\"], [0.6666666666666666, \"#35b779\"], [0.7777777777777778, \"#6ece58\"], [0.8888888888888888, \"#b5de2b\"], [1.0, \"#fde725\"]], \"line\": {\"color\": \"MediumPurple\", \"width\": 1.0}, \"size\": 12, \"symbol\": \"diamond\"}, \"mode\": \"markers\", \"name\": \"6w7ezj7gml\", \"showlegend\": true, \"type\": \"scatter\", \"x\": [14.490306588307368], \"y\": [-6.758501716458333]}, {\"legendgroup\": \"6w7ezj7gml\", \"marker\": {\"color\": -0.0004607072916664734, \"colorbar\": {\"thickness\": 10}, \"colorscale\": [[0.0, \"#440154\"], [0.1111111111111111, \"#482878\"], [0.2222222222222222, \"#3e4989\"], [0.3333333333333333, \"#31688e\"], [0.4444444444444444, \"#26828e\"], [0.5555555555555556, \"#1f9e89\"], [0.6666666666666666, \"#35b779\"], [0.7777777777777778, \"#6ece58\"], [0.8888888888888888, \"#b5de2b\"], [1.0, \"#fde725\"]], \"line\": {\"color\": \"MediumPurple\", \"width\": 1.0}, \"size\": 12, \"symbol\": \"circle\"}, \"mode\": \"markers\", \"name\": \"6w7ezj7gml\", \"showlegend\": false, \"type\": \"scatter\", \"x\": [14.496833023906213], \"y\": [-6.758041009166667]}, {\"legendgroup\": \"v1vpxgbg9s\", \"marker\": {\"color\": 0.014811614000000972, \"colorbar\": {\"thickness\": 10}, \"colorscale\": [[0.0, \"#440154\"], [0.1111111111111111, \"#482878\"], [0.2222222222222222, \"#3e4989\"], [0.3333333333333333, \"#31688e\"], [0.4444444444444444, \"#26828e\"], [0.5555555555555556, \"#1f9e89\"], [0.6666666666666666, \"#35b779\"], [0.7777777777777778, \"#6ece58\"], [0.8888888888888888, \"#b5de2b\"], [1.0, \"#fde725\"]], \"line\": {\"color\": \"MediumPurple\", \"width\": 1.0}, \"size\": 12, \"symbol\": \"diamond\"}, \"mode\": \"markers\", \"name\": \"v1vpxgbg9s\", \"showlegend\": true, \"type\": \"scatter\", \"x\": [11.697597710566937], \"y\": [-6.634798865]}, {\"legendgroup\": \"v1vpxgbg9s\", \"marker\": {\"color\": 0.014811614000000972, \"colorbar\": {\"thickness\": 10}, \"colorscale\": [[0.0, \"#440154\"], [0.1111111111111111, \"#482878\"], [0.2222222222222222, \"#3e4989\"], [0.3333333333333333, \"#31688e\"], [0.4444444444444444, \"#26828e\"], [0.5555555555555556, \"#1f9e89\"], [0.6666666666666666, \"#35b779\"], [0.7777777777777778, \"#6ece58\"], [0.8888888888888888, \"#b5de2b\"], [1.0, \"#fde725\"]], \"line\": {\"color\": \"MediumPurple\", \"width\": 1.0}, \"size\": 12, \"symbol\": \"circle\"}, \"mode\": \"markers\", \"name\": \"v1vpxgbg9s\", \"showlegend\": false, \"type\": \"scatter\", \"x\": [10.183930020401514], \"y\": [-6.649610479000001]}, {\"legendgroup\": \"bp7ynac4my\", \"marker\": {\"color\": -0.007166957037036958, \"colorbar\": {\"thickness\": 10}, \"colorscale\": [[0.0, \"#440154\"], [0.1111111111111111, \"#482878\"], [0.2222222222222222, \"#3e4989\"], [0.3333333333333333, \"#31688e\"], [0.4444444444444444, \"#26828e\"], [0.5555555555555556, \"#1f9e89\"], [0.6666666666666666, \"#35b779\"], [0.7777777777777778, \"#6ece58\"], [0.8888888888888888, \"#b5de2b\"], [1.0, \"#fde725\"]], \"line\": {\"color\": \"MediumPurple\", \"width\": 1.0}, \"size\": 12, \"symbol\": \"diamond\"}, \"mode\": \"markers\", \"name\": \"bp7ynac4my\", \"showlegend\": true, \"type\": \"scatter\", \"x\": [13.152716970010935], \"y\": [-6.643014765740741]}, {\"legendgroup\": \"bp7ynac4my\", \"marker\": {\"color\": -0.007166957037036958, \"colorbar\": {\"thickness\": 10}, \"colorscale\": [[0.0, \"#440154\"], [0.1111111111111111, \"#482878\"], [0.2222222222222222, \"#3e4989\"], [0.3333333333333333, \"#31688e\"], [0.4444444444444444, \"#26828e\"], [0.5555555555555556, \"#1f9e89\"], [0.6666666666666666, \"#35b779\"], [0.7777777777777778, \"#6ece58\"], [0.8888888888888888, \"#b5de2b\"], [1.0, \"#fde725\"]], \"line\": {\"color\": \"MediumPurple\", \"width\": 1.0}, \"size\": 12, \"symbol\": \"circle\"}, \"mode\": \"markers\", \"name\": \"bp7ynac4my\", \"showlegend\": false, \"type\": \"scatter\", \"x\": [13.91037265676984], \"y\": [-6.635847808703704]}, {\"legendgroup\": \"nkmd71vt9q\", \"marker\": {\"color\": 0.08218421499999984, \"colorbar\": {\"thickness\": 10}, \"colorscale\": [[0.0, \"#440154\"], [0.1111111111111111, \"#482878\"], [0.2222222222222222, \"#3e4989\"], [0.3333333333333333, \"#31688e\"], [0.4444444444444444, \"#26828e\"], [0.5555555555555556, \"#1f9e89\"], [0.6666666666666666, \"#35b779\"], [0.7777777777777778, \"#6ece58\"], [0.8888888888888888, \"#b5de2b\"], [1.0, \"#fde725\"]], \"line\": {\"color\": \"MediumPurple\", \"width\": 1.0}, \"size\": 12, \"symbol\": \"diamond\"}, \"mode\": \"markers\", \"name\": \"nkmd71vt9q\", \"showlegend\": true, \"type\": \"scatter\", \"x\": [13.198958159424427], \"y\": [-5.85307799]}, {\"legendgroup\": \"nkmd71vt9q\", \"marker\": {\"color\": 0.08218421499999984, \"colorbar\": {\"thickness\": 10}, \"colorscale\": [[0.0, \"#440154\"], [0.1111111111111111, \"#482878\"], [0.2222222222222222, \"#3e4989\"], [0.3333333333333333, \"#31688e\"], [0.4444444444444444, \"#26828e\"], [0.5555555555555556, \"#1f9e89\"], [0.6666666666666666, \"#35b779\"], [0.7777777777777778, \"#6ece58\"], [0.8888888888888888, \"#b5de2b\"], [1.0, \"#fde725\"]], \"line\": {\"color\": \"MediumPurple\", \"width\": 1.0}, \"size\": 12, \"symbol\": \"circle\"}, \"mode\": \"markers\", \"name\": \"nkmd71vt9q\", \"showlegend\": false, \"type\": \"scatter\", \"x\": [15.813092072159016], \"y\": [-5.935262205]}, {\"legendgroup\": \"zunqxh6g9j\", \"marker\": {\"color\": -0.17358346566666683, \"colorbar\": {\"thickness\": 10}, \"colorscale\": [[0.0, \"#440154\"], [0.1111111111111111, \"#482878\"], [0.2222222222222222, \"#3e4989\"], [0.3333333333333333, \"#31688e\"], [0.4444444444444444, \"#26828e\"], [0.5555555555555556, \"#1f9e89\"], [0.6666666666666666, \"#35b779\"], [0.7777777777777778, \"#6ece58\"], [0.8888888888888888, \"#b5de2b\"], [1.0, \"#fde725\"]], \"line\": {\"color\": \"MediumPurple\", \"width\": 1.0}, \"size\": 12, \"symbol\": \"diamond\"}, \"mode\": \"markers\", \"name\": \"zunqxh6g9j\", \"showlegend\": true, \"type\": \"scatter\", \"x\": [14.11074641611981], \"y\": [-6.812768990333334]}, {\"legendgroup\": \"zunqxh6g9j\", \"marker\": {\"color\": -0.17358346566666683, \"colorbar\": {\"thickness\": 10}, \"colorscale\": [[0.0, \"#440154\"], [0.1111111111111111, \"#482878\"], [0.2222222222222222, \"#3e4989\"], [0.3333333333333333, \"#31688e\"], [0.4444444444444444, \"#26828e\"], [0.5555555555555556, \"#1f9e89\"], [0.6666666666666666, \"#35b779\"], [0.7777777777777778, \"#6ece58\"], [0.8888888888888888, \"#b5de2b\"], [1.0, \"#fde725\"]], \"line\": {\"color\": \"MediumPurple\", \"width\": 1.0}, \"size\": 12, \"symbol\": \"circle\"}, \"mode\": \"markers\", \"name\": \"zunqxh6g9j\", \"showlegend\": false, \"type\": \"scatter\", \"x\": [10.561043040789468], \"y\": [-6.639185524666667]}, {\"legendgroup\": \"9y85x1cp6e\", \"marker\": {\"color\": 0.0017384462499991926, \"colorbar\": {\"thickness\": 10}, \"colorscale\": [[0.0, \"#440154\"], [0.1111111111111111, \"#482878\"], [0.2222222222222222, \"#3e4989\"], [0.3333333333333333, \"#31688e\"], [0.4444444444444444, \"#26828e\"], [0.5555555555555556, \"#1f9e89\"], [0.6666666666666666, \"#35b779\"], [0.7777777777777778, \"#6ece58\"], [0.8888888888888888, \"#b5de2b\"], [1.0, \"#fde725\"]], \"line\": {\"color\": \"MediumPurple\", \"width\": 1.0}, \"size\": 12, \"symbol\": \"diamond\"}, \"mode\": \"markers\", \"name\": \"9y85x1cp6e\", \"showlegend\": true, \"type\": \"scatter\", \"x\": [16.750199693429117], \"y\": [-6.547264305416667]}, {\"legendgroup\": \"9y85x1cp6e\", \"marker\": {\"color\": 0.0017384462499991926, \"colorbar\": {\"thickness\": 10}, \"colorscale\": [[0.0, \"#440154\"], [0.1111111111111111, \"#482878\"], [0.2222222222222222, \"#3e4989\"], [0.3333333333333333, \"#31688e\"], [0.4444444444444444, \"#26828e\"], [0.5555555555555556, \"#1f9e89\"], [0.6666666666666666, \"#35b779\"], [0.7777777777777778, \"#6ece58\"], [0.8888888888888888, \"#b5de2b\"], [1.0, \"#fde725\"]], \"line\": {\"color\": \"MediumPurple\", \"width\": 1.0}, \"size\": 12, \"symbol\": \"circle\"}, \"mode\": \"markers\", \"name\": \"9y85x1cp6e\", \"showlegend\": false, \"type\": \"scatter\", \"x\": [16.809980836025137], \"y\": [-6.5490027516666665]}, {\"legendgroup\": \"myc4ng73xh\", \"marker\": {\"color\": -0.0027020841666676176, \"colorbar\": {\"thickness\": 10}, \"colorscale\": [[0.0, \"#440154\"], [0.1111111111111111, \"#482878\"], [0.2222222222222222, \"#3e4989\"], [0.3333333333333333, \"#31688e\"], [0.4444444444444444, \"#26828e\"], [0.5555555555555556, \"#1f9e89\"], [0.6666666666666666, \"#35b779\"], [0.7777777777777778, \"#6ece58\"], [0.8888888888888888, \"#b5de2b\"], [1.0, \"#fde725\"]], \"line\": {\"color\": \"MediumPurple\", \"width\": 1.0}, \"size\": 12, \"symbol\": \"diamond\"}, \"mode\": \"markers\", \"name\": \"myc4ng73xh\", \"showlegend\": true, \"type\": \"scatter\", \"x\": [10.186654441042547], \"y\": [-6.648283165833334]}, {\"legendgroup\": \"myc4ng73xh\", \"marker\": {\"color\": -0.0027020841666676176, \"colorbar\": {\"thickness\": 10}, \"colorscale\": [[0.0, \"#440154\"], [0.1111111111111111, \"#482878\"], [0.2222222222222222, \"#3e4989\"], [0.3333333333333333, \"#31688e\"], [0.4444444444444444, \"#26828e\"], [0.5555555555555556, \"#1f9e89\"], [0.6666666666666666, \"#35b779\"], [0.7777777777777778, \"#6ece58\"], [0.8888888888888888, \"#b5de2b\"], [1.0, \"#fde725\"]], \"line\": {\"color\": \"MediumPurple\", \"width\": 1.0}, \"size\": 12, \"symbol\": \"circle\"}, \"mode\": \"markers\", \"name\": \"myc4ng73xh\", \"showlegend\": false, \"type\": \"scatter\", \"x\": [10.193120518771337], \"y\": [-6.645581081666666]}, {\"legendgroup\": \"zr9ic2zaz5\", \"marker\": {\"color\": 9.044062499974359e-05, \"colorbar\": {\"thickness\": 10}, \"colorscale\": [[0.0, \"#440154\"], [0.1111111111111111, \"#482878\"], [0.2222222222222222, \"#3e4989\"], [0.3333333333333333, \"#31688e\"], [0.4444444444444444, \"#26828e\"], [0.5555555555555556, \"#1f9e89\"], [0.6666666666666666, \"#35b779\"], [0.7777777777777778, \"#6ece58\"], [0.8888888888888888, \"#b5de2b\"], [1.0, \"#fde725\"]], \"line\": {\"color\": \"MediumPurple\", \"width\": 1.0}, \"size\": 12, \"symbol\": \"diamond\"}, \"mode\": \"markers\", \"name\": \"zr9ic2zaz5\", \"showlegend\": true, \"type\": \"scatter\", \"x\": [13.676420149762865], \"y\": [-6.272679945]}, {\"legendgroup\": \"zr9ic2zaz5\", \"marker\": {\"color\": 9.044062499974359e-05, \"colorbar\": {\"thickness\": 10}, \"colorscale\": [[0.0, \"#440154\"], [0.1111111111111111, \"#482878\"], [0.2222222222222222, \"#3e4989\"], [0.3333333333333333, \"#31688e\"], [0.4444444444444444, \"#26828e\"], [0.5555555555555556, \"#1f9e89\"], [0.6666666666666666, \"#35b779\"], [0.7777777777777778, \"#6ece58\"], [0.8888888888888888, \"#b5de2b\"], [1.0, \"#fde725\"]], \"line\": {\"color\": \"MediumPurple\", \"width\": 1.0}, \"size\": 12, \"symbol\": \"circle\"}, \"mode\": \"markers\", \"name\": \"zr9ic2zaz5\", \"showlegend\": false, \"type\": \"scatter\", \"x\": [13.672843111672988], \"y\": [-6.272770385625]}, {\"legendgroup\": \"9txdvicqcf\", \"marker\": {\"color\": -8.103458333419411e-05, \"colorbar\": {\"thickness\": 10}, \"colorscale\": [[0.0, \"#440154\"], [0.1111111111111111, \"#482878\"], [0.2222222222222222, \"#3e4989\"], [0.3333333333333333, \"#31688e\"], [0.4444444444444444, \"#26828e\"], [0.5555555555555556, \"#1f9e89\"], [0.6666666666666666, \"#35b779\"], [0.7777777777777778, \"#6ece58\"], [0.8888888888888888, \"#b5de2b\"], [1.0, \"#fde725\"]], \"line\": {\"color\": \"MediumPurple\", \"width\": 1.0}, \"size\": 12, \"symbol\": \"diamond\"}, \"mode\": \"markers\", \"name\": \"9txdvicqcf\", \"showlegend\": true, \"type\": \"scatter\", \"x\": [11.131862055648448], \"y\": [-6.464471491666667]}, {\"legendgroup\": \"9txdvicqcf\", \"marker\": {\"color\": -8.103458333419411e-05, \"colorbar\": {\"thickness\": 10}, \"colorscale\": [[0.0, \"#440154\"], [0.1111111111111111, \"#482878\"], [0.2222222222222222, \"#3e4989\"], [0.3333333333333333, \"#31688e\"], [0.4444444444444444, \"#26828e\"], [0.5555555555555556, \"#1f9e89\"], [0.6666666666666666, \"#35b779\"], [0.7777777777777778, \"#6ece58\"], [0.8888888888888888, \"#b5de2b\"], [1.0, \"#fde725\"]], \"line\": {\"color\": \"MediumPurple\", \"width\": 1.0}, \"size\": 12, \"symbol\": \"circle\"}, \"mode\": \"markers\", \"name\": \"9txdvicqcf\", \"showlegend\": false, \"type\": \"scatter\", \"x\": [11.13668245311254], \"y\": [-6.464390457083333]}, {\"legendgroup\": \"vt9ynkzyna\", \"marker\": {\"color\": 6.932604166642875e-05, \"colorbar\": {\"thickness\": 10}, \"colorscale\": [[0.0, \"#440154\"], [0.1111111111111111, \"#482878\"], [0.2222222222222222, \"#3e4989\"], [0.3333333333333333, \"#31688e\"], [0.4444444444444444, \"#26828e\"], [0.5555555555555556, \"#1f9e89\"], [0.6666666666666666, \"#35b779\"], [0.7777777777777778, \"#6ece58\"], [0.8888888888888888, \"#b5de2b\"], [1.0, \"#fde725\"]], \"line\": {\"color\": \"MediumPurple\", \"width\": 1.0}, \"size\": 12, \"symbol\": \"diamond\"}, \"mode\": \"markers\", \"name\": \"vt9ynkzyna\", \"showlegend\": true, \"type\": \"scatter\", \"x\": [23.9602279764986], \"y\": [-6.126286650625]}, {\"legendgroup\": \"vt9ynkzyna\", \"marker\": {\"color\": 6.932604166642875e-05, \"colorbar\": {\"thickness\": 10}, \"colorscale\": [[0.0, \"#440154\"], [0.1111111111111111, \"#482878\"], [0.2222222222222222, \"#3e4989\"], [0.3333333333333333, \"#31688e\"], [0.4444444444444444, \"#26828e\"], [0.5555555555555556, \"#1f9e89\"], [0.6666666666666666, \"#35b779\"], [0.7777777777777778, \"#6ece58\"], [0.8888888888888888, \"#b5de2b\"], [1.0, \"#fde725\"]], \"line\": {\"color\": \"MediumPurple\", \"width\": 1.0}, \"size\": 12, \"symbol\": \"circle\"}, \"mode\": \"markers\", \"name\": \"vt9ynkzyna\", \"showlegend\": false, \"type\": \"scatter\", \"x\": [24.01702045635393], \"y\": [-6.126355976666667]}, {\"legendgroup\": \"c48lx363be\", \"marker\": {\"color\": -0.00040557833333298987, \"colorbar\": {\"thickness\": 10}, \"colorscale\": [[0.0, \"#440154\"], [0.1111111111111111, \"#482878\"], [0.2222222222222222, \"#3e4989\"], [0.3333333333333333, \"#31688e\"], [0.4444444444444444, \"#26828e\"], [0.5555555555555556, \"#1f9e89\"], [0.6666666666666666, \"#35b779\"], [0.7777777777777778, \"#6ece58\"], [0.8888888888888888, \"#b5de2b\"], [1.0, \"#fde725\"]], \"line\": {\"color\": \"MediumPurple\", \"width\": 1.0}, \"size\": 12, \"symbol\": \"diamond\"}, \"mode\": \"markers\", \"name\": \"c48lx363be\", \"showlegend\": true, \"type\": \"scatter\", \"x\": [12.594083493133041], \"y\": [-6.772998472499999]}, {\"legendgroup\": \"c48lx363be\", \"marker\": {\"color\": -0.00040557833333298987, \"colorbar\": {\"thickness\": 10}, \"colorscale\": [[0.0, \"#440154\"], [0.1111111111111111, \"#482878\"], [0.2222222222222222, \"#3e4989\"], [0.3333333333333333, \"#31688e\"], [0.4444444444444444, \"#26828e\"], [0.5555555555555556, \"#1f9e89\"], [0.6666666666666666, \"#35b779\"], [0.7777777777777778, \"#6ece58\"], [0.8888888888888888, \"#b5de2b\"], [1.0, \"#fde725\"]], \"line\": {\"color\": \"MediumPurple\", \"width\": 1.0}, \"size\": 12, \"symbol\": \"circle\"}, \"mode\": \"markers\", \"name\": \"c48lx363be\", \"showlegend\": false, \"type\": \"scatter\", \"x\": [12.59451971913595], \"y\": [-6.772592894166666]}, {\"legendgroup\": \"vsvsms92ng\", \"marker\": {\"color\": -0.00018007333333436293, \"colorbar\": {\"thickness\": 10}, \"colorscale\": [[0.0, \"#440154\"], [0.1111111111111111, \"#482878\"], [0.2222222222222222, \"#3e4989\"], [0.3333333333333333, \"#31688e\"], [0.4444444444444444, \"#26828e\"], [0.5555555555555556, \"#1f9e89\"], [0.6666666666666666, \"#35b779\"], [0.7777777777777778, \"#6ece58\"], [0.8888888888888888, \"#b5de2b\"], [1.0, \"#fde725\"]], \"line\": {\"color\": \"MediumPurple\", \"width\": 1.0}, \"size\": 12, \"symbol\": \"diamond\"}, \"mode\": \"markers\", \"name\": \"vsvsms92ng\", \"showlegend\": true, \"type\": \"scatter\", \"x\": [9.991766055274669], \"y\": [-6.950299773333334]}, {\"legendgroup\": \"vsvsms92ng\", \"marker\": {\"color\": -0.00018007333333436293, \"colorbar\": {\"thickness\": 10}, \"colorscale\": [[0.0, \"#440154\"], [0.1111111111111111, \"#482878\"], [0.2222222222222222, \"#3e4989\"], [0.3333333333333333, \"#31688e\"], [0.4444444444444444, \"#26828e\"], [0.5555555555555556, \"#1f9e89\"], [0.6666666666666666, \"#35b779\"], [0.7777777777777778, \"#6ece58\"], [0.8888888888888888, \"#b5de2b\"], [1.0, \"#fde725\"]], \"line\": {\"color\": \"MediumPurple\", \"width\": 1.0}, \"size\": 12, \"symbol\": \"circle\"}, \"mode\": \"markers\", \"name\": \"vsvsms92ng\", \"showlegend\": false, \"type\": \"scatter\", \"x\": [9.991534744171007], \"y\": [-6.950119699999999]}, {\"legendgroup\": \"7h62vo74x4\", \"marker\": {\"color\": -0.008722588750000426, \"colorbar\": {\"thickness\": 10}, \"colorscale\": [[0.0, \"#440154\"], [0.1111111111111111, \"#482878\"], [0.2222222222222222, \"#3e4989\"], [0.3333333333333333, \"#31688e\"], [0.4444444444444444, \"#26828e\"], [0.5555555555555556, \"#1f9e89\"], [0.6666666666666666, \"#35b779\"], [0.7777777777777778, \"#6ece58\"], [0.8888888888888888, \"#b5de2b\"], [1.0, \"#fde725\"]], \"line\": {\"color\": \"MediumPurple\", \"width\": 1.0}, \"size\": 12, \"symbol\": \"diamond\"}, \"mode\": \"markers\", \"name\": \"7h62vo74x4\", \"showlegend\": true, \"type\": \"scatter\", \"x\": [29.54640538477562], \"y\": [-5.6310075675]}, {\"legendgroup\": \"7h62vo74x4\", \"marker\": {\"color\": -0.008722588750000426, \"colorbar\": {\"thickness\": 10}, \"colorscale\": [[0.0, \"#440154\"], [0.1111111111111111, \"#482878\"], [0.2222222222222222, \"#3e4989\"], [0.3333333333333333, \"#31688e\"], [0.4444444444444444, \"#26828e\"], [0.5555555555555556, \"#1f9e89\"], [0.6666666666666666, \"#35b779\"], [0.7777777777777778, \"#6ece58\"], [0.8888888888888888, \"#b5de2b\"], [1.0, \"#fde725\"]], \"line\": {\"color\": \"MediumPurple\", \"width\": 1.0}, \"size\": 12, \"symbol\": \"circle\"}, \"mode\": \"markers\", \"name\": \"7h62vo74x4\", \"showlegend\": false, \"type\": \"scatter\", \"x\": [29.696820936215087], \"y\": [-5.62228497875]}, {\"legendgroup\": \"x2xj6wb48k\", \"marker\": {\"color\": -0.00032575500000042723, \"colorbar\": {\"thickness\": 10}, \"colorscale\": [[0.0, \"#440154\"], [0.1111111111111111, \"#482878\"], [0.2222222222222222, \"#3e4989\"], [0.3333333333333333, \"#31688e\"], [0.4444444444444444, \"#26828e\"], [0.5555555555555556, \"#1f9e89\"], [0.6666666666666666, \"#35b779\"], [0.7777777777777778, \"#6ece58\"], [0.8888888888888888, \"#b5de2b\"], [1.0, \"#fde725\"]], \"line\": {\"color\": \"MediumPurple\", \"width\": 1.0}, \"size\": 12, \"symbol\": \"diamond\"}, \"mode\": \"markers\", \"name\": \"x2xj6wb48k\", \"showlegend\": true, \"type\": \"scatter\", \"x\": [12.158632090636106], \"y\": [-6.343013570555556]}, {\"legendgroup\": \"x2xj6wb48k\", \"marker\": {\"color\": -0.00032575500000042723, \"colorbar\": {\"thickness\": 10}, \"colorscale\": [[0.0, \"#440154\"], [0.1111111111111111, \"#482878\"], [0.2222222222222222, \"#3e4989\"], [0.3333333333333333, \"#31688e\"], [0.4444444444444444, \"#26828e\"], [0.5555555555555556, \"#1f9e89\"], [0.6666666666666666, \"#35b779\"], [0.7777777777777778, \"#6ece58\"], [0.8888888888888888, \"#b5de2b\"], [1.0, \"#fde725\"]], \"line\": {\"color\": \"MediumPurple\", \"width\": 1.0}, \"size\": 12, \"symbol\": \"circle\"}, \"mode\": \"markers\", \"name\": \"x2xj6wb48k\", \"showlegend\": false, \"type\": \"scatter\", \"x\": [12.160392754972134], \"y\": [-6.342687815555555]}, {\"legendgroup\": \"nt6wv1n27r\", \"marker\": {\"color\": 0.2746493274999988, \"colorbar\": {\"thickness\": 10}, \"colorscale\": [[0.0, \"#440154\"], [0.1111111111111111, \"#482878\"], [0.2222222222222222, \"#3e4989\"], [0.3333333333333333, \"#31688e\"], [0.4444444444444444, \"#26828e\"], [0.5555555555555556, \"#1f9e89\"], [0.6666666666666666, \"#35b779\"], [0.7777777777777778, \"#6ece58\"], [0.8888888888888888, \"#b5de2b\"], [1.0, \"#fde725\"]], \"line\": {\"color\": \"MediumPurple\", \"width\": 1.0}, \"size\": 12, \"symbol\": \"diamond\"}, \"mode\": \"markers\", \"name\": \"nt6wv1n27r\", \"showlegend\": true, \"type\": \"scatter\", \"x\": [13.761650599771627], \"y\": [-6.290211007500001]}, {\"legendgroup\": \"nt6wv1n27r\", \"marker\": {\"color\": 0.2746493274999988, \"colorbar\": {\"thickness\": 10}, \"colorscale\": [[0.0, \"#440154\"], [0.1111111111111111, \"#482878\"], [0.2222222222222222, \"#3e4989\"], [0.3333333333333333, \"#31688e\"], [0.4444444444444444, \"#26828e\"], [0.5555555555555556, \"#1f9e89\"], [0.6666666666666666, \"#35b779\"], [0.7777777777777778, \"#6ece58\"], [0.8888888888888888, \"#b5de2b\"], [1.0, \"#fde725\"]], \"line\": {\"color\": \"MediumPurple\", \"width\": 1.0}, \"size\": 12, \"symbol\": \"circle\"}, \"mode\": \"markers\", \"name\": \"nt6wv1n27r\", \"showlegend\": false, \"type\": \"scatter\", \"x\": [15.640173284304757], \"y\": [-6.564860335]}, {\"legendgroup\": \"94vpmqvh9p\", \"marker\": {\"color\": -0.00743553437500033, \"colorbar\": {\"thickness\": 10}, \"colorscale\": [[0.0, \"#440154\"], [0.1111111111111111, \"#482878\"], [0.2222222222222222, \"#3e4989\"], [0.3333333333333333, \"#31688e\"], [0.4444444444444444, \"#26828e\"], [0.5555555555555556, \"#1f9e89\"], [0.6666666666666666, \"#35b779\"], [0.7777777777777778, \"#6ece58\"], [0.8888888888888888, \"#b5de2b\"], [1.0, \"#fde725\"]], \"line\": {\"color\": \"MediumPurple\", \"width\": 1.0}, \"size\": 12, \"symbol\": \"diamond\"}, \"mode\": \"markers\", \"name\": \"94vpmqvh9p\", \"showlegend\": true, \"type\": \"scatter\", \"x\": [19.931253795854396], \"y\": [-6.1839906559375]}, {\"legendgroup\": \"94vpmqvh9p\", \"marker\": {\"color\": -0.00743553437500033, \"colorbar\": {\"thickness\": 10}, \"colorscale\": [[0.0, \"#440154\"], [0.1111111111111111, \"#482878\"], [0.2222222222222222, \"#3e4989\"], [0.3333333333333333, \"#31688e\"], [0.4444444444444444, \"#26828e\"], [0.5555555555555556, \"#1f9e89\"], [0.6666666666666666, \"#35b779\"], [0.7777777777777778, \"#6ece58\"], [0.8888888888888888, \"#b5de2b\"], [1.0, \"#fde725\"]], \"line\": {\"color\": \"MediumPurple\", \"width\": 1.0}, \"size\": 12, \"symbol\": \"circle\"}, \"mode\": \"markers\", \"name\": \"94vpmqvh9p\", \"showlegend\": false, \"type\": \"scatter\", \"x\": [18.385014091101986], \"y\": [-6.1765551215625]}, {\"legendgroup\": \"mkvpml8q9e\", \"marker\": {\"color\": 0.004599587499999558, \"colorbar\": {\"thickness\": 10}, \"colorscale\": [[0.0, \"#440154\"], [0.1111111111111111, \"#482878\"], [0.2222222222222222, \"#3e4989\"], [0.3333333333333333, \"#31688e\"], [0.4444444444444444, \"#26828e\"], [0.5555555555555556, \"#1f9e89\"], [0.6666666666666666, \"#35b779\"], [0.7777777777777778, \"#6ece58\"], [0.8888888888888888, \"#b5de2b\"], [1.0, \"#fde725\"]], \"line\": {\"color\": \"MediumPurple\", \"width\": 1.0}, \"size\": 12, \"symbol\": \"diamond\"}, \"mode\": \"markers\", \"name\": \"mkvpml8q9e\", \"showlegend\": true, \"type\": \"scatter\", \"x\": [24.4467446874663], \"y\": [-6.1268412075]}, {\"legendgroup\": \"mkvpml8q9e\", \"marker\": {\"color\": 0.004599587499999558, \"colorbar\": {\"thickness\": 10}, \"colorscale\": [[0.0, \"#440154\"], [0.1111111111111111, \"#482878\"], [0.2222222222222222, \"#3e4989\"], [0.3333333333333333, \"#31688e\"], [0.4444444444444444, \"#26828e\"], [0.5555555555555556, \"#1f9e89\"], [0.6666666666666666, \"#35b779\"], [0.7777777777777778, \"#6ece58\"], [0.8888888888888888, \"#b5de2b\"], [1.0, \"#fde725\"]], \"line\": {\"color\": \"MediumPurple\", \"width\": 1.0}, \"size\": 12, \"symbol\": \"circle\"}, \"mode\": \"markers\", \"name\": \"mkvpml8q9e\", \"showlegend\": false, \"type\": \"scatter\", \"x\": [24.644694559469183], \"y\": [-6.131440795]}, {\"legendgroup\": \"mi8ob2xq9h\", \"marker\": {\"color\": 0.13615408611111146, \"colorbar\": {\"thickness\": 10}, \"colorscale\": [[0.0, \"#440154\"], [0.1111111111111111, \"#482878\"], [0.2222222222222222, \"#3e4989\"], [0.3333333333333333, \"#31688e\"], [0.4444444444444444, \"#26828e\"], [0.5555555555555556, \"#1f9e89\"], [0.6666666666666666, \"#35b779\"], [0.7777777777777778, \"#6ece58\"], [0.8888888888888888, \"#b5de2b\"], [1.0, \"#fde725\"]], \"line\": {\"color\": \"MediumPurple\", \"width\": 1.0}, \"size\": 12, \"symbol\": \"diamond\"}, \"mode\": \"markers\", \"name\": \"mi8ob2xq9h\", \"showlegend\": true, \"type\": \"scatter\", \"x\": [15.361378730791737], \"y\": [-6.521136823611111]}, {\"legendgroup\": \"mi8ob2xq9h\", \"marker\": {\"color\": 0.13615408611111146, \"colorbar\": {\"thickness\": 10}, \"colorscale\": [[0.0, \"#440154\"], [0.1111111111111111, \"#482878\"], [0.2222222222222222, \"#3e4989\"], [0.3333333333333333, \"#31688e\"], [0.4444444444444444, \"#26828e\"], [0.5555555555555556, \"#1f9e89\"], [0.6666666666666666, \"#35b779\"], [0.7777777777777778, \"#6ece58\"], [0.8888888888888888, \"#b5de2b\"], [1.0, \"#fde725\"]], \"line\": {\"color\": \"MediumPurple\", \"width\": 1.0}, \"size\": 12, \"symbol\": \"circle\"}, \"mode\": \"markers\", \"name\": \"mi8ob2xq9h\", \"showlegend\": false, \"type\": \"scatter\", \"x\": [15.17569879639599], \"y\": [-6.657290909722223]}, {\"legendgroup\": \"mlva81bg7p\", \"marker\": {\"color\": -0.0009780191666672877, \"colorbar\": {\"thickness\": 10}, \"colorscale\": [[0.0, \"#440154\"], [0.1111111111111111, \"#482878\"], [0.2222222222222222, \"#3e4989\"], [0.3333333333333333, \"#31688e\"], [0.4444444444444444, \"#26828e\"], [0.5555555555555556, \"#1f9e89\"], [0.6666666666666666, \"#35b779\"], [0.7777777777777778, \"#6ece58\"], [0.8888888888888888, \"#b5de2b\"], [1.0, \"#fde725\"]], \"line\": {\"color\": \"MediumPurple\", \"width\": 1.0}, \"size\": 12, \"symbol\": \"diamond\"}, \"mode\": \"markers\", \"name\": \"mlva81bg7p\", \"showlegend\": true, \"type\": \"scatter\", \"x\": [12.613235925166217], \"y\": [-6.653620445416667]}, {\"legendgroup\": \"mlva81bg7p\", \"marker\": {\"color\": -0.0009780191666672877, \"colorbar\": {\"thickness\": 10}, \"colorscale\": [[0.0, \"#440154\"], [0.1111111111111111, \"#482878\"], [0.2222222222222222, \"#3e4989\"], [0.3333333333333333, \"#31688e\"], [0.4444444444444444, \"#26828e\"], [0.5555555555555556, \"#1f9e89\"], [0.6666666666666666, \"#35b779\"], [0.7777777777777778, \"#6ece58\"], [0.8888888888888888, \"#b5de2b\"], [1.0, \"#fde725\"]], \"line\": {\"color\": \"MediumPurple\", \"width\": 1.0}, \"size\": 12, \"symbol\": \"circle\"}, \"mode\": \"markers\", \"name\": \"mlva81bg7p\", \"showlegend\": false, \"type\": \"scatter\", \"x\": [12.471816647500875], \"y\": [-6.65264242625]}, {\"legendgroup\": \"7am4vwzi7p\", \"marker\": {\"color\": 0.007102571666667501, \"colorbar\": {\"thickness\": 10}, \"colorscale\": [[0.0, \"#440154\"], [0.1111111111111111, \"#482878\"], [0.2222222222222222, \"#3e4989\"], [0.3333333333333333, \"#31688e\"], [0.4444444444444444, \"#26828e\"], [0.5555555555555556, \"#1f9e89\"], [0.6666666666666666, \"#35b779\"], [0.7777777777777778, \"#6ece58\"], [0.8888888888888888, \"#b5de2b\"], [1.0, \"#fde725\"]], \"line\": {\"color\": \"MediumPurple\", \"width\": 1.0}, \"size\": 12, \"symbol\": \"diamond\"}, \"mode\": \"markers\", \"name\": \"7am4vwzi7p\", \"showlegend\": true, \"type\": \"scatter\", \"x\": [10.849656208841806], \"y\": [-4.978113020833333]}, {\"legendgroup\": \"7am4vwzi7p\", \"marker\": {\"color\": 0.007102571666667501, \"colorbar\": {\"thickness\": 10}, \"colorscale\": [[0.0, \"#440154\"], [0.1111111111111111, \"#482878\"], [0.2222222222222222, \"#3e4989\"], [0.3333333333333333, \"#31688e\"], [0.4444444444444444, \"#26828e\"], [0.5555555555555556, \"#1f9e89\"], [0.6666666666666666, \"#35b779\"], [0.7777777777777778, \"#6ece58\"], [0.8888888888888888, \"#b5de2b\"], [1.0, \"#fde725\"]], \"line\": {\"color\": \"MediumPurple\", \"width\": 1.0}, \"size\": 12, \"symbol\": \"circle\"}, \"mode\": \"markers\", \"name\": \"7am4vwzi7p\", \"showlegend\": false, \"type\": \"scatter\", \"x\": [10.80015157252812], \"y\": [-4.9852155925]}, {\"legendgroup\": \"xjbj6fbfn1\", \"marker\": {\"color\": -0.0004694714583326487, \"colorbar\": {\"thickness\": 10}, \"colorscale\": [[0.0, \"#440154\"], [0.1111111111111111, \"#482878\"], [0.2222222222222222, \"#3e4989\"], [0.3333333333333333, \"#31688e\"], [0.4444444444444444, \"#26828e\"], [0.5555555555555556, \"#1f9e89\"], [0.6666666666666666, \"#35b779\"], [0.7777777777777778, \"#6ece58\"], [0.8888888888888888, \"#b5de2b\"], [1.0, \"#fde725\"]], \"line\": {\"color\": \"MediumPurple\", \"width\": 1.0}, \"size\": 12, \"symbol\": \"diamond\"}, \"mode\": \"markers\", \"name\": \"xjbj6fbfn1\", \"showlegend\": true, \"type\": \"scatter\", \"x\": [14.490911706427854], \"y\": [-6.758509948125]}, {\"legendgroup\": \"xjbj6fbfn1\", \"marker\": {\"color\": -0.0004694714583326487, \"colorbar\": {\"thickness\": 10}, \"colorscale\": [[0.0, \"#440154\"], [0.1111111111111111, \"#482878\"], [0.2222222222222222, \"#3e4989\"], [0.3333333333333333, \"#31688e\"], [0.4444444444444444, \"#26828e\"], [0.5555555555555556, \"#1f9e89\"], [0.6666666666666666, \"#35b779\"], [0.7777777777777778, \"#6ece58\"], [0.8888888888888888, \"#b5de2b\"], [1.0, \"#fde725\"]], \"line\": {\"color\": \"MediumPurple\", \"width\": 1.0}, \"size\": 12, \"symbol\": \"circle\"}, \"mode\": \"markers\", \"name\": \"xjbj6fbfn1\", \"showlegend\": false, \"type\": \"scatter\", \"x\": [14.50869906656827], \"y\": [-6.758040476666667]}, {\"legendgroup\": \"82mwbwbgbl\", \"marker\": {\"color\": -0.00019666541666651938, \"colorbar\": {\"thickness\": 10}, \"colorscale\": [[0.0, \"#440154\"], [0.1111111111111111, \"#482878\"], [0.2222222222222222, \"#3e4989\"], [0.3333333333333333, \"#31688e\"], [0.4444444444444444, \"#26828e\"], [0.5555555555555556, \"#1f9e89\"], [0.6666666666666666, \"#35b779\"], [0.7777777777777778, \"#6ece58\"], [0.8888888888888888, \"#b5de2b\"], [1.0, \"#fde725\"]], \"line\": {\"color\": \"MediumPurple\", \"width\": 1.0}, \"size\": 12, \"symbol\": \"diamond\"}, \"mode\": \"markers\", \"name\": \"82mwbwbgbl\", \"showlegend\": true, \"type\": \"scatter\", \"x\": [13.165961325909123], \"y\": [-6.5813658675]}, {\"legendgroup\": \"82mwbwbgbl\", \"marker\": {\"color\": -0.00019666541666651938, \"colorbar\": {\"thickness\": 10}, \"colorscale\": [[0.0, \"#440154\"], [0.1111111111111111, \"#482878\"], [0.2222222222222222, \"#3e4989\"], [0.3333333333333333, \"#31688e\"], [0.4444444444444444, \"#26828e\"], [0.5555555555555556, \"#1f9e89\"], [0.6666666666666666, \"#35b779\"], [0.7777777777777778, \"#6ece58\"], [0.8888888888888888, \"#b5de2b\"], [1.0, \"#fde725\"]], \"line\": {\"color\": \"MediumPurple\", \"width\": 1.0}, \"size\": 12, \"symbol\": \"circle\"}, \"mode\": \"markers\", \"name\": \"82mwbwbgbl\", \"showlegend\": false, \"type\": \"scatter\", \"x\": [13.137642245977725], \"y\": [-6.581169202083333]}, {\"legendgroup\": \"md7oztcizu\", \"marker\": {\"color\": 0.0007122124999998647, \"colorbar\": {\"thickness\": 10}, \"colorscale\": [[0.0, \"#440154\"], [0.1111111111111111, \"#482878\"], [0.2222222222222222, \"#3e4989\"], [0.3333333333333333, \"#31688e\"], [0.4444444444444444, \"#26828e\"], [0.5555555555555556, \"#1f9e89\"], [0.6666666666666666, \"#35b779\"], [0.7777777777777778, \"#6ece58\"], [0.8888888888888888, \"#b5de2b\"], [1.0, \"#fde725\"]], \"line\": {\"color\": \"MediumPurple\", \"width\": 1.0}, \"size\": 12, \"symbol\": \"diamond\"}, \"mode\": \"markers\", \"name\": \"md7oztcizu\", \"showlegend\": true, \"type\": \"scatter\", \"x\": [14.50148462185056], \"y\": [-6.7578324375]}, {\"legendgroup\": \"md7oztcizu\", \"marker\": {\"color\": 0.0007122124999998647, \"colorbar\": {\"thickness\": 10}, \"colorscale\": [[0.0, \"#440154\"], [0.1111111111111111, \"#482878\"], [0.2222222222222222, \"#3e4989\"], [0.3333333333333333, \"#31688e\"], [0.4444444444444444, \"#26828e\"], [0.5555555555555556, \"#1f9e89\"], [0.6666666666666666, \"#35b779\"], [0.7777777777777778, \"#6ece58\"], [0.8888888888888888, \"#b5de2b\"], [1.0, \"#fde725\"]], \"line\": {\"color\": \"MediumPurple\", \"width\": 1.0}, \"size\": 12, \"symbol\": \"circle\"}, \"mode\": \"markers\", \"name\": \"md7oztcizu\", \"showlegend\": false, \"type\": \"scatter\", \"x\": [14.501547428825681], \"y\": [-6.75854465]}, {\"legendgroup\": \"xonhb1cgnq\", \"marker\": {\"color\": -0.00020475833333222226, \"colorbar\": {\"thickness\": 10}, \"colorscale\": [[0.0, \"#440154\"], [0.1111111111111111, \"#482878\"], [0.2222222222222222, \"#3e4989\"], [0.3333333333333333, \"#31688e\"], [0.4444444444444444, \"#26828e\"], [0.5555555555555556, \"#1f9e89\"], [0.6666666666666666, \"#35b779\"], [0.7777777777777778, \"#6ece58\"], [0.8888888888888888, \"#b5de2b\"], [1.0, \"#fde725\"]], \"line\": {\"color\": \"MediumPurple\", \"width\": 1.0}, \"size\": 12, \"symbol\": \"diamond\"}, \"mode\": \"markers\", \"name\": \"xonhb1cgnq\", \"showlegend\": true, \"type\": \"scatter\", \"x\": [9.991867369326537], \"y\": [-6.950299244166666]}, {\"legendgroup\": \"xonhb1cgnq\", \"marker\": {\"color\": -0.00020475833333222226, \"colorbar\": {\"thickness\": 10}, \"colorscale\": [[0.0, \"#440154\"], [0.1111111111111111, \"#482878\"], [0.2222222222222222, \"#3e4989\"], [0.3333333333333333, \"#31688e\"], [0.4444444444444444, \"#26828e\"], [0.5555555555555556, \"#1f9e89\"], [0.6666666666666666, \"#35b779\"], [0.7777777777777778, \"#6ece58\"], [0.8888888888888888, \"#b5de2b\"], [1.0, \"#fde725\"]], \"line\": {\"color\": \"MediumPurple\", \"width\": 1.0}, \"size\": 12, \"symbol\": \"circle\"}, \"mode\": \"markers\", \"name\": \"xonhb1cgnq\", \"showlegend\": false, \"type\": \"scatter\", \"x\": [9.993952407222405], \"y\": [-6.950094485833334]}, {\"legendgroup\": \"7ave8rzrzj\", \"marker\": {\"color\": -2.319664238333334, \"colorbar\": {\"thickness\": 10}, \"colorscale\": [[0.0, \"#440154\"], [0.1111111111111111, \"#482878\"], [0.2222222222222222, \"#3e4989\"], [0.3333333333333333, \"#31688e\"], [0.4444444444444444, \"#26828e\"], [0.5555555555555556, \"#1f9e89\"], [0.6666666666666666, \"#35b779\"], [0.7777777777777778, \"#6ece58\"], [0.8888888888888888, \"#b5de2b\"], [1.0, \"#fde725\"]], \"line\": {\"color\": \"MediumPurple\", \"width\": 1.0}, \"size\": 12, \"symbol\": \"diamond\"}, \"mode\": \"markers\", \"name\": \"7ave8rzrzj\", \"showlegend\": true, \"type\": \"scatter\", \"x\": [17.235308724015464], \"y\": [-6.322997910000001]}, {\"legendgroup\": \"7ave8rzrzj\", \"marker\": {\"color\": -2.319664238333334, \"colorbar\": {\"thickness\": 10}, \"colorscale\": [[0.0, \"#440154\"], [0.1111111111111111, \"#482878\"], [0.2222222222222222, \"#3e4989\"], [0.3333333333333333, \"#31688e\"], [0.4444444444444444, \"#26828e\"], [0.5555555555555556, \"#1f9e89\"], [0.6666666666666666, \"#35b779\"], [0.7777777777777778, \"#6ece58\"], [0.8888888888888888, \"#b5de2b\"], [1.0, \"#fde725\"]], \"line\": {\"color\": \"MediumPurple\", \"width\": 1.0}, \"size\": 12, \"symbol\": \"circle\"}, \"mode\": \"markers\", \"name\": \"7ave8rzrzj\", \"showlegend\": false, \"type\": \"scatter\", \"x\": [38.86801604931104], \"y\": [-4.003333671666667]}, {\"legendgroup\": \"6obuvfvi9d\", \"marker\": {\"color\": -0.0012296441666652669, \"colorbar\": {\"thickness\": 10}, \"colorscale\": [[0.0, \"#440154\"], [0.1111111111111111, \"#482878\"], [0.2222222222222222, \"#3e4989\"], [0.3333333333333333, \"#31688e\"], [0.4444444444444444, \"#26828e\"], [0.5555555555555556, \"#1f9e89\"], [0.6666666666666666, \"#35b779\"], [0.7777777777777778, \"#6ece58\"], [0.8888888888888888, \"#b5de2b\"], [1.0, \"#fde725\"]], \"line\": {\"color\": \"MediumPurple\", \"width\": 1.0}, \"size\": 12, \"symbol\": \"diamond\"}, \"mode\": \"markers\", \"name\": \"6obuvfvi9d\", \"showlegend\": true, \"type\": \"scatter\", \"x\": [18.56084405266874], \"y\": [-6.737123299166666]}, {\"legendgroup\": \"6obuvfvi9d\", \"marker\": {\"color\": -0.0012296441666652669, \"colorbar\": {\"thickness\": 10}, \"colorscale\": [[0.0, \"#440154\"], [0.1111111111111111, \"#482878\"], [0.2222222222222222, \"#3e4989\"], [0.3333333333333333, \"#31688e\"], [0.4444444444444444, \"#26828e\"], [0.5555555555555556, \"#1f9e89\"], [0.6666666666666666, \"#35b779\"], [0.7777777777777778, \"#6ece58\"], [0.8888888888888888, \"#b5de2b\"], [1.0, \"#fde725\"]], \"line\": {\"color\": \"MediumPurple\", \"width\": 1.0}, \"size\": 12, \"symbol\": \"circle\"}, \"mode\": \"markers\", \"name\": \"6obuvfvi9d\", \"showlegend\": false, \"type\": \"scatter\", \"x\": [17.980947022965527], \"y\": [-6.735893655000001]}, {\"legendgroup\": \"bpvynr7p9w\", \"marker\": {\"color\": 0.00011017812500035973, \"colorbar\": {\"thickness\": 10}, \"colorscale\": [[0.0, \"#440154\"], [0.1111111111111111, \"#482878\"], [0.2222222222222222, \"#3e4989\"], [0.3333333333333333, \"#31688e\"], [0.4444444444444444, \"#26828e\"], [0.5555555555555556, \"#1f9e89\"], [0.6666666666666666, \"#35b779\"], [0.7777777777777778, \"#6ece58\"], [0.8888888888888888, \"#b5de2b\"], [1.0, \"#fde725\"]], \"line\": {\"color\": \"MediumPurple\", \"width\": 1.0}, \"size\": 12, \"symbol\": \"diamond\"}, \"mode\": \"markers\", \"name\": \"bpvynr7p9w\", \"showlegend\": true, \"type\": \"scatter\", \"x\": [13.676082967728714], \"y\": [-6.2726585125]}, {\"legendgroup\": \"bpvynr7p9w\", \"marker\": {\"color\": 0.00011017812500035973, \"colorbar\": {\"thickness\": 10}, \"colorscale\": [[0.0, \"#440154\"], [0.1111111111111111, \"#482878\"], [0.2222222222222222, \"#3e4989\"], [0.3333333333333333, \"#31688e\"], [0.4444444444444444, \"#26828e\"], [0.5555555555555556, \"#1f9e89\"], [0.6666666666666666, \"#35b779\"], [0.7777777777777778, \"#6ece58\"], [0.8888888888888888, \"#b5de2b\"], [1.0, \"#fde725\"]], \"line\": {\"color\": \"MediumPurple\", \"width\": 1.0}, \"size\": 12, \"symbol\": \"circle\"}, \"mode\": \"markers\", \"name\": \"bpvynr7p9w\", \"showlegend\": false, \"type\": \"scatter\", \"x\": [13.6729787842098], \"y\": [-6.272768690625]}, {\"legendgroup\": \"ckbg7d9u6u\", \"marker\": {\"color\": -0.003197529583333747, \"colorbar\": {\"thickness\": 10}, \"colorscale\": [[0.0, \"#440154\"], [0.1111111111111111, \"#482878\"], [0.2222222222222222, \"#3e4989\"], [0.3333333333333333, \"#31688e\"], [0.4444444444444444, \"#26828e\"], [0.5555555555555556, \"#1f9e89\"], [0.6666666666666666, \"#35b779\"], [0.7777777777777778, \"#6ece58\"], [0.8888888888888888, \"#b5de2b\"], [1.0, \"#fde725\"]], \"line\": {\"color\": \"MediumPurple\", \"width\": 1.0}, \"size\": 12, \"symbol\": \"diamond\"}, \"mode\": \"markers\", \"name\": \"ckbg7d9u6u\", \"showlegend\": true, \"type\": \"scatter\", \"x\": [13.459708254162294], \"y\": [-6.718412355416667]}, {\"legendgroup\": \"ckbg7d9u6u\", \"marker\": {\"color\": -0.003197529583333747, \"colorbar\": {\"thickness\": 10}, \"colorscale\": [[0.0, \"#440154\"], [0.1111111111111111, \"#482878\"], [0.2222222222222222, \"#3e4989\"], [0.3333333333333333, \"#31688e\"], [0.4444444444444444, \"#26828e\"], [0.5555555555555556, \"#1f9e89\"], [0.6666666666666666, \"#35b779\"], [0.7777777777777778, \"#6ece58\"], [0.8888888888888888, \"#b5de2b\"], [1.0, \"#fde725\"]], \"line\": {\"color\": \"MediumPurple\", \"width\": 1.0}, \"size\": 12, \"symbol\": \"circle\"}, \"mode\": \"markers\", \"name\": \"ckbg7d9u6u\", \"showlegend\": false, \"type\": \"scatter\", \"x\": [13.210438233189869], \"y\": [-6.715214825833333]}, {\"legendgroup\": \"b5cib48g9t\", \"marker\": {\"color\": -0.04789482833333292, \"colorbar\": {\"thickness\": 10}, \"colorscale\": [[0.0, \"#440154\"], [0.1111111111111111, \"#482878\"], [0.2222222222222222, \"#3e4989\"], [0.3333333333333333, \"#31688e\"], [0.4444444444444444, \"#26828e\"], [0.5555555555555556, \"#1f9e89\"], [0.6666666666666666, \"#35b779\"], [0.7777777777777778, \"#6ece58\"], [0.8888888888888888, \"#b5de2b\"], [1.0, \"#fde725\"]], \"line\": {\"color\": \"MediumPurple\", \"width\": 1.0}, \"size\": 12, \"symbol\": \"diamond\"}, \"mode\": \"markers\", \"name\": \"b5cib48g9t\", \"showlegend\": true, \"type\": \"scatter\", \"x\": [16.586680323746126], \"y\": [-6.526308038333333]}, {\"legendgroup\": \"b5cib48g9t\", \"marker\": {\"color\": -0.04789482833333292, \"colorbar\": {\"thickness\": 10}, \"colorscale\": [[0.0, \"#440154\"], [0.1111111111111111, \"#482878\"], [0.2222222222222222, \"#3e4989\"], [0.3333333333333333, \"#31688e\"], [0.4444444444444444, \"#26828e\"], [0.5555555555555556, \"#1f9e89\"], [0.6666666666666666, \"#35b779\"], [0.7777777777777778, \"#6ece58\"], [0.8888888888888888, \"#b5de2b\"], [1.0, \"#fde725\"]], \"line\": {\"color\": \"MediumPurple\", \"width\": 1.0}, \"size\": 12, \"symbol\": \"circle\"}, \"mode\": \"markers\", \"name\": \"b5cib48g9t\", \"showlegend\": false, \"type\": \"scatter\", \"x\": [18.601572696085736], \"y\": [-6.47841321]}, {\"legendgroup\": \"b4nrnqvl8h\", \"marker\": {\"color\": 0.0001973737499998407, \"colorbar\": {\"thickness\": 10}, \"colorscale\": [[0.0, \"#440154\"], [0.1111111111111111, \"#482878\"], [0.2222222222222222, \"#3e4989\"], [0.3333333333333333, \"#31688e\"], [0.4444444444444444, \"#26828e\"], [0.5555555555555556, \"#1f9e89\"], [0.6666666666666666, \"#35b779\"], [0.7777777777777778, \"#6ece58\"], [0.8888888888888888, \"#b5de2b\"], [1.0, \"#fde725\"]], \"line\": {\"color\": \"MediumPurple\", \"width\": 1.0}, \"size\": 12, \"symbol\": \"diamond\"}, \"mode\": \"markers\", \"name\": \"b4nrnqvl8h\", \"showlegend\": true, \"type\": \"scatter\", \"x\": [14.11999255535732], \"y\": [-5.831600935]}, {\"legendgroup\": \"b4nrnqvl8h\", \"marker\": {\"color\": 0.0001973737499998407, \"colorbar\": {\"thickness\": 10}, \"colorscale\": [[0.0, \"#440154\"], [0.1111111111111111, \"#482878\"], [0.2222222222222222, \"#3e4989\"], [0.3333333333333333, \"#31688e\"], [0.4444444444444444, \"#26828e\"], [0.5555555555555556, \"#1f9e89\"], [0.6666666666666666, \"#35b779\"], [0.7777777777777778, \"#6ece58\"], [0.8888888888888888, \"#b5de2b\"], [1.0, \"#fde725\"]], \"line\": {\"color\": \"MediumPurple\", \"width\": 1.0}, \"size\": 12, \"symbol\": \"circle\"}, \"mode\": \"markers\", \"name\": \"b4nrnqvl8h\", \"showlegend\": false, \"type\": \"scatter\", \"x\": [14.33347585813917], \"y\": [-5.83179830875]}, {\"legendgroup\": \"mpbd6sz1z5\", \"marker\": {\"color\": -0.018582554722222255, \"colorbar\": {\"thickness\": 10}, \"colorscale\": [[0.0, \"#440154\"], [0.1111111111111111, \"#482878\"], [0.2222222222222222, \"#3e4989\"], [0.3333333333333333, \"#31688e\"], [0.4444444444444444, \"#26828e\"], [0.5555555555555556, \"#1f9e89\"], [0.6666666666666666, \"#35b779\"], [0.7777777777777778, \"#6ece58\"], [0.8888888888888888, \"#b5de2b\"], [1.0, \"#fde725\"]], \"line\": {\"color\": \"MediumPurple\", \"width\": 1.0}, \"size\": 12, \"symbol\": \"diamond\"}, \"mode\": \"markers\", \"name\": \"mpbd6sz1z5\", \"showlegend\": true, \"type\": \"scatter\", \"x\": [11.497320149117474], \"y\": [-6.280755755833334]}, {\"legendgroup\": \"mpbd6sz1z5\", \"marker\": {\"color\": -0.018582554722222255, \"colorbar\": {\"thickness\": 10}, \"colorscale\": [[0.0, \"#440154\"], [0.1111111111111111, \"#482878\"], [0.2222222222222222, \"#3e4989\"], [0.3333333333333333, \"#31688e\"], [0.4444444444444444, \"#26828e\"], [0.5555555555555556, \"#1f9e89\"], [0.6666666666666666, \"#35b779\"], [0.7777777777777778, \"#6ece58\"], [0.8888888888888888, \"#b5de2b\"], [1.0, \"#fde725\"]], \"line\": {\"color\": \"MediumPurple\", \"width\": 1.0}, \"size\": 12, \"symbol\": \"circle\"}, \"mode\": \"markers\", \"name\": \"mpbd6sz1z5\", \"showlegend\": false, \"type\": \"scatter\", \"x\": [10.762018520161932], \"y\": [-6.2621732011111115]}, {\"legendgroup\": \"9wzqvtmw6a\", \"marker\": {\"color\": -9.714833333340778e-05, \"colorbar\": {\"thickness\": 10}, \"colorscale\": [[0.0, \"#440154\"], [0.1111111111111111, \"#482878\"], [0.2222222222222222, \"#3e4989\"], [0.3333333333333333, \"#31688e\"], [0.4444444444444444, \"#26828e\"], [0.5555555555555556, \"#1f9e89\"], [0.6666666666666666, \"#35b779\"], [0.7777777777777778, \"#6ece58\"], [0.8888888888888888, \"#b5de2b\"], [1.0, \"#fde725\"]], \"line\": {\"color\": \"MediumPurple\", \"width\": 1.0}, \"size\": 12, \"symbol\": \"diamond\"}, \"mode\": \"markers\", \"name\": \"9wzqvtmw6a\", \"showlegend\": true, \"type\": \"scatter\", \"x\": [21.138097173072893], \"y\": [-6.713121547083333]}, {\"legendgroup\": \"9wzqvtmw6a\", \"marker\": {\"color\": -9.714833333340778e-05, \"colorbar\": {\"thickness\": 10}, \"colorscale\": [[0.0, \"#440154\"], [0.1111111111111111, \"#482878\"], [0.2222222222222222, \"#3e4989\"], [0.3333333333333333, \"#31688e\"], [0.4444444444444444, \"#26828e\"], [0.5555555555555556, \"#1f9e89\"], [0.6666666666666666, \"#35b779\"], [0.7777777777777778, \"#6ece58\"], [0.8888888888888888, \"#b5de2b\"], [1.0, \"#fde725\"]], \"line\": {\"color\": \"MediumPurple\", \"width\": 1.0}, \"size\": 12, \"symbol\": \"circle\"}, \"mode\": \"markers\", \"name\": \"9wzqvtmw6a\", \"showlegend\": false, \"type\": \"scatter\", \"x\": [21.14295847927217], \"y\": [-6.71302439875]}, {\"legendgroup\": \"b49kx4c19q\", \"marker\": {\"color\": -0.0007980658333330837, \"colorbar\": {\"thickness\": 10}, \"colorscale\": [[0.0, \"#440154\"], [0.1111111111111111, \"#482878\"], [0.2222222222222222, \"#3e4989\"], [0.3333333333333333, \"#31688e\"], [0.4444444444444444, \"#26828e\"], [0.5555555555555556, \"#1f9e89\"], [0.6666666666666666, \"#35b779\"], [0.7777777777777778, \"#6ece58\"], [0.8888888888888888, \"#b5de2b\"], [1.0, \"#fde725\"]], \"line\": {\"color\": \"MediumPurple\", \"width\": 1.0}, \"size\": 12, \"symbol\": \"diamond\"}, \"mode\": \"markers\", \"name\": \"b49kx4c19q\", \"showlegend\": true, \"type\": \"scatter\", \"x\": [10.844300193769683], \"y\": [-6.961768555833333]}, {\"legendgroup\": \"b49kx4c19q\", \"marker\": {\"color\": -0.0007980658333330837, \"colorbar\": {\"thickness\": 10}, \"colorscale\": [[0.0, \"#440154\"], [0.1111111111111111, \"#482878\"], [0.2222222222222222, \"#3e4989\"], [0.3333333333333333, \"#31688e\"], [0.4444444444444444, \"#26828e\"], [0.5555555555555556, \"#1f9e89\"], [0.6666666666666666, \"#35b779\"], [0.7777777777777778, \"#6ece58\"], [0.8888888888888888, \"#b5de2b\"], [1.0, \"#fde725\"]], \"line\": {\"color\": \"MediumPurple\", \"width\": 1.0}, \"size\": 12, \"symbol\": \"circle\"}, \"mode\": \"markers\", \"name\": \"b49kx4c19q\", \"showlegend\": false, \"type\": \"scatter\", \"x\": [10.882806785835847], \"y\": [-6.96097049]}, {\"legendgroup\": \"6dxsvlbymt\", \"marker\": {\"color\": -0.033470962500000034, \"colorbar\": {\"thickness\": 10}, \"colorscale\": [[0.0, \"#440154\"], [0.1111111111111111, \"#482878\"], [0.2222222222222222, \"#3e4989\"], [0.3333333333333333, \"#31688e\"], [0.4444444444444444, \"#26828e\"], [0.5555555555555556, \"#1f9e89\"], [0.6666666666666666, \"#35b779\"], [0.7777777777777778, \"#6ece58\"], [0.8888888888888888, \"#b5de2b\"], [1.0, \"#fde725\"]], \"line\": {\"color\": \"MediumPurple\", \"width\": 1.0}, \"size\": 12, \"symbol\": \"diamond\"}, \"mode\": \"markers\", \"name\": \"6dxsvlbymt\", \"showlegend\": true, \"type\": \"scatter\", \"x\": [16.514162048333393], \"y\": [-6.127629045833333]}, {\"legendgroup\": \"6dxsvlbymt\", \"marker\": {\"color\": -0.033470962500000034, \"colorbar\": {\"thickness\": 10}, \"colorscale\": [[0.0, \"#440154\"], [0.1111111111111111, \"#482878\"], [0.2222222222222222, \"#3e4989\"], [0.3333333333333333, \"#31688e\"], [0.4444444444444444, \"#26828e\"], [0.5555555555555556, \"#1f9e89\"], [0.6666666666666666, \"#35b779\"], [0.7777777777777778, \"#6ece58\"], [0.8888888888888888, \"#b5de2b\"], [1.0, \"#fde725\"]], \"line\": {\"color\": \"MediumPurple\", \"width\": 1.0}, \"size\": 12, \"symbol\": \"circle\"}, \"mode\": \"markers\", \"name\": \"6dxsvlbymt\", \"showlegend\": false, \"type\": \"scatter\", \"x\": [12.587915072298616], \"y\": [-6.094158083333333]}, {\"legendgroup\": \"7f8pm5mhnu\", \"marker\": {\"color\": -0.00010180499999989934, \"colorbar\": {\"thickness\": 10}, \"colorscale\": [[0.0, \"#440154\"], [0.1111111111111111, \"#482878\"], [0.2222222222222222, \"#3e4989\"], [0.3333333333333333, \"#31688e\"], [0.4444444444444444, \"#26828e\"], [0.5555555555555556, \"#1f9e89\"], [0.6666666666666666, \"#35b779\"], [0.7777777777777778, \"#6ece58\"], [0.8888888888888888, \"#b5de2b\"], [1.0, \"#fde725\"]], \"line\": {\"color\": \"MediumPurple\", \"width\": 1.0}, \"size\": 12, \"symbol\": \"diamond\"}, \"mode\": \"markers\", \"name\": \"7f8pm5mhnu\", \"showlegend\": true, \"type\": \"scatter\", \"x\": [13.756302301948976], \"y\": [-6.271106365]}, {\"legendgroup\": \"7f8pm5mhnu\", \"marker\": {\"color\": -0.00010180499999989934, \"colorbar\": {\"thickness\": 10}, \"colorscale\": [[0.0, \"#440154\"], [0.1111111111111111, \"#482878\"], [0.2222222222222222, \"#3e4989\"], [0.3333333333333333, \"#31688e\"], [0.4444444444444444, \"#26828e\"], [0.5555555555555556, \"#1f9e89\"], [0.6666666666666666, \"#35b779\"], [0.7777777777777778, \"#6ece58\"], [0.8888888888888888, \"#b5de2b\"], [1.0, \"#fde725\"]], \"line\": {\"color\": \"MediumPurple\", \"width\": 1.0}, \"size\": 12, \"symbol\": \"circle\"}, \"mode\": \"markers\", \"name\": \"7f8pm5mhnu\", \"showlegend\": false, \"type\": \"scatter\", \"x\": [13.75806840174202], \"y\": [-6.27100456]}, {\"legendgroup\": \"vwbhvwmjmw\", \"marker\": {\"color\": -0.05187412250000012, \"colorbar\": {\"thickness\": 10}, \"colorscale\": [[0.0, \"#440154\"], [0.1111111111111111, \"#482878\"], [0.2222222222222222, \"#3e4989\"], [0.3333333333333333, \"#31688e\"], [0.4444444444444444, \"#26828e\"], [0.5555555555555556, \"#1f9e89\"], [0.6666666666666666, \"#35b779\"], [0.7777777777777778, \"#6ece58\"], [0.8888888888888888, \"#b5de2b\"], [1.0, \"#fde725\"]], \"line\": {\"color\": \"MediumPurple\", \"width\": 1.0}, \"size\": 12, \"symbol\": \"diamond\"}, \"mode\": \"markers\", \"name\": \"vwbhvwmjmw\", \"showlegend\": true, \"type\": \"scatter\", \"x\": [21.183451571490888], \"y\": [-6.223395707916667]}, {\"legendgroup\": \"vwbhvwmjmw\", \"marker\": {\"color\": -0.05187412250000012, \"colorbar\": {\"thickness\": 10}, \"colorscale\": [[0.0, \"#440154\"], [0.1111111111111111, \"#482878\"], [0.2222222222222222, \"#3e4989\"], [0.3333333333333333, \"#31688e\"], [0.4444444444444444, \"#26828e\"], [0.5555555555555556, \"#1f9e89\"], [0.6666666666666666, \"#35b779\"], [0.7777777777777778, \"#6ece58\"], [0.8888888888888888, \"#b5de2b\"], [1.0, \"#fde725\"]], \"line\": {\"color\": \"MediumPurple\", \"width\": 1.0}, \"size\": 12, \"symbol\": \"circle\"}, \"mode\": \"markers\", \"name\": \"vwbhvwmjmw\", \"showlegend\": false, \"type\": \"scatter\", \"x\": [22.3428310942342], \"y\": [-6.1715215854166665]}, {\"legendgroup\": \"bdbizg74vt\", \"marker\": {\"color\": -0.37639330000000015, \"colorbar\": {\"thickness\": 10}, \"colorscale\": [[0.0, \"#440154\"], [0.1111111111111111, \"#482878\"], [0.2222222222222222, \"#3e4989\"], [0.3333333333333333, \"#31688e\"], [0.4444444444444444, \"#26828e\"], [0.5555555555555556, \"#1f9e89\"], [0.6666666666666666, \"#35b779\"], [0.7777777777777778, \"#6ece58\"], [0.8888888888888888, \"#b5de2b\"], [1.0, \"#fde725\"]], \"line\": {\"color\": \"MediumPurple\", \"width\": 1.0}, \"size\": 12, \"symbol\": \"diamond\"}, \"mode\": \"markers\", \"name\": \"bdbizg74vt\", \"showlegend\": true, \"type\": \"scatter\", \"x\": [18.873187435751984], \"y\": [-6.421183248333333]}, {\"legendgroup\": \"bdbizg74vt\", \"marker\": {\"color\": -0.37639330000000015, \"colorbar\": {\"thickness\": 10}, \"colorscale\": [[0.0, \"#440154\"], [0.1111111111111111, \"#482878\"], [0.2222222222222222, \"#3e4989\"], [0.3333333333333333, \"#31688e\"], [0.4444444444444444, \"#26828e\"], [0.5555555555555556, \"#1f9e89\"], [0.6666666666666666, \"#35b779\"], [0.7777777777777778, \"#6ece58\"], [0.8888888888888888, \"#b5de2b\"], [1.0, \"#fde725\"]], \"line\": {\"color\": \"MediumPurple\", \"width\": 1.0}, \"size\": 12, \"symbol\": \"circle\"}, \"mode\": \"markers\", \"name\": \"bdbizg74vt\", \"showlegend\": false, \"type\": \"scatter\", \"x\": [13.262941521004684], \"y\": [-6.0447899483333325]}, {\"legendgroup\": \"9pzh8yxixe\", \"marker\": {\"color\": -0.00022957812500035146, \"colorbar\": {\"thickness\": 10}, \"colorscale\": [[0.0, \"#440154\"], [0.1111111111111111, \"#482878\"], [0.2222222222222222, \"#3e4989\"], [0.3333333333333333, \"#31688e\"], [0.4444444444444444, \"#26828e\"], [0.5555555555555556, \"#1f9e89\"], [0.6666666666666666, \"#35b779\"], [0.7777777777777778, \"#6ece58\"], [0.8888888888888888, \"#b5de2b\"], [1.0, \"#fde725\"]], \"line\": {\"color\": \"MediumPurple\", \"width\": 1.0}, \"size\": 12, \"symbol\": \"diamond\"}, \"mode\": \"markers\", \"name\": \"9pzh8yxixe\", \"showlegend\": true, \"type\": \"scatter\", \"x\": [20.329032456061874], \"y\": [-6.13143171125]}, {\"legendgroup\": \"9pzh8yxixe\", \"marker\": {\"color\": -0.00022957812500035146, \"colorbar\": {\"thickness\": 10}, \"colorscale\": [[0.0, \"#440154\"], [0.1111111111111111, \"#482878\"], [0.2222222222222222, \"#3e4989\"], [0.3333333333333333, \"#31688e\"], [0.4444444444444444, \"#26828e\"], [0.5555555555555556, \"#1f9e89\"], [0.6666666666666666, \"#35b779\"], [0.7777777777777778, \"#6ece58\"], [0.8888888888888888, \"#b5de2b\"], [1.0, \"#fde725\"]], \"line\": {\"color\": \"MediumPurple\", \"width\": 1.0}, \"size\": 12, \"symbol\": \"circle\"}, \"mode\": \"markers\", \"name\": \"9pzh8yxixe\", \"showlegend\": false, \"type\": \"scatter\", \"x\": [20.44954389937546], \"y\": [-6.131202133125]}, {\"legendgroup\": \"95nfmd6fce\", \"marker\": {\"color\": 0.0004463381249992793, \"colorbar\": {\"thickness\": 10}, \"colorscale\": [[0.0, \"#440154\"], [0.1111111111111111, \"#482878\"], [0.2222222222222222, \"#3e4989\"], [0.3333333333333333, \"#31688e\"], [0.4444444444444444, \"#26828e\"], [0.5555555555555556, \"#1f9e89\"], [0.6666666666666666, \"#35b779\"], [0.7777777777777778, \"#6ece58\"], [0.8888888888888888, \"#b5de2b\"], [1.0, \"#fde725\"]], \"line\": {\"color\": \"MediumPurple\", \"width\": 1.0}, \"size\": 12, \"symbol\": \"diamond\"}, \"mode\": \"markers\", \"name\": \"95nfmd6fce\", \"showlegend\": true, \"type\": \"scatter\", \"x\": [24.314525034994244], \"y\": [-6.133204605]}, {\"legendgroup\": \"95nfmd6fce\", \"marker\": {\"color\": 0.0004463381249992793, \"colorbar\": {\"thickness\": 10}, \"colorscale\": [[0.0, \"#440154\"], [0.1111111111111111, \"#482878\"], [0.2222222222222222, \"#3e4989\"], [0.3333333333333333, \"#31688e\"], [0.4444444444444444, \"#26828e\"], [0.5555555555555556, \"#1f9e89\"], [0.6666666666666666, \"#35b779\"], [0.7777777777777778, \"#6ece58\"], [0.8888888888888888, \"#b5de2b\"], [1.0, \"#fde725\"]], \"line\": {\"color\": \"MediumPurple\", \"width\": 1.0}, \"size\": 12, \"symbol\": \"circle\"}, \"mode\": \"markers\", \"name\": \"95nfmd6fce\", \"showlegend\": false, \"type\": \"scatter\", \"x\": [24.36333574190504], \"y\": [-6.133650943125]}, {\"legendgroup\": \"6s648e8s6p\", \"marker\": {\"color\": -8.032291666459912e-06, \"colorbar\": {\"thickness\": 10}, \"colorscale\": [[0.0, \"#440154\"], [0.1111111111111111, \"#482878\"], [0.2222222222222222, \"#3e4989\"], [0.3333333333333333, \"#31688e\"], [0.4444444444444444, \"#26828e\"], [0.5555555555555556, \"#1f9e89\"], [0.6666666666666666, \"#35b779\"], [0.7777777777777778, \"#6ece58\"], [0.8888888888888888, \"#b5de2b\"], [1.0, \"#fde725\"]], \"line\": {\"color\": \"MediumPurple\", \"width\": 1.0}, \"size\": 12, \"symbol\": \"diamond\"}, \"mode\": \"markers\", \"name\": \"6s648e8s6p\", \"showlegend\": true, \"type\": \"scatter\", \"x\": [15.099724148465944], \"y\": [-6.419084197708333]}, {\"legendgroup\": \"6s648e8s6p\", \"marker\": {\"color\": -8.032291666459912e-06, \"colorbar\": {\"thickness\": 10}, \"colorscale\": [[0.0, \"#440154\"], [0.1111111111111111, \"#482878\"], [0.2222222222222222, \"#3e4989\"], [0.3333333333333333, \"#31688e\"], [0.4444444444444444, \"#26828e\"], [0.5555555555555556, \"#1f9e89\"], [0.6666666666666666, \"#35b779\"], [0.7777777777777778, \"#6ece58\"], [0.8888888888888888, \"#b5de2b\"], [1.0, \"#fde725\"]], \"line\": {\"color\": \"MediumPurple\", \"width\": 1.0}, \"size\": 12, \"symbol\": \"circle\"}, \"mode\": \"markers\", \"name\": \"6s648e8s6p\", \"showlegend\": false, \"type\": \"scatter\", \"x\": [15.147912952242757], \"y\": [-6.419076165416667]}, {\"legendgroup\": \"8pmqmq9r8f\", \"marker\": {\"color\": 0.00809588499999947, \"colorbar\": {\"thickness\": 10}, \"colorscale\": [[0.0, \"#440154\"], [0.1111111111111111, \"#482878\"], [0.2222222222222222, \"#3e4989\"], [0.3333333333333333, \"#31688e\"], [0.4444444444444444, \"#26828e\"], [0.5555555555555556, \"#1f9e89\"], [0.6666666666666666, \"#35b779\"], [0.7777777777777778, \"#6ece58\"], [0.8888888888888888, \"#b5de2b\"], [1.0, \"#fde725\"]], \"line\": {\"color\": \"MediumPurple\", \"width\": 1.0}, \"size\": 12, \"symbol\": \"diamond\"}, \"mode\": \"markers\", \"name\": \"8pmqmq9r8f\", \"showlegend\": true, \"type\": \"scatter\", \"x\": [20.826025718329333], \"y\": [-6.111398525]}, {\"legendgroup\": \"8pmqmq9r8f\", \"marker\": {\"color\": 0.00809588499999947, \"colorbar\": {\"thickness\": 10}, \"colorscale\": [[0.0, \"#440154\"], [0.1111111111111111, \"#482878\"], [0.2222222222222222, \"#3e4989\"], [0.3333333333333333, \"#31688e\"], [0.4444444444444444, \"#26828e\"], [0.5555555555555556, \"#1f9e89\"], [0.6666666666666666, \"#35b779\"], [0.7777777777777778, \"#6ece58\"], [0.8888888888888888, \"#b5de2b\"], [1.0, \"#fde725\"]], \"line\": {\"color\": \"MediumPurple\", \"width\": 1.0}, \"size\": 12, \"symbol\": \"circle\"}, \"mode\": \"markers\", \"name\": \"8pmqmq9r8f\", \"showlegend\": false, \"type\": \"scatter\", \"x\": [20.200453922643263], \"y\": [-6.11949441]}, {\"legendgroup\": \"nd919pnr6q\", \"marker\": {\"color\": -0.05827620125000088, \"colorbar\": {\"thickness\": 10}, \"colorscale\": [[0.0, \"#440154\"], [0.1111111111111111, \"#482878\"], [0.2222222222222222, \"#3e4989\"], [0.3333333333333333, \"#31688e\"], [0.4444444444444444, \"#26828e\"], [0.5555555555555556, \"#1f9e89\"], [0.6666666666666666, \"#35b779\"], [0.7777777777777778, \"#6ece58\"], [0.8888888888888888, \"#b5de2b\"], [1.0, \"#fde725\"]], \"line\": {\"color\": \"MediumPurple\", \"width\": 1.0}, \"size\": 12, \"symbol\": \"diamond\"}, \"mode\": \"markers\", \"name\": \"nd919pnr6q\", \"showlegend\": true, \"type\": \"scatter\", \"x\": [13.26283394876871], \"y\": [-6.807534819583334]}, {\"legendgroup\": \"nd919pnr6q\", \"marker\": {\"color\": -0.05827620125000088, \"colorbar\": {\"thickness\": 10}, \"colorscale\": [[0.0, \"#440154\"], [0.1111111111111111, \"#482878\"], [0.2222222222222222, \"#3e4989\"], [0.3333333333333333, \"#31688e\"], [0.4444444444444444, \"#26828e\"], [0.5555555555555556, \"#1f9e89\"], [0.6666666666666666, \"#35b779\"], [0.7777777777777778, \"#6ece58\"], [0.8888888888888888, \"#b5de2b\"], [1.0, \"#fde725\"]], \"line\": {\"color\": \"MediumPurple\", \"width\": 1.0}, \"size\": 12, \"symbol\": \"circle\"}, \"mode\": \"markers\", \"name\": \"nd919pnr6q\", \"showlegend\": false, \"type\": \"scatter\", \"x\": [12.499463381255445], \"y\": [-6.749258618333333]}, {\"legendgroup\": \"bgcpc2vabf\", \"marker\": {\"color\": -0.00014941562499970473, \"colorbar\": {\"thickness\": 10}, \"colorscale\": [[0.0, \"#440154\"], [0.1111111111111111, \"#482878\"], [0.2222222222222222, \"#3e4989\"], [0.3333333333333333, \"#31688e\"], [0.4444444444444444, \"#26828e\"], [0.5555555555555556, \"#1f9e89\"], [0.6666666666666666, \"#35b779\"], [0.7777777777777778, \"#6ece58\"], [0.8888888888888888, \"#b5de2b\"], [1.0, \"#fde725\"]], \"line\": {\"color\": \"MediumPurple\", \"width\": 1.0}, \"size\": 12, \"symbol\": \"diamond\"}, \"mode\": \"markers\", \"name\": \"bgcpc2vabf\", \"showlegend\": true, \"type\": \"scatter\", \"x\": [11.655157035681606], \"y\": [-6.380464551875]}, {\"legendgroup\": \"bgcpc2vabf\", \"marker\": {\"color\": -0.00014941562499970473, \"colorbar\": {\"thickness\": 10}, \"colorscale\": [[0.0, \"#440154\"], [0.1111111111111111, \"#482878\"], [0.2222222222222222, \"#3e4989\"], [0.3333333333333333, \"#31688e\"], [0.4444444444444444, \"#26828e\"], [0.5555555555555556, \"#1f9e89\"], [0.6666666666666666, \"#35b779\"], [0.7777777777777778, \"#6ece58\"], [0.8888888888888888, \"#b5de2b\"], [1.0, \"#fde725\"]], \"line\": {\"color\": \"MediumPurple\", \"width\": 1.0}, \"size\": 12, \"symbol\": \"circle\"}, \"mode\": \"markers\", \"name\": \"bgcpc2vabf\", \"showlegend\": false, \"type\": \"scatter\", \"x\": [11.652437023048714], \"y\": [-6.38031513625]}, {\"legendgroup\": \"z39g648rnl\", \"marker\": {\"color\": -0.00022473291666713635, \"colorbar\": {\"thickness\": 10}, \"colorscale\": [[0.0, \"#440154\"], [0.1111111111111111, \"#482878\"], [0.2222222222222222, \"#3e4989\"], [0.3333333333333333, \"#31688e\"], [0.4444444444444444, \"#26828e\"], [0.5555555555555556, \"#1f9e89\"], [0.6666666666666666, \"#35b779\"], [0.7777777777777778, \"#6ece58\"], [0.8888888888888888, \"#b5de2b\"], [1.0, \"#fde725\"]], \"line\": {\"color\": \"MediumPurple\", \"width\": 1.0}, \"size\": 12, \"symbol\": \"diamond\"}, \"mode\": \"markers\", \"name\": \"z39g648rnl\", \"showlegend\": true, \"type\": \"scatter\", \"x\": [28.029756323070334], \"y\": [-6.28196167]}, {\"legendgroup\": \"z39g648rnl\", \"marker\": {\"color\": -0.00022473291666713635, \"colorbar\": {\"thickness\": 10}, \"colorscale\": [[0.0, \"#440154\"], [0.1111111111111111, \"#482878\"], [0.2222222222222222, \"#3e4989\"], [0.3333333333333333, \"#31688e\"], [0.4444444444444444, \"#26828e\"], [0.5555555555555556, \"#1f9e89\"], [0.6666666666666666, \"#35b779\"], [0.7777777777777778, \"#6ece58\"], [0.8888888888888888, \"#b5de2b\"], [1.0, \"#fde725\"]], \"line\": {\"color\": \"MediumPurple\", \"width\": 1.0}, \"size\": 12, \"symbol\": \"circle\"}, \"mode\": \"markers\", \"name\": \"z39g648rnl\", \"showlegend\": false, \"type\": \"scatter\", \"x\": [28.03092500984488], \"y\": [-6.281736937083333]}, {\"legendgroup\": \"cr6rcena9l\", \"marker\": {\"color\": -0.0028669666666676363, \"colorbar\": {\"thickness\": 10}, \"colorscale\": [[0.0, \"#440154\"], [0.1111111111111111, \"#482878\"], [0.2222222222222222, \"#3e4989\"], [0.3333333333333333, \"#31688e\"], [0.4444444444444444, \"#26828e\"], [0.5555555555555556, \"#1f9e89\"], [0.6666666666666666, \"#35b779\"], [0.7777777777777778, \"#6ece58\"], [0.8888888888888888, \"#b5de2b\"], [1.0, \"#fde725\"]], \"line\": {\"color\": \"MediumPurple\", \"width\": 1.0}, \"size\": 12, \"symbol\": \"diamond\"}, \"mode\": \"markers\", \"name\": \"cr6rcena9l\", \"showlegend\": true, \"type\": \"scatter\", \"x\": [14.400834399484465], \"y\": [-6.249802933333334]}, {\"legendgroup\": \"cr6rcena9l\", \"marker\": {\"color\": -0.0028669666666676363, \"colorbar\": {\"thickness\": 10}, \"colorscale\": [[0.0, \"#440154\"], [0.1111111111111111, \"#482878\"], [0.2222222222222222, \"#3e4989\"], [0.3333333333333333, \"#31688e\"], [0.4444444444444444, \"#26828e\"], [0.5555555555555556, \"#1f9e89\"], [0.6666666666666666, \"#35b779\"], [0.7777777777777778, \"#6ece58\"], [0.8888888888888888, \"#b5de2b\"], [1.0, \"#fde725\"]], \"line\": {\"color\": \"MediumPurple\", \"width\": 1.0}, \"size\": 12, \"symbol\": \"circle\"}, \"mode\": \"markers\", \"name\": \"cr6rcena9l\", \"showlegend\": false, \"type\": \"scatter\", \"x\": [14.132743842752424], \"y\": [-6.246935966666666]}, {\"legendgroup\": \"9yz2mt8hbh\", \"marker\": {\"color\": -0.00011425416666721588, \"colorbar\": {\"thickness\": 10}, \"colorscale\": [[0.0, \"#440154\"], [0.1111111111111111, \"#482878\"], [0.2222222222222222, \"#3e4989\"], [0.3333333333333333, \"#31688e\"], [0.4444444444444444, \"#26828e\"], [0.5555555555555556, \"#1f9e89\"], [0.6666666666666666, \"#35b779\"], [0.7777777777777778, \"#6ece58\"], [0.8888888888888888, \"#b5de2b\"], [1.0, \"#fde725\"]], \"line\": {\"color\": \"MediumPurple\", \"width\": 1.0}, \"size\": 12, \"symbol\": \"diamond\"}, \"mode\": \"markers\", \"name\": \"9yz2mt8hbh\", \"showlegend\": true, \"type\": \"scatter\", \"x\": [10.95170787125321], \"y\": [-7.04742625]}, {\"legendgroup\": \"9yz2mt8hbh\", \"marker\": {\"color\": -0.00011425416666721588, \"colorbar\": {\"thickness\": 10}, \"colorscale\": [[0.0, \"#440154\"], [0.1111111111111111, \"#482878\"], [0.2222222222222222, \"#3e4989\"], [0.3333333333333333, \"#31688e\"], [0.4444444444444444, \"#26828e\"], [0.5555555555555556, \"#1f9e89\"], [0.6666666666666666, \"#35b779\"], [0.7777777777777778, \"#6ece58\"], [0.8888888888888888, \"#b5de2b\"], [1.0, \"#fde725\"]], \"line\": {\"color\": \"MediumPurple\", \"width\": 1.0}, \"size\": 12, \"symbol\": \"circle\"}, \"mode\": \"markers\", \"name\": \"9yz2mt8hbh\", \"showlegend\": false, \"type\": \"scatter\", \"x\": [10.94958677969624], \"y\": [-7.047311995833333]}, {\"legendgroup\": \"9e8jmu7hmo\", \"marker\": {\"color\": -0.0013757149999999996, \"colorbar\": {\"thickness\": 10}, \"colorscale\": [[0.0, \"#440154\"], [0.1111111111111111, \"#482878\"], [0.2222222222222222, \"#3e4989\"], [0.3333333333333333, \"#31688e\"], [0.4444444444444444, \"#26828e\"], [0.5555555555555556, \"#1f9e89\"], [0.6666666666666666, \"#35b779\"], [0.7777777777777778, \"#6ece58\"], [0.8888888888888888, \"#b5de2b\"], [1.0, \"#fde725\"]], \"line\": {\"color\": \"MediumPurple\", \"width\": 1.0}, \"size\": 12, \"symbol\": \"diamond\"}, \"mode\": \"markers\", \"name\": \"9e8jmu7hmo\", \"showlegend\": true, \"type\": \"scatter\", \"x\": [10.862839723389687], \"y\": [-6.09827971]}, {\"legendgroup\": \"9e8jmu7hmo\", \"marker\": {\"color\": -0.0013757149999999996, \"colorbar\": {\"thickness\": 10}, \"colorscale\": [[0.0, \"#440154\"], [0.1111111111111111, \"#482878\"], [0.2222222222222222, \"#3e4989\"], [0.3333333333333333, \"#31688e\"], [0.4444444444444444, \"#26828e\"], [0.5555555555555556, \"#1f9e89\"], [0.6666666666666666, \"#35b779\"], [0.7777777777777778, \"#6ece58\"], [0.8888888888888888, \"#b5de2b\"], [1.0, \"#fde725\"]], \"line\": {\"color\": \"MediumPurple\", \"width\": 1.0}, \"size\": 12, \"symbol\": \"circle\"}, \"mode\": \"markers\", \"name\": \"9e8jmu7hmo\", \"showlegend\": false, \"type\": \"scatter\", \"x\": [10.933316724801948], \"y\": [-6.096903995]}, {\"legendgroup\": \"cgx3mkzhmd\", \"marker\": {\"color\": -2.631749999970623e-05, \"colorbar\": {\"thickness\": 10}, \"colorscale\": [[0.0, \"#440154\"], [0.1111111111111111, \"#482878\"], [0.2222222222222222, \"#3e4989\"], [0.3333333333333333, \"#31688e\"], [0.4444444444444444, \"#26828e\"], [0.5555555555555556, \"#1f9e89\"], [0.6666666666666666, \"#35b779\"], [0.7777777777777778, \"#6ece58\"], [0.8888888888888888, \"#b5de2b\"], [1.0, \"#fde725\"]], \"line\": {\"color\": \"MediumPurple\", \"width\": 1.0}, \"size\": 12, \"symbol\": \"diamond\"}, \"mode\": \"markers\", \"name\": \"cgx3mkzhmd\", \"showlegend\": true, \"type\": \"scatter\", \"x\": [13.75124050684884], \"y\": [-6.27975646875]}, {\"legendgroup\": \"cgx3mkzhmd\", \"marker\": {\"color\": -2.631749999970623e-05, \"colorbar\": {\"thickness\": 10}, \"colorscale\": [[0.0, \"#440154\"], [0.1111111111111111, \"#482878\"], [0.2222222222222222, \"#3e4989\"], [0.3333333333333333, \"#31688e\"], [0.4444444444444444, \"#26828e\"], [0.5555555555555556, \"#1f9e89\"], [0.6666666666666666, \"#35b779\"], [0.7777777777777778, \"#6ece58\"], [0.8888888888888888, \"#b5de2b\"], [1.0, \"#fde725\"]], \"line\": {\"color\": \"MediumPurple\", \"width\": 1.0}, \"size\": 12, \"symbol\": \"circle\"}, \"mode\": \"markers\", \"name\": \"cgx3mkzhmd\", \"showlegend\": false, \"type\": \"scatter\", \"x\": [13.753852244074528], \"y\": [-6.27973015125]}, {\"legendgroup\": \"6d6a8a637i\", \"line\": {\"color\": \"grey\", \"width\": 1.0}, \"mode\": \"lines\", \"showlegend\": false, \"type\": \"scatter\", \"x\": [20.110814508452755, 20.12323567646139], \"y\": [-6.170612928125, -6.17055716375]}, {\"legendgroup\": \"6dxsvlbymt\", \"line\": {\"color\": \"grey\", \"width\": 1.0}, \"mode\": \"lines\", \"showlegend\": false, \"type\": \"scatter\", \"x\": [16.514162048333393, 12.587915072298616], \"y\": [-6.127629045833333, -6.094158083333333]}, {\"legendgroup\": \"6fzy7kcrxy\", \"line\": {\"color\": \"grey\", \"width\": 1.0}, \"mode\": \"lines\", \"showlegend\": false, \"type\": \"scatter\", \"x\": [11.060233379224897, 11.062013155071128], \"y\": [-5.6724562025, -5.671935805833333]}, {\"legendgroup\": \"6obuvfvi9d\", \"line\": {\"color\": \"grey\", \"width\": 1.0}, \"mode\": \"lines\", \"showlegend\": false, \"type\": \"scatter\", \"x\": [18.56084405266874, 17.980947022965527], \"y\": [-6.737123299166666, -6.735893655000001]}, {\"legendgroup\": \"6s648e8s6p\", \"line\": {\"color\": \"grey\", \"width\": 1.0}, \"mode\": \"lines\", \"showlegend\": false, \"type\": \"scatter\", \"x\": [15.099724148465944, 15.147912952242757], \"y\": [-6.419084197708333, -6.419076165416667]}, {\"legendgroup\": \"6w7ezj7gml\", \"line\": {\"color\": \"grey\", \"width\": 1.0}, \"mode\": \"lines\", \"showlegend\": false, \"type\": \"scatter\", \"x\": [14.490306588307368, 14.496833023906213], \"y\": [-6.758501716458333, -6.758041009166667]}, {\"legendgroup\": \"7am4vwzi7p\", \"line\": {\"color\": \"grey\", \"width\": 1.0}, \"mode\": \"lines\", \"showlegend\": false, \"type\": \"scatter\", \"x\": [10.849656208841806, 10.80015157252812], \"y\": [-4.978113020833333, -4.9852155925]}, {\"legendgroup\": \"7ave8rzrzj\", \"line\": {\"color\": \"grey\", \"width\": 1.0}, \"mode\": \"lines\", \"showlegend\": false, \"type\": \"scatter\", \"x\": [17.235308724015464, 38.86801604931104], \"y\": [-6.322997910000001, -4.003333671666667]}, {\"legendgroup\": \"7en56j64mi\", \"line\": {\"color\": \"grey\", \"width\": 1.0}, \"mode\": \"lines\", \"showlegend\": false, \"type\": \"scatter\", \"x\": [13.326239305597166, 13.326504904706503], \"y\": [-5.907570893125, -5.9076066275]}, {\"legendgroup\": \"7f8pm5mhnu\", \"line\": {\"color\": \"grey\", \"width\": 1.0}, \"mode\": \"lines\", \"showlegend\": false, \"type\": \"scatter\", \"x\": [13.756302301948976, 13.75806840174202], \"y\": [-6.271106365, -6.27100456]}, {\"legendgroup\": \"7h62vo74x4\", \"line\": {\"color\": \"grey\", \"width\": 1.0}, \"mode\": \"lines\", \"showlegend\": false, \"type\": \"scatter\", \"x\": [29.54640538477562, 29.696820936215087], \"y\": [-5.6310075675, -5.62228497875]}, {\"legendgroup\": \"82mwbwbgbl\", \"line\": {\"color\": \"grey\", \"width\": 1.0}, \"mode\": \"lines\", \"showlegend\": false, \"type\": \"scatter\", \"x\": [13.165961325909123, 13.137642245977725], \"y\": [-6.5813658675, -6.581169202083333]}, {\"legendgroup\": \"8495vjvsc3\", \"line\": {\"color\": \"grey\", \"width\": 1.0}, \"mode\": \"lines\", \"showlegend\": false, \"type\": \"scatter\", \"x\": [11.961844393965109, 13.211100053769378], \"y\": [-6.263938788888889, -6.56905158]}, {\"legendgroup\": \"8aza84xlvs\", \"line\": {\"color\": \"grey\", \"width\": 1.0}, \"mode\": \"lines\", \"showlegend\": false, \"type\": \"scatter\", \"x\": [14.034391831423996, 14.07513584197149], \"y\": [-6.807219115555556, -6.805667082777777]}, {\"legendgroup\": \"8g6g9dv47g\", \"line\": {\"color\": \"grey\", \"width\": 1.0}, \"mode\": \"lines\", \"showlegend\": false, \"type\": \"scatter\", \"x\": [24.080919434317003, 23.834723845693837], \"y\": [-6.12292283625, -6.1335402475]}, {\"legendgroup\": \"8gnt9rnd92\", \"line\": {\"color\": \"grey\", \"width\": 1.0}, \"mode\": \"lines\", \"showlegend\": false, \"type\": \"scatter\", \"x\": [12.684583057733304, 12.67717922598353], \"y\": [-6.353620888125, -6.353271475]}, {\"legendgroup\": \"8pmqmq9r8f\", \"line\": {\"color\": \"grey\", \"width\": 1.0}, \"mode\": \"lines\", \"showlegend\": false, \"type\": \"scatter\", \"x\": [20.826025718329333, 20.200453922643263], \"y\": [-6.111398525, -6.11949441]}, {\"legendgroup\": \"91746y6g6i\", \"line\": {\"color\": \"grey\", \"width\": 1.0}, \"mode\": \"lines\", \"showlegend\": false, \"type\": \"scatter\", \"x\": [14.523681548760642, 14.522419214660564], \"y\": [-6.75891042625, -6.7586293316666675]}, {\"legendgroup\": \"94vpmqvh9p\", \"line\": {\"color\": \"grey\", \"width\": 1.0}, \"mode\": \"lines\", \"showlegend\": false, \"type\": \"scatter\", \"x\": [19.931253795854396, 18.385014091101986], \"y\": [-6.1839906559375, -6.1765551215625]}, {\"legendgroup\": \"95nfmd6fce\", \"line\": {\"color\": \"grey\", \"width\": 1.0}, \"mode\": \"lines\", \"showlegend\": false, \"type\": \"scatter\", \"x\": [24.314525034994244, 24.36333574190504], \"y\": [-6.133204605, -6.133650943125]}, {\"legendgroup\": \"9e8jmu7hmo\", \"line\": {\"color\": \"grey\", \"width\": 1.0}, \"mode\": \"lines\", \"showlegend\": false, \"type\": \"scatter\", \"x\": [10.862839723389687, 10.933316724801948], \"y\": [-6.09827971, -6.096903995]}, {\"legendgroup\": \"9ivycocdvw\", \"line\": {\"color\": \"grey\", \"width\": 1.0}, \"mode\": \"lines\", \"showlegend\": false, \"type\": \"scatter\", \"x\": [18.21647475632034, 18.21114373036146], \"y\": [-6.48903900625, -6.489042062916667]}, {\"legendgroup\": \"9pzh8yxixe\", \"line\": {\"color\": \"grey\", \"width\": 1.0}, \"mode\": \"lines\", \"showlegend\": false, \"type\": \"scatter\", \"x\": [20.329032456061874, 20.44954389937546], \"y\": [-6.13143171125, -6.131202133125]}, {\"legendgroup\": \"9txdvicqcf\", \"line\": {\"color\": \"grey\", \"width\": 1.0}, \"mode\": \"lines\", \"showlegend\": false, \"type\": \"scatter\", \"x\": [11.131862055648448, 11.13668245311254], \"y\": [-6.464471491666667, -6.464390457083333]}, {\"legendgroup\": \"9uxemw7rv2\", \"line\": {\"color\": \"grey\", \"width\": 1.0}, \"mode\": \"lines\", \"showlegend\": false, \"type\": \"scatter\", \"x\": [12.881048561171667, 13.04761373118491], \"y\": [-6.6260351122916665, -6.610491094583334]}, {\"legendgroup\": \"9wzqvtmw6a\", \"line\": {\"color\": \"grey\", \"width\": 1.0}, \"mode\": \"lines\", \"showlegend\": false, \"type\": \"scatter\", \"x\": [21.138097173072893, 21.14295847927217], \"y\": [-6.713121547083333, -6.71302439875]}, {\"legendgroup\": \"9y85x1cp6e\", \"line\": {\"color\": \"grey\", \"width\": 1.0}, \"mode\": \"lines\", \"showlegend\": false, \"type\": \"scatter\", \"x\": [16.750199693429117, 16.809980836025137], \"y\": [-6.547264305416667, -6.5490027516666665]}, {\"legendgroup\": \"9yz2mt8hbh\", \"line\": {\"color\": \"grey\", \"width\": 1.0}, \"mode\": \"lines\", \"showlegend\": false, \"type\": \"scatter\", \"x\": [10.95170787125321, 10.94958677969624], \"y\": [-7.04742625, -7.047311995833333]}, {\"legendgroup\": \"b49kx4c19q\", \"line\": {\"color\": \"grey\", \"width\": 1.0}, \"mode\": \"lines\", \"showlegend\": false, \"type\": \"scatter\", \"x\": [10.844300193769683, 10.882806785835847], \"y\": [-6.961768555833333, -6.96097049]}, {\"legendgroup\": \"b4nrnqvl8h\", \"line\": {\"color\": \"grey\", \"width\": 1.0}, \"mode\": \"lines\", \"showlegend\": false, \"type\": \"scatter\", \"x\": [14.11999255535732, 14.33347585813917], \"y\": [-5.831600935, -5.83179830875]}, {\"legendgroup\": \"b5cgvsb16w\", \"line\": {\"color\": \"grey\", \"width\": 1.0}, \"mode\": \"lines\", \"showlegend\": false, \"type\": \"scatter\", \"x\": [12.027832152721652, 12.024976223645643], \"y\": [-6.456962203125, -6.456791791875]}, {\"legendgroup\": \"b5cib48g9t\", \"line\": {\"color\": \"grey\", \"width\": 1.0}, \"mode\": \"lines\", \"showlegend\": false, \"type\": \"scatter\", \"x\": [16.586680323746126, 18.601572696085736], \"y\": [-6.526308038333333, -6.47841321]}, {\"legendgroup\": \"bdbizg74vt\", \"line\": {\"color\": \"grey\", \"width\": 1.0}, \"mode\": \"lines\", \"showlegend\": false, \"type\": \"scatter\", \"x\": [18.873187435751984, 13.262941521004684], \"y\": [-6.421183248333333, -6.0447899483333325]}, {\"legendgroup\": \"bgcpc2vabf\", \"line\": {\"color\": \"grey\", \"width\": 1.0}, \"mode\": \"lines\", \"showlegend\": false, \"type\": \"scatter\", \"x\": [11.655157035681606, 11.652437023048714], \"y\": [-6.380464551875, -6.38031513625]}, {\"legendgroup\": \"bp7ynac4my\", \"line\": {\"color\": \"grey\", \"width\": 1.0}, \"mode\": \"lines\", \"showlegend\": false, \"type\": \"scatter\", \"x\": [13.152716970010935, 13.91037265676984], \"y\": [-6.643014765740741, -6.635847808703704]}, {\"legendgroup\": \"bpc2nk6qz1\", \"line\": {\"color\": \"grey\", \"width\": 1.0}, \"mode\": \"lines\", \"showlegend\": false, \"type\": \"scatter\", \"x\": [11.95241158838254, 11.093756658829378], \"y\": [-6.9442786299999995, -6.699091815]}, {\"legendgroup\": \"bpvynr7p9w\", \"line\": {\"color\": \"grey\", \"width\": 1.0}, \"mode\": \"lines\", \"showlegend\": false, \"type\": \"scatter\", \"x\": [13.676082967728714, 13.6729787842098], \"y\": [-6.2726585125, -6.272768690625]}, {\"legendgroup\": \"c48lx363be\", \"line\": {\"color\": \"grey\", \"width\": 1.0}, \"mode\": \"lines\", \"showlegend\": false, \"type\": \"scatter\", \"x\": [12.594083493133041, 12.59451971913595], \"y\": [-6.772998472499999, -6.772592894166666]}, {\"legendgroup\": \"cant6qca6o\", \"line\": {\"color\": \"grey\", \"width\": 1.0}, \"mode\": \"lines\", \"showlegend\": false, \"type\": \"scatter\", \"x\": [20.641102700262326, 20.017121864934797], \"y\": [-6.408366933333333, -6.441227616666667]}, {\"legendgroup\": \"cfcivdxrc2\", \"line\": {\"color\": \"grey\", \"width\": 1.0}, \"mode\": \"lines\", \"showlegend\": false, \"type\": \"scatter\", \"x\": [10.950427347921467, 10.953383870966732], \"y\": [-7.0454485333333325, -7.0451690000000005]}, {\"legendgroup\": \"cgx3mkzhmd\", \"line\": {\"color\": \"grey\", \"width\": 1.0}, \"mode\": \"lines\", \"showlegend\": false, \"type\": \"scatter\", \"x\": [13.75124050684884, 13.753852244074528], \"y\": [-6.27975646875, -6.27973015125]}, {\"legendgroup\": \"ckbg7d9u6u\", \"line\": {\"color\": \"grey\", \"width\": 1.0}, \"mode\": \"lines\", \"showlegend\": false, \"type\": \"scatter\", \"x\": [13.459708254162294, 13.210438233189869], \"y\": [-6.718412355416667, -6.715214825833333]}, {\"legendgroup\": \"cr6rcena9l\", \"line\": {\"color\": \"grey\", \"width\": 1.0}, \"mode\": \"lines\", \"showlegend\": false, \"type\": \"scatter\", \"x\": [14.400834399484465, 14.132743842752424], \"y\": [-6.249802933333334, -6.246935966666666]}, {\"legendgroup\": \"cung63bez1\", \"line\": {\"color\": \"grey\", \"width\": 1.0}, \"mode\": \"lines\", \"showlegend\": false, \"type\": \"scatter\", \"x\": [12.878014073126131, 12.9078506772451], \"y\": [-6.743333853333334, -6.743177469166667]}, {\"legendgroup\": \"m4cacfvjvh\", \"line\": {\"color\": \"grey\", \"width\": 1.0}, \"mode\": \"lines\", \"showlegend\": false, \"type\": \"scatter\", \"x\": [13.098691572803448, 13.213666380360472], \"y\": [-6.609411229583333, -6.576979638541666]}, {\"legendgroup\": \"macixavwv3\", \"line\": {\"color\": \"grey\", \"width\": 1.0}, \"mode\": \"lines\", \"showlegend\": false, \"type\": \"scatter\", \"x\": [11.122250259344606, 11.121115622322703], \"y\": [-6.4690128810416665, -6.468875995]}, {\"legendgroup\": \"md7oztcizu\", \"line\": {\"color\": \"grey\", \"width\": 1.0}, \"mode\": \"lines\", \"showlegend\": false, \"type\": \"scatter\", \"x\": [14.50148462185056, 14.501547428825681], \"y\": [-6.7578324375, -6.75854465]}, {\"legendgroup\": \"mi8ob2xq9h\", \"line\": {\"color\": \"grey\", \"width\": 1.0}, \"mode\": \"lines\", \"showlegend\": false, \"type\": \"scatter\", \"x\": [15.361378730791737, 15.17569879639599], \"y\": [-6.521136823611111, -6.657290909722223]}, {\"legendgroup\": \"mkvpml8q9e\", \"line\": {\"color\": \"grey\", \"width\": 1.0}, \"mode\": \"lines\", \"showlegend\": false, \"type\": \"scatter\", \"x\": [24.4467446874663, 24.644694559469183], \"y\": [-6.1268412075, -6.131440795]}, {\"legendgroup\": \"mlva81bg7p\", \"line\": {\"color\": \"grey\", \"width\": 1.0}, \"mode\": \"lines\", \"showlegend\": false, \"type\": \"scatter\", \"x\": [12.613235925166217, 12.471816647500875], \"y\": [-6.653620445416667, -6.65264242625]}, {\"legendgroup\": \"mp7svl6j8s\", \"line\": {\"color\": \"grey\", \"width\": 1.0}, \"mode\": \"lines\", \"showlegend\": false, \"type\": \"scatter\", \"x\": [19.016262302183897, 20.387034398459633], \"y\": [-6.1504233575, -6.1241113525]}, {\"legendgroup\": \"mpbd6sz1z5\", \"line\": {\"color\": \"grey\", \"width\": 1.0}, \"mode\": \"lines\", \"showlegend\": false, \"type\": \"scatter\", \"x\": [11.497320149117474, 10.762018520161932], \"y\": [-6.280755755833334, -6.2621732011111115]}, {\"legendgroup\": \"myc4ng73xh\", \"line\": {\"color\": \"grey\", \"width\": 1.0}, \"mode\": \"lines\", \"showlegend\": false, \"type\": \"scatter\", \"x\": [10.186654441042547, 10.193120518771337], \"y\": [-6.648283165833334, -6.645581081666666]}, {\"legendgroup\": \"nd919pnr6q\", \"line\": {\"color\": \"grey\", \"width\": 1.0}, \"mode\": \"lines\", \"showlegend\": false, \"type\": \"scatter\", \"x\": [13.26283394876871, 12.499463381255445], \"y\": [-6.807534819583334, -6.749258618333333]}, {\"legendgroup\": \"ni6svhmw74\", \"line\": {\"color\": \"grey\", \"width\": 1.0}, \"mode\": \"lines\", \"showlegend\": false, \"type\": \"scatter\", \"x\": [25.463998406392882, 25.46458095035551], \"y\": [-6.345803830555556, -6.345598855416666]}, {\"legendgroup\": \"nkmd71vt9q\", \"line\": {\"color\": \"grey\", \"width\": 1.0}, \"mode\": \"lines\", \"showlegend\": false, \"type\": \"scatter\", \"x\": [13.198958159424427, 15.813092072159016], \"y\": [-5.85307799, -5.935262205]}, {\"legendgroup\": \"nrml6dms9l\", \"line\": {\"color\": \"grey\", \"width\": 1.0}, \"mode\": \"lines\", \"showlegend\": false, \"type\": \"scatter\", \"x\": [11.889852104182722, 11.744742461303936], \"y\": [-6.37289985125, -6.3712957609375]}, {\"legendgroup\": \"nt6wv1n27r\", \"line\": {\"color\": \"grey\", \"width\": 1.0}, \"mode\": \"lines\", \"showlegend\": false, \"type\": \"scatter\", \"x\": [13.761650599771627, 15.640173284304757], \"y\": [-6.290211007500001, -6.564860335]}, {\"legendgroup\": \"v1vpxgbg9s\", \"line\": {\"color\": \"grey\", \"width\": 1.0}, \"mode\": \"lines\", \"showlegend\": false, \"type\": \"scatter\", \"x\": [11.697597710566937, 10.183930020401514], \"y\": [-6.634798865, -6.649610479000001]}, {\"legendgroup\": \"vhv39q6e9j\", \"line\": {\"color\": \"grey\", \"width\": 1.0}, \"mode\": \"lines\", \"showlegend\": false, \"type\": \"scatter\", \"x\": [11.373463572688967, 6.741221975121517], \"y\": [-6.392222053333334, -4.239576231111111]}, {\"legendgroup\": \"vl6uvqne6d\", \"line\": {\"color\": \"grey\", \"width\": 1.0}, \"mode\": \"lines\", \"showlegend\": false, \"type\": \"scatter\", \"x\": [13.039006309027805, 13.050842731152235], \"y\": [-6.604252169166667, -6.603279524375]}, {\"legendgroup\": \"vlbdnoxlnh\", \"line\": {\"color\": \"grey\", \"width\": 1.0}, \"mode\": \"lines\", \"showlegend\": false, \"type\": \"scatter\", \"x\": [10.868881658248148, 22.947477859505643], \"y\": [-6.461792755, -6.131351645]}, {\"legendgroup\": \"vsvsms92ng\", \"line\": {\"color\": \"grey\", \"width\": 1.0}, \"mode\": \"lines\", \"showlegend\": false, \"type\": \"scatter\", \"x\": [9.991766055274669, 9.991534744171007], \"y\": [-6.950299773333334, -6.950119699999999]}, {\"legendgroup\": \"vt9ynkzyna\", \"line\": {\"color\": \"grey\", \"width\": 1.0}, \"mode\": \"lines\", \"showlegend\": false, \"type\": \"scatter\", \"x\": [23.9602279764986, 24.01702045635393], \"y\": [-6.126286650625, -6.126355976666667]}, {\"legendgroup\": \"vwbhvwmjmw\", \"line\": {\"color\": \"grey\", \"width\": 1.0}, \"mode\": \"lines\", \"showlegend\": false, \"type\": \"scatter\", \"x\": [21.183451571490888, 22.3428310942342], \"y\": [-6.223395707916667, -6.1715215854166665]}, {\"legendgroup\": \"x2xj6wb48k\", \"line\": {\"color\": \"grey\", \"width\": 1.0}, \"mode\": \"lines\", \"showlegend\": false, \"type\": \"scatter\", \"x\": [12.158632090636106, 12.160392754972134], \"y\": [-6.343013570555556, -6.342687815555555]}, {\"legendgroup\": \"xgmkzuxf8g\", \"line\": {\"color\": \"grey\", \"width\": 1.0}, \"mode\": \"lines\", \"showlegend\": false, \"type\": \"scatter\", \"x\": [13.81332501680083, 14.191143413945264], \"y\": [-6.795048252777778, -6.794859277222222]}, {\"legendgroup\": \"xjbj6fbfn1\", \"line\": {\"color\": \"grey\", \"width\": 1.0}, \"mode\": \"lines\", \"showlegend\": false, \"type\": \"scatter\", \"x\": [14.490911706427854, 14.50869906656827], \"y\": [-6.758509948125, -6.758040476666667]}, {\"legendgroup\": \"xjxdzi73bg\", \"line\": {\"color\": \"grey\", \"width\": 1.0}, \"mode\": \"lines\", \"showlegend\": false, \"type\": \"scatter\", \"x\": [10.86831593077965, 23.262292081756197], \"y\": [-6.46176988, -6.131791685]}, {\"legendgroup\": \"xonhb1cgnq\", \"line\": {\"color\": \"grey\", \"width\": 1.0}, \"mode\": \"lines\", \"showlegend\": false, \"type\": \"scatter\", \"x\": [9.991867369326537, 9.993952407222405], \"y\": [-6.950299244166666, -6.950094485833334]}, {\"legendgroup\": \"z39g648rnl\", \"line\": {\"color\": \"grey\", \"width\": 1.0}, \"mode\": \"lines\", \"showlegend\": false, \"type\": \"scatter\", \"x\": [28.029756323070334, 28.03092500984488], \"y\": [-6.28196167, -6.281736937083333]}, {\"legendgroup\": \"zr9ic2zaz5\", \"line\": {\"color\": \"grey\", \"width\": 1.0}, \"mode\": \"lines\", \"showlegend\": false, \"type\": \"scatter\", \"x\": [13.676420149762865, 13.672843111672988], \"y\": [-6.272679945, -6.272770385625]}, {\"legendgroup\": \"zu6lnfze71\", \"line\": {\"color\": \"grey\", \"width\": 1.0}, \"mode\": \"lines\", \"showlegend\": false, \"type\": \"scatter\", \"x\": [12.823831111458004, 12.825934062791243], \"y\": [-5.948860956666667, -5.9483835275]}, {\"legendgroup\": \"zunqxh6g9j\", \"line\": {\"color\": \"grey\", \"width\": 1.0}, \"mode\": \"lines\", \"showlegend\": false, \"type\": \"scatter\", \"x\": [14.11074641611981, 10.561043040789468], \"y\": [-6.812768990333334, -6.639185524666667]}],\n",
       "                        {\"showlegend\": false, \"template\": {\"data\": {\"bar\": [{\"error_x\": {\"color\": \"#2a3f5f\"}, \"error_y\": {\"color\": \"#2a3f5f\"}, \"marker\": {\"line\": {\"color\": \"#E5ECF6\", \"width\": 0.5}}, \"type\": \"bar\"}], \"barpolar\": [{\"marker\": {\"line\": {\"color\": \"#E5ECF6\", \"width\": 0.5}}, \"type\": \"barpolar\"}], \"carpet\": [{\"aaxis\": {\"endlinecolor\": \"#2a3f5f\", \"gridcolor\": \"white\", \"linecolor\": \"white\", \"minorgridcolor\": \"white\", \"startlinecolor\": \"#2a3f5f\"}, \"baxis\": {\"endlinecolor\": \"#2a3f5f\", \"gridcolor\": \"white\", \"linecolor\": \"white\", \"minorgridcolor\": \"white\", \"startlinecolor\": \"#2a3f5f\"}, \"type\": \"carpet\"}], \"choropleth\": [{\"colorbar\": {\"outlinewidth\": 0, \"ticks\": \"\"}, \"type\": \"choropleth\"}], \"contour\": [{\"colorbar\": {\"outlinewidth\": 0, \"ticks\": \"\"}, \"colorscale\": [[0.0, \"#0d0887\"], [0.1111111111111111, \"#46039f\"], [0.2222222222222222, \"#7201a8\"], [0.3333333333333333, \"#9c179e\"], [0.4444444444444444, \"#bd3786\"], [0.5555555555555556, \"#d8576b\"], [0.6666666666666666, \"#ed7953\"], [0.7777777777777778, \"#fb9f3a\"], [0.8888888888888888, \"#fdca26\"], [1.0, \"#f0f921\"]], \"type\": \"contour\"}], \"contourcarpet\": [{\"colorbar\": {\"outlinewidth\": 0, \"ticks\": \"\"}, \"type\": \"contourcarpet\"}], \"heatmap\": [{\"colorbar\": {\"outlinewidth\": 0, \"ticks\": \"\"}, \"colorscale\": [[0.0, \"#0d0887\"], [0.1111111111111111, \"#46039f\"], [0.2222222222222222, \"#7201a8\"], [0.3333333333333333, \"#9c179e\"], [0.4444444444444444, \"#bd3786\"], [0.5555555555555556, \"#d8576b\"], [0.6666666666666666, \"#ed7953\"], [0.7777777777777778, \"#fb9f3a\"], [0.8888888888888888, \"#fdca26\"], [1.0, \"#f0f921\"]], \"type\": \"heatmap\"}], \"heatmapgl\": [{\"colorbar\": {\"outlinewidth\": 0, \"ticks\": \"\"}, \"colorscale\": [[0.0, \"#0d0887\"], [0.1111111111111111, \"#46039f\"], [0.2222222222222222, \"#7201a8\"], [0.3333333333333333, \"#9c179e\"], [0.4444444444444444, \"#bd3786\"], [0.5555555555555556, \"#d8576b\"], [0.6666666666666666, \"#ed7953\"], [0.7777777777777778, \"#fb9f3a\"], [0.8888888888888888, \"#fdca26\"], [1.0, \"#f0f921\"]], \"type\": \"heatmapgl\"}], \"histogram\": [{\"marker\": {\"colorbar\": {\"outlinewidth\": 0, \"ticks\": \"\"}}, \"type\": \"histogram\"}], \"histogram2d\": [{\"colorbar\": {\"outlinewidth\": 0, \"ticks\": \"\"}, \"colorscale\": [[0.0, \"#0d0887\"], [0.1111111111111111, \"#46039f\"], [0.2222222222222222, \"#7201a8\"], [0.3333333333333333, \"#9c179e\"], [0.4444444444444444, \"#bd3786\"], [0.5555555555555556, \"#d8576b\"], [0.6666666666666666, \"#ed7953\"], [0.7777777777777778, \"#fb9f3a\"], [0.8888888888888888, \"#fdca26\"], [1.0, \"#f0f921\"]], \"type\": \"histogram2d\"}], \"histogram2dcontour\": [{\"colorbar\": {\"outlinewidth\": 0, \"ticks\": \"\"}, \"colorscale\": [[0.0, \"#0d0887\"], [0.1111111111111111, \"#46039f\"], [0.2222222222222222, \"#7201a8\"], [0.3333333333333333, \"#9c179e\"], [0.4444444444444444, \"#bd3786\"], [0.5555555555555556, \"#d8576b\"], [0.6666666666666666, \"#ed7953\"], [0.7777777777777778, \"#fb9f3a\"], [0.8888888888888888, \"#fdca26\"], [1.0, \"#f0f921\"]], \"type\": \"histogram2dcontour\"}], \"mesh3d\": [{\"colorbar\": {\"outlinewidth\": 0, \"ticks\": \"\"}, \"type\": \"mesh3d\"}], \"parcoords\": [{\"line\": {\"colorbar\": {\"outlinewidth\": 0, \"ticks\": \"\"}}, \"type\": \"parcoords\"}], \"scatter\": [{\"marker\": {\"colorbar\": {\"outlinewidth\": 0, \"ticks\": \"\"}}, \"type\": \"scatter\"}], \"scatter3d\": [{\"line\": {\"colorbar\": {\"outlinewidth\": 0, \"ticks\": \"\"}}, \"marker\": {\"colorbar\": {\"outlinewidth\": 0, \"ticks\": \"\"}}, \"type\": \"scatter3d\"}], \"scattercarpet\": [{\"marker\": {\"colorbar\": {\"outlinewidth\": 0, \"ticks\": \"\"}}, \"type\": \"scattercarpet\"}], \"scattergeo\": [{\"marker\": {\"colorbar\": {\"outlinewidth\": 0, \"ticks\": \"\"}}, \"type\": \"scattergeo\"}], \"scattergl\": [{\"marker\": {\"colorbar\": {\"outlinewidth\": 0, \"ticks\": \"\"}}, \"type\": \"scattergl\"}], \"scattermapbox\": [{\"marker\": {\"colorbar\": {\"outlinewidth\": 0, \"ticks\": \"\"}}, \"type\": \"scattermapbox\"}], \"scatterpolar\": [{\"marker\": {\"colorbar\": {\"outlinewidth\": 0, \"ticks\": \"\"}}, \"type\": \"scatterpolar\"}], \"scatterpolargl\": [{\"marker\": {\"colorbar\": {\"outlinewidth\": 0, \"ticks\": \"\"}}, \"type\": \"scatterpolargl\"}], \"scatterternary\": [{\"marker\": {\"colorbar\": {\"outlinewidth\": 0, \"ticks\": \"\"}}, \"type\": \"scatterternary\"}], \"surface\": [{\"colorbar\": {\"outlinewidth\": 0, \"ticks\": \"\"}, \"colorscale\": [[0.0, \"#0d0887\"], [0.1111111111111111, \"#46039f\"], [0.2222222222222222, \"#7201a8\"], [0.3333333333333333, \"#9c179e\"], [0.4444444444444444, \"#bd3786\"], [0.5555555555555556, \"#d8576b\"], [0.6666666666666666, \"#ed7953\"], [0.7777777777777778, \"#fb9f3a\"], [0.8888888888888888, \"#fdca26\"], [1.0, \"#f0f921\"]], \"type\": \"surface\"}], \"table\": [{\"cells\": {\"fill\": {\"color\": \"#EBF0F8\"}, \"line\": {\"color\": \"white\"}}, \"header\": {\"fill\": {\"color\": \"#C8D4E3\"}, \"line\": {\"color\": \"white\"}}, \"type\": \"table\"}]}, \"layout\": {\"annotationdefaults\": {\"arrowcolor\": \"#2a3f5f\", \"arrowhead\": 0, \"arrowwidth\": 1}, \"colorscale\": {\"diverging\": [[0, \"#8e0152\"], [0.1, \"#c51b7d\"], [0.2, \"#de77ae\"], [0.3, \"#f1b6da\"], [0.4, \"#fde0ef\"], [0.5, \"#f7f7f7\"], [0.6, \"#e6f5d0\"], [0.7, \"#b8e186\"], [0.8, \"#7fbc41\"], [0.9, \"#4d9221\"], [1, \"#276419\"]], \"sequential\": [[0.0, \"#0d0887\"], [0.1111111111111111, \"#46039f\"], [0.2222222222222222, \"#7201a8\"], [0.3333333333333333, \"#9c179e\"], [0.4444444444444444, \"#bd3786\"], [0.5555555555555556, \"#d8576b\"], [0.6666666666666666, \"#ed7953\"], [0.7777777777777778, \"#fb9f3a\"], [0.8888888888888888, \"#fdca26\"], [1.0, \"#f0f921\"]], \"sequentialminus\": [[0.0, \"#0d0887\"], [0.1111111111111111, \"#46039f\"], [0.2222222222222222, \"#7201a8\"], [0.3333333333333333, \"#9c179e\"], [0.4444444444444444, \"#bd3786\"], [0.5555555555555556, \"#d8576b\"], [0.6666666666666666, \"#ed7953\"], [0.7777777777777778, \"#fb9f3a\"], [0.8888888888888888, \"#fdca26\"], [1.0, \"#f0f921\"]]}, \"colorway\": [\"#636efa\", \"#EF553B\", \"#00cc96\", \"#ab63fa\", \"#FFA15A\", \"#19d3f3\", \"#FF6692\", \"#B6E880\", \"#FF97FF\", \"#FECB52\"], \"font\": {\"color\": \"#2a3f5f\"}, \"geo\": {\"bgcolor\": \"white\", \"lakecolor\": \"white\", \"landcolor\": \"#E5ECF6\", \"showlakes\": true, \"showland\": true, \"subunitcolor\": \"white\"}, \"hoverlabel\": {\"align\": \"left\"}, \"hovermode\": \"closest\", \"mapbox\": {\"style\": \"light\"}, \"paper_bgcolor\": \"white\", \"plot_bgcolor\": \"#E5ECF6\", \"polar\": {\"angularaxis\": {\"gridcolor\": \"white\", \"linecolor\": \"white\", \"ticks\": \"\"}, \"bgcolor\": \"#E5ECF6\", \"radialaxis\": {\"gridcolor\": \"white\", \"linecolor\": \"white\", \"ticks\": \"\"}}, \"scene\": {\"xaxis\": {\"backgroundcolor\": \"#E5ECF6\", \"gridcolor\": \"white\", \"gridwidth\": 2, \"linecolor\": \"white\", \"showbackground\": true, \"ticks\": \"\", \"zerolinecolor\": \"white\"}, \"yaxis\": {\"backgroundcolor\": \"#E5ECF6\", \"gridcolor\": \"white\", \"gridwidth\": 2, \"linecolor\": \"white\", \"showbackground\": true, \"ticks\": \"\", \"zerolinecolor\": \"white\"}, \"zaxis\": {\"backgroundcolor\": \"#E5ECF6\", \"gridcolor\": \"white\", \"gridwidth\": 2, \"linecolor\": \"white\", \"showbackground\": true, \"ticks\": \"\", \"zerolinecolor\": \"white\"}}, \"shapedefaults\": {\"line\": {\"color\": \"#2a3f5f\"}}, \"ternary\": {\"aaxis\": {\"gridcolor\": \"white\", \"linecolor\": \"white\", \"ticks\": \"\"}, \"baxis\": {\"gridcolor\": \"white\", \"linecolor\": \"white\", \"ticks\": \"\"}, \"bgcolor\": \"#E5ECF6\", \"caxis\": {\"gridcolor\": \"white\", \"linecolor\": \"white\", \"ticks\": \"\"}}, \"title\": {\"x\": 0.05}, \"xaxis\": {\"automargin\": true, \"gridcolor\": \"white\", \"linecolor\": \"white\", \"ticks\": \"\", \"zerolinecolor\": \"white\", \"zerolinewidth\": 2}, \"yaxis\": {\"automargin\": true, \"gridcolor\": \"white\", \"linecolor\": \"white\", \"ticks\": \"\", \"zerolinecolor\": \"white\", \"zerolinewidth\": 2}}}},\n",
       "                        {\"responsive\": true}\n",
       "                    ).then(function(){\n",
       "                            \n",
       "var gd = document.getElementById('df118b52-af09-40ac-8026-c4425db84a58');\n",
       "var x = new MutationObserver(function (mutations, observer) {{\n",
       "        var display = window.getComputedStyle(gd).display;\n",
       "        if (!display || display === 'none') {{\n",
       "            console.log([gd, 'removed!']);\n",
       "            Plotly.purge(gd);\n",
       "            observer.disconnect();\n",
       "        }}\n",
       "}});\n",
       "\n",
       "// Listen for the removal of the full notebook cells\n",
       "var notebookContainer = gd.closest('#notebook-container');\n",
       "if (notebookContainer) {{\n",
       "    x.observe(notebookContainer, {childList: true});\n",
       "}}\n",
       "\n",
       "// Listen for the clearing of the current output cell\n",
       "var outputEl = gd.closest('.output');\n",
       "if (outputEl) {{\n",
       "    x.observe(outputEl, {childList: true});\n",
       "}}\n",
       "\n",
       "                        })\n",
       "                };\n",
       "                });\n",
       "            </script>\n",
       "        </div>"
      ]
     },
     "metadata": {},
     "output_type": "display_data"
    }
   ],
   "source": [
    "data = [] + \\\n",
    "    df_shared[\"trace\"].tolist() + \\\n",
    "    connecting_lines_data + \\\n",
    "    []\n",
    "\n",
    "\n",
    "\n",
    "fig = go.Figure(data=data)\n",
    "fig.update_layout(showlegend=False)\n",
    "\n",
    "fig.show()"
   ]
  },
  {
   "cell_type": "raw",
   "metadata": {},
   "source": [
    "\n",
    "\n"
   ]
  },
  {
   "cell_type": "code",
   "execution_count": 9,
   "metadata": {},
   "outputs": [
    {
     "data": {
      "text/html": [
       "<div>\n",
       "<style scoped>\n",
       "    .dataframe tbody tr th:only-of-type {\n",
       "        vertical-align: middle;\n",
       "    }\n",
       "\n",
       "    .dataframe tbody tr th {\n",
       "        vertical-align: top;\n",
       "    }\n",
       "\n",
       "    .dataframe thead th {\n",
       "        text-align: right;\n",
       "    }\n",
       "</style>\n",
       "<table border=\"1\" class=\"dataframe\">\n",
       "  <thead>\n",
       "    <tr style=\"text-align: right;\">\n",
       "      <th></th>\n",
       "      <th>atoms</th>\n",
       "      <th>energy_pa</th>\n",
       "      <th>form_e_chris</th>\n",
       "      <th>id_old</th>\n",
       "      <th>path</th>\n",
       "      <th>source</th>\n",
       "      <th>stoich</th>\n",
       "      <th>energy</th>\n",
       "    </tr>\n",
       "    <tr>\n",
       "      <th>id_unique</th>\n",
       "      <th></th>\n",
       "      <th></th>\n",
       "      <th></th>\n",
       "      <th></th>\n",
       "      <th></th>\n",
       "      <th></th>\n",
       "      <th></th>\n",
       "      <th></th>\n",
       "    </tr>\n",
       "  </thead>\n",
       "  <tbody>\n",
       "    <tr>\n",
       "      <th>7ave8rzrzj</th>\n",
       "      <td>(Atom('O', [-0.84936, 0.0663, 4.7655], index=0...</td>\n",
       "      <td>-6.322998</td>\n",
       "      <td>NaN</td>\n",
       "      <td>622</td>\n",
       "      <td>/global/cscratch1/sd/flores12/IrOx_Project_tem...</td>\n",
       "      <td>raul</td>\n",
       "      <td>AB2</td>\n",
       "      <td>-37.937987</td>\n",
       "    </tr>\n",
       "    <tr>\n",
       "      <th>7ave8rzrzj</th>\n",
       "      <td>(Atom('O', [-0.62983, 0.0591, 13.84731], index...</td>\n",
       "      <td>-4.003334</td>\n",
       "      <td>NaN</td>\n",
       "      <td>622</td>\n",
       "      <td>/mnt/f/GDrive/norskov_research_storage/00_proj...</td>\n",
       "      <td>chris</td>\n",
       "      <td>AB2</td>\n",
       "      <td>-24.020002</td>\n",
       "    </tr>\n",
       "  </tbody>\n",
       "</table>\n",
       "</div>"
      ],
      "text/plain": [
       "                                                        atoms  energy_pa  \\\n",
       "id_unique                                                                  \n",
       "7ave8rzrzj  (Atom('O', [-0.84936, 0.0663, 4.7655], index=0...  -6.322998   \n",
       "7ave8rzrzj  (Atom('O', [-0.62983, 0.0591, 13.84731], index...  -4.003334   \n",
       "\n",
       "            form_e_chris id_old  \\\n",
       "id_unique                         \n",
       "7ave8rzrzj           NaN    622   \n",
       "7ave8rzrzj           NaN    622   \n",
       "\n",
       "                                                         path source stoich  \\\n",
       "id_unique                                                                     \n",
       "7ave8rzrzj  /global/cscratch1/sd/flores12/IrOx_Project_tem...   raul    AB2   \n",
       "7ave8rzrzj  /mnt/f/GDrive/norskov_research_storage/00_proj...  chris    AB2   \n",
       "\n",
       "               energy  \n",
       "id_unique              \n",
       "7ave8rzrzj -37.937987  \n",
       "7ave8rzrzj -24.020002  "
      ]
     },
     "execution_count": 9,
     "metadata": {},
     "output_type": "execute_result"
    }
   ],
   "source": [
    "# view(df.loc[\"7ave8rzrzj\"].iloc[1][\"atoms\"])\n",
    "\n",
    "df.loc[\"7ave8rzrzj\"]"
   ]
  },
  {
   "cell_type": "code",
   "execution_count": 10,
   "metadata": {},
   "outputs": [],
   "source": [
    "# df_tmp.sort_values(\"e_diff_abs\", ascending=False)\n",
    "\n",
    "\n",
    "# df_tmp[\n",
    "#     (df_tmp[\"e_diff\"] > 0.) &\n",
    "#     (df_tmp[\"e_diff\"] > 0.01)\n",
    "#     ]"
   ]
  },
  {
   "cell_type": "code",
   "execution_count": 11,
   "metadata": {},
   "outputs": [],
   "source": [
    "import colorlover as cl"
   ]
  }
 ],
 "metadata": {
  "kernelspec": {
   "display_name": "Python 3",
   "language": "python",
   "name": "python3"
  },
  "language_info": {
   "codemirror_mode": {
    "name": "ipython",
    "version": 3
   },
   "file_extension": ".py",
   "mimetype": "text/x-python",
   "name": "python",
   "nbconvert_exporter": "python",
   "pygments_lexer": "ipython3",
   "version": "3.7.3"
  },
  "toc-autonumbering": true
 },
 "nbformat": 4,
 "nbformat_minor": 4
}
