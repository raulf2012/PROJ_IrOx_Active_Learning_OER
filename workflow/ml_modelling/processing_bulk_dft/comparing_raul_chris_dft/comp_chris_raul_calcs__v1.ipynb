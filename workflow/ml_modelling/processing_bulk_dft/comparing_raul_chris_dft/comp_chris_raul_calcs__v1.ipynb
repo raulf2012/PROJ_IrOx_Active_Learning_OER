{
 "cells": [
  {
   "cell_type": "markdown",
   "execution_count": null,
   "metadata": {},
   "outputs": [],
   "source": [
    "# Import Modules"
   ]
  },
  {
   "cell_type": "code",
   "execution_count": null,
   "metadata": {},
   "outputs": [],
   "source": [
    "import os\n",
    "import sys\n",
    "\n",
    "import copy\n",
    "\n",
    "import pickle\n",
    "import pandas as pd\n",
    "\n",
    "from ase.visualize import view\n",
    "\n",
    "import chart_studio.plotly as py\n",
    "import plotly.graph_objs as go\n",
    "# #############################################################################\n",
    "sys.path.insert(0, os.path.join(os.environ[\"PROJ_irox\"], \"data\"))\n",
    "from proj_data_irox import bulk_dft_data_path"
   ]
  },
  {
   "cell_type": "markdown",
   "execution_count": null,
   "metadata": {},
   "outputs": [],
   "source": [
    "# Script Inputs"
   ]
  },
  {
   "cell_type": "code",
   "execution_count": null,
   "metadata": {},
   "outputs": [],
   "source": [
    "raul_color = \"red\"\n",
    "chris_color = \"black\""
   ]
  },
  {
   "cell_type": "markdown",
   "execution_count": null,
   "metadata": {},
   "outputs": [],
   "source": [
    "# Read & Process DFT Data"
   ]
  },
  {
   "cell_type": "markdown",
   "execution_count": null,
   "metadata": {},
   "outputs": [],
   "source": [
    "## Read dataframe"
   ]
  },
  {
   "cell_type": "code",
   "execution_count": null,
   "metadata": {},
   "outputs": [],
   "source": [
    "with open(bulk_dft_data_path, \"rb\") as fle:\n",
    "    df_bulk_dft = pickle.load(fle)\n",
    "    df = df_bulk_dft"
   ]
  },
  {
   "cell_type": "markdown",
   "execution_count": null,
   "metadata": {},
   "outputs": [],
   "source": [
    "## Filter only systems shared by Chris and Raul DFT calcs"
   ]
  },
  {
   "cell_type": "code",
   "execution_count": null,
   "metadata": {},
   "outputs": [],
   "source": [
    "shared_indices = list(\n",
    "    set(list(df[df[\"source\"] == \"raul\"].index))\n",
    "    &\n",
    "    set(list(df[df[\"source\"] == \"chris\"].index))\n",
    "    )\n",
    "print(\"Number of shared calculations: \", len(shared_indices))\n",
    "df_shared = df.loc[shared_indices]"
   ]
  },
  {
   "cell_type": "raw",
   "execution_count": null,
   "metadata": {},
   "outputs": [],
   "source": [
    "75 shared structures last time"
   ]
  },
  {
   "cell_type": "markdown",
   "execution_count": null,
   "metadata": {},
   "outputs": [],
   "source": [
    "# Comparison dataframe"
   ]
  },
  {
   "cell_type": "code",
   "execution_count": null,
   "metadata": {},
   "outputs": [],
   "source": [
    "grouped = df_shared.reset_index().groupby([\"id_unique\"])\n",
    "data_list = []\n",
    "for name, group in grouped:\n",
    "\n",
    "    data_dict_i = {\n",
    "        \"id_unique\": name,\n",
    "        \"e_diff\": None,\n",
    "        \"v_diff\": None,\n",
    "        \"e_diff_abs\": None,\n",
    "        \"v_diff_abs\": None,\n",
    "        }\n",
    "\n",
    "    row_raul = group[group[\"source\"] == \"raul\"]\n",
    "    row_chris = group[group[\"source\"] == \"chris\"]\n",
    "\n",
    "\n",
    "    e_diff = row_raul[\"energy_pa\"].iloc[0] - row_chris[\"energy_pa\"].iloc[0]\n",
    "    e_diff_abs = abs(e_diff)\n",
    "\n",
    "    atoms_raul = row_raul.iloc[0][\"atoms\"]\n",
    "    atoms_chris = row_chris.iloc[0][\"atoms\"]\n",
    "\n",
    "    vol_pa_raul = atoms_raul.get_volume() / atoms_raul.get_number_of_atoms()\n",
    "    vol_pa_chris = atoms_chris.get_volume() / atoms_chris.get_number_of_atoms()\n",
    "\n",
    "    v_diff = vol_pa_raul - vol_pa_chris\n",
    "    v_diff_abs = abs(v_diff)\n",
    "\n",
    "\n",
    "    data_dict_i[\"e_diff\"] = e_diff\n",
    "    data_dict_i[\"v_diff\"] = v_diff\n",
    "\n",
    "    data_dict_i[\"v_diff_abs\"] = v_diff_abs\n",
    "    data_dict_i[\"e_diff_abs\"] = e_diff_abs\n",
    "\n",
    "\n",
    "    data_list.append(data_dict_i)\n",
    "\n",
    "df_comp = pd.DataFrame(data_list)\n",
    "\n",
    "df_comp = df_comp.set_index(\"id_unique\")"
   ]
  },
  {
   "cell_type": "markdown",
   "execution_count": null,
   "metadata": {},
   "outputs": [],
   "source": [
    "# Creating main traces"
   ]
  },
  {
   "cell_type": "code",
   "execution_count": null,
   "metadata": {},
   "outputs": [],
   "source": [
    "def method(row_i, argument_0, raul_color=None, chris_color=None, df_comp=None):\n",
    "\n",
    "    # #########################################################################\n",
    "    id_unique = row_i.name\n",
    "    source_i = row_i[\"source\"]\n",
    "    atoms_i = row_i[\"atoms\"]\n",
    "    energy_pa = row_i[\"energy_pa\"]\n",
    "\n",
    "    # #########################################################################\n",
    "    e_diff = df_comp.loc[id_unique][\"e_diff\"]\n",
    "\n",
    "    # #########################################################################\n",
    "    new_column_values_dict = {}\n",
    "\n",
    "    # #########################################################################\n",
    "    if source_i == \"raul\":\n",
    "        color_0 = raul_color\n",
    "        showlegend_i = True\n",
    "        marker_shape = \"diamond\"\n",
    "        marker_line_color = \"black\"\n",
    "\n",
    "    elif source_i == \"chris\":\n",
    "        color_0 = chris_color\n",
    "        showlegend_i = False\n",
    "        marker_shape = \"circle\"\n",
    "        marker_line_color = \"black\"\n",
    "\n",
    "    volume_pa = atoms_i.get_volume() / atoms_i.get_number_of_atoms()\n",
    "\n",
    "    # #########################################################################\n",
    "    new_column_values_dict[\"volume_pa\"] = volume_pa\n",
    "    new_column_values_dict[\"marker_shape\"] = marker_shape\n",
    "    new_column_values_dict[\"e_diff\"] = e_diff\n",
    "    new_column_values_dict[\"marker_line_color\"] = marker_line_color\n",
    "\n",
    "    # #########################################################################\n",
    "    for key, value in new_column_values_dict.items():\n",
    "        row_i[key] = value\n",
    "\n",
    "    return(row_i)\n",
    "\n",
    "# #############################################################################\n",
    "df_i = df_shared\n",
    "df_i = df_i.apply(\n",
    "    method,\n",
    "    axis=1,\n",
    "    args=(\"TEMP_0\",),\n",
    "    raul_color=raul_color,\n",
    "    chris_color=chris_color,\n",
    "    df_comp=df_comp,\n",
    "    )\n",
    "df_shared = df_i"
   ]
  },
  {
   "cell_type": "markdown",
   "execution_count": null,
   "metadata": {},
   "outputs": [],
   "source": [
    "# Creating connections between data"
   ]
  },
  {
   "cell_type": "code",
   "execution_count": null,
   "metadata": {},
   "outputs": [],
   "source": [
    "grouped = df_shared.reset_index().groupby([\"id_unique\"])\n",
    "connecting_lines_data = []\n",
    "for name, group in grouped:\n",
    "\n",
    "    assert len(group) == 2, \"JIDFJSDI\"\n",
    "\n",
    "    row_0 = group.iloc[0]\n",
    "    row_1 = group.iloc[1]\n",
    "\n",
    "    vol_0 = row_0[\"atoms\"].get_volume() / row_0[\"atoms\"].get_number_of_atoms()\n",
    "    vol_1 = row_1[\"atoms\"].get_volume() / row_1[\"atoms\"].get_number_of_atoms()\n",
    "\n",
    "\n",
    "    energy_pa_0 = row_0[\"energy_pa\"]\n",
    "    energy_pa_1 = row_1[\"energy_pa\"]\n",
    "\n",
    "    trace_i = go.Scatter(\n",
    "        x=[vol_0, vol_1],\n",
    "        y=[energy_pa_0, energy_pa_1],\n",
    "        mode=\"lines\",\n",
    "        legendgroup=name,\n",
    "        showlegend=False,\n",
    "        line=dict(\n",
    "            color=\"grey\",\n",
    "            width=1.,\n",
    "#             dash=\"dot\",\n",
    "            ),\n",
    "\n",
    "        )\n",
    "\n",
    "    connecting_lines_data.append(trace_i)"
   ]
  },
  {
   "cell_type": "code",
   "execution_count": null,
   "metadata": {},
   "outputs": [],
   "source": [
    "e_diff_col = df_comp[\"e_diff\"]\n",
    "col_scale_0 = (0 - e_diff_col.min()) / (e_diff_col.max() - e_diff_col.min())\n",
    "\n",
    "max_abs_e_diff = max(\n",
    "    abs(e_diff_col.min()),\n",
    "    abs(e_diff_col.min()),\n",
    "    )"
   ]
  },
  {
   "cell_type": "code",
   "execution_count": null,
   "metadata": {},
   "outputs": [],
   "source": [
    "extra_row = copy.deepcopy(df_shared.iloc[0])\n",
    "extra_row[\"e_diff\"] = max_abs_e_diff\n",
    "extra_row.name = \"TEMP0\"\n",
    "df_shared = df_shared.append(extra_row)\n",
    "\n",
    "extra_row = copy.deepcopy(df_shared.iloc[0])\n",
    "extra_row[\"e_diff\"] = -max_abs_e_diff\n",
    "extra_row.name = \"TEMP1\"\n",
    "df_shared = df_shared.append(extra_row)"
   ]
  },
  {
   "cell_type": "code",
   "execution_count": null,
   "metadata": {},
   "outputs": [],
   "source": [
    "ev_0p1 = 0.1 / (2 * max_abs_e_diff)"
   ]
  },
  {
   "cell_type": "markdown",
   "execution_count": null,
   "metadata": {},
   "outputs": [],
   "source": [
    "# Plotting"
   ]
  },
  {
   "cell_type": "code",
   "execution_count": null,
   "metadata": {},
   "outputs": [],
   "source": [
    "colorscale_i = [\n",
    "#     [0.000, 'rgba(214, 39, 40, 0.85)'],\n",
    "    [0.000, \"blue\"],\n",
    "\n",
    "    [0.5 - ev_0p1, \"purple\"],\n",
    "\n",
    "#     [col_scale_0, 'rgba(255, 255, 255, 0.85)'],\n",
    "    [0.5, 'rgba(255, 255, 255, 0.85)'],\n",
    "\n",
    "\n",
    "    [0.5 + ev_0p1, \"orange\"],\n",
    "\n",
    "\n",
    "#     [1.8, 'red'],\n",
    "    [1.000, 'red'],\n",
    "    ]\n",
    "\n",
    "\n",
    "trace_tmp = go.Scatter(\n",
    "    x=df_shared[\"volume_pa\"],\n",
    "    y=df_shared[\"energy_pa\"],\n",
    "\n",
    "    mode=\"markers\",\n",
    "\n",
    "#     legendgroup=id_unique,\n",
    "#     showlegend=showlegend_i,\n",
    "#     name=list(df_shared.index),\n",
    "    text=list(df_shared.index),\n",
    "    hoverinfo=\"text\",\n",
    "    marker=dict(\n",
    "        symbol=df_shared[\"marker_shape\"],\n",
    "        color=df_shared[\"e_diff\"],\n",
    "        # colorscale='Viridis',\n",
    "        # colorscale=\"RdGy\",\n",
    "        colorscale=colorscale_i,\n",
    "        colorbar=dict(thickness=10),\n",
    "\n",
    "        size=10,\n",
    "        line=dict(\n",
    "            color=df_shared[\"marker_line_color\"],\n",
    "            width=1.,\n",
    "            )\n",
    "        ),\n",
    "    )"
   ]
  },
  {
   "cell_type": "code",
   "execution_count": null,
   "metadata": {},
   "outputs": [],
   "source": [
    "data = [] + \\\n",
    "    connecting_lines_data + \\\n",
    "    [trace_tmp] + \\\n",
    "    []\n",
    "    # df_shared[\"trace\"].tolist() + \\\n",
    "\n",
    "\n",
    "fig = go.Figure(data=data)\n",
    "fig.update_layout(showlegend=False)\n",
    "\n",
    "fig.show()"
   ]
  },
  {
   "cell_type": "markdown",
   "execution_count": null,
   "metadata": {},
   "outputs": [],
   "source": [
    "# Energy per atom vs Volume per atom"
   ]
  },
  {
   "cell_type": "raw",
   "execution_count": null,
   "metadata": {},
   "outputs": [],
   "source": [
    "\n",
    "\n",
    "\n",
    "\n"
   ]
  },
  {
   "cell_type": "markdown",
   "execution_count": null,
   "metadata": {},
   "outputs": [],
   "source": [
    "# Jobs for which Raul has higher energy than Chris's calcs to within a tolerance"
   ]
  },
  {
   "cell_type": "code",
   "execution_count": null,
   "metadata": {},
   "outputs": [],
   "source": [
    "df_comp.sort_values(\"e_diff_abs\", ascending=False)\n",
    "\n",
    "df_comp[\n",
    "    (df_comp[\"e_diff\"] > 0.) &\n",
    "    (df_comp[\"e_diff\"] > 0.01)\n",
    "    ].sort_values(\"e_diff\")"
   ]
  },
  {
   "cell_type": "markdown",
   "execution_count": null,
   "metadata": {},
   "outputs": [],
   "source": [
    "# Am I missing any systems that Chris calculated?"
   ]
  },
  {
   "cell_type": "raw",
   "execution_count": null,
   "metadata": {},
   "outputs": [],
   "source": [
    "Most of these are coming soon, a few weren't being run but I'm running them now\n",
    "\n",
    "8jvfcyvk92\n",
    "xy6kzjninu\n",
    "xg6exl6rmp\n",
    "x5nlvgnaxj\n",
    "mj7wbfb5nt\n",
    "vlxp9abd6h\n",
    "6qvlcl6iv2\n",
    "npbq9ynjn2\n",
    "mtclmozw8t\n",
    "brnhny8y92\n",
    "zwnung6s71\n",
    "cgxkbicgz4\n",
    "8ivkxwnhva"
   ]
  },
  {
   "cell_type": "code",
   "execution_count": null,
   "metadata": {},
   "outputs": [],
   "source": [
    "file_path_i = os.path.join(\n",
    "    os.environ[\"PROJ_irox\"],\n",
    "    \"data/ml_irox_data/iro2_training_data.csv\")\n",
    "train_data_iro2 = pd.read_csv(file_path_i)\n",
    "train_data_iro2.set_index(\"id\", inplace=True)\n",
    "\n",
    "file_path_i = os.path.join(\n",
    "    os.environ[\"PROJ_irox\"],\n",
    "    \"data/ml_irox_data/iro3_training_data.csv\")\n",
    "train_data_iro3 = pd.read_csv(file_path_i)\n",
    "train_data_iro3.set_index(\"id\", inplace=True)\n",
    "\n",
    "train_data_dict = {\n",
    "    \"iro2\": train_data_iro2,\n",
    "    \"iro3\": train_data_iro3}\n",
    "\n",
    "# #############################################################################\n",
    "ids_iro2 = train_data_iro2[train_data_iro2[\"source\"] == \"chris\"][\"id_unique\"]\n",
    "ids_iro3 = train_data_iro3[train_data_iro3[\"source\"] == \"chris\"][\"id_unique\"]\n",
    "chris_computed_irox_ids = ids_iro2.tolist() + ids_iro3.tolist()\n",
    "\n",
    "df = df_bulk_dft\n",
    "df_i = df[\n",
    "    (df[\"source\"] == \"raul\") & \\\n",
    "    (df[\"stoich\"] == \"AB3\")\n",
    "    ]\n",
    "\n",
    "# #############################################################################\n",
    "for chris_id in ids_iro3.tolist():\n",
    "    if chris_id not in list(df_i.index):\n",
    "        print(chris_id)"
   ]
  }
 ],
 "metadata": {
  "kernelspec": {
   "display_name": "Python 3",
   "language": "python",
   "name": "python3"
  },
  "language_info": {
   "codemirror_mode": {
    "name": "ipython",
    "version": 3
   },
   "file_extension": ".py",
   "mimetype": "text/x-python",
   "name": "python",
   "nbconvert_exporter": "python",
   "pygments_lexer": "ipython3",
   "version": "3.7.3"
  },
  "toc-autonumbering": true
 },
 "nbformat": 4,
 "nbformat_minor": 4
}
