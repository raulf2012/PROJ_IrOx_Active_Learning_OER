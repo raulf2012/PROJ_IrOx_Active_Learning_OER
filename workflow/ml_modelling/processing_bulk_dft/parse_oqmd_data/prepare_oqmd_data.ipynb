{
 "cells": [
  {
   "cell_type": "markdown",
   "metadata": {},
   "source": [
    "# Parsing OQMD Structures and Energies into Dataframe\n",
    "---"
   ],
   "execution_count": null,
   "outputs": []
  },
  {
   "cell_type": "markdown",
   "metadata": {},
   "source": [
    "# Import Modules"
   ],
   "execution_count": null,
   "outputs": []
  },
  {
   "cell_type": "code",
   "execution_count": null,
   "metadata": {},
   "outputs": [],
   "source": [
    "import os\n",
    "import sys\n",
    "\n",
    "import pickle\n",
    "import pandas as pd\n",
    "\n",
    "print(os.getcwd())"
   ]
  },
  {
   "cell_type": "code",
   "execution_count": null,
   "metadata": {},
   "outputs": [],
   "source": [
    "sys.path.insert(0, os.path.join(os.environ[\"PROJ_irox\"], \"data\"))\n",
    "\n",
    "from proj_data_irox import (\n",
    "    bulk_dft_data_path,\n",
    "    unique_ids_path,\n",
    "    prototypes_data_path,\n",
    "    static_irox_structures_path,\n",
    "    oqmd_irox_data_path,\n",
    "#     voronoi_features_data_path,\n",
    "    )"
   ]
  },
  {
   "cell_type": "markdown",
   "metadata": {},
   "source": [
    "# Read Data"
   ],
   "execution_count": null,
   "outputs": []
  },
  {
   "cell_type": "code",
   "execution_count": null,
   "metadata": {},
   "outputs": [],
   "source": [
    "path_i = os.path.join(\n",
    "    os.environ[\"PROJ_irox\"],\n",
    "    \"data/ml_irox_data\",\n",
    "    \"oqmd_data.csv\")\n",
    "\n",
    "df_oqmd_data = pd.read_csv(path_i)\n",
    "\n",
    "df_oqmd_data.set_index(\"id_unique\", inplace=True)\n",
    "df_oqmd_data = df_oqmd_data.drop(labels=\"source\", axis=1)"
   ]
  },
  {
   "cell_type": "code",
   "execution_count": null,
   "metadata": {},
   "outputs": [],
   "source": [
    "df_id = pd.read_csv(unique_ids_path)"
   ]
  },
  {
   "cell_type": "code",
   "execution_count": null,
   "metadata": {},
   "outputs": [],
   "source": [
    "with open(static_irox_structures_path, \"rb\") as fle:\n",
    "    df_structures = pickle.load(fle)"
   ]
  },
  {
   "cell_type": "code",
   "execution_count": null,
   "metadata": {},
   "outputs": [],
   "source": [
    "static_irox_structures_path"
   ]
  },
  {
   "cell_type": "markdown",
   "metadata": {},
   "source": [
    "Only processing OQMD entries"
   ],
   "execution_count": null,
   "outputs": []
  },
  {
   "cell_type": "code",
   "execution_count": null,
   "metadata": {},
   "outputs": [],
   "source": [
    "df_structures = df_structures.loc[df_id[df_id[\"source\"] == \"oqmd\"][\"unique_ids\"]]"
   ]
  },
  {
   "cell_type": "markdown",
   "metadata": {},
   "source": [
    "# Merging OQMD data with Structures Data"
   ],
   "execution_count": null,
   "outputs": []
  },
  {
   "cell_type": "code",
   "execution_count": null,
   "metadata": {},
   "outputs": [],
   "source": [
    "df_merged = df_structures.merge(\n",
    "    df_oqmd_data.drop([\"id_old\", \"stoich\"], axis=1),  # Drop duplicate columns\n",
    "    how='left',\n",
    "    left_index=True, right_index=True,\n",
    "    indicator=True)\n",
    "\n",
    "# df_merged"
   ]
  },
  {
   "cell_type": "raw",
   "metadata": {},
   "source": [
    "Check that the `_merge` column says `both`, i.e. all rows exist in both dfs"
   ],
   "execution_count": null,
   "outputs": []
  },
  {
   "cell_type": "code",
   "execution_count": null,
   "metadata": {},
   "outputs": [],
   "source": [
    "all_good = False\n",
    "\n",
    "merged_col_unique = list(set(df_merged[\"_merge\"].tolist()))\n",
    "if len(merged_col_unique) == 1:\n",
    "    if merged_col_unique[0] == \"both\":\n",
    "        print(\"All good!\")\n",
    "        all_good = True\n",
    "    else:\n",
    "        print(\"Not good!! 00\")\n",
    "else:\n",
    "    print(\"Not good!! 11\")\n",
    "    \n",
    "if all_good:\n",
    "    df_merged.drop([\"_merge\"], axis=1, inplace=True)"
   ]
  },
  {
   "cell_type": "code",
   "execution_count": null,
   "metadata": {},
   "outputs": [],
   "source": [
    "df_merged = df_merged.reset_index()\n",
    "df_merged = df_merged.drop(\"id_unique\", axis=1)"
   ]
  },
  {
   "cell_type": "markdown",
   "metadata": {},
   "source": [
    "# Save Data"
   ],
   "execution_count": null,
   "outputs": []
  },
  {
   "cell_type": "code",
   "execution_count": null,
   "metadata": {},
   "outputs": [],
   "source": [
    "import pickle\n",
    "\n",
    "directory = \"out_data\"\n",
    "if not os.path.exists(directory): os.makedirs(directory)\n",
    "\n",
    "with open(os.path.join(directory, \"df_oqmd_data.pickle\"), \"wb\") as fle:\n",
    "    pickle.dump(df_merged, fle)"
   ]
  },
  {
   "cell_type": "code",
   "execution_count": null,
   "metadata": {},
   "outputs": [],
   "source": [
    "print(20 * \"# # \")\n",
    "print(\"All done!\")\n",
    "assert False"
   ]
  }
 ],
 "metadata": {
  "kernelspec": {
   "display_name": "Python [conda env:PROJ_irox]",
   "language": "python",
   "name": "conda-env-PROJ_irox-py"
  },
  "language_info": {
   "codemirror_mode": {
    "name": "ipython",
    "version": 3
   },
   "file_extension": ".py",
   "mimetype": "text/x-python",
   "name": "python",
   "nbconvert_exporter": "python",
   "pygments_lexer": "ipython3",
   "version": "3.6.10"
  }
 },
 "nbformat": 4,
 "nbformat_minor": 4
}
