{
 "cells": [
  {
   "cell_type": "markdown",
   "metadata": {},
   "source": [
    "# Import Modules"
   ]
  },
  {
   "cell_type": "code",
   "execution_count": 1,
   "metadata": {
    "jupyter": {
     "source_hidden": true
    }
   },
   "outputs": [
    {
     "name": "stdout",
     "output_type": "stream",
     "text": [
      "/home/raulf2012/Dropbox/01_norskov/00_git_repos/PROJ_IrOx_Active_Learning_OER/workflow/ml_modelling/processing_bulk_dft/symmetry_analysis\n"
     ]
    }
   ],
   "source": [
    "import os\n",
    "print(os.getcwd())\n",
    "\n",
    "import sys\n",
    "\n",
    "import pickle\n",
    "\n",
    "import pandas as pd\n",
    "\n",
    "import bulk_enumerator as be\n",
    "import time\n",
    "\n",
    "from pymatgen.io.vasp.inputs import Poscar\n",
    "from pymatgen.io.ase import AseAtomsAdaptor\n",
    "\n",
    "\n",
    "# #############################################################################\n",
    "from ase import io\n",
    "\n",
    "from catkit.build import bulk\n",
    "from catkit.gen.symmetry import get_standardized_cell\n",
    "from catkit.gen.symmetry import Symmetry\n",
    "\n",
    "# #############################################################################\n",
    "sys.path.insert(0, os.path.join(os.environ[\"PROJ_irox\"], \"data\"))     \n",
    "\n",
    "from proj_data_irox import (\n",
    "    bulk_dft_data_path,\n",
    "    unique_ids_path,\n",
    "    prototypes_data_path,\n",
    "    static_irox_structures_path,\n",
    "    oqmd_irox_data_path,\n",
    "    )"
   ]
  },
  {
   "cell_type": "markdown",
   "metadata": {},
   "source": [
    "# Read Data"
   ]
  },
  {
   "cell_type": "code",
   "execution_count": 2,
   "metadata": {},
   "outputs": [],
   "source": [
    "with open(bulk_dft_data_path, \"rb\") as fle:\n",
    "    df_bulk_dft = pickle.load(fle)\n",
    "\n",
    "df_bulk_dft = df_bulk_dft[df_bulk_dft.source == \"raul\"]\n",
    "df_bulk_dft = df_bulk_dft.drop(\n",
    "    columns=[\"form_e_chris\", \"id\", \"id_old\", \"path\", \"energy\"],\n",
    "    )\n",
    "\n",
    "# df_bulk_dft = df_bulk_dft.iloc[0:5]"
   ]
  },
  {
   "cell_type": "code",
   "execution_count": 3,
   "metadata": {},
   "outputs": [],
   "source": [
    "ids = [\n",
    "    \"8p8evt9pcg\",\n",
    "    \"macixavwv3\",\n",
    "    \"zimixdvdxd\",\n",
    "    \"8ivkxwnhva\",\n",
    "    \"9lmkmh8s8r\",\n",
    "    \"vp7gxqv191\",\n",
    "    \"9txdvicqcf\",\n",
    "    \"8k7expx2bp\",\n",
    "    \"xwvhnh9sx4\",\n",
    "    \"vlbdnoxlnh\",\n",
    "    \"xjxdzi73bg\",\n",
    "    \"xg6exl6rmp\",\n",
    "    \"6fcdbh9fz2\",\n",
    "    \"9rz5nl9g6o\",\n",
    "    \"xw9y6rbkxr\",\n",
    "    \"v5cym3nycg\",\n",
    "    ]\n",
    "\n",
    "df_bulk_dft = df_bulk_dft.loc[ids]"
   ]
  },
  {
   "cell_type": "raw",
   "metadata": {},
   "source": [
    "\n",
    "\n"
   ]
  },
  {
   "cell_type": "code",
   "execution_count": 4,
   "metadata": {
    "jupyter": {
     "source_hidden": true
    }
   },
   "outputs": [],
   "source": [
    "def perform_symm_op(atoms, tol=1e-3, ang_tol=-1):\n",
    "    \"\"\"\n",
    "    \"\"\"\n",
    "    number_of_atoms_0 = atoms.get_number_of_atoms()\n",
    "    # #########################################################################\n",
    "    Symm_0 = Symmetry(atoms, tol=tol, ang_tol=ang_tol)\n",
    "\n",
    "    # #####################################\n",
    "    data = Symm_0.data\n",
    "    number = data[\"number\"]\n",
    "    hall_number = data[\"hall_number\"]\n",
    "    international = data[\"international\"]\n",
    "    hall = data[\"hall\"]\n",
    "    pointgroup = data[\"pointgroup\"]\n",
    "\n",
    "    # #####################################\n",
    "    lattice_name = Symm_0.get_lattice_name()\n",
    "\n",
    "    \n",
    "\n",
    "\n",
    "    # #########################################################################\n",
    "    # #########################################################################\n",
    "    # Analyzing standardized atoms symmetry ###################################\n",
    "    atoms_prim = get_standardized_cell(atoms, primitive=True, tol=tol)\n",
    "    number_of_atoms_1 = atoms_prim.get_number_of_atoms()\n",
    "\n",
    "    # Symm_1 = Symmetry(atoms_prim, tol=tol, ang_tol=ang_tol)\n",
    "    # data = Symm_1.data\n",
    "    # number_tmp = data[\"number\"]\n",
    "    # hall_number_tmp = data[\"hall_number\"]\n",
    "    # international_tmp = data[\"international\"]\n",
    "    # hall_tmp = data[\"hall\"]\n",
    "    # pointgroup_tmp = data[\"pointgroup\"]\n",
    "    # lattice_name_tmp = Symm_1.get_lattice_name()\n",
    "\n",
    "\n",
    "    out_dict = dict(\n",
    "        number=number,\n",
    "        hall_number=hall_number,\n",
    "        international=international,\n",
    "        hall=hall,\n",
    "        pointgroup=pointgroup,\n",
    "        lattice_name=lattice_name,\n",
    "        atoms_prim=atoms_prim,\n",
    "        number_of_atoms_0=number_of_atoms_0,\n",
    "        number_of_atoms_1=number_of_atoms_1,\n",
    "\n",
    "        # number_2=number_tmp,\n",
    "        # hall_number_2=hall_number_tmp,\n",
    "        # international_2=international_tmp,\n",
    "        # hall_2=hall_tmp,\n",
    "        # pointgroup_2=pointgroup_tmp,\n",
    "        # lattice_name_2=lattice_name_tmp,\n",
    "        # # atoms_prim_2=atoms_prim,\n",
    "\n",
    "        )\n",
    "\n",
    "    return(out_dict)"
   ]
  },
  {
   "cell_type": "code",
   "execution_count": 5,
   "metadata": {},
   "outputs": [],
   "source": [
    "def method(row_i):\n",
    "    atoms = row_i.atoms\n",
    "\n",
    "    tol = 9e-3\n",
    "\n",
    "    # ang_tol = -1\n",
    "    ang_tol = -1\n",
    "\n",
    "    symm_info = perform_symm_op(\n",
    "        atoms,\n",
    "        tol=tol,\n",
    "        ang_tol=ang_tol)\n",
    "\n",
    "    row_i = pd.Series()\n",
    "    for key, value in symm_info.items():\n",
    "        row_i[key] = value\n",
    "    return(row_i)\n",
    "\n",
    "\n",
    "df_symm = df_bulk_dft.apply(method, axis=1)"
   ]
  },
  {
   "cell_type": "raw",
   "metadata": {},
   "source": [
    "\n",
    "\n",
    "\n",
    "\n"
   ]
  },
  {
   "cell_type": "code",
   "execution_count": 6,
   "metadata": {},
   "outputs": [
    {
     "data": {
      "text/html": [
       "<div>\n",
       "<style scoped>\n",
       "    .dataframe tbody tr th:only-of-type {\n",
       "        vertical-align: middle;\n",
       "    }\n",
       "\n",
       "    .dataframe tbody tr th {\n",
       "        vertical-align: top;\n",
       "    }\n",
       "\n",
       "    .dataframe thead th {\n",
       "        text-align: right;\n",
       "    }\n",
       "</style>\n",
       "<table border=\"1\" class=\"dataframe\">\n",
       "  <thead>\n",
       "    <tr style=\"text-align: right;\">\n",
       "      <th></th>\n",
       "      <th>number</th>\n",
       "      <th>hall_number</th>\n",
       "      <th>international</th>\n",
       "      <th>hall</th>\n",
       "      <th>pointgroup</th>\n",
       "      <th>lattice_name</th>\n",
       "      <th>atoms_prim</th>\n",
       "      <th>number_of_atoms_0</th>\n",
       "      <th>number_of_atoms_1</th>\n",
       "    </tr>\n",
       "    <tr>\n",
       "      <th>id_unique</th>\n",
       "      <th></th>\n",
       "      <th></th>\n",
       "      <th></th>\n",
       "      <th></th>\n",
       "      <th></th>\n",
       "      <th></th>\n",
       "      <th></th>\n",
       "      <th></th>\n",
       "      <th></th>\n",
       "    </tr>\n",
       "  </thead>\n",
       "  <tbody>\n",
       "    <tr>\n",
       "      <th>8p8evt9pcg</th>\n",
       "      <td>15</td>\n",
       "      <td>90</td>\n",
       "      <td>C2/c</td>\n",
       "      <td>-C 2yc</td>\n",
       "      <td>2/m</td>\n",
       "      <td>monoclinic</td>\n",
       "      <td>(Atom('Ir', [0.0, 0.0, 0.0], magmom=0.0, index...</td>\n",
       "      <td>16</td>\n",
       "      <td>8</td>\n",
       "    </tr>\n",
       "    <tr>\n",
       "      <th>macixavwv3</th>\n",
       "      <td>167</td>\n",
       "      <td>460</td>\n",
       "      <td>R-3c</td>\n",
       "      <td>-R 3 2\"c</td>\n",
       "      <td>-3m</td>\n",
       "      <td>rhombohedral</td>\n",
       "      <td>(Atom('O', [0.0, 0.0, 0.0], magmom=0.0, index=...</td>\n",
       "      <td>48</td>\n",
       "      <td>8</td>\n",
       "    </tr>\n",
       "    <tr>\n",
       "      <th>9lmkmh8s8r</th>\n",
       "      <td>167</td>\n",
       "      <td>460</td>\n",
       "      <td>R-3c</td>\n",
       "      <td>-R 3 2\"c</td>\n",
       "      <td>-3m</td>\n",
       "      <td>rhombohedral</td>\n",
       "      <td>(Atom('O', [0.0, 0.0, 0.0], magmom=0.0, index=...</td>\n",
       "      <td>24</td>\n",
       "      <td>8</td>\n",
       "    </tr>\n",
       "    <tr>\n",
       "      <th>zimixdvdxd</th>\n",
       "      <td>182</td>\n",
       "      <td>476</td>\n",
       "      <td>P6_322</td>\n",
       "      <td>P 6c 2c</td>\n",
       "      <td>622</td>\n",
       "      <td>hexagonal</td>\n",
       "      <td>(Atom('O', [0.0, 0.0, 0.0], magmom=0.0, index=...</td>\n",
       "      <td>24</td>\n",
       "      <td>8</td>\n",
       "    </tr>\n",
       "  </tbody>\n",
       "</table>\n",
       "</div>"
      ],
      "text/plain": [
       "            number  hall_number international      hall pointgroup  \\\n",
       "id_unique                                                            \n",
       "8p8evt9pcg      15           90          C2/c    -C 2yc        2/m   \n",
       "macixavwv3     167          460          R-3c  -R 3 2\"c        -3m   \n",
       "9lmkmh8s8r     167          460          R-3c  -R 3 2\"c        -3m   \n",
       "zimixdvdxd     182          476        P6_322   P 6c 2c        622   \n",
       "\n",
       "            lattice_name                                         atoms_prim  \\\n",
       "id_unique                                                                     \n",
       "8p8evt9pcg    monoclinic  (Atom('Ir', [0.0, 0.0, 0.0], magmom=0.0, index...   \n",
       "macixavwv3  rhombohedral  (Atom('O', [0.0, 0.0, 0.0], magmom=0.0, index=...   \n",
       "9lmkmh8s8r  rhombohedral  (Atom('O', [0.0, 0.0, 0.0], magmom=0.0, index=...   \n",
       "zimixdvdxd     hexagonal  (Atom('O', [0.0, 0.0, 0.0], magmom=0.0, index=...   \n",
       "\n",
       "            number_of_atoms_0  number_of_atoms_1  \n",
       "id_unique                                         \n",
       "8p8evt9pcg                 16                  8  \n",
       "macixavwv3                 48                  8  \n",
       "9lmkmh8s8r                 24                  8  \n",
       "zimixdvdxd                 24                  8  "
      ]
     },
     "execution_count": 6,
     "metadata": {},
     "output_type": "execute_result"
    }
   ],
   "source": [
    "ids_sub = [\n",
    "    \"8p8evt9pcg\",\n",
    "    \"macixavwv3\",\n",
    "    \"9lmkmh8s8r\",\n",
    "    \"zimixdvdxd\",\n",
    "    ]\n",
    "\n",
    "df_symm.loc[ids_sub]"
   ]
  },
  {
   "cell_type": "code",
   "execution_count": 7,
   "metadata": {},
   "outputs": [],
   "source": [
    "from ase_modules.ase_methods import view_in_vesta\n",
    "\n",
    "df_i = df_symm.loc[ids_sub]\n",
    "atoms_list = df_i.atoms_prim.tolist()\n",
    "names = df_i.index.tolist()\n",
    "\n",
    "# view_in_vesta(atoms_list, ase_gui=False, name_list=names)"
   ]
  },
  {
   "cell_type": "raw",
   "metadata": {},
   "source": [
    "\n",
    "\n",
    "\n",
    "\n"
   ]
  },
  {
   "cell_type": "code",
   "execution_count": 8,
   "metadata": {
    "jupyter": {
     "source_hidden": true
    }
   },
   "outputs": [],
   "source": [
    "# row_i = df_bulk_dft.iloc[0]\n",
    "\n",
    "\n",
    "# atoms = row_i.atoms\n",
    "# tolerance = 1e-5\n",
    "\n",
    "# Symm_0 = Symmetry(atoms, tol=tolerance, ang_tol=-1)\n",
    "# atoms_stan = get_standardized_cell(atoms, primitive=True, tol=tolerance)\n",
    "\n",
    "# print(atoms_stan.symbols)"
   ]
  },
  {
   "cell_type": "code",
   "execution_count": 9,
   "metadata": {
    "jupyter": {
     "source_hidden": true
    }
   },
   "outputs": [],
   "source": [
    "# df_bulk_dft.loc[ids].to_csv(\"tmp_df_bulk_dft.csv\")\n",
    "\n",
    "# df_symm.loc[ids].to_csv(\"tmp.csv\")"
   ]
  },
  {
   "cell_type": "code",
   "execution_count": 10,
   "metadata": {
    "jupyter": {
     "source_hidden": true
    }
   },
   "outputs": [],
   "source": [
    "# import numpy as np\n",
    "# tmp = np.array(df_symm.number - df_symm.number_2).tolist()\n",
    "\n",
    "# [i for i in tmp if i != 0]"
   ]
  }
 ],
 "metadata": {
  "kernelspec": {
   "display_name": "Python [conda env:PROJ_IrOx_Active_Learning_OER]",
   "language": "python",
   "name": "conda-env-PROJ_IrOx_Active_Learning_OER-py"
  },
  "language_info": {
   "codemirror_mode": {
    "name": "ipython",
    "version": 3
   },
   "file_extension": ".py",
   "mimetype": "text/x-python",
   "name": "python",
   "nbconvert_exporter": "python",
   "pygments_lexer": "ipython3",
   "version": "3.6.7"
  }
 },
 "nbformat": 4,
 "nbformat_minor": 4
}
