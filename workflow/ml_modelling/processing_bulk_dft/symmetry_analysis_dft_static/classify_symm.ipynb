{
 "cells": [
  {
   "cell_type": "code",
   "execution_count": null,
   "metadata": {},
   "outputs": [],
   "source": [
    "import os\n",
    "print(os.getcwd())\n",
    "import sys\n",
    "\n",
    "import pandas as pd\n",
    "\n",
    "from ase.db import connect\n",
    "\n",
    "from protosearch.build_bulk.cell_parameters import CellParameters\n",
    "from protosearch.build_bulk.classification import get_classification"
   ]
  },
  {
   "cell_type": "code",
   "execution_count": null,
   "metadata": {},
   "outputs": [],
   "source": [
    "# %%capture\n",
    "\n",
    "# sys.path.insert(0,\n",
    "#     os.path.join(\n",
    "#         os.environ[\"PROJ_irox\"],\n",
    "#         \"workflow/ml_modelling\"))\n",
    "# from ml_methods import get_ml_dataframes, get_data_for_al\n",
    "\n",
    "# DF_dict = get_data_for_al()\n",
    "# # list(DF_dict.keys())\n",
    "\n",
    "# df_features_post = DF_dict[\"df_features_post\"]\n",
    "# df_features_pre = DF_dict[\"df_features_pre\"]\n",
    "# df_bulk_dft = DF_dict[\"df_bulk_dft\"]\n",
    "# df_ids = DF_dict[\"df_ids\"]\n",
    "# df_dij = DF_dict[\"df_dij\"]\n",
    "# df_static_irox = DF_dict[\"df_static_irox\"]"
   ]
  },
  {
   "cell_type": "code",
   "execution_count": null,
   "metadata": {},
   "outputs": [],
   "source": [
    "%%capture\n",
    "\n",
    "sys.path.insert(0, \n",
    "    os.path.join(\n",
    "        os.environ[\"PROJ_irox\"],\n",
    "        \"workflow/ml_modelling\"))\n",
    "\n",
    "from ml_methods import get_ml_dataframes\n",
    "DF_dict = get_ml_dataframes(\n",
    "    names=[\n",
    "        'bulk_dft_data_path',\n",
    "        'unique_ids_path',\n",
    "        'prototypes_data_path',\n",
    "        'static_irox_structures_path',\n",
    "        'static_irox_structures_kirsten_path',\n",
    "        'oqmd_irox_data_path',\n",
    "        'df_features_pre_opt_path',\n",
    "        'df_features_pre_opt_kirsten_path',\n",
    "        'df_features_post_opt_path',\n",
    "        'oer_bulk_structures_path',\n",
    "        'df_ccf_path',\n",
    "        'df_dij_path',\n",
    "        'ids_to_discard__too_many_atoms_path',\n",
    "        'df_prototype_dft_path',\n",
    "        'df_prototype_static_path',\n",
    "        ]\n",
    "    )\n",
    "\n",
    "df_bulk_dft = DF_dict[\"bulk_dft_data\"]\n",
    "df_static_irox = DF_dict[\"static_irox_structures\"]\n",
    "\n",
    "\n",
    "# bulk_dft_data = DF_dict[\"bulk_dft_data\"]\n",
    "# unique_ids = DF_dict[\"unique_ids\"]\n",
    "# prototypes_data = DF_dict[\"prototypes_data\"]\n",
    "# static_irox_structures = DF_dict[\"static_irox_structures\"]\n",
    "# static_irox_structures_kirsten = DF_dict[\"static_irox_structures_kirsten\"]\n",
    "# oqmd_irox_data = DF_dict[\"oqmd_irox_data\"]\n",
    "# df_features_pre_opt = DF_dict[\"df_features_pre_opt\"]\n",
    "# df_features_pre_opt_kirsten = DF_dict[\"df_features_pre_opt_kirsten\"]\n",
    "# df_features_post_opt = DF_dict[\"df_features_post_opt\"]\n",
    "# oer_bulk_structures = DF_dict[\"oer_bulk_structures\"]\n",
    "# df_ccf = DF_dict[\"df_ccf\"]\n",
    "# df_dij = DF_dict[\"df_dij\"]\n",
    "# ids_to_discard__too_many_atoms = DF_dict[\"ids_to_discard__too_many_atoms\"]\n",
    "# df_prototype_static = DF_dict[\"df_prototype_static\"]\n",
    "# df_prototype_dft = DF_dict[\"df_prototype_dft\"]"
   ]
  },
  {
   "cell_type": "code",
   "execution_count": null,
   "metadata": {},
   "outputs": [],
   "source": [
    "df_bulk_dft = df_bulk_dft[df_bulk_dft.source == \"raul\"]"
   ]
  },
  {
   "cell_type": "raw",
   "execution_count": null,
   "metadata": {},
   "outputs": [],
   "source": [
    "\n",
    "\n",
    "\n"
   ]
  },
  {
   "cell_type": "code",
   "execution_count": null,
   "metadata": {},
   "outputs": [],
   "source": [
    "def process_row(atoms, id_i):\n",
    "    \"\"\"\n",
    "    \"\"\"\n",
    "    # #####################################################\n",
    "    out_dict = dict()\n",
    "\n",
    "    out_dict[\"id_unique\"] = id_i\n",
    "\n",
    "    # #####################################################\n",
    "    prototype = get_classification(atoms)\n",
    "\n",
    "    p_name = prototype[0][\"p_name\"]\n",
    "    structure_name = prototype[0][\"structure_name\"]\n",
    "    spacegroup = prototype[0][\"spacegroup\"]\n",
    "    wyckoffs = prototype[0][\"wyckoffs\"]\n",
    "    species = prototype[0][\"species\"]\n",
    "\n",
    "    # #####################################################    \n",
    "    out_dict[\"p_name\"] = p_name\n",
    "    out_dict[\"structure_name\"] = structure_name\n",
    "    out_dict[\"spacegroup\"] = spacegroup\n",
    "    out_dict[\"wyckoffs\"] = wyckoffs\n",
    "    out_dict[\"species\"] = species\n",
    "\n",
    "    # #####################################################    \n",
    "    wyckoff_params = prototype[1]\n",
    "\n",
    "\n",
    "    # #####################################################\n",
    "    return(out_dict)"
   ]
  },
  {
   "cell_type": "markdown",
   "execution_count": null,
   "metadata": {},
   "outputs": [],
   "source": [
    "# DFT Opt. Structures Processing"
   ]
  },
  {
   "cell_type": "code",
   "execution_count": null,
   "metadata": {},
   "outputs": [],
   "source": [
    "# # df_bulk_dft = df_bulk_dft.sample(n=20)\n",
    "\n",
    "# data_dict_list = []\n",
    "# for id_i, row_i in df_bulk_dft.iterrows():\n",
    "#     atoms = row_i.atoms\n",
    "\n",
    "#     out_dict = process_row(atoms, id_i)\n",
    "#     data_dict_list.append(out_dict)\n",
    "\n",
    "# df_prototype_dft = pd.DataFrame(data_dict_list)\n",
    "# df_prototype_dft = df_prototype_dft.set_index(\"id_unique\")\n",
    "\n",
    "# df_prototype_dft.head()"
   ]
  },
  {
   "cell_type": "markdown",
   "execution_count": null,
   "metadata": {},
   "outputs": [],
   "source": [
    "# Static Structures Processing"
   ]
  },
  {
   "cell_type": "code",
   "execution_count": null,
   "metadata": {},
   "outputs": [],
   "source": [
    "assert False"
   ]
  },
  {
   "cell_type": "code",
   "execution_count": null,
   "metadata": {},
   "outputs": [],
   "source": [
    "df_static_irox.loc[\"8p8evt9pcg\"]"
   ]
  },
  {
   "cell_type": "code",
   "execution_count": null,
   "metadata": {},
   "outputs": [],
   "source": [
    "# df_static_irox = df_static_irox.sample(n=20)\n",
    "\n",
    "data_dict_list = []\n",
    "for id_i, row_i in df_static_irox.iterrows():\n",
    "    atoms = row_i.atoms\n",
    "\n",
    "    out_dict = process_row(atoms, id_i)\n",
    "    data_dict_list.append(out_dict)\n",
    "\n",
    "df_prototype_static = pd.DataFrame(data_dict_list)\n",
    "df_prototype_static = df_prototype_static.set_index(\"id_unique\")\n",
    "\n",
    "df_prototype_static.head()"
   ]
  },
  {
   "cell_type": "code",
   "execution_count": null,
   "metadata": {},
   "outputs": [],
   "source": [
    "# df_prototype_static.loc[\"8p8evt9pcg\"]\n",
    "df_prototype_static.shape"
   ]
  },
  {
   "cell_type": "raw",
   "execution_count": null,
   "metadata": {},
   "outputs": [],
   "source": [
    "\n",
    "\n",
    "\n"
   ]
  },
  {
   "cell_type": "code",
   "execution_count": null,
   "metadata": {},
   "outputs": [],
   "source": [
    "# import os; import pickle\n",
    "# directory = \"out_data\"\n",
    "# if not os.path.exists(directory): os.makedirs(directory)\n",
    "\n",
    "# # Pickling data ###########################################\n",
    "# with open(os.path.join(directory, \"df_prototype_static.pickle\"), \"wb\") as fle:\n",
    "#     pickle.dump(df_prototype_static, fle)\n",
    "\n",
    "# with open(os.path.join(directory, \"df_prototype_dft.pickle\"), \"wb\") as fle:\n",
    "#     pickle.dump(df_prototype_dft, fle)\n",
    "# #########################################################"
   ]
  },
  {
   "cell_type": "raw",
   "execution_count": null,
   "metadata": {},
   "outputs": [],
   "source": [
    "\n",
    "\n",
    "\n"
   ]
  },
  {
   "cell_type": "code",
   "execution_count": null,
   "metadata": {
    "jupyter": {}
   },
   "outputs": [],
   "source": [
    "# df_static_irox.\n",
    "\n",
    "# data_dict_list = []\n",
    "\n",
    "# for id_i, row_i in df_bulk_dft.iterrows():\n",
    "#     atoms = row_i.atoms\n",
    "\n",
    "#     # #####################################################\n",
    "#     out_dict = dict()\n",
    "\n",
    "#     out_dict[\"id_unique\"] = id_i\n",
    "\n",
    "#     # #####################################################\n",
    "#     prototype = get_classification(atoms)\n",
    "\n",
    "#     p_name = prototype[0][\"p_name\"]\n",
    "#     structure_name = prototype[0][\"structure_name\"]\n",
    "#     spacegroup = prototype[0][\"spacegroup\"]\n",
    "#     wyckoffs = prototype[0][\"wyckoffs\"]\n",
    "#     species = prototype[0][\"species\"]\n",
    "\n",
    "#     # #####################################################    \n",
    "#     out_dict[\"p_name\"] = p_name\n",
    "#     out_dict[\"structure_name\"] = structure_name\n",
    "#     out_dict[\"spacegroup\"] = spacegroup\n",
    "#     out_dict[\"wyckoffs\"] = wyckoffs\n",
    "#     out_dict[\"species\"] = species\n",
    "\n",
    "#     # #####################################################    \n",
    "#     wyckoff_params = prototype[1]\n",
    "\n",
    "\n",
    "#     # #####################################################        \n",
    "#     data_dict_list.append(out_dict)\n",
    "\n",
    "# df_prototype = pd.DataFrame(data_dict_list)\n",
    "# df_prototype = df_prototype.set_index(\"id_unique\")"
   ]
  }
 ],
 "metadata": {
  "kernelspec": {
   "display_name": "Python [conda env:PROJ_IrOx_Active_Learning_OER]",
   "language": "python",
   "name": "conda-env-PROJ_IrOx_Active_Learning_OER-py"
  },
  "language_info": {
   "codemirror_mode": {
    "name": "ipython",
    "version": 3
   },
   "file_extension": ".py",
   "mimetype": "text/x-python",
   "name": "python",
   "nbconvert_exporter": "python",
   "pygments_lexer": "ipython3",
   "version": "3.6.9"
  }
 },
 "nbformat": 4,
 "nbformat_minor": 4
}
