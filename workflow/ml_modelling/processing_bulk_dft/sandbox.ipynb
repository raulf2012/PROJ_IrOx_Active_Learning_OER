{
 "cells": [
  {
   "cell_type": "code",
   "execution_count": 1,
   "metadata": {},
   "outputs": [],
   "source": [
    "import os\n",
    "import sys\n",
    "\n",
    "import pickle\n",
    "import os\n",
    "\n",
    "sys.path.insert(0, os.path.join(os.environ[\"PROJ_irox\"], \"data\"))\n",
    "from proj_data_irox import static_irox_structures_path, bulk_dft_data_path"
   ]
  },
  {
   "cell_type": "code",
   "execution_count": 2,
   "metadata": {},
   "outputs": [],
   "source": [
    "with open(bulk_dft_data_path, \"rb\") as fle:\n",
    "    df_bulk_dft = pickle.load(fle)"
   ]
  },
  {
   "cell_type": "code",
   "execution_count": 16,
   "metadata": {},
   "outputs": [
    {
     "name": "stdout",
     "output_type": "stream",
     "text": [
      "/global/cscratch1/sd/flores12/IrOx_Project_temp_190510/ml_bulk_calculations/iro3_calcs/job_folders/116/_5\n",
      "/global/cscratch1/sd/flores12/IrOx_Project_temp_190510/ml_bulk_calculations/iro3_calcs/job_folders/038/_5\n"
     ]
    }
   ],
   "source": [
    "from ase.visualize import view\n",
    "from ase import io\n",
    "\n",
    "# view([\n",
    "#     ])\n",
    "\n",
    "# df_bulk_dft.loc[\"zr9ic2zaz5\"].iloc[0][\"atoms\"].write(\"__temp__/zr9ic2zaz5.cif\")\n",
    "# df_bulk_dft.loc[\"bpvynr7p9w\"].iloc[0][\"atoms\"].write(\"__temp__/bpvynr7p9w.cif\")\n",
    "\n",
    "print(df_bulk_dft.loc[\"zr9ic2zaz5\"].iloc[0][\"path\"])\n",
    "print(df_bulk_dft.loc[\"bpvynr7p9w\"].iloc[0][\"path\"])\n"
   ]
  },
  {
   "cell_type": "raw",
   "metadata": {},
   "source": [
    "\n",
    "\n",
    "\n",
    "\n",
    "\n"
   ]
  },
  {
   "cell_type": "code",
   "execution_count": 2,
   "metadata": {},
   "outputs": [],
   "source": [
    "with open(static_irox_structures_path, \"rb\") as fle:\n",
    "    df_static = pickle.load(fle)"
   ]
  },
  {
   "cell_type": "code",
   "execution_count": 14,
   "metadata": {},
   "outputs": [],
   "source": [
    "df_static = df_static[df_static[\"stoich\"] == \"AB3\"]\n",
    "df_static = df_static[df_static[\"source\"] == \"chris\"]\n",
    "\n",
    "df_static_iro3 = df_static"
   ]
  },
  {
   "cell_type": "code",
   "execution_count": 5,
   "metadata": {},
   "outputs": [],
   "source": [
    "# assert False"
   ]
  },
  {
   "cell_type": "code",
   "execution_count": 6,
   "metadata": {},
   "outputs": [],
   "source": [
    "root_data_dir = os.path.join(\n",
    "    os.environ[\"PROJ_DATA\"],\n",
    "    \"04_IrOx_surfaces_OER/ml_bulk_irox_dft\")\n",
    "\n",
    "with open(os.path.join(root_data_dir, \"iro3\", \"df_dict.pickle\"), \"rb\") as fle:\n",
    "    data_iro3 = pickle.load(fle)"
   ]
  },
  {
   "cell_type": "code",
   "execution_count": 30,
   "metadata": {},
   "outputs": [],
   "source": [
    "computed_ids = data_iro3[\"df\"][\"id\"].unique()\n",
    "\n",
    "computed_ids = [int(i) for i in computed_ids]"
   ]
  },
  {
   "cell_type": "code",
   "execution_count": 19,
   "metadata": {},
   "outputs": [],
   "source": [
    "all_ids = df_static_iro3[\"id_old\"].unique()"
   ]
  },
  {
   "cell_type": "code",
   "execution_count": 31,
   "metadata": {},
   "outputs": [
    {
     "data": {
      "text/plain": [
       "[]"
      ]
     },
     "execution_count": 31,
     "metadata": {},
     "output_type": "execute_result"
    }
   ],
   "source": [
    "(list(set(computed_ids) - set(all_ids)))"
   ]
  },
  {
   "cell_type": "code",
   "execution_count": 39,
   "metadata": {},
   "outputs": [
    {
     "data": {
      "text/plain": [
       "[158,\n",
       " 63,\n",
       " 194,\n",
       " 39,\n",
       " 155,\n",
       " 40,\n",
       " 17,\n",
       " 99,\n",
       " 226,\n",
       " 163,\n",
       " 248,\n",
       " 93,\n",
       " 75,\n",
       " 85,\n",
       " 235,\n",
       " 35,\n",
       " 211,\n",
       " 90,\n",
       " 246,\n",
       " 2,\n",
       " 143,\n",
       " 251,\n",
       " 23,\n",
       " 214,\n",
       " 73,\n",
       " 36,\n",
       " 229,\n",
       " 49,\n",
       " 52,\n",
       " 100,\n",
       " 43,\n",
       " 154,\n",
       " 103,\n",
       " 236,\n",
       " 200,\n",
       " 51,\n",
       " 199,\n",
       " 250,\n",
       " 5,\n",
       " 66,\n",
       " 104,\n",
       " 145,\n",
       " 67,\n",
       " 41,\n",
       " 32,\n",
       " 219,\n",
       " 30,\n",
       " 183,\n",
       " 78,\n",
       " 22,\n",
       " 101,\n",
       " 241,\n",
       " 10,\n",
       " 37,\n",
       " 74,\n",
       " 29,\n",
       " 137,\n",
       " 62]"
      ]
     },
     "execution_count": 39,
     "metadata": {},
     "output_type": "execute_result"
    }
   ],
   "source": [
    "all_ids\n",
    "\n",
    "computed_ids\n",
    "\n",
    "new_ids_to_run = [i for i in all_ids if i not in computed_ids]\n",
    "\n",
    "new_ids_to_run"
   ]
  },
  {
   "cell_type": "code",
   "execution_count": 40,
   "metadata": {},
   "outputs": [],
   "source": [
    "lst = [\n",
    "    \n",
    "1,\n",
    "2,\n",
    "\"\"\"\n",
    "3,\n",
    "4,\n",
    "5,\n",
    "\"\"\"\n",
    "\n",
    "]"
   ]
  },
  {
   "cell_type": "raw",
   "metadata": {},
   "source": [
    "\n",
    "\n"
   ]
  },
  {
   "cell_type": "code",
   "execution_count": null,
   "metadata": {
    "jupyter": {
     "source_hidden": true
    }
   },
   "outputs": [],
   "source": [
    "# iro2\n",
    "# iro3\n",
    "# df_dict.pickle"
   ]
  },
  {
   "cell_type": "code",
   "execution_count": null,
   "metadata": {},
   "outputs": [],
   "source": [
    "# sys.path.insert(0, os.path.join(os.environ[\"PROJ_irox\"], \"data\"))\n",
    "# from proj_data_irox import (\n",
    "#     bulk_dft_data_path,\n",
    "#     unique_ids_path,\n",
    "#     prototypes_data_path,\n",
    "#     static_irox_structures_path,\n",
    "#     oqmd_irox_data_path,\n",
    "#     voronoi_features_data_path,\n",
    "#     )"
   ]
  }
 ],
 "metadata": {
  "kernelspec": {
   "display_name": "Python [conda env:research-new]",
   "language": "python",
   "name": "conda-env-research-new-py"
  },
  "language_info": {
   "codemirror_mode": {
    "name": "ipython",
    "version": 3
   },
   "file_extension": ".py",
   "mimetype": "text/x-python",
   "name": "python",
   "nbconvert_exporter": "python",
   "pygments_lexer": "ipython3",
   "version": "3.6.8"
  }
 },
 "nbformat": 4,
 "nbformat_minor": 4
}
