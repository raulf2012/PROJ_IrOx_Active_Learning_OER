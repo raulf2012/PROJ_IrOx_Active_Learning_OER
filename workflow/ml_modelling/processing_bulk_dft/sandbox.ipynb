{
 "cells": [
  {
   "cell_type": "code",
   "execution_count": null,
   "metadata": {},
   "outputs": [],
   "source": [
    "import os\n",
    "import sys\n",
    "\n",
    "import pickle\n",
    "import os\n",
    "\n",
    "sys.path.insert(0, os.path.join(os.environ[\"PROJ_irox\"], \"data\"))\n",
    "from proj_data_irox import static_irox_structures_path, bulk_dft_data_path"
   ]
  },
  {
   "cell_type": "code",
   "execution_count": null,
   "metadata": {},
   "outputs": [],
   "source": [
    "with open(bulk_dft_data_path, \"rb\") as fle:\n",
    "    df_bulk_dft = pickle.load(fle)"
   ]
  },
  {
   "cell_type": "code",
   "execution_count": null,
   "metadata": {},
   "outputs": [],
   "source": [
    "from ase.visualize import view\n",
    "from ase import io\n",
    "\n",
    "# view([\n",
    "#     ])\n",
    "\n",
    "# df_bulk_dft.loc[\"zr9ic2zaz5\"].iloc[0][\"atoms\"].write(\"__temp__/zr9ic2zaz5.cif\")\n",
    "# df_bulk_dft.loc[\"bpvynr7p9w\"].iloc[0][\"atoms\"].write(\"__temp__/bpvynr7p9w.cif\")\n",
    "\n",
    "print(df_bulk_dft.loc[\"zr9ic2zaz5\"].iloc[0][\"path\"])\n",
    "print(df_bulk_dft.loc[\"bpvynr7p9w\"].iloc[0][\"path\"])\n"
   ]
  },
  {
   "cell_type": "raw",
   "execution_count": null,
   "metadata": {},
   "outputs": [],
   "source": [
    "\n",
    "\n",
    "\n",
    "\n",
    "\n"
   ]
  },
  {
   "cell_type": "code",
   "execution_count": null,
   "metadata": {},
   "outputs": [],
   "source": [
    "with open(static_irox_structures_path, \"rb\") as fle:\n",
    "    df_static = pickle.load(fle)"
   ]
  },
  {
   "cell_type": "code",
   "execution_count": null,
   "metadata": {},
   "outputs": [],
   "source": [
    "df_static = df_static[df_static[\"stoich\"] == \"AB3\"]\n",
    "df_static = df_static[df_static[\"source\"] == \"chris\"]\n",
    "\n",
    "df_static_iro3 = df_static"
   ]
  },
  {
   "cell_type": "code",
   "execution_count": null,
   "metadata": {},
   "outputs": [],
   "source": [
    "# assert False"
   ]
  },
  {
   "cell_type": "code",
   "execution_count": null,
   "metadata": {},
   "outputs": [],
   "source": [
    "root_data_dir = os.path.join(\n",
    "    os.environ[\"PROJ_DATA\"],\n",
    "    \"04_IrOx_surfaces_OER/ml_bulk_irox_dft\")\n",
    "\n",
    "with open(os.path.join(root_data_dir, \"iro3\", \"df_dict.pickle\"), \"rb\") as fle:\n",
    "    data_iro3 = pickle.load(fle)"
   ]
  },
  {
   "cell_type": "code",
   "execution_count": null,
   "metadata": {},
   "outputs": [],
   "source": [
    "computed_ids = data_iro3[\"df\"][\"id\"].unique()\n",
    "\n",
    "computed_ids = [int(i) for i in computed_ids]"
   ]
  },
  {
   "cell_type": "code",
   "execution_count": null,
   "metadata": {},
   "outputs": [],
   "source": [
    "all_ids = df_static_iro3[\"id_old\"].unique()"
   ]
  },
  {
   "cell_type": "code",
   "execution_count": null,
   "metadata": {},
   "outputs": [],
   "source": [
    "(list(set(computed_ids) - set(all_ids)))"
   ]
  },
  {
   "cell_type": "code",
   "execution_count": null,
   "metadata": {},
   "outputs": [],
   "source": [
    "all_ids\n",
    "\n",
    "computed_ids\n",
    "\n",
    "new_ids_to_run = [i for i in all_ids if i not in computed_ids]\n",
    "\n",
    "new_ids_to_run"
   ]
  },
  {
   "cell_type": "code",
   "execution_count": null,
   "metadata": {},
   "outputs": [],
   "source": [
    "lst = [\n",
    "    \n",
    "1,\n",
    "2,\n",
    "\"\"\"\n",
    "3,\n",
    "4,\n",
    "5,\n",
    "\"\"\"\n",
    "\n",
    "]"
   ]
  },
  {
   "cell_type": "raw",
   "execution_count": null,
   "metadata": {},
   "outputs": [],
   "source": [
    "\n",
    "\n"
   ]
  },
  {
   "cell_type": "code",
   "execution_count": null,
   "metadata": {
    "jupyter": {}
   },
   "outputs": [],
   "source": [
    "# iro2\n",
    "# iro3\n",
    "# df_dict.pickle"
   ]
  },
  {
   "cell_type": "code",
   "execution_count": null,
   "metadata": {},
   "outputs": [],
   "source": [
    "# sys.path.insert(0, os.path.join(os.environ[\"PROJ_irox\"], \"data\"))\n",
    "# from proj_data_irox import (\n",
    "#     bulk_dft_data_path,\n",
    "#     unique_ids_path,\n",
    "#     prototypes_data_path,\n",
    "#     static_irox_structures_path,\n",
    "#     oqmd_irox_data_path,\n",
    "#     voronoi_features_data_path,\n",
    "#     )"
   ]
  }
 ],
 "metadata": {
  "kernelspec": {
   "display_name": "Python [conda env:research-new]",
   "language": "python",
   "name": "conda-env-research-new-py"
  },
  "language_info": {
   "codemirror_mode": {
    "name": "ipython",
    "version": 3
   },
   "file_extension": ".py",
   "mimetype": "text/x-python",
   "name": "python",
   "nbconvert_exporter": "python",
   "pygments_lexer": "ipython3",
   "version": "3.6.8"
  }
 },
 "nbformat": 4,
 "nbformat_minor": 4
}
