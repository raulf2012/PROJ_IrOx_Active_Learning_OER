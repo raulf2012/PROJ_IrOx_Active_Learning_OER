{
 "cells": [
  {
   "cell_type": "markdown",
   "metadata": {},
   "source": [
    "# Import Modules"
   ],
   "execution_count": null,
   "outputs": []
  },
  {
   "cell_type": "code",
   "execution_count": null,
   "metadata": {},
   "outputs": [],
   "source": [
    "import os\n",
    "import sys\n",
    "import pickle\n",
    "\n",
    "sys.path.insert(0, os.path.join(os.environ[\"PROJ_irox\"], \"data\"))\n",
    "from proj_data_irox import (\n",
    "    bulk_dft_data_path,\n",
    "    static_irox_structures_path)"
   ]
  },
  {
   "cell_type": "markdown",
   "metadata": {},
   "source": [
    "# Script Inputs"
   ],
   "execution_count": null,
   "outputs": []
  },
  {
   "cell_type": "code",
   "execution_count": null,
   "metadata": {},
   "outputs": [],
   "source": [
    "atom_cutoff = 75"
   ]
  },
  {
   "cell_type": "markdown",
   "metadata": {},
   "source": [
    "# Read Data"
   ],
   "execution_count": null,
   "outputs": []
  },
  {
   "cell_type": "code",
   "execution_count": null,
   "metadata": {},
   "outputs": [],
   "source": [
    "with open(bulk_dft_data_path, \"rb\") as fle:\n",
    "    df_bulk_dft = pickle.load(fle)\n",
    "    \n",
    "with open(static_irox_structures_path, \"rb\") as fle:\n",
    "    df_static_irox = pickle.load(fle)"
   ]
  },
  {
   "cell_type": "markdown",
   "metadata": {},
   "source": [
    "# Add 'number of atoms' column to dataframe"
   ],
   "execution_count": null,
   "outputs": []
  },
  {
   "cell_type": "code",
   "execution_count": null,
   "metadata": {},
   "outputs": [],
   "source": [
    "def method(row_i):\n",
    "    atoms_i = row_i[\"atoms\"]\n",
    "    num_atoms_i = atoms_i.get_number_of_atoms() \n",
    "    return(num_atoms_i)\n",
    "\n",
    "df_i = df_static_irox\n",
    "df_i[\"num_atoms\"] = df_i.apply(method, axis=1)\n",
    "df_static_irox = df_i"
   ]
  },
  {
   "cell_type": "code",
   "execution_count": null,
   "metadata": {},
   "outputs": [],
   "source": [
    "df_discard = df_static_irox[df_static_irox[\"num_atoms\"] > atom_cutoff]\n",
    "ids_to_discard = df_discard.index.unique().tolist()"
   ]
  },
  {
   "cell_type": "code",
   "execution_count": null,
   "metadata": {},
   "outputs": [],
   "source": [
    "print(\n",
    "    \"Number of IrO2 structures that are above the atom_number cutoff\",\n",
    "    \"\\n\",\n",
    "    df_discard[df_discard[\"stoich\"] == \"AB2\"].shape[0],\n",
    "    )\n",
    "print(\"\")\n",
    "print(\n",
    "    \"Number of IrO3 structures that are above the atom_number cutoff\",\n",
    "    \"\\n\",\n",
    "    df_discard[df_discard[\"stoich\"] == \"AB3\"].shape[0],\n",
    "    )"
   ]
  },
  {
   "cell_type": "code",
   "execution_count": null,
   "metadata": {},
   "outputs": [],
   "source": [
    "698 - 131"
   ]
  },
  {
   "cell_type": "markdown",
   "metadata": {},
   "source": [
    "# Saving data"
   ],
   "execution_count": null,
   "outputs": []
  },
  {
   "cell_type": "code",
   "execution_count": null,
   "metadata": {},
   "outputs": [],
   "source": [
    "# directory = \"out_data\"\n",
    "# if not os.path.exists(directory): os.makedirs(directory)\n",
    "# with open(os.path.join(directory, \"ids_to_discard__too_many_atoms.pickle\"), \"wb\") as fle:\n",
    "#     pickle.dump(ids_to_discard, fle)"
   ]
  },
  {
   "cell_type": "raw",
   "metadata": {},
   "source": [
    "\n",
    "\n",
    "\n"
   ],
   "execution_count": null,
   "outputs": []
  },
  {
   "cell_type": "code",
   "execution_count": null,
   "metadata": {
    "jupyter": {}
   },
   "outputs": [],
   "source": [
    "# df_static_iro2 = df_static_irox[df_static_irox[\"stoich\"] == \"AB2\"]\n",
    "\n",
    "# df_static_iro3 = df_static_irox[df_static_irox[\"stoich\"] == \"AB3\"]"
   ]
  },
  {
   "cell_type": "code",
   "execution_count": null,
   "metadata": {
    "jupyter": {}
   },
   "outputs": [],
   "source": [
    "# atom_cutoff = 100\n",
    "\n",
    "# print(df_static_iro3[df_static_iro3[\"num_atoms\"] > atom_cutoff].shape)\n",
    "# print(df_static_iro2[df_static_iro2[\"num_atoms\"] > atom_cutoff].shape)\n",
    "\n",
    "# df_iro3_discard = df_static_iro3[df_static_iro3[\"num_atoms\"] > atom_cutoff]\n",
    "# df_iro2_discard = df_static_iro2[df_static_iro2[\"num_atoms\"] > atom_cutoff]\n",
    "\n",
    "# df_iro2_discard"
   ]
  },
  {
   "cell_type": "code",
   "execution_count": null,
   "metadata": {
    "jupyter": {}
   },
   "outputs": [],
   "source": [
    "# row_i = df_static_irox.iloc[0]\n",
    "\n",
    "# atoms_i = row_i[\"atoms\"]\n",
    "\n",
    "# atoms_i.get_number_of_atoms()"
   ]
  }
 ],
 "metadata": {
  "kernelspec": {
   "display_name": "Python [conda env:research-new]",
   "language": "python",
   "name": "conda-env-research-new-py"
  },
  "language_info": {
   "codemirror_mode": {
    "name": "ipython",
    "version": 3
   },
   "file_extension": ".py",
   "mimetype": "text/x-python",
   "name": "python",
   "nbconvert_exporter": "python",
   "pygments_lexer": "ipython3",
   "version": "3.6.8"
  }
 },
 "nbformat": 4,
 "nbformat_minor": 4
}
