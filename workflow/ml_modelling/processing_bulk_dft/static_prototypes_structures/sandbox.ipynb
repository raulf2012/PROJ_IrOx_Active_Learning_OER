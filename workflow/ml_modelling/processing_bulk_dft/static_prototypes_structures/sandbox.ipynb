{
 "cells": [
  {
   "cell_type": "code",
   "execution_count": null,
   "metadata": {},
   "outputs": [],
   "source": [
    "import pickle\n",
    "import os\n",
    "\n",
    "path_i = \"out_data/data_structures.pickle\"\n",
    "with open(path_i, \"rb\") as fle:\n",
    "    df_static = pickle.load(fle)"
   ]
  },
  {
   "cell_type": "code",
   "execution_count": null,
   "metadata": {},
   "outputs": [],
   "source": [
    "row_i = df_static.iloc[0]\n",
    "\n",
    "atoms = row_i[\"atoms\"]\n",
    "\n",
    "num_atoms = atoms.get_number_of_atoms()"
   ]
  },
  {
   "cell_type": "code",
   "execution_count": null,
   "metadata": {},
   "outputs": [],
   "source": [
    "def method(row_i, argument_0, optional_arg=None):\n",
    "    \"\"\"\n",
    "    \"\"\"    \n",
    "#     row_i = df_static.iloc[0]\n",
    "\n",
    "    atoms = row_i[\"atoms\"]\n",
    "\n",
    "    num_atoms = atoms.get_number_of_atoms()\n",
    "\n",
    "    return(num_atoms)\n",
    "\n",
    "arg1 = \"TEMP_0\"\n",
    "df_i = df_static\n",
    "df_i[\"num_atoms\"] = df_i.apply(\n",
    "    method,\n",
    "    axis=1,\n",
    "    args=(arg1, ),\n",
    "    optional_arg=\"TEMP_1\"\n",
    "    )\n",
    "df_static = df_i"
   ]
  },
  {
   "cell_type": "code",
   "execution_count": null,
   "metadata": {},
   "outputs": [],
   "source": [
    "df_ab2 = df_static[df_static[\"stoich\"] == \"AB2\"]\n",
    "\n",
    "df_ab3 = df_static[df_static[\"stoich\"] == \"AB3\"]"
   ]
  },
  {
   "cell_type": "code",
   "execution_count": null,
   "metadata": {},
   "outputs": [],
   "source": [
    "num_atoms_cutoff = 70\n",
    "print(df_ab2[df_ab2[\"num_atoms\"] > num_atoms_cutoff].shape)\n",
    "print(df_ab3[df_ab3[\"num_atoms\"] > num_atoms_cutoff].shape)"
   ]
  }
 ],
 "metadata": {
  "kernelspec": {
   "display_name": "Python [conda env:PROJ_IrOx_Active_Learning_OER]",
   "language": "python",
   "name": "conda-env-PROJ_IrOx_Active_Learning_OER-py"
  },
  "language_info": {
   "codemirror_mode": {
    "name": "ipython",
    "version": 3
   },
   "file_extension": ".py",
   "mimetype": "text/x-python",
   "name": "python",
   "nbconvert_exporter": "python",
   "pygments_lexer": "ipython3",
   "version": "3.6.9"
  }
 },
 "nbformat": 4,
 "nbformat_minor": 4
}
