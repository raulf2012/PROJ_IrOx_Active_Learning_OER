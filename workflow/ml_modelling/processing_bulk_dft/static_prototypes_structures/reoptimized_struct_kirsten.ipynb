{
 "cells": [
  {
   "cell_type": "code",
   "execution_count": 25,
   "metadata": {},
   "outputs": [
    {
     "name": "stderr",
     "output_type": "stream",
     "text": [
      "/home/raulf2012/anaconda3/envs/PROJ_IrOx_Active_Learning_OER/lib/python3.6/importlib/_bootstrap.py:219: RuntimeWarning: numpy.ufunc size changed, may indicate binary incompatibility. Expected 192 from C header, got 216 from PyObject\n",
      "  return f(*args, **kwds)\n",
      "/home/raulf2012/anaconda3/envs/PROJ_IrOx_Active_Learning_OER/lib/python3.6/importlib/_bootstrap.py:219: RuntimeWarning: numpy.ufunc size changed, may indicate binary incompatibility. Expected 192 from C header, got 216 from PyObject\n",
      "  return f(*args, **kwds)\n"
     ]
    }
   ],
   "source": [
    "import os\n",
    "import sys\n",
    "\n",
    "import ase.db\n",
    "import pandas as pd"
   ]
  },
  {
   "cell_type": "code",
   "execution_count": 26,
   "metadata": {},
   "outputs": [],
   "source": [
    "db_path = os.path.join(\n",
    "    os.environ[\"PROJ_DATA\"],\n",
    "    \"04_IrOx_surfaces_OER/ml_bulk_static_preopt_structures/reoptimized_structures_from_kirsten\",\n",
    "    \"OptimizedStructures.db\")\n",
    "\n",
    "db = ase.db.connect(db_path)"
   ]
  },
  {
   "cell_type": "code",
   "execution_count": 27,
   "metadata": {},
   "outputs": [],
   "source": [
    "data_list = []\n",
    "for row in db.select():\n",
    "    atoms_i = row.toatoms()\n",
    "    id_unique_i = row.structure_id\n",
    "    \n",
    "    data_dict_i = {\n",
    "        \"atoms\": atoms_i,\n",
    "        \"id_unique\": id_unique_i}\n",
    "    data_list.append(data_dict_i)"
   ]
  },
  {
   "cell_type": "code",
   "execution_count": 37,
   "metadata": {},
   "outputs": [],
   "source": [
    "df_struct = pd.DataFrame(data_list)\n",
    "df_struct = df_struct.set_index(\"id_unique\")"
   ]
  },
  {
   "cell_type": "code",
   "execution_count": 38,
   "metadata": {},
   "outputs": [],
   "source": [
    "# Pickling data ######################################################\n",
    "import os; import pickle\n",
    "directory = \"out_data\"\n",
    "if not os.path.exists(directory): os.makedirs(directory)\n",
    "with open(os.path.join(directory, \"data_structures_kirsten.pickle\"), \"wb\") as fle:\n",
    "    pickle.dump(df_struct, fle)\n",
    "# #####################################################################"
   ]
  },
  {
   "cell_type": "code",
   "execution_count": 41,
   "metadata": {},
   "outputs": [],
   "source": [
    "from ase_modules.ase_methods import view_in_vesta"
   ]
  },
  {
   "cell_type": "code",
   "execution_count": 50,
   "metadata": {},
   "outputs": [
    {
     "name": "stdout",
     "output_type": "stream",
     "text": [
      "VESTA /tmp/RAUL_TEMP_DIR_jjpy3udq/000_8ynlx48yva_kccedetxgm.cif /tmp/RAUL_TEMP_DIR_jjpy3udq/001_brz29y6qmy_rqrvwmqmtc.cif /tmp/RAUL_TEMP_DIR_jjpy3udq/002_94x5nkmjmf_feedgjbkqr.cif /tmp/RAUL_TEMP_DIR_jjpy3udq/003_v59s9lxdxr_obznlbohit.cif /tmp/RAUL_TEMP_DIR_jjpy3udq/004_8kvd8qnim4_ttgftscixj.cif /tmp/RAUL_TEMP_DIR_jjpy3udq/005_b3nqv1mkby_xjlxfvsfhe.cif /tmp/RAUL_TEMP_DIR_jjpy3udq/006_6r6pmimq9t_rjnwpqtbsi.cif /tmp/RAUL_TEMP_DIR_jjpy3udq/007_zqxqcs9s65_khdttveutt.cif /tmp/RAUL_TEMP_DIR_jjpy3udq/008_7e6fm2ci7f_plmrzzmvkc.cif /tmp/RAUL_TEMP_DIR_jjpy3udq/009_zqzi9oxozd_ffaugpkkaf.cif &\n"
     ]
    }
   ],
   "source": [
    "df_struct = df_struct.sample(n=10)\n",
    "\n",
    "atoms = df_struct[\"atoms\"].tolist()\n",
    "names_list = df_struct.index.tolist()\n",
    "\n",
    "# view_in_vesta(atoms, ase_gui=False, name_list=names_list)"
   ]
  }
 ],
 "metadata": {
  "kernelspec": {
   "display_name": "Python [conda env:PROJ_IrOx_Active_Learning_OER]",
   "language": "python",
   "name": "conda-env-PROJ_IrOx_Active_Learning_OER-py"
  },
  "language_info": {
   "codemirror_mode": {
    "name": "ipython",
    "version": 3
   },
   "file_extension": ".py",
   "mimetype": "text/x-python",
   "name": "python",
   "nbconvert_exporter": "python",
   "pygments_lexer": "ipython3",
   "version": "3.6.9"
  }
 },
 "nbformat": 4,
 "nbformat_minor": 4
}
