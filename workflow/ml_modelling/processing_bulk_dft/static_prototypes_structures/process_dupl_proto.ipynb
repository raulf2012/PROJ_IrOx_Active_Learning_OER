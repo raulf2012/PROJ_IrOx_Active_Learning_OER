{
 "cells": [
  {
   "cell_type": "markdown",
   "metadata": {
    "Collapsed": "false"
   },
   "source": [
    "# Import Modules"
   ]
  },
  {
   "cell_type": "code",
   "execution_count": 1,
   "metadata": {
    "Collapsed": "false"
   },
   "outputs": [
    {
     "name": "stdout",
     "output_type": "stream",
     "text": [
      "os.getcwd(): /home/raulf2012/Dropbox/01_norskov/00_git_repos/PROJ_IrOx_Active_Learning_OER/workflow/ml_modelling/processing_bulk_dft/static_prototypes_structures\n"
     ]
    }
   ],
   "source": [
    "import os\n",
    "print(\"os.getcwd():\", os.getcwd())\n",
    "\n",
    "import sys\n",
    "\n",
    "# Add paths to $PATH\n",
    "sys.path.insert(0, \"/home/raulf2012/Dropbox/01_norskov/00_git_repos/PROJ_IrOx_Active_Learning_OER/workflow/ml_modelling\")\n",
    "\n",
    "\n",
    "# #############################################################################\n",
    "from ml_methods import get_ml_dataframes\n",
    "\n",
    "# #############################################################################\n",
    "from IPython.display import display"
   ]
  },
  {
   "cell_type": "markdown",
   "metadata": {
    "Collapsed": "false"
   },
   "source": [
    "# Read Data"
   ]
  },
  {
   "cell_type": "markdown",
   "metadata": {
    "Collapsed": "false"
   },
   "source": [
    "## Read dataframes"
   ]
  },
  {
   "cell_type": "code",
   "execution_count": 2,
   "metadata": {
    "Collapsed": "false"
   },
   "outputs": [],
   "source": [
    "DF_dict = get_ml_dataframes(\n",
    "    names=[\n",
    "        \"bulk_dft_data_path\",\n",
    "        \"unique_ids_path\",\n",
    "        \"prototypes_data_path\",\n",
    "        \"static_irox_structures_path\",\n",
    "        \"static_irox_structures_kirsten_path\",\n",
    "        \"oqmd_irox_data_path\",\n",
    "        \"df_features_pre_opt_path\",\n",
    "        \"df_features_pre_opt_kirsten_path\",\n",
    "        \"df_features_post_opt_path\",\n",
    "        # \"df_features_path\",\n",
    "        # \"df_features_cleaned_path\",\n",
    "        # \"df_features_cleaned_pca_path\",\n",
    "        \"oer_bulk_structures_path\",\n",
    "        \"df_ccf_path\",\n",
    "        \"df_dij_path\",\n",
    "        \"ids_to_discard__too_many_atoms_path\",\n",
    "        ],\n",
    "\n",
    "    )"
   ]
  },
  {
   "cell_type": "code",
   "execution_count": 3,
   "metadata": {
    "Collapsed": "false"
   },
   "outputs": [],
   "source": [
    "DF_dict.keys()\n",
    "\n",
    "\n",
    "df_bulk_dft = DF_dict[\"bulk_dft_data\"]\n",
    "\n",
    "df_bulk_dft = df_bulk_dft[df_bulk_dft.source == \"raul\"]"
   ]
  },
  {
   "cell_type": "markdown",
   "metadata": {
    "Collapsed": "false"
   },
   "source": [
    "## Read prototype duplicate data"
   ]
  },
  {
   "cell_type": "code",
   "execution_count": 4,
   "metadata": {
    "Collapsed": "false"
   },
   "outputs": [],
   "source": [
    "# #############################################################################\n",
    "import pickle; import os\n",
    "path_i = os.path.join(\n",
    "    \"out_data\",\n",
    "    \"duplicates_proto.pickle\")\n",
    "with open(path_i, \"rb\") as fle:\n",
    "    duplicates_proto = pickle.load(fle)\n",
    "# #############################################################################"
   ]
  },
  {
   "cell_type": "markdown",
   "metadata": {
    "Collapsed": "false"
   },
   "source": [
    "# TEMP"
   ]
  },
  {
   "cell_type": "code",
   "execution_count": 22,
   "metadata": {
    "Collapsed": "false"
   },
   "outputs": [
    {
     "data": {
      "text/plain": [
       "21"
      ]
     },
     "execution_count": 22,
     "metadata": {},
     "output_type": "execute_result"
    }
   ],
   "source": [
    "len(duplicates_proto)"
   ]
  },
  {
   "cell_type": "code",
   "execution_count": 54,
   "metadata": {
    "Collapsed": "false"
   },
   "outputs": [
    {
     "name": "stdout",
     "output_type": "stream",
     "text": [
      "Index([], dtype='object')\n"
     ]
    }
   ],
   "source": [
    "duplicates_proto\n",
    "\n",
    "ids_to_drop = []\n",
    "for duplicate_list in duplicates_proto:\n",
    "    PRINT = False\n",
    "\n",
    "    if \"8snlxpnhmq\" in duplicate_list:\n",
    "        PRINT = True\n",
    "\n",
    "    num_dupl = len(duplicate_list)\n",
    "\n",
    "    dupl_ids_in_df = df_bulk_dft.index.intersection(duplicate_list)\n",
    "\n",
    "    if PRINT:\n",
    "        print(dupl_ids_in_df)\n",
    "    \n",
    "    if len(dupl_ids_in_df) == 0:\n",
    "        ids_to_drop.extend(dupl_ids_not_in_df[1:])\n",
    "\n",
    "    else:\n",
    "        dupl_ids_not_in_df = [i for i in duplicate_list if i not in df_bulk_dft.index.tolist()]\n",
    "        ids_to_drop.extend(dupl_ids_not_in_df)\n",
    "\n",
    "    # print(dupl_ids_not_in_df)\n",
    "\n",
    "    df_i = df_bulk_dft.loc[dupl_ids_in_df]\n",
    "\n",
    "    df_not_most_stable = df_i[~(df_i.dH == df_i.dH.min())]\n",
    "    dupl_ids_not_most_stable = df_not_most_stable.index.tolist()\n",
    "    ids_to_drop.extend(dupl_ids_not_most_stable)\n",
    "\n",
    "    # if df_i.shape[0] > 1:\n",
    "    #      display(df_i)"
   ]
  },
  {
   "cell_type": "code",
   "execution_count": 57,
   "metadata": {
    "Collapsed": "false"
   },
   "outputs": [],
   "source": [
    "# Pickling data ######################################################\n",
    "import os; import pickle\n",
    "directory = \"out_data\"\n",
    "if not os.path.exists(directory): os.makedirs(directory)\n",
    "with open(os.path.join(directory, \"ids_to_discard__proto_dupl.pickle\"), \"wb\") as fle:\n",
    "    pickle.dump(ids_to_drop, fle)\n",
    "# #####################################################################"
   ]
  },
  {
   "cell_type": "raw",
   "metadata": {
    "Collapsed": "false"
   },
   "source": [
    "\n",
    "\n"
   ]
  },
  {
   "cell_type": "code",
   "execution_count": 58,
   "metadata": {
    "Collapsed": "false",
    "jupyter": {
     "source_hidden": true
    }
   },
   "outputs": [],
   "source": [
    "# for duplicate_list in duplicates_proto:\n",
    "# #     print(duplicate_list)\n",
    "    \n",
    "#     tmp = [i for i in duplicate_list if i not in ids_to_drop]\n",
    "# #     print(tmp)\n",
    "    \n",
    "#     if len(tmp) == 0:\n",
    "#         print(duplicate_list)"
   ]
  }
 ],
 "metadata": {
  "kernelspec": {
   "display_name": "Python [conda env:PROJ_IrOx_Active_Learning_OER]",
   "language": "python",
   "name": "conda-env-PROJ_IrOx_Active_Learning_OER-py"
  },
  "language_info": {
   "codemirror_mode": {
    "name": "ipython",
    "version": 3
   },
   "file_extension": ".py",
   "mimetype": "text/x-python",
   "name": "python",
   "nbconvert_exporter": "python",
   "pygments_lexer": "ipython3",
   "version": "3.6.7"
  }
 },
 "nbformat": 4,
 "nbformat_minor": 4
}
