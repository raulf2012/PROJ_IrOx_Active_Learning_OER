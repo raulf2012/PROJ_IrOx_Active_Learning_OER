{
 "cells": [
  {
   "cell_type": "markdown",
   "metadata": {},
   "source": [
    "# Import Modules"
   ],
   "execution_count": null,
   "outputs": []
  },
  {
   "cell_type": "code",
   "execution_count": null,
   "metadata": {},
   "outputs": [],
   "source": [
    "import os\n",
    "\n",
    "import pandas as pd\n",
    "\n",
    "from ase import io\n",
    "\n",
    "os.getcwd()"
   ]
  },
  {
   "cell_type": "markdown",
   "metadata": {},
   "source": [
    "# Read Atoms Objects"
   ],
   "execution_count": null,
   "outputs": []
  },
  {
   "cell_type": "code",
   "execution_count": null,
   "metadata": {},
   "outputs": [],
   "source": [
    "rootdir = os.path.join(\n",
    "    os.environ[\"PROJ_DATA\"],\n",
    "    \"04_IrOx_surfaces_OER/bulk_systems\")\n",
    "\n",
    "# bulk_atoms_dict = {\n",
    "#     \"IrO3_rutile-like\": io.read(os.path.join(rootdir, \"r_iro3/_1/OUTCAR\")),\n",
    "#     \"IrO3\": io.read(os.path.join(rootdir, \"a_iro3/_2/OUTCAR\")),\n",
    "#     \"IrO3_battery\": io.read(os.path.join(rootdir, \"b_iro3/_3/OUTCAR\")),\n",
    "#     \"IrO2\": io.read(os.path.join(rootdir, \"r_iro2/_1/OUTCAR\")),\n",
    "#     }\n",
    "\n",
    "bulk_atoms_dict = {\n",
    "    \"IrO3_rutile-like\": os.path.join(rootdir, \"r_iro3/_1/OUTCAR\"),\n",
    "    \"IrO3\": os.path.join(rootdir, \"a_iro3/_2/OUTCAR\"),\n",
    "    \"IrO3_battery\": os.path.join(rootdir, \"b_iro3/_3/OUTCAR\"),\n",
    "    \"IrO2\": os.path.join(rootdir, \"r_iro2/_1/OUTCAR\"),\n",
    "    }"
   ]
  },
  {
   "cell_type": "code",
   "execution_count": null,
   "metadata": {},
   "outputs": [],
   "source": [
    "data_list = []\n",
    "for key, value in bulk_atoms_dict.items():\n",
    "\n",
    "    if \"IrO3\" in key:\n",
    "        stoich_i = \"AB3\"\n",
    "    elif \"IrO2\" in key:\n",
    "        stoich_i = \"AB2\"\n",
    "    else:\n",
    "        stoich_i = None\n",
    "\n",
    "    atoms_i = io.read(value)\n",
    "\n",
    "    data_dict_i = {\n",
    "        \"atoms\": atoms_i,\n",
    "        \"id\": key,\n",
    "        \"path\": value,\n",
    "        \"stoich\": stoich_i,\n",
    "        }\n",
    "\n",
    "    data_list.append(data_dict_i)"
   ]
  },
  {
   "cell_type": "code",
   "execution_count": null,
   "metadata": {},
   "outputs": [],
   "source": [
    "df_oer_bulk = pd.DataFrame(data_list)\n",
    "\n",
    "df_oer_bulk[\"source\"] = \"raul_oer\"\n",
    "df_oer_bulk[\"id_unique\"] = df_oer_bulk[\"id\"]\n",
    "\n",
    "df_oer_bulk = df_oer_bulk.set_index(\"id_unique\")"
   ]
  },
  {
   "cell_type": "markdown",
   "metadata": {},
   "source": [
    "# Save Data"
   ],
   "execution_count": null,
   "outputs": []
  },
  {
   "cell_type": "code",
   "execution_count": null,
   "metadata": {},
   "outputs": [],
   "source": [
    "directory = \"out_data\"\n",
    "if not os.path.exists(directory):\n",
    "    os.makedirs(directory)\n",
    "\n",
    "import pickle\n",
    "with open(os.path.join(directory, \"df_oer_bulk.pickle\"), \"wb\") as fle:\n",
    "    pickle.dump(df_oer_bulk, fle)"
   ]
  },
  {
   "cell_type": "raw",
   "metadata": {},
   "source": [
    "\n",
    "\n"
   ],
   "execution_count": null,
   "outputs": []
  },
  {
   "cell_type": "code",
   "execution_count": null,
   "metadata": {
    "jupyter": {}
   },
   "outputs": [],
   "source": [
    "# for key, val in bulk_atoms_dict.items():\n",
    "#     print(\"SIDDFJ\")\n",
    "#     print(val.get_potential_energy())\n",
    "\n",
    "# .\n",
    "# \u251c\u2500\u2500 a_iro3\n",
    "# \u2502\u00a0\u00a0 \u2514\u2500\u2500 _2\n",
    "# \u251c\u2500\u2500 b_iro3\n",
    "# \u2502\u00a0\u00a0 \u2514\u2500\u2500 _3\n",
    "# \u2514\u2500\u2500 r_iro2\n",
    "#     \u2514\u2500\u2500 _1\n",
    "#     \"IrO2\": IrO2_ave_regressed_bulk_e,\n",
    "#     \"IrO3\": IrO3_ave_regressed_bulk_e,\n",
    "#     \"IrO3_rutile-like\": IrO3_rutile_like_ave_regressed_bulk_e,\n",
    "#     \"IrO3_battery\": IrO3_battery_bulk_e_dft,\n",
    "# /home/raulf2012/Dropbox/01_norskov/PROJECT_DATA\n",
    "# 04_IrOx_surfaces_OER/bulk_systems"
   ]
  }
 ],
 "metadata": {
  "kernelspec": {
   "display_name": "Python 3",
   "language": "python",
   "name": "python3"
  },
  "language_info": {
   "codemirror_mode": {
    "name": "ipython",
    "version": 3
   },
   "file_extension": ".py",
   "mimetype": "text/x-python",
   "name": "python",
   "nbconvert_exporter": "python",
   "pygments_lexer": "ipython3",
   "version": "3.7.3"
  }
 },
 "nbformat": 4,
 "nbformat_minor": 4
}
