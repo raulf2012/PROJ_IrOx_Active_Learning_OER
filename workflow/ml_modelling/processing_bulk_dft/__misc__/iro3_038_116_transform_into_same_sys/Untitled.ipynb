{
 "cells": [
  {
   "cell_type": "code",
   "execution_count": 3,
   "metadata": {},
   "outputs": [],
   "source": [
    "from ase import io"
   ]
  },
  {
   "cell_type": "code",
   "execution_count": 10,
   "metadata": {},
   "outputs": [],
   "source": [
    "tmp_list = [1, 2, 3, 4, 5]\n",
    "\n",
    "combined_images = []\n",
    "for i in tmp_list:\n",
    "    atoms_i = io.read(\"iro3_116_traj/\" + str(i) + \".OUTCAR\", index=\":\")\n",
    "    combined_images.extend(atoms_i)\n",
    "\n",
    "io.write(\"out_data/iro3_116.traj\", combined_images)"
   ]
  },
  {
   "cell_type": "code",
   "execution_count": 11,
   "metadata": {},
   "outputs": [],
   "source": [
    "tmp_list = [1, 2, 3, 4, 5]\n",
    "\n",
    "combined_images = []\n",
    "for i in tmp_list:\n",
    "    atoms_i = io.read(\"iro3_038_traj/\" + str(i) + \".OUTCAR\", index=\":\")\n",
    "    combined_images.extend(atoms_i)\n",
    "\n",
    "io.write(\"out_data/iro3_038.traj\", combined_images)"
   ]
  }
 ],
 "metadata": {
  "kernelspec": {
   "display_name": "Python [conda env:research-new]",
   "language": "python",
   "name": "conda-env-research-new-py"
  },
  "language_info": {
   "codemirror_mode": {
    "name": "ipython",
    "version": 3
   },
   "file_extension": ".py",
   "mimetype": "text/x-python",
   "name": "python",
   "nbconvert_exporter": "python",
   "pygments_lexer": "ipython3",
   "version": "3.6.8"
  }
 },
 "nbformat": 4,
 "nbformat_minor": 4
}
