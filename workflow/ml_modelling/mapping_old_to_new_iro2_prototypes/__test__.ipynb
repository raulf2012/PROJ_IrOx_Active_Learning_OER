{
 "cells": [
  {
   "cell_type": "code",
   "execution_count": null,
   "metadata": {},
   "outputs": [],
   "source": []
  },
  {
   "cell_type": "code",
   "execution_count": 7,
   "metadata": {},
   "outputs": [],
   "source": [
    "# df_static"
   ]
  },
  {
   "cell_type": "markdown",
   "metadata": {},
   "source": [
    "# test"
   ]
  },
  {
   "cell_type": "markdown",
   "metadata": {},
   "source": [
    "# Machine Learning Regression"
   ]
  },
  {
   "cell_type": "code",
   "execution_count": 8,
   "metadata": {},
   "outputs": [
    {
     "name": "stderr",
     "output_type": "stream",
     "text": [
      "/home/raul_desktop/anaconda2/envs/py36/lib/python3.6/site-packages/ipykernel_launcher.py:3: FutureWarning:\n",
      "\n",
      "Sorting because non-concatenation axis is not aligned. A future version\n",
      "of pandas will change to not sort by default.\n",
      "\n",
      "To accept the future behavior, pass 'sort=False'.\n",
      "\n",
      "To retain the current behavior and silence the warning, pass 'sort=True'.\n",
      "\n",
      "\n"
     ]
    }
   ],
   "source": [
    "df_train = pd.concat([\n",
    "    df_static[df_static[\"formation_e\"].notnull()],\n",
    "    df_oqmd,\n",
    "    ])\n",
    "\n",
    "df_test = df_static"
   ]
  },
  {
   "cell_type": "code",
   "execution_count": 9,
   "metadata": {},
   "outputs": [
    {
     "data": {
      "text/plain": [
       "['atoms', 'formation_e', 'id']"
      ]
     },
     "execution_count": 9,
     "metadata": {},
     "output_type": "execute_result"
    }
   ],
   "source": [
    "list(df_test)\n"
   ]
  },
  {
   "cell_type": "code",
   "execution_count": 10,
   "metadata": {},
   "outputs": [
    {
     "name": "stdout",
     "output_type": "stream",
     "text": [
      "Generate Voronoi fingerprint of 259 structures\n",
      "2\n",
      "Generate Voronoi fingerprint of 2 structures\n",
      "9\n",
      "Generate Voronoi fingerprint of 9 structures\n",
      "16\n",
      "Generate Voronoi fingerprint of 16 structures\n",
      "23\n",
      "Generate Voronoi fingerprint of 23 structures\n",
      "30\n",
      "Generate Voronoi fingerprint of 30 structures\n",
      "37\n",
      "Generate Voronoi fingerprint of 37 structures\n"
     ]
    }
   ],
   "source": [
    "test_atoms = df_test[\"atoms\"].tolist()\n",
    "\n",
    "VFG = VoronoiFingerprintGenerator(test_atoms)\n",
    "df_vor = VFG.generate()\n",
    "test_features = df_vor.values\n",
    "    \n",
    "pred_list = []\n",
    "\n",
    "for i in range(2, len(df_train), 7):\n",
    "    print(i)\n",
    "\n",
    "    i_ind = i\n",
    "\n",
    "    df_train_i = df_train[0:i_ind]\n",
    "\n",
    "    train_atoms = df_train_i[\"atoms\"].tolist()\n",
    "\n",
    "    generator = FeatureGenerator()\n",
    "\n",
    "\n",
    "#     generator.normalize_features(\n",
    "#         train_candidates=train_atoms,\n",
    "#         test_candidates=test_atoms,\n",
    "#         )\n",
    "\n",
    "#     train_features = generator.return_vec(\n",
    "#         train_atoms,\n",
    "#         [\n",
    "#             generator.eigenspectrum_vec,\n",
    "#             generator.composition_vec,\n",
    "#             ],\n",
    "#         )\n",
    "\n",
    "#     test_features = generator.return_vec(\n",
    "#         test_atoms,\n",
    "#         [\n",
    "#             generator.eigenspectrum_vec,\n",
    "#             generator.composition_vec,\n",
    "#             ]\n",
    "#         )\n",
    "\n",
    "\n",
    "    VFG = VoronoiFingerprintGenerator(df_train_i[\"atoms\"].tolist())\n",
    "    df_vor = VFG.generate()\n",
    "    train_features = df_vor.values\n",
    "\n",
    "\n",
    "\n",
    "\n",
    "\n",
    "    kdict = [{'type': 'gaussian', 'width': 1., 'scaling': 1., 'dimension': 'single'}]\n",
    "\n",
    "    train_targets = df_train_i[\"formation_e\"].tolist()\n",
    "    # test_targets = df_test[\"target\"].tolist()\n",
    "\n",
    "    gp = GaussianProcess(\n",
    "        train_fp=train_features,\n",
    "        train_target=train_targets,\n",
    "        kernel_list=kdict,\n",
    "        regularization=1e-2,\n",
    "        optimize_hyperparameters=True,\n",
    "        scale_data=True,\n",
    "        )\n",
    "\n",
    "    pred = gp.predict(\n",
    "        test_fp=test_features,\n",
    "        uncertainty=True,\n",
    "        )\n",
    "\n",
    "    pred_list.append(\n",
    "        {\n",
    "            \"num_training\": len(df_train_i),\n",
    "            \"prediction\": pred[\"prediction\"],\n",
    "            \"prediction_sorted\": np.sort(pred[\"prediction\"]),\n",
    "            \"id\": df_test[\"id\"],\n",
    "            \"uncertainty\": pred[\"uncertainty\"],\n",
    "            \"uncertainty_with_reg\": pred[\"uncertainty_with_reg\"],\n",
    "            }\n",
    "        )\n",
    "    "
   ]
  },
  {
   "cell_type": "code",
   "execution_count": null,
   "metadata": {},
   "outputs": [],
   "source": []
  },
  {
   "cell_type": "markdown",
   "metadata": {},
   "source": [
    "# Plotting with my analysis code"
   ]
  },
  {
   "cell_type": "code",
   "execution_count": 11,
   "metadata": {},
   "outputs": [],
   "source": [
    "import os\n",
    "import sys\n",
    "\n",
    "sys.path.insert(0, os.path.join(\n",
    "        os.environ[\"PROJ_irox\"],\n",
    "        \"workflow\",\n",
    "        \"ml_convergence_plots\",\n",
    "        ))\n",
    "\n",
    "from methods import process_data_for_plot, get_layout"
   ]
  },
  {
   "cell_type": "code",
   "execution_count": 12,
   "metadata": {},
   "outputs": [],
   "source": [
    "save_dir = \"__temp__\""
   ]
  },
  {
   "cell_type": "code",
   "execution_count": 13,
   "metadata": {},
   "outputs": [],
   "source": [
    "data_final = []\n",
    "\n",
    "for i in pred_list:   \n",
    "    df_i = pd.DataFrame(i)\n",
    "    df_i[\"ind\"] = [i for i in range(len(df_i))]\n",
    "\n",
    "    df_tmp_i = df_i.sort_values(\"prediction\")\n",
    "    df_tmp_i[\"ind_new\"] = [i for i in range(len(df_tmp_i))]\n",
    "\n",
    "    df_tmp_i[\"ind_old\"] = df_tmp_i[\"ind\"]\n",
    "    df_tmp_i[\"ind\"] = df_tmp_i[\"ind_new\"]\n",
    "\n",
    "    data1 = process_data_for_plot(\n",
    "        df_tmp_i,\n",
    "        color0=\"red\",\n",
    "        color1=\"black\",\n",
    "        name=str(df_i[\"num_training\"].iloc[0]),\n",
    "        energy_key=\"prediction\",\n",
    "        uncertainty_key=\"uncertainty\",\n",
    "        )\n",
    "    data_final += data1"
   ]
  },
  {
   "cell_type": "code",
   "execution_count": 14,
   "metadata": {},
   "outputs": [
    {
     "data": {
      "text/html": [
       "<iframe id=\"igraph\" scrolling=\"no\" style=\"border:none;\" seamless=\"seamless\" src=\"https://plot.ly/~flores12/715.embed\" height=\"706.7716535517px\" width=\"706.7716535517px\"></iframe>"
      ],
      "text/plain": [
       "<plotly.tools.PlotlyDisplay object>"
      ]
     },
     "execution_count": 14,
     "metadata": {},
     "output_type": "execute_result"
    }
   ],
   "source": [
    "layout = get_layout()\n",
    "# layout[\"xaxis\"][\"range\"]\n",
    "layout[\"yaxis\"][\"range\"] = [-1.5, 2.]\n",
    "\n",
    "layout[\"showlegend\"] = True\n",
    "fig = dict(data=data_final, layout=layout)\n",
    "py.iplot(fig,\n",
    "    filename=os.path.join(\n",
    "        save_dir,\n",
    "        \"ml_regression_test\",\n",
    "        \"190317_iro3_ml_training\",\n",
    "        ),\n",
    "    )"
   ]
  },
  {
   "cell_type": "markdown",
   "metadata": {},
   "source": [
    "# Plotting"
   ]
  },
  {
   "cell_type": "code",
   "execution_count": 15,
   "metadata": {},
   "outputs": [],
   "source": [
    "# data = []\n",
    "# for pred_i in pred_list:\n",
    "#     x_array = [i for i in range(len(pred_i[\"prediction\"]))]\n",
    "    \n",
    "#     trace = go.Scatter(\n",
    "#         x=x_array,\n",
    "# #         y=pred_i[\"prediction\"],\n",
    "#         y=pred_i[\"prediction_sorted\"],\n",
    "# #         y=pred_i[\"prediction\"],\n",
    "#         mode='lines+markers',\n",
    "#         name=str(pred_i[\"num_training\"]),\n",
    "#     )\n",
    "\n",
    "#     data.append(trace)\n",
    "\n",
    "# # Plot and embed in ipython notebook!\n",
    "# py.iplot(data, filename='__temp__/basic-scatter')"
   ]
  },
  {
   "cell_type": "raw",
   "metadata": {},
   "source": [
    "\n",
    "\n",
    "\n",
    "\n",
    "\n",
    "\n"
   ]
  },
  {
   "cell_type": "code",
   "execution_count": 16,
   "metadata": {},
   "outputs": [],
   "source": [
    "# VFG = VoronoiFingerprintGenerator(df_train[\"atoms\"].tolist())\n",
    "\n",
    "# df_vor = VFG.generate()\n",
    "\n",
    "# features = df_vor.values\n",
    "\n",
    "# len(df_vor)\n",
    "\n",
    "# df_vor.values.shape\n",
    "\n",
    "# train_features.shape\n",
    "\n",
    "# len(df_train)"
   ]
  },
  {
   "cell_type": "code",
   "execution_count": 17,
   "metadata": {},
   "outputs": [],
   "source": [
    "# pd.set_option(\"display.max_columns\", None)\n",
    "# pd.set_option('display.max_rows', None)\n",
    "\n",
    "# pd.DataFrame(\n",
    "#     test_features,\n",
    "#     columns=generator.return_names(\n",
    "#         [\n",
    "#             generator.eigenspectrum_vec,\n",
    "#             generator.composition_vec,\n",
    "#             ]\n",
    "#         ),\n",
    "#     )"
   ]
  },
  {
   "cell_type": "code",
   "execution_count": 18,
   "metadata": {},
   "outputs": [],
   "source": [
    "# pred_list_new = []\n",
    "# for i in pred_list:\n",
    "#     pred_sorted_i = np.sort(i[\"prediction\"])\n",
    "#     pred_list_new.append(pred_sorted_i)"
   ]
  }
 ],
 "metadata": {
  "kernelspec": {
   "display_name": "Python 3",
   "language": "python",
   "name": "python3"
  },
  "language_info": {
   "codemirror_mode": {
    "name": "ipython",
    "version": 3
   },
   "file_extension": ".py",
   "mimetype": "text/x-python",
   "name": "python",
   "nbconvert_exporter": "python",
   "pygments_lexer": "ipython3",
   "version": "3.6.8"
  }
 },
 "nbformat": 4,
 "nbformat_minor": 2
}
