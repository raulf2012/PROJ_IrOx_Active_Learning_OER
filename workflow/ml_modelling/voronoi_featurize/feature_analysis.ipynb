{
 "cells": [
  {
   "cell_type": "markdown",
   "metadata": {},
   "source": [
    "# Import Modules"
   ],
   "execution_count": null,
   "outputs": []
  },
  {
   "cell_type": "code",
   "execution_count": null,
   "metadata": {},
   "outputs": [],
   "source": [
    "import os\n",
    "import sys\n",
    "\n",
    "import pickle\n",
    "\n",
    "import plotly.express as px\n",
    "\n",
    "\n",
    "from plotting.my_plotly import my_plotly_plot\n",
    "\n",
    "sys.path.insert(0, os.path.join(os.environ[\"PROJ_irox\"], \"data\"))\n",
    "from proj_data_irox import (\n",
    "    voronoi_features_data_path,\n",
    "    voronoi_features_all_data_path,\n",
    "    )"
   ]
  },
  {
   "cell_type": "markdown",
   "metadata": {},
   "source": [
    "# Import Data"
   ],
   "execution_count": null,
   "outputs": []
  },
  {
   "cell_type": "code",
   "execution_count": null,
   "metadata": {},
   "outputs": [],
   "source": [
    "with open(voronoi_features_all_data_path, \"rb\") as fle:\n",
    "    df_voronoi = pickle.load(fle)\n",
    "\n",
    "with open(voronoi_features_data_path, \"rb\") as fle:\n",
    "    df_voronoi_pca = pickle.load(fle)"
   ]
  },
  {
   "cell_type": "code",
   "execution_count": null,
   "metadata": {},
   "outputs": [],
   "source": [
    "df_voronoi.describe()\n",
    "\n",
    "df_voronoi.head()"
   ]
  },
  {
   "cell_type": "code",
   "execution_count": null,
   "metadata": {},
   "outputs": [],
   "source": [
    "df_voronoi_pca.describe()"
   ]
  },
  {
   "cell_type": "code",
   "execution_count": null,
   "metadata": {},
   "outputs": [],
   "source": [
    "# df_i = df_voronoi_pca\n",
    "\n",
    "# fig = px.scatter_matrix(df_i)\n",
    "# fig.show()\n",
    "\n",
    "# fig.layout[\"height\"] = 1200\n",
    "# fig = my_plotly_plot(figure=fig, plot_name=\"scatter_matrix_tmp\")"
   ]
  },
  {
   "cell_type": "code",
   "execution_count": null,
   "metadata": {},
   "outputs": [],
   "source": [
    "# df_i = df_voronoi\n",
    "\n",
    "# fig = px.scatter_matrix(df_i)\n",
    "# fig.show()\n",
    "\n",
    "# fig.layout[\"height\"] = 1200\n",
    "# fig = my_plotly_plot(figure=fig, plot_name=\"scatter_matrix_voronoi_full\")"
   ]
  }
 ],
 "metadata": {
  "kernelspec": {
   "display_name": "Python [conda env:PROJ_IrOx_Active_Learning_OER]",
   "language": "python",
   "name": "conda-env-PROJ_IrOx_Active_Learning_OER-py"
  },
  "language_info": {
   "codemirror_mode": {
    "name": "ipython",
    "version": 3
   },
   "file_extension": ".py",
   "mimetype": "text/x-python",
   "name": "python",
   "nbconvert_exporter": "python",
   "pygments_lexer": "ipython3",
   "version": "3.6.9"
  }
 },
 "nbformat": 4,
 "nbformat_minor": 4
}
