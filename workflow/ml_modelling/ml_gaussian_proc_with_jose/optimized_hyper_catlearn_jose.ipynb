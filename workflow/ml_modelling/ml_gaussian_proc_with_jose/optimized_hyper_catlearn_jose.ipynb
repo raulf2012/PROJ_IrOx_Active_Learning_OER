{
 "cells": [
  {
   "cell_type": "markdown",
   "metadata": {},
   "source": [
    "# Gaussian Process Regression on IrO3"
   ]
  },
  {
   "cell_type": "markdown",
   "metadata": {},
   "source": [
    "# Import Modules"
   ]
  },
  {
   "cell_type": "code",
   "execution_count": 1,
   "metadata": {},
   "outputs": [],
   "source": [
    "import numpy as np\n",
    "import pandas as pd\n",
    "from catlearn.regression import GaussianProcess\n",
    "import matplotlib.pyplot as plt"
   ]
  },
  {
   "cell_type": "markdown",
   "metadata": {},
   "source": [
    "# Read Data"
   ]
  },
  {
   "cell_type": "code",
   "execution_count": 2,
   "metadata": {},
   "outputs": [
    {
     "name": "stderr",
     "output_type": "stream",
     "text": [
      "/home/raulf2012/miniconda2/envs/py36/lib/python3.6/site-packages/ipykernel_launcher.py:1: FutureWarning: Method .as_matrix will be removed in a future version. Use .values instead.\n",
      "  \"\"\"Entry point for launching an IPython kernel.\n",
      "/home/raulf2012/miniconda2/envs/py36/lib/python3.6/site-packages/ipykernel_launcher.py:2: FutureWarning: Method .as_matrix will be removed in a future version. Use .values instead.\n",
      "  \n",
      "/home/raulf2012/miniconda2/envs/py36/lib/python3.6/site-packages/ipykernel_launcher.py:5: FutureWarning: Method .as_matrix will be removed in a future version. Use .values instead.\n",
      "  \"\"\"\n"
     ]
    }
   ],
   "source": [
    "train_x = (pd.read_csv('./RAW/train_x.csv', sep=',', header=None)).as_matrix()\n",
    "train_y = (pd.read_csv('./RAW/train_y.csv', sep=',', header=None)).as_matrix()\n",
    "\n",
    "test_data = (pd.read_csv('./RAW/test_features.csv', sep=',',\n",
    "             header=None)).drop([0], axis=1).as_matrix()"
   ]
  },
  {
   "cell_type": "markdown",
   "metadata": {},
   "source": [
    "# Gaussian Process"
   ]
  },
  {
   "cell_type": "code",
   "execution_count": 3,
   "metadata": {},
   "outputs": [
    {
     "name": "stdout",
     "output_type": "stream",
     "text": [
      "Optimized kernel: [{'type': 'quadratic', 'dimension': 'single', 'slope': array([0.50550311]), 'scaling': 0.47230283815705965, 'degree': array([0.15135033])}]\n"
     ]
    }
   ],
   "source": [
    "# Define initial prediction parameters.\n",
    "noise = 0.0042  # Regularisation parameter.\n",
    "sigma_l = 6.3917  # Length scale parameter.\n",
    "sigma_f = 0.5120  # Scaling parameter.\n",
    "alpha = 0.3907  # Alpha parameter.\n",
    "\n",
    "kdict = [\n",
    "    {\n",
    "        'type': 'quadratic',\n",
    "        'dimension': 'single',\n",
    "        'slope': sigma_l,\n",
    "        'scaling': sigma_f,\n",
    "        'degree':alpha\n",
    "        }\n",
    "    ]\n",
    "\n",
    "gp = GaussianProcess(\n",
    "    kernel_list=kdict, regularization=noise, train_fp=train_x,\n",
    "    train_target=train_y, optimize_hyperparameters=True,\n",
    "    scale_data=False)\n",
    "\n",
    "print('Optimized kernel:', gp.kernel_list)\n",
    "\n",
    "# Optimize hyperparameters:\n",
    "# gp.optimize_hyperparameters(global_opt=False)"
   ]
  },
  {
   "cell_type": "markdown",
   "metadata": {},
   "source": [
    "# Predictions"
   ]
  },
  {
   "cell_type": "code",
   "execution_count": 4,
   "metadata": {},
   "outputs": [],
   "source": [
    "# Do the optimized predictions.\n",
    "pred = gp.predict(test_fp=test_data[:249], uncertainty=True)\n",
    "prediction = np.array(pred['prediction'][:, 0])\n",
    "\n",
    "# Calculate the uncertainty of the predictions.\n",
    "uncertainty = np.array(pred['uncertainty'])\n",
    "\n",
    "# Sort predictions (ascending):\n",
    "sorted_x = np.arange(0, len(prediction))\n",
    "sorted_y = prediction[np.argsort(prediction)]\n",
    "sorted_unc = uncertainty[np.argsort(prediction)]"
   ]
  },
  {
   "cell_type": "markdown",
   "metadata": {},
   "source": [
    "# Plotting"
   ]
  },
  {
   "cell_type": "code",
   "execution_count": 5,
   "metadata": {},
   "outputs": [
    {
     "name": "stderr",
     "output_type": "stream",
     "text": [
      "/home/raulf2012/miniconda2/envs/py36/lib/python3.6/site-packages/IPython/core/display.py:689: UserWarning:\n",
      "\n",
      "Consider using IPython.display.IFrame instead\n",
      "\n"
     ]
    },
    {
     "data": {
      "text/html": [
       "<iframe id=\"igraph\" scrolling=\"no\" style=\"border:none;\" seamless=\"seamless\" src=\"https://plot.ly/~flores12/774.embed\" height=\"525px\" width=\"100%\"></iframe>"
      ],
      "text/plain": [
       "<chart_studio.tools.PlotlyDisplay object>"
      ]
     },
     "execution_count": 5,
     "metadata": {},
     "output_type": "execute_result"
    }
   ],
   "source": [
    "import plotly.plotly as py\n",
    "import plotly.graph_objs as go\n",
    "\n",
    "import os\n",
    "\n",
    "x_array = [0, 1, 2, 3]\n",
    "y_array = [0, 1, 2, 3]\n",
    "\n",
    "\n",
    "trace = go.Scatter(\n",
    "    x=sorted_x,\n",
    "    y=sorted_y,\n",
    "    \n",
    "    error_y={\n",
    "        \"type\": 'data',\n",
    "        \"array\": sorted_unc,\n",
    "        \"visible\": True,\n",
    "        },\n",
    "\n",
    "    mode=\"markers\",\n",
    "    )\n",
    "\n",
    "data = [trace]\n",
    "\n",
    "py.iplot(data,\n",
    "    filename=os.path.join(\n",
    "        \"__temp__\",\n",
    "        \"temp_plot_0\"\n",
    "        )\n",
    "    )"
   ]
  },
  {
   "cell_type": "raw",
   "metadata": {},
   "source": [
    "\n",
    "\n",
    "\n",
    "\n",
    "\n",
    "\n",
    "\n",
    "\n"
   ]
  }
 ],
 "metadata": {
  "kernelspec": {
   "display_name": "Python 3",
   "language": "python",
   "name": "python3"
  },
  "language_info": {
   "codemirror_mode": {
    "name": "ipython",
    "version": 3
   },
   "file_extension": ".py",
   "mimetype": "text/x-python",
   "name": "python",
   "nbconvert_exporter": "python",
   "pygments_lexer": "ipython3",
   "version": "3.6.7"
  }
 },
 "nbformat": 4,
 "nbformat_minor": 2
}
