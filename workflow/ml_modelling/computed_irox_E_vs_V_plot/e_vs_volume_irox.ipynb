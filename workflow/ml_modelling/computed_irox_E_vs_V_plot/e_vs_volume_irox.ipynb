{
 "cells": [
  {
   "cell_type": "markdown",
   "metadata": {},
   "source": [
    "# Energy vs Volume for all computed IrOx bulk polymorphs\n",
    "---"
   ],
   "execution_count": null,
   "outputs": []
  },
  {
   "cell_type": "markdown",
   "metadata": {},
   "source": [
    "# Import Modules"
   ],
   "execution_count": null,
   "outputs": []
  },
  {
   "cell_type": "code",
   "execution_count": null,
   "metadata": {},
   "outputs": [],
   "source": [
    "import os\n",
    "import sys\n",
    "import pickle\n",
    "\n",
    "import pandas as pd\n",
    "\n",
    "import chart_studio.plotly as py\n",
    "import plotly.graph_objs as go\n",
    "\n",
    "# #############################################################################\n",
    "from ase_modules.ase_methods import view_in_vesta\n",
    "\n",
    "sys.path.insert(0, os.path.join(os.environ[\"PROJ_irox\"], \"data\"))\n",
    "from proj_data_irox import irox_bulk_color_map\n",
    "from proj_data_irox import bulk_dft_data_path, oqmd_irox_data_path\n",
    "\n",
    "from plotting.my_plotly import my_plotly_plot"
   ]
  },
  {
   "cell_type": "markdown",
   "metadata": {},
   "source": [
    "# Read Data"
   ],
   "execution_count": null,
   "outputs": []
  },
  {
   "cell_type": "code",
   "execution_count": null,
   "metadata": {},
   "outputs": [],
   "source": [
    "with open(bulk_dft_data_path, \"rb\") as fle:\n",
    "    df_dft_calcs = pickle.load(fle)\n",
    "\n",
    "path_i = os.path.join(\n",
    "    os.environ[\"PROJ_irox\"],\n",
    "    \"workflow/ml_modelling/manually_classify_dft_structures\",\n",
    "    \"out_data\",\n",
    "    \"df_coord_motiff.pickle\")\n",
    "with open(path_i, \"rb\") as fle:\n",
    "    df_coord = pickle.load(fle)"
   ]
  },
  {
   "cell_type": "markdown",
   "metadata": {},
   "source": [
    "# Clean up DFT dataframe"
   ],
   "execution_count": null,
   "outputs": []
  },
  {
   "cell_type": "code",
   "execution_count": null,
   "metadata": {},
   "outputs": [],
   "source": [
    "df = df_dft_calcs\n",
    "df = df[\n",
    "    (df[\"source\"] != \"chris\") &\n",
    "    (df[\"source\"] != \"oqmd\") &\n",
    "    [True for i in range(len(df))]\n",
    "    ]\n",
    "df_dft_calcs = df"
   ]
  },
  {
   "cell_type": "code",
   "execution_count": null,
   "metadata": {},
   "outputs": [],
   "source": [
    "df_dft_calcs.loc[\"7f7svsnpvg\"]\n",
    "df_coord.loc[\"7f7svsnpvg\"]"
   ]
  },
  {
   "cell_type": "code",
   "execution_count": null,
   "metadata": {},
   "outputs": [],
   "source": [
    "print(\"df_coord.shape:\", df_coord.shape)\n",
    "print(\"df_m.shape:\", df_dft_calcs.shape)\n",
    "\n",
    "df_tmp = pd.concat([\n",
    "    df_dft_calcs,\n",
    "    df_coord,\n",
    "    ], axis=1, sort=True)\n",
    "df_m = df_tmp"
   ]
  },
  {
   "cell_type": "markdown",
   "metadata": {},
   "source": [
    "# Calculating volume per atom"
   ],
   "execution_count": null,
   "outputs": []
  },
  {
   "cell_type": "code",
   "execution_count": null,
   "metadata": {},
   "outputs": [],
   "source": [
    "# df_m.loc[\"atoms\"].isna\n",
    "\n",
    "df_m = df_m[~df_m[\"atoms\"].isna()]\n",
    "\n"
   ]
  },
  {
   "cell_type": "code",
   "execution_count": null,
   "metadata": {},
   "outputs": [],
   "source": [
    "def method(row_i):\n",
    "    atoms_i = row_i[\"atoms\"]\n",
    "\n",
    "    volume_i = atoms_i.get_volume()\n",
    "    num_atoms = atoms_i.get_number_of_atoms()\n",
    "\n",
    "    norm_volume = volume_i / num_atoms\n",
    "    return(norm_volume)\n",
    "\n",
    "df_m[\"volume_pa\"] = df_m.apply(method, axis=1)"
   ]
  },
  {
   "cell_type": "code",
   "execution_count": null,
   "metadata": {},
   "outputs": [],
   "source": [
    "def method(row_i):\n",
    "    new_column_values_dict = {\n",
    "        \"color\": None,\n",
    "        \"marker_size\": None,\n",
    "        }\n",
    "\n",
    "    color = \"black\"\n",
    "    marker_size = 14\n",
    "    major_motiffs = row_i[\"major_motiffs\"]\n",
    "    \n",
    "    if pd.isna(major_motiffs):\n",
    "        major_motiffs = \"\"\n",
    "\n",
    "    if \"octahedral\" in major_motiffs:\n",
    "        color=\"pink\"\n",
    "    elif \"bcc\" in major_motiffs:\n",
    "        color=\"green\"\n",
    "    elif \"cp\" in major_motiffs:\n",
    "        color=\"yellow\"\n",
    "    elif \"square pyramidal\" in major_motiffs:\n",
    "        color=\"blue\"\n",
    "    elif \"tetrahedral\" in major_motiffs:\n",
    "        color=\"grey\"\n",
    "    elif \"trigonal bipyramidal\" in major_motiffs:\n",
    "        color=\"brown\"\n",
    "\n",
    "    # elif \"unrecognized\" in major_motiffs:\n",
    "    elif major_motiffs == \"unrecognized\":\n",
    "        color=\"red\"\n",
    "        marker_size = 4\n",
    "    else:\n",
    "        print(\"Not processed!!!!\")\n",
    "        print(row_i.name)\n",
    "    new_column_values_dict[\"color\"] = color\n",
    "    new_column_values_dict[\"marker_size\"] = marker_size\n",
    "\n",
    "    # #########################################################################\n",
    "    for key, value in new_column_values_dict.items():\n",
    "        row_i[key] = value\n",
    "    return(row_i)\n",
    "\n",
    "\n",
    "df_m = df_m.apply(method, axis=1)"
   ]
  },
  {
   "cell_type": "code",
   "execution_count": null,
   "metadata": {},
   "outputs": [],
   "source": [
    "df_m = df_m.sort_values(\"source\", ascending=True)"
   ]
  },
  {
   "cell_type": "markdown",
   "metadata": {},
   "source": [
    "# Plotting"
   ],
   "execution_count": null,
   "outputs": []
  },
  {
   "cell_type": "code",
   "execution_count": null,
   "metadata": {},
   "outputs": [],
   "source": [
    "df_ab2 = df_m[df_m[\"stoich\"] == \"AB2\"]\n",
    "df_ab3 = df_m[df_m[\"stoich\"] == \"AB3\"]\n",
    "\n",
    "df_i = df_ab2\n",
    "trace = go.Scatter(\n",
    "    x=df_i[\"volume_pa\"],\n",
    "    y=df_i[\"energy_pa\"],\n",
    "    mode=\"markers\",\n",
    "    name=\"IrO2\",\n",
    "    marker=dict(\n",
    "        symbol=\"circle\",\n",
    "        color=df_i[\"color\"],\n",
    "        size=df_i[\"marker_size\"],\n",
    "        opacity=0.7,\n",
    "        line=dict(\n",
    "            color='black',\n",
    "#             color=df_m[\"color\"],\n",
    "            width=1.\n",
    "        )\n",
    "    ),\n",
    "\n",
    "    hovertext=list(df_i.index),\n",
    "    hoverinfo=\"text\",\n",
    "    )\n",
    "\n",
    "\n",
    "df_i = df_ab3\n",
    "trace_1 = go.Scatter(\n",
    "    x=df_i[\"volume_pa\"],\n",
    "    y=df_i[\"energy_pa\"],\n",
    "    mode=\"markers\",\n",
    "    name=\"IrO3\",\n",
    "    marker=dict(\n",
    "        symbol=\"x\",\n",
    "        color=df_i[\"color\"],\n",
    "        # size=14,\n",
    "        size=df_i[\"marker_size\"],\n",
    "        opacity=0.7,\n",
    "        line=dict(\n",
    "            color='black',\n",
    "#             color=df_m[\"color\"],\n",
    "            width=1.\n",
    "        )\n",
    "    ),\n",
    "\n",
    "    hovertext=list(df_i.index),\n",
    "    hoverinfo=\"text\",\n",
    "    )\n",
    "\n",
    "\n",
    "layout = go.Layout(\n",
    "    xaxis={\"title\": \"Volume (A3 / atom)\"},\n",
    "    yaxis={\"title\": \"Energy (eV / atom)\"},\n",
    "    showlegend=True,\n",
    "    margin=go.layout.Margin(\n",
    "        autoexpand=None,\n",
    "        b=10,\n",
    "        l=None,\n",
    "        pad=None,\n",
    "        r=None,\n",
    "        t=10,\n",
    "        ),\n",
    "\n",
    "#     margin\n",
    "    )\n",
    "data = [trace, trace_1]\n",
    "\n",
    "fig = go.Figure(data=data, layout=layout)"
   ]
  },
  {
   "cell_type": "code",
   "execution_count": null,
   "metadata": {},
   "outputs": [],
   "source": [
    "my_plotly_plot(\n",
    "    figure=fig,\n",
    "    plot_name=\"E_vs_V_irox\",\n",
    "    # write_pdf_svg=True,\n",
    "    upload_plot=False,\n",
    "    write_html=True,\n",
    "    )"
   ]
  },
  {
   "cell_type": "raw",
   "metadata": {},
   "source": [
    "\"octahedral\": \"pink\"\n",
    "\"bcc\": \"green\"\n",
    "\"cp\": \"yellow\"\n",
    "\"square pyramidal\": \"blue\"\n",
    "\"tetrahedral\": \"grey\"\n",
    "\"trigonal bipyramidal\": \"brown\"\n",
    "\"unrecognized\": \"red\""
   ],
   "execution_count": null,
   "outputs": []
  },
  {
   "cell_type": "markdown",
   "metadata": {},
   "source": [
    "# Viewing structure(s)"
   ],
   "execution_count": null,
   "outputs": []
  },
  {
   "cell_type": "code",
   "execution_count": null,
   "metadata": {},
   "outputs": [],
   "source": [
    "index_frag = \"xsnsnozgxq\"\n",
    "\n",
    "index_search = [i for i in df_m.index if index_frag in i]\n",
    "print(index_search)\n",
    "\n",
    "index_tmp = index_search[0]\n",
    "# view_in_vesta(df_m.loc[index_tmp][\"atoms\"], name_list=[index_tmp], ase_gui=True)\n",
    "\n",
    "print(df_coord.loc[index_tmp][\"coord_motiff_distr\"])\n",
    "print(df_coord.loc[index_tmp][\"major_motiffs\"])\n",
    "\n",
    "df_m.loc[index_tmp]"
   ]
  },
  {
   "cell_type": "markdown",
   "metadata": {},
   "source": [
    "# Oxy Coordination"
   ],
   "execution_count": null,
   "outputs": []
  },
  {
   "cell_type": "code",
   "execution_count": null,
   "metadata": {},
   "outputs": [],
   "source": [
    "path_i = os.path.join(\n",
    "    os.environ[\"PROJ_irox\"],\n",
    "    \"workflow/ml_modelling/manually_classify_dft_structures\",\n",
    "    \"out_data\",\n",
    "#     \"df_oxy_coord.pickle\",\n",
    "    \"df_coord_analysis.pickle\",\n",
    "    )\n",
    "\n",
    "with open(path_i, \"rb\") as fle:\n",
    "    df_oxy_coord = pickle.load(fle)"
   ]
  },
  {
   "cell_type": "code",
   "execution_count": null,
   "metadata": {},
   "outputs": [],
   "source": [
    "print(\"df_coord.shape:\", df_coord.shape)\n",
    "print(\"df_m.shape:\", df_m.shape)\n",
    "\n",
    "df_tmp = pd.concat([\n",
    "    df_m,\n",
    "    df_oxy_coord,\n",
    "    ], axis=1, sort=True)\n",
    "df_m = df_tmp"
   ]
  },
  {
   "cell_type": "code",
   "execution_count": null,
   "metadata": {},
   "outputs": [],
   "source": [
    "df_oxy_coord.head()"
   ]
  },
  {
   "cell_type": "code",
   "execution_count": null,
   "metadata": {},
   "outputs": [],
   "source": [
    "def method(row_i):\n",
    "    new_column_values_dict = {\n",
    "        \"color\": None,\n",
    "        \"marker_size\": None}\n",
    "\n",
    "    color = \"black\"\n",
    "    marker_size = 14\n",
    "    oxy_coord_i = row_i[\"O_coord\"]\n",
    "\n",
    "    color = oxy_coord_i\n",
    "    new_column_values_dict[\"color\"] = color\n",
    "\n",
    "    new_column_values_dict[\"marker_size\"] = marker_size\n",
    "\n",
    "    # #########################################################################\n",
    "    for key, value in new_column_values_dict.items():\n",
    "        row_i[key] = value\n",
    "    return(row_i)\n",
    "\n",
    "df_m = df_m.apply(method, axis=1)"
   ]
  },
  {
   "cell_type": "code",
   "execution_count": null,
   "metadata": {},
   "outputs": [],
   "source": [
    "# df_m = df_m[~df_m[\"major_motiffs\"].isna()]\n",
    "# df_m = df_m[df_m[\"major_motiffs\"].str.contains(\"oct\")]\n",
    "\n",
    "df_ab2 = df_m[df_m[\"stoich\"] == \"AB2\"]\n",
    "df_ab3 = df_m[df_m[\"stoich\"] == \"AB3\"]\n",
    "\n",
    "def get_scatter_trace(df_m=None, name=\"TEMP\", marker_symbol=\"circle\", color_col=\"oxy_coord\"):\n",
    "    \"\"\"\n",
    "    \"\"\"    \n",
    "    df_i = df_m\n",
    "    trace = go.Scatter(\n",
    "        x=df_i[\"volume_pa\"],\n",
    "        y=df_i[\"energy_pa\"],\n",
    "        mode=\"markers\",\n",
    "        # name=\"IrO2\",\n",
    "        name=name,\n",
    "        marker=dict(\n",
    "            symbol=marker_symbol,\n",
    "            # color=df_i[\"color\"],\n",
    "            color=df_i[color_col],\n",
    "\n",
    "            colorscale=\"Viridis\",\n",
    "            # cmin=1,\n",
    "            # cmax=3,\n",
    "            colorbar=dict(\n",
    "                # title=\"Colorbar\",\n",
    "                x=1.02, y=0.25,\n",
    "                ),\n",
    "            size=df_i[\"marker_size\"],\n",
    "            opacity=0.7,\n",
    "            line=dict(\n",
    "                color='black',\n",
    "                width=1.\n",
    "            )\n",
    "        ),\n",
    "        hovertext=list(df_i.index),\n",
    "        hoverinfo=\"text\",\n",
    "        )\n",
    "    return(trace)\n",
    "\n",
    "\n",
    "trace_0 = get_scatter_trace(df_m=df_ab2, name=\"IrO2\", marker_symbol=\"circle\",\n",
    "    color_col=\"Ir_coord\"\n",
    "#     color_col=\"oxy_coord\"\n",
    "    )\n",
    "trace_1 = get_scatter_trace(df_m=df_ab3, name=\"IrO3\", marker_symbol=\"x\",\n",
    "    color_col=\"Ir_coord\",\n",
    "#     color_col=\"oxy_coord\"\n",
    "    )\n",
    "\n",
    "\n",
    "layout = go.Layout(\n",
    "    xaxis={\"title\": \"Volume per Atom (A3 / atom)\"},\n",
    "    yaxis={\"title\": \"DFT Energy per Atom (eV / atom)\"},\n",
    "    showlegend=True,\n",
    "    )\n",
    "\n",
    "data = [\n",
    "    trace_0,\n",
    "    trace_1,\n",
    "    ]\n",
    "\n",
    "fig = go.Figure(data=data, layout=layout)\n",
    "\n",
    "fig"
   ]
  },
  {
   "cell_type": "code",
   "execution_count": null,
   "metadata": {},
   "outputs": [],
   "source": [
    "# df_m.head()\n",
    "\n",
    "# df_m[\"oxy_coord\"].max()\n",
    "# df_m[\"oxy_coord\"].min()"
   ]
  },
  {
   "cell_type": "code",
   "execution_count": null,
   "metadata": {},
   "outputs": [],
   "source": [
    "df_tmp = df_m.sort_values(\"O_coord\", ascending=False).iloc[0:10]\n",
    "\n",
    "# [\"atoms\"].tolist()\n",
    "atoms_list = df_tmp[\"atoms\"].tolist()\n",
    "names= df_tmp.index.tolist()\n",
    "# view_in_vesta(atoms_list, name_list=names, ase_gui=False)"
   ]
  },
  {
   "cell_type": "code",
   "execution_count": null,
   "metadata": {},
   "outputs": [],
   "source": [
    "df_m.loc[\"9hc58scr8f\"]"
   ]
  },
  {
   "cell_type": "raw",
   "metadata": {},
   "source": [
    "\n",
    "\n",
    "\n",
    "\n"
   ],
   "execution_count": null,
   "outputs": []
  },
  {
   "cell_type": "code",
   "execution_count": null,
   "metadata": {
    "jupyter": {},
    "lines_to_next_cell": 2
   },
   "outputs": [],
   "source": [
    "# BLUE: IrO3\n",
    "# RED: IrO2\n",
    "# Green: My DFT IrO2\n",
    "\n",
    "# df_m[\"atoms\"]\n",
    "\n",
    "# for i_cnt, row_i in df_m.iterrows():\n",
    "#     row_i[\"atoms\"].write(\"out_data/cif_files/\" + row_i.name + \".cif\")\n",
    "#     # row_i[\"atoms\"].write(row_i.name + \".cif\")\n",
    "\n",
    "#     # break\n",
    "\n",
    "# for index_i in df_m.index.tolist():\n",
    "#     if \"bdc\" in index_i:\n",
    "#         print(index_i)\n",
    "\n",
    "# atoms = df_m.loc[\"bdctzwcg8h\"][\"atoms\"]\n",
    "# # view_in_vesta(atoms, ase_gui=True, name_list=None)\n",
    "\n",
    "# # df_m[df_m[\"source\"] == \"raul\"]\n",
    "# # df_m = df_m.sort_values(\"source\", ascending=False)\n",
    "\n",
    "# # df_m\n",
    "\n",
    "# from ase.visualize import view\n",
    "# view(df_m.loc[\"9yz2mt8hbh\"][\"atoms\"])\n",
    "\n",
    "# df_m.loc[\"6s648e8s6p\"].iloc[1][\"path\"]\n",
    "\n",
    "# Removing rows that don't have an atoms object\n",
    "# df_dft_calcs = df_dft_calcs[df_dft_calcs[\"atoms\"].notnull()]\n",
    "\n",
    "# df_m = df_dft_calcs\n",
    "\n",
    "# df_m = pd.concat([\n",
    "#     df_dft_calcs,\n",
    "# #     df_oqmd_calcs,\n",
    "#     ])\n",
    "\n",
    "# df_m = df_m[df_m[\"stoich\"] == \"AB3\"]\n",
    "# df_m = df_m[df_m[\"source\"] != \"oqmd\"]\n",
    "\n",
    "# def method(row_i, argument_0, optional_arg=None):\n",
    "#     new_column_values_dict = {\n",
    "#         \"marker_size\": 5,\n",
    "#         \"marker_line_color\": \"rgb(0,0,0)\",\n",
    "#         \"marker_line_size\": 0.05,\n",
    "#         }\n",
    "\n",
    "#     computed_bool = row_i.get(\"computed\", False)\n",
    "#     if computed_bool:\n",
    "#         new_column_values_dict[\"marker_size\"] = 10\n",
    "#         new_column_values_dict[\"marker_line_color\"] = \"red\"\n",
    "#         new_column_values_dict[\"marker_line_size\"] = 1.5\n",
    "\n",
    "#     # #########################################################################\n",
    "#     for key, value in new_column_values_dict.items():\n",
    "#         row_i[key] = value\n",
    "#     return(row_i)\n",
    "\n",
    "\n",
    "# arg1 = \"TEMP_0\"\n",
    "# # df_i[\"column_name\"] = df_i.apply(\n",
    "# df_i = df_i.apply(\n",
    "#     method,\n",
    "#     axis=1,\n",
    "#     args=(arg1, ),\n",
    "#     optional_arg=\"TEMP_1\"\n",
    "#     )\n",
    "\n",
    "# def method(row_i):\n",
    "#     stoich_i = row_i[\"stoich\"]\n",
    "#     source_i = row_i[\"source\"]\n",
    "\n",
    "#     if stoich_i == \"AB2\":\n",
    "#         color = \"red\"\n",
    "#     elif stoich_i == \"AB3\":\n",
    "#         color = \"blue\"\n",
    "#     if source_i == \"raul\":\n",
    "#         color = \"green\"\n",
    "#     elif source_i == \"oqmd\":\n",
    "#         color = \"black\"\n",
    "#     if source_i == \"raul\" and stoich_i == \"AB3\":\n",
    "#         color = \"orange\"\n",
    "#     if source_i == \"raul\" and stoich_i == \"AB2\":\n",
    "#         color = \"grey\"\n",
    "#     if source_i == \"chris\" and stoich_i == \"AB2\":\n",
    "#         color = \"pink\"\n",
    "#     if source_i == \"chris\" and stoich_i == \"AB3\":\n",
    "#         color = \"brown\"\n",
    "\n",
    "#     return(color)\n",
    "# # df_m[\"color\"] = df_m.apply(method, axis=1)"
   ]
  },
  {
   "cell_type": "code",
   "execution_count": null,
   "metadata": {
    "jupyter": {}
   },
   "outputs": [],
   "source": [
    "# vhv3\n",
    "# vhv39q6e9j"
   ]
  }
 ],
 "metadata": {
  "jupytext": {
   "formats": "ipynb,py:light"
  },
  "kernelspec": {
   "display_name": "Python [conda env:research-new]",
   "language": "python",
   "name": "conda-env-research-new-py"
  },
  "language_info": {
   "codemirror_mode": {
    "name": "ipython",
    "version": 3
   },
   "file_extension": ".py",
   "mimetype": "text/x-python",
   "name": "python",
   "nbconvert_exporter": "python",
   "pygments_lexer": "ipython3",
   "version": "3.6.8"
  },
  "toc-autonumbering": false
 },
 "nbformat": 4,
 "nbformat_minor": 4
}
