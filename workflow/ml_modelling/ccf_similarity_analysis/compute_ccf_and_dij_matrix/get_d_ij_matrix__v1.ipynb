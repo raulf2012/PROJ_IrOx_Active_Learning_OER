{
 "cells": [
  {
   "cell_type": "markdown",
   "metadata": {},
   "source": [
    "# Computing Structural Similarity of All Structures\n",
    "---\n",
    "\n",
    "All pair-wise similarities are computed d_ij"
   ],
   "execution_count": null,
   "outputs": []
  },
  {
   "cell_type": "code",
   "execution_count": null,
   "metadata": {},
   "outputs": [],
   "source": [
    "# read_from_PROJ_DATA = False\n",
    "# read_from_PROJ_DATA = True"
   ]
  },
  {
   "cell_type": "markdown",
   "metadata": {
    "Collapsed": "false"
   },
   "source": [
    "# Import Modules"
   ],
   "execution_count": null,
   "outputs": []
  },
  {
   "cell_type": "code",
   "execution_count": null,
   "metadata": {
    "Collapsed": "false",
    "jupyter": {}
   },
   "outputs": [],
   "source": [
    "import os\n",
    "print(os.getcwd())\n",
    "import sys\n",
    "\n",
    "import pickle\n",
    "\n",
    "import numpy as np\n",
    "import pandas as pd"
   ]
  },
  {
   "cell_type": "code",
   "execution_count": null,
   "metadata": {},
   "outputs": [],
   "source": [
    "sys.path.insert(0, os.path.join(os.environ[\"PROJ_irox\"], \"data\"))\n",
    "from proj_data_irox import read_from_PROJ_DATA"
   ]
  },
  {
   "cell_type": "code",
   "execution_count": null,
   "metadata": {
    "Collapsed": "false"
   },
   "outputs": [],
   "source": [
    "import time\n",
    "t0 = time.time()"
   ]
  },
  {
   "cell_type": "markdown",
   "metadata": {
    "Collapsed": "false"
   },
   "source": [
    "# Script Inputs"
   ],
   "execution_count": null,
   "outputs": []
  },
  {
   "cell_type": "code",
   "execution_count": null,
   "metadata": {
    "Collapsed": "false"
   },
   "outputs": [],
   "source": [
    "r_cut_off = 10.\n",
    "\n",
    "r_vector = np.arange(1, 10, 0.02)\n",
    "\n",
    "verbose = True"
   ]
  },
  {
   "cell_type": "markdown",
   "metadata": {
    "Collapsed": "false"
   },
   "source": [
    "## Read Data"
   ],
   "execution_count": null,
   "outputs": []
  },
  {
   "cell_type": "code",
   "execution_count": null,
   "metadata": {
    "Collapsed": "false"
   },
   "outputs": [],
   "source": [
    "with open(\"out_data/df_ccf.pickle\", \"rb\") as fle:\n",
    "    df_ccf = pickle.load(fle)\n",
    "\n",
    "# #########################################################\n",
    "if read_from_PROJ_DATA:\n",
    "    path_i = os.path.join(\n",
    "        os.environ[\"PROJ_DATA\"], \"04_IrOx_surfaces_OER\",\n",
    "        \"PROJECT_COMPUTED_OUT_DATA/PROJ_IrOx_Active_Learning_OER\",\n",
    "        \"workflow/ml_modelling/ccf_similarity_analysis/compute_ccf_and_dij_matrix\",\n",
    "        \"out_data/df_d_ij_all.pickle\")\n",
    "    with open(path_i, \"rb\") as fle:\n",
    "        df_d_comp_prev = pickle.load(fle)\n",
    "\n",
    "else:\n",
    "    try:\n",
    "        with open(\"out_data/df_d_ij_all.pickle\", \"rb\") as fle:\n",
    "            df_d_comp_prev = pickle.load(fle)\n",
    "    except:\n",
    "        df_d_comp_prev = pd.DataFrame()\n",
    "\n",
    "\n",
    "# #########################################################\n",
    "print(\"df_ccf.shape:\", df_ccf.shape)\n",
    "print(\"df_d_comp_prev.shape:\", df_d_comp_prev.shape)"
   ]
  },
  {
   "cell_type": "markdown",
   "metadata": {
    "Collapsed": "false"
   },
   "source": [
    "# Process data (Create D_ij matrix)"
   ],
   "execution_count": null,
   "outputs": []
  },
  {
   "cell_type": "code",
   "execution_count": null,
   "metadata": {
    "Collapsed": "false",
    "collapsed": true,
    "jupyter": {
     "outputs_hidden": true
    }
   },
   "outputs": [],
   "source": [
    "df = df_ccf\n",
    "\n",
    "result = np.zeros((len(df), len(df)))\n",
    "for i_cnt, (row_name_i, row_i) in enumerate(df.iterrows()):\n",
    "    if verbose:\n",
    "        print(str(i_cnt).zfill(4), 75 * \"#\")\n",
    "    \n",
    "    row_in_prev_data = False\n",
    "    for j_cnt, (row_name_j, row_j) in enumerate(df.iterrows()):\n",
    "        if i_cnt == j_cnt:\n",
    "            continue\n",
    "\n",
    "        index_in_cols = row_name_j in df_d_comp_prev.columns\n",
    "        index_in_rows = row_name_i in df_d_comp_prev.index\n",
    "        if index_in_cols and index_in_rows:\n",
    "            d_ij = df_d_comp_prev.loc[row_name_i, row_name_j]\n",
    "            row_in_prev_data = True\n",
    "\n",
    "            if verbose:\n",
    "                tmp = 42\n",
    "                # print(\"Parsed d_ij from previous data\")\n",
    "        else:\n",
    "            if verbose: print(\"Computing d_ij from scratch\")\n",
    "            d_ij = cal_ccf_d(row_i[\"ccf\"], row_j[\"ccf\"])\n",
    "\n",
    "        # d_ij = 1.11\n",
    "        result[i_cnt][j_cnt] = d_ij\n",
    "\n",
    "    if row_in_prev_data:\n",
    "        if verbose: print(\"This row is the previous data (GOOD)\")"
   ]
  },
  {
   "cell_type": "code",
   "execution_count": null,
   "metadata": {
    "Collapsed": "false"
   },
   "outputs": [],
   "source": [
    "# #########################################################\n",
    "df_d_comp = pd.DataFrame(\n",
    "    result,\n",
    "    index=df.index,\n",
    "    columns=df.index)\n",
    "\n",
    "\n",
    "# Pickling data ######################################################\n",
    "directory = \"out_data\"\n",
    "if not os.path.exists(directory): os.makedirs(directory)\n",
    "with open(os.path.join(directory, \"df_d_ij_all.pickle\"), \"wb\") as fle:\n",
    "    pickle.dump(df_d_comp, fle)\n",
    "# #####################################################################"
   ]
  },
  {
   "cell_type": "code",
   "execution_count": null,
   "metadata": {
    "Collapsed": "false"
   },
   "outputs": [],
   "source": [
    "path_i = os.path.join(\"out_data\", \"df_d_ij_all.pickle\")\n",
    "with open(path_i, \"rb\") as fle:\n",
    "    df_d_comp = pickle.load(fle)"
   ]
  },
  {
   "cell_type": "code",
   "execution_count": null,
   "metadata": {
    "Collapsed": "false"
   },
   "outputs": [],
   "source": [
    "time_elapsed = time.time() - t0\n",
    "print(\n",
    "    \"Notebook took \",\n",
    "    round(time_elapsed / 60, 4),\n",
    "    \"minutes to finish\")"
   ]
  },
  {
   "cell_type": "code",
   "execution_count": null,
   "metadata": {},
   "outputs": [],
   "source": [
    "print(20 * \"# # \")\n",
    "print(\"All done!\")\n",
    "assert False"
   ]
  }
 ],
 "metadata": {
  "jupytext": {
   "cell_metadata_json": true
  },
  "kernelspec": {
   "display_name": "Python [conda env:PROJ_IrOx_Active_Learning_OER]",
   "language": "python",
   "name": "conda-env-PROJ_IrOx_Active_Learning_OER-py"
  },
  "language_info": {
   "codemirror_mode": {
    "name": "ipython",
    "version": 3
   },
   "file_extension": ".py",
   "mimetype": "text/x-python",
   "name": "python",
   "nbconvert_exporter": "python",
   "pygments_lexer": "ipython3",
   "version": "3.6.9"
  }
 },
 "nbformat": 4,
 "nbformat_minor": 4
}
