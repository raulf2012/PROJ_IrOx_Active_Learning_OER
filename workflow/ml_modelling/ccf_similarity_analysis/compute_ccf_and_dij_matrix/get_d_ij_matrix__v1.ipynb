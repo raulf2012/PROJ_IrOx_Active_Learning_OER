{
 "cells": [
  {
   "cell_type": "markdown",
   "metadata": {},
   "source": [
    "# Computing Structural Similarity of All Structures\n",
    "---\n",
    "\n",
    "All pair-wise similarities are computed d_ij"
   ]
  },
  {
   "cell_type": "code",
   "execution_count": 1,
   "metadata": {},
   "outputs": [],
   "source": [
    "read_from_PROJ_DATA = False\n",
    "read_from_PROJ_DATA = True"
   ]
  },
  {
   "cell_type": "markdown",
   "metadata": {
    "Collapsed": "false"
   },
   "source": [
    "# Import Modules"
   ]
  },
  {
   "cell_type": "code",
   "execution_count": 8,
   "metadata": {
    "Collapsed": "false",
    "jupyter": {}
   },
   "outputs": [
    {
     "name": "stdout",
     "output_type": "stream",
     "text": [
      "/home/raulf2012/Dropbox/01_norskov/00_git_repos/PROJ_IrOx_Active_Learning_OER_test_1/workflow/ml_modelling/ccf_similarity_analysis/compute_ccf_and_dij_matrix\n"
     ]
    }
   ],
   "source": [
    "import os\n",
    "print(os.getcwd())\n",
    "import sys\n",
    "\n",
    "import pickle\n",
    "\n",
    "import numpy as np\n",
    "import pandas as pd"
   ]
  },
  {
   "cell_type": "code",
   "execution_count": 2,
   "metadata": {
    "Collapsed": "false"
   },
   "outputs": [],
   "source": [
    "import time\n",
    "t0 = time.time()"
   ]
  },
  {
   "cell_type": "markdown",
   "metadata": {
    "Collapsed": "false"
   },
   "source": [
    "# Script Inputs"
   ]
  },
  {
   "cell_type": "code",
   "execution_count": 4,
   "metadata": {
    "Collapsed": "false"
   },
   "outputs": [],
   "source": [
    "r_cut_off = 10.\n",
    "\n",
    "r_vector = np.arange(1, 10, 0.02)\n",
    "\n",
    "verbose = True"
   ]
  },
  {
   "cell_type": "markdown",
   "metadata": {
    "Collapsed": "false"
   },
   "source": [
    "## Read Data"
   ]
  },
  {
   "cell_type": "code",
   "execution_count": 6,
   "metadata": {
    "Collapsed": "false"
   },
   "outputs": [],
   "source": [
    "with open(\"out_data/df_ccf.pickle\", \"rb\") as fle:\n",
    "    df_ccf = pickle.load(fle)\n",
    "\n",
    "# #########################################################\n",
    "if read_from_PROJ_DATA:\n",
    "    path_i = os.path.join(\n",
    "        os.environ[\"PROJ_DATA\"], \"04_IrOx_surfaces_OER\",\n",
    "        \"PROJECT_COMPUTED_OUT_DATA/PROJ_IrOx_Active_Learning_OER\",\n",
    "        \"workflow/ml_modelling/ccf_similarity_analysis/compute_ccf_and_dij_matrix\",\n",
    "        \"out_data/df_d_ij_all.pickle\")\n",
    "    with open(path_i, \"rb\") as fle:\n",
    "        df_d_comp_prev = pickle.load(fle)\n",
    "\n",
    "else:\n",
    "    try:\n",
    "        with open(\"out_data/df_d_ij_all.pickle\", \"rb\") as fle:\n",
    "            df_d_comp_prev = pickle.load(fle)\n",
    "    except:\n",
    "        df_d_comp_prev = pd.DataFrame()\n",
    "\n",
    "\n",
    "# #########################################################\n",
    "print(\"df_ccf.shape:\", df_ccf.shape)\n",
    "print(\"df_d_comp_prev.shape:\", df_d_comp_prev.shape)"
   ]
  },
  {
   "cell_type": "markdown",
   "metadata": {
    "Collapsed": "false"
   },
   "source": [
    "# Process data (Create D_ij matrix)"
   ]
  },
  {
   "cell_type": "code",
   "execution_count": 7,
   "metadata": {
    "Collapsed": "false"
   },
   "outputs": [],
   "source": [
    "df = df_ccf\n",
    "\n",
    "result = np.zeros((len(df), len(df)))\n",
    "for i_cnt, (row_name_i, row_i) in enumerate(df.iterrows()):\n",
    "    if verbose:\n",
    "        print(str(i_cnt).zfill(4), 75 * \"#\")\n",
    "    \n",
    "    row_in_prev_data = False\n",
    "    for j_cnt, (row_name_j, row_j) in enumerate(df.iterrows()):\n",
    "        if i_cnt == j_cnt:\n",
    "            continue\n",
    "\n",
    "        index_in_cols = row_name_j in df_d_comp_prev.columns\n",
    "        index_in_rows = row_name_i in df_d_comp_prev.index\n",
    "        if index_in_cols and index_in_rows:\n",
    "            d_ij = df_d_comp_prev.loc[row_name_i, row_name_j]\n",
    "            row_in_prev_data = True\n",
    "\n",
    "            if verbose:\n",
    "                tmp = 42\n",
    "                # print(\"Parsed d_ij from previous data\")\n",
    "        else:\n",
    "            if verbose: print(\"Computing d_ij from scratch\")\n",
    "            d_ij = cal_ccf_d(row_i[\"ccf\"], row_j[\"ccf\"])\n",
    "\n",
    "        # d_ij = 1.11\n",
    "        result[i_cnt][j_cnt] = d_ij\n",
    "\n",
    "    if row_in_prev_data:\n",
    "        if verbose: print(\"This row is the previous data (GOOD)\")"
   ]
  },
  {
   "cell_type": "code",
   "execution_count": 13,
   "metadata": {
    "Collapsed": "false"
   },
   "outputs": [],
   "source": [
    "# #########################################################\n",
    "df_d_comp = pd.DataFrame(\n",
    "    result,\n",
    "    index=df.index,\n",
    "    columns=df.index)\n",
    "\n",
    "\n",
    "# Pickling data ######################################################\n",
    "directory = \"out_data\"\n",
    "if not os.path.exists(directory): os.makedirs(directory)\n",
    "with open(os.path.join(directory, \"df_d_ij_all.pickle\"), \"wb\") as fle:\n",
    "    pickle.dump(df_d_comp, fle)\n",
    "# #####################################################################"
   ]
  },
  {
   "cell_type": "code",
   "execution_count": 10,
   "metadata": {
    "Collapsed": "false"
   },
   "outputs": [],
   "source": [
    "# path_i = os.path.join(\"out_data\", \"df_d_ij_all_temp.pickle\")\n",
    "path_i = os.path.join(\"out_data\", \"df_d_ij_all.pickle\")\n",
    "with open(path_i, \"rb\") as fle:\n",
    "    df_d_comp = pickle.load(fle)"
   ]
  },
  {
   "cell_type": "code",
   "execution_count": 11,
   "metadata": {
    "Collapsed": "false"
   },
   "outputs": [
    {
     "name": "stdout",
     "output_type": "stream",
     "text": [
      "Notebook took  11.1468 minutes to finish\n"
     ]
    }
   ],
   "source": [
    "time_elapsed = time.time() - t0\n",
    "print(\n",
    "    \"Notebook took \",\n",
    "    round(time_elapsed / 60, 4),\n",
    "    \"minutes to finish\")"
   ]
  },
  {
   "cell_type": "code",
   "execution_count": 12,
   "metadata": {},
   "outputs": [
    {
     "name": "stdout",
     "output_type": "stream",
     "text": [
      "# # # # # # # # # # # # # # # # # # # # # # # # # # # # # # # # # # # # # # # # \n",
      "All done!\n"
     ]
    },
    {
     "ename": "AssertionError",
     "evalue": "",
     "output_type": "error",
     "traceback": [
      "\u001b[0;31m---------------------------------------------------------------------------\u001b[0m",
      "\u001b[0;31mAssertionError\u001b[0m                            Traceback (most recent call last)",
      "\u001b[0;32m<ipython-input-12-7808a1103591>\u001b[0m in \u001b[0;36m<module>\u001b[0;34m\u001b[0m\n\u001b[1;32m      1\u001b[0m \u001b[0mprint\u001b[0m\u001b[0;34m(\u001b[0m\u001b[0;36m20\u001b[0m \u001b[0;34m*\u001b[0m \u001b[0;34m\"# # \"\u001b[0m\u001b[0;34m)\u001b[0m\u001b[0;34m\u001b[0m\u001b[0;34m\u001b[0m\u001b[0m\n\u001b[1;32m      2\u001b[0m \u001b[0mprint\u001b[0m\u001b[0;34m(\u001b[0m\u001b[0;34m\"All done!\"\u001b[0m\u001b[0;34m)\u001b[0m\u001b[0;34m\u001b[0m\u001b[0;34m\u001b[0m\u001b[0m\n\u001b[0;32m----> 3\u001b[0;31m \u001b[0;32massert\u001b[0m \u001b[0;32mFalse\u001b[0m\u001b[0;34m\u001b[0m\u001b[0;34m\u001b[0m\u001b[0m\n\u001b[0m",
      "\u001b[0;31mAssertionError\u001b[0m: "
     ]
    }
   ],
   "source": [
    "print(20 * \"# # \")\n",
    "print(\"All done!\")\n",
    "assert False"
   ]
  },
  {
   "cell_type": "raw",
   "metadata": {
    "Collapsed": "false"
   },
   "source": [
    "\n",
    "\n",
    "\n",
    "\n",
    "\n",
    "\n",
    "\n",
    "\n"
   ]
  },
  {
   "cell_type": "code",
   "execution_count": null,
   "metadata": {
    "Collapsed": "false",
    "jupyter": {
     "source_hidden": true
    }
   },
   "outputs": [],
   "source": [
    "# import copy\n",
    "# import pandas as pd\n",
    "\n",
    "# from ase.visualize import view\n",
    "\n",
    "# # Plotly\n",
    "# import chart_studio.plotly as py\n",
    "# import plotly.graph_objects as go\n",
    "\n",
    "# # from StructurePrototypeAnalysisPackage.ccf import (\n",
    "# from spap.ccf import (\n",
    "#     struc2ccf,\n",
    "#     cal_ccf_d,\n",
    "#     cal_inter_atomic_d,\n",
    "#     d2ccf,\n",
    "#     weight_f,\n",
    "#     pearson_cc,\n",
    "#     gaussian_f,\n",
    "#     element_tag,\n",
    "#     cell_range,\n",
    "#     count_atoms_dict,\n",
    "#     )\n",
    "\n",
    "# sys.path.insert(0, os.path.join(os.environ[\"PROJ_irox\"], \"data\"))\n",
    "# from proj_data_irox import (\n",
    "#     static_irox_structures_path,\n",
    "#     bulk_dft_data_path,\n",
    "#     )"
   ]
  }
 ],
 "metadata": {
  "jupytext": {
   "cell_metadata_json": true
  },
  "kernelspec": {
   "display_name": "Python [conda env:PROJ_IrOx_Active_Learning_OER]",
   "language": "python",
   "name": "conda-env-PROJ_IrOx_Active_Learning_OER-py"
  },
  "language_info": {
   "codemirror_mode": {
    "name": "ipython",
    "version": 3
   },
   "file_extension": ".py",
   "mimetype": "text/x-python",
   "name": "python",
   "nbconvert_exporter": "python",
   "pygments_lexer": "ipython3",
   "version": "3.6.7"
  }
 },
 "nbformat": 4,
 "nbformat_minor": 4
}
