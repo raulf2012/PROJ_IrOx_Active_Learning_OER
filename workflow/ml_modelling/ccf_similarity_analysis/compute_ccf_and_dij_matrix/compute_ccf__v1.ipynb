{
 "cells": [
  {
   "cell_type": "markdown",
   "metadata": {},
   "source": [
    "# Import Modules"
   ]
  },
  {
   "cell_type": "code",
   "execution_count": 1,
   "metadata": {},
   "outputs": [],
   "source": [
    "import os\n",
    "import sys\n",
    "\n",
    "import pickle\n",
    "\n",
    "import numpy as np\n",
    "\n",
    "import pandas as pd\n",
    "\n",
    "sys.path.insert(0, os.path.join(os.environ[\"PROJ_irox\"], \"data\"))\n",
    "from proj_data_irox import (\n",
    "    static_irox_structures_path,\n",
    "    bulk_dft_data_path,\n",
    "    unique_ids_path,\n",
    "    )\n",
    "\n",
    "from StructurePrototypeAnalysisPackage.ccf import struc2ccf"
   ]
  },
  {
   "cell_type": "markdown",
   "metadata": {},
   "source": [
    "# Script Inputs"
   ]
  },
  {
   "cell_type": "code",
   "execution_count": 2,
   "metadata": {},
   "outputs": [],
   "source": [
    "r_cut_off = 10.\n",
    "r_vector = np.arange(1, 10, 0.02)\n",
    "\n",
    "mean_density = 0.08407356"
   ]
  },
  {
   "cell_type": "code",
   "execution_count": 3,
   "metadata": {},
   "outputs": [],
   "source": [
    "directory = \"out_data\"\n",
    "if not os.path.exists(directory):\n",
    "    os.makedirs(directory)"
   ]
  },
  {
   "cell_type": "markdown",
   "metadata": {},
   "source": [
    "# Read Data"
   ]
  },
  {
   "cell_type": "code",
   "execution_count": 4,
   "metadata": {},
   "outputs": [],
   "source": [
    "with open(static_irox_structures_path, \"rb\") as fle:\n",
    "    df_static_irox = pickle.load(fle)\n",
    "\n",
    "with open(bulk_dft_data_path, \"rb\") as fle:\n",
    "    df_bulk_dft = pickle.load(fle)\n",
    "\n",
    "df_ids = pd.read_csv(unique_ids_path)\n",
    "\n",
    "with open(\"out_data/df_ccf.pickle\", \"rb\") as fle:\n",
    "    df_ccf_prev = pickle.load(fle)"
   ]
  },
  {
   "cell_type": "markdown",
   "metadata": {},
   "source": [
    "# Filtering df_bulk_dft"
   ]
  },
  {
   "cell_type": "code",
   "execution_count": 5,
   "metadata": {},
   "outputs": [],
   "source": [
    "sources_to_keep = [\n",
    "    'raul',\n",
    "    'raul_oer',\n",
    "    # 'chris', 'oqmd',\n",
    "    ]\n",
    "\n",
    "df_bulk_dft = df_bulk_dft[df_bulk_dft[\"source\"].isin(sources_to_keep)]"
   ]
  },
  {
   "cell_type": "markdown",
   "metadata": {},
   "source": [
    "# Combining different datasets to process uniformly"
   ]
  },
  {
   "cell_type": "code",
   "execution_count": 6,
   "metadata": {},
   "outputs": [],
   "source": [
    "df_static_irox = df_static_irox.set_index(\"static_id\", drop=False)"
   ]
  },
  {
   "cell_type": "code",
   "execution_count": 7,
   "metadata": {},
   "outputs": [
    {
     "name": "stdout",
     "output_type": "stream",
     "text": [
      "df_tmp.index.shape: (1707,)\n",
      "df_tmp.index.unique().shape: (1707,)\n"
     ]
    }
   ],
   "source": [
    "df_m = pd.concat([\n",
    "    df_bulk_dft,\n",
    "    df_static_irox,\n",
    "    ], sort=False,)\n",
    "\n",
    "print(\"df_tmp.index.shape:\", df_m.index.shape)\n",
    "print(\"df_tmp.index.unique().shape:\", df_m.index.unique().shape)"
   ]
  },
  {
   "cell_type": "markdown",
   "metadata": {},
   "source": [
    "# Creating scaled atoms with equal atomic density"
   ]
  },
  {
   "cell_type": "code",
   "execution_count": 8,
   "metadata": {},
   "outputs": [],
   "source": [
    "def get_atomic_density(row_i):\n",
    "    atoms = row_i[\"atoms\"]\n",
    "    volume = atoms.get_volume()\n",
    "    num_atoms = atoms.get_number_of_atoms()\n",
    "    density = num_atoms / volume\n",
    "    return(density)\n",
    "\n",
    "df_bulk_dft_scaled = pd.DataFrame()\n",
    "# df_bulk_dft_scaled[\"density_init\"] = df_bulk_dft.apply(\n",
    "df_bulk_dft_scaled[\"density_init\"] = df_m.apply(\n",
    "    get_atomic_density,\n",
    "    axis=1)\n",
    "\n",
    "# mean_density = df_bulk_dft_scaled[\"density_init\"].mean()\n",
    "# print(\"mean_density:\", mean_density, \"atoms/A3\")\n",
    "# assert False\n",
    "\n",
    "# #############################################################################\n",
    "# #############################################################################\n",
    "\n",
    "\n",
    "data_list = []\n",
    "for i_cnt, (name_i, row_i) in enumerate(df_m.iterrows()):\n",
    "    atoms_i = row_i[\"atoms\"]\n",
    "    row_scaled = df_bulk_dft_scaled.loc[name_i]\n",
    "    dens_init = row_scaled[\"density_init\"]\n",
    "    scale_fact = (mean_density / dens_init) ** (1 / 3)\n",
    "    new_cell = atoms_i.cell / scale_fact\n",
    "    atoms_i.set_cell(new_cell, scale_atoms=True)\n",
    "    dens_final = atoms_i.get_number_of_atoms() / atoms_i.get_volume()\n",
    "\n",
    "    out_dict = {\n",
    "        \"atoms_scaled\": atoms_i,\n",
    "        \"index\": name_i,\n",
    "        \"cell_scale_factor\": scale_fact,\n",
    "        \"density_final\": dens_final}\n",
    "    data_list.append(out_dict)\n",
    "\n",
    "df_scaled_atoms = pd.DataFrame(data_list).set_index(\"index\")\n",
    "df_bulk_dft_scaled = pd.concat([df_scaled_atoms, df_bulk_dft_scaled], axis=1)\n",
    "\n",
    "num_unique_ids = df_bulk_dft_scaled.index.unique().shape[0]\n",
    "num_ids = df_bulk_dft_scaled.index.shape[0]\n",
    "assert num_unique_ids == num_ids, \"JISFIDSIFJ\""
   ]
  },
  {
   "cell_type": "code",
   "execution_count": 9,
   "metadata": {},
   "outputs": [],
   "source": [
    "# df_scaled_atoms.head()\n",
    "\n",
    "# df_bulk_dft_scaled.head()"
   ]
  },
  {
   "cell_type": "raw",
   "metadata": {},
   "source": [
    "\n",
    "\n",
    "\n",
    "\n",
    "\n",
    "\n",
    "\n",
    "\n"
   ]
  },
  {
   "cell_type": "code",
   "execution_count": 10,
   "metadata": {},
   "outputs": [],
   "source": [
    "def method(row_i, argument_0, atoms_key=\"atoms\"):\n",
    "    \"\"\"\n",
    "    \"\"\"\n",
    "    atoms_i = row_i[atoms_key]\n",
    "    print(20 * \"*\")\n",
    "    ccf_i = struc2ccf(atoms_i, r_cut_off, r_vector)\n",
    "    return(ccf_i)"
   ]
  },
  {
   "cell_type": "markdown",
   "metadata": {},
   "source": [
    "# Calculate CCF for DFT Calculated IrO2 and IrO3 Systems"
   ]
  },
  {
   "cell_type": "code",
   "execution_count": 11,
   "metadata": {},
   "outputs": [
    {
     "data": {
      "text/plain": [
       "True"
      ]
     },
     "execution_count": 11,
     "metadata": {},
     "output_type": "execute_result"
    }
   ],
   "source": [
    "# df_ccf.index\n",
    "\n",
    "\"bsv4nex29l\" in df_bulk_dft.index\n",
    "\n",
    "# df_bulk_dft"
   ]
  },
  {
   "cell_type": "code",
   "execution_count": 12,
   "metadata": {
    "lines_to_next_cell": 0
   },
   "outputs": [
    {
     "name": "stdout",
     "output_type": "stream",
     "text": [
      "len(indices_to_process): 16\n"
     ]
    }
   ],
   "source": [
    "indices_to_process = [i for i in df_bulk_dft_scaled.index if i not in df_ccf_prev.index]\n",
    "print(\"len(indices_to_process):\", len(indices_to_process))\n",
    "index_before_splitting = df_bulk_dft_scaled.index\n",
    "\n",
    "df_bulk_dft_scaled_not_processed = df_bulk_dft_scaled.loc[indices_to_process]\n",
    "df_not_proc = df_bulk_dft_scaled_not_processed\n",
    "\n",
    "if len(indices_to_process) == 0:\n",
    "    print(\"No systems to process, exiting\")\n",
    "    assert False"
   ]
  },
  {
   "cell_type": "code",
   "execution_count": 13,
   "metadata": {},
   "outputs": [
    {
     "name": "stdout",
     "output_type": "stream",
     "text": [
      "********************\n",
      "********************\n",
      "********************\n",
      "********************\n",
      "********************\n",
      "********************\n",
      "********************\n",
      "********************\n",
      "********************\n",
      "********************\n",
      "********************\n",
      "********************\n",
      "********************\n",
      "********************\n",
      "********************\n",
      "********************\n"
     ]
    }
   ],
   "source": [
    "df_i = df_not_proc\n",
    "df_i[\"ccf\"] = df_i.apply(\n",
    "    method,\n",
    "    axis=1,\n",
    "    args=(\"TEMP\", ),\n",
    "    atoms_key=\"atoms_scaled\"\n",
    "    )\n",
    "df_bulk_dft_scaled = df_i\n",
    "\n",
    "df_ccf = df_bulk_dft_scaled[\"ccf\"]\n",
    "df_ccf = pd.DataFrame(df_ccf)\n",
    "\n",
    "with open(\"out_data/df_ccf.pickle\", \"wb\") as fle:\n",
    "    pickle.dump(df_ccf, fle)"
   ]
  },
  {
   "cell_type": "code",
   "execution_count": 14,
   "metadata": {},
   "outputs": [],
   "source": [
    "df_ccf_new = pd.concat([\n",
    "    df_ccf,\n",
    "    df_ccf_prev,\n",
    "    ], sort=False,\n",
    "    )\n",
    "df_ccf_new.shape\n",
    "\n",
    "with open(\"out_data/df_ccf.pickle\", \"wb\") as fle:\n",
    "    pickle.dump(df_ccf_new, fle)"
   ]
  },
  {
   "cell_type": "code",
   "execution_count": 15,
   "metadata": {},
   "outputs": [],
   "source": [
    "# df_tmp.reindex(index_before_splitting)\n",
    "\n",
    "# len(index_before_splitting)"
   ]
  },
  {
   "cell_type": "code",
   "execution_count": 16,
   "metadata": {},
   "outputs": [],
   "source": [
    "with open(\"out_data/df_ccf.pickle\", \"rb\") as fle:\n",
    "    df_ccf_tmp = pickle.load(fle)\n",
    "\n",
    "# with open(\"out_data/df_ccf.pickle\", \"rb\") as fle:\n",
    "#     df_ccf = pickle.load(fle)"
   ]
  },
  {
   "cell_type": "code",
   "execution_count": 17,
   "metadata": {},
   "outputs": [],
   "source": [
    "# df_ccf_tmp.shape"
   ]
  },
  {
   "cell_type": "raw",
   "metadata": {},
   "source": [
    "\n",
    "\n",
    "\n",
    "\n"
   ]
  },
  {
   "cell_type": "code",
   "execution_count": 18,
   "metadata": {},
   "outputs": [
    {
     "name": "stdout",
     "output_type": "stream",
     "text": [
      "df_bulk_dft_scaled.shape: (16, 5)\n",
      "df_ccf_prev.shape: (1695, 1)\n",
      "df_ccf_new.shape: (1711, 1)\n"
     ]
    }
   ],
   "source": [
    "print(\"df_bulk_dft_scaled.shape:\", df_bulk_dft_scaled.shape)\n",
    "print(\"df_ccf_prev.shape:\", df_ccf_prev.shape)\n",
    "print(\"df_ccf_new.shape:\", df_ccf_new.shape)\n",
    "\n",
    "\n",
    "# df_ccf_prev.index"
   ]
  },
  {
   "cell_type": "code",
   "execution_count": 19,
   "metadata": {
    "jupyter": {
     "source_hidden": true
    }
   },
   "outputs": [],
   "source": [
    "# print(df_ccf_prev.index.unique().shape)\n",
    "\n",
    "\n",
    "# assert df_bulk_dft_scaled.index.unique().shape[0] == df_bulk_dft_scaled.index.shape[0]\n",
    "\n",
    "# indices_to_process = [i for i in df_bulk_dft_scaled.index if i not in df_ccf_prev.index]\n",
    "\n",
    "# df_bulk_dft_scaled_not_processed = df_bulk_dft_scaled.loc[indices_to_process]\n",
    "# df_not_proc = df_bulk_dft_scaled_not_processed\n",
    "\n",
    "# df_i = df_bulk_dft_scaled\n",
    "# df_i[\"ccf\"] = df_i.apply(\n",
    "#     method,\n",
    "#     axis=1,\n",
    "#     args=(\"TEMP\", ),\n",
    "#     atoms_key=\"atoms_scaled\"\n",
    "#     )\n",
    "# df_bulk_dft_scaled = df_i\n",
    "\n",
    "# df_ccf = df_bulk_dft_scaled[\"ccf\"]\n",
    "# df_ccf = pd.DataFrame(df_ccf)\n",
    "\n",
    "# with open(\"out_data/df_ccf_test.pickle\", \"wb\") as fle:\n",
    "#     pickle.dump(df_ccf, fle)"
   ]
  },
  {
   "cell_type": "code",
   "execution_count": 20,
   "metadata": {
    "jupyter": {
     "source_hidden": true
    }
   },
   "outputs": [],
   "source": [
    "# # TEMP | Reducing datasize for testing\n",
    "\n",
    "# # TEMP\n",
    "# # df_static_irox = df_static_irox.iloc[0:10]\n",
    "# # df_bulk_dft = df_bulk_dft.iloc[0:10]\n",
    "\n",
    "\n",
    "# ids_to_keep = [\n",
    "# 'zy9dzknhnj',\n",
    "# '6r716sxr9t',\n",
    "# 'zlbp9jm19g',\n",
    "# 'm16tvk8h7g',\n",
    "# 'z39g648rnl',\n",
    "# 'x18q7u8s9q',\n",
    "# 'mp659s8i8q',\n",
    "# 'ck638t75z3',\n",
    "# '8u94muxqzw',\n",
    "# 'mkbrzh8kv5',\n",
    "# 'bwmrbuztvs',\n",
    "# '82mwbwbgbl',\n",
    "# '9knk63mjcw',\n",
    "# '8495vjvsc3',\n",
    "# 'xonhb1cgnq',\n",
    "# '8aza84xlvs',\n",
    "# '9wzqvtmw6a',\n",
    "# 'n4xq8uv1cu',\n",
    "# 'c48lx363be',\n",
    "# 'bovtbhmf6p',\n",
    "# 'vt658pbemi',\n",
    "# '8hzf7ecw84',\n",
    "# 'cf9lbhvjmq',\n",
    "# 'bdzo7ixszl',\n",
    "# 'brbizonjmy',\n",
    "# 'zhci7ans9k',\n",
    "# 'c3mp6jmgzq',\n",
    "# '6fzy7kcrxy',\n",
    "# 'cln3xecgbt',\n",
    "# 'ckbg7d9u6u',\n",
    "# 'mpbd6sz1z5',\n",
    "# 'cant6qca6o',\n",
    "# '6avov5cy64',\n",
    "# '946gc3z2n3',\n",
    "# '95zh7p8kno',\n",
    "# 'cdm48gxynp',\n",
    "# 'zunqxh6g9j',\n",
    "# '9y85x1cp6e',\n",
    "# 'xgmkzuxf8g',\n",
    "# 'zuzwxhvuxe',\n",
    "# 'cfcivdxrc2',\n",
    "# 'm29j648g6i',\n",
    "# '9g7f8evqzt',\n",
    "# 'vhck6u84bj',\n",
    "# 'mlva81bg7p',\n",
    "# 'vj8l8uba9y',\n",
    "# 'nt6wv1n27r',\n",
    "# 'm4cacfvjvh',\n",
    "# '9uxemw7rv2',\n",
    "# 'bt8rz3babw',\n",
    "       \n",
    "# 'IrO3_rutile-like',\n",
    "# 'IrO3',\n",
    "# 'IrO3_battery',\n",
    "# 'IrO2',\n",
    "#       ]\n",
    "\n",
    "# # df_bulk_dft[0:50].index.tolist()\n",
    "# df_bulk_dft[df_bulk_dft[\"source\"] == \"raul_oer\"].index.tolist()\n",
    "# # df_bulk_dft = df_bulk_dft.loc[ids_to_keep]"
   ]
  }
 ],
 "metadata": {
  "jupytext": {
   "formats": "ipynb,py:light"
  },
  "kernelspec": {
   "display_name": "Python [conda env:research-new]",
   "language": "python",
   "name": "conda-env-research-new-py"
  },
  "language_info": {
   "codemirror_mode": {
    "name": "ipython",
    "version": 3
   },
   "file_extension": ".py",
   "mimetype": "text/x-python",
   "name": "python",
   "nbconvert_exporter": "python",
   "pygments_lexer": "ipython3",
   "version": "3.6.8"
  }
 },
 "nbformat": 4,
 "nbformat_minor": 4
}
