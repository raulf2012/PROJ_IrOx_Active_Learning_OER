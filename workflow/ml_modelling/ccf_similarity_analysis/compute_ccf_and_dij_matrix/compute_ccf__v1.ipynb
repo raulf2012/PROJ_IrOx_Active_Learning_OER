{
 "cells": [
  {
   "cell_type": "markdown",
   "metadata": {},
   "source": [
    "# Compute CCF for Each Structure\n",
    "---\n",
    "\n",
    "\n",
    "CCF is then used to compute simalirty for all pair-wise comparisons of all structures\n",
    "\n",
    "NOTE: This notebook can be set to read df_ccf from PROJ_DATA directory instead of actually running this script fully/correctly. This is becauses it takes almost an hour to run this notebook. To activate this mode set the `read_from_PROJ_DATA` to `True`"
   ],
   "execution_count": null,
   "outputs": []
  },
  {
   "cell_type": "code",
   "execution_count": null,
   "metadata": {},
   "outputs": [],
   "source": [
    "# read_from_PROJ_DATA = False\n",
    "# read_from_PROJ_DATA = True"
   ]
  },
  {
   "cell_type": "markdown",
   "metadata": {},
   "source": [
    "# Import Modules"
   ],
   "execution_count": null,
   "outputs": []
  },
  {
   "cell_type": "code",
   "execution_count": null,
   "metadata": {},
   "outputs": [],
   "source": [
    "import os\n",
    "print(os.getcwd())\n",
    "import sys\n",
    "\n",
    "import pickle\n",
    "\n",
    "import numpy as np\n",
    "\n",
    "import pandas as pd\n",
    "\n",
    "sys.path.insert(0, os.path.join(os.environ[\"PROJ_irox\"], \"data\"))\n",
    "from proj_data_irox import (\n",
    "    static_irox_structures_path,\n",
    "    bulk_dft_data_path,\n",
    "    unique_ids_path,\n",
    "    )\n",
    "\n",
    "# from StructurePrototypeAnalysisPackage.ccf import struc2ccf\n",
    "from spap.ccf import struc2ccf"
   ]
  },
  {
   "cell_type": "code",
   "execution_count": null,
   "metadata": {},
   "outputs": [],
   "source": [
    "sys.path.insert(0, os.path.join(os.environ[\"PROJ_irox\"], \"data\"))\n",
    "from proj_data_irox import read_from_PROJ_DATA"
   ]
  },
  {
   "cell_type": "markdown",
   "metadata": {},
   "source": [
    "# Script Inputs"
   ],
   "execution_count": null,
   "outputs": []
  },
  {
   "cell_type": "code",
   "execution_count": null,
   "metadata": {},
   "outputs": [],
   "source": [
    "r_cut_off = 10.\n",
    "r_vector = np.arange(1, 10, 0.02)\n",
    "\n",
    "mean_density = 0.08407356"
   ]
  },
  {
   "cell_type": "code",
   "execution_count": null,
   "metadata": {},
   "outputs": [],
   "source": [
    "directory = \"out_data\"\n",
    "if not os.path.exists(directory):\n",
    "    os.makedirs(directory)"
   ]
  },
  {
   "cell_type": "markdown",
   "metadata": {},
   "source": [
    "# Read Data"
   ],
   "execution_count": null,
   "outputs": []
  },
  {
   "cell_type": "code",
   "execution_count": null,
   "metadata": {},
   "outputs": [],
   "source": [
    "with open(static_irox_structures_path, \"rb\") as fle:\n",
    "    df_static_irox = pickle.load(fle)\n",
    "\n",
    "with open(bulk_dft_data_path, \"rb\") as fle:\n",
    "    df_bulk_dft = pickle.load(fle)\n",
    "\n",
    "df_ids = pd.read_csv(unique_ids_path)\n",
    "\n",
    "# try:\n",
    "if read_from_PROJ_DATA:\n",
    "    path_i = os.path.join(\n",
    "        os.environ[\"PROJ_DATA\"],\n",
    "        \"04_IrOx_surfaces_OER/PROJECT_COMPUTED_OUT_DATA/PROJ_IrOx_Active_Learning_OER\",\n",
    "        \"workflow/ml_modelling/ccf_similarity_analysis/compute_ccf_and_dij_matrix/\",\n",
    "        \"out_data/df_ccf.pickle\"\n",
    "        )\n",
    "    with open(path_i, \"rb\") as fle:\n",
    "        df_ccf_prev = pickle.load(fle)\n",
    "\n",
    "else:\n",
    "    with open(\"out_data/df_ccf.pickle\", \"rb\") as fle:\n",
    "        df_ccf_prev = pickle.load(fle)\n",
    "# except:\n",
    "#     # df_ccf_prev\n",
    "#     df_ccf_prev = pd.DataFrame()"
   ]
  },
  {
   "cell_type": "markdown",
   "metadata": {},
   "source": [
    "# Filtering df_bulk_dft"
   ],
   "execution_count": null,
   "outputs": []
  },
  {
   "cell_type": "code",
   "execution_count": null,
   "metadata": {},
   "outputs": [],
   "source": [
    "sources_to_keep = [\n",
    "    'raul',\n",
    "    'raul_oer',\n",
    "    # 'chris', 'oqmd',\n",
    "    ]\n",
    "\n",
    "df_bulk_dft = df_bulk_dft[df_bulk_dft[\"source\"].isin(sources_to_keep)]"
   ]
  },
  {
   "cell_type": "markdown",
   "metadata": {},
   "source": [
    "# Combining different datasets to process uniformly"
   ],
   "execution_count": null,
   "outputs": []
  },
  {
   "cell_type": "code",
   "execution_count": null,
   "metadata": {},
   "outputs": [],
   "source": [
    "df_static_irox = df_static_irox.set_index(\"static_id\", drop=False)"
   ]
  },
  {
   "cell_type": "code",
   "execution_count": null,
   "metadata": {},
   "outputs": [],
   "source": [
    "df_m = pd.concat([\n",
    "    df_bulk_dft,\n",
    "    df_static_irox,\n",
    "    ], sort=False,)\n",
    "\n",
    "print(\"df_tmp.index.shape:\", df_m.index.shape)\n",
    "print(\"df_tmp.index.unique().shape:\", df_m.index.unique().shape)"
   ]
  },
  {
   "cell_type": "markdown",
   "metadata": {},
   "source": [
    "# Creating scaled atoms with equal atomic density"
   ],
   "execution_count": null,
   "outputs": []
  },
  {
   "cell_type": "code",
   "execution_count": null,
   "metadata": {},
   "outputs": [],
   "source": [
    "def get_atomic_density(row_i):\n",
    "    atoms = row_i[\"atoms\"]\n",
    "    volume = atoms.get_volume()\n",
    "    num_atoms = atoms.get_number_of_atoms()\n",
    "    density = num_atoms / volume\n",
    "    return(density)\n",
    "\n",
    "df_bulk_dft_scaled = pd.DataFrame()\n",
    "# df_bulk_dft_scaled[\"density_init\"] = df_bulk_dft.apply(\n",
    "df_bulk_dft_scaled[\"density_init\"] = df_m.apply(\n",
    "    get_atomic_density,\n",
    "    axis=1)\n",
    "\n",
    "# mean_density = df_bulk_dft_scaled[\"density_init\"].mean()\n",
    "# print(\"mean_density:\", mean_density, \"atoms/A3\")\n",
    "# assert False\n",
    "\n",
    "# #############################################################################\n",
    "# #############################################################################\n",
    "\n",
    "\n",
    "data_list = []\n",
    "for i_cnt, (name_i, row_i) in enumerate(df_m.iterrows()):\n",
    "    atoms_i = row_i[\"atoms\"]\n",
    "    row_scaled = df_bulk_dft_scaled.loc[name_i]\n",
    "    dens_init = row_scaled[\"density_init\"]\n",
    "    scale_fact = (mean_density / dens_init) ** (1 / 3)\n",
    "    new_cell = atoms_i.cell / scale_fact\n",
    "    atoms_i.set_cell(new_cell, scale_atoms=True)\n",
    "    dens_final = atoms_i.get_number_of_atoms() / atoms_i.get_volume()\n",
    "\n",
    "    out_dict = {\n",
    "        \"atoms_scaled\": atoms_i,\n",
    "        \"index\": name_i,\n",
    "        \"cell_scale_factor\": scale_fact,\n",
    "        \"density_final\": dens_final}\n",
    "    data_list.append(out_dict)\n",
    "\n",
    "df_scaled_atoms = pd.DataFrame(data_list).set_index(\"index\")\n",
    "df_bulk_dft_scaled = pd.concat([df_scaled_atoms, df_bulk_dft_scaled], axis=1)\n",
    "\n",
    "num_unique_ids = df_bulk_dft_scaled.index.unique().shape[0]\n",
    "num_ids = df_bulk_dft_scaled.index.shape[0]\n",
    "assert num_unique_ids == num_ids, \"JISFIDSIFJ\""
   ]
  },
  {
   "cell_type": "markdown",
   "metadata": {},
   "source": [
    "# Calculate CCF for DFT Calculated IrO2 and IrO3 Systems"
   ],
   "execution_count": null,
   "outputs": []
  },
  {
   "cell_type": "code",
   "execution_count": null,
   "metadata": {
    "lines_to_next_cell": 0
   },
   "outputs": [],
   "source": [
    "indices_to_process = [i for i in df_bulk_dft_scaled.index if i not in df_ccf_prev.index]\n",
    "print(\"len(indices_to_process):\", len(indices_to_process))\n",
    "index_before_splitting = df_bulk_dft_scaled.index\n",
    "\n",
    "df_bulk_dft_scaled_not_processed = df_bulk_dft_scaled.loc[indices_to_process]\n",
    "df_not_proc = df_bulk_dft_scaled_not_processed\n",
    "\n",
    "if len(indices_to_process) == 0:\n",
    "    print(\"No systems to process, exiting\")\n",
    "\n",
    "    with open(\"out_data/df_ccf.pickle\", \"wb\") as fle:\n",
    "        pickle.dump(df_ccf_prev, fle)\n",
    "\n",
    "    print(20 * \"# # \")\n",
    "    print(\"All done!\")\n",
    "    assert False"
   ]
  },
  {
   "cell_type": "code",
   "execution_count": null,
   "metadata": {},
   "outputs": [],
   "source": [
    "def method(row_i, argument_0, atoms_key=\"atoms\"):\n",
    "    \"\"\"\n",
    "    \"\"\"\n",
    "    atoms_i = row_i[atoms_key]\n",
    "    print(20 * \"*\")\n",
    "    ccf_i = struc2ccf(atoms_i, r_cut_off, r_vector)\n",
    "    return(ccf_i)"
   ]
  },
  {
   "cell_type": "code",
   "execution_count": null,
   "metadata": {},
   "outputs": [],
   "source": [
    "df_i = df_not_proc\n",
    "df_i[\"ccf\"] = df_i.apply(\n",
    "    method,\n",
    "    axis=1,\n",
    "    args=(\"TEMP\", ),\n",
    "    atoms_key=\"atoms_scaled\"\n",
    "    )\n",
    "df_bulk_dft_scaled = df_i\n",
    "\n",
    "df_ccf = df_bulk_dft_scaled[\"ccf\"]\n",
    "df_ccf = pd.DataFrame(df_ccf)\n",
    "\n",
    "with open(\"out_data/df_ccf.pickle\", \"wb\") as fle:\n",
    "    pickle.dump(df_ccf, fle)"
   ]
  },
  {
   "cell_type": "code",
   "execution_count": null,
   "metadata": {},
   "outputs": [],
   "source": [
    "df_ccf_new = pd.concat([\n",
    "    df_ccf,\n",
    "    df_ccf_prev,\n",
    "    ], sort=False,\n",
    "    )\n",
    "df_ccf_new.shape\n",
    "\n",
    "with open(\"out_data/df_ccf.pickle\", \"wb\") as fle:\n",
    "    pickle.dump(df_ccf_new, fle)"
   ]
  },
  {
   "cell_type": "code",
   "execution_count": null,
   "metadata": {},
   "outputs": [],
   "source": [
    "with open(\"out_data/df_ccf.pickle\", \"rb\") as fle:\n",
    "    df_ccf_tmp = pickle.load(fle)\n",
    "\n",
    "# with open(\"out_data/df_ccf.pickle\", \"rb\") as fle:\n",
    "#     df_ccf = pickle.load(fle)"
   ]
  },
  {
   "cell_type": "code",
   "execution_count": null,
   "metadata": {},
   "outputs": [],
   "source": [
    "print(\"df_bulk_dft_scaled.shape:\", df_bulk_dft_scaled.shape)\n",
    "print(\"df_ccf_prev.shape:\", df_ccf_prev.shape)\n",
    "print(\"df_ccf_new.shape:\", df_ccf_new.shape)"
   ]
  },
  {
   "cell_type": "code",
   "execution_count": null,
   "metadata": {},
   "outputs": [],
   "source": [
    "print(20 * \"# # \")\n",
    "print(\"All done!\")\n",
    "assert False"
   ]
  }
 ],
 "metadata": {
  "kernelspec": {
   "display_name": "Python [conda env:PROJ_irox]",
   "language": "python",
   "name": "conda-env-PROJ_irox-py"
  },
  "language_info": {
   "codemirror_mode": {
    "name": "ipython",
    "version": 3
   },
   "file_extension": ".py",
   "mimetype": "text/x-python",
   "name": "python",
   "nbconvert_exporter": "python",
   "pygments_lexer": "ipython3",
   "version": "3.6.10"
  }
 },
 "nbformat": 4,
 "nbformat_minor": 4
}
