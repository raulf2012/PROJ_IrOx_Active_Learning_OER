{
 "cells": [
  {
   "cell_type": "markdown",
   "metadata": {},
   "source": [
    "# Analysing Similarity Matrix for IrOx Systems Post-DFT\n",
    "---\n",
    "\n",
    "Systems that have the same d but different energies\n",
    "\n",
    "list_0 = [\n",
    " '8481z1n1na',\n",
    " 'zr9ic2zaz5',\n",
    " '8h9snabqca',\n",
    " '7f8pm5mhnu',\n",
    " 'cgx3mkzhmd',\n",
    " 'vwxfn3blxi',\n",
    " '9obw8dbrvy',\n",
    " 'bpvynr7p9w',\n",
    " '8gnovr727t',\n",
    "\n",
    "\n",
    " '9pb4c1927h',\n",
    " '8i63m2b5ve',\n",
    "\n",
    "\n",
    " 'vlxp9abd6h',\n",
    " 'z2nh817ene',\n",
    " 'xu6ivyvfvf',\n",
    " ]"
   ]
  },
  {
   "cell_type": "markdown",
   "metadata": {},
   "source": [
    "# Import Modules"
   ]
  },
  {
   "cell_type": "code",
   "execution_count": 1,
   "metadata": {},
   "outputs": [],
   "source": [
    "import os\n",
    "import sys\n",
    "\n",
    "import pickle\n",
    "import pandas as pd\n",
    "\n",
    "# #############################################################################\n",
    "import plotly.graph_objs as go\n",
    "\n",
    "# #############################################################################\n",
    "sys.path.insert(0, os.path.join(os.environ[\"PROJ_irox\"], \"data\"))\n",
    "from proj_data_irox import (\n",
    "    static_irox_structures_path,\n",
    "    bulk_dft_data_path,\n",
    "    df_dij_path)\n",
    "\n",
    "from methods import plot_dij_matrix_heatmap\n",
    "from plotting.my_plotly import my_plotly_plot"
   ]
  },
  {
   "cell_type": "markdown",
   "metadata": {},
   "source": [
    "# Script Inputs"
   ]
  },
  {
   "cell_type": "code",
   "execution_count": 2,
   "metadata": {},
   "outputs": [],
   "source": [
    "# d_thresh = 0.075\n",
    "\n",
    "# d_thresh = 0.01\n",
    "d_thresh = 0.02\n",
    "# d_thresh = 0.03\n",
    "# d_thresh = 0.04\n",
    "# d_thresh = 0.05\n",
    "# d_thresh = 0.06\n",
    "# d_thresh = 0.07\n",
    "# d_thresh = 0.08\n",
    "# d_thresh = 0.09\n",
    "# d_thresh = 0.10\n",
    "# d_thresh = 0.20\n",
    "# d_thresh = 0.30\n",
    "# d_thresh = 0.40\n",
    "# d_thresh = 0.70\n",
    "\n",
    "\n",
    "e_thresh = 0.01\n",
    "\n",
    "create_plot = True"
   ]
  },
  {
   "cell_type": "markdown",
   "metadata": {},
   "source": [
    "# Read Data"
   ]
  },
  {
   "cell_type": "code",
   "execution_count": 3,
   "metadata": {},
   "outputs": [
    {
     "name": "stdout",
     "output_type": "stream",
     "text": [
      "df_dij_dft.shape: (1711, 1711)\n"
     ]
    }
   ],
   "source": [
    "# df_dij_path_tmp = df_dij_path[0:-18] + \"df_d_ij_all_temp.pickle\"\n",
    "with open(df_dij_path, \"rb\") as fle:\n",
    "# with open(df_dij_path_tmp, \"rb\") as fle:\n",
    "    df_dij_dft = pickle.load(fle)\n",
    "    print(\"df_dij_dft.shape:\", df_dij_dft.shape)\n",
    "\n",
    "with open(static_irox_structures_path, \"rb\") as fle:\n",
    "    df_static_irox = pickle.load(fle)\n",
    "\n",
    "with open(bulk_dft_data_path, \"rb\") as fle:\n",
    "    df_bulk_dft = pickle.load(fle)\n",
    "\n",
    "path_i = os.path.join(\n",
    "    os.environ[\"PROJ_irox\"],\n",
    "    \"workflow/ml_modelling\",\n",
    "    \"ccf_similarity_analysis/out_data\",\n",
    "    \"all_ids_to_elim_1.pickle\")\n",
    "with open(path_i, \"rb\") as fle:\n",
    "    ids_to_drop_prev = pickle.load(fle)\n",
    "\n",
    "ids_to_drop_prev = ids_to_drop_prev[\"AB2\"] + ids_to_drop_prev[\"AB3\"]\n",
    "\n",
    "# sys.path.insert(0, \"../04_final_ml_plots\")"
   ]
  },
  {
   "cell_type": "code",
   "execution_count": 4,
   "metadata": {},
   "outputs": [],
   "source": [
    "# # df_dij_dft.loc[\"8p8evt9pcg\", \"9lmkmh8s8r\"]\n",
    "\n",
    "\n",
    "# df_dij_dft.loc[\n",
    "\n",
    "#     \"64cg6j9any\",\n",
    "#     \"b46enqnq8e\",\n",
    "#     \"9yz2mt8hbh\",\n",
    "\n",
    "# #     \"6avov5cy64\"\n",
    "    \n",
    "# #     \"clc2b1mavs\",\n",
    "#     ]"
   ]
  },
  {
   "cell_type": "markdown",
   "metadata": {},
   "source": [
    "# Dropping Static Structure from D_ij"
   ]
  },
  {
   "cell_type": "code",
   "execution_count": 5,
   "metadata": {},
   "outputs": [],
   "source": [
    "static_ids = df_static_irox[\"static_id\"].tolist()\n",
    "static_ids_in_dij = [i for i in static_ids if i in df_dij_dft.index]\n",
    "\n",
    "df_dij_dft = df_dij_dft.drop(labels=static_ids_in_dij, axis=0)\n",
    "df_dij_dft = df_dij_dft.drop(labels=static_ids_in_dij, axis=1)"
   ]
  },
  {
   "cell_type": "markdown",
   "metadata": {},
   "source": [
    "# Filtering data to needed systems"
   ]
  },
  {
   "cell_type": "code",
   "execution_count": 6,
   "metadata": {},
   "outputs": [
    {
     "name": "stdout",
     "output_type": "stream",
     "text": [
      "df_bulk_dft.shape: \n",
      " (740, 11)\n",
      "df_bulk_dft.index.unique().shape: \n",
      " (740,)\n"
     ]
    }
   ],
   "source": [
    "df_bulk_dft = df_bulk_dft[\n",
    "    (df_bulk_dft[\"source\"] != \"chris\") &\n",
    "    (df_bulk_dft[\"source\"] != \"oqmd\") &\n",
    "    [True for i in range(len(df_bulk_dft))]\n",
    "    ]\n",
    "\n",
    "print(\"df_bulk_dft.shape:\", \"\\n\", df_bulk_dft.shape)\n",
    "print(\"df_bulk_dft.index.unique().shape:\", \"\\n\",\n",
    "    df_bulk_dft.index.unique().shape)"
   ]
  },
  {
   "cell_type": "markdown",
   "metadata": {},
   "source": [
    "# Reorder index by Stoicheomtry first and then by energy"
   ]
  },
  {
   "cell_type": "code",
   "execution_count": 7,
   "metadata": {},
   "outputs": [],
   "source": [
    "ab2_indices = df_bulk_dft[df_bulk_dft[\"stoich\"] == \"AB2\"].sort_values(\n",
    "    \"energy_pa\").index.tolist()\n",
    "ab3_indices = df_bulk_dft[df_bulk_dft[\"stoich\"] == \"AB3\"].sort_values(\n",
    "    \"energy_pa\").index.tolist()\n",
    "\n",
    "ab2_indices_not_in_dij = [i for i in ab2_indices if i not in df_dij_dft.index]\n",
    "\n",
    "new_ind_order = ab2_indices + ab3_indices\n",
    "new_index_order_filtered = [i for i in new_ind_order if i in df_dij_dft.index]\n",
    "\n",
    "df_dij_dft = df_dij_dft.reindex(new_index_order_filtered)\n",
    "df_dij_dft = df_dij_dft[new_index_order_filtered]"
   ]
  },
  {
   "cell_type": "code",
   "execution_count": 8,
   "metadata": {},
   "outputs": [
    {
     "name": "stdout",
     "output_type": "stream",
     "text": [
      "len(ab2_indices): 488\n",
      "len(ab3_indices): 252\n",
      "\n",
      "df_dij_dft.shape: (740, 740)\n"
     ]
    }
   ],
   "source": [
    "print(\"len(ab2_indices):\", len(ab2_indices))\n",
    "print(\"len(ab3_indices):\", len(ab3_indices))\n",
    "print(\"\")\n",
    "print(\"df_dij_dft.shape:\", df_dij_dft.shape)"
   ]
  },
  {
   "cell_type": "markdown",
   "metadata": {},
   "source": [
    "# Reorder index to put OER bulk systems first"
   ]
  },
  {
   "cell_type": "code",
   "execution_count": 9,
   "metadata": {},
   "outputs": [],
   "source": [
    "oer_sys_ids = ['IrO3_rutile-like', 'IrO3', 'IrO3_battery', 'IrO2']\n",
    "\n",
    "non_oer_ids = df_dij_dft.index.drop(oer_sys_ids)\n",
    "new_index_order = oer_sys_ids + non_oer_ids.tolist()\n",
    "\n",
    "df_dij_dft = df_dij_dft.reindex(new_index_order)\n",
    "df_dij_dft = df_dij_dft[new_index_order]"
   ]
  },
  {
   "cell_type": "markdown",
   "metadata": {},
   "source": [
    "# Drop ids that were identified to be redundant"
   ]
  },
  {
   "cell_type": "code",
   "execution_count": 10,
   "metadata": {},
   "outputs": [],
   "source": [
    "# df_dij_dft = df_dij_dft.drop(labels=ids_to_drop_prev, axis=0)\n",
    "# df_dij_dft = df_dij_dft.drop(labels=ids_to_drop_prev, axis=1)"
   ]
  },
  {
   "cell_type": "code",
   "execution_count": 11,
   "metadata": {},
   "outputs": [
    {
     "data": {
      "text/plain": [
       "index\n",
       "IrO3_rutile-like    0.000000\n",
       "b5cgvsb16w          0.000157\n",
       "Name: IrO3_rutile-like, dtype: float64"
      ]
     },
     "execution_count": 11,
     "metadata": {},
     "output_type": "execute_result"
    }
   ],
   "source": [
    "df_dij_dft.loc[\"IrO3_rutile-like\"][df_dij_dft.loc[\"IrO3_rutile-like\"] < 0.01]"
   ]
  },
  {
   "cell_type": "markdown",
   "metadata": {},
   "source": [
    "# Create D_ij Matrix Plot"
   ]
  },
  {
   "cell_type": "code",
   "execution_count": 12,
   "metadata": {},
   "outputs": [
    {
     "name": "stdout",
     "output_type": "stream",
     "text": [
      "Writing pdf with ORCA\n"
     ]
    }
   ],
   "source": [
    "if create_plot:\n",
    "    data = plot_dij_matrix_heatmap(\n",
    "        df_dij_dft,\n",
    "        d_thresh,\n",
    "        e_thresh)\n",
    "\n",
    "    layout = go.Layout(width=1100, height=1100)\n",
    "    fig = go.Figure(data=data, layout=layout)\n",
    "\n",
    "    fig = my_plotly_plot(\n",
    "        figure=fig,\n",
    "        plot_name='irox_dij_heatmap',\n",
    "        # write_pdf_svg=True,\n",
    "        write_html=True,\n",
    "        write_png=True,\n",
    "        write_pdf=False,\n",
    "        write_svg=False,\n",
    "        )"
   ]
  },
  {
   "cell_type": "code",
   "execution_count": 13,
   "metadata": {},
   "outputs": [],
   "source": [
    "# fig"
   ]
  },
  {
   "cell_type": "markdown",
   "metadata": {},
   "source": [
    "# Analyzing systems that are duplicates"
   ]
  },
  {
   "cell_type": "code",
   "execution_count": 14,
   "metadata": {},
   "outputs": [],
   "source": [
    "df_dij_ab2 = df_dij_dft.loc[ab2_indices, ab2_indices]\n",
    "df_dij_ab3 = df_dij_dft.loc[ab3_indices, ab3_indices]"
   ]
  },
  {
   "cell_type": "code",
   "execution_count": 15,
   "metadata": {},
   "outputs": [],
   "source": [
    "def ids_to_elim(df_dij):\n",
    "    \"\"\"\n",
    "    \"\"\"\n",
    "    index_to_eliminate = []\n",
    "    for i_cnt, (name_i, row_i) in enumerate(df_dij.iterrows()):\n",
    "        cols_below_thresh = row_i[row_i < d_thresh]\n",
    "        if cols_below_thresh.shape[0] > 1:\n",
    "            df_i = df_bulk_dft.loc[cols_below_thresh.index]\n",
    "            index_to_eliminate += df_i.iloc[1:].index.tolist()\n",
    "\n",
    "    index_to_eliminate = list(set(index_to_eliminate))\n",
    "\n",
    "    return(index_to_eliminate)"
   ]
  },
  {
   "cell_type": "code",
   "execution_count": 16,
   "metadata": {},
   "outputs": [
    {
     "name": "stdout",
     "output_type": "stream",
     "text": [
      "len(ids_to_elim_ab2): 92\n",
      "len(ids_to_elim_ab3): 63\n"
     ]
    }
   ],
   "source": [
    "ids_to_elim_ab2 = ids_to_elim(df_dij_ab2)\n",
    "ids_to_elim_ab3 = ids_to_elim(df_dij_ab3)\n",
    "\n",
    "all_ids_to_elim = {\n",
    "    \"AB2\": ids_to_elim_ab2,\n",
    "    \"AB3\": ids_to_elim_ab3,\n",
    "    }\n",
    "\n",
    "\n",
    "print(\"len(ids_to_elim_ab2):\", len(ids_to_elim_ab2))\n",
    "print(\"len(ids_to_elim_ab3):\", len(ids_to_elim_ab3))"
   ]
  },
  {
   "cell_type": "raw",
   "metadata": {},
   "source": [
    "len(ids_to_elim_ab2): 43\n",
    "len(ids_to_elim_ab3): 69\n",
    "\n",
    "len(ids_to_elim_ab2): 92\n",
    "len(ids_to_elim_ab3): 103"
   ]
  },
  {
   "cell_type": "markdown",
   "metadata": {},
   "source": [
    "## Saving ids of systmes that are duplicates"
   ]
  },
  {
   "cell_type": "code",
   "execution_count": 17,
   "metadata": {},
   "outputs": [],
   "source": [
    "# Pickling data ######################################################\n",
    "import os; import pickle\n",
    "directory = \"out_data\"\n",
    "if not os.path.exists(directory): os.makedirs(directory)\n",
    "\n",
    "# TODO | Don't create this one anymore\n",
    "with open(os.path.join(directory, \"all_ids_to_elim_1.pickle\"), \"wb\") as fle:\n",
    "    pickle.dump(all_ids_to_elim, fle)\n",
    "\n",
    "with open(os.path.join(directory, \"all_ids_to_elim.pickle\"), \"wb\") as fle:\n",
    "    pickle.dump(all_ids_to_elim, fle)\n",
    "# #####################################################################"
   ]
  },
  {
   "cell_type": "code",
   "execution_count": 21,
   "metadata": {},
   "outputs": [
    {
     "data": {
      "text/html": [
       "<div>\n",
       "<style scoped>\n",
       "    .dataframe tbody tr th:only-of-type {\n",
       "        vertical-align: middle;\n",
       "    }\n",
       "\n",
       "    .dataframe tbody tr th {\n",
       "        vertical-align: top;\n",
       "    }\n",
       "\n",
       "    .dataframe thead th {\n",
       "        text-align: right;\n",
       "    }\n",
       "</style>\n",
       "<table border=\"1\" class=\"dataframe\">\n",
       "  <thead>\n",
       "    <tr style=\"text-align: right;\">\n",
       "      <th></th>\n",
       "      <th>atoms</th>\n",
       "      <th>energy_pa</th>\n",
       "      <th>form_e_chris</th>\n",
       "      <th>id</th>\n",
       "      <th>id_old</th>\n",
       "      <th>path</th>\n",
       "      <th>source</th>\n",
       "      <th>stoich</th>\n",
       "      <th>energy</th>\n",
       "      <th>dH</th>\n",
       "      <th>num_atoms</th>\n",
       "    </tr>\n",
       "    <tr>\n",
       "      <th>id_unique</th>\n",
       "      <th></th>\n",
       "      <th></th>\n",
       "      <th></th>\n",
       "      <th></th>\n",
       "      <th></th>\n",
       "      <th></th>\n",
       "      <th></th>\n",
       "      <th></th>\n",
       "      <th></th>\n",
       "      <th></th>\n",
       "      <th></th>\n",
       "    </tr>\n",
       "  </thead>\n",
       "  <tbody>\n",
       "    <tr>\n",
       "      <th>cubqbpzd7k</th>\n",
       "      <td>(Atom('O', [3.1853, 4.44115, 0.0], index=0), A...</td>\n",
       "      <td>-7.049062</td>\n",
       "      <td>NaN</td>\n",
       "      <td>NaN</td>\n",
       "      <td>473</td>\n",
       "      <td>/global/cscratch1/sd/flores12/IrOx_Project_tem...</td>\n",
       "      <td>raul</td>\n",
       "      <td>AB2</td>\n",
       "      <td>-676.709950</td>\n",
       "      <td>-0.839922</td>\n",
       "      <td>96</td>\n",
       "    </tr>\n",
       "    <tr>\n",
       "      <th>6qcdb4bov2</th>\n",
       "      <td>(Atom('O', [12.46625, 4.81539, 3.98117], index...</td>\n",
       "      <td>-7.048875</td>\n",
       "      <td>NaN</td>\n",
       "      <td>NaN</td>\n",
       "      <td>655</td>\n",
       "      <td>/global/cscratch1/sd/flores12/IrOx_Project_tem...</td>\n",
       "      <td>raul</td>\n",
       "      <td>AB2</td>\n",
       "      <td>-676.691954</td>\n",
       "      <td>-0.839734</td>\n",
       "      <td>96</td>\n",
       "    </tr>\n",
       "    <tr>\n",
       "      <th>64cg6j9any</th>\n",
       "      <td>(Atom('O', [4.43912, 4.78444, 3.20932], index=...</td>\n",
       "      <td>-7.047516</td>\n",
       "      <td>NaN</td>\n",
       "      <td>NaN</td>\n",
       "      <td>177</td>\n",
       "      <td>/scratch/users/flores12/PROJ_irox_ml_oer/ml_bu...</td>\n",
       "      <td>raul</td>\n",
       "      <td>AB2</td>\n",
       "      <td>-169.140375</td>\n",
       "      <td>-0.838375</td>\n",
       "      <td>24</td>\n",
       "    </tr>\n",
       "    <tr>\n",
       "      <th>b46enqnq8e</th>\n",
       "      <td>(Atom('O', [3.2089, 5.18819, 0.0], index=0), A...</td>\n",
       "      <td>-7.047508</td>\n",
       "      <td>NaN</td>\n",
       "      <td>NaN</td>\n",
       "      <td>162</td>\n",
       "      <td>/scratch/users/flores12/PROJ_irox_ml_oer/ml_bu...</td>\n",
       "      <td>raul</td>\n",
       "      <td>AB2</td>\n",
       "      <td>-169.140203</td>\n",
       "      <td>-0.838368</td>\n",
       "      <td>24</td>\n",
       "    </tr>\n",
       "    <tr>\n",
       "      <th>9yz2mt8hbh</th>\n",
       "      <td>(Atom('Ir', [0.0, 0.0, 0.0], index=0), Atom('I...</td>\n",
       "      <td>-7.047426</td>\n",
       "      <td>NaN</td>\n",
       "      <td>NaN</td>\n",
       "      <td>513</td>\n",
       "      <td>/global/cscratch1/sd/flores12/IrOx_Project_tem...</td>\n",
       "      <td>raul</td>\n",
       "      <td>AB2</td>\n",
       "      <td>-84.569115</td>\n",
       "      <td>-0.838286</td>\n",
       "      <td>12</td>\n",
       "    </tr>\n",
       "    <tr>\n",
       "      <th>...</th>\n",
       "      <td>...</td>\n",
       "      <td>...</td>\n",
       "      <td>...</td>\n",
       "      <td>...</td>\n",
       "      <td>...</td>\n",
       "      <td>...</td>\n",
       "      <td>...</td>\n",
       "      <td>...</td>\n",
       "      <td>...</td>\n",
       "      <td>...</td>\n",
       "      <td>...</td>\n",
       "    </tr>\n",
       "    <tr>\n",
       "      <th>brbizonjmy</th>\n",
       "      <td>(Atom('O', [0.23164, 2.83949, 1.11906], index=...</td>\n",
       "      <td>-5.477754</td>\n",
       "      <td>NaN</td>\n",
       "      <td>NaN</td>\n",
       "      <td>132</td>\n",
       "      <td>/global/cscratch1/sd/flores12/IrOx_Project_tem...</td>\n",
       "      <td>raul</td>\n",
       "      <td>AB2</td>\n",
       "      <td>-16.433262</td>\n",
       "      <td>0.731386</td>\n",
       "      <td>3</td>\n",
       "    </tr>\n",
       "    <tr>\n",
       "      <th>6l7fnyctmt</th>\n",
       "      <td>(Atom('Ir', [1.123, 5.61647, 1.123], index=0),...</td>\n",
       "      <td>-5.427689</td>\n",
       "      <td>NaN</td>\n",
       "      <td>NaN</td>\n",
       "      <td>161</td>\n",
       "      <td>/scratch/users/flores12/PROJ_irox_ml_oer/ml_bu...</td>\n",
       "      <td>raul</td>\n",
       "      <td>AB2</td>\n",
       "      <td>-130.264524</td>\n",
       "      <td>0.781452</td>\n",
       "      <td>24</td>\n",
       "    </tr>\n",
       "    <tr>\n",
       "      <th>7umymtza7a</th>\n",
       "      <td>(Atom('O', [2.95957, 0.0, 1.31196], index=0), ...</td>\n",
       "      <td>-5.416683</td>\n",
       "      <td>NaN</td>\n",
       "      <td>NaN</td>\n",
       "      <td>185</td>\n",
       "      <td>/scratch/users/flores12/PROJ_irox_ml_oer/ml_bu...</td>\n",
       "      <td>raul</td>\n",
       "      <td>AB2</td>\n",
       "      <td>-32.500095</td>\n",
       "      <td>0.792458</td>\n",
       "      <td>6</td>\n",
       "    </tr>\n",
       "    <tr>\n",
       "      <th>7am4vwzi7p</th>\n",
       "      <td>(Atom('O', [1.26709, 1.26709, 3.80126], index=...</td>\n",
       "      <td>-4.978113</td>\n",
       "      <td>NaN</td>\n",
       "      <td>NaN</td>\n",
       "      <td>385</td>\n",
       "      <td>/global/cscratch1/sd/flores12/IrOx_Project_tem...</td>\n",
       "      <td>raul</td>\n",
       "      <td>AB2</td>\n",
       "      <td>-59.737356</td>\n",
       "      <td>1.231027</td>\n",
       "      <td>12</td>\n",
       "    </tr>\n",
       "    <tr>\n",
       "      <th>75xkcazgmi</th>\n",
       "      <td>(Atom('O', [0.78112, 5.46787, 2.34337], index=...</td>\n",
       "      <td>-4.464245</td>\n",
       "      <td>NaN</td>\n",
       "      <td>NaN</td>\n",
       "      <td>268</td>\n",
       "      <td>/scratch/users/flores12/PROJ_irox_ml_oer/ml_bu...</td>\n",
       "      <td>raul</td>\n",
       "      <td>AB2</td>\n",
       "      <td>-107.141873</td>\n",
       "      <td>1.744896</td>\n",
       "      <td>24</td>\n",
       "    </tr>\n",
       "  </tbody>\n",
       "</table>\n",
       "<p>488 rows × 11 columns</p>\n",
       "</div>"
      ],
      "text/plain": [
       "                                                        atoms  energy_pa  \\\n",
       "id_unique                                                                  \n",
       "cubqbpzd7k  (Atom('O', [3.1853, 4.44115, 0.0], index=0), A...  -7.049062   \n",
       "6qcdb4bov2  (Atom('O', [12.46625, 4.81539, 3.98117], index...  -7.048875   \n",
       "64cg6j9any  (Atom('O', [4.43912, 4.78444, 3.20932], index=...  -7.047516   \n",
       "b46enqnq8e  (Atom('O', [3.2089, 5.18819, 0.0], index=0), A...  -7.047508   \n",
       "9yz2mt8hbh  (Atom('Ir', [0.0, 0.0, 0.0], index=0), Atom('I...  -7.047426   \n",
       "...                                                       ...        ...   \n",
       "brbizonjmy  (Atom('O', [0.23164, 2.83949, 1.11906], index=...  -5.477754   \n",
       "6l7fnyctmt  (Atom('Ir', [1.123, 5.61647, 1.123], index=0),...  -5.427689   \n",
       "7umymtza7a  (Atom('O', [2.95957, 0.0, 1.31196], index=0), ...  -5.416683   \n",
       "7am4vwzi7p  (Atom('O', [1.26709, 1.26709, 3.80126], index=...  -4.978113   \n",
       "75xkcazgmi  (Atom('O', [0.78112, 5.46787, 2.34337], index=...  -4.464245   \n",
       "\n",
       "            form_e_chris   id id_old  \\\n",
       "id_unique                              \n",
       "cubqbpzd7k           NaN  NaN    473   \n",
       "6qcdb4bov2           NaN  NaN    655   \n",
       "64cg6j9any           NaN  NaN    177   \n",
       "b46enqnq8e           NaN  NaN    162   \n",
       "9yz2mt8hbh           NaN  NaN    513   \n",
       "...                  ...  ...    ...   \n",
       "brbizonjmy           NaN  NaN    132   \n",
       "6l7fnyctmt           NaN  NaN    161   \n",
       "7umymtza7a           NaN  NaN    185   \n",
       "7am4vwzi7p           NaN  NaN    385   \n",
       "75xkcazgmi           NaN  NaN    268   \n",
       "\n",
       "                                                         path source stoich  \\\n",
       "id_unique                                                                     \n",
       "cubqbpzd7k  /global/cscratch1/sd/flores12/IrOx_Project_tem...   raul    AB2   \n",
       "6qcdb4bov2  /global/cscratch1/sd/flores12/IrOx_Project_tem...   raul    AB2   \n",
       "64cg6j9any  /scratch/users/flores12/PROJ_irox_ml_oer/ml_bu...   raul    AB2   \n",
       "b46enqnq8e  /scratch/users/flores12/PROJ_irox_ml_oer/ml_bu...   raul    AB2   \n",
       "9yz2mt8hbh  /global/cscratch1/sd/flores12/IrOx_Project_tem...   raul    AB2   \n",
       "...                                                       ...    ...    ...   \n",
       "brbizonjmy  /global/cscratch1/sd/flores12/IrOx_Project_tem...   raul    AB2   \n",
       "6l7fnyctmt  /scratch/users/flores12/PROJ_irox_ml_oer/ml_bu...   raul    AB2   \n",
       "7umymtza7a  /scratch/users/flores12/PROJ_irox_ml_oer/ml_bu...   raul    AB2   \n",
       "7am4vwzi7p  /global/cscratch1/sd/flores12/IrOx_Project_tem...   raul    AB2   \n",
       "75xkcazgmi  /scratch/users/flores12/PROJ_irox_ml_oer/ml_bu...   raul    AB2   \n",
       "\n",
       "                energy        dH  num_atoms  \n",
       "id_unique                                    \n",
       "cubqbpzd7k -676.709950 -0.839922         96  \n",
       "6qcdb4bov2 -676.691954 -0.839734         96  \n",
       "64cg6j9any -169.140375 -0.838375         24  \n",
       "b46enqnq8e -169.140203 -0.838368         24  \n",
       "9yz2mt8hbh  -84.569115 -0.838286         12  \n",
       "...                ...       ...        ...  \n",
       "brbizonjmy  -16.433262  0.731386          3  \n",
       "6l7fnyctmt -130.264524  0.781452         24  \n",
       "7umymtza7a  -32.500095  0.792458          6  \n",
       "7am4vwzi7p  -59.737356  1.231027         12  \n",
       "75xkcazgmi -107.141873  1.744896         24  \n",
       "\n",
       "[488 rows x 11 columns]"
      ]
     },
     "execution_count": 21,
     "metadata": {},
     "output_type": "execute_result"
    }
   ],
   "source": [
    "df_bulk_dft[df_bulk_dft.stoich == \"AB2\"].sort_values(\"dH\")"
   ]
  },
  {
   "cell_type": "code",
   "execution_count": 22,
   "metadata": {},
   "outputs": [
    {
     "data": {
      "text/plain": [
       "0.044773534305960316"
      ]
     },
     "execution_count": 22,
     "metadata": {},
     "output_type": "execute_result"
    }
   ],
   "source": [
    "# df_dij_ab3.loc[\"8p8evt9pcg\", \"zimixdvdxd\"]\n",
    "\n",
    "df_dij_ab3.loc[\"xw9y6rbkxr\", \"zimixdvdxd\"]"
   ]
  },
  {
   "cell_type": "code",
   "execution_count": 19,
   "metadata": {},
   "outputs": [
    {
     "ename": "AssertionError",
     "evalue": "",
     "output_type": "error",
     "traceback": [
      "\u001b[0;31m---------------------------------------------------------------------------\u001b[0m",
      "\u001b[0;31mAssertionError\u001b[0m                            Traceback (most recent call last)",
      "\u001b[0;32m<ipython-input-19-a871fdc9ebee>\u001b[0m in \u001b[0;36m<module>\u001b[0;34m\u001b[0m\n\u001b[0;32m----> 1\u001b[0;31m \u001b[0;32massert\u001b[0m \u001b[0;32mFalse\u001b[0m\u001b[0;34m\u001b[0m\u001b[0;34m\u001b[0m\u001b[0m\n\u001b[0m",
      "\u001b[0;31mAssertionError\u001b[0m: "
     ]
    }
   ],
   "source": [
    "assert False"
   ]
  },
  {
   "cell_type": "markdown",
   "metadata": {},
   "source": [
    "# TEST | TEST | TEST"
   ]
  },
  {
   "cell_type": "code",
   "execution_count": null,
   "metadata": {},
   "outputs": [],
   "source": [
    "# df_dij_dft.loc[\"7h7yns937p\"]\n",
    "df_dij_dft.shape\n",
    "\n",
    "\"7h7yns937p\" in df_dij_dft.index"
   ]
  },
  {
   "cell_type": "code",
   "execution_count": null,
   "metadata": {
    "lines_to_next_cell": 0
   },
   "outputs": [],
   "source": [
    "\n",
    "ids_to_elim_ab3 = all_ids_to_elim[\"AB3\"]\n",
    "\n",
    "print(len(ab3_indices))\n",
    "\n",
    "unique_ids_ab3 = [i for i in ab3_indices if i not in ids_to_elim_ab3]\n",
    "\n",
    "data_dict_list = []\n",
    "for id_i in unique_ids_ab3:\n",
    "    if id_i in df_dij_dft.index:\n",
    "        num_duplicates = len(df_dij_dft.loc[id_i][df_dij_dft.loc[id_i] < d_thresh]) - 1,\n",
    "        dict_i = {\n",
    "            \"id_unique\": id_i,\n",
    "            \"num_duplicates\": num_duplicates[0],\n",
    "            }\n",
    "        data_dict_list.append(dict_i)\n",
    "    else:\n",
    "        pass\n",
    "\n",
    "\n",
    "df_tmp = pd.DataFrame(data_dict_list)\n",
    "\n",
    "df_tmp.sort_values(\"num_duplicates\", ascending=False)\n",
    "# data_dict_list"
   ]
  },
  {
   "cell_type": "code",
   "execution_count": null,
   "metadata": {
    "lines_to_next_cell": 2
   },
   "outputs": [],
   "source": []
  },
  {
   "cell_type": "code",
   "execution_count": null,
   "metadata": {},
   "outputs": [],
   "source": [
    "# TEMP\n",
    "# df_dij_dft = df_dij_dft.loc[all_ids_to_elim, all_ids_to_elim]\n",
    "\n",
    "\n",
    "ids_dict_master = {}\n",
    "for i_cnt, (name_i, row_i) in enumerate(df_dij_dft.iterrows()):\n",
    "    # tmp = row_i[row_i < d_thresh]\n",
    "    tmp = row_i[row_i < d_thresh].drop(name_i)\n",
    "    df_i = df_bulk_dft.loc[tmp.index]\n",
    "\n",
    "    # ids_dict_list_i = {i_cnt: df_i.index.sort_values().tolist()}\n",
    "    # ids_dict_lists.append(ids_dict_list_i)\n",
    "    if len(df_i) > 0:\n",
    "        equiv_ids_list = df_i.index.sort_values().tolist()\n",
    "        id_joined_str = \"_\".join(equiv_ids_list)\n",
    "\n",
    "        # ids_dict_master[i_cnt] = df_i.index.sort_values().tolist()\n",
    "        ids_dict_master[name_i] = {\n",
    "            \"id_joined_str\": id_joined_str,\n",
    "            \"equiv_ids_list\": equiv_ids_list,\n",
    "            }\n",
    "\n",
    "# #############################################################################\n",
    "# df_i.index.sort_values().tolist()\n",
    "\n",
    "df_test = pd.DataFrame(ids_dict_master,\n",
    "#     index=ids_dict_master.keys()\n",
    "#     index=[\"id_str_joined\"],\n",
    "    ).T\n",
    "\n",
    "\n",
    "# df_test[\"id_str_joined\"].unique().shape\n",
    "\n",
    "df_test"
   ]
  },
  {
   "cell_type": "raw",
   "metadata": {},
   "source": [
    "\n",
    "\n",
    "\n"
   ]
  },
  {
   "cell_type": "code",
   "execution_count": null,
   "metadata": {},
   "outputs": [],
   "source": [
    "df_dij_dft.loc[\"8p8evt9pcg\", \"zimixdvdxd\"]"
   ]
  },
  {
   "cell_type": "code",
   "execution_count": null,
   "metadata": {},
   "outputs": [],
   "source": [
    "# ids_dict_master\n",
    "# tmp_list = []\n",
    "# for key_i, val_i in ids_dict_master.items():\n",
    "#     for key_j, val_j in ids_dict_master.items():\n",
    "\n",
    "#         if key_i == key_j:\n",
    "#             continue\n",
    "\n",
    "#         print(key_i, key_j)\n",
    "\n",
    "#         if val_j == val_i:\n",
    "#         else:\n",
    "#             tmp_list.append(key_i)\n",
    "\n",
    "# ids_dict_master\n",
    "\n",
    "# if val_j == val_i:\n",
    "\n",
    "# len(all_ids_to_elim)\n",
    "\n",
    "\n",
    "# print(len([i for i in all_ids_to_elim if i in ab2_indices]))\n",
    "# print(len([i for i in all_ids_to_elim if i in ab3_indices]))\n",
    "\n",
    "# # np.fill_diagonal(df_dij_dft.values, np.nan)\n",
    "# # e_thresh = 0.01\n",
    "# use_energy_simil = False\n",
    "\n",
    "# trouble_ids_list = []\n",
    "\n",
    "# unique_id_list = []\n",
    "# all_ids_to_elim = []\n",
    "# for i_cnt, (name_i, row_i) in enumerate(df_dij_dft.iterrows()):\n",
    "#     tmp = row_i[row_i < d_thresh]\n",
    "\n",
    "#     # if len(tmp) > 1:\n",
    "#     #     break\n",
    "\n",
    "#     if tmp.shape[0] == 1:\n",
    "#         mess = \"No other structures close to this one\"\n",
    "#         # print(mess)\n",
    "#         unique_id_list.append(tmp.index[0])\n",
    "#     else:\n",
    "#         df_i = df_bulk_dft.loc[tmp.index]\n",
    "\n",
    "#         # if \"8k7expx2bp\" in df_i.index.tolist():\n",
    "#         # if \"6s648e8s6p\" in df_i.index.tolist():\n",
    "#         # if \"b5cgvsb16w\" in df_i.index.tolist():\n",
    "#         #     display(df_i)\n",
    "\n",
    "#         e_range = abs(df_i[\"energy_pa\"].min() - df_i[\"energy_pa\"].max())\n",
    "#         e_thresh_u = df_i.loc[name_i][\"energy_pa\"] + e_thresh\n",
    "#         e_thresh_l = df_i.loc[name_i][\"energy_pa\"] - e_thresh\n",
    "\n",
    "#         # Using enery similarity criteria\n",
    "#         if use_energy_simil:\n",
    "#             df_j = df_i[\n",
    "#                 (df_i[\"energy_pa\"] < e_thresh_u) &\n",
    "#                 (df_i[\"energy_pa\"] > e_thresh_l)]\n",
    "#             index_to_keep_i = df_j.sort_values(\"energy_pa\").iloc[0].name\n",
    "#             index_to_eliminate = df_j.iloc[1:].index.tolist()\n",
    "#         else:\n",
    "#             index_to_keep_i = df_i.sort_values(\"energy_pa\").iloc[0].name\n",
    "#             index_to_eliminate = df_i.iloc[1:].index.tolist()\n",
    "\n",
    "\n",
    "#         all_ids_to_elim += index_to_eliminate\n",
    "\n",
    "#         if e_range > e_thresh:\n",
    "#             # display(df_i)\n",
    "#             df_i_tmp = df_i\n",
    "\n",
    "#             ids_tmp = df_i_tmp.index.tolist()\n",
    "#             trouble_ids_list += ids_tmp\n",
    "\n",
    "#             # print(\"Energies span greater range than 'e_thresh'\")\n",
    "#             # print(e_range)\n",
    "#             # print(\"\")\n",
    "\n",
    "# all_ids_to_elim = list(set(all_ids_to_elim))\n",
    "\n",
    "# trouble_ids_list = list(set(trouble_ids_list))\n",
    "\n",
    "# #############################################################################\n",
    "# Drop ab2 stoicheomtry\n",
    "\n",
    "# df_dij_dft = df_dij_dft.drop(labels=ab2_indices, axis=0)\n",
    "# df_dij_dft = df_dij_dft.drop(labels=ab2_indices, axis=1)\n",
    "\n",
    "# dft_indices = ab2_indices + ab3_indices\n",
    "# non_dft_indices = [i for i in df_dij_dft.index if i not in dft_indices]"
   ]
  }
 ],
 "metadata": {
  "jupytext": {
   "formats": "ipynb,py:light"
  },
  "kernelspec": {
   "display_name": "Python [conda env:PROJ_IrOx_Active_Learning_OER]",
   "language": "python",
   "name": "conda-env-PROJ_IrOx_Active_Learning_OER-py"
  },
  "language_info": {
   "codemirror_mode": {
    "name": "ipython",
    "version": 3
   },
   "file_extension": ".py",
   "mimetype": "text/x-python",
   "name": "python",
   "nbconvert_exporter": "python",
   "pygments_lexer": "ipython3",
   "version": "3.6.7"
  }
 },
 "nbformat": 4,
 "nbformat_minor": 4
}
