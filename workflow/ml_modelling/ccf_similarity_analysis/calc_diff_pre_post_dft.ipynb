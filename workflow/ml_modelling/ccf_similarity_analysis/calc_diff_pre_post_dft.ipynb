{
 "cells": [
  {
   "cell_type": "markdown",
   "metadata": {},
   "source": [
    "# Import Modules"
   ],
   "execution_count": null,
   "outputs": []
  },
  {
   "cell_type": "code",
   "execution_count": null,
   "metadata": {},
   "outputs": [],
   "source": [
    "import os\n",
    "print(os.getcwd())\n",
    "import sys\n",
    "\n",
    "import pickle\n",
    "\n",
    "import numpy as np\n",
    "\n",
    "import pandas as pd\n",
    "\n",
    "sys.path.insert(0, os.path.join(os.environ[\"PROJ_irox\"], \"data\"))\n",
    "from proj_data_irox import (\n",
    "    static_irox_structures_path,\n",
    "    bulk_dft_data_path,\n",
    "    unique_ids_path,\n",
    "    )\n",
    "\n",
    "sys.path.insert(0, os.path.join(os.environ[\"PROJ_irox\"], \"workflow/ml_modelling\"))\n",
    "\n",
    "from StructurePrototypeAnalysisPackage.ccf import struc2ccf"
   ]
  },
  {
   "cell_type": "code",
   "execution_count": null,
   "metadata": {},
   "outputs": [],
   "source": [
    "%%capture\n",
    "\n",
    "from ml_methods import get_ml_dataframes\n",
    "\n",
    "DATAFRAMES = get_ml_dataframes(\n",
    "    names=[\n",
    "        'bulk_dft_data_path',\n",
    "        'unique_ids_path',\n",
    "        'prototypes_data_path',\n",
    "        'static_irox_structures_path',\n",
    "        'static_irox_structures_kirsten_path',\n",
    "        'oqmd_irox_data_path',\n",
    "        'df_features_pre_opt_path',\n",
    "        'df_features_pre_opt_kirsten_path',\n",
    "        'df_features_post_opt_path',\n",
    "        'oer_bulk_structures_path',\n",
    "        'df_ccf_path',\n",
    "        'df_dij_path',\n",
    "        'ids_to_discard__too_many_atoms_path',\n",
    "        ]\n",
    "    )\n",
    "\n",
    "df_dij = DATAFRAMES[\"df_dij\"]"
   ]
  },
  {
   "cell_type": "markdown",
   "metadata": {},
   "source": [
    "# Script Inputs"
   ],
   "execution_count": null,
   "outputs": []
  },
  {
   "cell_type": "code",
   "execution_count": null,
   "metadata": {},
   "outputs": [],
   "source": [
    "r_cut_off = 10.\n",
    "r_vector = np.arange(1, 10, 0.02)\n",
    "\n",
    "mean_density = 0.08407356"
   ]
  },
  {
   "cell_type": "code",
   "execution_count": null,
   "metadata": {},
   "outputs": [],
   "source": [
    "directory = \"out_data\"\n",
    "if not os.path.exists(directory):\n",
    "    os.makedirs(directory)"
   ]
  },
  {
   "cell_type": "markdown",
   "metadata": {},
   "source": [
    "# Read Data"
   ],
   "execution_count": null,
   "outputs": []
  },
  {
   "cell_type": "code",
   "execution_count": null,
   "metadata": {},
   "outputs": [],
   "source": [
    "with open(static_irox_structures_path, \"rb\") as fle:\n",
    "    df_static_irox = pickle.load(fle)\n",
    "\n",
    "with open(bulk_dft_data_path, \"rb\") as fle:\n",
    "    df_bulk_dft = pickle.load(fle)\n",
    "    df_bulk_dft = df_bulk_dft[df_bulk_dft.source == \"raul\"]\n",
    "\n",
    "df_ids = pd.read_csv(unique_ids_path)"
   ]
  },
  {
   "cell_type": "code",
   "execution_count": null,
   "metadata": {},
   "outputs": [],
   "source": [
    "df_static_irox = df_static_irox[df_static_irox.stoich == \"AB3\"]\n",
    "\n",
    "df_bulk_dft = df_bulk_dft[df_bulk_dft.stoich == \"AB3\"]"
   ]
  },
  {
   "cell_type": "code",
   "execution_count": null,
   "metadata": {},
   "outputs": [],
   "source": [
    "path_i = os.path.join(\n",
    "    os.environ[\"PROJ_irox\"],\n",
    "    \"workflow/ml_modelling/00_ml_workflow/191102_new_workflow/00_abx_al_runs/out_data\",\n",
    "    \"duplicates.pickle\")\n",
    "\n",
    "import pickle; import os\n",
    "with open(path_i, \"rb\") as fle:\n",
    "    duplicates = pickle.load(fle)\n",
    "\n",
    "all_duplicates = duplicates[\"AB2\"] + duplicates[\"AB3\"]"
   ]
  },
  {
   "cell_type": "code",
   "execution_count": null,
   "metadata": {},
   "outputs": [],
   "source": [
    "ordered_dft_indices = df_bulk_dft.sort_values(\"dH\").index\n",
    "\n",
    "ordered_wo_dupl = []\n",
    "for id_i in ordered_dft_indices:\n",
    "\n",
    "    # if id_i not in ordered_wo_dupl:\n",
    "\n",
    "    ordered_wo_dupl.append(id_i)\n",
    "\n",
    "len(ordered_wo_dupl)"
   ]
  },
  {
   "cell_type": "code",
   "execution_count": null,
   "metadata": {},
   "outputs": [],
   "source": [
    "df_static_irox = df_static_irox[df_static_irox.index.isin(ordered_wo_dupl)]\n",
    "\n",
    "df_static_irox = df_static_irox.reindex(ordered_wo_dupl)"
   ]
  },
  {
   "cell_type": "code",
   "execution_count": null,
   "metadata": {},
   "outputs": [],
   "source": [
    "df_static_irox = df_static_irox.iloc[0:20]"
   ]
  },
  {
   "cell_type": "code",
   "execution_count": null,
   "metadata": {},
   "outputs": [],
   "source": [
    "tmp_list = []\n",
    "\n",
    "data_list = []\n",
    "for i_cnt, (id_i, row_i) in enumerate(df_static_irox.iterrows()):\n",
    "    print(i_cnt)\n",
    "    \n",
    "    data_row_i = dict()\n",
    "\n",
    "    pre_id = row_i.static_id\n",
    "    post_id = row_i.name\n",
    "\n",
    "    data_row_i[\"pre_id\"] = pre_id\n",
    "    data_row_i[\"post_id\"] = post_id\n",
    "\n",
    "    pre_atoms = row_i.atoms\n",
    "    post_atoms = df_bulk_dft.loc[post_id].atoms\n",
    "\n",
    "    pre_atoms.write(\"out_data/pre_post_structures/\" + str(i_cnt).zfill(2) + \"_\" + id_i + \"_pre.cif\")\n",
    "    post_atoms.write(\"out_data/pre_post_structures/\" + str(i_cnt).zfill(2) + \"_\" + id_i + \"_post.cif\")\n",
    "\n",
    "    try:\n",
    "        d_ij = df_dij.loc[pre_id, post_id]\n",
    "        tmp_list.append(d_ij)\n",
    "\n",
    "        data_row_i[\"dij\"] = d_ij\n",
    "    except:\n",
    "        pass\n",
    "    \n",
    "    data_list.append(data_row_i)"
   ]
  },
  {
   "cell_type": "code",
   "execution_count": null,
   "metadata": {},
   "outputs": [],
   "source": [
    "{\n",
    "    '8p8evt9pcg': 0.381740,\n",
    "    'macixavwv3': 0.128178,\n",
    "    'xwvhnh9sx4': 0.461092,\n",
    "    '9lmkmh8s8r': 0.311769,\n",
    "    '9txdvicqcf': 0.354713,\n",
    "    '8k7expx2bp': 0.282011,\n",
    "    'vp7gxqv191': 0.348111,\n",
    "    'xg6exl6rmp': 0.496800,\n",
    "    }"
   ]
  },
  {
   "cell_type": "code",
   "execution_count": null,
   "metadata": {},
   "outputs": [],
   "source": [
    "df = pd.DataFrame(data_list)\n",
    "\n"
   ]
  },
  {
   "cell_type": "code",
   "execution_count": null,
   "metadata": {},
   "outputs": [],
   "source": [
    "df_static_irox.loc[\"8p8evt9pcg\"]\n",
    "\n",
    "df_dij.loc[\n",
    "    \"8p8evt9pcg\",\n",
    "    \"poboleni_97\",   \n",
    "    ]"
   ]
  },
  {
   "cell_type": "code",
   "execution_count": null,
   "metadata": {},
   "outputs": [],
   "source": [
    "import chart_studio.plotly as py\n",
    "import plotly.graph_objs as go\n",
    "\n",
    "trace = go.Scatter(\n",
    "\n",
    "    # df.dij\n",
    "    # df.post_id\n",
    "\n",
    "    # x=x_array,\n",
    "    y=df.dij,\n",
    "    mode=\"markers\",\n",
    "    text=df.post_id,\n",
    "    hovertext=df.post_id,\n",
    "\n",
    "    marker=dict(\n",
    "        symbol=\"circle\",\n",
    "        color='blue',\n",
    "        # colorscale='Viridis',\n",
    "        colorbar=dict(thickness=20),\n",
    "        size=12,\n",
    "        line=dict(\n",
    "            color='black',\n",
    "            width=2\n",
    "            )\n",
    "        ),\n",
    "\n",
    "    )\n",
    "\n",
    "data = [trace]\n",
    "\n",
    "fig = go.Figure(data=data)\n",
    "fig.show()"
   ]
  },
  {
   "cell_type": "code",
   "execution_count": null,
   "metadata": {},
   "outputs": [],
   "source": [
    "# pre_atoms.write(\"out_data/tmp_pre.cif\")\n",
    "# post_atoms.write(\"out_data/tmp_post.cif\")"
   ]
  },
  {
   "cell_type": "code",
   "execution_count": null,
   "metadata": {},
   "outputs": [],
   "source": [
    "# df_static_irox = df_static_irox.loc[[\"8p8evt9pcg\"]]\n",
    "\n",
    "# df_static_irox\n",
    "\n",
    "# assert False"
   ]
  },
  {
   "cell_type": "code",
   "execution_count": null,
   "metadata": {},
   "outputs": [],
   "source": [
    "# post_atoms\n",
    "\n",
    "# row_i\n",
    "\n",
    "# df_bulk_dft.loc[post_id]"
   ]
  }
 ],
 "metadata": {
  "kernelspec": {
   "display_name": "Python [conda env:PROJ_IrOx_Active_Learning_OER]",
   "language": "python",
   "name": "conda-env-PROJ_IrOx_Active_Learning_OER-py"
  },
  "language_info": {
   "codemirror_mode": {
    "name": "ipython",
    "version": 3
   },
   "file_extension": ".py",
   "mimetype": "text/x-python",
   "name": "python",
   "nbconvert_exporter": "python",
   "pygments_lexer": "ipython3",
   "version": "3.6.9"
  }
 },
 "nbformat": 4,
 "nbformat_minor": 4
}
