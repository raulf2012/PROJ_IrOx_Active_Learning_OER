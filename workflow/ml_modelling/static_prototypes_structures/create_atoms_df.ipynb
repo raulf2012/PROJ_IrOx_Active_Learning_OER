{
 "cells": [
  {
   "cell_type": "markdown",
   "metadata": {},
   "source": [
    "# Parse Atoms Objects for IrO2 and IrO3 Unique Prototypes\n",
    "---"
   ]
  },
  {
   "cell_type": "code",
   "execution_count": 1,
   "metadata": {},
   "outputs": [],
   "source": [
    "%%capture\n",
    "%load_ext autoreload\n",
    "%autoreload 2"
   ]
  },
  {
   "cell_type": "code",
   "execution_count": 2,
   "metadata": {},
   "outputs": [],
   "source": [
    "import os\n",
    "import sys\n",
    "\n",
    "import pickle\n",
    "\n",
    "\n",
    "import numpy as np\n",
    "\n",
    "from ase import io\n",
    "from ase.visualize import view\n",
    "import pandas as pd\n",
    "\n",
    "\n",
    "import bulk_enumerator as be\n",
    "import time\n",
    "\n",
    "from pymatgen.io.vasp.inputs import Poscar\n",
    "from pymatgen.io.ase import AseAtomsAdaptor\n",
    "\n",
    "# pd.set_option('display.max_rows', None)"
   ]
  },
  {
   "cell_type": "markdown",
   "metadata": {},
   "source": [
    "# Reading Structures"
   ]
  },
  {
   "cell_type": "code",
   "execution_count": 4,
   "metadata": {},
   "outputs": [],
   "source": [
    "root_path = os.path.join(\n",
    "    os.environ[\"PROJ_DATA\"],\n",
    "    \"04_IrOx_surfaces_OER/ml_bulk_static_preopt_structures\")\n",
    "\n",
    "\n",
    "master_list = []\n",
    "for root, dirs, files in os.walk(root_path):\n",
    "    if \".ipynb_checkpoints\" in root:\n",
    "        continue\n",
    "\n",
    "    if \"iro2\" in root:\n",
    "        stoich_i = \"AB2\"\n",
    "    elif \"iro3\" in root:\n",
    "        stoich_i = \"AB3\"\n",
    "    else:\n",
    "        stoich_i = None\n",
    "\n",
    "    if \"oqmd\" in root:\n",
    "        source_i = \"oqmd\"\n",
    "    else:\n",
    "        source_i = \"chris\"\n",
    "\n",
    "    for file_i in files:\n",
    "        if \".POSCAR\" in file_i or \".cif\" in file_i:\n",
    "            id_i = file_i.split(\"_\")[0]\n",
    "\n",
    "            path_i = root.replace(\"/mnt/c/Users/raulf/Dropbox/01_norskov/00_projects/\", \"\")\n",
    "\n",
    "            atoms_i = io.read(\n",
    "                os.path.join(root, file_i))\n",
    "\n",
    "            sys_i = {\n",
    "                \"id_old\": int(id_i),\n",
    "                \"atoms\": atoms_i,\n",
    "                \"stoich\": stoich_i,\n",
    "                \"path\": path_i,\n",
    "                \"source\": source_i,\n",
    "                }\n",
    "            master_list.append(sys_i)\n",
    "\n",
    "df_struct = pd.DataFrame(master_list)"
   ]
  },
  {
   "cell_type": "markdown",
   "metadata": {},
   "source": [
    "# Setting Unique ID Tag"
   ]
  },
  {
   "cell_type": "code",
   "execution_count": 5,
   "metadata": {},
   "outputs": [],
   "source": [
    "path_i = os.path.join(\n",
    "    os.environ[\"PROJ_irox\"],\n",
    "    \"data/ml_irox_data\",\n",
    "    \"unique_ids.csv\")\n",
    "df_id = pd.read_csv(path_i)\n",
    "\n",
    "\n",
    "id_mapp_iro2 = dict(zip(\n",
    "    df_id[df_id[\"stoich\"] == \"AB2\"][\"id\"],\n",
    "    df_id[df_id[\"stoich\"] == \"AB2\"][\"unique_ids\"]))\n",
    "\n",
    "id_mapp_iro3 = dict(zip(\n",
    "    df_id[df_id[\"stoich\"] == \"AB3\"][\"id\"],\n",
    "    df_id[df_id[\"stoich\"] == \"AB3\"][\"unique_ids\"]))"
   ]
  },
  {
   "cell_type": "code",
   "execution_count": 6,
   "metadata": {},
   "outputs": [],
   "source": [
    "def method(row_i):\n",
    "    id_i = row_i[\"id_old\"]\n",
    "\n",
    "    if row_i[\"stoich\"] == \"AB2\":\n",
    "        unique_id_i = id_mapp_iro2[id_i]\n",
    "    elif row_i[\"stoich\"] == \"AB3\":\n",
    "        unique_id_i = id_mapp_iro3[id_i]\n",
    "    else:\n",
    "        print(\"BADDDDD!!!!! fsdfjisajids\")\n",
    "        unique_id_i = None\n",
    "\n",
    "    return(unique_id_i)\n",
    "\n",
    "df_struct[\"id_unique\"] = df_struct.apply(\n",
    "    method,\n",
    "    axis=1,\n",
    "    )\n",
    "\n",
    "df_struct.set_index(\"id_unique\", inplace=True)"
   ]
  },
  {
   "cell_type": "markdown",
   "metadata": {},
   "source": [
    "# Adding secondary index row that is unique and separate from the regular id_unique"
   ]
  },
  {
   "cell_type": "code",
   "execution_count": 7,
   "metadata": {},
   "outputs": [],
   "source": [
    "df_static_unique_ids = pd.read_csv(\"static_unique_ids.csv\")\n",
    "id_mapp_static_unique = dict(zip(\n",
    "    df_static_unique_ids[\"unique_ids\"],\n",
    "    df_static_unique_ids[\"static_unique_ids\"]))\n",
    "\n",
    "def method(row_i):\n",
    "    id_i = row_i.name\n",
    "    static_id_i = id_mapp_static_unique[id_i]\n",
    "    return(static_id_i)\n",
    "\n",
    "df_struct[\"static_id\"] = df_struct.apply(\n",
    "    method,\n",
    "    axis=1,\n",
    "    )\n",
    "\n",
    "# df_struct.set_index(\"id_unique\", inplace=True)"
   ]
  },
  {
   "cell_type": "code",
   "execution_count": 8,
   "metadata": {},
   "outputs": [
    {
     "data": {
      "text/html": [
       "<div>\n",
       "<style scoped>\n",
       "    .dataframe tbody tr th:only-of-type {\n",
       "        vertical-align: middle;\n",
       "    }\n",
       "\n",
       "    .dataframe tbody tr th {\n",
       "        vertical-align: top;\n",
       "    }\n",
       "\n",
       "    .dataframe thead th {\n",
       "        text-align: right;\n",
       "    }\n",
       "</style>\n",
       "<table border=\"1\" class=\"dataframe\">\n",
       "  <thead>\n",
       "    <tr style=\"text-align: right;\">\n",
       "      <th></th>\n",
       "      <th>id_old</th>\n",
       "      <th>atoms</th>\n",
       "      <th>stoich</th>\n",
       "      <th>path</th>\n",
       "      <th>source</th>\n",
       "      <th>static_id</th>\n",
       "    </tr>\n",
       "    <tr>\n",
       "      <th>id_unique</th>\n",
       "      <th></th>\n",
       "      <th></th>\n",
       "      <th></th>\n",
       "      <th></th>\n",
       "      <th></th>\n",
       "      <th></th>\n",
       "    </tr>\n",
       "  </thead>\n",
       "  <tbody>\n",
       "    <tr>\n",
       "      <th>9k7pvd7izl</th>\n",
       "      <td>158</td>\n",
       "      <td>(Atom('O', [16.791656436, 1.4750354304000002, ...</td>\n",
       "      <td>AB3</td>\n",
       "      <td>/home/raulf2012/Dropbox/01_norskov/PROJECT_DAT...</td>\n",
       "      <td>chris</td>\n",
       "      <td>liwigegu_28</td>\n",
       "    </tr>\n",
       "    <tr>\n",
       "      <th>8y6sck62xf</th>\n",
       "      <td>82</td>\n",
       "      <td>(Atom('Ir', [0.0, 0.0, 0.0], tag=0, index=0), ...</td>\n",
       "      <td>AB3</td>\n",
       "      <td>/home/raulf2012/Dropbox/01_norskov/PROJECT_DAT...</td>\n",
       "      <td>chris</td>\n",
       "      <td>nudusosi_51</td>\n",
       "    </tr>\n",
       "    <tr>\n",
       "      <th>nin1v1npba</th>\n",
       "      <td>63</td>\n",
       "      <td>(Atom('O', [3.252712270650001, 4.7842089891583...</td>\n",
       "      <td>AB3</td>\n",
       "      <td>/home/raulf2012/Dropbox/01_norskov/PROJECT_DAT...</td>\n",
       "      <td>chris</td>\n",
       "      <td>hipugusu_53</td>\n",
       "    </tr>\n",
       "    <tr>\n",
       "      <th>zimuby8uzj</th>\n",
       "      <td>194</td>\n",
       "      <td>(Atom('O', [5.8182013375, 5.265500112, 6.17929...</td>\n",
       "      <td>AB3</td>\n",
       "      <td>/home/raulf2012/Dropbox/01_norskov/PROJECT_DAT...</td>\n",
       "      <td>chris</td>\n",
       "      <td>lubepata_68</td>\n",
       "    </tr>\n",
       "    <tr>\n",
       "      <th>7lxicqnrzy</th>\n",
       "      <td>209</td>\n",
       "      <td>(Atom('Ir', [0.0, 0.0, 0.0], tag=0, index=0), ...</td>\n",
       "      <td>AB3</td>\n",
       "      <td>/home/raulf2012/Dropbox/01_norskov/PROJECT_DAT...</td>\n",
       "      <td>chris</td>\n",
       "      <td>dudebino_86</td>\n",
       "    </tr>\n",
       "  </tbody>\n",
       "</table>\n",
       "</div>"
      ],
      "text/plain": [
       "            id_old                                              atoms stoich  \\\n",
       "id_unique                                                                      \n",
       "9k7pvd7izl     158  (Atom('O', [16.791656436, 1.4750354304000002, ...    AB3   \n",
       "8y6sck62xf      82  (Atom('Ir', [0.0, 0.0, 0.0], tag=0, index=0), ...    AB3   \n",
       "nin1v1npba      63  (Atom('O', [3.252712270650001, 4.7842089891583...    AB3   \n",
       "zimuby8uzj     194  (Atom('O', [5.8182013375, 5.265500112, 6.17929...    AB3   \n",
       "7lxicqnrzy     209  (Atom('Ir', [0.0, 0.0, 0.0], tag=0, index=0), ...    AB3   \n",
       "\n",
       "                                                         path source  \\\n",
       "id_unique                                                              \n",
       "9k7pvd7izl  /home/raulf2012/Dropbox/01_norskov/PROJECT_DAT...  chris   \n",
       "8y6sck62xf  /home/raulf2012/Dropbox/01_norskov/PROJECT_DAT...  chris   \n",
       "nin1v1npba  /home/raulf2012/Dropbox/01_norskov/PROJECT_DAT...  chris   \n",
       "zimuby8uzj  /home/raulf2012/Dropbox/01_norskov/PROJECT_DAT...  chris   \n",
       "7lxicqnrzy  /home/raulf2012/Dropbox/01_norskov/PROJECT_DAT...  chris   \n",
       "\n",
       "              static_id  \n",
       "id_unique                \n",
       "9k7pvd7izl  liwigegu_28  \n",
       "8y6sck62xf  nudusosi_51  \n",
       "nin1v1npba  hipugusu_53  \n",
       "zimuby8uzj  lubepata_68  \n",
       "7lxicqnrzy  dudebino_86  "
      ]
     },
     "execution_count": 8,
     "metadata": {},
     "output_type": "execute_result"
    }
   ],
   "source": [
    "df_struct.head()"
   ]
  },
  {
   "cell_type": "markdown",
   "metadata": {},
   "source": [
    "# Analyzing Structures with Bulk Enumerator"
   ]
  },
  {
   "cell_type": "code",
   "execution_count": 9,
   "metadata": {},
   "outputs": [],
   "source": [
    "# t0 = time.time()\n",
    "\n",
    "# data_list = []\n",
    "# for id_i, row_i in df_struct.iterrows():   \n",
    "#     atoms_i = row_i[\"atoms\"]\n",
    "\n",
    "#     structure_i = AseAtomsAdaptor.get_structure(atoms_i)\n",
    "#     poscar_str_i = Poscar(structure_i).get_string()\n",
    "\n",
    "#     b = be.bulk.BULK()\n",
    "#     b.set_structure_from_file(poscar_str_i)\n",
    "\n",
    "#     spacegroup_i = b.get_spacegroup()\n",
    "#     species_i = b.get_species()\n",
    "#     wyckoff_i = b.get_wyckoff()\n",
    "#     name_i = b.get_name()\n",
    "#     parameter_values_i = b.get_parameter_values()\n",
    "\n",
    "#     row_dict_i = {\n",
    "#         \"id\": id_i,\n",
    "#         \"spacegroup_i\": spacegroup_i,\n",
    "#         \"species_i\": species_i,\n",
    "#         \"wyckoff_i\": wyckoff_i,\n",
    "#         \"name_i\": name_i,\n",
    "#         \"parameter_values_i\": parameter_values_i,\n",
    "#         }\n",
    "#     data_list.append(row_dict_i)\n",
    "\n",
    "\n",
    "# t1 = time.time()\n",
    "# print(\"time to complete for loop: \")\n",
    "# print(t1 - t0)\n",
    "\n",
    "# df_proto = pd.DataFrame(data_list)\n",
    "# df_proto.set_index(\"id\", inplace=True)\n",
    "\n",
    "# print(\n",
    "#     \"Number of entries processed: \",\n",
    "#     len(df_proto[\"name_i\"].to_list())\n",
    "#     )\n",
    "\n",
    "# print(len(\n",
    "#     \"Unique entries (some systems with the same prototype): \", \n",
    "#     set(df_proto[\"name_i\"].to_list())\n",
    "#     ))"
   ]
  },
  {
   "cell_type": "markdown",
   "metadata": {},
   "source": [
    "# Save data to pickle"
   ]
  },
  {
   "cell_type": "code",
   "execution_count": 10,
   "metadata": {},
   "outputs": [],
   "source": [
    "directory = \"out_data\"\n",
    "if not os.path.exists(directory):\n",
    "    os.makedirs(directory)"
   ]
  },
  {
   "cell_type": "code",
   "execution_count": 11,
   "metadata": {},
   "outputs": [],
   "source": [
    "with open(\"out_data/data_structures.pickle\", \"wb\") as fle:\n",
    "    pickle.dump(df_struct, fle)\n",
    "\n",
    "# with open(\"out_data/data_prototypes.pickle\", \"wb\") as fle:\n",
    "#     pickle.dump(df_proto, fle)"
   ]
  },
  {
   "cell_type": "raw",
   "metadata": {},
   "source": [
    "\n",
    "\n",
    "\n"
   ]
  },
  {
   "cell_type": "markdown",
   "metadata": {},
   "source": [
    "# TEMP | Number of atoms in structures"
   ]
  },
  {
   "cell_type": "code",
   "execution_count": 12,
   "metadata": {},
   "outputs": [],
   "source": [
    "def method(row_i, argument_0, optional_arg=None):\n",
    "    new_column_values_dict = {\"num_atoms\": None}\n",
    "\n",
    "    new_column_values_dict[\"num_atoms\"] = row_i[\"atoms\"].get_number_of_atoms()\n",
    "\n",
    "    # #########################################################################\n",
    "    for key, value in new_column_values_dict.items():\n",
    "        row_i[key] = value\n",
    "    return(row_i)\n",
    "\n",
    "df_i = df_struct\n",
    "\n",
    "arg1 = \"TEMP_0\"\n",
    "df_i = df_i.apply(\n",
    "    method,\n",
    "    axis=1,\n",
    "    args=(arg1, ),\n",
    "    optional_arg=\"TEMP_1\"\n",
    "    )\n",
    "df_struct = df_i\n",
    "\n",
    "df_struct_ab3 = df_struct[df_struct[\"stoich\"] == \"AB3\"]\n",
    "\n",
    "df_struct_ab3\n",
    "\n",
    "print(df_struct_ab3.shape)\n",
    "print(df_struct_ab3[df_struct_ab3[\"num_atoms\"] > 100].shape)\n",
    "\n",
    "df_struct_ab3[df_struct_ab3[\"num_atoms\"] > 100]"
   ]
  }
 ],
 "metadata": {
  "jupytext": {
   "formats": "ipynb,py:light"
  },
  "kernelspec": {
   "display_name": "Python [conda env:PROJ_IrOx_Active_Learning_OER]",
   "language": "python",
   "name": "conda-env-PROJ_IrOx_Active_Learning_OER-py"
  },
  "language_info": {
   "codemirror_mode": {
    "name": "ipython",
    "version": 3
   },
   "file_extension": ".py",
   "mimetype": "text/x-python",
   "name": "python",
   "nbconvert_exporter": "python",
   "pygments_lexer": "ipython3",
   "version": "3.6.9"
  },
  "toc-autonumbering": true
 },
 "nbformat": 4,
 "nbformat_minor": 4
}
