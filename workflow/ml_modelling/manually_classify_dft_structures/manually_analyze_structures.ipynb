{
 "cells": [
  {
   "cell_type": "markdown",
   "metadata": {},
   "source": [
    "# Import Modules"
   ]
  },
  {
   "cell_type": "code",
   "execution_count": 1,
   "metadata": {},
   "outputs": [],
   "source": [
    "import os\n",
    "import sys\n",
    "import pickle\n",
    "\n",
    "sys.path.insert(0, os.path.join(os.environ[\"PROJ_irox\"], \"data\"))\n",
    "from proj_data_irox import (\n",
    "    bulk_dft_data_path,\n",
    "    # unique_ids_path,\n",
    "    # prototypes_data_path,\n",
    "    # static_irox_structures_path,\n",
    "    # oqmd_irox_data_path,\n",
    "    # voronoi_features_data_path,\n",
    "    )\n",
    "\n",
    "# #############################################################################\n",
    "from ase_modules.ase_methods import view_in_vesta"
   ]
  },
  {
   "cell_type": "code",
   "execution_count": 2,
   "metadata": {},
   "outputs": [],
   "source": [
    "path_i = os.path.join(\n",
    "    os.environ[\"PROJ_irox\"],\n",
    "    \"workflow/ml_modelling\",\n",
    "    \"ccf_similarity_analysis/out_data\",\n",
    "    \"all_ids_to_elim_1.pickle\")\n",
    "with open(path_i, \"rb\") as fle:\n",
    "    all_ids_to_elim = pickle.load(fle)\n",
    "\n",
    "with open(bulk_dft_data_path, \"rb\") as fle:\n",
    "    df_bulk_dft = pickle.load(fle)"
   ]
  },
  {
   "cell_type": "code",
   "execution_count": 3,
   "metadata": {},
   "outputs": [],
   "source": [
    "df_bulk_dft = df_bulk_dft[\n",
    "    (df_bulk_dft[\"source\"] != \"oqmd\") & \\\n",
    "    (df_bulk_dft[\"source\"] != \"raul_oer\") & \\\n",
    "    (df_bulk_dft[\"source\"] != \"chris\") & \\\n",
    "    [True for i in range(len(df_bulk_dft))]\n",
    "    ]\n",
    "\n",
    "df_bulk_dft = df_bulk_dft.drop(all_ids_to_elim)"
   ]
  },
  {
   "cell_type": "code",
   "execution_count": 31,
   "metadata": {},
   "outputs": [],
   "source": [
    "# df_ab3.index.tolist()"
   ]
  },
  {
   "cell_type": "code",
   "execution_count": 34,
   "metadata": {},
   "outputs": [
    {
     "data": {
      "text/plain": [
       "(187, 9)"
      ]
     },
     "execution_count": 34,
     "metadata": {},
     "output_type": "execute_result"
    }
   ],
   "source": [
    "df_bulk_dft.shape"
   ]
  },
  {
   "cell_type": "code",
   "execution_count": 33,
   "metadata": {},
   "outputs": [
    {
     "name": "stdout",
     "output_type": "stream",
     "text": [
      "zimixdvdxd\n",
      "mj7wbfb5nt\n",
      "949rnem5z2\n",
      "6pvt6r95ve\n",
      "8l919k6s7p\n",
      "7ic1vt7pz4\n",
      "zwvqnhbk7f\n",
      "8wxibl7lm4\n",
      "ngn4xec1mo\n",
      "mp6lno9jzr\n",
      "\n",
      "VESTA /tmp/RAUL_TEMP_DIR_rwijhnz_/000_cqbrnhbacg_edeuabprsm.cif /tmp/RAUL_TEMP_DIR_rwijhnz_/001_bgcpc2vabf_drmogkiiea.cif /tmp/RAUL_TEMP_DIR_rwijhnz_/002_nrml6dms9l_gazkebseqp.cif /tmp/RAUL_TEMP_DIR_rwijhnz_/003_9pb4c1927h_ntopfktcro.cif /tmp/RAUL_TEMP_DIR_rwijhnz_/004_xozr8f7p7g_izuycggljg.cif &\n"
     ]
    }
   ],
   "source": [
    "df_ab3 = df_bulk_dft[df_bulk_dft[\"stoich\"] == \"AB3\"]\n",
    "df_ab3 = df_ab3.sort_values(\"energy_pa\")\n",
    "\n",
    "tmp = [print(i) for i in df_ab3.iloc[0:10].index.tolist()]\n",
    "\n",
    "print(\"\")\n",
    "\n",
    "ind_i = 15\n",
    "ind_f = 20\n",
    "\n",
    "view_in_vesta(\n",
    "    df_ab3.iloc[ind_i:ind_f][\"atoms\"].tolist(),\n",
    "    name_list=df_ab3.iloc[ind_i:ind_f].index.tolist(),\n",
    "    )"
   ]
  },
  {
   "cell_type": "code",
   "execution_count": 24,
   "metadata": {},
   "outputs": [
    {
     "name": "stdout",
     "output_type": "stream",
     "text": [
      "atoms           (Atom('O', [3.67983, 1.97841, 6.31848], index=...\n",
      "energy_pa                                                -6.45315\n",
      "form_e_chris                                                  NaN\n",
      "id                                                            NaN\n",
      "id_old                                                        118\n",
      "path            /global/cscratch1/sd/flores12/IrOx_Project_tem...\n",
      "source                                                       raul\n",
      "stoich                                                        AB3\n",
      "energy                                                    -103.25\n",
      "Name: mj7wbfb5nt, dtype: object\n"
     ]
    },
    {
     "data": {
      "text/plain": [
       "Atoms(symbols='O12Ir4', pbc=True, cell=[4.9065, 5.1939, 8.50436], calculator=SinglePointCalculator(...))"
      ]
     },
     "execution_count": 24,
     "metadata": {},
     "output_type": "execute_result"
    }
   ],
   "source": [
    "ind = 1\n",
    "print(df_ab3.iloc[ind])\n",
    "df_ab3.iloc[ind][\"atoms\"]"
   ]
  }
 ],
 "metadata": {
  "kernelspec": {
   "display_name": "Python [conda env:PROJ_IrOx_Active_Learning_OER]",
   "language": "python",
   "name": "conda-env-PROJ_IrOx_Active_Learning_OER-py"
  },
  "language_info": {
   "codemirror_mode": {
    "name": "ipython",
    "version": 3
   },
   "file_extension": ".py",
   "mimetype": "text/x-python",
   "name": "python",
   "nbconvert_exporter": "python",
   "pygments_lexer": "ipython3",
   "version": "3.6.9"
  }
 },
 "nbformat": 4,
 "nbformat_minor": 4
}
