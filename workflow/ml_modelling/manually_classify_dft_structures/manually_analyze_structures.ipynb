{
 "cells": [
  {
   "cell_type": "markdown",
   "execution_count": null,
   "metadata": {},
   "outputs": [],
   "source": [
    "# Import Modules"
   ]
  },
  {
   "cell_type": "code",
   "execution_count": null,
   "metadata": {},
   "outputs": [],
   "source": [
    "import os\n",
    "import sys\n",
    "import pickle\n",
    "\n",
    "sys.path.insert(0, os.path.join(os.environ[\"PROJ_irox\"], \"data\"))\n",
    "from proj_data_irox import (\n",
    "    bulk_dft_data_path,\n",
    "    # unique_ids_path,\n",
    "    # prototypes_data_path,\n",
    "    # static_irox_structures_path,\n",
    "    # oqmd_irox_data_path,\n",
    "    # voronoi_features_data_path,\n",
    "    )\n",
    "\n",
    "# #############################################################################\n",
    "from ase_modules.ase_methods import view_in_vesta"
   ]
  },
  {
   "cell_type": "code",
   "execution_count": null,
   "metadata": {},
   "outputs": [],
   "source": [
    "path_i = os.path.join(\n",
    "    os.environ[\"PROJ_irox\"],\n",
    "    \"workflow/ml_modelling\",\n",
    "    \"ccf_similarity_analysis/out_data\",\n",
    "    \"all_ids_to_elim_1.pickle\")\n",
    "with open(path_i, \"rb\") as fle:\n",
    "    all_ids_to_elim = pickle.load(fle)\n",
    "\n",
    "with open(bulk_dft_data_path, \"rb\") as fle:\n",
    "    df_bulk_dft = pickle.load(fle)"
   ]
  },
  {
   "cell_type": "code",
   "execution_count": null,
   "metadata": {},
   "outputs": [],
   "source": [
    "df_bulk_dft = df_bulk_dft[\n",
    "    (df_bulk_dft[\"source\"] != \"oqmd\") & \\\n",
    "    (df_bulk_dft[\"source\"] != \"raul_oer\") & \\\n",
    "    (df_bulk_dft[\"source\"] != \"chris\") & \\\n",
    "    [True for i in range(len(df_bulk_dft))]\n",
    "    ]\n",
    "\n",
    "df_bulk_dft = df_bulk_dft.drop(all_ids_to_elim)"
   ]
  },
  {
   "cell_type": "code",
   "execution_count": null,
   "metadata": {},
   "outputs": [],
   "source": [
    "# df_ab3.index.tolist()"
   ]
  },
  {
   "cell_type": "code",
   "execution_count": null,
   "metadata": {},
   "outputs": [],
   "source": [
    "df_bulk_dft.shape"
   ]
  },
  {
   "cell_type": "code",
   "execution_count": null,
   "metadata": {},
   "outputs": [],
   "source": [
    "df_ab3 = df_bulk_dft[df_bulk_dft[\"stoich\"] == \"AB3\"]\n",
    "df_ab3 = df_ab3.sort_values(\"energy_pa\")\n",
    "\n",
    "tmp = [print(i) for i in df_ab3.iloc[0:10].index.tolist()]\n",
    "\n",
    "print(\"\")\n",
    "\n",
    "ind_i = 15\n",
    "ind_f = 20\n",
    "\n",
    "view_in_vesta(\n",
    "    df_ab3.iloc[ind_i:ind_f][\"atoms\"].tolist(),\n",
    "    name_list=df_ab3.iloc[ind_i:ind_f].index.tolist(),\n",
    "    )"
   ]
  },
  {
   "cell_type": "code",
   "execution_count": null,
   "metadata": {},
   "outputs": [],
   "source": [
    "ind = 1\n",
    "print(df_ab3.iloc[ind])\n",
    "df_ab3.iloc[ind][\"atoms\"]"
   ]
  }
 ],
 "metadata": {
  "kernelspec": {
   "display_name": "Python [conda env:PROJ_IrOx_Active_Learning_OER]",
   "language": "python",
   "name": "conda-env-PROJ_IrOx_Active_Learning_OER-py"
  },
  "language_info": {
   "codemirror_mode": {
    "name": "ipython",
    "version": 3
   },
   "file_extension": ".py",
   "mimetype": "text/x-python",
   "name": "python",
   "nbconvert_exporter": "python",
   "pygments_lexer": "ipython3",
   "version": "3.6.9"
  }
 },
 "nbformat": 4,
 "nbformat_minor": 4
}
