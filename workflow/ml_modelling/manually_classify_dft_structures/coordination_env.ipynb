{
 "cells": [
  {
   "cell_type": "markdown",
   "metadata": {},
   "source": [
    "# Import Modules"
   ],
   "execution_count": null,
   "outputs": []
  },
  {
   "cell_type": "code",
   "execution_count": null,
   "metadata": {},
   "outputs": [],
   "source": [
    "import os\n",
    "import sys\n",
    "import pickle\n",
    "\n",
    "import time\n",
    "t0 = time.time()\n",
    "sys.path.insert(0, os.path.join(os.environ[\"PROJ_irox\"], \"data\"))\n",
    "from proj_data_irox import bulk_dft_data_path\n",
    "\n",
    "# #############################################################################\n",
    "from ase_modules.ase_methods import view_in_vesta\n",
    "\n",
    "import pandas as pd\n",
    "\n",
    "from pymatgen.io.ase import AseAtomsAdaptor\n",
    "from pymatgen.analysis.local_env import NearNeighbors, VoronoiNN, site_is_of_motif_type\n",
    "\n",
    "from methods import site_is_of_motif_type"
   ]
  },
  {
   "cell_type": "code",
   "execution_count": null,
   "metadata": {},
   "outputs": [],
   "source": [
    "path_i = os.path.join(\n",
    "    os.environ[\"PROJ_irox\"],\n",
    "    \"workflow/ml_modelling\",\n",
    "    \"ccf_similarity_analysis/out_data\",\n",
    "    \"all_ids_to_elim_1.pickle\")\n",
    "with open(path_i, \"rb\") as fle:\n",
    "    all_ids_to_elim = pickle.load(fle)\n",
    "\n",
    "with open(bulk_dft_data_path, \"rb\") as fle:\n",
    "    df_bulk_dft = pickle.load(fle)"
   ]
  },
  {
   "cell_type": "code",
   "execution_count": null,
   "metadata": {},
   "outputs": [],
   "source": [
    "print(\"df_bulk_dft.shape:\", df_bulk_dft.shape)\n",
    "\n",
    "df_bulk_dft = df_bulk_dft[\n",
    "    (df_bulk_dft[\"source\"] != \"oqmd\") & \\\n",
    "#     (df_bulk_dft[\"source\"] != \"raul_oer\") & \\\n",
    "    (df_bulk_dft[\"source\"] != \"chris\") & \\\n",
    "    [True for i in range(len(df_bulk_dft))]\n",
    "    ]\n",
    "\n",
    "print(\"df_bulk_dft.shape:\", df_bulk_dft.shape)\n",
    "# df_bulk_dft = df_bulk_dft.drop(all_ids_to_elim)\n",
    "print(\"df_bulk_dft.shape:\", df_bulk_dft.shape)"
   ]
  },
  {
   "cell_type": "code",
   "execution_count": null,
   "metadata": {},
   "outputs": [],
   "source": [
    "df_bulk_dft = df_bulk_dft.sort_values(\"energy_pa\")\n",
    "\n",
    "# df_bulk_dft = df_bulk_dft.loc[[\"zk9q9yn3b2\"]]\n",
    "# df_bulk_dft = df_bulk_dft.loc[[\"c48lx363be\"]]\n",
    "# df_bulk_dft = df_bulk_dft.loc[[\"9ochme8294\"]]\n",
    "\n",
    "# df_bulk_dft = df_bulk_dft.iloc[0:50]"
   ]
  },
  {
   "cell_type": "markdown",
   "metadata": {},
   "source": [
    "# METHOD | get_motiff_distribution"
   ],
   "execution_count": null,
   "outputs": []
  },
  {
   "cell_type": "code",
   "execution_count": null,
   "metadata": {},
   "outputs": [],
   "source": [
    "thresh_dict = {\n",
    "    \"qtet\": 0.5,\n",
    "    \"qoct\": 0.5,\n",
    "    # \"qoct\": 0.4,\n",
    "    \"qbcc\": 0.5,\n",
    "    \"q6\": 0.4,\n",
    "    \"qtribipyr\": 0.8,\n",
    "    \"qsqpyr\": 0.8,\n",
    "    }\n",
    "\n",
    "for key, val in thresh_dict.items():\n",
    "    tmp = 42\n",
    "    \n",
    "    thresh_dict[key] = val / 1.5"
   ]
  },
  {
   "cell_type": "markdown",
   "metadata": {},
   "source": [
    "# TEMP | Using NN from CrystalNN and my custom motiff method"
   ],
   "execution_count": null,
   "outputs": []
  },
  {
   "cell_type": "code",
   "execution_count": null,
   "metadata": {},
   "outputs": [],
   "source": [
    "path_i = os.path.join(\n",
    "    \"out_data\",\n",
    "    \"coord_data_dict.pickle\")\n",
    "with open(path_i, \"rb\") as fle:\n",
    "    coord_data_dict = pickle.load(fle)"
   ]
  },
  {
   "cell_type": "code",
   "execution_count": null,
   "metadata": {},
   "outputs": [],
   "source": [
    "coord_data_dict\n",
    "df_bulk_dft.head()\n",
    "\n",
    "row_i = df_bulk_dft.loc[\"cubqbpzd7k\"]\n",
    "id_unique = row_i.name\n",
    "\n",
    "coord_data_i = coord_data_dict.get(id_unique, None)\n",
    "\n",
    "metal_index_j = 70\n",
    "coord_data_j = coord_data_i[coord_data_i[\"structure_index\"] == metal_index_j]\n",
    "\n",
    "nn_info_list = coord_data_j[\"nn_info\"].iloc[0]\n",
    "\n",
    "nn_info_list = [i[\"site\"] for i in nn_info_list][0]"
   ]
  },
  {
   "cell_type": "code",
   "execution_count": null,
   "metadata": {},
   "outputs": [],
   "source": [
    "def get_motiff_distribution(atoms, nn_info):\n",
    "    \"\"\"\n",
    "    \"\"\"\n",
    "    atoms_i = atoms\n",
    "\n",
    "    struct_i = AseAtomsAdaptor.get_structure(atoms_i)\n",
    "\n",
    "    metal_species_index_list = []\n",
    "    for j_cnt, site_j in enumerate(struct_i):\n",
    "        if site_j.species_string == \"Ir\":\n",
    "            metal_species_index_list.append(j_cnt)\n",
    "\n",
    "    coord_data_i = nn_info\n",
    "\n",
    "    motiff_list_i = []\n",
    "    for metal_index_j in metal_species_index_list:\n",
    "\n",
    "        coord_data_j = coord_data_i[coord_data_i[\"structure_index\"] == metal_index_j]\n",
    "        nn_info_list = coord_data_j[\"nn_info\"].iloc[0]\n",
    "        nn_info_list = [i[\"site\"] for i in nn_info_list]\n",
    "        print(nn_info_list)\n",
    "\n",
    "        motiff_j = site_is_of_motif_type(\n",
    "            struct_i,\n",
    "            metal_index_j,\n",
    "            neighbors_list=nn_info_list,\n",
    "            # \"min_dist\", \"voronoi\", \"min_OKeeffe\", \"min_VIRE\"\n",
    "            approach=\"min_dist\",\n",
    "            delta=0.1,\n",
    "            # delta=0.3,\n",
    "            cutoff=10.0,\n",
    "            thresh=thresh_dict,\n",
    "            )\n",
    "\n",
    "        motiff_list_i.append(motiff_j)\n",
    "\n",
    "\n",
    "    motiff_count_dict = {}\n",
    "    list_i = motiff_list_i\n",
    "    for items in list(set(list_i)):\n",
    "        motiff_count_dict[items] = list_i.count(items)\n",
    "\n",
    "    num_motiffs = len(motiff_list_i)\n",
    "\n",
    "    motiff_frac_dict = {}\n",
    "    for key, val in motiff_count_dict.items():\n",
    "        motiff_frac_i = val / num_motiffs\n",
    "        motiff_frac_dict[key] = motiff_frac_i\n",
    "        \n",
    "    return(motiff_frac_dict)"
   ]
  },
  {
   "cell_type": "code",
   "execution_count": null,
   "metadata": {
    "collapsed": true,
    "jupyter": {
     "outputs_hidden": true
    }
   },
   "outputs": [],
   "source": [
    "def method(row_i, get_motiff_distribution):\n",
    "    # row_i = df_bulk_dft.loc[\"cubqbpzd7k\"]\n",
    "    atoms_i = row_i[\"atoms\"]\n",
    "    id_unique = row_i.name\n",
    "\n",
    "    nn_info_i = coord_data_dict.get(id_unique, None)\n",
    "\n",
    "    motiff_distr_i = get_motiff_distribution(atoms_i, nn_info=nn_info_i)\n",
    "    return(motiff_distr_i)\n",
    "\n",
    "coord_motiffs_series = df_bulk_dft.apply(\n",
    "    method,\n",
    "    axis=1, args=(get_motiff_distribution, ))\n",
    "\n",
    "df_coord = pd.DataFrame(\n",
    "    coord_motiffs_series,\n",
    "    columns=[\"coord_motiff_distr\"])"
   ]
  },
  {
   "cell_type": "code",
   "execution_count": null,
   "metadata": {},
   "outputs": [],
   "source": [
    "def method(row_i):\n",
    "    index_i = row_i.name\n",
    "\n",
    "    coord_motiff_distr_i = row_i[\"coord_motiff_distr\"]\n",
    "\n",
    "    df_i = pd.DataFrame(coord_motiff_distr_i, index=[\"col\"]).T\n",
    "    df_i = df_i.sort_values(\"col\", ascending=False)\n",
    "    tmp = df_i.iloc[0][\"col\"]\n",
    "    df_dominant_motiffs_i = df_i[df_i[\"col\"] == tmp]\n",
    "\n",
    "    out_string = \"_\".join(df_dominant_motiffs_i.index.tolist())\n",
    "\n",
    "    return(out_string)\n",
    "\n",
    "# #############################################################################\n",
    "df_coord[\"major_motiffs\"] = df_coord.apply(\n",
    "    method,\n",
    "    axis=1)\n",
    "\n",
    "df_coord.head()"
   ]
  },
  {
   "cell_type": "code",
   "execution_count": null,
   "metadata": {},
   "outputs": [],
   "source": [
    "df_coord"
   ]
  },
  {
   "cell_type": "code",
   "execution_count": null,
   "metadata": {},
   "outputs": [],
   "source": [
    "unrec_list = []\n",
    "for i_cnt, row_i in df_coord.iterrows():\n",
    "    if \"unrecognized\" in row_i[\"major_motiffs\"]:\n",
    "        unrec_list.append(row_i)\n",
    "\n",
    "len(unrec_list)"
   ]
  },
  {
   "cell_type": "raw",
   "metadata": {},
   "source": [
    "264\n",
    "255 | Voronoi"
   ],
   "execution_count": null,
   "outputs": []
  },
  {
   "cell_type": "markdown",
   "metadata": {},
   "source": [
    "# Save Data"
   ],
   "execution_count": null,
   "outputs": []
  },
  {
   "cell_type": "code",
   "execution_count": null,
   "metadata": {},
   "outputs": [],
   "source": [
    "# # Pickling data ######################################################\n",
    "# import os; import pickle\n",
    "# directory = \"out_data\"\n",
    "# if not os.path.exists(directory): os.makedirs(directory)\n",
    "# with open(os.path.join(directory, \"df_coord_motiff.pickle\"), \"wb\") as fle:\n",
    "#     pickle.dump(df_coord, fle)\n",
    "# # #####################################################################"
   ]
  },
  {
   "cell_type": "code",
   "execution_count": null,
   "metadata": {},
   "outputs": [],
   "source": [
    "# df_coord[\"coord_motiff_distr\"].tolist()\n",
    "\n",
    "# df_coord.head()"
   ]
  },
  {
   "cell_type": "code",
   "execution_count": null,
   "metadata": {},
   "outputs": [],
   "source": [
    "print(\"Time to execute notebook: \", time.time() - t0, \"(s)\")\n",
    "print(\"os.getcwd():\", os.getcwd())"
   ]
  },
  {
   "cell_type": "raw",
   "metadata": {},
   "source": [
    "\n",
    "\n",
    "\n"
   ],
   "execution_count": null,
   "outputs": []
  },
  {
   "cell_type": "code",
   "execution_count": null,
   "metadata": {},
   "outputs": [],
   "source": [
    "coord_motiff_keys = []\n",
    "for i in df_coord[\"coord_motiff_distr\"].tolist():\n",
    "    for key, val in i.items():\n",
    "#         print(key)\n",
    "        coord_motiff_keys.append(key)\n",
    "\n",
    "set(coord_motiff_keys)"
   ]
  },
  {
   "cell_type": "code",
   "execution_count": null,
   "metadata": {},
   "outputs": [],
   "source": [
    "df_coord[\"major_motiffs\"].unique().tolist()"
   ]
  },
  {
   "cell_type": "code",
   "execution_count": null,
   "metadata": {},
   "outputs": [],
   "source": [
    "# ['octahedral',\n",
    "#  'bcc',\n",
    "#  'unrecognized',\n",
    "#  'trigonal bipyramidal',\n",
    "#  'tetrahedral',\n",
    "#  'cp',\n",
    "#  'square pyramidal_bcc'\n",
    "# ]"
   ]
  },
  {
   "cell_type": "code",
   "execution_count": null,
   "metadata": {
    "jupyter": {}
   },
   "outputs": [],
   "source": [
    "# # df_bulk_dft.sort_values(\"energy_pa\")\n",
    "\n",
    "# row_i = df_bulk_dft.loc[\"n36axdbw65\"]\n",
    "\n",
    "# from ase.visualize import view\n",
    "# from ase_modules.ase_methods import view_in_vesta\n",
    "\n",
    "# # view_in_vesta(atoms_i)\n",
    "# # view(atoms_i)\n",
    "\n",
    "# atoms_i.write(\"~/temp.cif\")\n",
    "\n",
    "# VNN.site_is_of_motif_type(\n",
    "#     struct_i,\n",
    "#     0,\n",
    "#     approach='min_dist',\n",
    "#     delta=0.1,\n",
    "#     cutoff=10.0,\n",
    "#     thresh=None,\n",
    "#     )\n",
    "\n",
    "# structure_from_cif = Structure.from_file()\n",
    "# y.get_bonded_structure(structure_from_cif)\n",
    "# y.get_local_order_parameters(structure_from_cif, 0)\n",
    "\n",
    "# site_is_of_motif_type(struct, n, approach=\"min_dist\", delta=0.1, \\          \n",
    "# 1697                           cutoff=10.0, thresh=None):                            \n",
    "# 1698     \"\"\"                        \n",
    "\n",
    "# import pymatgen\n",
    "\n",
    "# print(pymatgen.__version__)\n",
    "\n",
    "# print(pymatgen)\n",
    "\n",
    "# metal_species_index_list = []\n",
    "# for j_cnt, site_j in enumerate(struct_i):\n",
    "#     if site_j.species_string == \"Ir\":\n",
    "#         metal_species_index_list.append(\n",
    "#             j_cnt)\n",
    "\n",
    "# metal_species_index_list\n",
    "\n",
    "# row_i = df_bulk_dft.loc[\"n36axdbw65\"]\n",
    "\n",
    "# # row_i = df_bulk_dft.iloc[0]\n",
    "# atoms = row_i[\"atoms\"]\n",
    "\n",
    "# motiff_distr_i = get_motiff_distribution(atoms)"
   ]
  }
 ],
 "metadata": {
  "jupytext": {
   "formats": "ipynb,py:light"
  },
  "kernelspec": {
   "display_name": "Python [conda env:PROJ_IrOx_Active_Learning_OER]",
   "language": "python",
   "name": "conda-env-PROJ_IrOx_Active_Learning_OER-py"
  },
  "language_info": {
   "codemirror_mode": {
    "name": "ipython",
    "version": 3
   },
   "file_extension": ".py",
   "mimetype": "text/x-python",
   "name": "python",
   "nbconvert_exporter": "python",
   "pygments_lexer": "ipython3",
   "version": "3.6.9"
  }
 },
 "nbformat": 4,
 "nbformat_minor": 4
}
