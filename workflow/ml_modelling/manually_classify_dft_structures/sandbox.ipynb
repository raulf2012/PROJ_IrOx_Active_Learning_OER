{
 "cells": [
  {
   "cell_type": "code",
   "execution_count": null,
   "metadata": {
    "jupyter": {}
   },
   "outputs": [],
   "source": [
    "import os\n",
    "import sys\n",
    "import pickle\n",
    "\n",
    "import time\n",
    "t0 = time.time()\n",
    "sys.path.insert(0, os.path.join(os.environ[\"PROJ_irox\"], \"data\"))\n",
    "from proj_data_irox import bulk_dft_data_path\n",
    "\n",
    "# #############################################################################\n",
    "from ase_modules.ase_methods import view_in_vesta\n",
    "\n",
    "import pandas as pd\n",
    "\n",
    "from pymatgen.io.ase import AseAtomsAdaptor\n",
    "from pymatgen.analysis.local_env import NearNeighbors, VoronoiNN, site_is_of_motif_type"
   ]
  },
  {
   "cell_type": "code",
   "execution_count": null,
   "metadata": {
    "jupyter": {}
   },
   "outputs": [],
   "source": [
    "path_i = os.path.join(\n",
    "    os.environ[\"PROJ_irox\"],\n",
    "    \"workflow/ml_modelling\",\n",
    "    \"ccf_similarity_analysis/out_data\",\n",
    "    \"all_ids_to_elim_1.pickle\")\n",
    "with open(path_i, \"rb\") as fle:\n",
    "    all_ids_to_elim = pickle.load(fle)\n",
    "\n",
    "with open(bulk_dft_data_path, \"rb\") as fle:\n",
    "    df_bulk_dft = pickle.load(fle)"
   ]
  },
  {
   "cell_type": "code",
   "execution_count": null,
   "metadata": {
    "jupyter": {}
   },
   "outputs": [],
   "source": [
    "print(\"df_bulk_dft.shape:\", df_bulk_dft.shape)\n",
    "\n",
    "df_bulk_dft = df_bulk_dft[\n",
    "    (df_bulk_dft[\"source\"] != \"oqmd\") & \\\n",
    "#     (df_bulk_dft[\"source\"] != \"raul_oer\") & \\\n",
    "    (df_bulk_dft[\"source\"] != \"chris\") & \\\n",
    "    [True for i in range(len(df_bulk_dft))]\n",
    "    ]\n",
    "\n",
    "print(\"df_bulk_dft.shape:\", df_bulk_dft.shape)\n",
    "# df_bulk_dft = df_bulk_dft.drop(all_ids_to_elim)\n",
    "print(\"df_bulk_dft.shape:\", df_bulk_dft.shape)"
   ]
  },
  {
   "cell_type": "code",
   "execution_count": null,
   "metadata": {},
   "outputs": [],
   "source": [
    "row_i = df_bulk_dft.iloc[0]\n",
    "\n",
    "atoms_i = row_i[\"atoms\"]"
   ]
  },
  {
   "cell_type": "code",
   "execution_count": null,
   "metadata": {},
   "outputs": [],
   "source": [
    "row_i"
   ]
  },
  {
   "cell_type": "code",
   "execution_count": null,
   "metadata": {},
   "outputs": [],
   "source": [
    "# atoms_i = atoms\n",
    "\n",
    "struct_i = AseAtomsAdaptor.get_structure(atoms_i)\n",
    "\n",
    "metal_species_index_list = []\n",
    "for j_cnt, site_j in enumerate(struct_i):\n",
    "    if site_j.species_string == \"Ir\":\n",
    "        metal_species_index_list.append(j_cnt)\n",
    "\n",
    "motiff_list_i = []\n",
    "for metal_index_j in metal_species_index_list:\n",
    "    tmp = 41"
   ]
  },
  {
   "cell_type": "code",
   "execution_count": null,
   "metadata": {},
   "outputs": [],
   "source": [
    "# struct_i,\n",
    "# metal_index_j,\n",
    "\n",
    "# # \"min_dist\", \"voronoi\", \"min_OKeeffe\", \"min_VIRE\"\n",
    "# approach=\"min_dist\",\n",
    "# delta=0.1,\n",
    "# # delta=0.3,\n",
    "# cutoff=10.0,\n",
    "# thresh=thresh_dict,"
   ]
  },
  {
   "cell_type": "code",
   "execution_count": null,
   "metadata": {},
   "outputs": [],
   "source": [
    "struct = struct_i\n",
    "n = metal_index_j\n",
    "approach = \"min_dist\"\n",
    "delta = 0.1\n",
    "cutoff = 10.0\n",
    "thresh = None"
   ]
  },
  {
   "cell_type": "code",
   "execution_count": null,
   "metadata": {},
   "outputs": [],
   "source": [
    "from pymatgen.analysis.local_env import LocalStructOrderParams, get_neighbors_of_site_with_index"
   ]
  },
  {
   "cell_type": "code",
   "execution_count": null,
   "metadata": {},
   "outputs": [],
   "source": [
    "if thresh is None:\n",
    "    thresh = {\n",
    "        \"qtet\": 0.5, \"qoct\": 0.5, \"qbcc\": 0.5, \"q6\": 0.4,\n",
    "        \"qtribipyr\": 0.8, \"qsqpyr\": 0.8}\n",
    "\n",
    "ops = LocalStructOrderParams([\n",
    "    \"cn\", \"tet\", \"oct\", \"bcc\", \"q6\", \"sq_pyr\", \"tri_bipyr\"])\n",
    "\n",
    "neighs_cent = get_neighbors_of_site_with_index(\n",
    "    struct, n, approach=approach, delta=delta, cutoff=cutoff)\n",
    "\n",
    "neighs_cent.append(struct.sites[n])\n",
    "opvals = ops.get_order_parameters(\n",
    "    neighs_cent, len(neighs_cent) - 1, indices_neighs=[\n",
    "        i for i in range(len(neighs_cent) - 1)])\n",
    "cn = int(opvals[0] + 0.5)\n",
    "motif_type = \"unrecognized\"\n",
    "nmotif = 0\n",
    "\n",
    "if cn == 4 and opvals[1] > thresh[\"qtet\"]:\n",
    "    motif_type = \"tetrahedral\"\n",
    "    nmotif += 1\n",
    "if cn == 5 and opvals[5] > thresh[\"qsqpyr\"]:\n",
    "    motif_type = \"square pyramidal\"\n",
    "    nmotif += 1\n",
    "if cn == 5 and opvals[6] > thresh[\"qtribipyr\"]:\n",
    "    motif_type = \"trigonal bipyramidal\"\n",
    "    nmotif += 1\n",
    "if cn == 6 and opvals[2] > thresh[\"qoct\"]:\n",
    "    motif_type = \"octahedral\"\n",
    "    nmotif += 1\n",
    "if cn == 8 and (opvals[3] > thresh[\"qbcc\"] and opvals[1] < thresh[\"qtet\"]):\n",
    "    motif_type = \"bcc\"\n",
    "    nmotif += 1\n",
    "if cn == 12 and (opvals[4] > thresh[\"q6\"] and opvals[1] < thresh[\"q6\"] and\n",
    "                 opvals[2] < thresh[\"q6\"] and opvals[3] < thresh[\"q6\"]):\n",
    "    motif_type = \"cp\"\n",
    "    nmotif += 1\n",
    "\n",
    "if nmotif > 1:\n",
    "    motif_type = \"multiple assignments\"\n"
   ]
  },
  {
   "cell_type": "code",
   "execution_count": null,
   "metadata": {},
   "outputs": [],
   "source": [
    "opvals\n",
    "\n"
   ]
  },
  {
   "cell_type": "code",
   "execution_count": null,
   "metadata": {},
   "outputs": [],
   "source": [
    "motif_type"
   ]
  }
 ],
 "metadata": {
  "kernelspec": {
   "display_name": "Python [conda env:PROJ_IrOx_Active_Learning_OER]",
   "language": "python",
   "name": "conda-env-PROJ_IrOx_Active_Learning_OER-py"
  },
  "language_info": {
   "codemirror_mode": {
    "name": "ipython",
    "version": 3
   },
   "file_extension": ".py",
   "mimetype": "text/x-python",
   "name": "python",
   "nbconvert_exporter": "python",
   "pygments_lexer": "ipython3",
   "version": "3.6.9"
  }
 },
 "nbformat": 4,
 "nbformat_minor": 4
}
