{
 "cells": [
  {
   "cell_type": "markdown",
   "execution_count": null,
   "metadata": {},
   "outputs": [],
   "source": [
    "# Import Modules"
   ]
  },
  {
   "cell_type": "code",
   "execution_count": null,
   "metadata": {},
   "outputs": [],
   "source": [
    "import os\n",
    "import sys\n",
    "import pickle\n",
    "\n",
    "import time\n",
    "t0 = time.time()\n",
    "\n",
    "import numpy as np\n",
    "import pandas as pd\n",
    "\n",
    "from pymatgen.io.ase import AseAtomsAdaptor\n",
    "from pymatgen.analysis.local_env import (\n",
    "    NearNeighbors,\n",
    "    VoronoiNN, site_is_of_motif_type)\n",
    "\n",
    "from pymatgen.analysis import local_env\n",
    "\n",
    "# #############################################################################\n",
    "from ase_modules.ase_methods import view_in_vesta\n",
    "\n",
    "\n",
    "sys.path.insert(0, os.path.join(os.environ[\"PROJ_irox\"], \"data\"))\n",
    "from proj_data_irox import (\n",
    "    unique_ids_path,\n",
    "    )"
   ]
  },
  {
   "cell_type": "markdown",
   "execution_count": null,
   "metadata": {},
   "outputs": [],
   "source": [
    "# Systems with O-O bonds"
   ]
  },
  {
   "cell_type": "code",
   "execution_count": null,
   "metadata": {
    "jupyter": {}
   },
   "outputs": [],
   "source": [
    "systems_with_O_O_bonds = {\n",
    " '62xp6e9yzs',\n",
    " '63xlmhno8h',\n",
    " '64vo6w8wvq',\n",
    " '656qniby7j',\n",
    " '6fzy7kcrxy',\n",
    " '6h9ozjn37g',\n",
    " '6tvo819y9e',\n",
    " '71ndci8rx3',\n",
    " '7h62vo74x4',\n",
    " '847uxp8gmp',\n",
    " '8avd8d7rbe',\n",
    " '8dce6kz2vf',\n",
    " '8ebo7t6fmh',\n",
    " '8jcf9uvdna',\n",
    " '8jvfcyvk92',\n",
    " '8k72z48d9l',\n",
    " '92zoc5vkm5',\n",
    " '9emsc3bl7g',\n",
    " '9fnimdm395',\n",
    " '9p8d7fvjbr',\n",
    " 'b4nrnqvl8h',\n",
    " 'b5757fmaxd',\n",
    " 'b5n5949r6e',\n",
    " 'bfn273nkc2',\n",
    " 'bpctcem482',\n",
    " 'c19an46fbo',\n",
    " 'c28gcrm4mi',\n",
    " 'ci6uv5n3zj',\n",
    " 'cjv5cyz2mi',\n",
    " 'cqbrnhbacg',\n",
    " 'cqv5n56q6s',\n",
    " 'm4vd7ac3by',\n",
    " 'mony9ibt9r',\n",
    " 'mpb2movibu',\n",
    " 'mq8o71z58t',\n",
    " 'mrn1ch8r6s',\n",
    " 'muvhc5xj6l',\n",
    " 'n3bobiv39q',\n",
    " 'nt8e6qmac2',\n",
    " 'v2blxebixh',\n",
    " 'v3ck75caxk',\n",
    " 'vtntbhvtz3',\n",
    " 'x19jvf73mh',\n",
    " 'xdz3v5vgcg',\n",
    " 'xjng8s8lxi',\n",
    " 'xk8e8g6acu',\n",
    " 'xk8ubhclcl',\n",
    " 'xsnsnozgxq',\n",
    " 'z26gbl9pme',\n",
    " 'z36lb3bdcq',\n",
    " 'ze6y7p9y8i',\n",
    " 'zebabecec1',\n",
    " 'zemeclx1vu',\n",
    " 'zimuby8uzj',\n",
    " 'zobr6ebk8u',\n",
    " 'zpne9km3c5',\n",
    " 'zu6lnfze71',\n",
    " 'zwnung6s71'}"
   ]
  },
  {
   "cell_type": "markdown",
   "execution_count": null,
   "metadata": {},
   "outputs": [],
   "source": [
    "# Script Inputs"
   ]
  },
  {
   "cell_type": "code",
   "execution_count": null,
   "metadata": {},
   "outputs": [],
   "source": [
    "tmp = 42"
   ]
  },
  {
   "cell_type": "code",
   "execution_count": null,
   "metadata": {},
   "outputs": [],
   "source": [
    "directory = \"out_data\"\n",
    "if not os.path.exists(directory):\n",
    "    os.makedirs(directory)"
   ]
  },
  {
   "cell_type": "markdown",
   "execution_count": null,
   "metadata": {},
   "outputs": [],
   "source": [
    "# Read Data"
   ]
  },
  {
   "cell_type": "code",
   "execution_count": null,
   "metadata": {},
   "outputs": [],
   "source": [
    "from get_data import df_bulk_dft\n",
    "\n",
    "import copy\n",
    "df_bulk_dft_full = copy.deepcopy(df_bulk_dft)\n",
    "\n",
    "\n",
    "# # TEMP | Reduce size of data\n",
    "# df_bulk_dft = df_bulk_dft.sample(n=0)\n",
    "# \"639a63mabs\"\n",
    "# \"npvumg7g93\"\n",
    "# tmp = df_bulk_dft_full.loc[[\"639a63mabs\"]]\n",
    "# df_bulk_dft = pd.concat([\n",
    "#     tmp,\n",
    "#     df_bulk_dft])\n",
    "\n",
    "df_ids = pd.read_csv(unique_ids_path)"
   ]
  },
  {
   "cell_type": "markdown",
   "execution_count": null,
   "metadata": {},
   "outputs": [],
   "source": [
    "# Methods"
   ]
  },
  {
   "cell_type": "markdown",
   "execution_count": null,
   "metadata": {},
   "outputs": [],
   "source": [
    "# Create coordination environment DF for each system"
   ]
  },
  {
   "cell_type": "code",
   "execution_count": null,
   "metadata": {},
   "outputs": [],
   "source": [
    "print(1.41 + 0.66)\n",
    "2.3 - (1.41 + 0.66)"
   ]
  },
  {
   "cell_type": "code",
   "execution_count": null,
   "metadata": {},
   "outputs": [],
   "source": [
    "# #############################################################################\n",
    "def get_structure_coord_df(atoms):\n",
    "    atoms_i = atoms\n",
    "    structure = AseAtomsAdaptor.get_structure(atoms_i)\n",
    "\n",
    "    # CrysNN = local_env.VoronoiNN(\n",
    "    #     tol=0,\n",
    "    #     targets=None,\n",
    "    #     cutoff=13.0,\n",
    "    #     allow_pathological=False,\n",
    "    #     weight='solid_angle',\n",
    "    #     extra_nn_info=True,\n",
    "    #     compute_adj_neighbors=True,\n",
    "    #     )\n",
    "\n",
    "    CrysNN = local_env.CrystalNN(\n",
    "        weighted_cn=False,\n",
    "        cation_anion=False,\n",
    "        distance_cutoffs=(0.01, 0.4),\n",
    "        x_diff_weight=3.0,\n",
    "        porous_adjustment=True,\n",
    "        search_cutoff=7,\n",
    "        fingerprint_length=None)\n",
    "\n",
    "\n",
    "    coord_data_dict = dict()\n",
    "    data_master = []\n",
    "    for i_cnt, site_i in enumerate(structure.sites):\n",
    "        site_elem_i = site_i.species_string\n",
    "\n",
    "        data_dict_i = dict()\n",
    "        data_dict_i[\"element\"] = site_elem_i\n",
    "        data_dict_i[\"structure_index\"] = i_cnt\n",
    "\n",
    "        nn_info_i = CrysNN.get_nn_info(structure, i_cnt)\n",
    "        data_dict_i[\"nn_info\"] = nn_info_i\n",
    "\n",
    "        neighbor_list = []\n",
    "        for neighbor_j in nn_info_i:\n",
    "            neigh_elem_j = neighbor_j[\"site\"].species_string\n",
    "            neighbor_list.append(neigh_elem_j)\n",
    "\n",
    "        neighbor_count_dict = dict()\n",
    "        for i in neighbor_list:\n",
    "            neighbor_count_dict[i] = neighbor_count_dict.get(i, 0) + 1\n",
    "\n",
    "        data_dict_i[\"neighbor_count\"] = neighbor_count_dict\n",
    "        data_master.append(data_dict_i)\n",
    "\n",
    "    df_struct_coord_i = pd.DataFrame(data_master)\n",
    "\n",
    "    return(df_struct_coord_i)"
   ]
  },
  {
   "cell_type": "code",
   "execution_count": null,
   "metadata": {},
   "outputs": [],
   "source": [
    "# %%capture\n",
    "\n",
    "# def method(row_i):\n",
    "#     atoms_i = row_i[\"atoms\"]\n",
    "#     df_struct_coord_i = get_structure_coord_df(atoms_i)\n",
    "#     return(df_struct_coord_i)\n",
    "\n",
    "# coord_data_dict = df_bulk_dft.apply(method, axis=1).to_dict()\n",
    "\n",
    "# with open(os.path.join(directory, \"coord_data_dict.pickle\"), \"wb\") as fle:\n",
    "#     pickle.dump(coord_data_dict, fle)"
   ]
  },
  {
   "cell_type": "code",
   "execution_count": null,
   "metadata": {},
   "outputs": [],
   "source": [
    "path_i = os.path.join(\n",
    "    \"out_data\",\n",
    "    \"coord_data_dict.pickle\")\n",
    "with open(path_i, \"rb\") as fle:\n",
    "    coord_data_dict = pickle.load(fle)"
   ]
  },
  {
   "cell_type": "markdown",
   "execution_count": null,
   "metadata": {},
   "outputs": [],
   "source": [
    "# Analyse average O and Ir coordination "
   ]
  },
  {
   "cell_type": "code",
   "execution_count": null,
   "metadata": {},
   "outputs": [],
   "source": [
    "def method(row_i):\n",
    "    new_column_values_dict = {\n",
    "        \"O_coord\": None,\n",
    "        \"Ir_coord\": None,\n",
    "        \"O-O_bond\": None,\n",
    "        }\n",
    "\n",
    "    atoms_i = row_i[\"atoms\"]\n",
    "\n",
    "    # df_struct_coord_i = get_structure_coord_df(atoms_i)\n",
    "    df_struct_coord_i = coord_data_dict.get(row_i.name, None)\n",
    "\n",
    "    if df_struct_coord_i is None:\n",
    "        return(row_i)\n",
    "        \n",
    "    # #########################################################################\n",
    "    # O coordination to Ir ####################################################\n",
    "    df_i = df_struct_coord_i[df_struct_coord_i[\"element\"] == \"O\"]\n",
    "    coord_list = []\n",
    "    for i in df_i[\"neighbor_count\"].tolist():\n",
    "        coord_i = i.get(\"Ir\", None)\n",
    "        if coord_i is not None:\n",
    "            coord_list.append(coord_i)\n",
    "    ave_coord = np.mean(coord_list)\n",
    "    new_column_values_dict[\"O_coord\"] = ave_coord\n",
    "\n",
    "    # #########################################################################\n",
    "    # Ir coordination to O ####################################################\n",
    "    df_i = df_struct_coord_i[df_struct_coord_i[\"element\"] == \"Ir\"]\n",
    "    coord_list = []\n",
    "    for i in df_i[\"neighbor_count\"].tolist():\n",
    "        coord_i = i.get(\"O\", None)\n",
    "        if coord_i is not None:\n",
    "            coord_list.append(coord_i)\n",
    "    ave_coord = np.mean(coord_list)\n",
    "    new_column_values_dict[\"Ir_coord\"] = ave_coord\n",
    "\n",
    "    # #########################################################################\n",
    "    # O-O bond detection ######################################################\n",
    "    O_O_bond_present = False\n",
    "    df_tmp = df_struct_coord_i[df_struct_coord_i[\"element\"] == \"O\"]\n",
    "    for i in df_tmp[\"neighbor_count\"].tolist():\n",
    "        if \"O\" in i.keys():\n",
    "            O_O_bond_present = True\n",
    "    new_column_values_dict[\"O-O_bond\"] = O_O_bond_present\n",
    "\n",
    "    # #########################################################################\n",
    "    for key, value in new_column_values_dict.items():\n",
    "        row_i[key] = value\n",
    "    return(row_i)\n",
    "\n",
    "\n",
    "df_coord = df_bulk_dft.apply(method, axis=1)\n",
    "df_coord = df_coord.drop(labels=df_bulk_dft.columns, axis=1)"
   ]
  },
  {
   "cell_type": "markdown",
   "execution_count": null,
   "metadata": {},
   "outputs": [],
   "source": [
    "# Notebook runtime"
   ]
  },
  {
   "cell_type": "code",
   "execution_count": null,
   "metadata": {},
   "outputs": [],
   "source": [
    "run_time = time.time() - t0\n",
    "print(\"Notebook run time\", run_time, \"(s)\")\n",
    "\n",
    "run_per_row = run_time / df_bulk_dft.shape[0]\n",
    "print(\"Run time per loop\", run_per_row, \"(s)\")\n",
    "\n",
    "os.getcwd()"
   ]
  },
  {
   "cell_type": "markdown",
   "execution_count": null,
   "metadata": {},
   "outputs": [],
   "source": [
    "# Save Data"
   ]
  },
  {
   "cell_type": "code",
   "execution_count": null,
   "metadata": {},
   "outputs": [],
   "source": [
    "# # Pickling data ######################################################\n",
    "# with open(os.path.join(directory, \"df_coord_analysis.pickle\"), \"wb\") as fle:\n",
    "#     pickle.dump(df_coord, fle)\n",
    "# # #####################################################################"
   ]
  },
  {
   "cell_type": "raw",
   "execution_count": null,
   "metadata": {},
   "outputs": [],
   "source": [
    "\n",
    "\n",
    "\n"
   ]
  },
  {
   "cell_type": "markdown",
   "execution_count": null,
   "metadata": {},
   "outputs": [],
   "source": [
    "# TEMP TEMP TEMP"
   ]
  },
  {
   "cell_type": "code",
   "execution_count": null,
   "metadata": {},
   "outputs": [],
   "source": [
    "# # coord_data_dict[\"npvumg7g93\"].iloc[0][\"nn_info\"]\n",
    "# # dir(coord_data_dict[\"npvumg7g93\"].loc[53][\"nn_info\"][0][\"site\"])\n",
    "\n",
    "# sys_id = \"npvumg7g93\"\n",
    "\n",
    "# # #############################################################################\n",
    "# row_i = df_bulk_dft.loc[sys_id]\n",
    "# atoms_i = row_i[\"atoms\"]\n",
    "# structure_i = AseAtomsAdaptor.get_structure(atoms_i)\n",
    "\n",
    "# # #############################################################################\n",
    "# df_coord_i = coord_data_dict[sys_id]\n",
    "\n",
    "# ind = 53\n",
    "\n",
    "\n",
    "# df_coord_i.loc[ind][\"nn_info\"][0][\"site\"].distance(structure_i[ind])"
   ]
  },
  {
   "cell_type": "code",
   "execution_count": null,
   "metadata": {},
   "outputs": [],
   "source": [
    "all_oo_bond_distances = []\n",
    "data_list = []\n",
    "for sys_id in df_bulk_dft.index:\n",
    "# for sys_id in [\"mpbd6sz1z5\"]:\n",
    "    # #############################################################################\n",
    "    row_i = df_bulk_dft.loc[sys_id]\n",
    "    atoms_i = row_i[\"atoms\"]\n",
    "    structure_i = AseAtomsAdaptor.get_structure(atoms_i)\n",
    "\n",
    "    # #############################################################################\n",
    "    df_coord_i = coord_data_dict.get(sys_id, None)\n",
    "\n",
    "    if df_coord_i is None:\n",
    "        continue\n",
    "\n",
    "    oo_bond_distances = []\n",
    "    for j_cnt, row_j in df_coord_i[df_coord_i[\"element\"] == \"Ir\"].iterrows():\n",
    "        for nn_k in row_j[\"nn_info\"]:\n",
    "            if nn_k[\"site\"].species_string == \"O\":\n",
    "                data_dict = dict()\n",
    "\n",
    "\n",
    "                oo_bond_dist_k = \\\n",
    "                    nn_k[\"site\"].distance(structure_i[row_j[\"structure_index\"]])\n",
    "\n",
    "                oo_bond_distances.append(oo_bond_dist_k)\n",
    "                all_oo_bond_distances.append(oo_bond_dist_k)\n",
    "\n",
    "#                 data_dict[\"structure_\"]\n",
    "                data_dict[\"id_unique\"] = sys_id\n",
    "                data_dict[\"oo_bond_length\"] = oo_bond_dist_k\n",
    "                data_dict[\"structure_index\"] = row_j[\"structure_index\"]\n",
    "\n",
    "                data_dict = {**data_dict, **row_i}\n",
    "                data_dict = {**data_dict, **nn_k}\n",
    "\n",
    "                data_list.append(data_dict)\n",
    "\n",
    "len(all_oo_bond_distances)"
   ]
  },
  {
   "cell_type": "code",
   "execution_count": null,
   "metadata": {},
   "outputs": [],
   "source": [
    "df_oo = pd.DataFrame(data_list)\n",
    "df_oo = df_oo.sort_values(\"oo_bond_length\", ascending=False)\n",
    "\n",
    "# df_tmp.sort_values(\"structure_index\", ascending=False)\n",
    "\n",
    "df_weird = df_oo[df_oo[\"oo_bond_length\"] > 2.3]\n",
    "\n",
    "weird_ids = df_weird[\"id_unique\"].unique().tolist()"
   ]
  },
  {
   "cell_type": "code",
   "execution_count": null,
   "metadata": {},
   "outputs": [],
   "source": [
    "from ase_modules.ase_methods import view_in_vesta\n",
    "from ase import Atom\n",
    "# mpbd6sz1z5\n",
    "# view_in_vesta([atoms_i])"
   ]
  },
  {
   "cell_type": "code",
   "execution_count": null,
   "metadata": {},
   "outputs": [],
   "source": [
    "atoms_list = []\n",
    "names_list = []\n",
    "\n",
    "grouped = df_oo[df_oo[\"oo_bond_length\"] > 2.3].groupby([\"id_unique\"])\n",
    "\n",
    "\n",
    "df_oo_filtered = df_oo[\n",
    "#     (df_oo[\"oo_bond_length\"] < 2.3) & \\\n",
    "#     (df_oo[\"oo_bond_length\"] > 2.2)\n",
    "    (df_oo[\"oo_bond_length\"] < 2.3) & \\\n",
    "    (df_oo[\"oo_bond_length\"] > 2.2)\n",
    "    ]\n",
    "grouped = df_oo_filtered.groupby([\"id_unique\"])\n",
    "\n",
    "for name, group in grouped:\n",
    "\n",
    "    central_atom_indices = list(set(group[\"structure_index\"].tolist()))\n",
    "\n",
    "    # #########################################################################\n",
    "    consistent_oo_bl = False\n",
    "    bonded_atoms_indices_list = []\n",
    "    for ind_j, site_j in group.iterrows():\n",
    "        df_oo_j = df_oo[\n",
    "            (df_oo[\"id_unique\"] == name) & \\\n",
    "            (df_oo[\"site_index\"] == site_j[\"site_index\"])]\n",
    "        bonded_atoms_indices = df_oo_j[\"site_index\"].tolist()\n",
    "\n",
    "        oo_std_dev = df_oo_j[\"oo_bond_length\"].std()\n",
    "        if oo_std_dev < 0.001:\n",
    "            consistent_oo_bl = True\n",
    "#             print(oo_std_dev)\n",
    "\n",
    "        bonded_atoms_indices = list(set(bonded_atoms_indices))\n",
    "        bonded_atoms_indices_list +=  bonded_atoms_indices\n",
    "    bonded_atoms_indices_list = list(set(bonded_atoms_indices_list))\n",
    "    # #########################################################################\n",
    "\n",
    "    select_atoms_indices = list(set(group[\"site_index\"].tolist()))\n",
    "\n",
    "    all_relevant_indices = central_atom_indices + \\\n",
    "        select_atoms_indices + \\\n",
    "        bonded_atoms_indices_list\n",
    "\n",
    "\n",
    "    # atoms_reduced = df_bulk_dft.loc[name][\"atoms\"][all_relevant_indices]\n",
    "    atoms_reduced = df_bulk_dft.loc[name][\"atoms\"]\n",
    "\n",
    "#     Replacing O's that have large Ir-O BLs with another atom for visibility\n",
    "    # new_atoms = []\n",
    "    # for ind_i  in select_atoms_indices:\n",
    "    #     # ind_i = select_atoms_indices[0]\n",
    "    #     # atoms_reduced.append()\n",
    "    #     atom_i = Atom(symbol=\"H\", position=atoms_reduced[ind_i].position)\n",
    "    #     new_atoms.append(atom_i)\n",
    "\n",
    "    # del atoms_reduced[select_atoms_indices]\n",
    "    # for new_atom in new_atoms:\n",
    "    #     atoms_reduced.append(new_atom)\n",
    "\n",
    "    atoms_list.append(atoms_reduced)\n",
    "    names_list.append(name)"
   ]
  },
  {
   "cell_type": "code",
   "execution_count": null,
   "metadata": {},
   "outputs": [],
   "source": [
    "group_dict = {}\n",
    "for name, group in grouped:\n",
    "    group_dict[name] = group"
   ]
  },
  {
   "cell_type": "code",
   "execution_count": null,
   "metadata": {},
   "outputs": [],
   "source": [
    "group_dict.keys()"
   ]
  },
  {
   "cell_type": "code",
   "execution_count": null,
   "metadata": {},
   "outputs": [],
   "source": [
    "# group_dict[\"6dxsvlbymt\"]"
   ]
  },
  {
   "cell_type": "code",
   "execution_count": null,
   "metadata": {},
   "outputs": [],
   "source": [
    "# from ase import Atom\n",
    "# for ind_i  in select_atoms_indices:\n",
    "#     # ind_i = select_atoms_indices[0]\n",
    "\n",
    "#     atoms_reduced.append(\n",
    "#         Atom(symbol=\"He\", position=atoms_reduced[ind_i].position)\n",
    "#         )"
   ]
  },
  {
   "cell_type": "code",
   "execution_count": null,
   "metadata": {},
   "outputs": [],
   "source": [
    "print(len(atoms_list))\n",
    "# view_in_vesta(atoms_list, name_list=names_list)"
   ]
  },
  {
   "cell_type": "code",
   "execution_count": null,
   "metadata": {},
   "outputs": [],
   "source": [
    "# df_weird\n",
    "\n",
    "# atoms_list = []\n",
    "# names_list = []\n",
    "# grouped = df_weird.groupby([\"id_unique\"])\n",
    "# for name, group in grouped:\n",
    "#     central_atom_indices = list(set(group[\"structure_index\"].tolist()))\n",
    "#     # group.iloc[0][\"site_index\"]\n",
    "\n",
    "#     all_relevant_indices = central_atom_indices + list(set(group[\"site_index\"].tolist()))\n",
    "#     atoms_reduced = df_bulk_dft.loc[name][\"atoms\"][all_relevant_indices]\n",
    "#     atoms_list.append(atoms_reduced)\n",
    "#     names_list.append(namej)\n",
    "\n",
    "# # atoms_list"
   ]
  },
  {
   "cell_type": "markdown",
   "execution_count": null,
   "metadata": {},
   "outputs": [],
   "source": [
    "# Plotting Oxy bond length ditribution"
   ]
  },
  {
   "cell_type": "code",
   "execution_count": null,
   "metadata": {},
   "outputs": [],
   "source": [
    "from plotting.my_plotly import my_plotly_plot"
   ]
  },
  {
   "cell_type": "code",
   "execution_count": null,
   "metadata": {},
   "outputs": [],
   "source": [
    "import plotly.express as px\n",
    "\n",
    "tips = px.data.tips()\n",
    "fig = px.histogram(df_oo, x=\"oo_bond_length\", nbins=600, color=\"stoich\")\n",
    "fig.show()\n",
    "\n",
    "# my_plotly_plot"
   ]
  },
  {
   "cell_type": "raw",
   "execution_count": null,
   "metadata": {},
   "outputs": [],
   "source": [
    "\n",
    "\n"
   ]
  },
  {
   "cell_type": "code",
   "execution_count": null,
   "metadata": {
    "jupyter": {}
   },
   "outputs": [],
   "source": [
    "# df_tmp[df_tmp[\"structure_index\"] == 32]\n",
    "\n",
    "# df_oo_bonds = pd.DataFrame()\n",
    "# df_oo_bonds[\"TEMP\"] = all_oo_bond_distances"
   ]
  },
  {
   "cell_type": "code",
   "execution_count": null,
   "metadata": {
    "jupyter": {}
   },
   "outputs": [],
   "source": [
    "# pd.DataFrame.sort_values?"
   ]
  },
  {
   "cell_type": "code",
   "execution_count": null,
   "metadata": {
    "jupyter": {}
   },
   "outputs": [],
   "source": [
    "# df_oo.sort_values(\"oo_bond_length\")"
   ]
  },
  {
   "cell_type": "code",
   "execution_count": null,
   "metadata": {
    "jupyter": {}
   },
   "outputs": [],
   "source": [
    "# df_oo[df_oo[\"id_unique\"] == \"6dxsvlbymt\"].sort_values(by=[\"structure_index\", \"oo_bond_length\"])\n",
    "# df_oo[df_oo[\"id_unique\"] == \"639a63mabs\"].sort_values"
   ]
  },
  {
   "cell_type": "code",
   "execution_count": null,
   "metadata": {
    "jupyter": {}
   },
   "outputs": [],
   "source": [
    "# row_i = df_oo.iloc[0]\n",
    "\n",
    "# # df_ids.loc[]\n",
    "\n",
    "\n",
    "\n",
    "# id_row = df_ids[df_ids[\"unique_ids\"] == row_i[\"id_unique\"]]\n",
    "# stoich_i = id_row[\"stoich\"]\n",
    "\n",
    "# stoich_i.iloc[0]\n",
    "\n",
    "# df_oo\n",
    "# df_ids\n",
    "\n",
    "\n",
    "# def method(row_i):\n",
    "#     id_row = df_ids[df_ids[\"unique_ids\"] == row_i[\"id_unique\"]]\n",
    "#     stoich_i = id_row[\"stoich\"].iloc[0]\n",
    "#     print(stoich_i)\n",
    "#     return(stoich_i)\n",
    "\n",
    "# df_i = df_oo\n",
    "# # df_i[\"column_name\"] = \n",
    "# df_i.apply(\n",
    "#     method,\n",
    "#     axis=1,\n",
    "#     # args=(arg1, ),\n",
    "#     # optional_arg=\"TEMP_1\"\n",
    "#     )"
   ]
  },
  {
   "cell_type": "code",
   "execution_count": null,
   "metadata": {},
   "outputs": [],
   "source": [
    "# dir(atoms_reduced)\n",
    "\n",
    "# del atoms[[atom.index for atom in atoms if atom.symbol=='H']]\n",
    "\n",
    "# atoms_reduced[]\n",
    "\n"
   ]
  }
 ],
 "metadata": {
  "jupytext": {
   "formats": "ipynb,py:light"
  },
  "kernelspec": {
   "display_name": "Python [conda env:research-new]",
   "language": "python",
   "name": "conda-env-research-new-py"
  },
  "language_info": {
   "codemirror_mode": {
    "name": "ipython",
    "version": 3
   },
   "file_extension": ".py",
   "mimetype": "text/x-python",
   "name": "python",
   "nbconvert_exporter": "python",
   "pygments_lexer": "ipython3",
   "version": "3.6.8"
  }
 },
 "nbformat": 4,
 "nbformat_minor": 4
}
