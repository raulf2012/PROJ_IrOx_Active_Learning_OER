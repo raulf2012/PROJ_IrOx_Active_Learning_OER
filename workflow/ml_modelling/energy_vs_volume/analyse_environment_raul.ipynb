{
 "cells": [
  {
   "cell_type": "markdown",
   "metadata": {},
   "source": [
    "# Import Modules"
   ],
   "execution_count": null,
   "outputs": []
  },
  {
   "cell_type": "code",
   "execution_count": null,
   "metadata": {
    "Collapsed": "false",
    "jupyter": {}
   },
   "outputs": [],
   "source": [
    "import os\n",
    "print(os.getcwd())\n",
    "\n",
    "import sys\n",
    "\n",
    "from pymatgen.analysis.chemenv.coordination_environments.coordination_geometry_finder import LocalGeometryFinder\n",
    "\n",
    "from pymatgen.analysis.chemenv.coordination_environments.chemenv_strategies import SimplestChemenvStrategy, MultiWeightsChemenvStrategy\n",
    "from pymatgen.analysis.chemenv.coordination_environments.structure_environments import LightStructureEnvironments\n",
    "\n",
    "import numpy as np\n",
    "\n",
    "from pymatgen.core.structure import Structure\n",
    "\n",
    "from pymatgen.io.ase import AseAtomsAdaptor\n",
    "\n",
    "import ase\n",
    "from ase.db import connect\n",
    "from time import time"
   ]
  },
  {
   "cell_type": "markdown",
   "metadata": {},
   "source": [
    "# Script Inputs"
   ],
   "execution_count": null,
   "outputs": []
  },
  {
   "cell_type": "code",
   "execution_count": null,
   "metadata": {},
   "outputs": [],
   "source": [
    "t0 = time()\n",
    "\n",
    "ids_to_run = [\n",
    "    # 'vovgximhm2',\n",
    "    # '8dce6kz2vf',\n",
    "    # 'vhv39q6e9j',\n",
    "    # '8ymh8qnl6o',\n",
    "    # '6fcdbh9fz2',\n",
    "    # '7qm56wxj8s',\n",
    "    # 'mu6omk6k9l',\n",
    "    # '6dzhcimdxs',\n",
    "    \n",
    "    # Had nan values\n",
    "    # \"vovl8d7wvi\",\n",
    "    ]"
   ]
  },
  {
   "cell_type": "raw",
   "metadata": {},
   "source": [
    "\n",
    "\n"
   ],
   "execution_count": null,
   "outputs": []
  },
  {
   "cell_type": "code",
   "execution_count": null,
   "metadata": {
    "Collapsed": "false"
   },
   "outputs": [],
   "source": [
    "db = connect('out_data/FinalStructures_1.db')\n",
    "for row in db.select():\n",
    "    # print('-------------------')\n",
    "    # print(row.id)\n",
    "\n",
    "    key_value_pairs = row.key_value_pairs\n",
    "    structure_id = key_value_pairs[\"structure_id\"]\n",
    "\n",
    "    if structure_id in ids_to_run:\n",
    "        print(\"RUNNING!\")\n",
    "\n",
    "        atoms = row.toatoms()\n",
    "        Ir_indices = [i for i, s in enumerate(atoms.get_chemical_symbols())\n",
    "                      if s == 'Ir']\n",
    "\n",
    "        struct = AseAtomsAdaptor.get_structure(atoms)\n",
    "\n",
    "\n",
    "        lgf = LocalGeometryFinder()\n",
    "        lgf.setup_structure(structure=struct)\n",
    "\n",
    "        se = lgf.compute_structure_environments(\n",
    "            maximum_distance_factor=1.41,\n",
    "            only_cations=False)\n",
    "\n",
    "\n",
    "        strategy = MultiWeightsChemenvStrategy.stats_article_weights_parameters()\n",
    "\n",
    "        lse = LightStructureEnvironments.from_structure_environments(\n",
    "            strategy=strategy, structure_environments=se)\n",
    "\n",
    "        isite = 0\n",
    "\n",
    "        cor_env = []\n",
    "        for isite in Ir_indices:\n",
    "            c_env = lse.coordination_environments[isite]\n",
    "            if len(c_env) == 0:\n",
    "                continue\n",
    "            cor_env += [c_env[0]['ce_symbol']]\n",
    "\n",
    "        if len(cor_env) == 0:\n",
    "            continue\n",
    "        uniques, counts = np.unique(cor_env, return_counts=True)\n",
    "\n",
    "        if len(uniques) > 1:\n",
    "            coor = 'mixed'\n",
    "\n",
    "            coor_l = [int(c.split(':')[-1]) for c in cor_env]\n",
    "\n",
    "            mean_coor = np.mean(coor_l)\n",
    "            #idx = np.argmax(counts)\n",
    "            #coor = uniques[idx]\n",
    "        else:\n",
    "            coor = uniques[0]\n",
    "            mean_coor = int(coor.split(':')[-1])\n",
    "\n",
    "        print(coor, mean_coor)\n",
    "        # db.update(id=row.id, coor_env=coor, mean_coor=mean_coor)"
   ]
  },
  {
   "cell_type": "code",
   "execution_count": null,
   "metadata": {},
   "outputs": [],
   "source": [
    "print(\"Running time (s)\", time() - t0)"
   ]
  },
  {
   "cell_type": "raw",
   "metadata": {},
   "source": [
    "\n",
    "\n",
    "\n"
   ],
   "execution_count": null,
   "outputs": []
  },
  {
   "cell_type": "code",
   "execution_count": null,
   "metadata": {
    "Collapsed": "false",
    "jupyter": {}
   },
   "outputs": [],
   "source": [
    "# struct\n",
    "\n",
    "# se = lgf.compute_structure_environments(\n",
    "#     maximum_distance_factor=1.41,\n",
    "#     only_cations=False)"
   ]
  }
 ],
 "metadata": {
  "kernelspec": {
   "display_name": "Python [conda env:PROJ_IrOx_Active_Learning_OER]",
   "language": "python",
   "name": "conda-env-PROJ_IrOx_Active_Learning_OER-py"
  },
  "language_info": {
   "codemirror_mode": {
    "name": "ipython",
    "version": 3
   },
   "file_extension": ".py",
   "mimetype": "text/x-python",
   "name": "python",
   "nbconvert_exporter": "python",
   "pygments_lexer": "ipython3",
   "version": "3.6.9"
  }
 },
 "nbformat": 4,
 "nbformat_minor": 4
}
