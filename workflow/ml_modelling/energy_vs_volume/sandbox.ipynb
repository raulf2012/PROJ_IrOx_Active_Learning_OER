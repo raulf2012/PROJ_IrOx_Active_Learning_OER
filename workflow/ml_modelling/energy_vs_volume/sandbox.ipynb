{
 "cells": [
  {
   "cell_type": "markdown",
   "execution_count": null,
   "metadata": {
    "Collapsed": "false"
   },
   "outputs": [],
   "source": [
    "# Creating E vs V Figure for IrO2 and IrO3\n",
    "---\n",
    "\n",
    "TODO Eliminate duplicates (correctly)\n",
    "TODO Add color bar label"
   ]
  },
  {
   "cell_type": "markdown",
   "execution_count": null,
   "metadata": {
    "Collapsed": "false"
   },
   "outputs": [],
   "source": [
    "# Import Modules"
   ]
  },
  {
   "cell_type": "code",
   "execution_count": null,
   "metadata": {
    "Collapsed": "false",
    "attributes": {
     "classes": [],
     "id": "",
     "n": "1"
    }
   },
   "outputs": [],
   "source": [
    "import os\n",
    "import ase\n",
    "from ase.db import connect\n",
    "import sys\n",
    "import copy\n",
    "import pickle\n",
    "\n",
    "import numpy as np\n",
    "import pandas as pd\n",
    "\n",
    "from plotly.subplots import make_subplots\n",
    "\n",
    "import chart_studio.plotly as py\n",
    "import plotly.graph_objs as go\n",
    "import plotly.express as px\n",
    "import plotly.io as plio\n",
    "\n",
    "\n",
    "# from inputs import (\n",
    "#     Ir_ref,\n",
    "#     O_ref,\n",
    "#     coord_env_style)\n",
    "\n",
    "# from layout import layout\n",
    "\n",
    "\n",
    "\n",
    "# structure_id_map = {\n",
    "#     '64cg6j9any': 'i (rutile)',  # rutile\n",
    "#     'cg8p7fxq65': 'anatase', # anatase\n",
    "#     'm2bs8w82x5': 'brookite', # Brookite\n",
    "#     'n36axdbw65': 'ii', # 2nd stable columbite like?\n",
    "#     '85z4msnl6o': 'iii (pyrite)', # Pyrite                    \n",
    "#     #'myc4ng73xh': 'v', # Fm3m\n",
    "#     'zizr7rvpxs': 'vi', # Porous\n",
    "#     'b49kx4c19q': 'v (columbite)', # Columbite\n",
    "#     'nscdbpmdct': 'iv',  # P63 (layered)                    \n",
    "#     #'m2bs8w82x5': 'vi',\n",
    "#     # IrO3\n",
    "#     'mp6lno9jzr': 'i', # 482_2d\n",
    "#     '9i6ixublcr': 'iii', # porous\n",
    "#     'v2blxebixh': 'ii', # sg=2\n",
    "#     'nrml6dms9l': 'iv',   # 472_mplowest _63\n",
    "#     #'xozr8f7p7g': 'iv',  # Mp 2nd sg=38                    \n",
    "#     '6tmjv4myvg': 'v',  # 1D sg=1\n",
    "#     #'9lmkmh8s8r': '', # 489_alpha\n",
    "#     #'zimixdvdxd': '', #492_alpha_like\n",
    "#     'b5cgvsb16w': '(3)', #'rutile-like',\n",
    "#     '8p8evt9pcg': '(1)', #'alpha',\n",
    "#     'zimixdvdxd': '(2)', #'P6_322',\n",
    "#     'mj7wbfb5nt': '(4)', #'sg=52, battery?',\n",
    "#     '949rnem5z2': '(5)'   #'sg=53',\n",
    "#     }\n",
    "\n",
    "# dx = 0.2"
   ]
  },
  {
   "cell_type": "code",
   "execution_count": null,
   "metadata": {
    "Collapsed": "false",
    "jupyter": {},
    "lines_to_next_cell": 2
   },
   "outputs": [],
   "source": [
    "%%capture\n",
    "\n",
    "# #############################################################################\n",
    "FinalStructuresdb_file = os.path.join(\n",
    "    os.environ[\"PROJ_irox\"],\n",
    "    \"workflow/ml_modelling/energy_vs_volume/kirsten_E_vs_V_analysis/scripts/out_data\",\n",
    "    \"FinalStructures_1.db\")\n",
    "\n",
    "\n",
    "db = connect(FinalStructuresdb_file)\n",
    "\n",
    "# #############################################################################\n",
    "# Duplicates list\n",
    "# duplicates = pickle.load(open(\"../duplicates.pickle\", \"rb\"))\n",
    "\n",
    "\n",
    "# #############################################################################\n",
    "# Bulk DFT Dataframe\n",
    "sys.path.insert(0, os.path.join(\n",
    "    os.environ[\"PROJ_irox\"], \"workflow/ml_modelling\"))\n",
    "from ml_methods import get_data_for_al\n",
    "\n",
    "# data_dict = get_data_for_al(stoich=\"AB2\", drop_too_many_atoms=True)\n",
    "# df_bulk_dft_ab2 = data_dict[\"df_bulk_dft\"]\n",
    "\n",
    "# data_dict = get_data_for_al(stoich=\"AB3\", drop_too_many_atoms=True)\n",
    "# df_bulk_dft_ab3 = data_dict[\"df_bulk_dft\"]\n",
    "\n",
    "# # Combine AB2/3 Dataframes\n",
    "# df_bulk_dft = pd.concat([df_bulk_dft_ab2, df_bulk_dft_ab3])\n",
    "# df_bulk_dft = df_bulk_dft[df_bulk_dft.source == \"raul\"]"
   ]
  },
  {
   "cell_type": "code",
   "execution_count": null,
   "metadata": {
    "Collapsed": "false",
    "attributes": {
     "classes": [],
     "id": "",
     "n": "4"
    }
   },
   "outputs": [],
   "source": [
    "data_list = []\n",
    "for row in db.select():\n",
    "    row_dict = dict(\n",
    "        energy=row.get(\"energy\"),\n",
    "        # volume=row.get(\"volume\"),\n",
    "        **row.key_value_pairs,\n",
    "        )\n",
    "    data_list.append(row_dict)\n",
    "\n",
    "df = pd.DataFrame(data_list)\n",
    "\n",
    "# df = df[~df[\"stoich\"].isna()]\n",
    "#df = df[~df[\"coor_env\"].isna()]\n",
    "\n",
    "# print(\"Total df rows:\", df.structure_id.shape[0])\n",
    "# print(\"Unique structure ids:\", df.structure_id.unique().shape[0])\n",
    "# print(\"\")"
   ]
  },
  {
   "cell_type": "code",
   "execution_count": null,
   "metadata": {},
   "outputs": [],
   "source": [
    "df"
   ]
  }
 ],
 "metadata": {
  "kernelspec": {
   "display_name": "Python [conda env:PROJ_IrOx_Active_Learning_OER]",
   "language": "python",
   "name": "conda-env-PROJ_IrOx_Active_Learning_OER-py"
  },
  "language_info": {
   "codemirror_mode": {
    "name": "ipython",
    "version": 3
   },
   "file_extension": ".py",
   "mimetype": "text/x-python",
   "name": "python",
   "nbconvert_exporter": "python",
   "pygments_lexer": "ipython3",
   "version": "3.6.7"
  }
 },
 "nbformat": 4,
 "nbformat_minor": 4
}
