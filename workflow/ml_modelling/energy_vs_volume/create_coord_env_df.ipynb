{
 "cells": [
  {
   "cell_type": "markdown",
   "execution_count": null,
   "metadata": {
    "Collapsed": "false"
   },
   "outputs": [],
   "source": [
    "# TEMP\n",
    "---"
   ]
  },
  {
   "cell_type": "markdown",
   "execution_count": null,
   "metadata": {
    "Collapsed": "false"
   },
   "outputs": [],
   "source": [
    "# Import Modules"
   ]
  },
  {
   "cell_type": "code",
   "execution_count": null,
   "metadata": {
    "Collapsed": "false",
    "attributes": {
     "classes": [],
     "id": "",
     "n": "1"
    }
   },
   "outputs": [],
   "source": [
    "import os\n",
    "\n",
    "import pandas as pd\n",
    "\n",
    "from ase.db import connect"
   ]
  },
  {
   "cell_type": "markdown",
   "execution_count": null,
   "metadata": {
    "Collapsed": "false"
   },
   "outputs": [],
   "source": [
    "# Read Data"
   ]
  },
  {
   "cell_type": "code",
   "execution_count": null,
   "metadata": {
    "Collapsed": "false",
    "jupyter": {},
    "lines_to_next_cell": 2
   },
   "outputs": [],
   "source": [
    "# Structural Analysis db file\n",
    "FinalStructuresdb_file = os.path.join(\n",
    "    os.environ[\"PROJ_irox\"],\n",
    "    \"workflow/ml_modelling/energy_vs_volume/kirsten_E_vs_V_analysis/scripts/out_data\",\n",
    "    \"FinalStructures_1.db\")\n",
    "db = connect(FinalStructuresdb_file)"
   ]
  },
  {
   "cell_type": "markdown",
   "execution_count": null,
   "metadata": {
    "Collapsed": "false",
    "lines_to_next_cell": 2
   },
   "outputs": [],
   "source": [
    "# Construct DataFrame\n",
    "\n"
   ]
  },
  {
   "cell_type": "code",
   "execution_count": null,
   "metadata": {},
   "outputs": [],
   "source": [
    "data_list = []\n",
    "for row in db.select():\n",
    "    row_dict = dict(\n",
    "        **row.key_value_pairs)\n",
    "    data_list.append(row_dict)\n",
    "\n",
    "df = pd.DataFrame(data_list)\n",
    "df = df[~df[\"stoich\"].isna()]\n",
    "\n",
    "df = df.drop(columns=[\"stoich\", \"id_old\"])"
   ]
  },
  {
   "cell_type": "code",
   "execution_count": null,
   "metadata": {},
   "outputs": [],
   "source": [
    "df"
   ]
  },
  {
   "cell_type": "code",
   "execution_count": null,
   "metadata": {},
   "outputs": [],
   "source": [
    "# Pickling data ###########################################\n",
    "import os; import pickle\n",
    "directory = \"out_data\"\n",
    "if not os.path.exists(directory): os.makedirs(directory)\n",
    "with open(os.path.join(directory, \"df_coord_env.pickle\"), \"wb\") as fle:\n",
    "    pickle.dump(df, fle)\n",
    "# #########################################################"
   ]
  },
  {
   "cell_type": "raw",
   "execution_count": null,
   "metadata": {},
   "outputs": [],
   "source": [
    "\n",
    "\n"
   ]
  },
  {
   "cell_type": "code",
   "execution_count": null,
   "metadata": {
    "Collapsed": "false",
    "attributes": {
     "classes": [],
     "id": "",
     "n": "1"
    },
    "jupyter": {}
   },
   "outputs": [],
   "source": [
    "# structure_id_map = {\n",
    "#     '64cg6j9any': 'i (rutile)',  # rutile\n",
    "#     'cg8p7fxq65': 'anatase', # anatase\n",
    "#     'm2bs8w82x5': 'brookite', # Brookite\n",
    "#     'n36axdbw65': 'ii', # 2nd stable columbite like?\n",
    "#     '85z4msnl6o': 'iii (pyrite)', # Pyrite                    \n",
    "#     #'myc4ng73xh': 'v', # Fm3m\n",
    "#     'zizr7rvpxs': 'vi', # Porous\n",
    "#     'b49kx4c19q': 'v (columbite)', # Columbite\n",
    "#     'nscdbpmdct': 'iv',  # P63 (layered)                    \n",
    "#     #'m2bs8w82x5': 'vi',\n",
    "#     # IrO3\n",
    "#     'mp6lno9jzr': 'i', # 482_2d\n",
    "#     '9i6ixublcr': 'iii', # porous\n",
    "#     'v2blxebixh': 'ii', # sg=2\n",
    "#     'nrml6dms9l': 'iv',   # 472_mplowest _63\n",
    "#     #'xozr8f7p7g': 'iv',  # Mp 2nd sg=38                    \n",
    "#     '6tmjv4myvg': 'v',  # 1D sg=1\n",
    "#     #'9lmkmh8s8r': '', # 489_alpha\n",
    "#     #'zimixdvdxd': '', #492_alpha_like\n",
    "#     'b5cgvsb16w': '(3)', #'rutile-like',\n",
    "#     '8p8evt9pcg': '(1)', #'alpha',\n",
    "#     'zimixdvdxd': '(2)', #'P6_322',\n",
    "#     'mj7wbfb5nt': '(4)', #'sg=52, battery?',\n",
    "#     '949rnem5z2': '(5)'   #'sg=53',\n",
    "#     }\n",
    "\n",
    "# dx = 0.2"
   ]
  },
  {
   "cell_type": "code",
   "execution_count": null,
   "metadata": {
    "Collapsed": "false",
    "jupyter": {},
    "lines_to_next_cell": 2
   },
   "outputs": [],
   "source": [
    "# #############################################################################\n",
    "# Duplicates list\n",
    "# duplicates = pickle.load(open(\"../duplicates.pickle\", \"rb\"))\n",
    "\n",
    "\n",
    "# #############################################################################\n",
    "# # Bulk DFT Dataframe\n",
    "# sys.path.insert(0, os.path.join(\n",
    "#     os.environ[\"PROJ_irox\"], \"workflow/ml_modelling\"))\n",
    "# from ml_methods import get_data_for_al\n",
    "\n",
    "# data_dict = get_data_for_al(stoich=\"AB2\", drop_too_many_atoms=True)\n",
    "# df_bulk_dft_ab2 = data_dict[\"df_bulk_dft\"]\n",
    "\n",
    "# data_dict = get_data_for_al(stoich=\"AB3\", drop_too_many_atoms=True)\n",
    "# df_bulk_dft_ab3 = data_dict[\"df_bulk_dft\"]\n",
    "\n",
    "# # Combine AB2/3 Dataframes\n",
    "# df_bulk_dft = pd.concat([df_bulk_dft_ab2, df_bulk_dft_ab3])\n",
    "# df_bulk_dft = df_bulk_dft[df_bulk_dft.source == \"raul\"]"
   ]
  },
  {
   "cell_type": "code",
   "execution_count": null,
   "metadata": {
    "Collapsed": "false",
    "attributes": {
     "classes": [],
     "id": "",
     "n": "1"
    },
    "jupyter": {}
   },
   "outputs": [],
   "source": [
    "# import sys\n",
    "# import copy\n",
    "# import pickle\n",
    "\n",
    "# import numpy as np\n",
    "\n",
    "# from plotly.subplots import make_subplots\n",
    "\n",
    "# import chart_studio.plotly as py\n",
    "# import plotly.graph_objs as go\n",
    "# import plotly.express as px\n",
    "# import plotly.io as plio\n",
    "\n",
    "\n",
    "# from inputs import (\n",
    "#     Ir_ref,\n",
    "#     O_ref,\n",
    "#     coord_env_style)\n",
    "\n",
    "# from layout import layout"
   ]
  }
 ],
 "metadata": {
  "kernelspec": {
   "display_name": "Python [conda env:PROJ_IrOx_Active_Learning_OER]",
   "language": "python",
   "name": "conda-env-PROJ_IrOx_Active_Learning_OER-py"
  },
  "language_info": {
   "codemirror_mode": {
    "name": "ipython",
    "version": 3
   },
   "file_extension": ".py",
   "mimetype": "text/x-python",
   "name": "python",
   "nbconvert_exporter": "python",
   "pygments_lexer": "ipython3",
   "version": "3.6.9"
  }
 },
 "nbformat": 4,
 "nbformat_minor": 4
}
