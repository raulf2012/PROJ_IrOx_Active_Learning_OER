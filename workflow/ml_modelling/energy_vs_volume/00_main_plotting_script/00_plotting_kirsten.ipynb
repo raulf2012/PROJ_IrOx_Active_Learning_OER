{
 "cells": [
  {
   "cell_type": "markdown",
   "metadata": {
    "Collapsed": "false"
   },
   "source": [
    "# Creating E vs V Figure for IrO2 and IrO3\n",
    "---"
   ],
   "execution_count": null,
   "outputs": []
  },
  {
   "cell_type": "markdown",
   "metadata": {
    "Collapsed": "false"
   },
   "source": [
    "# Import Modules"
   ],
   "execution_count": null,
   "outputs": []
  },
  {
   "cell_type": "code",
   "execution_count": null,
   "metadata": {
    "Collapsed": "false",
    "attributes": {
     "classes": [],
     "id": "",
     "n": "1"
    }
   },
   "outputs": [],
   "source": [
    "import os\n",
    "print(os.getcwd())\n",
    "import sys\n",
    "\n",
    "import copy\n",
    "# import pickle\n",
    "\n",
    "import numpy as np\n",
    "import pandas as pd\n",
    "\n",
    "# import ase\n",
    "from ase.db import connect\n",
    "\n",
    "from plotly.subplots import make_subplots\n",
    "import chart_studio.plotly as py\n",
    "import plotly.graph_objs as go\n",
    "import plotly.express as px\n",
    "\n",
    "# #########################################################\n",
    "from layout import layout"
   ]
  },
  {
   "cell_type": "code",
   "execution_count": null,
   "metadata": {},
   "outputs": [],
   "source": [
    "from inputs import structure_id_map"
   ]
  },
  {
   "cell_type": "code",
   "execution_count": null,
   "metadata": {},
   "outputs": [],
   "source": [
    "dx = 0.2"
   ]
  },
  {
   "cell_type": "markdown",
   "metadata": {
    "Collapsed": "false"
   },
   "source": [
    "# Read Data"
   ],
   "execution_count": null,
   "outputs": []
  },
  {
   "cell_type": "code",
   "execution_count": null,
   "metadata": {},
   "outputs": [],
   "source": [
    "sys.path.insert(0, os.path.join(\n",
    "    os.environ[\"PROJ_irox\"], \"workflow/ml_modelling\"))\n",
    "from ml_methods import get_ml_dataframes\n",
    "\n",
    "DF_dict = get_ml_dataframes(names=[\n",
    "    \"df_dft_final_final_path\",\n",
    "    # \"\",\n",
    "    ])\n",
    "\n",
    "df_bulk_dft = DF_dict[\"df_dft_final_final\"]"
   ]
  },
  {
   "cell_type": "markdown",
   "metadata": {
    "Collapsed": "false",
    "lines_to_next_cell": 2
   },
   "source": [
    "# Construct DataFrame\n",
    "\n"
   ],
   "execution_count": null,
   "outputs": []
  },
  {
   "cell_type": "code",
   "execution_count": null,
   "metadata": {
    "Collapsed": "false",
    "attributes": {
     "classes": [],
     "id": "",
     "n": "4"
    }
   },
   "outputs": [],
   "source": [
    "# #############################################################################\n",
    "# Structural Analysis db file\n",
    "FinalStructuresdb_file = os.path.join(\n",
    "    os.environ[\"PROJ_irox\"],\n",
    "    \"workflow/ml_modelling/energy_vs_volume/kirsten_E_vs_V_analysis/scripts\",\n",
    "    \"out_data/FinalStructures_1.db\")\n",
    "\n",
    "db = connect(FinalStructuresdb_file)\n",
    "\n",
    "\n",
    "data_list = []\n",
    "for row in db.select():\n",
    "    row_dict = dict(\n",
    "        energy=row.get(\"energy\"),\n",
    "        # volume=row.get(\"volume\"),\n",
    "        **row.key_value_pairs,\n",
    "        )\n",
    "    data_list.append(row_dict)\n",
    "\n",
    "df = pd.DataFrame(data_list)\n",
    "\n",
    "df = df[~df[\"stoich\"].isna()]\n",
    "#df = df[~df[\"coor_env\"].isna()]\n",
    "\n",
    "print(\"Total df rows:\", df.structure_id.shape[0])\n",
    "print(\"Unique structure ids:\", df.structure_id.unique().shape[0])\n",
    "print(\"\")"
   ]
  },
  {
   "cell_type": "code",
   "execution_count": null,
   "metadata": {},
   "outputs": [],
   "source": [
    "df = df.set_index(\"structure_id\")\n",
    "\n",
    "df = df.loc[\n",
    "    df.index.intersection(df_bulk_dft.index)    \n",
    "    ]"
   ]
  },
  {
   "cell_type": "code",
   "execution_count": null,
   "metadata": {
    "Collapsed": "false"
   },
   "outputs": [],
   "source": [
    "# #############################################################################\n",
    "# Merge dataframes together ###################################################\n",
    "\n",
    "# Drop unnecessary duplicate columns before merging\n",
    "df = df.drop([\n",
    "    \"energy\",\n",
    "    # \"volume\",\n",
    "    \"stoich\",\n",
    "    \"id_old\",\n",
    "    ], axis=1)\n",
    "\n",
    "df = pd.merge(df, df_bulk_dft,\n",
    "    left_index=True,\n",
    "    right_index=True,\n",
    "    )\n",
    "\n",
    "print(\"df.shape:\", df.shape)\n",
    "print(\"df_bulk_dft.shape:\", df_bulk_dft.shape)"
   ]
  },
  {
   "cell_type": "markdown",
   "metadata": {
    "Collapsed": "false"
   },
   "source": [
    "# Process Dataframe"
   ],
   "execution_count": null,
   "outputs": []
  },
  {
   "cell_type": "code",
   "execution_count": null,
   "metadata": {},
   "outputs": [],
   "source": [
    "sys.path.insert(0, \".\")\n",
    "from colors import get_color_scale\n",
    "\n",
    "colorscale_i = get_color_scale(df=df, dx=dx)"
   ]
  },
  {
   "cell_type": "markdown",
   "metadata": {
    "Collapsed": "false"
   },
   "source": [
    "# Sorting data to bring out 4/6 coordination"
   ],
   "execution_count": null,
   "outputs": []
  },
  {
   "cell_type": "code",
   "execution_count": null,
   "metadata": {
    "Collapsed": "false",
    "lines_to_next_cell": 2
   },
   "outputs": [],
   "source": [
    "df = df.sort_values(\"mean_coor\")\n",
    "\n",
    "df_concat_list = [\n",
    "    df[\n",
    "        (df.mean_coor < 4 + dx) & \\\n",
    "        (df.mean_coor > 4 - dx)\n",
    "        ],\n",
    "\n",
    "    df[\n",
    "        (df.mean_coor < 6 + dx) & \\\n",
    "        (df.mean_coor > 6 - dx)\n",
    "        ],\n",
    "    \n",
    "    ]\n",
    "\n",
    "df_tmp = pd.concat(df_concat_list)\n",
    "\n",
    "remaining_ids = [i for i in df.index if i not in df_tmp.index]\n",
    "df = pd.concat([df_tmp, df.loc[remaining_ids]])\n",
    "\n",
    "\n",
    "df = df.reindex(index=df.index[::-1])\n",
    "\n",
    "print('Total IrO2:', len(df[df.stoich == \"AB2\"]['dH']))\n",
    "print('Total IrO3:', len(df[df.stoich == \"AB3\"]['dH']))     \n",
    "\n",
    "print('Metastable IrO2:', len(np.where(df[df.stoich == \"AB2\"]['dH'].values < -0.33)[0]))\n",
    "print('Metastable IrO3:', len(np.where(df[df.stoich == \"AB3\"]['dH'].values < -0.34)[0]))"
   ]
  },
  {
   "cell_type": "markdown",
   "metadata": {
    "incorrectly_encoded_metadata": "Collapsed=\"false\" Collapsed=\"false\" Collapsed=\"false\" Collapsed=\"false\" Collapsed=\"false\" Collapsed=\"false\" toc-hr-collapsed=true"
   },
   "source": [
    "# Plotting"
   ],
   "execution_count": null,
   "outputs": []
  },
  {
   "cell_type": "markdown",
   "metadata": {
    "Collapsed": "false"
   },
   "source": [
    "## Shared scatter attributes"
   ],
   "execution_count": null,
   "outputs": []
  },
  {
   "cell_type": "code",
   "execution_count": null,
   "metadata": {
    "Collapsed": "false",
    "attributes": {
     "classes": [],
     "id": "",
     "n": "6"
    },
    "jupyter": {}
   },
   "outputs": [],
   "source": [
    "scatter_shared = go.Scatter(\n",
    "    mode=\"markers\",\n",
    "    hoverinfo=\"text\",\n",
    "    marker=dict(\n",
    "        symbol=\"circle\",\n",
    "        size=4,\n",
    "        opacity=0.8,\n",
    "        line=dict(\n",
    "            color=\"black\",\n",
    "            # width=1,\n",
    "            width=0.,\n",
    "            ),\n",
    "        colorscale=colorscale_i,\n",
    "\n",
    "        colorbar=dict(\n",
    "            bordercolor=\"green\",\n",
    "            outlinecolor=\"black\",\n",
    "            tickcolor=\"black\",\n",
    "            xanchor=\"right\",\n",
    "            # x=1.091,\n",
    "            # x=1.1,\n",
    "            x=1.15,\n",
    "            len=1.16,\n",
    "            lenmode=\"fraction\",\n",
    "            # #################################################################\n",
    "            thickness=15,\n",
    "            thicknessmode=None,\n",
    "            tickprefix=None,\n",
    "            ticks=\"outside\",\n",
    "            # #################################################################\n",
    "            tickvals = [2, 4, 6, 8, 10, 12],\n",
    "            y=0.50005,\n",
    "            yanchor=\"middle\",\n",
    "            ypad=10,\n",
    "            borderwidth=None,\n",
    "\n",
    "            title=go.scatter.marker.colorbar.Title(\n",
    "                font=None,\n",
    "                side=\"right\",  # ['right', 'top', 'bottom']\n",
    "                text=\"Ir-O Coord. Num.\",\n",
    "                ),\n",
    "\n",
    "            # titlefont=None,\n",
    "            # titleside=None,\n",
    "\n",
    "            ),\n",
    "\n",
    "        ),\n",
    "    )"
   ]
  },
  {
   "cell_type": "markdown",
   "metadata": {
    "Collapsed": "false"
   },
   "source": [
    "## Create AB2/3 traces"
   ],
   "execution_count": null,
   "outputs": []
  },
  {
   "cell_type": "code",
   "execution_count": null,
   "metadata": {
    "Collapsed": "false",
    "attributes": {
     "classes": [],
     "id": "",
     "n": "11"
    }
   },
   "outputs": [],
   "source": [
    "%%capture\n",
    "\n",
    "df_i = df[df.stoich == \"AB2\"]\n",
    "trace_ab2 = go.Scatter(\n",
    "    x=df_i.volume_pa,\n",
    "    y=df_i.dH,\n",
    "    # text=[str(i) for i in df_i.mean_coor.tolist()],\n",
    "    text=df_i.index.values,\n",
    "    marker=dict(color=df_i.mean_coor, size=3))\n",
    "trace_ab2.update(**scatter_shared.to_plotly_json())\n",
    "\n",
    "\n",
    "\n",
    "# #############################################################################\n",
    "df_i = df[df.stoich == \"AB3\"]\n",
    "trace_ab3 = go.Scatter(\n",
    "    x=df_i.volume_pa,\n",
    "    y=df_i.dH,\n",
    "    # text=[str(i) for i in df_i.mean_coor.tolist()],\n",
    "    text=df_i.index.values,\n",
    "    marker=dict(color=df_i.mean_coor))\n",
    "trace_ab3.update(**scatter_shared.to_plotly_json())"
   ]
  },
  {
   "cell_type": "markdown",
   "metadata": {
    "Collapsed": "false"
   },
   "source": [
    "# Shapes"
   ],
   "execution_count": null,
   "outputs": []
  },
  {
   "cell_type": "code",
   "execution_count": null,
   "metadata": {},
   "outputs": [],
   "source": [
    "from shapes import get_plot_shapes\n",
    "\n",
    "inset_range_0_x = [9.5, 17.]\n",
    "inset_range_1_x = [9.5, 17.5]\n",
    "\n",
    "\n",
    "out_dict = get_plot_shapes(\n",
    "    df=df,\n",
    "    inset_range_0_x=inset_range_0_x,\n",
    "    inset_range_1_x=inset_range_1_x,\n",
    "    )\n",
    "\n",
    "shapes_list = out_dict[\"shapes_list\"]\n",
    "\n",
    "shape_inset_metastability_ab2 = go.layout.Shape(\n",
    "    type=\"line\",\n",
    "    x0=0,\n",
    "    y0=-0.33285956787756277, #ab2_min_e + metastability_limit,\n",
    "    x1=40,\n",
    "    y1=-0.33285956787756277,\n",
    "    xref=\"x1\",\n",
    "    yref=\"y1\",\n",
    "    line=dict(\n",
    "        color=\"grey\",\n",
    "        width=1,\n",
    "    )\n",
    ")\n",
    "\n",
    "shape_inset_metastability_ab3 = go.layout.Shape(\n",
    "    type=\"line\",\n",
    "    x0=0,\n",
    "    y0=-0.3438547784081729, \n",
    "    x1=40,\n",
    "    y1=-0.3438547784081729, \n",
    "    xref=\"x2\",\n",
    "    yref=\"y2\",\n",
    "    line=dict(\n",
    "        color=\"grey\",\n",
    "        width=1,\n",
    "    )\n",
    ")\n",
    "\n",
    "shapes_list += [shape_inset_metastability_ab2, shape_inset_metastability_ab3]\n",
    "inset_range_0_y = out_dict[\"inset_range_0_y\"]\n",
    "inset_range_1_y = out_dict[\"inset_range_1_y\"]"
   ]
  },
  {
   "cell_type": "markdown",
   "metadata": {
    "Collapsed": "false"
   },
   "source": [
    "## Create subplot"
   ],
   "execution_count": null,
   "outputs": []
  },
  {
   "cell_type": "code",
   "execution_count": null,
   "metadata": {
    "Collapsed": "false"
   },
   "outputs": [],
   "source": [
    "%%capture\n",
    "\n",
    "inset_attr = dict(l=0.5, b=0.5)\n",
    "fig = make_subplots(\n",
    "    rows=1, cols=2,\n",
    "    shared_xaxes=True,\n",
    "    shared_yaxes=True,\n",
    "    specs = [[{}, {}]],\n",
    "    insets=[\n",
    "        {\n",
    "            \"cell\": (1,1),\n",
    "            **inset_attr,\n",
    "            },\n",
    "\n",
    "        {\n",
    "            \"cell\": (1,2),\n",
    "            **inset_attr,\n",
    "            },\n",
    "        ],\n",
    "    horizontal_spacing=0.04)\n",
    "\n",
    "\n",
    "# #########################################################\n",
    "# Add traces ##############################################\n",
    "fig.add_trace(trace_ab2, row=1, col=1)\n",
    "fig.add_trace(trace_ab3, row=1, col=2)\n",
    "\n",
    "fig.add_trace(copy.deepcopy(trace_ab2).update(xaxis=\"x3\", yaxis=\"y3\"))\n",
    "fig.add_trace(copy.deepcopy(trace_ab3).update(xaxis=\"x4\", yaxis=\"y4\"))\n",
    "\n",
    "# #########################################################\n",
    "for shape_i in shapes_list:\n",
    "    fig.add_shape(shape_i)"
   ]
  },
  {
   "cell_type": "markdown",
   "metadata": {},
   "source": [
    "# Layout Properties"
   ],
   "execution_count": null,
   "outputs": []
  },
  {
   "cell_type": "code",
   "execution_count": null,
   "metadata": {
    "Collapsed": "false",
    "attributes": {
     "classes": [],
     "id": "",
     "n": "8"
    }
   },
   "outputs": [],
   "source": [
    "# #############################################################################\n",
    "# Update Layout ###############################################################\n",
    "fig.update_layout(layout)\n",
    "fig.update_xaxes(layout[\"xaxis\"])\n",
    "fig.update_yaxes(layout[\"yaxis\"])\n",
    "\n",
    "fig.layout.yaxis2.title = None\n",
    "\n",
    "# Modifying inset props\n",
    "fig.layout.xaxis3.title = None\n",
    "fig.layout.yaxis3.title = None\n",
    "\n",
    "fig.layout.xaxis4.title = None\n",
    "fig.layout.yaxis4.title = None\n",
    "\n",
    "\n",
    "\n",
    "fig.layout.xaxis3.range = inset_range_0_x\n",
    "fig.layout.yaxis3.range = inset_range_0_y\n",
    "\n",
    "\n",
    "fig.layout.xaxis4.range = inset_range_1_x\n",
    "fig.layout.yaxis4.range = inset_range_1_y\n",
    "\n",
    "\n",
    "# fig.layout.xaxis3\n",
    "fig.layout.xaxis3.tickfont.size = 6 * (4 / 3)\n",
    "fig.layout.yaxis3.tickfont.size = 6 * (4 / 3)\n",
    "\n",
    "fig.layout.xaxis4.tickfont.size = 6 * (4 / 3)\n",
    "fig.layout.yaxis4.tickfont.size = 6 * (4 / 3)\n",
    "\n",
    "fig.layout.xaxis.dtick = 5\n",
    "fig.layout.yaxis.dtick = 0.5\n",
    "\n",
    "fig.layout.xaxis2.dtick = 5\n",
    "fig.layout.yaxis2.dtick = 0.5\n",
    "\n",
    "fig.layout.xaxis3.dtick = 2\n",
    "\n",
    "fig.layout.xaxis4.dtick = 2\n",
    "\n",
    "fig.layout.xaxis3.ticklen = 3\n",
    "fig.layout.xaxis4.ticklen = 3\n",
    "\n",
    "# COMBAK\n",
    "fig.layout.yaxis3.tickmode = \"array\"\n",
    "fig.layout.yaxis3.tickvals = [-0.8, -0.7, -0.6, -0.5, -0.4]\n",
    "fig.layout.yaxis3.ticklen = 3\n",
    "\n",
    "fig.layout.yaxis4.tickmode = \"array\"\n",
    "fig.layout.yaxis4.tickvals = [-0.65, -0.6, -0.55, -0.5]#[-0.7, -0.6, -0.5, -0.4, -0.3]\n",
    "fig.layout.yaxis4.ticklen = 3"
   ]
  },
  {
   "cell_type": "markdown",
   "metadata": {},
   "source": [
    "# Annotations"
   ],
   "execution_count": null,
   "outputs": []
  },
  {
   "cell_type": "code",
   "execution_count": null,
   "metadata": {},
   "outputs": [],
   "source": [
    "%%capture\n",
    "\n",
    "annotations=[\n",
    "\n",
    "    #| - IrO2/3 Annotation\n",
    "    go.layout.Annotation(\n",
    "        x=9.4,\n",
    "        y=1.76,\n",
    "        xref=\"x\",\n",
    "        yref=\"y\",\n",
    "        text=\"IrO<sub>2</sub>\",\n",
    "        showarrow=False,\n",
    "\n",
    "        bgcolor=\"rgba(255,255,255,0.7)\",\n",
    "        font=go.layout.annotation.Font(\n",
    "            color=\"black\",\n",
    "            family=None,\n",
    "            size=10 * (4/3),\n",
    "            ),\n",
    "\n",
    "        ax=0,\n",
    "        ay=0,\n",
    "        ),\n",
    "\n",
    "\n",
    "    go.layout.Annotation(\n",
    "        x=9.4,\n",
    "        y=1.76,\n",
    "        xref=\"x2\",\n",
    "        yref=\"y2\",\n",
    "        text=\"IrO<sub>3</sub>\",\n",
    "        showarrow=False,\n",
    "\n",
    "        bgcolor=\"rgba(255,255,255,0.7)\",\n",
    "        font=go.layout.annotation.Font(\n",
    "            color=\"black\",\n",
    "            family=None,\n",
    "            size=10 * (4/3),\n",
    "            ),\n",
    "\n",
    "        ax=0,\n",
    "        ay=0,\n",
    "        ),\n",
    "\n",
    "    ]\n",
    "    #__|"
   ]
  },
  {
   "cell_type": "code",
   "execution_count": null,
   "metadata": {},
   "outputs": [],
   "source": [
    "%%capture\n",
    "\n",
    "for id_i, val in structure_id_map.items():\n",
    "\n",
    "    try:\n",
    "        df_i = df.loc[id_i]\n",
    "    except:\n",
    "        print(id_i, 'not found')\n",
    "        continue\n",
    "\n",
    "    y = df_i.dH\n",
    "    x = df_i.volume_pa\n",
    "\n",
    "    if df_i.stoich == 'AB2':\n",
    "        if y < -0.55:\n",
    "            sub_x = 'x3'\n",
    "            sub_y = 'y3'\n",
    "        else:\n",
    "            sub_x = 'x'\n",
    "            sub_y = 'y'\n",
    "    elif df_i.stoich == 'AB3':\n",
    "        if y < -0.4 and x < 16.5:\n",
    "            sub_x = 'x4'\n",
    "            sub_y = 'y4'\n",
    "        else:\n",
    "            sub_x = 'x2'\n",
    "            sub_y = 'y2'\n",
    "\n",
    "    # #####################################################\n",
    "    # Arrow shift\n",
    "    # arrowshift = 0\n",
    "    # arrowshifty = 0\n",
    "\n",
    "    # if len(val) > 8:\n",
    "    #     arrowshift = len(val) * 2.5\n",
    "    # elif len(val) > 4:\n",
    "    #     arrowshift = len(val) * 3\n",
    "    # # elif '(' in val:\n",
    "    # #     arrowshift = 15\n",
    "    # else:\n",
    "    #     arrowshift = 10\n",
    "\n",
    "    # # if val =='(2)':\n",
    "    # #     arrowshift *= -1\n",
    "    # if val == 'iii (pyrite)':\n",
    "    #     arrowshifty = -4\n",
    "\n",
    "    from inputs import annot_offset_dict\n",
    "\n",
    "    ax = 0\n",
    "    ay = 0\n",
    "\n",
    "    if id_i in annot_offset_dict.keys():\n",
    "        annot_dict_i = annot_offset_dict[id_i]\n",
    "\n",
    "        ax = annot_dict_i[\"ax\"]\n",
    "        ay = annot_dict_i[\"ay\"]\n",
    "        xanchor = annot_dict_i.get(\"xanchor\", None)\n",
    "        \n",
    "    annot_font = go.layout.annotation.Font(\n",
    "        color=\"black\",\n",
    "        family=None,\n",
    "        size=6 * (4/3),\n",
    "        )\n",
    "\n",
    "    # #####################################################\n",
    "    annot_i = go.layout.Annotation(\n",
    "        x=x, y=y,\n",
    "        xref=sub_x, yref=sub_y,\n",
    "        text=val,\n",
    "        showarrow=True,\n",
    "        arrowhead=1,\n",
    "        # startstandoff=10,\n",
    "        standoff=1,\n",
    "        font=annot_font,\n",
    "        # font=go.layout.annotation.Font(\n",
    "        #     color=\"black\",\n",
    "        #     family=None,\n",
    "        #     size=6 * (4/3),\n",
    "        #     ),\n",
    "\n",
    "        xanchor=xanchor,\n",
    "        ax=ax, ay=ay,\n",
    "        )\n",
    "    annotations.append(annot_i)\n",
    "\n",
    "\n",
    "fig.layout.update(annotations=annotations)"
   ]
  },
  {
   "cell_type": "code",
   "execution_count": null,
   "metadata": {},
   "outputs": [],
   "source": [
    "# go.layout.Annotation?"
   ]
  },
  {
   "cell_type": "markdown",
   "metadata": {},
   "source": [
    "## Write/display plot"
   ],
   "execution_count": null,
   "outputs": []
  },
  {
   "cell_type": "code",
   "execution_count": null,
   "metadata": {},
   "outputs": [],
   "source": [
    "from plotting.my_plotly import my_plotly_plot\n",
    "\n",
    "my_plotly_plot(\n",
    "    figure=fig,\n",
    "    plot_name=\"E_vs_V_plot_3\",\n",
    "    write_html=True,\n",
    "    write_png=False,\n",
    "    png_scale=6.0,\n",
    "    write_pdf=True,\n",
    "    write_svg=False,\n",
    "    try_orca_write=False,\n",
    "    )"
   ]
  },
  {
   "cell_type": "code",
   "execution_count": null,
   "metadata": {},
   "outputs": [],
   "source": [
    "fig.show()"
   ]
  },
  {
   "cell_type": "code",
   "execution_count": null,
   "metadata": {},
   "outputs": [],
   "source": [
    "assert False"
   ]
  },
  {
   "cell_type": "markdown",
   "metadata": {
    "Collapsed": "false"
   },
   "source": [
    "# Histogram Plot"
   ],
   "execution_count": null,
   "outputs": []
  },
  {
   "cell_type": "code",
   "execution_count": null,
   "metadata": {
    "Collapsed": "false"
   },
   "outputs": [],
   "source": [
    "# import plotly.express as px\n",
    "\n",
    "fig = px.histogram(\n",
    "    df,\n",
    "    x=\"mean_coor\",\n",
    "    color=\"stoich\",\n",
    "    marginal=\"rug\",  # can be `box`, `violin`\n",
    "    opacity=0.9,\n",
    "    nbins=100,\n",
    "    # barnorm=\"fraction\",\n",
    "    histnorm=\"percent\",\n",
    "    # hover_data=tips.columns,\n",
    "    )\n",
    "\n",
    "fig.show()"
   ]
  },
  {
   "cell_type": "raw",
   "metadata": {
    "Collapsed": "false"
   },
   "source": [
    "\n",
    "\n",
    "\n"
   ],
   "execution_count": null,
   "outputs": []
  },
  {
   "cell_type": "code",
   "execution_count": null,
   "metadata": {},
   "outputs": [],
   "source": [
    "df[df.stoich == \"AB3\"].sort_values(\"dH\").iloc[0:8].index.tolist()"
   ]
  },
  {
   "cell_type": "code",
   "execution_count": null,
   "metadata": {
    "Collapsed": "false",
    "jupyter": {},
    "lines_to_next_cell": 2
   },
   "outputs": [],
   "source": [
    "# %%capture\n",
    "\n",
    "# # #############################################################################\n",
    "# # Duplicates list\n",
    "# path_i = os.path.join(\n",
    "#     os.environ[\"PROJ_irox\"],\n",
    "#     \"workflow/ml_modelling/00_ml_workflow/191102_new_workflow/00_abx_al_runs\",\n",
    "#     \"out_data/duplicates.pickle\")\n",
    "# duplicates = pickle.load(open(path_i, \"rb\"))\n",
    "\n",
    "\n",
    "# # #############################################################################\n",
    "# # Bulk DFT Dataframe\n",
    "# sys.path.insert(0, os.path.join(\n",
    "#     os.environ[\"PROJ_irox\"], \"workflow/ml_modelling\"))\n",
    "# from ml_methods import get_data_for_al\n",
    "\n",
    "# data_dict = get_data_for_al(stoich=\"AB2\", drop_too_many_atoms=True)\n",
    "# df_bulk_dft_ab2 = data_dict[\"df_bulk_dft\"]\n",
    "\n",
    "# data_dict = get_data_for_al(stoich=\"AB3\", drop_too_many_atoms=True)\n",
    "# df_bulk_dft_ab3 = data_dict[\"df_bulk_dft\"]\n",
    "\n",
    "# # Combine AB2/3 Dataframes\n",
    "# df_bulk_dft = pd.concat([df_bulk_dft_ab2, df_bulk_dft_ab3])\n",
    "# df_bulk_dft = df_bulk_dft[df_bulk_dft.source == \"raul\"]"
   ]
  }
 ],
 "metadata": {
  "jupytext": {
   "encoding": "# -*- coding: utf-8 -*-"
  },
  "kernelspec": {
   "display_name": "Python [conda env:PROJ_IrOx_Active_Learning_OER]",
   "language": "python",
   "name": "conda-env-PROJ_IrOx_Active_Learning_OER-py"
  },
  "language_info": {
   "codemirror_mode": {
    "name": "ipython",
    "version": 3
   },
   "file_extension": ".py",
   "mimetype": "text/x-python",
   "name": "python",
   "nbconvert_exporter": "python",
   "pygments_lexer": "ipython3",
   "version": "3.6.9"
  },
  "toc-autonumbering": true,
  "toc-showcode": true,
  "toc-showmarkdowntxt": false,
  "toc-showtags": false
 },
 "nbformat": 4,
 "nbformat_minor": 4
}
