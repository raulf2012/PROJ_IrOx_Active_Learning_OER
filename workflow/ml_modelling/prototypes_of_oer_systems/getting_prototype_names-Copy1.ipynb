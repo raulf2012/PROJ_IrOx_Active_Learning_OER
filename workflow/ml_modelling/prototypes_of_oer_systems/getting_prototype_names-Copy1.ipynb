{
 "cells": [
  {
   "cell_type": "markdown",
   "metadata": {},
   "source": [
    "# Analysing prototypes of structures computed for OER section of paper\n",
    "---"
   ]
  },
  {
   "cell_type": "code",
   "execution_count": 1,
   "metadata": {},
   "outputs": [],
   "source": [
    "import os\n",
    "import sys\n",
    "\n",
    "import pickle\n",
    "\n",
    "# ase\n",
    "from ase.visualize import view\n",
    "from ase import io\n",
    "\n",
    "# pymatgen\n",
    "from pymatgen.io.vasp.inputs import Poscar\n",
    "from pymatgen.io.ase import AseAtomsAdaptor\n",
    "\n",
    "\n",
    "import bulk_enumerator as be"
   ]
  },
  {
   "cell_type": "markdown",
   "metadata": {
    "toc-hr-collapsed": true
   },
   "source": [
    "# Analysing Bulk Structures\n",
    "\n",
    "01_IrO2  02_IrO3  03_iro3_rutile-like  04_iro3_battery"
   ]
  },
  {
   "cell_type": "code",
   "execution_count": 2,
   "metadata": {},
   "outputs": [],
   "source": [
    "prototype_names = {}"
   ]
  },
  {
   "cell_type": "markdown",
   "metadata": {},
   "source": [
    "## rutile-IrO2"
   ]
  },
  {
   "cell_type": "code",
   "execution_count": 3,
   "metadata": {},
   "outputs": [
    {
     "name": "stdout",
     "output_type": "stream",
     "text": [
      "AB2_2_a_f_136\n"
     ]
    }
   ],
   "source": [
    "file_path_i = os.path.join(\n",
    "    os.environ[\"PROJ_irox\"],\n",
    "    \"01_bulk_structures\",\n",
    "    \"01_IrO2\",\n",
    "    \"bulk_symm.cif\",\n",
    "    )\n",
    "\n",
    "atoms_i = io.read(file_path_i)\n",
    "structure_i = AseAtomsAdaptor.get_structure(atoms_i)\n",
    "\n",
    "b = be.bulk.BULK()\n",
    "b.set_structure_from_file(Poscar(structure_i).get_string())\n",
    "\n",
    "prototype_names[\"rutile_iro2\"] = b.get_name()\n",
    "print(prototype_names[\"rutile_iro2\"])"
   ]
  },
  {
   "cell_type": "markdown",
   "metadata": {},
   "source": [
    "## a-AlF3 IrO3"
   ]
  },
  {
   "cell_type": "code",
   "execution_count": 4,
   "metadata": {},
   "outputs": [
    {
     "name": "stdout",
     "output_type": "stream",
     "text": [
      "AB3_2_b_e_167\n"
     ]
    }
   ],
   "source": [
    "file_path_i = os.path.join(\n",
    "    os.environ[\"PROJ_irox\"],\n",
    "    \"01_bulk_structures\",\n",
    "    \"02_IrO3\",\n",
    "    \"bulk.cif\",\n",
    "    )\n",
    "\n",
    "atoms_i = io.read(file_path_i)\n",
    "structure_i = AseAtomsAdaptor.get_structure(atoms_i)\n",
    "\n",
    "b = be.bulk.BULK()\n",
    "b.set_structure_from_file(Poscar(structure_i).get_string())\n",
    "\n",
    "prototype_names[\"a-AlF3_iro3\"] = b.get_name()\n",
    "print(prototype_names[\"a-AlF3_iro3\"])"
   ]
  },
  {
   "cell_type": "markdown",
   "metadata": {},
   "source": [
    "## rutile-like IrO3"
   ]
  },
  {
   "cell_type": "code",
   "execution_count": 5,
   "metadata": {},
   "outputs": [
    {
     "name": "stdout",
     "output_type": "stream",
     "text": [
      "AB3_4_e_fj_136\n"
     ]
    }
   ],
   "source": [
    "file_path_i = os.path.join(\n",
    "    os.environ[\"PROJ_irox\"],\n",
    "    \"01_bulk_structures\",\n",
    "    \"03_iro3_rutile-like\",\n",
    "    \"bulk.cif\",\n",
    "    )\n",
    "\n",
    "atoms_i = io.read(file_path_i)\n",
    "structure_i = AseAtomsAdaptor.get_structure(atoms_i)\n",
    "\n",
    "b = be.bulk.BULK()\n",
    "b.set_structure_from_file(Poscar(structure_i).get_string())\n",
    "\n",
    "prototype_names[\"rutile_iro3\"] = b.get_name()\n",
    "print(prototype_names[\"rutile_iro3\"])"
   ]
  },
  {
   "cell_type": "markdown",
   "metadata": {},
   "source": [
    "## battery IrO3"
   ]
  },
  {
   "cell_type": "code",
   "execution_count": 6,
   "metadata": {},
   "outputs": [
    {
     "name": "stdout",
     "output_type": "stream",
     "text": [
      "AB3_8_ik_glm2_66\n"
     ]
    }
   ],
   "source": [
    "file_path_i = os.path.join(\n",
    "    os.environ[\"PROJ_irox\"],\n",
    "    \"01_bulk_structures\",\n",
    "    \"04_iro3_battery\",\n",
    "    \"bulk.cif\",\n",
    "    )\n",
    "\n",
    "atoms_i = io.read(file_path_i)\n",
    "structure_i = AseAtomsAdaptor.get_structure(atoms_i)\n",
    "\n",
    "b = be.bulk.BULK()\n",
    "b.set_structure_from_file(Poscar(structure_i).get_string())\n",
    "\n",
    "prototype_names[\"battery_iro3\"] = b.get_name()\n",
    "print(prototype_names[\"battery_iro3\"])"
   ]
  },
  {
   "cell_type": "markdown",
   "metadata": {},
   "source": [
    "# Results"
   ]
  },
  {
   "cell_type": "raw",
   "metadata": {},
   "source": [
    "rutile IrO2: AB2_2_a_f_136\n",
    "a-AlF3 IrO3: AB3_2_b_e_167\n",
    "rutile IrO3: AB3_4_e_fj_136\n",
    "batter IrO3: AB3_8_ik_glm2_66"
   ]
  },
  {
   "cell_type": "markdown",
   "metadata": {},
   "source": [
    "# Comparing to Static Prototypes List"
   ]
  },
  {
   "cell_type": "code",
   "execution_count": 7,
   "metadata": {},
   "outputs": [],
   "source": [
    "# file_i = os.path.join(\n",
    "#     os.environ[\"PROJ_irox\"],\n",
    "#     \"workflow/ml_modelling/00_ml_workflow/outdata\",\n",
    "#     \"01_irox_data_featurized.pickle\")\n",
    "# with open(file_i, \"rb\") as fle:\n",
    "#     df_m = pickle.load(fle)"
   ]
  },
  {
   "cell_type": "code",
   "execution_count": 8,
   "metadata": {},
   "outputs": [],
   "source": [
    "import pickle\n",
    "import os\n",
    "\n",
    "\n",
    "sys.path.insert(0, os.path.join(os.environ[\"PROJ_irox\"], \"data\"))\n",
    "from proj_data_irox import prototypes_data_path, unique_ids_path\n",
    "\n",
    "with open(prototypes_data_path, \"rb\") as fle:\n",
    "    df_proto = pickle.load(fle)\n",
    "\n",
    "import pandas as pd\n",
    "df_ids = pd.read_csv(unique_ids_path)\n",
    "\n",
    "\n",
    "df_ids_ab2 = df_ids[df_ids[\"stoich\"] == \"AB2\"]\n",
    "df_ids_ab3 = df_ids[df_ids[\"stoich\"] == \"AB3\"]"
   ]
  },
  {
   "cell_type": "code",
   "execution_count": 9,
   "metadata": {},
   "outputs": [],
   "source": [
    "df_iro2 = df_proto.loc[df_ids_ab2[\"unique_ids\"]]\n",
    "df_iro3 = df_proto.loc[df_ids_ab3[\"unique_ids\"]]"
   ]
  },
  {
   "cell_type": "code",
   "execution_count": 10,
   "metadata": {},
   "outputs": [],
   "source": [
    "# df_iro2 = df_m[df_m[\"default_columns\"][\"stoich\"] == \"AB2\"]\n",
    "\n",
    "# df_iro3 = df_m[df_m[\"default_columns\"][\"stoich\"] == \"AB3\"]"
   ]
  },
  {
   "cell_type": "code",
   "execution_count": 11,
   "metadata": {},
   "outputs": [
    {
     "data": {
      "text/plain": [
       "{'rutile_iro2': 'AB2_2_a_f_136',\n",
       " 'a-AlF3_iro3': 'AB3_2_b_e_167',\n",
       " 'rutile_iro3': 'AB3_4_e_fj_136',\n",
       " 'battery_iro3': 'AB3_8_ik_glm2_66'}"
      ]
     },
     "execution_count": 11,
     "metadata": {},
     "output_type": "execute_result"
    }
   ],
   "source": [
    "prototype_names\n",
    "\n",
    "#IrO2: 200\n",
    "#a-AlF3 IrO3: 231\n",
    "#rutile IrO3: 164"
   ]
  },
  {
   "cell_type": "markdown",
   "metadata": {},
   "source": [
    "## rutile IrO2"
   ]
  },
  {
   "cell_type": "code",
   "execution_count": 12,
   "metadata": {},
   "outputs": [
    {
     "data": {
      "text/html": [
       "<div>\n",
       "<style scoped>\n",
       "    .dataframe tbody tr th:only-of-type {\n",
       "        vertical-align: middle;\n",
       "    }\n",
       "\n",
       "    .dataframe tbody tr th {\n",
       "        vertical-align: top;\n",
       "    }\n",
       "\n",
       "    .dataframe thead th {\n",
       "        text-align: right;\n",
       "    }\n",
       "</style>\n",
       "<table border=\"1\" class=\"dataframe\">\n",
       "  <thead>\n",
       "    <tr style=\"text-align: right;\">\n",
       "      <th></th>\n",
       "      <th>spacegroup_i</th>\n",
       "      <th>species_i</th>\n",
       "      <th>wyckoff_i</th>\n",
       "      <th>name_i</th>\n",
       "      <th>parameter_values_i</th>\n",
       "    </tr>\n",
       "    <tr>\n",
       "      <th>id</th>\n",
       "      <th></th>\n",
       "      <th></th>\n",
       "      <th></th>\n",
       "      <th></th>\n",
       "      <th></th>\n",
       "    </tr>\n",
       "  </thead>\n",
       "  <tbody>\n",
       "    <tr>\n",
       "      <th>m29j648g6i</th>\n",
       "      <td>136</td>\n",
       "      <td>[Ir, O]</td>\n",
       "      <td>[a, f]</td>\n",
       "      <td>AB2_2_a_f_136</td>\n",
       "      <td>[{'name': 'a', 'value': 6.12727}, {'name': 'b/...</td>\n",
       "    </tr>\n",
       "    <tr>\n",
       "      <th>v4zonyzw7d</th>\n",
       "      <td>136</td>\n",
       "      <td>[Ir, O]</td>\n",
       "      <td>[a, f]</td>\n",
       "      <td>AB2_2_a_f_136</td>\n",
       "      <td>[{'name': 'a', 'value': 4.5}, {'name': 'b/a', ...</td>\n",
       "    </tr>\n",
       "  </tbody>\n",
       "</table>\n",
       "</div>"
      ],
      "text/plain": [
       "            spacegroup_i species_i wyckoff_i         name_i  \\\n",
       "id                                                            \n",
       "m29j648g6i           136   [Ir, O]    [a, f]  AB2_2_a_f_136   \n",
       "v4zonyzw7d           136   [Ir, O]    [a, f]  AB2_2_a_f_136   \n",
       "\n",
       "                                           parameter_values_i  \n",
       "id                                                             \n",
       "m29j648g6i  [{'name': 'a', 'value': 6.12727}, {'name': 'b/...  \n",
       "v4zonyzw7d  [{'name': 'a', 'value': 4.5}, {'name': 'b/a', ...  "
      ]
     },
     "execution_count": 12,
     "metadata": {},
     "output_type": "execute_result"
    }
   ],
   "source": [
    "name_i = prototype_names[\"rutile_iro2\"]\n",
    "name_i in df_iro2[\"name_i\"].tolist()\n",
    "\n",
    "df_iro2.loc[df_iro2[\"name_i\"] == name_i]"
   ]
  },
  {
   "cell_type": "markdown",
   "metadata": {},
   "source": [
    "## a-AlF3 IrO3"
   ]
  },
  {
   "cell_type": "code",
   "execution_count": 13,
   "metadata": {},
   "outputs": [
    {
     "data": {
      "text/html": [
       "<div>\n",
       "<style scoped>\n",
       "    .dataframe tbody tr th:only-of-type {\n",
       "        vertical-align: middle;\n",
       "    }\n",
       "\n",
       "    .dataframe tbody tr th {\n",
       "        vertical-align: top;\n",
       "    }\n",
       "\n",
       "    .dataframe thead th {\n",
       "        text-align: right;\n",
       "    }\n",
       "</style>\n",
       "<table border=\"1\" class=\"dataframe\">\n",
       "  <thead>\n",
       "    <tr style=\"text-align: right;\">\n",
       "      <th></th>\n",
       "      <th>spacegroup_i</th>\n",
       "      <th>species_i</th>\n",
       "      <th>wyckoff_i</th>\n",
       "      <th>name_i</th>\n",
       "      <th>parameter_values_i</th>\n",
       "    </tr>\n",
       "    <tr>\n",
       "      <th>id</th>\n",
       "      <th></th>\n",
       "      <th></th>\n",
       "      <th></th>\n",
       "      <th></th>\n",
       "      <th></th>\n",
       "    </tr>\n",
       "  </thead>\n",
       "  <tbody>\n",
       "    <tr>\n",
       "      <th>8k7expx2bp</th>\n",
       "      <td>167</td>\n",
       "      <td>[Ir, O]</td>\n",
       "      <td>[b, e]</td>\n",
       "      <td>AB3_2_b_e_167</td>\n",
       "      <td>[{'name': 'a', 'value': 6.077419952599129}, {'...</td>\n",
       "    </tr>\n",
       "  </tbody>\n",
       "</table>\n",
       "</div>"
      ],
      "text/plain": [
       "            spacegroup_i species_i wyckoff_i         name_i  \\\n",
       "id                                                            \n",
       "8k7expx2bp           167   [Ir, O]    [b, e]  AB3_2_b_e_167   \n",
       "\n",
       "                                           parameter_values_i  \n",
       "id                                                             \n",
       "8k7expx2bp  [{'name': 'a', 'value': 6.077419952599129}, {'...  "
      ]
     },
     "execution_count": 13,
     "metadata": {},
     "output_type": "execute_result"
    }
   ],
   "source": [
    "name_i = prototype_names[\"a-AlF3_iro3\"]\n",
    "name_i in df_iro3[\"name_i\"].tolist()\n",
    "\n",
    "df_iro3.loc[df_iro3[\"name_i\"] == name_i]"
   ]
  },
  {
   "cell_type": "markdown",
   "metadata": {},
   "source": [
    "## rutile IrO3"
   ]
  },
  {
   "cell_type": "code",
   "execution_count": 14,
   "metadata": {},
   "outputs": [
    {
     "data": {
      "text/html": [
       "<div>\n",
       "<style scoped>\n",
       "    .dataframe tbody tr th:only-of-type {\n",
       "        vertical-align: middle;\n",
       "    }\n",
       "\n",
       "    .dataframe tbody tr th {\n",
       "        vertical-align: top;\n",
       "    }\n",
       "\n",
       "    .dataframe thead th {\n",
       "        text-align: right;\n",
       "    }\n",
       "</style>\n",
       "<table border=\"1\" class=\"dataframe\">\n",
       "  <thead>\n",
       "    <tr style=\"text-align: right;\">\n",
       "      <th></th>\n",
       "      <th>spacegroup_i</th>\n",
       "      <th>species_i</th>\n",
       "      <th>wyckoff_i</th>\n",
       "      <th>name_i</th>\n",
       "      <th>parameter_values_i</th>\n",
       "    </tr>\n",
       "    <tr>\n",
       "      <th>id</th>\n",
       "      <th></th>\n",
       "      <th></th>\n",
       "      <th></th>\n",
       "      <th></th>\n",
       "      <th></th>\n",
       "    </tr>\n",
       "  </thead>\n",
       "  <tbody>\n",
       "    <tr>\n",
       "      <th>b5cgvsb16w</th>\n",
       "      <td>136</td>\n",
       "      <td>[Ir, O, O]</td>\n",
       "      <td>[e, f, j]</td>\n",
       "      <td>AB3_4_e_fj_136</td>\n",
       "      <td>[{'name': 'a', 'value': 6.44315}, {'name': 'b/...</td>\n",
       "    </tr>\n",
       "  </tbody>\n",
       "</table>\n",
       "</div>"
      ],
      "text/plain": [
       "            spacegroup_i   species_i  wyckoff_i          name_i  \\\n",
       "id                                                                \n",
       "b5cgvsb16w           136  [Ir, O, O]  [e, f, j]  AB3_4_e_fj_136   \n",
       "\n",
       "                                           parameter_values_i  \n",
       "id                                                             \n",
       "b5cgvsb16w  [{'name': 'a', 'value': 6.44315}, {'name': 'b/...  "
      ]
     },
     "execution_count": 14,
     "metadata": {},
     "output_type": "execute_result"
    }
   ],
   "source": [
    "name_i = prototype_names[\"rutile_iro3\"]\n",
    "name_i in df_iro3[\"name_i\"].tolist()\n",
    "\n",
    "df_iro3.loc[df_iro3[\"name_i\"] == name_i]"
   ]
  },
  {
   "cell_type": "markdown",
   "metadata": {},
   "source": [
    "## battery IrO3"
   ]
  },
  {
   "cell_type": "code",
   "execution_count": 15,
   "metadata": {},
   "outputs": [
    {
     "data": {
      "text/html": [
       "<div>\n",
       "<style scoped>\n",
       "    .dataframe tbody tr th:only-of-type {\n",
       "        vertical-align: middle;\n",
       "    }\n",
       "\n",
       "    .dataframe tbody tr th {\n",
       "        vertical-align: top;\n",
       "    }\n",
       "\n",
       "    .dataframe thead th {\n",
       "        text-align: right;\n",
       "    }\n",
       "</style>\n",
       "<table border=\"1\" class=\"dataframe\">\n",
       "  <thead>\n",
       "    <tr style=\"text-align: right;\">\n",
       "      <th></th>\n",
       "      <th>spacegroup_i</th>\n",
       "      <th>species_i</th>\n",
       "      <th>wyckoff_i</th>\n",
       "      <th>name_i</th>\n",
       "      <th>parameter_values_i</th>\n",
       "    </tr>\n",
       "    <tr>\n",
       "      <th>id</th>\n",
       "      <th></th>\n",
       "      <th></th>\n",
       "      <th></th>\n",
       "      <th></th>\n",
       "      <th></th>\n",
       "    </tr>\n",
       "  </thead>\n",
       "  <tbody>\n",
       "  </tbody>\n",
       "</table>\n",
       "</div>"
      ],
      "text/plain": [
       "Empty DataFrame\n",
       "Columns: [spacegroup_i, species_i, wyckoff_i, name_i, parameter_values_i]\n",
       "Index: []"
      ]
     },
     "execution_count": 15,
     "metadata": {},
     "output_type": "execute_result"
    }
   ],
   "source": [
    "name_i = prototype_names[\"battery_iro3\"]\n",
    "name_i in df_iro3[\"name_i\"].tolist()\n",
    "\n",
    "df_iro3.loc[df_iro3[\"name_i\"] == name_i]"
   ]
  }
 ],
 "metadata": {
  "kernelspec": {
   "display_name": "Python 3",
   "language": "python",
   "name": "python3"
  },
  "language_info": {
   "codemirror_mode": {
    "name": "ipython",
    "version": 3
   },
   "file_extension": ".py",
   "mimetype": "text/x-python",
   "name": "python",
   "nbconvert_exporter": "python",
   "pygments_lexer": "ipython3",
   "version": "3.7.3"
  }
 },
 "nbformat": 4,
 "nbformat_minor": 4
}
