{
 "cells": [
  {
   "cell_type": "markdown",
   "metadata": {},
   "source": [
    "# Analysing prototypes of structures computed for OER section of paper\n",
    "---"
   ]
  },
  {
   "cell_type": "code",
   "execution_count": 1,
   "metadata": {},
   "outputs": [
    {
     "ename": "ModuleNotFoundError",
     "evalue": "No module named 'bulk_enumerator'",
     "output_type": "error",
     "traceback": [
      "\u001b[0;31m---------------------------------------------------------------------------\u001b[0m",
      "\u001b[0;31mModuleNotFoundError\u001b[0m                       Traceback (most recent call last)",
      "\u001b[0;32m<ipython-input-1-d604e83ae6a3>\u001b[0m in \u001b[0;36m<module>\u001b[0;34m\u001b[0m\n\u001b[1;32m     13\u001b[0m \u001b[0;34m\u001b[0m\u001b[0m\n\u001b[1;32m     14\u001b[0m \u001b[0;34m\u001b[0m\u001b[0m\n\u001b[0;32m---> 15\u001b[0;31m \u001b[0;32mimport\u001b[0m \u001b[0mbulk_enumerator\u001b[0m \u001b[0;32mas\u001b[0m \u001b[0mbe\u001b[0m\u001b[0;34m\u001b[0m\u001b[0;34m\u001b[0m\u001b[0m\n\u001b[0m",
      "\u001b[0;31mModuleNotFoundError\u001b[0m: No module named 'bulk_enumerator'"
     ]
    }
   ],
   "source": [
    "import os\n",
    "import sys\n",
    "\n",
    "import pickle\n",
    "\n",
    "# ase\n",
    "from ase.visualize import view\n",
    "from ase import io\n",
    "\n",
    "# pymatgen\n",
    "from pymatgen.io.vasp.inputs import Poscar\n",
    "from pymatgen.io.ase import AseAtomsAdaptor\n",
    "\n",
    "\n",
    "import bulk_enumerator as be"
   ]
  },
  {
   "cell_type": "markdown",
   "metadata": {
    "toc-hr-collapsed": true
   },
   "source": [
    "# Analysing Bulk Structures\n",
    "\n",
    "01_IrO2  02_IrO3  03_iro3_rutile-like  04_iro3_battery"
   ]
  },
  {
   "cell_type": "code",
   "execution_count": null,
   "metadata": {},
   "outputs": [],
   "source": [
    "prototype_names = {}"
   ]
  },
  {
   "cell_type": "markdown",
   "metadata": {},
   "source": [
    "## rutile-IrO2"
   ]
  },
  {
   "cell_type": "code",
   "execution_count": null,
   "metadata": {},
   "outputs": [],
   "source": [
    "file_path_i = os.path.join(\n",
    "    os.environ[\"PROJ_irox\"],\n",
    "    \"01_bulk_structures\",\n",
    "    \"01_IrO2\",\n",
    "    \"bulk_symm.cif\",\n",
    "    )\n",
    "\n",
    "atoms_i = io.read(file_path_i)\n",
    "structure_i = AseAtomsAdaptor.get_structure(atoms_i)\n",
    "\n",
    "b = be.bulk.BULK()\n",
    "b.set_structure_from_file(Poscar(structure_i).get_string())\n",
    "\n",
    "prototype_names[\"rutile_iro2\"] = b.get_name()\n",
    "print(prototype_names[\"rutile_iro2\"])"
   ]
  },
  {
   "cell_type": "markdown",
   "metadata": {},
   "source": [
    "## a-AlF3 IrO3"
   ]
  },
  {
   "cell_type": "code",
   "execution_count": null,
   "metadata": {},
   "outputs": [],
   "source": [
    "file_path_i = os.path.join(\n",
    "    os.environ[\"PROJ_irox\"],\n",
    "    \"01_bulk_structures\",\n",
    "    \"02_IrO3\",\n",
    "    \"bulk.cif\",\n",
    "    )\n",
    "\n",
    "atoms_i = io.read(file_path_i)\n",
    "structure_i = AseAtomsAdaptor.get_structure(atoms_i)\n",
    "\n",
    "b = be.bulk.BULK()\n",
    "b.set_structure_from_file(Poscar(structure_i).get_string())\n",
    "\n",
    "prototype_names[\"a-AlF3_iro3\"] = b.get_name()\n",
    "print(prototype_names[\"a-AlF3_iro3\"])"
   ]
  },
  {
   "cell_type": "markdown",
   "metadata": {},
   "source": [
    "## rutile-like IrO3"
   ]
  },
  {
   "cell_type": "code",
   "execution_count": null,
   "metadata": {},
   "outputs": [],
   "source": [
    "file_path_i = os.path.join(\n",
    "    os.environ[\"PROJ_irox\"],\n",
    "    \"01_bulk_structures\",\n",
    "    \"03_iro3_rutile-like\",\n",
    "    \"bulk.cif\",\n",
    "    )\n",
    "\n",
    "atoms_i = io.read(file_path_i)\n",
    "structure_i = AseAtomsAdaptor.get_structure(atoms_i)\n",
    "\n",
    "b = be.bulk.BULK()\n",
    "b.set_structure_from_file(Poscar(structure_i).get_string())\n",
    "\n",
    "prototype_names[\"rutile_iro3\"] = b.get_name()\n",
    "print(prototype_names[\"rutile_iro3\"])"
   ]
  },
  {
   "cell_type": "markdown",
   "metadata": {},
   "source": [
    "## battery IrO3"
   ]
  },
  {
   "cell_type": "code",
   "execution_count": null,
   "metadata": {},
   "outputs": [],
   "source": [
    "file_path_i = os.path.join(\n",
    "    os.environ[\"PROJ_irox\"],\n",
    "    \"01_bulk_structures\",\n",
    "    \"04_iro3_battery\",\n",
    "    \"bulk.cif\",\n",
    "    )\n",
    "\n",
    "atoms_i = io.read(file_path_i)\n",
    "structure_i = AseAtomsAdaptor.get_structure(atoms_i)\n",
    "\n",
    "b = be.bulk.BULK()\n",
    "b.set_structure_from_file(Poscar(structure_i).get_string())\n",
    "\n",
    "prototype_names[\"battery_iro3\"] = b.get_name()\n",
    "print(prototype_names[\"battery_iro3\"])"
   ]
  },
  {
   "cell_type": "markdown",
   "metadata": {},
   "source": [
    "# Results"
   ]
  },
  {
   "cell_type": "raw",
   "metadata": {},
   "source": [
    "rutile IrO2: AB2_2_a_f_136\n",
    "a-AlF3 IrO3: AB3_2_b_e_167\n",
    "rutile IrO3: AB3_4_e_fj_136\n",
    "batter IrO3: AB3_8_ik_glm2_66"
   ]
  },
  {
   "cell_type": "markdown",
   "metadata": {},
   "source": [
    "# Comparing to Static Prototypes List"
   ]
  },
  {
   "cell_type": "code",
   "execution_count": null,
   "metadata": {},
   "outputs": [],
   "source": [
    "file_i = os.path.join(\n",
    "    os.environ[\"PROJ_irox\"],\n",
    "    \"workflow/ml_modelling/00_ml_workflow/outdata\",\n",
    "    \"01_irox_data_featurized.pickle\")\n",
    "with open(file_i, \"rb\") as fle:\n",
    "    df_m = pickle.load(fle)"
   ]
  },
  {
   "cell_type": "code",
   "execution_count": null,
   "metadata": {},
   "outputs": [],
   "source": [
    "df_iro2 = df_m[df_m[\"default_columns\"][\"stoich\"] == \"AB2\"]\n",
    "\n",
    "df_iro3 = df_m[df_m[\"default_columns\"][\"stoich\"] == \"AB3\"]"
   ]
  },
  {
   "cell_type": "code",
   "execution_count": null,
   "metadata": {},
   "outputs": [],
   "source": [
    "prototype_names\n",
    "\n",
    "#IrO2: 200\n",
    "#a-AlF3 IrO3: 231\n",
    "#rutile IrO3: 164\n"
   ]
  },
  {
   "cell_type": "markdown",
   "metadata": {},
   "source": [
    "## rutile IrO2"
   ]
  },
  {
   "cell_type": "code",
   "execution_count": null,
   "metadata": {},
   "outputs": [],
   "source": [
    "name_i = prototype_names[\"rutile_iro2\"]\n",
    "name_i in df_iro2[\"prototype_info\"][\"name_i\"].tolist()\n",
    "\n",
    "\n",
    "df_iro2.loc[df_iro2[\"prototype_info\"][\"name_i\"] == name_i]"
   ]
  },
  {
   "cell_type": "markdown",
   "metadata": {},
   "source": [
    "## a-AlF3 IrO3"
   ]
  },
  {
   "cell_type": "code",
   "execution_count": null,
   "metadata": {},
   "outputs": [],
   "source": [
    "name_i = prototype_names[\"a-AlF3_iro3\"]\n",
    "name_i in df_iro3[\"prototype_info\"][\"name_i\"].tolist()\n",
    "\n",
    "df_iro3.loc[df_iro3[\"prototype_info\"][\"name_i\"] == name_i]"
   ]
  },
  {
   "cell_type": "markdown",
   "metadata": {},
   "source": [
    "## rutile IrO3"
   ]
  },
  {
   "cell_type": "code",
   "execution_count": null,
   "metadata": {},
   "outputs": [],
   "source": [
    "name_i = prototype_names[\"rutile_iro3\"]\n",
    "name_i in df_iro3[\"prototype_info\"][\"name_i\"].tolist()\n",
    "\n",
    "df_iro3.loc[df_iro3[\"prototype_info\"][\"name_i\"] == name_i]"
   ]
  },
  {
   "cell_type": "markdown",
   "metadata": {},
   "source": [
    "## battery IrO3"
   ]
  },
  {
   "cell_type": "code",
   "execution_count": null,
   "metadata": {},
   "outputs": [],
   "source": [
    "name_i = prototype_names[\"battery_iro3\"]\n",
    "name_i in df_iro3[\"prototype_info\"][\"name_i\"].tolist()\n",
    "\n",
    "df_iro3.loc[df_iro3[\"prototype_info\"][\"name_i\"] == name_i]"
   ]
  }
 ],
 "metadata": {
  "kernelspec": {
   "display_name": "Python 3",
   "language": "python",
   "name": "python3"
  },
  "language_info": {
   "codemirror_mode": {
    "name": "ipython",
    "version": 3
   },
   "file_extension": ".py",
   "mimetype": "text/x-python",
   "name": "python",
   "nbconvert_exporter": "python",
   "pygments_lexer": "ipython3",
   "version": "3.6.7"
  }
 },
 "nbformat": 4,
 "nbformat_minor": 2
}
