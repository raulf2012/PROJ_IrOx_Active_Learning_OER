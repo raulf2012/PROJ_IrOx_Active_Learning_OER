{
 "cells": [
  {
   "cell_type": "markdown",
   "metadata": {},
   "source": [
    "# Analysing prototypes of structures computed for OER section of paper\n",
    "---"
   ]
  },
  {
   "cell_type": "code",
   "execution_count": 1,
   "metadata": {},
   "outputs": [],
   "source": [
    "import os\n",
    "import sys\n",
    "\n",
    "import pickle\n",
    "\n",
    "# ase\n",
    "from ase.visualize import view\n",
    "from ase import io\n",
    "\n",
    "# pymatgen\n",
    "from pymatgen.io.vasp.inputs import Poscar\n",
    "from pymatgen.io.ase import AseAtomsAdaptor\n",
    "\n",
    "\n",
    "import bulk_enumerator as be"
   ]
  },
  {
   "cell_type": "markdown",
   "metadata": {
    "toc-hr-collapsed": true
   },
   "source": [
    "# Analysing Bulk Structures\n",
    "\n",
    "01_IrO2  02_IrO3  03_iro3_rutile-like  04_iro3_battery"
   ]
  },
  {
   "cell_type": "code",
   "execution_count": 2,
   "metadata": {},
   "outputs": [],
   "source": [
    "prototype_names = {}"
   ]
  },
  {
   "cell_type": "markdown",
   "metadata": {},
   "source": [
    "## rutile-IrO2"
   ]
  },
  {
   "cell_type": "code",
   "execution_count": 3,
   "metadata": {},
   "outputs": [
    {
     "name": "stdout",
     "output_type": "stream",
     "text": [
      "AB2_2_a_f_136\n"
     ]
    }
   ],
   "source": [
    "file_path_i = os.path.join(\n",
    "    os.environ[\"PROJ_irox\"],\n",
    "    \"01_bulk_structures\",\n",
    "    \"01_IrO2\",\n",
    "    \"bulk_symm.cif\",\n",
    "    )\n",
    "\n",
    "atoms_i = io.read(file_path_i)\n",
    "structure_i = AseAtomsAdaptor.get_structure(atoms_i)\n",
    "\n",
    "b = be.bulk.BULK()\n",
    "b.set_structure_from_file(Poscar(structure_i).get_string())\n",
    "\n",
    "prototype_names[\"rutile_iro2\"] = b.get_name()\n",
    "print(prototype_names[\"rutile_iro2\"])"
   ]
  },
  {
   "cell_type": "markdown",
   "metadata": {},
   "source": [
    "## a-AlF3 IrO3"
   ]
  },
  {
   "cell_type": "code",
   "execution_count": 4,
   "metadata": {},
   "outputs": [
    {
     "name": "stdout",
     "output_type": "stream",
     "text": [
      "AB3_2_b_e_167\n"
     ]
    }
   ],
   "source": [
    "file_path_i = os.path.join(\n",
    "    os.environ[\"PROJ_irox\"],\n",
    "    \"01_bulk_structures\",\n",
    "    \"02_IrO3\",\n",
    "    \"bulk.cif\",\n",
    "    )\n",
    "\n",
    "atoms_i = io.read(file_path_i)\n",
    "structure_i = AseAtomsAdaptor.get_structure(atoms_i)\n",
    "\n",
    "b = be.bulk.BULK()\n",
    "b.set_structure_from_file(Poscar(structure_i).get_string())\n",
    "\n",
    "prototype_names[\"a-AlF3_iro3\"] = b.get_name()\n",
    "print(prototype_names[\"a-AlF3_iro3\"])"
   ]
  },
  {
   "cell_type": "markdown",
   "metadata": {},
   "source": [
    "## rutile-like IrO3"
   ]
  },
  {
   "cell_type": "code",
   "execution_count": 5,
   "metadata": {},
   "outputs": [
    {
     "name": "stdout",
     "output_type": "stream",
     "text": [
      "AB3_4_e_fj_136\n"
     ]
    }
   ],
   "source": [
    "file_path_i = os.path.join(\n",
    "    os.environ[\"PROJ_irox\"],\n",
    "    \"01_bulk_structures\",\n",
    "    \"03_iro3_rutile-like\",\n",
    "    \"bulk.cif\",\n",
    "    )\n",
    "\n",
    "atoms_i = io.read(file_path_i)\n",
    "structure_i = AseAtomsAdaptor.get_structure(atoms_i)\n",
    "\n",
    "b = be.bulk.BULK()\n",
    "b.set_structure_from_file(Poscar(structure_i).get_string())\n",
    "\n",
    "prototype_names[\"rutile_iro3\"] = b.get_name()\n",
    "print(prototype_names[\"rutile_iro3\"])"
   ]
  },
  {
   "cell_type": "markdown",
   "metadata": {},
   "source": [
    "## battery IrO3"
   ]
  },
  {
   "cell_type": "code",
   "execution_count": 6,
   "metadata": {},
   "outputs": [
    {
     "name": "stdout",
     "output_type": "stream",
     "text": [
      "AB3_8_ik_glm2_66\n"
     ]
    }
   ],
   "source": [
    "file_path_i = os.path.join(\n",
    "    os.environ[\"PROJ_irox\"],\n",
    "    \"01_bulk_structures\",\n",
    "    \"04_iro3_battery\",\n",
    "    \"bulk.cif\",\n",
    "    )\n",
    "\n",
    "atoms_i = io.read(file_path_i)\n",
    "structure_i = AseAtomsAdaptor.get_structure(atoms_i)\n",
    "\n",
    "b = be.bulk.BULK()\n",
    "b.set_structure_from_file(Poscar(structure_i).get_string())\n",
    "\n",
    "prototype_names[\"battery_iro3\"] = b.get_name()\n",
    "print(prototype_names[\"battery_iro3\"])"
   ]
  },
  {
   "cell_type": "markdown",
   "metadata": {},
   "source": [
    "# Results"
   ]
  },
  {
   "cell_type": "raw",
   "metadata": {},
   "source": [
    "rutile IrO2: AB2_2_a_f_136\n",
    "a-AlF3 IrO3: AB3_2_b_e_167\n",
    "rutile IrO3: AB3_4_e_fj_136\n",
    "batter IrO3: AB3_8_ik_glm2_66"
   ]
  },
  {
   "cell_type": "markdown",
   "metadata": {},
   "source": [
    "# Comparing to Static Prototypes List"
   ]
  },
  {
   "cell_type": "code",
   "execution_count": 7,
   "metadata": {},
   "outputs": [
    {
     "name": "stderr",
     "output_type": "stream",
     "text": [
      "/home/raulf2012/anaconda2/envs/py36/lib/python3.6/site-packages/pandas/core/indexes/base.py:162: FutureWarning: the 'labels' keyword is deprecated, use 'codes' instead\n",
      "  return cls.__new__(cls, **d)\n"
     ]
    }
   ],
   "source": [
    "file_i = os.path.join(\n",
    "    os.environ[\"PROJ_irox\"],\n",
    "    \"workflow/ml_modelling/00_ml_workflow/outdata\",\n",
    "    \"01_irox_data_featurized.pickle\")\n",
    "with open(file_i, \"rb\") as fle:\n",
    "    df_m = pickle.load(fle)"
   ]
  },
  {
   "cell_type": "code",
   "execution_count": 8,
   "metadata": {},
   "outputs": [],
   "source": [
    "df_iro2 = df_m[df_m[\"default_columns\"][\"stoich\"] == \"AB2\"]\n",
    "\n",
    "df_iro3 = df_m[df_m[\"default_columns\"][\"stoich\"] == \"AB3\"]"
   ]
  },
  {
   "cell_type": "code",
   "execution_count": 9,
   "metadata": {},
   "outputs": [
    {
     "data": {
      "text/plain": [
       "{'rutile_iro2': 'AB2_2_a_f_136',\n",
       " 'a-AlF3_iro3': 'AB3_2_b_e_167',\n",
       " 'rutile_iro3': 'AB3_4_e_fj_136',\n",
       " 'battery_iro3': 'AB3_8_ik_glm2_66'}"
      ]
     },
     "execution_count": 9,
     "metadata": {},
     "output_type": "execute_result"
    }
   ],
   "source": [
    "prototype_names\n",
    "\n",
    "#IrO2: 200\n",
    "#a-AlF3 IrO3: 231\n",
    "#rutile IrO3: 164\n"
   ]
  },
  {
   "cell_type": "markdown",
   "metadata": {},
   "source": [
    "## rutile IrO2"
   ]
  },
  {
   "cell_type": "code",
   "execution_count": 10,
   "metadata": {},
   "outputs": [
    {
     "data": {
      "text/html": [
       "<div>\n",
       "<style scoped>\n",
       "    .dataframe tbody tr th:only-of-type {\n",
       "        vertical-align: middle;\n",
       "    }\n",
       "\n",
       "    .dataframe tbody tr th {\n",
       "        vertical-align: top;\n",
       "    }\n",
       "\n",
       "    .dataframe thead tr th {\n",
       "        text-align: left;\n",
       "    }\n",
       "</style>\n",
       "<table border=\"1\" class=\"dataframe\">\n",
       "  <thead>\n",
       "    <tr>\n",
       "      <th></th>\n",
       "      <th colspan=\"5\" halign=\"left\">default_columns</th>\n",
       "      <th colspan=\"5\" halign=\"left\">prototype_info</th>\n",
       "    </tr>\n",
       "    <tr>\n",
       "      <th></th>\n",
       "      <th>atoms</th>\n",
       "      <th>formation_e</th>\n",
       "      <th>id</th>\n",
       "      <th>oqmd_id</th>\n",
       "      <th>stoich</th>\n",
       "      <th>name_i</th>\n",
       "      <th>parameter_values_i</th>\n",
       "      <th>spacegroup_i</th>\n",
       "      <th>species_i</th>\n",
       "      <th>wyckoff_i</th>\n",
       "    </tr>\n",
       "  </thead>\n",
       "  <tbody>\n",
       "    <tr>\n",
       "      <th>112</th>\n",
       "      <td>(Atom('Ir', [0.0, 0.0, 0.0], tag=0, index=0), ...</td>\n",
       "      <td>NaN</td>\n",
       "      <td>200</td>\n",
       "      <td>NaN</td>\n",
       "      <td>AB2</td>\n",
       "      <td>AB2_2_a_f_136</td>\n",
       "      <td>[{'name': 'a', 'value': 6.12727}, {'name': 'b/...</td>\n",
       "      <td>136</td>\n",
       "      <td>[Ir, O]</td>\n",
       "      <td>[a, f]</td>\n",
       "    </tr>\n",
       "  </tbody>\n",
       "</table>\n",
       "</div>"
      ],
      "text/plain": [
       "                                       default_columns                   \\\n",
       "                                                 atoms formation_e   id   \n",
       "112  (Atom('Ir', [0.0, 0.0, 0.0], tag=0, index=0), ...         NaN  200   \n",
       "\n",
       "                   prototype_info  \\\n",
       "    oqmd_id stoich         name_i   \n",
       "112     NaN    AB2  AB2_2_a_f_136   \n",
       "\n",
       "                                                                               \\\n",
       "                                    parameter_values_i spacegroup_i species_i   \n",
       "112  [{'name': 'a', 'value': 6.12727}, {'name': 'b/...          136   [Ir, O]   \n",
       "\n",
       "               \n",
       "    wyckoff_i  \n",
       "112    [a, f]  "
      ]
     },
     "execution_count": 10,
     "metadata": {},
     "output_type": "execute_result"
    }
   ],
   "source": [
    "name_i = prototype_names[\"rutile_iro2\"]\n",
    "name_i in df_iro2[\"prototype_info\"][\"name_i\"].tolist()\n",
    "\n",
    "\n",
    "df_iro2.loc[df_iro2[\"prototype_info\"][\"name_i\"] == name_i]"
   ]
  },
  {
   "cell_type": "markdown",
   "metadata": {},
   "source": [
    "## a-AlF3 IrO3"
   ]
  },
  {
   "cell_type": "code",
   "execution_count": 11,
   "metadata": {},
   "outputs": [
    {
     "data": {
      "text/html": [
       "<div>\n",
       "<style scoped>\n",
       "    .dataframe tbody tr th:only-of-type {\n",
       "        vertical-align: middle;\n",
       "    }\n",
       "\n",
       "    .dataframe tbody tr th {\n",
       "        vertical-align: top;\n",
       "    }\n",
       "\n",
       "    .dataframe thead tr th {\n",
       "        text-align: left;\n",
       "    }\n",
       "</style>\n",
       "<table border=\"1\" class=\"dataframe\">\n",
       "  <thead>\n",
       "    <tr>\n",
       "      <th></th>\n",
       "      <th colspan=\"5\" halign=\"left\">default_columns</th>\n",
       "      <th colspan=\"5\" halign=\"left\">prototype_info</th>\n",
       "    </tr>\n",
       "    <tr>\n",
       "      <th></th>\n",
       "      <th>atoms</th>\n",
       "      <th>formation_e</th>\n",
       "      <th>id</th>\n",
       "      <th>oqmd_id</th>\n",
       "      <th>stoich</th>\n",
       "      <th>name_i</th>\n",
       "      <th>parameter_values_i</th>\n",
       "      <th>spacegroup_i</th>\n",
       "      <th>species_i</th>\n",
       "      <th>wyckoff_i</th>\n",
       "    </tr>\n",
       "  </thead>\n",
       "  <tbody>\n",
       "    <tr>\n",
       "      <th>843</th>\n",
       "      <td>(Atom('O', [2.0795108014000006, 3.601818362913...</td>\n",
       "      <td>NaN</td>\n",
       "      <td>231</td>\n",
       "      <td>NaN</td>\n",
       "      <td>AB3</td>\n",
       "      <td>AB3_2_b_e_167</td>\n",
       "      <td>[{'name': 'a', 'value': 6.077419952599129}, {'...</td>\n",
       "      <td>167</td>\n",
       "      <td>[Ir, O]</td>\n",
       "      <td>[b, e]</td>\n",
       "    </tr>\n",
       "  </tbody>\n",
       "</table>\n",
       "</div>"
      ],
      "text/plain": [
       "                                       default_columns                   \\\n",
       "                                                 atoms formation_e   id   \n",
       "843  (Atom('O', [2.0795108014000006, 3.601818362913...         NaN  231   \n",
       "\n",
       "                   prototype_info  \\\n",
       "    oqmd_id stoich         name_i   \n",
       "843     NaN    AB3  AB3_2_b_e_167   \n",
       "\n",
       "                                                                               \\\n",
       "                                    parameter_values_i spacegroup_i species_i   \n",
       "843  [{'name': 'a', 'value': 6.077419952599129}, {'...          167   [Ir, O]   \n",
       "\n",
       "               \n",
       "    wyckoff_i  \n",
       "843    [b, e]  "
      ]
     },
     "execution_count": 11,
     "metadata": {},
     "output_type": "execute_result"
    }
   ],
   "source": [
    "name_i = prototype_names[\"a-AlF3_iro3\"]\n",
    "name_i in df_iro3[\"prototype_info\"][\"name_i\"].tolist()\n",
    "\n",
    "df_iro3.loc[df_iro3[\"prototype_info\"][\"name_i\"] == name_i]"
   ]
  },
  {
   "cell_type": "markdown",
   "metadata": {},
   "source": [
    "## rutile IrO3"
   ]
  },
  {
   "cell_type": "code",
   "execution_count": 12,
   "metadata": {},
   "outputs": [
    {
     "data": {
      "text/html": [
       "<div>\n",
       "<style scoped>\n",
       "    .dataframe tbody tr th:only-of-type {\n",
       "        vertical-align: middle;\n",
       "    }\n",
       "\n",
       "    .dataframe tbody tr th {\n",
       "        vertical-align: top;\n",
       "    }\n",
       "\n",
       "    .dataframe thead tr th {\n",
       "        text-align: left;\n",
       "    }\n",
       "</style>\n",
       "<table border=\"1\" class=\"dataframe\">\n",
       "  <thead>\n",
       "    <tr>\n",
       "      <th></th>\n",
       "      <th colspan=\"5\" halign=\"left\">default_columns</th>\n",
       "      <th colspan=\"5\" halign=\"left\">prototype_info</th>\n",
       "    </tr>\n",
       "    <tr>\n",
       "      <th></th>\n",
       "      <th>atoms</th>\n",
       "      <th>formation_e</th>\n",
       "      <th>id</th>\n",
       "      <th>oqmd_id</th>\n",
       "      <th>stoich</th>\n",
       "      <th>name_i</th>\n",
       "      <th>parameter_values_i</th>\n",
       "      <th>spacegroup_i</th>\n",
       "      <th>species_i</th>\n",
       "      <th>wyckoff_i</th>\n",
       "    </tr>\n",
       "  </thead>\n",
       "  <tbody>\n",
       "    <tr>\n",
       "      <th>768</th>\n",
       "      <td>(Atom('O', [5.2048410015, 5.2048410015, 0.0], ...</td>\n",
       "      <td>-0.559365</td>\n",
       "      <td>164</td>\n",
       "      <td>NaN</td>\n",
       "      <td>AB3</td>\n",
       "      <td>AB3_4_e_fj_136</td>\n",
       "      <td>[{'name': 'a', 'value': 6.44315}, {'name': 'b/...</td>\n",
       "      <td>136</td>\n",
       "      <td>[Ir, O, O]</td>\n",
       "      <td>[e, f, j]</td>\n",
       "    </tr>\n",
       "  </tbody>\n",
       "</table>\n",
       "</div>"
      ],
      "text/plain": [
       "                                       default_columns                   \\\n",
       "                                                 atoms formation_e   id   \n",
       "768  (Atom('O', [5.2048410015, 5.2048410015, 0.0], ...   -0.559365  164   \n",
       "\n",
       "                    prototype_info  \\\n",
       "    oqmd_id stoich          name_i   \n",
       "768     NaN    AB3  AB3_4_e_fj_136   \n",
       "\n",
       "                                                                     \\\n",
       "                                    parameter_values_i spacegroup_i   \n",
       "768  [{'name': 'a', 'value': 6.44315}, {'name': 'b/...          136   \n",
       "\n",
       "                            \n",
       "      species_i  wyckoff_i  \n",
       "768  [Ir, O, O]  [e, f, j]  "
      ]
     },
     "execution_count": 12,
     "metadata": {},
     "output_type": "execute_result"
    }
   ],
   "source": [
    "name_i = prototype_names[\"rutile_iro3\"]\n",
    "name_i in df_iro3[\"prototype_info\"][\"name_i\"].tolist()\n",
    "\n",
    "df_iro3.loc[df_iro3[\"prototype_info\"][\"name_i\"] == name_i]"
   ]
  },
  {
   "cell_type": "markdown",
   "metadata": {},
   "source": [
    "## battery IrO3"
   ]
  },
  {
   "cell_type": "code",
   "execution_count": 13,
   "metadata": {},
   "outputs": [
    {
     "data": {
      "text/html": [
       "<div>\n",
       "<style scoped>\n",
       "    .dataframe tbody tr th:only-of-type {\n",
       "        vertical-align: middle;\n",
       "    }\n",
       "\n",
       "    .dataframe tbody tr th {\n",
       "        vertical-align: top;\n",
       "    }\n",
       "\n",
       "    .dataframe thead tr th {\n",
       "        text-align: left;\n",
       "    }\n",
       "</style>\n",
       "<table border=\"1\" class=\"dataframe\">\n",
       "  <thead>\n",
       "    <tr>\n",
       "      <th></th>\n",
       "      <th colspan=\"5\" halign=\"left\">default_columns</th>\n",
       "      <th colspan=\"5\" halign=\"left\">prototype_info</th>\n",
       "    </tr>\n",
       "    <tr>\n",
       "      <th></th>\n",
       "      <th>atoms</th>\n",
       "      <th>formation_e</th>\n",
       "      <th>id</th>\n",
       "      <th>oqmd_id</th>\n",
       "      <th>stoich</th>\n",
       "      <th>name_i</th>\n",
       "      <th>parameter_values_i</th>\n",
       "      <th>spacegroup_i</th>\n",
       "      <th>species_i</th>\n",
       "      <th>wyckoff_i</th>\n",
       "    </tr>\n",
       "  </thead>\n",
       "  <tbody>\n",
       "  </tbody>\n",
       "</table>\n",
       "</div>"
      ],
      "text/plain": [
       "Empty DataFrame\n",
       "Columns: [(default_columns, atoms), (default_columns, formation_e), (default_columns, id), (default_columns, oqmd_id), (default_columns, stoich), (prototype_info, name_i), (prototype_info, parameter_values_i), (prototype_info, spacegroup_i), (prototype_info, species_i), (prototype_info, wyckoff_i)]\n",
       "Index: []"
      ]
     },
     "execution_count": 13,
     "metadata": {},
     "output_type": "execute_result"
    }
   ],
   "source": [
    "name_i = prototype_names[\"battery_iro3\"]\n",
    "name_i in df_iro3[\"prototype_info\"][\"name_i\"].tolist()\n",
    "\n",
    "df_iro3.loc[df_iro3[\"prototype_info\"][\"name_i\"] == name_i]"
   ]
  }
 ],
 "metadata": {
  "kernelspec": {
   "display_name": "Python 3",
   "language": "python",
   "name": "python3"
  },
  "language_info": {
   "codemirror_mode": {
    "name": "ipython",
    "version": 3
   },
   "file_extension": ".py",
   "mimetype": "text/x-python",
   "name": "python",
   "nbconvert_exporter": "python",
   "pygments_lexer": "ipython3",
   "version": "3.6.8"
  }
 },
 "nbformat": 4,
 "nbformat_minor": 2
}
