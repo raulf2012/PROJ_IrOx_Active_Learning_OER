{
 "cells": [
  {
   "cell_type": "markdown",
   "metadata": {},
   "source": [
    "# Analysis Notebooks:\n",
    "----"
   ],
   "execution_count": null,
   "outputs": []
  },
  {
   "cell_type": "markdown",
   "metadata": {},
   "source": [
    "* 01_surface_energies\n",
    "  * 01_surface_e_convergence\n",
    "    * [an_surf_e_convergence__v2.ipynb](01_surface_energies/01_surface_e_convergence/an_surf_e_convergence__v2.ipynb)\n",
    "  * 02_surface_e_pourb_plot\n",
    "    * [an_surface-energy_pourbaix.ipynb](01_surface_energies/02_surface_e_pourb_plot/an_surface-energy_pourbaix.ipynb)\n",
    "    * [creating_legend.ipynb](01_surface_energies/02_surface_e_pourb_plot/creating_legend.ipynb)\n",
    "  \n",
    "  * an_my_bulk_opt\n",
    "    * [an_latt_opt.ipynb](01_latt_const_opt/an_my_bulk_opt/an_latt_opt.ipynb)\n",
    "  * an_xrd_pattern\n",
    "    * [an_xrd_pattern.ipynb](01_latt_const_opt/an_xrd_pattern/an_xrd_pattern.ipynb)\n",
    "    * [an_plotting.ipynb](01_latt_const_opt/an_xrd_pattern/an_plotting.ipynb)\n",
    "  * compare_latt_consts\n",
    "    * [an_compare_lc.ipynb](01_latt_const_opt/compare_latt_consts/an_compare_lc.ipynb)\n",
    "\n",
    "---"
   ],
   "execution_count": null,
   "outputs": []
  },
  {
   "cell_type": "raw",
   "metadata": {},
   "source": [
    "\n",
    "\n"
   ],
   "execution_count": null,
   "outputs": []
  },
  {
   "cell_type": "markdown",
   "metadata": {},
   "source": [
    "# Notebooks that are used in production of final figures"
   ],
   "execution_count": null,
   "outputs": []
  },
  {
   "cell_type": "markdown",
   "metadata": {},
   "source": [
    "## OER Volcano\n",
    "---\n",
    "\n",
    "PROJ_IrOx_Active_Learning_OER/workflow/02_oer_analysis/02_oer_volc/an_irox_volcano_plotly__v1.ipynb\n",
    "\n",
    "PROJ_IrOx_Active_Learning_OER/workflow/02_oer_analysis/02_oer_volc/kinetic_volcano_colin__v1.ipynb\n",
    "\n",
    "##  TEMP\n",
    "---"
   ],
   "execution_count": null,
   "outputs": []
  },
  {
   "cell_type": "raw",
   "metadata": {},
   "source": [
    "\n",
    "\n"
   ],
   "execution_count": null,
   "outputs": []
  },
  {
   "cell_type": "markdown",
   "metadata": {},
   "source": [
    "# SI Figures\n",
    "---\n",
    "---"
   ],
   "execution_count": null,
   "outputs": []
  },
  {
   "cell_type": "markdown",
   "metadata": {},
   "source": [
    "# Figure S1 (MAE vs PCA comp)\n",
    "\n",
    "/home/raulf2012/Dropbox/01_norskov/00_git_repos/PROJ_IrOx_Active_Learning_OER_test/workflow/ml_modelling/opt_mae_err_gp_model/cv_error__v3.ipynb\n"
   ],
   "execution_count": null,
   "outputs": []
  },
  {
   "cell_type": "code",
   "execution_count": null,
   "metadata": {},
   "outputs": [],
   "source": []
  },
  {
   "cell_type": "markdown",
   "metadata": {},
   "source": [
    "## OER Scaling Plot\n",
    "\n",
    "PROJ_IrOx_Active_Learning_OER/workflow/02_oer_analysis/03_ads_e_scaling/an_irox_scaling__v2.ipynb"
   ],
   "execution_count": null,
   "outputs": []
  },
  {
   "cell_type": "markdown",
   "metadata": {},
   "source": [
    "## TEMP"
   ],
   "execution_count": null,
   "outputs": []
  },
  {
   "cell_type": "code",
   "execution_count": null,
   "metadata": {},
   "outputs": [],
   "source": []
  }
 ],
 "metadata": {
  "kernelspec": {
   "display_name": "Python 3",
   "language": "python",
   "name": "python3"
  },
  "language_info": {
   "codemirror_mode": {
    "name": "ipython",
    "version": 3
   },
   "file_extension": ".py",
   "mimetype": "text/x-python",
   "name": "python",
   "nbconvert_exporter": "python",
   "pygments_lexer": "ipython3",
   "version": "3.7.3"
  }
 },
 "nbformat": 4,
 "nbformat_minor": 4
}
