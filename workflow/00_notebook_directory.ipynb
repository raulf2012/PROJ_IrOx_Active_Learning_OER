{
 "cells": [
  {
   "cell_type": "markdown",
   "metadata": {},
   "source": [
    "# Analysis Notebooks:\n",
    "----"
   ]
  },
  {
   "cell_type": "markdown",
   "metadata": {},
   "source": [
    "* 01_surface_energies\n",
    "  * 01_surface_e_convergence\n",
    "    * [an_surf_e_convergence__v2.ipynb](01_surface_energies/01_surface_e_convergence/an_surf_e_convergence__v2.ipynb)\n",
    "  * 02_surface_e_pourb_plot\n",
    "    * [an_surface-energy_pourbaix.ipynb](01_surface_energies/02_surface_e_pourb_plot/an_surface-energy_pourbaix.ipynb)\n",
    "    * [creating_legend.ipynb](01_surface_energies/02_surface_e_pourb_plot/creating_legend.ipynb)\n",
    "  \n",
    "  * an_my_bulk_opt\n",
    "    * [an_latt_opt.ipynb](01_latt_const_opt/an_my_bulk_opt/an_latt_opt.ipynb)\n",
    "  * an_xrd_pattern\n",
    "    * [an_xrd_pattern.ipynb](01_latt_const_opt/an_xrd_pattern/an_xrd_pattern.ipynb)\n",
    "    * [an_plotting.ipynb](01_latt_const_opt/an_xrd_pattern/an_plotting.ipynb)\n",
    "  * compare_latt_consts\n",
    "    * [an_compare_lc.ipynb](01_latt_const_opt/compare_latt_consts/an_compare_lc.ipynb)\n",
    "\n",
    "---"
   ]
  },
  {
   "cell_type": "code",
   "execution_count": null,
   "metadata": {},
   "outputs": [],
   "source": []
  }
 ],
 "metadata": {
  "kernelspec": {
   "display_name": "Python 3",
   "language": "python",
   "name": "python3"
  },
  "language_info": {
   "codemirror_mode": {
    "name": "ipython",
    "version": 3
   },
   "file_extension": ".py",
   "mimetype": "text/x-python",
   "name": "python",
   "nbconvert_exporter": "python",
   "pygments_lexer": "ipython3",
   "version": "3.7.3"
  }
 },
 "nbformat": 4,
 "nbformat_minor": 4
}
