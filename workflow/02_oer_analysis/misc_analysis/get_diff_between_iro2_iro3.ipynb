{
 "cells": [
  {
   "cell_type": "code",
   "execution_count": null,
   "metadata": {},
   "outputs": [],
   "source": [
    "import os\n",
    "print(os.getcwd())\n",
    "import sys\n",
    "\n",
    "import numpy as np"
   ]
  },
  {
   "cell_type": "code",
   "execution_count": null,
   "metadata": {},
   "outputs": [],
   "source": [
    "%%capture\n",
    "\n",
    "sys.path.insert(\n",
    "    0, os.path.join(\n",
    "        os.environ[\"PROJ_irox\"],\n",
    "        \"workflow\"))\n",
    "\n",
    "sys.path.insert(\n",
    "    0, os.path.join(\n",
    "        os.environ[\"PROJ_irox\"],\n",
    "        \"data\"))\n",
    "\n",
    "from an_data_processing import load_df\n",
    "\n",
    "from proj_data_irox import data_dir"
   ]
  },
  {
   "cell_type": "code",
   "execution_count": null,
   "metadata": {},
   "outputs": [],
   "source": [
    "df_pourbaix, df_ads, df_surf = load_df(\n",
    "    from_file=True,\n",
    "    root_dir=data_dir,\n",
    "    data_dir=data_dir,\n",
    "    file_name=\"df_master.pickle\",\n",
    "    process_df=False)\n",
    "df_m = df_ads"
   ]
  },
  {
   "cell_type": "raw",
   "execution_count": null,
   "metadata": {},
   "outputs": [],
   "source": [
    "\n",
    "\n"
   ]
  },
  {
   "cell_type": "code",
   "execution_count": null,
   "metadata": {},
   "outputs": [],
   "source": [
    "adsorbates = [\"o\", \"oh\", \"ooh\"]\n",
    "# adsorbates = [\"adsorbate\"]"
   ]
  },
  {
   "cell_type": "code",
   "execution_count": null,
   "metadata": {},
   "outputs": [],
   "source": [
    "df_i = df_m[(df_m.bulk_system == \"IrO2\")]\n",
    "\n",
    "mean_ads_dict = dict()\n",
    "group = df_i.groupby(\"adsorbate\")\n",
    "for ads, df_j in group:\n",
    "    ads_e_ave = df_j.ads_e.mean()\n",
    "    mean_ads_dict[ads] = ads_e_ave\n",
    "\n",
    "mean_ads_dict_ab2 = mean_ads_dict"
   ]
  },
  {
   "cell_type": "code",
   "execution_count": null,
   "metadata": {},
   "outputs": [],
   "source": [
    "df_i = df_m[(df_m.bulk_system == \"IrO3\")]\n",
    "\n",
    "mean_ads_dict = dict()\n",
    "group = df_i.groupby(\"adsorbate\")\n",
    "for ads, df_j in group:\n",
    "    ads_e_ave = df_j.ads_e.mean()\n",
    "    mean_ads_dict[ads] = ads_e_ave\n",
    "    \n",
    "mean_ads_dict_ab3 = mean_ads_dict"
   ]
  },
  {
   "cell_type": "code",
   "execution_count": null,
   "metadata": {},
   "outputs": [],
   "source": [
    "ads_diff_dict = dict()\n",
    "for ads_i in adsorbates:\n",
    "    ads_ab2 = mean_ads_dict_ab2[ads_i]\n",
    "    ads_ab3 = mean_ads_dict_ab3[ads_i]\n",
    "    \n",
    "    ads_diff = ads_ab3 - ads_ab2\n",
    "    \n",
    "    print(ads_i, \":\", ads_diff)\n",
    "    ads_diff_dict[ads_i] = ads_diff"
   ]
  },
  {
   "cell_type": "code",
   "execution_count": null,
   "metadata": {},
   "outputs": [],
   "source": [
    "# for i, j in ads_diff_dict.items():\n",
    "#     print(j)\n",
    "\n",
    "np.mean(list(ads_diff_dict.values()))"
   ]
  },
  {
   "cell_type": "code",
   "execution_count": null,
   "metadata": {},
   "outputs": [],
   "source": [
    "ads_diff_dict"
   ]
  }
 ],
 "metadata": {
  "kernelspec": {
   "display_name": "Python [conda env:PROJ_IrOx_Active_Learning_OER]",
   "language": "python",
   "name": "conda-env-PROJ_IrOx_Active_Learning_OER-py"
  },
  "language_info": {
   "codemirror_mode": {
    "name": "ipython",
    "version": 3
   },
   "file_extension": ".py",
   "mimetype": "text/x-python",
   "name": "python",
   "nbconvert_exporter": "python",
   "pygments_lexer": "ipython3",
   "version": "3.6.7"
  }
 },
 "nbformat": 4,
 "nbformat_minor": 4
}
