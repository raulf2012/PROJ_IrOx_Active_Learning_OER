{
 "cells": [
  {
   "cell_type": "code",
   "execution_count": null,
   "metadata": {},
   "outputs": [],
   "source": []
  },
  {
   "cell_type": "markdown",
   "metadata": {},
   "source": [
    "# OER Volcano for IrOx systems\n",
    "\n",
    "***"
   ],
   "execution_count": null,
   "outputs": []
  },
  {
   "cell_type": "markdown",
   "metadata": {},
   "source": [
    "# Import Modules | TEMP NEW"
   ],
   "execution_count": null,
   "outputs": []
  },
  {
   "cell_type": "code",
   "execution_count": null,
   "metadata": {},
   "outputs": [],
   "source": [
    "%%capture\n",
    "%load_ext autoreload\n",
    "%autoreload 2"
   ]
  },
  {
   "cell_type": "code",
   "execution_count": null,
   "metadata": {},
   "outputs": [],
   "source": [
    "import os\n",
    "print(os.getcwd())\n",
    "import sys"
   ]
  },
  {
   "cell_type": "code",
   "execution_count": null,
   "metadata": {},
   "outputs": [],
   "source": [
    "# %%capture\n",
    "\n",
    "sys.path.insert(\n",
    "    0, os.path.join(\n",
    "        os.environ[\"PROJ_irox\"],\n",
    "        \"workflow\"))\n",
    "\n",
    "sys.path.insert(\n",
    "    0, os.path.join(\n",
    "        os.environ[\"PROJ_irox\"],\n",
    "        \"data\"))\n",
    "\n",
    "from an_data_processing import load_df\n",
    "\n",
    "# #############################################################################\n",
    "# Python Modules\n",
    "import pickle\n",
    "\n",
    "import numpy as np\n",
    "\n",
    "import plotly.graph_objs as go\n",
    "\n",
    "# #############################################################################\n",
    "# My Modules\n",
    "from oxr_reaction.oxr_rxn import ORR_Free_E_Plot\n",
    "from oxr_reaction.oxr_plotting_classes.oxr_plot_volcano import Volcano_Plot\n",
    "\n",
    "# #############################################################################\n",
    "# Project Data\n",
    "from proj_data_irox import (\n",
    "    proj_dir_name,\n",
    "    smart_format_dict,\n",
    "    gas_molec_dict,\n",
    "    scaling_dict_ideal,\n",
    "    scaling_dict_fitted,\n",
    "    exp_irox_lim_pot,\n",
    "    data_dir,\n",
    "    groupby_props,\n",
    "    axis_label_font_size,\n",
    "    axis_tick_labels_font_size,\n",
    "    oer_systems_to_plot,\n",
    "    irox_bulk_color_map)\n",
    "\n",
    "# #############################################################################\n",
    "# Local Imports\n",
    "from plotting.my_plotly import (\n",
    "    my_plotly_plot,\n",
    "    add_minor_ticks,\n",
    "    add_duplicate_axes,\n",
    "    )\n",
    "\n",
    "# from layout import layout\n",
    "# from layout2 import layout"
   ]
  },
  {
   "cell_type": "code",
   "execution_count": null,
   "metadata": {},
   "outputs": [],
   "source": [
    "import pandas as pd"
   ]
  },
  {
   "cell_type": "markdown",
   "metadata": {},
   "source": [
    "# Script Inputs"
   ],
   "execution_count": null,
   "outputs": []
  },
  {
   "cell_type": "code",
   "execution_count": null,
   "metadata": {},
   "outputs": [],
   "source": [
    "save_plot = False\n",
    "plot_exp_traces = True\n",
    "\n",
    "plot_range = {\n",
    "    \"y\": [2., 1.4],\n",
    "    \"x\": [1., 2.],\n",
    "    }"
   ]
  },
  {
   "cell_type": "markdown",
   "metadata": {
    "incorrectly_encoded_metadata": "toc-hr-collapsed=true"
   },
   "source": [
    "# Read and Process Data Frame"
   ],
   "execution_count": null,
   "outputs": []
  },
  {
   "cell_type": "markdown",
   "metadata": {},
   "source": [
    "## Read dataframe from file"
   ],
   "execution_count": null,
   "outputs": []
  },
  {
   "cell_type": "code",
   "execution_count": null,
   "metadata": {},
   "outputs": [],
   "source": [
    "data_dir"
   ]
  },
  {
   "cell_type": "code",
   "execution_count": null,
   "metadata": {},
   "outputs": [],
   "source": [
    "df_pourbaix, df_ads, df_surf = load_df(\n",
    "    from_file=False,\n",
    "    root_dir=data_dir,\n",
    "    data_dir=data_dir,\n",
    "    file_name=\"df_master.pickle\",\n",
    "    process_df=True,\n",
    "    )\n",
    "\n",
    "df_m = df_ads"
   ]
  },
  {
   "cell_type": "code",
   "execution_count": null,
   "metadata": {},
   "outputs": [],
   "source": [
    "df_m.columns.tolist()\n",
    "\n",
    "short_cols_list = [\n",
    "    'bulk_system',\n",
    "    'facet',\n",
    "    'adsorbate',\n",
    "    'coverage_type',\n",
    "    'ooh_direction',\n",
    "    'ads_e',\n",
    "    'elec_energy',\n",
    "    # 'total_magmom',\n",
    "    # 'abs_magmom',\n",
    "    # 'path_short',\n",
    "    # 'name_i',\n",
    "    # 'max_force',\n",
    "    # 'sum_force',\n",
    "    # 'elem_num_dict',\n",
    "    # 'incar_parsed',\n",
    "    # 'init_atoms',\n",
    "    'atoms_object',\n",
    "    # 'N_atoms',\n",
    "    # 'dipole_correction',\n",
    "    # 'path',\n",
    "    # 'name_i_2',\n",
    "    # 'name_i_3',\n",
    "    # 'priority',\n",
    "    'surface_type',\n",
    "    ]"
   ]
  },
  {
   "cell_type": "markdown",
   "metadata": {},
   "source": [
    "# ORR_Free_E_Plot Instance"
   ],
   "execution_count": null,
   "outputs": []
  },
  {
   "cell_type": "code",
   "execution_count": null,
   "metadata": {},
   "outputs": [],
   "source": [
    "ORR_PLT = ORR_Free_E_Plot(\n",
    "    free_energy_df=None,\n",
    "    state_title=\"adsorbate\",\n",
    "    free_e_title=\"ads_e\",\n",
    "    smart_format=smart_format_dict,\n",
    "    color_list=None,\n",
    "    rxn_type=\"OER\")"
   ]
  },
  {
   "cell_type": "code",
   "execution_count": null,
   "metadata": {},
   "outputs": [],
   "source": [
    "# smart_format_dict"
   ]
  },
  {
   "cell_type": "markdown",
   "metadata": {},
   "source": [
    "# Processing Data"
   ],
   "execution_count": null,
   "outputs": []
  },
  {
   "cell_type": "code",
   "execution_count": null,
   "metadata": {},
   "outputs": [],
   "source": [
    "new_index_order = [] + \\\n",
    "    df_m[df_m.bulk_system != \"IrO3\"].index.tolist() + \\\n",
    "    df_m[df_m.bulk_system == \"IrO3\"].index.tolist() + \\\n",
    "    []\n",
    "\n",
    "df_m = df_m.loc[new_index_order]"
   ]
  },
  {
   "cell_type": "markdown",
   "metadata": {},
   "source": [
    "# TEMP Changing data manualy just slightly for better visiblity in OER plot"
   ],
   "execution_count": null,
   "outputs": []
  },
  {
   "cell_type": "code",
   "execution_count": null,
   "metadata": {},
   "outputs": [],
   "source": [
    "# index_i = df_m[\n",
    "#     (df_m.bulk_system == \"IrO3_rutile-like\") & \\\n",
    "#     (df_m.facet == \"100\") & \\\n",
    "#     (df_m.coverage_type == \"o_covered_2\") & \\\n",
    "#     (df_m.adsorbate == \"o\")\n",
    "#     ].iloc[0:].index[0]\n",
    "\n",
    "# # 2.840912 eV\n",
    "# # df_m.loc[274, \"ads_e\"] = 2.78\n",
    "# # df_m.loc[274, \"ads_e\"] = 2.838\n",
    "# df_m.loc[index_i, \"ads_e\"] = 2.838\n",
    "\n",
    "\n",
    "# index_i = df_m[\n",
    "#     (df_m.bulk_system == \"IrO3_rutile-like\") & \\\n",
    "#     (df_m.facet == \"110\") & \\\n",
    "#     (df_m.coverage_type == \"o_covered\") & \\\n",
    "#     (df_m.adsorbate == \"o\")\n",
    "#     ].iloc[0:].index[0]\n",
    "\n",
    "# # 2.62689\n",
    "# df_m.loc[index_i, \"ads_e\"] = 2.63"
   ]
  },
  {
   "cell_type": "code",
   "execution_count": null,
   "metadata": {},
   "outputs": [],
   "source": [
    "prop_name_list = [\n",
    "    'bulk_system',\n",
    "    # 'coverage',\n",
    "    'coverage_type',\n",
    "    'facet',\n",
    "    'surface_type',\n",
    "    ]\n",
    "\n",
    "df_dict_i = dict()\n",
    "grouped = df_m.groupby(groupby_props, sort=False)\n",
    "for i_ind, (name, group) in enumerate(grouped):\n",
    "    df_i = group\n",
    "    \n",
    "    name_i = \"_\".join(list(name))\n",
    "    print(\"name:\", name_i)\n",
    "\n",
    "#     if name_i == \"IrO3_rutile-like_100_o_covered_2_NaN\":\n",
    "    if not any([np.isnan(i) for i in df_i.elec_energy.tolist()]):\n",
    "        if name_i in oer_systems_to_plot:\n",
    "            print(\"ADDING SYSTEM\")\n",
    "            ORR_PLT.add_series(\n",
    "                df_i,\n",
    "                plot_mode=\"all\",\n",
    "                overpotential_type=\"OER\",\n",
    "                property_key_list=prop_name_list,\n",
    "                add_overpot=False,\n",
    "                name_i=name_i,\n",
    "                )\n",
    "        df_dict_i[name_i] = df_i"
   ]
  },
  {
   "cell_type": "code",
   "execution_count": null,
   "metadata": {},
   "outputs": [],
   "source": [
    "ORR_PLT.series_list"
   ]
  },
  {
   "cell_type": "raw",
   "metadata": {},
   "source": [
    "\n",
    "\n",
    "\n",
    "\n",
    "\n",
    "\n",
    "\n",
    "\n",
    "\n",
    "\n",
    "\n",
    "\n",
    "\n",
    "\n",
    "\n",
    "\n",
    "\n",
    "\n",
    "\n",
    "\n",
    "\n",
    "\n",
    "\n",
    "\n",
    "\n",
    "\n",
    "\n",
    "\n",
    "\n",
    "\n",
    "\n",
    "\n",
    "\n",
    "\n",
    "\n",
    "\n",
    "\n",
    "\n",
    "\n",
    "\n",
    "\n",
    "\n",
    "\n",
    "\n",
    "\n",
    "\n",
    "\n",
    "\n",
    "\n",
    "\n",
    "\n",
    "\n"
   ],
   "execution_count": null,
   "outputs": []
  },
  {
   "cell_type": "markdown",
   "metadata": {},
   "source": [
    "# Import Modules"
   ],
   "execution_count": null,
   "outputs": []
  },
  {
   "cell_type": "code",
   "execution_count": null,
   "metadata": {},
   "outputs": [],
   "source": [
    "%load_ext autoreload\n",
    "%autoreload 2"
   ]
  },
  {
   "cell_type": "code",
   "execution_count": null,
   "metadata": {},
   "outputs": [],
   "source": [
    "%%capture\n",
    "\n",
    "import pandas as pd\n",
    "\n",
    "# Setting Custom Paths ********************************************************\n",
    "# *****************************************************************************\n",
    "import os; import sys\n",
    "sys.path.append(\"..\"); sys.path.append(\"../..\")\n",
    "sys.path.insert(0, os.path.join(\n",
    "    os.environ[\"PROJ_col_iro2\"],\n",
    "    \"data\"))\n",
    "\n",
    "\n",
    "# Python Modules **************************************************************\n",
    "# *****************************************************************************\n",
    "from plotly import io as pyio\n",
    "import chart_studio.plotly as py\n",
    "import plotly.graph_objs as go\n",
    "from IPython.display import HTML\n",
    "\n",
    "\n",
    "# My Modules ******************************************************************\n",
    "# *****************************************************************************\n",
    "from oxr_reaction.oxr_plotting_classes.oxr_plot_2d_volcano import (\n",
    "    Volcano_Plot_2D)\n",
    "from plotting.my_plotly import my_plotly_plot"
   ]
  },
  {
   "cell_type": "markdown",
   "metadata": {},
   "source": [
    "# Script Inputs"
   ],
   "execution_count": null,
   "outputs": []
  },
  {
   "cell_type": "code",
   "execution_count": null,
   "metadata": {},
   "outputs": [],
   "source": [
    "save_plot = True"
   ]
  },
  {
   "cell_type": "markdown",
   "metadata": {},
   "source": [
    "# Read OER Data"
   ],
   "execution_count": null,
   "outputs": []
  },
  {
   "cell_type": "code",
   "execution_count": null,
   "metadata": {},
   "outputs": [],
   "source": [
    "# from sc_procc_manual_data import (\n",
    "#     ORR_PLT,\n",
    "\n",
    "#     # TEMP\n",
    "#     df_ads_e,\n",
    "#     # df_list,\n",
    "#     corrections_dict,\n",
    "#     oxy_ref, hyd_ref,\n",
    "#     )\n",
    "\n",
    "\n",
    "# df_list\n",
    "from proj_data_col_iro2 import proj_dir_name"
   ]
  },
  {
   "cell_type": "markdown",
   "metadata": {},
   "source": [
    "# 2D Volcano Plot Instance"
   ],
   "execution_count": null,
   "outputs": []
  },
  {
   "cell_type": "code",
   "execution_count": null,
   "metadata": {},
   "outputs": [],
   "source": [
    "smart_format_dict"
   ]
  },
  {
   "cell_type": "code",
   "execution_count": null,
   "metadata": {},
   "outputs": [],
   "source": [
    "VP = Volcano_Plot_2D(\n",
    "    ORR_PLT,\n",
    "    plot_range={\n",
    "        \"x\": [+0.9, +2.0],\n",
    "        \"y\": [-0.5, +2.0],\n",
    "        },\n",
    "\n",
    "    smart_format_dict=smart_format_dict,\n",
    "    )\n",
    "\n",
    "data = VP.traces\n",
    "layout = VP.get_plotly_layout()"
   ]
  },
  {
   "cell_type": "markdown",
   "metadata": {},
   "source": [
    "# Plotting"
   ],
   "execution_count": null,
   "outputs": []
  },
  {
   "cell_type": "code",
   "execution_count": null,
   "metadata": {},
   "outputs": [],
   "source": [
    "layout = VP.get_plotly_layout()"
   ]
  },
  {
   "cell_type": "markdown",
   "metadata": {},
   "source": [
    "## Small Plot"
   ],
   "execution_count": null,
   "outputs": []
  },
  {
   "cell_type": "code",
   "execution_count": null,
   "metadata": {},
   "outputs": [],
   "source": [
    "# %%capture\n",
    "\n",
    "# #############################################################################\n",
    "layout_override = dict(\n",
    "    width=8 * 37.795275591,\n",
    "    height=6 * 37.795275591,\n",
    "    showlegend=False,\n",
    "\n",
    "    margin=go.layout.Margin(\n",
    "        autoexpand=None,\n",
    "        b=8,\n",
    "        l=8,\n",
    "        pad=None,\n",
    "        r=5,\n",
    "        t=5,\n",
    "        ),\n",
    "\n",
    "    paper_bgcolor=\"white\",\n",
    "    plot_bgcolor=\"white\",\n",
    "    )\n",
    "\n",
    "layout.update(dict(xaxis=dict(\n",
    "    dtick=0.2,\n",
    "    )))\n",
    "\n",
    "# #############################################################################\n",
    "for trace_i in data:\n",
    "    try:\n",
    "        trace_i.marker.size = 12\n",
    "    except:\n",
    "        pass\n",
    "\n",
    "fig = go.Figure(\n",
    "    data=data,\n",
    "    layout=layout.update(layout_override))\n",
    "\n",
    "# my_plotly_plot(\n",
    "#     figure=fig,\n",
    "#     plot_name=\"out_plot_00_small\",\n",
    "#     write_pdf=True,\n",
    "#     )"
   ]
  },
  {
   "cell_type": "code",
   "execution_count": null,
   "metadata": {},
   "outputs": [],
   "source": [
    "# fig.show()"
   ]
  },
  {
   "cell_type": "markdown",
   "metadata": {},
   "source": [
    "## Medium Plot"
   ],
   "execution_count": null,
   "outputs": []
  },
  {
   "cell_type": "code",
   "execution_count": null,
   "metadata": {},
   "outputs": [],
   "source": [
    "layout_override = {\n",
    "    \"width\": 24 * 37.795275591,\n",
    "    \"height\": 14 * 37.795275591,\n",
    "    \"showlegend\": True,\n",
    "    }\n",
    "\n",
    "fig = go.Figure(\n",
    "    data=data,\n",
    "    layout=layout.update(layout_override))\n",
    "\n",
    "# my_plotly_plot(\n",
    "#     figure=fig,\n",
    "#     plot_name=\"out_plot_00_medium\",\n",
    "#     write_pdf=True,\n",
    "#     )"
   ]
  },
  {
   "cell_type": "code",
   "execution_count": null,
   "metadata": {},
   "outputs": [],
   "source": [
    "fig.show()"
   ]
  }
 ],
 "metadata": {
  "kernelspec": {
   "display_name": "Python [conda env:PROJ_IrOx_Active_Learning_OER]",
   "language": "python",
   "name": "conda-env-PROJ_IrOx_Active_Learning_OER-py"
  },
  "language_info": {
   "codemirror_mode": {
    "name": "ipython",
    "version": 3
   },
   "file_extension": ".py",
   "mimetype": "text/x-python",
   "name": "python",
   "nbconvert_exporter": "python",
   "pygments_lexer": "ipython3",
   "version": "3.6.9"
  },
  "toc-autonumbering": true,
  "toc-showcode": false,
  "toc-showmarkdowntxt": false
 },
 "nbformat": 4,
 "nbformat_minor": 4
}
