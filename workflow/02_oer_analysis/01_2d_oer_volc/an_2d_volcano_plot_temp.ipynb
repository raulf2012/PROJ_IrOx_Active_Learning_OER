{
 "cells": [
  {
   "cell_type": "markdown",
   "execution_count": null,
   "metadata": {},
   "outputs": [],
   "source": [
    "# Import Modules"
   ]
  },
  {
   "cell_type": "code",
   "execution_count": null,
   "metadata": {},
   "outputs": [],
   "source": [
    "%load_ext autoreload\n",
    "%autoreload 2"
   ]
  },
  {
   "cell_type": "code",
   "execution_count": null,
   "metadata": {
    "jupyter": {}
   },
   "outputs": [],
   "source": [
    "%%capture\n",
    "\n",
    "import pandas as pd\n",
    "\n",
    "# Setting Custom Paths ********************************************************\n",
    "# *****************************************************************************\n",
    "import os; import sys\n",
    "sys.path.append(\"..\"); sys.path.append(\"../..\")\n",
    "sys.path.insert(0, os.path.join(\n",
    "    os.environ[\"PROJ_col_iro2\"],\n",
    "    \"data\"))\n",
    "\n",
    "\n",
    "# Python Modules **************************************************************\n",
    "# *****************************************************************************\n",
    "from plotly import io as pyio\n",
    "import chart_studio.plotly as py\n",
    "import plotly.graph_objs as go\n",
    "from IPython.display import HTML\n",
    "\n",
    "\n",
    "# My Modules ******************************************************************\n",
    "# *****************************************************************************\n",
    "from oxr_reaction.oxr_plotting_classes.oxr_plot_2d_volcano import (\n",
    "    Volcano_Plot_2D)\n",
    "from plotting.my_plotly import my_plotly_plot"
   ]
  },
  {
   "cell_type": "markdown",
   "execution_count": null,
   "metadata": {},
   "outputs": [],
   "source": [
    "# Script Inputs"
   ]
  },
  {
   "cell_type": "code",
   "execution_count": null,
   "metadata": {},
   "outputs": [],
   "source": [
    "save_plot = True"
   ]
  },
  {
   "cell_type": "markdown",
   "execution_count": null,
   "metadata": {},
   "outputs": [],
   "source": [
    "# Read OER Data"
   ]
  },
  {
   "cell_type": "code",
   "execution_count": null,
   "metadata": {
    "jupyter": {}
   },
   "outputs": [],
   "source": [
    "from sc_procc_manual_data import (\n",
    "    ORR_PLT,\n",
    "\n",
    "    # TEMP\n",
    "    df_ads_e,\n",
    "    # df_list,\n",
    "    corrections_dict,\n",
    "    oxy_ref, hyd_ref,\n",
    "    )\n",
    "\n",
    "\n",
    "# df_list\n",
    "from proj_data_col_iro2 import proj_dir_name"
   ]
  },
  {
   "cell_type": "markdown",
   "execution_count": null,
   "metadata": {},
   "outputs": [],
   "source": [
    "# 2D Volcano Plot Instance"
   ]
  },
  {
   "cell_type": "code",
   "execution_count": null,
   "metadata": {},
   "outputs": [],
   "source": [
    "VP = Volcano_Plot_2D(\n",
    "    ORR_PLT,\n",
    "    plot_range={\n",
    "        \"x\": [+0.9, +2.0],\n",
    "        \"y\": [-0.5, +2.0],\n",
    "        })\n",
    "\n",
    "data = VP.traces\n",
    "layout = VP.get_plotly_layout()"
   ]
  },
  {
   "cell_type": "markdown",
   "execution_count": null,
   "metadata": {},
   "outputs": [],
   "source": [
    "# Plotting"
   ]
  },
  {
   "cell_type": "code",
   "execution_count": null,
   "metadata": {},
   "outputs": [],
   "source": [
    "layout = VP.get_plotly_layout()"
   ]
  },
  {
   "cell_type": "markdown",
   "execution_count": null,
   "metadata": {},
   "outputs": [],
   "source": [
    "## Small Plot"
   ]
  },
  {
   "cell_type": "code",
   "execution_count": null,
   "metadata": {},
   "outputs": [],
   "source": [
    "# %%capture\n",
    "\n",
    "# #############################################################################\n",
    "layout_override = dict(\n",
    "    width=8 * 37.795275591,\n",
    "    height=6 * 37.795275591,\n",
    "    showlegend=False,\n",
    "\n",
    "    margin=go.layout.Margin(\n",
    "        autoexpand=None,\n",
    "        b=8,\n",
    "        l=8,\n",
    "        pad=None,\n",
    "        r=5,\n",
    "        t=5,\n",
    "        ),\n",
    "\n",
    "    paper_bgcolor=\"white\",\n",
    "    plot_bgcolor=\"white\",\n",
    "    )\n",
    "\n",
    "layout.update(dict(xaxis=dict(\n",
    "    dtick=0.2,\n",
    "    )))\n",
    "\n",
    "# #############################################################################\n",
    "for trace_i in data:\n",
    "    try:\n",
    "        trace_i.marker.size = 12\n",
    "    except:\n",
    "        pass\n",
    "\n",
    "fig = go.Figure(\n",
    "    data=data,\n",
    "    layout=layout.update(layout_override))\n",
    "\n",
    "my_plotly_plot(\n",
    "    figure=fig,\n",
    "    plot_name=\"out_plot_00_small\",\n",
    "    write_pdf=True,\n",
    "    )"
   ]
  },
  {
   "cell_type": "code",
   "execution_count": null,
   "metadata": {},
   "outputs": [],
   "source": [
    "fig.show()"
   ]
  },
  {
   "cell_type": "markdown",
   "execution_count": null,
   "metadata": {},
   "outputs": [],
   "source": [
    "## Medium Plot"
   ]
  },
  {
   "cell_type": "code",
   "execution_count": null,
   "metadata": {
    "jupyter": {}
   },
   "outputs": [],
   "source": [
    "layout_override = {\n",
    "    \"width\": 24 * 37.795275591,\n",
    "    \"height\": 14 * 37.795275591,\n",
    "    \"showlegend\": True,\n",
    "    }\n",
    "\n",
    "fig = go.Figure(\n",
    "    data=data,\n",
    "    layout=layout.update(layout_override))\n",
    "\n",
    "my_plotly_plot(\n",
    "    figure=fig,\n",
    "    plot_name=\"out_plot_00_medium\",\n",
    "    write_pdf=True,\n",
    "    )"
   ]
  },
  {
   "cell_type": "markdown",
   "execution_count": null,
   "metadata": {},
   "outputs": [],
   "source": [
    "## Full Page Plot"
   ]
  },
  {
   "cell_type": "code",
   "execution_count": null,
   "metadata": {
    "jupyter": {}
   },
   "outputs": [],
   "source": [
    "%%capture\n",
    "\n",
    "layout_override = {\n",
    "    \"width\": 37 * 37.795275591,\n",
    "    \"height\": 23 * 37.795275591,\n",
    "    \"showlegend\": True}\n",
    "\n",
    "fig = go.Figure(\n",
    "    data=data,\n",
    "    layout=layout.update(layout_override))\n",
    "\n",
    "my_plotly_plot(\n",
    "    figure=fig,\n",
    "    plot_name=\"out_plot_00_large\",\n",
    "    write_pdf=True,\n",
    "    )\n",
    "fig.show()"
   ]
  },
  {
   "cell_type": "raw",
   "execution_count": null,
   "metadata": {},
   "outputs": [],
   "source": [
    "\n",
    "\n"
   ]
  },
  {
   "cell_type": "code",
   "execution_count": null,
   "metadata": {},
   "outputs": [],
   "source": [
    "layout"
   ]
  },
  {
   "cell_type": "code",
   "execution_count": null,
   "metadata": {},
   "outputs": [],
   "source": [
    "for ORR_i in ORR_PLT.series_list:\n",
    "    series_name = ORR_i.series_name\n",
    "    # print(series_name)\n",
    "\n",
    "for ORR_i in ORR_PLT.series_list:\n",
    "    series_name = ORR_i.series_name\n",
    "    if series_name == \"col-IrO2 (101) | Mine | CUS-site\":\n",
    "        break\n",
    "display(ORR_i.fe_df)\n",
    "\n",
    "# ###############################################\n",
    "for ORR_i in ORR_PLT.series_list:\n",
    "    series_name = ORR_i.series_name\n",
    "    if series_name == \"col-IrO2 (101) | Mine | Bridge-site\":\n",
    "        break\n",
    "display(ORR_i.fe_df)\n",
    "\n",
    "\n",
    "# #############################################################################\n",
    "\n",
    "\n",
    "for ORR_i in ORR_PLT.series_list:\n",
    "    series_name = ORR_i.series_name\n",
    "    if series_name == \"col-IrO2 (100) | uncoord O\":\n",
    "        break\n",
    "display(ORR_i.fe_df)\n",
    "\n",
    "# ###############################################\n",
    "for ORR_i in ORR_PLT.series_list:\n",
    "    series_name = ORR_i.series_name\n",
    "    if series_name == \"col-IrO2 (100) | coord O\":\n",
    "        break\n",
    "display(ORR_i.fe_df)"
   ]
  },
  {
   "cell_type": "code",
   "execution_count": null,
   "metadata": {},
   "outputs": [],
   "source": [
    "# ###############################################\n",
    "for ORR_i in ORR_PLT.series_list:\n",
    "    series_name = ORR_i.series_name\n",
    "\n",
    "    print(series_name)\n",
    "    print(ORR_i.overpotential_OER)\n",
    "    print(\"\")"
   ]
  },
  {
   "cell_type": "code",
   "execution_count": null,
   "metadata": {
    "lines_to_next_cell": 2
   },
   "outputs": [],
   "source": [
    " "
   ]
  },
  {
   "cell_type": "code",
   "execution_count": null,
   "metadata": {},
   "outputs": [],
   "source": [
    "# df_ads_e.iloc[[4, 5]]\n",
    "df_ads_e"
   ]
  },
  {
   "cell_type": "code",
   "execution_count": null,
   "metadata": {},
   "outputs": [],
   "source": [
    "energy_states_dict = ORR_i.energy_states_dict\n",
    "\n",
    "ORR_i.fe_df"
   ]
  },
  {
   "cell_type": "code",
   "execution_count": null,
   "metadata": {},
   "outputs": [],
   "source": [
    "# go.contour.Line?\n",
    "# go.contour.ColorBar?\n",
    "\n",
    "\n",
    "# go.contour.colorbar.Title?\n",
    "\n",
    "# go.contour.colorbar.Title?"
   ]
  },
  {
   "cell_type": "raw",
   "execution_count": null,
   "metadata": {},
   "outputs": [],
   "source": [
    "\n",
    "\n"
   ]
  },
  {
   "cell_type": "code",
   "execution_count": null,
   "metadata": {
    "jupyter": {}
   },
   "outputs": [],
   "source": [
    "# if save_plot:\n",
    "#     save_dir = proj_dir_name\n",
    "# else:\n",
    "#     save_dir = \"__temp__\"\n",
    "# save_dir = os.path.join(\n",
    "#     save_dir,\n",
    "#     \"02_oer_analysis\",\n",
    "#     \"oer_2d_volcano_plot\",\n",
    "#     )\n",
    "# plotly_folder = os.path.join(\n",
    "#     proj_dir_name,\n",
    "#     \"02_oer_analysis\")"
   ]
  },
  {
   "cell_type": "code",
   "execution_count": null,
   "metadata": {
    "jupyter": {}
   },
   "outputs": [],
   "source": [
    "# # #############################################################################\n",
    "# import importlib.util\n",
    "# path_i = os.path.join(os.environ[\"PROJ_col_iro2\"], \"workflow/02_oer_analysis\")\n",
    "# file_i = os.path.join(path_i, \"methods.py\")\n",
    "# spec = importlib.util.spec_from_file_location(\"tmp\", file_i)\n",
    "# foo = importlib.util.module_from_spec(spec); spec.loader.exec_module(foo)\n",
    "# plot_proto = foo.plot_proto"
   ]
  }
 ],
 "metadata": {
  "jupytext": {
   "formats": "ipynb,py:light"
  },
  "kernelspec": {
   "display_name": "Python [conda env:PROJ_IrOx_Active_Learning_OER]",
   "language": "python",
   "name": "conda-env-PROJ_IrOx_Active_Learning_OER-py"
  },
  "language_info": {
   "codemirror_mode": {
    "name": "ipython",
    "version": 3
   },
   "file_extension": ".py",
   "mimetype": "text/x-python",
   "name": "python",
   "nbconvert_exporter": "python",
   "pygments_lexer": "ipython3",
   "version": "3.6.9"
  },
  "toc-autonumbering": true,
  "toc-showcode": true,
  "toc-showmarkdowntxt": true
 },
 "nbformat": 4,
 "nbformat_minor": 4
}
