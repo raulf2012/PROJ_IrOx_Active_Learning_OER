{
 "cells": [
  {
   "cell_type": "code",
   "execution_count": null,
   "metadata": {},
   "outputs": [],
   "source": [
    "%load_ext autoreload\n",
    "%autoreload 2"
   ]
  },
  {
   "cell_type": "code",
   "execution_count": null,
   "metadata": {},
   "outputs": [],
   "source": [
    "import os\n",
    "print(os.getcwd())\n",
    "import sys\n",
    "\n",
    "sys.path.insert(\n",
    "    0, os.path.join(\n",
    "    os.environ[\"PROJ_irox\"],\n",
    "    \"workflow\"))\n",
    "\n",
    "sys.path.insert(\n",
    "    0, os.path.join(\n",
    "    os.environ[\"PROJ_irox\"],\n",
    "    \"data\"))"
   ]
  },
  {
   "cell_type": "code",
   "execution_count": null,
   "metadata": {},
   "outputs": [],
   "source": [
    "# #############################################################################\n",
    "# Python Modules ##############################################################\n",
    "# import numpy as np\n",
    "# import plotly.graph_objs as go\n",
    "\n",
    "# #############################################################################\n",
    "# My Modules ##################################################################\n",
    "#  from oxr_reaction.oxr_rxn import ORR_Free_E_Plot\n",
    "#  from oxr_reaction.oxr_plotting_classes.oxr_plot_scaling import (\n",
    "#      Scaling_Relations_Plot)\n",
    "\n",
    "# from plotting.my_plotly import my_plotly_plot, add_duplicate_axes\n",
    "from misc_modules.pandas_methods import drop_columns\n",
    "\n",
    "# #############################################################################\n",
    "# Project Data ################################################################\n",
    "from proj_data_irox import (\n",
    "    system_color_map,\n",
    "    smart_format_dict,\n",
    "    data_dir,\n",
    "    groupby_props)\n",
    "\n",
    "# #############################################################################\n",
    "# Local Imports ###############################################################\n",
    "#  from layout__v0 import layout\n",
    "from an_data_processing import load_df\n",
    "# __|"
   ]
  },
  {
   "cell_type": "code",
   "execution_count": null,
   "metadata": {},
   "outputs": [],
   "source": [
    "prop_name_list = [\n",
    "    'bulk_system',\n",
    "    'coverage_type',\n",
    "    'facet',\n",
    "    ]\n",
    "\n",
    "SC_PLT_share_props = dict(\n",
    "    num_round=2)\n",
    "\n",
    "fit_lines_shared = dict(width=1)"
   ]
  },
  {
   "cell_type": "code",
   "execution_count": null,
   "metadata": {},
   "outputs": [],
   "source": [
    "df_pourbaix, df_ads, df_surf = load_df(\n",
    "    from_file=False,\n",
    "    root_dir=data_dir,\n",
    "    data_dir=data_dir,\n",
    "    file_name=\"df_master.pickle\",\n",
    "    process_df=True)\n",
    "\n",
    "df_m = df_ads"
   ]
  }
 ],
 "metadata": {
  "kernelspec": {
   "display_name": "Python [conda env:PROJ_IrOx_Active_Learning_OER]",
   "language": "python",
   "name": "conda-env-PROJ_IrOx_Active_Learning_OER-py"
  },
  "language_info": {
   "codemirror_mode": {
    "name": "ipython",
    "version": 3
   },
   "file_extension": ".py",
   "mimetype": "text/x-python",
   "name": "python",
   "nbconvert_exporter": "python",
   "pygments_lexer": "ipython3",
   "version": "3.6.9"
  }
 },
 "nbformat": 4,
 "nbformat_minor": 2
}
