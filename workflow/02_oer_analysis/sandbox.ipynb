{
 "cells": [
  {
   "cell_type": "code",
   "execution_count": null,
   "metadata": {},
   "outputs": [],
   "source": [
    "%load_ext autoreload\n",
    "%autoreload 2"
   ]
  },
  {
   "cell_type": "code",
   "execution_count": null,
   "metadata": {},
   "outputs": [],
   "source": [
    "import os\n",
    "print(os.getcwd())\n",
    "import sys\n",
    "\n",
    "sys.path.insert(\n",
    "    0, os.path.join(\n",
    "    os.environ[\"PROJ_irox\"],\n",
    "    \"workflow\"))\n",
    "\n",
    "sys.path.insert(\n",
    "    0, os.path.join(\n",
    "    os.environ[\"PROJ_irox\"],\n",
    "    \"data\"))\n",
    "\n",
    "import numpy as np\n",
    "\n",
    "# #############################################################################\n",
    "# My IMports ##################################################################\n",
    "from misc_modules.pandas_methods import drop_columns\n",
    "\n",
    "# #############################################################################\n",
    "# Project Data ################################################################\n",
    "from proj_data_irox import (\n",
    "    smart_format_dict,\n",
    "    data_dir,\n",
    "    groupby_props,\n",
    "    )\n",
    "\n",
    "# #############################################################################\n",
    "# Local Imports ###############################################################\n",
    "from an_data_processing import load_df\n",
    "# __|"
   ]
  },
  {
   "cell_type": "code",
   "execution_count": null,
   "metadata": {},
   "outputs": [],
   "source": [
    "prop_name_list = [\n",
    "    'bulk_system',\n",
    "    'coverage_type',\n",
    "    'facet',\n",
    "    ]\n",
    "\n",
    "SC_PLT_share_props = dict(\n",
    "    num_round=2)\n",
    "\n",
    "fit_lines_shared = dict(width=1)"
   ]
  },
  {
   "cell_type": "code",
   "execution_count": null,
   "metadata": {},
   "outputs": [],
   "source": [
    "%%capture\n",
    "\n",
    "df_pourbaix, df_ads, df_surf = load_df(\n",
    "    from_file=False,\n",
    "    root_dir=data_dir,\n",
    "    data_dir=data_dir,\n",
    "    file_name=\"df_master.pickle\",\n",
    "    process_df=True)\n",
    "\n",
    "df_m = df_ads"
   ]
  },
  {
   "cell_type": "code",
   "execution_count": null,
   "metadata": {},
   "outputs": [],
   "source": [
    "from misc_modules.pandas_methods import drop_columns\n",
    "\n",
    "columns_to_keep = [\n",
    "    'bulk_system',\n",
    "    'facet',\n",
    "    'adsorbate',\n",
    "    'coverage_type',\n",
    "    'ooh_direction',\n",
    "    'ads_e',\n",
    "    # 'elec_energy',\n",
    "    # 'total_magmom',\n",
    "    # 'abs_magmom',\n",
    "    # 'path_short',\n",
    "    # 'name_i',\n",
    "    # 'max_force',\n",
    "    # 'sum_force',\n",
    "    # 'elem_num_dict',\n",
    "    # 'incar_parsed',\n",
    "    'init_atoms',\n",
    "    # 'atoms_object',\n",
    "    # 'N_atoms',\n",
    "    # 'dipole_correction',\n",
    "    # 'path',\n",
    "    # 'name_i_2',\n",
    "    # 'name_i_3',\n",
    "    # 'priority',\n",
    "    # 'surface_type',\n",
    "    ]\n",
    "\n",
    "df_m = drop_columns(\n",
    "    df=df_m,\n",
    "    columns=columns_to_keep,            \n",
    "    keep_or_drop=\"keep\")"
   ]
  },
  {
   "cell_type": "code",
   "execution_count": null,
   "metadata": {},
   "outputs": [],
   "source": [
    "# def method(row_i, argument_0, optional_arg=None):\n",
    "def method(row_i):\n",
    "    \"\"\"\n",
    "    \"\"\"\n",
    "    atoms = row_i.init_atoms\n",
    "\n",
    "    positions = atoms.get_positions()\n",
    "    z_array = positions[:, 2]\n",
    "\n",
    "    cell = atoms.get_cell()\n",
    "    cell_z = cell[2][2]\n",
    "\n",
    "    slab_thickness = np.abs(z_array.max() - z_array.min())\n",
    "\n",
    "    vacuum = cell_z - slab_thickness\n",
    "\n",
    "    return(vacuum)\n",
    "\n",
    "df_i = df_m\n",
    "df_i[\"vacuum_z\"] = df_i.apply(\n",
    "    method,\n",
    "    axis=1)\n",
    "df_m = df_i"
   ]
  },
  {
   "cell_type": "code",
   "execution_count": null,
   "metadata": {
    "collapsed": true,
    "jupyter": {
     "outputs_hidden": true
    }
   },
   "outputs": [],
   "source": [
    "df_m = df_m[df_m.adsorbate != \"ooh\"]"
   ]
  },
  {
   "cell_type": "code",
   "execution_count": null,
   "metadata": {},
   "outputs": [],
   "source": [
    "print(\"min:\", df_m.vacuum_z.min())\n",
    "print(\"max:\", df_m.vacuum_z.max())\n",
    "\n",
    "print(\"mean:\", df_m.vacuum_z.mean())\n",
    "\n",
    "df_m.sort_values(\"vacuum_z\")"
   ]
  },
  {
   "cell_type": "raw",
   "execution_count": null,
   "metadata": {},
   "outputs": [],
   "source": [
    "\n",
    "\n",
    "\n"
   ]
  },
  {
   "cell_type": "code",
   "execution_count": null,
   "metadata": {
    "jupyter": {}
   },
   "outputs": [],
   "source": [
    "# row_i = df_ads.iloc[0]\n",
    "\n",
    "# atoms = row_i.init_atoms\n",
    "\n",
    "# positions = atoms.get_positions()\n",
    "\n",
    "# z_array = positions[:, 2]\n",
    "\n",
    "# cell = atoms.get_cell()\n",
    "# cell_z = cell[2][2]\n",
    "\n",
    "# slab_thickness = np.abs(z_array.max() - z_array.min())\n",
    "\n",
    "# vacuum = cell_z - slab_thickness\n",
    "\n",
    "# vacuum"
   ]
  },
  {
   "cell_type": "code",
   "execution_count": null,
   "metadata": {
    "jupyter": {}
   },
   "outputs": [],
   "source": [
    "\n",
    "# dir(atoms)"
   ]
  },
  {
   "cell_type": "code",
   "execution_count": null,
   "metadata": {
    "jupyter": {}
   },
   "outputs": [],
   "source": [
    "# import plotly.graph_objects as go\n",
    "# import numpy as np\n",
    "\n",
    "# trace = go.Histogram(\n",
    "#     x=z_array,\n",
    "#     )\n",
    "\n",
    "# data = [trace]\n",
    "\n",
    "# fig = go.Figure(data=data)\n",
    "\n",
    "# fig.show()"
   ]
  },
  {
   "cell_type": "code",
   "execution_count": null,
   "metadata": {
    "jupyter": {}
   },
   "outputs": [],
   "source": [
    "# #############################################################################\n",
    "# Python Modules ##############################################################\n",
    "# import numpy as np\n",
    "# import plotly.graph_objs as go\n",
    "\n",
    "# #############################################################################\n",
    "# My Modules ##################################################################\n",
    "#  from oxr_reaction.oxr_rxn import ORR_Free_E_Plot\n",
    "#  from oxr_reaction.oxr_plotting_classes.oxr_plot_scaling import (\n",
    "#      Scaling_Relations_Plot)\n",
    "\n",
    "# from plotting.my_plotly import my_plotly_plot, add_duplicate_axes"
   ]
  }
 ],
 "metadata": {
  "kernelspec": {
   "display_name": "Python [conda env:PROJ_IrOx_Active_Learning_OER]",
   "language": "python",
   "name": "conda-env-PROJ_IrOx_Active_Learning_OER-py"
  },
  "language_info": {
   "codemirror_mode": {
    "name": "ipython",
    "version": 3
   },
   "file_extension": ".py",
   "mimetype": "text/x-python",
   "name": "python",
   "nbconvert_exporter": "python",
   "pygments_lexer": "ipython3",
   "version": "3.6.9"
  }
 },
 "nbformat": 4,
 "nbformat_minor": 4
}
