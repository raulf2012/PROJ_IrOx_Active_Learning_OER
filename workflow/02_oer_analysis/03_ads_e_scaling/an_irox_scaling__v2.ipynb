{
 "cells": [
  {
   "cell_type": "markdown",
   "metadata": {},
   "source": [
    "# Scaling Relations for IrOx systems | TEMP\n",
    "\n",
    "***"
   ]
  },
  {
   "cell_type": "markdown",
   "metadata": {},
   "source": [
    "# | - Import Modules"
   ]
  },
  {
   "cell_type": "code",
   "execution_count": null,
   "metadata": {
    "jupyter": {}
   },
   "outputs": [],
   "source": [
    "%load_ext autoreload\n",
    "%autoreload 2"
   ]
  },
  {
   "cell_type": "code",
   "execution_count": null,
   "metadata": {
    "jupyter": {}
   },
   "outputs": [],
   "source": [
    "import os\n",
    "print(os.getcwd())\n",
    "import sys\n",
    "\n",
    "sys.path.insert(\n",
    "    0, os.path.join(\n",
    "    os.environ[\"PROJ_irox\"],\n",
    "    \"workflow\"))\n",
    "\n",
    "sys.path.insert(\n",
    "    0, os.path.join(\n",
    "    os.environ[\"PROJ_irox\"],\n",
    "    \"data\"))"
   ]
  },
  {
   "cell_type": "code",
   "execution_count": null,
   "metadata": {},
   "outputs": [],
   "source": [
    "%%capture\n",
    "\n",
    "# #############################################################################\n",
    "# Python Modules ##############################################################\n",
    "import numpy as np\n",
    "import plotly.graph_objs as go\n",
    "\n",
    "# #############################################################################\n",
    "# My Modules ##################################################################\n",
    "from oxr_reaction.oxr_rxn import ORR_Free_E_Plot\n",
    "from oxr_reaction.oxr_plotting_classes.oxr_plot_scaling import (\n",
    "    Scaling_Relations_Plot)\n",
    "\n",
    "from plotting.my_plotly import my_plotly_plot, add_duplicate_axes\n",
    "from misc_modules.pandas_methods import drop_columns\n",
    "\n",
    "# #############################################################################\n",
    "# Project Data ################################################################\n",
    "from proj_data_irox import (\n",
    "    # system_color_map,\n",
    "    smart_format_dict,\n",
    "    data_dir,\n",
    "    axis_tick_labels_font_size,\n",
    "    groupby_props)\n",
    "\n",
    "# #############################################################################\n",
    "# Local Imports ###############################################################\n",
    "from layout__v0 import layout\n",
    "from an_data_processing import load_df\n",
    "# __|"
   ]
  },
  {
   "cell_type": "markdown",
   "metadata": {},
   "source": [
    "# | - Script Inputs"
   ]
  },
  {
   "cell_type": "code",
   "execution_count": null,
   "metadata": {},
   "outputs": [],
   "source": [
    "prop_name_list = [\n",
    "    \"bulk_system\",\n",
    "    # 'coverage,\n",
    "    \"coverage_type\",\n",
    "    \"facet\",\n",
    "    ]\n",
    "\n",
    "SC_PLT_share_props = dict(\n",
    "    num_round=2)\n",
    "\n",
    "fit_lines_shared = dict(width=1)\n",
    "# __|"
   ]
  },
  {
   "cell_type": "markdown",
   "metadata": {},
   "source": [
    "# | - Read data"
   ]
  },
  {
   "cell_type": "code",
   "execution_count": null,
   "metadata": {},
   "outputs": [],
   "source": [
    "%%capture\n",
    "\n",
    "df_pourbaix, df_ads, df_surf = load_df(\n",
    "    from_file=False,\n",
    "    root_dir=data_dir,\n",
    "    data_dir=data_dir,\n",
    "    file_name=\"df_master.pickle\",\n",
    "    process_df=True)\n",
    "\n",
    "df_m = df_ads\n",
    "# __|"
   ]
  },
  {
   "cell_type": "markdown",
   "metadata": {},
   "source": [
    "# | - Process dataframe"
   ]
  },
  {
   "cell_type": "code",
   "execution_count": null,
   "metadata": {},
   "outputs": [],
   "source": [
    "# #############################################################################\n",
    "# Rename coverage-types to o_covered and h_covered ############################\n",
    "df_m.loc[df_m[\"coverage_type\"] == \"O-4_OH-0\", \"coverage_type\"] = \"o_covered\"\n",
    "df_m.loc[df_m[\"coverage_type\"] == \"O-2_OH-0\", \"coverage_type\"] = \"o_covered_2\"\n",
    "df_m.loc[df_m[\"coverage_type\"] == \"O-2_OH-2\", \"coverage_type\"] = \"h_covered\"\n",
    "\n",
    "\n",
    "# #############################################################################\n",
    "# Drop unnecessary columns from dataframe #####################################\n",
    "drop_cols = [\n",
    "    'bulk_system',\n",
    "    'facet',\n",
    "    'adsorbate',\n",
    "    'coverage_type',\n",
    "    'ads_e',\n",
    "    'elec_energy',\n",
    "    'surface_type',\n",
    "    \"ooh_direction\",\n",
    "    ]\n",
    "\n",
    "df_m = drop_columns(\n",
    "    df=df_m,\n",
    "    columns=drop_cols,\n",
    "    keep_or_drop=\"keep\")\n",
    "\n",
    "# Resetting index to have unique id to pass to OXR module\n",
    "df_m = df_m.reset_index()\n",
    "# __|"
   ]
  },
  {
   "cell_type": "markdown",
   "metadata": {},
   "source": [
    "# | - Remove *OOH rows that aren't pointing \"up\" or \"sideways\"\n",
    "\n",
    "I think for now it'll be fine to only use *OOH up structures\n",
    "This code block isn't doing anything now, why is that?"
   ]
  },
  {
   "cell_type": "code",
   "execution_count": null,
   "metadata": {},
   "outputs": [],
   "source": [
    "# ignore_indices = []\n",
    "# for i_ind, (name, group) in enumerate(df_m.groupby(groupby_props)):\n",
    "#     df_i = group\n",
    "#     df_ooh_i = df_i[df_i[\"adsorbate\"] == \"ooh\"]\n",
    "\n",
    "#     # print(\"len(df_ooh_i):\", len(df_ooh_i))\n",
    "\n",
    "#     if len(df_ooh_i) > 1:\n",
    "\n",
    "#         if \"up\" in df_ooh_i[\"ooh_direction\"].tolist():\n",
    "#             ignore_indices_i = \\\n",
    "#                 list(df_ooh_i[df_ooh_i[\"ooh_direction\"] != \"up\"].index.values)\n",
    "#             ignore_indices += ignore_indices_i\n",
    "\n",
    "#         elif \"sideways\" in df_ooh_i[\"ooh_direction\"].tolist():\n",
    "#             df_tmp = df_ooh_i[df_ooh_i[\"ooh_direction\"] != \"sideways\"]\n",
    "#             ignore_indices_i = list(df_tmp.index.values)\n",
    "#             ignore_indices += ignore_indices_i\n",
    "\n",
    "#         else:\n",
    "#             print(\"NO GOOD\")\n",
    "\n",
    "# df_m = df_m.drop(labels=ignore_indices)\n",
    "# print(\"ignore_indices:\", ignore_indices)\n",
    "# # __|"
   ]
  },
  {
   "cell_type": "markdown",
   "metadata": {},
   "source": [
    "# | - Fitting only O-covered data"
   ]
  },
  {
   "cell_type": "code",
   "execution_count": null,
   "metadata": {},
   "outputs": [],
   "source": [
    "df_o = df_m[df_m[\"coverage_type\"] == \"o_covered\"]\n",
    "df_m_tmp = df_o\n",
    "\n",
    "ORR_PLT = ORR_Free_E_Plot(\n",
    "    free_energy_df=None,\n",
    "    state_title=\"adsorbate\",\n",
    "    free_e_title=\"ads_e\",\n",
    "    smart_format=smart_format_dict,\n",
    "    bias=0.,\n",
    "    # show_legend=True,\n",
    "    rxn_type=\"OER\",\n",
    "    )\n",
    "\n",
    "grouped = df_m_tmp.groupby(groupby_props)\n",
    "\n",
    "\n",
    "for i_ind, (name, group) in enumerate(grouped):\n",
    "    df_i = group\n",
    "\n",
    "    # Choosing the most stable *OOH species\n",
    "    # ###################################################\n",
    "    species_j = \"ooh\"\n",
    "\n",
    "    df_wo_species = df_i[df_i[\"adsorbate\"] != species_j]\n",
    "    df_ij = df_i[df_i[\"adsorbate\"] == species_j]\n",
    "    df_final = df_wo_species.append(df_ij.loc[df_ij[\"ads_e\"].idxmin()])\n",
    "\n",
    "    df_i = df_final\n",
    "    # ###################################################\n",
    "\n",
    "    sys_i = df_i.iloc[0][\"bulk_system\"] + \"_\" + df_i.iloc[0][\"facet\"]\n",
    "    # color_i = system_color_map[sys_i]\n",
    "\n",
    "    if not any([np.isnan(i) for i in df_i.elec_energy.tolist()]):\n",
    "        ORR_PLT.add_series(\n",
    "            df_i,\n",
    "            plot_mode=\"all\",\n",
    "            overpotential_type=\"OER\",\n",
    "            property_key_list=prop_name_list,\n",
    "            add_overpot=False)\n",
    "\n",
    "SC_PLT = Scaling_Relations_Plot(\n",
    "    ORR_PLT,\n",
    "    plot_range={\n",
    "        \"y\": [0., 5.],\n",
    "        \"x\": [0., 1.8]},\n",
    "    **SC_PLT_share_props,\n",
    "    )\n",
    "\n",
    "slope_intercept_dict_ooh_o_covered = SC_PLT.fit_scaling_lines(\"ooh\")\n",
    "slope_intercept_dict_o_o_covered = SC_PLT.fit_scaling_lines(\"o\")\n",
    "# __|"
   ]
  },
  {
   "cell_type": "markdown",
   "metadata": {},
   "source": [
    "# | - Fitting only H-covered data"
   ]
  },
  {
   "cell_type": "code",
   "execution_count": null,
   "metadata": {},
   "outputs": [],
   "source": [
    "df_h = df_m[df_m[\"coverage_type\"] == \"h_covered\"]\n",
    "df_m_tmp = df_h\n",
    "\n",
    "ORR_PLT = ORR_Free_E_Plot(\n",
    "    free_energy_df=None,\n",
    "    state_title=\"adsorbate\",\n",
    "    free_e_title=\"ads_e\",\n",
    "    smart_format=smart_format_dict,\n",
    "    bias=0.,\n",
    "    color_list=None,\n",
    "    rxn_type=\"OER\",\n",
    "    )\n",
    "\n",
    "grouped = df_m_tmp.groupby(groupby_props)\n",
    "\n",
    "for i_ind, (name, group) in enumerate(grouped):\n",
    "    df_i = group\n",
    "\n",
    "    # #########################################################################\n",
    "    # Choosing the most stable *OOH species ###################################\n",
    "    species_j = \"ooh\"\n",
    "    df_wo_species = df_i[df_i[\"adsorbate\"] != species_j]\n",
    "    df_ij = df_i[df_i[\"adsorbate\"] == species_j]\n",
    "    df_final = df_wo_species.append(df_ij.loc[df_ij[\"ads_e\"].idxmin()])\n",
    "\n",
    "    df_i = df_final\n",
    "    # #########################################################################\n",
    "\n",
    "    sys_i = df_i.iloc[0][\"bulk_system\"] + \"_\" + df_i.iloc[0][\"facet\"]\n",
    "    # color_i = system_color_map[sys_i]\n",
    "\n",
    "    if not any([np.isnan(i) for i in df_i.elec_energy.tolist()]):\n",
    "        ORR_PLT.add_series(\n",
    "            df_i,\n",
    "            plot_mode=\"all\",\n",
    "            overpotential_type=\"OER\",\n",
    "            property_key_list=prop_name_list,\n",
    "            add_overpot=False,\n",
    "            name_i=sys_i)\n",
    "\n",
    "\n",
    "SC_PLT = Scaling_Relations_Plot(\n",
    "    ORR_PLT,\n",
    "    plot_range={\n",
    "        \"y\": [0., 5.],\n",
    "        \"x\": [0., 1.8]},\n",
    "    **SC_PLT_share_props,\n",
    "    )\n",
    "\n",
    "slope_intercept_dict_ooh_h_covered = SC_PLT.fit_scaling_lines(\"ooh\")\n",
    "slope_intercept_dict_o_h_covered = SC_PLT.fit_scaling_lines(\"o\")\n",
    "# __|"
   ]
  },
  {
   "cell_type": "markdown",
   "metadata": {},
   "source": [
    "# | - Fitting to O and H-covered data"
   ]
  },
  {
   "cell_type": "code",
   "execution_count": null,
   "metadata": {},
   "outputs": [],
   "source": [
    "ORR_PLT = ORR_Free_E_Plot(\n",
    "    free_energy_df=None,\n",
    "    state_title=\"adsorbate\",\n",
    "    free_e_title=\"ads_e\",\n",
    "    smart_format=smart_format_dict,\n",
    "    bias=0.,\n",
    "    color_list=None,\n",
    "    rxn_type=\"OER\",\n",
    "    )\n",
    "\n",
    "grouped = df_m.groupby(groupby_props)\n",
    "\n",
    "annotations_tmp = []\n",
    "\n",
    "df_dict = {}\n",
    "for i_ind, (name, group) in enumerate(grouped):\n",
    "    df_i = group\n",
    "\n",
    "    # Choosing the most stable *OOH species\n",
    "    # #########################################################################\n",
    "    species_j = \"ooh\"\n",
    "    df_wo_species = df_i[df_i[\"adsorbate\"] != species_j]\n",
    "    df_ij = df_i[df_i[\"adsorbate\"] == species_j]\n",
    "    df_final = df_wo_species.append(df_ij.loc[df_ij[\"ads_e\"].idxmin()])\n",
    "    df_i = df_final\n",
    "    # #########################################################################\n",
    "\n",
    "    df_dict[\"_\".join(list(name))] = df_i\n",
    "\n",
    "    sys_i = df_i.iloc[0][\"bulk_system\"] + \"_\" + df_i.iloc[0][\"facet\"]\n",
    "    # color_i = system_color_map[sys_i]\n",
    "\n",
    "    if not any([np.isnan(i) for i in df_i.elec_energy.tolist()]):\n",
    "        ORR_PLT.add_series(\n",
    "            df_i,\n",
    "            plot_mode=\"all\",\n",
    "            overpotential_type=\"OER\",\n",
    "            property_key_list=prop_name_list,\n",
    "            add_overpot=False)\n",
    "\n",
    "        #| - Add facet annotation\n",
    "        energies_i = ORR_PLT.series_list[-1].energy_states_dict\n",
    "\n",
    "        facet_i = df_i.facet.tolist()[0]\n",
    "        oh_energy = energies_i[\"oh\"]\n",
    "        o_energy = energies_i[\"oh\"]\n",
    "\n",
    "        annot_i = go.layout.Annotation(\n",
    "            showarrow=True,\n",
    "            font=dict(color=\"black\", size=axis_tick_labels_font_size),\n",
    "            text=facet_i,\n",
    "            x=oh_energy,\n",
    "\n",
    "            xshift=None,\n",
    "            yshift=-6,\n",
    "\n",
    "            y=o_energy,\n",
    "            arrowhead=2,\n",
    "            arrowcolor=\"black\",\n",
    "\n",
    "            arrowsize=1,\n",
    "            arrowwidth=1,\n",
    "\n",
    "            #  ax=20,\n",
    "            ax=0,\n",
    "\n",
    "            axref=\"pixel\",\n",
    "\n",
    "            #  ay=-30,\n",
    "            ay=+30,\n",
    "            ayref=\"pixel\",\n",
    "\n",
    "            textangle=90,\n",
    "\n",
    "            )\n",
    "\n",
    "        annotations_tmp.append(annot_i)\n",
    "        #__|\n",
    "\n",
    "\n",
    "SC_PLT = Scaling_Relations_Plot(\n",
    "    ORR_PLT,\n",
    "    plot_range={\n",
    "        \"y\": [0., 5.],\n",
    "        \"x\": [0., 1.8]},\n",
    "    **SC_PLT_share_props)\n",
    "# __|"
   ]
  },
  {
   "cell_type": "code",
   "execution_count": null,
   "metadata": {},
   "outputs": [],
   "source": [
    "# o_h_shared = dict(color=\"green\", dash=\"solid\")\n",
    "o_h_shared = dict(color=\"grey\", dash=\"solid\")\n",
    "\n",
    "###############################################################################\n",
    "slope_intercept_dict = SC_PLT.fit_scaling_lines(\n",
    "    \"ooh\", exclude_dict=None)\n",
    "SC_PLT.add_line(\n",
    "    slope_intercept_dict,\n",
    "    name=\"*OOH vs *OH Scaling\",\n",
    "    **fit_lines_shared, **o_h_shared)\n",
    "\n",
    "\n",
    "slope_intercept_dict = SC_PLT.fit_scaling_lines(\n",
    "    \"o\", exclude_dict=None)\n",
    "SC_PLT.add_line(\n",
    "    slope_intercept_dict,\n",
    "    name=\"*O vs *OH Scaling\",\n",
    "    **fit_lines_shared, **o_h_shared)\n",
    "# __|"
   ]
  },
  {
   "cell_type": "markdown",
   "metadata": {},
   "source": [
    "# | - Adding lines from O*/H* covered fits"
   ]
  },
  {
   "cell_type": "code",
   "execution_count": null,
   "metadata": {},
   "outputs": [],
   "source": [
    "# ###############################################################################\n",
    "# o_shared = dict(color=\"red\", dash=\"solid\")\n",
    "\n",
    "# SC_PLT.add_line(\n",
    "#     slope_intercept_dict_ooh_o_covered,\n",
    "#     name=\"ooh_vs_oh | o_covered\",\n",
    "#     **fit_lines_shared, **o_shared)\n",
    "# SC_PLT.add_line(\n",
    "#     slope_intercept_dict_o_o_covered,\n",
    "#     name=\"o_vs_oh | o_covered\",\n",
    "#     **fit_lines_shared, **o_shared)\n",
    "\n",
    "# ###############################################################################\n",
    "# h_shared = dict(color=\"blue\", dash=\"dot\")\n",
    "\n",
    "# SC_PLT.add_line(\n",
    "#     slope_intercept_dict_ooh_h_covered,\n",
    "#     name=\"ooh_vs_oh | h_covered\",\n",
    "#     **fit_lines_shared, **h_shared)\n",
    "# SC_PLT.add_line(\n",
    "#     slope_intercept_dict_o_h_covered,\n",
    "#     name=\"o_vs_oh | h_covered\",\n",
    "#     **fit_lines_shared, **h_shared)\n",
    "\n",
    "# __|"
   ]
  },
  {
   "cell_type": "markdown",
   "metadata": {},
   "source": [
    "# | - Create plot.ly figure"
   ]
  },
  {
   "cell_type": "code",
   "execution_count": null,
   "metadata": {
    "lines_to_next_cell": 0
   },
   "outputs": [],
   "source": [
    "# # | - TEMP NEW"
   ]
  },
  {
   "cell_type": "markdown",
   "metadata": {},
   "source": [
    "df_m.columns"
   ]
  },
  {
   "cell_type": "code",
   "execution_count": null,
   "metadata": {},
   "outputs": [],
   "source": [
    "SC_PLT.add_ideal_lines()\n",
    "\n",
    "SC_PLT.create_scaling_relations_plot(\n",
    "    smart_format_dict=smart_format_dict,\n",
    "    )\n",
    "\n",
    "data_m = [] + \\\n",
    "    SC_PLT.data_lines + \\\n",
    "    SC_PLT.data_points[\"ooh_vs_oh\"] + \\\n",
    "    SC_PLT.data_points[\"o_vs_oh\"] + \\\n",
    "    SC_PLT.data_points[\"oh_vs_oh\"] + \\\n",
    "    []\n",
    "\n",
    "layout_tmp = SC_PLT.get_plotly_layout(\n",
    "    title=None,\n",
    "    showlegend=False)\n",
    "\n",
    "layout_tmp2 = dict(\n",
    "    xaxis=dict(\n",
    "        range=layout_tmp.xaxis.range),\n",
    "    yaxis=dict(\n",
    "        range=layout_tmp.yaxis.range))\n",
    "\n",
    "\n",
    "layout.update(layout_tmp2)\n",
    "layout[\"annotations\"] = SC_PLT.annotations_list\n",
    "\n",
    "# TEMP\n",
    "#  layout[\"annotations\"] += tuple(annotations_tmp)\n",
    "\n",
    "fig = go.Figure(data=data_m, layout=layout)\n",
    "# __|"
   ]
  },
  {
   "cell_type": "code",
   "execution_count": null,
   "metadata": {},
   "outputs": [],
   "source": [
    "my_plotly_plot(\n",
    "    figure=fig,\n",
    "    plot_name=\"pl_scaling_relations_no_minor_ticks\",\n",
    "    write_html=True,\n",
    "    write_pdf=False,\n",
    "    try_orca_write=False,\n",
    "    )\n",
    "\n",
    "# fig.show()\n",
    "# tmp = 42"
   ]
  },
  {
   "cell_type": "markdown",
   "metadata": {},
   "source": [
    "## | - Adding minor ticks"
   ]
  },
  {
   "cell_type": "code",
   "execution_count": null,
   "metadata": {},
   "outputs": [],
   "source": [
    "fig.layout.xaxis.dtick = 0.2\n",
    "\n",
    "minor_axis_props = dict(\n",
    "    tickcolor=\"black\",\n",
    "    ticklen=3)\n",
    "\n",
    "add_duplicate_axes(\n",
    "    fig, axis_type=\"x\",\n",
    "    axis_data=dict(dtick=0.1, **minor_axis_props))\n",
    "\n",
    "add_duplicate_axes(\n",
    "    fig, axis_type=\"y\",\n",
    "    axis_data=dict(dtick=0.5, **minor_axis_props))\n",
    "\n",
    "# __|"
   ]
  },
  {
   "cell_type": "markdown",
   "metadata": {},
   "source": [
    "## | - Save/display plot"
   ]
  },
  {
   "cell_type": "code",
   "execution_count": null,
   "metadata": {
    "jupyter": {}
   },
   "outputs": [],
   "source": [
    "my_plotly_plot(\n",
    "    figure=fig,\n",
    "    plot_name=\"pl_scaling_relations\",\n",
    "    write_html=True,\n",
    "    write_pdf=True,\n",
    "    try_orca_write=True,\n",
    "    )\n",
    "\n",
    "# fig.show()\n",
    "# tmp = 42"
   ]
  },
  {
   "cell_type": "code",
   "execution_count": null,
   "metadata": {},
   "outputs": [],
   "source": [
    "print(20 * \"# # \")\n",
    "print(\"All done!\")\n",
    "assert False"
   ]
  },
  {
   "cell_type": "raw",
   "metadata": {},
   "source": [
    "\n",
    "\n",
    "\n",
    "\n"
   ]
  },
  {
   "cell_type": "code",
   "execution_count": null,
   "metadata": {},
   "outputs": [],
   "source": [
    "df_m.head()"
   ]
  },
  {
   "cell_type": "code",
   "execution_count": null,
   "metadata": {
    "jupyter": {}
   },
   "outputs": [],
   "source": [
    "# | - TEMP\n",
    "# exclude_dict = {\n",
    "#     'bulk_system': 'IrO2',\n",
    "#     'coverage_type': 'o_covered',\n",
    "# #     'dopant': 'Ni',\n",
    "# #     'facet': '110',\n",
    "# #     'site': 'ir_site',\n",
    "#     'site': 'ir_site',\n",
    "#     }"
   ]
  }
 ],
 "metadata": {
  "kernelspec": {
   "display_name": "Python [conda env:PROJ_irox]",
   "language": "python",
   "name": "conda-env-PROJ_irox-py"
  },
  "language_info": {
   "codemirror_mode": {
    "name": "ipython",
    "version": 3
   },
   "file_extension": ".py",
   "mimetype": "text/x-python",
   "name": "python",
   "nbconvert_exporter": "python",
   "pygments_lexer": "ipython3",
   "version": "3.6.10"
  },
  "toc-autonumbering": true,
  "toc-showcode": false,
  "toc-showmarkdowntxt": false,
  "toc-showtags": false
 },
 "nbformat": 4,
 "nbformat_minor": 4
}
