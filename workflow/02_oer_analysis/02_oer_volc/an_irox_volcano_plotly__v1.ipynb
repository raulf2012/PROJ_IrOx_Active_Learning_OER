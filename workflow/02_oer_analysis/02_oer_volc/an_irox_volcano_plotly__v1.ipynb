{
 "cells": [
  {
   "cell_type": "markdown",
   "metadata": {},
   "source": [
    "# OER Volcano for IrOx systems\n",
    "\n",
    "***"
   ],
   "execution_count": null,
   "outputs": []
  },
  {
   "cell_type": "markdown",
   "metadata": {},
   "source": [
    "# Import Modules | TEMP NEW"
   ],
   "execution_count": null,
   "outputs": []
  },
  {
   "cell_type": "code",
   "execution_count": null,
   "metadata": {},
   "outputs": [],
   "source": [
    "%%capture\n",
    "%load_ext autoreload\n",
    "%autoreload 2"
   ]
  },
  {
   "cell_type": "code",
   "execution_count": null,
   "metadata": {},
   "outputs": [],
   "source": [
    "import os\n",
    "print(os.getcwd())\n",
    "import sys"
   ]
  },
  {
   "cell_type": "code",
   "execution_count": null,
   "metadata": {},
   "outputs": [],
   "source": [
    "%%capture\n",
    "\n",
    "sys.path.insert(\n",
    "    0, os.path.join(\n",
    "        os.environ[\"PROJ_irox\"],\n",
    "        \"workflow\"))\n",
    "\n",
    "sys.path.insert(\n",
    "    0, os.path.join(\n",
    "        os.environ[\"PROJ_irox\"],\n",
    "        \"data\"))\n",
    "\n",
    "from an_data_processing import load_df\n",
    "\n",
    "# #############################################################################\n",
    "# Python Modules\n",
    "\n",
    "import pickle\n",
    "\n",
    "import numpy as np\n",
    "\n",
    "import plotly.graph_objs as go\n",
    "\n",
    "# #############################################################################\n",
    "# My Modules\n",
    "from oxr_reaction.oxr_rxn import ORR_Free_E_Plot\n",
    "from oxr_reaction.oxr_plotting_classes.oxr_plot_volcano import Volcano_Plot\n",
    "\n",
    "# #############################################################################\n",
    "# Project Data\n",
    "from proj_data_irox import (\n",
    "    proj_dir_name,\n",
    "    smart_format_dict,\n",
    "    gas_molec_dict,\n",
    "    scaling_dict_ideal,\n",
    "    scaling_dict_fitted,\n",
    "    exp_irox_lim_pot,\n",
    "    data_dir,\n",
    "    groupby_props,\n",
    "    axis_label_font_size,\n",
    "    axis_tick_labels_font_size,\n",
    "    oer_systems_to_plot,\n",
    "    irox_bulk_color_map)\n",
    "\n",
    "# #############################################################################\n",
    "# Local Imports\n",
    "from plotting.my_plotly import (\n",
    "    my_plotly_plot,\n",
    "    add_minor_ticks,\n",
    "    add_duplicate_axes,\n",
    "    )\n",
    "\n",
    "# from layout import layout\n",
    "from layout2 import layout"
   ]
  },
  {
   "cell_type": "markdown",
   "metadata": {},
   "source": [
    "# Script Inputs"
   ],
   "execution_count": null,
   "outputs": []
  },
  {
   "cell_type": "code",
   "execution_count": null,
   "metadata": {},
   "outputs": [],
   "source": [
    "save_plot = False\n",
    "plot_exp_traces = True\n",
    "\n",
    "plot_range = {\n",
    "    \"y\": [2., 1.4],\n",
    "    \"x\": [1., 2.],\n",
    "    }"
   ]
  },
  {
   "cell_type": "markdown",
   "metadata": {
    "incorrectly_encoded_metadata": "toc-hr-collapsed=true"
   },
   "source": [
    "# Read and Process Data Frame"
   ],
   "execution_count": null,
   "outputs": []
  },
  {
   "cell_type": "markdown",
   "metadata": {},
   "source": [
    "## Read dataframe from file"
   ],
   "execution_count": null,
   "outputs": []
  },
  {
   "cell_type": "code",
   "execution_count": null,
   "metadata": {},
   "outputs": [],
   "source": [
    "df_pourbaix, df_ads, df_surf = load_df(\n",
    "# tmp = load_df(\n",
    "    from_file=False,\n",
    "    root_dir=data_dir,\n",
    "    data_dir=data_dir,\n",
    "    file_name=\"df_master.pickle\",\n",
    "    process_df=True,\n",
    "    )\n",
    "\n",
    "df_m = df_ads"
   ]
  },
  {
   "cell_type": "code",
   "execution_count": null,
   "metadata": {},
   "outputs": [],
   "source": [
    "# assert False"
   ]
  },
  {
   "cell_type": "markdown",
   "metadata": {},
   "source": [
    "# ORR_Free_E_Plot Instance"
   ],
   "execution_count": null,
   "outputs": []
  },
  {
   "cell_type": "code",
   "execution_count": null,
   "metadata": {},
   "outputs": [],
   "source": [
    "ORR_PLT = ORR_Free_E_Plot(\n",
    "    free_energy_df=None,\n",
    "    state_title=\"adsorbate\",\n",
    "    free_e_title=\"ads_e\",\n",
    "    smart_format=smart_format_dict,\n",
    "    color_list=None,\n",
    "    rxn_type=\"OER\")"
   ]
  },
  {
   "cell_type": "markdown",
   "metadata": {},
   "source": [
    "# Processing Data"
   ],
   "execution_count": null,
   "outputs": []
  },
  {
   "cell_type": "code",
   "execution_count": null,
   "metadata": {},
   "outputs": [],
   "source": [
    "import pandas as pd"
   ]
  },
  {
   "cell_type": "code",
   "execution_count": null,
   "metadata": {},
   "outputs": [],
   "source": [
    "# df_m.head()"
   ]
  },
  {
   "cell_type": "code",
   "execution_count": null,
   "metadata": {},
   "outputs": [],
   "source": [
    "new_index_order = [] + \\\n",
    "    df_m[df_m.bulk_system != \"IrO3\"].index.tolist() + \\\n",
    "    df_m[df_m.bulk_system == \"IrO3\"].index.tolist() + \\\n",
    "    []\n",
    "\n",
    "df_m = df_m.loc[new_index_order]"
   ]
  },
  {
   "cell_type": "code",
   "execution_count": null,
   "metadata": {},
   "outputs": [],
   "source": [
    "index_i = df_m[\n",
    "    (df_m.bulk_system == \"IrO3_rutile-like\") & \\\n",
    "    (df_m.facet == \"100\") & \\\n",
    "    (df_m.coverage_type == \"o_covered_2\") & \\\n",
    "    (df_m.adsorbate == \"o\")\n",
    "    ].iloc[0:].index[0]\n",
    "\n",
    "# 2.840912 eV\n",
    "# df_m.loc[274, \"ads_e\"] = 2.78\n",
    "# df_m.loc[274, \"ads_e\"] = 2.838\n",
    "df_m.loc[index_i, \"ads_e\"] = 2.838\n",
    "\n",
    "\n",
    "index_i = df_m[\n",
    "    (df_m.bulk_system == \"IrO3_rutile-like\") & \\\n",
    "    (df_m.facet == \"110\") & \\\n",
    "    (df_m.coverage_type == \"o_covered\") & \\\n",
    "    (df_m.adsorbate == \"o\")\n",
    "    ].iloc[0:].index[0]\n",
    "\n",
    "# 2.62689\n",
    "df_m.loc[index_i, \"ads_e\"] = 2.63"
   ]
  },
  {
   "cell_type": "code",
   "execution_count": null,
   "metadata": {},
   "outputs": [],
   "source": [
    "# assert False"
   ]
  },
  {
   "cell_type": "code",
   "execution_count": null,
   "metadata": {},
   "outputs": [],
   "source": [
    "prop_name_list = [\n",
    "    'bulk_system',\n",
    "    # 'coverage',\n",
    "    'coverage_type',\n",
    "    'facet',\n",
    "    'surface_type',\n",
    "    ]\n",
    "\n",
    "grouped = df_m.groupby(groupby_props, sort=False)\n",
    "\n",
    "for i_ind, (name, group) in enumerate(grouped):\n",
    "    df_i = group\n",
    "    \n",
    "    name_i = \"_\".join(list(name))\n",
    "    print(\"name:\", name_i)\n",
    "\n",
    "    if not any([np.isnan(i) for i in df_i.elec_energy.tolist()]):\n",
    "        if name_i in oer_systems_to_plot:\n",
    "            ORR_PLT.add_series(\n",
    "                df_i,\n",
    "                plot_mode=\"all\",\n",
    "                overpotential_type=\"OER\",\n",
    "                property_key_list=prop_name_list,\n",
    "                add_overpot=False,\n",
    "                name_i=name_i,\n",
    "                )"
   ]
  },
  {
   "cell_type": "markdown",
   "metadata": {
    "incorrectly_encoded_metadata": "toc-hr-collapsed=true"
   },
   "source": [
    "# Experimental IrOx Activity Traces"
   ],
   "execution_count": null,
   "outputs": []
  },
  {
   "cell_type": "markdown",
   "metadata": {},
   "source": [
    "## Horizontal data traces"
   ],
   "execution_count": null,
   "outputs": []
  },
  {
   "cell_type": "code",
   "execution_count": null,
   "metadata": {},
   "outputs": [],
   "source": [
    "trace_iro3 = go.Scatter(\n",
    "    x=plot_range[\"x\"],\n",
    "    y=2 * [exp_irox_lim_pot[\"10_mA/cm2\"][\"SrIrO3\"]],    \n",
    "    mode=\"lines\",\n",
    "    name=\"lines\",\n",
    "    line={\n",
    "        \"color\": irox_bulk_color_map[\"IrO3\"],\n",
    "        \"width\": 2.,\n",
    "        # \"dash\": \"dash\",\n",
    "        \"dash\": \"dot\",\n",
    "        },\n",
    "    )\n",
    "\n",
    "trace_iro2 = go.Scatter(\n",
    "    x=plot_range[\"x\"],\n",
    "    # y=2 * [exp_irox_lim_pot[\"10_mA/cm2\"][\"IrO2(110)\"]],\n",
    "    y=2 * [exp_irox_lim_pot[\"10_mA/cm2\"][\"IrO2(110)_R95\"]],\n",
    "    mode=\"lines\",\n",
    "    name=\"lines\",\n",
    "    line={\n",
    "        \"color\": irox_bulk_color_map[\"IrO2\"],\n",
    "        \"width\": 2.,\n",
    "        \"dash\": \"dot\",\n",
    "        },\n",
    "    )\n",
    "\n",
    "# #############################################################################\n",
    "\n",
    "annot_shared = go.layout.Annotation(\n",
    "\n",
    "bgcolor=\"white\",\n",
    "font=go.layout.annotation.Font(\n",
    "    color=\"black\",\n",
    "    family=None,\n",
    "    # size=axis_label_font_size,\n",
    "    size=axis_tick_labels_font_size,\n",
    "    ),\n",
    "    opacity=0.8,\n",
    "    showarrow=False,\n",
    "    x=layout.xaxis.range[0],\n",
    "    xanchor=\"left\",\n",
    "    # xclick=None,\n",
    "    xref=\"x1\",\n",
    "    xshift=0.,\n",
    "    # y=None,\n",
    "    yanchor=\"bottom\",\n",
    "    # yclick=None,\n",
    "    yref=\"y1\",\n",
    "    # yshift=30,\n",
    "    yshift=2,\n",
    "    )\n",
    "\n",
    "\n",
    "annotations_exp = [\n",
    "\n",
    "    go.layout.Annotation(\n",
    "        # text=\"SrIrO<sub>3</sub>\",\n",
    "        text=\"IrO<sub>x</sub>/SrIrO<sub>3</sub> @10 mA/cm<sup>2</sup>\",\n",
    "        y=exp_irox_lim_pot[\"10_mA/cm2\"][\"SrIrO3\"],\n",
    "        name=\"exp_lim_pot_SrIrO3\",\n",
    "        **annot_shared.to_plotly_json()),\n",
    "\n",
    "    go.layout.Annotation(\n",
    "        text=\"R-IrO<sub>2</sub> (110) @10 mA/cm<sup>2</sup>\",\n",
    "        # y=exp_irox_lim_pot[\"10_mA/cm2\"][\"IrO2(110)\"],\n",
    "        y=exp_irox_lim_pot[\"10_mA/cm2\"][\"IrO2(110)_R95\"],\n",
    "        \n",
    "        name=\"exp_lim_pot_IrO2_110\",\n",
    "        **annot_shared.to_plotly_json()),\n",
    "\n",
    "    ]\n",
    "\n",
    "\n",
    "layout.update(\n",
    "    annotations=list(layout.annotations) + list(annotations_exp),\n",
    "    overwrite=True)\n",
    "\n",
    "tmp = 42"
   ]
  },
  {
   "cell_type": "markdown",
   "metadata": {},
   "source": [
    "# Volcano Plot"
   ],
   "execution_count": null,
   "outputs": []
  },
  {
   "cell_type": "code",
   "execution_count": null,
   "metadata": {},
   "outputs": [],
   "source": [
    "VP = Volcano_Plot(\n",
    "    ORR_PLT,\n",
    "    x_ax_species=\"o-oh\",  # 'o-oh' or 'oh'\n",
    "    smart_format_dict=smart_format_dict,\n",
    "    plot_range=plot_range,\n",
    "    )\n",
    "\n",
    "VP.create_volcano_relations_plot()\n",
    "\n",
    "volcano_legs_data = VP.create_volcano_lines(\n",
    "    gas_molec_dict=gas_molec_dict,\n",
    "    scaling_dict=scaling_dict_ideal,\n",
    "    plot_all_legs=False,\n",
    "    plot_min_max_legs=True,\n",
    "    trace_priority=\"bottom\",  # 'top' or 'bottom'\n",
    "    )\n",
    "\n",
    "volcano_legs_data_tmp = VP.create_volcano_lines(\n",
    "    gas_molec_dict=gas_molec_dict,\n",
    "    scaling_dict=scaling_dict_fitted,\n",
    "    plot_all_legs=False,\n",
    "    plot_min_max_legs=True,\n",
    "    trace_priority=\"bottom\",  # 'top' or 'bottom'\n",
    "    legs_to_plot=[\n",
    "        # \"o2_to_ooh\",\n",
    "        \"ooh_to_o\",\n",
    "        \"o_to_oh\",\n",
    "        # \"oh_to_h2o\",\n",
    "        ],\n",
    "    line_color=\"grey\"\n",
    "    )\n",
    "\n",
    "# data = volcano_legs_data + volcano_legs_data_tmp + VP.data_points\n",
    "data = volcano_legs_data_tmp + volcano_legs_data + VP.data_points\n",
    "\n",
    "if plot_exp_traces:\n",
    "    data.insert(0, trace_iro3)\n",
    "    data.insert(0, trace_iro2)"
   ]
  },
  {
   "cell_type": "code",
   "execution_count": null,
   "metadata": {},
   "outputs": [],
   "source": [
    "fig = go.Figure(data=data, layout=layout)\n",
    "\n",
    "my_plotly_plot(\n",
    "    figure=fig,\n",
    "    plot_name=\"out_plot_02_large\")"
   ]
  },
  {
   "cell_type": "markdown",
   "metadata": {},
   "source": [
    "# TEMP | Changing line type of volcano"
   ],
   "execution_count": null,
   "outputs": []
  },
  {
   "cell_type": "code",
   "execution_count": null,
   "metadata": {},
   "outputs": [],
   "source": [
    "shared_axis_props = dict(ticklen=3)\n",
    "\n",
    "ticks_props_new_x = dict(\n",
    "    dtick=0.1,\n",
    "    **shared_axis_props)\n",
    "ticks_props_new_y = dict(\n",
    "    dtick=0.05,\n",
    "    **shared_axis_props)\n",
    "\n",
    "\n",
    "add_duplicate_axes(\n",
    "    fig, axis_type='x',\n",
    "    axis_data=ticks_props_new_x,\n",
    "    tmp_define_both_axis_types=False,\n",
    "    )\n",
    "\n",
    "add_duplicate_axes(\n",
    "    fig, axis_type='y',\n",
    "    axis_data=ticks_props_new_y,\n",
    "    tmp_define_both_axis_types=False,\n",
    "    )\n",
    "\n",
    "my_plotly_plot(\n",
    "    figure=fig,\n",
    "    plot_name=\"pl_irox_volcano_plotly_default_ooh\",\n",
    "    write_html=True,\n",
    "    write_png=False,\n",
    "    png_scale=6.0,\n",
    "    write_pdf=True,\n",
    "    write_svg=False,\n",
    "    try_orca_write=True,\n",
    "    )"
   ]
  },
  {
   "cell_type": "code",
   "execution_count": null,
   "metadata": {},
   "outputs": [],
   "source": [
    "fig.show()"
   ]
  },
  {
   "cell_type": "code",
   "execution_count": null,
   "metadata": {},
   "outputs": [],
   "source": [
    "# fig.show()"
   ]
  },
  {
   "cell_type": "code",
   "execution_count": null,
   "metadata": {},
   "outputs": [],
   "source": [
    "# import copy\n",
    "\n",
    "# tmp = copy.deepcopy(fig.layout)\n",
    "# tmp.annotations = None\n",
    "\n",
    "# tmp"
   ]
  },
  {
   "cell_type": "markdown",
   "metadata": {},
   "source": [
    "# Adding Kinetic Volcano Traces"
   ],
   "execution_count": null,
   "outputs": []
  },
  {
   "cell_type": "code",
   "execution_count": null,
   "metadata": {},
   "outputs": [],
   "source": [
    "# #############################################################################\n",
    "path_i = os.path.join(\n",
    "    \"out_data\",\n",
    "    \"kinetic_volcano_trace.pickle\")\n",
    "with open(path_i, \"rb\") as fle:\n",
    "    data_kin_volc = pickle.load(fle)\n",
    "# #############################################################################\n",
    "\n",
    "# #############################################################################\n",
    "path_i = os.path.join(\n",
    "    \"out_data\",\n",
    "    \"df_10mA.pickle\")\n",
    "with open(path_i, \"rb\") as fle:\n",
    "    df_10mA = pickle.load(fle)\n",
    "# #############################################################################"
   ]
  },
  {
   "cell_type": "code",
   "execution_count": null,
   "metadata": {},
   "outputs": [],
   "source": [
    "df = df_10mA\n",
    "trace_kin_10mA = go.Scatter(\n",
    "    x=df[\"descriptor\"],\n",
    "    y=df[\"U_lim\"],\n",
    "    mode=\"lines\",\n",
    "    name=\"temp_4348\",\n",
    "    line=dict(\n",
    "        # color=\"#1ee148\",\n",
    "        color=\"#3e9bf2\", \n",
    "        width=2.,\n",
    "        dash=\"dot\",\n",
    "        ),\n",
    "    )\n",
    "\n",
    "fig.add_scatter(**trace_kin_10mA.to_plotly_json())\n",
    "\n",
    "tmp = 42"
   ]
  },
  {
   "cell_type": "code",
   "execution_count": null,
   "metadata": {
    "collapsed": false,
    "jupyter": {
     "outputs_hidden": false
    }
   },
   "outputs": [],
   "source": [
    "data_tmp = fig.data\n",
    "\n",
    "data = list(data_tmp)[-1:] + list(data_tmp)[0:-1]\n",
    "fig.data = data"
   ]
  },
  {
   "cell_type": "code",
   "execution_count": null,
   "metadata": {},
   "outputs": [],
   "source": [
    "# assert False"
   ]
  },
  {
   "cell_type": "code",
   "execution_count": null,
   "metadata": {
    "collapsed": false,
    "jupyter": {
     "outputs_hidden": false
    }
   },
   "outputs": [],
   "source": [
    "tmp = my_plotly_plot(\n",
    "    figure=fig,\n",
    "    plot_name=\"pl_irox_volcano_plotly_default_ooh__w_kinetic_volc\",\n",
    "    write_html=True,\n",
    "    write_pdf=True,\n",
    "    write_svg=False,\n",
    "    try_orca_write=True)\n",
    "\n",
    "fig.show()"
   ]
  },
  {
   "cell_type": "code",
   "execution_count": null,
   "metadata": {},
   "outputs": [],
   "source": [
    "# Pickling data ######################################################\n",
    "import os; import pickle\n",
    "directory = \"out_data\"\n",
    "if not os.path.exists(directory): os.makedirs(directory)\n",
    "with open(os.path.join(directory, \"oer_volcano_trace.pickle\"), \"wb\") as fle:\n",
    "    pickle.dump(fig, fle)\n",
    "# #####################################################################"
   ]
  },
  {
   "cell_type": "raw",
   "metadata": {},
   "source": [
    "\n",
    "\n"
   ],
   "execution_count": null,
   "outputs": []
  },
  {
   "cell_type": "code",
   "execution_count": null,
   "metadata": {
    "jupyter": {}
   },
   "outputs": [],
   "source": [
    "# for i_cnt, trace in enumerate(fig.data):\n",
    "#     tmp = 42\n",
    "#     print(trace.name)\n",
    "#     if trace.name == \"temp_4348\":\n",
    "#         print(trace)\n",
    "#         print(\"ISDFIJISDJFIJSDI\")\n",
    "\n",
    "# fig.data[-1:]\n",
    "# print(len(fig.data))\n",
    "# print(len(fig.data))\n",
    "# data_0 = list(fig.data)\n",
    "# data_0.insert(0, trace_kin_10mA)\n",
    "# fig.data = data_0\n",
    "\n",
    "# data_tmp = fig.data\n",
    "\n",
    "# # print(len(fig.data))\n",
    "# # len(list(data_tmp)[0:-1])\n",
    "# # list(data_tmp)\n",
    "\n",
    "# for i_cnt, trace in enumerate(fig.data):\n",
    "#     tmp = 42\n",
    "#     print(trace.name)\n",
    "#     if trace.name == \"temp_4348\":\n",
    "#         print(trace)\n",
    "#         print(\"ISDFIJISDJFIJSDI\")\n",
    "\n",
    "# for trace_i in data_kin_volc:\n",
    "#     data_dict = trace_i.to_plotly_json()\n",
    "#     fig.add_scatter(**data_dict)"
   ]
  },
  {
   "cell_type": "code",
   "execution_count": null,
   "metadata": {
    "jupyter": {}
   },
   "outputs": [],
   "source": [
    "## for trace in fig.data:\n",
    "#     tmp = 42\n",
    "    \n",
    "# #     print(trace.name)\n",
    "    \n",
    "#     if trace.name == \"activity volcano\":\n",
    "#         trace_tmp = trace\n",
    "\n",
    "# trace_tmp.line.dash = \"7px,2px,7px,2px\""
   ]
  },
  {
   "cell_type": "code",
   "execution_count": null,
   "metadata": {},
   "outputs": [],
   "source": [
    "for i in ORR_PLT.series_list:\n",
    "    print(\n",
    "        i.name_i,\n",
    "        \":\",\n",
    "        i.limiting_step\n",
    "        )\n",
    "\n",
    "# ORR_PLT.series_list[0].limiting_step"
   ]
  },
  {
   "cell_type": "code",
   "execution_count": null,
   "metadata": {},
   "outputs": [],
   "source": [
    "i.name_i\n"
   ]
  },
  {
   "cell_type": "code",
   "execution_count": null,
   "metadata": {},
   "outputs": [],
   "source": [
    "df_m.name_i_2.unique().tolist()"
   ]
  },
  {
   "cell_type": "raw",
   "metadata": {},
   "source": [
    "\n",
    "\n",
    "\n",
    "\n"
   ],
   "execution_count": null,
   "outputs": []
  },
  {
   "cell_type": "code",
   "execution_count": null,
   "metadata": {},
   "outputs": [],
   "source": [
    "# df_m.head()"
   ]
  },
  {
   "cell_type": "code",
   "execution_count": null,
   "metadata": {},
   "outputs": [],
   "source": [
    "## # df_m = pd.concat([\n",
    "# #     df_m[df_m.bulk_system != \"IrO3\"],\n",
    "# #     df_m[df_m.bulk_system == \"IrO3\"],\n",
    "# #     ])\n",
    "\n",
    "\n",
    "# # #####################################\n",
    "# prop_name_list = [\n",
    "#     'bulk_system',\n",
    "#     # 'coverage',\n",
    "#     'coverage_type',\n",
    "#     'facet',\n",
    "#     'surface_type']\n",
    "# grouped = df_m.groupby(groupby_props, sort=False)\n",
    "# for i_ind, (name, group) in enumerate(grouped):\n",
    "#     df_i = group\n",
    "#     name_i = \"_\".join(list(name))\n",
    "#     print(\"name:\", name_i)"
   ]
  }
 ],
 "metadata": {
  "jupytext": {
   "encoding": "# -*- coding: utf-8 -*-"
  },
  "kernelspec": {
   "display_name": "Python [conda env:PROJ_IrOx_Active_Learning_OER]",
   "language": "python",
   "name": "conda-env-PROJ_IrOx_Active_Learning_OER-py"
  },
  "language_info": {
   "codemirror_mode": {
    "name": "ipython",
    "version": 3
   },
   "file_extension": ".py",
   "mimetype": "text/x-python",
   "name": "python",
   "nbconvert_exporter": "python",
   "pygments_lexer": "ipython3",
   "version": "3.6.9"
  },
  "toc-autonumbering": true
 },
 "nbformat": 4,
 "nbformat_minor": 4
}
