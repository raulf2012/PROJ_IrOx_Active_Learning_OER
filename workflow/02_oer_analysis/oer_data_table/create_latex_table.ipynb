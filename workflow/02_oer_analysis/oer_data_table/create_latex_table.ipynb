{
 "cells": [
  {
   "cell_type": "markdown",
   "execution_count": null,
   "metadata": {},
   "outputs": [],
   "source": [
    "# Import Modules"
   ]
  },
  {
   "cell_type": "code",
   "execution_count": null,
   "metadata": {},
   "outputs": [],
   "source": [
    "import os\n",
    "print(os.getcwd())\n",
    "import sys"
   ]
  },
  {
   "cell_type": "code",
   "execution_count": null,
   "metadata": {},
   "outputs": [],
   "source": [
    "%%capture\n",
    "\n",
    "import pandas as pd\n",
    "import numpy as np\n",
    "\n",
    "# #########################################################\n",
    "from IPython.display import display\n",
    "\n",
    "# #########################################################\n",
    "sys.path.insert(0, os.path.join(os.environ[\"PROJ_irox\"], \"data\"))\n",
    "from proj_data_irox import data_dir\n",
    "from proj_data_irox import corrections_dict\n",
    "\n",
    "sys.path.insert(0, os.path.join(os.environ[\"PROJ_irox\"], \"workflow\"))\n",
    "from an_data_processing import load_df\n",
    "\n",
    "# #########################################################\n",
    "from oxr_reaction.oxr_rxn import ORR_Free_E_Plot\n",
    "from misc_modules.pandas_methods import drop_columns, reorder_df_columns"
   ]
  },
  {
   "cell_type": "code",
   "execution_count": null,
   "metadata": {},
   "outputs": [],
   "source": [
    "pd.options.display.max_colwidth = 200"
   ]
  },
  {
   "cell_type": "markdown",
   "execution_count": null,
   "metadata": {},
   "outputs": [],
   "source": [
    "# Read Data"
   ]
  },
  {
   "cell_type": "code",
   "execution_count": null,
   "metadata": {},
   "outputs": [],
   "source": [
    "# path_i = \"/mnt/f/Dropbox/01_norskov/PROJECT_DATA/04_IrOx_surfaces_OER/oer_slabs_results/190321_new_job_df/job_dataframe.pickle\"\n",
    "\n",
    "# # #########################################################\n",
    "# import pickle; import os\n",
    "# # with open(path_i, \"rb\") as fle:\n",
    "# with open(path_i, \"rb\") as fle:\n",
    "#     data = pickle.load(fle)\n",
    "# # #########################################################"
   ]
  },
  {
   "cell_type": "code",
   "execution_count": null,
   "metadata": {},
   "outputs": [],
   "source": [
    "# %%capture\n",
    "\n",
    "df_pourbaix, df_ads, df_surf = load_df(\n",
    "    from_file=False,\n",
    "    root_dir=data_dir,\n",
    "    data_dir=data_dir,\n",
    "    file_name=\"df_master.pickle\",\n",
    "    process_df=True)\n",
    "\n",
    "df = df_ads"
   ]
  },
  {
   "cell_type": "code",
   "execution_count": null,
   "metadata": {},
   "outputs": [],
   "source": [
    "df = drop_columns(df=df, keep_or_drop=\"keep\",\n",
    "    columns=[\n",
    "\n",
    "        \"bulk_system\",\n",
    "        \"facet\",\n",
    "        \"adsorbate\",\n",
    "        \"coverage_type\",\n",
    "        # \"ooh_direction\",\n",
    "        \"ads_e\",\n",
    "        # \"elec_energy\",\n",
    "        # \"total_magmom\",\n",
    "        # \"abs_magmom\",\n",
    "        # \"path_short\",\n",
    "        # \"name_i\",\n",
    "        # \"max_force\",\n",
    "        # \"sum_force\",\n",
    "        # \"elem_num_dict\",\n",
    "        # \"incar_parsed\",\n",
    "        # \"init_atoms\",\n",
    "        # \"atoms_object\",\n",
    "        # \"N_atoms\",\n",
    "        # \"dipole_correction\",\n",
    "        # \"path\",\n",
    "        # \"name_i_2\",\n",
    "        # \"name_i_3\",\n",
    "        # \"priority\",\n",
    "        \"surface_type\",\n",
    "\n",
    "        ],\n",
    "    )\n"
   ]
  },
  {
   "cell_type": "code",
   "execution_count": null,
   "metadata": {},
   "outputs": [],
   "source": [
    "data_dict_list = []\n",
    "grouped = df.groupby([\"bulk_system\", \"facet\", \"coverage_type\", \"surface_type\"])\n",
    "for name, group in grouped:\n",
    "    new_row_i = dict()\n",
    "    # display(group)\n",
    "\n",
    "    # #####################################################\n",
    "    ORR_PLT = ORR_Free_E_Plot(\n",
    "        free_energy_df=None,\n",
    "        state_title=\"adsorbate\",\n",
    "        free_e_title=\"ads_e\",\n",
    "        # smart_format=smart_format_dict,\n",
    "        color_list=None,\n",
    "        rxn_type=\"OER\")\n",
    "\n",
    "    ORR_PLT.add_series(\n",
    "        group,\n",
    "        plot_mode=\"all\",\n",
    "        overpotential_type=\"OER\",\n",
    "        # property_key_list=prop_name_list,\n",
    "        add_overpot=False,\n",
    "        name_i=\"TEMP\")\n",
    "\n",
    "    oxr_series = ORR_PLT.series_list[0]\n",
    "    overpot, lim_step = oxr_series.calc_overpotential_OER()\n",
    "\n",
    "    # #####################################################\n",
    "    # arrow_str = \" \\rightarrow \"\n",
    "    # if lim_step == [\"oh\", \"o\"]:\n",
    "    #     lim_step = \"$OHT\"   + arrow_str + \"OTT$\"\n",
    "    # elif lim_step == [\"ooh\", \"bulk\"]:\n",
    "    #     lim_step = \"$OOH\"   + arrow_str + \"*TTT$\"\n",
    "    # elif lim_step == [\"o\", \"ooh\"]:\n",
    "    #     lim_step = \"$OTT\"   + arrow_str + \"OOH$\"\n",
    "    # elif lim_step == [\"bulk\", \"oh\"]:\n",
    "    #     lim_step = \"$*TTT\"   + arrow_str + \"OHT$\"\n",
    "    # else:\n",
    "    #     tmp = 42\n",
    "\n",
    "    phan = \"\\phantom{T}\"\n",
    "    arrow_str = \" \\rightarrow \"\n",
    "    if lim_step == [\"oh\", \"o\"]:\n",
    "        lim_step = \"$*OH \\phantom{T}\"   + arrow_str + \"*O \\phantom{T} \\phantom{T} $\"\n",
    "    elif lim_step == [\"ooh\", \"bulk\"]:\n",
    "        lim_step = \"$*OOH\"   + arrow_str + \"* \\phantom{T} \\phantom{T} \\phantom{T} $\"\n",
    "    elif lim_step == [\"o\", \"ooh\"]:\n",
    "        lim_step = \"$*O \\phantom{T} \\phantom{T} \"   + arrow_str + \"*OOH$\"\n",
    "    elif lim_step == [\"bulk\", \"oh\"]:\n",
    "        lim_step = \"$* \\phantom{T} \\phantom{T} \\phantom{T} \"   + arrow_str + \"*OH \\phantom{T} $\"\n",
    "    else:\n",
    "        tmp = 42\n",
    "\n",
    "    # #####################################################\n",
    "    new_row_i[\"overpot\"] = overpot\n",
    "    new_row_i[\"lim_step\"] = lim_step\n",
    "\n",
    "    # #####################################################\n",
    "    ads_e_dict = dict(zip(\n",
    "        group.adsorbate,\n",
    "        group.ads_e,\n",
    "        ))\n",
    "    new_row_i.update(ads_e_dict)\n",
    "\n",
    "    group = drop_columns(\n",
    "        df=group,\n",
    "        columns=[\"adsorbate\", \"ads_e\"],\n",
    "        keep_or_drop=\"drop\",\n",
    "        )\n",
    "\n",
    "    other_props = dict()\n",
    "    for column in group.columns:\n",
    "        num_unique = group[column].unique().shape[0]\n",
    "        if num_unique == 1:\n",
    "            other_props[column] = group[column].iloc[0]\n",
    "\n",
    "    new_row_i.update(other_props)\n",
    "\n",
    "    data_dict_list.append(new_row_i)\n",
    "    \n",
    "df_new = pd.DataFrame(data_dict_list)"
   ]
  },
  {
   "cell_type": "raw",
   "execution_count": null,
   "metadata": {},
   "outputs": [],
   "source": [
    "\n",
    "\n",
    "\n",
    "\n"
   ]
  },
  {
   "cell_type": "markdown",
   "execution_count": null,
   "metadata": {},
   "outputs": [],
   "source": [
    "# Drop bare adsorption energy column"
   ]
  },
  {
   "cell_type": "code",
   "execution_count": null,
   "metadata": {},
   "outputs": [],
   "source": [
    "\n",
    "\n",
    "df_new = drop_columns(\n",
    "    df=df_new,\n",
    "    columns=[\"bare\"],\n",
    "    keep_or_drop=\"drop\",\n",
    "    )"
   ]
  },
  {
   "cell_type": "markdown",
   "execution_count": null,
   "metadata": {},
   "outputs": [],
   "source": [
    "# Add new composite columns"
   ]
  },
  {
   "cell_type": "code",
   "execution_count": null,
   "metadata": {},
   "outputs": [],
   "source": [
    "df_new[\"g_o-g_oh\"] = df_new.o - df_new.oh\n",
    "\n",
    "df_new[\"lim_pot\"] = 1.23 + df_new[\"overpot\"]\n",
    "\n",
    "# #########################################################\n",
    "df_new[\"e_oh\"] = df_new[\"oh\"] - corrections_dict[\"oh\"]\n",
    "df_new[\"e_o\"] = df_new[\"o\"] - corrections_dict[\"o\"]\n",
    "df_new[\"e_ooh\"] = df_new[\"ooh\"] - corrections_dict[\"ooh\"]"
   ]
  },
  {
   "cell_type": "markdown",
   "execution_count": null,
   "metadata": {},
   "outputs": [],
   "source": [
    "# Sort column order"
   ]
  },
  {
   "cell_type": "code",
   "execution_count": null,
   "metadata": {},
   "outputs": [],
   "source": [
    "df_new = reorder_df_columns(\n",
    "    [\n",
    "        \"bulk_system\",\n",
    "        \"facet\",\n",
    "        \"coverage_type\",\n",
    "        \"surface_type\",\n",
    "        \"e_oh\", \"e_o\", \"e_ooh\",\n",
    "        \"oh\", \"o\", \"ooh\",\n",
    "        \"g_o-g_oh\",\n",
    "        \"lim_pot\",\n",
    "        \"overpot\",\n",
    "        \"lim_step\",\n",
    "        ],\n",
    "    df_new,\n",
    "    )"
   ]
  },
  {
   "cell_type": "markdown",
   "execution_count": null,
   "metadata": {},
   "outputs": [],
   "source": [
    "# Round float columns"
   ]
  },
  {
   "cell_type": "code",
   "execution_count": null,
   "metadata": {},
   "outputs": [],
   "source": [
    "num_dec = 3\n",
    "\n",
    "df_new = df_new.round({\n",
    "    \"oh\": num_dec, \"o\": num_dec, \"ooh\": num_dec,\n",
    "    \"e_oh\": num_dec, \"e_o\": num_dec, \"e_ooh\": num_dec,\n",
    "    \"g_o-g_oh\": num_dec,\n",
    "    \"overpot\": num_dec, \"lim_pot\": num_dec,\n",
    "    })"
   ]
  },
  {
   "cell_type": "markdown",
   "execution_count": null,
   "metadata": {},
   "outputs": [],
   "source": [
    "# Format facet column and change b-IrO3 entries"
   ]
  },
  {
   "cell_type": "code",
   "execution_count": null,
   "metadata": {},
   "outputs": [],
   "source": [
    "df_new.facet = \"(\" + df_new.facet + \")\"\n",
    "\n",
    "ind_a = df_new[\n",
    "    (df_new.bulk_system == \"IrO3_battery\") & \\\n",
    "    (df_new.facet == \"(010)\") & \\\n",
    "    (df_new.surface_type == \"a\")\n",
    "    ].index[0]\n",
    "\n",
    "ind_b = df_new[\n",
    "    (df_new.bulk_system == \"IrO3_battery\") & \\\n",
    "    (df_new.facet == \"(010)\") & \\\n",
    "    (df_new.surface_type == \"b\")\n",
    "    ].index[0]\n",
    "\n",
    "df_new.at[ind_a, \"facet\"] = \"(010)-A\"\n",
    "df_new.at[ind_b, \"facet\"] = \"(010)-B\"\n",
    "\n",
    "df_new = drop_columns(df=df_new, columns=\"surface_type\", keep_or_drop=\"drop\")"
   ]
  },
  {
   "cell_type": "markdown",
   "execution_count": null,
   "metadata": {},
   "outputs": [],
   "source": [
    "# Sort based on bulk_system, facet, and coverage_type"
   ]
  },
  {
   "cell_type": "code",
   "execution_count": null,
   "metadata": {},
   "outputs": [],
   "source": [
    "df_new = df_new.sort_values([\"bulk_system\", \"facet\", \"coverage_type\"])"
   ]
  },
  {
   "cell_type": "code",
   "execution_count": null,
   "metadata": {},
   "outputs": [],
   "source": [
    "units_dict = {\n",
    "    \"bulk_system\": \"-\",\n",
    "    \"facet\": \"-\",\n",
    "    \"coverage_type\": \"-\",\n",
    "    \"e_oh\": \"(eV)\",\n",
    "    \"e_o\": \"(eV)\",\n",
    "    \"e_ooh\": \"(eV)\",\n",
    "    \"oh\": \"(eV)\",\n",
    "    \"o\": \"(eV)\",\n",
    "    \"ooh\": \"(eV)\",\n",
    "    \"g_o-g_oh\": \"(eV)\",\n",
    "    \"lim_pot\": \"(V)\",\n",
    "    \"overpot\": \"(V)\",\n",
    "    \"lim_step\": \"-\",\n",
    "    }\n"
   ]
  },
  {
   "cell_type": "code",
   "execution_count": null,
   "metadata": {},
   "outputs": [],
   "source": [
    "# assert False"
   ]
  },
  {
   "cell_type": "markdown",
   "execution_count": null,
   "metadata": {},
   "outputs": [],
   "source": [
    "# Rename columns and entries"
   ]
  },
  {
   "cell_type": "code",
   "execution_count": null,
   "metadata": {},
   "outputs": [],
   "source": [
    "# #########################################################\n",
    "# #########################################################\n",
    "column_rename_dict = {\n",
    "    \"bulk_system\": \"Bulk Sys.\",\n",
    "    \"facet\": \"Facet\",\n",
    "    \"coverage_type\": \"Coverage\",\n",
    "    \"surface_type\": \"SurfaceTMP\",\n",
    "\n",
    "    \"g_o-g_oh\": \"$\\\\Delta G_{O}-\\\\Delta G_{OH}$\",\n",
    "\n",
    "    \"oh\": \"$\\\\Delta G_{OH}$\",\n",
    "    \"o\": \"$\\\\Delta G_{O}$\",\n",
    "    \"ooh\": \"$\\\\Delta G_{OOH}$\",\n",
    "\n",
    "    \n",
    "    \"e_oh\": \"$\\\\Delta E_{OH}$\",\n",
    "    \"e_o\": \"$\\\\Delta E_{O}$\",\n",
    "    \"e_ooh\": \"$\\\\Delta E_{OOH}$\",\n",
    "    \n",
    "    \"overpot\": \"$\\\\eta$\",\n",
    "    \"lim_pot\": \"Lim. Pot.\",\n",
    "    \"lim_step\": \"RDS\",\n",
    "    }\n",
    "column_rename_dict_inv = {v: k for k, v in column_rename_dict.items()}\n",
    "\n",
    "df_new = df_new.rename(columns=column_rename_dict)\n",
    "\n",
    "# #########################################################\n",
    "df_new = df_new.replace(\n",
    "    to_replace=\"IrO2\",\n",
    "    value=\"$R{\\text -}IrO_{2}$\")\n",
    "    # value=\"$R-IrO_{2}$\")\n",
    "\n",
    "df_new = df_new.replace(\n",
    "    to_replace=\"IrO3\",\n",
    "    value=\"$\\\\alpha{\\text -}IrO_{3}$\")\n",
    "\n",
    "df_new = df_new.replace(\n",
    "    to_replace=\"IrO3_battery\",\n",
    "    value=\"$\\\\beta{\\text -}IrO_{3}$\")\n",
    "    # value=\"\\beta-IrO_{3}\")\n",
    "\n",
    "df_new = df_new.replace(\n",
    "    to_replace=\"IrO3_rutile-like\",\n",
    "    value=\"$R{\\text -}IrO_{3}$\")\n",
    "\n",
    "df_new = df_new.replace(\n",
    "    to_replace=\"NaN\",\n",
    "    value=np.nan)\n",
    "\n",
    "# #########################################################\n",
    "df_new = df_new.replace(\n",
    "    to_replace=\"h_covered\",\n",
    "    value=\"*OH\")\n",
    "df_new = df_new.replace(\n",
    "    to_replace=\"o_covered\",\n",
    "    value=\"*O\")\n",
    "df_new = df_new.replace(\n",
    "    to_replace=\"o_covered_2\",\n",
    "    value=\"*O-partial\")"
   ]
  },
  {
   "cell_type": "markdown",
   "execution_count": null,
   "metadata": {},
   "outputs": [],
   "source": [
    "# Adding units index"
   ]
  },
  {
   "cell_type": "code",
   "execution_count": null,
   "metadata": {},
   "outputs": [],
   "source": [
    "units_list = []\n",
    "for col_i in df_new.columns.values:\n",
    "    unit_i = units_dict[\n",
    "        column_rename_dict_inv[col_i]\n",
    "        ]\n",
    "    units_list.append(unit_i)\n",
    "\n",
    "\n",
    "tuples = list(zip(*[\n",
    "    df_new.columns.values,\n",
    "    units_list,\n",
    "    ]))\n",
    "\n",
    "\n",
    "index = pd.MultiIndex.from_tuples(tuples, names=[\"Header\", \"Units\"])\n",
    "df_new.columns = index"
   ]
  },
  {
   "cell_type": "markdown",
   "execution_count": null,
   "metadata": {},
   "outputs": [],
   "source": [
    "# Column Alignment"
   ]
  },
  {
   "cell_type": "code",
   "execution_count": null,
   "metadata": {},
   "outputs": [],
   "source": [
    "alignment_column_dict = {\n",
    "    \"Bulk Sys.\": \"l\",\n",
    "    \"Facet\": \"l\",\n",
    "    \"Coverage\": \"l\",\n",
    "    \"$\\\\Delta E_{OH}$\": \"c\",\n",
    "    \"$\\\\Delta E_{O}$\": \"c\",\n",
    "    \"$\\\\Delta E_{OOH}$\": \"c\",\n",
    "    \"$\\\\Delta G_{OH}$\": \"c\",\n",
    "    \"$\\\\Delta G_{O}$\": \"c\",\n",
    "    \"$\\\\Delta G_{OOH}$\": \"c\",\n",
    "    \"$\\\\Delta G_{O}-\\\\Delta G_{OH}$\": \"c\",\n",
    "    \"Lim. Pot.\": \"c\",\n",
    "    \"$\\\\eta$\": \"c\",\n",
    "    \"RDS\": \"c\",\n",
    "    }\n",
    "\n",
    "alignment_list = [alignment_column_dict[i[0]] for i in df_new.columns.tolist()]\n",
    "\n",
    "alignment_str = \"\"\n",
    "for i in alignment_list:\n",
    "    alignment_str += i"
   ]
  },
  {
   "cell_type": "markdown",
   "execution_count": null,
   "metadata": {},
   "outputs": [],
   "source": [
    "# Write Dataframe to Latex Table"
   ]
  },
  {
   "cell_type": "code",
   "execution_count": null,
   "metadata": {},
   "outputs": [],
   "source": [
    "shared_props = dict(\n",
    "    # buf=\"oer_table.tex\",\n",
    "    columns=None,\n",
    "    col_space=None,\n",
    "\n",
    "    # #####################################################\n",
    "    header=True,\n",
    "    # #####################################################\n",
    "    index=False,\n",
    "\n",
    "    # #####################################################\n",
    "    na_rep='-',\n",
    "    formatters=None,\n",
    "\n",
    "    # #####################################################\n",
    "    # float_format=\"{:0.2f}\",\n",
    "    sparsify=None,\n",
    "    index_names=True,\n",
    "    bold_rows=False,\n",
    "    \n",
    "    # #####################################################\n",
    "    column_format=alignment_str,\n",
    "    \n",
    "    longtable=None,\n",
    "    \n",
    "    # #####################################################\n",
    "    escape=False,\n",
    "    encoding=None,\n",
    "    decimal='.',\n",
    "    multicolumn=None,\n",
    "    multicolumn_format=None,\n",
    "    multirow=None,\n",
    "    )"
   ]
  },
  {
   "cell_type": "code",
   "execution_count": null,
   "metadata": {},
   "outputs": [],
   "source": [
    "df_new.to_latex(\n",
    "    buf=\"oer_table.tex\",\n",
    "    **shared_props)\n",
    "\n",
    "path_i = os.path.join(\n",
    "    os.environ[\"PROJ_irox_paper\"],\n",
    "    \"04_data_tables/oer_energetics\",\n",
    "    \"oer_table.tex\")\n",
    "df_new.to_latex(\n",
    "    buf=path_i,\n",
    "    **shared_props)"
   ]
  },
  {
   "cell_type": "code",
   "execution_count": null,
   "metadata": {},
   "outputs": [],
   "source": [
    "df_new"
   ]
  }
 ],
 "metadata": {
  "kernelspec": {
   "display_name": "Python [conda env:PROJ_IrOx_Active_Learning_OER]",
   "language": "python",
   "name": "conda-env-PROJ_IrOx_Active_Learning_OER-py"
  },
  "language_info": {
   "codemirror_mode": {
    "name": "ipython",
    "version": 3
   },
   "file_extension": ".py",
   "mimetype": "text/x-python",
   "name": "python",
   "nbconvert_exporter": "python",
   "pygments_lexer": "ipython3",
   "version": "3.6.9"
  }
 },
 "nbformat": 4,
 "nbformat_minor": 4
}
