{
 "cells": [
  {
   "cell_type": "markdown",
   "metadata": {},
   "source": [
    "# Derivation of Corrections for Surface Energy Calculations"
   ]
  },
  {
   "cell_type": "code",
   "execution_count": 1,
   "metadata": {},
   "outputs": [],
   "source": [
    "import os\n",
    "import sys\n",
    "import sympy\n",
    "\n",
    "sys.path.insert(0, os.path.join(\n",
    "    os.environ[\"PROJ_irox\"],\n",
    "    \"data\"))\n",
    "\n",
    "from proj_data_irox import *\n",
    "\n",
    "E_h2o = h2o_ref\n",
    "E_h2 = h2_ref"
   ]
  },
  {
   "cell_type": "raw",
   "metadata": {},
   "source": [
    "\n"
   ]
  },
  {
   "cell_type": "markdown",
   "metadata": {},
   "source": [
    "# General Gibbs Free Energy Formulation\n",
    "---"
   ]
  },
  {
   "cell_type": "markdown",
   "metadata": {},
   "source": [
    "In general, the Gibbs free energy $G$ of a state is composed of an enthalpy and an entropy term\n",
    "$$\n",
    "G = H - TS = % TEMP\n",
    "\\Bigg(\n",
    "\\lbrack\n",
    "E_{elec} + E_{ZPE} + PV +\n",
    "\\int_{0}^{T} C_p dT\n",
    "\\rbrack\n",
    "- TS\n",
    "\\Bigg)_i\n",
    "$$\n",
    "\n",
    "Sweeping every term except the DFT electronic energy into one term ($\\varphi$) yields\n",
    "$$\n",
    "G_i = E_{elec,i} + \\varphi _i\n",
    "$$"
   ]
  },
  {
   "cell_type": "code",
   "execution_count": 2,
   "metadata": {},
   "outputs": [
    {
     "data": {
      "text/latex": [
       "$\\displaystyle E_{elec} + \\phi$"
      ],
      "text/plain": [
       "E_elec + phi"
      ]
     },
     "execution_count": 2,
     "metadata": {},
     "output_type": "execute_result"
    }
   ],
   "source": [
    "E_elec = sympy.symbols(\"E_elec\")\n",
    "phi = sympy.symbols(\"phi\")\n",
    "\n",
    "G = E_elec + phi\n",
    "G"
   ]
  },
  {
   "cell_type": "markdown",
   "metadata": {},
   "source": [
    "Where ($\\varphi$) is defined as\n",
    "$$\n",
    "\\varphi =\n",
    "E_{ZPE} + PV +\n",
    "\\int_{0}^{T} C_p dT\n",
    "- TS\n",
    "$$"
   ]
  },
  {
   "cell_type": "code",
   "execution_count": 3,
   "metadata": {},
   "outputs": [
    {
     "data": {
      "text/latex": [
       "$\\displaystyle Cp + PV - TS + ZPE$"
      ],
      "text/plain": [
       "Cp + PV - TS + ZPE"
      ]
     },
     "execution_count": 3,
     "metadata": {},
     "output_type": "execute_result"
    }
   ],
   "source": [
    "# Defining the Phi function\n",
    "ZPE, PV, Cp, TS = sympy.symbols([\"ZPE\", \"PV\", \"Cp\", \"TS\"])\n",
    "\n",
    "phi = ZPE + PV + Cp - TS\n",
    "\n",
    "phi"
   ]
  },
  {
   "cell_type": "markdown",
   "metadata": {},
   "source": [
    "---"
   ]
  },
  {
   "cell_type": "markdown",
   "metadata": {},
   "source": [
    "# Adsorption Energy Formulas"
   ]
  },
  {
   "cell_type": "markdown",
   "metadata": {},
   "source": [
    "With this formulasim, we can now write out an adsorption reaction energy as follows\n",
    "\n",
    "$$\n",
    "\\Delta G_{rxn} = G_{*O_xH_y} - G_{*} - x G_O - y G_H\n",
    "$$\n",
    "\n",
    "For convience, we then separate the electronic energy and corrections terms as before\n",
    "\n",
    "\n",
    "$$\n",
    "\\Delta G_{rxn} =\n",
    "\\Delta E_{rxn} + \\Delta \\varphi_{rxn} =\n",
    "% Electronic energy terms\n",
    "\\lbrack\n",
    "E_{*O_xH_y} - E_{*} - x \\cdot E_O - y \\cdot E_H\n",
    "\\rbrack +\n",
    "% Correction terms\n",
    "\\lbrack\n",
    "\\varphi_{*O_xH_y} - \\varphi_{*} - x \\cdot \\varphi_O - y \\cdot \\varphi_H\n",
    "\\rbrack\n",
    "$$"
   ]
  },
  {
   "cell_type": "raw",
   "metadata": {},
   "source": [
    "\n"
   ]
  },
  {
   "cell_type": "markdown",
   "metadata": {},
   "source": [
    "# Gas Phase References (O and H Reference Energies)\n",
    "---"
   ]
  },
  {
   "cell_type": "markdown",
   "metadata": {},
   "source": [
    "The reference $H$ energy is simply obtained from a DFT calculation of an $H_2$ molecule\n",
    "\n",
    "<center> |-------- Hydrogen Reference Energy --------| </center>\n",
    "\n",
    "$$\n",
    "G^{ref}_{H} = \\frac{1}{2} G_{H_2}\n",
    "$$\n",
    "\n",
    "Using this definition for the H reference energy we can show that the energy of an $H_2$ molecule is $0$\n",
    "\n",
    "$$2 \\cdot H^{Ref} = H_{2}$$\n",
    "\n",
    "$$G^{f}_{H_2} = G_{H_2} - 2 \\cdot G^{Ref}_{H} =\n",
    "G_{H_2} - 2 \\cdot \\frac{1}{2} G_{H_2} = 0\n",
    "$$\n",
    "\n",
    "---"
   ]
  },
  {
   "cell_type": "markdown",
   "metadata": {},
   "source": [
    "Because of the well known self interaction errors associated with the $O_2$ molecule, we calculate the oxygen reference energy ($G^{ref}_{O}$) by invoking the chemical equation of water formation in terms of oxygen and hydrogen gas\n",
    "\n",
    "$$\n",
    "H_2O = \\frac{1}{2} O_2 + H_2\n",
    "$$\n",
    "\n",
    "Rearranging for the oxygen term, we can express the energy of oxygen in this $H_2O$ and $H_2$ reference state as follows\n",
    "$$\n",
    "O^{Ref} = H_2O - H_2\n",
    "$$\n",
    "\n",
    "$$\n",
    "G^{Ref}_{O} = G_{H_2O} - G_{H_2} =\n",
    "\\lbrack\n",
    "E_{H_2O} - E_{H_2}\n",
    "\\rbrack\n",
    "+\n",
    "\\lbrack\n",
    "\\varphi_{H_2O} - \\varphi_{H_2}\n",
    "\\rbrack\n",
    "$$\n"
   ]
  },
  {
   "cell_type": "markdown",
   "metadata": {},
   "source": [
    "Again we can show that the energy of a water molecule in this scheme is 0\n",
    "$$\n",
    "G^{f}_{H_2O} = G_{H_2O} - G^{Ref}_{O} - 2 \\cdot G^{Ref}_{H} =\n",
    "G_{H_2O} - (G_{H_2O} - G_{H_2}) - 2 \\cdot (\\frac{1}{2} G_{H_2}) = 0\n",
    "$$"
   ]
  },
  {
   "cell_type": "markdown",
   "metadata": {},
   "source": [
    "# Energy of O2 Molucule in H2O/H2 Referencec State"
   ]
  },
  {
   "cell_type": "markdown",
   "metadata": {},
   "source": [
    "Under the water and hydrogen as reference state, the energy of a oxygen molecule can be computed with the water formation equation\n",
    "$$\n",
    "H_2O = \\frac{1}{2} O_2 + H_2\n",
    "$$\n",
    "\n",
    "With a reaction equation as follows\n",
    "\n",
    "$$\n",
    "\\Delta G_{formation,H_2O} =\n",
    "G_{H_2O} - \\frac{1}{2} G_{O_2} - G_{H_2} =\n",
    "\\frac{4.92}{2}eV\n",
    "$$"
   ]
  },
  {
   "cell_type": "markdown",
   "metadata": {},
   "source": [
    "With this, we can rearrange for the energy of an $O_2$ molecule\n",
    "\n",
    "$$\n",
    "\\frac{1}{2} G_{O_2} = -\\Delta G_{formation,H_2O} + G_{H_2O} - G_{H_2}\n",
    "$$\n",
    "\n",
    "$$\n",
    "G_{O_2} =\n",
    "2 \\cdot\n",
    "\\lbrack\n",
    "-\\Delta G_{formation,H_2O} + G_{H_2O} - G_{H_2}\n",
    "\\rbrack\n",
    "$$\n",
    "\n",
    "Instead of plugging DFT valuese into these terms, we simply use $H_2O$ and $H_2$ reference state which sets their energy to  0"
   ]
  },
  {
   "cell_type": "markdown",
   "metadata": {},
   "source": [
    "$$\n",
    "G_{O_2} =\n",
    "2 \\cdot\n",
    "\\lbrack\n",
    "-\\Delta G_{formation,H_2O}\n",
    "\\rbrack =\n",
    "4.92 eV\n",
    "$$\n"
   ]
  },
  {
   "cell_type": "raw",
   "metadata": {},
   "source": [
    "\n",
    "\n",
    "\n",
    "\n",
    "\n",
    "\n",
    "\n",
    "\n"
   ]
  },
  {
   "cell_type": "code",
   "execution_count": 4,
   "metadata": {},
   "outputs": [
    {
     "name": "stdout",
     "output_type": "stream",
     "text": [
      "Phi_H2O -0.0120000000000000\n",
      "G_H2O -14.2429194900000\n",
      "\n",
      "Phi_H2:  -0.0489999999999999\n",
      "G_H2 -6.82049190000000\n"
     ]
    }
   ],
   "source": [
    "# #############################################################################\n",
    "# #### H2O Phi term ####\n",
    "phi_h2o = phi.subs({\n",
    "    \"Cp\": cv_h2o,\n",
    "    \"PV\": 0.,\n",
    "    \"TS\": ts_h2o,\n",
    "    \"ZPE\": zpe_h2o,\n",
    "    })\n",
    "print(\"Phi_H2O\", phi_h2o)\n",
    "\n",
    "G_H2O = G.subs({\n",
    "    \"phi\": phi_h2o,\n",
    "    \"E_elec\": E_h2o,\n",
    "    })\n",
    "print(\"G_H2O\", G_H2O)\n",
    "\n",
    "print(\"\")\n",
    "# #############################################################################\n",
    "# #### H2 Phi term ####\n",
    "phi_h2 = phi.subs({\n",
    "    \"Cp\": cv_h2,\n",
    "    \"PV\": 0.,\n",
    "    \"TS\": ts_h2,\n",
    "    \"ZPE\": zpe_h2,\n",
    "    })\n",
    "phi_h2\n",
    "print(\"Phi_H2: \", phi_h2)\n",
    "# print(\"Phi_H: \", phi_h2 / 2)\n",
    "\n",
    "G_H2 = G.subs({\n",
    "    \"phi\": phi_h2,\n",
    "    \"E_elec\": E_h2,\n",
    "    })\n",
    "print(\"G_H2\", G_H2)\n",
    "# print(\"G_H\", G_H2 / 2)"
   ]
  },
  {
   "cell_type": "code",
   "execution_count": 5,
   "metadata": {},
   "outputs": [
    {
     "name": "stdout",
     "output_type": "stream",
     "text": [
      "phi_O_ref:  0.0369999999999999\n",
      "E_O_ref:  -7.45942759\n",
      "phi_H_ref:  -0.0245000000000000\n",
      "E_H_ref:  -3.38574595\n"
     ]
    }
   ],
   "source": [
    "phi_O_ref = phi_h2o - phi_h2\n",
    "print(\"phi_O_ref: \", phi_O_ref)\n",
    "\n",
    "E_O_ref = E_h2o - E_h2\n",
    "print(\"E_O_ref: \", E_O_ref)\n",
    "\n",
    "\n",
    "phi_H_ref = phi_h2 / 2\n",
    "print(\"phi_H_ref: \", phi_H_ref)\n",
    "\n",
    "E_H_ref = E_h2 / 2\n",
    "print(\"E_H_ref: \", E_H_ref)"
   ]
  },
  {
   "cell_type": "raw",
   "metadata": {},
   "source": [
    "\n",
    "\n",
    "\n",
    "\n",
    "\n",
    "\n",
    "\n"
   ]
  },
  {
   "cell_type": "markdown",
   "metadata": {},
   "source": [
    "# Adsorbate Energy Corrections (*OOH, *OH, *O)"
   ]
  },
  {
   "cell_type": "code",
   "execution_count": 6,
   "metadata": {},
   "outputs": [],
   "source": [
    "zpe_oh_ads = ads_fe_dict[\"oh\"][\"zpe\"]\n",
    "cv_oh_ads = ads_fe_dict[\"oh\"][\"cv\"]\n",
    "ts_oh_ads = ads_fe_dict[\"oh\"][\"ts\"]\n",
    "\n",
    "zpe_o_ads = ads_fe_dict[\"o\"][\"zpe\"]\n",
    "cv_o_ads = ads_fe_dict[\"o\"][\"cv\"]\n",
    "ts_o_ads = ads_fe_dict[\"o\"][\"ts\"]\n",
    "\n",
    "zpe_ooh_ads = ads_fe_dict[\"ooh\"][\"zpe\"]\n",
    "cv_ooh_ads = ads_fe_dict[\"ooh\"][\"cv\"]\n",
    "ts_ooh_ads = ads_fe_dict[\"ooh\"][\"ts\"]"
   ]
  },
  {
   "cell_type": "code",
   "execution_count": 7,
   "metadata": {},
   "outputs": [
    {
     "name": "stdout",
     "output_type": "stream",
     "text": [
      "Phi_*OH 0.307000000000000\n",
      "Phi_*O 0.0810000000000000\n",
      "Phi_*OOH 0.426000000000000\n"
     ]
    }
   ],
   "source": [
    "# #############################################################################\n",
    "# #### *OH Phi term ####\n",
    "phi_oh_ads = phi.subs({\n",
    "    \"Cp\": cv_oh_ads,\n",
    "    \"PV\": 0.,\n",
    "    \"TS\": ts_oh_ads,\n",
    "    \"ZPE\": zpe_oh_ads,\n",
    "    })\n",
    "print(\"Phi_*OH\", phi_oh_ads)\n",
    "\n",
    "\n",
    "# #############################################################################\n",
    "# #### *O Phi term ####\n",
    "phi_o_ads = phi.subs({\n",
    "    \"Cp\": cv_o_ads,\n",
    "    \"PV\": 0.,\n",
    "    \"TS\": ts_o_ads,\n",
    "    \"ZPE\": zpe_o_ads,\n",
    "    })\n",
    "print(\"Phi_*O\", phi_o_ads)\n",
    "\n",
    "\n",
    "# #############################################################################\n",
    "# #### *OH Phi term ####\n",
    "phi_ooh_ads = phi.subs({\n",
    "    \"Cp\": cv_ooh_ads,\n",
    "    \"PV\": 0.,\n",
    "    \"TS\": ts_ooh_ads,\n",
    "    \"ZPE\": zpe_ooh_ads,\n",
    "    })\n",
    "print(\"Phi_*OOH\", phi_ooh_ads)"
   ]
  },
  {
   "cell_type": "code",
   "execution_count": 8,
   "metadata": {
    "lines_to_next_cell": 0
   },
   "outputs": [
    {
     "name": "stdout",
     "output_type": "stream",
     "text": [
      "D_phi_ooh_ads:  0.376500000000000\n",
      "D_phi_oh_ads:  0.294500000000000\n",
      "D_phi_o_ads:  0.0440000000000001\n"
     ]
    }
   ],
   "source": [
    "D_phi_ooh_ads = phi_ooh_ads - (2 * phi_O_ref + 1 * phi_H_ref)\n",
    "D_phi_oh_ads = phi_oh_ads - (1 * phi_O_ref + 1 * phi_H_ref)\n",
    "D_phi_o_ads = phi_o_ads - (1 * phi_O_ref + 0 * phi_H_ref)\n",
    "\n",
    "print(\"D_phi_ooh_ads: \", D_phi_ooh_ads)\n",
    "print(\"D_phi_oh_ads: \", D_phi_oh_ads)\n",
    "print(\"D_phi_o_ads: \", D_phi_o_ads)"
   ]
  },
  {
   "cell_type": "raw",
   "metadata": {},
   "source": [
    "\n",
    "\n",
    "\n"
   ]
  },
  {
   "cell_type": "markdown",
   "metadata": {},
   "source": [
    "# Collecting Important Terms for Saving"
   ]
  },
  {
   "cell_type": "code",
   "execution_count": 9,
   "metadata": {},
   "outputs": [],
   "source": [
    "out_dict = dict()\n",
    "\n",
    "out_dict[\"D_phi_ooh_ads\"] = float(D_phi_ooh_ads)\n",
    "out_dict[\"D_phi_o_ads\"] = float(D_phi_o_ads)\n",
    "out_dict[\"D_phi_oh_ads\"] = float(D_phi_oh_ads)\n",
    "\n",
    "out_dict[\"phi_ooh_ads\"] = float(phi_ooh_ads)\n",
    "out_dict[\"phi_o_ads\"] = float(phi_o_ads)\n",
    "out_dict[\"phi_oh_ads\"] = float(phi_oh_ads)\n",
    "\n",
    "out_dict[\"phi_H_ref\"] = float(phi_H_ref)\n",
    "out_dict[\"phi_O_ref\"] = float(phi_O_ref)\n",
    "\n",
    "out_dict[\"E_H_ref\"] = float(E_H_ref)\n",
    "out_dict[\"E_O_ref\"] = float(E_O_ref)\n",
    "\n",
    "\n",
    "import pickle\n",
    "with open(\"out_data/data.pickle\", \"wb\") as fle:\n",
    "    pickle.dump(out_dict, fle)"
   ]
  },
  {
   "cell_type": "markdown",
   "metadata": {},
   "source": [
    "# Output from Michal's Script"
   ]
  },
  {
   "cell_type": "raw",
   "metadata": {},
   "source": [
    "corr_OH: 0.30225\n",
    "corr_O: -0.0145\n",
    "corr_H:  0.31675\n",
    "\n",
    "\n",
    "OH: 11.14742354\n",
    "O:  7.44492759\n",
    "H:  3.70249595"
   ]
  }
 ],
 "metadata": {
  "jupytext": {
   "formats": "ipynb,py:light"
  },
  "kernelspec": {
   "display_name": "Python 3",
   "language": "python",
   "name": "python3"
  },
  "language_info": {
   "codemirror_mode": {
    "name": "ipython",
    "version": 3
   },
   "file_extension": ".py",
   "mimetype": "text/x-python",
   "name": "python",
   "nbconvert_exporter": "python",
   "pygments_lexer": "ipython3",
   "version": "3.7.3"
  },
  "toc-autonumbering": true
 },
 "nbformat": 4,
 "nbformat_minor": 4
}
