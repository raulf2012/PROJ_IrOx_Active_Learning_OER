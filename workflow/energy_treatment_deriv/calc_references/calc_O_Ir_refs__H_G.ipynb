{
 "cells": [
  {
   "cell_type": "markdown",
   "metadata": {},
   "source": [
    "# Bulk Energy Treatment for IrOx Systems\n",
    "---"
   ]
  },
  {
   "cell_type": "markdown",
   "metadata": {},
   "source": [
    "# Import Modules"
   ]
  },
  {
   "cell_type": "code",
   "execution_count": null,
   "metadata": {},
   "outputs": [],
   "source": [
    "import os\n",
    "print(os.getcwd())\n",
    "import sys\n",
    "\n",
    "sys.path.insert(0,\n",
    "    os.path.join(\n",
    "        os.environ[\"PROJ_irox\"],\n",
    "        \"data\"))\n",
    "\n",
    "# #############################################################################\n",
    "from energetics.dft_energy import Element_Refs\n",
    "\n",
    "# #############################################################################\n",
    "# Gas phase molecules\n",
    "from proj_data_irox import (\n",
    "    zpe_h2o,\n",
    "    cv_h2o,\n",
    "    ts_h2o,\n",
    "\n",
    "    zpe_h2,\n",
    "    cv_h2,\n",
    "    ts_h2)\n",
    "\n",
    "# #############################################################################\n",
    "from proj_data_irox import gas_dft_references_dict\n",
    "gas_dft_refs_i = gas_dft_references_dict[500]\n",
    "\n",
    "h2o_ref = gas_dft_refs_i[\"h2o\"]\n",
    "h2_ref = gas_dft_refs_i[\"h2\"]"
   ]
  },
  {
   "cell_type": "markdown",
   "metadata": {},
   "source": [
    "# Script Inputs"
   ]
  },
  {
   "cell_type": "code",
   "execution_count": null,
   "metadata": {},
   "outputs": [],
   "source": [
    "-7.047516 * 6"
   ]
  },
  {
   "cell_type": "code",
   "execution_count": null,
   "metadata": {},
   "outputs": [],
   "source": [
    "T = 298.15\n",
    "\n",
    "# DFT Quantities\n",
    "dft_energy_dict = {\n",
    "    # FROM AL calculations at 500 eV\n",
    "    \"iro2\": -7.047516,\n",
    "    # \"iro2\": -7.047426,\n",
    "\n",
    "    \"iro3\": -6.469847,\n",
    "    # \"iro3\": -6.467450,\n",
    "    }\n",
    "\n",
    "\n",
    "# #############################################################################\n",
    "# IrO2 Experimental thermochemical data #######################################\n",
    "\n",
    "# # dh_iro2_exp = -242.672 / kjmol  # Barin\n",
    "# dh_iro2_exp = -2.515126703632689\n",
    "# # dg_iro2_exp = -188.386 / kjmol  # Barin\n",
    "# dg_iro2_exp = -1.9524900243561174\n",
    "\n",
    "from proj_data_irox import (\n",
    "    dg_iro2_exp,\n",
    "    dh_iro2_exp)\n",
    "\n",
    "# #############################################################################\n",
    "# Entropies ###################################################################\n",
    "\n",
    "# Reference for IrO2 thermochemical data\n",
    "# https://onlinelibrary.wiley.com/doi/book/10.1002/9783527619825\n",
    "# Thermochemical Data of Pure Substances, Third Edition\n",
    "\n",
    "# rutile-IrO2\n",
    "S_iro2_solid = 58.576  # J/(mol K)  # Barin\n",
    "TS_iro2_solid = 0.18098818987407367  # eV\n",
    "\n",
    "\n",
    "# Ir metal\n",
    "S_ir_metal = 35.505  # J/(mol K)  # Barin\n",
    "TS_ir_metal = 0.10969917603772607  # eV\n",
    "\n",
    "\n",
    "# Oxygen gas entropy reference\n",
    "# https://webbook.nist.gov/cgi/cbook.cgi?ID=C7782447&Mask=1\n",
    "# CODATA key values for thermodynamics\n",
    "# https://www.worldcat.org/title/codata-key-values-for-thermodynamics/oclc/18559968\n",
    "S_o2_gas = 205.2  # J/(mol K)  # CODATA thermo book\n",
    "TS_o2_gas = 0.6340921386744053  # eV"
   ]
  },
  {
   "cell_type": "markdown",
   "metadata": {},
   "source": [
    "# Gas Phase References"
   ]
  },
  {
   "cell_type": "code",
   "execution_count": null,
   "metadata": {},
   "outputs": [],
   "source": [
    "print(h2o_ref)\n",
    "h2_ref"
   ]
  },
  {
   "cell_type": "code",
   "execution_count": null,
   "metadata": {},
   "outputs": [],
   "source": [
    "# %%capture\n",
    "\n",
    "e_h2o_r = h2o_ref\n",
    "e_h2_r = h2_ref\n",
    "\n",
    "h_h2o_r = e_h2o_r + zpe_h2o + cv_h2o\n",
    "h_h2_r = e_h2_r + zpe_h2 + cv_h2\n",
    "\n",
    "g_h2o_r = h_h2o_r + ts_h2o\n",
    "g_h2_r = h_h2_r + ts_h2\n",
    "\n",
    "# #############################################################################\n",
    "Elem_Refs = Element_Refs(\n",
    "    H2O_dict={\n",
    "        \"electronic_e\": e_h2o_r, \"enthalpy_e\": h_h2o_r, \"gibbs_e\": g_h2o_r},\n",
    "    H2_dict={\n",
    "        \"electronic_e\": e_h2_r, \"enthalpy_e\": h_h2_r, \"gibbs_e\": g_h2_r},\n",
    "    oxygen_ref=\"O2\",\n",
    "    hydrogen_ref=\"H2\")\n",
    "\n",
    "oxy_ref, hyd_ref = Elem_Refs.calc_ref_energies()"
   ]
  },
  {
   "cell_type": "code",
   "execution_count": null,
   "metadata": {},
   "outputs": [],
   "source": [
    "oxy_ref\n",
    "\n",
    "# e_h2o_r\n",
    "# h_h2o_r"
   ]
  },
  {
   "cell_type": "code",
   "execution_count": null,
   "metadata": {},
   "outputs": [],
   "source": [
    "# assert False"
   ]
  },
  {
   "cell_type": "markdown",
   "metadata": {},
   "source": [
    "# Fitting the Ir metal reference to the experimental formation energy of IrO2"
   ]
  },
  {
   "cell_type": "code",
   "execution_count": null,
   "metadata": {},
   "outputs": [],
   "source": [
    "e_iro2_pa = dft_energy_dict[\"iro2\"]\n",
    "e_iro2 = 3 * e_iro2_pa\n",
    "\n",
    "PV_i = 0.\n",
    "h_iro2 = e_iro2 + PV_i\n",
    "\n",
    "oxy_ref_h = oxy_ref.enthalpy_e\n",
    "\n",
    "h_ir_m_fit = h_iro2 - (2 * oxy_ref_h) - dh_iro2_exp  # fit to exp dH\n",
    "\n",
    "dh_iro2 = h_iro2 - (2 * oxy_ref.enthalpy_e + h_ir_m_fit)"
   ]
  },
  {
   "cell_type": "code",
   "execution_count": null,
   "metadata": {},
   "outputs": [],
   "source": [
    "e_iro3_pa = dft_energy_dict[\"iro3\"]\n",
    "e_iro3 = 4 * e_iro3_pa\n",
    "\n",
    "PV_i = 0.\n",
    "h_iro3 = e_iro3 + PV_i\n",
    "\n",
    "dh_iro3 = h_iro3 - (3 * oxy_ref.enthalpy_e + h_ir_m_fit)"
   ]
  },
  {
   "cell_type": "code",
   "execution_count": null,
   "metadata": {},
   "outputs": [],
   "source": [
    "h_iro3\n",
    "\n",
    "print(4 * dft_energy_dict[\"iro3\"])\n",
    "\n",
    "# -6.442159*4"
   ]
  },
  {
   "cell_type": "code",
   "execution_count": null,
   "metadata": {},
   "outputs": [],
   "source": [
    "print(dft_energy_dict[\"iro3\"])\n",
    "# -0.650702238408173\n",
    "\n",
    "-6.46984746"
   ]
  },
  {
   "cell_type": "markdown",
   "metadata": {},
   "source": [
    "# Calculate Gibbs Free Energy"
   ]
  },
  {
   "cell_type": "code",
   "execution_count": null,
   "metadata": {},
   "outputs": [],
   "source": [
    "TdS_iro2 = TS_iro2_solid - TS_ir_metal - TS_o2_gas\n",
    "\n",
    "# Alternate calculate of TdS for IrO2\n",
    "# TdS_iro2 = dh_iro2_exp - dg_iro2_exp\n",
    "\n",
    "dg_iro2 = dh_iro2 - TdS_iro2"
   ]
  },
  {
   "cell_type": "markdown",
   "metadata": {},
   "source": [
    "# Calculating Gibbs free energy of IrO3 polymorph"
   ]
  },
  {
   "cell_type": "code",
   "execution_count": null,
   "metadata": {},
   "outputs": [],
   "source": [
    "# Entropy for WOx from Barrin tables\n",
    "# WO3: 75.898\n",
    "# WO2: 50.543\n",
    "\n",
    "factor = 75.898 / 50.543\n",
    "\n",
    "# adjusted to reflect more O in IrO3 vs IrO2\n",
    "TdS_iro3 = factor * TS_iro2_solid - TS_ir_metal - 3 / 2 * TS_o2_gas"
   ]
  },
  {
   "cell_type": "code",
   "execution_count": null,
   "metadata": {},
   "outputs": [],
   "source": [
    "e_iro3_pa = dft_energy_dict[\"iro3\"]\n",
    "e_iro3 = 4 * e_iro3_pa\n",
    "\n",
    "PV_i = 0.\n",
    "h_iro3 = e_iro3 + PV_i\n",
    "\n",
    "dh_iro3 = h_iro3 - (3 * oxy_ref.enthalpy_e + h_ir_m_fit)\n",
    "dg_iro3 = dh_iro3 - TdS_iro3"
   ]
  },
  {
   "cell_type": "raw",
   "metadata": {},
   "source": [
    "\n",
    "\n",
    "\n",
    "\n",
    "\n",
    "\n",
    "\n",
    "\n"
   ]
  },
  {
   "cell_type": "code",
   "execution_count": null,
   "metadata": {},
   "outputs": [],
   "source": [
    "print(40 * \"-\")\n",
    "print(\"O ref:\", oxy_ref.enthalpy_e)\n",
    "print(\"Ir ref:\", h_ir_m_fit)\n",
    "\n",
    "print(40 * \"-\")\n",
    "print(\"TdS_iro2:\", TdS_iro2)\n",
    "print(\"TdS_iro3:\", TdS_iro3)\n",
    "\n",
    "print(40 * \"-\")\n",
    "print(\"dh_iro2:\", dh_iro2)\n",
    "print(\"dh_iro3:\", dh_iro3)\n",
    "print(\"\")\n",
    "print(\"dg_iro2:\", dg_iro2)\n",
    "print(\"dg_iro3:\", dg_iro3)\n",
    "print(\"\")\n",
    "print(\"dh_iro2 - dh_iro3:\", dh_iro2 - dh_iro3)\n",
    "print(\"dg_iro2 - dg_iro3:\", dg_iro2 - dg_iro3)\n",
    "\n",
    "print(40 * \"-\")"
   ]
  },
  {
   "cell_type": "raw",
   "metadata": {},
   "source": [
    "\n",
    "\n"
   ]
  },
  {
   "cell_type": "code",
   "execution_count": null,
   "metadata": {},
   "outputs": [],
   "source": [
    "TdS_iro3\n",
    "\n",
    "-1.8137510174978528 / 4\n",
    "# -2.6028071136326894 / 4\n",
    "\n",
    "# -2.6028071136326894 / 4\n",
    "\n",
    "(4 * -0.650702238408173) - TdS_iro3\n",
    "\n",
    "-0.471408668408173 * 4 - TdS_iro3"
   ]
  },
  {
   "cell_type": "markdown",
   "metadata": {},
   "source": [
    "# Collecting variables to save"
   ]
  },
  {
   "cell_type": "code",
   "execution_count": null,
   "metadata": {},
   "outputs": [],
   "source": [
    "TdS_iro2\n",
    "# TdS_iro3"
   ]
  },
  {
   "cell_type": "code",
   "execution_count": null,
   "metadata": {},
   "outputs": [],
   "source": [
    "# assert False"
   ]
  },
  {
   "cell_type": "code",
   "execution_count": null,
   "metadata": {},
   "outputs": [],
   "source": [
    "out_dict = dict(\n",
    "    o_ref=oxy_ref.enthalpy_e,\n",
    "    ir_ref=h_ir_m_fit,\n",
    "    TdS_iro2=TdS_iro2,\n",
    "    TdS_iro3=TdS_iro3,\n",
    "\n",
    "    # \"\": ,\n",
    "    )\n",
    "\n",
    "# #######################################################################\n",
    "import os; import json\n",
    "directory = \"out_data\"\n",
    "if not os.path.exists(directory): os.makedirs(directory)\n",
    "with open(os.path.join(directory, \"data.json\"), \"w\") as outfile:\n",
    "    json.dump(out_dict, outfile, indent=2)\n",
    "# #######################################################################"
   ]
  },
  {
   "cell_type": "code",
   "execution_count": null,
   "metadata": {},
   "outputs": [],
   "source": [
    "# /mnt/c/Users/raulf2012/Dropbox/01_norskov/00_git_repos/PROJ_IrOx_Active_Learning_OER\n",
    "# workflow/energy_treatment_deriv/calc_references\n",
    "\n",
    "os.path.join(\n",
    "    os.environ[\"PROJ_irox\"],\n",
    "    \"workflow/energy_treatment_deriv/calc_references\",\n",
    "    \"out_data/data.json\"\n",
    "    )"
   ]
  },
  {
   "cell_type": "code",
   "execution_count": null,
   "metadata": {},
   "outputs": [],
   "source": [
    "# #######################################################################\n",
    "import json\n",
    "data_path = os.path.join(\n",
    "    os.environ[\"PROJ_irox\"],\n",
    "    \"workflow/energy_treatment_deriv/calc_references\",\n",
    "    \"out_data/data.json\",\n",
    "    )\n",
    "with open(data_path, \"r\") as fle:\n",
    "    data = json.load(fle)\n",
    "# #######################################################################"
   ]
  },
  {
   "cell_type": "code",
   "execution_count": 1,
   "metadata": {},
   "outputs": [],
   "source": [
    "# data"
   ]
  },
  {
   "cell_type": "code",
   "execution_count": 2,
   "metadata": {},
   "outputs": [
    {
     "name": "stdout",
     "output_type": "stream",
     "text": [
      "# # # # # # # # # # # # # # # # # # # # # # # # # # # # # # # # # # # # # # # # \n",
      "All done!\n"
     ]
    },
    {
     "ename": "AssertionError",
     "evalue": "",
     "output_type": "error",
     "traceback": [
      "\u001b[0;31m---------------------------------------------------------------------------\u001b[0m",
      "\u001b[0;31mAssertionError\u001b[0m                            Traceback (most recent call last)",
      "\u001b[0;32m<ipython-input-2-7808a1103591>\u001b[0m in \u001b[0;36m<module>\u001b[0;34m\u001b[0m\n\u001b[1;32m      1\u001b[0m \u001b[0mprint\u001b[0m\u001b[0;34m(\u001b[0m\u001b[0;36m20\u001b[0m \u001b[0;34m*\u001b[0m \u001b[0;34m\"# # \"\u001b[0m\u001b[0;34m)\u001b[0m\u001b[0;34m\u001b[0m\u001b[0;34m\u001b[0m\u001b[0m\n\u001b[1;32m      2\u001b[0m \u001b[0mprint\u001b[0m\u001b[0;34m(\u001b[0m\u001b[0;34m\"All done!\"\u001b[0m\u001b[0;34m)\u001b[0m\u001b[0;34m\u001b[0m\u001b[0;34m\u001b[0m\u001b[0m\n\u001b[0;32m----> 3\u001b[0;31m \u001b[0;32massert\u001b[0m \u001b[0;32mFalse\u001b[0m\u001b[0;34m\u001b[0m\u001b[0;34m\u001b[0m\u001b[0m\n\u001b[0m",
      "\u001b[0;31mAssertionError\u001b[0m: "
     ]
    }
   ],
   "source": [
    "print(20 * \"# # \")\n",
    "print(\"All done!\")\n",
    "assert False"
   ]
  }
 ],
 "metadata": {
  "kernelspec": {
   "display_name": "Python [conda env:PROJ_IrOx_Active_Learning_OER]",
   "language": "python",
   "name": "conda-env-PROJ_IrOx_Active_Learning_OER-py"
  },
  "language_info": {
   "codemirror_mode": {
    "name": "ipython",
    "version": 3
   },
   "file_extension": ".py",
   "mimetype": "text/x-python",
   "name": "python",
   "nbconvert_exporter": "python",
   "pygments_lexer": "ipython3",
   "version": "3.6.7"
  }
 },
 "nbformat": 4,
 "nbformat_minor": 4
}
