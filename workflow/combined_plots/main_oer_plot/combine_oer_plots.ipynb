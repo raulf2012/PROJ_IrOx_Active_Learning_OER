{
 "cells": [
  {
   "cell_type": "markdown",
   "metadata": {},
   "source": [
    "# Import Modules"
   ],
   "execution_count": null,
   "outputs": []
  },
  {
   "cell_type": "code",
   "execution_count": null,
   "metadata": {},
   "outputs": [],
   "source": [
    "import os\n",
    "\n",
    "# #############################################################################\n",
    "from svgutils.compose import Figure, Panel, SVG, Text, Line\n",
    "\n",
    "# #############################################################################\n",
    "from misc_modules.image_processing import convert_pdf_to_svg\n",
    "\n",
    "# #############################################################################\n",
    "from IPython.display import SVG as iSVG\n",
    "from IPython.display import display"
   ]
  },
  {
   "cell_type": "markdown",
   "metadata": {},
   "source": [
    "## File Paths"
   ],
   "execution_count": null,
   "outputs": []
  },
  {
   "cell_type": "code",
   "execution_count": null,
   "metadata": {},
   "outputs": [],
   "source": [
    "figure_file_paths = []\n",
    "\n",
    "# #############################################################################\n",
    "surf_pourb_plot_path = os.path.join(\n",
    "    os.environ[\"PROJ_irox\"],\n",
    "    \"workflow/01_surface_energies/02_surface_e_pourb_plot/out_plot\",\n",
    "    \"surf_e_pourbaix_irox__regular.pdf\")\n",
    "figure_file_paths.append(surf_pourb_plot_path)\n",
    "\n",
    "# #############################################################################\n",
    "oer_volc_path = os.path.join(\n",
    "    os.environ[\"PROJ_irox\"],\n",
    "    \"workflow/02_oer_volc/out_plot\",\n",
    "    \"pl_irox_volcano_plotly_default_ooh.pdf\",\n",
    "#     \"TEMP_878.pdf\",\n",
    "    )\n",
    "figure_file_paths.append(oer_volc_path)\n",
    "\n",
    "# #############################################################################\n",
    "subplot_c = os.path.join(\n",
    "    \"/home/raulf2012/Dropbox/01_norskov/01_projects\",\n",
    "    \"04_irox_oer_orr/00_figures/00_combined_1d_volcano_surf_pourb/subplot_c_structure_vis\",\n",
    "    \"00_subplot_c__v2.pdf\",\n",
    "#     \"00_subplot_c__v1.svg\",\n",
    "#     \"00_subplot_c__v0.svg\",\n",
    "    )\n",
    "figure_file_paths.append(subplot_c)"
   ]
  },
  {
   "cell_type": "markdown",
   "metadata": {},
   "source": [
    "# Converting pdf to svg "
   ],
   "execution_count": null,
   "outputs": []
  },
  {
   "cell_type": "code",
   "execution_count": null,
   "metadata": {},
   "outputs": [],
   "source": [
    "directory = \"out_data/converted_svgs\"\n",
    "if not os.path.exists(directory):\n",
    "    os.makedirs(directory)\n",
    "\n",
    "out_dir = directory\n",
    "pdf_figure_file_paths = []\n",
    "for figure_path_i in figure_file_paths:\n",
    "    pdf_figure_path_i = convert_pdf_to_svg(figure_path_i, out_dir)\n",
    "    pdf_figure_file_paths.append(pdf_figure_path_i)"
   ]
  },
  {
   "cell_type": "markdown",
   "metadata": {},
   "source": [
    "# Creating Figure Object"
   ],
   "execution_count": null,
   "outputs": []
  },
  {
   "cell_type": "code",
   "execution_count": null,
   "metadata": {},
   "outputs": [],
   "source": [
    "fig = Figure(\n",
    "    \"20cm\", \"15cm\",\n",
    "    Panel(\n",
    "        SVG(pdf_figure_file_paths[0]),\n",
    "        ).move(0, 0),\n",
    "    Panel(\n",
    "        SVG(pdf_figure_file_paths[1]),\n",
    "        ).move(300, -39.609448819368 + 0.007999999999981355),\n",
    "    Panel(\n",
    "        SVG(pdf_figure_file_paths[2]),\n",
    "#         ).move(330, 290),\n",
    "#         ).move(330, 290),\n",
    "        ).move(310 - 2.948999882 + 0.09991455078, 270 + 2.344163895),\n",
    "    )"
   ]
  },
  {
   "cell_type": "code",
   "execution_count": null,
   "metadata": {},
   "outputs": [],
   "source": [
    "fig.save(\"out_data/fig_final_compose.svg\")\n",
    "# display(iSVG(\"fig_final_compose.svg\"))"
   ]
  },
  {
   "cell_type": "code",
   "execution_count": null,
   "metadata": {},
   "outputs": [],
   "source": [
    "os.system(\"google-chrome out_data/fig_final_compose.svg\")"
   ]
  }
 ],
 "metadata": {
  "jupytext": {
   "formats": "ipynb,py:light"
  },
  "kernelspec": {
   "display_name": "Python 3",
   "language": "python",
   "name": "python3"
  },
  "language_info": {
   "codemirror_mode": {
    "name": "ipython",
    "version": 3
   },
   "file_extension": ".py",
   "mimetype": "text/x-python",
   "name": "python",
   "nbconvert_exporter": "python",
   "pygments_lexer": "ipython3",
   "version": "3.7.3"
  }
 },
 "nbformat": 4,
 "nbformat_minor": 4
}
