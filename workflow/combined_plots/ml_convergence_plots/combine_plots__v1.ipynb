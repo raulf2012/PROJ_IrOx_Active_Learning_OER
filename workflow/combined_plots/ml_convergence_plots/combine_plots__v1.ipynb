{
 "cells": [
  {
   "cell_type": "markdown",
   "metadata": {},
   "source": [
    "# Import Modules"
   ],
   "execution_count": null,
   "outputs": []
  },
  {
   "cell_type": "code",
   "execution_count": null,
   "metadata": {},
   "outputs": [],
   "source": [
    "import os\n",
    "\n",
    "# #############################################################################\n",
    "from svgutils.compose import Figure, Panel, SVG, Text, Line\n",
    "\n",
    "# #############################################################################\n",
    "from misc_modules.image_processing import convert_pdf_to_svg\n",
    "\n",
    "# #############################################################################\n",
    "from IPython.display import SVG as iSVG\n",
    "from IPython.display import display"
   ]
  },
  {
   "cell_type": "markdown",
   "metadata": {},
   "source": [
    "## File Paths"
   ],
   "execution_count": null,
   "outputs": []
  },
  {
   "cell_type": "code",
   "execution_count": null,
   "metadata": {},
   "outputs": [],
   "source": [
    "figure_file_paths = []\n",
    "figure_file_paths = dict()\n",
    "\n",
    "inset_plot_path = os.path.join(\n",
    "    os.environ[\"PROJ_irox\"],\n",
    "    \"workflow/ml_modelling/00_ml_workflow\",\n",
    "    \"190611_new_workflow/04_final_ml_plots/out_plot\",\n",
    "    \"zoomed_in_plot.pdf\",\n",
    "\n",
    "    # \"irox_ml_plot_inset.pdf\",\n",
    "    )\n",
    "\n",
    "# /home/raulf2012/Dropbox/01_norskov/00_git_repos/PROJ_IrOx_Active_Learning_OER/workflow/ml_modelling/00_ml_workflow/190611_new_workflow\n",
    "# 04_final_ml_plots/out_plot/zoomed_in_plot.pdf\n",
    "\n",
    "# figure_file_paths.append(inset_plot_path)\n",
    "figure_file_paths[\"inset_plot\"] = inset_plot_path\n",
    "\n",
    "ml_conv_plot_path = os.path.join(\n",
    "    os.environ[\"PROJ_irox\"],\n",
    "    \"workflow/ml_modelling/00_ml_workflow\",\n",
    "    \"190611_new_workflow/04_final_ml_plots/out_plot\",\n",
    "    \"main_plot.pdf\",\n",
    "\n",
    "    # \"irox_ml_plot.pdf\",\n",
    "    )\n",
    "# /home/raulf2012/Dropbox/01_norskov/00_git_repos/PROJ_IrOx_Active_Learning_OER/workflow/ml_modelling/00_ml_workflow/190611_new_workflow/04_final_ml_plots/out_plot/main_plot.pdf\n",
    "\n",
    "# figure_file_paths.append(ml_conv_plot_path)\n",
    "figure_file_paths[\"ml_conv_plot\"] = ml_conv_plot_path"
   ]
  },
  {
   "cell_type": "markdown",
   "metadata": {},
   "source": [
    "# Converting pdf to svg "
   ],
   "execution_count": null,
   "outputs": []
  },
  {
   "cell_type": "code",
   "execution_count": null,
   "metadata": {},
   "outputs": [],
   "source": [
    "directory = \"out_data/converted_svgs\"\n",
    "if not os.path.exists(directory):\n",
    "    os.makedirs(directory)\n",
    "\n",
    "out_dir = directory\n",
    "pdf_figure_file_paths = dict()\n",
    "for key, figure_path_i in figure_file_paths.items():\n",
    "\n",
    "    pdf_figure_path_i = convert_pdf_to_svg(\n",
    "        figure_path_i,\n",
    "        out_dir,\n",
    "        converter=\"cairo\",\n",
    "        )\n",
    "\n",
    "    pdf_figure_file_paths[key] = pdf_figure_path_i"
   ]
  },
  {
   "cell_type": "markdown",
   "metadata": {},
   "source": [
    "# Creating Figure Object"
   ],
   "execution_count": null,
   "outputs": []
  },
  {
   "cell_type": "code",
   "execution_count": null,
   "metadata": {},
   "outputs": [],
   "source": [
    "fig = Figure(\n",
    "    \"18cm\", \"15cm\",\n",
    "    Panel(\n",
    "        SVG(pdf_figure_file_paths[\"ml_conv_plot\"]),\n",
    "#         ).move(300, -39.609448819368 + 0.007999999999981355),\n",
    "        ).move(0., 0.),\n",
    "    Panel(\n",
    "        SVG(pdf_figure_file_paths[\"inset_plot\"]),\n",
    "#         ).move(60., 10.),\n",
    "        ).move(50., 10.),\n",
    "    )"
   ]
  },
  {
   "cell_type": "code",
   "execution_count": null,
   "metadata": {},
   "outputs": [],
   "source": [
    "pdf_figure_file_paths[\"inset_plot\"]\n",
    "pdf_figure_file_paths[\"ml_conv_plot\"]"
   ]
  },
  {
   "cell_type": "code",
   "execution_count": null,
   "metadata": {},
   "outputs": [],
   "source": [
    "fig.save(\"out_data/fig_final_compose.svg\")\n",
    "\n",
    "display(iSVG(\"out_data/fig_final_compose.svg\"))"
   ]
  },
  {
   "cell_type": "code",
   "execution_count": null,
   "metadata": {},
   "outputs": [],
   "source": [
    "os.system(\"google-chrome out_data/fig_final_compose.svg &\")"
   ]
  }
 ],
 "metadata": {
  "kernelspec": {
   "display_name": "Python [conda env:PROJ_IrOx_Active_Learning_OER]",
   "language": "python",
   "name": "conda-env-PROJ_IrOx_Active_Learning_OER-py"
  },
  "language_info": {
   "codemirror_mode": {
    "name": "ipython",
    "version": 3
   },
   "file_extension": ".py",
   "mimetype": "text/x-python",
   "name": "python",
   "nbconvert_exporter": "python",
   "pygments_lexer": "ipython3",
   "version": "3.6.9"
  }
 },
 "nbformat": 4,
 "nbformat_minor": 4
}
