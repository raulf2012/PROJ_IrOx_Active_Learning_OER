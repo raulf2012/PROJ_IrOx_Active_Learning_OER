{
 "cells": [
  {
   "cell_type": "markdown",
   "metadata": {},
   "source": [
    "# Import Modules"
   ],
   "execution_count": null,
   "outputs": []
  },
  {
   "cell_type": "code",
   "execution_count": null,
   "metadata": {},
   "outputs": [],
   "source": [
    "import os\n",
    "\n",
    "from svgutils.compose import Figure, Panel, SVG, Text, Line\n",
    "\n",
    "from IPython.display import SVG as iSVG\n",
    "from IPython.display import display"
   ]
  },
  {
   "cell_type": "markdown",
   "metadata": {},
   "source": [
    "# Script Inputs"
   ],
   "execution_count": null,
   "outputs": []
  },
  {
   "cell_type": "code",
   "execution_count": null,
   "metadata": {},
   "outputs": [],
   "source": [
    "x_move_0 = (-15.) + (-10.930)\n",
    "\n",
    "guide_line_widths = 3"
   ]
  },
  {
   "cell_type": "markdown",
   "metadata": {},
   "source": [
    "## File Paths"
   ],
   "execution_count": null,
   "outputs": []
  },
  {
   "cell_type": "code",
   "execution_count": null,
   "metadata": {},
   "outputs": [],
   "source": [
    "# /home/raulf2012/Dropbox/01_norskov/00_git_repos/PROJ_IrOx_Active_Learning_OER\n",
    "ml_plot_path = \"workflow/ml_modelling/ml_convergence_plots/out_plot\"\n",
    "\n",
    "file_0 = os.path.join(\n",
    "    os.environ[\"PROJ_irox\"],\n",
    "    ml_plot_path,\n",
    "#     \"workflow/ml_modelling/ml_convergence_plots/images\",\n",
    "    \"iro2_ml_convergence_gen_0.svg\",\n",
    "    )\n",
    "\n",
    "file_1 = os.path.join(\n",
    "    os.environ[\"PROJ_irox\"],\n",
    "    ml_plot_path,\n",
    "#     \"workflow/ml_modelling/ml_convergence_plots/images\",\n",
    "    \"iro2_ml_convergence_gen_1.svg\",\n",
    "    )\n",
    "\n",
    "\n",
    "inset_plot_0 = os.path.join(\n",
    "    os.environ[\"PROJ_irox\"],\n",
    "    ml_plot_path,\n",
    "#     \"workflow/ml_modelling/ml_convergence_plots/images\",\n",
    "    \"iro2_ml_convergence_gen_0__zoomed_in.svg\",\n",
    "    )\n",
    "\n",
    "inset_plot_1 = os.path.join(\n",
    "    os.environ[\"PROJ_irox\"],\n",
    "    ml_plot_path,\n",
    "#     \"workflow/ml_modelling/ml_convergence_plots/images\",\n",
    "    \"iro2_ml_convergence_gen_1__zoomed_in.svg\",\n",
    "    )\n",
    "\n",
    "rest_of_plot = os.path.join(\n",
    "    os.environ[\"proj_2\"],\n",
    "    \"04_irox_oer_orr/00_figures/ml_convergence/iro2\",\n",
    "    \"00_master_plot__ml_conv_v1__temp.svg\",\n",
    "    )"
   ]
  },
  {
   "cell_type": "markdown",
   "metadata": {},
   "source": [
    "# Creating Figure Object"
   ],
   "execution_count": null,
   "outputs": []
  },
  {
   "cell_type": "code",
   "execution_count": null,
   "metadata": {},
   "outputs": [],
   "source": [
    "fig = Figure(\n",
    "    \"18cm\", \"12cm\",\n",
    "\n",
    "    Panel(\n",
    "        SVG(rest_of_plot),\n",
    "        ).move(0, 0).scale(3.785),\n",
    "\n",
    "#         ).move(0, 0).scale(3.77),\n",
    "#         ).move(0, 0).scale(3.75),\n",
    "\n",
    "    Panel(\n",
    "\n",
    "        SVG(file_0),\n",
    "\n",
    "        Panel(\n",
    "            SVG(inset_plot_0),\n",
    "            ).move(5, 5),\n",
    "\n",
    "        ).move(\n",
    "            x_move_0, -30 + (-10.664),\n",
    "            ),\n",
    "    Panel(\n",
    "        SVG(file_1),\n",
    "\n",
    "        Panel(\n",
    "            SVG(inset_plot_1),\n",
    "            ).move(5, 5),        \n",
    "\n",
    "        ).move(\n",
    "            x_move_0, 200 - 30.598,\n",
    "            ),\n",
    "\n",
    "#     Line([[0, 0], [680.315, 0]], color=\"red\", width=guide_line_widths),\n",
    "#     Line([[680.315, 0], [680.315, 453.543]], color=\"red\", width=guide_line_widths),\n",
    "#     Line([[0, 453.543], [680.315, 453.543]], color=\"red\", width=guide_line_widths),\n",
    "#     Line([[0, 0], [0, 453.543]], color=\"red\", width=guide_line_widths),\n",
    "\n",
    "    )\n",
    "\n",
    "fig.save(\"fig_final_compose.svg\")\n",
    "\n",
    "# display(iSVG(\"fig_final_compose.svg\")) # Uncomment to display"
   ]
  },
  {
   "cell_type": "raw",
   "metadata": {},
   "source": [
    "\n",
    "\n",
    "\n",
    "\n",
    "\n",
    "\n",
    "\n",
    "\n"
   ],
   "execution_count": null,
   "outputs": []
  },
  {
   "cell_type": "code",
   "execution_count": null,
   "metadata": {
    "jupyter": {}
   },
   "outputs": [],
   "source": [
    "# class Line(Element):\n",
    "#     \"\"\"Line element connecting given points.\n",
    "\n",
    "#     Parameters\n",
    "#     ----------\n",
    "#     points : sequence of tuples\n",
    "#         List of point x,y coordinates.\n",
    "#     width : float, optional\n",
    "#         Line width.\n",
    "#     color : str, optional\n",
    "#         Line color. Any of the HTML/CSS color definitions are allowed.\n",
    "#     \"\"\"\n",
    "#     def __init__(self, points, width=1, color='black'):\n",
    "#         element = _transform.LineElement(points, width=width, color=color)\n",
    "#         Element.__init__(self, element.root)\n",
    "\n",
    "# import svgutils\n",
    "# svgutils\n",
    "\n",
    "# display(iSVG(rest_of_plot))\n",
    "\n",
    "# rest_of_plot\n",
    "\n",
    "\n",
    "# C:\\Users\\raul_desktop\\Dropbox\\01_norskov\\01_projects\\04_irox_oer_orr\\00_figures\\ml_convergence\\iro2\n",
    "\n",
    "# Panel.move?\n",
    "\n",
    "\n",
    "# /media/sf_Dropbox/01_norskov/00_projects/04_irox_surfaces_oer/\n",
    "# workflow/ml_modelling/ml_convergence_plots/images\n",
    "# file_0 = \"iro2_ml_convergence_gen_0.svg\"\n",
    "# file_1 = \"iro2_ml_convergence_gen_1.svg\""
   ]
  },
  {
   "cell_type": "code",
   "execution_count": null,
   "metadata": {
    "jupyter": {}
   },
   "outputs": [],
   "source": [
    "# fig = Figure(\n",
    "#     \"18cm\", \"12cm\",\n",
    "\n",
    "#     Panel(\n",
    "#         SVG(rest_of_plot),\n",
    "#         ).move(1, 1).scale(3.7),\n",
    "\n",
    "#     Panel(\n",
    "\n",
    "#         SVG(file_0),\n",
    "\n",
    "#         Panel(\n",
    "#             SVG(inset_plot_0),\n",
    "#             ).move(5, 5),\n",
    "\n",
    "#         ).move(\n",
    "#             x_move_0, -30 + (-10.664),\n",
    "#             ),\n",
    "#     Panel(\n",
    "#         SVG(file_1),\n",
    "\n",
    "#         Panel(\n",
    "#             SVG(inset_plot_1),\n",
    "#             ).move(5, 5),        \n",
    "\n",
    "#         ).move(\n",
    "#             x_move_0, 200 - 30.598,\n",
    "#             ),\n",
    "\n",
    "\n",
    "#     )\n",
    "\n",
    "# fig.save(\"fig_final_compose.svg\")\n",
    "# display(iSVG(\"fig_final_compose.svg\"))"
   ]
  }
 ],
 "metadata": {
  "kernelspec": {
   "display_name": "Python 3",
   "language": "python",
   "name": "python3"
  },
  "language_info": {
   "codemirror_mode": {
    "name": "ipython",
    "version": 3
   },
   "file_extension": ".py",
   "mimetype": "text/x-python",
   "name": "python",
   "nbconvert_exporter": "python",
   "pygments_lexer": "ipython3",
   "version": "3.7.3"
  }
 },
 "nbformat": 4,
 "nbformat_minor": 4
}
