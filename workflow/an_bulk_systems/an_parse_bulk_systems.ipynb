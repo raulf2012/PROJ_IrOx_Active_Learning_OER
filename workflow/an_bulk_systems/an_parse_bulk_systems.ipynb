{
 "cells": [
  {
   "cell_type": "code",
   "execution_count": 1,
   "metadata": {},
   "outputs": [],
   "source": [
    "from ase import io"
   ]
  },
  {
   "cell_type": "code",
   "execution_count": 2,
   "metadata": {},
   "outputs": [],
   "source": [
    "# .\n",
    "# ├── a_iro3\n",
    "# │   └── _2\n",
    "# ├── b_iro3\n",
    "# │   └── _3\n",
    "# └── r_iro2\n",
    "#     └── _1\n",
    "\n",
    "#     \"IrO2\": IrO2_ave_regressed_bulk_e,\n",
    "#     \"IrO3\": IrO3_ave_regressed_bulk_e,\n",
    "#     \"IrO3_rutile-like\": IrO3_rutile_like_ave_regressed_bulk_e,\n",
    "#     \"IrO3_battery\": IrO3_battery_bulk_e_dft,\n",
    "\n",
    "\n",
    "bulk_atoms_dict = {\n",
    "    \"IrO3_rutile-like\": io.read(\"r_iro3/_1/OUTCAR\"),\n",
    "    \"IrO3\": io.read(\"a_iro3/_2/OUTCAR\"),\n",
    "    \"IrO3_battery\": io.read(\"b_iro3/_3/OUTCAR\"),\n",
    "    \"IrO2\": io.read(\"r_iro2/_1/OUTCAR\"),\n",
    "    }"
   ]
  },
  {
   "cell_type": "code",
   "execution_count": 9,
   "metadata": {},
   "outputs": [],
   "source": [
    "import pickle\n",
    "with open(\"bulk_systems.pickle\", \"wb\") as fle:\n",
    "    pickle.dump(bulk_atoms_dict, fle)"
   ]
  },
  {
   "cell_type": "code",
   "execution_count": 8,
   "metadata": {},
   "outputs": [],
   "source": [
    "# for key, val in bulk_atoms_dict.items():\n",
    "#     print(\"SIDDFJ\")\n",
    "#     print(val.get_potential_energy())"
   ]
  }
 ],
 "metadata": {
  "kernelspec": {
   "display_name": "Python 3",
   "language": "python",
   "name": "python3"
  },
  "language_info": {
   "codemirror_mode": {
    "name": "ipython",
    "version": 3
   },
   "file_extension": ".py",
   "mimetype": "text/x-python",
   "name": "python",
   "nbconvert_exporter": "python",
   "pygments_lexer": "ipython3",
   "version": "3.7.3"
  }
 },
 "nbformat": 4,
 "nbformat_minor": 4
}
