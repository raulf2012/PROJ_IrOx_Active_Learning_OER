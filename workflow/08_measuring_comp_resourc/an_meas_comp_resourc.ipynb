{
 "cells": [
  {
   "cell_type": "markdown",
   "metadata": {},
   "source": [
    "# Figuring out how many computational resources I've used\n",
    "\n",
    "Computational resources are counted by parsing the OUTCAR file and searching for the\n",
    "line with 'Total CPU time used'."
   ],
   "execution_count": null,
   "outputs": []
  },
  {
   "cell_type": "markdown",
   "metadata": {},
   "source": [
    "# Import Modules"
   ],
   "execution_count": null,
   "outputs": []
  },
  {
   "cell_type": "code",
   "execution_count": null,
   "metadata": {},
   "outputs": [],
   "source": [
    "%%capture\n",
    "%load_ext autoreload\n",
    "%autoreload 2"
   ]
  },
  {
   "cell_type": "code",
   "execution_count": null,
   "metadata": {},
   "outputs": [],
   "source": [
    "import sys\n",
    "import os\n",
    "\n",
    "sys.path.insert(\n",
    "    0,\n",
    "    os.path.join(\n",
    "        os.environ[\"PROJ_irox\"],\n",
    "        \"scripts\",\n",
    "        ),\n",
    "    )\n",
    "\n",
    "sys.path.insert(\n",
    "    0,\n",
    "    os.path.join(\n",
    "        os.environ[\"PROJ_irox\"],\n",
    "        \"workflow/an_analysis_dir\",\n",
    "        ),\n",
    "    )\n",
    "\n",
    "sys.path.insert(\n",
    "    0,\n",
    "    os.path.join(\n",
    "        os.environ[\"PROJ_irox\"],\n",
    "        \"workflow/data\",\n",
    "        ),\n",
    "    )\n",
    "\n",
    "import pandas as pd\n",
    "pd.set_option(\"display.max_columns\", None)\n",
    "pd.set_option('display.max_rows', None)\n",
    "\n",
    "from ase.visualize import view\n",
    "\n",
    "from Pourbaix_simple_generic import plot_Pourbaix\n",
    "from an_data_processing import load_df\n",
    "from ase_modules.ase_methods import create_species_element_dict"
   ]
  },
  {
   "cell_type": "markdown",
   "metadata": {},
   "source": [
    "# Read/Process DataFrame"
   ],
   "execution_count": null,
   "outputs": []
  },
  {
   "cell_type": "code",
   "execution_count": null,
   "metadata": {},
   "outputs": [],
   "source": [
    "    # /mnt/c/Users/raulf/Dropbox/01_acad_folder/01_grad_school/01_norskov/04_comp_clusters/02_DATA/04_IrOx_surfaces_OER\n",
    "\n",
    "data_dir = os.path.join(\n",
    "os.environ[\"dropbox\"],\n",
    "\"01_acad_folder/01_grad_school/01_norskov/04_comp_clusters/02_DATA/04_IrOx_surfaces_OER\",\n",
    ")"
   ]
  },
  {
   "cell_type": "code",
   "execution_count": null,
   "metadata": {},
   "outputs": [],
   "source": [
    "df_master = load_df(\n",
    "    from_file=False,\n",
    "    \n",
    "    root_dir=\"../data\",\n",
    "    data_dir=\"../../data\",\n",
    "    file_name=\"df_master.pickle\",\n",
    "    process_df=False,\n",
    "    filter_early_revisions=False,\n",
    "    )"
   ]
  },
  {
   "cell_type": "code",
   "execution_count": null,
   "metadata": {},
   "outputs": [],
   "source": [
    "df_master"
   ]
  },
  {
   "cell_type": "code",
   "execution_count": null,
   "metadata": {},
   "outputs": [],
   "source": [
    "len(df_master)"
   ]
  },
  {
   "cell_type": "code",
   "execution_count": null,
   "metadata": {},
   "outputs": [],
   "source": [
    "2 + 2"
   ]
  },
  {
   "cell_type": "code",
   "execution_count": null,
   "metadata": {},
   "outputs": [],
   "source": [
    "def parse_cpu_time(row_i):\n",
    "    outcar_list = row_i.outcar\n",
    "    search_lines = [i for i in outcar_list if \"Total CPU time used\" in i]\n",
    "    if len(search_lines) == 1:\n",
    "        time_i = float(search_lines[0].split()[-1])\n",
    "        return(time_i)    \n",
    "    else:\n",
    "        return(0.)"
   ]
  },
  {
   "cell_type": "code",
   "execution_count": null,
   "metadata": {},
   "outputs": [],
   "source": [
    "df_master = df_master[df_master[\"outcar\"].notnull()]"
   ]
  },
  {
   "cell_type": "code",
   "execution_count": null,
   "metadata": {},
   "outputs": [],
   "source": [
    "df_master[\"cpu_time\"] = df_master.apply(\n",
    "    parse_cpu_time,\n",
    "    axis=1,\n",
    "    )\n",
    "\n",
    "df_master[\"cpu_hours\"] = (df_master[\"cpu_time\"] * 240.) / 3600."
   ]
  },
  {
   "cell_type": "code",
   "execution_count": null,
   "metadata": {},
   "outputs": [],
   "source": [
    "df_m = df_master\n",
    "\n",
    "print(df_m[\"cpu_hours\"].mean())\n",
    "print(df_m[\"cpu_hours\"].sum())"
   ]
  },
  {
   "cell_type": "code",
   "execution_count": null,
   "metadata": {},
   "outputs": [],
   "source": [
    "110700 * 2. * 1.4"
   ]
  }
 ],
 "metadata": {
  "kernel_info": {
   "name": "python3"
  },
  "kernelspec": {
   "display_name": "Python 3",
   "language": "python",
   "name": "python3"
  },
  "language_info": {
   "codemirror_mode": {
    "name": "ipython",
    "version": 3
   },
   "file_extension": ".py",
   "mimetype": "text/x-python",
   "name": "python",
   "nbconvert_exporter": "python",
   "pygments_lexer": "ipython3",
   "version": "3.6.6"
  },
  "nteract": {
   "version": "0.9.1"
  }
 },
 "nbformat": 4,
 "nbformat_minor": 2
}
