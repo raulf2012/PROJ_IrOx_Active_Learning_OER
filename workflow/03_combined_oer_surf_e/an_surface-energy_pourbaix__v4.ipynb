{
 "cells": [
  {
   "cell_type": "markdown",
   "metadata": {},
   "source": [
    "# Title HERE\n",
    "---\n",
    "NEW DIJF\n",
    "# Notebook Setup\n",
    "\n",
    "## Script Inputs"
   ],
   "execution_count": null,
   "outputs": []
  },
  {
   "cell_type": "code",
   "execution_count": null,
   "metadata": {
    "attributes": {
     "classes": [],
     "id": "",
     "n": "1"
    }
   },
   "outputs": [],
   "source": [
    "verbose = False\n",
    "\n",
    "# TEMP\n",
    "pH = 0\n",
    "bias_range = [-3, 3]"
   ]
  },
  {
   "cell_type": "markdown",
   "metadata": {},
   "source": [
    "## Import Modules"
   ],
   "execution_count": null,
   "outputs": []
  },
  {
   "cell_type": "code",
   "execution_count": null,
   "metadata": {
    "attributes": {
     "classes": [],
     "id": "",
     "n": "2"
    }
   },
   "outputs": [],
   "source": [
    "import os\n",
    "print(os.getcwd())\n",
    "import sys"
   ]
  },
  {
   "cell_type": "code",
   "execution_count": null,
   "metadata": {
    "attributes": {
     "classes": [],
     "id": "",
     "n": "3"
    }
   },
   "outputs": [],
   "source": [
    "%%capture\n",
    "\n",
    "# #############################################################################\n",
    "sys.path.insert(0,\n",
    "    os.path.join(\n",
    "        os.environ[\"PROJ_irox\"],\n",
    "        \"workflow\"))\n",
    "from an_data_processing import load_df\n",
    "# from an_data_processing import oxy_ref, hyd_ref\n",
    "\n",
    "# #############################################################################\n",
    "import pickle\n",
    "import pandas as pd\n",
    "\n",
    "import numpy as np\n",
    "\n",
    "import random\n",
    "\n",
    "# #############################################################################\n",
    "from misc_modules.pandas_methods import drop_columns\n",
    "from surface_energy.surface_energy import SurfaceEnergy\n",
    "\n",
    "from proj_data_irox import (\n",
    "    irox_surface_e_color_map,\n",
    "    bulk_e_per_atom_dict,\n",
    "    data_dir,\n",
    "    oer_bulk_structures_path,\n",
    "    voltage_name,\n",
    "    irox_bulk_color_map,\n",
    "    )\n",
    "\n",
    "import plotly.graph_objects as go\n",
    "\n",
    "from plotly.subplots import make_subplots\n",
    "import plotly.graph_objects as go\n",
    "\n",
    "# from layout__v0 import layout\n",
    "from layout__v1 import layout, axis_num_list\n",
    "\n",
    "from plotting.my_plotly import my_plotly_plot, get_xy_axis_info\n",
    "\n",
    "# #############################################################################\n",
    "from IPython.display import Image"
   ]
  },
  {
   "cell_type": "markdown",
   "metadata": {},
   "source": [
    "## Read data"
   ],
   "execution_count": null,
   "outputs": []
  },
  {
   "cell_type": "code",
   "execution_count": null,
   "metadata": {
    "attributes": {
     "classes": [],
     "id": "",
     "n": "4"
    }
   },
   "outputs": [],
   "source": [
    "dataframe_dir = data_dir\n",
    "\n",
    "# #############################################################################\n",
    "# Read bulk data ##############################################################\n",
    "with open(oer_bulk_structures_path, \"rb\") as fle:\n",
    "    bulk_data = pickle.load(fle)"
   ]
  },
  {
   "cell_type": "code",
   "execution_count": null,
   "metadata": {
    "attributes": {
     "classes": [],
     "id": "",
     "n": "5"
    }
   },
   "outputs": [],
   "source": [
    "path_i = os.path.join(\n",
    "    os.environ[\"PROJ_irox\"],\n",
    "    \"workflow/07_bulk_pourbaix/01_pourbaix_scripts\",\n",
    "    \"out_data/bulk_pourb_transitions.pickle\")\n",
    "with open(path_i, \"rb\") as fle:\n",
    "    pourb_trans = pickle.load(fle)\n",
    "\n",
    "pourb_trans"
   ]
  },
  {
   "cell_type": "code",
   "execution_count": null,
   "metadata": {},
   "outputs": [],
   "source": [
    "path_i = os.path.join(\n",
    "    os.environ[\"PROJ_irox\"],\n",
    "    \"workflow/01_surface_energies/02_surface_e_pourb_plot\",\n",
    "    \"out_data/df_SE_processed.pickle\")\n",
    "\n",
    "# #########################################################\n",
    "import pickle; import os\n",
    "with open(path_i, \"rb\") as fle:\n",
    "    df_m = pickle.load(fle)\n",
    "# #########################################################"
   ]
  },
  {
   "cell_type": "code",
   "execution_count": null,
   "metadata": {},
   "outputs": [],
   "source": [
    "df_m.head()"
   ]
  },
  {
   "cell_type": "markdown",
   "metadata": {},
   "source": [
    "# METHOD | make_surf_e_pourb_plot"
   ],
   "execution_count": null,
   "outputs": []
  },
  {
   "cell_type": "code",
   "execution_count": null,
   "metadata": {
    "attributes": {
     "classes": [],
     "id": "",
     "n": "9"
    }
   },
   "outputs": [],
   "source": [
    "def make_surf_e_pourb_plot(\n",
    "    df_m=None,\n",
    "    num_cols=2,\n",
    "    layout=None,\n",
    "    ):\n",
    "    \"\"\"\n",
    "    \"\"\"\n",
    "    num_plots = len(df_m[\"bulk_system\"].unique())\n",
    "\n",
    "    fig = make_subplots(\n",
    "        rows=int(num_plots / num_cols),\n",
    "        # cols=num_cols,\n",
    "        cols=num_cols + 1,\n",
    "        vertical_spacing=0.02,\n",
    "        )\n",
    "\n",
    "\n",
    "    grouped = df_m.groupby([\"bulk_system\"])\n",
    "\n",
    "    row_cnt = 1\n",
    "    col_cnt = 1\n",
    "\n",
    "\n",
    "    bulk_list = [\"IrO2\", \"IrO3\", \"IrO3_rutile-like\", \"IrO3_battery\"]\n",
    "    for bulk_i in bulk_list:\n",
    "        df_i = df_m[df_m.bulk_system == bulk_i]\n",
    "        group = df_i\n",
    "\n",
    "\n",
    "\n",
    "        trace_1_23 = go.Scatter(\n",
    "            x=2 * [1.23],\n",
    "            y=[-5, 5],\n",
    "            mode='lines',\n",
    "            name=\"1.23\",\n",
    "            line=dict(\n",
    "                color=\"black\",\n",
    "                width=1,\n",
    "                dash=\"dot\",\n",
    "                ))\n",
    "\n",
    "        fig.add_trace(trace_1_23, row=row_cnt, col=col_cnt)\n",
    "\n",
    "        for j_cnt, row_j in group.iterrows():\n",
    "            fig.add_trace(\n",
    "                row_j[\"plotly_trace\"],\n",
    "                row=row_cnt,\n",
    "                col=col_cnt,\n",
    "                )\n",
    "\n",
    "        # Advance row and column index\n",
    "        col_cnt += 1\n",
    "        if col_cnt > num_cols:\n",
    "            col_cnt = 1\n",
    "            row_cnt += 1\n",
    "\n",
    "\n",
    "    tmp = fig.update_layout(layout)\n",
    "\n",
    "    return(fig)"
   ]
  },
  {
   "cell_type": "markdown",
   "metadata": {},
   "source": [
    "# 2x2 Surface Energy Pourbaix Plot"
   ],
   "execution_count": null,
   "outputs": []
  },
  {
   "cell_type": "code",
   "execution_count": null,
   "metadata": {
    "attributes": {
     "classes": [],
     "id": "",
     "n": "10"
    }
   },
   "outputs": [],
   "source": [
    "fig = make_surf_e_pourb_plot(df_m=df_m, num_cols=2, layout=layout)\n",
    "\n",
    "plot_name_i = \"surf_e_pourbaix_irox__large\"\n",
    "# fig = my_plotly_plot(\n",
    "my_plotly_plot(\n",
    "    figure=fig,\n",
    "    plot_name=plot_name_i,\n",
    "    write_html=False,\n",
    "    write_pdf=False,\n",
    "    try_orca_write=False)\n",
    "\n",
    "# fig.show()"
   ]
  },
  {
   "cell_type": "markdown",
   "metadata": {},
   "source": [
    "# 1x4 Surface Energy Pourbaix Plot"
   ],
   "execution_count": null,
   "outputs": []
  },
  {
   "cell_type": "code",
   "execution_count": null,
   "metadata": {
    "attributes": {
     "classes": [],
     "id": "",
     "n": "11"
    }
   },
   "outputs": [],
   "source": [
    "fig = make_surf_e_pourb_plot(df_m=df_m, num_cols=1, layout=layout)\n",
    "\n",
    "# fig = make_surf_e_pourb_plot(df_m=df_m, num_cols=2, layout=layout)"
   ]
  },
  {
   "cell_type": "markdown",
   "metadata": {},
   "source": [
    "# Add minor ticks"
   ],
   "execution_count": null,
   "outputs": []
  },
  {
   "cell_type": "code",
   "execution_count": null,
   "metadata": {
    "attributes": {
     "classes": [],
     "id": "",
     "n": "12"
    }
   },
   "outputs": [],
   "source": [
    "# from plotting.my_plotly import add_minor_ticks, add_duplicate_axes\n",
    "\n",
    "# shared_minor_axis = dict(ticklen=3, tickwidth=1, tickcolor=\"black\")\n",
    "\n",
    "# add_duplicate_axes(fig, axis_type=\"x\",\n",
    "#     axis_data=dict(\n",
    "#         dtick=0.25,\n",
    "#         **shared_minor_axis))\n",
    "# add_duplicate_axes(fig, axis_type=\"y\",\n",
    "#     axis_data=dict(\n",
    "#         dtick=0.05,\n",
    "#         **shared_minor_axis))"
   ]
  },
  {
   "cell_type": "markdown",
   "metadata": {},
   "source": [
    "# Showing tick labels for bottom subplot"
   ],
   "execution_count": null,
   "outputs": []
  },
  {
   "cell_type": "code",
   "execution_count": null,
   "metadata": {
    "attributes": {
     "classes": [],
     "id": "",
     "n": "13"
    }
   },
   "outputs": [],
   "source": [
    "%%capture\n",
    "\n",
    "tmp = fig.get_subplot(col=1, row=4)\n",
    "tmp = tmp.yaxis.anchor\n",
    "\n",
    "fig.update_layout({\n",
    "    \"xaxis\" + tmp[1:]: dict(showticklabels=True),\n",
    "    })"
   ]
  },
  {
   "cell_type": "markdown",
   "metadata": {},
   "source": [
    "# Adding bulk Pourbaix transitions"
   ],
   "execution_count": null,
   "outputs": []
  },
  {
   "cell_type": "code",
   "execution_count": null,
   "metadata": {
    "attributes": {
     "classes": [],
     "id": "",
     "n": "14"
    }
   },
   "outputs": [],
   "source": [
    "dy_0 = 0.02\n",
    "shared_props = dict(\n",
    "    type=\"rect\",\n",
    "    y0=fig.layout.yaxis.range[0],\n",
    "    y1=fig.layout.yaxis.range[0] + dy_0,\n",
    "\n",
    "    line=dict(\n",
    "        color=\"black\",\n",
    "        width=1,\n",
    "        ),\n",
    "    )\n",
    "\n",
    "dx = 0.01\n",
    "\n",
    "shapes = []\n",
    "# for i in range(1, 5):\n",
    "for i in axis_num_list:\n",
    "\n",
    "    # | - Bulk Stability Rectangles at bottom\n",
    "    shapes_i = [\n",
    "\n",
    "        go.layout.Shape(\n",
    "            x0=-0.1,\n",
    "            x1=pourb_trans[\"ir_iro2_trans\"],\n",
    "            xref=\"x\" + str(i), yref=\"y\" + str(i),\n",
    "            fillcolor=irox_bulk_color_map[\"Ir\"],\n",
    "            **shared_props),\n",
    "\n",
    "        go.layout.Shape(\n",
    "            x0=pourb_trans[\"ir_iro2_trans\"],\n",
    "            x1=pourb_trans[\"iro2_a_iro3_trans\"],\n",
    "            xref=\"x\" + str(i), yref=\"y\" + str(i),\n",
    "            fillcolor=irox_bulk_color_map[\"IrO2\"],\n",
    "            **shared_props),\n",
    "\n",
    "        go.layout.Shape(\n",
    "            x0=pourb_trans[\"iro2_a_iro3_trans\"],\n",
    "            x1=pourb_trans[\"a_iro3_ir_ion_trans\"],\n",
    "            xref=\"x\" + str(i), yref=\"y\" + str(i),\n",
    "            fillcolor=irox_bulk_color_map[\"IrO3\"],\n",
    "            **shared_props),\n",
    "\n",
    "        go.layout.Shape(\n",
    "            x0=pourb_trans[\"a_iro3_ir_ion_trans\"],\n",
    "            x1=2.5,\n",
    "            xref=\"x\" + str(i), yref=\"y\" + str(i),\n",
    "            fillcolor=irox_bulk_color_map[\"IrO4-\"],\n",
    "            **shared_props),\n",
    "\n",
    "        ]\n",
    "\n",
    "\n",
    "\n",
    "\n",
    "    shapes.extend(shapes_i)\n",
    "    #__|\n",
    "\n",
    "# | - Add stability rectangles that go to top\n",
    "\n",
    "shapes_tmp0 = [\n",
    "\n",
    "    go.layout.Shape(\n",
    "        x0=pourb_trans[\"ir_iro2_trans\"],\n",
    "        x1=pourb_trans[\"iro2_a_iro3_trans\"],\n",
    "        y0=-0.5,\n",
    "        y1=0.25,\n",
    "        xref=\"x1\", yref=\"y1\",\n",
    "        fillcolor=irox_bulk_color_map[\"IrO2\"],\n",
    "        layer=\"below\",\n",
    "        line=dict(width=0.),\n",
    "        opacity=0.3,\n",
    "        ),\n",
    "\n",
    "    go.layout.Shape(\n",
    "        x0=pourb_trans[\"iro2_a_iro3_trans\"],\n",
    "        x1=pourb_trans[\"a_iro3_ir_ion_trans\"],\n",
    "        y0=-0.5,\n",
    "        y1=0.25,\n",
    "        # xref=\"x\" + str(axis_num_list[1]), yref=\"y\" + str(axis_num_list[2]),\n",
    "        xref=\"x\" + str(axis_num_list[1]), yref=\"y\" + str(axis_num_list[1]),\n",
    "        fillcolor=irox_bulk_color_map[\"IrO3_a-AlF3\"],\n",
    "        # fillcolor=\"red\",\n",
    "        layer=\"below\",\n",
    "        line=dict(width=0.),\n",
    "        opacity=0.3,\n",
    "        ),\n",
    "\n",
    "    ]\n",
    "shapes.extend(shapes_tmp0)\n",
    "\n",
    "#__|\n",
    "\n",
    "# | - Vertical Stability Lines\n",
    "shared_props = dict(\n",
    "    type=\"line\",\n",
    "    y0=fig.layout.yaxis.range[0],\n",
    "    y1=fig.layout.yaxis.range[1],\n",
    "    line=dict(\n",
    "        width=2,\n",
    "        dash=\"dot\",\n",
    "        ),\n",
    "    )\n",
    "\n",
    "# | - rutile-IrO3 vertical stability lines\n",
    "\n",
    "shapes_r_iro3 = [\n",
    "    go.layout.Shape(\n",
    "        x0=pourb_trans[\"iro2_r_iro3_trans\"],\n",
    "        x1=pourb_trans[\"iro2_r_iro3_trans\"],\n",
    "        xref=\"x\" + str(axis_num_list[2]), yref=\"y\" + str(axis_num_list[2]),\n",
    "        line=dict(color=irox_bulk_color_map[\"IrO3_rutile-like\"]),\n",
    "        ).update(**shared_props),\n",
    "    go.layout.Shape(\n",
    "        x0=pourb_trans[\"r_iro3_ir_ion_trans\"],\n",
    "        x1=pourb_trans[\"r_iro3_ir_ion_trans\"],\n",
    "        # xref=\"x3\", yref=\"y3\",\n",
    "        xref=\"x\" + str(axis_num_list[2]), yref=\"y\" + str(axis_num_list[2]),\n",
    "        line=dict(color=irox_bulk_color_map[\"IrO3_rutile-like\"]),\n",
    "        ).update(**shared_props),\n",
    "\n",
    "    ]\n",
    "shapes.extend(shapes_r_iro3)\n",
    "#__|\n",
    "\n",
    "# | - battery-IrO3 vertical stability lines\n",
    "shapes_b_iro3 = [\n",
    "    go.layout.Shape(\n",
    "        x0=pourb_trans[\"iro2_b_iro3_trans\"],\n",
    "        x1=pourb_trans[\"iro2_b_iro3_trans\"],\n",
    "        xref=\"x\" + str(axis_num_list[3]), yref=\"y\" + str(axis_num_list[3]),\n",
    "        line=dict(color=irox_bulk_color_map[\"IrO3_battery\"]),\n",
    "        ).update(**shared_props),\n",
    "    go.layout.Shape(\n",
    "        x0=pourb_trans[\"b_iro3_ir_ion_trans\"],\n",
    "        x1=pourb_trans[\"b_iro3_ir_ion_trans\"],\n",
    "        # xref=\"x4\", yref=\"y4\",\n",
    "        xref=\"x\" + str(axis_num_list[3]), yref=\"y\" + str(axis_num_list[3]),\n",
    "        line=dict(color=irox_bulk_color_map[\"IrO3_battery\"]),\n",
    "        ).update(**shared_props),\n",
    "    ]\n",
    "shapes.extend(shapes_b_iro3)\n",
    "#__|\n",
    "\n",
    "#__|\n",
    "\n",
    "tmp = fig.update_layout(shapes=shapes)"
   ]
  },
  {
   "cell_type": "markdown",
   "metadata": {},
   "source": [
    "# Writting and diplaying figure"
   ],
   "execution_count": null,
   "outputs": []
  },
  {
   "cell_type": "code",
   "execution_count": null,
   "metadata": {
    "attributes": {
     "classes": [],
     "id": "",
     "n": "16"
    }
   },
   "outputs": [],
   "source": [
    "plot_name_i = \"surf_e_pourbaix_irox__regular\"\n",
    "# fig = my_plotly_plot(\n",
    "my_plotly_plot(\n",
    "    figure=fig,\n",
    "    plot_name=plot_name_i,\n",
    "    write_html=True,\n",
    "    write_pdf=True,\n",
    "    try_orca_write=True)\n",
    "\n",
    "# fig.show()"
   ]
  },
  {
   "cell_type": "raw",
   "metadata": {},
   "source": [
    "\n",
    "\n",
    "\n",
    "\n",
    "\n"
   ],
   "execution_count": null,
   "outputs": []
  },
  {
   "cell_type": "markdown",
   "metadata": {},
   "source": [
    "# Adding OER volcano plot to subplot"
   ],
   "execution_count": null,
   "outputs": []
  },
  {
   "cell_type": "code",
   "execution_count": null,
   "metadata": {},
   "outputs": [],
   "source": [
    "layout2 = go.Layout(\n",
    "    # width=8.0 * 37.795275591,\n",
    "    # width=18 * 37.795275591,\n",
    "    # width=19 * 37.795275591,\n",
    "    # width=16 * 37.795275591,\n",
    "    # width=17.8 * 37.795275591,\n",
    "    # width=18.4 * 37.795275591,\n",
    "    # width=18.1 * 37.795275591,\n",
    "    width=18.3 * 37.795275591,\n",
    "\n",
    "    margin=go.layout.Margin({\n",
    "        # 'b': 39,\n",
    "        # 'b': 120,\n",
    "        # 'b': 50,\n",
    "        # 'b': 45,\n",
    "        'b': 42,\n",
    "\n",
    "        # 'l': 53,\n",
    "        'r': 0.,\n",
    "        # 't': 13,\n",
    "        }),\n",
    "    plot_bgcolor=\"white\",\n",
    "    )\n",
    "\n",
    "\n",
    "fig.add_annotation(\n",
    "    go.layout.Annotation(\n",
    "        font={'color': 'black', 'size': 13.333333333333332},\n",
    "        showarrow=False,\n",
    "        text='U<sub>RHE</sub> (V)',\n",
    "        # x=0.41,\n",
    "        # x=0.38,\n",
    "        x=0.36,\n",
    "\n",
    "        xref='paper',\n",
    "        y=0.85,\n",
    "        yanchor='top',\n",
    "        yref='paper',\n",
    "        textangle=-90,\n",
    "        # yshift=-21,\n",
    "        )\n",
    "    )\n",
    "\n",
    "\n",
    "\n",
    "fig.add_annotation(\n",
    "    go.layout.Annotation(\n",
    "        font={'color': 'black', 'size': 13.333333333333332},\n",
    "        showarrow=False,\n",
    "        text=\"\u0394G<sub>O</sub> - \u0394G<sub>OH</sub> (eV)\",\n",
    "\n",
    "        # x=0.83,\n",
    "        # x=0.81,\n",
    "        # x=0.82,\n",
    "        \n",
    "        # x=0.815,\n",
    "        x=0.8,\n",
    "\n",
    "        xref='paper',\n",
    "\n",
    "        # y=0.58,\n",
    "        # y=0.52,\n",
    "        # y=0.54,\n",
    "\n",
    "        # y=0.53,\n",
    "        # y=0.54,\n",
    "        # y=0.55,\n",
    "        y=0.56,\n",
    "\n",
    "        yanchor='top',\n",
    "        yref='paper',\n",
    "        # textangle=-90,\n",
    "        # yshift=-21,\n",
    "        )\n",
    "    )\n",
    "\n",
    "tmp = 42"
   ]
  },
  {
   "cell_type": "code",
   "execution_count": null,
   "metadata": {},
   "outputs": [],
   "source": [
    "path_i = os.path.join(\n",
    "    os.environ[\"PROJ_irox\"],\n",
    "    \"workflow/02_oer_analysis/02_oer_volc/out_data\",\n",
    "    \"oer_volcano_trace.pickle\")\n",
    "with open(path_i, \"rb\") as fle:\n",
    "    fig_oer = pickle.load(fle)\n",
    "\n",
    "for trace in fig_oer.data:\n",
    "    fig.add_scatter(\n",
    "        **trace.to_plotly_json(),\n",
    "        row=1,\n",
    "        col=2,\n",
    "        )\n",
    "\n",
    "fig.layout.xaxis2.update(fig_oer.layout.xaxis)\n",
    "fig.layout.yaxis2.update(fig_oer.layout.yaxis)\n",
    "\n",
    "fig.layout.update(layout2)\n",
    "\n",
    "for axis_num in axis_num_list:\n",
    "    # fig.layout[\"xaxis\" + str(axis_num)].domain = [0., 0.39]\n",
    "    fig.layout[\"xaxis\" + str(axis_num)].domain = [0.01, 0.33]\n",
    "\n",
    "\n",
    "\n",
    "# fig.layout[\"xaxis\" + str(2)].domain = [0.47, 1.]\n",
    "fig.layout[\"xaxis\" + str(2)].domain = [0.42, 1.]\n",
    "\n",
    "# fig.layout[\"yaxis\" + str(2)].domain = [0.58, 0.9999999999999999]\n",
    "# fig.layout[\"yaxis\" + str(2)].domain = [0.65, 0.9999999999999999]\n",
    "# fig.layout[\"yaxis\" + str(2)].domain = [0.62, 0.9999999999999999]\n",
    "# fig.layout[\"yaxis\" + str(2)].domain = [0.6, 0.9999999999999999]\n",
    "fig.layout[\"yaxis\" + str(2)].domain = [0.6, 0.9999999999999999]\n",
    "\n",
    "fig.layout.yaxis2.title = None\n",
    "fig.layout.xaxis2.title = None"
   ]
  },
  {
   "cell_type": "code",
   "execution_count": null,
   "metadata": {},
   "outputs": [],
   "source": [
    "# ooh_oh_scaling_univ\n",
    "# ooh_oh_scaling_mine\n",
    "# exp_lim_pot_SrIrO3\n",
    "# exp_lim_pot_IrO2_110\n",
    "\n",
    "oer_volc_annot = []\n",
    "for annot_i in fig_oer.layout.annotations:\n",
    "    # print(i.name)\n",
    "    # print(\"\")\n",
    "\n",
    "    annot_i.xref = \"x2\"\n",
    "    annot_i.yref = \"y2\"\n",
    "    \n",
    "    oer_volc_annot.append(annot_i)"
   ]
  },
  {
   "cell_type": "code",
   "execution_count": null,
   "metadata": {},
   "outputs": [],
   "source": [
    "new_annotations = list(fig.layout.annotations) + oer_volc_annot\n",
    "\n",
    "fig.layout.annotations = new_annotations"
   ]
  },
  {
   "cell_type": "markdown",
   "metadata": {},
   "source": [
    "# Move Surface pourbaix plot x-axis label to the left"
   ],
   "execution_count": null,
   "outputs": []
  },
  {
   "cell_type": "code",
   "execution_count": null,
   "metadata": {},
   "outputs": [],
   "source": [
    "for annot_i in fig.layout.annotations:\n",
    "    if annot_i.name == \"x_axis_title\":\n",
    "        annot_i.x = np.mean(np.array(fig.layout.xaxis1.domain))\n",
    "\n",
    "        annot_i.y = -0.006\n",
    "\n",
    "        annot_i.font.color = \"black\"\n",
    "        annot_i.xanchor = \"center\"\n",
    "        \n",
    "tmp = 42"
   ]
  },
  {
   "cell_type": "markdown",
   "metadata": {},
   "source": [
    "# Add minor ticks to plots"
   ],
   "execution_count": null,
   "outputs": []
  },
  {
   "cell_type": "code",
   "execution_count": null,
   "metadata": {},
   "outputs": [],
   "source": [
    "from plotting.my_plotly import add_minor_ticks, add_duplicate_axes\n",
    "\n",
    "shared_minor_axis = dict(ticklen=3, tickwidth=1, tickcolor=\"black\")\n",
    "# shared_minor_axis = dict(ticklen=10, tickwidth=1, tickcolor=\"red\")\n",
    "\n",
    "add_duplicate_axes(fig, axis_type=\"x\",\n",
    "    axis_data=dict(\n",
    "        dtick=0.25,\n",
    "        **shared_minor_axis),\n",
    "    axis_num_list=axis_num_list)\n",
    "\n",
    "add_duplicate_axes(fig, axis_type=\"y\",\n",
    "    axis_data=dict(\n",
    "        dtick=0.05,\n",
    "        **shared_minor_axis),\n",
    "    axis_num_list=axis_num_list)\n",
    "\n",
    "\n",
    "\n",
    "\n",
    "add_duplicate_axes(fig, axis_type=\"x\",\n",
    "    axis_data=dict(\n",
    "        dtick=0.1,\n",
    "        tick0=1.,\n",
    "        **shared_minor_axis),\n",
    "    tmp_define_both_axis_types=True,\n",
    "    axis_num_list=[2])\n",
    "\n",
    "\n",
    "\n",
    "add_duplicate_axes(fig, axis_type=\"y\",\n",
    "    axis_data=dict(\n",
    "        dtick=0.05,\n",
    "        tick0=1.,\n",
    "        **shared_minor_axis),\n",
    "    tmp_define_both_axis_types=True,\n",
    "    axis_num_list=[2])"
   ]
  },
  {
   "cell_type": "code",
   "execution_count": null,
   "metadata": {},
   "outputs": [],
   "source": [
    "plot_name_i = \"combined__surf_pourb_oer\"\n",
    "my_plotly_plot(\n",
    "    figure=fig,\n",
    "    plot_name=plot_name_i,\n",
    "    write_html=True,\n",
    "    write_pdf=True,\n",
    "    try_orca_write=True)\n",
    "\n",
    "# fig.show()"
   ]
  },
  {
   "cell_type": "code",
   "execution_count": null,
   "metadata": {
    "attributes": {
     "classes": [],
     "id": "",
     "n": "18"
    }
   },
   "outputs": [],
   "source": [
    "print(20 * \"# # \")\n",
    "print(\"All done!\")\n",
    "assert False"
   ]
  },
  {
   "cell_type": "code",
   "execution_count": null,
   "metadata": {},
   "outputs": [],
   "source": [
    "fig.show()"
   ]
  },
  {
   "cell_type": "raw",
   "metadata": {},
   "source": [
    "\n",
    "\n",
    "\n",
    "\n",
    "\n",
    "\n",
    "\n",
    "\n",
    "\n",
    "\n",
    "\n",
    "\n",
    "\n",
    "\n"
   ],
   "execution_count": null,
   "outputs": []
  },
  {
   "cell_type": "markdown",
   "metadata": {},
   "source": [
    "# Standard Surface Energy Bar Chart"
   ],
   "execution_count": null,
   "outputs": []
  },
  {
   "cell_type": "code",
   "execution_count": null,
   "metadata": {
    "jupyter": {}
   },
   "outputs": [],
   "source": [
    "name_list = []\n",
    "surf_e_list = []\n",
    "color_list = []\n",
    "label_list = []\n",
    "for i_cnt, row_i in df_m.iterrows():\n",
    "    \n",
    "    # #########################################################################\n",
    "    if row_i[\"coverage_type\"] == \"h_covered\":\n",
    "        label_i = \"*OH\"\n",
    "    elif row_i[\"coverage_type\"] == \"o_covered\":\n",
    "        label_i = \"*O\"\n",
    "    elif row_i[\"coverage_type\"] == \"bare\":\n",
    "        label_i = \"*\"\n",
    "    elif row_i[\"coverage_type\"] == \"half_o_covered\":\n",
    "        label_i = \"*O\"\n",
    "    else:\n",
    "        print(row_i[\"coverage_type\"])\n",
    "        label_i = \"TEMP\"\n",
    "\n",
    "    label_list.append(label_i)\n",
    "\n",
    "    # #########################################################################\n",
    "    surf_e_i = row_i[\"SurfaceEnergy\"].std_surface_e_per_area\n",
    "    surf_e_list.append(surf_e_i)\n",
    "\n",
    "    # #########################################################################\n",
    "#     name_i = row_i[\"bulk_system\"] + \" \" + row_i[\"coverage_type\"] + \" \" + row_i[\"facet\"]\n",
    "    name_i = row_i[\"bulk_system\"] + \" |\" + label_i + \"| \" + row_i[\"facet\"]\n",
    "\n",
    "    name_list.append(name_i)\n",
    "\n",
    "    # #########################################################################\n",
    "    color_i = irox_surface_e_color_map.get(\n",
    "        row_i[\"bulk_system\"] + \"_\" + row_i[\"coverage_type\"])\n",
    "    color_list.append(color_i)\n",
    "\n",
    "\n",
    "fig = go.Figure(\n",
    "    data=[\n",
    "        go.Bar(\n",
    "            name='SF Zoo',\n",
    "            x=name_list,\n",
    "            y=surf_e_list,\n",
    "            marker_color=color_list,\n",
    "            text=label_list,\n",
    "            textposition='auto',\n",
    "            ),\n",
    "        ],\n",
    "    layout=go.Layout(\n",
    "        height=600,\n",
    "#         width=,\n",
    "        )\n",
    "    )\n",
    "\n",
    "# Change the bar mode\n",
    "fig.update_layout(barmode='group')\n",
    "\n",
    "plot_name_i = \"std_surf_e_bar_plot\"\n",
    "fig = my_plotly_plot(\n",
    "    figure=fig,\n",
    "    plot_name=plot_name_i,\n",
    "    write_html=False,\n",
    "    write_png=False,\n",
    "    png_scale=6.0,\n",
    "    write_pdf=False,\n",
    "    write_svg=False,\n",
    "    try_orca_write=False,\n",
    "    )\n",
    "\n",
    "# Image(\"out_plot/\" + plot_name_i + \".png\")\n",
    "\n",
    "# fig.show()"
   ]
  }
 ],
 "metadata": {
  "jupytext": {
   "encoding": "# -*- coding: utf-8 -*-"
  },
  "kernelspec": {
   "display_name": "Python [conda env:PROJ_irox]",
   "language": "python",
   "name": "conda-env-PROJ_irox-py"
  },
  "language_info": {
   "codemirror_mode": {
    "name": "ipython",
    "version": 3
   },
   "file_extension": ".py",
   "mimetype": "text/x-python",
   "name": "python",
   "nbconvert_exporter": "python",
   "pygments_lexer": "ipython3",
   "version": "3.6.10"
  }
 },
 "nbformat": 4,
 "nbformat_minor": 4
}
