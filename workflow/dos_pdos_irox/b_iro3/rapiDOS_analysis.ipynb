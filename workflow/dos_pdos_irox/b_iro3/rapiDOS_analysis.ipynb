{
 "cells": [
  {
   "cell_type": "markdown",
   "metadata": {},
   "source": [
    "### rapiDOS v.0.5.1 -- (build Feb. - 19 - 2018) -- \n"
   ],
   "execution_count": null,
   "outputs": []
  },
  {
   "cell_type": "markdown",
   "metadata": {},
   "source": [
    "# Script Inputs"
   ],
   "execution_count": null,
   "outputs": []
  },
  {
   "cell_type": "code",
   "execution_count": null,
   "metadata": {},
   "outputs": [],
   "source": [
    "# from rapiDOS import rapiDOS\n",
    "from dft_post_analysis.rapiDOS.rapiDOS import rapiDOS\n",
    "# data_folder, out_folder\n",
    "\n",
    "data_folder = \"/home/raulf2012/__temp__/irox_bulk_systems/IrO3_battery/_3\"\n",
    "out_folder = \"out_data\"\n",
    "\n",
    "rapiDOS(\n",
    "    data_folder=data_folder,\n",
    "    out_folder=out_folder,\n",
    "    )"
   ]
  },
  {
   "cell_type": "markdown",
   "metadata": {},
   "source": [
    "## Set environment"
   ],
   "execution_count": null,
   "outputs": []
  },
  {
   "cell_type": "code",
   "execution_count": null,
   "metadata": {},
   "outputs": [],
   "source": [
    "%matplotlib inline\n",
    "import os\n",
    "import re\n",
    "import numpy as np\n",
    "import matplotlib.pyplot as plt\n",
    "import pandas as pd\n",
    "pd.set_option('display.max_rows', 20) # Set maximum number of col. df display.\n",
    "\n",
    "# Check spin polarized calculations:\n",
    "incar_file = open(os.path.join(data_folder, \"INCAR\"), \"r\")\n",
    "ispin = 1  # Non spin polarised calculations.\n",
    "for line in incar_file:\n",
    "    if re.match(\"(.*)ISPIN(.*)2\", line):\n",
    "        ispin = 2 # For spin polarised calculations."
   ]
  },
  {
   "cell_type": "markdown",
   "metadata": {},
   "source": [
    "## Load data .csv files"
   ],
   "execution_count": null,
   "outputs": []
  },
  {
   "cell_type": "code",
   "execution_count": null,
   "metadata": {},
   "outputs": [],
   "source": [
    "total_dos_df = pd.read_csv(os.path.join(out_folder, 'TotalDOS.csv'))\n",
    "pdos_df = pd.read_csv(os.path.join(out_folder, 'PDOS.csv'))\n",
    "band_gap_df = pd.read_csv(os.path.join(out_folder, 'BandGap.csv'))"
   ]
  },
  {
   "cell_type": "markdown",
   "metadata": {},
   "source": [
    "#### Approximate band gap:"
   ],
   "execution_count": null,
   "outputs": []
  },
  {
   "cell_type": "code",
   "execution_count": null,
   "metadata": {},
   "outputs": [],
   "source": [
    "band_gap = band_gap_df\n",
    "band_gap_lower = band_gap['Lower Band Gap'][0]\n",
    "band_gap_upper = band_gap['Upper Band Gap'][0]\n",
    "print('Approx. Band Gap:',np.round(np.abs(band_gap['Band Gap'][0]),3), \"eV\")"
   ]
  },
  {
   "cell_type": "markdown",
   "metadata": {},
   "source": [
    "## Example 1. Plot total DOS."
   ],
   "execution_count": null,
   "outputs": []
  },
  {
   "cell_type": "code",
   "execution_count": null,
   "metadata": {},
   "outputs": [],
   "source": [
    "fig = plt.figure(figsize=(10.0,6.0)) # Create figure.\n",
    "plt.axvline(x=[0.0], color='k', linestyle='--',linewidth=1.2) # Plot vertical line in Fermi.\n",
    "plt.plot(total_dos_df['Energy (E-Ef)'],total_dos_df['Total DOS Spin Up'],color='C3') # Plot DOS spin up.\n",
    "plt.fill_between(total_dos_df['Energy (E-Ef)'], \n",
    "                 0, total_dos_df['Total DOS Spin Up'],\n",
    "                 facecolor='C7', alpha=0.2, interpolate=True) # Fill between spin up and down.\n",
    "plt.axvspan(band_gap_lower, band_gap_upper, alpha=0.2, color='C5')\n",
    "\n",
    "if ispin == 2:\n",
    "    plt.plot(total_dos_df['Energy (E-Ef)'],-total_dos_df['Total DOS Spin Down'],color='C4') # Plot DOS spin down.\n",
    "    plt.fill_between(total_dos_df['Energy (E-Ef)'], \n",
    "                 0, -total_dos_df['Total DOS Spin Up'],\n",
    "                 facecolor='C7', alpha=0.2, interpolate=True) # Fill between spin up and down.\n",
    "    \n",
    "plt.legend() # Add legend to the plot.\n",
    "plt.xlabel('E - Ef (eV)') # x axis label.\n",
    "plt.ylabel('DOS (states/eV)') # x axis label.\n",
    "plt.xlim([-8.0,4.0]) # Plot limits.\n",
    "\n",
    "fig.savefig(os.path.join(out_folder, \"Fig1.pdf\")) # Save figure EPS."
   ]
  },
  {
   "cell_type": "markdown",
   "metadata": {},
   "source": [
    "Double check that the maximum DOS value of the total DOS is consistent with p4vasp:"
   ],
   "execution_count": null,
   "outputs": []
  },
  {
   "cell_type": "code",
   "execution_count": null,
   "metadata": {},
   "outputs": [],
   "source": [
    "max_dos = total_dos_df['Total DOS Spin Up'].max() \n",
    "print('Max DOS (using this script) = ', max_dos, 'states/eV')"
   ]
  },
  {
   "cell_type": "markdown",
   "metadata": {},
   "source": [
    "## Example 2. PDOS: Plot total p$_z$ and d$_{z^2}$ states."
   ],
   "execution_count": null,
   "outputs": []
  },
  {
   "cell_type": "code",
   "execution_count": null,
   "metadata": {},
   "outputs": [],
   "source": [
    "fig = plt.figure(figsize=(10.0,6.0)) # Create figure.\n",
    "pdos_energy_index_df = pdos_df.set_index(['Energy (E-Ef)']) # Set index.\n",
    "# Sum same orbitals for all atoms:\n",
    "sum_orbitals_df = pdos_energy_index_df.groupby(pdos_energy_index_df.index).sum()\n",
    "\n",
    "plt.axvline(x=[0.0], color='k', linestyle='--',linewidth=1.2) # Plot vertical line in Fermi.\n",
    "\n",
    "# Spin up.\n",
    "plt.plot(sum_orbitals_df['pz_up'],color='C3')\n",
    "plt.plot(sum_orbitals_df['dz2_up'],color='C8')\n",
    "\n",
    "# Spin down.\n",
    "if ispin == 2:\n",
    "    plt.plot(sum_orbitals_df['pz_down'],color='C3')\n",
    "    plt.plot(sum_orbitals_df['dz2_down'],color='C8')\n",
    "\n",
    "plt.legend() # Add legend to the plot.\n",
    "plt.xlabel('E - Ef (eV)') # x axis label.\n",
    "plt.ylabel('DOS (states/eV)') # x axis label.\n",
    "plt.xlim([-8.0,4.0]) # Plot limits.\n",
    "\n",
    "fig.savefig(os.path.join(out_folder, \"Fig2.pdf\")) # Save figure EPS."
   ]
  },
  {
   "cell_type": "markdown",
   "metadata": {},
   "source": [
    "## Example 3. PDOS: Plot $s$ states, $p$ states ($p$$_x$, $p$$_y$, $p$$_z$) and $d$ states ($d$$_{xy}$, $d$$_{yz}$, $d$$_{xz}$, $d$$_{z^2}$, $d$$_{x^2}$)."
   ],
   "execution_count": null,
   "outputs": []
  },
  {
   "cell_type": "code",
   "execution_count": null,
   "metadata": {},
   "outputs": [],
   "source": [
    "pdos_energy_index_df = pdos_df.set_index(['Energy (E-Ef)']) # Set index.\n",
    "# Sum same orbitals for all atoms:\n",
    "sum_orbitals_df = pdos_energy_index_df.groupby(pdos_energy_index_df.index).sum()\n",
    "# Sum of orbitals for spin up:\n",
    "sum_orbitals_df['Total p_up'] = sum_orbitals_df.apply(lambda row: row.px_up + row.py_up + row.pz_up, axis=1)\n",
    "sum_orbitals_df['Total d_up'] = sum_orbitals_df.apply(lambda row: row.dxy_up + row.dyz_up + row.dxz_up + row.dz2_up + row.dx2_up, axis=1)\n",
    "\n",
    "\n",
    "# Sum of orbitals for spin up:\n",
    "if ispin == 2:\n",
    "    sum_orbitals_df['Total p_down'] = sum_orbitals_df.apply(lambda row: row.px_down + row.py_down + row.pz_down, axis=1)\n",
    "    sum_orbitals_df['Total d_down'] = sum_orbitals_df.apply(lambda row: row.dxy_down + row.dyz_down + row.dxz_down + row.dz2_down + row.dx2_down, axis=1)\n",
    "\n",
    "# Plots:\n",
    "fig = plt.figure(figsize=(10.0,6.0)) # Create figure.\n",
    "plt.axvline(x=[0.0], color='k', linestyle='--',linewidth=1.2) # Plot vertical line in Fermi.\n",
    "\n",
    "# Spin up:\n",
    "plt.plot(sum_orbitals_df['s_up'],color='C1')\n",
    "plt.plot(sum_orbitals_df['Total p_up'],color='C3')\n",
    "plt.plot(sum_orbitals_df['Total d_up'],color='C8')\n",
    "\n",
    "# Spin down:\n",
    "if ispin == 2:\n",
    "    plt.plot(sum_orbitals_df['s_down'],color='C1')\n",
    "    plt.plot(sum_orbitals_df['Total p_down'],color='C3')\n",
    "    plt.plot(sum_orbitals_df['Total d_down'],color='C8')\n",
    "\n",
    "plt.legend() # Add legend to the plot.\n",
    "plt.xlabel('E - Ef (eV)') # x axis label.\n",
    "plt.ylabel('DOS (states/eV)') # x axis label.\n",
    "plt.xlim([-8.0,4.0]) # Plot limits.\n",
    "fig.savefig(os.path.join(out_folder, \"Fig3.pdf\")) # Save figure EPS."
   ]
  },
  {
   "cell_type": "markdown",
   "metadata": {},
   "source": [
    "## Example 4. PDOS: Plot states of a single atom (e.g. Cu$_2$)."
   ],
   "execution_count": null,
   "outputs": []
  },
  {
   "cell_type": "markdown",
   "metadata": {},
   "source": [
    "Print list of atoms that one can select:"
   ],
   "execution_count": null,
   "outputs": []
  },
  {
   "cell_type": "code",
   "execution_count": null,
   "metadata": {},
   "outputs": [],
   "source": [
    "list_of_atoms = list(reversed(pdos_df['Atom Label'].unique()))\n",
    "print('List of atoms: ', list_of_atoms)"
   ]
  },
  {
   "cell_type": "code",
   "execution_count": null,
   "metadata": {},
   "outputs": [],
   "source": [
    "\"\"\" Select one atom from the previous list. Remember list_of_atoms[0] corresponds to Atom #1, \n",
    "list_of_atoms[1] to #2 ...\"\"\"\n",
    "\n",
    "atom_selected = list_of_atoms[1]  # This is equivalent to atom_selected = 'Cu2' in this example.\n",
    "\n",
    "pdos_energy_index_df = pdos_df.set_index(['Energy (E-Ef)']) # Set index.\n",
    "only_atom_df = pdos_energy_index_df[pdos_energy_index_df['Atom Label']==atom_selected] # Select only one atom (e.g Cu2).\n",
    "atom_spin_up_df = only_atom_df.filter(regex=\"up\").sum(axis=1) # Filter, get all bands with spin up. Then, sum all orbitals.\n",
    "\n",
    "if ispin == 2:\n",
    "    atom_spin_down_df = only_atom_df.filter(regex=\"down\").sum(axis=1) # Filter, get all bands with spin down. Then, sum all orbitals.\n",
    "\n",
    "# Plots:\n",
    "fig = plt.figure(figsize=(10.0,6.0)) # Create figure.\n",
    "\n",
    "plt.plot(atom_spin_up_df,color='C1') # Atom spin up.\n",
    "\n",
    "if ispin == 2:\n",
    "    plt.plot(atom_spin_down_df,color='C3') # Atom spin down.\n",
    "\n",
    "plt.axvline(x=[0.0], color='k', linestyle='--',linewidth=1.2) # Plot vertical line in Fermi.\n",
    "plt.legend(['Atom spin up']) # Add manually legend to the plot.\n",
    "if ispin == 2: plt.legend(['Atom spin up','Atom spin down']) # Add manually legend to the plot.\n",
    "plt.xlabel('E - Ef (eV)') # x axis label.\n",
    "plt.ylabel('DOS (states/eV)') # x axis label.\n",
    "plt.xlim([-8.0,4.0]) # Plot limits.\n",
    "fig.savefig(os.path.join(out_folder, \"Fig4.pdf\")) # Save figure EPS."
   ]
  },
  {
   "cell_type": "markdown",
   "metadata": {},
   "source": [
    "## Example 5. PDOS: Plot states for a individual elements and total DOS."
   ],
   "execution_count": null,
   "outputs": []
  },
  {
   "cell_type": "code",
   "execution_count": null,
   "metadata": {},
   "outputs": [],
   "source": [
    "list_of_elements = list(reversed(pdos_df['Element'].unique()))\n",
    "print('List of elements: ', list_of_elements)"
   ]
  },
  {
   "cell_type": "code",
   "execution_count": null,
   "metadata": {},
   "outputs": [],
   "source": [
    "fig = plt.figure(figsize=(10.0,6.0)) # Create figure.\n",
    "\n",
    "plt.plot(total_dos_df['Energy (E-Ef)'],total_dos_df['Total DOS Spin Up'],color='black') # Plot DOS spin up.\n",
    "plt.fill_between(total_dos_df['Energy (E-Ef)'], \n",
    "                 0, total_dos_df['Total DOS Spin Up'],\n",
    "                 facecolor='black', alpha=0.05, interpolate=True) # Fill between spin up and down.\n",
    "plt.axvspan(band_gap_lower, band_gap_upper, alpha=0.2, color='C5')\n",
    "\n",
    "if ispin == 2:\n",
    "    plt.plot(total_dos_df['Energy (E-Ef)'],-total_dos_df['Total DOS Spin Down'],color='black') # Plot DOS spin down.\n",
    "    plt.fill_between(total_dos_df['Energy (E-Ef)'], \n",
    "                 0, -total_dos_df['Total DOS Spin Down'],\n",
    "                 facecolor='black', alpha=0.05, interpolate=True) # Fill between spin up and down.\n",
    "        \n",
    "for element_selected in list_of_elements:\n",
    "    pdos_energy_index_df = pdos_df.set_index(['Energy (E-Ef)']) # Set index.\n",
    "    only_element_df = pdos_energy_index_df[pdos_energy_index_df['Element']==element_selected] # Select only states for a given element.\n",
    "    sum_element_df = only_element_df.groupby(only_element_df.index).sum() # Sum all the states for a given element.\n",
    "\n",
    "    element_spin_up_df = sum_element_df.filter(regex=\"up\").sum(axis=1) # Filter, get all bands with spin up. Then, sum all orbitals.\n",
    "\n",
    "    if ispin == 2:\n",
    "        element_spin_down_df = sum_element_df.filter(regex=\"down\").sum(axis=1) # Filter, get all bands with spin down. Then, sum all orbitals.\n",
    "\n",
    "    # Plots:\n",
    "    plt.plot(element_spin_up_df, label=element_selected) # Atom spin up.\n",
    "\n",
    "    if ispin == 2:\n",
    "        plt.plot(element_spin_down_df, label=element_selected) # Atom spin down.\n",
    "\n",
    "    plt.axvline(x=[0.0], color='k', linestyle='--',linewidth=1.2) # Plot vertical line in Fermi.\n",
    "\n",
    "plt.xlabel('E - Ef (eV)') # x axis label.\n",
    "plt.ylabel('DOS (states/eV)') # x axis label.\n",
    "plt.xlim([-8.0, 4.0]) # Plot limits.\n",
    "plt.legend() # Add manually legend to the plot.\n",
    "fig.savefig(os.path.join(out_folder, \"Fig5.pdf\")) # Save figure EPS."
   ]
  }
 ],
 "metadata": {
  "kernelspec": {
   "display_name": "Python 3",
   "language": "python",
   "name": "python3"
  },
  "language_info": {
   "codemirror_mode": {
    "name": "ipython",
    "version": 3
   },
   "file_extension": ".py",
   "mimetype": "text/x-python",
   "name": "python",
   "nbconvert_exporter": "python",
   "pygments_lexer": "ipython3",
   "version": "3.7.3"
  }
 },
 "nbformat": 4,
 "nbformat_minor": 4
}
