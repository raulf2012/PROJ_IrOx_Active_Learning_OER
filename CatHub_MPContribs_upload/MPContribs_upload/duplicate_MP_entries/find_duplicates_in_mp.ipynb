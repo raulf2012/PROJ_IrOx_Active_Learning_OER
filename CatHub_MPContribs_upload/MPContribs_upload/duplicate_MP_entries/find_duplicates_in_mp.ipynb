{
 "cells": [
  {
   "cell_type": "markdown",
   "metadata": {},
   "source": [
    "# Import Modules"
   ],
   "execution_count": null,
   "outputs": []
  },
  {
   "cell_type": "code",
   "execution_count": null,
   "metadata": {},
   "outputs": [],
   "source": [
    "import os\n",
    "print(os.getcwd())\n",
    "import sys\n",
    "\n",
    "import yaml\n",
    "\n",
    "import pandas as pd\n",
    "\n",
    "from pymatgen.ext.matproj import MPRester\n",
    "from pymatgen.io.ase import AseAtomsAdaptor"
   ]
  },
  {
   "cell_type": "markdown",
   "metadata": {},
   "source": [
    "# Read Data"
   ],
   "execution_count": null,
   "outputs": []
  },
  {
   "cell_type": "code",
   "execution_count": null,
   "metadata": {},
   "outputs": [],
   "source": [
    "path_i = os.path.join(os.environ[\"PROJ_irox\"], \"config\", \"config.yml\")\n",
    "with open(path_i) as file:\n",
    "    config_dict = yaml.load(file, Loader=yaml.FullLoader)\n",
    "\n",
    "api_key = config_dict['materials_project']['api_key']\n",
    "\n",
    "MPR = MPRester(\n",
    "    api_key=api_key,\n",
    "    endpoint=None,\n",
    "    include_user_agent=True,\n",
    "    )"
   ]
  },
  {
   "cell_type": "code",
   "execution_count": null,
   "metadata": {},
   "outputs": [],
   "source": [
    "sys.path.insert(0, os.path.join(\n",
    "    os.environ[\"PROJ_irox\"],\n",
    "    \"workflow/ml_modelling\"))\n",
    "from ml_methods import get_ml_dataframes\n",
    "\n",
    "\n",
    "DF_dict = get_ml_dataframes()\n",
    "\n",
    "df_dij = DF_dict['df_dij']\n",
    "df_dft_final_final = DF_dict['df_dft_final_final']\n",
    "df_dft = df_dft_final_final"
   ]
  },
  {
   "cell_type": "code",
   "execution_count": null,
   "metadata": {},
   "outputs": [],
   "source": [
    "# df_dft = df_dft.iloc[0:20]\n",
    "\n",
    "df_dft = df_dft.loc[[\n",
    "    'cg8p7fxq65',\n",
    "    '64cg6j9any',\n",
    "    '85z4msnl6o',\n",
    "    'xozr8f7p7g',\n",
    "    '949rnem5z2',\n",
    "    'mkmsvkcyc5',\n",
    "    'vwxfn3blxi',\n",
    "    'nrml6dms9l',\n",
    "    ]]"
   ]
  },
  {
   "cell_type": "code",
   "execution_count": null,
   "metadata": {},
   "outputs": [],
   "source": [
    "tmp_list = []\n",
    "\n",
    "data_dict_list = []\n",
    "for i_cnt, row_i in df_dft.iterrows():\n",
    "    data_dict_i = dict()\n",
    "\n",
    "    # #####################################################\n",
    "    name_i = row_i.name\n",
    "    stoich_i = row_i.stoich\n",
    "\n",
    "    # #####################################################\n",
    "    data_dict_i[\"id\"] = name_i\n",
    "    data_dict_i[\"stoich\"] = stoich_i\n",
    "\n",
    "    atoms_i = row_i.atoms\n",
    "    struct_i = AseAtomsAdaptor.get_structure(atoms_i)\n",
    "\n",
    "    duplicates_tmp = MPR.find_structure(struct_i)\n",
    "    tmp_list.append(duplicates_tmp)\n",
    "\n",
    "    data_dict_i[\"mp_duplicates\"] = duplicates_tmp\n",
    "    \n",
    "    data_dict_list.append(data_dict_i)"
   ]
  },
  {
   "cell_type": "code",
   "execution_count": null,
   "metadata": {},
   "outputs": [],
   "source": [
    "df = pd.DataFrame(data_dict_list)\n",
    "\n",
    "df_mp_dupl = df[[True if len(i) != 0 else False for i in df.mp_duplicates.tolist()]]\n",
    "df_mp_dupl = df_mp_dupl.set_index(\"id\")\n",
    "\n",
    "df_mp_dupl"
   ]
  },
  {
   "cell_type": "code",
   "execution_count": null,
   "metadata": {},
   "outputs": [],
   "source": [
    "# Pickling data ###########################################\n",
    "import os; import pickle\n",
    "directory = \"out_data\"\n",
    "if not os.path.exists(directory): os.makedirs(directory)\n",
    "with open(os.path.join(directory, \"df_mp_dupl.pickle\"), \"wb\") as fle:\n",
    "    pickle.dump(df_mp_dupl, fle)\n",
    "# #########################################################"
   ]
  },
  {
   "cell_type": "code",
   "execution_count": null,
   "metadata": {},
   "outputs": [],
   "source": [
    "# #########################################################\n",
    "import pickle; import os\n",
    "path_i = os.path.join(\n",
    "    os.environ[\"PROJ_irox\"],\n",
    "    \"CatHub_MPContribs_upload/MPContribs_upload/duplicate_MP_entries\",\n",
    "    \"out_data/df_mp_dupl.pickle\")\n",
    "with open(path_i, \"rb\") as fle:\n",
    "    df_mp_dupl = pickle.load(fle)\n",
    "# #########################################################"
   ]
  },
  {
   "cell_type": "raw",
   "metadata": {},
   "source": [
    "\n",
    "\n"
   ],
   "execution_count": null,
   "outputs": []
  },
  {
   "cell_type": "code",
   "execution_count": null,
   "metadata": {},
   "outputs": [],
   "source": [
    "# bulk_dft_data = DF_dict['bulk_dft_data']\n",
    "# unique_ids = DF_dict['unique_ids']\n",
    "# prototypes_data = DF_dict['prototypes_data']\n",
    "# static_irox_structures = DF_dict['static_irox_structures']\n",
    "# static_irox_structures_kirsten = DF_dict['static_irox_structures_kirsten']\n",
    "# oqmd_irox_data = DF_dict['oqmd_irox_data']\n",
    "# df_features_pre_opt = DF_dict['df_features_pre_opt']\n",
    "# df_features_pre_opt_kirsten = DF_dict['df_features_pre_opt_kirsten']\n",
    "# df_features_post_opt = DF_dict['df_features_post_opt']\n",
    "# oer_bulk_structures = DF_dict['oer_bulk_structures']\n",
    "# df_ccf = DF_dict['df_ccf']\n",
    "# ids_to_discard__too_many_atoms = DF_dict['ids_to_discard__too_many_atoms']\n",
    "# ids_duplicates = DF_dict['ids_duplicates']"
   ]
  },
  {
   "cell_type": "code",
   "execution_count": null,
   "metadata": {
    "jupyter": {}
   },
   "outputs": [],
   "source": [
    "# df_dij.loc[\n",
    "#     [\n",
    "#         \"mkmsvkcyc5\",\n",
    "#         \"xozr8f7p7g\",\n",
    "#         ],\n",
    "#     [\n",
    "#         \"mkmsvkcyc5\",\n",
    "#         \"xozr8f7p7g\",\n",
    "#         ]\n",
    "#     ]\n",
    "\n",
    "# \"xozr8f7p7g\" in df_dft.index\n",
    "# \"mkmsvkcyc5\" in df_dft.index\n",
    "\n",
    "# df_dft.loc[\"mkmsvkcyc5\"]\n",
    "\n",
    "# df_dft.loc[\"xozr8f7p7g\"]"
   ]
  },
  {
   "cell_type": "code",
   "execution_count": null,
   "metadata": {
    "jupyter": {}
   },
   "outputs": [],
   "source": [
    "# assert False"
   ]
  },
  {
   "cell_type": "code",
   "execution_count": null,
   "metadata": {
    "jupyter": {}
   },
   "outputs": [],
   "source": [
    "# # df_w_duplicates.to_csv()\n",
    "\n",
    "# # df_w_duplicates.id.tolist()\n",
    "# # df_w_duplicates.mp_duplicates.tolist()\n",
    "\n",
    "# df_w_duplicates"
   ]
  }
 ],
 "metadata": {
  "kernelspec": {
   "display_name": "Python [conda env:PROJ_IrOx_Active_Learning_OER]",
   "language": "python",
   "name": "conda-env-PROJ_IrOx_Active_Learning_OER-py"
  },
  "language_info": {
   "codemirror_mode": {
    "name": "ipython",
    "version": 3
   },
   "file_extension": ".py",
   "mimetype": "text/x-python",
   "name": "python",
   "nbconvert_exporter": "python",
   "pygments_lexer": "ipython3",
   "version": "3.6.7"
  }
 },
 "nbformat": 4,
 "nbformat_minor": 4
}
