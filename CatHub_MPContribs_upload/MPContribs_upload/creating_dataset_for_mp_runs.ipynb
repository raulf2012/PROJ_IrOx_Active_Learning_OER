{
 "cells": [
  {
   "cell_type": "markdown",
   "metadata": {},
   "source": [
    "# Import Modules"
   ]
  },
  {
   "cell_type": "code",
   "execution_count": 1,
   "metadata": {},
   "outputs": [],
   "source": [
    "from pymatgen.util.provenance import StructureNL\n",
    "\n",
    "from pymatgen.io.ase import AseAtomsAdaptor"
   ]
  },
  {
   "cell_type": "raw",
   "metadata": {},
   "source": [
    "\n"
   ]
  },
  {
   "cell_type": "markdown",
   "metadata": {},
   "source": [
    "# Read DFT Data"
   ]
  },
  {
   "cell_type": "code",
   "execution_count": 2,
   "metadata": {},
   "outputs": [],
   "source": [
    "# #########################################################\n",
    "import pickle; import os\n",
    "path_i = os.path.join(\n",
    "    os.environ[\"PROJ_irox\"],\n",
    "    \"workflow/ml_modelling/processing_bulk_dft/creating_final_dataset_for_upload\",\n",
    "    \"out_data/df_dft_final_no_dupl.pickle\")\n",
    "with open(path_i, \"rb\") as fle:\n",
    "    df_dft_final_no_dupl = pickle.load(fle)\n",
    "# #########################################################"
   ]
  },
  {
   "cell_type": "code",
   "execution_count": 3,
   "metadata": {},
   "outputs": [],
   "source": [
    "for id_i, row_i in df_dft_final_no_dupl.iterrows():\n",
    "    tmp = 42"
   ]
  },
  {
   "cell_type": "code",
   "execution_count": 4,
   "metadata": {},
   "outputs": [],
   "source": [
    "atoms = row_i.atoms\n",
    "\n",
    "struct = AseAtomsAdaptor().get_structure(atoms)"
   ]
  },
  {
   "cell_type": "code",
   "execution_count": 5,
   "metadata": {},
   "outputs": [],
   "source": [
    "authors = [\n",
    "    {\"name\": \"Raul A. Flores\", \"email\": \"raulf2012@gmail.com\"},\n",
    "    {\"name\": \"Chris Paolucci\", \"email\": \"cp9wx@virginia.edu\"},\n",
    "    {\"name\": \"Kirsten Winther\", \"email\": \"winther@stanford.edu\"},\n",
    "    {\"name\": \"Ankit Jain\", \"email\": \"ankitjain.me.iitk@gmail.com\"},\n",
    "    {\"name\": \"Jose Antonio Garrido Torres\", \"email\": \"jagt@stanford.edu\"},\n",
    "    {\"name\": \"Muratahan Aykol\", \"email\": \"muratahan.aykol@tri.global\"},\n",
    "    {\"name\": \"Joseph Montoya\", \"email\": \"joseph.montoya@tri.global\"},\n",
    "    {\"name\": \"Jens Kehlet Nørskov\", \"email\": \"jkno@dtu.dk\"},\n",
    "    {\"name\": \"Michal Bajdich\", \"email\": \"bajdich@slac.stanford.edu\"},\n",
    "    {\"name\": \"Thomas Bligaard\", \"email\": \"tbli@dtu.dk\"},\n",
    "    ]"
   ]
  },
  {
   "cell_type": "code",
   "execution_count": 6,
   "metadata": {},
   "outputs": [],
   "source": [
    "struct_NL = StructureNL(\n",
    "    struct,\n",
    "    authors,\n",
    "    projects=None,\n",
    "    references=\"\",\n",
    "    # remarks=[\"\"],\n",
    "    data=None,\n",
    "    history=None,\n",
    "    created_at=\"20200329\",\n",
    "    )"
   ]
  }
 ],
 "metadata": {
  "kernelspec": {
   "display_name": "Python [conda env:PROJ_IrOx_Active_Learning_OER]",
   "language": "python",
   "name": "conda-env-PROJ_IrOx_Active_Learning_OER-py"
  },
  "language_info": {
   "codemirror_mode": {
    "name": "ipython",
    "version": 3
   },
   "file_extension": ".py",
   "mimetype": "text/x-python",
   "name": "python",
   "nbconvert_exporter": "python",
   "pygments_lexer": "ipython3",
   "version": "3.6.9"
  }
 },
 "nbformat": 4,
 "nbformat_minor": 4
}
