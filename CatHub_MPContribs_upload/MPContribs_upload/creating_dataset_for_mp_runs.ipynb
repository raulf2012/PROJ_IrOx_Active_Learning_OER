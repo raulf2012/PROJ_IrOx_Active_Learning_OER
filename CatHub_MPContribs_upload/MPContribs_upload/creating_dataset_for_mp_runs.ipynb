{
 "cells": [
  {
   "cell_type": "markdown",
   "metadata": {},
   "source": [
    "# Import Modules"
   ]
  },
  {
   "cell_type": "code",
   "execution_count": 1,
   "metadata": {},
   "outputs": [
    {
     "name": "stdout",
     "output_type": "stream",
     "text": [
      "/mnt/f/Dropbox/01_norskov/00_git_repos/PROJ_IrOx_Active_Learning_OER/CatHub_MPContribs_upload/MPContribs_upload\n"
     ]
    }
   ],
   "source": [
    "import os\n",
    "print(os.getcwd())\n",
    "import sys\n",
    "\n",
    "import pandas as pd\n",
    "\n",
    "from pymatgen.util.provenance import StructureNL\n",
    "from pymatgen.io.ase import AseAtomsAdaptor\n",
    "\n",
    "from datetime import datetime\n",
    "\n",
    "import json"
   ]
  },
  {
   "cell_type": "raw",
   "metadata": {},
   "source": [
    "\n"
   ]
  },
  {
   "cell_type": "code",
   "execution_count": 2,
   "metadata": {},
   "outputs": [
    {
     "data": {
      "text/plain": [
       "'2020-04-10'"
      ]
     },
     "execution_count": 2,
     "metadata": {},
     "output_type": "execute_result"
    }
   ],
   "source": [
    "date = datetime.today().strftime('%Y-%m-%d')\n",
    "date"
   ]
  },
  {
   "cell_type": "markdown",
   "metadata": {},
   "source": [
    "# Read DFT Data"
   ]
  },
  {
   "cell_type": "code",
   "execution_count": 3,
   "metadata": {},
   "outputs": [],
   "source": [
    "# #########################################################\n",
    "import pickle; import os\n",
    "path_i = os.path.join(\n",
    "    os.environ[\"PROJ_irox\"],\n",
    "    \"workflow/ml_modelling/processing_bulk_dft/creating_final_dataset_for_upload\",\n",
    "    \"out_data/df_dft_final_no_dupl.pickle\")\n",
    "with open(path_i, \"rb\") as fle:\n",
    "    df_dft_final_no_dupl = pickle.load(fle)\n",
    "# #########################################################"
   ]
  },
  {
   "cell_type": "code",
   "execution_count": 4,
   "metadata": {},
   "outputs": [],
   "source": [
    "df_ab2 = df_dft_final_no_dupl[df_dft_final_no_dupl.stoich == \"AB2\"]\n",
    "df_ab3 = df_dft_final_no_dupl[df_dft_final_no_dupl.stoich == \"AB3\"]\n",
    "\n",
    "df_ab2 = df_ab2.sort_values(\"dH\")\n",
    "df_ab3 = df_ab3.sort_values(\"dH\")\n",
    "\n",
    "df_ab2[\"energy_order\"] = [i for i in range(df_ab2.shape[0])]\n",
    "df_ab3[\"energy_order\"] = [i for i in range(df_ab3.shape[0])]\n",
    "\n",
    "# Reconstructing dataframe\n",
    "df_dft_final_no_dupl = pd.concat([\n",
    "    df_ab2, df_ab3\n",
    "    ], axis=0)"
   ]
  },
  {
   "cell_type": "code",
   "execution_count": 5,
   "metadata": {},
   "outputs": [],
   "source": [
    "authors = [\n",
    "    {\"name\": \"Raul A. Flores\", \"email\": \"raulf2012@gmail.com\"},\n",
    "    # {\"name\": \"Chris Paolucci\", \"email\": \"cp9wx@virginia.edu\"},\n",
    "    # {\"name\": \"Kirsten Winther\", \"email\": \"winther@stanford.edu\"},\n",
    "    # {\"name\": \"Ankit Jain\", \"email\": \"ankitjain.me.iitk@gmail.com\"},\n",
    "    # {\"name\": \"Jose Antonio Garrido Torres\", \"email\": \"jagt@stanford.edu\"},\n",
    "    # {\"name\": \"Muratahan Aykol\", \"email\": \"muratahan.aykol@tri.global\"},\n",
    "    # {\"name\": \"Joseph Montoya\", \"email\": \"joseph.montoya@tri.global\"},\n",
    "    # {\"name\": \"Jens Kehlet Nørskov\", \"email\": \"jkno@dtu.dk\"},\n",
    "    {\"name\": \"Michal Bajdich\", \"email\": \"bajdich@slac.stanford.edu\"},\n",
    "    # {\"name\": \"Thomas Bligaard\", \"email\": \"tbli@dtu.dk\"},\n",
    "    ]\n",
    "\n",
    "remarks = [\n",
    "    \"Structure is part of the `active_learned_irox_polymorphs` dataset on MPContribs\",\n",
    "    \"https://portal.mpcontribs.org/active_learned_irox_polymorphs/\",\n",
    "    ]"
   ]
  },
  {
   "cell_type": "code",
   "execution_count": 6,
   "metadata": {},
   "outputs": [],
   "source": [
    "for id_i, row_i in df_dft_final_no_dupl.iterrows():\n",
    "    # print(id_i)\n",
    "\n",
    "    unique_id = row_i.name\n",
    "    stoich = row_i.stoich\n",
    "    energy_order = row_i.energy_order\n",
    "\n",
    "    # #########################################################\n",
    "    energy_order_prefix = str(energy_order).zfill(4)\n",
    "\n",
    "    filename = stoich + \"_\" + energy_order_prefix + \"_\" + unique_id\n",
    "    filename += \".json\"\n",
    "\n",
    "    \n",
    "    atoms = row_i.atoms\n",
    "    struct = AseAtomsAdaptor().get_structure(atoms)\n",
    "\n",
    "    extra_data = {\n",
    "        \"_MPContribs_Internal_ID\": unique_id,\n",
    "        }\n",
    "\n",
    "    struct_NL = StructureNL(\n",
    "        struct,\n",
    "        authors,\n",
    "        projects=None,\n",
    "        references=\"\",\n",
    "        remarks=remarks,\n",
    "        data=extra_data,\n",
    "        # history=extra_data,\n",
    "        created_at=date,\n",
    "        )\n",
    "\n",
    "    path_i = os.path.join(\"out_data\", filename)\n",
    "    with open(path_i,\"w\") as file:\n",
    "        json.dump(\n",
    "            struct_NL.as_dict(),\n",
    "            file,\n",
    "            indent=2,\n",
    "            )"
   ]
  }
 ],
 "metadata": {
  "kernelspec": {
   "display_name": "Python [conda env:PROJ_IrOx_Active_Learning_OER]",
   "language": "python",
   "name": "conda-env-PROJ_IrOx_Active_Learning_OER-py"
  },
  "language_info": {
   "codemirror_mode": {
    "name": "ipython",
    "version": 3
   },
   "file_extension": ".py",
   "mimetype": "text/x-python",
   "name": "python",
   "nbconvert_exporter": "python",
   "pygments_lexer": "ipython3",
   "version": "3.6.9"
  }
 },
 "nbformat": 4,
 "nbformat_minor": 4
}
