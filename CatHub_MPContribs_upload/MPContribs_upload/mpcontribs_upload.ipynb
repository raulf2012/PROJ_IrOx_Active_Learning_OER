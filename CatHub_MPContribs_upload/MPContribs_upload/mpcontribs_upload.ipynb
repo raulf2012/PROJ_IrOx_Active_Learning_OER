{
 "cells": [
  {
   "cell_type": "markdown",
   "metadata": {},
   "source": [
    "# Import Modules"
   ],
   "execution_count": null,
   "outputs": []
  },
  {
   "cell_type": "code",
   "execution_count": null,
   "metadata": {},
   "outputs": [],
   "source": [
    "import os\n",
    "print(os.getcwd())\n",
    "import sys\n",
    "\n",
    "import json\n",
    "\n",
    "from pandas import DataFrame\n",
    "\n",
    "# from pymatgen import MPRester, Structure\n",
    "\n",
    "from mpcontribs.client import load_client"
   ]
  },
  {
   "cell_type": "code",
   "execution_count": null,
   "metadata": {},
   "outputs": [],
   "source": [
    "from pymatgen.io.ase import AseAtomsAdaptor"
   ]
  },
  {
   "cell_type": "markdown",
   "metadata": {},
   "source": [
    "# Read IrOx DFT Data"
   ],
   "execution_count": null,
   "outputs": []
  },
  {
   "cell_type": "code",
   "execution_count": null,
   "metadata": {
    "jupyter": {}
   },
   "outputs": [],
   "source": [
    "# #########################################################\n",
    "import pickle; import os\n",
    "path_i = os.path.join(\n",
    "    os.environ[\"PROJ_irox\"],\n",
    "    \"workflow/ml_modelling/processing_bulk_dft/creating_final_dataset_for_upload\",\n",
    "    \"out_data/df_dft_final_no_dupl.pickle\")\n",
    "with open(path_i, \"rb\") as fle:\n",
    "    df_dft = pickle.load(fle)\n",
    "# #########################################################\n",
    "\n",
    "df_dft = df_dft.drop(columns=[\"id\", \"form_e_chris\", \"path\", \"source\"])"
   ]
  },
  {
   "cell_type": "code",
   "execution_count": null,
   "metadata": {
    "jupyter": {}
   },
   "outputs": [],
   "source": [
    "df_dft = df_dft.sample(n=10)\n",
    "\n",
    "# df_dft.head()"
   ]
  },
  {
   "cell_type": "markdown",
   "metadata": {},
   "source": [
    "# MPContribs"
   ],
   "execution_count": null,
   "outputs": []
  },
  {
   "cell_type": "code",
   "execution_count": null,
   "metadata": {
    "jupyter": {}
   },
   "outputs": [],
   "source": [
    "api_key = \"\"\n",
    "\n",
    "project = 'active_learned_irox_polymorphs'\n",
    "\n",
    "client = load_client(api_key)\n",
    "\n",
    "# print(dir(client))\n",
    "# print(dir(client.projects))"
   ]
  },
  {
   "cell_type": "markdown",
   "metadata": {},
   "source": [
    "# Deleting all data to start over"
   ],
   "execution_count": null,
   "outputs": []
  },
  {
   "cell_type": "code",
   "execution_count": null,
   "metadata": {
    "jupyter": {}
   },
   "outputs": [],
   "source": [
    "deleted = client.contributions.delete_entries(project=project).result()\n",
    "\n",
    "print(deleted['count'], 'contribution(s) deleted')\n",
    "\n",
    "deleted"
   ]
  },
  {
   "cell_type": "markdown",
   "metadata": {},
   "source": [
    "# Create Project (Once)"
   ],
   "execution_count": null,
   "outputs": []
  },
  {
   "cell_type": "code",
   "execution_count": null,
   "metadata": {
    "jupyter": {}
   },
   "outputs": [],
   "source": [
    "is_public = True\n",
    "info = {\n",
    "    'project': project,\n",
    "    'is_public': is_public,\n",
    "    'title': 'Active Learned IrOx Polymorphs',\n",
    "    'owner': 'raulf2012@gmail.com',\n",
    "    'authors': 'R. Flores, W. Kirsten',\n",
    "    'description': ' '.join('''\n",
    "        This is a TEMP description here,\n",
    "        nothing really to say right now\n",
    "    '''.replace('\\n', '').split()),\n",
    "    'urls': {\n",
    "        # 'JARVIS': 'http://www.ctcms.nist.gov/~knc6/JVASP.html',\n",
    "        # 'SciRep': 'https://doi.org/10.1038/s41598-017-05402-0',\n",
    "        'GitHub': 'https://github.com/'\n",
    "    }\n",
    "}\n",
    "if False:\n",
    "    client.projects.create_entry(project=info).result()"
   ]
  },
  {
   "cell_type": "code",
   "execution_count": null,
   "metadata": {
    "jupyter": {}
   },
   "outputs": [],
   "source": [
    "all_data = client.projects.get_entry(pk=project, _fields=['_all']).result()\n",
    "\n",
    "# all_data"
   ]
  },
  {
   "cell_type": "markdown",
   "metadata": {},
   "source": [
    "# Adding new data rows"
   ],
   "execution_count": null,
   "outputs": []
  },
  {
   "cell_type": "code",
   "execution_count": null,
   "metadata": {},
   "outputs": [],
   "source": [
    "contributions = dict()\n",
    "for ind_i, row_i in df_dft.iterrows():\n",
    "    stoich = row_i.stoich\n",
    "    dH = row_i.dH\n",
    "\n",
    "    # #####################################################\n",
    "    dH = str(dH) + \" eV\"\n",
    "\n",
    "    # #####################################################\n",
    "    stoich_to_form_dict = {\n",
    "        \"AB2\": \"IrO2\",\n",
    "        \"AB3\": \"IrO3\",\n",
    "        }\n",
    "\n",
    "    formula = stoich_to_form_dict.get(stoich, stoich)\n",
    "    print(formula)\n",
    "\n",
    "    contributions[ind_i] = dict(\n",
    "        contrib=dict(\n",
    "            identifier=ind_i, project=project, is_public=is_public,\n",
    "            formula=stoich_to_form_dict.get(stoich, stoich),\n",
    "            data=dict(dH=dH)\n",
    "            )\n",
    "        )\n",
    "\n",
    "# row_i = df_dft.iloc[0]"
   ]
  },
  {
   "cell_type": "code",
   "execution_count": null,
   "metadata": {},
   "outputs": [],
   "source": [
    "dH"
   ]
  },
  {
   "cell_type": "code",
   "execution_count": null,
   "metadata": {},
   "outputs": [],
   "source": [
    "if True:\n",
    "    contribs = []\n",
    "    for key, val in contributions.items():\n",
    "        contribs.append(val[\"contrib\"])\n",
    "\n",
    "    created = client.contributions.create_entries(\n",
    "        contributions=contribs).result()\n",
    "\n",
    "    created.keys()\n",
    "    cid_tmp = created[\"data\"][0][\"id\"]"
   ]
  },
  {
   "cell_type": "code",
   "execution_count": null,
   "metadata": {},
   "outputs": [],
   "source": [
    "assert False"
   ]
  },
  {
   "cell_type": "markdown",
   "metadata": {},
   "source": [
    "# Add Structures"
   ],
   "execution_count": null,
   "outputs": []
  },
  {
   "cell_type": "code",
   "execution_count": null,
   "metadata": {},
   "outputs": [],
   "source": [
    "row_i = df_dft.iloc[0]\n",
    "\n",
    "atoms = row_i.atoms\n",
    "\n",
    "structure = AseAtomsAdaptor.get_structure(atoms)"
   ]
  },
  {
   "cell_type": "code",
   "execution_count": null,
   "metadata": {},
   "outputs": [],
   "source": [
    "# structure = Structure.from_file('Fe3O4.cif')\n",
    "\n",
    "# for i in created:\n",
    "\n",
    "sdct = dict(contribution=cid_tmp, name='Fe3O4',\n",
    "    label=\"temp_label\",\n",
    "    # name=\n",
    "    )\n",
    "\n",
    "# 'label': '2019/05/21', 'name': comp\n",
    "\n",
    "sdct.update(structure.as_dict())\n",
    "\n",
    "\n",
    "# sid = client.structures.create_entries(structure=[sdct]).result()['id']\n",
    "sid = client.structures.create_entries(structures=[sdct])"
   ]
  },
  {
   "cell_type": "code",
   "execution_count": null,
   "metadata": {},
   "outputs": [],
   "source": [
    "# identifier = 'mp-1002'\n",
    "# cid = client.contributions.create_entry(contribution={\n",
    "#     'project': project, 'identifier': identifier,\n",
    "#     'data': {'E': '3.33 eV', 'E|V': {'a': 1, 'b': '3 cm'}}\n",
    "# }).result()['id']"
   ]
  },
  {
   "cell_type": "raw",
   "metadata": {},
   "source": [
    "\n",
    "\n",
    "\n",
    "\n"
   ],
   "execution_count": null,
   "outputs": []
  },
  {
   "cell_type": "markdown",
   "metadata": {},
   "source": [
    "# MISC\n",
    "---"
   ],
   "execution_count": null,
   "outputs": []
  },
  {
   "cell_type": "markdown",
   "metadata": {},
   "source": [
    "# Extracting data with `get_entries` methods"
   ],
   "execution_count": null,
   "outputs": []
  },
  {
   "cell_type": "code",
   "execution_count": null,
   "metadata": {
    "jupyter": {}
   },
   "outputs": [],
   "source": [
    "# identifier = \"mp-1234\"\n",
    "\n",
    "# client.contributions.get_entries(\n",
    "#     project=project,\n",
    "#     identifier=identifier,\n",
    "#     # _fields=[\"formula\"],\n",
    "#     ).result()\n",
    "#     # ).result()['data']\n",
    "\n",
    "# # client.projects.get_entries?"
   ]
  },
  {
   "cell_type": "raw",
   "metadata": {},
   "source": [
    "\n",
    "\n",
    "\n",
    "\n"
   ],
   "execution_count": null,
   "outputs": []
  },
  {
   "cell_type": "code",
   "execution_count": null,
   "metadata": {
    "jupyter": {}
   },
   "outputs": [],
   "source": [
    "# identifier = 'mp-1002-temp'\n",
    "# cid = client.contributions.create_entry(contribution={\n",
    "#     'project': project, 'identifier': identifier,\n",
    "#     'data': {'E': '3.33 eV', 'E|V': {'a': 1, 'b': '3 cm'}}\n",
    "# }).result()['id']"
   ]
  },
  {
   "cell_type": "code",
   "execution_count": null,
   "metadata": {
    "jupyter": {}
   },
   "outputs": [],
   "source": [
    "# is_public = True\n",
    "\n",
    "# # dir(client.contributions)\n",
    "# # client.contributions.create_entries?\n",
    "\n",
    "# contributions = {\n",
    "#     \"mp-001\": {\n",
    "#         \"contrib\": {\n",
    "#             \"identifier\": \"mp-001\",\n",
    "#             \"project\": project, \"is_public\": is_public,\n",
    "#             \"data\": {\"temp0\": 0, \"temp1\": 1},\n",
    "#             }\n",
    "#         },\n",
    "\n",
    "#     \"mp-002\": {\n",
    "#         \"contrib\": {\n",
    "#             \"identifier\": \"mp-002\",\n",
    "#             \"project\": project, \"is_public\": is_public,\n",
    "#             \"data\": {\"temp0\": 8, \"temp1\": 9},\n",
    "#             }\n",
    "#         },\n",
    "\n",
    "# #     \"mp-002\": ,\n",
    "# #     \"mp-003\": ,\n",
    "#     }"
   ]
  }
 ],
 "metadata": {
  "kernelspec": {
   "display_name": "Python [conda env:mpcontribs]",
   "language": "python",
   "name": "conda-env-mpcontribs-py"
  },
  "language_info": {
   "codemirror_mode": {
    "name": "ipython",
    "version": 3
   },
   "file_extension": ".py",
   "mimetype": "text/x-python",
   "name": "python",
   "nbconvert_exporter": "python",
   "pygments_lexer": "ipython3",
   "version": "3.6.10"
  }
 },
 "nbformat": 4,
 "nbformat_minor": 4
}
