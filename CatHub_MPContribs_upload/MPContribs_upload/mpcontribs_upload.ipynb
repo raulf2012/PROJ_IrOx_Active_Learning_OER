{
 "cells": [
  {
   "cell_type": "markdown",
   "metadata": {},
   "source": [
    "# Import Modules"
   ]
  },
  {
   "cell_type": "code",
   "execution_count": 1,
   "metadata": {
    "jupyter": {
     "source_hidden": true
    }
   },
   "outputs": [
    {
     "name": "stdout",
     "output_type": "stream",
     "text": [
      "/mnt/f/Dropbox/01_norskov/00_git_repos/PROJ_IrOx_Active_Learning_OER/CatHub_MPContribs_upload/MPContribs_upload\n"
     ]
    }
   ],
   "source": [
    "import os\n",
    "print(os.getcwd())\n",
    "import sys\n",
    "\n",
    "import json\n",
    "\n",
    "import numpy as np\n",
    "import pandas as pd\n",
    "\n",
    "from pymatgen.io.ase import AseAtomsAdaptor\n",
    "\n",
    "from mpcontribs.client import load_client"
   ]
  },
  {
   "cell_type": "markdown",
   "metadata": {},
   "source": [
    "# Read IrOx DFT Data"
   ]
  },
  {
   "cell_type": "code",
   "execution_count": 2,
   "metadata": {
    "jupyter": {
     "source_hidden": true
    }
   },
   "outputs": [],
   "source": [
    "# #########################################################\n",
    "import pickle; import os\n",
    "path_i = os.path.join(\n",
    "    os.environ[\"PROJ_irox\"],\n",
    "    \"workflow/ml_modelling/processing_bulk_dft/creating_final_dataset_for_upload\",\n",
    "    \"out_data/df_dft_final_no_dupl.pickle\")\n",
    "with open(path_i, \"rb\") as fle:\n",
    "    df_dft = pickle.load(fle)\n",
    "# #########################################################\n",
    "\n",
    "df_dft = df_dft.drop(columns=[\"id\", \"form_e_chris\", \"path\", \"source\"])"
   ]
  },
  {
   "cell_type": "code",
   "execution_count": 3,
   "metadata": {},
   "outputs": [],
   "source": [
    "df_dft = df_dft.sort_values([\"stoich\", \"dH\"])\n",
    "\n",
    "\n",
    "# #########################################################\n",
    "df_dft = df_dft.iloc[0:15]\n",
    "# df_dft = df_dft.iloc[0:80]\n",
    "# df_dft = df_dft.iloc[0:260]\n",
    "\n",
    "# df_dft = df_dft.sample(n=10)"
   ]
  },
  {
   "cell_type": "code",
   "execution_count": 4,
   "metadata": {},
   "outputs": [],
   "source": [
    "%%capture\n",
    "\n",
    "sys.path.insert(0, \n",
    "    os.path.join(\n",
    "        os.environ[\"PROJ_irox\"],\n",
    "        \"workflow/ml_modelling\"))\n",
    "\n",
    "from ml_methods import get_ml_dataframes\n",
    "DF_dict = get_ml_dataframes(\n",
    "    names=[\n",
    "        'bulk_dft_data_path',\n",
    "        'unique_ids_path',\n",
    "        'prototypes_data_path',\n",
    "        'static_irox_structures_path',\n",
    "        'static_irox_structures_kirsten_path',\n",
    "        'oqmd_irox_data_path',\n",
    "        'df_features_pre_opt_path',\n",
    "        'df_features_pre_opt_kirsten_path',\n",
    "        'df_features_post_opt_path',\n",
    "        'oer_bulk_structures_path',\n",
    "        'df_ccf_path',\n",
    "        'df_dij_path',\n",
    "        'ids_to_discard__too_many_atoms_path',\n",
    "        'df_prototype_dft_path',\n",
    "        'df_prototype_static_path',\n",
    "        ]\n",
    "    )\n",
    "\n",
    "bulk_dft_data = DF_dict[\"bulk_dft_data\"]\n",
    "unique_ids = DF_dict[\"unique_ids\"]\n",
    "prototypes_data = DF_dict[\"prototypes_data\"]\n",
    "static_irox_structures = DF_dict[\"static_irox_structures\"]\n",
    "static_irox_structures_kirsten = DF_dict[\"static_irox_structures_kirsten\"]\n",
    "oqmd_irox_data = DF_dict[\"oqmd_irox_data\"]\n",
    "df_features_pre_opt = DF_dict[\"df_features_pre_opt\"]\n",
    "df_features_pre_opt_kirsten = DF_dict[\"df_features_pre_opt_kirsten\"]\n",
    "df_features_post_opt = DF_dict[\"df_features_post_opt\"]\n",
    "oer_bulk_structures = DF_dict[\"oer_bulk_structures\"]\n",
    "df_ccf = DF_dict[\"df_ccf\"]\n",
    "df_dij = DF_dict[\"df_dij\"]\n",
    "ids_to_discard__too_many_atoms = DF_dict[\"ids_to_discard__too_many_atoms\"]\n",
    "df_prototype_static = DF_dict[\"df_prototype_static\"]\n",
    "df_prototype_dft = DF_dict[\"df_prototype_dft\"]"
   ]
  },
  {
   "cell_type": "raw",
   "metadata": {},
   "source": [
    "\n",
    "\n",
    "\n",
    "\n"
   ]
  },
  {
   "cell_type": "code",
   "execution_count": 5,
   "metadata": {},
   "outputs": [],
   "source": [
    "def chunks(lst, n):\n",
    "    \"\"\"Yield successive n-sized chunks from lst.\"\"\"\n",
    "    for i in range(0, len(lst), n):\n",
    "        yield lst[i:i + n]"
   ]
  },
  {
   "cell_type": "code",
   "execution_count": 6,
   "metadata": {},
   "outputs": [],
   "source": [
    "# assert False"
   ]
  },
  {
   "cell_type": "markdown",
   "metadata": {},
   "source": [
    "# Add 'Formula' Column to df"
   ]
  },
  {
   "cell_type": "code",
   "execution_count": 7,
   "metadata": {
    "jupyter": {
     "source_hidden": true
    }
   },
   "outputs": [],
   "source": [
    "def method(row_i):\n",
    "    stoich_to_form_dict = {\n",
    "        \"AB2\": \"IrO2\",\n",
    "        \"AB3\": \"IrO3\"}\n",
    "\n",
    "    stoich = row_i.stoich\n",
    "    formula = stoich_to_form_dict.get(stoich)\n",
    "    return(formula)\n",
    "\n",
    "df_i = df_dft\n",
    "df_i[\"formula\"] = df_i.apply(\n",
    "    method,\n",
    "    axis=1)"
   ]
  },
  {
   "cell_type": "markdown",
   "metadata": {},
   "source": [
    "# MPContribs"
   ]
  },
  {
   "cell_type": "code",
   "execution_count": 8,
   "metadata": {},
   "outputs": [],
   "source": [
    "import yaml\n",
    "path_i = os.path.join(os.environ[\"PROJ_irox\"], \"config\", \"config.yml\")\n",
    "with open(path_i) as file:\n",
    "    config_dict = yaml.load(file, Loader=yaml.FullLoader)\n",
    "\n",
    "api_key = config_dict[\"mpcontrib\"][\"api_key\"]"
   ]
  },
  {
   "cell_type": "code",
   "execution_count": 9,
   "metadata": {},
   "outputs": [],
   "source": [
    "project = 'active_learned_irox_polymorphs'\n",
    "\n",
    "client = load_client(api_key)\n",
    "\n",
    "# print(dir(client))\n",
    "# print(dir(client.projects))"
   ]
  },
  {
   "cell_type": "markdown",
   "metadata": {},
   "source": [
    "# Deleting all data to start over"
   ]
  },
  {
   "cell_type": "code",
   "execution_count": 23,
   "metadata": {},
   "outputs": [
    {
     "name": "stdout",
     "output_type": "stream",
     "text": [
      "0 contribution(s) deleted | 0 contribution(s) remaining\n"
     ]
    },
    {
     "ename": "HTTPUnauthorized",
     "evalue": "401 b'Unauthorized': {'error': \"401 Unauthorized: The server could not verify that you are authorized to access the URL requested. You either supplied the wrong credentials (e.g. a bad password), or your browser doesn't understand how to supply the credentials required.\"}",
     "output_type": "error",
     "traceback": [
      "\u001b[0;31m---------------------------------------------------------------------------\u001b[0m",
      "\u001b[0;31mHTTPUnauthorized\u001b[0m                          Traceback (most recent call last)",
      "\u001b[0;32m<ipython-input-23-6644f5b0c093>\u001b[0m in \u001b[0;36m<module>\u001b[0;34m\u001b[0m\n\u001b[1;32m     14\u001b[0m \u001b[0;31m# if False:\u001b[0m\u001b[0;34m\u001b[0m\u001b[0;34m\u001b[0m\u001b[0;34m\u001b[0m\u001b[0m\n\u001b[1;32m     15\u001b[0m \u001b[0;32mif\u001b[0m \u001b[0;32mTrue\u001b[0m\u001b[0;34m:\u001b[0m\u001b[0;34m\u001b[0m\u001b[0;34m\u001b[0m\u001b[0m\n\u001b[0;32m---> 16\u001b[0;31m     \u001b[0mresults\u001b[0m \u001b[0;34m=\u001b[0m \u001b[0mclient\u001b[0m\u001b[0;34m.\u001b[0m\u001b[0mprojects\u001b[0m\u001b[0;34m.\u001b[0m\u001b[0mdelete_entry\u001b[0m\u001b[0;34m(\u001b[0m\u001b[0mpk\u001b[0m\u001b[0;34m=\u001b[0m\u001b[0mproject\u001b[0m\u001b[0;34m)\u001b[0m\u001b[0;34m.\u001b[0m\u001b[0mresult\u001b[0m\u001b[0;34m(\u001b[0m\u001b[0;34m)\u001b[0m\u001b[0;34m\u001b[0m\u001b[0;34m\u001b[0m\u001b[0m\n\u001b[0m\u001b[1;32m     17\u001b[0m \u001b[0;34m\u001b[0m\u001b[0m\n\u001b[1;32m     18\u001b[0m \u001b[0;31m# client.projects.delete_entry?\u001b[0m\u001b[0;34m\u001b[0m\u001b[0;34m\u001b[0m\u001b[0;34m\u001b[0m\u001b[0m\n",
      "\u001b[0;32m~/anaconda3/envs/mpcontribs/lib/python3.6/site-packages/bravado/http_future.py\u001b[0m in \u001b[0;36mresult\u001b[0;34m(self, timeout)\u001b[0m\n\u001b[1;32m    269\u001b[0m         \"\"\"\n\u001b[1;32m    270\u001b[0m         \u001b[0mincoming_response\u001b[0m \u001b[0;34m=\u001b[0m \u001b[0mself\u001b[0m\u001b[0;34m.\u001b[0m\u001b[0m_get_incoming_response\u001b[0m\u001b[0;34m(\u001b[0m\u001b[0mtimeout\u001b[0m\u001b[0;34m)\u001b[0m\u001b[0;34m\u001b[0m\u001b[0;34m\u001b[0m\u001b[0m\n\u001b[0;32m--> 271\u001b[0;31m         \u001b[0mswagger_result\u001b[0m \u001b[0;34m=\u001b[0m \u001b[0mself\u001b[0m\u001b[0;34m.\u001b[0m\u001b[0m_get_swagger_result\u001b[0m\u001b[0;34m(\u001b[0m\u001b[0mincoming_response\u001b[0m\u001b[0;34m)\u001b[0m\u001b[0;34m\u001b[0m\u001b[0;34m\u001b[0m\u001b[0m\n\u001b[0m\u001b[1;32m    272\u001b[0m \u001b[0;34m\u001b[0m\u001b[0m\n\u001b[1;32m    273\u001b[0m         \u001b[0;32mif\u001b[0m \u001b[0mself\u001b[0m\u001b[0;34m.\u001b[0m\u001b[0moperation\u001b[0m \u001b[0;32mis\u001b[0m \u001b[0;32mnot\u001b[0m \u001b[0;32mNone\u001b[0m\u001b[0;34m:\u001b[0m\u001b[0;34m\u001b[0m\u001b[0;34m\u001b[0m\u001b[0m\n",
      "\u001b[0;32m~/anaconda3/envs/mpcontribs/lib/python3.6/site-packages/bravado/http_future.py\u001b[0m in \u001b[0;36mwrapper\u001b[0;34m(self, *args, **kwargs)\u001b[0m\n\u001b[1;32m    122\u001b[0m \u001b[0;34m\u001b[0m\u001b[0m\n\u001b[1;32m    123\u001b[0m         \u001b[0;32mtry\u001b[0m\u001b[0;34m:\u001b[0m\u001b[0;34m\u001b[0m\u001b[0;34m\u001b[0m\u001b[0m\n\u001b[0;32m--> 124\u001b[0;31m             \u001b[0;32mreturn\u001b[0m \u001b[0mfunc\u001b[0m\u001b[0;34m(\u001b[0m\u001b[0mself\u001b[0m\u001b[0;34m,\u001b[0m \u001b[0;34m*\u001b[0m\u001b[0margs\u001b[0m\u001b[0;34m,\u001b[0m \u001b[0;34m**\u001b[0m\u001b[0mkwargs\u001b[0m\u001b[0;34m)\u001b[0m\u001b[0;34m\u001b[0m\u001b[0;34m\u001b[0m\u001b[0m\n\u001b[0m\u001b[1;32m    125\u001b[0m         \u001b[0;32mexcept\u001b[0m \u001b[0mtimeout_errors\u001b[0m \u001b[0;32mas\u001b[0m \u001b[0mexception\u001b[0m\u001b[0;34m:\u001b[0m\u001b[0;34m\u001b[0m\u001b[0;34m\u001b[0m\u001b[0m\n\u001b[1;32m    126\u001b[0m             \u001b[0mself\u001b[0m\u001b[0;34m.\u001b[0m\u001b[0mfuture\u001b[0m\u001b[0;34m.\u001b[0m\u001b[0m_raise_timeout_error\u001b[0m\u001b[0;34m(\u001b[0m\u001b[0mexception\u001b[0m\u001b[0;34m)\u001b[0m\u001b[0;34m\u001b[0m\u001b[0;34m\u001b[0m\u001b[0m\n",
      "\u001b[0;32m~/anaconda3/envs/mpcontribs/lib/python3.6/site-packages/bravado/http_future.py\u001b[0m in \u001b[0;36m_get_swagger_result\u001b[0;34m(self, incoming_response)\u001b[0m\n\u001b[1;32m    301\u001b[0m                 \u001b[0mincoming_response\u001b[0m\u001b[0;34m,\u001b[0m\u001b[0;34m\u001b[0m\u001b[0;34m\u001b[0m\u001b[0m\n\u001b[1;32m    302\u001b[0m                 \u001b[0mself\u001b[0m\u001b[0;34m.\u001b[0m\u001b[0moperation\u001b[0m\u001b[0;34m,\u001b[0m\u001b[0;34m\u001b[0m\u001b[0;34m\u001b[0m\u001b[0m\n\u001b[0;32m--> 303\u001b[0;31m                 \u001b[0mself\u001b[0m\u001b[0;34m.\u001b[0m\u001b[0mrequest_config\u001b[0m\u001b[0;34m.\u001b[0m\u001b[0mresponse_callbacks\u001b[0m\u001b[0;34m,\u001b[0m\u001b[0;34m\u001b[0m\u001b[0;34m\u001b[0m\u001b[0m\n\u001b[0m\u001b[1;32m    304\u001b[0m             )\n\u001b[1;32m    305\u001b[0m             \u001b[0mswagger_result\u001b[0m \u001b[0;34m=\u001b[0m \u001b[0mtyping\u001b[0m\u001b[0;34m.\u001b[0m\u001b[0mcast\u001b[0m\u001b[0;34m(\u001b[0m\u001b[0mT\u001b[0m\u001b[0;34m,\u001b[0m \u001b[0mincoming_response\u001b[0m\u001b[0;34m.\u001b[0m\u001b[0mswagger_result\u001b[0m\u001b[0;34m)\u001b[0m\u001b[0;34m\u001b[0m\u001b[0;34m\u001b[0m\u001b[0m\n",
      "\u001b[0;32m~/anaconda3/envs/mpcontribs/lib/python3.6/site-packages/bravado/http_future.py\u001b[0m in \u001b[0;36munmarshal_response\u001b[0;34m(incoming_response, operation, response_callbacks)\u001b[0m\n\u001b[1;32m    351\u001b[0m             \u001b[0mresponse_callback\u001b[0m\u001b[0;34m(\u001b[0m\u001b[0mincoming_response\u001b[0m\u001b[0;34m,\u001b[0m \u001b[0moperation\u001b[0m\u001b[0;34m)\u001b[0m\u001b[0;34m\u001b[0m\u001b[0;34m\u001b[0m\u001b[0m\n\u001b[1;32m    352\u001b[0m \u001b[0;34m\u001b[0m\u001b[0m\n\u001b[0;32m--> 353\u001b[0;31m     \u001b[0mraise_on_expected\u001b[0m\u001b[0;34m(\u001b[0m\u001b[0mincoming_response\u001b[0m\u001b[0;34m)\u001b[0m\u001b[0;34m\u001b[0m\u001b[0;34m\u001b[0m\u001b[0m\n\u001b[0m\u001b[1;32m    354\u001b[0m \u001b[0;34m\u001b[0m\u001b[0m\n\u001b[1;32m    355\u001b[0m \u001b[0;34m\u001b[0m\u001b[0m\n",
      "\u001b[0;32m~/anaconda3/envs/mpcontribs/lib/python3.6/site-packages/bravado/http_future.py\u001b[0m in \u001b[0;36mraise_on_expected\u001b[0;34m(http_response)\u001b[0m\n\u001b[1;32m    420\u001b[0m         raise make_http_exception(\n\u001b[1;32m    421\u001b[0m             \u001b[0mresponse\u001b[0m\u001b[0;34m=\u001b[0m\u001b[0mhttp_response\u001b[0m\u001b[0;34m,\u001b[0m\u001b[0;34m\u001b[0m\u001b[0;34m\u001b[0m\u001b[0m\n\u001b[0;32m--> 422\u001b[0;31m             swagger_result=http_response.swagger_result)\n\u001b[0m",
      "\u001b[0;31mHTTPUnauthorized\u001b[0m: 401 b'Unauthorized': {'error': \"401 Unauthorized: The server could not verify that you are authorized to access the URL requested. You either supplied the wrong credentials (e.g. a bad password), or your browser doesn't understand how to supply the credentials required.\"}"
     ]
    }
   ],
   "source": [
    "total_count = 1234\n",
    "while total_count != 0:\n",
    "    deleted = client.contributions.delete_entries(project=project).result()\n",
    "\n",
    "    total_count = deleted[\"total_count\"]\n",
    "    num_deleted = deleted[\"count\"]\n",
    "\n",
    "    print(\n",
    "        num_deleted, 'contribution(s) deleted',\n",
    "        \"|\",\n",
    "        total_count, \"contribution(s) remaining\")\n",
    "\n",
    "# Delete entire project to start from scratch\n",
    "# if False:\n",
    "if True:\n",
    "    results = client.projects.delete_entry(pk=project).result()\n",
    "\n",
    "# client.projects.delete_entry?"
   ]
  },
  {
   "cell_type": "markdown",
   "metadata": {},
   "source": [
    "# Create Project (Once)"
   ]
  },
  {
   "cell_type": "code",
   "execution_count": 18,
   "metadata": {},
   "outputs": [
    {
     "ename": "HTTPUnauthorized",
     "evalue": "401 b'Unauthorized': {'error': 'Tried to save duplicate unique keys (E11000 duplicate key error collection: mpcontribs-dev.projects index: _id_ dup key: { _id: \"active_learned_irox_polymorphs\" })'}",
     "output_type": "error",
     "traceback": [
      "\u001b[0;31m---------------------------------------------------------------------------\u001b[0m",
      "\u001b[0;31mHTTPUnauthorized\u001b[0m                          Traceback (most recent call last)",
      "\u001b[0;32m<ipython-input-18-f4caeae8c42d>\u001b[0m in \u001b[0;36m<module>\u001b[0;34m\u001b[0m\n\u001b[1;32m     27\u001b[0m \u001b[0;31m# if False:\u001b[0m\u001b[0;34m\u001b[0m\u001b[0;34m\u001b[0m\u001b[0;34m\u001b[0m\u001b[0m\n\u001b[1;32m     28\u001b[0m \u001b[0;32mif\u001b[0m \u001b[0;32mTrue\u001b[0m\u001b[0;34m:\u001b[0m\u001b[0;34m\u001b[0m\u001b[0;34m\u001b[0m\u001b[0m\n\u001b[0;32m---> 29\u001b[0;31m     \u001b[0mclient\u001b[0m\u001b[0;34m.\u001b[0m\u001b[0mprojects\u001b[0m\u001b[0;34m.\u001b[0m\u001b[0mcreate_entry\u001b[0m\u001b[0;34m(\u001b[0m\u001b[0mproject\u001b[0m\u001b[0;34m=\u001b[0m\u001b[0minfo\u001b[0m\u001b[0;34m)\u001b[0m\u001b[0;34m.\u001b[0m\u001b[0mresult\u001b[0m\u001b[0;34m(\u001b[0m\u001b[0;34m)\u001b[0m\u001b[0;34m\u001b[0m\u001b[0;34m\u001b[0m\u001b[0m\n\u001b[0m",
      "\u001b[0;32m~/anaconda3/envs/mpcontribs/lib/python3.6/site-packages/bravado/http_future.py\u001b[0m in \u001b[0;36mresult\u001b[0;34m(self, timeout)\u001b[0m\n\u001b[1;32m    269\u001b[0m         \"\"\"\n\u001b[1;32m    270\u001b[0m         \u001b[0mincoming_response\u001b[0m \u001b[0;34m=\u001b[0m \u001b[0mself\u001b[0m\u001b[0;34m.\u001b[0m\u001b[0m_get_incoming_response\u001b[0m\u001b[0;34m(\u001b[0m\u001b[0mtimeout\u001b[0m\u001b[0;34m)\u001b[0m\u001b[0;34m\u001b[0m\u001b[0;34m\u001b[0m\u001b[0m\n\u001b[0;32m--> 271\u001b[0;31m         \u001b[0mswagger_result\u001b[0m \u001b[0;34m=\u001b[0m \u001b[0mself\u001b[0m\u001b[0;34m.\u001b[0m\u001b[0m_get_swagger_result\u001b[0m\u001b[0;34m(\u001b[0m\u001b[0mincoming_response\u001b[0m\u001b[0;34m)\u001b[0m\u001b[0;34m\u001b[0m\u001b[0;34m\u001b[0m\u001b[0m\n\u001b[0m\u001b[1;32m    272\u001b[0m \u001b[0;34m\u001b[0m\u001b[0m\n\u001b[1;32m    273\u001b[0m         \u001b[0;32mif\u001b[0m \u001b[0mself\u001b[0m\u001b[0;34m.\u001b[0m\u001b[0moperation\u001b[0m \u001b[0;32mis\u001b[0m \u001b[0;32mnot\u001b[0m \u001b[0;32mNone\u001b[0m\u001b[0;34m:\u001b[0m\u001b[0;34m\u001b[0m\u001b[0;34m\u001b[0m\u001b[0m\n",
      "\u001b[0;32m~/anaconda3/envs/mpcontribs/lib/python3.6/site-packages/bravado/http_future.py\u001b[0m in \u001b[0;36mwrapper\u001b[0;34m(self, *args, **kwargs)\u001b[0m\n\u001b[1;32m    122\u001b[0m \u001b[0;34m\u001b[0m\u001b[0m\n\u001b[1;32m    123\u001b[0m         \u001b[0;32mtry\u001b[0m\u001b[0;34m:\u001b[0m\u001b[0;34m\u001b[0m\u001b[0;34m\u001b[0m\u001b[0m\n\u001b[0;32m--> 124\u001b[0;31m             \u001b[0;32mreturn\u001b[0m \u001b[0mfunc\u001b[0m\u001b[0;34m(\u001b[0m\u001b[0mself\u001b[0m\u001b[0;34m,\u001b[0m \u001b[0;34m*\u001b[0m\u001b[0margs\u001b[0m\u001b[0;34m,\u001b[0m \u001b[0;34m**\u001b[0m\u001b[0mkwargs\u001b[0m\u001b[0;34m)\u001b[0m\u001b[0;34m\u001b[0m\u001b[0;34m\u001b[0m\u001b[0m\n\u001b[0m\u001b[1;32m    125\u001b[0m         \u001b[0;32mexcept\u001b[0m \u001b[0mtimeout_errors\u001b[0m \u001b[0;32mas\u001b[0m \u001b[0mexception\u001b[0m\u001b[0;34m:\u001b[0m\u001b[0;34m\u001b[0m\u001b[0;34m\u001b[0m\u001b[0m\n\u001b[1;32m    126\u001b[0m             \u001b[0mself\u001b[0m\u001b[0;34m.\u001b[0m\u001b[0mfuture\u001b[0m\u001b[0;34m.\u001b[0m\u001b[0m_raise_timeout_error\u001b[0m\u001b[0;34m(\u001b[0m\u001b[0mexception\u001b[0m\u001b[0;34m)\u001b[0m\u001b[0;34m\u001b[0m\u001b[0;34m\u001b[0m\u001b[0m\n",
      "\u001b[0;32m~/anaconda3/envs/mpcontribs/lib/python3.6/site-packages/bravado/http_future.py\u001b[0m in \u001b[0;36m_get_swagger_result\u001b[0;34m(self, incoming_response)\u001b[0m\n\u001b[1;32m    301\u001b[0m                 \u001b[0mincoming_response\u001b[0m\u001b[0;34m,\u001b[0m\u001b[0;34m\u001b[0m\u001b[0;34m\u001b[0m\u001b[0m\n\u001b[1;32m    302\u001b[0m                 \u001b[0mself\u001b[0m\u001b[0;34m.\u001b[0m\u001b[0moperation\u001b[0m\u001b[0;34m,\u001b[0m\u001b[0;34m\u001b[0m\u001b[0;34m\u001b[0m\u001b[0m\n\u001b[0;32m--> 303\u001b[0;31m                 \u001b[0mself\u001b[0m\u001b[0;34m.\u001b[0m\u001b[0mrequest_config\u001b[0m\u001b[0;34m.\u001b[0m\u001b[0mresponse_callbacks\u001b[0m\u001b[0;34m,\u001b[0m\u001b[0;34m\u001b[0m\u001b[0;34m\u001b[0m\u001b[0m\n\u001b[0m\u001b[1;32m    304\u001b[0m             )\n\u001b[1;32m    305\u001b[0m             \u001b[0mswagger_result\u001b[0m \u001b[0;34m=\u001b[0m \u001b[0mtyping\u001b[0m\u001b[0;34m.\u001b[0m\u001b[0mcast\u001b[0m\u001b[0;34m(\u001b[0m\u001b[0mT\u001b[0m\u001b[0;34m,\u001b[0m \u001b[0mincoming_response\u001b[0m\u001b[0;34m.\u001b[0m\u001b[0mswagger_result\u001b[0m\u001b[0;34m)\u001b[0m\u001b[0;34m\u001b[0m\u001b[0;34m\u001b[0m\u001b[0m\n",
      "\u001b[0;32m~/anaconda3/envs/mpcontribs/lib/python3.6/site-packages/bravado/http_future.py\u001b[0m in \u001b[0;36munmarshal_response\u001b[0;34m(incoming_response, operation, response_callbacks)\u001b[0m\n\u001b[1;32m    351\u001b[0m             \u001b[0mresponse_callback\u001b[0m\u001b[0;34m(\u001b[0m\u001b[0mincoming_response\u001b[0m\u001b[0;34m,\u001b[0m \u001b[0moperation\u001b[0m\u001b[0;34m)\u001b[0m\u001b[0;34m\u001b[0m\u001b[0;34m\u001b[0m\u001b[0m\n\u001b[1;32m    352\u001b[0m \u001b[0;34m\u001b[0m\u001b[0m\n\u001b[0;32m--> 353\u001b[0;31m     \u001b[0mraise_on_expected\u001b[0m\u001b[0;34m(\u001b[0m\u001b[0mincoming_response\u001b[0m\u001b[0;34m)\u001b[0m\u001b[0;34m\u001b[0m\u001b[0;34m\u001b[0m\u001b[0m\n\u001b[0m\u001b[1;32m    354\u001b[0m \u001b[0;34m\u001b[0m\u001b[0m\n\u001b[1;32m    355\u001b[0m \u001b[0;34m\u001b[0m\u001b[0m\n",
      "\u001b[0;32m~/anaconda3/envs/mpcontribs/lib/python3.6/site-packages/bravado/http_future.py\u001b[0m in \u001b[0;36mraise_on_expected\u001b[0;34m(http_response)\u001b[0m\n\u001b[1;32m    420\u001b[0m         raise make_http_exception(\n\u001b[1;32m    421\u001b[0m             \u001b[0mresponse\u001b[0m\u001b[0;34m=\u001b[0m\u001b[0mhttp_response\u001b[0m\u001b[0;34m,\u001b[0m\u001b[0;34m\u001b[0m\u001b[0;34m\u001b[0m\u001b[0m\n\u001b[0;32m--> 422\u001b[0;31m             swagger_result=http_response.swagger_result)\n\u001b[0m",
      "\u001b[0;31mHTTPUnauthorized\u001b[0m: 401 b'Unauthorized': {'error': 'Tried to save duplicate unique keys (E11000 duplicate key error collection: mpcontribs-dev.projects index: _id_ dup key: { _id: \"active_learned_irox_polymorphs\" })'}"
     ]
    }
   ],
   "source": [
    "is_public = True\n",
    "info = {\n",
    "    \"project\": project,\n",
    "    \"is_public\": is_public,\n",
    "    \"title\": \"Active Learned IrOx Polymorphs\",\n",
    "    \"owner\": \"raulf2012@gmail.com\",\n",
    "    \"authors\": \"R. Flores, W. Kirsten\",\n",
    "    \"description\": \" \".join(\"\"\"\n",
    "        Materials science is primarily concerned with the underlying relationship between a material's structure and functionality,\n",
    "        where the knowledge of viable polymorphic forms of crystals plays an indispensable role.\n",
    "        Machine-learning based surrogate models have the potential to accelerate this process of creating the knowledge-base for materials polymorphs for target applications in under-explored chemistries.\n",
    "        Herein, we report on a readily generalizable active-learning (AL) accelerated algorithm for the targeted identification of novel and stable IrOx (x=2 or 3) polymorphs and subsequent thermochemical analyses of the activity of these discovered structures towards the oxygen evolution reaction (OER).\n",
    "        We demonstrate that compared to a random search,\n",
    "        the AL framework more than doubles the efficiency of using DFT to find stable polymorphs out of a large array of prototypical structures.\n",
    "        We find nearly 195 IrO2 polymorphs within the thermodynamic synthesizability limit and reaffirm the rutile ground state.\n",
    "        For IrO3, we find 74 unique synthesizable polymorphs and report a previously unknown FeF3-like ground state.\n",
    "        The algorithm is exceptionally adept at quickly picking out the most stable polymorphs, with the most stable α-IrO3 phase discovered on average in only 4.3 generations.\n",
    "        An analysis of the structural properties of these metastable polymorphs reveals that octahedral local coordination environments are preferred for all low energy structures.\n",
    "        \"\"\".replace(\"\\n\", \"\").split()),\n",
    "    \"urls\": {\n",
    "        # \"JARVIS\": \"http://www.ctcms.nist.gov/~knc6/JVASP.html\",\n",
    "        # \"SciRep\": \"https://doi.org/10.1038/s41598-017-05402-0\",\n",
    "        \"GitHub\": \"https://github.com/\"\n",
    "        },\n",
    "    \"other\": {\"tmp\": \"tmp1\", },\n",
    "}\n",
    "# if False:\n",
    "if True:\n",
    "    client.projects.create_entry(project=info).result()"
   ]
  },
  {
   "cell_type": "code",
   "execution_count": 12,
   "metadata": {},
   "outputs": [],
   "source": [
    "if False:\n",
    "    all_data = client.projects.get_entry(pk=project, _fields=['_all']).result()\n",
    "\n",
    "# all_data"
   ]
  },
  {
   "cell_type": "markdown",
   "metadata": {},
   "source": [
    "# Update Project Properties"
   ]
  },
  {
   "cell_type": "code",
   "execution_count": 13,
   "metadata": {},
   "outputs": [],
   "source": [
    "if False:\n",
    "    client.projects.update_entry(pk=project, \n",
    "        project={\n",
    "            \"is_public\": False,\n",
    "            }\n",
    "        )"
   ]
  },
  {
   "cell_type": "markdown",
   "metadata": {},
   "source": [
    "# Adding new data rows"
   ]
  },
  {
   "cell_type": "code",
   "execution_count": 20,
   "metadata": {},
   "outputs": [],
   "source": [
    "contributions = dict()\n",
    "for ind_i, row_i in df_dft.iterrows():\n",
    "    stoich = row_i.stoich\n",
    "    dH = row_i.dH\n",
    "    formula = row_i.formula\n",
    "    energy_pa = row_i.energy_pa\n",
    "    num_atoms = row_i.num_atoms\n",
    "    volume = row_i.volume\n",
    "    volume_pa = row_i.volume_pa\n",
    "\n",
    "    # #####################################################\n",
    "    row_proto_dft = df_prototype_dft.loc[ind_i]\n",
    "\n",
    "    prototype_name_dft = row_proto_dft.p_name\n",
    "    spacegroup_dft = row_proto_dft.spacegroup\n",
    "\n",
    "    # #########################################################\n",
    "    row_proto_static_i = df_prototype_static.loc[ind_i]\n",
    "\n",
    "    prototype_name_static = row_proto_static_i.p_name\n",
    "    spacegroup_static = row_proto_static_i.spacegroup\n",
    "\n",
    "    # prototype_name_static = prototype_name_static\n",
    "\n",
    "    # #####################################################\n",
    "    # #####################################################\n",
    "    dH = str(dH) + \" eV/atom\"\n",
    "    dft_energy_per_atom = str(energy_pa) + \" eV/atom\"\n",
    "    number_of_atoms = num_atoms\n",
    "    volume = str(volume) + \" angstrom**3\"\n",
    "    volume_pa = str(volume_pa) + \" angstrom**3/atom\"\n",
    "\n",
    "    # #####################################################\n",
    "    contributions[ind_i] = dict(\n",
    "        contrib=dict(\n",
    "            identifier=ind_i, project=project, is_public=is_public,\n",
    "            data={\n",
    "                \"ΔH|formation\": dH,\n",
    "                \"Formula\": formula,\n",
    "                \"EnergyDFT\": dft_energy_per_atom,\n",
    "                \"NumberOfAtoms\": number_of_atoms,\n",
    "                \"Volume|UnitCell\": volume,\n",
    "                \"Volume\": volume_pa,\n",
    "\n",
    "                \"StructurePrototype|PreDFT\": prototype_name_static,\n",
    "                \"StructurePrototype|PostDFT\": prototype_name_dft,\n",
    "                \"SpaceGroupNumber|PreDFT\": int(spacegroup_static),\n",
    "                \"SpaceGroupNumber|PostDFT\": int(spacegroup_dft),\n",
    "                },\n",
    "            )\n",
    "        )"
   ]
  },
  {
   "cell_type": "code",
   "execution_count": 21,
   "metadata": {},
   "outputs": [
    {
     "ename": "HTTPUnauthorized",
     "evalue": "401 b'Unauthorized': {'error': \"401 Unauthorized: The server could not verify that you are authorized to access the URL requested. You either supplied the wrong credentials (e.g. a bad password), or your browser doesn't understand how to supply the credentials required.\"}",
     "output_type": "error",
     "traceback": [
      "\u001b[0;31m---------------------------------------------------------------------------\u001b[0m",
      "\u001b[0;31mHTTPUnauthorized\u001b[0m                          Traceback (most recent call last)",
      "\u001b[0;32m<ipython-input-21-c8ec5d7b7708>\u001b[0m in \u001b[0;36m<module>\u001b[0;34m\u001b[0m\n\u001b[1;32m     11\u001b[0m \u001b[0;34m\u001b[0m\u001b[0m\n\u001b[1;32m     12\u001b[0m         created = client.contributions.create_entries(\n\u001b[0;32m---> 13\u001b[0;31m             contributions=contribs_chunk_i).result()\n\u001b[0m\u001b[1;32m     14\u001b[0m \u001b[0;34m\u001b[0m\u001b[0m\n\u001b[1;32m     15\u001b[0m         \u001b[0mdf_mp_i\u001b[0m \u001b[0;34m=\u001b[0m \u001b[0mpd\u001b[0m\u001b[0;34m.\u001b[0m\u001b[0mDataFrame\u001b[0m\u001b[0;34m(\u001b[0m\u001b[0mcreated\u001b[0m\u001b[0;34m[\u001b[0m\u001b[0;34m\"data\"\u001b[0m\u001b[0;34m]\u001b[0m\u001b[0;34m)\u001b[0m\u001b[0;34m.\u001b[0m\u001b[0mset_index\u001b[0m\u001b[0;34m(\u001b[0m\u001b[0;34m\"identifier\"\u001b[0m\u001b[0;34m)\u001b[0m\u001b[0;34m\u001b[0m\u001b[0;34m\u001b[0m\u001b[0m\n",
      "\u001b[0;32m~/anaconda3/envs/mpcontribs/lib/python3.6/site-packages/bravado/http_future.py\u001b[0m in \u001b[0;36mresult\u001b[0;34m(self, timeout)\u001b[0m\n\u001b[1;32m    269\u001b[0m         \"\"\"\n\u001b[1;32m    270\u001b[0m         \u001b[0mincoming_response\u001b[0m \u001b[0;34m=\u001b[0m \u001b[0mself\u001b[0m\u001b[0;34m.\u001b[0m\u001b[0m_get_incoming_response\u001b[0m\u001b[0;34m(\u001b[0m\u001b[0mtimeout\u001b[0m\u001b[0;34m)\u001b[0m\u001b[0;34m\u001b[0m\u001b[0;34m\u001b[0m\u001b[0m\n\u001b[0;32m--> 271\u001b[0;31m         \u001b[0mswagger_result\u001b[0m \u001b[0;34m=\u001b[0m \u001b[0mself\u001b[0m\u001b[0;34m.\u001b[0m\u001b[0m_get_swagger_result\u001b[0m\u001b[0;34m(\u001b[0m\u001b[0mincoming_response\u001b[0m\u001b[0;34m)\u001b[0m\u001b[0;34m\u001b[0m\u001b[0;34m\u001b[0m\u001b[0m\n\u001b[0m\u001b[1;32m    272\u001b[0m \u001b[0;34m\u001b[0m\u001b[0m\n\u001b[1;32m    273\u001b[0m         \u001b[0;32mif\u001b[0m \u001b[0mself\u001b[0m\u001b[0;34m.\u001b[0m\u001b[0moperation\u001b[0m \u001b[0;32mis\u001b[0m \u001b[0;32mnot\u001b[0m \u001b[0;32mNone\u001b[0m\u001b[0;34m:\u001b[0m\u001b[0;34m\u001b[0m\u001b[0;34m\u001b[0m\u001b[0m\n",
      "\u001b[0;32m~/anaconda3/envs/mpcontribs/lib/python3.6/site-packages/bravado/http_future.py\u001b[0m in \u001b[0;36mwrapper\u001b[0;34m(self, *args, **kwargs)\u001b[0m\n\u001b[1;32m    122\u001b[0m \u001b[0;34m\u001b[0m\u001b[0m\n\u001b[1;32m    123\u001b[0m         \u001b[0;32mtry\u001b[0m\u001b[0;34m:\u001b[0m\u001b[0;34m\u001b[0m\u001b[0;34m\u001b[0m\u001b[0m\n\u001b[0;32m--> 124\u001b[0;31m             \u001b[0;32mreturn\u001b[0m \u001b[0mfunc\u001b[0m\u001b[0;34m(\u001b[0m\u001b[0mself\u001b[0m\u001b[0;34m,\u001b[0m \u001b[0;34m*\u001b[0m\u001b[0margs\u001b[0m\u001b[0;34m,\u001b[0m \u001b[0;34m**\u001b[0m\u001b[0mkwargs\u001b[0m\u001b[0;34m)\u001b[0m\u001b[0;34m\u001b[0m\u001b[0;34m\u001b[0m\u001b[0m\n\u001b[0m\u001b[1;32m    125\u001b[0m         \u001b[0;32mexcept\u001b[0m \u001b[0mtimeout_errors\u001b[0m \u001b[0;32mas\u001b[0m \u001b[0mexception\u001b[0m\u001b[0;34m:\u001b[0m\u001b[0;34m\u001b[0m\u001b[0;34m\u001b[0m\u001b[0m\n\u001b[1;32m    126\u001b[0m             \u001b[0mself\u001b[0m\u001b[0;34m.\u001b[0m\u001b[0mfuture\u001b[0m\u001b[0;34m.\u001b[0m\u001b[0m_raise_timeout_error\u001b[0m\u001b[0;34m(\u001b[0m\u001b[0mexception\u001b[0m\u001b[0;34m)\u001b[0m\u001b[0;34m\u001b[0m\u001b[0;34m\u001b[0m\u001b[0m\n",
      "\u001b[0;32m~/anaconda3/envs/mpcontribs/lib/python3.6/site-packages/bravado/http_future.py\u001b[0m in \u001b[0;36m_get_swagger_result\u001b[0;34m(self, incoming_response)\u001b[0m\n\u001b[1;32m    301\u001b[0m                 \u001b[0mincoming_response\u001b[0m\u001b[0;34m,\u001b[0m\u001b[0;34m\u001b[0m\u001b[0;34m\u001b[0m\u001b[0m\n\u001b[1;32m    302\u001b[0m                 \u001b[0mself\u001b[0m\u001b[0;34m.\u001b[0m\u001b[0moperation\u001b[0m\u001b[0;34m,\u001b[0m\u001b[0;34m\u001b[0m\u001b[0;34m\u001b[0m\u001b[0m\n\u001b[0;32m--> 303\u001b[0;31m                 \u001b[0mself\u001b[0m\u001b[0;34m.\u001b[0m\u001b[0mrequest_config\u001b[0m\u001b[0;34m.\u001b[0m\u001b[0mresponse_callbacks\u001b[0m\u001b[0;34m,\u001b[0m\u001b[0;34m\u001b[0m\u001b[0;34m\u001b[0m\u001b[0m\n\u001b[0m\u001b[1;32m    304\u001b[0m             )\n\u001b[1;32m    305\u001b[0m             \u001b[0mswagger_result\u001b[0m \u001b[0;34m=\u001b[0m \u001b[0mtyping\u001b[0m\u001b[0;34m.\u001b[0m\u001b[0mcast\u001b[0m\u001b[0;34m(\u001b[0m\u001b[0mT\u001b[0m\u001b[0;34m,\u001b[0m \u001b[0mincoming_response\u001b[0m\u001b[0;34m.\u001b[0m\u001b[0mswagger_result\u001b[0m\u001b[0;34m)\u001b[0m\u001b[0;34m\u001b[0m\u001b[0;34m\u001b[0m\u001b[0m\n",
      "\u001b[0;32m~/anaconda3/envs/mpcontribs/lib/python3.6/site-packages/bravado/http_future.py\u001b[0m in \u001b[0;36munmarshal_response\u001b[0;34m(incoming_response, operation, response_callbacks)\u001b[0m\n\u001b[1;32m    351\u001b[0m             \u001b[0mresponse_callback\u001b[0m\u001b[0;34m(\u001b[0m\u001b[0mincoming_response\u001b[0m\u001b[0;34m,\u001b[0m \u001b[0moperation\u001b[0m\u001b[0;34m)\u001b[0m\u001b[0;34m\u001b[0m\u001b[0;34m\u001b[0m\u001b[0m\n\u001b[1;32m    352\u001b[0m \u001b[0;34m\u001b[0m\u001b[0m\n\u001b[0;32m--> 353\u001b[0;31m     \u001b[0mraise_on_expected\u001b[0m\u001b[0;34m(\u001b[0m\u001b[0mincoming_response\u001b[0m\u001b[0;34m)\u001b[0m\u001b[0;34m\u001b[0m\u001b[0;34m\u001b[0m\u001b[0m\n\u001b[0m\u001b[1;32m    354\u001b[0m \u001b[0;34m\u001b[0m\u001b[0m\n\u001b[1;32m    355\u001b[0m \u001b[0;34m\u001b[0m\u001b[0m\n",
      "\u001b[0;32m~/anaconda3/envs/mpcontribs/lib/python3.6/site-packages/bravado/http_future.py\u001b[0m in \u001b[0;36mraise_on_expected\u001b[0;34m(http_response)\u001b[0m\n\u001b[1;32m    420\u001b[0m         raise make_http_exception(\n\u001b[1;32m    421\u001b[0m             \u001b[0mresponse\u001b[0m\u001b[0;34m=\u001b[0m\u001b[0mhttp_response\u001b[0m\u001b[0;34m,\u001b[0m\u001b[0;34m\u001b[0m\u001b[0;34m\u001b[0m\u001b[0m\n\u001b[0;32m--> 422\u001b[0;31m             swagger_result=http_response.swagger_result)\n\u001b[0m",
      "\u001b[0;31mHTTPUnauthorized\u001b[0m: 401 b'Unauthorized': {'error': \"401 Unauthorized: The server could not verify that you are authorized to access the URL requested. You either supplied the wrong credentials (e.g. a bad password), or your browser doesn't understand how to supply the credentials required.\"}"
     ]
    }
   ],
   "source": [
    "# assert False\n",
    "\n",
    "if True:\n",
    "    contribs = []\n",
    "    for key, val in contributions.items():\n",
    "        contribs.append(val[\"contrib\"])\n",
    "\n",
    "    chunk_size = 20\n",
    "    df_mp_list = []\n",
    "    for contribs_chunk_i in chunks(contribs, chunk_size):\n",
    "\n",
    "        created = client.contributions.create_entries(\n",
    "            contributions=contribs_chunk_i).result()\n",
    "\n",
    "        df_mp_i = pd.DataFrame(created[\"data\"]).set_index(\"identifier\")\n",
    "        df_mp_list.append(df_mp_i)\n",
    "\n",
    "\n",
    "df_mp = pd.concat(df_mp_list)"
   ]
  },
  {
   "cell_type": "markdown",
   "metadata": {},
   "source": [
    "# Add Structures"
   ]
  },
  {
   "cell_type": "code",
   "execution_count": null,
   "metadata": {},
   "outputs": [],
   "source": [
    "for id_chunk_i in chunks(df_mp.index.tolist(), chunk_size):\n",
    "    df_mp_i = df_mp.loc[id_chunk_i]\n",
    "\n",
    "    structure_contribs = []\n",
    "    for id_i, row_i in df_mp_i.iterrows():\n",
    "        print(id_i)\n",
    "\n",
    "        cid = row_i.id\n",
    "\n",
    "        # #####################################################\n",
    "        #  DFT Data ###########################################\n",
    "        row_dft_i= df_dft.loc[id_i]\n",
    "\n",
    "        formula = row_dft_i.formula\n",
    "        atoms_final = row_dft_i.atoms\n",
    "\n",
    "        # #####################################################\n",
    "        # Static IrOx #########################################\n",
    "        row_static_i = static_irox_structures.loc[id_i]\n",
    "\n",
    "        atoms_init = row_static_i.atoms\n",
    "\n",
    "\n",
    "        # #####################################################\n",
    "        # #####################################################\n",
    "        structure_final = AseAtomsAdaptor.get_structure(atoms_final)\n",
    "        structure_init = AseAtomsAdaptor.get_structure(atoms_init)\n",
    "\n",
    "        # #####################################################\n",
    "        sdct = dict(contribution=cid,\n",
    "            name=id_i + \"_final\",\n",
    "            label=\"Final_DFT_Optimized\",\n",
    "            )\n",
    "        sdct.update(structure_final.as_dict())\n",
    "        structure_contribs.append(sdct)\n",
    "        # print(id_i + \"_final\")\n",
    "\n",
    "        sdct = dict(contribution=cid,\n",
    "            name=id_i + \"_init\",\n",
    "            # label=\"Initialstructuralprototype\",\n",
    "            label=\"Initial_Prototype\",\n",
    "            )\n",
    "        sdct.update(structure_init.as_dict())\n",
    "        structure_contribs.append(sdct)\n",
    "        # print(id_i + \"_init\")\n",
    "\n",
    "    sid = client.structures.create_entries(structures=structure_contribs).result()"
   ]
  },
  {
   "cell_type": "code",
   "execution_count": null,
   "metadata": {},
   "outputs": [],
   "source": [
    "assert False"
   ]
  },
  {
   "cell_type": "markdown",
   "metadata": {},
   "source": [
    "# MISC\n",
    "---"
   ]
  },
  {
   "cell_type": "markdown",
   "metadata": {},
   "source": [
    "# Extracting data with `get_entries` methods"
   ]
  },
  {
   "cell_type": "code",
   "execution_count": null,
   "metadata": {
    "jupyter": {
     "source_hidden": true
    }
   },
   "outputs": [],
   "source": [
    "# identifier = \"mp-1234\"\n",
    "\n",
    "# client.contributions.get_entries(\n",
    "#     project=project,\n",
    "#     identifier=identifier,\n",
    "#     # _fields=[\"formula\"],\n",
    "#     ).result()\n",
    "#     # ).result()['data']\n",
    "\n",
    "# # client.projects.get_entries?"
   ]
  },
  {
   "cell_type": "raw",
   "metadata": {},
   "source": [
    "\n",
    "\n",
    "\n",
    "\n"
   ]
  },
  {
   "cell_type": "code",
   "execution_count": null,
   "metadata": {
    "jupyter": {
     "source_hidden": true
    }
   },
   "outputs": [],
   "source": [
    "# identifier = 'mp-1002-temp'\n",
    "# cid = client.contributions.create_entry(contribution={\n",
    "#     'project': project, 'identifier': identifier,\n",
    "#     'data': {'E': '3.33 eV', 'E|V': {'a': 1, 'b': '3 cm'}}\n",
    "# }).result()['id']"
   ]
  },
  {
   "cell_type": "code",
   "execution_count": null,
   "metadata": {
    "jupyter": {
     "source_hidden": true
    }
   },
   "outputs": [],
   "source": [
    "# is_public = True\n",
    "\n",
    "# # dir(client.contributions)\n",
    "# # client.contributions.create_entries?\n",
    "\n",
    "# contributions = {\n",
    "#     \"mp-001\": {\n",
    "#         \"contrib\": {\n",
    "#             \"identifier\": \"mp-001\",\n",
    "#             \"project\": project, \"is_public\": is_public,\n",
    "#             \"data\": {\"temp0\": 0, \"temp1\": 1},\n",
    "#             }\n",
    "#         },\n",
    "\n",
    "#     \"mp-002\": {\n",
    "#         \"contrib\": {\n",
    "#             \"identifier\": \"mp-002\",\n",
    "#             \"project\": project, \"is_public\": is_public,\n",
    "#             \"data\": {\"temp0\": 8, \"temp1\": 9},\n",
    "#             }\n",
    "#         },\n",
    "\n",
    "# #     \"mp-002\": ,\n",
    "# #     \"mp-003\": ,\n",
    "#     }"
   ]
  },
  {
   "cell_type": "code",
   "execution_count": null,
   "metadata": {
    "jupyter": {
     "source_hidden": true
    }
   },
   "outputs": [],
   "source": [
    "# row_i = df_dft.iloc[0]\n",
    "# atoms = row_i.atoms\n",
    "# structure = AseAtomsAdaptor.get_structure(atoms)"
   ]
  },
  {
   "cell_type": "code",
   "execution_count": null,
   "metadata": {
    "jupyter": {
     "source_hidden": true
    }
   },
   "outputs": [],
   "source": [
    "# # structure = Structure.from_file('Fe3O4.cif')\n",
    "# # for i in created:\n",
    "\n",
    "# sdct = dict(contribution=cid_tmp, name='Fe3O4',\n",
    "#     label=\"temp_label\",\n",
    "#     # name=\n",
    "#     )\n",
    "# sdct.update(structure.as_dict())\n",
    "\n",
    "\n",
    "# ## sid = client.structures.create_entries(structure=[sdct]).result()['id']\n",
    "# # sid = client.structures.create_entries(structures=[sdct])"
   ]
  },
  {
   "cell_type": "code",
   "execution_count": null,
   "metadata": {
    "jupyter": {
     "source_hidden": true
    }
   },
   "outputs": [],
   "source": [
    "# identifier = 'mp-1002'\n",
    "# cid = client.contributions.create_entry(contribution={\n",
    "#     'project': project, 'identifier': identifier,\n",
    "#     'data': {'E': '3.33 eV', 'E|V': {'a': 1, 'b': '3 cm'}}\n",
    "# }).result()['id']"
   ]
  },
  {
   "cell_type": "code",
   "execution_count": null,
   "metadata": {
    "jupyter": {
     "source_hidden": true
    }
   },
   "outputs": [],
   "source": [
    "# get_ml_dataframes(\n",
    "#     names=[\n",
    "#         # 'bulk_dft_data_path',\n",
    "#         # 'unique_ids_path',\n",
    "#         # 'prototypes_data_path',\n",
    "#         # 'static_irox_structures_path',\n",
    "#         # 'static_irox_structures_kirsten_path',\n",
    "#         # 'oqmd_irox_data_path',\n",
    "#         # 'df_features_pre_opt_path',\n",
    "#         # 'df_features_pre_opt_kirsten_path',\n",
    "#         # 'df_features_post_opt_path',\n",
    "#         # 'oer_bulk_structures_path',\n",
    "#         # 'df_ccf_path',\n",
    "#         # 'df_dij_path',\n",
    "#         # 'ids_to_discard__too_many_atoms_path',\n",
    "#         'df_prototype_dft_path',\n",
    "#         'df_prototype_static_path',\n",
    "#         ]\n",
    "#     )"
   ]
  },
  {
   "cell_type": "code",
   "execution_count": null,
   "metadata": {
    "jupyter": {
     "source_hidden": true
    }
   },
   "outputs": [],
   "source": [
    "# row_proto_static_i\n",
    "\n",
    "# df_dft\n",
    "\n",
    "# df_prototype_static.shape\n",
    "\n",
    "# if ind_i in df_prototype_static.index:\n",
    "\n"
   ]
  },
  {
   "cell_type": "code",
   "execution_count": null,
   "metadata": {
    "jupyter": {
     "source_hidden": true
    }
   },
   "outputs": [],
   "source": [
    "# row_i.name\n",
    "\n",
    "# ind_i"
   ]
  }
 ],
 "metadata": {
  "kernelspec": {
   "display_name": "Python [conda env:mpcontribs]",
   "language": "python",
   "name": "conda-env-mpcontribs-py"
  },
  "language_info": {
   "codemirror_mode": {
    "name": "ipython",
    "version": 3
   },
   "file_extension": ".py",
   "mimetype": "text/x-python",
   "name": "python",
   "nbconvert_exporter": "python",
   "pygments_lexer": "ipython3",
   "version": "3.6.10"
  }
 },
 "nbformat": 4,
 "nbformat_minor": 4
}
