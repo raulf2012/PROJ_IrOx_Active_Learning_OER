{
 "cells": [
  {
   "cell_type": "code",
   "execution_count": null,
   "metadata": {},
   "outputs": [],
   "source": [
    "import os\n",
    "print(os.getcwd())\n",
    "import sys\n",
    "\n",
    "import pandas as pd"
   ]
  },
  {
   "cell_type": "code",
   "execution_count": null,
   "metadata": {},
   "outputs": [],
   "source": [
    "os.chdir(\n",
    "    os.environ[\"PROJ_irox\"]\n",
    "    )"
   ]
  },
  {
   "cell_type": "code",
   "execution_count": null,
   "metadata": {},
   "outputs": [],
   "source": [
    "import subprocess\n",
    "res = subprocess.check_output(\n",
    "    [\"git\", \"ls-files\", \"--others\", \"--exclude-standard\"]\n",
    "    )\n",
    "\n",
    "data_dict_list = []\n",
    "for path_i in res.splitlines():\n",
    "    data_dict_i = dict()\n",
    "\n",
    "    path_i = path_i.decode('UTF-8')\n",
    "    data_dict_i[\"path\"] = path_i\n",
    "\n",
    "    file_name_i = path_i.split(\"/\")[-1]\n",
    "    data_dict_i[\"file\"] = file_name_i\n",
    "\n",
    "    size_i = os.stat(path_i).st_size / 1000  # Size in KB\n",
    "    data_dict_i[\"size_kb\"] = size_i\n",
    "    \n",
    "    data_dict_list.append(data_dict_i)\n",
    "    \n",
    "df = pd.DataFrame(data_dict_list)"
   ]
  },
  {
   "cell_type": "code",
   "execution_count": null,
   "metadata": {},
   "outputs": [],
   "source": [
    "df[\"size_mb\"] = df.size_kb / 1000\n",
    "\n",
    "\n",
    "df = df.sort_values(\"size_kb\", ascending=False)\n",
    "\n",
    "df.iloc[0:20]"
   ]
  },
  {
   "cell_type": "code",
   "execution_count": null,
   "metadata": {},
   "outputs": [],
   "source": [
    "res"
   ]
  }
 ],
 "metadata": {
  "kernelspec": {
   "display_name": "Python [conda env:PROJ_IrOx_Active_Learning_OER]",
   "language": "python",
   "name": "conda-env-PROJ_IrOx_Active_Learning_OER-py"
  },
  "language_info": {
   "codemirror_mode": {
    "name": "ipython",
    "version": 3
   },
   "file_extension": ".py",
   "mimetype": "text/x-python",
   "name": "python",
   "nbconvert_exporter": "python",
   "pygments_lexer": "ipython3",
   "version": "3.6.7"
  }
 },
 "nbformat": 4,
 "nbformat_minor": 4
}
