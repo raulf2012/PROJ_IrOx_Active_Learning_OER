{
 "cells": [
  {
   "cell_type": "markdown",
   "metadata": {},
   "source": [
    "# Import Modules"
   ],
   "execution_count": null,
   "outputs": []
  },
  {
   "cell_type": "code",
   "execution_count": null,
   "metadata": {},
   "outputs": [],
   "source": [
    "import os\n",
    "print(os.getcwd())\n",
    "import sys\n",
    "\n",
    "\n",
    "import subprocess\n",
    "\n",
    "import pandas as pd"
   ]
  },
  {
   "cell_type": "code",
   "execution_count": null,
   "metadata": {},
   "outputs": [],
   "source": [
    "os.chdir(\n",
    "    os.environ[\"PROJ_irox\"]\n",
    "    )"
   ]
  },
  {
   "cell_type": "code",
   "execution_count": null,
   "metadata": {},
   "outputs": [],
   "source": [
    "# res = subprocess.check_output(\n",
    "#     \"git rev-parse --show-toplevel\".split(\" \")\n",
    "#     )\n",
    "# root_git_path = res.decode(\"UTF-8\").strip()"
   ]
  },
  {
   "cell_type": "code",
   "execution_count": null,
   "metadata": {},
   "outputs": [],
   "source": [
    "res = subprocess.check_output(\n",
    "    # [\"git\", \"ls-files\", \"--others\", \"--exclude-standard\"]\n",
    "    \"git status -s --porcelain\".split(\" \")\n",
    "    )\n",
    "\n",
    "data_dict_list = []\n",
    "out_list = [i.decode(\"UTF-8\") for i in res.splitlines()]\n",
    "for line_i in out_list:\n",
    "    data_dict_i = dict()\n",
    "\n",
    "    if line_i[0] == \" \":\n",
    "        line_i = line_i[1:]\n",
    "\n",
    "    status_i = line_i.split(\" \")[0]\n",
    "    path_i = line_i.split(\" \")[1]\n",
    "\n",
    "    data_dict_i[\"status\"] = status_i\n",
    "    data_dict_i[\"path\"] = path_i\n",
    "\n",
    "    filename_i = path_i.split(\"/\")[-1]\n",
    "    data_dict_i[\"filename\"] = filename_i\n",
    "\n",
    "    if len(line_i.split(\" \")) > 2:\n",
    "        print(\"More than 2 columns here, problem\")        \n",
    "        break\n",
    "        \n",
    "    data_dict_list.append(data_dict_i)\n",
    "\n",
    "df = pd.DataFrame(data_dict_list)\n",
    "\n",
    "df.iloc[15:35]"
   ]
  },
  {
   "cell_type": "raw",
   "metadata": {},
   "source": [
    "\n",
    "\n",
    "\n",
    "\n"
   ],
   "execution_count": null,
   "outputs": []
  },
  {
   "cell_type": "code",
   "execution_count": null,
   "metadata": {},
   "outputs": [],
   "source": [
    "sys.path.insert(0,\n",
    "    os.path.join(\n",
    "        os.environ[\"PROJ_irox\"],\n",
    "        \"scripts/repo_file_operations\"))\n",
    "from methods import get_ipynb_notebook_paths\n",
    "\n",
    "ipynb_files_list = get_ipynb_notebook_paths(relative_path=True)\n",
    "# ipynb_files_list"
   ]
  },
  {
   "cell_type": "code",
   "execution_count": null,
   "metadata": {},
   "outputs": [],
   "source": [
    "df = df[df.path.isin(ipynb_files_list)]\n",
    "df = df[df.status == \"M\"]\n",
    "\n",
    "df[\"path_python\"] = [i.replace(\".ipynb\", \".py\") for i in df.path.tolist()]\n",
    "\n",
    "\" \".join(df.path_python.tolist())"
   ]
  },
  {
   "cell_type": "code",
   "execution_count": null,
   "metadata": {},
   "outputs": [],
   "source": [
    "\" \".join(df.path.tolist())\n",
    "\n",
    "# df.path"
   ]
  }
 ],
 "metadata": {
  "kernelspec": {
   "display_name": "Python [conda env:PROJ_irox] *",
   "language": "python",
   "name": "conda-env-PROJ_irox-py"
  },
  "language_info": {
   "codemirror_mode": {
    "name": "ipython",
    "version": 3
   },
   "file_extension": ".py",
   "mimetype": "text/x-python",
   "name": "python",
   "nbconvert_exporter": "python",
   "pygments_lexer": "ipython3",
   "version": "3.6.10"
  }
 },
 "nbformat": 4,
 "nbformat_minor": 4
}
