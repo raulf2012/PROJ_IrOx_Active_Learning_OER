{
 "cells": [
  {
   "cell_type": "code",
   "execution_count": null,
   "metadata": {},
   "outputs": [],
   "source": [
    "import os\n",
    "print(os.getcwd())\n",
    "import sys\n",
    "\n",
    "from json import dump, load\n",
    "from shutil import copyfile\n",
    "\n",
    "# #########################################################\n",
    "from methods import get_ipynb_notebook_paths"
   ]
  },
  {
   "cell_type": "code",
   "execution_count": null,
   "metadata": {},
   "outputs": [],
   "source": [
    "dirs_list = get_ipynb_notebook_paths()"
   ]
  },
  {
   "cell_type": "markdown",
   "metadata": {},
   "source": [
    "# Converting all .ipynb notebooks to python"
   ]
  },
  {
   "cell_type": "code",
   "execution_count": null,
   "metadata": {},
   "outputs": [],
   "source": [
    "if True:\n",
    "# if False:\n",
    "    for file_i in dirs_list:\n",
    "        print(file_i)\n",
    "\n",
    "        bash_comm = \"jupytext --to py\" + \" \" + file_i\n",
    "        # bash_comm = \"jupytext --update --to notebook\" + \" \" + file_i\n",
    "\n",
    "        os.system(bash_comm)"
   ]
  },
  {
   "cell_type": "markdown",
   "metadata": {},
   "source": [
    "# Update .ipynb notebooks from python scripts"
   ]
  },
  {
   "cell_type": "code",
   "execution_count": null,
   "metadata": {},
   "outputs": [],
   "source": [
    "# if True:\n",
    "if False:\n",
    "    for file_i in dirs_list:\n",
    "        print(file_i)\n",
    "\n",
    "        bash_comm = \"jupytext --update --to notebook\" + \" \" + file_i\n",
    "\n",
    "        os.system(bash_comm)"
   ]
  },
  {
   "cell_type": "markdown",
   "metadata": {},
   "source": [
    "# Deleting all python scripts converted from .ipynb"
   ]
  },
  {
   "cell_type": "code",
   "execution_count": null,
   "metadata": {},
   "outputs": [],
   "source": [
    "# if True:\n",
    "if False:\n",
    "    for file_i in dirs_list:\n",
    "        print(file_i)\n",
    "\n",
    "\n",
    "        file_pyth_i = file_i.split(\".\")[0] + \".py\"\n",
    "\n",
    "        if os.path.exists(file_pyth_i):\n",
    "            os.remove(file_pyth_i)"
   ]
  }
 ],
 "metadata": {
  "kernelspec": {
   "display_name": "Python [conda env:PROJ_irox]",
   "language": "python",
   "name": "conda-env-PROJ_irox-py"
  },
  "language_info": {
   "codemirror_mode": {
    "name": "ipython",
    "version": 3
   },
   "file_extension": ".py",
   "mimetype": "text/x-python",
   "name": "python",
   "nbconvert_exporter": "python",
   "pygments_lexer": "ipython3",
   "version": "3.6.10"
  }
 },
 "nbformat": 4,
 "nbformat_minor": 4
}
