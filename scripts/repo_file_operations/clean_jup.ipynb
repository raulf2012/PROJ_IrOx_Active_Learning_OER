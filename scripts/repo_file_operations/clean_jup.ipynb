{
 "cells": [
  {
   "cell_type": "code",
   "execution_count": null,
   "metadata": {},
   "outputs": [],
   "source": [
    "import os\n",
    "print(os.getcwd())\n",
    "import sys\n",
    "\n",
    "from json import dump, load\n",
    "from shutil import copyfile\n",
    "\n",
    "# #########################################################\n",
    "from methods import clean_ipynb\n",
    "from methods import get_ipynb_notebook_paths"
   ]
  },
  {
   "cell_type": "code",
   "execution_count": null,
   "metadata": {},
   "outputs": [],
   "source": [
    "cwd = os.getcwd()\n",
    "\n",
    "find_str = \"PROJ_IrOx_Active_Learning_OER/\"\n",
    "find_int = cwd.find(find_str)\n",
    "\n",
    "PROJ_irox = cwd[:find_int] + find_str"
   ]
  },
  {
   "cell_type": "code",
   "execution_count": null,
   "metadata": {},
   "outputs": [],
   "source": [
    "dirs_list = get_ipynb_notebook_paths(PROJ_irox_path=PROJ_irox)"
   ]
  },
  {
   "cell_type": "code",
   "execution_count": null,
   "metadata": {},
   "outputs": [],
   "source": [
    "# dirs_list = [\n",
    "#     # '/mnt/f/Dropbox/01_norskov/00_git_repos/PROJ_IrOx_Active_Learning_OER/parse_dft_data/parse_all_data_new.ipynb',\n",
    "#      '/mnt/f/Dropbox/01_norskov/00_git_repos/PROJ_IrOx_Active_Learning_OER__temp/PROJ_IrOx_Active_Learning_OER/parse_dft_data/parse_all_data_new.ipynb',\n",
    "#     ]"
   ]
  },
  {
   "cell_type": "code",
   "execution_count": null,
   "metadata": {},
   "outputs": [],
   "source": [
    "for file_i in dirs_list:\n",
    "    tmp = 42\n",
    "    clean_ipynb(file_i, True)"
   ]
  },
  {
   "cell_type": "raw",
   "metadata": {},
   "source": [
    "\n",
    "\n",
    "\n"
   ]
  },
  {
   "cell_type": "code",
   "execution_count": null,
   "metadata": {},
   "outputs": [],
   "source": [
    "assert False"
   ]
  },
  {
   "cell_type": "code",
   "execution_count": null,
   "metadata": {},
   "outputs": [],
   "source": [
    "ipynb_file_path = file_i\n",
    "overwrite = True"
   ]
  },
  {
   "cell_type": "code",
   "execution_count": null,
   "metadata": {},
   "outputs": [],
   "source": [
    "# if not overwrite:\n",
    "#     ipynb_file_path = copyfile(\n",
    "#         ipynb_file_path,\n",
    "#         ipynb_file_path.replace(\".ipynb\", \".cleaned.ipynb\")\n",
    "#         )\n",
    "\n",
    "# # with open(ipynb_file_path) as io:\n",
    "# with open(ipynb_file_path, \"rb\") as io:\n",
    "#     ipynb_dict = load(io)\n",
    "\n",
    "\n",
    "# # language = ipynb_dict[\"metadata\"][\"language_info\"][\"name\"]\n",
    "# # if language == \"python\":\n",
    "# #     clean_code = clean_python_code\n",
    "# # elif language == \"julia\" and can_clean_julia_code():\n",
    "# #     clean_code = clean_julia_code\n",
    "# # else:\n",
    "# #     return\n",
    "\n",
    "# cells = []\n",
    "# for cell_dict in ipynb_dict[\"cells\"]:\n",
    "\n",
    "#     cell_dict[\"execution_count\"] = None\n",
    "#     cell_dict[\"outputs\"] = []\n",
    "\n",
    "#     if (\n",
    "#         \"metadata\" in cell_dict\n",
    "#         and \"jupyter\" in cell_dict[\"metadata\"]\n",
    "#         and \"source_hidden\" in cell_dict[\"metadata\"][\"jupyter\"]\n",
    "#         ):\n",
    "#         cell_dict[\"metadata\"][\"jupyter\"].pop(\"source_hidden\")\n",
    "\n",
    "#     if cell_dict[\"cell_type\"] == \"code\":\n",
    "\n",
    "#         tmp = 42\n",
    "\n",
    "#         # source_join_clean_split = clean_code(\n",
    "#         #     \"\".join(cell_dict[\"source\"])\n",
    "#         #     ).split(sep=\"\\n\")\n",
    "#         #\n",
    "#         # if len(source_join_clean_split) == 1 and source_join_clean_split[0] == \"\":\n",
    "#         #     continue\n",
    "#         #\n",
    "#         # source_join_clean_split[:-1] = [\n",
    "#         #     \"{}\\n\".format(line) for line in source_join_clean_split[:-1]\n",
    "#         #     ]\n",
    "#         #\n",
    "#         # cell_dict[\"source\"] = source_join_clean_split\n",
    "\n",
    "#     cells.append(cell_dict)\n",
    "\n",
    "# ipynb_dict[\"cells\"] = cells\n",
    "\n",
    "# # with open(ipynb_file_path, mode=\"w\") as io:\n",
    "# #     dump(ipynb_dict, io, indent=1)\n",
    "# #     io.write(\"\\n\")"
   ]
  },
  {
   "cell_type": "code",
   "execution_count": null,
   "metadata": {},
   "outputs": [],
   "source": [
    "# ipynb_file_path"
   ]
  },
  {
   "cell_type": "code",
   "execution_count": null,
   "metadata": {},
   "outputs": [],
   "source": [
    "# ipynb_dict"
   ]
  }
 ],
 "metadata": {
  "kernelspec": {
   "display_name": "Python [conda env:PROJ_irox] *",
   "language": "python",
   "name": "conda-env-PROJ_irox-py"
  },
  "language_info": {
   "codemirror_mode": {
    "name": "ipython",
    "version": 3
   },
   "file_extension": ".py",
   "mimetype": "text/x-python",
   "name": "python",
   "nbconvert_exporter": "python",
   "pygments_lexer": "ipython3",
   "version": "3.6.10"
  }
 },
 "nbformat": 4,
 "nbformat_minor": 4
}
