{
 "cells": [
  {
   "cell_type": "code",
   "execution_count": 10,
   "metadata": {},
   "outputs": [],
   "source": [
    "import os\n",
    "import sys\n",
    "\n",
    "from ase import io"
   ]
  },
  {
   "cell_type": "code",
   "execution_count": 12,
   "metadata": {},
   "outputs": [],
   "source": [
    "root_dir = os.path.join(\n",
    "    os.environ[\"PROJ_irox\"],\n",
    "    \"01_bulk_structures\")\n",
    "\n",
    "folders_list = [\n",
    "    \"01_IrO2/bulk_symm.cif\",\n",
    "    \"02_IrO3/bulk.cif\",\n",
    "    \"03_iro3_rutile-like/bulk.cif\",\n",
    "    \"04_iro3_battery/bulk.cif\",\n",
    "    ]\n",
    "\n",
    "main_systems = [\"IrO2\", \"IrO3\", \"IrO3_battery\", \"IrO3_rutile-like\"]\n",
    "\n",
    "\n",
    "folders_dict = {\n",
    "    \"IrO2\": \"01_IrO2/bulk_symm.cif\",\n",
    "    \"IrO3\": \"02_IrO3/bulk.cif\",\n",
    "    \"IrO3_rutile-like\": \"03_iro3_rutile-like/bulk.cif\",\n",
    "    \"IrO3_battery\": \"04_iro3_battery/bulk.cif\",\n",
    "    }\n",
    "\n",
    "\n",
    "for folder_i in folders_list:\n",
    "\n",
    "    bulk_path_i = os.path.join(root_dir, folder_i)\n",
    "    atoms_i = io.read(bulk_path_i)\n",
    "    \n",
    "    "
   ]
  },
  {
   "cell_type": "code",
   "execution_count": 14,
   "metadata": {},
   "outputs": [
    {
     "name": "stdout",
     "output_type": "stream",
     "text": [
      "IrO2\n",
      "IrO3\n",
      "IrO3_rutile-like\n",
      "IrO3_battery\n"
     ]
    }
   ],
   "source": [
    "for key, value in folders_dict.items():\n",
    "    print(key)"
   ]
  },
  {
   "cell_type": "code",
   "execution_count": 11,
   "metadata": {},
   "outputs": [
    {
     "data": {
      "text/plain": [
       "Atoms(symbols='Ir16O48', pbc=True, cell=[5.9119, 8.4461, 17.836], tags=...)"
      ]
     },
     "execution_count": 11,
     "metadata": {},
     "output_type": "execute_result"
    }
   ],
   "source": [
    "atoms_i"
   ]
  }
 ],
 "metadata": {
  "kernelspec": {
   "display_name": "Python [conda env:PROJ_IrOx_Active_Learning_OER]",
   "language": "python",
   "name": "conda-env-PROJ_IrOx_Active_Learning_OER-py"
  },
  "language_info": {
   "codemirror_mode": {
    "name": "ipython",
    "version": 3
   },
   "file_extension": ".py",
   "mimetype": "text/x-python",
   "name": "python",
   "nbconvert_exporter": "python",
   "pygments_lexer": "ipython3",
   "version": "3.6.9"
  }
 },
 "nbformat": 4,
 "nbformat_minor": 4
}
